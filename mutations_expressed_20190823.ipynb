{
 "cells": [
  {
   "cell_type": "code",
   "execution_count": 1,
   "metadata": {},
   "outputs": [],
   "source": [
    "import pandas as pd"
   ]
  },
  {
   "cell_type": "code",
   "execution_count": 2,
   "metadata": {},
   "outputs": [
    {
     "data": {
      "text/html": [
       "<div>\n",
       "<style scoped>\n",
       "    .dataframe tbody tr th:only-of-type {\n",
       "        vertical-align: middle;\n",
       "    }\n",
       "\n",
       "    .dataframe tbody tr th {\n",
       "        vertical-align: top;\n",
       "    }\n",
       "\n",
       "    .dataframe thead th {\n",
       "        text-align: right;\n",
       "    }\n",
       "</style>\n",
       "<table border=\"1\" class=\"dataframe\">\n",
       "  <thead>\n",
       "    <tr style=\"text-align: right;\">\n",
       "      <th></th>\n",
       "      <th>patient</th>\n",
       "      <th>HIV_status</th>\n",
       "      <th>DNA_lib</th>\n",
       "      <th>DNA_single_vcf</th>\n",
       "      <th>strelka_indel_vcf</th>\n",
       "      <th>strelka_snv_vcf</th>\n",
       "      <th>source</th>\n",
       "      <th>status</th>\n",
       "      <th>RNA_lib</th>\n",
       "      <th>ribodepleted_lib</th>\n",
       "      <th>...</th>\n",
       "      <th>other_vcf</th>\n",
       "      <th>DNA_tc</th>\n",
       "      <th>RNA_tc</th>\n",
       "      <th>cnv</th>\n",
       "      <th>bbt_transcriptome</th>\n",
       "      <th>bbt_genome</th>\n",
       "      <th>bbt_transcriptome_other_bacterial</th>\n",
       "      <th>bbt_genome_other_bacterial</th>\n",
       "      <th>bbt_transcriptome_other_viral</th>\n",
       "      <th>bbt_genome_other_viral</th>\n",
       "    </tr>\n",
       "  </thead>\n",
       "  <tbody>\n",
       "    <tr>\n",
       "      <th>0</th>\n",
       "      <td>HTMCP-03-06-02001</td>\n",
       "      <td>Positive</td>\n",
       "      <td>A37234</td>\n",
       "      <td>/projects/analysis31/A37234/vcall21989_merge13...</td>\n",
       "      <td>/projects/somatic/NCI_SAIC_HIV_Cervical/HTMCP-...</td>\n",
       "      <td>/projects/somatic/NCI_SAIC_HIV_Cervical/HTMCP-...</td>\n",
       "      <td>HTMCP_124</td>\n",
       "      <td>Malignant</td>\n",
       "      <td>A37700</td>\n",
       "      <td>A56295</td>\n",
       "      <td>...</td>\n",
       "      <td>NaN</td>\n",
       "      <td>55.0</td>\n",
       "      <td>55.0</td>\n",
       "      <td>/projects/somatic/NCI_SAIC_HIV_Cervical/HTMCP-...</td>\n",
       "      <td>/projects/NCI_validation2_assembly/NCI_SAIC_HI...</td>\n",
       "      <td>/projects/NCI_validation2_assembly/NCI_SAIC_HI...</td>\n",
       "      <td>/projects/NCI_validation2_assembly/NCI_SAIC_HI...</td>\n",
       "      <td>/projects/NCI_validation2_assembly/NCI_SAIC_HI...</td>\n",
       "      <td>/projects/NCI_validation2_assembly/NCI_SAIC_HI...</td>\n",
       "      <td>/projects/NCI_validation2_assembly/NCI_SAIC_HI...</td>\n",
       "    </tr>\n",
       "    <tr>\n",
       "      <th>1</th>\n",
       "      <td>HTMCP-03-06-02002</td>\n",
       "      <td>Negative</td>\n",
       "      <td>A37235</td>\n",
       "      <td>/projects/analysis31/A37235/vcall21991_merge13...</td>\n",
       "      <td>/projects/somatic/NCI_SAIC_HIV_Cervical/HTMCP-...</td>\n",
       "      <td>/projects/somatic/NCI_SAIC_HIV_Cervical/HTMCP-...</td>\n",
       "      <td>HTMCP_125</td>\n",
       "      <td>Malignant</td>\n",
       "      <td>A37701</td>\n",
       "      <td>A56296</td>\n",
       "      <td>...</td>\n",
       "      <td>NaN</td>\n",
       "      <td>70.0</td>\n",
       "      <td>70.0</td>\n",
       "      <td>/projects/somatic/NCI_SAIC_HIV_Cervical/HTMCP-...</td>\n",
       "      <td>/projects/NCI_validation2_assembly/NCI_SAIC_HI...</td>\n",
       "      <td>/projects/NCI_validation2_assembly/NCI_SAIC_HI...</td>\n",
       "      <td>/projects/NCI_validation2_assembly/NCI_SAIC_HI...</td>\n",
       "      <td>/projects/NCI_validation2_assembly/NCI_SAIC_HI...</td>\n",
       "      <td>/projects/NCI_validation2_assembly/NCI_SAIC_HI...</td>\n",
       "      <td>/projects/NCI_validation2_assembly/NCI_SAIC_HI...</td>\n",
       "    </tr>\n",
       "  </tbody>\n",
       "</table>\n",
       "<p>2 rows × 29 columns</p>\n",
       "</div>"
      ],
      "text/plain": [
       "             patient HIV_status DNA_lib  \\\n",
       "0  HTMCP-03-06-02001   Positive  A37234   \n",
       "1  HTMCP-03-06-02002   Negative  A37235   \n",
       "\n",
       "                                      DNA_single_vcf  \\\n",
       "0  /projects/analysis31/A37234/vcall21989_merge13...   \n",
       "1  /projects/analysis31/A37235/vcall21991_merge13...   \n",
       "\n",
       "                                   strelka_indel_vcf  \\\n",
       "0  /projects/somatic/NCI_SAIC_HIV_Cervical/HTMCP-...   \n",
       "1  /projects/somatic/NCI_SAIC_HIV_Cervical/HTMCP-...   \n",
       "\n",
       "                                     strelka_snv_vcf     source     status  \\\n",
       "0  /projects/somatic/NCI_SAIC_HIV_Cervical/HTMCP-...  HTMCP_124  Malignant   \n",
       "1  /projects/somatic/NCI_SAIC_HIV_Cervical/HTMCP-...  HTMCP_125  Malignant   \n",
       "\n",
       "  RNA_lib ribodepleted_lib  ... other_vcf DNA_tc RNA_tc  \\\n",
       "0  A37700           A56295  ...       NaN   55.0   55.0   \n",
       "1  A37701           A56296  ...       NaN   70.0   70.0   \n",
       "\n",
       "                                                 cnv  \\\n",
       "0  /projects/somatic/NCI_SAIC_HIV_Cervical/HTMCP-...   \n",
       "1  /projects/somatic/NCI_SAIC_HIV_Cervical/HTMCP-...   \n",
       "\n",
       "                                   bbt_transcriptome  \\\n",
       "0  /projects/NCI_validation2_assembly/NCI_SAIC_HI...   \n",
       "1  /projects/NCI_validation2_assembly/NCI_SAIC_HI...   \n",
       "\n",
       "                                          bbt_genome  \\\n",
       "0  /projects/NCI_validation2_assembly/NCI_SAIC_HI...   \n",
       "1  /projects/NCI_validation2_assembly/NCI_SAIC_HI...   \n",
       "\n",
       "                   bbt_transcriptome_other_bacterial  \\\n",
       "0  /projects/NCI_validation2_assembly/NCI_SAIC_HI...   \n",
       "1  /projects/NCI_validation2_assembly/NCI_SAIC_HI...   \n",
       "\n",
       "                          bbt_genome_other_bacterial  \\\n",
       "0  /projects/NCI_validation2_assembly/NCI_SAIC_HI...   \n",
       "1  /projects/NCI_validation2_assembly/NCI_SAIC_HI...   \n",
       "\n",
       "                       bbt_transcriptome_other_viral  \\\n",
       "0  /projects/NCI_validation2_assembly/NCI_SAIC_HI...   \n",
       "1  /projects/NCI_validation2_assembly/NCI_SAIC_HI...   \n",
       "\n",
       "                              bbt_genome_other_viral  \n",
       "0  /projects/NCI_validation2_assembly/NCI_SAIC_HI...  \n",
       "1  /projects/NCI_validation2_assembly/NCI_SAIC_HI...  \n",
       "\n",
       "[2 rows x 29 columns]"
      ]
     },
     "execution_count": 2,
     "metadata": {},
     "output_type": "execute_result"
    }
   ],
   "source": [
    "f = '/projects/trans_scratch/validations/workspace/szong/Cervical/variant_bwamem/124_patients_new/124_patients_bam_vcf_20190115.csv'\n",
    "df = pd.read_csv(f)\n",
    "df.head(2)"
   ]
  },
  {
   "cell_type": "code",
   "execution_count": 4,
   "metadata": {},
   "outputs": [
    {
     "data": {
      "text/plain": [
       "Index(['patient', 'HIV_status', 'DNA_lib', 'DNA_single_vcf',\n",
       "       'strelka_indel_vcf', 'strelka_snv_vcf', 'source', 'status', 'RNA_lib',\n",
       "       'ribodepleted_lib', 'DNA_bam', 'RNA_bam', 'DNA_single_vcf_old',\n",
       "       'paired_mpileup_vcf', 'strelka_snv_vcf_old', 'strelka_indel_vcf_old',\n",
       "       'mutseq_snv_vcf', 'mutseq_snv_vcf_old', 'RNA_single_vcf', 'other_vcf',\n",
       "       'DNA_tc', 'RNA_tc', 'cnv', 'bbt_transcriptome', 'bbt_genome',\n",
       "       'bbt_transcriptome_other_bacterial', 'bbt_genome_other_bacterial',\n",
       "       'bbt_transcriptome_other_viral', 'bbt_genome_other_viral'],\n",
       "      dtype='object')"
      ]
     },
     "execution_count": 4,
     "metadata": {},
     "output_type": "execute_result"
    }
   ],
   "source": [
    "df.columns"
   ]
  },
  {
   "cell_type": "code",
   "execution_count": 9,
   "metadata": {},
   "outputs": [
    {
     "data": {
      "text/plain": [
       "'/projects/analysis/analysis22/IX3433/C67GDANXX_5/A37700/75nt/hg19a_jg-e69/bwa-mem-0.7.6a/C67GDANXX_5_ATCACG_withJunctionsOnGenome_dupsFlagged.bam'"
      ]
     },
     "execution_count": 9,
     "metadata": {},
     "output_type": "execute_result"
    }
   ],
   "source": [
    "df[['RNA_lib', 'RNA_bam', 'RNA_single_vcf']].head()['RNA_bam'][0]"
   ]
  }
 ],
 "metadata": {
  "kernelspec": {
   "display_name": "Python 3",
   "language": "python",
   "name": "python3"
  },
  "language_info": {
   "codemirror_mode": {
    "name": "ipython",
    "version": 3
   },
   "file_extension": ".py",
   "mimetype": "text/x-python",
   "name": "python",
   "nbconvert_exporter": "python",
   "pygments_lexer": "ipython3",
   "version": "3.7.3"
  }
 },
 "nbformat": 4,
 "nbformat_minor": 2
}
