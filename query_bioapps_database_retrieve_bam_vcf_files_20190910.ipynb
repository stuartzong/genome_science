{
 "cells": [
  {
   "cell_type": "code",
   "execution_count": 2,
   "metadata": {},
   "outputs": [],
   "source": [
    "import json\n",
    "import pprint\n",
    "import os\n",
    "import requests\n",
    "import pandas as pd\n",
    "# from bioapps.password import Login"
   ]
  },
  {
   "cell_type": "markdown",
   "metadata": {},
   "source": [
    "# example code"
   ]
  },
  {
   "cell_type": "markdown",
   "metadata": {},
   "source": [
    "https://www.bcgsc.ca/wiki/display/bioapps/API+Examples"
   ]
  },
  {
   "cell_type": "markdown",
   "metadata": {},
   "source": [
    "# end points"
   ]
  },
  {
   "cell_type": "markdown",
   "metadata": {},
   "source": [
    "http://www.bcgsc.ca/data/bioapps-docs/bioapps.api/docs/"
   ]
  },
  {
   "cell_type": "code",
   "execution_count": 1,
   "metadata": {},
   "outputs": [],
   "source": [
    "URL = 'http://sbs:8100'\n",
    "\n",
    "# Create session object, which can be used for all requests.\n",
    "request_handle = requests.Session()\n",
    "\n",
    "# Set up appropriate headers.\n",
    "headers = {'Content-Type': 'application/json',\n",
    "           'Accept': 'application/json'}\n",
    "\n",
    "# Send the POST request, with your username & password, converted to json.\n",
    "response = request_handle.post(os.path.join(URL, 'session'),\n",
    "                               json={'username': 'szong',\n",
    "                                     'password': '####',\n",
    "#                                      'password': Login().get_password('bioapps_api'),\n",
    "                                     },\n",
    "                               headers=headers)\n",
    "\n",
    "\n",
    "#Check that the response is OK.\n",
    "if response.status_code == 200:\n",
    "    # Add the authentication token to the headers.\n",
    "    token = response.json().get('token')\n",
    "    headers.update({'X-Token': token})\n",
    "    print(headers)\n",
    "else:\n",
    "    # View error messages.\n",
    "    print (response.json())\n",
    "\n",
    "response = request_handle.get(os.path.join(URL, 'patient_analysis'),\n",
    "                              params={'pog_id': 'POG517, POG1022',\n",
    "                                      'deleted': ''},\n",
    "                              headers=headers)\n",
    "\n",
    "\n",
    "pprint.pprint(response.json(), indent=1)\n"
   ]
  },
  {
   "cell_type": "code",
   "execution_count": 3,
   "metadata": {},
   "outputs": [
    {
     "ename": "NameError",
     "evalue": "name 'response' is not defined",
     "output_type": "error",
     "traceback": [
      "\u001b[0;31m---------------------------------------------------------------------------\u001b[0m",
      "\u001b[0;31mNameError\u001b[0m                                 Traceback (most recent call last)",
      "\u001b[0;32m<ipython-input-3-fa345427cad0>\u001b[0m in \u001b[0;36m<module>\u001b[0;34m\u001b[0m\n\u001b[1;32m      2\u001b[0m \u001b[0;31m#     print(key, response.json()[0][key])\u001b[0m\u001b[0;34m\u001b[0m\u001b[0;34m\u001b[0m\u001b[0;34m\u001b[0m\u001b[0m\n\u001b[1;32m      3\u001b[0m \u001b[0;31m#     print('\\n')\u001b[0m\u001b[0;34m\u001b[0m\u001b[0;34m\u001b[0m\u001b[0;34m\u001b[0m\u001b[0m\n\u001b[0;32m----> 4\u001b[0;31m \u001b[0mresponse\u001b[0m\u001b[0;34m.\u001b[0m\u001b[0mjson\u001b[0m\u001b[0;34m(\u001b[0m\u001b[0;34m)\u001b[0m\u001b[0;34m[\u001b[0m\u001b[0;36m0\u001b[0m\u001b[0;34m]\u001b[0m\u001b[0;34m[\u001b[0m\u001b[0;34m'sources'\u001b[0m\u001b[0;34m]\u001b[0m\u001b[0;34m[\u001b[0m\u001b[0;36m0\u001b[0m\u001b[0;34m]\u001b[0m\u001b[0;34m\u001b[0m\u001b[0;34m\u001b[0m\u001b[0m\n\u001b[0m",
      "\u001b[0;31mNameError\u001b[0m: name 'response' is not defined"
     ]
    }
   ],
   "source": [
    "# for key in response.json()[0]:\n",
    "#     print(key, response.json()[0][key])\n",
    "#     print('\\n')\n",
    "response.json()[0]['sources'][0]"
   ]
  },
  {
   "cell_type": "code",
   "execution_count": null,
   "metadata": {},
   "outputs": [],
   "source": []
  },
  {
   "cell_type": "code",
   "execution_count": null,
   "metadata": {},
   "outputs": [],
   "source": [
    "`"
   ]
  },
  {
   "cell_type": "code",
   "execution_count": 2,
   "metadata": {},
   "outputs": [],
   "source": [
    "import json\n",
    "import os\n",
    "import requests\n",
    "import pprint\n",
    "import fileinput\n",
    " \n",
    "URL = 'http://sbs:8100/'\n",
    "# print(URL)\n",
    " \n",
    " \n",
    " \n",
    "# Create session object, which can be used for all requests.\n",
    "request_handle = requests.Session()\n",
    " \n",
    "# Set up appropriate headers.\n",
    "headers = {'Content-Type': 'application/json',\n",
    "           'Accept': 'application/json'}\n",
    " \n",
    "# Send the POST request, with your username & password, converted to json.\n",
    "response = request_handle.post(os.path.join(URL, 'session'),\n",
    "                               json={'username': 'szong',\n",
    "                                     'password': '######',\n",
    "                                     },\n",
    "                               headers=headers)\n",
    " \n",
    "# Check that the response is OK.\n",
    "if response.status_code == 200:\n",
    "     # Add the authentication token to the headers.\n",
    "     token = response.json().get('token')\n",
    "     headers.update({'X-Token': token})\n",
    "else:\n",
    "     # View error messages.\n",
    "     print(response.json())\n",
    "response = request_handle.get(os.path.join(URL, 'patient_analysis'),\n",
    "                          params={'pog_id': 'POG517, POG1022',\n",
    "                                  'deleted': ''},\n",
    "                          headers=headers)\n",
    "\n",
    "\n",
    "pprint.pprint(response.json(), indent=1)\n",
    "\n",
    " "
   ]
  },
  {
   "cell_type": "code",
   "execution_count": 3,
   "metadata": {},
   "outputs": [],
   "source": [
    "import json\n",
    "import os\n",
    "import requests\n",
    "import pprint\n",
    "import fileinput\n",
    " \n",
    "URL = 'http://sbs:8100/'\n",
    "# print(URL)\n",
    " \n",
    " \n",
    " \n",
    "# Create session object, which can be used for all requests.\n",
    "request_handle = requests.Session()\n",
    " \n",
    "# Set up appropriate headers.\n",
    "headers = {'Content-Type': 'application/json',\n",
    "           'Accept': 'application/json'}\n",
    " \n",
    "# Send the POST request, with your username & password, converted to json.\n",
    "response = request_handle.post(os.path.join(URL, 'session'),\n",
    "                               json={'username': 'szong',\n",
    "                                     'password': '####',\n",
    "                                     },\n",
    "                               headers=headers)\n",
    " \n",
    "# Check that the response is OK.\n",
    "if response.status_code == 200:\n",
    "     # Add the authentication token to the headers.\n",
    "     token = response.json().get('token')\n",
    "     headers.update({'X-Token': token})\n",
    "else:\n",
    "     # View error messages.\n",
    "     print(response.json())\n",
    "response = request_handle.get(os.path.join(URL, 'patient_analysis'),\n",
    "                          params={'pog_id': 'POG517, POG1022',\n",
    "                                  'deleted': ''},\n",
    "                          headers=headers)\n",
    "\n",
    "\n",
    "pprint.pprint(response.json(), indent=1)\n",
    "\n",
    " "
   ]
  },
  {
   "cell_type": "code",
   "execution_count": 32,
   "metadata": {},
   "outputs": [
    {
     "ename": "FileNotFoundError",
     "evalue": "[Errno 2] No such file or directory: '-f'",
     "output_type": "error",
     "traceback": [
      "\u001b[0;31m---------------------------------------------------------------------------\u001b[0m",
      "\u001b[0;31mFileNotFoundError\u001b[0m                         Traceback (most recent call last)",
      "\u001b[0;32m<ipython-input-32-272b30f0d0fe>\u001b[0m in \u001b[0;36m<module>\u001b[0;34m()\u001b[0m\n\u001b[1;32m     36\u001b[0m \u001b[0;34m\u001b[0m\u001b[0m\n\u001b[1;32m     37\u001b[0m \u001b[0;34m\u001b[0m\u001b[0m\n\u001b[0;32m---> 38\u001b[0;31m \u001b[0;32mfor\u001b[0m \u001b[0mlibrary\u001b[0m \u001b[0;32min\u001b[0m \u001b[0mfileinput\u001b[0m\u001b[0;34m.\u001b[0m\u001b[0minput\u001b[0m\u001b[0;34m(\u001b[0m\u001b[0;34m)\u001b[0m\u001b[0;34m:\u001b[0m\u001b[0;34m\u001b[0m\u001b[0m\n\u001b[0m\u001b[1;32m     39\u001b[0m \u001b[0;34m\u001b[0m\u001b[0m\n\u001b[1;32m     40\u001b[0m     \u001b[0mlibrary\u001b[0m \u001b[0;34m=\u001b[0m \u001b[0mlibrary\u001b[0m\u001b[0;34m.\u001b[0m\u001b[0mrstrip\u001b[0m\u001b[0;34m(\u001b[0m\u001b[0;34m)\u001b[0m\u001b[0;34m\u001b[0m\u001b[0m\n",
      "\u001b[0;32m/projects/da_workspace/software/miniconda/envs/dlpy3/lib/python3.6/fileinput.py\u001b[0m in \u001b[0;36m__next__\u001b[0;34m(self)\u001b[0m\n\u001b[1;32m    248\u001b[0m     \u001b[0;32mdef\u001b[0m \u001b[0m__next__\u001b[0m\u001b[0;34m(\u001b[0m\u001b[0mself\u001b[0m\u001b[0;34m)\u001b[0m\u001b[0;34m:\u001b[0m\u001b[0;34m\u001b[0m\u001b[0m\n\u001b[1;32m    249\u001b[0m         \u001b[0;32mwhile\u001b[0m \u001b[0;32mTrue\u001b[0m\u001b[0;34m:\u001b[0m\u001b[0;34m\u001b[0m\u001b[0m\n\u001b[0;32m--> 250\u001b[0;31m             \u001b[0mline\u001b[0m \u001b[0;34m=\u001b[0m \u001b[0mself\u001b[0m\u001b[0;34m.\u001b[0m\u001b[0m_readline\u001b[0m\u001b[0;34m(\u001b[0m\u001b[0;34m)\u001b[0m\u001b[0;34m\u001b[0m\u001b[0m\n\u001b[0m\u001b[1;32m    251\u001b[0m             \u001b[0;32mif\u001b[0m \u001b[0mline\u001b[0m\u001b[0;34m:\u001b[0m\u001b[0;34m\u001b[0m\u001b[0m\n\u001b[1;32m    252\u001b[0m                 \u001b[0mself\u001b[0m\u001b[0;34m.\u001b[0m\u001b[0m_filelineno\u001b[0m \u001b[0;34m+=\u001b[0m \u001b[0;36m1\u001b[0m\u001b[0;34m\u001b[0m\u001b[0m\n",
      "\u001b[0;32m/projects/da_workspace/software/miniconda/envs/dlpy3/lib/python3.6/fileinput.py\u001b[0m in \u001b[0;36m_readline\u001b[0;34m(self)\u001b[0m\n\u001b[1;32m    360\u001b[0m                     \u001b[0mself\u001b[0m\u001b[0;34m.\u001b[0m\u001b[0m_file\u001b[0m \u001b[0;34m=\u001b[0m \u001b[0mself\u001b[0m\u001b[0;34m.\u001b[0m\u001b[0m_openhook\u001b[0m\u001b[0;34m(\u001b[0m\u001b[0mself\u001b[0m\u001b[0;34m.\u001b[0m\u001b[0m_filename\u001b[0m\u001b[0;34m,\u001b[0m \u001b[0mself\u001b[0m\u001b[0;34m.\u001b[0m\u001b[0m_mode\u001b[0m\u001b[0;34m)\u001b[0m\u001b[0;34m\u001b[0m\u001b[0m\n\u001b[1;32m    361\u001b[0m                 \u001b[0;32melse\u001b[0m\u001b[0;34m:\u001b[0m\u001b[0;34m\u001b[0m\u001b[0m\n\u001b[0;32m--> 362\u001b[0;31m                     \u001b[0mself\u001b[0m\u001b[0;34m.\u001b[0m\u001b[0m_file\u001b[0m \u001b[0;34m=\u001b[0m \u001b[0mopen\u001b[0m\u001b[0;34m(\u001b[0m\u001b[0mself\u001b[0m\u001b[0;34m.\u001b[0m\u001b[0m_filename\u001b[0m\u001b[0;34m,\u001b[0m \u001b[0mself\u001b[0m\u001b[0;34m.\u001b[0m\u001b[0m_mode\u001b[0m\u001b[0;34m)\u001b[0m\u001b[0;34m\u001b[0m\u001b[0m\n\u001b[0m\u001b[1;32m    363\u001b[0m         \u001b[0mself\u001b[0m\u001b[0;34m.\u001b[0m\u001b[0m_readline\u001b[0m \u001b[0;34m=\u001b[0m \u001b[0mself\u001b[0m\u001b[0;34m.\u001b[0m\u001b[0m_file\u001b[0m\u001b[0;34m.\u001b[0m\u001b[0mreadline\u001b[0m  \u001b[0;31m# hide FileInput._readline\u001b[0m\u001b[0;34m\u001b[0m\u001b[0m\n\u001b[1;32m    364\u001b[0m         \u001b[0;32mreturn\u001b[0m \u001b[0mself\u001b[0m\u001b[0;34m.\u001b[0m\u001b[0m_readline\u001b[0m\u001b[0;34m(\u001b[0m\u001b[0;34m)\u001b[0m\u001b[0;34m\u001b[0m\u001b[0m\n",
      "\u001b[0;31mFileNotFoundError\u001b[0m: [Errno 2] No such file or directory: '-f'"
     ]
    }
   ],
   "source": [
    " \n",
    " \n",
    "for library in fileinput.input():\n",
    " \n",
    "    library = library.rstrip()\n",
    "    response = request_handle.get(os.path.join(URL, 'reposition'), params={'library':library}, headers=headers)\n",
    " \n",
    " \n",
    "    print (library)\n",
    "    pprint.pprint(response.json(), indent=1)"
   ]
  },
  {
   "cell_type": "markdown",
   "metadata": {},
   "source": [
    "# retrieve production bam files"
   ]
  },
  {
   "cell_type": "code",
   "execution_count": 21,
   "metadata": {},
   "outputs": [],
   "source": [
    "wkdir = '/projects/da_workspace/szspace/QC/genome/BLGSP/'"
   ]
  },
  {
   "cell_type": "code",
   "execution_count": 1,
   "metadata": {},
   "outputs": [],
   "source": [
    "libs = ['P00286', 'P00394', 'P01348']"
   ]
  },
  {
   "cell_type": "code",
   "execution_count": 2,
   "metadata": {},
   "outputs": [
    {
     "name": "stdout",
     "output_type": "stream",
     "text": [
      "P00286 /projects/analysis/analysis15/P00286/merge_bwa/125nt/hg19a\n",
      "P00394 /projects/analysis/analysis16/P00394/merge_bwa/125nt/hg19a\n",
      "P01348 /projects/analysis/analysis24/P01348/merge_bwa-0.5.7/125nt/hg19a\n"
     ]
    },
    {
     "ename": "NameError",
     "evalue": "name 'pd' is not defined",
     "output_type": "error",
     "traceback": [
      "\u001b[0;31m---------------------------------------------------------------------------\u001b[0m",
      "\u001b[0;31mNameError\u001b[0m                                 Traceback (most recent call last)",
      "\u001b[0;32m<ipython-input-2-ed151d045c31>\u001b[0m in \u001b[0;36m<module>\u001b[0;34m\u001b[0m\n\u001b[1;32m     58\u001b[0m \u001b[0;31m# print(response)\u001b[0m\u001b[0;34m\u001b[0m\u001b[0;34m\u001b[0m\u001b[0;34m\u001b[0m\u001b[0m\n\u001b[1;32m     59\u001b[0m \u001b[0;34m\u001b[0m\u001b[0m\n\u001b[0;32m---> 60\u001b[0;31m \u001b[0mdf\u001b[0m \u001b[0;34m=\u001b[0m \u001b[0mpd\u001b[0m\u001b[0;34m.\u001b[0m\u001b[0mDataFrame\u001b[0m\u001b[0;34m(\u001b[0m\u001b[0mbams\u001b[0m\u001b[0;34m)\u001b[0m\u001b[0;34m\u001b[0m\u001b[0;34m\u001b[0m\u001b[0m\n\u001b[0m\u001b[1;32m     61\u001b[0m \u001b[0mdf\u001b[0m\u001b[0;34m.\u001b[0m\u001b[0mcolumns\u001b[0m \u001b[0;34m=\u001b[0m \u001b[0;34m[\u001b[0m\u001b[0;34m'lib'\u001b[0m\u001b[0;34m,\u001b[0m \u001b[0;34m'bam_path'\u001b[0m\u001b[0;34m]\u001b[0m\u001b[0;34m\u001b[0m\u001b[0;34m\u001b[0m\u001b[0m\n\u001b[1;32m     62\u001b[0m \u001b[0mof\u001b[0m \u001b[0;34m=\u001b[0m \u001b[0;34m''\u001b[0m\u001b[0;34m.\u001b[0m\u001b[0mjoin\u001b[0m\u001b[0;34m(\u001b[0m\u001b[0;34m[\u001b[0m\u001b[0mwkdir\u001b[0m\u001b[0;34m,\u001b[0m \u001b[0;34m'bam_path.tsv'\u001b[0m\u001b[0;34m]\u001b[0m\u001b[0;34m)\u001b[0m\u001b[0;34m\u001b[0m\u001b[0;34m\u001b[0m\u001b[0m\n",
      "\u001b[0;31mNameError\u001b[0m: name 'pd' is not defined"
     ]
    }
   ],
   "source": [
    "import json\n",
    "import os\n",
    "import requests\n",
    "import pprint\n",
    "import fileinput\n",
    " \n",
    "URL = 'http://sbs:8100/'\n",
    "# print(URL)\n",
    " \n",
    " \n",
    " \n",
    "# Create session object, which can be used for all requests.\n",
    "request_handle = requests.Session()\n",
    " \n",
    "# Set up appropriate headers.\n",
    "headers = {'Content-Type': 'application/json',\n",
    "           'Accept': 'application/json'}\n",
    " \n",
    "# Send the POST request, with your username & password, converted to json.\n",
    "response = request_handle.post(os.path.join(URL, 'session'),\n",
    "                               json={'username': 'szong',\n",
    "                                     'password': 'xxxxxxxxxx',\n",
    "                                     },\n",
    "                               headers=headers)\n",
    " \n",
    "# Check that the response is OK.\n",
    "if response.status_code == 200:\n",
    "     # Add the authentication token to the headers.\n",
    "     token = response.json().get('token')\n",
    "     headers.update({'X-Token': token})\n",
    "else:\n",
    "     # View error messages.\n",
    "     print(response.json())\n",
    "\n",
    "\n",
    "# response = request_handle.get(os.path.join(URL, 'genome'), \n",
    "#                               params={'library': 'B04522'}, \n",
    "#                               headers=headers).json()\n",
    "# response = request_handle.get(os.path.join(URL, 'merge'), \n",
    "#                               params={'library':libs}, \n",
    "#                               headers=headers)\n",
    "\n",
    "bams = []\n",
    "for library in libs:\n",
    " \n",
    "#     library = library.rstrip()\n",
    "    response = request_handle.get(os.path.join(URL, 'merge'), \n",
    "                                  params={'library':library, 'status':'production'}, \n",
    "                                  headers=headers)\n",
    " \n",
    " \n",
    "    print (library, response.json()[0]['data_path'])\n",
    "    bam = [library, response.json()[0]['data_path']]\n",
    "    bams.append(bam)\n",
    "#     pprint.pprint(response.json(), indent=1)\n",
    "\n",
    "# pprint.pprint(response.json(), indent=1)v\n",
    "# print(response)\n",
    "\n",
    "df = pd.DataFrame(bams)\n",
    "df.columns = ['lib', 'bam_path']\n",
    "of = ''.join([wkdir, 'bam_path.tsv'])\n",
    "# df.to_csv(of, sep='\\t', index=False)"
   ]
  },
  {
   "cell_type": "markdown",
   "metadata": {},
   "source": [
    "# bamstats"
   ]
  },
  {
   "cell_type": "markdown",
   "metadata": {},
   "source": [
    "# for unmerge bams, you can not use status: production option"
   ]
  },
  {
   "cell_type": "code",
   "execution_count": 59,
   "metadata": {},
   "outputs": [
    {
     "name": "stdout",
     "output_type": "stream",
     "text": [
      "B35153 /projects/analysis/analysis32/B35153/H2HVVCCX2_1/B35153/CTGTTGAC-ACCTCAGT/150bp/hg38_no_alt/bwa-mem-0.7.6a-sb/\n",
      "B35181 None\n",
      "A99416 /projects/analysis/analysis32/A99416/H3FHMCCX2_2/A99416/150bp/hg38_no_alt/bwa-mem-0.7.6a-sb/\n",
      "B54460 /projects/analysis/analysis32/B54460/H3CW3CCX2_1/B54460/150bp/hg38_no_alt/bwa-mem-0.7.6a-sb/\n",
      "B22547 /projects/analysis/analysis32/B22547/H3K2KCCX2_2/B22547/150bp/hg38_no_alt/bwa-mem-0.7.6a-sb/\n",
      "B54461 /projects/analysis/analysis32/B54461/H3CW3CCX2_2/B54461/150bp/hg38_no_alt/bwa-mem-0.7.6a-sb/\n"
     ]
    }
   ],
   "source": [
    "import json\n",
    "import os\n",
    "import requests\n",
    "import pprint\n",
    "import fileinput\n",
    " \n",
    "URL = 'http://sbs:8100/'\n",
    "# print(URL)\n",
    " \n",
    " \n",
    " \n",
    "# Create session object, which can be used for all requests.\n",
    "request_handle = requests.Session()\n",
    " \n",
    "# Set up appropriate headers.\n",
    "headers = {'Content-Type': 'application/json',\n",
    "           'Accept': 'application/json'}\n",
    " \n",
    "# Send the POST request, with your username & password, converted to json.\n",
    "response = request_handle.post(os.path.join(URL, 'session'),\n",
    "                               json={'username': 'szong',\n",
    "                                     'password': 'xxxxx',\n",
    "                                     },\n",
    "                               headers=headers)\n",
    " \n",
    "# Check that the response is OK.\n",
    "if response.status_code == 200:\n",
    "     # Add the authentication token to the headers.\n",
    "     token = response.json().get('token')\n",
    "     headers.update({'X-Token': token})\n",
    "else:\n",
    "     # View error messages.\n",
    "     print(response.json())\n",
    "\n",
    "\n",
    "# response = request_handle.get(os.path.join(URL, 'genome'), \n",
    "#                               params={'library': 'B04522'}, \n",
    "#                               headers=headers).json()\n",
    "# response = request_handle.get(os.path.join(URL, 'merge'), \n",
    "#                               params={'library':libs}, \n",
    "#                               headers=headers)\n",
    "\n",
    "bams = []\n",
    "for library in libs:\n",
    " \n",
    "#     library = library.rstrip()\n",
    "    response = request_handle.get(os.path.join(URL, 'aligned_libcore/info'), \n",
    "                                  params={'library':library}, #'status':'production'}, \n",
    "                                  headers=headers)\n",
    " \n",
    "\n",
    "    print (library, response.json()[0]['data_path'])\n",
    "    bam = [library, response.json()[0]['data_path']]\n",
    "    bams.append(bam)\n",
    "#     pprint.pprint(response.json(), indent=1)\n",
    "\n",
    "# pprint.pprint(response.json(), indent=1)v\n",
    "# print(response)\n",
    "\n",
    "df = pd.DataFrame(bams)\n",
    "df.columns = ['lib', 'bam_path']\n",
    "of = ''.join([wkdir, 'bam_path.tsv'])\n",
    "df.to_csv(of, sep='\\t', index=False)"
   ]
  },
  {
   "cell_type": "markdown",
   "metadata": {},
   "source": [
    "# retrieve rna bams"
   ]
  },
  {
   "cell_type": "code",
   "execution_count": 3,
   "metadata": {},
   "outputs": [
    {
     "data": {
      "text/plain": [
       "['P00005', 'P00008']"
      ]
     },
     "execution_count": 3,
     "metadata": {},
     "output_type": "execute_result"
    }
   ],
   "source": [
    "f = '/projects/da_workspace/szspace/QC/mRNA/BLGSP/lib16.txt'\n",
    "f = '/projects/da_workspace/DA-484/libs.txt'\n",
    "libs = pd.read_csv(f, header=None)[0].tolist()\n",
    "libs[:2]"
   ]
  },
  {
   "cell_type": "code",
   "execution_count": 8,
   "metadata": {},
   "outputs": [
    {
     "name": "stdout",
     "output_type": "stream",
     "text": [
      "P00005 /projects/analysis/analysis12/P00005/merge_bwa/hg19a\n",
      "P00008 /projects/analysis/analysis12/P00008/merge_bwa/hg19a\n",
      "P00286 /projects/analysis/analysis15/P00286/merge_bwa/125nt/hg19a\n",
      "P00262 /projects/analysis/analysis15/P00262/merge_bwa/125nt/hg19a\n",
      "P00706 /projects/analysis/analysis20/P00706/merge_bwa/125nt/hg19a\n",
      "P00663 /projects/analysis/analysis20/P00663/merge_bwa/125nt/hg19a\n",
      "P01475 /projects/analysis/analysis25/P01475/merge_bwa-mem-0.7.6a/150nt/hg19a\n",
      "P01521 /projects/analysis/analysis25/P01521/merge_bwa-mem-0.7.6a/150nt/hg19a\n",
      "P01936 /projects/analysis/analysis26/P01936/merge_bwa-mem-0.7.6a/150nt/hg19a\n",
      "P01928 /projects/analysis/analysis26/P01928/H323MALXX_5/P01928/150nt/hg19a/bwa-mem-0.7.6a\n",
      "P02099 /projects/analysis/analysis27/P02099/merge18348_bwa-mem-0.7.6a-sb/150nt/hg19a\n",
      "P02109 /projects/analysis/analysis27/P02109/HG2TFALXX_7/P02109/150nt/hg19a/bwa-mem-0.7.6a-sb\n"
     ]
    }
   ],
   "source": [
    "import json\n",
    "import os\n",
    "import requests\n",
    "import pprint\n",
    "import fileinput\n",
    " \n",
    "URL = 'http://sbs:8100/'\n",
    "# print(URL)\n",
    " \n",
    " \n",
    " \n",
    "# Create session object, which can be used for all requests.\n",
    "request_handle = requests.Session()\n",
    " \n",
    "# Set up appropriate headers.\n",
    "headers = {'Content-Type': 'application/json',\n",
    "           'Accept': 'application/json'}\n",
    " \n",
    "# Send the POST request, with your username & password, converted to json.\n",
    "response = request_handle.post(os.path.join(URL, 'session'),\n",
    "                               json={'username': 'szong',\n",
    "                                     'password': 'xxxxxxxx',\n",
    "                                     },\n",
    "                               headers=headers)\n",
    " \n",
    "# Check that the response is OK.\n",
    "if response.status_code == 200:\n",
    "     # Add the authentication token to the headers.\n",
    "     token = response.json().get('token')\n",
    "     headers.update({'X-Token': token})\n",
    "else:\n",
    "     # View error messages.\n",
    "     print(response.json())\n",
    "\n",
    "\n",
    "# response = request_handle.get(os.path.join(URL, 'genome'), \n",
    "#                               params={'library': 'B04522'}, \n",
    "#                               headers=headers).json()\n",
    "# response = request_handle.get(os.path.join(URL, 'merge'), \n",
    "#                               params={'library':libs}, \n",
    "#                               headers=headers)\n",
    "\n",
    "bams = []\n",
    "for library in libs:\n",
    " \n",
    "#     library = library.rstrip()\n",
    "    response = request_handle.get(os.path.join(URL, 'merge'), \n",
    "                                  params={'library':library, 'status':'production'}, \n",
    "                                  headers=headers)\n",
    " \n",
    " \n",
    "    print (library, response.json()[0]['data_path'])\n",
    "    bam = [library, response.json()[0]['data_path']]\n",
    "    bams.append(bam)\n",
    "#     pprint.pprint(response.json(), indent=1)\n",
    "\n",
    "# pprint.pprint(response.json(), indent=1)v\n",
    "# print(response)\n",
    "wkdir = '/projects/da_workspace/DA-484/'\n",
    "df = pd.DataFrame(bams)\n",
    "df.columns = ['lib', 'bam_path']\n",
    "of = ''.join([wkdir, 'bam_path.tsv'])\n",
    "df.to_csv(of, sep='\\t', index=False)"
   ]
  },
  {
   "cell_type": "code",
   "execution_count": 6,
   "metadata": {},
   "outputs": [
    {
     "data": {
      "text/plain": [
       "12"
      ]
     },
     "execution_count": 6,
     "metadata": {},
     "output_type": "execute_result"
    }
   ],
   "source": [
    "len(bams)"
   ]
  }
 ],
 "metadata": {
  "kernelspec": {
   "display_name": "Python 3",
   "language": "python",
   "name": "python3"
  },
  "language_info": {
   "codemirror_mode": {
    "name": "ipython",
    "version": 3
   },
   "file_extension": ".py",
   "mimetype": "text/x-python",
   "name": "python",
   "nbconvert_exporter": "python",
   "pygments_lexer": "ipython3",
   "version": "3.7.3"
  }
 },
 "nbformat": 4,
 "nbformat_minor": 2
}
