{
 "cells": [
  {
   "cell_type": "code",
   "execution_count": 1,
   "metadata": {},
   "outputs": [],
   "source": [
    "%load_ext autoreload\n",
    "%autoreload 2\n",
    "import numpy as np\n",
    "import pandas as pd\n",
    "import re\n",
    "%matplotlib inline\n",
    "%load_ext blackcellmagic\n",
    "\n",
    "from IPython.core.interactiveshell import InteractiveShell\n",
    "InteractiveShell.ast_node_interactivity = \"all\""
   ]
  },
  {
   "cell_type": "markdown",
   "metadata": {},
   "source": [
    "# parse vcf "
   ]
  },
  {
   "cell_type": "markdown",
   "metadata": {},
   "source": [
    "not the latest version, should check summarize_HTMCP_validation_strelka_mutations_20190624, compare parser result and results from validation summarization script for 3 samples. they matched. checked 20191210\n"
   ]
  },
  {
   "cell_type": "code",
   "execution_count": null,
   "metadata": {},
   "outputs": [],
   "source": []
  },
  {
   "cell_type": "markdown",
   "metadata": {},
   "source": [
    "20191210, to add allele frequency info from the vcf, can incorporate filtering from this nb filter_strelka_vcfs.ipynb \n",
    "##FORMAT=<ID=DP,Number=1,Type=Integer,Description=\"Read depth for tier1\">\n",
    "##FORMAT=<ID=DP2,Number=1,Type=Integer,Description=\"Read depth for tier2\">\n",
    "##FORMAT=<ID=TAR,Number=2,Type=Integer,Description=\"Reads strongly supporting alternate allele for tiers 1,2\">\n",
    "##FORMAT=<ID=TIR,Number=2,Type=Integer,Description=\"Reads strongly supporting indel allele for tiers 1,2\">\n",
    "##FORMAT=<ID=TOR,Number=2,Type=Integer,Description=\"Other reads (weak support or insufficient indel breakpoint overlap) for tiers 1,2\">\n",
    "##FORMAT=<ID=DP50,Number=1,Type=Float,Description=\"Average tier1 read depth within 50 bases\">\n",
    "##FORMAT=<ID=FDP50,Number=1,Type=Float,Description=\"Average tier1 number of basecalls filtered from original read depth within 50 bases\">\n",
    "##FORMAT=<ID=SUBDP50,Number=1,Type=Float,Description=\"Average number of reads below tier1 mapping quality threshold aligned across sites within 50 bases\">\n"
   ]
  },
  {
   "cell_type": "markdown",
   "metadata": {},
   "source": [
    "new"
   ]
  },
  {
   "cell_type": "code",
   "execution_count": 94,
   "metadata": {},
   "outputs": [],
   "source": [
    "# export\n",
    "import numpy as np\n",
    "import pandas as pd\n",
    "import re\n",
    "import os\n",
    "from tqdm import tqdm\n",
    "\n",
    "\n",
    "class VcfParser:\n",
    "    def __init__(self, impacts, vcf=None, df=None):\n",
    "        \n",
    "        IMPACTS = [\"HIGH\", \"MODERATE\", \"LOW\", \"MODIFIER\"]\n",
    "        impacts = [i.upper() for i in impacts]\n",
    "        # make sure impact sorted from high to modifier\n",
    "        impacts = [i for i in IMPACTS if i in impacts]\n",
    "        self.vcf = vcf\n",
    "        self.df = df\n",
    "        self.impacts = impacts\n",
    "        self.IMPACTS = IMPACTS\n",
    "        self.BASES = np.array(['A', 'C', 'G', 'T'])\n",
    "        print(f\"parsing variants with impacts of: {self.impacts}!\")\n",
    "\n",
    "    def keep(self, series, patterns):\n",
    "        return series.str.contains(\"|\".join(patterns), case=False)\n",
    "\n",
    "    def parse_effect(self, line):\n",
    "        effs = line.split(\"EFF=\")[1].split(\",\")\n",
    "        effs = [\n",
    "            list(np.array(re.split(\"\\(|\\|\", ef))[[0,1,2,4,6,9]]) for ef in effs if (\n",
    "                any([''.join(['(', i, '|']) in ef for i in self.IMPACTS]) \n",
    "            )\n",
    "        ]\n",
    "        for impact in [a.upper() for a in self.impacts]:\n",
    "            pick = [e for e in effs if impact in e]\n",
    "            if pick:\n",
    "                break\n",
    "        return pick\n",
    "    \n",
    "    def indel_coverage(self, s):\n",
    "        cov = s.split(':')\n",
    "        cov1 = cov[0]\n",
    "        alt1 = cov[2].split(',')[0]\n",
    "        indel1 = cov[3].split(',')[0]\n",
    "        return [cov1, alt1]\n",
    "\n",
    "    def parse_indel_coverage(self, df):\n",
    "        df[['t_cov_tier1', 't_alt_tier1']] = (\n",
    "            pd.DataFrame(df['tumour'].apply(\n",
    "                lambda x: self.indel_coverage(x)).values.tolist(), index=df.index))\n",
    "        df[['n_cov_tier1', 'n_alt_tier1']] = (\n",
    "            pd.DataFrame(df['normal'].apply(\n",
    "                lambda x: self.indel_coverage(x)).values.tolist(), index=df.index))\n",
    "        return df\n",
    "    \n",
    "    def snv_coverage(self, s, alt):\n",
    "        # DP:FDP:SDP:SUBDP:AU:CU:GU:TU\n",
    "        cov = s.split(':')\n",
    "        acgt = np.zeros(4)\n",
    "        for i, c in enumerate(cov[4:]):\n",
    "            acgt[i] = c.split(',')[0]\n",
    "        return [acgt.sum(), acgt[np.asscalar(np.where(self.BASES == alt)[0])]]\n",
    "    \n",
    "    def parse_snv_coverage(self, df):\n",
    "        \n",
    "        df[['t_cov_tier1', 't_alt_tier1']] = (\n",
    "            pd.DataFrame(df[['tumour', 'alt']].apply(\n",
    "                lambda x: self.snv_coverage(x[0], x[1]), axis=1).values.tolist(), index=df.index))\n",
    "        df[['n_cov_tier1', 'n_alt_tier1']] = (\n",
    "            pd.DataFrame(df[['normal', 'alt']].apply(\n",
    "                lambda x: self.snv_coverage(x[0], x[1]), axis=1).values.tolist(), index=df.index))\n",
    "        return df\n",
    "\n",
    "    def parse_vcf(self, vcf_type):\n",
    "        if os.stat(self.vcf).st_size == 0:\n",
    "            print(f\"WARNING: empty file>{self.vcf}\")\n",
    "            return pd.DataFrame()\n",
    "        print(f\"parsing vcf: {self.vcf}\")\n",
    "        df = pd.read_csv(self.vcf, comment=\"#\", sep=\"\\t\", header=None, low_memory=False)\n",
    "        patient = self.vcf.split(\"/\")[4]\n",
    "        df = df[[0, 1, 3, 4, 7, 9, 10]]\n",
    "        df.columns = [\"chr\", \"pos\", \"ref\", \"alt\", \"effect\", \"normal\", \"tumour\"]\n",
    "        df = df[self.keep(df[\"effect\"], self.impacts)]\n",
    "        # sometimes the dp filed are nan\n",
    "        df = df.dropna()\n",
    "\n",
    "        if not df.empty:\n",
    "            if vcf_type.lower() == 'indels':\n",
    "                df = self.parse_indel_coverage(df)\n",
    "            \n",
    "            if vcf_type.lower() == 'snvs':\n",
    "                df = self.parse_snv_coverage(df)\n",
    "            df['anno'] = df['effect'].apply(lambda x: self.parse_effect(x))           \n",
    "            df[\"patient\"] = patient\n",
    "            df = df.explode('anno')\n",
    "            df[['impact','impact_type', 'type', 'AA_change', 'gene', 'transcript']] = (\n",
    "                pd.DataFrame(df['anno'].values.tolist(), index=df.index)\n",
    "            )\n",
    "            \n",
    "            df = df.drop([\"effect\", \"anno\", \"tumour\", \"normal\"], axis=1)\n",
    "            return df\n",
    "        return pd.DataFrame()\n",
    "\n",
    "    def summarize_cohort(self):\n",
    "        dfmg = pd.DataFrame()\n",
    "        for ix, row in tqdm(self.df.iterrows()):\n",
    "            patient = ix\n",
    "            snv_vcf = row[\"snv\"]\n",
    "            indel_vcf = row[\"indel\"]\n",
    "            self.vcf = snv_vcf\n",
    "            snv_df = self.parse_vcf('snvs')\n",
    "            self.vcf = indel_vcf\n",
    "            indel_df = self.parse_vcf('indels')\n",
    "            mdf = pd.concat([snv_df, indel_df], sort=False)\n",
    "            mdf = mdf.drop_duplicates(keep=\"first\")\n",
    "            if dfmg.empty:\n",
    "                dfmg = mdf\n",
    "            else:\n",
    "                dfmg = pd.concat([dfmg, mdf], sort=False)\n",
    "        return dfmg"
   ]
  },
  {
   "cell_type": "code",
   "execution_count": 95,
   "metadata": {},
   "outputs": [
    {
     "data": {
      "text/html": [
       "<div>\n",
       "<style scoped>\n",
       "    .dataframe tbody tr th:only-of-type {\n",
       "        vertical-align: middle;\n",
       "    }\n",
       "\n",
       "    .dataframe tbody tr th {\n",
       "        vertical-align: top;\n",
       "    }\n",
       "\n",
       "    .dataframe thead th {\n",
       "        text-align: right;\n",
       "    }\n",
       "</style>\n",
       "<table border=\"1\" class=\"dataframe\">\n",
       "  <thead>\n",
       "    <tr style=\"text-align: right;\">\n",
       "      <th></th>\n",
       "      <th>tlib</th>\n",
       "      <th>nlib</th>\n",
       "      <th>snv</th>\n",
       "      <th>indel</th>\n",
       "    </tr>\n",
       "    <tr>\n",
       "      <th>patient</th>\n",
       "      <th></th>\n",
       "      <th></th>\n",
       "      <th></th>\n",
       "      <th></th>\n",
       "    </tr>\n",
       "  </thead>\n",
       "  <tbody>\n",
       "    <tr>\n",
       "      <td>HTMCP-03-06-02025</td>\n",
       "      <td>B68907</td>\n",
       "      <td>B68872</td>\n",
       "      <td>/projects/somatic/NCI_SAIC_HIV_Cervical/HTMCP-...</td>\n",
       "      <td>/projects/somatic/NCI_SAIC_HIV_Cervical/HTMCP-...</td>\n",
       "    </tr>\n",
       "    <tr>\n",
       "      <td>HTMCP-03-06-02044</td>\n",
       "      <td>B68919</td>\n",
       "      <td>B68884</td>\n",
       "      <td>/projects/somatic/NCI_SAIC_HIV_Cervical/HTMCP-...</td>\n",
       "      <td>/projects/somatic/NCI_SAIC_HIV_Cervical/HTMCP-...</td>\n",
       "    </tr>\n",
       "    <tr>\n",
       "      <td>HTMCP-03-06-02060</td>\n",
       "      <td>B68930</td>\n",
       "      <td>B68895</td>\n",
       "      <td>/projects/somatic/NCI_SAIC_HIV_Cervical/HTMCP-...</td>\n",
       "      <td>/projects/somatic/NCI_SAIC_HIV_Cervical/HTMCP-...</td>\n",
       "    </tr>\n",
       "    <tr>\n",
       "      <td>HTMCP-03-06-02061</td>\n",
       "      <td>B68941</td>\n",
       "      <td>B68906</td>\n",
       "      <td>/projects/somatic/NCI_SAIC_HIV_Cervical/HTMCP-...</td>\n",
       "      <td>/projects/somatic/NCI_SAIC_HIV_Cervical/HTMCP-...</td>\n",
       "    </tr>\n",
       "    <tr>\n",
       "      <td>HTMCP-03-06-02062</td>\n",
       "      <td>B68951</td>\n",
       "      <td>B68918</td>\n",
       "      <td>/projects/somatic/NCI_SAIC_HIV_Cervical/HTMCP-...</td>\n",
       "      <td>/projects/somatic/NCI_SAIC_HIV_Cervical/HTMCP-...</td>\n",
       "    </tr>\n",
       "    <tr>\n",
       "      <td>HTMCP-03-06-02066</td>\n",
       "      <td>B68874</td>\n",
       "      <td>B68929</td>\n",
       "      <td>/projects/somatic/NCI_SAIC_HIV_Cervical/HTMCP-...</td>\n",
       "      <td>/projects/somatic/NCI_SAIC_HIV_Cervical/HTMCP-...</td>\n",
       "    </tr>\n",
       "    <tr>\n",
       "      <td>HTMCP-03-06-02067</td>\n",
       "      <td>B68886</td>\n",
       "      <td>B68940</td>\n",
       "      <td>/projects/somatic/NCI_SAIC_HIV_Cervical/HTMCP-...</td>\n",
       "      <td>/projects/somatic/NCI_SAIC_HIV_Cervical/HTMCP-...</td>\n",
       "    </tr>\n",
       "    <tr>\n",
       "      <td>HTMCP-03-06-02072</td>\n",
       "      <td>B68897</td>\n",
       "      <td>B68950</td>\n",
       "      <td>/projects/somatic/NCI_SAIC_HIV_Cervical/HTMCP-...</td>\n",
       "      <td>/projects/somatic/NCI_SAIC_HIV_Cervical/HTMCP-...</td>\n",
       "    </tr>\n",
       "    <tr>\n",
       "      <td>HTMCP-03-06-02081</td>\n",
       "      <td>B68920</td>\n",
       "      <td>B68885</td>\n",
       "      <td>/projects/somatic/NCI_SAIC_HIV_Cervical/HTMCP-...</td>\n",
       "      <td>/projects/somatic/NCI_SAIC_HIV_Cervical/HTMCP-...</td>\n",
       "    </tr>\n",
       "    <tr>\n",
       "      <td>HTMCP-03-06-02082</td>\n",
       "      <td>B68908</td>\n",
       "      <td>B68873</td>\n",
       "      <td>/projects/somatic/NCI_SAIC_HIV_Cervical/HTMCP-...</td>\n",
       "      <td>/projects/somatic/NCI_SAIC_HIV_Cervical/HTMCP-...</td>\n",
       "    </tr>\n",
       "  </tbody>\n",
       "</table>\n",
       "</div>"
      ],
      "text/plain": [
       "                     tlib    nlib  \\\n",
       "patient                             \n",
       "HTMCP-03-06-02025  B68907  B68872   \n",
       "HTMCP-03-06-02044  B68919  B68884   \n",
       "HTMCP-03-06-02060  B68930  B68895   \n",
       "HTMCP-03-06-02061  B68941  B68906   \n",
       "HTMCP-03-06-02062  B68951  B68918   \n",
       "HTMCP-03-06-02066  B68874  B68929   \n",
       "HTMCP-03-06-02067  B68886  B68940   \n",
       "HTMCP-03-06-02072  B68897  B68950   \n",
       "HTMCP-03-06-02081  B68920  B68885   \n",
       "HTMCP-03-06-02082  B68908  B68873   \n",
       "\n",
       "                                                                 snv  \\\n",
       "patient                                                                \n",
       "HTMCP-03-06-02025  /projects/somatic/NCI_SAIC_HIV_Cervical/HTMCP-...   \n",
       "HTMCP-03-06-02044  /projects/somatic/NCI_SAIC_HIV_Cervical/HTMCP-...   \n",
       "HTMCP-03-06-02060  /projects/somatic/NCI_SAIC_HIV_Cervical/HTMCP-...   \n",
       "HTMCP-03-06-02061  /projects/somatic/NCI_SAIC_HIV_Cervical/HTMCP-...   \n",
       "HTMCP-03-06-02062  /projects/somatic/NCI_SAIC_HIV_Cervical/HTMCP-...   \n",
       "HTMCP-03-06-02066  /projects/somatic/NCI_SAIC_HIV_Cervical/HTMCP-...   \n",
       "HTMCP-03-06-02067  /projects/somatic/NCI_SAIC_HIV_Cervical/HTMCP-...   \n",
       "HTMCP-03-06-02072  /projects/somatic/NCI_SAIC_HIV_Cervical/HTMCP-...   \n",
       "HTMCP-03-06-02081  /projects/somatic/NCI_SAIC_HIV_Cervical/HTMCP-...   \n",
       "HTMCP-03-06-02082  /projects/somatic/NCI_SAIC_HIV_Cervical/HTMCP-...   \n",
       "\n",
       "                                                               indel  \n",
       "patient                                                               \n",
       "HTMCP-03-06-02025  /projects/somatic/NCI_SAIC_HIV_Cervical/HTMCP-...  \n",
       "HTMCP-03-06-02044  /projects/somatic/NCI_SAIC_HIV_Cervical/HTMCP-...  \n",
       "HTMCP-03-06-02060  /projects/somatic/NCI_SAIC_HIV_Cervical/HTMCP-...  \n",
       "HTMCP-03-06-02061  /projects/somatic/NCI_SAIC_HIV_Cervical/HTMCP-...  \n",
       "HTMCP-03-06-02062  /projects/somatic/NCI_SAIC_HIV_Cervical/HTMCP-...  \n",
       "HTMCP-03-06-02066  /projects/somatic/NCI_SAIC_HIV_Cervical/HTMCP-...  \n",
       "HTMCP-03-06-02067  /projects/somatic/NCI_SAIC_HIV_Cervical/HTMCP-...  \n",
       "HTMCP-03-06-02072  /projects/somatic/NCI_SAIC_HIV_Cervical/HTMCP-...  \n",
       "HTMCP-03-06-02081  /projects/somatic/NCI_SAIC_HIV_Cervical/HTMCP-...  \n",
       "HTMCP-03-06-02082  /projects/somatic/NCI_SAIC_HIV_Cervical/HTMCP-...  "
      ]
     },
     "execution_count": 95,
     "metadata": {},
     "output_type": "execute_result"
    }
   ],
   "source": [
    "# vcf = '/projects/somatic/NCI_SAIC_HIV_Cervical/HTMCP-03-06-02025-01A-01D/hg19a/SPC/B68907_B68872/strelka/65713/bwa/results/passed.somatic.snvs.eff.dbSNP_v149.cosmic_v82.clinvar_20170801.annotations.classic.vcf'\n",
    "impacts = ['high', 'moderate', 'low']\n",
    "f = '/projects/trans_scratch/validations/workspace/szong/Cervical/variant_bwamem/validation/validation_2nd_strelka_20191010.xls'\n",
    "df = pd.read_excel(f, header=None)\n",
    "df.columns = ['patient', 'tlib', 'nlib', 'snv', 'indel']\n",
    "df.set_index('patient', inplace=True)\n",
    "df.head(10)"
   ]
  },
  {
   "cell_type": "code",
   "execution_count": 96,
   "metadata": {},
   "outputs": [
    {
     "data": {
      "text/plain": [
       "(118, 2)"
      ]
     },
     "execution_count": 96,
     "metadata": {},
     "output_type": "execute_result"
    }
   ],
   "source": [
    "f1 = '/projects/trans_scratch/validations/workspace/szong/Cervical/variant_bwamem/124_patients_new/124_patients_bam_vcf_20190115.csv'\n",
    "df = pd.read_csv(f1, index_col='patient')\n",
    "ndf = df[['strelka_snv_vcf', 'strelka_indel_vcf']].dropna()\n",
    "ndf.columns = ['snv', 'indel']\n",
    "# 118 patients\n",
    "f = '/projects/trans_scratch/validations/workspace/szong/Cervical/mutsig2cv/118_patients.txt'\n",
    "with open(f) as file:\n",
    "    patients = [line.strip() for line in file]\n",
    "assert len(patients) == 118\n",
    "ndf = ndf.reindex(patients)\n",
    "ndf.head(2)\n",
    "ndf.shape"
   ]
  },
  {
   "cell_type": "code",
   "execution_count": 97,
   "metadata": {},
   "outputs": [
    {
     "name": "stderr",
     "output_type": "stream",
     "text": [
      "\n",
      "\n",
      "0it [00:00, ?it/s]\u001b[A\u001b[A"
     ]
    },
    {
     "name": "stdout",
     "output_type": "stream",
     "text": [
      "parsing variants with impacts of: ['HIGH', 'MODERATE', 'LOW']!\n",
      "parsing vcf: /projects/somatic/NCI_SAIC_HIV_Cervical/HTMCP-03-06-02001/hg19a/GSH/A37234_A37159/strelka/59844/bwa/results/passed.somatic.snvs.eff.dbSNP_v149.cosmic_v82.clinvar_20170801.annotations.classic.vcf\n"
     ]
    },
    {
     "name": "stderr",
     "output_type": "stream",
     "text": [
      "\n",
      "\n",
      "1it [00:00,  1.15it/s]\u001b[A\u001b[A"
     ]
    },
    {
     "name": "stdout",
     "output_type": "stream",
     "text": [
      "parsing vcf: /projects/somatic/NCI_SAIC_HIV_Cervical/HTMCP-03-06-02001/hg19a/GSH/A37234_A37159/strelka/59844/bwa/results/passed.somatic.indels.eff.dbSNP_v149.cosmic_v82.clinvar_20170801.annotations.classic.vcf\n",
      "parsing vcf: /projects/somatic/NCI_SAIC_HIV_Cervical/HTMCP-03-06-02002/hg19a/GSH/A37235_A37160/strelka/59848/bwa/results/passed.somatic.snvs.eff.dbSNP_v149.cosmic_v82.clinvar_20170801.annotations.classic.vcf\n"
     ]
    },
    {
     "name": "stderr",
     "output_type": "stream",
     "text": [
      "\n",
      "\n",
      "2it [00:01,  1.33it/s]\u001b[A\u001b[A"
     ]
    },
    {
     "name": "stdout",
     "output_type": "stream",
     "text": [
      "parsing vcf: /projects/somatic/NCI_SAIC_HIV_Cervical/HTMCP-03-06-02002/hg19a/GSH/A37235_A37160/strelka/59848/bwa/results/passed.somatic.indels.eff.dbSNP_v149.cosmic_v82.clinvar_20170801.annotations.classic.vcf\n",
      "parsing vcf: /projects/somatic/NCI_SAIC_HIV_Cervical/HTMCP-03-06-02003/hg19a/GSH/A37236_A37161/strelka/59851/bwa/results/passed.somatic.snvs.eff.dbSNP_v149.cosmic_v82.clinvar_20170801.annotations.classic.vcf\n"
     ]
    },
    {
     "name": "stderr",
     "output_type": "stream",
     "text": [
      "\n",
      "\n",
      "3it [00:01,  1.67it/s]\u001b[A\u001b[A"
     ]
    },
    {
     "name": "stdout",
     "output_type": "stream",
     "text": [
      "parsing vcf: /projects/somatic/NCI_SAIC_HIV_Cervical/HTMCP-03-06-02003/hg19a/GSH/A37236_A37161/strelka/59851/bwa/results/passed.somatic.indels.eff.dbSNP_v149.cosmic_v82.clinvar_20170801.annotations.classic.vcf\n",
      "parsing vcf: /projects/somatic/NCI_SAIC_HIV_Cervical/HTMCP-03-06-02006/hg19a/GSH/A37239_A37164/strelka/59855/bwa/results/passed.somatic.snvs.eff.dbSNP_v149.cosmic_v82.clinvar_20170801.annotations.classic.vcf\n"
     ]
    },
    {
     "name": "stderr",
     "output_type": "stream",
     "text": [
      "\n",
      "\n",
      "4it [00:02,  1.54it/s]\u001b[A\u001b[A"
     ]
    },
    {
     "name": "stdout",
     "output_type": "stream",
     "text": [
      "parsing vcf: /projects/somatic/NCI_SAIC_HIV_Cervical/HTMCP-03-06-02006/hg19a/GSH/A37239_A37164/strelka/59855/bwa/results/passed.somatic.indels.eff.dbSNP_v149.cosmic_v82.clinvar_20170801.annotations.classic.vcf\n",
      "parsing vcf: /projects/somatic/NCI_SAIC_HIV_Cervical/HTMCP-03-06-02008/hg19a/GSH/A37241_A37166/strelka/59861/bwa/results/passed.somatic.snvs.eff.dbSNP_v149.cosmic_v82.clinvar_20170801.annotations.classic.vcf\n"
     ]
    },
    {
     "name": "stderr",
     "output_type": "stream",
     "text": [
      "\n",
      "\n",
      "5it [00:02,  1.64it/s]\u001b[A\u001b[A"
     ]
    },
    {
     "name": "stdout",
     "output_type": "stream",
     "text": [
      "parsing vcf: /projects/somatic/NCI_SAIC_HIV_Cervical/HTMCP-03-06-02008/hg19a/GSH/A37241_A37166/strelka/59861/bwa/results/passed.somatic.indels.eff.dbSNP_v149.cosmic_v82.clinvar_20170801.annotations.classic.vcf\n",
      "parsing vcf: /projects/somatic/NCI_SAIC_HIV_Cervical/HTMCP-03-06-02012/hg19a/GSH/A37243_A37168/strelka/59863/bwa/results/passed.somatic.snvs.eff.dbSNP_v149.cosmic_v82.clinvar_20170801.annotations.classic.vcf\n"
     ]
    },
    {
     "name": "stderr",
     "output_type": "stream",
     "text": [
      "\n",
      "\n",
      "6it [00:04,  1.08it/s]\u001b[A\u001b[A"
     ]
    },
    {
     "name": "stdout",
     "output_type": "stream",
     "text": [
      "parsing vcf: /projects/somatic/NCI_SAIC_HIV_Cervical/HTMCP-03-06-02012/hg19a/GSH/A37243_A37168/strelka/59863/bwa/results/passed.somatic.indels.eff.dbSNP_v149.cosmic_v82.clinvar_20170801.annotations.classic.vcf\n",
      "parsing vcf: /projects/somatic/NCI_SAIC_HIV_Cervical/HTMCP-03-06-02013/hg19a/GSH/A37244_A37169/strelka/59866/bwa/results/passed.somatic.snvs.eff.dbSNP_v149.cosmic_v82.clinvar_20170801.annotations.classic.vcf\n"
     ]
    },
    {
     "name": "stderr",
     "output_type": "stream",
     "text": [
      "\n",
      "\n",
      "7it [00:05,  1.20it/s]\u001b[A\u001b[A"
     ]
    },
    {
     "name": "stdout",
     "output_type": "stream",
     "text": [
      "parsing vcf: /projects/somatic/NCI_SAIC_HIV_Cervical/HTMCP-03-06-02013/hg19a/GSH/A37244_A37169/strelka/59866/bwa/results/passed.somatic.indels.eff.dbSNP_v149.cosmic_v82.clinvar_20170801.annotations.classic.vcf\n",
      "parsing vcf: /projects/somatic/NCI_SAIC_HIV_Cervical/HTMCP-03-06-02020/hg19a/GSH/A37247_A56468/strelka/59869/bwa/results/passed.somatic.snvs.eff.dbSNP_v149.cosmic_v82.clinvar_20170801.annotations.classic.vcf\n"
     ]
    },
    {
     "name": "stderr",
     "output_type": "stream",
     "text": [
      "\n",
      "\n",
      "8it [00:06,  1.16it/s]\u001b[A\u001b[A"
     ]
    },
    {
     "name": "stdout",
     "output_type": "stream",
     "text": [
      "parsing vcf: /projects/somatic/NCI_SAIC_HIV_Cervical/HTMCP-03-06-02020/hg19a/GSH/A37247_A56468/strelka/59869/bwa/results/passed.somatic.indels.eff.dbSNP_v149.cosmic_v82.clinvar_20170801.annotations.classic.vcf\n",
      "parsing vcf: /projects/somatic/NCI_SAIC_HIV_Cervical/HTMCP-03-06-02036/hg19a/GSH/A37252_A37179/strelka/59874/bwa/results/passed.somatic.snvs.eff.dbSNP_v149.cosmic_v82.clinvar_20170801.annotations.classic.vcf\n"
     ]
    },
    {
     "name": "stderr",
     "output_type": "stream",
     "text": [
      "\n",
      "\n",
      "9it [00:06,  1.36it/s]\u001b[A\u001b[A"
     ]
    },
    {
     "name": "stdout",
     "output_type": "stream",
     "text": [
      "parsing vcf: /projects/somatic/NCI_SAIC_HIV_Cervical/HTMCP-03-06-02036/hg19a/GSH/A37252_A37179/strelka/59874/bwa/results/passed.somatic.indels.eff.dbSNP_v149.cosmic_v82.clinvar_20170801.annotations.classic.vcf\n",
      "parsing vcf: /projects/somatic/NCI_SAIC_HIV_Cervical/HTMCP-03-06-02037/hg19a/GSH/A37253_A37180/strelka/59877/bwa/results/passed.somatic.snvs.eff.dbSNP_v149.cosmic_v82.clinvar_20170801.annotations.classic.vcf\n"
     ]
    },
    {
     "name": "stderr",
     "output_type": "stream",
     "text": [
      "\n",
      "\n",
      "10it [00:07,  1.42it/s]\u001b[A\u001b[A"
     ]
    },
    {
     "name": "stdout",
     "output_type": "stream",
     "text": [
      "parsing vcf: /projects/somatic/NCI_SAIC_HIV_Cervical/HTMCP-03-06-02037/hg19a/GSH/A37253_A37180/strelka/59877/bwa/results/passed.somatic.indels.eff.dbSNP_v149.cosmic_v82.clinvar_20170801.annotations.classic.vcf\n",
      "parsing vcf: /projects/somatic/NCI_SAIC_HIV_Cervical/HTMCP-03-06-02040/hg19a/GSH/A37254_A37181/strelka/59883/bwa/results/passed.somatic.snvs.eff.dbSNP_v149.cosmic_v82.clinvar_20170801.annotations.classic.vcf\n"
     ]
    },
    {
     "name": "stderr",
     "output_type": "stream",
     "text": [
      "\n",
      "\n",
      "11it [00:08,  1.30it/s]\u001b[A\u001b[A"
     ]
    },
    {
     "name": "stdout",
     "output_type": "stream",
     "text": [
      "parsing vcf: /projects/somatic/NCI_SAIC_HIV_Cervical/HTMCP-03-06-02040/hg19a/GSH/A37254_A37181/strelka/59883/bwa/results/passed.somatic.indels.eff.dbSNP_v149.cosmic_v82.clinvar_20170801.annotations.classic.vcf\n",
      "parsing vcf: /projects/somatic/NCI_SAIC_HIV_Cervical/HTMCP-03-06-02042/hg19a/GSH/A37255_A37182/strelka/59888/bwa/results/passed.somatic.snvs.eff.dbSNP_v149.cosmic_v82.clinvar_20170801.annotations.classic.vcf\n"
     ]
    },
    {
     "name": "stderr",
     "output_type": "stream",
     "text": [
      "\n",
      "\n",
      "12it [00:09,  1.08it/s]\u001b[A\u001b[A"
     ]
    },
    {
     "name": "stdout",
     "output_type": "stream",
     "text": [
      "parsing vcf: /projects/somatic/NCI_SAIC_HIV_Cervical/HTMCP-03-06-02042/hg19a/GSH/A37255_A37182/strelka/59888/bwa/results/passed.somatic.indels.eff.dbSNP_v149.cosmic_v82.clinvar_20170801.annotations.classic.vcf\n",
      "parsing vcf: /projects/somatic/NCI_SAIC_HIV_Cervical/HTMCP-03-06-02046/hg19a/GSH/A37257_A37185/strelka/59894/bwa/results/passed.somatic.snvs.eff.dbSNP_v149.cosmic_v82.clinvar_20170801.annotations.classic.vcf\n"
     ]
    },
    {
     "name": "stderr",
     "output_type": "stream",
     "text": [
      "\n",
      "\n",
      "13it [00:09,  1.33it/s]\u001b[A\u001b[A"
     ]
    },
    {
     "name": "stdout",
     "output_type": "stream",
     "text": [
      "parsing vcf: /projects/somatic/NCI_SAIC_HIV_Cervical/HTMCP-03-06-02046/hg19a/GSH/A37257_A37185/strelka/59894/bwa/results/passed.somatic.indels.eff.dbSNP_v149.cosmic_v82.clinvar_20170801.annotations.classic.vcf\n",
      "parsing vcf: /projects/somatic/NCI_SAIC_HIV_Cervical/HTMCP-03-06-02047/hg19a/GSH/A37258_A37186/strelka/59900/bwa/results/passed.somatic.snvs.eff.dbSNP_v149.cosmic_v82.clinvar_20170801.annotations.classic.vcf\n"
     ]
    },
    {
     "name": "stderr",
     "output_type": "stream",
     "text": [
      "\n",
      "\n",
      "14it [00:10,  1.46it/s]\u001b[A\u001b[A"
     ]
    },
    {
     "name": "stdout",
     "output_type": "stream",
     "text": [
      "parsing vcf: /projects/somatic/NCI_SAIC_HIV_Cervical/HTMCP-03-06-02047/hg19a/GSH/A37258_A37186/strelka/59900/bwa/results/passed.somatic.indels.eff.dbSNP_v149.cosmic_v82.clinvar_20170801.annotations.classic.vcf\n",
      "parsing vcf: /projects/somatic/NCI_SAIC_HIV_Cervical/HTMCP-03-06-02054/hg19a/GSH/A37259_A37187/strelka/59902/bwa/results/passed.somatic.snvs.eff.dbSNP_v149.cosmic_v82.clinvar_20170801.annotations.classic.vcf\n"
     ]
    },
    {
     "name": "stderr",
     "output_type": "stream",
     "text": [
      "\n",
      "\n",
      "15it [00:11,  1.31it/s]\u001b[A\u001b[A"
     ]
    },
    {
     "name": "stdout",
     "output_type": "stream",
     "text": [
      "parsing vcf: /projects/somatic/NCI_SAIC_HIV_Cervical/HTMCP-03-06-02054/hg19a/GSH/A37259_A37187/strelka/59902/bwa/results/passed.somatic.indels.eff.dbSNP_v149.cosmic_v82.clinvar_20170801.annotations.classic.vcf\n",
      "parsing vcf: /projects/somatic/NCI_SAIC_HIV_Cervical/HTMCP-03-06-02057/hg19a/GSH/A37260_A37188/strelka/59926/bwa/results/passed.somatic.snvs.eff.dbSNP_v149.cosmic_v82.clinvar_20170801.annotations.classic.vcf\n"
     ]
    },
    {
     "name": "stderr",
     "output_type": "stream",
     "text": [
      "\n",
      "\n",
      "16it [00:11,  1.44it/s]\u001b[A\u001b[A"
     ]
    },
    {
     "name": "stdout",
     "output_type": "stream",
     "text": [
      "parsing vcf: /projects/somatic/NCI_SAIC_HIV_Cervical/HTMCP-03-06-02057/hg19a/GSH/A37260_A37188/strelka/59926/bwa/results/passed.somatic.indels.eff.dbSNP_v149.cosmic_v82.clinvar_20170801.annotations.classic.vcf\n",
      "parsing vcf: /projects/somatic/NCI_SAIC_HIV_Cervical/HTMCP-03-06-02058/hg19a/GSH/A37261_A37189/strelka/59928/bwa/results/passed.somatic.snvs.eff.dbSNP_v149.cosmic_v82.clinvar_20170801.annotations.classic.vcf\n"
     ]
    },
    {
     "name": "stderr",
     "output_type": "stream",
     "text": [
      "\n",
      "\n",
      "17it [00:15,  1.68s/it]\u001b[A\u001b[A"
     ]
    },
    {
     "name": "stdout",
     "output_type": "stream",
     "text": [
      "parsing vcf: /projects/somatic/NCI_SAIC_HIV_Cervical/HTMCP-03-06-02058/hg19a/GSH/A37261_A37189/strelka/59928/bwa/results/passed.somatic.indels.eff.dbSNP_v149.cosmic_v82.clinvar_20170801.annotations.classic.vcf\n",
      "parsing vcf: /projects/somatic/NCI_SAIC_HIV_Cervical/HTMCP-03-06-02063/hg19a/GSH/A37266_A37194/strelka/59932/bwa/results/passed.somatic.snvs.eff.dbSNP_v149.cosmic_v82.clinvar_20170801.annotations.classic.vcf\n"
     ]
    },
    {
     "name": "stderr",
     "output_type": "stream",
     "text": [
      "\n",
      "\n",
      "18it [00:21,  2.83s/it]\u001b[A\u001b[A"
     ]
    },
    {
     "name": "stdout",
     "output_type": "stream",
     "text": [
      "parsing vcf: /projects/somatic/NCI_SAIC_HIV_Cervical/HTMCP-03-06-02063/hg19a/GSH/A37266_A37194/strelka/59932/bwa/results/passed.somatic.indels.eff.dbSNP_v149.cosmic_v82.clinvar_20170801.annotations.classic.vcf\n",
      "parsing vcf: /projects/somatic/NCI_SAIC_HIV_Cervical/HTMCP-03-06-02068/hg19a/GSH/A37269_A37197/strelka/59934/bwa/results/passed.somatic.snvs.eff.dbSNP_v149.cosmic_v82.clinvar_20170801.annotations.classic.vcf\n"
     ]
    },
    {
     "name": "stderr",
     "output_type": "stream",
     "text": [
      "\n",
      "\n",
      "19it [00:23,  2.53s/it]\u001b[A\u001b[A"
     ]
    },
    {
     "name": "stdout",
     "output_type": "stream",
     "text": [
      "parsing vcf: /projects/somatic/NCI_SAIC_HIV_Cervical/HTMCP-03-06-02068/hg19a/GSH/A37269_A37197/strelka/59934/bwa/results/passed.somatic.indels.eff.dbSNP_v149.cosmic_v82.clinvar_20170801.annotations.classic.vcf\n",
      "parsing vcf: /projects/somatic/NCI_SAIC_HIV_Cervical/HTMCP-03-06-02070/hg19a/GSH/A37270_A37198/strelka/59936/bwa/results/passed.somatic.snvs.eff.dbSNP_v149.cosmic_v82.clinvar_20170801.annotations.classic.vcf\n"
     ]
    },
    {
     "name": "stderr",
     "output_type": "stream",
     "text": [
      "\n",
      "\n",
      "20it [00:23,  2.00s/it]\u001b[A\u001b[A"
     ]
    },
    {
     "name": "stdout",
     "output_type": "stream",
     "text": [
      "parsing vcf: /projects/somatic/NCI_SAIC_HIV_Cervical/HTMCP-03-06-02070/hg19a/GSH/A37270_A37198/strelka/59936/bwa/results/passed.somatic.indels.eff.dbSNP_v149.cosmic_v82.clinvar_20170801.annotations.classic.vcf\n",
      "parsing vcf: /projects/somatic/NCI_SAIC_HIV_Cervical/HTMCP-03-06-02071/hg19a/GSH/A37272_A37200/strelka/59938/bwa/results/passed.somatic.snvs.eff.dbSNP_v149.cosmic_v82.clinvar_20170801.annotations.classic.vcf\n"
     ]
    },
    {
     "name": "stderr",
     "output_type": "stream",
     "text": [
      "\n",
      "\n",
      "21it [00:24,  1.55s/it]\u001b[A\u001b[A"
     ]
    },
    {
     "name": "stdout",
     "output_type": "stream",
     "text": [
      "parsing vcf: /projects/somatic/NCI_SAIC_HIV_Cervical/HTMCP-03-06-02071/hg19a/GSH/A37272_A37200/strelka/59938/bwa/results/passed.somatic.indels.eff.dbSNP_v149.cosmic_v82.clinvar_20170801.annotations.classic.vcf\n",
      "parsing vcf: /projects/somatic/NCI_SAIC_HIV_Cervical/HTMCP-03-06-02074/hg19a/GSH/A37274_A37202/strelka/59939/bwa/results/passed.somatic.snvs.eff.dbSNP_v149.cosmic_v82.clinvar_20170801.annotations.classic.vcf\n"
     ]
    },
    {
     "name": "stderr",
     "output_type": "stream",
     "text": [
      "\n",
      "\n",
      "22it [00:25,  1.33s/it]\u001b[A\u001b[A"
     ]
    },
    {
     "name": "stdout",
     "output_type": "stream",
     "text": [
      "parsing vcf: /projects/somatic/NCI_SAIC_HIV_Cervical/HTMCP-03-06-02074/hg19a/GSH/A37274_A37202/strelka/59939/bwa/results/passed.somatic.indels.eff.dbSNP_v149.cosmic_v82.clinvar_20170801.annotations.classic.vcf\n",
      "parsing vcf: /projects/somatic/NCI_SAIC_HIV_Cervical/HTMCP-03-06-02075/hg19a/GSH/A37275_A37203/strelka/59941/bwa/results/passed.somatic.snvs.eff.dbSNP_v149.cosmic_v82.clinvar_20170801.annotations.classic.vcf\n"
     ]
    },
    {
     "name": "stderr",
     "output_type": "stream",
     "text": [
      "\n",
      "\n",
      "23it [00:26,  1.37s/it]\u001b[A\u001b[A"
     ]
    },
    {
     "name": "stdout",
     "output_type": "stream",
     "text": [
      "parsing vcf: /projects/somatic/NCI_SAIC_HIV_Cervical/HTMCP-03-06-02075/hg19a/GSH/A37275_A37203/strelka/59941/bwa/results/passed.somatic.indels.eff.dbSNP_v149.cosmic_v82.clinvar_20170801.annotations.classic.vcf\n",
      "parsing vcf: /projects/somatic/NCI_SAIC_HIV_Cervical/HTMCP-03-06-02076/hg19a/GSH/A37276_A37204/strelka/59943/bwa/results/passed.somatic.snvs.eff.dbSNP_v149.cosmic_v82.clinvar_20170801.annotations.classic.vcf\n",
      "parsing vcf: /projects/somatic/NCI_SAIC_HIV_Cervical/HTMCP-03-06-02076/hg19a/GSH/A37276_A37204/strelka/59943/bwa/results/passed.somatic.indels.eff.dbSNP_v149.cosmic_v82.clinvar_20170801.annotations.classic.vcf\n"
     ]
    },
    {
     "name": "stderr",
     "output_type": "stream",
     "text": [
      "\n",
      "\n",
      "24it [00:27,  1.20s/it]\u001b[A\u001b[A"
     ]
    },
    {
     "name": "stdout",
     "output_type": "stream",
     "text": [
      "parsing vcf: /projects/somatic/NCI_SAIC_HIV_Cervical/HTMCP-03-06-02089/hg19a/GSH/A37281_A37209/strelka/59947/bwa/results/passed.somatic.snvs.eff.dbSNP_v149.cosmic_v82.clinvar_20170801.annotations.classic.vcf\n"
     ]
    },
    {
     "name": "stderr",
     "output_type": "stream",
     "text": [
      "\n",
      "\n",
      "25it [00:28,  1.15s/it]\u001b[A\u001b[A"
     ]
    },
    {
     "name": "stdout",
     "output_type": "stream",
     "text": [
      "parsing vcf: /projects/somatic/NCI_SAIC_HIV_Cervical/HTMCP-03-06-02089/hg19a/GSH/A37281_A37209/strelka/59947/bwa/results/passed.somatic.indels.eff.dbSNP_v149.cosmic_v82.clinvar_20170801.annotations.classic.vcf\n",
      "parsing vcf: /projects/somatic/NCI_SAIC_HIV_Cervical/HTMCP-03-06-02092/hg19a/GSH/A60755_A37210/strelka/59950/bwa/results/passed.somatic.snvs.eff.dbSNP_v149.cosmic_v82.clinvar_20170801.annotations.classic.vcf\n"
     ]
    },
    {
     "name": "stderr",
     "output_type": "stream",
     "text": [
      "\n",
      "\n",
      "26it [00:29,  1.01s/it]\u001b[A\u001b[A"
     ]
    },
    {
     "name": "stdout",
     "output_type": "stream",
     "text": [
      "parsing vcf: /projects/somatic/NCI_SAIC_HIV_Cervical/HTMCP-03-06-02092/hg19a/GSH/A60755_A37210/strelka/59950/bwa/results/passed.somatic.indels.eff.dbSNP_v149.cosmic_v82.clinvar_20170801.annotations.classic.vcf\n",
      "parsing vcf: /projects/somatic/NCI_SAIC_HIV_Cervical/HTMCP-03-06-02097/hg19a/GSH/A37283_A37211/strelka/59951/bwa/results/passed.somatic.snvs.eff.dbSNP_v149.cosmic_v82.clinvar_20170801.annotations.classic.vcf\n"
     ]
    },
    {
     "name": "stderr",
     "output_type": "stream",
     "text": [
      "\n",
      "\n",
      "27it [00:29,  1.13it/s]\u001b[A\u001b[A"
     ]
    },
    {
     "name": "stdout",
     "output_type": "stream",
     "text": [
      "parsing vcf: /projects/somatic/NCI_SAIC_HIV_Cervical/HTMCP-03-06-02097/hg19a/GSH/A37283_A37211/strelka/59951/bwa/results/passed.somatic.indels.eff.dbSNP_v149.cosmic_v82.clinvar_20170801.annotations.classic.vcf\n",
      "parsing vcf: /projects/somatic/NCI_SAIC_HIV_Cervical/HTMCP-03-06-02098/hg19a/GSH/A37284_A37212/strelka/59953/bwa/results/passed.somatic.snvs.eff.dbSNP_v149.cosmic_v82.clinvar_20170801.annotations.classic.vcf\n",
      "parsing vcf: /projects/somatic/NCI_SAIC_HIV_Cervical/HTMCP-03-06-02098/hg19a/GSH/A37284_A37212/strelka/59953/bwa/results/passed.somatic.indels.eff.dbSNP_v149.cosmic_v82.clinvar_20170801.annotations.classic.vcf\n"
     ]
    },
    {
     "name": "stderr",
     "output_type": "stream",
     "text": [
      "\n",
      "\n",
      "28it [00:30,  1.06it/s]\u001b[A\u001b[A"
     ]
    },
    {
     "name": "stdout",
     "output_type": "stream",
     "text": [
      "parsing vcf: /projects/somatic/NCI_SAIC_HIV_Cervical/HTMCP-03-06-02099/hg19a/GSH/A37285_A37213/strelka/60036/bwa/results/passed.somatic.snvs.eff.dbSNP_v149.cosmic_v82.clinvar_20170801.annotations.classic.vcf\n"
     ]
    },
    {
     "name": "stderr",
     "output_type": "stream",
     "text": [
      "\n",
      "\n",
      "29it [00:31,  1.15it/s]\u001b[A\u001b[A"
     ]
    },
    {
     "name": "stdout",
     "output_type": "stream",
     "text": [
      "parsing vcf: /projects/somatic/NCI_SAIC_HIV_Cervical/HTMCP-03-06-02099/hg19a/GSH/A37285_A37213/strelka/60036/bwa/results/passed.somatic.indels.eff.dbSNP_v149.cosmic_v82.clinvar_20170801.annotations.classic.vcf\n",
      "parsing vcf: /projects/somatic/NCI_SAIC_HIV_Cervical/HTMCP-03-06-02103/hg19a/GSH/A38427_A37939/strelka/60038/bwa/results/passed.somatic.snvs.eff.dbSNP_v149.cosmic_v82.clinvar_20170801.annotations.classic.vcf\n"
     ]
    },
    {
     "name": "stderr",
     "output_type": "stream",
     "text": [
      "\n",
      "\n",
      "30it [00:33,  1.22s/it]\u001b[A\u001b[A"
     ]
    },
    {
     "name": "stdout",
     "output_type": "stream",
     "text": [
      "parsing vcf: /projects/somatic/NCI_SAIC_HIV_Cervical/HTMCP-03-06-02103/hg19a/GSH/A38427_A37939/strelka/60038/bwa/results/passed.somatic.indels.eff.dbSNP_v149.cosmic_v82.clinvar_20170801.annotations.classic.vcf\n",
      "parsing vcf: /projects/somatic/NCI_SAIC_HIV_Cervical/HTMCP-03-06-02108/hg19a/GSH/A38430_A37941/strelka/60040/bwa/results/passed.somatic.snvs.eff.dbSNP_v149.cosmic_v82.clinvar_20170801.annotations.classic.vcf\n"
     ]
    },
    {
     "name": "stderr",
     "output_type": "stream",
     "text": [
      "\n",
      "\n",
      "31it [00:34,  1.07s/it]\u001b[A\u001b[A"
     ]
    },
    {
     "name": "stdout",
     "output_type": "stream",
     "text": [
      "parsing vcf: /projects/somatic/NCI_SAIC_HIV_Cervical/HTMCP-03-06-02108/hg19a/GSH/A38430_A37941/strelka/60040/bwa/results/passed.somatic.indels.eff.dbSNP_v149.cosmic_v82.clinvar_20170801.annotations.classic.vcf\n",
      "parsing vcf: /projects/somatic/NCI_SAIC_HIV_Cervical/HTMCP-03-06-02109/hg19a/GSH/A37263_A37191/strelka/60042/bwa/results/passed.somatic.snvs.eff.dbSNP_v149.cosmic_v82.clinvar_20170801.annotations.classic.vcf\n"
     ]
    },
    {
     "name": "stderr",
     "output_type": "stream",
     "text": [
      "\n",
      "\n",
      "32it [00:35,  1.10s/it]\u001b[A\u001b[A"
     ]
    },
    {
     "name": "stdout",
     "output_type": "stream",
     "text": [
      "parsing vcf: /projects/somatic/NCI_SAIC_HIV_Cervical/HTMCP-03-06-02109/hg19a/GSH/A37263_A37191/strelka/60042/bwa/results/passed.somatic.indels.eff.dbSNP_v149.cosmic_v82.clinvar_20170801.annotations.classic.vcf\n",
      "parsing vcf: /projects/somatic/NCI_SAIC_HIV_Cervical/HTMCP-03-06-02110/hg19a/GSH/A38432_A37943/strelka/60044/bwa/results/passed.somatic.snvs.eff.dbSNP_v149.cosmic_v82.clinvar_20170801.annotations.classic.vcf\n"
     ]
    },
    {
     "name": "stderr",
     "output_type": "stream",
     "text": [
      "\n",
      "\n",
      "33it [00:36,  1.04it/s]\u001b[A\u001b[A"
     ]
    },
    {
     "name": "stdout",
     "output_type": "stream",
     "text": [
      "parsing vcf: /projects/somatic/NCI_SAIC_HIV_Cervical/HTMCP-03-06-02110/hg19a/GSH/A38432_A37943/strelka/60044/bwa/results/passed.somatic.indels.eff.dbSNP_v149.cosmic_v82.clinvar_20170801.annotations.classic.vcf\n",
      "parsing vcf: /projects/somatic/NCI_SAIC_HIV_Cervical/HTMCP-03-06-02113/hg19a/GSH/A38435_A37946/strelka/60046/bwa/results/passed.somatic.snvs.eff.dbSNP_v149.cosmic_v82.clinvar_20170801.annotations.classic.vcf\n"
     ]
    },
    {
     "name": "stderr",
     "output_type": "stream",
     "text": [
      "\n",
      "\n",
      "34it [00:36,  1.15it/s]\u001b[A\u001b[A"
     ]
    },
    {
     "name": "stdout",
     "output_type": "stream",
     "text": [
      "parsing vcf: /projects/somatic/NCI_SAIC_HIV_Cervical/HTMCP-03-06-02113/hg19a/GSH/A38435_A37946/strelka/60046/bwa/results/passed.somatic.indels.eff.dbSNP_v149.cosmic_v82.clinvar_20170801.annotations.classic.vcf\n",
      "parsing vcf: /projects/somatic/NCI_SAIC_HIV_Cervical/HTMCP-03-06-02120/hg19a/GSH/A38437_A37948/strelka/60047/bwa/results/passed.somatic.snvs.eff.dbSNP_v149.cosmic_v82.clinvar_20170801.annotations.classic.vcf\n",
      "parsing vcf: /projects/somatic/NCI_SAIC_HIV_Cervical/HTMCP-03-06-02120/hg19a/GSH/A38437_A37948/strelka/60047/bwa/results/passed.somatic.indels.eff.dbSNP_v149.cosmic_v82.clinvar_20170801.annotations.classic.vcf\n"
     ]
    },
    {
     "name": "stderr",
     "output_type": "stream",
     "text": [
      "\n",
      "\n",
      "35it [00:37,  1.08it/s]\u001b[A\u001b[A"
     ]
    },
    {
     "name": "stdout",
     "output_type": "stream",
     "text": [
      "parsing vcf: /projects/somatic/NCI_SAIC_HIV_Cervical/HTMCP-03-06-02125/hg19a/GSH/A38440_A37951/strelka/60049/bwa/results/passed.somatic.snvs.eff.dbSNP_v149.cosmic_v82.clinvar_20170801.annotations.classic.vcf\n"
     ]
    },
    {
     "name": "stderr",
     "output_type": "stream",
     "text": [
      "\n",
      "\n",
      "36it [00:38,  1.14it/s]\u001b[A\u001b[A"
     ]
    },
    {
     "name": "stdout",
     "output_type": "stream",
     "text": [
      "parsing vcf: /projects/somatic/NCI_SAIC_HIV_Cervical/HTMCP-03-06-02125/hg19a/GSH/A38440_A37951/strelka/60049/bwa/results/passed.somatic.indels.eff.dbSNP_v149.cosmic_v82.clinvar_20170801.annotations.classic.vcf\n",
      "parsing vcf: /projects/somatic/NCI_SAIC_HIV_Cervical/HTMCP-03-06-02128/hg19a/GSH/A38441_A37952/strelka/60051/bwa/results/passed.somatic.snvs.eff.dbSNP_v149.cosmic_v82.clinvar_20170801.annotations.classic.vcf\n"
     ]
    },
    {
     "name": "stderr",
     "output_type": "stream",
     "text": [
      "\n",
      "\n",
      "37it [00:39,  1.19it/s]\u001b[A\u001b[A"
     ]
    },
    {
     "name": "stdout",
     "output_type": "stream",
     "text": [
      "parsing vcf: /projects/somatic/NCI_SAIC_HIV_Cervical/HTMCP-03-06-02128/hg19a/GSH/A38441_A37952/strelka/60051/bwa/results/passed.somatic.indels.eff.dbSNP_v149.cosmic_v82.clinvar_20170801.annotations.classic.vcf\n",
      "parsing vcf: /projects/somatic/NCI_SAIC_HIV_Cervical/HTMCP-03-06-02139/hg19a/GSH/A38431_A37942/strelka/60053/bwa/results/passed.somatic.snvs.eff.dbSNP_v149.cosmic_v82.clinvar_20170801.annotations.classic.vcf\n",
      "parsing vcf: /projects/somatic/NCI_SAIC_HIV_Cervical/HTMCP-03-06-02139/hg19a/GSH/A38431_A37942/strelka/60053/bwa/results/passed.somatic.indels.eff.dbSNP_v149.cosmic_v82.clinvar_20170801.annotations.classic.vcf\n"
     ]
    },
    {
     "name": "stderr",
     "output_type": "stream",
     "text": [
      "\n",
      "\n",
      "38it [00:40,  1.07it/s]\u001b[A\u001b[A"
     ]
    },
    {
     "name": "stdout",
     "output_type": "stream",
     "text": [
      "parsing vcf: /projects/somatic/NCI_SAIC_HIV_Cervical/HTMCP-03-06-02144/hg19a/GSH/A38445_A37956/strelka/60055/bwa/results/passed.somatic.snvs.eff.dbSNP_v149.cosmic_v82.clinvar_20170801.annotations.classic.vcf\n"
     ]
    },
    {
     "name": "stderr",
     "output_type": "stream",
     "text": [
      "\n",
      "\n",
      "39it [00:40,  1.25it/s]\u001b[A\u001b[A"
     ]
    },
    {
     "name": "stdout",
     "output_type": "stream",
     "text": [
      "parsing vcf: /projects/somatic/NCI_SAIC_HIV_Cervical/HTMCP-03-06-02144/hg19a/GSH/A38445_A37956/strelka/60055/bwa/results/passed.somatic.indels.eff.dbSNP_v149.cosmic_v82.clinvar_20170801.annotations.classic.vcf\n",
      "parsing vcf: /projects/somatic/NCI_SAIC_HIV_Cervical/HTMCP-03-06-02145/hg19a/GSH/A38446_A37957/strelka/60057/bwa/results/passed.somatic.snvs.eff.dbSNP_v149.cosmic_v82.clinvar_20170801.annotations.classic.vcf\n"
     ]
    },
    {
     "name": "stderr",
     "output_type": "stream",
     "text": [
      "\n",
      "\n",
      "40it [00:41,  1.28it/s]\u001b[A\u001b[A"
     ]
    },
    {
     "name": "stdout",
     "output_type": "stream",
     "text": [
      "parsing vcf: /projects/somatic/NCI_SAIC_HIV_Cervical/HTMCP-03-06-02145/hg19a/GSH/A38446_A37957/strelka/60057/bwa/results/passed.somatic.indels.eff.dbSNP_v149.cosmic_v82.clinvar_20170801.annotations.classic.vcf\n",
      "parsing vcf: /projects/somatic/NCI_SAIC_HIV_Cervical/HTMCP-03-06-02147/hg19a/GSH/A38447_A37958/strelka/60059/bwa/results/passed.somatic.snvs.eff.dbSNP_v149.cosmic_v82.clinvar_20170801.annotations.classic.vcf\n"
     ]
    },
    {
     "name": "stderr",
     "output_type": "stream",
     "text": [
      "\n",
      "\n",
      "41it [00:42,  1.16it/s]\u001b[A\u001b[A"
     ]
    },
    {
     "name": "stdout",
     "output_type": "stream",
     "text": [
      "parsing vcf: /projects/somatic/NCI_SAIC_HIV_Cervical/HTMCP-03-06-02147/hg19a/GSH/A38447_A37958/strelka/60059/bwa/results/passed.somatic.indels.eff.dbSNP_v149.cosmic_v82.clinvar_20170801.annotations.classic.vcf\n",
      "parsing vcf: /projects/somatic/NCI_SAIC_HIV_Cervical/HTMCP-03-06-02148/hg19a/GSH/A54376_A54481/strelka/60061/bwa/results/passed.somatic.snvs.eff.dbSNP_v149.cosmic_v82.clinvar_20170801.annotations.classic.vcf\n",
      "parsing vcf: /projects/somatic/NCI_SAIC_HIV_Cervical/HTMCP-03-06-02148/hg19a/GSH/A54376_A54481/strelka/60061/bwa/results/passed.somatic.indels.eff.dbSNP_v149.cosmic_v82.clinvar_20170801.annotations.classic.vcf\n"
     ]
    },
    {
     "name": "stderr",
     "output_type": "stream",
     "text": [
      "\n",
      "\n",
      "42it [00:44,  1.05s/it]\u001b[A\u001b[A"
     ]
    },
    {
     "name": "stdout",
     "output_type": "stream",
     "text": [
      "parsing vcf: /projects/somatic/NCI_SAIC_HIV_Cervical/HTMCP-03-06-02149/hg19a/GSH/A52317_A54482/strelka/60062/bwa/results/passed.somatic.snvs.eff.dbSNP_v149.cosmic_v82.clinvar_20170801.annotations.classic.vcf\n",
      "parsing vcf: /projects/somatic/NCI_SAIC_HIV_Cervical/HTMCP-03-06-02149/hg19a/GSH/A52317_A54482/strelka/60062/bwa/results/passed.somatic.indels.eff.dbSNP_v149.cosmic_v82.clinvar_20170801.annotations.classic.vcf\n"
     ]
    },
    {
     "name": "stderr",
     "output_type": "stream",
     "text": [
      "\n",
      "\n",
      "43it [00:45,  1.06s/it]\u001b[A\u001b[A"
     ]
    },
    {
     "name": "stdout",
     "output_type": "stream",
     "text": [
      "parsing vcf: /projects/somatic/NCI_SAIC_HIV_Cervical/HTMCP-03-06-02150/hg19a/GSH/A52318_A54483/strelka/60063/bwa/results/passed.somatic.snvs.eff.dbSNP_v149.cosmic_v82.clinvar_20170801.annotations.classic.vcf\n",
      "parsing vcf: /projects/somatic/NCI_SAIC_HIV_Cervical/HTMCP-03-06-02150/hg19a/GSH/A52318_A54483/strelka/60063/bwa/results/passed.somatic.indels.eff.dbSNP_v149.cosmic_v82.clinvar_20170801.annotations.classic.vcf\n"
     ]
    },
    {
     "name": "stderr",
     "output_type": "stream",
     "text": [
      "\n",
      "\n",
      "44it [00:45,  1.07it/s]\u001b[A\u001b[A"
     ]
    },
    {
     "name": "stdout",
     "output_type": "stream",
     "text": [
      "parsing vcf: /projects/somatic/NCI_SAIC_HIV_Cervical/HTMCP-03-06-02151/hg19a/GSH/A54377_A54484/strelka/60064/bwa/results/passed.somatic.snvs.eff.dbSNP_v149.cosmic_v82.clinvar_20170801.annotations.classic.vcf\n"
     ]
    },
    {
     "name": "stderr",
     "output_type": "stream",
     "text": [
      "\n",
      "\n",
      "45it [00:46,  1.28it/s]\u001b[A\u001b[A"
     ]
    },
    {
     "name": "stdout",
     "output_type": "stream",
     "text": [
      "parsing vcf: /projects/somatic/NCI_SAIC_HIV_Cervical/HTMCP-03-06-02151/hg19a/GSH/A54377_A54484/strelka/60064/bwa/results/passed.somatic.indels.eff.dbSNP_v149.cosmic_v82.clinvar_20170801.annotations.classic.vcf\n",
      "parsing vcf: /projects/somatic/NCI_SAIC_HIV_Cervical/HTMCP-03-06-02152/hg19a/GSH/A54378_A54485/strelka/60065/bwa/results/passed.somatic.snvs.eff.dbSNP_v149.cosmic_v82.clinvar_20170801.annotations.classic.vcf\n",
      "parsing vcf: /projects/somatic/NCI_SAIC_HIV_Cervical/HTMCP-03-06-02152/hg19a/GSH/A54378_A54485/strelka/60065/bwa/results/passed.somatic.indels.eff.dbSNP_v149.cosmic_v82.clinvar_20170801.annotations.classic.vcf\n"
     ]
    },
    {
     "name": "stderr",
     "output_type": "stream",
     "text": [
      "\n",
      "\n",
      "46it [00:47,  1.22it/s]\u001b[A\u001b[A"
     ]
    },
    {
     "name": "stdout",
     "output_type": "stream",
     "text": [
      "parsing vcf: /projects/somatic/NCI_SAIC_HIV_Cervical/HTMCP-03-06-02155/hg19a/GSH/A52319_A54486/strelka/60067/bwa/results/passed.somatic.snvs.eff.dbSNP_v149.cosmic_v82.clinvar_20170801.annotations.classic.vcf\n"
     ]
    },
    {
     "name": "stderr",
     "output_type": "stream",
     "text": [
      "\n",
      "\n",
      "47it [00:48,  1.14it/s]\u001b[A\u001b[A"
     ]
    },
    {
     "name": "stdout",
     "output_type": "stream",
     "text": [
      "parsing vcf: /projects/somatic/NCI_SAIC_HIV_Cervical/HTMCP-03-06-02155/hg19a/GSH/A52319_A54486/strelka/60067/bwa/results/passed.somatic.indels.eff.dbSNP_v149.cosmic_v82.clinvar_20170801.annotations.classic.vcf\n",
      "parsing vcf: /projects/somatic/NCI_SAIC_HIV_Cervical/HTMCP-03-06-02156/hg19a/GSH/A52320_A54487/strelka/60068/bwa/results/passed.somatic.snvs.eff.dbSNP_v149.cosmic_v82.clinvar_20170801.annotations.classic.vcf\n"
     ]
    },
    {
     "name": "stderr",
     "output_type": "stream",
     "text": [
      "\n",
      "\n",
      "48it [00:49,  1.11it/s]\u001b[A\u001b[A"
     ]
    },
    {
     "name": "stdout",
     "output_type": "stream",
     "text": [
      "parsing vcf: /projects/somatic/NCI_SAIC_HIV_Cervical/HTMCP-03-06-02156/hg19a/GSH/A52320_A54487/strelka/60068/bwa/results/passed.somatic.indels.eff.dbSNP_v149.cosmic_v82.clinvar_20170801.annotations.classic.vcf\n",
      "parsing vcf: /projects/somatic/NCI_SAIC_HIV_Cervical/HTMCP-03-06-02170/hg19a/GSH/A54379_A54490/strelka/60070/bwa/results/passed.somatic.snvs.eff.dbSNP_v149.cosmic_v82.clinvar_20170801.annotations.classic.vcf\n"
     ]
    },
    {
     "name": "stderr",
     "output_type": "stream",
     "text": [
      "\n",
      "\n",
      "49it [00:50,  1.01s/it]\u001b[A\u001b[A"
     ]
    },
    {
     "name": "stdout",
     "output_type": "stream",
     "text": [
      "parsing vcf: /projects/somatic/NCI_SAIC_HIV_Cervical/HTMCP-03-06-02170/hg19a/GSH/A54379_A54490/strelka/60070/bwa/results/passed.somatic.indels.eff.dbSNP_v149.cosmic_v82.clinvar_20170801.annotations.classic.vcf\n",
      "parsing vcf: /projects/somatic/NCI_SAIC_HIV_Cervical/HTMCP-03-06-02174/hg19a/GSH/A52323_A54492/strelka/60071/bwa/results/passed.somatic.snvs.eff.dbSNP_v149.cosmic_v82.clinvar_20170801.annotations.classic.vcf\n",
      "parsing vcf: /projects/somatic/NCI_SAIC_HIV_Cervical/HTMCP-03-06-02174/hg19a/GSH/A52323_A54492/strelka/60071/bwa/results/passed.somatic.indels.eff.dbSNP_v149.cosmic_v82.clinvar_20170801.annotations.classic.vcf\n"
     ]
    },
    {
     "name": "stderr",
     "output_type": "stream",
     "text": [
      "\n",
      "\n",
      "50it [00:51,  1.06s/it]\u001b[A\u001b[A"
     ]
    },
    {
     "name": "stdout",
     "output_type": "stream",
     "text": [
      "parsing vcf: /projects/somatic/NCI_SAIC_HIV_Cervical/HTMCP-03-06-02175/hg19a/GSH/A52324_A54494/strelka/60072/bwa/results/passed.somatic.snvs.eff.dbSNP_v149.cosmic_v82.clinvar_20170801.annotations.classic.vcf\n",
      "parsing vcf: /projects/somatic/NCI_SAIC_HIV_Cervical/HTMCP-03-06-02175/hg19a/GSH/A52324_A54494/strelka/60072/bwa/results/passed.somatic.indels.eff.dbSNP_v149.cosmic_v82.clinvar_20170801.annotations.classic.vcf\n"
     ]
    },
    {
     "name": "stderr",
     "output_type": "stream",
     "text": [
      "\n",
      "\n",
      "51it [00:52,  1.09s/it]\u001b[A\u001b[A"
     ]
    },
    {
     "name": "stdout",
     "output_type": "stream",
     "text": [
      "parsing vcf: /projects/somatic/NCI_SAIC_HIV_Cervical/HTMCP-03-06-02176/hg19a/GSH/A52325_A54493/strelka/60073/bwa/results/passed.somatic.snvs.eff.dbSNP_v149.cosmic_v82.clinvar_20170801.annotations.classic.vcf\n",
      "parsing vcf: /projects/somatic/NCI_SAIC_HIV_Cervical/HTMCP-03-06-02176/hg19a/GSH/A52325_A54493/strelka/60073/bwa/results/passed.somatic.indels.eff.dbSNP_v149.cosmic_v82.clinvar_20170801.annotations.classic.vcf\n"
     ]
    },
    {
     "name": "stderr",
     "output_type": "stream",
     "text": [
      "\n",
      "\n",
      "52it [00:54,  1.14s/it]\u001b[A\u001b[A"
     ]
    },
    {
     "name": "stdout",
     "output_type": "stream",
     "text": [
      "parsing vcf: /projects/somatic/NCI_SAIC_HIV_Cervical/HTMCP-03-06-02179/hg19a/GSH/A54381_A54496/strelka/60074/bwa/results/passed.somatic.snvs.eff.dbSNP_v149.cosmic_v82.clinvar_20170801.annotations.classic.vcf\n"
     ]
    },
    {
     "name": "stderr",
     "output_type": "stream",
     "text": [
      "\n",
      "\n",
      "53it [00:55,  1.08s/it]\u001b[A\u001b[A"
     ]
    },
    {
     "name": "stdout",
     "output_type": "stream",
     "text": [
      "parsing vcf: /projects/somatic/NCI_SAIC_HIV_Cervical/HTMCP-03-06-02179/hg19a/GSH/A54381_A54496/strelka/60074/bwa/results/passed.somatic.indels.eff.dbSNP_v149.cosmic_v82.clinvar_20170801.annotations.classic.vcf\n",
      "parsing vcf: /projects/somatic/NCI_SAIC_HIV_Cervical/HTMCP-03-06-02180/hg19a/GSH/A52327_A54497/strelka/60075/bwa/results/passed.somatic.snvs.eff.dbSNP_v149.cosmic_v82.clinvar_20170801.annotations.classic.vcf\n",
      "parsing vcf: /projects/somatic/NCI_SAIC_HIV_Cervical/HTMCP-03-06-02180/hg19a/GSH/A52327_A54497/strelka/60075/bwa/results/passed.somatic.indels.eff.dbSNP_v149.cosmic_v82.clinvar_20170801.annotations.classic.vcf\n"
     ]
    },
    {
     "name": "stderr",
     "output_type": "stream",
     "text": [
      "\n",
      "\n",
      "54it [00:55,  1.04s/it]\u001b[A\u001b[A"
     ]
    },
    {
     "name": "stdout",
     "output_type": "stream",
     "text": [
      "parsing vcf: /projects/somatic/NCI_SAIC_HIV_Cervical/HTMCP-03-06-02182/hg19a/GSH/A62911_A61302/strelka/60076/bwa/results/passed.somatic.snvs.eff.dbSNP_v149.cosmic_v82.clinvar_20170801.annotations.classic.vcf\n",
      "parsing vcf: /projects/somatic/NCI_SAIC_HIV_Cervical/HTMCP-03-06-02182/hg19a/GSH/A62911_A61302/strelka/60076/bwa/results/passed.somatic.indels.eff.dbSNP_v149.cosmic_v82.clinvar_20170801.annotations.classic.vcf\n"
     ]
    },
    {
     "name": "stderr",
     "output_type": "stream",
     "text": [
      "\n",
      "\n",
      "55it [00:56,  1.05it/s]\u001b[A\u001b[A"
     ]
    },
    {
     "name": "stdout",
     "output_type": "stream",
     "text": [
      "parsing vcf: /projects/somatic/NCI_SAIC_HIV_Cervical/HTMCP-03-06-02185/hg19a/GSH/A52328_A54498/strelka/60077/bwa/results/passed.somatic.snvs.eff.dbSNP_v149.cosmic_v82.clinvar_20170801.annotations.classic.vcf\n",
      "parsing vcf: /projects/somatic/NCI_SAIC_HIV_Cervical/HTMCP-03-06-02185/hg19a/GSH/A52328_A54498/strelka/60077/bwa/results/passed.somatic.indels.eff.dbSNP_v149.cosmic_v82.clinvar_20170801.annotations.classic.vcf\n"
     ]
    },
    {
     "name": "stderr",
     "output_type": "stream",
     "text": [
      "\n",
      "\n",
      "56it [00:58,  1.34s/it]\u001b[A\u001b[A"
     ]
    },
    {
     "name": "stdout",
     "output_type": "stream",
     "text": [
      "parsing vcf: /projects/somatic/NCI_SAIC_HIV_Cervical/HTMCP-03-06-02194/hg19a/GSH/A52333_A54503/strelka/60078/bwa/results/passed.somatic.snvs.eff.dbSNP_v149.cosmic_v82.clinvar_20170801.annotations.classic.vcf\n",
      "parsing vcf: /projects/somatic/NCI_SAIC_HIV_Cervical/HTMCP-03-06-02194/hg19a/GSH/A52333_A54503/strelka/60078/bwa/results/passed.somatic.indels.eff.dbSNP_v149.cosmic_v82.clinvar_20170801.annotations.classic.vcf\n"
     ]
    },
    {
     "name": "stderr",
     "output_type": "stream",
     "text": [
      "\n",
      "\n",
      "57it [01:00,  1.26s/it]\u001b[A\u001b[A"
     ]
    },
    {
     "name": "stdout",
     "output_type": "stream",
     "text": [
      "parsing vcf: /projects/somatic/NCI_SAIC_HIV_Cervical/HTMCP-03-06-02195/hg19a/GSH/A57084_A54504/strelka/60079/bwa/results/passed.somatic.snvs.eff.dbSNP_v149.cosmic_v82.clinvar_20170801.annotations.classic.vcf\n",
      "parsing vcf: /projects/somatic/NCI_SAIC_HIV_Cervical/HTMCP-03-06-02195/hg19a/GSH/A57084_A54504/strelka/60079/bwa/results/passed.somatic.indels.eff.dbSNP_v149.cosmic_v82.clinvar_20170801.annotations.classic.vcf\n"
     ]
    },
    {
     "name": "stderr",
     "output_type": "stream",
     "text": [
      "\n",
      "\n",
      "58it [01:00,  1.03s/it]\u001b[A\u001b[A"
     ]
    },
    {
     "name": "stdout",
     "output_type": "stream",
     "text": [
      "parsing vcf: /projects/somatic/NCI_SAIC_HIV_Cervical/HTMCP-03-06-02196/hg19a/GSH/A52334_A54505/strelka/60080/bwa/results/passed.somatic.snvs.eff.dbSNP_v149.cosmic_v82.clinvar_20170801.annotations.classic.vcf\n",
      "parsing vcf: /projects/somatic/NCI_SAIC_HIV_Cervical/HTMCP-03-06-02196/hg19a/GSH/A52334_A54505/strelka/60080/bwa/results/passed.somatic.indels.eff.dbSNP_v149.cosmic_v82.clinvar_20170801.annotations.classic.vcf\n"
     ]
    },
    {
     "name": "stderr",
     "output_type": "stream",
     "text": [
      "\n",
      "\n",
      "59it [01:01,  1.01s/it]\u001b[A\u001b[A"
     ]
    },
    {
     "name": "stdout",
     "output_type": "stream",
     "text": [
      "parsing vcf: /projects/somatic/NCI_SAIC_HIV_Cervical/HTMCP-03-06-02197/hg19a/GSH/A62912_A61303/strelka/60081/bwa/results/passed.somatic.snvs.eff.dbSNP_v149.cosmic_v82.clinvar_20170801.annotations.classic.vcf\n",
      "parsing vcf: /projects/somatic/NCI_SAIC_HIV_Cervical/HTMCP-03-06-02197/hg19a/GSH/A62912_A61303/strelka/60081/bwa/results/passed.somatic.indels.eff.dbSNP_v149.cosmic_v82.clinvar_20170801.annotations.classic.vcf\n"
     ]
    },
    {
     "name": "stderr",
     "output_type": "stream",
     "text": [
      "\n",
      "\n",
      "60it [01:02,  1.08it/s]\u001b[A\u001b[A"
     ]
    },
    {
     "name": "stdout",
     "output_type": "stream",
     "text": [
      "parsing vcf: /projects/somatic/NCI_SAIC_HIV_Cervical/HTMCP-03-06-02202/hg19a/GSH/A57085_A54506/strelka/60082/bwa/results/passed.somatic.snvs.eff.dbSNP_v149.cosmic_v82.clinvar_20170801.annotations.classic.vcf\n",
      "parsing vcf: /projects/somatic/NCI_SAIC_HIV_Cervical/HTMCP-03-06-02202/hg19a/GSH/A57085_A54506/strelka/60082/bwa/results/passed.somatic.indels.eff.dbSNP_v149.cosmic_v82.clinvar_20170801.annotations.classic.vcf\n"
     ]
    },
    {
     "name": "stderr",
     "output_type": "stream",
     "text": [
      "\n",
      "\n",
      "61it [01:03,  1.12it/s]\u001b[A\u001b[A"
     ]
    },
    {
     "name": "stdout",
     "output_type": "stream",
     "text": [
      "parsing vcf: /projects/somatic/NCI_SAIC_HIV_Cervical/HTMCP-03-06-02203/hg19a/GSH/A52336_A54507/strelka/60083/bwa/results/passed.somatic.snvs.eff.dbSNP_v149.cosmic_v82.clinvar_20170801.annotations.classic.vcf\n",
      "parsing vcf: /projects/somatic/NCI_SAIC_HIV_Cervical/HTMCP-03-06-02203/hg19a/GSH/A52336_A54507/strelka/60083/bwa/results/passed.somatic.indels.eff.dbSNP_v149.cosmic_v82.clinvar_20170801.annotations.classic.vcf\n"
     ]
    },
    {
     "name": "stderr",
     "output_type": "stream",
     "text": [
      "\n",
      "\n",
      "62it [01:04,  1.10s/it]\u001b[A\u001b[A"
     ]
    },
    {
     "name": "stdout",
     "output_type": "stream",
     "text": [
      "parsing vcf: /projects/somatic/NCI_SAIC_HIV_Cervical/HTMCP-03-06-02204/hg19a/GSH/A57086_A54508/strelka/60084/bwa/results/passed.somatic.snvs.eff.dbSNP_v149.cosmic_v82.clinvar_20170801.annotations.classic.vcf\n",
      "parsing vcf: /projects/somatic/NCI_SAIC_HIV_Cervical/HTMCP-03-06-02204/hg19a/GSH/A57086_A54508/strelka/60084/bwa/results/passed.somatic.indels.eff.dbSNP_v149.cosmic_v82.clinvar_20170801.annotations.classic.vcf\n"
     ]
    },
    {
     "name": "stderr",
     "output_type": "stream",
     "text": [
      "\n",
      "\n",
      "63it [01:05,  1.02it/s]\u001b[A\u001b[A"
     ]
    },
    {
     "name": "stdout",
     "output_type": "stream",
     "text": [
      "parsing vcf: /projects/somatic/NCI_SAIC_HIV_Cervical/HTMCP-03-06-02205/hg19a/GSH/A54385_A54509/strelka/60085/bwa/results/passed.somatic.snvs.eff.dbSNP_v149.cosmic_v82.clinvar_20170801.annotations.classic.vcf\n",
      "parsing vcf: /projects/somatic/NCI_SAIC_HIV_Cervical/HTMCP-03-06-02205/hg19a/GSH/A54385_A54509/strelka/60085/bwa/results/passed.somatic.indels.eff.dbSNP_v149.cosmic_v82.clinvar_20170801.annotations.classic.vcf\n"
     ]
    },
    {
     "name": "stderr",
     "output_type": "stream",
     "text": [
      "\n",
      "\n",
      "64it [01:06,  1.04it/s]\u001b[A\u001b[A"
     ]
    },
    {
     "name": "stdout",
     "output_type": "stream",
     "text": [
      "parsing vcf: /projects/somatic/NCI_SAIC_HIV_Cervical/HTMCP-03-06-02209/hg19a/GSH/A52338_A54511/strelka/60086/bwa/results/passed.somatic.snvs.eff.dbSNP_v149.cosmic_v82.clinvar_20170801.annotations.classic.vcf\n",
      "parsing vcf: /projects/somatic/NCI_SAIC_HIV_Cervical/HTMCP-03-06-02209/hg19a/GSH/A52338_A54511/strelka/60086/bwa/results/passed.somatic.indels.eff.dbSNP_v149.cosmic_v82.clinvar_20170801.annotations.classic.vcf\n"
     ]
    },
    {
     "name": "stderr",
     "output_type": "stream",
     "text": [
      "\n",
      "\n",
      "65it [01:07,  1.01it/s]\u001b[A\u001b[A"
     ]
    },
    {
     "name": "stdout",
     "output_type": "stream",
     "text": [
      "parsing vcf: /projects/somatic/NCI_SAIC_HIV_Cervical/HTMCP-03-06-02210/hg19a/GSH/A52339_A54512/strelka/60087/bwa/results/passed.somatic.snvs.eff.dbSNP_v149.cosmic_v82.clinvar_20170801.annotations.classic.vcf\n",
      "parsing vcf: /projects/somatic/NCI_SAIC_HIV_Cervical/HTMCP-03-06-02210/hg19a/GSH/A52339_A54512/strelka/60087/bwa/results/passed.somatic.indels.eff.dbSNP_v149.cosmic_v82.clinvar_20170801.annotations.classic.vcf\n"
     ]
    },
    {
     "name": "stderr",
     "output_type": "stream",
     "text": [
      "\n",
      "\n",
      "66it [01:09,  1.24s/it]\u001b[A\u001b[A"
     ]
    },
    {
     "name": "stdout",
     "output_type": "stream",
     "text": [
      "parsing vcf: /projects/somatic/NCI_SAIC_HIV_Cervical/HTMCP-03-06-02213/hg19a/GSH/A54387_A54514/strelka/60088/bwa/results/passed.somatic.snvs.eff.dbSNP_v149.cosmic_v82.clinvar_20170801.annotations.classic.vcf\n"
     ]
    },
    {
     "name": "stderr",
     "output_type": "stream",
     "text": [
      "\n",
      "\n"
     ]
    },
    {
     "name": "stdout",
     "output_type": "stream",
     "text": [
      "parsing vcf: /projects/somatic/NCI_SAIC_HIV_Cervical/HTMCP-03-06-02213/hg19a/GSH/A54387_A54514/strelka/60088/bwa/results/passed.somatic.indels.eff.dbSNP_v149.cosmic_v82.clinvar_20170801.annotations.classic.vcf\n"
     ]
    },
    {
     "name": "stderr",
     "output_type": "stream",
     "text": [
      "67it [01:09,  1.10s/it]\u001b[A\u001b[A"
     ]
    },
    {
     "name": "stdout",
     "output_type": "stream",
     "text": [
      "parsing vcf: /projects/somatic/NCI_SAIC_HIV_Cervical/HTMCP-03-06-02214/hg19a/GSH/A52340_A54515/strelka/60089/bwa/results/passed.somatic.snvs.eff.dbSNP_v149.cosmic_v82.clinvar_20170801.annotations.classic.vcf\n",
      "parsing vcf: /projects/somatic/NCI_SAIC_HIV_Cervical/HTMCP-03-06-02214/hg19a/GSH/A52340_A54515/strelka/60089/bwa/results/passed.somatic.indels.eff.dbSNP_v149.cosmic_v82.clinvar_20170801.annotations.classic.vcf\n"
     ]
    },
    {
     "name": "stderr",
     "output_type": "stream",
     "text": [
      "\n",
      "\n",
      "68it [01:13,  1.89s/it]\u001b[A\u001b[A"
     ]
    },
    {
     "name": "stdout",
     "output_type": "stream",
     "text": [
      "parsing vcf: /projects/somatic/NCI_SAIC_HIV_Cervical/HTMCP-03-06-02215/hg19a/GSH/A52341_A54516/strelka/60090/bwa/results/passed.somatic.snvs.eff.dbSNP_v149.cosmic_v82.clinvar_20170801.annotations.classic.vcf\n",
      "parsing vcf: /projects/somatic/NCI_SAIC_HIV_Cervical/HTMCP-03-06-02215/hg19a/GSH/A52341_A54516/strelka/60090/bwa/results/passed.somatic.indels.eff.dbSNP_v149.cosmic_v82.clinvar_20170801.annotations.classic.vcf\n"
     ]
    },
    {
     "name": "stderr",
     "output_type": "stream",
     "text": [
      "\n",
      "\n",
      "69it [01:14,  1.66s/it]\u001b[A\u001b[A"
     ]
    },
    {
     "name": "stdout",
     "output_type": "stream",
     "text": [
      "parsing vcf: /projects/somatic/NCI_SAIC_HIV_Cervical/HTMCP-03-06-02216/hg19a/GSH/A54388_A54517/strelka/60091/bwa/results/passed.somatic.snvs.eff.dbSNP_v149.cosmic_v82.clinvar_20170801.annotations.classic.vcf\n",
      "parsing vcf: /projects/somatic/NCI_SAIC_HIV_Cervical/HTMCP-03-06-02216/hg19a/GSH/A54388_A54517/strelka/60091/bwa/results/passed.somatic.indels.eff.dbSNP_v149.cosmic_v82.clinvar_20170801.annotations.classic.vcf\n"
     ]
    },
    {
     "name": "stderr",
     "output_type": "stream",
     "text": [
      "\n",
      "\n",
      "70it [01:15,  1.34s/it]\u001b[A\u001b[A"
     ]
    },
    {
     "name": "stdout",
     "output_type": "stream",
     "text": [
      "parsing vcf: /projects/somatic/NCI_SAIC_HIV_Cervical/HTMCP-03-06-02217/hg19a/GSH/A57088_A56469/strelka/60092/bwa/results/passed.somatic.snvs.eff.dbSNP_v149.cosmic_v82.clinvar_20170801.annotations.classic.vcf\n",
      "parsing vcf: /projects/somatic/NCI_SAIC_HIV_Cervical/HTMCP-03-06-02217/hg19a/GSH/A57088_A56469/strelka/60092/bwa/results/passed.somatic.indels.eff.dbSNP_v149.cosmic_v82.clinvar_20170801.annotations.classic.vcf\n"
     ]
    },
    {
     "name": "stderr",
     "output_type": "stream",
     "text": [
      "\n",
      "\n",
      "71it [01:16,  1.18s/it]\u001b[A\u001b[A"
     ]
    },
    {
     "name": "stdout",
     "output_type": "stream",
     "text": [
      "parsing vcf: /projects/somatic/NCI_SAIC_HIV_Cervical/HTMCP-03-06-02219/hg19a/GSH/A57089_A56470/strelka/60093/bwa/results/passed.somatic.snvs.eff.dbSNP_v149.cosmic_v82.clinvar_20170801.annotations.classic.vcf\n",
      "parsing vcf: /projects/somatic/NCI_SAIC_HIV_Cervical/HTMCP-03-06-02219/hg19a/GSH/A57089_A56470/strelka/60093/bwa/results/passed.somatic.indels.eff.dbSNP_v149.cosmic_v82.clinvar_20170801.annotations.classic.vcf\n"
     ]
    },
    {
     "name": "stderr",
     "output_type": "stream",
     "text": [
      "\n",
      "\n",
      "72it [01:17,  1.19s/it]\u001b[A\u001b[A"
     ]
    },
    {
     "name": "stdout",
     "output_type": "stream",
     "text": [
      "parsing vcf: /projects/somatic/NCI_SAIC_HIV_Cervical/HTMCP-03-06-02222/hg19a/GSH/A68231_A66439/strelka/60094/bwa/results/passed.somatic.snvs.eff.dbSNP_v149.cosmic_v82.clinvar_20170801.annotations.classic.vcf\n",
      "parsing vcf: /projects/somatic/NCI_SAIC_HIV_Cervical/HTMCP-03-06-02222/hg19a/GSH/A68231_A66439/strelka/60094/bwa/results/passed.somatic.indels.eff.dbSNP_v149.cosmic_v82.clinvar_20170801.annotations.classic.vcf\n"
     ]
    },
    {
     "name": "stderr",
     "output_type": "stream",
     "text": [
      "\n",
      "\n",
      "73it [01:18,  1.15s/it]\u001b[A\u001b[A"
     ]
    },
    {
     "name": "stdout",
     "output_type": "stream",
     "text": [
      "parsing vcf: /projects/somatic/NCI_SAIC_HIV_Cervical/HTMCP-03-06-02225/hg19a/GSH/A57091_A56492/strelka/60095/bwa/results/passed.somatic.snvs.eff.dbSNP_v149.cosmic_v82.clinvar_20170801.annotations.classic.vcf\n",
      "parsing vcf: /projects/somatic/NCI_SAIC_HIV_Cervical/HTMCP-03-06-02225/hg19a/GSH/A57091_A56492/strelka/60095/bwa/results/passed.somatic.indels.eff.dbSNP_v149.cosmic_v82.clinvar_20170801.annotations.classic.vcf\n"
     ]
    },
    {
     "name": "stderr",
     "output_type": "stream",
     "text": [
      "\n",
      "\n",
      "74it [01:19,  1.06s/it]\u001b[A\u001b[A"
     ]
    },
    {
     "name": "stdout",
     "output_type": "stream",
     "text": [
      "parsing vcf: /projects/somatic/NCI_SAIC_HIV_Cervical/HTMCP-03-06-02230/hg19a/GSH/A57092_A56493/strelka/60096/bwa/results/passed.somatic.snvs.eff.dbSNP_v149.cosmic_v82.clinvar_20170801.annotations.classic.vcf\n",
      "parsing vcf: /projects/somatic/NCI_SAIC_HIV_Cervical/HTMCP-03-06-02230/hg19a/GSH/A57092_A56493/strelka/60096/bwa/results/passed.somatic.indels.eff.dbSNP_v149.cosmic_v82.clinvar_20170801.annotations.classic.vcf\n"
     ]
    },
    {
     "name": "stderr",
     "output_type": "stream",
     "text": [
      "\n",
      "\n",
      "75it [01:20,  1.00it/s]\u001b[A\u001b[A"
     ]
    },
    {
     "name": "stdout",
     "output_type": "stream",
     "text": [
      "parsing vcf: /projects/somatic/NCI_SAIC_HIV_Cervical/HTMCP-03-06-02235/hg19a/GSH/A57093_A56621/strelka/60100/bwa/results/passed.somatic.snvs.eff.dbSNP_v149.cosmic_v82.clinvar_20170801.annotations.classic.vcf\n",
      "parsing vcf: /projects/somatic/NCI_SAIC_HIV_Cervical/HTMCP-03-06-02235/hg19a/GSH/A57093_A56621/strelka/60100/bwa/results/passed.somatic.indels.eff.dbSNP_v149.cosmic_v82.clinvar_20170801.annotations.classic.vcf\n"
     ]
    },
    {
     "name": "stderr",
     "output_type": "stream",
     "text": [
      "\n",
      "\n",
      "76it [01:20,  1.11it/s]\u001b[A\u001b[A"
     ]
    },
    {
     "name": "stdout",
     "output_type": "stream",
     "text": [
      "parsing vcf: /projects/somatic/NCI_SAIC_HIV_Cervical/HTMCP-03-06-02238/hg19a/GSH/A57094_A56622/strelka/60101/bwa/results/passed.somatic.snvs.eff.dbSNP_v149.cosmic_v82.clinvar_20170801.annotations.classic.vcf\n",
      "parsing vcf: /projects/somatic/NCI_SAIC_HIV_Cervical/HTMCP-03-06-02238/hg19a/GSH/A57094_A56622/strelka/60101/bwa/results/passed.somatic.indels.eff.dbSNP_v149.cosmic_v82.clinvar_20170801.annotations.classic.vcf\n"
     ]
    },
    {
     "name": "stderr",
     "output_type": "stream",
     "text": [
      "\n",
      "\n",
      "77it [01:22,  1.00it/s]\u001b[A\u001b[A"
     ]
    },
    {
     "name": "stdout",
     "output_type": "stream",
     "text": [
      "parsing vcf: /projects/somatic/NCI_SAIC_HIV_Cervical/HTMCP-03-06-02239/hg19a/GSH/A57095_A56623/strelka/60102/bwa/results/passed.somatic.snvs.eff.dbSNP_v149.cosmic_v82.clinvar_20170801.annotations.classic.vcf\n",
      "parsing vcf: /projects/somatic/NCI_SAIC_HIV_Cervical/HTMCP-03-06-02239/hg19a/GSH/A57095_A56623/strelka/60102/bwa/results/passed.somatic.indels.eff.dbSNP_v149.cosmic_v82.clinvar_20170801.annotations.classic.vcf\n"
     ]
    },
    {
     "name": "stderr",
     "output_type": "stream",
     "text": [
      "\n",
      "\n",
      "78it [01:22,  1.07it/s]\u001b[A\u001b[A"
     ]
    },
    {
     "name": "stdout",
     "output_type": "stream",
     "text": [
      "parsing vcf: /projects/somatic/NCI_SAIC_HIV_Cervical/HTMCP-03-06-02240/hg19a/GSH/A57096_A56624/strelka/60103/bwa/results/passed.somatic.snvs.eff.dbSNP_v149.cosmic_v82.clinvar_20170801.annotations.classic.vcf\n",
      "parsing vcf: /projects/somatic/NCI_SAIC_HIV_Cervical/HTMCP-03-06-02240/hg19a/GSH/A57096_A56624/strelka/60103/bwa/results/passed.somatic.indels.eff.dbSNP_v149.cosmic_v82.clinvar_20170801.annotations.classic.vcf\n"
     ]
    },
    {
     "name": "stderr",
     "output_type": "stream",
     "text": [
      "\n",
      "\n",
      "79it [01:23,  1.00s/it]\u001b[A\u001b[A"
     ]
    },
    {
     "name": "stdout",
     "output_type": "stream",
     "text": [
      "parsing vcf: /projects/somatic/NCI_SAIC_HIV_Cervical/HTMCP-03-06-02242/hg19a/GSH/A57097_A56625/strelka/60104/bwa/results/passed.somatic.snvs.eff.dbSNP_v149.cosmic_v82.clinvar_20170801.annotations.classic.vcf\n",
      "parsing vcf: /projects/somatic/NCI_SAIC_HIV_Cervical/HTMCP-03-06-02242/hg19a/GSH/A57097_A56625/strelka/60104/bwa/results/passed.somatic.indels.eff.dbSNP_v149.cosmic_v82.clinvar_20170801.annotations.classic.vcf\n"
     ]
    },
    {
     "name": "stderr",
     "output_type": "stream",
     "text": [
      "\n",
      "\n",
      "80it [01:25,  1.08s/it]\u001b[A\u001b[A"
     ]
    },
    {
     "name": "stdout",
     "output_type": "stream",
     "text": [
      "parsing vcf: /projects/somatic/NCI_SAIC_HIV_Cervical/HTMCP-03-06-02256/hg19a/GSH/A68232_A66440/strelka/60105/bwa/results/passed.somatic.snvs.eff.dbSNP_v149.cosmic_v82.clinvar_20170801.annotations.classic.vcf\n",
      "parsing vcf: /projects/somatic/NCI_SAIC_HIV_Cervical/HTMCP-03-06-02256/hg19a/GSH/A68232_A66440/strelka/60105/bwa/results/passed.somatic.indels.eff.dbSNP_v149.cosmic_v82.clinvar_20170801.annotations.classic.vcf\n"
     ]
    },
    {
     "name": "stderr",
     "output_type": "stream",
     "text": [
      "\n",
      "\n",
      "81it [01:26,  1.10s/it]\u001b[A\u001b[A"
     ]
    },
    {
     "name": "stdout",
     "output_type": "stream",
     "text": [
      "parsing vcf: /projects/somatic/NCI_SAIC_HIV_Cervical/HTMCP-03-06-02259/hg19a/GSH/A68233_A66441/strelka/60106/bwa/results/passed.somatic.snvs.eff.dbSNP_v149.cosmic_v82.clinvar_20170801.annotations.classic.vcf\n",
      "parsing vcf: /projects/somatic/NCI_SAIC_HIV_Cervical/HTMCP-03-06-02259/hg19a/GSH/A68233_A66441/strelka/60106/bwa/results/passed.somatic.indels.eff.dbSNP_v149.cosmic_v82.clinvar_20170801.annotations.classic.vcf\n"
     ]
    },
    {
     "name": "stderr",
     "output_type": "stream",
     "text": [
      "\n",
      "\n",
      "82it [01:27,  1.11s/it]\u001b[A\u001b[A"
     ]
    },
    {
     "name": "stdout",
     "output_type": "stream",
     "text": [
      "parsing vcf: /projects/somatic/NCI_SAIC_HIV_Cervical/HTMCP-03-06-02260/hg19a/GSH/A68234_A66442/strelka/60107/bwa/results/passed.somatic.snvs.eff.dbSNP_v149.cosmic_v82.clinvar_20170801.annotations.classic.vcf\n",
      "parsing vcf: /projects/somatic/NCI_SAIC_HIV_Cervical/HTMCP-03-06-02260/hg19a/GSH/A68234_A66442/strelka/60107/bwa/results/passed.somatic.indels.eff.dbSNP_v149.cosmic_v82.clinvar_20170801.annotations.classic.vcf\n"
     ]
    },
    {
     "name": "stderr",
     "output_type": "stream",
     "text": [
      "\n",
      "\n",
      "83it [01:30,  1.74s/it]\u001b[A\u001b[A"
     ]
    },
    {
     "name": "stdout",
     "output_type": "stream",
     "text": [
      "parsing vcf: /projects/somatic/NCI_SAIC_HIV_Cervical/HTMCP-03-06-02261/hg19a/GSH/A68235_A66443/strelka/60108/bwa/results/passed.somatic.snvs.eff.dbSNP_v149.cosmic_v82.clinvar_20170801.annotations.classic.vcf\n",
      "parsing vcf: /projects/somatic/NCI_SAIC_HIV_Cervical/HTMCP-03-06-02261/hg19a/GSH/A68235_A66443/strelka/60108/bwa/results/passed.somatic.indels.eff.dbSNP_v149.cosmic_v82.clinvar_20170801.annotations.classic.vcf\n"
     ]
    },
    {
     "name": "stderr",
     "output_type": "stream",
     "text": [
      "\n",
      "\n",
      "84it [01:31,  1.56s/it]\u001b[A\u001b[A"
     ]
    },
    {
     "name": "stdout",
     "output_type": "stream",
     "text": [
      "parsing vcf: /projects/somatic/NCI_SAIC_HIV_Cervical/HTMCP-03-06-02262/hg19a/GSH/A68236_A66444/strelka/60109/bwa/results/passed.somatic.snvs.eff.dbSNP_v149.cosmic_v82.clinvar_20170801.annotations.classic.vcf\n",
      "parsing vcf: /projects/somatic/NCI_SAIC_HIV_Cervical/HTMCP-03-06-02262/hg19a/GSH/A68236_A66444/strelka/60109/bwa/results/passed.somatic.indels.eff.dbSNP_v149.cosmic_v82.clinvar_20170801.annotations.classic.vcf\n"
     ]
    },
    {
     "name": "stderr",
     "output_type": "stream",
     "text": [
      "\n",
      "\n",
      "85it [01:33,  1.53s/it]\u001b[A\u001b[A"
     ]
    },
    {
     "name": "stdout",
     "output_type": "stream",
     "text": [
      "parsing vcf: /projects/somatic/NCI_SAIC_HIV_Cervical/HTMCP-03-06-02264/hg19a/GSH/A68237_A66445/strelka/60110/bwa/results/passed.somatic.snvs.eff.dbSNP_v149.cosmic_v82.clinvar_20170801.annotations.classic.vcf\n",
      "parsing vcf: /projects/somatic/NCI_SAIC_HIV_Cervical/HTMCP-03-06-02264/hg19a/GSH/A68237_A66445/strelka/60110/bwa/results/passed.somatic.indels.eff.dbSNP_v149.cosmic_v82.clinvar_20170801.annotations.classic.vcf\n"
     ]
    },
    {
     "name": "stderr",
     "output_type": "stream",
     "text": [
      "\n",
      "\n",
      "86it [01:34,  1.35s/it]\u001b[A\u001b[A"
     ]
    },
    {
     "name": "stdout",
     "output_type": "stream",
     "text": [
      "parsing vcf: /projects/somatic/NCI_SAIC_HIV_Cervical/HTMCP-03-06-02266/hg19a/GSH/A68238_A66446/strelka/60111/bwa/results/passed.somatic.snvs.eff.dbSNP_v149.cosmic_v82.clinvar_20170801.annotations.classic.vcf\n",
      "parsing vcf: /projects/somatic/NCI_SAIC_HIV_Cervical/HTMCP-03-06-02266/hg19a/GSH/A68238_A66446/strelka/60111/bwa/results/passed.somatic.indels.eff.dbSNP_v149.cosmic_v82.clinvar_20170801.annotations.classic.vcf\n"
     ]
    },
    {
     "name": "stderr",
     "output_type": "stream",
     "text": [
      "\n",
      "\n",
      "87it [01:35,  1.32s/it]\u001b[A\u001b[A"
     ]
    },
    {
     "name": "stdout",
     "output_type": "stream",
     "text": [
      "parsing vcf: /projects/somatic/NCI_SAIC_HIV_Cervical/HTMCP-03-06-02267/hg19a/GSH/A68239_A66447/strelka/60112/bwa/results/passed.somatic.snvs.eff.dbSNP_v149.cosmic_v82.clinvar_20170801.annotations.classic.vcf\n",
      "parsing vcf: /projects/somatic/NCI_SAIC_HIV_Cervical/HTMCP-03-06-02267/hg19a/GSH/A68239_A66447/strelka/60112/bwa/results/passed.somatic.indels.eff.dbSNP_v149.cosmic_v82.clinvar_20170801.annotations.classic.vcf\n"
     ]
    },
    {
     "name": "stderr",
     "output_type": "stream",
     "text": [
      "\n",
      "\n",
      "88it [01:36,  1.17s/it]\u001b[A\u001b[A"
     ]
    },
    {
     "name": "stdout",
     "output_type": "stream",
     "text": [
      "parsing vcf: /projects/somatic/NCI_SAIC_HIV_Cervical/HTMCP-03-06-02268/hg19a/GSH/A68240_A66448/strelka/60113/bwa/results/passed.somatic.snvs.eff.dbSNP_v149.cosmic_v82.clinvar_20170801.annotations.classic.vcf\n",
      "parsing vcf: /projects/somatic/NCI_SAIC_HIV_Cervical/HTMCP-03-06-02268/hg19a/GSH/A68240_A66448/strelka/60113/bwa/results/passed.somatic.indels.eff.dbSNP_v149.cosmic_v82.clinvar_20170801.annotations.classic.vcf\n"
     ]
    },
    {
     "name": "stderr",
     "output_type": "stream",
     "text": [
      "\n",
      "\n",
      "89it [01:37,  1.17s/it]\u001b[A\u001b[A"
     ]
    },
    {
     "name": "stdout",
     "output_type": "stream",
     "text": [
      "parsing vcf: /projects/somatic/NCI_SAIC_HIV_Cervical/HTMCP-03-06-02320/hg19a/GSH/A68241_A66449/strelka/60114/bwa/results/passed.somatic.snvs.eff.dbSNP_v149.cosmic_v82.clinvar_20170801.annotations.classic.vcf\n",
      "parsing vcf: /projects/somatic/NCI_SAIC_HIV_Cervical/HTMCP-03-06-02320/hg19a/GSH/A68241_A66449/strelka/60114/bwa/results/passed.somatic.indels.eff.dbSNP_v149.cosmic_v82.clinvar_20170801.annotations.classic.vcf\n"
     ]
    },
    {
     "name": "stderr",
     "output_type": "stream",
     "text": [
      "\n",
      "\n",
      "90it [01:38,  1.10s/it]\u001b[A\u001b[A"
     ]
    },
    {
     "name": "stdout",
     "output_type": "stream",
     "text": [
      "parsing vcf: /projects/somatic/NCI_SAIC_HIV_Cervical/HTMCP-03-06-02322/hg19a/GSH/A68243_A66451/strelka/60115/bwa/results/passed.somatic.snvs.eff.dbSNP_v149.cosmic_v82.clinvar_20170801.annotations.classic.vcf\n",
      "parsing vcf: /projects/somatic/NCI_SAIC_HIV_Cervical/HTMCP-03-06-02322/hg19a/GSH/A68243_A66451/strelka/60115/bwa/results/passed.somatic.indels.eff.dbSNP_v149.cosmic_v82.clinvar_20170801.annotations.classic.vcf\n"
     ]
    },
    {
     "name": "stderr",
     "output_type": "stream",
     "text": [
      "\n",
      "\n",
      "91it [01:39,  1.11s/it]\u001b[A\u001b[A"
     ]
    },
    {
     "name": "stdout",
     "output_type": "stream",
     "text": [
      "parsing vcf: /projects/somatic/NCI_SAIC_HIV_Cervical/HTMCP-03-06-02326/hg19a/GSH/A68244_A66452/strelka/60116/bwa/results/passed.somatic.snvs.eff.dbSNP_v149.cosmic_v82.clinvar_20170801.annotations.classic.vcf\n",
      "parsing vcf: /projects/somatic/NCI_SAIC_HIV_Cervical/HTMCP-03-06-02326/hg19a/GSH/A68244_A66452/strelka/60116/bwa/results/passed.somatic.indels.eff.dbSNP_v149.cosmic_v82.clinvar_20170801.annotations.classic.vcf\n"
     ]
    },
    {
     "name": "stderr",
     "output_type": "stream",
     "text": [
      "\n",
      "\n",
      "92it [01:41,  1.26s/it]\u001b[A\u001b[A"
     ]
    },
    {
     "name": "stdout",
     "output_type": "stream",
     "text": [
      "parsing vcf: /projects/somatic/NCI_SAIC_HIV_Cervical/HTMCP-03-06-02328/hg19a/GSH/A68246_A66454/strelka/60117/bwa/results/passed.somatic.snvs.eff.dbSNP_v149.cosmic_v82.clinvar_20170801.annotations.classic.vcf\n",
      "parsing vcf: /projects/somatic/NCI_SAIC_HIV_Cervical/HTMCP-03-06-02328/hg19a/GSH/A68246_A66454/strelka/60117/bwa/results/passed.somatic.indels.eff.dbSNP_v149.cosmic_v82.clinvar_20170801.annotations.classic.vcf\n"
     ]
    },
    {
     "name": "stderr",
     "output_type": "stream",
     "text": [
      "\n",
      "\n",
      "93it [01:42,  1.27s/it]\u001b[A\u001b[A"
     ]
    },
    {
     "name": "stdout",
     "output_type": "stream",
     "text": [
      "parsing vcf: /projects/somatic/NCI_SAIC_HIV_Cervical/HTMCP-03-06-02330/hg19a/GSH/A68247_A66455/strelka/60118/bwa/results/passed.somatic.snvs.eff.dbSNP_v149.cosmic_v82.clinvar_20170801.annotations.classic.vcf\n",
      "parsing vcf: /projects/somatic/NCI_SAIC_HIV_Cervical/HTMCP-03-06-02330/hg19a/GSH/A68247_A66455/strelka/60118/bwa/results/passed.somatic.indels.eff.dbSNP_v149.cosmic_v82.clinvar_20170801.annotations.classic.vcf\n"
     ]
    },
    {
     "name": "stderr",
     "output_type": "stream",
     "text": [
      "\n",
      "\n",
      "94it [01:43,  1.27s/it]\u001b[A\u001b[A"
     ]
    },
    {
     "name": "stdout",
     "output_type": "stream",
     "text": [
      "parsing vcf: /projects/somatic/NCI_SAIC_HIV_Cervical/HTMCP-03-06-02332/hg19a/GSH/A68248_A66456/strelka/60119/bwa/results/passed.somatic.snvs.eff.dbSNP_v149.cosmic_v82.clinvar_20170801.annotations.classic.vcf\n",
      "parsing vcf: /projects/somatic/NCI_SAIC_HIV_Cervical/HTMCP-03-06-02332/hg19a/GSH/A68248_A66456/strelka/60119/bwa/results/passed.somatic.indels.eff.dbSNP_v149.cosmic_v82.clinvar_20170801.annotations.classic.vcf\n"
     ]
    },
    {
     "name": "stderr",
     "output_type": "stream",
     "text": [
      "\n",
      "\n",
      "95it [01:45,  1.28s/it]\u001b[A\u001b[A"
     ]
    },
    {
     "name": "stdout",
     "output_type": "stream",
     "text": [
      "parsing vcf: /projects/somatic/NCI_SAIC_HIV_Cervical/HTMCP-03-06-02333/hg19a/GSH/A68249_A66457/strelka/60120/bwa/results/passed.somatic.snvs.eff.dbSNP_v149.cosmic_v82.clinvar_20170801.annotations.classic.vcf\n",
      "parsing vcf: /projects/somatic/NCI_SAIC_HIV_Cervical/HTMCP-03-06-02333/hg19a/GSH/A68249_A66457/strelka/60120/bwa/results/passed.somatic.indels.eff.dbSNP_v149.cosmic_v82.clinvar_20170801.annotations.classic.vcf\n"
     ]
    },
    {
     "name": "stderr",
     "output_type": "stream",
     "text": [
      "\n",
      "\n",
      "96it [01:46,  1.18s/it]\u001b[A\u001b[A"
     ]
    },
    {
     "name": "stdout",
     "output_type": "stream",
     "text": [
      "parsing vcf: /projects/somatic/NCI_SAIC_HIV_Cervical/HTMCP-03-06-02335/hg19a/GSH/A71828_A70135/strelka/60121/bwa/results/passed.somatic.snvs.eff.dbSNP_v149.cosmic_v82.clinvar_20170801.annotations.classic.vcf\n",
      "parsing vcf: /projects/somatic/NCI_SAIC_HIV_Cervical/HTMCP-03-06-02335/hg19a/GSH/A71828_A70135/strelka/60121/bwa/results/passed.somatic.indels.eff.dbSNP_v149.cosmic_v82.clinvar_20170801.annotations.classic.vcf\n"
     ]
    },
    {
     "name": "stderr",
     "output_type": "stream",
     "text": [
      "\n",
      "\n",
      "97it [01:47,  1.16s/it]\u001b[A\u001b[A"
     ]
    },
    {
     "name": "stdout",
     "output_type": "stream",
     "text": [
      "parsing vcf: /projects/somatic/NCI_SAIC_HIV_Cervical/HTMCP-03-06-02340/hg19a/GSH/A71832_A70139/strelka/60122/bwa/results/passed.somatic.snvs.eff.dbSNP_v149.cosmic_v82.clinvar_20170801.annotations.classic.vcf\n",
      "parsing vcf: /projects/somatic/NCI_SAIC_HIV_Cervical/HTMCP-03-06-02340/hg19a/GSH/A71832_A70139/strelka/60122/bwa/results/passed.somatic.indels.eff.dbSNP_v149.cosmic_v82.clinvar_20170801.annotations.classic.vcf\n"
     ]
    },
    {
     "name": "stderr",
     "output_type": "stream",
     "text": [
      "\n",
      "\n",
      "98it [01:47,  1.08s/it]\u001b[A\u001b[A"
     ]
    },
    {
     "name": "stdout",
     "output_type": "stream",
     "text": [
      "parsing vcf: /projects/somatic/NCI_SAIC_HIV_Cervical/HTMCP-03-06-02341/hg19a/GSH/A71833_A70140/strelka/60123/bwa/results/passed.somatic.snvs.eff.dbSNP_v149.cosmic_v82.clinvar_20170801.annotations.classic.vcf\n",
      "parsing vcf: /projects/somatic/NCI_SAIC_HIV_Cervical/HTMCP-03-06-02341/hg19a/GSH/A71833_A70140/strelka/60123/bwa/results/passed.somatic.indels.eff.dbSNP_v149.cosmic_v82.clinvar_20170801.annotations.classic.vcf\n"
     ]
    },
    {
     "name": "stderr",
     "output_type": "stream",
     "text": [
      "\n",
      "\n",
      "99it [01:49,  1.11s/it]\u001b[A\u001b[A"
     ]
    },
    {
     "name": "stdout",
     "output_type": "stream",
     "text": [
      "parsing vcf: /projects/somatic/NCI_SAIC_HIV_Cervical/HTMCP-03-06-02344/hg19a/GSH/A71836_A70143/strelka/60124/bwa/results/passed.somatic.snvs.eff.dbSNP_v149.cosmic_v82.clinvar_20170801.annotations.classic.vcf\n",
      "parsing vcf: /projects/somatic/NCI_SAIC_HIV_Cervical/HTMCP-03-06-02344/hg19a/GSH/A71836_A70143/strelka/60124/bwa/results/passed.somatic.indels.eff.dbSNP_v149.cosmic_v82.clinvar_20170801.annotations.classic.vcf\n"
     ]
    },
    {
     "name": "stderr",
     "output_type": "stream",
     "text": [
      "\n",
      "\n",
      "100it [01:50,  1.06s/it]\u001b[A\u001b[A"
     ]
    },
    {
     "name": "stdout",
     "output_type": "stream",
     "text": [
      "parsing vcf: /projects/somatic/NCI_SAIC_HIV_Cervical/HTMCP-03-06-02346/hg19a/GSH/A71838_A70145/strelka/60125/bwa/results/passed.somatic.snvs.eff.dbSNP_v149.cosmic_v82.clinvar_20170801.annotations.classic.vcf\n",
      "parsing vcf: /projects/somatic/NCI_SAIC_HIV_Cervical/HTMCP-03-06-02346/hg19a/GSH/A71838_A70145/strelka/60125/bwa/results/passed.somatic.indels.eff.dbSNP_v149.cosmic_v82.clinvar_20170801.annotations.classic.vcf\n"
     ]
    },
    {
     "name": "stderr",
     "output_type": "stream",
     "text": [
      "\n",
      "\n",
      "101it [01:51,  1.09s/it]\u001b[A\u001b[A"
     ]
    },
    {
     "name": "stdout",
     "output_type": "stream",
     "text": [
      "parsing vcf: /projects/somatic/NCI_SAIC_HIV_Cervical/HTMCP-03-06-02354/hg19a/GSH/A71842_A70149/strelka/60126/bwa/results/passed.somatic.snvs.eff.dbSNP_v149.cosmic_v82.clinvar_20170801.annotations.classic.vcf\n",
      "parsing vcf: /projects/somatic/NCI_SAIC_HIV_Cervical/HTMCP-03-06-02354/hg19a/GSH/A71842_A70149/strelka/60126/bwa/results/passed.somatic.indels.eff.dbSNP_v149.cosmic_v82.clinvar_20170801.annotations.classic.vcf\n"
     ]
    },
    {
     "name": "stderr",
     "output_type": "stream",
     "text": [
      "\n",
      "\n",
      "102it [01:52,  1.11s/it]\u001b[A\u001b[A"
     ]
    },
    {
     "name": "stdout",
     "output_type": "stream",
     "text": [
      "parsing vcf: /projects/somatic/NCI_SAIC_HIV_Cervical/HTMCP-03-06-02377/hg19a/GSH/A78394_A76706/strelka/60127/bwa/results/passed.somatic.snvs.eff.dbSNP_v149.cosmic_v82.clinvar_20170801.annotations.classic.vcf\n",
      "parsing vcf: /projects/somatic/NCI_SAIC_HIV_Cervical/HTMCP-03-06-02377/hg19a/GSH/A78394_A76706/strelka/60127/bwa/results/passed.somatic.indels.eff.dbSNP_v149.cosmic_v82.clinvar_20170801.annotations.classic.vcf\n"
     ]
    },
    {
     "name": "stderr",
     "output_type": "stream",
     "text": [
      "\n",
      "\n",
      "103it [01:53,  1.03s/it]\u001b[A\u001b[A"
     ]
    },
    {
     "name": "stdout",
     "output_type": "stream",
     "text": [
      "parsing vcf: /projects/somatic/NCI_SAIC_HIV_Cervical/HTMCP-03-06-02392/hg19a/GSH/A78402_A76715/strelka/60128/bwa/results/passed.somatic.snvs.eff.dbSNP_v149.cosmic_v82.clinvar_20170801.annotations.classic.vcf\n",
      "parsing vcf: /projects/somatic/NCI_SAIC_HIV_Cervical/HTMCP-03-06-02392/hg19a/GSH/A78402_A76715/strelka/60128/bwa/results/passed.somatic.indels.eff.dbSNP_v149.cosmic_v82.clinvar_20170801.annotations.classic.vcf\n"
     ]
    },
    {
     "name": "stderr",
     "output_type": "stream",
     "text": [
      "\n",
      "\n",
      "104it [01:54,  1.03s/it]\u001b[A\u001b[A"
     ]
    },
    {
     "name": "stdout",
     "output_type": "stream",
     "text": [
      "parsing vcf: /projects/somatic/NCI_SAIC_HIV_Cervical/HTMCP-03-06-02393/hg19a/GSH/A78403_A76716/strelka/60129/bwa/results/passed.somatic.snvs.eff.dbSNP_v149.cosmic_v82.clinvar_20170801.annotations.classic.vcf\n",
      "parsing vcf: /projects/somatic/NCI_SAIC_HIV_Cervical/HTMCP-03-06-02393/hg19a/GSH/A78403_A76716/strelka/60129/bwa/results/passed.somatic.indels.eff.dbSNP_v149.cosmic_v82.clinvar_20170801.annotations.classic.vcf\n"
     ]
    },
    {
     "name": "stderr",
     "output_type": "stream",
     "text": [
      "\n",
      "\n",
      "105it [01:55,  1.02it/s]\u001b[A\u001b[A"
     ]
    },
    {
     "name": "stdout",
     "output_type": "stream",
     "text": [
      "parsing vcf: /projects/somatic/NCI_SAIC_HIV_Cervical/HTMCP-03-06-02396/hg19a/GSH/A78405_A76718/strelka/60130/bwa/results/passed.somatic.snvs.eff.dbSNP_v149.cosmic_v82.clinvar_20170801.annotations.classic.vcf\n",
      "parsing vcf: /projects/somatic/NCI_SAIC_HIV_Cervical/HTMCP-03-06-02396/hg19a/GSH/A78405_A76718/strelka/60130/bwa/results/passed.somatic.indels.eff.dbSNP_v149.cosmic_v82.clinvar_20170801.annotations.classic.vcf\n"
     ]
    },
    {
     "name": "stderr",
     "output_type": "stream",
     "text": [
      "\n",
      "\n",
      "106it [01:58,  1.60s/it]\u001b[A\u001b[A"
     ]
    },
    {
     "name": "stdout",
     "output_type": "stream",
     "text": [
      "parsing vcf: /projects/somatic/NCI_SAIC_HIV_Cervical/HTMCP-03-06-02411/hg19a/GSH/A78416_A76729/strelka/60131/bwa/results/passed.somatic.snvs.eff.dbSNP_v149.cosmic_v82.clinvar_20170801.annotations.classic.vcf\n",
      "parsing vcf: /projects/somatic/NCI_SAIC_HIV_Cervical/HTMCP-03-06-02411/hg19a/GSH/A78416_A76729/strelka/60131/bwa/results/passed.somatic.indels.eff.dbSNP_v149.cosmic_v82.clinvar_20170801.annotations.classic.vcf\n"
     ]
    },
    {
     "name": "stderr",
     "output_type": "stream",
     "text": [
      "\n",
      "\n",
      "107it [01:59,  1.51s/it]\u001b[A\u001b[A"
     ]
    },
    {
     "name": "stdout",
     "output_type": "stream",
     "text": [
      "parsing vcf: /projects/somatic/NCI_SAIC_HIV_Cervical/HTMCP-03-06-02414/hg19a/GSH/A78418_A76731/strelka/60132/bwa/results/passed.somatic.snvs.eff.dbSNP_v149.cosmic_v82.clinvar_20170801.annotations.classic.vcf\n",
      "parsing vcf: /projects/somatic/NCI_SAIC_HIV_Cervical/HTMCP-03-06-02414/hg19a/GSH/A78418_A76731/strelka/60132/bwa/results/passed.somatic.indels.eff.dbSNP_v149.cosmic_v82.clinvar_20170801.annotations.classic.vcf\n"
     ]
    },
    {
     "name": "stderr",
     "output_type": "stream",
     "text": [
      "\n",
      "\n",
      "108it [02:00,  1.39s/it]\u001b[A\u001b[A"
     ]
    },
    {
     "name": "stdout",
     "output_type": "stream",
     "text": [
      "parsing vcf: /projects/somatic/NCI_SAIC_HIV_Cervical/HTMCP-03-06-02417/hg19a/GSH/A78420_A76733/strelka/60133/bwa/results/passed.somatic.snvs.eff.dbSNP_v149.cosmic_v82.clinvar_20170801.annotations.classic.vcf\n",
      "parsing vcf: /projects/somatic/NCI_SAIC_HIV_Cervical/HTMCP-03-06-02417/hg19a/GSH/A78420_A76733/strelka/60133/bwa/results/passed.somatic.indels.eff.dbSNP_v149.cosmic_v82.clinvar_20170801.annotations.classic.vcf\n"
     ]
    },
    {
     "name": "stderr",
     "output_type": "stream",
     "text": [
      "\n",
      "\n",
      "109it [02:01,  1.35s/it]\u001b[A\u001b[A"
     ]
    },
    {
     "name": "stdout",
     "output_type": "stream",
     "text": [
      "parsing vcf: /projects/somatic/NCI_SAIC_HIV_Cervical/HTMCP-03-06-02424/hg19a/GSH/A78427_A76740/strelka/60134/bwa/results/passed.somatic.snvs.eff.dbSNP_v149.cosmic_v82.clinvar_20170801.annotations.classic.vcf\n",
      "parsing vcf: /projects/somatic/NCI_SAIC_HIV_Cervical/HTMCP-03-06-02424/hg19a/GSH/A78427_A76740/strelka/60134/bwa/results/passed.somatic.indels.eff.dbSNP_v149.cosmic_v82.clinvar_20170801.annotations.classic.vcf\n"
     ]
    },
    {
     "name": "stderr",
     "output_type": "stream",
     "text": [
      "\n",
      "\n",
      "110it [02:02,  1.27s/it]\u001b[A\u001b[A"
     ]
    },
    {
     "name": "stdout",
     "output_type": "stream",
     "text": [
      "parsing vcf: /projects/somatic/NCI_SAIC_HIV_Cervical/HTMCP-03-06-02427/hg19a/GSH/A78429_A76742/strelka/60135/bwa/results/passed.somatic.snvs.eff.dbSNP_v149.cosmic_v82.clinvar_20170801.annotations.classic.vcf\n",
      "parsing vcf: /projects/somatic/NCI_SAIC_HIV_Cervical/HTMCP-03-06-02427/hg19a/GSH/A78429_A76742/strelka/60135/bwa/results/passed.somatic.indels.eff.dbSNP_v149.cosmic_v82.clinvar_20170801.annotations.classic.vcf\n"
     ]
    },
    {
     "name": "stderr",
     "output_type": "stream",
     "text": [
      "\n",
      "\n",
      "111it [02:03,  1.12s/it]\u001b[A\u001b[A"
     ]
    },
    {
     "name": "stdout",
     "output_type": "stream",
     "text": [
      "parsing vcf: /projects/somatic/NCI_SAIC_HIV_Cervical/HTMCP-03-06-02428/hg19a/GSH/A78431_A76744/strelka/60136/bwa/results/passed.somatic.snvs.eff.dbSNP_v149.cosmic_v82.clinvar_20170801.annotations.classic.vcf\n",
      "parsing vcf: /projects/somatic/NCI_SAIC_HIV_Cervical/HTMCP-03-06-02428/hg19a/GSH/A78431_A76744/strelka/60136/bwa/results/passed.somatic.indels.eff.dbSNP_v149.cosmic_v82.clinvar_20170801.annotations.classic.vcf\n"
     ]
    },
    {
     "name": "stderr",
     "output_type": "stream",
     "text": [
      "\n",
      "\n",
      "112it [02:06,  1.48s/it]\u001b[A\u001b[A"
     ]
    },
    {
     "name": "stdout",
     "output_type": "stream",
     "text": [
      "parsing vcf: /projects/somatic/NCI_SAIC_HIV_Cervical/HTMCP-03-06-02434/hg19a/GSH/A78432_A76745/strelka/60137/bwa/results/passed.somatic.snvs.eff.dbSNP_v149.cosmic_v82.clinvar_20170801.annotations.classic.vcf\n",
      "parsing vcf: /projects/somatic/NCI_SAIC_HIV_Cervical/HTMCP-03-06-02434/hg19a/GSH/A78432_A76745/strelka/60137/bwa/results/passed.somatic.indels.eff.dbSNP_v149.cosmic_v82.clinvar_20170801.annotations.classic.vcf\n"
     ]
    },
    {
     "name": "stderr",
     "output_type": "stream",
     "text": [
      "\n",
      "\n",
      "113it [02:06,  1.31s/it]\u001b[A\u001b[A"
     ]
    },
    {
     "name": "stdout",
     "output_type": "stream",
     "text": [
      "parsing vcf: /projects/somatic/NCI_SAIC_HIV_Cervical/HTMCP-03-06-02435/hg19a/GSH/A78433_A76746/strelka/60138/bwa/results/passed.somatic.snvs.eff.dbSNP_v149.cosmic_v82.clinvar_20170801.annotations.classic.vcf\n",
      "parsing vcf: /projects/somatic/NCI_SAIC_HIV_Cervical/HTMCP-03-06-02435/hg19a/GSH/A78433_A76746/strelka/60138/bwa/results/passed.somatic.indels.eff.dbSNP_v149.cosmic_v82.clinvar_20170801.annotations.classic.vcf\n"
     ]
    },
    {
     "name": "stderr",
     "output_type": "stream",
     "text": [
      "\n",
      "\n",
      "114it [02:12,  2.61s/it]\u001b[A\u001b[A"
     ]
    },
    {
     "name": "stdout",
     "output_type": "stream",
     "text": [
      "parsing vcf: /projects/somatic/NCI_SAIC_HIV_Cervical/HTMCP-03-06-02437/hg19a/GSH/A78434_A76747/strelka/60139/bwa/results/passed.somatic.snvs.eff.dbSNP_v149.cosmic_v82.clinvar_20170801.annotations.classic.vcf\n",
      "parsing vcf: /projects/somatic/NCI_SAIC_HIV_Cervical/HTMCP-03-06-02437/hg19a/GSH/A78434_A76747/strelka/60139/bwa/results/passed.somatic.indels.eff.dbSNP_v149.cosmic_v82.clinvar_20170801.annotations.classic.vcf\n"
     ]
    },
    {
     "name": "stderr",
     "output_type": "stream",
     "text": [
      "\n",
      "\n",
      "115it [02:13,  2.19s/it]\u001b[A\u001b[A"
     ]
    },
    {
     "name": "stdout",
     "output_type": "stream",
     "text": [
      "parsing vcf: /projects/somatic/NCI_SAIC_HIV_Cervical/HTMCP-03-06-02441/hg19a/GSH/A78436_A76749/strelka/60140/bwa/results/passed.somatic.snvs.eff.dbSNP_v149.cosmic_v82.clinvar_20170801.annotations.classic.vcf\n",
      "parsing vcf: /projects/somatic/NCI_SAIC_HIV_Cervical/HTMCP-03-06-02441/hg19a/GSH/A78436_A76749/strelka/60140/bwa/results/passed.somatic.indels.eff.dbSNP_v149.cosmic_v82.clinvar_20170801.annotations.classic.vcf\n"
     ]
    },
    {
     "name": "stderr",
     "output_type": "stream",
     "text": [
      "\n",
      "\n",
      "116it [02:15,  2.07s/it]\u001b[A\u001b[A"
     ]
    },
    {
     "name": "stdout",
     "output_type": "stream",
     "text": [
      "parsing vcf: /projects/somatic/NCI_SAIC_HIV_Cervical/HTMCP-03-06-02442/hg19a/GSH/A78437_A76750/strelka/60141/bwa/results/passed.somatic.snvs.eff.dbSNP_v149.cosmic_v82.clinvar_20170801.annotations.classic.vcf\n",
      "parsing vcf: /projects/somatic/NCI_SAIC_HIV_Cervical/HTMCP-03-06-02442/hg19a/GSH/A78437_A76750/strelka/60141/bwa/results/passed.somatic.indels.eff.dbSNP_v149.cosmic_v82.clinvar_20170801.annotations.classic.vcf\n"
     ]
    },
    {
     "name": "stderr",
     "output_type": "stream",
     "text": [
      "\n",
      "\n",
      "117it [02:16,  1.71s/it]\u001b[A\u001b[A"
     ]
    },
    {
     "name": "stdout",
     "output_type": "stream",
     "text": [
      "parsing vcf: /projects/somatic/NCI_SAIC_HIV_Cervical/HTMCP-03-06-02447/hg19a/GSH/A78440_A76753/strelka/60142/bwa/results/passed.somatic.snvs.eff.dbSNP_v149.cosmic_v82.clinvar_20170801.annotations.classic.vcf\n",
      "parsing vcf: /projects/somatic/NCI_SAIC_HIV_Cervical/HTMCP-03-06-02447/hg19a/GSH/A78440_A76753/strelka/60142/bwa/results/passed.somatic.indels.eff.dbSNP_v149.cosmic_v82.clinvar_20170801.annotations.classic.vcf\n"
     ]
    },
    {
     "name": "stderr",
     "output_type": "stream",
     "text": [
      "\n",
      "\n",
      "118it [02:17,  1.17s/it]\u001b[A\u001b[A\n"
     ]
    }
   ],
   "source": [
    "parser = VcfParser(impacts, df=ndf)\n",
    "dfmg = parser.summarize_cohort()"
   ]
  },
  {
   "cell_type": "code",
   "execution_count": 98,
   "metadata": {},
   "outputs": [
    {
     "data": {
      "text/html": [
       "<div>\n",
       "<style scoped>\n",
       "    .dataframe tbody tr th:only-of-type {\n",
       "        vertical-align: middle;\n",
       "    }\n",
       "\n",
       "    .dataframe tbody tr th {\n",
       "        vertical-align: top;\n",
       "    }\n",
       "\n",
       "    .dataframe thead th {\n",
       "        text-align: right;\n",
       "    }\n",
       "</style>\n",
       "<table border=\"1\" class=\"dataframe\">\n",
       "  <thead>\n",
       "    <tr style=\"text-align: right;\">\n",
       "      <th></th>\n",
       "      <th>chr</th>\n",
       "      <th>pos</th>\n",
       "      <th>ref</th>\n",
       "      <th>alt</th>\n",
       "      <th>t_cov_tier1</th>\n",
       "      <th>t_alt_tier1</th>\n",
       "      <th>n_cov_tier1</th>\n",
       "      <th>n_alt_tier1</th>\n",
       "      <th>patient</th>\n",
       "      <th>impact</th>\n",
       "      <th>impact_type</th>\n",
       "      <th>type</th>\n",
       "      <th>AA_change</th>\n",
       "      <th>gene</th>\n",
       "      <th>transcript</th>\n",
       "    </tr>\n",
       "  </thead>\n",
       "  <tbody>\n",
       "    <tr>\n",
       "      <td>175</td>\n",
       "      <td>2</td>\n",
       "      <td>232072964</td>\n",
       "      <td>AG</td>\n",
       "      <td>A</td>\n",
       "      <td>54</td>\n",
       "      <td>12</td>\n",
       "      <td>55</td>\n",
       "      <td>56</td>\n",
       "      <td>HTMCP-03-06-02001</td>\n",
       "      <td>FRAME_SHIFT+SPLICE_SITE_REGION</td>\n",
       "      <td>HIGH</td>\n",
       "      <td></td>\n",
       "      <td>Q59</td>\n",
       "      <td>ARMC9</td>\n",
       "      <td>ENST00000349938</td>\n",
       "    </tr>\n",
       "    <tr>\n",
       "      <td>175</td>\n",
       "      <td>2</td>\n",
       "      <td>232072964</td>\n",
       "      <td>AG</td>\n",
       "      <td>A</td>\n",
       "      <td>54</td>\n",
       "      <td>12</td>\n",
       "      <td>55</td>\n",
       "      <td>56</td>\n",
       "      <td>HTMCP-03-06-02001</td>\n",
       "      <td>FRAME_SHIFT+SPLICE_SITE_REGION</td>\n",
       "      <td>HIGH</td>\n",
       "      <td></td>\n",
       "      <td>Q59</td>\n",
       "      <td>ARMC9</td>\n",
       "      <td>ENST00000440107</td>\n",
       "    </tr>\n",
       "    <tr>\n",
       "      <td>272</td>\n",
       "      <td>6</td>\n",
       "      <td>136596998</td>\n",
       "      <td>AG</td>\n",
       "      <td>A</td>\n",
       "      <td>111</td>\n",
       "      <td>65</td>\n",
       "      <td>51</td>\n",
       "      <td>49</td>\n",
       "      <td>HTMCP-03-06-02002</td>\n",
       "      <td>FRAME_SHIFT</td>\n",
       "      <td>HIGH</td>\n",
       "      <td></td>\n",
       "      <td>P555</td>\n",
       "      <td>BCLAF1</td>\n",
       "      <td>ENST00000531224</td>\n",
       "    </tr>\n",
       "    <tr>\n",
       "      <td>272</td>\n",
       "      <td>6</td>\n",
       "      <td>136596998</td>\n",
       "      <td>AG</td>\n",
       "      <td>A</td>\n",
       "      <td>111</td>\n",
       "      <td>65</td>\n",
       "      <td>51</td>\n",
       "      <td>49</td>\n",
       "      <td>HTMCP-03-06-02002</td>\n",
       "      <td>FRAME_SHIFT</td>\n",
       "      <td>HIGH</td>\n",
       "      <td></td>\n",
       "      <td>P553</td>\n",
       "      <td>BCLAF1</td>\n",
       "      <td>ENST00000353331</td>\n",
       "    </tr>\n",
       "    <tr>\n",
       "      <td>272</td>\n",
       "      <td>6</td>\n",
       "      <td>136596998</td>\n",
       "      <td>AG</td>\n",
       "      <td>A</td>\n",
       "      <td>111</td>\n",
       "      <td>65</td>\n",
       "      <td>51</td>\n",
       "      <td>49</td>\n",
       "      <td>HTMCP-03-06-02002</td>\n",
       "      <td>FRAME_SHIFT</td>\n",
       "      <td>HIGH</td>\n",
       "      <td></td>\n",
       "      <td>P555</td>\n",
       "      <td>BCLAF1</td>\n",
       "      <td>ENST00000527536</td>\n",
       "    </tr>\n",
       "    <tr>\n",
       "      <td>...</td>\n",
       "      <td>...</td>\n",
       "      <td>...</td>\n",
       "      <td>...</td>\n",
       "      <td>...</td>\n",
       "      <td>...</td>\n",
       "      <td>...</td>\n",
       "      <td>...</td>\n",
       "      <td>...</td>\n",
       "      <td>...</td>\n",
       "      <td>...</td>\n",
       "      <td>...</td>\n",
       "      <td>...</td>\n",
       "      <td>...</td>\n",
       "      <td>...</td>\n",
       "      <td>...</td>\n",
       "    </tr>\n",
       "    <tr>\n",
       "      <td>34318</td>\n",
       "      <td>22</td>\n",
       "      <td>19839660</td>\n",
       "      <td>AG</td>\n",
       "      <td>A</td>\n",
       "      <td>101</td>\n",
       "      <td>65</td>\n",
       "      <td>45</td>\n",
       "      <td>43</td>\n",
       "      <td>HTMCP-03-06-02435</td>\n",
       "      <td>FRAME_SHIFT</td>\n",
       "      <td>HIGH</td>\n",
       "      <td></td>\n",
       "      <td>L42</td>\n",
       "      <td>C22orf29</td>\n",
       "      <td>ENST00000407472</td>\n",
       "    </tr>\n",
       "    <tr>\n",
       "      <td>34318</td>\n",
       "      <td>22</td>\n",
       "      <td>19839660</td>\n",
       "      <td>AG</td>\n",
       "      <td>A</td>\n",
       "      <td>101</td>\n",
       "      <td>65</td>\n",
       "      <td>45</td>\n",
       "      <td>43</td>\n",
       "      <td>HTMCP-03-06-02435</td>\n",
       "      <td>FRAME_SHIFT</td>\n",
       "      <td>HIGH</td>\n",
       "      <td></td>\n",
       "      <td>L42</td>\n",
       "      <td>C22orf29</td>\n",
       "      <td>ENST00000405640</td>\n",
       "    </tr>\n",
       "    <tr>\n",
       "      <td>34318</td>\n",
       "      <td>22</td>\n",
       "      <td>19839660</td>\n",
       "      <td>AG</td>\n",
       "      <td>A</td>\n",
       "      <td>101</td>\n",
       "      <td>65</td>\n",
       "      <td>45</td>\n",
       "      <td>43</td>\n",
       "      <td>HTMCP-03-06-02435</td>\n",
       "      <td>FRAME_SHIFT</td>\n",
       "      <td>HIGH</td>\n",
       "      <td></td>\n",
       "      <td>L42</td>\n",
       "      <td>C22orf29</td>\n",
       "      <td>ENST00000416337</td>\n",
       "    </tr>\n",
       "    <tr>\n",
       "      <td>34360</td>\n",
       "      <td>22</td>\n",
       "      <td>23973155</td>\n",
       "      <td>AG</td>\n",
       "      <td>A</td>\n",
       "      <td>124</td>\n",
       "      <td>77</td>\n",
       "      <td>61</td>\n",
       "      <td>61</td>\n",
       "      <td>HTMCP-03-06-02435</td>\n",
       "      <td>SPLICE_SITE_REGION+INTRON</td>\n",
       "      <td>LOW</td>\n",
       "      <td></td>\n",
       "      <td></td>\n",
       "      <td>C22orf43</td>\n",
       "      <td>ENST00000460169</td>\n",
       "    </tr>\n",
       "    <tr>\n",
       "      <td>36637</td>\n",
       "      <td>X</td>\n",
       "      <td>140995241</td>\n",
       "      <td>AG</td>\n",
       "      <td>A</td>\n",
       "      <td>84</td>\n",
       "      <td>48</td>\n",
       "      <td>35</td>\n",
       "      <td>33</td>\n",
       "      <td>HTMCP-03-06-02435</td>\n",
       "      <td>FRAME_SHIFT</td>\n",
       "      <td>HIGH</td>\n",
       "      <td></td>\n",
       "      <td>E684</td>\n",
       "      <td>MAGEC1</td>\n",
       "      <td>ENST00000285879</td>\n",
       "    </tr>\n",
       "  </tbody>\n",
       "</table>\n",
       "<p>97 rows × 15 columns</p>\n",
       "</div>"
      ],
      "text/plain": [
       "      chr        pos ref alt t_cov_tier1 t_alt_tier1 n_cov_tier1 n_alt_tier1  \\\n",
       "175     2  232072964  AG   A          54          12          55          56   \n",
       "175     2  232072964  AG   A          54          12          55          56   \n",
       "272     6  136596998  AG   A         111          65          51          49   \n",
       "272     6  136596998  AG   A         111          65          51          49   \n",
       "272     6  136596998  AG   A         111          65          51          49   \n",
       "...    ..        ...  ..  ..         ...         ...         ...         ...   \n",
       "34318  22   19839660  AG   A         101          65          45          43   \n",
       "34318  22   19839660  AG   A         101          65          45          43   \n",
       "34318  22   19839660  AG   A         101          65          45          43   \n",
       "34360  22   23973155  AG   A         124          77          61          61   \n",
       "36637   X  140995241  AG   A          84          48          35          33   \n",
       "\n",
       "                 patient                          impact impact_type type  \\\n",
       "175    HTMCP-03-06-02001  FRAME_SHIFT+SPLICE_SITE_REGION        HIGH        \n",
       "175    HTMCP-03-06-02001  FRAME_SHIFT+SPLICE_SITE_REGION        HIGH        \n",
       "272    HTMCP-03-06-02002                     FRAME_SHIFT        HIGH        \n",
       "272    HTMCP-03-06-02002                     FRAME_SHIFT        HIGH        \n",
       "272    HTMCP-03-06-02002                     FRAME_SHIFT        HIGH        \n",
       "...                  ...                             ...         ...  ...   \n",
       "34318  HTMCP-03-06-02435                     FRAME_SHIFT        HIGH        \n",
       "34318  HTMCP-03-06-02435                     FRAME_SHIFT        HIGH        \n",
       "34318  HTMCP-03-06-02435                     FRAME_SHIFT        HIGH        \n",
       "34360  HTMCP-03-06-02435       SPLICE_SITE_REGION+INTRON         LOW        \n",
       "36637  HTMCP-03-06-02435                     FRAME_SHIFT        HIGH        \n",
       "\n",
       "      AA_change      gene       transcript  \n",
       "175         Q59     ARMC9  ENST00000349938  \n",
       "175         Q59     ARMC9  ENST00000440107  \n",
       "272        P555    BCLAF1  ENST00000531224  \n",
       "272        P553    BCLAF1  ENST00000353331  \n",
       "272        P555    BCLAF1  ENST00000527536  \n",
       "...         ...       ...              ...  \n",
       "34318       L42  C22orf29  ENST00000407472  \n",
       "34318       L42  C22orf29  ENST00000405640  \n",
       "34318       L42  C22orf29  ENST00000416337  \n",
       "34360            C22orf43  ENST00000460169  \n",
       "36637      E684    MAGEC1  ENST00000285879  \n",
       "\n",
       "[97 rows x 15 columns]"
      ]
     },
     "execution_count": 98,
     "metadata": {},
     "output_type": "execute_result"
    }
   ],
   "source": [
    "dfmg[dfmg['ref']=='AG']#.unique()"
   ]
  },
  {
   "cell_type": "code",
   "execution_count": 100,
   "metadata": {},
   "outputs": [],
   "source": [
    "of = '/projects/trans_scratch/validations/workspace/szong/Cervical/variant_bwamem/124_patients_new/118_patients_HML_variant_summary_with_AF_20191210.txt'\n",
    "dfmg.to_csv(of, sep='\\t', index=False)"
   ]
  },
  {
   "cell_type": "code",
   "execution_count": 101,
   "metadata": {},
   "outputs": [
    {
     "data": {
      "text/plain": [
       "'/projects/trans_scratch/validations/workspace/szong/cervical2/nbs'"
      ]
     },
     "execution_count": 101,
     "metadata": {},
     "output_type": "execute_result"
    }
   ],
   "source": [
    "pwd"
   ]
  },
  {
   "cell_type": "code",
   "execution_count": null,
   "metadata": {},
   "outputs": [],
   "source": []
  },
  {
   "cell_type": "code",
   "execution_count": null,
   "metadata": {},
   "outputs": [],
   "source": []
  },
  {
   "cell_type": "code",
   "execution_count": 144,
   "metadata": {},
   "outputs": [],
   "source": [
    "def test(a,b):\n",
    "    c = 'xxx'\n",
    "    if a != b:\n",
    "        c = 'mmm'\n",
    "    return c"
   ]
  },
  {
   "cell_type": "code",
   "execution_count": 147,
   "metadata": {},
   "outputs": [
    {
     "data": {
      "text/plain": [
       "patient\n",
       "HTMCP-03-06-02025    mmm\n",
       "HTMCP-03-06-02044    mmm\n",
       "HTMCP-03-06-02060    mmm\n",
       "HTMCP-03-06-02061    mmm\n",
       "HTMCP-03-06-02062    mmm\n",
       "                    ... \n",
       "HTMCP-03-06-02423    mmm\n",
       "HTMCP-03-06-02425    mmm\n",
       "HTMCP-03-06-02426    mmm\n",
       "HTMCP-03-06-02439    mmm\n",
       "HTMCP-03-06-02446    mmm\n",
       "Length: 86, dtype: object"
      ]
     },
     "execution_count": 147,
     "metadata": {},
     "output_type": "execute_result"
    }
   ],
   "source": [
    "df[['tlib', 'nlib']].apply(lambda x: test(x[0], x[1]), axis=1)"
   ]
  },
  {
   "cell_type": "code",
   "execution_count": 138,
   "metadata": {},
   "outputs": [],
   "source": [
    "def parse_snv_coverage(s, alt):\n",
    "    # DP:FDP:SDP:SUBDP:AU:CU:GU:TU\n",
    "    cov = s.split(':')\n",
    "    acgt = np.zeros(4)\n",
    "    for i, c in enumerate(cov[4:]):\n",
    "        acgt[i] = c.split(',')[0]\n",
    "    return [acgt.sum(), acgt[np.asscalar(np.where(BASES == alt)[0])]]\n"
   ]
  },
  {
   "cell_type": "code",
   "execution_count": 85,
   "metadata": {},
   "outputs": [
    {
     "data": {
      "text/html": [
       "<div>\n",
       "<style scoped>\n",
       "    .dataframe tbody tr th:only-of-type {\n",
       "        vertical-align: middle;\n",
       "    }\n",
       "\n",
       "    .dataframe tbody tr th {\n",
       "        vertical-align: top;\n",
       "    }\n",
       "\n",
       "    .dataframe thead th {\n",
       "        text-align: right;\n",
       "    }\n",
       "</style>\n",
       "<table border=\"1\" class=\"dataframe\">\n",
       "  <thead>\n",
       "    <tr style=\"text-align: right;\">\n",
       "      <th></th>\n",
       "      <th>chr</th>\n",
       "      <th>pos</th>\n",
       "      <th>ref</th>\n",
       "      <th>alt</th>\n",
       "      <th>t_cov_tier1</th>\n",
       "      <th>t_alt_tier1</th>\n",
       "      <th>t_indel_tier1</th>\n",
       "      <th>n_cov_tier1</th>\n",
       "      <th>n_alt_tier1</th>\n",
       "      <th>n_indel_tier1</th>\n",
       "      <th>patient</th>\n",
       "      <th>impact</th>\n",
       "      <th>impact_type</th>\n",
       "      <th>type</th>\n",
       "      <th>AA_change</th>\n",
       "      <th>gene</th>\n",
       "      <th>transcript</th>\n",
       "    </tr>\n",
       "  </thead>\n",
       "  <tbody>\n",
       "    <tr>\n",
       "      <td>0</td>\n",
       "      <td>1</td>\n",
       "      <td>121484536</td>\n",
       "      <td>C</td>\n",
       "      <td>T</td>\n",
       "      <td>58</td>\n",
       "      <td>0</td>\n",
       "      <td>0</td>\n",
       "      <td>114</td>\n",
       "      <td>0</td>\n",
       "      <td>0</td>\n",
       "      <td>HTMCP-03-06-02025-01A-01D</td>\n",
       "      <td>INTERGENIC</td>\n",
       "      <td>MODIFIER</td>\n",
       "      <td></td>\n",
       "      <td></td>\n",
       "      <td></td>\n",
       "      <td></td>\n",
       "    </tr>\n",
       "    <tr>\n",
       "      <td>1</td>\n",
       "      <td>1</td>\n",
       "      <td>121484671</td>\n",
       "      <td>T</td>\n",
       "      <td>G</td>\n",
       "      <td>75</td>\n",
       "      <td>0</td>\n",
       "      <td>0</td>\n",
       "      <td>127</td>\n",
       "      <td>0</td>\n",
       "      <td>0</td>\n",
       "      <td>HTMCP-03-06-02025-01A-01D</td>\n",
       "      <td>INTERGENIC</td>\n",
       "      <td>MODIFIER</td>\n",
       "      <td></td>\n",
       "      <td></td>\n",
       "      <td></td>\n",
       "      <td></td>\n",
       "    </tr>\n",
       "    <tr>\n",
       "      <td>2</td>\n",
       "      <td>1</td>\n",
       "      <td>121484700</td>\n",
       "      <td>T</td>\n",
       "      <td>A</td>\n",
       "      <td>73</td>\n",
       "      <td>0</td>\n",
       "      <td>0</td>\n",
       "      <td>122</td>\n",
       "      <td>0</td>\n",
       "      <td>0</td>\n",
       "      <td>HTMCP-03-06-02025-01A-01D</td>\n",
       "      <td>INTERGENIC</td>\n",
       "      <td>MODIFIER</td>\n",
       "      <td></td>\n",
       "      <td></td>\n",
       "      <td></td>\n",
       "      <td></td>\n",
       "    </tr>\n",
       "    <tr>\n",
       "      <td>3</td>\n",
       "      <td>1</td>\n",
       "      <td>121485137</td>\n",
       "      <td>G</td>\n",
       "      <td>C</td>\n",
       "      <td>202</td>\n",
       "      <td>0</td>\n",
       "      <td>0</td>\n",
       "      <td>518</td>\n",
       "      <td>0</td>\n",
       "      <td>0</td>\n",
       "      <td>HTMCP-03-06-02025-01A-01D</td>\n",
       "      <td>INTERGENIC</td>\n",
       "      <td>MODIFIER</td>\n",
       "      <td></td>\n",
       "      <td></td>\n",
       "      <td></td>\n",
       "      <td></td>\n",
       "    </tr>\n",
       "    <tr>\n",
       "      <td>4</td>\n",
       "      <td>2</td>\n",
       "      <td>92315416</td>\n",
       "      <td>T</td>\n",
       "      <td>C</td>\n",
       "      <td>26</td>\n",
       "      <td>0</td>\n",
       "      <td>0</td>\n",
       "      <td>47</td>\n",
       "      <td>0</td>\n",
       "      <td>0</td>\n",
       "      <td>HTMCP-03-06-02025-01A-01D</td>\n",
       "      <td>INTERGENIC</td>\n",
       "      <td>MODIFIER</td>\n",
       "      <td></td>\n",
       "      <td></td>\n",
       "      <td></td>\n",
       "      <td></td>\n",
       "    </tr>\n",
       "  </tbody>\n",
       "</table>\n",
       "</div>"
      ],
      "text/plain": [
       "  chr        pos ref alt t_cov_tier1 t_alt_tier1 t_indel_tier1 n_cov_tier1  \\\n",
       "0   1  121484536   C   T          58           0             0         114   \n",
       "1   1  121484671   T   G          75           0             0         127   \n",
       "2   1  121484700   T   A          73           0             0         122   \n",
       "3   1  121485137   G   C         202           0             0         518   \n",
       "4   2   92315416   T   C          26           0             0          47   \n",
       "\n",
       "  n_alt_tier1 n_indel_tier1                    patient      impact  \\\n",
       "0           0             0  HTMCP-03-06-02025-01A-01D  INTERGENIC   \n",
       "1           0             0  HTMCP-03-06-02025-01A-01D  INTERGENIC   \n",
       "2           0             0  HTMCP-03-06-02025-01A-01D  INTERGENIC   \n",
       "3           0             0  HTMCP-03-06-02025-01A-01D  INTERGENIC   \n",
       "4           0             0  HTMCP-03-06-02025-01A-01D  INTERGENIC   \n",
       "\n",
       "  impact_type type AA_change gene transcript  \n",
       "0    MODIFIER                                 \n",
       "1    MODIFIER                                 \n",
       "2    MODIFIER                                 \n",
       "3    MODIFIER                                 \n",
       "4    MODIFIER                                 "
      ]
     },
     "execution_count": 85,
     "metadata": {},
     "output_type": "execute_result"
    }
   ],
   "source": [
    "dfmg.head()"
   ]
  },
  {
   "cell_type": "code",
   "execution_count": 64,
   "metadata": {},
   "outputs": [
    {
     "data": {
      "text/html": [
       "<div>\n",
       "<style scoped>\n",
       "    .dataframe tbody tr th:only-of-type {\n",
       "        vertical-align: middle;\n",
       "    }\n",
       "\n",
       "    .dataframe tbody tr th {\n",
       "        vertical-align: top;\n",
       "    }\n",
       "\n",
       "    .dataframe thead th {\n",
       "        text-align: right;\n",
       "    }\n",
       "</style>\n",
       "<table border=\"1\" class=\"dataframe\">\n",
       "  <thead>\n",
       "    <tr style=\"text-align: right;\">\n",
       "      <th></th>\n",
       "      <th>A</th>\n",
       "      <th>B</th>\n",
       "    </tr>\n",
       "  </thead>\n",
       "  <tbody>\n",
       "    <tr>\n",
       "      <td>0</td>\n",
       "      <td>[1, 2, 3]</td>\n",
       "      <td>[11, 22]</td>\n",
       "    </tr>\n",
       "    <tr>\n",
       "      <td>1</td>\n",
       "      <td>foo</td>\n",
       "      <td>[]</td>\n",
       "    </tr>\n",
       "    <tr>\n",
       "      <td>2</td>\n",
       "      <td>[]</td>\n",
       "      <td>[]</td>\n",
       "    </tr>\n",
       "    <tr>\n",
       "      <td>3</td>\n",
       "      <td>[5, 4]</td>\n",
       "      <td>[99, 88]</td>\n",
       "    </tr>\n",
       "  </tbody>\n",
       "</table>\n",
       "</div>"
      ],
      "text/plain": [
       "           A         B\n",
       "0  [1, 2, 3]  [11, 22]\n",
       "1        foo        []\n",
       "2         []        []\n",
       "3     [5, 4]  [99, 88]"
      ]
     },
     "execution_count": 64,
     "metadata": {},
     "output_type": "execute_result"
    },
    {
     "data": {
      "text/html": [
       "<div>\n",
       "<style scoped>\n",
       "    .dataframe tbody tr th:only-of-type {\n",
       "        vertical-align: middle;\n",
       "    }\n",
       "\n",
       "    .dataframe tbody tr th {\n",
       "        vertical-align: top;\n",
       "    }\n",
       "\n",
       "    .dataframe thead th {\n",
       "        text-align: right;\n",
       "    }\n",
       "</style>\n",
       "<table border=\"1\" class=\"dataframe\">\n",
       "  <thead>\n",
       "    <tr style=\"text-align: right;\">\n",
       "      <th></th>\n",
       "      <th>A</th>\n",
       "      <th>B</th>\n",
       "    </tr>\n",
       "  </thead>\n",
       "  <tbody>\n",
       "    <tr>\n",
       "      <td>0</td>\n",
       "      <td>1</td>\n",
       "      <td>[11, 22]</td>\n",
       "    </tr>\n",
       "    <tr>\n",
       "      <td>0</td>\n",
       "      <td>2</td>\n",
       "      <td>[11, 22]</td>\n",
       "    </tr>\n",
       "    <tr>\n",
       "      <td>0</td>\n",
       "      <td>3</td>\n",
       "      <td>[11, 22]</td>\n",
       "    </tr>\n",
       "    <tr>\n",
       "      <td>1</td>\n",
       "      <td>foo</td>\n",
       "      <td>[]</td>\n",
       "    </tr>\n",
       "    <tr>\n",
       "      <td>2</td>\n",
       "      <td>NaN</td>\n",
       "      <td>[]</td>\n",
       "    </tr>\n",
       "    <tr>\n",
       "      <td>3</td>\n",
       "      <td>5</td>\n",
       "      <td>[99, 88]</td>\n",
       "    </tr>\n",
       "    <tr>\n",
       "      <td>3</td>\n",
       "      <td>4</td>\n",
       "      <td>[99, 88]</td>\n",
       "    </tr>\n",
       "  </tbody>\n",
       "</table>\n",
       "</div>"
      ],
      "text/plain": [
       "     A         B\n",
       "0    1  [11, 22]\n",
       "0    2  [11, 22]\n",
       "0    3  [11, 22]\n",
       "1  foo        []\n",
       "2  NaN        []\n",
       "3    5  [99, 88]\n",
       "3    4  [99, 88]"
      ]
     },
     "execution_count": 64,
     "metadata": {},
     "output_type": "execute_result"
    },
    {
     "data": {
      "text/html": [
       "<div>\n",
       "<style scoped>\n",
       "    .dataframe tbody tr th:only-of-type {\n",
       "        vertical-align: middle;\n",
       "    }\n",
       "\n",
       "    .dataframe tbody tr th {\n",
       "        vertical-align: top;\n",
       "    }\n",
       "\n",
       "    .dataframe thead th {\n",
       "        text-align: right;\n",
       "    }\n",
       "</style>\n",
       "<table border=\"1\" class=\"dataframe\">\n",
       "  <thead>\n",
       "    <tr style=\"text-align: right;\">\n",
       "      <th></th>\n",
       "      <th>A</th>\n",
       "      <th>B</th>\n",
       "    </tr>\n",
       "  </thead>\n",
       "  <tbody>\n",
       "    <tr>\n",
       "      <td>0</td>\n",
       "      <td>1</td>\n",
       "      <td>11</td>\n",
       "    </tr>\n",
       "    <tr>\n",
       "      <td>0</td>\n",
       "      <td>1</td>\n",
       "      <td>22</td>\n",
       "    </tr>\n",
       "    <tr>\n",
       "      <td>0</td>\n",
       "      <td>2</td>\n",
       "      <td>11</td>\n",
       "    </tr>\n",
       "    <tr>\n",
       "      <td>0</td>\n",
       "      <td>2</td>\n",
       "      <td>22</td>\n",
       "    </tr>\n",
       "    <tr>\n",
       "      <td>0</td>\n",
       "      <td>3</td>\n",
       "      <td>11</td>\n",
       "    </tr>\n",
       "    <tr>\n",
       "      <td>0</td>\n",
       "      <td>3</td>\n",
       "      <td>22</td>\n",
       "    </tr>\n",
       "    <tr>\n",
       "      <td>1</td>\n",
       "      <td>foo</td>\n",
       "      <td>NaN</td>\n",
       "    </tr>\n",
       "    <tr>\n",
       "      <td>2</td>\n",
       "      <td>NaN</td>\n",
       "      <td>NaN</td>\n",
       "    </tr>\n",
       "    <tr>\n",
       "      <td>3</td>\n",
       "      <td>5</td>\n",
       "      <td>99</td>\n",
       "    </tr>\n",
       "    <tr>\n",
       "      <td>3</td>\n",
       "      <td>5</td>\n",
       "      <td>88</td>\n",
       "    </tr>\n",
       "    <tr>\n",
       "      <td>3</td>\n",
       "      <td>4</td>\n",
       "      <td>99</td>\n",
       "    </tr>\n",
       "    <tr>\n",
       "      <td>3</td>\n",
       "      <td>4</td>\n",
       "      <td>88</td>\n",
       "    </tr>\n",
       "  </tbody>\n",
       "</table>\n",
       "</div>"
      ],
      "text/plain": [
       "     A    B\n",
       "0    1   11\n",
       "0    1   22\n",
       "0    2   11\n",
       "0    2   22\n",
       "0    3   11\n",
       "0    3   22\n",
       "1  foo  NaN\n",
       "2  NaN  NaN\n",
       "3    5   99\n",
       "3    5   88\n",
       "3    4   99\n",
       "3    4   88"
      ]
     },
     "execution_count": 64,
     "metadata": {},
     "output_type": "execute_result"
    }
   ],
   "source": [
    "df = pd.DataFrame({'A': [[1, 2, 3], 'foo', [], [5, 4]], 'B': [[11, 22], [], [], [99, 88]]})\n",
    "df\n",
    "df1 = df.explode('A')\n",
    "df1\n",
    "df1.explode('B').drop_duplicates()"
   ]
  },
  {
   "cell_type": "code",
   "execution_count": 18,
   "metadata": {
    "scrolled": true
   },
   "outputs": [
    {
     "data": {
      "text/plain": [
       "<bound method NDFrame.head of            chr        pos ref alt                    patient      impact  \\\n",
       "0            1  121484536   C   T  HTMCP-03-06-02025-01A-01D  INTERGENIC   \n",
       "1            1  121484671   T   G  HTMCP-03-06-02025-01A-01D  INTERGENIC   \n",
       "2            1  121484700   T   A  HTMCP-03-06-02025-01A-01D  INTERGENIC   \n",
       "3            1  121485137   G   C  HTMCP-03-06-02025-01A-01D  INTERGENIC   \n",
       "4            2   92315416   T   C  HTMCP-03-06-02025-01A-01D  INTERGENIC   \n",
       "..         ...        ...  ..  ..                        ...         ...   \n",
       "17          19   27738503   A   C  HTMCP-03-06-02060-01A-01D  INTERGENIC   \n",
       "18  GL000220.1     118534   T   G  HTMCP-03-06-02060-01A-01D  DOWNSTREAM   \n",
       "18  GL000220.1     118534   T   G  HTMCP-03-06-02060-01A-01D  DOWNSTREAM   \n",
       "18  GL000220.1     118534   T   G  HTMCP-03-06-02060-01A-01D  INTERGENIC   \n",
       "19  GL000220.1     125691   C   G  HTMCP-03-06-02060-01A-01D  INTERGENIC   \n",
       "\n",
       "   impact_type type AA_change         gene       transcript  \n",
       "0     MODIFIER                                               \n",
       "1     MODIFIER                                               \n",
       "2     MODIFIER                                               \n",
       "3     MODIFIER                                               \n",
       "4     MODIFIER                                               \n",
       "..         ...  ...       ...          ...              ...  \n",
       "17    MODIFIER                                               \n",
       "18    MODIFIER                 AL592188.10  ENST00000579027  \n",
       "18    MODIFIER                  AL592188.3  ENST00000582153  \n",
       "18    MODIFIER                                               \n",
       "19    MODIFIER                                               \n",
       "\n",
       "[75 rows x 11 columns]>"
      ]
     },
     "execution_count": 18,
     "metadata": {},
     "output_type": "execute_result"
    }
   ],
   "source": [
    "dfmg.head"
   ]
  },
  {
   "cell_type": "code",
   "execution_count": 19,
   "metadata": {},
   "outputs": [],
   "source": []
  },
  {
   "cell_type": "code",
   "execution_count": null,
   "metadata": {},
   "outputs": [],
   "source": []
  },
  {
   "cell_type": "code",
   "execution_count": 15,
   "metadata": {},
   "outputs": [
    {
     "data": {
      "text/plain": [
       "(27, 11)"
      ]
     },
     "execution_count": 15,
     "metadata": {},
     "output_type": "execute_result"
    },
    {
     "data": {
      "text/html": [
       "<div>\n",
       "<style scoped>\n",
       "    .dataframe tbody tr th:only-of-type {\n",
       "        vertical-align: middle;\n",
       "    }\n",
       "\n",
       "    .dataframe tbody tr th {\n",
       "        vertical-align: top;\n",
       "    }\n",
       "\n",
       "    .dataframe thead th {\n",
       "        text-align: right;\n",
       "    }\n",
       "</style>\n",
       "<table border=\"1\" class=\"dataframe\">\n",
       "  <thead>\n",
       "    <tr style=\"text-align: right;\">\n",
       "      <th></th>\n",
       "      <th>chr</th>\n",
       "      <th>pos</th>\n",
       "      <th>ref</th>\n",
       "      <th>alt</th>\n",
       "      <th>patient</th>\n",
       "      <th>impact</th>\n",
       "      <th>impact_type</th>\n",
       "      <th>type</th>\n",
       "      <th>AA_change</th>\n",
       "      <th>gene</th>\n",
       "      <th>transcript</th>\n",
       "    </tr>\n",
       "  </thead>\n",
       "  <tbody>\n",
       "    <tr>\n",
       "      <td>0</td>\n",
       "      <td>1</td>\n",
       "      <td>121484536</td>\n",
       "      <td>C</td>\n",
       "      <td>T</td>\n",
       "      <td>HTMCP-03-06-02025-01A-01D</td>\n",
       "      <td>INTERGENIC</td>\n",
       "      <td>MODIFIER</td>\n",
       "      <td></td>\n",
       "      <td></td>\n",
       "      <td></td>\n",
       "      <td></td>\n",
       "    </tr>\n",
       "    <tr>\n",
       "      <td>1</td>\n",
       "      <td>1</td>\n",
       "      <td>121484671</td>\n",
       "      <td>T</td>\n",
       "      <td>G</td>\n",
       "      <td>HTMCP-03-06-02025-01A-01D</td>\n",
       "      <td>INTERGENIC</td>\n",
       "      <td>MODIFIER</td>\n",
       "      <td></td>\n",
       "      <td></td>\n",
       "      <td></td>\n",
       "      <td></td>\n",
       "    </tr>\n",
       "  </tbody>\n",
       "</table>\n",
       "</div>"
      ],
      "text/plain": [
       "  chr        pos ref alt                    patient      impact impact_type  \\\n",
       "0   1  121484536   C   T  HTMCP-03-06-02025-01A-01D  INTERGENIC    MODIFIER   \n",
       "1   1  121484671   T   G  HTMCP-03-06-02025-01A-01D  INTERGENIC    MODIFIER   \n",
       "\n",
       "  type AA_change gene transcript  \n",
       "0                                 \n",
       "1                                 "
      ]
     },
     "execution_count": 15,
     "metadata": {},
     "output_type": "execute_result"
    },
    {
     "data": {
      "text/html": [
       "<div>\n",
       "<style scoped>\n",
       "    .dataframe tbody tr th:only-of-type {\n",
       "        vertical-align: middle;\n",
       "    }\n",
       "\n",
       "    .dataframe tbody tr th {\n",
       "        vertical-align: top;\n",
       "    }\n",
       "\n",
       "    .dataframe thead th {\n",
       "        text-align: right;\n",
       "    }\n",
       "</style>\n",
       "<table border=\"1\" class=\"dataframe\">\n",
       "  <thead>\n",
       "    <tr style=\"text-align: right;\">\n",
       "      <th></th>\n",
       "      <th>chr</th>\n",
       "      <th>pos</th>\n",
       "      <th>ref</th>\n",
       "      <th>alt</th>\n",
       "      <th>patient</th>\n",
       "      <th>impact</th>\n",
       "      <th>impact_type</th>\n",
       "      <th>type</th>\n",
       "      <th>AA_change</th>\n",
       "      <th>gene</th>\n",
       "      <th>transcript</th>\n",
       "    </tr>\n",
       "  </thead>\n",
       "  <tbody>\n",
       "    <tr>\n",
       "      <td>6</td>\n",
       "      <td>6</td>\n",
       "      <td>142706206</td>\n",
       "      <td>G</td>\n",
       "      <td>A</td>\n",
       "      <td>HTMCP-03-06-02025-01A-01D</td>\n",
       "      <td>DOWNSTREAM</td>\n",
       "      <td>MODIFIER</td>\n",
       "      <td></td>\n",
       "      <td></td>\n",
       "      <td>GPR126</td>\n",
       "      <td>ENST00000545477</td>\n",
       "    </tr>\n",
       "    <tr>\n",
       "      <td>6</td>\n",
       "      <td>6</td>\n",
       "      <td>142706206</td>\n",
       "      <td>G</td>\n",
       "      <td>A</td>\n",
       "      <td>HTMCP-03-06-02025-01A-01D</td>\n",
       "      <td>INTRON</td>\n",
       "      <td>MODIFIER</td>\n",
       "      <td></td>\n",
       "      <td></td>\n",
       "      <td>GPR126</td>\n",
       "      <td>ENST00000367609</td>\n",
       "    </tr>\n",
       "    <tr>\n",
       "      <td>6</td>\n",
       "      <td>6</td>\n",
       "      <td>142706206</td>\n",
       "      <td>G</td>\n",
       "      <td>A</td>\n",
       "      <td>HTMCP-03-06-02025-01A-01D</td>\n",
       "      <td>INTRON</td>\n",
       "      <td>MODIFIER</td>\n",
       "      <td></td>\n",
       "      <td></td>\n",
       "      <td>GPR126</td>\n",
       "      <td>ENST00000230173</td>\n",
       "    </tr>\n",
       "    <tr>\n",
       "      <td>6</td>\n",
       "      <td>6</td>\n",
       "      <td>142706206</td>\n",
       "      <td>G</td>\n",
       "      <td>A</td>\n",
       "      <td>HTMCP-03-06-02025-01A-01D</td>\n",
       "      <td>INTRON</td>\n",
       "      <td>MODIFIER</td>\n",
       "      <td></td>\n",
       "      <td></td>\n",
       "      <td>GPR126</td>\n",
       "      <td>ENST00000367608</td>\n",
       "    </tr>\n",
       "    <tr>\n",
       "      <td>6</td>\n",
       "      <td>6</td>\n",
       "      <td>142706206</td>\n",
       "      <td>G</td>\n",
       "      <td>A</td>\n",
       "      <td>HTMCP-03-06-02025-01A-01D</td>\n",
       "      <td>INTRON</td>\n",
       "      <td>MODIFIER</td>\n",
       "      <td></td>\n",
       "      <td></td>\n",
       "      <td>GPR126</td>\n",
       "      <td>ENST00000296932</td>\n",
       "    </tr>\n",
       "  </tbody>\n",
       "</table>\n",
       "</div>"
      ],
      "text/plain": [
       "  chr        pos ref alt                    patient      impact impact_type  \\\n",
       "6   6  142706206   G   A  HTMCP-03-06-02025-01A-01D  DOWNSTREAM    MODIFIER   \n",
       "6   6  142706206   G   A  HTMCP-03-06-02025-01A-01D      INTRON    MODIFIER   \n",
       "6   6  142706206   G   A  HTMCP-03-06-02025-01A-01D      INTRON    MODIFIER   \n",
       "6   6  142706206   G   A  HTMCP-03-06-02025-01A-01D      INTRON    MODIFIER   \n",
       "6   6  142706206   G   A  HTMCP-03-06-02025-01A-01D      INTRON    MODIFIER   \n",
       "\n",
       "  type AA_change    gene       transcript  \n",
       "6                 GPR126  ENST00000545477  \n",
       "6                 GPR126  ENST00000367609  \n",
       "6                 GPR126  ENST00000230173  \n",
       "6                 GPR126  ENST00000367608  \n",
       "6                 GPR126  ENST00000296932  "
      ]
     },
     "execution_count": 15,
     "metadata": {},
     "output_type": "execute_result"
    }
   ],
   "source": [
    "dfmg.shape\n",
    "dfmg.head(2)\n",
    "\n",
    "dfmg[dfmg.pos == 142706206]"
   ]
  },
  {
   "cell_type": "code",
   "execution_count": 66,
   "metadata": {},
   "outputs": [
    {
     "name": "stdout",
     "output_type": "stream",
     "text": [
      "Converted VcfParser.ipynb to exp/nb_VcfParser.py\r\n"
     ]
    }
   ],
   "source": [
    "!python notebook2script.py VcfParser.ipynb"
   ]
  },
  {
   "cell_type": "code",
   "execution_count": null,
   "metadata": {},
   "outputs": [],
   "source": []
  },
  {
   "cell_type": "code",
   "execution_count": 93,
   "metadata": {},
   "outputs": [
    {
     "name": "stdout",
     "output_type": "stream",
     "text": [
      "53 52\n"
     ]
    }
   ],
   "source": [
    "s = '53:53:52,52:0,0:1,1:53.55:0.00:0.00'\n",
    "def parse_indel_coverage(s):\n",
    "    cov = s.split(':')\n",
    "    cov1 = cov[0]\n",
    "    alt1 = cov[2].split(',')[0]\n",
    "#     indel1 = cov[3].split(',')[0]\n",
    "    print(cov1, alt1)\n",
    "parse_indel_coverage(s)"
   ]
  },
  {
   "cell_type": "code",
   "execution_count": 119,
   "metadata": {},
   "outputs": [
    {
     "data": {
      "text/plain": [
       "[61.0, 0.0]"
      ]
     },
     "execution_count": 119,
     "metadata": {},
     "output_type": "execute_result"
    }
   ],
   "source": [
    "s = '64:3:0:0:50,72:11,15:0,0:0,0'\n",
    "bases = np.array(['A', 'C', 'G', 'T'])\n",
    "def parse_snv_coverage(s, alt):\n",
    "    # DP:FDP:SDP:SUBDP:AU:CU:GU:TU\n",
    "    cov = s.split(':')\n",
    "    acgt = np.zeros(4)\n",
    "    for i, c in enumerate(cov[4:]):\n",
    "        acgt[i] = c.split(',')[0]\n",
    "    return [acgt.sum(), acgt[np.asscalar(np.where(bases == alt)[0])]]\n",
    "parse_snv_coverage(s, 'G')"
   ]
  },
  {
   "cell_type": "code",
   "execution_count": 117,
   "metadata": {},
   "outputs": [
    {
     "data": {
      "text/plain": [
       "array(['G'], dtype='<U1')"
      ]
     },
     "execution_count": 117,
     "metadata": {},
     "output_type": "execute_result"
    }
   ],
   "source": [
    "bases[np.where(bases == 'G')[0]]"
   ]
  },
  {
   "cell_type": "code",
   "execution_count": 105,
   "metadata": {},
   "outputs": [
    {
     "data": {
      "text/plain": [
       "(array([2]),)"
      ]
     },
     "execution_count": 105,
     "metadata": {},
     "output_type": "execute_result"
    }
   ],
   "source": [
    "np.where(bases == 'G')"
   ]
  },
  {
   "cell_type": "code",
   "execution_count": 109,
   "metadata": {},
   "outputs": [
    {
     "data": {
      "text/plain": [
       "'T'"
      ]
     },
     "execution_count": 109,
     "metadata": {},
     "output_type": "execute_result"
    }
   ],
   "source": [
    "bases[3]"
   ]
  },
  {
   "cell_type": "code",
   "execution_count": 118,
   "metadata": {},
   "outputs": [
    {
     "data": {
      "text/plain": [
       "0.0"
      ]
     },
     "execution_count": 118,
     "metadata": {},
     "output_type": "execute_result"
    }
   ],
   "source": [
    "a = np.zeros(4)\n",
    "a[1]"
   ]
  },
  {
   "cell_type": "code",
   "execution_count": 25,
   "metadata": {},
   "outputs": [
    {
     "data": {
      "text/plain": [
       "30030"
      ]
     },
     "execution_count": 25,
     "metadata": {},
     "output_type": "execute_result"
    },
    {
     "data": {
      "text/plain": [
       "[2, 3, 5, 7, 11, 13]"
      ]
     },
     "execution_count": 25,
     "metadata": {},
     "output_type": "execute_result"
    }
   ],
   "source": [
    "from functools import reduce\n",
    "\n",
    "primes = [2, 3, 5, 7, 11, 13]\n",
    "\n",
    "def product(*numbers):\n",
    "    p = reduce(lambda x, y: x * y, numbers)\n",
    "    return p \n",
    "\n",
    "product(*primes)\n",
    "# 30030\n",
    "\n",
    "product(primes)\n",
    "# [2, 3, 5, 7, 11, 13]\n"
   ]
  },
  {
   "cell_type": "code",
   "execution_count": 29,
   "metadata": {},
   "outputs": [
    {
     "data": {
      "text/plain": [
       "[2, 3, 5, 7, 11, 13]"
      ]
     },
     "execution_count": 29,
     "metadata": {},
     "output_type": "execute_result"
    },
    {
     "name": "stdout",
     "output_type": "stream",
     "text": [
      "2 3 5 7 11 13\n"
     ]
    }
   ],
   "source": [
    "primes\n",
    "print(*primes)"
   ]
  }
 ],
 "metadata": {
  "kernelspec": {
   "display_name": "Python 3",
   "language": "python",
   "name": "python3"
  },
  "language_info": {
   "codemirror_mode": {
    "name": "ipython",
    "version": 3
   },
   "file_extension": ".py",
   "mimetype": "text/x-python",
   "name": "python",
   "nbconvert_exporter": "python",
   "pygments_lexer": "ipython3",
   "version": "3.7.3"
  }
 },
 "nbformat": 4,
 "nbformat_minor": 2
}
