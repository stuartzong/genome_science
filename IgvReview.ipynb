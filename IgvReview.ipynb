{
 "cells": [
  {
   "cell_type": "code",
   "execution_count": 137,
   "metadata": {},
   "outputs": [
    {
     "name": "stdout",
     "output_type": "stream",
     "text": [
      "The autoreload extension is already loaded. To reload it, use:\n",
      "  %reload_ext autoreload\n",
      "The blackcellmagic extension is already loaded. To reload it, use:\n",
      "  %reload_ext blackcellmagic\n"
     ]
    }
   ],
   "source": [
    "%load_ext autoreload\n",
    "%autoreload 2\n",
    "import numpy as np\n",
    "import pandas as pd\n",
    "import re\n",
    "from jinja2 import Environment, FileSystemLoader\n",
    "\n",
    "\n",
    "\n",
    "%matplotlib inline\n",
    "%load_ext blackcellmagic\n",
    "\n",
    "from IPython.core.interactiveshell import InteractiveShell\n",
    "InteractiveShell.ast_node_interactivity = \"all\""
   ]
  },
  {
   "cell_type": "code",
   "execution_count": 161,
   "metadata": {},
   "outputs": [],
   "source": [
    "wkdir = '/projects/trans_scratch/validations/workspace/szong/Cervical/variant_bwamem/validation/snvs/'\n",
    "template_dir = '/projects/trans_scratch/validations/workspace/szong/Cervical/variant_bwamem/validation/batch_files/'\n",
    "template_file = 'batch_file_template_20191015.txt'"
   ]
  },
  {
   "cell_type": "markdown",
   "metadata": {},
   "source": [
    "# make a list of variants to review"
   ]
  },
  {
   "cell_type": "code",
   "execution_count": 186,
   "metadata": {},
   "outputs": [
    {
     "data": {
      "text/html": [
       "<div>\n",
       "<style scoped>\n",
       "    .dataframe tbody tr th:only-of-type {\n",
       "        vertical-align: middle;\n",
       "    }\n",
       "\n",
       "    .dataframe tbody tr th {\n",
       "        vertical-align: top;\n",
       "    }\n",
       "\n",
       "    .dataframe thead th {\n",
       "        text-align: right;\n",
       "    }\n",
       "</style>\n",
       "<table border=\"1\" class=\"dataframe\">\n",
       "  <thead>\n",
       "    <tr style=\"text-align: right;\">\n",
       "      <th></th>\n",
       "      <th>chr</th>\n",
       "      <th>pos</th>\n",
       "      <th>ref</th>\n",
       "      <th>alt</th>\n",
       "      <th>patient</th>\n",
       "      <th>gene</th>\n",
       "    </tr>\n",
       "  </thead>\n",
       "  <tbody>\n",
       "    <tr>\n",
       "      <td>0</td>\n",
       "      <td>6</td>\n",
       "      <td>142706206</td>\n",
       "      <td>G</td>\n",
       "      <td>A</td>\n",
       "      <td>HTMCP-03-06-02025</td>\n",
       "      <td>GPR126</td>\n",
       "    </tr>\n",
       "    <tr>\n",
       "      <td>5</td>\n",
       "      <td>6</td>\n",
       "      <td>142706206</td>\n",
       "      <td>G</td>\n",
       "      <td>A</td>\n",
       "      <td>HTMCP-03-06-02061</td>\n",
       "      <td>GPR126</td>\n",
       "    </tr>\n",
       "  </tbody>\n",
       "</table>\n",
       "</div>"
      ],
      "text/plain": [
       "   chr        pos ref alt            patient    gene\n",
       "0    6  142706206   G   A  HTMCP-03-06-02025  GPR126\n",
       "5    6  142706206   G   A  HTMCP-03-06-02061  GPR126"
      ]
     },
     "execution_count": 186,
     "metadata": {},
     "output_type": "execute_result"
    },
    {
     "data": {
      "text/plain": [
       "(71, 6)"
      ]
     },
     "execution_count": 186,
     "metadata": {},
     "output_type": "execute_result"
    }
   ],
   "source": [
    "f = '/projects/trans_scratch/validations/workspace/szong/Cervical/variant_bwamem/validation/strelka_HMLM_targets_summary_20191016.txt'\n",
    "df = pd.read_csv(f, sep='\\t', usecols=['chr', 'pos', 'ref', 'alt', 'patient', 'gene'])\n",
    "df.drop_duplicates(inplace=True)\n",
    "df.head(2)\n",
    "df.shape"
   ]
  },
  {
   "cell_type": "code",
   "execution_count": 187,
   "metadata": {},
   "outputs": [
    {
     "data": {
      "text/html": [
       "<div>\n",
       "<style scoped>\n",
       "    .dataframe tbody tr th:only-of-type {\n",
       "        vertical-align: middle;\n",
       "    }\n",
       "\n",
       "    .dataframe tbody tr th {\n",
       "        vertical-align: top;\n",
       "    }\n",
       "\n",
       "    .dataframe thead th {\n",
       "        text-align: right;\n",
       "    }\n",
       "</style>\n",
       "<table border=\"1\" class=\"dataframe\">\n",
       "  <thead>\n",
       "    <tr style=\"text-align: right;\">\n",
       "      <th></th>\n",
       "      <th>chr</th>\n",
       "      <th>pos</th>\n",
       "      <th>ref</th>\n",
       "      <th>alt</th>\n",
       "      <th>patient</th>\n",
       "      <th>gene</th>\n",
       "      <th>start</th>\n",
       "      <th>end</th>\n",
       "      <th>positions</th>\n",
       "      <th>is_real</th>\n",
       "      <th>comments</th>\n",
       "      <th>chromosome</th>\n",
       "    </tr>\n",
       "  </thead>\n",
       "  <tbody>\n",
       "    <tr>\n",
       "      <td>0</td>\n",
       "      <td>6</td>\n",
       "      <td>142706206</td>\n",
       "      <td>G</td>\n",
       "      <td>A</td>\n",
       "      <td>HTMCP-03-06-02025</td>\n",
       "      <td>GPR126</td>\n",
       "      <td>142706056</td>\n",
       "      <td>142706356</td>\n",
       "      <td>6:142706056-142706356</td>\n",
       "      <td>no</td>\n",
       "      <td>xxx</td>\n",
       "      <td>6</td>\n",
       "    </tr>\n",
       "    <tr>\n",
       "      <td>5</td>\n",
       "      <td>6</td>\n",
       "      <td>142706206</td>\n",
       "      <td>G</td>\n",
       "      <td>A</td>\n",
       "      <td>HTMCP-03-06-02061</td>\n",
       "      <td>GPR126</td>\n",
       "      <td>142706056</td>\n",
       "      <td>142706356</td>\n",
       "      <td>6:142706056-142706356</td>\n",
       "      <td>no</td>\n",
       "      <td>xxx</td>\n",
       "      <td>6</td>\n",
       "    </tr>\n",
       "  </tbody>\n",
       "</table>\n",
       "</div>"
      ],
      "text/plain": [
       "  chr        pos ref alt            patient    gene      start        end  \\\n",
       "0   6  142706206   G   A  HTMCP-03-06-02025  GPR126  142706056  142706356   \n",
       "5   6  142706206   G   A  HTMCP-03-06-02061  GPR126  142706056  142706356   \n",
       "\n",
       "               positions is_real comments chromosome  \n",
       "0  6:142706056-142706356      no      xxx          6  \n",
       "5  6:142706056-142706356      no      xxx          6  "
      ]
     },
     "execution_count": 187,
     "metadata": {},
     "output_type": "execute_result"
    }
   ],
   "source": [
    "df['start'] = df['pos'] - 150\n",
    "df['end'] = df['pos'] +150\n",
    "df = df.astype(str)\n",
    "df['positions'] = df['chr'] + ':' + df['start'] + '-' + df['end']\n",
    "df['is_real'] = 'no'\n",
    "df['comments'] = 'xxx'\n",
    "df[\"chromosome\"] = df.chr\n",
    "df.head(2)"
   ]
  },
  {
   "cell_type": "code",
   "execution_count": 188,
   "metadata": {},
   "outputs": [],
   "source": [
    "patients = df.patient.unique()"
   ]
  },
  {
   "cell_type": "code",
   "execution_count": 189,
   "metadata": {},
   "outputs": [],
   "source": [
    "for p in patients:\n",
    "    dff = df.query(f'patient==\"{p}\"')\n",
    "    n_muts = dff.shape[0]\n",
    "    dff.to_csv(f'{wkdir}{p}_{n_muts}.snv', sep='\\t',index=False)\n"
   ]
  },
  {
   "cell_type": "markdown",
   "metadata": {},
   "source": [
    "# igv batch files"
   ]
  },
  {
   "cell_type": "code",
   "execution_count": 165,
   "metadata": {},
   "outputs": [
    {
     "data": {
      "text/html": [
       "<div>\n",
       "<style scoped>\n",
       "    .dataframe tbody tr th:only-of-type {\n",
       "        vertical-align: middle;\n",
       "    }\n",
       "\n",
       "    .dataframe tbody tr th {\n",
       "        vertical-align: top;\n",
       "    }\n",
       "\n",
       "    .dataframe thead th {\n",
       "        text-align: right;\n",
       "    }\n",
       "</style>\n",
       "<table border=\"1\" class=\"dataframe\">\n",
       "  <thead>\n",
       "    <tr style=\"text-align: right;\">\n",
       "      <th></th>\n",
       "      <th>Tumour</th>\n",
       "      <th>Normal</th>\n",
       "      <th>t_dna</th>\n",
       "      <th>n_dna</th>\n",
       "    </tr>\n",
       "    <tr>\n",
       "      <th>Patient</th>\n",
       "      <th></th>\n",
       "      <th></th>\n",
       "      <th></th>\n",
       "      <th></th>\n",
       "    </tr>\n",
       "  </thead>\n",
       "  <tbody>\n",
       "    <tr>\n",
       "      <td>HTMCP-03-06-02025</td>\n",
       "      <td>B68907</td>\n",
       "      <td>B68872</td>\n",
       "      <td>/projects/analysis/analysis33/B68907/merge4734...</td>\n",
       "      <td>/projects/analysis/analysis33/B68872/merge4731...</td>\n",
       "    </tr>\n",
       "    <tr>\n",
       "      <td>HTMCP-03-06-02044</td>\n",
       "      <td>B68919</td>\n",
       "      <td>B68884</td>\n",
       "      <td>/projects/analysis/analysis33/B68919/merge4735...</td>\n",
       "      <td>/projects/analysis/analysis33/B68884/merge4732...</td>\n",
       "    </tr>\n",
       "  </tbody>\n",
       "</table>\n",
       "</div>"
      ],
      "text/plain": [
       "                   Tumour  Normal  \\\n",
       "Patient                             \n",
       "HTMCP-03-06-02025  B68907  B68872   \n",
       "HTMCP-03-06-02044  B68919  B68884   \n",
       "\n",
       "                                                               t_dna  \\\n",
       "Patient                                                                \n",
       "HTMCP-03-06-02025  /projects/analysis/analysis33/B68907/merge4734...   \n",
       "HTMCP-03-06-02044  /projects/analysis/analysis33/B68919/merge4735...   \n",
       "\n",
       "                                                               n_dna  \n",
       "Patient                                                               \n",
       "HTMCP-03-06-02025  /projects/analysis/analysis33/B68872/merge4731...  \n",
       "HTMCP-03-06-02044  /projects/analysis/analysis33/B68884/merge4732...  "
      ]
     },
     "execution_count": 165,
     "metadata": {},
     "output_type": "execute_result"
    }
   ],
   "source": [
    "of = '/projects/trans_scratch/validations/workspace/szong/Cervical/variant_bwamem/validation/meta_file_20191016.txt'\n",
    "df1 = pd.read_csv(of, sep='\\t', index_col='Patient')\n",
    "df1.head(2)"
   ]
  },
  {
   "cell_type": "code",
   "execution_count": 179,
   "metadata": {},
   "outputs": [],
   "source": [
    "# export\n",
    "def render_template(template_dir, out_file, template_file,tdna_bam, trna_bam, ndna_bam):\n",
    "    jinja2_env = Environment(loader=FileSystemLoader([template_dir]),\n",
    "                             trim_blocks=True)\n",
    "    template = jinja2_env.get_template(template_file)\n",
    "    with open(out_file, 'w') as opf:\n",
    "        content = template.render(out_file=out_file,\n",
    "                                  tdna_bam=tdna_bam,\n",
    "                                  trna_bam=trna_bam,\n",
    "                                  ndna_bam=ndna_bam)\n",
    "                                                                 \n",
    "        opf.write(content)\n",
    "#         print('templated {}'.format(sh_script))\n",
    "    return out_file"
   ]
  },
  {
   "cell_type": "code",
   "execution_count": 183,
   "metadata": {
    "scrolled": true
   },
   "outputs": [
    {
     "data": {
      "text/html": [
       "<div>\n",
       "<style scoped>\n",
       "    .dataframe tbody tr th:only-of-type {\n",
       "        vertical-align: middle;\n",
       "    }\n",
       "\n",
       "    .dataframe tbody tr th {\n",
       "        vertical-align: top;\n",
       "    }\n",
       "\n",
       "    .dataframe thead th {\n",
       "        text-align: right;\n",
       "    }\n",
       "</style>\n",
       "<table border=\"1\" class=\"dataframe\">\n",
       "  <thead>\n",
       "    <tr style=\"text-align: right;\">\n",
       "      <th></th>\n",
       "      <th>Tumour</th>\n",
       "      <th>Normal</th>\n",
       "      <th>t_dna</th>\n",
       "      <th>n_dna</th>\n",
       "    </tr>\n",
       "    <tr>\n",
       "      <th>Patient</th>\n",
       "      <th></th>\n",
       "      <th></th>\n",
       "      <th></th>\n",
       "      <th></th>\n",
       "    </tr>\n",
       "  </thead>\n",
       "  <tbody>\n",
       "    <tr>\n",
       "      <td>HTMCP-03-06-02025</td>\n",
       "      <td>B68907</td>\n",
       "      <td>B68872</td>\n",
       "      <td>/projects/analysis/analysis33/B68907/merge4734...</td>\n",
       "      <td>/projects/analysis/analysis33/B68872/merge4731...</td>\n",
       "    </tr>\n",
       "    <tr>\n",
       "      <td>HTMCP-03-06-02044</td>\n",
       "      <td>B68919</td>\n",
       "      <td>B68884</td>\n",
       "      <td>/projects/analysis/analysis33/B68919/merge4735...</td>\n",
       "      <td>/projects/analysis/analysis33/B68884/merge4732...</td>\n",
       "    </tr>\n",
       "  </tbody>\n",
       "</table>\n",
       "</div>"
      ],
      "text/plain": [
       "                   Tumour  Normal  \\\n",
       "Patient                             \n",
       "HTMCP-03-06-02025  B68907  B68872   \n",
       "HTMCP-03-06-02044  B68919  B68884   \n",
       "\n",
       "                                                               t_dna  \\\n",
       "Patient                                                                \n",
       "HTMCP-03-06-02025  /projects/analysis/analysis33/B68907/merge4734...   \n",
       "HTMCP-03-06-02044  /projects/analysis/analysis33/B68919/merge4735...   \n",
       "\n",
       "                                                               n_dna  \n",
       "Patient                                                               \n",
       "HTMCP-03-06-02025  /projects/analysis/analysis33/B68872/merge4731...  \n",
       "HTMCP-03-06-02044  /projects/analysis/analysis33/B68884/merge4732...  "
      ]
     },
     "execution_count": 183,
     "metadata": {},
     "output_type": "execute_result"
    }
   ],
   "source": [
    "df1.head(2)"
   ]
  },
  {
   "cell_type": "code",
   "execution_count": 182,
   "metadata": {},
   "outputs": [],
   "source": [
    "for ix, row in df1.iterrows():\n",
    "    pat = ix\n",
    "    if pat in patients:\n",
    "        t_dna = df1.loc[pat, 't_dna']\n",
    "    #     t_rna = df1.loc[pat, 't_rna']\n",
    "        n_dna = df1.loc[pat, 'n_dna']\n",
    "        out_file = f'{template_dir}/{pat}_batch_file.txt'\n",
    "        _ = render_template(template_dir, out_file, template_file, t_dna, t_rna, n_dna)"
   ]
  },
  {
   "cell_type": "markdown",
   "metadata": {},
   "source": [
    "# review in igv"
   ]
  },
  {
   "cell_type": "markdown",
   "metadata": {},
   "source": [
    "the python scripts will read a variants.bed file, which is generated by the scipts, and connect to opened igv session on gpost08. Depending on the review, it will separate the variants into passed and failed files."
   ]
  },
  {
   "cell_type": "markdown",
   "metadata": {},
   "source": [
    "currently no good way to go about this. This is primarily due to there is no igv batch command giving me an option to pause for review and then move on to the next position after igv loads all bams and go to the position of interest.\n",
    "\n",
    "if one patient have many variants, may be just use the existing review scripts:\n",
    "\n",
    "ssh -X gphost08\n",
    "\n",
    "igv -b /projects/trans_scratch/validations/workspace/szong/Cervical/mutsig2cv/batch_files/HTMCP-03-06-02063.batch\n",
    "\n",
    "python /projects/da_workspace/DA-231_SMG_review/variant_igv_review.py -c /projects/tumour_char/analysis_scripts/SVIA/variant_igv_review/tags/v0.2.2/variant_igv_review.cfg -i batch_files/HTMCP-03-06-02063_6.snv -p ./passed_test.txt -f ./failed_test.txt --igv -b ./variants.bed\n",
    "\n",
    "if reviewing specific variants from many patients, may be just use the following hack around"
   ]
  },
  {
   "cell_type": "markdown",
   "metadata": {},
   "source": [
    "even this is not a solution"
   ]
  },
  {
   "cell_type": "code",
   "execution_count": 35,
   "metadata": {},
   "outputs": [],
   "source": [
    "# %%bash\n",
    "# igv='/gsc/software/linux-x86_64-centos6/jdk1.8.0_102/bin/java -jar /gsc/software/linux-x86_64/IGV-2.3.47/igv.jar'\n",
    "# $igv -b HTMCP-03-06-02001_batch_file.txt\n",
    "# read -p \"Press enter to continue\"\n",
    "# $igv -b HTMCP-03-06-02002_batch_file.txt\n",
    "# read -p \"Press enter to continue\"\n",
    "# $igv -b HTMCP-03-06-02058_batch_file.txt\n"
   ]
  },
  {
   "cell_type": "code",
   "execution_count": null,
   "metadata": {},
   "outputs": [],
   "source": []
  }
 ],
 "metadata": {
  "kernelspec": {
   "display_name": "Python 3",
   "language": "python",
   "name": "python3"
  },
  "language_info": {
   "codemirror_mode": {
    "name": "ipython",
    "version": 3
   },
   "file_extension": ".py",
   "mimetype": "text/x-python",
   "name": "python",
   "nbconvert_exporter": "python",
   "pygments_lexer": "ipython3",
   "version": "3.7.3"
  }
 },
 "nbformat": 4,
 "nbformat_minor": 2
}
