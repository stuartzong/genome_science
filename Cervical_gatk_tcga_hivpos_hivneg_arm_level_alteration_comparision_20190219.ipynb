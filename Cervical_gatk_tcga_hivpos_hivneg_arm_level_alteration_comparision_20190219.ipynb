{
 "cells": [
  {
   "cell_type": "code",
   "execution_count": 1,
   "metadata": {},
   "outputs": [],
   "source": [
    "import sys\n",
    "import pandas as pd\n",
    "import numpy as np\n",
    "import matplotlib.pyplot as plt\n",
    "%matplotlib inline\n",
    "sys.path.append('/projects/trans_scratch/validations/workspace/szong/Cervical/notebook')\n",
    "import sz_toolbox as szt\n",
    "from IPython.core.interactiveshell import InteractiveShell\n",
    "InteractiveShell.ast_node_interactivity = \"all\""
   ]
  },
  {
   "cell_type": "code",
   "execution_count": 2,
   "metadata": {},
   "outputs": [
    {
     "data": {
      "text/html": [
       "<div>\n",
       "<style scoped>\n",
       "    .dataframe tbody tr th:only-of-type {\n",
       "        vertical-align: middle;\n",
       "    }\n",
       "\n",
       "    .dataframe tbody tr th {\n",
       "        vertical-align: top;\n",
       "    }\n",
       "\n",
       "    .dataframe thead th {\n",
       "        text-align: right;\n",
       "    }\n",
       "</style>\n",
       "<table border=\"1\" class=\"dataframe\">\n",
       "  <thead>\n",
       "    <tr style=\"text-align: right;\">\n",
       "      <th></th>\n",
       "      <th>Arm</th>\n",
       "      <th># Genes</th>\n",
       "      <th>Amp frequency</th>\n",
       "      <th>Amp z-score</th>\n",
       "      <th>Amp q-value</th>\n",
       "      <th>Del Frequency</th>\n",
       "      <th>Del z-score</th>\n",
       "      <th>Del q-value</th>\n",
       "    </tr>\n",
       "  </thead>\n",
       "  <tbody>\n",
       "    <tr>\n",
       "      <th>0</th>\n",
       "      <td>1p</td>\n",
       "      <td>2121</td>\n",
       "      <td>0.50</td>\n",
       "      <td>3.63</td>\n",
       "      <td>0.000812</td>\n",
       "      <td>0.17</td>\n",
       "      <td>-1.68</td>\n",
       "      <td>0.997</td>\n",
       "    </tr>\n",
       "    <tr>\n",
       "      <th>1</th>\n",
       "      <td>1q</td>\n",
       "      <td>1955</td>\n",
       "      <td>0.57</td>\n",
       "      <td>4.82</td>\n",
       "      <td>0.000014</td>\n",
       "      <td>0.09</td>\n",
       "      <td>-2.68</td>\n",
       "      <td>0.997</td>\n",
       "    </tr>\n",
       "  </tbody>\n",
       "</table>\n",
       "</div>"
      ],
      "text/plain": [
       "  Arm  # Genes  Amp frequency  Amp z-score  Amp q-value  Del Frequency  \\\n",
       "0  1p     2121           0.50         3.63     0.000812           0.17   \n",
       "1  1q     1955           0.57         4.82     0.000014           0.09   \n",
       "\n",
       "   Del z-score  Del q-value  \n",
       "0        -1.68        0.997  \n",
       "1        -2.68        0.997  "
      ]
     },
     "execution_count": 2,
     "metadata": {},
     "output_type": "execute_result"
    },
    {
     "data": {
      "text/html": [
       "<div>\n",
       "<style scoped>\n",
       "    .dataframe tbody tr th:only-of-type {\n",
       "        vertical-align: middle;\n",
       "    }\n",
       "\n",
       "    .dataframe tbody tr th {\n",
       "        vertical-align: top;\n",
       "    }\n",
       "\n",
       "    .dataframe thead th {\n",
       "        text-align: right;\n",
       "    }\n",
       "</style>\n",
       "<table border=\"1\" class=\"dataframe\">\n",
       "  <thead>\n",
       "    <tr style=\"text-align: right;\">\n",
       "      <th></th>\n",
       "      <th>Arm</th>\n",
       "      <th># Genes</th>\n",
       "      <th>Amp frequency</th>\n",
       "      <th>Amp z-score</th>\n",
       "      <th>Amp q-value</th>\n",
       "      <th>Del Frequency</th>\n",
       "      <th>Del z-score</th>\n",
       "      <th>Del q-value</th>\n",
       "    </tr>\n",
       "  </thead>\n",
       "  <tbody>\n",
       "    <tr>\n",
       "      <th>0</th>\n",
       "      <td>1p</td>\n",
       "      <td>2121</td>\n",
       "      <td>0.57</td>\n",
       "      <td>3.03</td>\n",
       "      <td>6.890000e-03</td>\n",
       "      <td>0.33</td>\n",
       "      <td>0.00793</td>\n",
       "      <td>0.994</td>\n",
       "    </tr>\n",
       "    <tr>\n",
       "      <th>1</th>\n",
       "      <td>1q</td>\n",
       "      <td>1955</td>\n",
       "      <td>0.79</td>\n",
       "      <td>6.44</td>\n",
       "      <td>1.160000e-09</td>\n",
       "      <td>0.18</td>\n",
       "      <td>-1.04000</td>\n",
       "      <td>0.994</td>\n",
       "    </tr>\n",
       "  </tbody>\n",
       "</table>\n",
       "</div>"
      ],
      "text/plain": [
       "  Arm  # Genes  Amp frequency  Amp z-score   Amp q-value  Del Frequency  \\\n",
       "0  1p     2121           0.57         3.03  6.890000e-03           0.33   \n",
       "1  1q     1955           0.79         6.44  1.160000e-09           0.18   \n",
       "\n",
       "   Del z-score  Del q-value  \n",
       "0      0.00793        0.994  \n",
       "1     -1.04000        0.994  "
      ]
     },
     "execution_count": 2,
     "metadata": {},
     "output_type": "execute_result"
    },
    {
     "data": {
      "text/html": [
       "<div>\n",
       "<style scoped>\n",
       "    .dataframe tbody tr th:only-of-type {\n",
       "        vertical-align: middle;\n",
       "    }\n",
       "\n",
       "    .dataframe tbody tr th {\n",
       "        vertical-align: top;\n",
       "    }\n",
       "\n",
       "    .dataframe thead th {\n",
       "        text-align: right;\n",
       "    }\n",
       "</style>\n",
       "<table border=\"1\" class=\"dataframe\">\n",
       "  <thead>\n",
       "    <tr style=\"text-align: right;\">\n",
       "      <th></th>\n",
       "      <th>Arm</th>\n",
       "      <th># Genes</th>\n",
       "      <th>Amp frequency</th>\n",
       "      <th>Amp z-score</th>\n",
       "      <th>Amp q-value</th>\n",
       "      <th>Del Frequency</th>\n",
       "      <th>Del z-score</th>\n",
       "      <th>Del q-value</th>\n",
       "    </tr>\n",
       "  </thead>\n",
       "  <tbody>\n",
       "    <tr>\n",
       "      <th>0</th>\n",
       "      <td>1p</td>\n",
       "      <td>2121</td>\n",
       "      <td>0.35</td>\n",
       "      <td>5.5</td>\n",
       "      <td>1.800000e-07</td>\n",
       "      <td>0.06</td>\n",
       "      <td>-3.49</td>\n",
       "      <td>1.0</td>\n",
       "    </tr>\n",
       "    <tr>\n",
       "      <th>1</th>\n",
       "      <td>1q</td>\n",
       "      <td>1955</td>\n",
       "      <td>0.51</td>\n",
       "      <td>10.8</td>\n",
       "      <td>0.000000e+00</td>\n",
       "      <td>0.06</td>\n",
       "      <td>-3.18</td>\n",
       "      <td>1.0</td>\n",
       "    </tr>\n",
       "  </tbody>\n",
       "</table>\n",
       "</div>"
      ],
      "text/plain": [
       "  Arm  # Genes  Amp frequency  Amp z-score   Amp q-value  Del Frequency  \\\n",
       "0  1p     2121           0.35          5.5  1.800000e-07           0.06   \n",
       "1  1q     1955           0.51         10.8  0.000000e+00           0.06   \n",
       "\n",
       "   Del z-score  Del q-value  \n",
       "0        -3.49          1.0  \n",
       "1        -3.18          1.0  "
      ]
     },
     "execution_count": 2,
     "metadata": {},
     "output_type": "execute_result"
    }
   ],
   "source": [
    "wkdir = '/projects/trans_scratch/validations/workspace/szong/Cervical/cnv/'\n",
    "hivposf = '/home/szong/bin/GISTIC_2_0_22/gatk_118_HIV_pos/broad_significance_results.txt'\n",
    "hivnegf = '/home/szong/bin/GISTIC_2_0_22/gatk_118_HIV_neg/broad_significance_results.txt'\n",
    "tcgaf = '/home/szong/bin/GISTIC_2_0_22/tcga/broad_significance_results.txt'\n",
    "# htmcpf = '/home/szong/bin/GISTIC_2_0_22/gatk_118_patients/broad_significance_results.txt'\n",
    "arm_threshold = 0.25\n",
    "hivpos = pd.read_csv(hivposf, sep='\\t')\n",
    "hivpos.head(2)\n",
    "hivneg = pd.read_csv(hivnegf, sep='\\t')\n",
    "hivneg[:2]\n",
    "tcga = pd.read_csv(tcgaf, sep='\\t')\n",
    "tcga[:2]"
   ]
  },
  {
   "cell_type": "code",
   "execution_count": 5,
   "metadata": {},
   "outputs": [],
   "source": [
    "def uniq_bands(df1, df2, alteration_type):\n",
    "    d = {'amp': 'Amp q-value', 'del': 'Del q-value'}\n",
    "    alt_type = d[alteration_type.lower()]\n",
    "    alter1 = df1[df1[alt_type] <= arm_threshold].Arm.tolist()\n",
    "    alter2 = df2[df2[alt_type] <= arm_threshold].Arm.tolist()\n",
    "    uniq1 = szt.unique2a(alter1, alter2)\n",
    "    uniq2 = szt.unique2a(alter2, alter1)\n",
    "    return (uniq1, uniq2)"
   ]
  },
  {
   "cell_type": "code",
   "execution_count": 6,
   "metadata": {},
   "outputs": [],
   "source": [
    "def shared_bands(df1, df2, alteration_type):\n",
    "    d = {'amp': 'Amp q-value', 'del': 'Del q-value'}\n",
    "    alt_type = d[alteration_type.lower()]\n",
    "    alter1 = df1[df1[alt_type] <= arm_threshold].Arm.tolist()\n",
    "    alter2 = df2[df2[alt_type] <= arm_threshold].Arm.tolist()\n",
    "    shared = szt.intersect(alter1, alter2)\n",
    "    return (shared)"
   ]
  },
  {
   "cell_type": "code",
   "execution_count": 16,
   "metadata": {},
   "outputs": [],
   "source": [
    "def sig_bands(df1, alteration_type):\n",
    "    d = {'amp': 'Amp q-value', 'del': 'Del q-value'}\n",
    "    alt_type = d[alteration_type.lower()]\n",
    "    alter1 = df1[df1[alt_type] <= arm_threshold].Arm.tolist()\n",
    "    return (alter1)"
   ]
  },
  {
   "cell_type": "markdown",
   "metadata": {},
   "source": [
    "# hiv+ vs hiv-"
   ]
  },
  {
   "cell_type": "code",
   "execution_count": 7,
   "metadata": {},
   "outputs": [],
   "source": [
    "hivpos_uniqamp, hivneg_uniqamp = uniq_bands(hivpos, hivneg, 'amp')\n",
    "hivpos_uniqdel, hivneg_uniqdel = uniq_bands(hivpos, hivneg, 'Del')\n",
    "hivshared_amp = shared_bands(hivpos, hivneg, 'amp')\n",
    "hivshared_del = shared_bands(hivpos, hivneg, 'Del')\n"
   ]
  },
  {
   "cell_type": "code",
   "execution_count": 13,
   "metadata": {},
   "outputs": [
    {
     "data": {
      "text/plain": [
       "['6p', '16p', '14q', '9q', '16q', '9p']"
      ]
     },
     "execution_count": 13,
     "metadata": {},
     "output_type": "execute_result"
    },
    {
     "data": {
      "text/plain": [
       "['3p', '15q']"
      ]
     },
     "execution_count": 13,
     "metadata": {},
     "output_type": "execute_result"
    },
    {
     "data": {
      "text/plain": [
       "['13q', '5q', '21q', '4q']"
      ]
     },
     "execution_count": 13,
     "metadata": {},
     "output_type": "execute_result"
    },
    {
     "data": {
      "text/plain": [
       "[]"
      ]
     },
     "execution_count": 13,
     "metadata": {},
     "output_type": "execute_result"
    },
    {
     "data": {
      "text/plain": [
       "['19q', '20q', '1p', '5p', '20p', '8q', '1q', '3q', '8p']"
      ]
     },
     "execution_count": 13,
     "metadata": {},
     "output_type": "execute_result"
    },
    {
     "data": {
      "text/plain": [
       "['11p', '11q', '3p', '21p', '19p', '4p']"
      ]
     },
     "execution_count": 13,
     "metadata": {},
     "output_type": "execute_result"
    }
   ],
   "source": [
    "hivpos_uniqamp\n",
    "hivneg_uniqamp\n",
    "hivpos_uniqdel\n",
    "hivneg_uniqdel\n",
    "hivshared_amp\n",
    "hivshared_del"
   ]
  },
  {
   "cell_type": "markdown",
   "metadata": {},
   "source": [
    "# tcga vs hiv-"
   ]
  },
  {
   "cell_type": "code",
   "execution_count": 18,
   "metadata": {},
   "outputs": [],
   "source": [
    "tcga_uniqamp, hivneg2_uniqamp = uniq_bands(tcga, hivneg, 'amp')\n",
    "tcga_uniqdel, hivneg2_uniqdel = uniq_bands(tcga, hivneg, 'del')\n",
    "tcgashared_amp = shared_bands(tcga, hivneg, 'amp')\n",
    "tcgashared_del = shared_bands(tcga, hivneg, 'del')"
   ]
  },
  {
   "cell_type": "code",
   "execution_count": 19,
   "metadata": {},
   "outputs": [
    {
     "data": {
      "text/plain": [
       "[]"
      ]
     },
     "execution_count": 19,
     "metadata": {},
     "output_type": "execute_result"
    },
    {
     "data": {
      "text/plain": [
       "['3p', '8p', '15q']"
      ]
     },
     "execution_count": 19,
     "metadata": {},
     "output_type": "execute_result"
    },
    {
     "data": {
      "text/plain": [
       "['22q', '17p', '5q', '4q', '6q', '3q', '10q', '13q', '18q', '8p', '9p']"
      ]
     },
     "execution_count": 19,
     "metadata": {},
     "output_type": "execute_result"
    },
    {
     "data": {
      "text/plain": [
       "['21p']"
      ]
     },
     "execution_count": 19,
     "metadata": {},
     "output_type": "execute_result"
    },
    {
     "data": {
      "text/plain": [
       "['19q', '20q', '1p', '5p', '20p', '8q', '1q', '3q']"
      ]
     },
     "execution_count": 19,
     "metadata": {},
     "output_type": "execute_result"
    },
    {
     "data": {
      "text/plain": [
       "['11p', '11q', '3p', '19p', '4p']"
      ]
     },
     "execution_count": 19,
     "metadata": {},
     "output_type": "execute_result"
    }
   ],
   "source": [
    "tcga_uniqamp \n",
    "hivneg2_uniqamp\n",
    "tcga_uniqdel\n",
    "hivneg2_uniqdel\n",
    "tcgashared_amp\n",
    "tcgashared_del"
   ]
  },
  {
   "cell_type": "code",
   "execution_count": 20,
   "metadata": {},
   "outputs": [],
   "source": [
    "of = f'{wkdir}hivpos_uniqamp_arms_{arm_threshold}.txt'\n",
    "szt.list2csv(hivpos_uniqamp, of)\n",
    "of = f'{wkdir}hivneg_uniqamp_arms_{arm_threshold}.txt'\n",
    "szt.list2csv(hivneg_uniqamp, of)\n",
    "of = f'{wkdir}hivpos_uniqdel_arms_{arm_threshold}.txt'\n",
    "szt.list2csv(hivpos_uniqdel, of)\n",
    "of = f'{wkdir}hivneg_uniqdel_arms_{arm_threshold}.txt'\n",
    "szt.list2csv(hivneg_uniqdel, of)\n",
    "\n",
    "of = f'{wkdir}hiv_sharedamp_arms_{arm_threshold}.txt'\n",
    "szt.list2csv(hivshared_amp, of)\n",
    "of = f'{wkdir}hiv_shareddel_arms_{arm_threshold}.txt'\n",
    "szt.list2csv(hivshared_del, of)\n",
    "\n",
    "of = f'{wkdir}tcga_uniqamp_arms_{arm_threshold}.txt'\n",
    "szt.list2csv(tcga_uniqamp, of)\n",
    "of = f'{wkdir}tcga_uniqdel_arms_{arm_threshold}.txt'\n",
    "szt.list2csv(tcga_uniqdel, of)\n",
    "\n",
    "of = f'{wkdir}hivneg2_uniqdel_arms_{arm_threshold}.txt'\n",
    "szt.list2csv(hivneg2_uniqdel, of)\n",
    "\n",
    "of = f'{wkdir}hivneg2_uniqamp_arms_{arm_threshold}.txt'\n",
    "szt.list2csv(hivneg2_uniqamp, of)\n",
    "\n",
    "of = f'{wkdir}tcga_sharedamp_arms_{arm_threshold}.txt'\n",
    "szt.list2csv(tcgashared_amp, of)\n",
    "of = f'{wkdir}tcga_shareddel_arms_{arm_threshold}.txt'\n",
    "szt.list2csv(tcgashared_del, of)\n"
   ]
  },
  {
   "cell_type": "code",
   "execution_count": null,
   "metadata": {},
   "outputs": [],
   "source": []
  }
 ],
 "metadata": {
  "kernelspec": {
   "display_name": "Python 3",
   "language": "python",
   "name": "python3"
  },
  "language_info": {
   "codemirror_mode": {
    "name": "ipython",
    "version": 3
   },
   "file_extension": ".py",
   "mimetype": "text/x-python",
   "name": "python",
   "nbconvert_exporter": "python",
   "pygments_lexer": "ipython3",
   "version": "3.7.3"
  }
 },
 "nbformat": 4,
 "nbformat_minor": 2
}
