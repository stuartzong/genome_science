{
 "cells": [
  {
   "cell_type": "code",
   "execution_count": 3,
   "metadata": {},
   "outputs": [],
   "source": [
    "import os\n",
    "import pandas as pd\n",
    "import requests\n",
    "import pprint\n",
    "import fileinput\n",
    "import sys"
   ]
  },
  {
   "cell_type": "markdown",
   "metadata": {},
   "source": [
    "this is the bioapps rest api wiki\n",
    "http://www.bcgsc.ca/data/bioapps-docs/bioapps.api/docs/"
   ]
  },
  {
   "cell_type": "code",
   "execution_count": 19,
   "metadata": {},
   "outputs": [
    {
     "name": "stdout",
     "output_type": "stream",
     "text": [
      "{'status': 'error', 'errors': [{'location': 'body', 'name': 'session', 'description': 'Username or password is incorrect.'}]}\n"
     ]
    }
   ],
   "source": [
    "URL = 'http://sbs:8100/'\n",
    "# print(URL)\n",
    "\n",
    "\n",
    "\n",
    "# Create session object, which can be used for all requests.\n",
    "request_handle = requests.Session()\n",
    "\n",
    "# Set up appropriate headers.\n",
    "headers = {'Content-Type': 'application/json',\n",
    "           'Accept': 'application/json'}\n",
    "\n",
    "# Send the POST request, with your username & password, converted to json.\n",
    "response = request_handle.post(os.path.join(URL, 'session'),\n",
    "                               json={'username': 'szong',\n",
    "                                     'password': '####',\n",
    "                                     },\n",
    "                               headers=headers)\n",
    "\n",
    "# Check that the response is OK.\n",
    "if response.status_code == 200:\n",
    "     # Add the authentication token to the headers.\n",
    "     token = response.json().get('token')\n",
    "     headers.update({'X-Token': token})\n",
    "else:\n",
    "     # View error messages.\n",
    "     print (response.json())"
   ]
  },
  {
   "cell_type": "code",
   "execution_count": 4,
   "metadata": {},
   "outputs": [
    {
     "data": {
      "text/plain": [
       "(118, 4)"
      ]
     },
     "execution_count": 4,
     "metadata": {},
     "output_type": "execute_result"
    }
   ],
   "source": [
    "f = '/projects/trans_scratch/validations/workspace/szong/Cervical/variant_bwamem/124_patients_new/124_patients_bam_vcf_20190115.csv'\n",
    "df = pd.read_csv(f, usecols=['patient','status', 'DNA_lib', 'strelka_snv_vcf', 'strelka_indel_vcf'])\n",
    "df = df[df.status == 'Malignant']\n",
    "df.drop('status', axis=1, inplace=True)\n",
    "df.shape\n",
    "df.head(2)\n",
    "\n",
    "\n",
    "f = '/projects/trans_scratch/validations/workspace/szong/Cervical/mutsig2cv/118_patients.txt'\n",
    "df1 = pd.read_csv(f,header=None)\n",
    "df1.columns = ['patient']\n",
    "df1.head()\n",
    "df1.shape\n",
    "patients = df1['patient']\n",
    "patients[:2]\n",
    "\n",
    "df = df[df.patient.isin(patients)]\n",
    "df.columns = ['patient', 'DNA_lib', 'indels', 'snvs']\n",
    "df.shape"
   ]
  },
  {
   "cell_type": "code",
   "execution_count": 5,
   "metadata": {},
   "outputs": [
    {
     "data": {
      "text/plain": [
       "(118, 4)"
      ]
     },
     "execution_count": 5,
     "metadata": {},
     "output_type": "execute_result"
    }
   ],
   "source": [
    "df.head(2)\n",
    "df.shape"
   ]
  },
  {
   "cell_type": "code",
   "execution_count": 1,
   "metadata": {},
   "outputs": [],
   "source": [
    "from pprint import pprint \n",
    "vcfs = []\n",
    "for ix, row in df.iterrows():    \n",
    "    lib = row['DNA_lib']\n",
    "    pat = row['patient']\n",
    "    response = request_handle.get(os.path.join(URL, 'somatic'), \n",
    "                                  params={'library': lib, \n",
    "#                                           'patient': pat,\n",
    "                                          'production': True, \n",
    "                                          'analysis_type': 'combined_snv'},\n",
    "#                                           'analysis_type': 'strelka'}, \n",
    "                                  headers=headers).json()\n",
    "\n",
    "#     print(response)\n",
    "    for item in response:\n",
    "        vcfs.append([pat, item.get('data_path')])\n",
    "#         print(item.get('data_path'))\n",
    "print(vcfs)\n",
    "of = '/projects/trans_scratch/validations/workspace/szong/Cervical/variant_bwamem/124_patients_new/bioapps_returned_combinedsnv_path.txt'\n",
    "pd.DataFrame(vcfs).to_csv(of, index=False, header=None)"
   ]
  },
  {
   "cell_type": "code",
   "execution_count": 4,
   "metadata": {},
   "outputs": [
    {
     "ename": "FileNotFoundError",
     "evalue": "[Errno 2] No such file or directory: '-f'",
     "output_type": "error",
     "traceback": [
      "\u001b[0;31m---------------------------------------------------------------------------\u001b[0m",
      "\u001b[0;31mFileNotFoundError\u001b[0m                         Traceback (most recent call last)",
      "\u001b[0;32m<ipython-input-4-f1b775f4e5ad>\u001b[0m in \u001b[0;36m<module>\u001b[0;34m()\u001b[0m\n\u001b[0;32m----> 1\u001b[0;31m \u001b[0;32mfor\u001b[0m \u001b[0mpatient_name\u001b[0m \u001b[0;32min\u001b[0m \u001b[0mfileinput\u001b[0m\u001b[0;34m.\u001b[0m\u001b[0minput\u001b[0m\u001b[0;34m(\u001b[0m\u001b[0;34m)\u001b[0m\u001b[0;34m:\u001b[0m\u001b[0;34m\u001b[0m\u001b[0;34m\u001b[0m\u001b[0m\n\u001b[0m\u001b[1;32m      2\u001b[0m \u001b[0;34m\u001b[0m\u001b[0m\n\u001b[1;32m      3\u001b[0m     \u001b[0mpatient_name\u001b[0m \u001b[0;34m=\u001b[0m \u001b[0mpatient_name\u001b[0m\u001b[0;34m.\u001b[0m\u001b[0mrstrip\u001b[0m\u001b[0;34m(\u001b[0m\u001b[0;34m)\u001b[0m\u001b[0;34m\u001b[0m\u001b[0;34m\u001b[0m\u001b[0m\n\u001b[1;32m      4\u001b[0m     response = request_handle.get(os.path.join(URL, 'somatic'), \n\u001b[1;32m      5\u001b[0m                                   params={'patient': patient_name, \n",
      "\u001b[0;32m/projects/da_workspace/software/miniconda/envs/dlpy3/lib/python3.6/fileinput.py\u001b[0m in \u001b[0;36m__next__\u001b[0;34m(self)\u001b[0m\n\u001b[1;32m    248\u001b[0m     \u001b[0;32mdef\u001b[0m \u001b[0m__next__\u001b[0m\u001b[0;34m(\u001b[0m\u001b[0mself\u001b[0m\u001b[0;34m)\u001b[0m\u001b[0;34m:\u001b[0m\u001b[0;34m\u001b[0m\u001b[0;34m\u001b[0m\u001b[0m\n\u001b[1;32m    249\u001b[0m         \u001b[0;32mwhile\u001b[0m \u001b[0;32mTrue\u001b[0m\u001b[0;34m:\u001b[0m\u001b[0;34m\u001b[0m\u001b[0;34m\u001b[0m\u001b[0m\n\u001b[0;32m--> 250\u001b[0;31m             \u001b[0mline\u001b[0m \u001b[0;34m=\u001b[0m \u001b[0mself\u001b[0m\u001b[0;34m.\u001b[0m\u001b[0m_readline\u001b[0m\u001b[0;34m(\u001b[0m\u001b[0;34m)\u001b[0m\u001b[0;34m\u001b[0m\u001b[0;34m\u001b[0m\u001b[0m\n\u001b[0m\u001b[1;32m    251\u001b[0m             \u001b[0;32mif\u001b[0m \u001b[0mline\u001b[0m\u001b[0;34m:\u001b[0m\u001b[0;34m\u001b[0m\u001b[0;34m\u001b[0m\u001b[0m\n\u001b[1;32m    252\u001b[0m                 \u001b[0mself\u001b[0m\u001b[0;34m.\u001b[0m\u001b[0m_filelineno\u001b[0m \u001b[0;34m+=\u001b[0m \u001b[0;36m1\u001b[0m\u001b[0;34m\u001b[0m\u001b[0;34m\u001b[0m\u001b[0m\n",
      "\u001b[0;32m/projects/da_workspace/software/miniconda/envs/dlpy3/lib/python3.6/fileinput.py\u001b[0m in \u001b[0;36m_readline\u001b[0;34m(self)\u001b[0m\n\u001b[1;32m    360\u001b[0m                     \u001b[0mself\u001b[0m\u001b[0;34m.\u001b[0m\u001b[0m_file\u001b[0m \u001b[0;34m=\u001b[0m \u001b[0mself\u001b[0m\u001b[0;34m.\u001b[0m\u001b[0m_openhook\u001b[0m\u001b[0;34m(\u001b[0m\u001b[0mself\u001b[0m\u001b[0;34m.\u001b[0m\u001b[0m_filename\u001b[0m\u001b[0;34m,\u001b[0m \u001b[0mself\u001b[0m\u001b[0;34m.\u001b[0m\u001b[0m_mode\u001b[0m\u001b[0;34m)\u001b[0m\u001b[0;34m\u001b[0m\u001b[0;34m\u001b[0m\u001b[0m\n\u001b[1;32m    361\u001b[0m                 \u001b[0;32melse\u001b[0m\u001b[0;34m:\u001b[0m\u001b[0;34m\u001b[0m\u001b[0;34m\u001b[0m\u001b[0m\n\u001b[0;32m--> 362\u001b[0;31m                     \u001b[0mself\u001b[0m\u001b[0;34m.\u001b[0m\u001b[0m_file\u001b[0m \u001b[0;34m=\u001b[0m \u001b[0mopen\u001b[0m\u001b[0;34m(\u001b[0m\u001b[0mself\u001b[0m\u001b[0;34m.\u001b[0m\u001b[0m_filename\u001b[0m\u001b[0;34m,\u001b[0m \u001b[0mself\u001b[0m\u001b[0;34m.\u001b[0m\u001b[0m_mode\u001b[0m\u001b[0;34m)\u001b[0m\u001b[0;34m\u001b[0m\u001b[0;34m\u001b[0m\u001b[0m\n\u001b[0m\u001b[1;32m    363\u001b[0m         \u001b[0mself\u001b[0m\u001b[0;34m.\u001b[0m\u001b[0m_readline\u001b[0m \u001b[0;34m=\u001b[0m \u001b[0mself\u001b[0m\u001b[0;34m.\u001b[0m\u001b[0m_file\u001b[0m\u001b[0;34m.\u001b[0m\u001b[0mreadline\u001b[0m  \u001b[0;31m# hide FileInput._readline\u001b[0m\u001b[0;34m\u001b[0m\u001b[0;34m\u001b[0m\u001b[0m\n\u001b[1;32m    364\u001b[0m         \u001b[0;32mreturn\u001b[0m \u001b[0mself\u001b[0m\u001b[0;34m.\u001b[0m\u001b[0m_readline\u001b[0m\u001b[0;34m(\u001b[0m\u001b[0;34m)\u001b[0m\u001b[0;34m\u001b[0m\u001b[0;34m\u001b[0m\u001b[0m\n",
      "\u001b[0;31mFileNotFoundError\u001b[0m: [Errno 2] No such file or directory: '-f'"
     ]
    }
   ],
   "source": [
    "for patient_name in fileinput.input():\n",
    "\n",
    "    patient_name = patient_name.rstrip()\n",
    "    response = request_handle.get(os.path.join(URL, 'somatic'), \n",
    "                                  params={'patient': patient_name, \n",
    "                                          'production': True, \n",
    "                                          'analysis_type': 'strelka'}, \n",
    "                                  headers=headers).json()\n",
    "\n",
    "    print(response)\n",
    "\n",
    "    # for library in response:\n",
    "    #     for libcore in library['libcores']:\n",
    "\n",
    "\n",
    "    # for foobar in response:\n",
    "    #    keys = foobar.keys()\n",
    "    #    for key in keys:\n",
    "    #        print(\"\\t\".join([str(key), str(foobar[key])]))\n",
    "    #\n",
    "    #    print(\"\\n\")"
   ]
  }
 ],
 "metadata": {
  "kernelspec": {
   "display_name": "Python 3",
   "language": "python",
   "name": "python3"
  },
  "language_info": {
   "codemirror_mode": {
    "name": "ipython",
    "version": 3
   },
   "file_extension": ".py",
   "mimetype": "text/x-python",
   "name": "python",
   "nbconvert_exporter": "python",
   "pygments_lexer": "ipython3",
   "version": "3.7.3"
  }
 },
 "nbformat": 4,
 "nbformat_minor": 2
}
