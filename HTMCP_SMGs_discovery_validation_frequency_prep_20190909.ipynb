{
 "cells": [
  {
   "cell_type": "code",
   "execution_count": 12,
   "metadata": {},
   "outputs": [
    {
     "name": "stdout",
     "output_type": "stream",
     "text": [
      "The autoreload extension is already loaded. To reload it, use:\n",
      "  %reload_ext autoreload\n"
     ]
    }
   ],
   "source": [
    "import pandas as pd\n",
    "import matplotlib.pyplot as plt\n",
    "%load_ext autoreload\n",
    "%autoreload 2\n",
    "import matplotlib.pyplot as plt\n",
    "import seaborn as sns\n",
    "from IPython.core.interactiveshell import InteractiveShell\n",
    "InteractiveShell.ast_node_interactivity = \"all\""
   ]
  },
  {
   "cell_type": "markdown",
   "metadata": {},
   "source": [
    "# SMGs"
   ]
  },
  {
   "cell_type": "code",
   "execution_count": 13,
   "metadata": {},
   "outputs": [
    {
     "data": {
      "text/plain": [
       "12"
      ]
     },
     "execution_count": 13,
     "metadata": {},
     "output_type": "execute_result"
    },
    {
     "data": {
      "text/plain": [
       "['PIK3CA', 'FAT1']"
      ]
     },
     "execution_count": 13,
     "metadata": {},
     "output_type": "execute_result"
    }
   ],
   "source": [
    "f = '/projects/trans_scratch/validations/workspace/szong/Cervical/mutsig2cv/12_sig_genes.txt'\n",
    "genes = pd.read_csv(f, header=None)[0].tolist()\n",
    "len(genes) # MLL2 and KMT2D\n",
    "genes[:2]"
   ]
  },
  {
   "cell_type": "markdown",
   "metadata": {},
   "source": [
    "# 118 patients"
   ]
  },
  {
   "cell_type": "code",
   "execution_count": 14,
   "metadata": {},
   "outputs": [
    {
     "data": {
      "text/plain": [
       "118"
      ]
     },
     "execution_count": 14,
     "metadata": {},
     "output_type": "execute_result"
    },
    {
     "data": {
      "text/plain": [
       "['HTMCP-03-06-02001', 'HTMCP-03-06-02002']"
      ]
     },
     "execution_count": 14,
     "metadata": {},
     "output_type": "execute_result"
    }
   ],
   "source": [
    "f = '/projects/trans_scratch/validations/workspace/szong/Cervical/118_patients.txt'\n",
    "patients = pd.read_csv(f, header=None)[0].tolist()\n",
    "len(patients)\n",
    "patients[:2]"
   ]
  },
  {
   "cell_type": "markdown",
   "metadata": {},
   "source": [
    "# meta table"
   ]
  },
  {
   "cell_type": "code",
   "execution_count": 15,
   "metadata": {},
   "outputs": [
    {
     "data": {
      "text/plain": [
       "array(['Positive', 'Negative', 'Unknown'], dtype=object)"
      ]
     },
     "execution_count": 15,
     "metadata": {},
     "output_type": "execute_result"
    },
    {
     "data": {
      "text/html": [
       "<div>\n",
       "<style scoped>\n",
       "    .dataframe tbody tr th:only-of-type {\n",
       "        vertical-align: middle;\n",
       "    }\n",
       "\n",
       "    .dataframe tbody tr th {\n",
       "        vertical-align: top;\n",
       "    }\n",
       "\n",
       "    .dataframe thead th {\n",
       "        text-align: right;\n",
       "    }\n",
       "</style>\n",
       "<table border=\"1\" class=\"dataframe\">\n",
       "  <thead>\n",
       "    <tr style=\"text-align: right;\">\n",
       "      <th>Patient</th>\n",
       "      <th>HTMCP-03-06-02001</th>\n",
       "      <th>HTMCP-03-06-02002</th>\n",
       "      <th>HTMCP-03-06-02003</th>\n",
       "      <th>HTMCP-03-06-02006</th>\n",
       "      <th>HTMCP-03-06-02008</th>\n",
       "      <th>HTMCP-03-06-02012</th>\n",
       "      <th>HTMCP-03-06-02013</th>\n",
       "      <th>HTMCP-03-06-02020</th>\n",
       "      <th>HTMCP-03-06-02036</th>\n",
       "      <th>HTMCP-03-06-02037</th>\n",
       "      <th>...</th>\n",
       "      <th>HTMCP-03-06-02417</th>\n",
       "      <th>HTMCP-03-06-02424</th>\n",
       "      <th>HTMCP-03-06-02427</th>\n",
       "      <th>HTMCP-03-06-02428</th>\n",
       "      <th>HTMCP-03-06-02434</th>\n",
       "      <th>HTMCP-03-06-02435</th>\n",
       "      <th>HTMCP-03-06-02437</th>\n",
       "      <th>HTMCP-03-06-02441</th>\n",
       "      <th>HTMCP-03-06-02442</th>\n",
       "      <th>HTMCP-03-06-02447</th>\n",
       "    </tr>\n",
       "  </thead>\n",
       "  <tbody>\n",
       "    <tr>\n",
       "      <td>HIV status</td>\n",
       "      <td>Positive</td>\n",
       "      <td>Negative</td>\n",
       "      <td>Positive</td>\n",
       "      <td>Negative</td>\n",
       "      <td>Negative</td>\n",
       "      <td>Negative</td>\n",
       "      <td>Negative</td>\n",
       "      <td>Positive</td>\n",
       "      <td>Negative</td>\n",
       "      <td>Negative</td>\n",
       "      <td>...</td>\n",
       "      <td>Positive</td>\n",
       "      <td>Positive</td>\n",
       "      <td>Positive</td>\n",
       "      <td>Positive</td>\n",
       "      <td>Positive</td>\n",
       "      <td>Positive</td>\n",
       "      <td>Positive</td>\n",
       "      <td>Positive</td>\n",
       "      <td>Positive</td>\n",
       "      <td>Positive</td>\n",
       "    </tr>\n",
       "  </tbody>\n",
       "</table>\n",
       "<p>1 rows × 118 columns</p>\n",
       "</div>"
      ],
      "text/plain": [
       "Patient    HTMCP-03-06-02001 HTMCP-03-06-02002 HTMCP-03-06-02003  \\\n",
       "HIV status          Positive          Negative          Positive   \n",
       "\n",
       "Patient    HTMCP-03-06-02006 HTMCP-03-06-02008 HTMCP-03-06-02012  \\\n",
       "HIV status          Negative          Negative          Negative   \n",
       "\n",
       "Patient    HTMCP-03-06-02013 HTMCP-03-06-02020 HTMCP-03-06-02036  \\\n",
       "HIV status          Negative          Positive          Negative   \n",
       "\n",
       "Patient    HTMCP-03-06-02037  ... HTMCP-03-06-02417 HTMCP-03-06-02424  \\\n",
       "HIV status          Negative  ...          Positive          Positive   \n",
       "\n",
       "Patient    HTMCP-03-06-02427 HTMCP-03-06-02428 HTMCP-03-06-02434  \\\n",
       "HIV status          Positive          Positive          Positive   \n",
       "\n",
       "Patient    HTMCP-03-06-02435 HTMCP-03-06-02437 HTMCP-03-06-02441  \\\n",
       "HIV status          Positive          Positive          Positive   \n",
       "\n",
       "Patient    HTMCP-03-06-02442 HTMCP-03-06-02447  \n",
       "HIV status          Positive          Positive  \n",
       "\n",
       "[1 rows x 118 columns]"
      ]
     },
     "execution_count": 15,
     "metadata": {},
     "output_type": "execute_result"
    },
    {
     "data": {
      "text/plain": [
       "(1, 118)"
      ]
     },
     "execution_count": 15,
     "metadata": {},
     "output_type": "execute_result"
    }
   ],
   "source": [
    "# master_table = '/projects/trans_scratch/validations/workspace/szong/Cervical/HTMCP_Cervical_Master_Patient_Table_V4_20190703.xlsx'\n",
    "master_table = '/projects/trans_scratch/validations/workspace/szong/Cervical/HTMCP_Cervical_Master_Patient_Table_V7_20190920.xlsx'\n",
    "master = pd.read_excel(master_table, sep='\\t', index_col='Patient', usecols=['Patient', 'HIV status', 'Cohort'])\n",
    "master = master[master.Cohort == 'Discovery']\n",
    "master.drop('Cohort', inplace=True, axis=1)\n",
    "master['HIV status'].unique()\n",
    "master = master.T\n",
    "master.head(2)\n",
    "master.shape\n"
   ]
  },
  {
   "cell_type": "code",
   "execution_count": 16,
   "metadata": {},
   "outputs": [
    {
     "data": {
      "text/plain": [
       "HIV status    0.610169\n",
       "dtype: float64"
      ]
     },
     "execution_count": 16,
     "metadata": {},
     "output_type": "execute_result"
    },
    {
     "data": {
      "text/plain": [
       "HIV status    0.381356\n",
       "dtype: float64"
      ]
     },
     "execution_count": 16,
     "metadata": {},
     "output_type": "execute_result"
    }
   ],
   "source": [
    "(master=='Positive').sum(axis=1)/118\n",
    "(master=='Negative').sum(axis=1)/118"
   ]
  },
  {
   "cell_type": "markdown",
   "metadata": {},
   "source": [
    "# discovery"
   ]
  },
  {
   "cell_type": "code",
   "execution_count": 17,
   "metadata": {},
   "outputs": [
    {
     "data": {
      "text/plain": [
       "(14557, 118)"
      ]
     },
     "execution_count": 17,
     "metadata": {},
     "output_type": "execute_result"
    },
    {
     "data": {
      "text/html": [
       "<div>\n",
       "<style scoped>\n",
       "    .dataframe tbody tr th:only-of-type {\n",
       "        vertical-align: middle;\n",
       "    }\n",
       "\n",
       "    .dataframe tbody tr th {\n",
       "        vertical-align: top;\n",
       "    }\n",
       "\n",
       "    .dataframe thead th {\n",
       "        text-align: right;\n",
       "    }\n",
       "</style>\n",
       "<table border=\"1\" class=\"dataframe\">\n",
       "  <thead>\n",
       "    <tr style=\"text-align: right;\">\n",
       "      <th></th>\n",
       "      <th>HTMCP-03-06-02001</th>\n",
       "      <th>HTMCP-03-06-02002</th>\n",
       "      <th>HTMCP-03-06-02003</th>\n",
       "      <th>HTMCP-03-06-02006</th>\n",
       "      <th>HTMCP-03-06-02008</th>\n",
       "      <th>HTMCP-03-06-02012</th>\n",
       "      <th>HTMCP-03-06-02013</th>\n",
       "      <th>HTMCP-03-06-02020</th>\n",
       "      <th>HTMCP-03-06-02036</th>\n",
       "      <th>HTMCP-03-06-02037</th>\n",
       "      <th>...</th>\n",
       "      <th>HTMCP-03-06-02417</th>\n",
       "      <th>HTMCP-03-06-02424</th>\n",
       "      <th>HTMCP-03-06-02427</th>\n",
       "      <th>HTMCP-03-06-02428</th>\n",
       "      <th>HTMCP-03-06-02434</th>\n",
       "      <th>HTMCP-03-06-02435</th>\n",
       "      <th>HTMCP-03-06-02437</th>\n",
       "      <th>HTMCP-03-06-02441</th>\n",
       "      <th>HTMCP-03-06-02442</th>\n",
       "      <th>HTMCP-03-06-02447</th>\n",
       "    </tr>\n",
       "    <tr>\n",
       "      <th>gene</th>\n",
       "      <th></th>\n",
       "      <th></th>\n",
       "      <th></th>\n",
       "      <th></th>\n",
       "      <th></th>\n",
       "      <th></th>\n",
       "      <th></th>\n",
       "      <th></th>\n",
       "      <th></th>\n",
       "      <th></th>\n",
       "      <th></th>\n",
       "      <th></th>\n",
       "      <th></th>\n",
       "      <th></th>\n",
       "      <th></th>\n",
       "      <th></th>\n",
       "      <th></th>\n",
       "      <th></th>\n",
       "      <th></th>\n",
       "      <th></th>\n",
       "      <th></th>\n",
       "    </tr>\n",
       "  </thead>\n",
       "  <tbody>\n",
       "    <tr>\n",
       "      <td>7SK</td>\n",
       "      <td>wt</td>\n",
       "      <td>wt</td>\n",
       "      <td>wt</td>\n",
       "      <td>wt</td>\n",
       "      <td>wt</td>\n",
       "      <td>wt</td>\n",
       "      <td>wt</td>\n",
       "      <td>wt</td>\n",
       "      <td>wt</td>\n",
       "      <td>wt</td>\n",
       "      <td>...</td>\n",
       "      <td>wt</td>\n",
       "      <td>wt</td>\n",
       "      <td>wt</td>\n",
       "      <td>wt</td>\n",
       "      <td>wt</td>\n",
       "      <td>mutated</td>\n",
       "      <td>wt</td>\n",
       "      <td>wt</td>\n",
       "      <td>wt</td>\n",
       "      <td>wt</td>\n",
       "    </tr>\n",
       "    <tr>\n",
       "      <td>A1BG</td>\n",
       "      <td>wt</td>\n",
       "      <td>wt</td>\n",
       "      <td>wt</td>\n",
       "      <td>wt</td>\n",
       "      <td>wt</td>\n",
       "      <td>wt</td>\n",
       "      <td>wt</td>\n",
       "      <td>wt</td>\n",
       "      <td>wt</td>\n",
       "      <td>wt</td>\n",
       "      <td>...</td>\n",
       "      <td>wt</td>\n",
       "      <td>wt</td>\n",
       "      <td>wt</td>\n",
       "      <td>wt</td>\n",
       "      <td>wt</td>\n",
       "      <td>wt</td>\n",
       "      <td>wt</td>\n",
       "      <td>wt</td>\n",
       "      <td>wt</td>\n",
       "      <td>wt</td>\n",
       "    </tr>\n",
       "  </tbody>\n",
       "</table>\n",
       "<p>2 rows × 118 columns</p>\n",
       "</div>"
      ],
      "text/plain": [
       "     HTMCP-03-06-02001 HTMCP-03-06-02002 HTMCP-03-06-02003 HTMCP-03-06-02006  \\\n",
       "gene                                                                           \n",
       "7SK                 wt                wt                wt                wt   \n",
       "A1BG                wt                wt                wt                wt   \n",
       "\n",
       "     HTMCP-03-06-02008 HTMCP-03-06-02012 HTMCP-03-06-02013 HTMCP-03-06-02020  \\\n",
       "gene                                                                           \n",
       "7SK                 wt                wt                wt                wt   \n",
       "A1BG                wt                wt                wt                wt   \n",
       "\n",
       "     HTMCP-03-06-02036 HTMCP-03-06-02037  ... HTMCP-03-06-02417  \\\n",
       "gene                                      ...                     \n",
       "7SK                 wt                wt  ...                wt   \n",
       "A1BG                wt                wt  ...                wt   \n",
       "\n",
       "     HTMCP-03-06-02424 HTMCP-03-06-02427 HTMCP-03-06-02428 HTMCP-03-06-02434  \\\n",
       "gene                                                                           \n",
       "7SK                 wt                wt                wt                wt   \n",
       "A1BG                wt                wt                wt                wt   \n",
       "\n",
       "     HTMCP-03-06-02435 HTMCP-03-06-02437 HTMCP-03-06-02441 HTMCP-03-06-02442  \\\n",
       "gene                                                                           \n",
       "7SK            mutated                wt                wt                wt   \n",
       "A1BG                wt                wt                wt                wt   \n",
       "\n",
       "     HTMCP-03-06-02447  \n",
       "gene                    \n",
       "7SK                 wt  \n",
       "A1BG                wt  \n",
       "\n",
       "[2 rows x 118 columns]"
      ]
     },
     "execution_count": 17,
     "metadata": {},
     "output_type": "execute_result"
    }
   ],
   "source": [
    "f = '/projects/trans_scratch/validations/workspace/szong/Cervical/variant_bwamem/124_patients_new/somatic_mutation_gene_by_patient_summary_20190529.tsv'\n",
    "df1 = pd.read_csv(f, sep='\\t', index_col='gene')\n",
    "df1.shape\n",
    "df1.head(2)"
   ]
  },
  {
   "cell_type": "code",
   "execution_count": 18,
   "metadata": {},
   "outputs": [
    {
     "data": {
      "text/html": [
       "<div>\n",
       "<style scoped>\n",
       "    .dataframe tbody tr th:only-of-type {\n",
       "        vertical-align: middle;\n",
       "    }\n",
       "\n",
       "    .dataframe tbody tr th {\n",
       "        vertical-align: top;\n",
       "    }\n",
       "\n",
       "    .dataframe thead th {\n",
       "        text-align: right;\n",
       "    }\n",
       "</style>\n",
       "<table border=\"1\" class=\"dataframe\">\n",
       "  <thead>\n",
       "    <tr style=\"text-align: right;\">\n",
       "      <th></th>\n",
       "      <th>HTMCP-03-06-02001</th>\n",
       "      <th>HTMCP-03-06-02002</th>\n",
       "      <th>HTMCP-03-06-02003</th>\n",
       "      <th>HTMCP-03-06-02006</th>\n",
       "      <th>HTMCP-03-06-02008</th>\n",
       "      <th>HTMCP-03-06-02012</th>\n",
       "      <th>HTMCP-03-06-02013</th>\n",
       "      <th>HTMCP-03-06-02020</th>\n",
       "      <th>HTMCP-03-06-02036</th>\n",
       "      <th>HTMCP-03-06-02037</th>\n",
       "      <th>...</th>\n",
       "      <th>HTMCP-03-06-02417</th>\n",
       "      <th>HTMCP-03-06-02424</th>\n",
       "      <th>HTMCP-03-06-02427</th>\n",
       "      <th>HTMCP-03-06-02428</th>\n",
       "      <th>HTMCP-03-06-02434</th>\n",
       "      <th>HTMCP-03-06-02435</th>\n",
       "      <th>HTMCP-03-06-02437</th>\n",
       "      <th>HTMCP-03-06-02441</th>\n",
       "      <th>HTMCP-03-06-02442</th>\n",
       "      <th>HTMCP-03-06-02447</th>\n",
       "    </tr>\n",
       "    <tr>\n",
       "      <th>gene</th>\n",
       "      <th></th>\n",
       "      <th></th>\n",
       "      <th></th>\n",
       "      <th></th>\n",
       "      <th></th>\n",
       "      <th></th>\n",
       "      <th></th>\n",
       "      <th></th>\n",
       "      <th></th>\n",
       "      <th></th>\n",
       "      <th></th>\n",
       "      <th></th>\n",
       "      <th></th>\n",
       "      <th></th>\n",
       "      <th></th>\n",
       "      <th></th>\n",
       "      <th></th>\n",
       "      <th></th>\n",
       "      <th></th>\n",
       "      <th></th>\n",
       "      <th></th>\n",
       "    </tr>\n",
       "  </thead>\n",
       "  <tbody>\n",
       "    <tr>\n",
       "      <td>PIK3CA</td>\n",
       "      <td>mutated</td>\n",
       "      <td>mutated</td>\n",
       "      <td>wt</td>\n",
       "      <td>wt</td>\n",
       "      <td>wt</td>\n",
       "      <td>mutated</td>\n",
       "      <td>mutated</td>\n",
       "      <td>wt</td>\n",
       "      <td>mutated</td>\n",
       "      <td>wt</td>\n",
       "      <td>...</td>\n",
       "      <td>wt</td>\n",
       "      <td>wt</td>\n",
       "      <td>wt</td>\n",
       "      <td>mutated</td>\n",
       "      <td>wt</td>\n",
       "      <td>wt</td>\n",
       "      <td>wt</td>\n",
       "      <td>wt</td>\n",
       "      <td>wt</td>\n",
       "      <td>mutated</td>\n",
       "    </tr>\n",
       "    <tr>\n",
       "      <td>FAT1</td>\n",
       "      <td>wt</td>\n",
       "      <td>wt</td>\n",
       "      <td>wt</td>\n",
       "      <td>wt</td>\n",
       "      <td>wt</td>\n",
       "      <td>wt</td>\n",
       "      <td>wt</td>\n",
       "      <td>wt</td>\n",
       "      <td>mutated</td>\n",
       "      <td>wt</td>\n",
       "      <td>...</td>\n",
       "      <td>wt</td>\n",
       "      <td>wt</td>\n",
       "      <td>mutated</td>\n",
       "      <td>mutated</td>\n",
       "      <td>wt</td>\n",
       "      <td>mutated</td>\n",
       "      <td>wt</td>\n",
       "      <td>wt</td>\n",
       "      <td>wt</td>\n",
       "      <td>wt</td>\n",
       "    </tr>\n",
       "  </tbody>\n",
       "</table>\n",
       "<p>2 rows × 118 columns</p>\n",
       "</div>"
      ],
      "text/plain": [
       "       HTMCP-03-06-02001 HTMCP-03-06-02002 HTMCP-03-06-02003  \\\n",
       "gene                                                           \n",
       "PIK3CA           mutated           mutated                wt   \n",
       "FAT1                  wt                wt                wt   \n",
       "\n",
       "       HTMCP-03-06-02006 HTMCP-03-06-02008 HTMCP-03-06-02012  \\\n",
       "gene                                                           \n",
       "PIK3CA                wt                wt           mutated   \n",
       "FAT1                  wt                wt                wt   \n",
       "\n",
       "       HTMCP-03-06-02013 HTMCP-03-06-02020 HTMCP-03-06-02036  \\\n",
       "gene                                                           \n",
       "PIK3CA           mutated                wt           mutated   \n",
       "FAT1                  wt                wt           mutated   \n",
       "\n",
       "       HTMCP-03-06-02037  ... HTMCP-03-06-02417 HTMCP-03-06-02424  \\\n",
       "gene                      ...                                       \n",
       "PIK3CA                wt  ...                wt                wt   \n",
       "FAT1                  wt  ...                wt                wt   \n",
       "\n",
       "       HTMCP-03-06-02427 HTMCP-03-06-02428 HTMCP-03-06-02434  \\\n",
       "gene                                                           \n",
       "PIK3CA                wt           mutated                wt   \n",
       "FAT1             mutated           mutated                wt   \n",
       "\n",
       "       HTMCP-03-06-02435 HTMCP-03-06-02437 HTMCP-03-06-02441  \\\n",
       "gene                                                           \n",
       "PIK3CA                wt                wt                wt   \n",
       "FAT1             mutated                wt                wt   \n",
       "\n",
       "       HTMCP-03-06-02442 HTMCP-03-06-02447  \n",
       "gene                                        \n",
       "PIK3CA                wt           mutated  \n",
       "FAT1                  wt                wt  \n",
       "\n",
       "[2 rows x 118 columns]"
      ]
     },
     "execution_count": 18,
     "metadata": {},
     "output_type": "execute_result"
    },
    {
     "data": {
      "text/plain": [
       "(12, 118)"
      ]
     },
     "execution_count": 18,
     "metadata": {},
     "output_type": "execute_result"
    }
   ],
   "source": [
    "dfd = df1.reindex(index=genes, columns=patients)\n",
    "dfd.head(2)\n",
    "dfd.shape"
   ]
  },
  {
   "cell_type": "code",
   "execution_count": 19,
   "metadata": {},
   "outputs": [
    {
     "data": {
      "text/html": [
       "<div>\n",
       "<style scoped>\n",
       "    .dataframe tbody tr th:only-of-type {\n",
       "        vertical-align: middle;\n",
       "    }\n",
       "\n",
       "    .dataframe tbody tr th {\n",
       "        vertical-align: top;\n",
       "    }\n",
       "\n",
       "    .dataframe thead th {\n",
       "        text-align: right;\n",
       "    }\n",
       "</style>\n",
       "<table border=\"1\" class=\"dataframe\">\n",
       "  <thead>\n",
       "    <tr style=\"text-align: right;\">\n",
       "      <th></th>\n",
       "      <th>PIK3CA</th>\n",
       "      <th>FAT1</th>\n",
       "      <th>MLL2</th>\n",
       "      <th>FBXW7</th>\n",
       "      <th>CASP8</th>\n",
       "      <th>SLC35G5</th>\n",
       "      <th>MAPK1</th>\n",
       "      <th>PCDHGA12</th>\n",
       "      <th>PSPC1</th>\n",
       "      <th>ZNF750</th>\n",
       "      <th>PCDHA9</th>\n",
       "      <th>ZC3H6</th>\n",
       "      <th>HIV status</th>\n",
       "    </tr>\n",
       "    <tr>\n",
       "      <th>Patient</th>\n",
       "      <th></th>\n",
       "      <th></th>\n",
       "      <th></th>\n",
       "      <th></th>\n",
       "      <th></th>\n",
       "      <th></th>\n",
       "      <th></th>\n",
       "      <th></th>\n",
       "      <th></th>\n",
       "      <th></th>\n",
       "      <th></th>\n",
       "      <th></th>\n",
       "      <th></th>\n",
       "    </tr>\n",
       "  </thead>\n",
       "  <tbody>\n",
       "    <tr>\n",
       "      <td>HTMCP-03-06-02001</td>\n",
       "      <td>mutated</td>\n",
       "      <td>wt</td>\n",
       "      <td>wt</td>\n",
       "      <td>wt</td>\n",
       "      <td>mutated</td>\n",
       "      <td>wt</td>\n",
       "      <td>wt</td>\n",
       "      <td>wt</td>\n",
       "      <td>wt</td>\n",
       "      <td>wt</td>\n",
       "      <td>wt</td>\n",
       "      <td>wt</td>\n",
       "      <td>Positive</td>\n",
       "    </tr>\n",
       "    <tr>\n",
       "      <td>HTMCP-03-06-02002</td>\n",
       "      <td>mutated</td>\n",
       "      <td>wt</td>\n",
       "      <td>mutated</td>\n",
       "      <td>wt</td>\n",
       "      <td>wt</td>\n",
       "      <td>wt</td>\n",
       "      <td>wt</td>\n",
       "      <td>wt</td>\n",
       "      <td>mutated</td>\n",
       "      <td>mutated</td>\n",
       "      <td>wt</td>\n",
       "      <td>wt</td>\n",
       "      <td>Negative</td>\n",
       "    </tr>\n",
       "  </tbody>\n",
       "</table>\n",
       "</div>"
      ],
      "text/plain": [
       "                    PIK3CA FAT1     MLL2 FBXW7    CASP8 SLC35G5 MAPK1  \\\n",
       "Patient                                                                 \n",
       "HTMCP-03-06-02001  mutated   wt       wt    wt  mutated      wt    wt   \n",
       "HTMCP-03-06-02002  mutated   wt  mutated    wt       wt      wt    wt   \n",
       "\n",
       "                  PCDHGA12    PSPC1   ZNF750 PCDHA9 ZC3H6 HIV status  \n",
       "Patient                                                               \n",
       "HTMCP-03-06-02001       wt       wt       wt     wt    wt   Positive  \n",
       "HTMCP-03-06-02002       wt  mutated  mutated     wt    wt   Negative  "
      ]
     },
     "execution_count": 19,
     "metadata": {},
     "output_type": "execute_result"
    }
   ],
   "source": [
    "dfc = pd.concat([dfd, master]).T\n",
    "dfc.head(2)"
   ]
  },
  {
   "cell_type": "code",
   "execution_count": 20,
   "metadata": {},
   "outputs": [
    {
     "data": {
      "text/plain": [
       "118"
      ]
     },
     "execution_count": 20,
     "metadata": {},
     "output_type": "execute_result"
    }
   ],
   "source": [
    "len(patients)"
   ]
  },
  {
   "cell_type": "code",
   "execution_count": 21,
   "metadata": {
    "scrolled": true
   },
   "outputs": [
    {
     "data": {
      "text/plain": [
       "pandas.core.series.Series"
      ]
     },
     "execution_count": 21,
     "metadata": {},
     "output_type": "execute_result"
    },
    {
     "data": {
      "text/html": [
       "<div>\n",
       "<style scoped>\n",
       "    .dataframe tbody tr th:only-of-type {\n",
       "        vertical-align: middle;\n",
       "    }\n",
       "\n",
       "    .dataframe tbody tr th {\n",
       "        vertical-align: top;\n",
       "    }\n",
       "\n",
       "    .dataframe thead th {\n",
       "        text-align: right;\n",
       "    }\n",
       "</style>\n",
       "<table border=\"1\" class=\"dataframe\">\n",
       "  <thead>\n",
       "    <tr style=\"text-align: right;\">\n",
       "      <th></th>\n",
       "      <th>dis_HIV_pos</th>\n",
       "      <th>dis_HIV_neg</th>\n",
       "    </tr>\n",
       "  </thead>\n",
       "  <tbody>\n",
       "    <tr>\n",
       "      <td>PIK3CA</td>\n",
       "      <td>0.177966</td>\n",
       "      <td>0.169492</td>\n",
       "    </tr>\n",
       "    <tr>\n",
       "      <td>FAT1</td>\n",
       "      <td>0.101695</td>\n",
       "      <td>0.084746</td>\n",
       "    </tr>\n",
       "    <tr>\n",
       "      <td>MLL2</td>\n",
       "      <td>0.059322</td>\n",
       "      <td>0.084746</td>\n",
       "    </tr>\n",
       "    <tr>\n",
       "      <td>FBXW7</td>\n",
       "      <td>0.050847</td>\n",
       "      <td>0.050847</td>\n",
       "    </tr>\n",
       "    <tr>\n",
       "      <td>CASP8</td>\n",
       "      <td>0.042373</td>\n",
       "      <td>0.025424</td>\n",
       "    </tr>\n",
       "    <tr>\n",
       "      <td>SLC35G5</td>\n",
       "      <td>0.059322</td>\n",
       "      <td>0.008475</td>\n",
       "    </tr>\n",
       "    <tr>\n",
       "      <td>MAPK1</td>\n",
       "      <td>0.033898</td>\n",
       "      <td>0.016949</td>\n",
       "    </tr>\n",
       "    <tr>\n",
       "      <td>PCDHGA12</td>\n",
       "      <td>0.033898</td>\n",
       "      <td>0.025424</td>\n",
       "    </tr>\n",
       "    <tr>\n",
       "      <td>PSPC1</td>\n",
       "      <td>0.033898</td>\n",
       "      <td>0.016949</td>\n",
       "    </tr>\n",
       "    <tr>\n",
       "      <td>ZNF750</td>\n",
       "      <td>0.016949</td>\n",
       "      <td>0.025424</td>\n",
       "    </tr>\n",
       "    <tr>\n",
       "      <td>PCDHA9</td>\n",
       "      <td>0.008475</td>\n",
       "      <td>0.025424</td>\n",
       "    </tr>\n",
       "    <tr>\n",
       "      <td>ZC3H6</td>\n",
       "      <td>0.025424</td>\n",
       "      <td>0.008475</td>\n",
       "    </tr>\n",
       "    <tr>\n",
       "      <td>HIV status</td>\n",
       "      <td>0.000000</td>\n",
       "      <td>0.000000</td>\n",
       "    </tr>\n",
       "  </tbody>\n",
       "</table>\n",
       "</div>"
      ],
      "text/plain": [
       "            dis_HIV_pos  dis_HIV_neg\n",
       "PIK3CA         0.177966     0.169492\n",
       "FAT1           0.101695     0.084746\n",
       "MLL2           0.059322     0.084746\n",
       "FBXW7          0.050847     0.050847\n",
       "CASP8          0.042373     0.025424\n",
       "SLC35G5        0.059322     0.008475\n",
       "MAPK1          0.033898     0.016949\n",
       "PCDHGA12       0.033898     0.025424\n",
       "PSPC1          0.033898     0.016949\n",
       "ZNF750         0.016949     0.025424\n",
       "PCDHA9         0.008475     0.025424\n",
       "ZC3H6          0.025424     0.008475\n",
       "HIV status     0.000000     0.000000"
      ]
     },
     "execution_count": 21,
     "metadata": {},
     "output_type": "execute_result"
    }
   ],
   "source": [
    "dfc1 = (dfc[dfc['HIV status']=='Positive'] == 'mutated').sum()/len(patients)\n",
    "# dfc1\n",
    "dfc2 = (dfc[dfc['HIV status']=='Negative'] == 'mutated').sum()/len(patients)\n",
    "# dfc2\n",
    "type(dfc1)\n",
    "# combine two series into dataframe, columnwise concat\n",
    "dfdf = pd.concat([dfc1, dfc2], axis=1)\n",
    "dfdf.columns = ['dis_HIV_pos', 'dis_HIV_neg']\n",
    "dfdf"
   ]
  },
  {
   "cell_type": "markdown",
   "metadata": {},
   "source": [
    "# validation"
   ]
  },
  {
   "cell_type": "code",
   "execution_count": 22,
   "metadata": {},
   "outputs": [
    {
     "data": {
      "text/plain": [
       "(178, 2)"
      ]
     },
     "execution_count": 22,
     "metadata": {},
     "output_type": "execute_result"
    },
    {
     "data": {
      "text/html": [
       "<div>\n",
       "<style scoped>\n",
       "    .dataframe tbody tr th:only-of-type {\n",
       "        vertical-align: middle;\n",
       "    }\n",
       "\n",
       "    .dataframe tbody tr th {\n",
       "        vertical-align: top;\n",
       "    }\n",
       "\n",
       "    .dataframe thead th {\n",
       "        text-align: right;\n",
       "    }\n",
       "</style>\n",
       "<table border=\"1\" class=\"dataframe\">\n",
       "  <thead>\n",
       "    <tr style=\"text-align: right;\">\n",
       "      <th></th>\n",
       "      <th>Biospecimen ID</th>\n",
       "      <th>HIV Status</th>\n",
       "    </tr>\n",
       "  </thead>\n",
       "  <tbody>\n",
       "    <tr>\n",
       "      <td>0</td>\n",
       "      <td>HTMCP-03-06-02025-01A-01D</td>\n",
       "      <td>positive</td>\n",
       "    </tr>\n",
       "    <tr>\n",
       "      <td>1</td>\n",
       "      <td>HTMCP-03-06-02025-10A-01D</td>\n",
       "      <td>positive</td>\n",
       "    </tr>\n",
       "  </tbody>\n",
       "</table>\n",
       "</div>"
      ],
      "text/plain": [
       "              Biospecimen ID HIV Status\n",
       "0  HTMCP-03-06-02025-01A-01D   positive\n",
       "1  HTMCP-03-06-02025-10A-01D   positive"
      ]
     },
     "execution_count": 22,
     "metadata": {},
     "output_type": "execute_result"
    }
   ],
   "source": [
    "f = '/home/szong/projects/meta/META_2018/Master_Sample_table_14X292_Oct30_2018_sz.xlsx'\n",
    "dfm = pd.read_excel(f, sheet_name='CaCx targeted seq', usecols=['Biospecimen ID', 'HIV Status'])\n",
    "dfm.shape\n",
    "dfm.head(2)"
   ]
  },
  {
   "cell_type": "code",
   "execution_count": 23,
   "metadata": {},
   "outputs": [],
   "source": [
    "dfm['patient'] = dfm['Biospecimen ID'].apply(lambda x: '-'.join(x.split('-')[:4]))"
   ]
  },
  {
   "cell_type": "code",
   "execution_count": 24,
   "metadata": {},
   "outputs": [],
   "source": [
    "dfm.drop('Biospecimen ID', axis=1, inplace=True)"
   ]
  },
  {
   "cell_type": "code",
   "execution_count": 25,
   "metadata": {},
   "outputs": [],
   "source": [
    "dfm = dfm.drop_duplicates().set_index('patient')"
   ]
  },
  {
   "cell_type": "code",
   "execution_count": 26,
   "metadata": {},
   "outputs": [],
   "source": [
    "dfm['HIV Status'] = dfm['HIV Status'].str.lower()"
   ]
  },
  {
   "cell_type": "code",
   "execution_count": 27,
   "metadata": {},
   "outputs": [
    {
     "data": {
      "text/html": [
       "<div>\n",
       "<style scoped>\n",
       "    .dataframe tbody tr th:only-of-type {\n",
       "        vertical-align: middle;\n",
       "    }\n",
       "\n",
       "    .dataframe tbody tr th {\n",
       "        vertical-align: top;\n",
       "    }\n",
       "\n",
       "    .dataframe thead th {\n",
       "        text-align: right;\n",
       "    }\n",
       "</style>\n",
       "<table border=\"1\" class=\"dataframe\">\n",
       "  <thead>\n",
       "    <tr style=\"text-align: right;\">\n",
       "      <th></th>\n",
       "      <th>HIV Status</th>\n",
       "    </tr>\n",
       "    <tr>\n",
       "      <th>patient</th>\n",
       "      <th></th>\n",
       "    </tr>\n",
       "  </thead>\n",
       "  <tbody>\n",
       "    <tr>\n",
       "      <td>HTMCP-03-06-02025</td>\n",
       "      <td>positive</td>\n",
       "    </tr>\n",
       "    <tr>\n",
       "      <td>HTMCP-03-06-02044</td>\n",
       "      <td>negative</td>\n",
       "    </tr>\n",
       "  </tbody>\n",
       "</table>\n",
       "</div>"
      ],
      "text/plain": [
       "                  HIV Status\n",
       "patient                     \n",
       "HTMCP-03-06-02025   positive\n",
       "HTMCP-03-06-02044   negative"
      ]
     },
     "execution_count": 27,
     "metadata": {},
     "output_type": "execute_result"
    },
    {
     "data": {
      "text/plain": [
       "(90, 1)"
      ]
     },
     "execution_count": 27,
     "metadata": {},
     "output_type": "execute_result"
    }
   ],
   "source": [
    "dfm.head(2)\n",
    "dfm.shape"
   ]
  },
  {
   "cell_type": "code",
   "execution_count": 28,
   "metadata": {},
   "outputs": [],
   "source": [
    "dfm.drop('HTMCP-03-06-02025', inplace=True) # 2107 does not have matching normal"
   ]
  },
  {
   "cell_type": "code",
   "execution_count": 29,
   "metadata": {},
   "outputs": [
    {
     "data": {
      "text/plain": [
       "HIV Status    0.831461\n",
       "dtype: float64"
      ]
     },
     "execution_count": 29,
     "metadata": {},
     "output_type": "execute_result"
    },
    {
     "data": {
      "text/plain": [
       "HIV Status    0.168539\n",
       "dtype: float64"
      ]
     },
     "execution_count": 29,
     "metadata": {},
     "output_type": "execute_result"
    }
   ],
   "source": [
    "(dfm == 'negative').mean()\n",
    "\n",
    "(dfm == 'positive').mean()"
   ]
  },
  {
   "cell_type": "code",
   "execution_count": 30,
   "metadata": {},
   "outputs": [
    {
     "data": {
      "text/plain": [
       "array(['negative', 'positive'], dtype=object)"
      ]
     },
     "execution_count": 30,
     "metadata": {},
     "output_type": "execute_result"
    }
   ],
   "source": [
    "dfm['HIV Status'].unique()"
   ]
  },
  {
   "cell_type": "code",
   "execution_count": 31,
   "metadata": {},
   "outputs": [
    {
     "data": {
      "text/plain": [
       "(4140, 89)"
      ]
     },
     "execution_count": 31,
     "metadata": {},
     "output_type": "execute_result"
    },
    {
     "data": {
      "text/html": [
       "<div>\n",
       "<style scoped>\n",
       "    .dataframe tbody tr th:only-of-type {\n",
       "        vertical-align: middle;\n",
       "    }\n",
       "\n",
       "    .dataframe tbody tr th {\n",
       "        vertical-align: top;\n",
       "    }\n",
       "\n",
       "    .dataframe thead th {\n",
       "        text-align: right;\n",
       "    }\n",
       "</style>\n",
       "<table border=\"1\" class=\"dataframe\">\n",
       "  <thead>\n",
       "    <tr style=\"text-align: right;\">\n",
       "      <th></th>\n",
       "      <th>HTMCP-03-06-02025</th>\n",
       "      <th>HTMCP-03-06-02044</th>\n",
       "      <th>HTMCP-03-06-02060</th>\n",
       "      <th>HTMCP-03-06-02061</th>\n",
       "      <th>HTMCP-03-06-02062</th>\n",
       "      <th>HTMCP-03-06-02066</th>\n",
       "      <th>HTMCP-03-06-02067</th>\n",
       "      <th>HTMCP-03-06-02072</th>\n",
       "      <th>HTMCP-03-06-02081</th>\n",
       "      <th>HTMCP-03-06-02082</th>\n",
       "      <th>...</th>\n",
       "      <th>HTMCP-03-06-02412</th>\n",
       "      <th>HTMCP-03-06-02416</th>\n",
       "      <th>HTMCP-03-06-02421</th>\n",
       "      <th>HTMCP-03-06-02423</th>\n",
       "      <th>HTMCP-03-06-02425</th>\n",
       "      <th>HTMCP-03-06-02426</th>\n",
       "      <th>HTMCP-03-06-02439</th>\n",
       "      <th>HTMCP-03-06-02446</th>\n",
       "      <th>number_patients_mutated</th>\n",
       "      <th>percent_patients_mutated</th>\n",
       "    </tr>\n",
       "    <tr>\n",
       "      <th>gene</th>\n",
       "      <th></th>\n",
       "      <th></th>\n",
       "      <th></th>\n",
       "      <th></th>\n",
       "      <th></th>\n",
       "      <th></th>\n",
       "      <th></th>\n",
       "      <th></th>\n",
       "      <th></th>\n",
       "      <th></th>\n",
       "      <th></th>\n",
       "      <th></th>\n",
       "      <th></th>\n",
       "      <th></th>\n",
       "      <th></th>\n",
       "      <th></th>\n",
       "      <th></th>\n",
       "      <th></th>\n",
       "      <th></th>\n",
       "      <th></th>\n",
       "      <th></th>\n",
       "    </tr>\n",
       "  </thead>\n",
       "  <tbody>\n",
       "    <tr>\n",
       "      <td>A2M</td>\n",
       "      <td>wt</td>\n",
       "      <td>wt</td>\n",
       "      <td>wt</td>\n",
       "      <td>wt</td>\n",
       "      <td>wt</td>\n",
       "      <td>wt</td>\n",
       "      <td>wt</td>\n",
       "      <td>wt</td>\n",
       "      <td>wt</td>\n",
       "      <td>wt</td>\n",
       "      <td>...</td>\n",
       "      <td>wt</td>\n",
       "      <td>wt</td>\n",
       "      <td>wt</td>\n",
       "      <td>wt</td>\n",
       "      <td>wt</td>\n",
       "      <td>wt</td>\n",
       "      <td>wt</td>\n",
       "      <td>wt</td>\n",
       "      <td>2</td>\n",
       "      <td>0.022989</td>\n",
       "    </tr>\n",
       "    <tr>\n",
       "      <td>AAK1</td>\n",
       "      <td>wt</td>\n",
       "      <td>wt</td>\n",
       "      <td>wt</td>\n",
       "      <td>wt</td>\n",
       "      <td>wt</td>\n",
       "      <td>wt</td>\n",
       "      <td>wt</td>\n",
       "      <td>wt</td>\n",
       "      <td>wt</td>\n",
       "      <td>mutated</td>\n",
       "      <td>...</td>\n",
       "      <td>wt</td>\n",
       "      <td>wt</td>\n",
       "      <td>wt</td>\n",
       "      <td>wt</td>\n",
       "      <td>wt</td>\n",
       "      <td>wt</td>\n",
       "      <td>wt</td>\n",
       "      <td>wt</td>\n",
       "      <td>2</td>\n",
       "      <td>0.022989</td>\n",
       "    </tr>\n",
       "  </tbody>\n",
       "</table>\n",
       "<p>2 rows × 89 columns</p>\n",
       "</div>"
      ],
      "text/plain": [
       "     HTMCP-03-06-02025 HTMCP-03-06-02044 HTMCP-03-06-02060 HTMCP-03-06-02061  \\\n",
       "gene                                                                           \n",
       "A2M                 wt                wt                wt                wt   \n",
       "AAK1                wt                wt                wt                wt   \n",
       "\n",
       "     HTMCP-03-06-02062 HTMCP-03-06-02066 HTMCP-03-06-02067 HTMCP-03-06-02072  \\\n",
       "gene                                                                           \n",
       "A2M                 wt                wt                wt                wt   \n",
       "AAK1                wt                wt                wt                wt   \n",
       "\n",
       "     HTMCP-03-06-02081 HTMCP-03-06-02082  ... HTMCP-03-06-02412  \\\n",
       "gene                                      ...                     \n",
       "A2M                 wt                wt  ...                wt   \n",
       "AAK1                wt           mutated  ...                wt   \n",
       "\n",
       "     HTMCP-03-06-02416 HTMCP-03-06-02421 HTMCP-03-06-02423 HTMCP-03-06-02425  \\\n",
       "gene                                                                           \n",
       "A2M                 wt                wt                wt                wt   \n",
       "AAK1                wt                wt                wt                wt   \n",
       "\n",
       "     HTMCP-03-06-02426 HTMCP-03-06-02439 HTMCP-03-06-02446  \\\n",
       "gene                                                         \n",
       "A2M                 wt                wt                wt   \n",
       "AAK1                wt                wt                wt   \n",
       "\n",
       "     number_patients_mutated percent_patients_mutated  \n",
       "gene                                                   \n",
       "A2M                        2                 0.022989  \n",
       "AAK1                       2                 0.022989  \n",
       "\n",
       "[2 rows x 89 columns]"
      ]
     },
     "execution_count": 31,
     "metadata": {},
     "output_type": "execute_result"
    }
   ],
   "source": [
    "f = '/projects/trans_scratch/validations/workspace/szong/Cervical/variant_bwamem/validation/somatic_mutation_gene_by_patient_summary_20190624.tsv'\n",
    "df1 = pd.read_csv(f, sep='\\t', index_col='gene')\n",
    "df1.shape\n",
    "df1.head(2)"
   ]
  },
  {
   "cell_type": "markdown",
   "metadata": {},
   "source": [
    "missing MLL2, use second capture results"
   ]
  },
  {
   "cell_type": "code",
   "execution_count": 32,
   "metadata": {},
   "outputs": [
    {
     "data": {
      "text/plain": [
       "(166, 11)"
      ]
     },
     "execution_count": 32,
     "metadata": {},
     "output_type": "execute_result"
    }
   ],
   "source": [
    "ff = '/projects/trans_scratch/validations/workspace/szong/Cervical/variant_bwamem/validation/strelka_HMLM_targets_summary_20191016.txt'\n",
    "df11 = pd.read_csv(ff, sep='\\t')\n",
    "df11.shape\n",
    "df11 = df11[(df11.impact_type !='MODIFIER')&(df11.gene=='MLL2')]\n",
    "pos_pats = df11['patient'].unique()"
   ]
  },
  {
   "cell_type": "code",
   "execution_count": null,
   "metadata": {},
   "outputs": [],
   "source": []
  },
  {
   "cell_type": "code",
   "execution_count": 33,
   "metadata": {},
   "outputs": [],
   "source": [
    "df1.loc['MLL2',pos_pats] = 'mutated'\n",
    "df1.fillna('wt', inplace=True)"
   ]
  },
  {
   "cell_type": "code",
   "execution_count": 34,
   "metadata": {},
   "outputs": [],
   "source": [
    "assert (df1.loc['MLL2', :] == 'mutated').sum() == 16"
   ]
  },
  {
   "cell_type": "code",
   "execution_count": 35,
   "metadata": {},
   "outputs": [
    {
     "data": {
      "text/html": [
       "<div>\n",
       "<style scoped>\n",
       "    .dataframe tbody tr th:only-of-type {\n",
       "        vertical-align: middle;\n",
       "    }\n",
       "\n",
       "    .dataframe tbody tr th {\n",
       "        vertical-align: top;\n",
       "    }\n",
       "\n",
       "    .dataframe thead th {\n",
       "        text-align: right;\n",
       "    }\n",
       "</style>\n",
       "<table border=\"1\" class=\"dataframe\">\n",
       "  <thead>\n",
       "    <tr style=\"text-align: right;\">\n",
       "      <th>gene</th>\n",
       "      <th>PIK3CA</th>\n",
       "      <th>FAT1</th>\n",
       "      <th>MLL2</th>\n",
       "      <th>FBXW7</th>\n",
       "      <th>CASP8</th>\n",
       "      <th>SLC35G5</th>\n",
       "      <th>MAPK1</th>\n",
       "      <th>PCDHGA12</th>\n",
       "      <th>PSPC1</th>\n",
       "      <th>ZNF750</th>\n",
       "      <th>PCDHA9</th>\n",
       "      <th>ZC3H6</th>\n",
       "    </tr>\n",
       "  </thead>\n",
       "  <tbody>\n",
       "    <tr>\n",
       "      <td>HTMCP-03-06-02025</td>\n",
       "      <td>wt</td>\n",
       "      <td>wt</td>\n",
       "      <td>wt</td>\n",
       "      <td>mutated</td>\n",
       "      <td>wt</td>\n",
       "      <td>wt</td>\n",
       "      <td>wt</td>\n",
       "      <td>wt</td>\n",
       "      <td>NaN</td>\n",
       "      <td>wt</td>\n",
       "      <td>wt</td>\n",
       "      <td>wt</td>\n",
       "    </tr>\n",
       "    <tr>\n",
       "      <td>HTMCP-03-06-02044</td>\n",
       "      <td>mutated</td>\n",
       "      <td>wt</td>\n",
       "      <td>wt</td>\n",
       "      <td>wt</td>\n",
       "      <td>wt</td>\n",
       "      <td>wt</td>\n",
       "      <td>wt</td>\n",
       "      <td>wt</td>\n",
       "      <td>NaN</td>\n",
       "      <td>wt</td>\n",
       "      <td>wt</td>\n",
       "      <td>wt</td>\n",
       "    </tr>\n",
       "  </tbody>\n",
       "</table>\n",
       "</div>"
      ],
      "text/plain": [
       "gene                PIK3CA FAT1 MLL2    FBXW7 CASP8 SLC35G5 MAPK1 PCDHGA12  \\\n",
       "HTMCP-03-06-02025       wt   wt   wt  mutated    wt      wt    wt       wt   \n",
       "HTMCP-03-06-02044  mutated   wt   wt       wt    wt      wt    wt       wt   \n",
       "\n",
       "gene              PSPC1 ZNF750 PCDHA9 ZC3H6  \n",
       "HTMCP-03-06-02025   NaN     wt     wt    wt  \n",
       "HTMCP-03-06-02044   NaN     wt     wt    wt  "
      ]
     },
     "execution_count": 35,
     "metadata": {},
     "output_type": "execute_result"
    }
   ],
   "source": [
    "df1 = df1.reindex(genes).T\n",
    "df1.head(2)"
   ]
  },
  {
   "cell_type": "code",
   "execution_count": 36,
   "metadata": {},
   "outputs": [
    {
     "data": {
      "text/plain": [
       "(89, 1)"
      ]
     },
     "execution_count": 36,
     "metadata": {},
     "output_type": "execute_result"
    }
   ],
   "source": [
    "dfm.shape"
   ]
  },
  {
   "cell_type": "code",
   "execution_count": 37,
   "metadata": {},
   "outputs": [],
   "source": [
    "dfv = pd.merge(df1, dfm, left_index=True,right_index=True, how='right')"
   ]
  },
  {
   "cell_type": "code",
   "execution_count": 38,
   "metadata": {},
   "outputs": [
    {
     "data": {
      "text/html": [
       "<div>\n",
       "<style scoped>\n",
       "    .dataframe tbody tr th:only-of-type {\n",
       "        vertical-align: middle;\n",
       "    }\n",
       "\n",
       "    .dataframe tbody tr th {\n",
       "        vertical-align: top;\n",
       "    }\n",
       "\n",
       "    .dataframe thead th {\n",
       "        text-align: right;\n",
       "    }\n",
       "</style>\n",
       "<table border=\"1\" class=\"dataframe\">\n",
       "  <thead>\n",
       "    <tr style=\"text-align: right;\">\n",
       "      <th></th>\n",
       "      <th>PIK3CA</th>\n",
       "      <th>FAT1</th>\n",
       "      <th>MLL2</th>\n",
       "      <th>FBXW7</th>\n",
       "      <th>CASP8</th>\n",
       "      <th>SLC35G5</th>\n",
       "      <th>MAPK1</th>\n",
       "      <th>PCDHGA12</th>\n",
       "      <th>PSPC1</th>\n",
       "      <th>ZNF750</th>\n",
       "      <th>PCDHA9</th>\n",
       "      <th>ZC3H6</th>\n",
       "      <th>HIV Status</th>\n",
       "    </tr>\n",
       "    <tr>\n",
       "      <th>patient</th>\n",
       "      <th></th>\n",
       "      <th></th>\n",
       "      <th></th>\n",
       "      <th></th>\n",
       "      <th></th>\n",
       "      <th></th>\n",
       "      <th></th>\n",
       "      <th></th>\n",
       "      <th></th>\n",
       "      <th></th>\n",
       "      <th></th>\n",
       "      <th></th>\n",
       "      <th></th>\n",
       "    </tr>\n",
       "  </thead>\n",
       "  <tbody>\n",
       "    <tr>\n",
       "      <td>HTMCP-03-06-02044</td>\n",
       "      <td>mutated</td>\n",
       "      <td>wt</td>\n",
       "      <td>wt</td>\n",
       "      <td>wt</td>\n",
       "      <td>wt</td>\n",
       "      <td>wt</td>\n",
       "      <td>wt</td>\n",
       "      <td>wt</td>\n",
       "      <td>NaN</td>\n",
       "      <td>wt</td>\n",
       "      <td>wt</td>\n",
       "      <td>wt</td>\n",
       "      <td>negative</td>\n",
       "    </tr>\n",
       "    <tr>\n",
       "      <td>HTMCP-03-06-02060</td>\n",
       "      <td>wt</td>\n",
       "      <td>mutated</td>\n",
       "      <td>wt</td>\n",
       "      <td>wt</td>\n",
       "      <td>wt</td>\n",
       "      <td>wt</td>\n",
       "      <td>wt</td>\n",
       "      <td>mutated</td>\n",
       "      <td>NaN</td>\n",
       "      <td>wt</td>\n",
       "      <td>wt</td>\n",
       "      <td>wt</td>\n",
       "      <td>negative</td>\n",
       "    </tr>\n",
       "  </tbody>\n",
       "</table>\n",
       "</div>"
      ],
      "text/plain": [
       "                    PIK3CA     FAT1 MLL2 FBXW7 CASP8 SLC35G5 MAPK1 PCDHGA12  \\\n",
       "patient                                                                       \n",
       "HTMCP-03-06-02044  mutated       wt   wt    wt    wt      wt    wt       wt   \n",
       "HTMCP-03-06-02060       wt  mutated   wt    wt    wt      wt    wt  mutated   \n",
       "\n",
       "                  PSPC1 ZNF750 PCDHA9 ZC3H6 HIV Status  \n",
       "patient                                                 \n",
       "HTMCP-03-06-02044   NaN     wt     wt    wt   negative  \n",
       "HTMCP-03-06-02060   NaN     wt     wt    wt   negative  "
      ]
     },
     "execution_count": 38,
     "metadata": {},
     "output_type": "execute_result"
    },
    {
     "data": {
      "text/plain": [
       "(89, 13)"
      ]
     },
     "execution_count": 38,
     "metadata": {},
     "output_type": "execute_result"
    }
   ],
   "source": [
    "dfv.head(2)\n",
    "dfv.shape"
   ]
  },
  {
   "cell_type": "code",
   "execution_count": 39,
   "metadata": {},
   "outputs": [
    {
     "data": {
      "text/plain": [
       "pandas.core.series.Series"
      ]
     },
     "execution_count": 39,
     "metadata": {},
     "output_type": "execute_result"
    },
    {
     "data": {
      "text/html": [
       "<div>\n",
       "<style scoped>\n",
       "    .dataframe tbody tr th:only-of-type {\n",
       "        vertical-align: middle;\n",
       "    }\n",
       "\n",
       "    .dataframe tbody tr th {\n",
       "        vertical-align: top;\n",
       "    }\n",
       "\n",
       "    .dataframe thead th {\n",
       "        text-align: right;\n",
       "    }\n",
       "</style>\n",
       "<table border=\"1\" class=\"dataframe\">\n",
       "  <thead>\n",
       "    <tr style=\"text-align: right;\">\n",
       "      <th></th>\n",
       "      <th>val_HIV_pos</th>\n",
       "      <th>val_HIV_neg</th>\n",
       "    </tr>\n",
       "  </thead>\n",
       "  <tbody>\n",
       "    <tr>\n",
       "      <td>PIK3CA</td>\n",
       "      <td>0.033708</td>\n",
       "      <td>0.292135</td>\n",
       "    </tr>\n",
       "    <tr>\n",
       "      <td>FAT1</td>\n",
       "      <td>0.011236</td>\n",
       "      <td>0.112360</td>\n",
       "    </tr>\n",
       "    <tr>\n",
       "      <td>MLL2</td>\n",
       "      <td>0.022472</td>\n",
       "      <td>0.157303</td>\n",
       "    </tr>\n",
       "    <tr>\n",
       "      <td>FBXW7</td>\n",
       "      <td>0.033708</td>\n",
       "      <td>0.123596</td>\n",
       "    </tr>\n",
       "    <tr>\n",
       "      <td>CASP8</td>\n",
       "      <td>0.011236</td>\n",
       "      <td>0.078652</td>\n",
       "    </tr>\n",
       "    <tr>\n",
       "      <td>SLC35G5</td>\n",
       "      <td>0.011236</td>\n",
       "      <td>0.022472</td>\n",
       "    </tr>\n",
       "    <tr>\n",
       "      <td>MAPK1</td>\n",
       "      <td>0.022472</td>\n",
       "      <td>0.000000</td>\n",
       "    </tr>\n",
       "    <tr>\n",
       "      <td>PCDHGA12</td>\n",
       "      <td>0.000000</td>\n",
       "      <td>0.044944</td>\n",
       "    </tr>\n",
       "    <tr>\n",
       "      <td>PSPC1</td>\n",
       "      <td>0.000000</td>\n",
       "      <td>0.000000</td>\n",
       "    </tr>\n",
       "    <tr>\n",
       "      <td>ZNF750</td>\n",
       "      <td>0.000000</td>\n",
       "      <td>0.011236</td>\n",
       "    </tr>\n",
       "    <tr>\n",
       "      <td>PCDHA9</td>\n",
       "      <td>0.000000</td>\n",
       "      <td>0.044944</td>\n",
       "    </tr>\n",
       "    <tr>\n",
       "      <td>ZC3H6</td>\n",
       "      <td>0.011236</td>\n",
       "      <td>0.022472</td>\n",
       "    </tr>\n",
       "    <tr>\n",
       "      <td>HIV Status</td>\n",
       "      <td>0.000000</td>\n",
       "      <td>0.000000</td>\n",
       "    </tr>\n",
       "  </tbody>\n",
       "</table>\n",
       "</div>"
      ],
      "text/plain": [
       "            val_HIV_pos  val_HIV_neg\n",
       "PIK3CA         0.033708     0.292135\n",
       "FAT1           0.011236     0.112360\n",
       "MLL2           0.022472     0.157303\n",
       "FBXW7          0.033708     0.123596\n",
       "CASP8          0.011236     0.078652\n",
       "SLC35G5        0.011236     0.022472\n",
       "MAPK1          0.022472     0.000000\n",
       "PCDHGA12       0.000000     0.044944\n",
       "PSPC1          0.000000     0.000000\n",
       "ZNF750         0.000000     0.011236\n",
       "PCDHA9         0.000000     0.044944\n",
       "ZC3H6          0.011236     0.022472\n",
       "HIV Status     0.000000     0.000000"
      ]
     },
     "execution_count": 39,
     "metadata": {},
     "output_type": "execute_result"
    }
   ],
   "source": [
    "dfv1 = (dfv[dfv['HIV Status']=='positive'] == 'mutated').sum()/89\n",
    "# dfv1\n",
    "dfv2 = (dfv[dfv['HIV Status']=='negative'] == 'mutated').sum()/89\n",
    "# dfv2\n",
    "type(dfv1)\n",
    "# combine two series into dataframe, columnwise concat\n",
    "dfvf = pd.concat([dfv1, dfv2], axis=1)\n",
    "dfvf.columns = ['val_HIV_pos', 'val_HIV_neg']\n",
    "dfvf"
   ]
  },
  {
   "cell_type": "code",
   "execution_count": 40,
   "metadata": {},
   "outputs": [],
   "source": [
    "dff = pd.concat([dfdf, dfvf], axis=1, sort=False).drop('HIV status').drop('HIV Status')"
   ]
  },
  {
   "cell_type": "code",
   "execution_count": 41,
   "metadata": {},
   "outputs": [],
   "source": [
    "dff = dff.reindex(genes)"
   ]
  },
  {
   "cell_type": "code",
   "execution_count": 42,
   "metadata": {},
   "outputs": [
    {
     "data": {
      "text/html": [
       "<div>\n",
       "<style scoped>\n",
       "    .dataframe tbody tr th:only-of-type {\n",
       "        vertical-align: middle;\n",
       "    }\n",
       "\n",
       "    .dataframe tbody tr th {\n",
       "        vertical-align: top;\n",
       "    }\n",
       "\n",
       "    .dataframe thead th {\n",
       "        text-align: right;\n",
       "    }\n",
       "</style>\n",
       "<table border=\"1\" class=\"dataframe\">\n",
       "  <thead>\n",
       "    <tr style=\"text-align: right;\">\n",
       "      <th></th>\n",
       "      <th>dis_HIV_pos</th>\n",
       "      <th>dis_HIV_neg</th>\n",
       "      <th>val_HIV_pos</th>\n",
       "      <th>val_HIV_neg</th>\n",
       "    </tr>\n",
       "  </thead>\n",
       "  <tbody>\n",
       "    <tr>\n",
       "      <td>PIK3CA</td>\n",
       "      <td>0.177966</td>\n",
       "      <td>0.169492</td>\n",
       "      <td>0.033708</td>\n",
       "      <td>0.292135</td>\n",
       "    </tr>\n",
       "    <tr>\n",
       "      <td>FAT1</td>\n",
       "      <td>0.101695</td>\n",
       "      <td>0.084746</td>\n",
       "      <td>0.011236</td>\n",
       "      <td>0.112360</td>\n",
       "    </tr>\n",
       "    <tr>\n",
       "      <td>MLL2</td>\n",
       "      <td>0.059322</td>\n",
       "      <td>0.084746</td>\n",
       "      <td>0.022472</td>\n",
       "      <td>0.157303</td>\n",
       "    </tr>\n",
       "    <tr>\n",
       "      <td>FBXW7</td>\n",
       "      <td>0.050847</td>\n",
       "      <td>0.050847</td>\n",
       "      <td>0.033708</td>\n",
       "      <td>0.123596</td>\n",
       "    </tr>\n",
       "    <tr>\n",
       "      <td>CASP8</td>\n",
       "      <td>0.042373</td>\n",
       "      <td>0.025424</td>\n",
       "      <td>0.011236</td>\n",
       "      <td>0.078652</td>\n",
       "    </tr>\n",
       "    <tr>\n",
       "      <td>SLC35G5</td>\n",
       "      <td>0.059322</td>\n",
       "      <td>0.008475</td>\n",
       "      <td>0.011236</td>\n",
       "      <td>0.022472</td>\n",
       "    </tr>\n",
       "    <tr>\n",
       "      <td>MAPK1</td>\n",
       "      <td>0.033898</td>\n",
       "      <td>0.016949</td>\n",
       "      <td>0.022472</td>\n",
       "      <td>0.000000</td>\n",
       "    </tr>\n",
       "    <tr>\n",
       "      <td>PCDHGA12</td>\n",
       "      <td>0.033898</td>\n",
       "      <td>0.025424</td>\n",
       "      <td>0.000000</td>\n",
       "      <td>0.044944</td>\n",
       "    </tr>\n",
       "    <tr>\n",
       "      <td>PSPC1</td>\n",
       "      <td>0.033898</td>\n",
       "      <td>0.016949</td>\n",
       "      <td>0.000000</td>\n",
       "      <td>0.000000</td>\n",
       "    </tr>\n",
       "    <tr>\n",
       "      <td>ZNF750</td>\n",
       "      <td>0.016949</td>\n",
       "      <td>0.025424</td>\n",
       "      <td>0.000000</td>\n",
       "      <td>0.011236</td>\n",
       "    </tr>\n",
       "    <tr>\n",
       "      <td>PCDHA9</td>\n",
       "      <td>0.008475</td>\n",
       "      <td>0.025424</td>\n",
       "      <td>0.000000</td>\n",
       "      <td>0.044944</td>\n",
       "    </tr>\n",
       "    <tr>\n",
       "      <td>ZC3H6</td>\n",
       "      <td>0.025424</td>\n",
       "      <td>0.008475</td>\n",
       "      <td>0.011236</td>\n",
       "      <td>0.022472</td>\n",
       "    </tr>\n",
       "  </tbody>\n",
       "</table>\n",
       "</div>"
      ],
      "text/plain": [
       "          dis_HIV_pos  dis_HIV_neg  val_HIV_pos  val_HIV_neg\n",
       "PIK3CA       0.177966     0.169492     0.033708     0.292135\n",
       "FAT1         0.101695     0.084746     0.011236     0.112360\n",
       "MLL2         0.059322     0.084746     0.022472     0.157303\n",
       "FBXW7        0.050847     0.050847     0.033708     0.123596\n",
       "CASP8        0.042373     0.025424     0.011236     0.078652\n",
       "SLC35G5      0.059322     0.008475     0.011236     0.022472\n",
       "MAPK1        0.033898     0.016949     0.022472     0.000000\n",
       "PCDHGA12     0.033898     0.025424     0.000000     0.044944\n",
       "PSPC1        0.033898     0.016949     0.000000     0.000000\n",
       "ZNF750       0.016949     0.025424     0.000000     0.011236\n",
       "PCDHA9       0.008475     0.025424     0.000000     0.044944\n",
       "ZC3H6        0.025424     0.008475     0.011236     0.022472"
      ]
     },
     "execution_count": 42,
     "metadata": {},
     "output_type": "execute_result"
    }
   ],
   "source": [
    "dff"
   ]
  }
 ],
 "metadata": {
  "kernelspec": {
   "display_name": "Python 3",
   "language": "python",
   "name": "python3"
  },
  "language_info": {
   "codemirror_mode": {
    "name": "ipython",
    "version": 3
   },
   "file_extension": ".py",
   "mimetype": "text/x-python",
   "name": "python",
   "nbconvert_exporter": "python",
   "pygments_lexer": "ipython3",
   "version": "3.7.3"
  }
 },
 "nbformat": 4,
 "nbformat_minor": 2
}
