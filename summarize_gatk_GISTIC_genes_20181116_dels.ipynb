{
 "cells": [
  {
   "cell_type": "markdown",
   "metadata": {
    "collapsed": true
   },
   "source": [
    "analyze NCI cervical cnv results"
   ]
  },
  {
   "cell_type": "code",
   "execution_count": 3,
   "metadata": {},
   "outputs": [],
   "source": [
    "import csv\n",
    "import matplotlib\n",
    "# import seaborn\n",
    "import seaborn as sns\n",
    "import numpy as np\n",
    "import pandas as pd\n",
    "import matplotlib.pyplot as plt\n",
    "import sys\n",
    "sys.path.append('/projects/trans_scratch/validations/workspace/szong/Cervical/notebook')\n",
    "import sz_toolbox as szt\n",
    "# from scipy.stats import ttest_ind\n",
    "# import scipy.stats as stats\n",
    "# import scipy.stats as ss\n",
    "# from matplotlib import style\n",
    "# import matplotlib.gridspec as gridspec\n",
    "# import matplotlib.patches as patches\n",
    "matplotlib.style.use('ggplot')\n",
    "%matplotlib inline\n",
    "matplotlib.rcParams['figure.figsize'] = (6, 4)\n",
    "from adjustText import adjust_text\n",
    "\n",
    "# from sklearn.decomposition import RandomizedPCA, PCA, TruncatedSVD\n",
    "# from sklearn.linear_model import LogisticRegression\n",
    "# from sklearn.manifold import TSNE\n",
    "# from sklearn.preprocessing import StandardScaler\n",
    "\n",
    "from IPython.core.interactiveshell import InteractiveShell\n",
    "InteractiveShell.ast_node_interactivity = \"all\""
   ]
  },
  {
   "cell_type": "code",
   "execution_count": null,
   "metadata": {},
   "outputs": [],
   "source": []
  },
  {
   "cell_type": "markdown",
   "metadata": {
    "collapsed": true
   },
   "source": [
    "# 1. produce list of genes amplied or deleted in GISTIC wide peaks "
   ]
  },
  {
   "cell_type": "code",
   "execution_count": 5,
   "metadata": {},
   "outputs": [],
   "source": [
    "var = 'genes_in_wide_peak'\n",
    "var1 = '-log10tcga'\n",
    "var2 = '-log10htmcp'\n",
    "wkdir = '/projects/trans_scratch/validations/workspace/szong/Cervical/cnv/gatk_cnv/'"
   ]
  },
  {
   "cell_type": "code",
   "execution_count": 6,
   "metadata": {},
   "outputs": [
    {
     "data": {
      "text/html": [
       "<div>\n",
       "<style scoped>\n",
       "    .dataframe tbody tr th:only-of-type {\n",
       "        vertical-align: middle;\n",
       "    }\n",
       "\n",
       "    .dataframe tbody tr th {\n",
       "        vertical-align: top;\n",
       "    }\n",
       "\n",
       "    .dataframe thead th {\n",
       "        text-align: right;\n",
       "    }\n",
       "</style>\n",
       "<table border=\"1\" class=\"dataframe\">\n",
       "  <thead>\n",
       "    <tr style=\"text-align: right;\">\n",
       "      <th></th>\n",
       "      <th>0</th>\n",
       "    </tr>\n",
       "  </thead>\n",
       "  <tbody>\n",
       "    <tr>\n",
       "      <th>0</th>\n",
       "      <td>ABI1</td>\n",
       "    </tr>\n",
       "    <tr>\n",
       "      <th>1</th>\n",
       "      <td>ABI2</td>\n",
       "    </tr>\n",
       "    <tr>\n",
       "      <th>2</th>\n",
       "      <td>ABL1</td>\n",
       "    </tr>\n",
       "    <tr>\n",
       "      <th>3</th>\n",
       "      <td>ABL2</td>\n",
       "    </tr>\n",
       "    <tr>\n",
       "      <th>4</th>\n",
       "      <td>ACSL3</td>\n",
       "    </tr>\n",
       "  </tbody>\n",
       "</table>\n",
       "</div>"
      ],
      "text/plain": [
       "       0\n",
       "0   ABI1\n",
       "1   ABI2\n",
       "2   ABL1\n",
       "3   ABL2\n",
       "4  ACSL3"
      ]
     },
     "execution_count": 6,
     "metadata": {},
     "output_type": "execute_result"
    }
   ],
   "source": [
    "# use this list if only ongenes are of interest\n",
    "f1 = '/home/szong/projects/resource/oncogenes.and.tumor.suppressor.genes.txt'\n",
    "df_tg = pd.read_csv(f1, header=None)\n",
    "df_tg.head()\n",
    "\n",
    "tgs = df_tg[0].tolist()"
   ]
  },
  {
   "cell_type": "code",
   "execution_count": 7,
   "metadata": {
    "scrolled": true
   },
   "outputs": [],
   "source": [
    "def summarize_genes(inf, tgs):\n",
    "    df = pd.read_csv(inf, sep='\\t', header=None)#.replace('', 'None')\n",
    "#     print(df)\n",
    "    df.loc['genes',:] = df.apply(lambda x:  ','.join([i.strip() for i in set(x[~x.isnull()][4:]) if ('[' not in i)]))\n",
    "    df.loc['tg_genes',:] = df.apply(lambda x:  ','.join([m.strip() for m in set(x[~x.isnull()][4:]) if m in tgs]))\n",
    "\n",
    "\n",
    "    df1 = df.loc[[0,1,2,3,'genes', 'tg_genes'],:].T\n",
    "    df1['xxx'] = df1.genes.apply(lambda x: x.split(','))\n",
    "#     '' in the list when there is a blank in the original files, must have a better way to deal with this\n",
    "    df1['num_genes'] = df1['xxx'].apply(lambda x: len(x) if '' not in x else len(x)-1)\n",
    "    df1 = df1.drop('xxx', axis=1)\n",
    "    df1 = df1.drop(0)\n",
    "    df1 = df1[:-1]\n",
    "    df1.columns = ['cytoband', 'q_value', 'residual_q_value', 'wide_peak_boundary', 'genes_in_wide_peak','oncogenes','num_genes']\n",
    "#     df1['cancer_genes'] = df1.apply(lambda x: '({0}){1}'.format(x[4], x[5]), axis=1)\n",
    "    of = '{}.summary'.format(inf)\n",
    "    print('write summary for {}'.format(inf))\n",
    "    df1.to_csv(of, index=False, sep='\\t')\n",
    "    return df1"
   ]
  },
  {
   "cell_type": "markdown",
   "metadata": {},
   "source": [
    "# 2. TCGA cnv "
   ]
  },
  {
   "cell_type": "code",
   "execution_count": 47,
   "metadata": {},
   "outputs": [
    {
     "data": {
      "text/html": [
       "<div>\n",
       "<style scoped>\n",
       "    .dataframe tbody tr th:only-of-type {\n",
       "        vertical-align: middle;\n",
       "    }\n",
       "\n",
       "    .dataframe tbody tr th {\n",
       "        vertical-align: top;\n",
       "    }\n",
       "\n",
       "    .dataframe thead th {\n",
       "        text-align: right;\n",
       "    }\n",
       "</style>\n",
       "<table border=\"1\" class=\"dataframe\">\n",
       "  <thead>\n",
       "    <tr style=\"text-align: right;\">\n",
       "      <th></th>\n",
       "      <th>0</th>\n",
       "      <th>1</th>\n",
       "      <th>2</th>\n",
       "      <th>3</th>\n",
       "      <th>4</th>\n",
       "      <th>5</th>\n",
       "      <th>6</th>\n",
       "      <th>7</th>\n",
       "      <th>8</th>\n",
       "      <th>9</th>\n",
       "      <th>...</th>\n",
       "      <th>29</th>\n",
       "      <th>30</th>\n",
       "      <th>31</th>\n",
       "      <th>32</th>\n",
       "      <th>33</th>\n",
       "      <th>34</th>\n",
       "      <th>35</th>\n",
       "      <th>36</th>\n",
       "      <th>37</th>\n",
       "      <th>38</th>\n",
       "    </tr>\n",
       "  </thead>\n",
       "  <tbody>\n",
       "    <tr>\n",
       "      <th>0</th>\n",
       "      <td>cytoband</td>\n",
       "      <td>2q37.1</td>\n",
       "      <td>2q22.1</td>\n",
       "      <td>11q25</td>\n",
       "      <td>4q35.2</td>\n",
       "      <td>19p13.3</td>\n",
       "      <td>10q23.31</td>\n",
       "      <td>13q14.2</td>\n",
       "      <td>1p36.23</td>\n",
       "      <td>17q25.3</td>\n",
       "      <td>...</td>\n",
       "      <td>8p23.3</td>\n",
       "      <td>16q23.1</td>\n",
       "      <td>11p15.1</td>\n",
       "      <td>19p13.12</td>\n",
       "      <td>1p13.2</td>\n",
       "      <td>16p13.3</td>\n",
       "      <td>3p22.1</td>\n",
       "      <td>21q21.1</td>\n",
       "      <td>5q35.3</td>\n",
       "      <td>16q24.3</td>\n",
       "    </tr>\n",
       "    <tr>\n",
       "      <th>1</th>\n",
       "      <td>q value</td>\n",
       "      <td>2.1181e-25</td>\n",
       "      <td>6.4977e-17</td>\n",
       "      <td>2.8223e-14</td>\n",
       "      <td>6.1861e-12</td>\n",
       "      <td>5.1501e-12</td>\n",
       "      <td>7.5863e-10</td>\n",
       "      <td>3.9893e-10</td>\n",
       "      <td>4.5785e-05</td>\n",
       "      <td>0.00040073</td>\n",
       "      <td>...</td>\n",
       "      <td>0.16465</td>\n",
       "      <td>0.046327</td>\n",
       "      <td>0.20387</td>\n",
       "      <td>0.01539</td>\n",
       "      <td>0.17674</td>\n",
       "      <td>0.21081</td>\n",
       "      <td>0.23848</td>\n",
       "      <td>0.23482</td>\n",
       "      <td>0.24783</td>\n",
       "      <td>0.0506</td>\n",
       "    </tr>\n",
       "    <tr>\n",
       "      <th>2</th>\n",
       "      <td>residual q value</td>\n",
       "      <td>1.2059e-22</td>\n",
       "      <td>7.9934e-15</td>\n",
       "      <td>2.7755e-14</td>\n",
       "      <td>1.2885e-11</td>\n",
       "      <td>2.4884e-11</td>\n",
       "      <td>7.5863e-10</td>\n",
       "      <td>3.3152e-07</td>\n",
       "      <td>5.5176e-05</td>\n",
       "      <td>0.00040073</td>\n",
       "      <td>...</td>\n",
       "      <td>0.15897</td>\n",
       "      <td>0.17674</td>\n",
       "      <td>0.21041</td>\n",
       "      <td>0.21041</td>\n",
       "      <td>0.21194</td>\n",
       "      <td>0.21194</td>\n",
       "      <td>0.23848</td>\n",
       "      <td>0.23848</td>\n",
       "      <td>0.25985</td>\n",
       "      <td>0.27771</td>\n",
       "    </tr>\n",
       "    <tr>\n",
       "      <th>3</th>\n",
       "      <td>wide peak boundaries</td>\n",
       "      <td>chr2:230574908-243199373</td>\n",
       "      <td>chr2:140708948-143637838</td>\n",
       "      <td>chr11:118925936-135006516</td>\n",
       "      <td>chr4:187122750-191154276</td>\n",
       "      <td>chr19:1103802-1563471</td>\n",
       "      <td>chr10:89506488-89621060</td>\n",
       "      <td>chr13:33923100-52951868</td>\n",
       "      <td>chr1:1-17348846</td>\n",
       "      <td>chr17:77084275-81195210</td>\n",
       "      <td>...</td>\n",
       "      <td>chr8:1-17725651</td>\n",
       "      <td>chr16:75893345-90354753</td>\n",
       "      <td>chr11:19260790-20180603</td>\n",
       "      <td>chr19:15338142-15464333</td>\n",
       "      <td>chr1:78237771-149898950</td>\n",
       "      <td>chr16:1-2232793</td>\n",
       "      <td>chr3:41280645-42218893</td>\n",
       "      <td>chr21:1-37095653</td>\n",
       "      <td>chr5:146462840-180915260</td>\n",
       "      <td>chr16:1-90354753</td>\n",
       "    </tr>\n",
       "    <tr>\n",
       "      <th>4</th>\n",
       "      <td>genes in wide peak</td>\n",
       "      <td>CXXC11</td>\n",
       "      <td>RN7SL283P</td>\n",
       "      <td>snoU13|ENSG00000238693.1</td>\n",
       "      <td>RNA5SP175</td>\n",
       "      <td>NDUFS7</td>\n",
       "      <td>RN7SL78P</td>\n",
       "      <td>RN7SL413P</td>\n",
       "      <td>U1|ENSG00000228549.2</td>\n",
       "      <td>MIR4525</td>\n",
       "      <td>...</td>\n",
       "      <td>RNA5SP256</td>\n",
       "      <td>FAM157C</td>\n",
       "      <td>SNORA1|ENSG00000207407.1</td>\n",
       "      <td>BRD4</td>\n",
       "      <td>HIST2H3A</td>\n",
       "      <td>SNORD60|ENSG00000206630.1</td>\n",
       "      <td>U8|ENSG00000212145.2</td>\n",
       "      <td>LINC00160</td>\n",
       "      <td>TRIM52</td>\n",
       "      <td>FAM157C</td>\n",
       "    </tr>\n",
       "  </tbody>\n",
       "</table>\n",
       "<p>5 rows × 39 columns</p>\n",
       "</div>"
      ],
      "text/plain": [
       "                     0                         1                         2   \\\n",
       "0              cytoband                    2q37.1                    2q22.1   \n",
       "1               q value                2.1181e-25                6.4977e-17   \n",
       "2      residual q value                1.2059e-22                7.9934e-15   \n",
       "3  wide peak boundaries  chr2:230574908-243199373  chr2:140708948-143637838   \n",
       "4    genes in wide peak                    CXXC11                 RN7SL283P   \n",
       "\n",
       "                          3                         4                      5   \\\n",
       "0                      11q25                    4q35.2                19p13.3   \n",
       "1                 2.8223e-14                6.1861e-12             5.1501e-12   \n",
       "2                 2.7755e-14                1.2885e-11             2.4884e-11   \n",
       "3  chr11:118925936-135006516  chr4:187122750-191154276  chr19:1103802-1563471   \n",
       "4   snoU13|ENSG00000238693.1                 RNA5SP175                 NDUFS7   \n",
       "\n",
       "                        6                        7                     8   \\\n",
       "0                 10q23.31                  13q14.2               1p36.23   \n",
       "1               7.5863e-10               3.9893e-10            4.5785e-05   \n",
       "2               7.5863e-10               3.3152e-07            5.5176e-05   \n",
       "3  chr10:89506488-89621060  chr13:33923100-52951868       chr1:1-17348846   \n",
       "4                 RN7SL78P                RN7SL413P  U1|ENSG00000228549.2   \n",
       "\n",
       "                        9         ...                      29  \\\n",
       "0                  17q25.3        ...                  8p23.3   \n",
       "1               0.00040073        ...                 0.16465   \n",
       "2               0.00040073        ...                 0.15897   \n",
       "3  chr17:77084275-81195210        ...         chr8:1-17725651   \n",
       "4                  MIR4525        ...               RNA5SP256   \n",
       "\n",
       "                        30                        31                       32  \\\n",
       "0                  16q23.1                   11p15.1                 19p13.12   \n",
       "1                 0.046327                   0.20387                  0.01539   \n",
       "2                  0.17674                   0.21041                  0.21041   \n",
       "3  chr16:75893345-90354753   chr11:19260790-20180603  chr19:15338142-15464333   \n",
       "4                  FAM157C  SNORA1|ENSG00000207407.1                     BRD4   \n",
       "\n",
       "                        33                         34                      35  \\\n",
       "0                   1p13.2                    16p13.3                  3p22.1   \n",
       "1                  0.17674                    0.21081                 0.23848   \n",
       "2                  0.21194                    0.21194                 0.23848   \n",
       "3  chr1:78237771-149898950            chr16:1-2232793  chr3:41280645-42218893   \n",
       "4                 HIST2H3A  SNORD60|ENSG00000206630.1    U8|ENSG00000212145.2   \n",
       "\n",
       "                 36                        37                38  \n",
       "0           21q21.1                    5q35.3           16q24.3  \n",
       "1           0.23482                   0.24783            0.0506  \n",
       "2           0.23848                   0.25985           0.27771  \n",
       "3  chr21:1-37095653  chr5:146462840-180915260  chr16:1-90354753  \n",
       "4         LINC00160                    TRIM52           FAM157C  \n",
       "\n",
       "[5 rows x 39 columns]"
      ]
     },
     "execution_count": 47,
     "metadata": {},
     "output_type": "execute_result"
    }
   ],
   "source": [
    "f = '/projects/trans_scratch/validations/workspace/szong/Cervical/tcga_cn/Table_Files_Revised_Manuscript2/Supplemental_Table_7-Amp_Del_Peaks.xlsx'\n",
    "df = pd.read_excel(f, sheet_name='All_dels', header=None)\n",
    "df = df.astype(str)\n",
    "df.head()"
   ]
  },
  {
   "cell_type": "code",
   "execution_count": 48,
   "metadata": {},
   "outputs": [
    {
     "data": {
      "text/html": [
       "<div>\n",
       "<style scoped>\n",
       "    .dataframe tbody tr th:only-of-type {\n",
       "        vertical-align: middle;\n",
       "    }\n",
       "\n",
       "    .dataframe tbody tr th {\n",
       "        vertical-align: top;\n",
       "    }\n",
       "\n",
       "    .dataframe thead th {\n",
       "        text-align: right;\n",
       "    }\n",
       "</style>\n",
       "<table border=\"1\" class=\"dataframe\">\n",
       "  <thead>\n",
       "    <tr style=\"text-align: right;\">\n",
       "      <th></th>\n",
       "      <th>cytoband</th>\n",
       "      <th>q_value</th>\n",
       "      <th>wide_peak_boundary</th>\n",
       "      <th>genes_in_wide_peak</th>\n",
       "    </tr>\n",
       "  </thead>\n",
       "  <tbody>\n",
       "    <tr>\n",
       "      <th>1</th>\n",
       "      <td>2q37.1</td>\n",
       "      <td>2.1181e-25</td>\n",
       "      <td>chr2:230574908-243199373</td>\n",
       "      <td>snoU13|ENSG00000239170.1,AQP12A,B3GNT7,STK25,A...</td>\n",
       "    </tr>\n",
       "    <tr>\n",
       "      <th>2</th>\n",
       "      <td>2q22.1</td>\n",
       "      <td>6.4977e-17</td>\n",
       "      <td>chr2:140708948-143637838</td>\n",
       "      <td>LRP1B,nan,RN7SL283P</td>\n",
       "    </tr>\n",
       "    <tr>\n",
       "      <th>3</th>\n",
       "      <td>11q25</td>\n",
       "      <td>2.8223e-14</td>\n",
       "      <td>chr11:118925936-135006516</td>\n",
       "      <td>TMEM218,SNX19,SIAE,POU2F3,KCNJ1,OR8B2,OR8D1,HY...</td>\n",
       "    </tr>\n",
       "    <tr>\n",
       "      <th>4</th>\n",
       "      <td>4q35.2</td>\n",
       "      <td>6.1861e-12</td>\n",
       "      <td>chr4:187122750-191154276</td>\n",
       "      <td>RNA5SP174,ZFP42,FRG2,DUX4L5,DUX4L4,TRIML1,FRG1...</td>\n",
       "    </tr>\n",
       "    <tr>\n",
       "      <th>5</th>\n",
       "      <td>19p13.3</td>\n",
       "      <td>5.1501e-12</td>\n",
       "      <td>chr19:1103802-1563471</td>\n",
       "      <td>MIDN,CIRBP,SBNO2,MUM1,GPX4,RPS15,C19orf25,NDUF...</td>\n",
       "    </tr>\n",
       "  </tbody>\n",
       "</table>\n",
       "</div>"
      ],
      "text/plain": [
       "  cytoband     q_value         wide_peak_boundary  \\\n",
       "1   2q37.1  2.1181e-25   chr2:230574908-243199373   \n",
       "2   2q22.1  6.4977e-17   chr2:140708948-143637838   \n",
       "3    11q25  2.8223e-14  chr11:118925936-135006516   \n",
       "4   4q35.2  6.1861e-12   chr4:187122750-191154276   \n",
       "5  19p13.3  5.1501e-12      chr19:1103802-1563471   \n",
       "\n",
       "                                  genes_in_wide_peak  \n",
       "1  snoU13|ENSG00000239170.1,AQP12A,B3GNT7,STK25,A...  \n",
       "2                                LRP1B,nan,RN7SL283P  \n",
       "3  TMEM218,SNX19,SIAE,POU2F3,KCNJ1,OR8B2,OR8D1,HY...  \n",
       "4  RNA5SP174,ZFP42,FRG2,DUX4L5,DUX4L4,TRIML1,FRG1...  \n",
       "5  MIDN,CIRBP,SBNO2,MUM1,GPX4,RPS15,C19orf25,NDUF...  "
      ]
     },
     "execution_count": 48,
     "metadata": {},
     "output_type": "execute_result"
    }
   ],
   "source": [
    "df.loc['genes',:] = df.apply(lambda x:  ','.join([str(i).strip() for i in set(x[~x.isnull()][4:]) if ('[' not in i)]))\n",
    "df.loc['tg_genes',:] = df.apply(lambda x:  ','.join([m.strip() for m in set(x[~x.isnull()][4:]) if m in tgs]))\n",
    "\n",
    "\n",
    "df1 = df.loc[[0,1,2,3,'genes', 'tg_genes'],:].T\n",
    "df1['xxx'] = df1.genes.apply(lambda x: x.split(','))\n",
    "#     '' in the list when there is a blank in the original files, must have a better way to deal with this\n",
    "df1['num_genes'] = df1['xxx'].apply(lambda x: len(x) if '' not in x else len(x)-1)\n",
    "df1 = df1.drop('xxx', axis=1)\n",
    "df1 = df1.drop(0)\n",
    "df1 = df1[:-1]\n",
    "df1.columns = ['cytoband', 'q_value', 'residual_q_value', 'wide_peak_boundary', 'genes_in_wide_peak','oncogenes','num_genes']\n",
    "\n",
    "df1 = df1[['cytoband', 'q_value', 'wide_peak_boundary', 'genes_in_wide_peak']]\n",
    "df1.head()"
   ]
  },
  {
   "cell_type": "code",
   "execution_count": 49,
   "metadata": {},
   "outputs": [],
   "source": [
    "def split_string_into_rows(df1, var):\n",
    "\n",
    "    df2 = df1.set_index(df1.columns.drop(var,1).tolist())[var].str.split(',', expand=True).stack().reset_index().rename(columns={0:var}).loc[:, df1.columns]\n",
    "    return df2"
   ]
  },
  {
   "cell_type": "code",
   "execution_count": 50,
   "metadata": {},
   "outputs": [],
   "source": [
    "df2 = split_string_into_rows(df1, var)\n",
    "\n",
    "df_tcga_amp = df2[df2[var] != 'nan']"
   ]
  },
  {
   "cell_type": "code",
   "execution_count": 51,
   "metadata": {},
   "outputs": [
    {
     "data": {
      "text/html": [
       "<div>\n",
       "<style scoped>\n",
       "    .dataframe tbody tr th:only-of-type {\n",
       "        vertical-align: middle;\n",
       "    }\n",
       "\n",
       "    .dataframe tbody tr th {\n",
       "        vertical-align: top;\n",
       "    }\n",
       "\n",
       "    .dataframe thead th {\n",
       "        text-align: right;\n",
       "    }\n",
       "</style>\n",
       "<table border=\"1\" class=\"dataframe\">\n",
       "  <thead>\n",
       "    <tr style=\"text-align: right;\">\n",
       "      <th></th>\n",
       "      <th>cytoband</th>\n",
       "      <th>q_value</th>\n",
       "      <th>wide_peak_boundary</th>\n",
       "      <th>genes_in_wide_peak</th>\n",
       "    </tr>\n",
       "  </thead>\n",
       "  <tbody>\n",
       "    <tr>\n",
       "      <th>0</th>\n",
       "      <td>2q37.1</td>\n",
       "      <td>2.1181e-25</td>\n",
       "      <td>chr2:230574908-243199373</td>\n",
       "      <td>snoU13|ENSG00000239170.1</td>\n",
       "    </tr>\n",
       "    <tr>\n",
       "      <th>1</th>\n",
       "      <td>2q37.1</td>\n",
       "      <td>2.1181e-25</td>\n",
       "      <td>chr2:230574908-243199373</td>\n",
       "      <td>AQP12A</td>\n",
       "    </tr>\n",
       "    <tr>\n",
       "      <th>2</th>\n",
       "      <td>2q37.1</td>\n",
       "      <td>2.1181e-25</td>\n",
       "      <td>chr2:230574908-243199373</td>\n",
       "      <td>B3GNT7</td>\n",
       "    </tr>\n",
       "    <tr>\n",
       "      <th>3</th>\n",
       "      <td>2q37.1</td>\n",
       "      <td>2.1181e-25</td>\n",
       "      <td>chr2:230574908-243199373</td>\n",
       "      <td>STK25</td>\n",
       "    </tr>\n",
       "    <tr>\n",
       "      <th>4</th>\n",
       "      <td>2q37.1</td>\n",
       "      <td>2.1181e-25</td>\n",
       "      <td>chr2:230574908-243199373</td>\n",
       "      <td>ANKMY1</td>\n",
       "    </tr>\n",
       "  </tbody>\n",
       "</table>\n",
       "</div>"
      ],
      "text/plain": [
       "  cytoband     q_value        wide_peak_boundary        genes_in_wide_peak\n",
       "0   2q37.1  2.1181e-25  chr2:230574908-243199373  snoU13|ENSG00000239170.1\n",
       "1   2q37.1  2.1181e-25  chr2:230574908-243199373                    AQP12A\n",
       "2   2q37.1  2.1181e-25  chr2:230574908-243199373                    B3GNT7\n",
       "3   2q37.1  2.1181e-25  chr2:230574908-243199373                     STK25\n",
       "4   2q37.1  2.1181e-25  chr2:230574908-243199373                    ANKMY1"
      ]
     },
     "execution_count": 51,
     "metadata": {},
     "output_type": "execute_result"
    },
    {
     "data": {
      "text/plain": [
       "(5392, 4)"
      ]
     },
     "execution_count": 51,
     "metadata": {},
     "output_type": "execute_result"
    }
   ],
   "source": [
    "df_tcga_amp.head()\n",
    "df_tcga_amp.shape"
   ]
  },
  {
   "cell_type": "code",
   "execution_count": 52,
   "metadata": {},
   "outputs": [],
   "source": [
    "df_tcga_amp = df_tcga_amp.drop_duplicates(subset=[var])"
   ]
  },
  {
   "cell_type": "code",
   "execution_count": 53,
   "metadata": {},
   "outputs": [
    {
     "data": {
      "text/plain": [
       "(5238, 4)"
      ]
     },
     "execution_count": 53,
     "metadata": {},
     "output_type": "execute_result"
    }
   ],
   "source": [
    "df_tcga_amp.shape"
   ]
  },
  {
   "cell_type": "code",
   "execution_count": 54,
   "metadata": {},
   "outputs": [
    {
     "data": {
      "text/plain": [
       "5238"
      ]
     },
     "execution_count": 54,
     "metadata": {},
     "output_type": "execute_result"
    }
   ],
   "source": [
    "tcga_amp_genes = df_tcga_amp.genes_in_wide_peak.unique()\n",
    "len(tcga_amp_genes)"
   ]
  },
  {
   "cell_type": "markdown",
   "metadata": {},
   "source": [
    "# 2. HTMCP results"
   ]
  },
  {
   "cell_type": "code",
   "execution_count": 55,
   "metadata": {},
   "outputs": [
    {
     "name": "stdout",
     "output_type": "stream",
     "text": [
      "write summary for /home/szong/bin/GISTIC_2_0_22/gatk_118_patients/del_genes.conf_99.txt\n"
     ]
    }
   ],
   "source": [
    "f = '/home/szong/bin/GISTIC_2_0_22/gatk_118_patients/del_genes.conf_99.txt'\n",
    "# f = '/home/szong/bin/GISTIC_2_0_22/gatk_118_patients/amp_genes.conf_99.txt'\n",
    "df_htmcp1 = summarize_genes(f, tgs)"
   ]
  },
  {
   "cell_type": "code",
   "execution_count": 56,
   "metadata": {
    "scrolled": true
   },
   "outputs": [
    {
     "data": {
      "text/html": [
       "<div>\n",
       "<style scoped>\n",
       "    .dataframe tbody tr th:only-of-type {\n",
       "        vertical-align: middle;\n",
       "    }\n",
       "\n",
       "    .dataframe tbody tr th {\n",
       "        vertical-align: top;\n",
       "    }\n",
       "\n",
       "    .dataframe thead th {\n",
       "        text-align: right;\n",
       "    }\n",
       "</style>\n",
       "<table border=\"1\" class=\"dataframe\">\n",
       "  <thead>\n",
       "    <tr style=\"text-align: right;\">\n",
       "      <th></th>\n",
       "      <th>cytoband</th>\n",
       "      <th>q_value</th>\n",
       "      <th>residual_q_value</th>\n",
       "      <th>wide_peak_boundary</th>\n",
       "      <th>genes_in_wide_peak</th>\n",
       "      <th>oncogenes</th>\n",
       "      <th>num_genes</th>\n",
       "    </tr>\n",
       "  </thead>\n",
       "  <tbody>\n",
       "    <tr>\n",
       "      <th>1</th>\n",
       "      <td>5q35.3</td>\n",
       "      <td>6.8381e-29</td>\n",
       "      <td>8.7396e-29</td>\n",
       "      <td>chr5:180246002-180506999</td>\n",
       "      <td>ZFP62,BTNL3,LOC729678,BTNL8,BTNL9,LOC100859930</td>\n",
       "      <td></td>\n",
       "      <td>6</td>\n",
       "    </tr>\n",
       "    <tr>\n",
       "      <th>2</th>\n",
       "      <td>8p23.1</td>\n",
       "      <td>1.4287e-32</td>\n",
       "      <td>1.2217e-27</td>\n",
       "      <td>chr8:12008001-12396000</td>\n",
       "      <td>LOC100133267,FAM90A25P,FAM66A,FAM86B2,FAM86B1,...</td>\n",
       "      <td></td>\n",
       "      <td>7</td>\n",
       "    </tr>\n",
       "    <tr>\n",
       "      <th>3</th>\n",
       "      <td>19q13.31</td>\n",
       "      <td>1.8386e-27</td>\n",
       "      <td>1.306e-25</td>\n",
       "      <td>chr19:43648002-43854000</td>\n",
       "      <td>LOC284344,PRG1,PSG9,PSG4,PSG5</td>\n",
       "      <td></td>\n",
       "      <td>5</td>\n",
       "    </tr>\n",
       "    <tr>\n",
       "      <th>4</th>\n",
       "      <td>14q11.2</td>\n",
       "      <td>1.0976e-26</td>\n",
       "      <td>2.3792e-24</td>\n",
       "      <td>chr14:19891001-20233999</td>\n",
       "      <td>OR11H2,OR4Q3,POTEM</td>\n",
       "      <td></td>\n",
       "      <td>3</td>\n",
       "    </tr>\n",
       "    <tr>\n",
       "      <th>5</th>\n",
       "      <td>12p13.2</td>\n",
       "      <td>7.8317e-22</td>\n",
       "      <td>7.8317e-22</td>\n",
       "      <td>chr12:11463002-11744999</td>\n",
       "      <td>PRB1,PRB2,LOC338817</td>\n",
       "      <td></td>\n",
       "      <td>3</td>\n",
       "    </tr>\n",
       "  </tbody>\n",
       "</table>\n",
       "</div>"
      ],
      "text/plain": [
       "   cytoband     q_value residual_q_value        wide_peak_boundary  \\\n",
       "1    5q35.3  6.8381e-29       8.7396e-29  chr5:180246002-180506999   \n",
       "2    8p23.1  1.4287e-32       1.2217e-27    chr8:12008001-12396000   \n",
       "3  19q13.31  1.8386e-27        1.306e-25   chr19:43648002-43854000   \n",
       "4   14q11.2  1.0976e-26       2.3792e-24   chr14:19891001-20233999   \n",
       "5   12p13.2  7.8317e-22       7.8317e-22   chr12:11463002-11744999   \n",
       "\n",
       "                                  genes_in_wide_peak oncogenes  num_genes  \n",
       "1     ZFP62,BTNL3,LOC729678,BTNL8,BTNL9,LOC100859930                    6  \n",
       "2  LOC100133267,FAM90A25P,FAM66A,FAM86B2,FAM86B1,...                    7  \n",
       "3                      LOC284344,PRG1,PSG9,PSG4,PSG5                    5  \n",
       "4                                 OR11H2,OR4Q3,POTEM                    3  \n",
       "5                                PRB1,PRB2,LOC338817                    3  "
      ]
     },
     "execution_count": 56,
     "metadata": {},
     "output_type": "execute_result"
    },
    {
     "data": {
      "text/plain": [
       "(69, 7)"
      ]
     },
     "execution_count": 56,
     "metadata": {},
     "output_type": "execute_result"
    }
   ],
   "source": [
    "df_htmcp1.head()\n",
    "df_htmcp1.shape"
   ]
  },
  {
   "cell_type": "code",
   "execution_count": 57,
   "metadata": {},
   "outputs": [],
   "source": [
    "df_htmcp2 = split_string_into_rows(df_htmcp1, var)\n",
    "\n",
    "df_htmcp_amp = df_htmcp2[df_htmcp2[var] != 'nan']"
   ]
  },
  {
   "cell_type": "code",
   "execution_count": 58,
   "metadata": {
    "scrolled": false
   },
   "outputs": [
    {
     "data": {
      "text/html": [
       "<div>\n",
       "<style scoped>\n",
       "    .dataframe tbody tr th:only-of-type {\n",
       "        vertical-align: middle;\n",
       "    }\n",
       "\n",
       "    .dataframe tbody tr th {\n",
       "        vertical-align: top;\n",
       "    }\n",
       "\n",
       "    .dataframe thead th {\n",
       "        text-align: right;\n",
       "    }\n",
       "</style>\n",
       "<table border=\"1\" class=\"dataframe\">\n",
       "  <thead>\n",
       "    <tr style=\"text-align: right;\">\n",
       "      <th></th>\n",
       "      <th>cytoband</th>\n",
       "      <th>q_value</th>\n",
       "      <th>residual_q_value</th>\n",
       "      <th>wide_peak_boundary</th>\n",
       "      <th>genes_in_wide_peak</th>\n",
       "      <th>oncogenes</th>\n",
       "      <th>num_genes</th>\n",
       "    </tr>\n",
       "  </thead>\n",
       "  <tbody>\n",
       "    <tr>\n",
       "      <th>0</th>\n",
       "      <td>5q35.3</td>\n",
       "      <td>6.8381e-29</td>\n",
       "      <td>8.7396e-29</td>\n",
       "      <td>chr5:180246002-180506999</td>\n",
       "      <td>ZFP62</td>\n",
       "      <td></td>\n",
       "      <td>6</td>\n",
       "    </tr>\n",
       "    <tr>\n",
       "      <th>1</th>\n",
       "      <td>5q35.3</td>\n",
       "      <td>6.8381e-29</td>\n",
       "      <td>8.7396e-29</td>\n",
       "      <td>chr5:180246002-180506999</td>\n",
       "      <td>BTNL3</td>\n",
       "      <td></td>\n",
       "      <td>6</td>\n",
       "    </tr>\n",
       "    <tr>\n",
       "      <th>2</th>\n",
       "      <td>5q35.3</td>\n",
       "      <td>6.8381e-29</td>\n",
       "      <td>8.7396e-29</td>\n",
       "      <td>chr5:180246002-180506999</td>\n",
       "      <td>LOC729678</td>\n",
       "      <td></td>\n",
       "      <td>6</td>\n",
       "    </tr>\n",
       "    <tr>\n",
       "      <th>3</th>\n",
       "      <td>5q35.3</td>\n",
       "      <td>6.8381e-29</td>\n",
       "      <td>8.7396e-29</td>\n",
       "      <td>chr5:180246002-180506999</td>\n",
       "      <td>BTNL8</td>\n",
       "      <td></td>\n",
       "      <td>6</td>\n",
       "    </tr>\n",
       "    <tr>\n",
       "      <th>4</th>\n",
       "      <td>5q35.3</td>\n",
       "      <td>6.8381e-29</td>\n",
       "      <td>8.7396e-29</td>\n",
       "      <td>chr5:180246002-180506999</td>\n",
       "      <td>BTNL9</td>\n",
       "      <td></td>\n",
       "      <td>6</td>\n",
       "    </tr>\n",
       "  </tbody>\n",
       "</table>\n",
       "</div>"
      ],
      "text/plain": [
       "  cytoband     q_value residual_q_value        wide_peak_boundary  \\\n",
       "0   5q35.3  6.8381e-29       8.7396e-29  chr5:180246002-180506999   \n",
       "1   5q35.3  6.8381e-29       8.7396e-29  chr5:180246002-180506999   \n",
       "2   5q35.3  6.8381e-29       8.7396e-29  chr5:180246002-180506999   \n",
       "3   5q35.3  6.8381e-29       8.7396e-29  chr5:180246002-180506999   \n",
       "4   5q35.3  6.8381e-29       8.7396e-29  chr5:180246002-180506999   \n",
       "\n",
       "  genes_in_wide_peak oncogenes  num_genes  \n",
       "0              ZFP62                    6  \n",
       "1              BTNL3                    6  \n",
       "2          LOC729678                    6  \n",
       "3              BTNL8                    6  \n",
       "4              BTNL9                    6  "
      ]
     },
     "execution_count": 58,
     "metadata": {},
     "output_type": "execute_result"
    },
    {
     "data": {
      "text/plain": [
       "(3424, 7)"
      ]
     },
     "execution_count": 58,
     "metadata": {},
     "output_type": "execute_result"
    }
   ],
   "source": [
    "df_htmcp_amp.head()\n",
    "df_htmcp_amp.shape"
   ]
  },
  {
   "cell_type": "code",
   "execution_count": 59,
   "metadata": {},
   "outputs": [],
   "source": [
    "df_htmcp_amp = df_htmcp_amp.drop_duplicates(subset=[var])"
   ]
  },
  {
   "cell_type": "code",
   "execution_count": 60,
   "metadata": {},
   "outputs": [
    {
     "data": {
      "text/html": [
       "<div>\n",
       "<style scoped>\n",
       "    .dataframe tbody tr th:only-of-type {\n",
       "        vertical-align: middle;\n",
       "    }\n",
       "\n",
       "    .dataframe tbody tr th {\n",
       "        vertical-align: top;\n",
       "    }\n",
       "\n",
       "    .dataframe thead th {\n",
       "        text-align: right;\n",
       "    }\n",
       "</style>\n",
       "<table border=\"1\" class=\"dataframe\">\n",
       "  <thead>\n",
       "    <tr style=\"text-align: right;\">\n",
       "      <th></th>\n",
       "      <th>cytoband</th>\n",
       "      <th>q_value</th>\n",
       "      <th>residual_q_value</th>\n",
       "      <th>wide_peak_boundary</th>\n",
       "      <th>genes_in_wide_peak</th>\n",
       "      <th>oncogenes</th>\n",
       "      <th>num_genes</th>\n",
       "    </tr>\n",
       "  </thead>\n",
       "  <tbody>\n",
       "    <tr>\n",
       "      <th>0</th>\n",
       "      <td>5q35.3</td>\n",
       "      <td>6.8381e-29</td>\n",
       "      <td>8.7396e-29</td>\n",
       "      <td>chr5:180246002-180506999</td>\n",
       "      <td>ZFP62</td>\n",
       "      <td></td>\n",
       "      <td>6</td>\n",
       "    </tr>\n",
       "    <tr>\n",
       "      <th>1</th>\n",
       "      <td>5q35.3</td>\n",
       "      <td>6.8381e-29</td>\n",
       "      <td>8.7396e-29</td>\n",
       "      <td>chr5:180246002-180506999</td>\n",
       "      <td>BTNL3</td>\n",
       "      <td></td>\n",
       "      <td>6</td>\n",
       "    </tr>\n",
       "  </tbody>\n",
       "</table>\n",
       "</div>"
      ],
      "text/plain": [
       "  cytoband     q_value residual_q_value        wide_peak_boundary  \\\n",
       "0   5q35.3  6.8381e-29       8.7396e-29  chr5:180246002-180506999   \n",
       "1   5q35.3  6.8381e-29       8.7396e-29  chr5:180246002-180506999   \n",
       "\n",
       "  genes_in_wide_peak oncogenes  num_genes  \n",
       "0              ZFP62                    6  \n",
       "1              BTNL3                    6  "
      ]
     },
     "execution_count": 60,
     "metadata": {},
     "output_type": "execute_result"
    },
    {
     "data": {
      "text/plain": [
       "3103"
      ]
     },
     "execution_count": 60,
     "metadata": {},
     "output_type": "execute_result"
    }
   ],
   "source": [
    "df_htmcp_amp[:2]\n",
    "htmcp_amp_genes = df_htmcp_amp.genes_in_wide_peak.unique()\n",
    "len(htmcp_amp_genes)"
   ]
  },
  {
   "cell_type": "code",
   "execution_count": 61,
   "metadata": {},
   "outputs": [],
   "source": [
    "htmcp_genes_unique = szt.unique2a(tcga_amp_genes, htmcp_amp_genes)"
   ]
  },
  {
   "cell_type": "code",
   "execution_count": 62,
   "metadata": {},
   "outputs": [
    {
     "data": {
      "text/plain": [
       "4026"
      ]
     },
     "execution_count": 62,
     "metadata": {},
     "output_type": "execute_result"
    }
   ],
   "source": [
    "len(htmcp_genes_unique)"
   ]
  },
  {
   "cell_type": "code",
   "execution_count": 63,
   "metadata": {},
   "outputs": [],
   "source": [
    "of = f'{wkdir}tcga_deleted_genes_unique.txt'\n",
    "szt.list2csv(htmcp_genes_unique, of)"
   ]
  },
  {
   "cell_type": "code",
   "execution_count": 43,
   "metadata": {},
   "outputs": [
    {
     "data": {
      "text/plain": [
       "'/projects/trans_scratch/validations/workspace/szong/Cervical/cnv/gatk_cnv/htmcp_amplified_genes_unique.txt'"
      ]
     },
     "execution_count": 43,
     "metadata": {},
     "output_type": "execute_result"
    }
   ],
   "source": [
    "of"
   ]
  },
  {
   "cell_type": "code",
   "execution_count": 18,
   "metadata": {},
   "outputs": [],
   "source": [
    "cols = ['q_value', var]\n",
    "dft = df_tcga_amp[cols]\n",
    "dfh = df_htmcp_amp[cols]\n",
    "dfm = pd.merge(dft, dfh, left_on=var, right_on=var, how='outer').fillna(1)"
   ]
  },
  {
   "cell_type": "code",
   "execution_count": 19,
   "metadata": {},
   "outputs": [
    {
     "data": {
      "text/html": [
       "<div>\n",
       "<style scoped>\n",
       "    .dataframe tbody tr th:only-of-type {\n",
       "        vertical-align: middle;\n",
       "    }\n",
       "\n",
       "    .dataframe tbody tr th {\n",
       "        vertical-align: top;\n",
       "    }\n",
       "\n",
       "    .dataframe thead th {\n",
       "        text-align: right;\n",
       "    }\n",
       "</style>\n",
       "<table border=\"1\" class=\"dataframe\">\n",
       "  <thead>\n",
       "    <tr style=\"text-align: right;\">\n",
       "      <th></th>\n",
       "      <th>q_value_x</th>\n",
       "      <th>genes_in_wide_peak</th>\n",
       "      <th>q_value_y</th>\n",
       "    </tr>\n",
       "  </thead>\n",
       "  <tbody>\n",
       "    <tr>\n",
       "      <th>0</th>\n",
       "      <td>2.1181e-25</td>\n",
       "      <td>HJURP</td>\n",
       "      <td>3.8986e-12</td>\n",
       "    </tr>\n",
       "    <tr>\n",
       "      <th>1</th>\n",
       "      <td>2.1181e-25</td>\n",
       "      <td>ACKR3</td>\n",
       "      <td>1</td>\n",
       "    </tr>\n",
       "    <tr>\n",
       "      <th>2</th>\n",
       "      <td>2.1181e-25</td>\n",
       "      <td>NGEF</td>\n",
       "      <td>3.8986e-12</td>\n",
       "    </tr>\n",
       "    <tr>\n",
       "      <th>3</th>\n",
       "      <td>2.1181e-25</td>\n",
       "      <td>PRR21</td>\n",
       "      <td>1</td>\n",
       "    </tr>\n",
       "    <tr>\n",
       "      <th>4</th>\n",
       "      <td>2.1181e-25</td>\n",
       "      <td>DGKD</td>\n",
       "      <td>3.8986e-12</td>\n",
       "    </tr>\n",
       "  </tbody>\n",
       "</table>\n",
       "</div>"
      ],
      "text/plain": [
       "    q_value_x genes_in_wide_peak   q_value_y\n",
       "0  2.1181e-25              HJURP  3.8986e-12\n",
       "1  2.1181e-25              ACKR3           1\n",
       "2  2.1181e-25               NGEF  3.8986e-12\n",
       "3  2.1181e-25              PRR21           1\n",
       "4  2.1181e-25               DGKD  3.8986e-12"
      ]
     },
     "execution_count": 19,
     "metadata": {},
     "output_type": "execute_result"
    },
    {
     "data": {
      "text/plain": [
       "(5860, 3)"
      ]
     },
     "execution_count": 19,
     "metadata": {},
     "output_type": "execute_result"
    }
   ],
   "source": [
    "dfm.head()\n",
    "dfm.shape"
   ]
  },
  {
   "cell_type": "code",
   "execution_count": 20,
   "metadata": {},
   "outputs": [],
   "source": [
    "# dfm[var].value_counts()"
   ]
  },
  {
   "cell_type": "code",
   "execution_count": 21,
   "metadata": {},
   "outputs": [],
   "source": [
    "dfm = dfm[dfm[var] != '']"
   ]
  },
  {
   "cell_type": "code",
   "execution_count": 22,
   "metadata": {},
   "outputs": [],
   "source": [
    "dfm = dfm[~dfm[var].str.contains('ENSG')]"
   ]
  },
  {
   "cell_type": "code",
   "execution_count": null,
   "metadata": {},
   "outputs": [],
   "source": []
  },
  {
   "cell_type": "code",
   "execution_count": null,
   "metadata": {},
   "outputs": [],
   "source": []
  },
  {
   "cell_type": "code",
   "execution_count": 23,
   "metadata": {},
   "outputs": [],
   "source": [
    "dfm = (dfm.set_index(var)).astype(float)"
   ]
  },
  {
   "cell_type": "code",
   "execution_count": 24,
   "metadata": {},
   "outputs": [],
   "source": [
    "dfm['-log10tcga'] = - np.log10(dfm['q_value_x'])\n",
    "dfm['-log10htmcp'] = - np.log10(dfm['q_value_y'])"
   ]
  },
  {
   "cell_type": "code",
   "execution_count": 25,
   "metadata": {},
   "outputs": [
    {
     "data": {
      "text/plain": [
       "count    5.614000e+03\n",
       "mean     1.873342e-01\n",
       "std      2.976620e-01\n",
       "min      2.118100e-25\n",
       "25%      2.178100e-03\n",
       "50%      1.279300e-01\n",
       "75%      1.767400e-01\n",
       "max      1.000000e+00\n",
       "Name: q_value_x, dtype: float64"
      ]
     },
     "execution_count": 25,
     "metadata": {},
     "output_type": "execute_result"
    }
   ],
   "source": [
    "dfm.q_value_x.describe()"
   ]
  },
  {
   "cell_type": "code",
   "execution_count": 26,
   "metadata": {},
   "outputs": [
    {
     "data": {
      "text/plain": [
       "5614"
      ]
     },
     "execution_count": 26,
     "metadata": {},
     "output_type": "execute_result"
    }
   ],
   "source": [
    "len(set(dfm.index.tolist()))"
   ]
  },
  {
   "cell_type": "code",
   "execution_count": 27,
   "metadata": {},
   "outputs": [],
   "source": [
    "# dfk = dfm.sort_values(var2, ascending=False)\n",
    "# dfk.drop_duplicates(keep='first')"
   ]
  },
  {
   "cell_type": "code",
   "execution_count": 28,
   "metadata": {},
   "outputs": [
    {
     "data": {
      "text/html": [
       "<div>\n",
       "<style scoped>\n",
       "    .dataframe tbody tr th:only-of-type {\n",
       "        vertical-align: middle;\n",
       "    }\n",
       "\n",
       "    .dataframe tbody tr th {\n",
       "        vertical-align: top;\n",
       "    }\n",
       "\n",
       "    .dataframe thead th {\n",
       "        text-align: right;\n",
       "    }\n",
       "</style>\n",
       "<table border=\"1\" class=\"dataframe\">\n",
       "  <thead>\n",
       "    <tr style=\"text-align: right;\">\n",
       "      <th></th>\n",
       "      <th>q_value_x</th>\n",
       "      <th>q_value_y</th>\n",
       "      <th>-log10tcga</th>\n",
       "      <th>-log10htmcp</th>\n",
       "    </tr>\n",
       "    <tr>\n",
       "      <th>genes_in_wide_peak</th>\n",
       "      <th></th>\n",
       "      <th></th>\n",
       "      <th></th>\n",
       "      <th></th>\n",
       "    </tr>\n",
       "  </thead>\n",
       "  <tbody>\n",
       "    <tr>\n",
       "      <th>HJURP</th>\n",
       "      <td>2.118100e-25</td>\n",
       "      <td>3.898600e-12</td>\n",
       "      <td>24.674054</td>\n",
       "      <td>11.409091</td>\n",
       "    </tr>\n",
       "    <tr>\n",
       "      <th>ACKR3</th>\n",
       "      <td>2.118100e-25</td>\n",
       "      <td>1.000000e+00</td>\n",
       "      <td>24.674054</td>\n",
       "      <td>-0.000000</td>\n",
       "    </tr>\n",
       "    <tr>\n",
       "      <th>NGEF</th>\n",
       "      <td>2.118100e-25</td>\n",
       "      <td>3.898600e-12</td>\n",
       "      <td>24.674054</td>\n",
       "      <td>11.409091</td>\n",
       "    </tr>\n",
       "  </tbody>\n",
       "</table>\n",
       "</div>"
      ],
      "text/plain": [
       "                       q_value_x     q_value_y  -log10tcga  -log10htmcp\n",
       "genes_in_wide_peak                                                     \n",
       "HJURP               2.118100e-25  3.898600e-12   24.674054    11.409091\n",
       "ACKR3               2.118100e-25  1.000000e+00   24.674054    -0.000000\n",
       "NGEF                2.118100e-25  3.898600e-12   24.674054    11.409091"
      ]
     },
     "execution_count": 28,
     "metadata": {},
     "output_type": "execute_result"
    },
    {
     "data": {
      "text/plain": [
       "(5614, 4)"
      ]
     },
     "execution_count": 28,
     "metadata": {},
     "output_type": "execute_result"
    }
   ],
   "source": [
    "dfm.head(3)\n",
    "dfm.shape"
   ]
  },
  {
   "cell_type": "code",
   "execution_count": 29,
   "metadata": {},
   "outputs": [
    {
     "data": {
      "text/plain": [
       "(5614, 4)"
      ]
     },
     "execution_count": 29,
     "metadata": {},
     "output_type": "execute_result"
    }
   ],
   "source": [
    "dfm.shape"
   ]
  },
  {
   "cell_type": "code",
   "execution_count": 304,
   "metadata": {},
   "outputs": [
    {
     "data": {
      "text/plain": [
       "143"
      ]
     },
     "execution_count": 304,
     "metadata": {},
     "output_type": "execute_result"
    }
   ],
   "source": [
    "len(text1)"
   ]
  },
  {
   "cell_type": "code",
   "execution_count": 31,
   "metadata": {},
   "outputs": [
    {
     "name": "stdout",
     "output_type": "stream",
     "text": [
      "FAM90A25P\n",
      "FAM66A\n",
      "DEFB109P1\n",
      "DEFB130\n",
      "LOC100133267\n",
      "FAM86B2\n",
      "FAM86B1\n",
      "LOC284344\n",
      "PSG4\n",
      "BTNL8\n",
      "BTNL3\n",
      "OR4Q3\n",
      "POTEM\n",
      "OR11H2\n",
      "LOC642426\n",
      "POTEG\n",
      "NBEAP1\n",
      "GOLGA6L6\n",
      "NF1P2\n",
      "LOC348120\n",
      "hsa-mir-3118-4\n",
      "POTEB\n",
      "GOLGA8C\n",
      "FAM90A8\n",
      "DEFB105B\n",
      "FAM90A19\n",
      "FAM90A18\n",
      "DEFB104A\n",
      "FAM90A9\n",
      "FAM90A7\n"
     ]
    }
   ],
   "source": [
    "for i in dfm.sort_values(var2, ascending=False).index.tolist()[:30]:\n",
    "    print(i)"
   ]
  },
  {
   "cell_type": "code",
   "execution_count": 32,
   "metadata": {},
   "outputs": [
    {
     "data": {
      "text/plain": [
       "562"
      ]
     },
     "execution_count": 32,
     "metadata": {},
     "output_type": "execute_result"
    },
    {
     "name": "stdout",
     "output_type": "stream",
     "text": [
      "HJURP\n",
      "NGEF\n",
      "DGKD\n",
      "NPPC\n",
      "UGT1A3\n",
      "LINC00471\n",
      "KCNJ13\n",
      "ALPP\n",
      "C2orf57\n",
      "TRPM8\n",
      "SPP2\n",
      "MSL3P1\n",
      "B3GNT7\n",
      "COPS7B\n",
      "SAG\n",
      "ECEL1P2\n",
      "UGT1A6\n",
      "ECEL1\n",
      "SLC16A14\n",
      "FBXO36\n",
      "EIF4E2\n",
      "ALPPL2\n",
      "MIR1471\n",
      "PTMA\n",
      "ARL4C\n",
      "C2orf82\n",
      "UGT1A4\n",
      "SP140L\n",
      "HTR2B\n",
      "PDE6D\n",
      "GPR55\n",
      "UGT1A1\n",
      "SNORD20\n",
      "UGT1A7\n",
      "SPATA3\n",
      "DNAJB3\n",
      "UGT1A10\n",
      "ITM2C\n",
      "EFHD1\n",
      "NCL\n",
      "CHRNG\n",
      "ALPI\n",
      "CAB39\n",
      "ATG16L1\n",
      "NEU2\n",
      "PSMD1\n",
      "SP140\n",
      "USP40\n",
      "UGT1A9\n",
      "MIR4777\n",
      "DIS3L2\n",
      "SH3BP4\n",
      "PRSS56\n",
      "NMUR1\n",
      "SP100\n",
      "ARMC9\n",
      "GIGYF2\n",
      "TIGD1\n",
      "C2orf72\n",
      "INPP5D\n",
      "SCARNA5\n",
      "SP110\n",
      "AGAP1\n",
      "TRIP12\n",
      "SNORD82\n",
      "CHRND\n",
      "UGT1A5\n",
      "UGT1A8\n",
      "LRP1B\n",
      "VPS26B\n",
      "NCAPD3\n",
      "JAM3\n",
      "GLB1L3\n",
      "MIR4697\n",
      "SPATA19\n",
      "IGSF9B\n",
      "THYN1\n",
      "B3GAT1\n",
      "ACAD8\n",
      "GLB1L2\n",
      "C19orf26\n",
      "ATP5D\n",
      "STK11\n",
      "LHFP\n",
      "RCBTB2\n",
      "FAM124A\n",
      "CCDC122\n",
      "RFC3\n",
      "MIR3613\n",
      "SPRYD7\n",
      "CCNA1\n",
      "STOML3\n",
      "KBTBD7\n",
      "COG6\n",
      "LRCH1\n",
      "SETDB2\n",
      "LACC1\n",
      "KIAA0226L\n",
      "WDFY2\n",
      "CCDC70\n",
      "MIR621\n",
      "SERTM1\n",
      "ESD\n",
      "DNAJC15\n",
      "EPSTI1\n",
      "MTRF1\n",
      "SLC25A15\n",
      "NUFIP1\n",
      "ALG5\n",
      "MIR4703\n",
      "KCTD4\n",
      "NEK3\n",
      "KCNRG\n",
      "DLEU2\n",
      "SLC25A30\n",
      "TRIM13\n",
      "FAM216B\n",
      "PHF11\n",
      "MRPS31\n",
      "DHRS12\n",
      "POSTN\n",
      "SPERT\n",
      "TSC22D1\n",
      "FOXO1\n",
      "FREM2\n",
      "ENOX1\n",
      "SOHLH2\n",
      "LPAR6\n",
      "CSNK1A1L\n",
      "SERP2\n",
      "DLEU7\n",
      "KPNA3\n",
      "RB1\n",
      "ITM2B\n",
      "CPB2\n",
      "ZC3H13\n",
      "HTR2A\n",
      "UFM1\n",
      "CDADC1\n",
      "MIR4305\n",
      "AKAP11\n",
      "CYSLTR2\n",
      "GUCY1B2\n",
      "COG3\n",
      "FAM194B\n",
      "CAB39L\n",
      "FNDC3A\n",
      "SPG20\n",
      "RCBTB1\n",
      "NHLRC3\n",
      "MLNR\n",
      "MAB21L1\n",
      "ARL11\n",
      "ALG11\n",
      "RFXAP\n",
      "LINC00330\n",
      "TRPC4\n",
      "MED4\n",
      "ATP7B\n",
      "SUGT1P3\n",
      "NAA16\n",
      "SPG20OS\n",
      "KBTBD6\n",
      "DGKH\n",
      "SIAH3\n",
      "NUDT15\n",
      "TNFSF11\n",
      "SERPINE3\n",
      "EXOSC8\n",
      "SUCLA2\n",
      "ELF1\n",
      "GTF2F2\n",
      "WBP4\n",
      "CCDC169\n",
      "LCP1\n",
      "RNASEH2B\n",
      "LINC00284\n",
      "UTP14C\n",
      "NBEA\n",
      "SMAD9\n",
      "NEK5\n",
      "EBPL\n",
      "TPT1\n",
      "DLEU1\n",
      "INTS6\n",
      "PROSER1\n",
      "DCLK1\n",
      "KIAA1704\n",
      "MIR320D1\n",
      "HNRNPCL1\n",
      "PRAMEF2\n",
      "PRAMEF10\n",
      "PRAMEF8\n",
      "PRAMEF7\n",
      "MFAP2\n",
      "MIR3675\n",
      "FAM138A\n",
      "PRAMEF4\n",
      "ESPNP\n",
      "CROCC\n",
      "CD7\n",
      "RAB40B\n",
      "ZNF750\n",
      "FN3K\n",
      "SLC16A3\n",
      "NARF\n",
      "B3GNTL1\n",
      "SECTM1\n",
      "CCDC57\n",
      "CSNK1D\n",
      "UTS2R\n",
      "C17orf62\n",
      "FN3KRP\n",
      "FOXK2\n",
      "TEX19\n",
      "TBCD\n",
      "METRNL\n",
      "HEXDC\n",
      "FLRT3\n",
      "FHIT\n",
      "LINC00221\n",
      "LINC00226\n",
      "TP53TG3\n",
      "TP53TG3B\n",
      "SLC6A10P\n",
      "TP53TG3C\n",
      "LINC00273\n",
      "HERC2P4\n",
      "POLR1D\n",
      "ATP12A\n",
      "GPR12\n",
      "SAP18\n",
      "IL17D\n",
      "PARP4\n",
      "C1QTNF9B\n",
      "ATP8A2\n",
      "SACS\n",
      "ZDHHC20\n",
      "TPTE2\n",
      "LNX2\n",
      "ZAR1L\n",
      "LATS2\n",
      "MIPEP\n",
      "STARD13\n",
      "RXFP2\n",
      "N4BP2L2\n",
      "EEF1DP3\n",
      "SGCG\n",
      "RNF6\n",
      "SKA3\n",
      "GJB2\n",
      "HMGB1\n",
      "C1QTNF9\n",
      "TPTE2P6\n",
      "CDX2\n",
      "UBL3\n",
      "N4BP2L1\n",
      "B3GALTL\n",
      "MTUS2\n",
      "SHISA2\n",
      "LINC00327\n",
      "MIR2276\n",
      "NUPL1\n",
      "TEX26\n",
      "MPHOSPH8\n",
      "FLT3\n",
      "GTF3A\n",
      "GSX1\n",
      "FLT1\n",
      "ZMYM5\n",
      "CRYL1\n",
      "PDX1\n",
      "SNORD102\n",
      "TUBA3C\n",
      "ZMYM2\n",
      "CDK8\n",
      "FRY\n",
      "GJB6\n",
      "ATP5EP2\n",
      "PAN3\n",
      "KATNAL1\n",
      "USPL1\n",
      "CENPJ\n",
      "RPL21\n",
      "PSPC1\n",
      "SLC7A1\n",
      "MIR4499\n",
      "ALOX5AP\n",
      "IFT88\n",
      "BRCA2\n",
      "LINC00421\n",
      "LINC00442\n",
      "MRP63\n",
      "USP12\n",
      "TNFRSF19\n",
      "GJA3\n",
      "TPTE2P1\n",
      "MTMR6\n",
      "FGF9\n",
      "SLC46A3\n",
      "MTIF3\n",
      "POMP\n",
      "KL\n",
      "RNF17\n",
      "LINC00426\n",
      "XPO4\n",
      "SPATA13\n",
      "RASL11A\n",
      "PABPC3\n",
      "HSPH1\n",
      "N6AMT2\n",
      "PDS5B\n",
      "WASF3\n",
      "MAPK10\n",
      "IMMP2L\n",
      "LRRN3\n",
      "KIR2DL1\n",
      "KIR2DL4\n",
      "KIR2DL3\n",
      "LILRA6\n",
      "KIR3DL1\n",
      "KIR2DS4\n",
      "KIR3DL2\n",
      "LILRB3\n",
      "KIR3DL3\n",
      "SCUBE1\n",
      "CENPM\n",
      "FAM118A\n",
      "KIAA0930\n",
      "SAMM50\n",
      "A4GALT\n",
      "LINC00229\n",
      "C22orf34\n",
      "C22orf26\n",
      "BIK\n",
      "GRAMD4\n",
      "PARVB\n",
      "MIOX\n",
      "LINC00207\n",
      "CELSR1\n",
      "CSDC2\n",
      "BRD1\n",
      "FAM19A5\n",
      "MEI1\n",
      "ACR\n",
      "TSPO\n",
      "PIM3\n",
      "PACSIN2\n",
      "TRMU\n",
      "LMF2\n",
      "ACO2\n",
      "PPARA\n",
      "RANGAP1\n",
      "CCDC134\n",
      "CYP2D6\n",
      "SBF1\n",
      "MOV10L1\n",
      "IL17REL\n",
      "RRP7B\n",
      "SYCE3\n",
      "SREBF2\n",
      "PKDREJ\n",
      "L3MBTL2\n",
      "POLDIP3\n",
      "MIR33A\n",
      "TNFRSF13C\n",
      "ADM2\n",
      "EP300\n",
      "TYMP\n",
      "WBP2NL\n",
      "RNU12\n",
      "PNPLA5\n",
      "UPK3A\n",
      "ALG12\n",
      "MAPK11\n",
      "TCF20\n",
      "XRCC6\n",
      "CYB5R3\n",
      "C22orf46\n",
      "MIR1281\n",
      "NUP50\n",
      "TTLL1\n",
      "PHF21B\n",
      "RABL2B\n",
      "CERK\n",
      "MAPK12\n",
      "FAM109B\n",
      "PNPLA3\n",
      "ODF3B\n",
      "SERHL2\n",
      "MIRLET7B\n",
      "MIR4535\n",
      "EFCAB6\n",
      "MIR3201\n",
      "CRELD2\n",
      "MAPK8IP2\n",
      "SERHL\n",
      "MIR3619\n",
      "NFAM1\n",
      "POLR3H\n",
      "PRR5\n",
      "ZBED4\n",
      "TTLL12\n",
      "RIBC2\n",
      "MLC1\n",
      "CHKB\n",
      "MIR4762\n",
      "CPT1B\n",
      "TEF\n",
      "TRABD\n",
      "KLHDC7B\n",
      "LDOC1L\n",
      "PLXNB2\n",
      "TOB2\n",
      "GTSE1\n",
      "PHF5A\n",
      "ARHGAP8\n",
      "TBC1D22A\n",
      "TUBGCP6\n",
      "MIR4763\n",
      "NHP2L1\n",
      "CYP2D7P1\n",
      "SULT4A1\n",
      "ZC3H7B\n",
      "TTC38\n",
      "RRP7A\n",
      "PMM1\n",
      "FBLN1\n",
      "CHADL\n",
      "SCO2\n",
      "NDUFA6\n",
      "PARVG\n",
      "MPPED1\n",
      "SHANK3\n",
      "ARSA\n",
      "MIR1249\n",
      "MIRLET7A3\n",
      "SHISA8\n",
      "WNT7B\n",
      "PANX2\n",
      "KIAA1644\n",
      "HDAC10\n",
      "ATP5L2\n",
      "ATXN10\n",
      "PPP6R2\n",
      "NCAPH2\n",
      "ARFGAP3\n",
      "NAGA\n",
      "SMC1B\n",
      "MCAT\n",
      "DEFA5\n",
      "DEFB106B\n",
      "DEFB103A\n",
      "DEFB107A\n",
      "ZNF705G\n",
      "FAM66A\n",
      "DEFB106A\n",
      "DEFB105A\n",
      "SPAG11B\n",
      "DEFB4B\n",
      "FAM66E\n",
      "MIR548I3\n",
      "DEFB104B\n",
      "DEFB4A\n",
      "FAM66B\n",
      "DEFB103B\n",
      "DEFB104A\n",
      "FAM86B1\n",
      "FAM86B2\n",
      "DEFB105B\n",
      "DEFB107B\n",
      "SPAG11A\n",
      "MIR4722\n",
      "MLYCD\n",
      "DBNDD1\n",
      "C16orf74\n",
      "ZFPM1\n",
      "CDT1\n",
      "CRISPLD2\n",
      "JPH3\n",
      "MIR1910\n",
      "ATP2C2\n",
      "LINC00311\n",
      "CBFA2T3\n",
      "DNAAF1\n",
      "ANKRD11\n",
      "SNORD68\n",
      "IL17C\n",
      "FANCA\n",
      "GINS2\n",
      "DEF8\n",
      "KLHL36\n",
      "KIAA0513\n",
      "COTL1\n",
      "SNAI3\n",
      "BANP\n",
      "SPATA2L\n",
      "CYBA\n",
      "C16orf95\n",
      "FOXL1\n",
      "MTHFSD\n",
      "FOXF1\n",
      "SLC22A31\n",
      "TAF1C\n",
      "KLHDC4\n",
      "DPEP1\n",
      "KCNG4\n",
      "ZNF469\n",
      "MC1R\n",
      "ZC3H18\n",
      "SPIRE2\n",
      "CENPBD1\n",
      "CDH15\n",
      "RPL13\n",
      "HSBP1\n",
      "ZNF778\n",
      "APRT\n",
      "CTU2\n",
      "PABPN1L\n",
      "HSDL1\n",
      "SPG7\n",
      "PRDM7\n",
      "TCF25\n",
      "GAS8\n",
      "ZCCHC14\n",
      "SLC38A8\n",
      "TRAPPC2L\n",
      "USP10\n",
      "ACSF3\n",
      "NECAB2\n",
      "AFG3L1P\n",
      "CPNE7\n",
      "ADAD2\n",
      "OSGIN1\n",
      "TUBB3\n",
      "C16orf3\n",
      "PIEZO1\n",
      "COX4I1\n",
      "MVD\n",
      "CA5A\n",
      "FAM92B\n",
      "SLC7A5\n",
      "CHMP1A\n",
      "FBXO31\n",
      "CDK10\n",
      "MAP1LC3B\n",
      "ZDHHC7\n",
      "WFDC1\n",
      "FOXC2\n",
      "IRF8\n",
      "LINC00304\n",
      "ZNF276\n",
      "MBTPS1\n",
      "RNF166\n",
      "GALNS\n",
      "PPIAL4G\n",
      "MIR3648\n",
      "TEKT4P2\n",
      "BAGE2\n",
      "MIR3687\n",
      "BTNL3\n",
      "BTNL8\n"
     ]
    }
   ],
   "source": [
    "\n",
    "len(set(dfm[(dfm[var1]>0.1)&(dfm[var2]>0.1)].index.tolist()))\n",
    "for i in dfm[(dfm[var1]>0.1)&(dfm[var2]>0.1)].index.tolist():\n",
    "    print(i)"
   ]
  },
  {
   "cell_type": "code",
   "execution_count": 43,
   "metadata": {},
   "outputs": [
    {
     "data": {
      "text/plain": [
       "<matplotlib.axes._subplots.AxesSubplot at 0x7f08917d4668>"
      ]
     },
     "execution_count": 43,
     "metadata": {},
     "output_type": "execute_result"
    },
    {
     "data": {
      "text/plain": [
       "212"
      ]
     },
     "execution_count": 43,
     "metadata": {},
     "output_type": "execute_result"
    },
    {
     "data": {
      "text/plain": [
       "['HJURP',\n",
       " 'NGEF',\n",
       " 'DGKD',\n",
       " 'NPPC',\n",
       " 'UGT1A3',\n",
       " 'LINC00471',\n",
       " 'KCNJ13',\n",
       " 'ALPP',\n",
       " 'C2orf57',\n",
       " 'TRPM8',\n",
       " 'SPP2',\n",
       " 'MSL3P1',\n",
       " 'B3GNT7',\n",
       " 'COPS7B',\n",
       " 'SAG',\n",
       " 'ECEL1P2',\n",
       " 'UGT1A6',\n",
       " 'ECEL1',\n",
       " 'SLC16A14',\n",
       " 'FBXO36',\n",
       " 'EIF4E2',\n",
       " 'ALPPL2',\n",
       " 'MIR1471',\n",
       " 'PTMA',\n",
       " 'ARL4C',\n",
       " 'C2orf82',\n",
       " 'UGT1A4',\n",
       " 'SP140L',\n",
       " 'HTR2B',\n",
       " 'PDE6D',\n",
       " 'GPR55',\n",
       " 'UGT1A1',\n",
       " 'SNORD20',\n",
       " 'UGT1A7',\n",
       " 'SPATA3',\n",
       " 'DNAJB3',\n",
       " 'UGT1A10',\n",
       " 'ITM2C',\n",
       " 'EFHD1',\n",
       " 'NCL',\n",
       " 'CHRNG',\n",
       " 'ALPI',\n",
       " 'CAB39',\n",
       " 'ATG16L1',\n",
       " 'NEU2',\n",
       " 'PSMD1',\n",
       " 'SP140',\n",
       " 'USP40',\n",
       " 'UGT1A9',\n",
       " 'MIR4777',\n",
       " 'DIS3L2',\n",
       " 'SH3BP4',\n",
       " 'PRSS56',\n",
       " 'NMUR1',\n",
       " 'SP100',\n",
       " 'ARMC9',\n",
       " 'GIGYF2',\n",
       " 'TIGD1',\n",
       " 'C2orf72',\n",
       " 'INPP5D',\n",
       " 'SCARNA5',\n",
       " 'SP110',\n",
       " 'AGAP1',\n",
       " 'TRIP12',\n",
       " 'SNORD82',\n",
       " 'CHRND',\n",
       " 'UGT1A5',\n",
       " 'UGT1A8']"
      ]
     },
     "execution_count": 43,
     "metadata": {},
     "output_type": "execute_result"
    },
    {
     "data": {
      "text/plain": [
       "42"
      ]
     },
     "execution_count": 43,
     "metadata": {},
     "output_type": "execute_result"
    },
    {
     "name": "stdout",
     "output_type": "stream",
     "text": [
      "CPU times: user 0 ns, sys: 4.52 s, total: 4.52 s\n",
      "Wall time: 6.82 s\n"
     ]
    },
    {
     "data": {
      "image/png": "[encoded data removed]",
      "text/plain": [
       "<Figure size 864x864 with 1 Axes>"
      ]
     },
     "metadata": {},
     "output_type": "display_data"
    }
   ],
   "source": [
    "\n",
    "dfm=dfm.fillna(1)\n",
    "dfm.rename(index={'MLL2':'KMT2D'}, inplace=True)\n",
    "dfm.plot.scatter(var1, var2, figsize=(12,12)) #, xlim=(-2, 40), ylim=(-2, 40))\n",
    "# plt.hlines(1, 0, 50, colors='r', linestyles='dashed')\n",
    "# plt.vlines(1, 0, 12, colors='r', linestyles='dashed')\n",
    "# plt.ylabel('-log10(q)', fontsize=10)\n",
    "dfn = dfm[(dfm[var1] > 5)&(dfm[var2] > 5)]\n",
    "# dfn = dfm[(dfm[var1] > .6)&(dfm[var2] > .6)|(dfm[var1] > 10)|(dfm[var2] > 20)]\n",
    "text1 = [plt.text(a, b, c, color='red') for a, b, c in zip(dfn[var1], dfn[var2], dfn.index)]\n",
    "adjust_text(text1)\n",
    "\n",
    "\n",
    "ix= dfn.index\n",
    "\n",
    "\n",
    "\n",
    "\n",
    "\n",
    "dfn2 = dfm[(dfm[var1] > 20)|(dfm[var2] > 20)]\n",
    "\n",
    "# texts = text1+text2\n",
    "ix2 = dfn2.index\n",
    "to_drop = [i for i in ix2 if i in ix]\n",
    "to_drop\n",
    "ix3 = dfn2.index.drop(to_drop)\n",
    "dfn3 = dfn2.loc[ix3,]\n",
    "# text3 = [i for i in text2 if i not in text1]\n",
    "text3 = [plt.text(a, b, c, color='blue') for a, b, c in zip(dfn3[var1], dfn3[var2], dfn3.index)]\n",
    "adjust_text(text3)\n",
    "\n",
    "of = f'{wkdir}htmcp_tcga_shared_uniq_del_genes.png'\n",
    "%time plt.savefig(of, bbox_inches='tight',dpi=200)\n",
    "plt.show()"
   ]
  },
  {
   "cell_type": "code",
   "execution_count": 310,
   "metadata": {},
   "outputs": [],
   "source": [
    "dfamp = dfm.copy()"
   ]
  },
  {
   "cell_type": "code",
   "execution_count": null,
   "metadata": {},
   "outputs": [],
   "source": []
  },
  {
   "cell_type": "code",
   "execution_count": null,
   "metadata": {},
   "outputs": [],
   "source": []
  },
  {
   "cell_type": "code",
   "execution_count": null,
   "metadata": {},
   "outputs": [],
   "source": []
  },
  {
   "cell_type": "code",
   "execution_count": null,
   "metadata": {},
   "outputs": [],
   "source": []
  },
  {
   "cell_type": "code",
   "execution_count": null,
   "metadata": {},
   "outputs": [],
   "source": []
  },
  {
   "cell_type": "code",
   "execution_count": 487,
   "metadata": {},
   "outputs": [
    {
     "name": "stdout",
     "output_type": "stream",
     "text": [
      "write summary for /projects/trans_scratch/validations/workspace/szong/Cervical/cnv/124_patient_adj_hiv_pos/del_genes.conf_99.txt\n",
      "write summary for /projects/trans_scratch/validations/workspace/szong/Cervical/cnv/124_patient_adj_hiv_pos/amp_genes.conf_99.txt\n"
     ]
    }
   ],
   "source": [
    "# files = ['/home/szong/bin/GISTIC_2_0_22/124_patient_adj_hiv_pos/del_genes.conf_99.txt', \n",
    "#          '/home/szong/bin/GISTIC_2_0_22/124_patient_adj_hiv_pos/amp_genes.conf_99.txt'] \n",
    "# files = ['/home/szong/bin/GISTIC_2_0_22/124_patient_adj_3k_0.1_1Mb/del_genes.conf_99.txt',\n",
    "#          '/home/szong/bin/GISTIC_2_0_22/124_patient_adj_3k_0.1_1Mb/amp_genes.conf_99.txt']\n",
    "files = ['/projects/trans_scratch/validations/workspace/szong/Cervical/cnv/124_patient_adj_hiv_pos/del_genes.conf_99.txt',\n",
    "#         '/projects/trans_scratch/validations/workspace/szong/Cervical/cnv/124_patient_adj_hiv_pos/amp_genes.conf_99.txt']\n",
    "for inf in files:\n",
    "    df1 = summarize_genes(inf, tgs)"
   ]
  },
  {
   "cell_type": "code",
   "execution_count": 488,
   "metadata": {},
   "outputs": [
    {
     "name": "stdout",
     "output_type": "stream",
     "text": [
      "write summary for /projects/trans_scratch/validations/workspace/szong/Cervical/cnv/124_patient_adj_hiv_neg/del_genes.conf_99.txt\n",
      "write summary for /projects/trans_scratch/validations/workspace/szong/Cervical/cnv/124_patient_adj_hiv_neg/amp_genes.conf_99.txt\n"
     ]
    }
   ],
   "source": [
    "# files = ['/home/szong/bin/GISTIC_2_0_22/124_patient_adj_hiv_neg/del_genes.conf_99.txt', \n",
    "#          '/home/szong/bin/GISTIC_2_0_22/124_patient_adj_hiv_neg/amp_genes.conf_99.txt'] \n",
    "# files = ['/home/szong/bin/GISTIC_2_0_22/124_patient_adj_3k_0.1_1Mb/del_genes.conf_99.txt', \n",
    "# '/home/szong/bin/GISTIC_2_0_22/124_patient_adj_3k_0.1_1Mb/amp_genes.conf_99.txt']\n",
    "files = ['/projects/trans_scratch/validations/workspace/szong/Cervical/cnv/124_patient_adj_hiv_neg/del_genes.conf_99.txt',\n",
    "        '/projects/trans_scratch/validations/workspace/szong/Cervical/cnv/124_patient_adj_hiv_neg/amp_genes.conf_99.txt']\n",
    "\n",
    "for inf in files:\n",
    "    df1 = summarize_genes(inf, tgs)"
   ]
  },
  {
   "cell_type": "code",
   "execution_count": 489,
   "metadata": {},
   "outputs": [],
   "source": [
    "%%bash\n",
    "cd /projects/trans_scratch/validations/workspace/szong/Cervical/cnv/124_patient_adj_hiv_pos\n",
    "cat del_genes.conf_99.txt.summary |awk -F \":\" '{print $1\"\\t\"$2}'|sed 's/chr//g'|sort -k4n> del_genes.conf_99.txt.summary.sorted\n",
    "cat amp_genes.conf_99.txt.summary |awk -F \":\" '{print $1\"\\t\"$2}'|sed 's/chr//g'|sort -k4n> amp_genes.conf_99.txt.summary.sorted\n",
    "\n",
    "cd /projects/trans_scratch/validations/workspace/szong/Cervical/cnv/124_patient_adj_hiv_neg\n",
    "cat del_genes.conf_99.txt.summary |awk -F \":\" '{print $1\"\\t\"$2}'|sed 's/chr//g'|sort -k4n> del_genes.conf_99.txt.summary.sorted\n",
    "cat amp_genes.conf_99.txt.summary |awk -F \":\" '{print $1\"\\t\"$2}'|sed 's/chr//g'|sort -k4n> amp_genes.conf_99.txt.summary.sorted"
   ]
  },
  {
   "cell_type": "code",
   "execution_count": 192,
   "metadata": {},
   "outputs": [],
   "source": [
    "def get_qvalue_cytoband(f):\n",
    "    df = pd.read_csv(f, sep='\\t')\n",
    "    df['gene'] = df['oncogenes'].apply(lambda x: x.split(')')[1])\n",
    "    df = df[['q value','cytoband', 'gene']]\n",
    "    df = df[df.gene != '']\n",
    "    s = df[\"gene\"].str.split(',', expand=True).stack()\n",
    "    i = s.index.get_level_values(0)\n",
    "    df2 = df.loc[i].copy()\n",
    "    df2[\"gene\"] = s.values\n",
    "    return df2"
   ]
  },
  {
   "cell_type": "code",
   "execution_count": 272,
   "metadata": {},
   "outputs": [],
   "source": [
    "def map_two_columns(x1, x2):\n",
    "    if 'q' in x1 or 'p' in x1:\n",
    "        return x1\n",
    "    elif 'q' in x2 or 'p' in x2:\n",
    "        return x2\n",
    "    else:\n",
    "        return 'error'\n",
    "    "
   ]
  },
  {
   "cell_type": "code",
   "execution_count": 280,
   "metadata": {},
   "outputs": [
    {
     "data": {
      "text/html": [
       "<div>\n",
       "<style scoped>\n",
       "    .dataframe tbody tr th:only-of-type {\n",
       "        vertical-align: middle;\n",
       "    }\n",
       "\n",
       "    .dataframe tbody tr th {\n",
       "        vertical-align: top;\n",
       "    }\n",
       "\n",
       "    .dataframe thead th {\n",
       "        text-align: right;\n",
       "    }\n",
       "</style>\n",
       "<table border=\"1\" class=\"dataframe\">\n",
       "  <thead>\n",
       "    <tr style=\"text-align: right;\">\n",
       "      <th></th>\n",
       "      <th>q value</th>\n",
       "      <th>cytoband</th>\n",
       "      <th>gene</th>\n",
       "    </tr>\n",
       "  </thead>\n",
       "  <tbody>\n",
       "    <tr>\n",
       "      <th>7</th>\n",
       "      <td>0.003377</td>\n",
       "      <td>2q31.1</td>\n",
       "      <td>NFE2L2</td>\n",
       "    </tr>\n",
       "    <tr>\n",
       "      <th>7</th>\n",
       "      <td>0.003377</td>\n",
       "      <td>2q31.1</td>\n",
       "      <td>HOXD11</td>\n",
       "    </tr>\n",
       "  </tbody>\n",
       "</table>\n",
       "</div>"
      ],
      "text/plain": [
       "    q value cytoband    gene\n",
       "7  0.003377   2q31.1  NFE2L2\n",
       "7  0.003377   2q31.1  HOXD11"
      ]
     },
     "execution_count": 280,
     "metadata": {},
     "output_type": "execute_result"
    },
    {
     "data": {
      "text/html": [
       "<div>\n",
       "<style scoped>\n",
       "    .dataframe tbody tr th:only-of-type {\n",
       "        vertical-align: middle;\n",
       "    }\n",
       "\n",
       "    .dataframe tbody tr th {\n",
       "        vertical-align: top;\n",
       "    }\n",
       "\n",
       "    .dataframe thead th {\n",
       "        text-align: right;\n",
       "    }\n",
       "</style>\n",
       "<table border=\"1\" class=\"dataframe\">\n",
       "  <thead>\n",
       "    <tr style=\"text-align: right;\">\n",
       "      <th></th>\n",
       "      <th>q value</th>\n",
       "      <th>cytoband</th>\n",
       "      <th>gene</th>\n",
       "    </tr>\n",
       "  </thead>\n",
       "  <tbody>\n",
       "    <tr>\n",
       "      <th>2</th>\n",
       "      <td>0.19405</td>\n",
       "      <td>2p25.3</td>\n",
       "      <td>C2orf44</td>\n",
       "    </tr>\n",
       "    <tr>\n",
       "      <th>2</th>\n",
       "      <td>0.19405</td>\n",
       "      <td>2p25.3</td>\n",
       "      <td>NCOA1</td>\n",
       "    </tr>\n",
       "  </tbody>\n",
       "</table>\n",
       "</div>"
      ],
      "text/plain": [
       "   q value cytoband     gene\n",
       "2  0.19405   2p25.3  C2orf44\n",
       "2  0.19405   2p25.3    NCOA1"
      ]
     },
     "execution_count": 280,
     "metadata": {},
     "output_type": "execute_result"
    },
    {
     "data": {
      "text/html": [
       "<div>\n",
       "<style scoped>\n",
       "    .dataframe tbody tr th:only-of-type {\n",
       "        vertical-align: middle;\n",
       "    }\n",
       "\n",
       "    .dataframe tbody tr th {\n",
       "        vertical-align: top;\n",
       "    }\n",
       "\n",
       "    .dataframe thead th {\n",
       "        text-align: right;\n",
       "    }\n",
       "</style>\n",
       "<table border=\"1\" class=\"dataframe\">\n",
       "  <thead>\n",
       "    <tr style=\"text-align: right;\">\n",
       "      <th></th>\n",
       "      <th>hiv+q</th>\n",
       "      <th>gene</th>\n",
       "      <th>hiv-q</th>\n",
       "      <th>cytoband</th>\n",
       "    </tr>\n",
       "  </thead>\n",
       "  <tbody>\n",
       "    <tr>\n",
       "      <th>0</th>\n",
       "      <td>0.003377</td>\n",
       "      <td>NFE2L2</td>\n",
       "      <td>NaN</td>\n",
       "      <td>2q31.1</td>\n",
       "    </tr>\n",
       "    <tr>\n",
       "      <th>1</th>\n",
       "      <td>0.003377</td>\n",
       "      <td>HOXD11</td>\n",
       "      <td>NaN</td>\n",
       "      <td>2q31.1</td>\n",
       "    </tr>\n",
       "  </tbody>\n",
       "</table>\n",
       "</div>"
      ],
      "text/plain": [
       "      hiv+q    gene  hiv-q cytoband\n",
       "0  0.003377  NFE2L2    NaN   2q31.1\n",
       "1  0.003377  HOXD11    NaN   2q31.1"
      ]
     },
     "execution_count": 280,
     "metadata": {},
     "output_type": "execute_result"
    }
   ],
   "source": [
    "# for amps\n",
    "# pos_amp_file = '/home/szong/bin/GISTIC_2_0_22/124_patient_adj_hiv_pos/amp_genes.conf_99.txt.summary.sorted'\n",
    "pos_amp_file = '/projects/trans_scratch/validations/workspace/szong/Cervical/cnv/124_patient_adj_hiv_pos/amp_genes.conf_99.txt.summary.sorted'\n",
    "pos_amps = get_qvalue_cytoband(pos_amp_file)\n",
    "pos_amps.head(2)\n",
    "\n",
    "# neg_amp_file = '/home/szong/bin/GISTIC_2_0_22/124_patient_adj_hiv_neg/amp_genes.conf_99.txt.summary.sorted'\n",
    "neg_amp_file = '/projects/trans_scratch/validations/workspace/szong/Cervical/cnv/124_patient_adj_hiv_neg/amp_genes.conf_99.txt.summary.sorted'\n",
    "neg_amps = get_qvalue_cytoband(neg_amp_file)\n",
    "neg_amps.head(2)\n",
    "\n",
    "ndf = pd.merge(pos_amps, neg_amps, left_on='gene', right_on='gene', how='outer')#.fillna(1)\n",
    "ndf.columns = ['hiv+q', 'cytoband_pos','gene', 'hiv-q', 'cytoband_neg']\n",
    "ndf['cytoband'] = ndf.astype(str).apply(lambda x: map_two_columns(x1=x['cytoband_pos'], x2=x['cytoband_neg']), axis=1)\n",
    "\n",
    "ndf = ndf.drop(['cytoband_pos', 'cytoband_neg'], axis=1)\n",
    "ndf.head(2)"
   ]
  },
  {
   "cell_type": "code",
   "execution_count": 281,
   "metadata": {},
   "outputs": [],
   "source": [
    "of = '/projects/trans_scratch/validations/workspace/szong/Cervical/cnv/amp_gene_qvalue_comparison_hiv_pos_vs_neg.txt'\n",
    "ndf.to_csv(of, sep='\\t', index=False)"
   ]
  },
  {
   "cell_type": "code",
   "execution_count": 314,
   "metadata": {},
   "outputs": [
    {
     "data": {
      "text/html": [
       "<div>\n",
       "<style scoped>\n",
       "    .dataframe tbody tr th:only-of-type {\n",
       "        vertical-align: middle;\n",
       "    }\n",
       "\n",
       "    .dataframe tbody tr th {\n",
       "        vertical-align: top;\n",
       "    }\n",
       "\n",
       "    .dataframe thead th {\n",
       "        text-align: right;\n",
       "    }\n",
       "</style>\n",
       "<table border=\"1\" class=\"dataframe\">\n",
       "  <thead>\n",
       "    <tr style=\"text-align: right;\">\n",
       "      <th></th>\n",
       "      <th>q value</th>\n",
       "      <th>cytoband</th>\n",
       "      <th>gene</th>\n",
       "    </tr>\n",
       "  </thead>\n",
       "  <tbody>\n",
       "    <tr>\n",
       "      <th>0</th>\n",
       "      <td>0.055942</td>\n",
       "      <td>1p36.21</td>\n",
       "      <td>MDS2</td>\n",
       "    </tr>\n",
       "    <tr>\n",
       "      <th>0</th>\n",
       "      <td>0.055942</td>\n",
       "      <td>1p36.21</td>\n",
       "      <td>PARK7</td>\n",
       "    </tr>\n",
       "  </tbody>\n",
       "</table>\n",
       "</div>"
      ],
      "text/plain": [
       "    q value cytoband   gene\n",
       "0  0.055942  1p36.21   MDS2\n",
       "0  0.055942  1p36.21  PARK7"
      ]
     },
     "execution_count": 314,
     "metadata": {},
     "output_type": "execute_result"
    },
    {
     "data": {
      "text/html": [
       "<div>\n",
       "<style scoped>\n",
       "    .dataframe tbody tr th:only-of-type {\n",
       "        vertical-align: middle;\n",
       "    }\n",
       "\n",
       "    .dataframe tbody tr th {\n",
       "        vertical-align: top;\n",
       "    }\n",
       "\n",
       "    .dataframe thead th {\n",
       "        text-align: right;\n",
       "    }\n",
       "</style>\n",
       "<table border=\"1\" class=\"dataframe\">\n",
       "  <thead>\n",
       "    <tr style=\"text-align: right;\">\n",
       "      <th></th>\n",
       "      <th>q value</th>\n",
       "      <th>cytoband</th>\n",
       "      <th>gene</th>\n",
       "    </tr>\n",
       "  </thead>\n",
       "  <tbody>\n",
       "    <tr>\n",
       "      <th>0</th>\n",
       "      <td>0.039246</td>\n",
       "      <td>1p13.2</td>\n",
       "      <td>GSTM1</td>\n",
       "    </tr>\n",
       "    <tr>\n",
       "      <th>0</th>\n",
       "      <td>0.039246</td>\n",
       "      <td>1p13.2</td>\n",
       "      <td>RAP1A</td>\n",
       "    </tr>\n",
       "  </tbody>\n",
       "</table>\n",
       "</div>"
      ],
      "text/plain": [
       "    q value cytoband   gene\n",
       "0  0.039246   1p13.2  GSTM1\n",
       "0  0.039246   1p13.2  RAP1A"
      ]
     },
     "execution_count": 314,
     "metadata": {},
     "output_type": "execute_result"
    },
    {
     "data": {
      "text/html": [
       "<div>\n",
       "<style scoped>\n",
       "    .dataframe tbody tr th:only-of-type {\n",
       "        vertical-align: middle;\n",
       "    }\n",
       "\n",
       "    .dataframe tbody tr th {\n",
       "        vertical-align: top;\n",
       "    }\n",
       "\n",
       "    .dataframe thead th {\n",
       "        text-align: right;\n",
       "    }\n",
       "</style>\n",
       "<table border=\"1\" class=\"dataframe\">\n",
       "  <thead>\n",
       "    <tr style=\"text-align: right;\">\n",
       "      <th></th>\n",
       "      <th>hiv+q</th>\n",
       "      <th>gene</th>\n",
       "      <th>hiv-q</th>\n",
       "      <th>cytoband</th>\n",
       "    </tr>\n",
       "  </thead>\n",
       "  <tbody>\n",
       "    <tr>\n",
       "      <th>0</th>\n",
       "      <td>0.055942</td>\n",
       "      <td>MDS2</td>\n",
       "      <td>NaN</td>\n",
       "      <td>1p36.21</td>\n",
       "    </tr>\n",
       "    <tr>\n",
       "      <th>1</th>\n",
       "      <td>0.055942</td>\n",
       "      <td>PARK7</td>\n",
       "      <td>NaN</td>\n",
       "      <td>1p36.21</td>\n",
       "    </tr>\n",
       "  </tbody>\n",
       "</table>\n",
       "</div>"
      ],
      "text/plain": [
       "      hiv+q   gene  hiv-q cytoband\n",
       "0  0.055942   MDS2    NaN  1p36.21\n",
       "1  0.055942  PARK7    NaN  1p36.21"
      ]
     },
     "execution_count": 314,
     "metadata": {},
     "output_type": "execute_result"
    }
   ],
   "source": [
    "# for dels\n",
    "pos_del_file = '/projects/trans_scratch/validations/workspace/szong/Cervical/cnv/124_patient_adj_hiv_pos/del_genes.conf_99.txt.summary.sorted'\n",
    "pos_dels = get_qvalue_cytoband(pos_del_file)\n",
    "pos_dels.head(2)\n",
    "\n",
    "neg_del_file = '//projects/trans_scratch/validations/workspace/szong/Cervical/cnv/124_patient_adj_hiv_neg/del_genes.conf_99.txt.summary.sorted'\n",
    "neg_dels = get_qvalue_cytoband(neg_del_file)\n",
    "neg_dels.head(2)\n",
    "\n",
    "ndf = pd.merge(pos_dels, neg_dels, left_on='gene', right_on='gene', how='outer')#.fillna(1)\n",
    "ndf.columns = ['hiv+q', 'cytoband_pos','gene', 'hiv-q', 'cytoband_neg']\n",
    "ndf['cytoband'] = ndf.astype(str).apply(lambda x: map_two_columns(x1=x['cytoband_pos'], x2=x['cytoband_neg']), axis=1)\n",
    "\n",
    "ndf = ndf.drop(['cytoband_pos', 'cytoband_neg'], axis=1)\n",
    "ndf.head(2)"
   ]
  },
  {
   "cell_type": "code",
   "execution_count": 92,
   "metadata": {},
   "outputs": [
    {
     "data": {
      "text/plain": [
       "(431, 3)"
      ]
     },
     "execution_count": 92,
     "metadata": {},
     "output_type": "execute_result"
    },
    {
     "data": {
      "text/plain": [
       "414"
      ]
     },
     "execution_count": 92,
     "metadata": {},
     "output_type": "execute_result"
    }
   ],
   "source": [
    "ndf.shape\n",
    "ndf['gene'].nunique()"
   ]
  },
  {
   "cell_type": "code",
   "execution_count": 93,
   "metadata": {},
   "outputs": [
    {
     "data": {
      "text/html": [
       "<div>\n",
       "<style scoped>\n",
       "    .dataframe tbody tr th:only-of-type {\n",
       "        vertical-align: middle;\n",
       "    }\n",
       "\n",
       "    .dataframe tbody tr th {\n",
       "        vertical-align: top;\n",
       "    }\n",
       "\n",
       "    .dataframe thead th {\n",
       "        text-align: right;\n",
       "    }\n",
       "</style>\n",
       "<table border=\"1\" class=\"dataframe\">\n",
       "  <thead>\n",
       "    <tr style=\"text-align: right;\">\n",
       "      <th></th>\n",
       "      <th>hiv+q</th>\n",
       "      <th>gene</th>\n",
       "      <th>hiv-q</th>\n",
       "    </tr>\n",
       "  </thead>\n",
       "  <tbody>\n",
       "    <tr>\n",
       "      <th>20</th>\n",
       "      <td>1.795800e-19</td>\n",
       "      <td>ACSL3</td>\n",
       "      <td>1.0</td>\n",
       "    </tr>\n",
       "    <tr>\n",
       "      <th>21</th>\n",
       "      <td>1.855100e-18</td>\n",
       "      <td>ACSL3</td>\n",
       "      <td>1.0</td>\n",
       "    </tr>\n",
       "  </tbody>\n",
       "</table>\n",
       "</div>"
      ],
      "text/plain": [
       "           hiv+q   gene  hiv-q\n",
       "20  1.795800e-19  ACSL3    1.0\n",
       "21  1.855100e-18  ACSL3    1.0"
      ]
     },
     "execution_count": 93,
     "metadata": {},
     "output_type": "execute_result"
    }
   ],
   "source": [
    "# look at duplicated on column gene\n",
    "pd.concat(g for _, g in ndf.groupby(\"gene\") if len(g) > 1).head(2)"
   ]
  },
  {
   "cell_type": "code",
   "execution_count": 315,
   "metadata": {},
   "outputs": [],
   "source": [
    "ndf = ndf.drop_duplicates(subset='gene', keep='last')"
   ]
  },
  {
   "cell_type": "code",
   "execution_count": 283,
   "metadata": {},
   "outputs": [],
   "source": [
    "def label_point(x, y, val, ax):\n",
    "    a = pd.concat({'x': x, 'y': y, 'val': val}, axis=1)\n",
    "    k = 0\n",
    "    j = 0 \n",
    "    for i, point in a.iterrows():\n",
    "        _ = ax.text(point['x']+j, point['y']+k, str(point['val']))\n",
    "        k+=1\n",
    "#         j+=.5\n",
    "    return a"
   ]
  },
  {
   "cell_type": "code",
   "execution_count": 36,
   "metadata": {},
   "outputs": [],
   "source": [
    "def plot_genes(ax, df):\n",
    "    df = df.sort_values(['y', 'x'], ascending=True)\n",
    "    for ix, row in df.iterrows():  \n",
    "        gene = row.gene\n",
    "        x = row['hiv+q']\n",
    "        y = row['hiv-q']\n",
    "        textx = row.x\n",
    "        texty = row.y\n",
    "#         anno_color = row.anno_color\n",
    "#         anno_ecolor = row.anno_ecolor\n",
    "#         arrow_color = row.arrow_color\n",
    "#         fill_color = row.fill_color\n",
    "        anno_color = 'blue'\n",
    "        arrow_color = 'blue'\n",
    "        ax.annotate('{}'.format(gene),\n",
    "                    xy=(x,y), \n",
    "                    xytext=(textx, texty), fontsize=10,\n",
    "                    ha='center', va='bottom', color=anno_color,\n",
    "                    textcoords='data', xycoords=\"data\", \n",
    "                    bbox=dict(boxstyle='round', \n",
    "#                               fc=fill_color, \n",
    "#                               edgecolor=anno_ecolor,\n",
    "                              alpha=1, pad=.4),\n",
    "                    arrowprops=dict(arrowstyle='-', \n",
    "                                    color=anno_color,\n",
    "                                    shrinkB=0, \n",
    "                                    connectionstyle='arc3,rad=0.0' \n",
    "                                  ))"
   ]
  },
  {
   "cell_type": "code",
   "execution_count": 10,
   "metadata": {},
   "outputs": [],
   "source": [
    "ndf = ndf.sort_values('hiv-q')"
   ]
  },
  {
   "cell_type": "code",
   "execution_count": 318,
   "metadata": {},
   "outputs": [
    {
     "data": {
      "text/html": [
       "<div>\n",
       "<style scoped>\n",
       "    .dataframe tbody tr th:only-of-type {\n",
       "        vertical-align: middle;\n",
       "    }\n",
       "\n",
       "    .dataframe tbody tr th {\n",
       "        vertical-align: top;\n",
       "    }\n",
       "\n",
       "    .dataframe thead th {\n",
       "        text-align: right;\n",
       "    }\n",
       "</style>\n",
       "<table border=\"1\" class=\"dataframe\">\n",
       "  <thead>\n",
       "    <tr style=\"text-align: right;\">\n",
       "      <th></th>\n",
       "      <th>hiv+q</th>\n",
       "      <th>gene</th>\n",
       "      <th>hiv-q</th>\n",
       "      <th>cytoband</th>\n",
       "    </tr>\n",
       "  </thead>\n",
       "  <tbody>\n",
       "    <tr>\n",
       "      <th>0</th>\n",
       "      <td>0.055942</td>\n",
       "      <td>MDS2</td>\n",
       "      <td>1.0</td>\n",
       "      <td>1p36.21</td>\n",
       "    </tr>\n",
       "    <tr>\n",
       "      <th>1</th>\n",
       "      <td>0.055942</td>\n",
       "      <td>PARK7</td>\n",
       "      <td>1.0</td>\n",
       "      <td>1p36.21</td>\n",
       "    </tr>\n",
       "  </tbody>\n",
       "</table>\n",
       "</div>"
      ],
      "text/plain": [
       "      hiv+q   gene  hiv-q cytoband\n",
       "0  0.055942   MDS2    1.0  1p36.21\n",
       "1  0.055942  PARK7    1.0  1p36.21"
      ]
     },
     "execution_count": 318,
     "metadata": {},
     "output_type": "execute_result"
    }
   ],
   "source": [
    "of = '/projects/trans_scratch/validations/workspace/szong/Cervical/cnv/del_gene_qvalue_comparison_hiv_pos_vs_neg.txt'\n",
    "ndf = pd.read_csv(of, sep='\\t').fillna(1)\n",
    "ndf.head(2)"
   ]
  },
  {
   "cell_type": "code",
   "execution_count": 319,
   "metadata": {},
   "outputs": [],
   "source": [
    "ndf['hiv+q(-log10)'] = -np.log10(ndf['hiv+q'])\n",
    "ndf['hiv-q(-log10)'] = -np.log10(ndf['hiv-q'])"
   ]
  },
  {
   "cell_type": "code",
   "execution_count": 320,
   "metadata": {},
   "outputs": [
    {
     "data": {
      "text/html": [
       "<div>\n",
       "<style scoped>\n",
       "    .dataframe tbody tr th:only-of-type {\n",
       "        vertical-align: middle;\n",
       "    }\n",
       "\n",
       "    .dataframe tbody tr th {\n",
       "        vertical-align: top;\n",
       "    }\n",
       "\n",
       "    .dataframe thead th {\n",
       "        text-align: right;\n",
       "    }\n",
       "</style>\n",
       "<table border=\"1\" class=\"dataframe\">\n",
       "  <thead>\n",
       "    <tr style=\"text-align: right;\">\n",
       "      <th></th>\n",
       "      <th>hiv+q</th>\n",
       "      <th>gene</th>\n",
       "      <th>hiv-q</th>\n",
       "      <th>cytoband</th>\n",
       "      <th>hiv+q(-log10)</th>\n",
       "      <th>hiv-q(-log10)</th>\n",
       "    </tr>\n",
       "  </thead>\n",
       "  <tbody>\n",
       "    <tr>\n",
       "      <th>0</th>\n",
       "      <td>0.055942</td>\n",
       "      <td>MDS2</td>\n",
       "      <td>1.0</td>\n",
       "      <td>1p36.21</td>\n",
       "      <td>1.252262</td>\n",
       "      <td>-0.0</td>\n",
       "    </tr>\n",
       "    <tr>\n",
       "      <th>1</th>\n",
       "      <td>0.055942</td>\n",
       "      <td>PARK7</td>\n",
       "      <td>1.0</td>\n",
       "      <td>1p36.21</td>\n",
       "      <td>1.252262</td>\n",
       "      <td>-0.0</td>\n",
       "    </tr>\n",
       "    <tr>\n",
       "      <th>2</th>\n",
       "      <td>0.055942</td>\n",
       "      <td>RAP1GAP</td>\n",
       "      <td>1.0</td>\n",
       "      <td>1p36.21</td>\n",
       "      <td>1.252262</td>\n",
       "      <td>-0.0</td>\n",
       "    </tr>\n",
       "    <tr>\n",
       "      <th>3</th>\n",
       "      <td>0.055942</td>\n",
       "      <td>KIF1B</td>\n",
       "      <td>1.0</td>\n",
       "      <td>1p36.21</td>\n",
       "      <td>1.252262</td>\n",
       "      <td>-0.0</td>\n",
       "    </tr>\n",
       "    <tr>\n",
       "      <th>4</th>\n",
       "      <td>0.055942</td>\n",
       "      <td>SDHB</td>\n",
       "      <td>1.0</td>\n",
       "      <td>1p36.21</td>\n",
       "      <td>1.252262</td>\n",
       "      <td>-0.0</td>\n",
       "    </tr>\n",
       "  </tbody>\n",
       "</table>\n",
       "</div>"
      ],
      "text/plain": [
       "      hiv+q     gene  hiv-q cytoband  hiv+q(-log10)  hiv-q(-log10)\n",
       "0  0.055942     MDS2    1.0  1p36.21       1.252262           -0.0\n",
       "1  0.055942    PARK7    1.0  1p36.21       1.252262           -0.0\n",
       "2  0.055942  RAP1GAP    1.0  1p36.21       1.252262           -0.0\n",
       "3  0.055942    KIF1B    1.0  1p36.21       1.252262           -0.0\n",
       "4  0.055942     SDHB    1.0  1p36.21       1.252262           -0.0"
      ]
     },
     "execution_count": 320,
     "metadata": {},
     "output_type": "execute_result"
    },
    {
     "data": {
      "text/plain": [
       "(414, 6)"
      ]
     },
     "execution_count": 320,
     "metadata": {},
     "output_type": "execute_result"
    }
   ],
   "source": [
    "ndf.head()\n",
    "ndf.shape"
   ]
  },
  {
   "cell_type": "code",
   "execution_count": 321,
   "metadata": {},
   "outputs": [
    {
     "data": {
      "text/plain": [
       "<matplotlib.axes._subplots.AxesSubplot at 0x7fac07598630>"
      ]
     },
     "execution_count": 321,
     "metadata": {},
     "output_type": "execute_result"
    },
    {
     "data": {
      "text/plain": [
       "Text(0.5,1,'GISTIC dels oncogenes')"
      ]
     },
     "execution_count": 321,
     "metadata": {},
     "output_type": "execute_result"
    },
    {
     "data": {
      "text/plain": [
       "(-1, 23)"
      ]
     },
     "execution_count": 321,
     "metadata": {},
     "output_type": "execute_result"
    },
    {
     "data": {
      "text/plain": [
       "(-1, 23)"
      ]
     },
     "execution_count": 321,
     "metadata": {},
     "output_type": "execute_result"
    },
    {
     "data": {
      "image/png": "[encoded data removed]",
      "text/plain": [
       "<Figure size 504x504 with 1 Axes>"
      ]
     },
     "metadata": {},
     "output_type": "display_data"
    }
   ],
   "source": [
    "# Set theme\n",
    "sns.set_style('whitegrid')\n",
    "\n",
    "\n",
    "# Scatterplot arguments\n",
    "# grid = sns.lmplot(x='hiv+q', y='hiv-q', data=ndf.fillna(.1),\n",
    "#            fit_reg=False) # No regression line\n",
    "#            #hue='Stage')   # Color by evolution stage\n",
    "# # Tweak using Matplotlib\n",
    "# # plt.ylim(0, .2)\n",
    "# # plt.xlim(0, .2)\n",
    "# grid.set(xscale=\"log\", yscale=\"log\")\n",
    "\n",
    "f, ax = plt.subplots(figsize=(7, 7))\n",
    "\n",
    "\n",
    "# ax.set(xscale=\"log\", yscale=\"log\")\n",
    "sns.regplot(x='hiv+q(-log10)', y='hiv-q(-log10)', data=ndf, ax=ax, fit_reg=False, x_jitter=1e-12, y_jitter=1e-10, scatter_kws={\"s\": 10})\n",
    "\n",
    "\n",
    "\n",
    "\n",
    "ax.set_title('GISTIC dels oncogenes')\n",
    "ax.set_xlim(-1, 23)\n",
    "ax.set_ylim(-1, 23)\n",
    "\n",
    "\n",
    "\n",
    "    \n",
    "ndf = ndf[(ndf['hiv+q(-log10)']>15)]#|(ndf['hiv-q(-log10)']>5)]\n",
    "_ = label_point(ndf['hiv+q(-log10)'], ndf['hiv-q(-log10)'], ndf['gene']+'_'+ndf['cytoband'], plt.gca())  \n",
    "of = '/projects/trans_scratch/validations/workspace/szong/Cervical/cnv/del_gene_qvalue_comparison_hiv_pos_vs_neg.png'\n",
    "plt.savefig(of, bbox_inches='tight', dpi=200)"
   ]
  },
  {
   "cell_type": "code",
   "execution_count": 126,
   "metadata": {},
   "outputs": [],
   "source": [
    "plt.close()"
   ]
  },
  {
   "cell_type": "code",
   "execution_count": 18,
   "metadata": {},
   "outputs": [
    {
     "data": {
      "text/html": [
       "<div>\n",
       "<style scoped>\n",
       "    .dataframe tbody tr th:only-of-type {\n",
       "        vertical-align: middle;\n",
       "    }\n",
       "\n",
       "    .dataframe tbody tr th {\n",
       "        vertical-align: top;\n",
       "    }\n",
       "\n",
       "    .dataframe thead th {\n",
       "        text-align: right;\n",
       "    }\n",
       "</style>\n",
       "<table border=\"1\" class=\"dataframe\">\n",
       "  <thead>\n",
       "    <tr style=\"text-align: right;\">\n",
       "      <th></th>\n",
       "      <th>hiv+q</th>\n",
       "      <th>gene</th>\n",
       "      <th>hiv-q</th>\n",
       "    </tr>\n",
       "  </thead>\n",
       "  <tbody>\n",
       "    <tr>\n",
       "      <th>23</th>\n",
       "      <td>1.0</td>\n",
       "      <td>TP63</td>\n",
       "      <td>1.264200e-10</td>\n",
       "    </tr>\n",
       "    <tr>\n",
       "      <th>25</th>\n",
       "      <td>1.0</td>\n",
       "      <td>MYC</td>\n",
       "      <td>5.258800e-03</td>\n",
       "    </tr>\n",
       "  </tbody>\n",
       "</table>\n",
       "</div>"
      ],
      "text/plain": [
       "    hiv+q  gene         hiv-q\n",
       "23    1.0  TP63  1.264200e-10\n",
       "25    1.0   MYC  5.258800e-03"
      ]
     },
     "execution_count": 18,
     "metadata": {},
     "output_type": "execute_result"
    }
   ],
   "source": [
    "ndf.head(2)"
   ]
  },
  {
   "cell_type": "code",
   "execution_count": 316,
   "metadata": {},
   "outputs": [],
   "source": [
    "of = '/projects/trans_scratch/validations/workspace/szong/Cervical/cnv/del_gene_qvalue_comparison_hiv_pos_vs_neg.txt'\n",
    "ndf.to_csv(of, sep='\\t', index=False)"
   ]
  },
  {
   "cell_type": "code",
   "execution_count": 9,
   "metadata": {},
   "outputs": [],
   "source": [
    "%%bash\n",
    "cd /home/szong/bin/GISTIC_2_0_22/124_patient_adj_hiv_neg\n",
    "cat del_genes.conf_99.txt.summary |awk -F \":\" '{print $1\"\\t\"$2}'|sed 's/chr//g'|sort -k4n> del_genes.conf_99.txt.summary.sorted\n",
    "cat amp_genes.conf_99.txt.summary |awk -F \":\" '{print $1\"\\t\"$2}'|sed 's/chr//g'|sort -k4n> amp_genes.conf_99.txt.summary.sorted"
   ]
  },
  {
   "cell_type": "markdown",
   "metadata": {},
   "source": [
    "# look at correlation between copy number and expression"
   ]
  },
  {
   "cell_type": "code",
   "execution_count": 49,
   "metadata": {
    "scrolled": true
   },
   "outputs": [
    {
     "data": {
      "text/html": [
       "<div>\n",
       "<style scoped>\n",
       "    .dataframe tbody tr th:only-of-type {\n",
       "        vertical-align: middle;\n",
       "    }\n",
       "\n",
       "    .dataframe tbody tr th {\n",
       "        vertical-align: top;\n",
       "    }\n",
       "\n",
       "    .dataframe thead th {\n",
       "        text-align: right;\n",
       "    }\n",
       "</style>\n",
       "<table border=\"1\" class=\"dataframe\">\n",
       "  <thead>\n",
       "    <tr style=\"text-align: right;\">\n",
       "      <th></th>\n",
       "      <th>q value</th>\n",
       "      <th>gene</th>\n",
       "      <th>new_gene</th>\n",
       "    </tr>\n",
       "  </thead>\n",
       "  <tbody>\n",
       "    <tr>\n",
       "      <th>7</th>\n",
       "      <td>3.377000e-03</td>\n",
       "      <td>NFE2L2,HOXD11,HOXD13</td>\n",
       "      <td>NFE2L2</td>\n",
       "    </tr>\n",
       "    <tr>\n",
       "      <th>7</th>\n",
       "      <td>3.377000e-03</td>\n",
       "      <td>NFE2L2,HOXD11,HOXD13</td>\n",
       "      <td>HOXD11</td>\n",
       "    </tr>\n",
       "    <tr>\n",
       "      <th>7</th>\n",
       "      <td>3.377000e-03</td>\n",
       "      <td>NFE2L2,HOXD11,HOXD13</td>\n",
       "      <td>HOXD13</td>\n",
       "    </tr>\n",
       "    <tr>\n",
       "      <th>9</th>\n",
       "      <td>8.332900e-13</td>\n",
       "      <td>DLG1</td>\n",
       "      <td>DLG1</td>\n",
       "    </tr>\n",
       "    <tr>\n",
       "      <th>16</th>\n",
       "      <td>5.524600e-02</td>\n",
       "      <td>RAC1</td>\n",
       "      <td>RAC1</td>\n",
       "    </tr>\n",
       "    <tr>\n",
       "      <th>20</th>\n",
       "      <td>6.399600e-05</td>\n",
       "      <td>ESRP1</td>\n",
       "      <td>ESRP1</td>\n",
       "    </tr>\n",
       "    <tr>\n",
       "      <th>22</th>\n",
       "      <td>8.899700e-02</td>\n",
       "      <td>UHRF2</td>\n",
       "      <td>UHRF2</td>\n",
       "    </tr>\n",
       "    <tr>\n",
       "      <th>26</th>\n",
       "      <td>1.518200e-01</td>\n",
       "      <td>LMO2,EHF</td>\n",
       "      <td>LMO2</td>\n",
       "    </tr>\n",
       "    <tr>\n",
       "      <th>26</th>\n",
       "      <td>1.518200e-01</td>\n",
       "      <td>LMO2,EHF</td>\n",
       "      <td>EHF</td>\n",
       "    </tr>\n",
       "    <tr>\n",
       "      <th>28</th>\n",
       "      <td>5.902500e-07</td>\n",
       "      <td>YAP1,BIRC3</td>\n",
       "      <td>YAP1</td>\n",
       "    </tr>\n",
       "    <tr>\n",
       "      <th>28</th>\n",
       "      <td>5.902500e-07</td>\n",
       "      <td>YAP1,BIRC3</td>\n",
       "      <td>BIRC3</td>\n",
       "    </tr>\n",
       "    <tr>\n",
       "      <th>30</th>\n",
       "      <td>1.518200e-01</td>\n",
       "      <td>GPRC5A</td>\n",
       "      <td>GPRC5A</td>\n",
       "    </tr>\n",
       "    <tr>\n",
       "      <th>41</th>\n",
       "      <td>8.899700e-02</td>\n",
       "      <td>CDH1</td>\n",
       "      <td>CDH1</td>\n",
       "    </tr>\n",
       "    <tr>\n",
       "      <th>42</th>\n",
       "      <td>5.013900e-02</td>\n",
       "      <td>RAD51C</td>\n",
       "      <td>RAD51C</td>\n",
       "    </tr>\n",
       "    <tr>\n",
       "      <th>48</th>\n",
       "      <td>1.634100e-03</td>\n",
       "      <td>BCL3,CBLC</td>\n",
       "      <td>BCL3</td>\n",
       "    </tr>\n",
       "    <tr>\n",
       "      <th>48</th>\n",
       "      <td>1.634100e-03</td>\n",
       "      <td>BCL3,CBLC</td>\n",
       "      <td>CBLC</td>\n",
       "    </tr>\n",
       "  </tbody>\n",
       "</table>\n",
       "</div>"
      ],
      "text/plain": [
       "         q value                  gene new_gene\n",
       "7   3.377000e-03  NFE2L2,HOXD11,HOXD13   NFE2L2\n",
       "7   3.377000e-03  NFE2L2,HOXD11,HOXD13   HOXD11\n",
       "7   3.377000e-03  NFE2L2,HOXD11,HOXD13   HOXD13\n",
       "9   8.332900e-13                  DLG1     DLG1\n",
       "16  5.524600e-02                  RAC1     RAC1\n",
       "20  6.399600e-05                 ESRP1    ESRP1\n",
       "22  8.899700e-02                 UHRF2    UHRF2\n",
       "26  1.518200e-01              LMO2,EHF     LMO2\n",
       "26  1.518200e-01              LMO2,EHF      EHF\n",
       "28  5.902500e-07            YAP1,BIRC3     YAP1\n",
       "28  5.902500e-07            YAP1,BIRC3    BIRC3\n",
       "30  1.518200e-01                GPRC5A   GPRC5A\n",
       "41  8.899700e-02                  CDH1     CDH1\n",
       "42  5.013900e-02                RAD51C   RAD51C\n",
       "48  1.634100e-03             BCL3,CBLC     BCL3\n",
       "48  1.634100e-03             BCL3,CBLC     CBLC"
      ]
     },
     "execution_count": 49,
     "metadata": {},
     "output_type": "execute_result"
    }
   ],
   "source": [
    "df2"
   ]
  },
  {
   "cell_type": "code",
   "execution_count": null,
   "metadata": {},
   "outputs": [],
   "source": [
    "f = '/home/szong/bin/GISTIC_2_0_22/124_patient_adj_3k_0.1_1Mb/all_thresholded.by_genes.txt'\n",
    "df = pd.read_csv(f, sep='\\t')\n",
    "df.head(2)"
   ]
  },
  {
   "cell_type": "code",
   "execution_count": null,
   "metadata": {},
   "outputs": [],
   "source": [
    "f1 = '/projects/trans_scratch/validations/workspace/szong/Cervical/expression/NCI_ensembl69_stranded_RPKM_matrix.txt'\n",
    "df1 = pd.read_csv(f1, sep='\\t')\n",
    "df1.head(2)"
   ]
  },
  {
   "cell_type": "code",
   "execution_count": null,
   "metadata": {},
   "outputs": [],
   "source": [
    "genes = ['ECT2', 'YAP1', 'DLG1',  'DNAH5',  'SP100', 'STK11']"
   ]
  },
  {
   "cell_type": "code",
   "execution_count": null,
   "metadata": {},
   "outputs": [],
   "source": [
    "def categorize_cnv(i):\n",
    "#     for i in s:\n",
    "    if i < 0:\n",
    "        cat = 'cnv_loss'\n",
    "    elif i > 0:\n",
    "        cat = 'cnv_gain'\n",
    "    else: cat = 'cnv_neutral'\n",
    "#         ns.append(cat)\n",
    "    return cat"
   ]
  },
  {
   "cell_type": "code",
   "execution_count": null,
   "metadata": {},
   "outputs": [],
   "source": [
    "with plt.style.context(\"seaborn-whitegrid\"):\n",
    "    plt.rcParams[\"axes.edgecolor\"] = \"0.15\"\n",
    "    plt.rcParams[\"axes.linewidth\"]  = 1.25\n",
    "    fig = plt.figure(facecolor='w', figsize=(12,12))\n",
    "    axes = (fig.subplots(int(len(genes)/3), 3)).ravel()\n",
    "#     print(axes[1])\n",
    "    for i, gene in enumerate(genes):\n",
    "        dfgene = df[df['Gene Symbol'] == gene]\n",
    "        df1gene = df1[df1.genes.str.contains('_{}$'.format(gene))]\n",
    "        dff = pd.concat([dfgene, df1gene]).drop(['Cytoband', 'Gene Symbol', 'Locus ID', 'genes'], axis=1).T\n",
    "        dff.columns = ['cnv', 'rpkm']\n",
    "#         dff['groups'] = ['cnv_loss' if i< 0 'cnv_gain' elif i>0 else 'cnv_neutral' for i in dff.cnv ]\n",
    "        dff['groups'] = dff.cnv.apply(categorize_cnv)\n",
    "#         print(dff['groups'].unique())\n",
    "        # boxplot overlaps individual data point\n",
    "\n",
    "        ax = axes[i]\n",
    "        _ = sns.boxplot('groups', 'rpkm', data=dff, ax=ax, order=['cnv_loss', 'cnv_neutral', 'cnv_gain'])\n",
    "        _ = sns.swarmplot('groups', 'rpkm', data=dff, ax=ax, order=['cnv_loss', 'cnv_neutral', 'cnv_gain'])\n",
    "        _ = ax.set_title(gene)\n",
    "        _ = ax.set_xlabel('')\n",
    "        grps = {}\n",
    "        # overlay actuall data point\n",
    "        categories = ['cnv_loss','cnv_neutral', 'cnv_gain']\n",
    "        group_col = 'groups'\n",
    "        value_col = 'rpkm'\n",
    "        for i, cat in enumerate(categories):\n",
    "#             print(i, cat)\n",
    "            grps[i] = dff.query('{0} == \"{1}\"'.format(group_col, cat))[value_col]\n",
    "\n",
    "        if len(categories) == 2:\n",
    "            # statistical test for 1st grp\n",
    "#             sts, p = ss.mannwhitneyu(grps[0], grps[1], use_continuity=True, alternative=None)\n",
    "            sts, p1 = ttest_ind(grps[0], grps[1])\n",
    "#             print(p)\n",
    "            p = round(p, 8)\n",
    "            _ = ax.text(0.4 , 0.90,'p={}'.format(p), ha='center', va='center', transform=ax.transAxes, size=14)\n",
    "        elif len(categories) == 3:\n",
    "            # statistical test for 1st grp\n",
    "#             sts, p1 = ss.mannwhitneyu(grps[0], grps[1], use_continuity=True, alternative=None)\n",
    "            sts, p1 = ttest_ind(grps[0], grps[1])\n",
    "#             print(p1)\n",
    "            p1 = round(p1, 5)\n",
    "            _ = ax.text(0.2 , 0.90,'p={}'.format(p1), ha='center', va='center', transform=ax.transAxes, size=14)\n",
    "#             sts, p2 = ss.mannwhitneyu(grps[2], grps[1], use_continuity=True, alternative=None)\n",
    "            sts, p2 = ttest_ind(grps[2], grps[1])\n",
    "#             print(p2)\n",
    "            p2 = round(p2, 5)\n",
    "            _ = ax.text(0.7 , 0.90,'p={}'.format(p2), ha='center', va='center', transform=ax.transAxes, size=14)\n",
    "    of = '/projects/trans_scratch/validations/workspace/szong/Cervical/cnv/cnv_expression.png'\n",
    "    plt.savefig(of, dpi=200)"
   ]
  }
 ],
 "metadata": {
  "kernelspec": {
   "display_name": "Python 3",
   "language": "python",
   "name": "python3"
  },
  "language_info": {
   "codemirror_mode": {
    "name": "ipython",
    "version": 3
   },
   "file_extension": ".py",
   "mimetype": "text/x-python",
   "name": "python",
   "nbconvert_exporter": "python",
   "pygments_lexer": "ipython3",
   "version": "3.6.7"
  }
 },
 "nbformat": 4,
 "nbformat_minor": 2
}
