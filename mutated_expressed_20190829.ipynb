{
 "cells": [
  {
   "cell_type": "code",
   "execution_count": 4,
   "metadata": {},
   "outputs": [],
   "source": [
    "import pandas as pd\n",
    "from IPython.core.interactiveshell import InteractiveShell\n",
    "InteractiveShell.ast_node_interactivity = \"all\""
   ]
  },
  {
   "cell_type": "code",
   "execution_count": 71,
   "metadata": {},
   "outputs": [
    {
     "data": {
      "text/html": [
       "<div>\n",
       "<style scoped>\n",
       "    .dataframe tbody tr th:only-of-type {\n",
       "        vertical-align: middle;\n",
       "    }\n",
       "\n",
       "    .dataframe tbody tr th {\n",
       "        vertical-align: top;\n",
       "    }\n",
       "\n",
       "    .dataframe thead th {\n",
       "        text-align: right;\n",
       "    }\n",
       "</style>\n",
       "<table border=\"1\" class=\"dataframe\">\n",
       "  <thead>\n",
       "    <tr style=\"text-align: right;\">\n",
       "      <th></th>\n",
       "      <th>patient</th>\n",
       "      <th>csnv</th>\n",
       "      <th>csnv_file</th>\n",
       "    </tr>\n",
       "  </thead>\n",
       "  <tbody>\n",
       "    <tr>\n",
       "      <th>0</th>\n",
       "      <td>HTMCP-03-06-02001</td>\n",
       "      <td>/projects/somatic/NCI_SAIC_HIV_Cervical/HTMCP-...</td>\n",
       "      <td>/projects/somatic/NCI_SAIC_HIV_Cervical/HTMCP-...</td>\n",
       "    </tr>\n",
       "    <tr>\n",
       "      <th>1</th>\n",
       "      <td>HTMCP-03-06-02002</td>\n",
       "      <td>/projects/somatic/NCI_SAIC_HIV_Cervical/HTMCP-...</td>\n",
       "      <td>/projects/somatic/NCI_SAIC_HIV_Cervical/HTMCP-...</td>\n",
       "    </tr>\n",
       "  </tbody>\n",
       "</table>\n",
       "</div>"
      ],
      "text/plain": [
       "             patient                                               csnv  \\\n",
       "0  HTMCP-03-06-02001  /projects/somatic/NCI_SAIC_HIV_Cervical/HTMCP-...   \n",
       "1  HTMCP-03-06-02002  /projects/somatic/NCI_SAIC_HIV_Cervical/HTMCP-...   \n",
       "\n",
       "                                           csnv_file  \n",
       "0  /projects/somatic/NCI_SAIC_HIV_Cervical/HTMCP-...  \n",
       "1  /projects/somatic/NCI_SAIC_HIV_Cervical/HTMCP-...  "
      ]
     },
     "execution_count": 71,
     "metadata": {},
     "output_type": "execute_result"
    },
    {
     "data": {
      "text/plain": [
       "(117, 3)"
      ]
     },
     "execution_count": 71,
     "metadata": {},
     "output_type": "execute_result"
    }
   ],
   "source": [
    "f = '/projects/trans_scratch/validations/workspace/szong/Cervical/variant_bwamem/124_patients_new/bioapps_returned_combinedsnv_path.txt'\n",
    "df = pd.read_csv(f, header=None)\n",
    "df.columns = ['patient', 'csnv']\n",
    "df['csnv_file'] = df.csnv + '/all.somatic.coding.snvs.merged.txt'\n",
    "df.head(2)\n",
    "df.shape"
   ]
  },
  {
   "cell_type": "code",
   "execution_count": 116,
   "metadata": {},
   "outputs": [
    {
     "data": {
      "text/plain": [
       "'/projects/somatic/NCI_SAIC_HIV_Cervical/HTMCP-03-06-02001/hg19a/GSH/A37234_A37159/combinedsnv/64278/all.somatic.coding.snvs.merged.txt'"
      ]
     },
     "execution_count": 116,
     "metadata": {},
     "output_type": "execute_result"
    }
   ],
   "source": [
    "df.csnv_file[0]"
   ]
  },
  {
   "cell_type": "code",
   "execution_count": 136,
   "metadata": {},
   "outputs": [],
   "source": [
    "def get_csnv(f, patients, variants):\n",
    "    df = pd.read_csv(f, sep='\\t')\n",
    "    df['snv'] = df[['chr', 'pos', 'ref_base', 'alt_base']].astype(str).apply(lambda x: '_'.join(x), axis=1)\n",
    "    df['patient'] = pat\n",
    "    df = df[(df.snv.isin(variants)) & (df.patient.isin(patients))]\n",
    "    return df"
   ]
  },
  {
   "cell_type": "code",
   "execution_count": 85,
   "metadata": {},
   "outputs": [],
   "source": [
    "pd.concat?"
   ]
  },
  {
   "cell_type": "code",
   "execution_count": 137,
   "metadata": {},
   "outputs": [],
   "source": [
    "dfm = pd.DataFrame()\n",
    "for ix, row in df.iterrows():\n",
    "    pat = row['patient']\n",
    "    csnv_f = row['csnv_file']\n",
    "    df1 = get_csnv(csnv_f, patients, variants) \n",
    "    df1.columns = range(df1.shape[1])\n",
    "    if dfm.empty:\n",
    "        dfm = df1\n",
    "    else:\n",
    "        dfm = pd.concat([dfm, df1], sort=False)\n",
    "        \n"
   ]
  },
  {
   "cell_type": "code",
   "execution_count": 138,
   "metadata": {},
   "outputs": [
    {
     "data": {
      "text/plain": [
       "(142, 28)"
      ]
     },
     "execution_count": 138,
     "metadata": {},
     "output_type": "execute_result"
    }
   ],
   "source": [
    "dfm.shape"
   ]
  },
  {
   "cell_type": "code",
   "execution_count": 139,
   "metadata": {},
   "outputs": [
    {
     "data": {
      "text/html": [
       "<div>\n",
       "<style scoped>\n",
       "    .dataframe tbody tr th:only-of-type {\n",
       "        vertical-align: middle;\n",
       "    }\n",
       "\n",
       "    .dataframe tbody tr th {\n",
       "        vertical-align: top;\n",
       "    }\n",
       "\n",
       "    .dataframe thead th {\n",
       "        text-align: right;\n",
       "    }\n",
       "</style>\n",
       "<table border=\"1\" class=\"dataframe\">\n",
       "  <thead>\n",
       "    <tr style=\"text-align: right;\">\n",
       "      <th></th>\n",
       "      <th>0</th>\n",
       "      <th>1</th>\n",
       "      <th>2</th>\n",
       "      <th>3</th>\n",
       "      <th>4</th>\n",
       "      <th>5</th>\n",
       "      <th>6</th>\n",
       "      <th>7</th>\n",
       "      <th>8</th>\n",
       "      <th>9</th>\n",
       "      <th>...</th>\n",
       "      <th>18</th>\n",
       "      <th>19</th>\n",
       "      <th>20</th>\n",
       "      <th>21</th>\n",
       "      <th>22</th>\n",
       "      <th>23</th>\n",
       "      <th>24</th>\n",
       "      <th>25</th>\n",
       "      <th>26</th>\n",
       "      <th>27</th>\n",
       "    </tr>\n",
       "  </thead>\n",
       "  <tbody>\n",
       "    <tr>\n",
       "      <th>209</th>\n",
       "      <td>3</td>\n",
       "      <td>178936091</td>\n",
       "      <td>G</td>\n",
       "      <td>A</td>\n",
       "      <td>rs104886003</td>\n",
       "      <td>missense_variant</td>\n",
       "      <td>MODERATE</td>\n",
       "      <td>MISSENSE</td>\n",
       "      <td>Gag/Aag</td>\n",
       "      <td>p.Glu545Lys/c.1633G&gt;A</td>\n",
       "      <td>...</td>\n",
       "      <td>na</td>\n",
       "      <td>PASS</td>\n",
       "      <td>0</td>\n",
       "      <td>51</td>\n",
       "      <td>79</td>\n",
       "      <td>146</td>\n",
       "      <td>115</td>\n",
       "      <td>203</td>\n",
       "      <td>3_178936091_G_A</td>\n",
       "      <td>HTMCP-03-06-02001</td>\n",
       "    </tr>\n",
       "    <tr>\n",
       "      <th>210</th>\n",
       "      <td>3</td>\n",
       "      <td>178952117</td>\n",
       "      <td>A</td>\n",
       "      <td>T</td>\n",
       "      <td>na</td>\n",
       "      <td>missense_variant</td>\n",
       "      <td>MODERATE</td>\n",
       "      <td>MISSENSE</td>\n",
       "      <td>Atc/Ttc</td>\n",
       "      <td>p.Ile1058Phe/c.3172A&gt;T</td>\n",
       "      <td>...</td>\n",
       "      <td>na</td>\n",
       "      <td>PASS</td>\n",
       "      <td>0</td>\n",
       "      <td>45</td>\n",
       "      <td>72</td>\n",
       "      <td>147</td>\n",
       "      <td>200</td>\n",
       "      <td>358</td>\n",
       "      <td>3_178952117_A_T</td>\n",
       "      <td>HTMCP-03-06-02001</td>\n",
       "    </tr>\n",
       "    <tr>\n",
       "      <th>48</th>\n",
       "      <td>12</td>\n",
       "      <td>49428059</td>\n",
       "      <td>C</td>\n",
       "      <td>A</td>\n",
       "      <td>na</td>\n",
       "      <td>stop_gained</td>\n",
       "      <td>HIGH</td>\n",
       "      <td>NONSENSE</td>\n",
       "      <td>Gag/Tag</td>\n",
       "      <td>p.Glu3511*/c.10531G&gt;T</td>\n",
       "      <td>...</td>\n",
       "      <td>na</td>\n",
       "      <td>PASS</td>\n",
       "      <td>1</td>\n",
       "      <td>42</td>\n",
       "      <td>19</td>\n",
       "      <td>7</td>\n",
       "      <td>18</td>\n",
       "      <td>4</td>\n",
       "      <td>12_49428059_C_A</td>\n",
       "      <td>HTMCP-03-06-02002</td>\n",
       "    </tr>\n",
       "    <tr>\n",
       "      <th>54</th>\n",
       "      <td>13</td>\n",
       "      <td>20279879</td>\n",
       "      <td>T</td>\n",
       "      <td>C</td>\n",
       "      <td>rs200516102</td>\n",
       "      <td>missense_variant</td>\n",
       "      <td>MODERATE</td>\n",
       "      <td>MISSENSE</td>\n",
       "      <td>Atg/Gtg</td>\n",
       "      <td>p.Met437Val/c.1309A&gt;G</td>\n",
       "      <td>...</td>\n",
       "      <td>na</td>\n",
       "      <td>PASS</td>\n",
       "      <td>0</td>\n",
       "      <td>30</td>\n",
       "      <td>11</td>\n",
       "      <td>76</td>\n",
       "      <td>0</td>\n",
       "      <td>317</td>\n",
       "      <td>13_20279879_T_C</td>\n",
       "      <td>HTMCP-03-06-02002</td>\n",
       "    </tr>\n",
       "    <tr>\n",
       "      <th>156</th>\n",
       "      <td>3</td>\n",
       "      <td>178936091</td>\n",
       "      <td>G</td>\n",
       "      <td>A</td>\n",
       "      <td>rs104886003</td>\n",
       "      <td>missense_variant</td>\n",
       "      <td>MODERATE</td>\n",
       "      <td>MISSENSE</td>\n",
       "      <td>Gag/Aag</td>\n",
       "      <td>p.Glu545Lys/c.1633G&gt;A</td>\n",
       "      <td>...</td>\n",
       "      <td>na</td>\n",
       "      <td>PASS</td>\n",
       "      <td>0</td>\n",
       "      <td>58</td>\n",
       "      <td>226</td>\n",
       "      <td>53</td>\n",
       "      <td>258</td>\n",
       "      <td>44</td>\n",
       "      <td>3_178936091_G_A</td>\n",
       "      <td>HTMCP-03-06-02002</td>\n",
       "    </tr>\n",
       "  </tbody>\n",
       "</table>\n",
       "<p>5 rows × 28 columns</p>\n",
       "</div>"
      ],
      "text/plain": [
       "     0          1  2  3            4                 5         6         7   \\\n",
       "209   3  178936091  G  A  rs104886003  missense_variant  MODERATE  MISSENSE   \n",
       "210   3  178952117  A  T           na  missense_variant  MODERATE  MISSENSE   \n",
       "48   12   49428059  C  A           na       stop_gained      HIGH  NONSENSE   \n",
       "54   13   20279879  T  C  rs200516102  missense_variant  MODERATE  MISSENSE   \n",
       "156   3  178936091  G  A  rs104886003  missense_variant  MODERATE  MISSENSE   \n",
       "\n",
       "          8                       9   ...  18    19 20  21   22   23   24  \\\n",
       "209  Gag/Aag   p.Glu545Lys/c.1633G>A  ...  na  PASS  0  51   79  146  115   \n",
       "210  Atc/Ttc  p.Ile1058Phe/c.3172A>T  ...  na  PASS  0  45   72  147  200   \n",
       "48   Gag/Tag   p.Glu3511*/c.10531G>T  ...  na  PASS  1  42   19    7   18   \n",
       "54   Atg/Gtg   p.Met437Val/c.1309A>G  ...  na  PASS  0  30   11   76    0   \n",
       "156  Gag/Aag   p.Glu545Lys/c.1633G>A  ...  na  PASS  0  58  226   53  258   \n",
       "\n",
       "      25               26                 27  \n",
       "209  203  3_178936091_G_A  HTMCP-03-06-02001  \n",
       "210  358  3_178952117_A_T  HTMCP-03-06-02001  \n",
       "48     4  12_49428059_C_A  HTMCP-03-06-02002  \n",
       "54   317  13_20279879_T_C  HTMCP-03-06-02002  \n",
       "156   44  3_178936091_G_A  HTMCP-03-06-02002  \n",
       "\n",
       "[5 rows x 28 columns]"
      ]
     },
     "execution_count": 139,
     "metadata": {},
     "output_type": "execute_result"
    }
   ],
   "source": [
    "dfm.head()"
   ]
  },
  {
   "cell_type": "code",
   "execution_count": 145,
   "metadata": {},
   "outputs": [],
   "source": [
    "dfm = dfm[[0,1,2,3, 20,21,22,23,24,25, 26, 27]]"
   ]
  },
  {
   "cell_type": "markdown",
   "metadata": {},
   "source": [
    "# SMGs mutations "
   ]
  },
  {
   "cell_type": "code",
   "execution_count": 14,
   "metadata": {},
   "outputs": [
    {
     "data": {
      "text/plain": [
       "['PIK3CA',\n",
       " 'MAPK1',\n",
       " 'CASP8',\n",
       " 'FBXW7',\n",
       " 'MLL2',\n",
       " 'ZC3H6',\n",
       " 'PCDHGA12',\n",
       " 'FAT1',\n",
       " 'ZNF750',\n",
       " 'SLC35G5',\n",
       " 'PCDHA9',\n",
       " 'PSPC1']"
      ]
     },
     "execution_count": 14,
     "metadata": {},
     "output_type": "execute_result"
    }
   ],
   "source": [
    "f = '/projects/trans_scratch/validations/workspace/szong/Cervical/mutsig2cv/118_patients/smgs_reviewed.txt'\n",
    "smgs = pd.read_csv(f, header=None)[0].tolist()\n",
    "smgs"
   ]
  },
  {
   "cell_type": "code",
   "execution_count": 117,
   "metadata": {},
   "outputs": [
    {
     "data": {
      "text/html": [
       "<div>\n",
       "<style scoped>\n",
       "    .dataframe tbody tr th:only-of-type {\n",
       "        vertical-align: middle;\n",
       "    }\n",
       "\n",
       "    .dataframe tbody tr th {\n",
       "        vertical-align: top;\n",
       "    }\n",
       "\n",
       "    .dataframe thead th {\n",
       "        text-align: right;\n",
       "    }\n",
       "</style>\n",
       "<table border=\"1\" class=\"dataframe\">\n",
       "  <thead>\n",
       "    <tr style=\"text-align: right;\">\n",
       "      <th></th>\n",
       "      <th>chr</th>\n",
       "      <th>pos</th>\n",
       "      <th>ref</th>\n",
       "      <th>alt</th>\n",
       "      <th>patient</th>\n",
       "      <th>impact</th>\n",
       "      <th>impact_type</th>\n",
       "      <th>type</th>\n",
       "      <th>AA_change</th>\n",
       "      <th>gene</th>\n",
       "      <th>transcript</th>\n",
       "    </tr>\n",
       "  </thead>\n",
       "  <tbody>\n",
       "    <tr>\n",
       "      <th>0</th>\n",
       "      <td>1</td>\n",
       "      <td>2706109</td>\n",
       "      <td>C</td>\n",
       "      <td>G</td>\n",
       "      <td>HTMCP-03-06-02001</td>\n",
       "      <td>SYNONYMOUS_CODING</td>\n",
       "      <td>LOW</td>\n",
       "      <td>SILENT</td>\n",
       "      <td>R16</td>\n",
       "      <td>TTC34</td>\n",
       "      <td>ENST00000401095</td>\n",
       "    </tr>\n",
       "    <tr>\n",
       "      <th>1</th>\n",
       "      <td>1</td>\n",
       "      <td>2706109</td>\n",
       "      <td>C</td>\n",
       "      <td>G</td>\n",
       "      <td>HTMCP-03-06-02001</td>\n",
       "      <td>SYNONYMOUS_CODING</td>\n",
       "      <td>LOW</td>\n",
       "      <td>SILENT</td>\n",
       "      <td>R16</td>\n",
       "      <td>TTC34</td>\n",
       "      <td>ENST00000574621</td>\n",
       "    </tr>\n",
       "  </tbody>\n",
       "</table>\n",
       "</div>"
      ],
      "text/plain": [
       "  chr      pos ref alt            patient             impact impact_type  \\\n",
       "0   1  2706109   C   G  HTMCP-03-06-02001  SYNONYMOUS_CODING         LOW   \n",
       "1   1  2706109   C   G  HTMCP-03-06-02001  SYNONYMOUS_CODING         LOW   \n",
       "\n",
       "     type AA_change   gene       transcript  \n",
       "0  SILENT       R16  TTC34  ENST00000401095  \n",
       "1  SILENT       R16  TTC34  ENST00000574621  "
      ]
     },
     "execution_count": 117,
     "metadata": {},
     "output_type": "execute_result"
    }
   ],
   "source": [
    "# f2 = '/projects/trans_scratch/validations/workspace/szong/Cervical/mutsig2cv/118_patients.maf'\n",
    "f2 = '/projects/trans_scratch/validations/workspace/szong/Cervical/variant_bwamem/124_patients_new/strelka_HML_summary_20190527.txt'\n",
    "df2 = pd.read_csv(f2, sep='\\t', low_memory=False)\n",
    "df2.head(2)"
   ]
  },
  {
   "cell_type": "code",
   "execution_count": 118,
   "metadata": {},
   "outputs": [
    {
     "data": {
      "text/plain": [
       "(305, 11)"
      ]
     },
     "execution_count": 118,
     "metadata": {},
     "output_type": "execute_result"
    }
   ],
   "source": [
    "df3 = df2[df2.gene.isin(smgs)]\n",
    "df3.shape"
   ]
  },
  {
   "cell_type": "code",
   "execution_count": 119,
   "metadata": {},
   "outputs": [
    {
     "name": "stdout",
     "output_type": "stream",
     "text": [
      "chr\n",
      "pos\n",
      "ref\n",
      "alt\n",
      "patient\n",
      "impact\n",
      "impact_type\n",
      "type\n",
      "AA_change\n",
      "gene\n",
      "transcript\n"
     ]
    }
   ],
   "source": [
    "for i in df2.columns:\n",
    "    print(i)"
   ]
  },
  {
   "cell_type": "code",
   "execution_count": 121,
   "metadata": {},
   "outputs": [
    {
     "data": {
      "text/html": [
       "<div>\n",
       "<style scoped>\n",
       "    .dataframe tbody tr th:only-of-type {\n",
       "        vertical-align: middle;\n",
       "    }\n",
       "\n",
       "    .dataframe tbody tr th {\n",
       "        vertical-align: top;\n",
       "    }\n",
       "\n",
       "    .dataframe thead th {\n",
       "        text-align: right;\n",
       "    }\n",
       "</style>\n",
       "<table border=\"1\" class=\"dataframe\">\n",
       "  <thead>\n",
       "    <tr style=\"text-align: right;\">\n",
       "      <th></th>\n",
       "      <th>patient</th>\n",
       "      <th>gene</th>\n",
       "      <th>chr</th>\n",
       "      <th>pos</th>\n",
       "      <th>ref</th>\n",
       "      <th>alt</th>\n",
       "    </tr>\n",
       "  </thead>\n",
       "  <tbody>\n",
       "    <tr>\n",
       "      <th>203</th>\n",
       "      <td>HTMCP-03-06-02001</td>\n",
       "      <td>PIK3CA</td>\n",
       "      <td>3</td>\n",
       "      <td>178936091</td>\n",
       "      <td>G</td>\n",
       "      <td>A</td>\n",
       "    </tr>\n",
       "    <tr>\n",
       "      <th>204</th>\n",
       "      <td>HTMCP-03-06-02001</td>\n",
       "      <td>PIK3CA</td>\n",
       "      <td>3</td>\n",
       "      <td>178952117</td>\n",
       "      <td>A</td>\n",
       "      <td>T</td>\n",
       "    </tr>\n",
       "  </tbody>\n",
       "</table>\n",
       "</div>"
      ],
      "text/plain": [
       "               patient    gene chr        pos ref alt\n",
       "203  HTMCP-03-06-02001  PIK3CA   3  178936091   G   A\n",
       "204  HTMCP-03-06-02001  PIK3CA   3  178952117   A   T"
      ]
     },
     "execution_count": 121,
     "metadata": {},
     "output_type": "execute_result"
    }
   ],
   "source": [
    "df3 = df3[['patient','gene', 'chr', 'pos', 'ref', 'alt']]\n",
    "df3.head(2)"
   ]
  },
  {
   "cell_type": "code",
   "execution_count": 36,
   "metadata": {},
   "outputs": [],
   "source": [
    "# df3[~df3.duplicated()]\n",
    "# df3['Tumor_Sample_Barcode'] = df3['Tumor_Sample_Barcode'].apply(lambda x: x.split('_')[0])"
   ]
  },
  {
   "cell_type": "code",
   "execution_count": 37,
   "metadata": {},
   "outputs": [
    {
     "data": {
      "text/html": [
       "<div>\n",
       "<style scoped>\n",
       "    .dataframe tbody tr th:only-of-type {\n",
       "        vertical-align: middle;\n",
       "    }\n",
       "\n",
       "    .dataframe tbody tr th {\n",
       "        vertical-align: top;\n",
       "    }\n",
       "\n",
       "    .dataframe thead th {\n",
       "        text-align: right;\n",
       "    }\n",
       "</style>\n",
       "<table border=\"1\" class=\"dataframe\">\n",
       "  <thead>\n",
       "    <tr style=\"text-align: right;\">\n",
       "      <th></th>\n",
       "      <th>Tumor_Sample_Barcode</th>\n",
       "      <th>Hugo_Symbol</th>\n",
       "      <th>Chromosome</th>\n",
       "      <th>Start_Position</th>\n",
       "      <th>End_Position</th>\n",
       "      <th>Reference_Allele</th>\n",
       "      <th>Tumor_Seq_Allele1</th>\n",
       "      <th>Tumor_Seq_Allele2</th>\n",
       "    </tr>\n",
       "  </thead>\n",
       "  <tbody>\n",
       "    <tr>\n",
       "      <th>5769</th>\n",
       "      <td>HTMCP-03-06-02001</td>\n",
       "      <td>PIK3CA</td>\n",
       "      <td>3</td>\n",
       "      <td>178936091</td>\n",
       "      <td>178936091</td>\n",
       "      <td>G</td>\n",
       "      <td>G</td>\n",
       "      <td>A</td>\n",
       "    </tr>\n",
       "    <tr>\n",
       "      <th>5770</th>\n",
       "      <td>HTMCP-03-06-02001</td>\n",
       "      <td>PIK3CA</td>\n",
       "      <td>3</td>\n",
       "      <td>178936138</td>\n",
       "      <td>178936138</td>\n",
       "      <td>G</td>\n",
       "      <td>G</td>\n",
       "      <td>C</td>\n",
       "    </tr>\n",
       "  </tbody>\n",
       "</table>\n",
       "</div>"
      ],
      "text/plain": [
       "     Tumor_Sample_Barcode Hugo_Symbol Chromosome  Start_Position  \\\n",
       "5769    HTMCP-03-06-02001      PIK3CA          3       178936091   \n",
       "5770    HTMCP-03-06-02001      PIK3CA          3       178936138   \n",
       "\n",
       "      End_Position Reference_Allele Tumor_Seq_Allele1 Tumor_Seq_Allele2  \n",
       "5769     178936091                G                 G                 A  \n",
       "5770     178936138                G                 G                 C  "
      ]
     },
     "execution_count": 37,
     "metadata": {},
     "output_type": "execute_result"
    }
   ],
   "source": [
    "df3.head(2)"
   ]
  },
  {
   "cell_type": "code",
   "execution_count": 123,
   "metadata": {},
   "outputs": [],
   "source": [
    "df3 = df3.astype(str)"
   ]
  },
  {
   "cell_type": "code",
   "execution_count": 124,
   "metadata": {},
   "outputs": [],
   "source": [
    "df3['snv'] = df3[['chr', 'pos', 'ref', 'alt']].apply(lambda x: '_'.join(x), axis=1)"
   ]
  },
  {
   "cell_type": "code",
   "execution_count": 125,
   "metadata": {},
   "outputs": [
    {
     "data": {
      "text/html": [
       "<div>\n",
       "<style scoped>\n",
       "    .dataframe tbody tr th:only-of-type {\n",
       "        vertical-align: middle;\n",
       "    }\n",
       "\n",
       "    .dataframe tbody tr th {\n",
       "        vertical-align: top;\n",
       "    }\n",
       "\n",
       "    .dataframe thead th {\n",
       "        text-align: right;\n",
       "    }\n",
       "</style>\n",
       "<table border=\"1\" class=\"dataframe\">\n",
       "  <thead>\n",
       "    <tr style=\"text-align: right;\">\n",
       "      <th></th>\n",
       "      <th>patient</th>\n",
       "      <th>gene</th>\n",
       "      <th>chr</th>\n",
       "      <th>pos</th>\n",
       "      <th>ref</th>\n",
       "      <th>alt</th>\n",
       "      <th>snv</th>\n",
       "    </tr>\n",
       "  </thead>\n",
       "  <tbody>\n",
       "    <tr>\n",
       "      <th>203</th>\n",
       "      <td>HTMCP-03-06-02001</td>\n",
       "      <td>PIK3CA</td>\n",
       "      <td>3</td>\n",
       "      <td>178936091</td>\n",
       "      <td>G</td>\n",
       "      <td>A</td>\n",
       "      <td>3_178936091_G_A</td>\n",
       "    </tr>\n",
       "    <tr>\n",
       "      <th>204</th>\n",
       "      <td>HTMCP-03-06-02001</td>\n",
       "      <td>PIK3CA</td>\n",
       "      <td>3</td>\n",
       "      <td>178952117</td>\n",
       "      <td>A</td>\n",
       "      <td>T</td>\n",
       "      <td>3_178952117_A_T</td>\n",
       "    </tr>\n",
       "    <tr>\n",
       "      <th>972</th>\n",
       "      <td>HTMCP-03-06-02001</td>\n",
       "      <td>CASP8</td>\n",
       "      <td>2</td>\n",
       "      <td>202149727</td>\n",
       "      <td>G</td>\n",
       "      <td>GC</td>\n",
       "      <td>2_202149727_G_GC</td>\n",
       "    </tr>\n",
       "    <tr>\n",
       "      <th>973</th>\n",
       "      <td>HTMCP-03-06-02001</td>\n",
       "      <td>CASP8</td>\n",
       "      <td>2</td>\n",
       "      <td>202149727</td>\n",
       "      <td>G</td>\n",
       "      <td>GC</td>\n",
       "      <td>2_202149727_G_GC</td>\n",
       "    </tr>\n",
       "    <tr>\n",
       "      <th>974</th>\n",
       "      <td>HTMCP-03-06-02001</td>\n",
       "      <td>CASP8</td>\n",
       "      <td>2</td>\n",
       "      <td>202149727</td>\n",
       "      <td>G</td>\n",
       "      <td>GC</td>\n",
       "      <td>2_202149727_G_GC</td>\n",
       "    </tr>\n",
       "  </tbody>\n",
       "</table>\n",
       "</div>"
      ],
      "text/plain": [
       "               patient    gene chr        pos ref alt               snv\n",
       "203  HTMCP-03-06-02001  PIK3CA   3  178936091   G   A   3_178936091_G_A\n",
       "204  HTMCP-03-06-02001  PIK3CA   3  178952117   A   T   3_178952117_A_T\n",
       "972  HTMCP-03-06-02001   CASP8   2  202149727   G  GC  2_202149727_G_GC\n",
       "973  HTMCP-03-06-02001   CASP8   2  202149727   G  GC  2_202149727_G_GC\n",
       "974  HTMCP-03-06-02001   CASP8   2  202149727   G  GC  2_202149727_G_GC"
      ]
     },
     "execution_count": 125,
     "metadata": {},
     "output_type": "execute_result"
    }
   ],
   "source": [
    "df3.head()"
   ]
  },
  {
   "cell_type": "code",
   "execution_count": 134,
   "metadata": {},
   "outputs": [],
   "source": [
    "variants = df3.snv.unique()\n",
    "patients = df3.patient.unique()"
   ]
  },
  {
   "cell_type": "code",
   "execution_count": 128,
   "metadata": {},
   "outputs": [
    {
     "data": {
      "text/plain": [
       "131"
      ]
     },
     "execution_count": 128,
     "metadata": {},
     "output_type": "execute_result"
    },
    {
     "data": {
      "text/plain": [
       "80"
      ]
     },
     "execution_count": 128,
     "metadata": {},
     "output_type": "execute_result"
    }
   ],
   "source": [
    "len(variants)\n",
    "len(patients)"
   ]
  },
  {
   "cell_type": "code",
   "execution_count": 148,
   "metadata": {},
   "outputs": [
    {
     "data": {
      "text/html": [
       "<div>\n",
       "<style scoped>\n",
       "    .dataframe tbody tr th:only-of-type {\n",
       "        vertical-align: middle;\n",
       "    }\n",
       "\n",
       "    .dataframe tbody tr th {\n",
       "        vertical-align: top;\n",
       "    }\n",
       "\n",
       "    .dataframe thead th {\n",
       "        text-align: right;\n",
       "    }\n",
       "</style>\n",
       "<table border=\"1\" class=\"dataframe\">\n",
       "  <thead>\n",
       "    <tr style=\"text-align: right;\">\n",
       "      <th></th>\n",
       "      <th>0</th>\n",
       "      <th>1</th>\n",
       "      <th>2</th>\n",
       "      <th>3</th>\n",
       "      <th>20</th>\n",
       "      <th>21</th>\n",
       "      <th>22</th>\n",
       "      <th>23</th>\n",
       "      <th>24</th>\n",
       "      <th>25</th>\n",
       "      <th>26</th>\n",
       "      <th>27</th>\n",
       "    </tr>\n",
       "  </thead>\n",
       "  <tbody>\n",
       "    <tr>\n",
       "      <th>209</th>\n",
       "      <td>3</td>\n",
       "      <td>178936091</td>\n",
       "      <td>G</td>\n",
       "      <td>A</td>\n",
       "      <td>0</td>\n",
       "      <td>51</td>\n",
       "      <td>79</td>\n",
       "      <td>146</td>\n",
       "      <td>115</td>\n",
       "      <td>203</td>\n",
       "      <td>3_178936091_G_A</td>\n",
       "      <td>HTMCP-03-06-02001</td>\n",
       "    </tr>\n",
       "    <tr>\n",
       "      <th>210</th>\n",
       "      <td>3</td>\n",
       "      <td>178952117</td>\n",
       "      <td>A</td>\n",
       "      <td>T</td>\n",
       "      <td>0</td>\n",
       "      <td>45</td>\n",
       "      <td>72</td>\n",
       "      <td>147</td>\n",
       "      <td>200</td>\n",
       "      <td>358</td>\n",
       "      <td>3_178952117_A_T</td>\n",
       "      <td>HTMCP-03-06-02001</td>\n",
       "    </tr>\n",
       "  </tbody>\n",
       "</table>\n",
       "</div>"
      ],
      "text/plain": [
       "    0          1  2  3  20  21  22   23   24   25               26  \\\n",
       "209  3  178936091  G  A  0  51  79  146  115  203  3_178936091_G_A   \n",
       "210  3  178952117  A  T  0  45  72  147  200  358  3_178952117_A_T   \n",
       "\n",
       "                    27  \n",
       "209  HTMCP-03-06-02001  \n",
       "210  HTMCP-03-06-02001  "
      ]
     },
     "execution_count": 148,
     "metadata": {},
     "output_type": "execute_result"
    }
   ],
   "source": [
    "dfm.head(2)"
   ]
  },
  {
   "cell_type": "code",
   "execution_count": 158,
   "metadata": {},
   "outputs": [],
   "source": [
    "df4 = pd.merge(df3, dfm, left_on=['patient', 'snv'], right_on=[27, 26], how='left')\n"
   ]
  },
  {
   "cell_type": "code",
   "execution_count": 159,
   "metadata": {},
   "outputs": [],
   "source": [
    "df4 = df4[~df4.duplicated()]"
   ]
  },
  {
   "cell_type": "code",
   "execution_count": 160,
   "metadata": {},
   "outputs": [
    {
     "data": {
      "text/plain": [
       "(172, 19)"
      ]
     },
     "execution_count": 160,
     "metadata": {},
     "output_type": "execute_result"
    }
   ],
   "source": [
    "df4.shape"
   ]
  },
  {
   "cell_type": "code",
   "execution_count": 161,
   "metadata": {},
   "outputs": [],
   "source": [
    "of = '/projects/trans_scratch/validations/workspace/szong/Cervical/variant_bwamem/124_patients_new/smgs_mutated_allele_expressed.txt'\n",
    "df4.to_csv(of, sep='\\t')"
   ]
  },
  {
   "cell_type": "code",
   "execution_count": 162,
   "metadata": {},
   "outputs": [
    {
     "data": {
      "text/plain": [
       "(172, 19)"
      ]
     },
     "execution_count": 162,
     "metadata": {},
     "output_type": "execute_result"
    }
   ],
   "source": [
    "df4.shape"
   ]
  },
  {
   "cell_type": "code",
   "execution_count": null,
   "metadata": {},
   "outputs": [],
   "source": []
  }
 ],
 "metadata": {
  "kernelspec": {
   "display_name": "Python 3",
   "language": "python",
   "name": "python3"
  },
  "language_info": {
   "codemirror_mode": {
    "name": "ipython",
    "version": 3
   },
   "file_extension": ".py",
   "mimetype": "text/x-python",
   "name": "python",
   "nbconvert_exporter": "python",
   "pygments_lexer": "ipython3",
   "version": "3.7.3"
  }
 },
 "nbformat": 4,
 "nbformat_minor": 2
}
