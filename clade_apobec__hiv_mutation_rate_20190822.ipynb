{
 "cells": [
  {
   "cell_type": "code",
   "execution_count": 1,
   "metadata": {},
   "outputs": [],
   "source": [
    "import csv\n",
    "import re\n",
    "import matplotlib\n",
    "import seaborn\n",
    "import numpy as np\n",
    "import pandas as pd\n",
    "import seaborn as sns\n",
    "import scipy.stats as stats\n",
    "from tqdm import tqdm\n",
    "import matplotlib.pyplot as plt\n",
    "from matplotlib import style, colors\n",
    "# import matplotlib.patches as patches\n",
    "from matplotlib.patches import Patch\n",
    "from matplotlib.lines import Line2D\n",
    "from matplotlib import gridspec\n",
    "from scipy.cluster.hierarchy import dendrogram, linkage, fcluster, fclusterdata, leaves_list\n",
    "from scipy.spatial.distance import pdist\n",
    "import numpy as np\n",
    "from matplotlib.patches import Polygon\n",
    "from matplotlib.collections import PatchCollection\n",
    "\n",
    "\n",
    "# matplotlib.style.use('ggplot')\n",
    "%matplotlib inline\n",
    "matplotlib.rcParams['figure.figsize'] = (8, 6)\n",
    "from IPython.core.interactiveshell import InteractiveShell\n",
    "InteractiveShell.ast_node_interactivity = \"all\"\n",
    "\n",
    "# to enable jupyter ipython widgets run following line at command line\n",
    "# jupyter nbextension enable --py widgetsnbextension\n",
    "# to import ipywidgets in jupyter notebook\n",
    "import ipywidgets as widgets\n",
    "from ipywidgets import interact, interact_manual\n"
   ]
  },
  {
   "cell_type": "markdown",
   "metadata": {},
   "source": [
    "# constants"
   ]
  },
  {
   "cell_type": "code",
   "execution_count": 2,
   "metadata": {},
   "outputs": [],
   "source": [
    "# master_table = '/projects/trans_scratch/validations/workspace/szong/Cervical/HTMCP_Cervical_Master_Patient_Table_V2_20190611.xls'\n",
    "master_table = '/projects/trans_scratch/validations/workspace/szong/Cervical/HTMCP_Cervical_Master_Patient_Table_V6_20190813.xlsx'\n",
    "mut = '/projects/trans_scratch/validations/workspace/szong/Cervical/variant_bwamem/124_patients_new/118_patients_strelka_snvs_indels_counts_20190515.txt'\n",
    "mut = '/projects/trans_scratch/validations/workspace/szong/Cervical/variant_bwamem/124_patients_new/118_patients_strelka_snvs_indels_counts_20190617.txt'"
   ]
  },
  {
   "cell_type": "code",
   "execution_count": 3,
   "metadata": {},
   "outputs": [
    {
     "data": {
      "text/html": [
       "<div>\n",
       "<style scoped>\n",
       "    .dataframe tbody tr th:only-of-type {\n",
       "        vertical-align: middle;\n",
       "    }\n",
       "\n",
       "    .dataframe tbody tr th {\n",
       "        vertical-align: top;\n",
       "    }\n",
       "\n",
       "    .dataframe thead th {\n",
       "        text-align: right;\n",
       "    }\n",
       "</style>\n",
       "<table border=\"1\" class=\"dataframe\">\n",
       "  <thead>\n",
       "    <tr style=\"text-align: right;\">\n",
       "      <th></th>\n",
       "      <th>strelka_mutations</th>\n",
       "    </tr>\n",
       "    <tr>\n",
       "      <th>patient</th>\n",
       "      <th></th>\n",
       "    </tr>\n",
       "  </thead>\n",
       "  <tbody>\n",
       "    <tr>\n",
       "      <td>HTMCP-03-06-02001</td>\n",
       "      <td>26974</td>\n",
       "    </tr>\n",
       "    <tr>\n",
       "      <td>HTMCP-03-06-02002</td>\n",
       "      <td>16661</td>\n",
       "    </tr>\n",
       "  </tbody>\n",
       "</table>\n",
       "</div>"
      ],
      "text/plain": [
       "                   strelka_mutations\n",
       "patient                             \n",
       "HTMCP-03-06-02001              26974\n",
       "HTMCP-03-06-02002              16661"
      ]
     },
     "execution_count": 3,
     "metadata": {},
     "output_type": "execute_result"
    }
   ],
   "source": [
    "muts = pd.read_csv(mut, sep='\\t', usecols=['patient', 'strelka_mutations'])\n",
    "muts.set_index('patient', inplace=True)\n",
    "muts.head(2)"
   ]
  },
  {
   "cell_type": "code",
   "execution_count": 4,
   "metadata": {},
   "outputs": [
    {
     "data": {
      "text/html": [
       "<div>\n",
       "<style scoped>\n",
       "    .dataframe tbody tr th:only-of-type {\n",
       "        vertical-align: middle;\n",
       "    }\n",
       "\n",
       "    .dataframe tbody tr th {\n",
       "        vertical-align: top;\n",
       "    }\n",
       "\n",
       "    .dataframe thead th {\n",
       "        text-align: right;\n",
       "    }\n",
       "</style>\n",
       "<table border=\"1\" class=\"dataframe\">\n",
       "  <thead>\n",
       "    <tr style=\"text-align: right;\">\n",
       "      <th></th>\n",
       "      <th>Cohort</th>\n",
       "      <th>HIV status</th>\n",
       "      <th>HAART therapy prior to dx</th>\n",
       "      <th>Stage</th>\n",
       "      <th>Grade</th>\n",
       "      <th>Histology from clinical data</th>\n",
       "      <th>Final histology</th>\n",
       "      <th>Pathology comment</th>\n",
       "      <th>Age</th>\n",
       "      <th>CD4 counts at diagnosis</th>\n",
       "      <th>...</th>\n",
       "      <th>Signature13_APOBEC (nnls)</th>\n",
       "      <th>Max APOBEC score</th>\n",
       "      <th>CD8 T-cells</th>\n",
       "      <th>CD4 T-cells</th>\n",
       "      <th>T-cell content</th>\n",
       "      <th>Cibersort p-value</th>\n",
       "      <th>DNA methylation clusters</th>\n",
       "      <th>RNA-Seq clusters</th>\n",
       "      <th>HRD score</th>\n",
       "      <th>Tumour content</th>\n",
       "    </tr>\n",
       "    <tr>\n",
       "      <th>Patient</th>\n",
       "      <th></th>\n",
       "      <th></th>\n",
       "      <th></th>\n",
       "      <th></th>\n",
       "      <th></th>\n",
       "      <th></th>\n",
       "      <th></th>\n",
       "      <th></th>\n",
       "      <th></th>\n",
       "      <th></th>\n",
       "      <th></th>\n",
       "      <th></th>\n",
       "      <th></th>\n",
       "      <th></th>\n",
       "      <th></th>\n",
       "      <th></th>\n",
       "      <th></th>\n",
       "      <th></th>\n",
       "      <th></th>\n",
       "      <th></th>\n",
       "      <th></th>\n",
       "    </tr>\n",
       "  </thead>\n",
       "  <tbody>\n",
       "    <tr>\n",
       "      <td>HTMCP-03-06-02001</td>\n",
       "      <td>Discovery</td>\n",
       "      <td>Positive</td>\n",
       "      <td>YES</td>\n",
       "      <td>Stage IIB</td>\n",
       "      <td>G2</td>\n",
       "      <td>Squamous Cell Carcinoma; Non-Keratinizing</td>\n",
       "      <td>Squamous</td>\n",
       "      <td>NaN</td>\n",
       "      <td>56.0</td>\n",
       "      <td>337.0</td>\n",
       "      <td>...</td>\n",
       "      <td>0.236</td>\n",
       "      <td>0.316</td>\n",
       "      <td>0.043</td>\n",
       "      <td>0.229</td>\n",
       "      <td>0.272</td>\n",
       "      <td>0.0</td>\n",
       "      <td>NaN</td>\n",
       "      <td>NaN</td>\n",
       "      <td>6.0</td>\n",
       "      <td>55.0</td>\n",
       "    </tr>\n",
       "    <tr>\n",
       "      <td>HTMCP-03-06-02002</td>\n",
       "      <td>Discovery</td>\n",
       "      <td>Negative</td>\n",
       "      <td>NaN</td>\n",
       "      <td>Stage IB1</td>\n",
       "      <td>G3</td>\n",
       "      <td>Squamous Cell Carcinoma; Non-Keratinizing</td>\n",
       "      <td>Squamous</td>\n",
       "      <td>NaN</td>\n",
       "      <td>62.0</td>\n",
       "      <td>NaN</td>\n",
       "      <td>...</td>\n",
       "      <td>0.133</td>\n",
       "      <td>0.260</td>\n",
       "      <td>0.217</td>\n",
       "      <td>0.322</td>\n",
       "      <td>0.648</td>\n",
       "      <td>0.2</td>\n",
       "      <td>NaN</td>\n",
       "      <td>NaN</td>\n",
       "      <td>10.0</td>\n",
       "      <td>70.0</td>\n",
       "    </tr>\n",
       "  </tbody>\n",
       "</table>\n",
       "<p>2 rows × 25 columns</p>\n",
       "</div>"
      ],
      "text/plain": [
       "                      Cohort HIV status HAART therapy prior to dx      Stage  \\\n",
       "Patient                                                                        \n",
       "HTMCP-03-06-02001  Discovery   Positive                       YES  Stage IIB   \n",
       "HTMCP-03-06-02002  Discovery   Negative                       NaN  Stage IB1   \n",
       "\n",
       "                  Grade               Histology from clinical data  \\\n",
       "Patient                                                              \n",
       "HTMCP-03-06-02001    G2  Squamous Cell Carcinoma; Non-Keratinizing   \n",
       "HTMCP-03-06-02002    G3  Squamous Cell Carcinoma; Non-Keratinizing   \n",
       "\n",
       "                  Final histology Pathology comment   Age  \\\n",
       "Patient                                                     \n",
       "HTMCP-03-06-02001        Squamous               NaN  56.0   \n",
       "HTMCP-03-06-02002        Squamous               NaN  62.0   \n",
       "\n",
       "                   CD4 counts at diagnosis  ... Signature13_APOBEC (nnls)  \\\n",
       "Patient                                     ...                             \n",
       "HTMCP-03-06-02001                    337.0  ...                     0.236   \n",
       "HTMCP-03-06-02002                      NaN  ...                     0.133   \n",
       "\n",
       "                  Max APOBEC score CD8 T-cells  CD4 T-cells  T-cell content  \\\n",
       "Patient                                                                       \n",
       "HTMCP-03-06-02001            0.316       0.043        0.229           0.272   \n",
       "HTMCP-03-06-02002            0.260       0.217        0.322           0.648   \n",
       "\n",
       "                   Cibersort p-value  DNA methylation clusters  \\\n",
       "Patient                                                          \n",
       "HTMCP-03-06-02001                0.0                       NaN   \n",
       "HTMCP-03-06-02002                0.2                       NaN   \n",
       "\n",
       "                   RNA-Seq clusters  HRD score  Tumour content  \n",
       "Patient                                                         \n",
       "HTMCP-03-06-02001               NaN        6.0            55.0  \n",
       "HTMCP-03-06-02002               NaN       10.0            70.0  \n",
       "\n",
       "[2 rows x 25 columns]"
      ]
     },
     "execution_count": 4,
     "metadata": {},
     "output_type": "execute_result"
    },
    {
     "data": {
      "text/plain": [
       "(118, 25)"
      ]
     },
     "execution_count": 4,
     "metadata": {},
     "output_type": "execute_result"
    },
    {
     "data": {
      "text/plain": [
       "array(['Squamous', 'Neuroendocrine', 'Adenocarcinoma', 'Adenosquamous',\n",
       "       'Undifferentiated'], dtype=object)"
      ]
     },
     "execution_count": 4,
     "metadata": {},
     "output_type": "execute_result"
    },
    {
     "data": {
      "text/plain": [
       "array(['G2', 'G3', 'G1', nan], dtype=object)"
      ]
     },
     "execution_count": 4,
     "metadata": {},
     "output_type": "execute_result"
    },
    {
     "data": {
      "text/plain": [
       "array(['Stage IIB', 'Stage IB1', 'Stage IB2', 'Stage IIIB', 'Stage IIA2',\n",
       "       'Stage IIIA', 'Stage IVB', 'Stage IVA', 'Stage IIA1', 'Stage IIA',\n",
       "       nan], dtype=object)"
      ]
     },
     "execution_count": 4,
     "metadata": {},
     "output_type": "execute_result"
    }
   ],
   "source": [
    "\n",
    "master = pd.read_excel(master_table, sep='\\t', index_col='Patient')\n",
    "master = master[master.Cohort == 'Discovery']\n",
    "master.head(2)\n",
    "master.shape\n",
    "master['Final histology'].unique()\n",
    "master['Grade'].unique()\n",
    "master['Stage'].unique()\n",
    "# master[''].unique()"
   ]
  },
  {
   "cell_type": "code",
   "execution_count": 33,
   "metadata": {},
   "outputs": [
    {
     "data": {
      "text/plain": [
       "Index(['Cohort', 'HIV status', 'HAART therapy prior to dx', 'Stage', 'Grade',\n",
       "       'Histology from clinical data', 'Final histology', 'Pathology comment',\n",
       "       'Age', 'CD4 counts at diagnosis', 'HPV type', 'Integration',\n",
       "       'HPV clade', 'Coding mutation rate (Mb)', 'Signature2_APOBEC (nnls)',\n",
       "       'Signature13_APOBEC (nnls)', 'Max APOBEC score', 'CD8 T-cells',\n",
       "       'CD4 T-cells', 'T-cell content', 'Cibersort p-value',\n",
       "       'DNA methylation clusters', 'RNA-Seq clusters', 'HRD score',\n",
       "       'Tumour content'],\n",
       "      dtype='object')"
      ]
     },
     "execution_count": 33,
     "metadata": {},
     "output_type": "execute_result"
    }
   ],
   "source": [
    "master.columns"
   ]
  },
  {
   "cell_type": "code",
   "execution_count": 35,
   "metadata": {},
   "outputs": [
    {
     "data": {
      "text/plain": [
       "Patient\n",
       "HTMCP-03-06-02001     3.151715\n",
       "HTMCP-03-06-02002     2.172708\n",
       "HTMCP-03-06-02003     0.841602\n",
       "HTMCP-03-06-02006     2.559158\n",
       "HTMCP-03-06-02008     0.833015\n",
       "HTMCP-03-06-02012     5.169843\n",
       "HTMCP-03-06-02013     1.073472\n",
       "HTMCP-03-06-02020     2.301525\n",
       "HTMCP-03-06-02036     0.755725\n",
       "HTMCP-03-06-02037     1.279579\n",
       "HTMCP-03-06-02040     1.829197\n",
       "HTMCP-03-06-02042     3.881676\n",
       "HTMCP-03-06-02046     0.429389\n",
       "HTMCP-03-06-02047     1.116411\n",
       "HTMCP-03-06-02054     2.155533\n",
       "HTMCP-03-06-02057     0.661259\n",
       "HTMCP-03-06-02058    17.699413\n",
       "HTMCP-03-06-02063    23.041012\n",
       "HTMCP-03-06-02068     5.470415\n",
       "HTMCP-03-06-02070     1.889311\n",
       "HTMCP-03-06-02071     0.721373\n",
       "HTMCP-03-06-02074     1.614503\n",
       "HTMCP-03-06-02075     4.268126\n",
       "HTMCP-03-06-02076     1.726144\n",
       "HTMCP-03-06-02089     1.975189\n",
       "HTMCP-03-06-02092     1.262404\n",
       "HTMCP-03-06-02097     0.884541\n",
       "HTMCP-03-06-02098     2.395990\n",
       "HTMCP-03-06-02099     0.961831\n",
       "HTMCP-03-06-02103     7.248086\n",
       "                       ...    \n",
       "HTMCP-03-06-02268     2.224235\n",
       "HTMCP-03-06-02320     1.279579\n",
       "HTMCP-03-06-02322     2.181296\n",
       "HTMCP-03-06-02326     4.139310\n",
       "HTMCP-03-06-02328     2.851143\n",
       "HTMCP-03-06-02330     2.378815\n",
       "HTMCP-03-06-02332     2.438929\n",
       "HTMCP-03-06-02333     1.150762\n",
       "HTMCP-03-06-02335     1.193701\n",
       "HTMCP-03-06-02340     1.021946\n",
       "HTMCP-03-06-02341     2.335876\n",
       "HTMCP-03-06-02344     1.262404\n",
       "HTMCP-03-06-02346     1.623090\n",
       "HTMCP-03-06-02354     1.717556\n",
       "HTMCP-03-06-02377     0.807251\n",
       "HTMCP-03-06-02392     1.365457\n",
       "HTMCP-03-06-02393     0.910305\n",
       "HTMCP-03-06-02396    10.374037\n",
       "HTMCP-03-06-02411     2.344464\n",
       "HTMCP-03-06-02414     1.331106\n",
       "HTMCP-03-06-02417     2.155533\n",
       "HTMCP-03-06-02424     1.872136\n",
       "HTMCP-03-06-02427     0.772900\n",
       "HTMCP-03-06-02428     7.059155\n",
       "HTMCP-03-06-02434     0.755725\n",
       "HTMCP-03-06-02435    11.602090\n",
       "HTMCP-03-06-02437     2.318700\n",
       "HTMCP-03-06-02441     4.585874\n",
       "HTMCP-03-06-02442     1.099236\n",
       "HTMCP-03-06-02447     1.288167\n",
       "Name: Coding mutation rate (Mb), Length: 118, dtype: float64"
      ]
     },
     "execution_count": 35,
     "metadata": {},
     "output_type": "execute_result"
    }
   ],
   "source": [
    "master['Coding mutation rate (Mb)']"
   ]
  },
  {
   "cell_type": "code",
   "execution_count": 34,
   "metadata": {},
   "outputs": [
    {
     "data": {
      "text/plain": [
       "(118, 25)"
      ]
     },
     "execution_count": 34,
     "metadata": {},
     "output_type": "execute_result"
    }
   ],
   "source": [
    "master.shape"
   ]
  },
  {
   "cell_type": "markdown",
   "metadata": {},
   "source": [
    "# mutation load HIV+ vs -"
   ]
  },
  {
   "cell_type": "code",
   "execution_count": 5,
   "metadata": {},
   "outputs": [],
   "source": [
    "dfm = pd.merge(master, muts, left_index=True, right_index=True)"
   ]
  },
  {
   "cell_type": "code",
   "execution_count": 6,
   "metadata": {},
   "outputs": [
    {
     "data": {
      "text/html": [
       "<div>\n",
       "<style scoped>\n",
       "    .dataframe tbody tr th:only-of-type {\n",
       "        vertical-align: middle;\n",
       "    }\n",
       "\n",
       "    .dataframe tbody tr th {\n",
       "        vertical-align: top;\n",
       "    }\n",
       "\n",
       "    .dataframe thead th {\n",
       "        text-align: right;\n",
       "    }\n",
       "</style>\n",
       "<table border=\"1\" class=\"dataframe\">\n",
       "  <thead>\n",
       "    <tr style=\"text-align: right;\">\n",
       "      <th></th>\n",
       "      <th>Cohort</th>\n",
       "      <th>HIV status</th>\n",
       "      <th>HAART therapy prior to dx</th>\n",
       "      <th>Stage</th>\n",
       "      <th>Grade</th>\n",
       "      <th>Histology from clinical data</th>\n",
       "      <th>Final histology</th>\n",
       "      <th>Pathology comment</th>\n",
       "      <th>Age</th>\n",
       "      <th>CD4 counts at diagnosis</th>\n",
       "      <th>...</th>\n",
       "      <th>Max APOBEC score</th>\n",
       "      <th>CD8 T-cells</th>\n",
       "      <th>CD4 T-cells</th>\n",
       "      <th>T-cell content</th>\n",
       "      <th>Cibersort p-value</th>\n",
       "      <th>DNA methylation clusters</th>\n",
       "      <th>RNA-Seq clusters</th>\n",
       "      <th>HRD score</th>\n",
       "      <th>Tumour content</th>\n",
       "      <th>strelka_mutations</th>\n",
       "    </tr>\n",
       "  </thead>\n",
       "  <tbody>\n",
       "    <tr>\n",
       "      <td>HTMCP-03-06-02001</td>\n",
       "      <td>Discovery</td>\n",
       "      <td>Positive</td>\n",
       "      <td>YES</td>\n",
       "      <td>Stage IIB</td>\n",
       "      <td>G2</td>\n",
       "      <td>Squamous Cell Carcinoma; Non-Keratinizing</td>\n",
       "      <td>Squamous</td>\n",
       "      <td>NaN</td>\n",
       "      <td>56.0</td>\n",
       "      <td>337.0</td>\n",
       "      <td>...</td>\n",
       "      <td>0.316</td>\n",
       "      <td>0.043</td>\n",
       "      <td>0.229</td>\n",
       "      <td>0.272</td>\n",
       "      <td>0.0</td>\n",
       "      <td>NaN</td>\n",
       "      <td>NaN</td>\n",
       "      <td>6.0</td>\n",
       "      <td>55.0</td>\n",
       "      <td>26974</td>\n",
       "    </tr>\n",
       "    <tr>\n",
       "      <td>HTMCP-03-06-02002</td>\n",
       "      <td>Discovery</td>\n",
       "      <td>Negative</td>\n",
       "      <td>NaN</td>\n",
       "      <td>Stage IB1</td>\n",
       "      <td>G3</td>\n",
       "      <td>Squamous Cell Carcinoma; Non-Keratinizing</td>\n",
       "      <td>Squamous</td>\n",
       "      <td>NaN</td>\n",
       "      <td>62.0</td>\n",
       "      <td>NaN</td>\n",
       "      <td>...</td>\n",
       "      <td>0.260</td>\n",
       "      <td>0.217</td>\n",
       "      <td>0.322</td>\n",
       "      <td>0.648</td>\n",
       "      <td>0.2</td>\n",
       "      <td>NaN</td>\n",
       "      <td>NaN</td>\n",
       "      <td>10.0</td>\n",
       "      <td>70.0</td>\n",
       "      <td>16661</td>\n",
       "    </tr>\n",
       "  </tbody>\n",
       "</table>\n",
       "<p>2 rows × 26 columns</p>\n",
       "</div>"
      ],
      "text/plain": [
       "                      Cohort HIV status HAART therapy prior to dx      Stage  \\\n",
       "HTMCP-03-06-02001  Discovery   Positive                       YES  Stage IIB   \n",
       "HTMCP-03-06-02002  Discovery   Negative                       NaN  Stage IB1   \n",
       "\n",
       "                  Grade               Histology from clinical data  \\\n",
       "HTMCP-03-06-02001    G2  Squamous Cell Carcinoma; Non-Keratinizing   \n",
       "HTMCP-03-06-02002    G3  Squamous Cell Carcinoma; Non-Keratinizing   \n",
       "\n",
       "                  Final histology Pathology comment   Age  \\\n",
       "HTMCP-03-06-02001        Squamous               NaN  56.0   \n",
       "HTMCP-03-06-02002        Squamous               NaN  62.0   \n",
       "\n",
       "                   CD4 counts at diagnosis  ... Max APOBEC score CD8 T-cells  \\\n",
       "HTMCP-03-06-02001                    337.0  ...            0.316       0.043   \n",
       "HTMCP-03-06-02002                      NaN  ...            0.260       0.217   \n",
       "\n",
       "                  CD4 T-cells  T-cell content  Cibersort p-value  \\\n",
       "HTMCP-03-06-02001       0.229           0.272                0.0   \n",
       "HTMCP-03-06-02002       0.322           0.648                0.2   \n",
       "\n",
       "                   DNA methylation clusters  RNA-Seq clusters  HRD score  \\\n",
       "HTMCP-03-06-02001                       NaN               NaN        6.0   \n",
       "HTMCP-03-06-02002                       NaN               NaN       10.0   \n",
       "\n",
       "                   Tumour content  strelka_mutations  \n",
       "HTMCP-03-06-02001            55.0              26974  \n",
       "HTMCP-03-06-02002            70.0              16661  \n",
       "\n",
       "[2 rows x 26 columns]"
      ]
     },
     "execution_count": 6,
     "metadata": {},
     "output_type": "execute_result"
    },
    {
     "data": {
      "text/plain": [
       "(118, 26)"
      ]
     },
     "execution_count": 6,
     "metadata": {},
     "output_type": "execute_result"
    }
   ],
   "source": [
    "dfm.head(2)\n",
    "dfm.shape"
   ]
  },
  {
   "cell_type": "code",
   "execution_count": 7,
   "metadata": {},
   "outputs": [
    {
     "data": {
      "text/html": [
       "<div>\n",
       "<style scoped>\n",
       "    .dataframe tbody tr th:only-of-type {\n",
       "        vertical-align: middle;\n",
       "    }\n",
       "\n",
       "    .dataframe tbody tr th {\n",
       "        vertical-align: top;\n",
       "    }\n",
       "\n",
       "    .dataframe thead th {\n",
       "        text-align: right;\n",
       "    }\n",
       "</style>\n",
       "<table border=\"1\" class=\"dataframe\">\n",
       "  <thead>\n",
       "    <tr style=\"text-align: right;\">\n",
       "      <th></th>\n",
       "      <th>HIV status</th>\n",
       "      <th>strelka_mutations</th>\n",
       "      <th>Coding mutation rate (Mb)</th>\n",
       "    </tr>\n",
       "  </thead>\n",
       "  <tbody>\n",
       "    <tr>\n",
       "      <td>HTMCP-03-06-02001</td>\n",
       "      <td>Positive</td>\n",
       "      <td>26974</td>\n",
       "      <td>3.151715</td>\n",
       "    </tr>\n",
       "    <tr>\n",
       "      <td>HTMCP-03-06-02002</td>\n",
       "      <td>Negative</td>\n",
       "      <td>16661</td>\n",
       "      <td>2.172708</td>\n",
       "    </tr>\n",
       "  </tbody>\n",
       "</table>\n",
       "</div>"
      ],
      "text/plain": [
       "                  HIV status  strelka_mutations  Coding mutation rate (Mb)\n",
       "HTMCP-03-06-02001   Positive              26974                   3.151715\n",
       "HTMCP-03-06-02002   Negative              16661                   2.172708"
      ]
     },
     "execution_count": 7,
     "metadata": {},
     "output_type": "execute_result"
    }
   ],
   "source": [
    "dfs = dfm[['HIV status', 'strelka_mutations', 'Coding mutation rate (Mb)']]\n",
    "dfs.head(2)"
   ]
  },
  {
   "cell_type": "code",
   "execution_count": 14,
   "metadata": {},
   "outputs": [
    {
     "data": {
      "text/plain": [
       "<matplotlib.axes._subplots.AxesSubplot at 0x7f39d57b6f60>"
      ]
     },
     "execution_count": 14,
     "metadata": {},
     "output_type": "execute_result"
    },
    {
     "data": {
      "image/png": "[encoded data removed]",
      "text/plain": [
       "<Figure size 432x288 with 1 Axes>"
      ]
     },
     "metadata": {
      "needs_background": "light"
     },
     "output_type": "display_data"
    }
   ],
   "source": [
    "sns.boxplot('HIV status',  'strelka_mutations', data=dfs)"
   ]
  },
  {
   "cell_type": "code",
   "execution_count": 22,
   "metadata": {},
   "outputs": [
    {
     "data": {
      "text/plain": [
       "Ttest_indResult(statistic=1.0446605517945173, pvalue=0.2983708126695581)"
      ]
     },
     "execution_count": 22,
     "metadata": {},
     "output_type": "execute_result"
    }
   ],
   "source": [
    "neg = dfs[dfs['HIV status'] == 'Negative']['Coding mutation rate (Mb)']\n",
    "pos = dfs[dfs['HIV status'] == 'Positive']['Coding mutation rate (Mb)']\n",
    "stats.ttest_ind(neg, pos)\n"
   ]
  },
  {
   "cell_type": "code",
   "execution_count": 20,
   "metadata": {},
   "outputs": [
    {
     "data": {
      "text/plain": [
       "Series([], Name: Coding mutation rate (Mb), dtype: float64)"
      ]
     },
     "execution_count": 20,
     "metadata": {},
     "output_type": "execute_result"
    }
   ],
   "source": [
    "other"
   ]
  },
  {
   "cell_type": "code",
   "execution_count": 15,
   "metadata": {},
   "outputs": [
    {
     "data": {
      "text/plain": [
       "<matplotlib.axes._subplots.AxesSubplot at 0x7f39d57bfb70>"
      ]
     },
     "execution_count": 15,
     "metadata": {},
     "output_type": "execute_result"
    },
    {
     "data": {
      "image/png": "[encoded data removed]",
      "text/plain": [
       "<Figure size 432x288 with 1 Axes>"
      ]
     },
     "metadata": {
      "needs_background": "light"
     },
     "output_type": "display_data"
    }
   ],
   "source": [
    "sns.boxplot('HIV status',  'Coding mutation rate (Mb)', data=dfs)"
   ]
  },
  {
   "cell_type": "code",
   "execution_count": 23,
   "metadata": {},
   "outputs": [
    {
     "data": {
      "text/plain": [
       "Ttest_indResult(statistic=1.0204149396565811, pvalue=0.3096735750987968)"
      ]
     },
     "execution_count": 23,
     "metadata": {},
     "output_type": "execute_result"
    }
   ],
   "source": [
    "neg = dfs[dfs['HIV status'] == 'Negative']['strelka_mutations']\n",
    "pos = dfs[dfs['HIV status'] == 'Positive']['strelka_mutations']\n",
    "stats.ttest_ind(neg, pos)"
   ]
  },
  {
   "cell_type": "code",
   "execution_count": 24,
   "metadata": {},
   "outputs": [
    {
     "data": {
      "text/plain": [
       "(118, 3)"
      ]
     },
     "execution_count": 24,
     "metadata": {},
     "output_type": "execute_result"
    }
   ],
   "source": [
    "dfs.shape"
   ]
  },
  {
   "cell_type": "markdown",
   "metadata": {},
   "source": [
    "### association between clads and SMGs"
   ]
  },
  {
   "cell_type": "code",
   "execution_count": 7,
   "metadata": {},
   "outputs": [
    {
     "data": {
      "text/plain": [
       "['PIK3CA',\n",
       " 'FAT1',\n",
       " 'MLL2',\n",
       " 'FBXW7',\n",
       " 'CASP8',\n",
       " 'SLC35G5',\n",
       " 'MAPK1',\n",
       " 'PCDHGA12',\n",
       " 'PSPC1',\n",
       " 'ZNF750',\n",
       " 'PCDHA9',\n",
       " 'ZC3H6']"
      ]
     },
     "execution_count": 7,
     "metadata": {},
     "output_type": "execute_result"
    }
   ],
   "source": [
    "f = '/projects/trans_scratch/validations/workspace/szong/Cervical/mutsig2cv/smgs.txt'\n",
    "smgs = pd.read_csv(f, header=None)[0].tolist()\n",
    "smgs"
   ]
  },
  {
   "cell_type": "code",
   "execution_count": 28,
   "metadata": {},
   "outputs": [
    {
     "data": {
      "text/html": [
       "<div>\n",
       "<style scoped>\n",
       "    .dataframe tbody tr th:only-of-type {\n",
       "        vertical-align: middle;\n",
       "    }\n",
       "\n",
       "    .dataframe tbody tr th {\n",
       "        vertical-align: top;\n",
       "    }\n",
       "\n",
       "    .dataframe thead th {\n",
       "        text-align: right;\n",
       "    }\n",
       "</style>\n",
       "<table border=\"1\" class=\"dataframe\">\n",
       "  <thead>\n",
       "    <tr style=\"text-align: right;\">\n",
       "      <th>gene</th>\n",
       "      <th>index</th>\n",
       "      <th>CASP8</th>\n",
       "      <th>FAT1</th>\n",
       "      <th>FBXW7</th>\n",
       "      <th>MAPK1</th>\n",
       "      <th>MLL2</th>\n",
       "      <th>PCDHA9</th>\n",
       "      <th>PCDHGA12</th>\n",
       "      <th>PIK3CA</th>\n",
       "      <th>PSPC1</th>\n",
       "      <th>SLC35G5</th>\n",
       "      <th>ZC3H6</th>\n",
       "      <th>ZNF750</th>\n",
       "    </tr>\n",
       "  </thead>\n",
       "  <tbody>\n",
       "    <tr>\n",
       "      <th>0</th>\n",
       "      <td>HTMCP-03-06-02001</td>\n",
       "      <td>mutated</td>\n",
       "      <td>wt</td>\n",
       "      <td>wt</td>\n",
       "      <td>wt</td>\n",
       "      <td>wt</td>\n",
       "      <td>wt</td>\n",
       "      <td>wt</td>\n",
       "      <td>mutated</td>\n",
       "      <td>wt</td>\n",
       "      <td>wt</td>\n",
       "      <td>wt</td>\n",
       "      <td>wt</td>\n",
       "    </tr>\n",
       "    <tr>\n",
       "      <th>1</th>\n",
       "      <td>HTMCP-03-06-02002</td>\n",
       "      <td>wt</td>\n",
       "      <td>wt</td>\n",
       "      <td>wt</td>\n",
       "      <td>wt</td>\n",
       "      <td>mutated</td>\n",
       "      <td>wt</td>\n",
       "      <td>wt</td>\n",
       "      <td>mutated</td>\n",
       "      <td>mutated</td>\n",
       "      <td>wt</td>\n",
       "      <td>wt</td>\n",
       "      <td>mutated</td>\n",
       "    </tr>\n",
       "  </tbody>\n",
       "</table>\n",
       "</div>"
      ],
      "text/plain": [
       "gene              index    CASP8 FAT1 FBXW7 MAPK1     MLL2 PCDHA9 PCDHGA12  \\\n",
       "0     HTMCP-03-06-02001  mutated   wt    wt    wt       wt     wt       wt   \n",
       "1     HTMCP-03-06-02002       wt   wt    wt    wt  mutated     wt       wt   \n",
       "\n",
       "gene   PIK3CA    PSPC1 SLC35G5 ZC3H6   ZNF750  \n",
       "0     mutated       wt      wt    wt       wt  \n",
       "1     mutated  mutated      wt    wt  mutated  "
      ]
     },
     "execution_count": 28,
     "metadata": {},
     "output_type": "execute_result"
    }
   ],
   "source": [
    "mutations_f = '/projects/trans_scratch/validations/workspace/szong/Cervical/variant_bwamem/124_patients_new/somatic_mutation_gene_by_patient_summary_20190529.tsv'\n",
    "muts = pd.read_csv(mutations_f, sep='\\t')\n",
    "muts = muts[muts.gene.isin(smgs)].set_index('gene').T.reset_index()\n",
    "muts.head(2)"
   ]
  },
  {
   "cell_type": "code",
   "execution_count": 33,
   "metadata": {},
   "outputs": [
    {
     "data": {
      "text/plain": [
       "Index(['index', 'CASP8', 'FAT1', 'FBXW7', 'MAPK1', 'MLL2', 'PCDHA9',\n",
       "       'PCDHGA12', 'PIK3CA', 'PSPC1', 'SLC35G5', 'ZC3H6', 'ZNF750'],\n",
       "      dtype='object', name='gene')"
      ]
     },
     "execution_count": 33,
     "metadata": {},
     "output_type": "execute_result"
    }
   ],
   "source": [
    "muts.columns"
   ]
  },
  {
   "cell_type": "code",
   "execution_count": 36,
   "metadata": {},
   "outputs": [],
   "source": [
    "muts = pd.melt(muts, id_vars='index', value_vars=muts.columns.tolist()[1:], value_name='mutated')"
   ]
  },
  {
   "cell_type": "code",
   "execution_count": 38,
   "metadata": {},
   "outputs": [
    {
     "data": {
      "text/html": [
       "<div>\n",
       "<style scoped>\n",
       "    .dataframe tbody tr th:only-of-type {\n",
       "        vertical-align: middle;\n",
       "    }\n",
       "\n",
       "    .dataframe tbody tr th {\n",
       "        vertical-align: top;\n",
       "    }\n",
       "\n",
       "    .dataframe thead th {\n",
       "        text-align: right;\n",
       "    }\n",
       "</style>\n",
       "<table border=\"1\" class=\"dataframe\">\n",
       "  <thead>\n",
       "    <tr style=\"text-align: right;\">\n",
       "      <th></th>\n",
       "      <th>gene</th>\n",
       "      <th>mutated</th>\n",
       "    </tr>\n",
       "    <tr>\n",
       "      <th>index</th>\n",
       "      <th></th>\n",
       "      <th></th>\n",
       "    </tr>\n",
       "  </thead>\n",
       "  <tbody>\n",
       "    <tr>\n",
       "      <th>HTMCP-03-06-02001</th>\n",
       "      <td>CASP8</td>\n",
       "      <td>mutated</td>\n",
       "    </tr>\n",
       "    <tr>\n",
       "      <th>HTMCP-03-06-02002</th>\n",
       "      <td>CASP8</td>\n",
       "      <td>wt</td>\n",
       "    </tr>\n",
       "  </tbody>\n",
       "</table>\n",
       "</div>"
      ],
      "text/plain": [
       "                    gene  mutated\n",
       "index                            \n",
       "HTMCP-03-06-02001  CASP8  mutated\n",
       "HTMCP-03-06-02002  CASP8       wt"
      ]
     },
     "execution_count": 38,
     "metadata": {},
     "output_type": "execute_result"
    }
   ],
   "source": [
    "muts.set_index('index', inplace=True)\n",
    "muts.head(2)"
   ]
  },
  {
   "cell_type": "code",
   "execution_count": 17,
   "metadata": {},
   "outputs": [
    {
     "data": {
      "text/html": [
       "<div>\n",
       "<style scoped>\n",
       "    .dataframe tbody tr th:only-of-type {\n",
       "        vertical-align: middle;\n",
       "    }\n",
       "\n",
       "    .dataframe tbody tr th {\n",
       "        vertical-align: top;\n",
       "    }\n",
       "\n",
       "    .dataframe thead th {\n",
       "        text-align: right;\n",
       "    }\n",
       "</style>\n",
       "<table border=\"1\" class=\"dataframe\">\n",
       "  <thead>\n",
       "    <tr style=\"text-align: right;\">\n",
       "      <th></th>\n",
       "      <th>HPV clade</th>\n",
       "    </tr>\n",
       "    <tr>\n",
       "      <th>Patient</th>\n",
       "      <th></th>\n",
       "    </tr>\n",
       "  </thead>\n",
       "  <tbody>\n",
       "    <tr>\n",
       "      <th>HTMCP-03-06-02001</th>\n",
       "      <td>A9</td>\n",
       "    </tr>\n",
       "    <tr>\n",
       "      <th>HTMCP-03-06-02002</th>\n",
       "      <td>A9</td>\n",
       "    </tr>\n",
       "  </tbody>\n",
       "</table>\n",
       "</div>"
      ],
      "text/plain": [
       "                  HPV clade\n",
       "Patient                    \n",
       "HTMCP-03-06-02001        A9\n",
       "HTMCP-03-06-02002        A9"
      ]
     },
     "execution_count": 17,
     "metadata": {},
     "output_type": "execute_result"
    }
   ],
   "source": [
    "df = master[['HPV clade']]\n",
    "df.head(2)"
   ]
  },
  {
   "cell_type": "code",
   "execution_count": 85,
   "metadata": {},
   "outputs": [
    {
     "data": {
      "text/html": [
       "<div>\n",
       "<style scoped>\n",
       "    .dataframe tbody tr th:only-of-type {\n",
       "        vertical-align: middle;\n",
       "    }\n",
       "\n",
       "    .dataframe tbody tr th {\n",
       "        vertical-align: top;\n",
       "    }\n",
       "\n",
       "    .dataframe thead th {\n",
       "        text-align: right;\n",
       "    }\n",
       "</style>\n",
       "<table border=\"1\" class=\"dataframe\">\n",
       "  <thead>\n",
       "    <tr style=\"text-align: right;\">\n",
       "      <th></th>\n",
       "      <th>index</th>\n",
       "      <th>gene</th>\n",
       "      <th>mutated</th>\n",
       "      <th>HPV clade</th>\n",
       "    </tr>\n",
       "  </thead>\n",
       "  <tbody>\n",
       "    <tr>\n",
       "      <th>0</th>\n",
       "      <td>HTMCP-03-06-02001</td>\n",
       "      <td>CASP8</td>\n",
       "      <td>mutated</td>\n",
       "      <td>A9</td>\n",
       "    </tr>\n",
       "    <tr>\n",
       "      <th>1</th>\n",
       "      <td>HTMCP-03-06-02001</td>\n",
       "      <td>FAT1</td>\n",
       "      <td>wt</td>\n",
       "      <td>A9</td>\n",
       "    </tr>\n",
       "    <tr>\n",
       "      <th>2</th>\n",
       "      <td>HTMCP-03-06-02001</td>\n",
       "      <td>FBXW7</td>\n",
       "      <td>wt</td>\n",
       "      <td>A9</td>\n",
       "    </tr>\n",
       "    <tr>\n",
       "      <th>3</th>\n",
       "      <td>HTMCP-03-06-02001</td>\n",
       "      <td>MAPK1</td>\n",
       "      <td>wt</td>\n",
       "      <td>A9</td>\n",
       "    </tr>\n",
       "    <tr>\n",
       "      <th>4</th>\n",
       "      <td>HTMCP-03-06-02001</td>\n",
       "      <td>MLL2</td>\n",
       "      <td>wt</td>\n",
       "      <td>A9</td>\n",
       "    </tr>\n",
       "  </tbody>\n",
       "</table>\n",
       "</div>"
      ],
      "text/plain": [
       "               index   gene  mutated HPV clade\n",
       "0  HTMCP-03-06-02001  CASP8  mutated        A9\n",
       "1  HTMCP-03-06-02001   FAT1       wt        A9\n",
       "2  HTMCP-03-06-02001  FBXW7       wt        A9\n",
       "3  HTMCP-03-06-02001  MAPK1       wt        A9\n",
       "4  HTMCP-03-06-02001   MLL2       wt        A9"
      ]
     },
     "execution_count": 85,
     "metadata": {},
     "output_type": "execute_result"
    }
   ],
   "source": [
    "dfm = muts.merge(df, left_index=True, right_index=True).reset_index()\n",
    "dfm.head()"
   ]
  },
  {
   "cell_type": "code",
   "execution_count": 94,
   "metadata": {},
   "outputs": [],
   "source": [
    "dfm1 = pd.pivot_table(dfm, index='HPV clade', columns='mutated', values='gene', aggfunc=lambda x: ';'.join([str(v) for v in set(x)]))"
   ]
  },
  {
   "cell_type": "code",
   "execution_count": 105,
   "metadata": {},
   "outputs": [],
   "source": [
    "def count_wt(x):\n",
    "    return (x=='wt').sum()\n",
    "def count_mut(x):\n",
    "    return (x=='mutated').sum()"
   ]
  },
  {
   "cell_type": "code",
   "execution_count": 130,
   "metadata": {},
   "outputs": [
    {
     "data": {
      "text/html": [
       "<div>\n",
       "<style scoped>\n",
       "    .dataframe tbody tr th:only-of-type {\n",
       "        vertical-align: middle;\n",
       "    }\n",
       "\n",
       "    .dataframe tbody tr th {\n",
       "        vertical-align: top;\n",
       "    }\n",
       "\n",
       "    .dataframe thead tr th {\n",
       "        text-align: left;\n",
       "    }\n",
       "\n",
       "    .dataframe thead tr:last-of-type th {\n",
       "        text-align: right;\n",
       "    }\n",
       "</style>\n",
       "<table border=\"1\" class=\"dataframe\">\n",
       "  <thead>\n",
       "    <tr>\n",
       "      <th>gene</th>\n",
       "      <th>CASP8</th>\n",
       "      <th>FAT1</th>\n",
       "      <th>FBXW7</th>\n",
       "      <th>MAPK1</th>\n",
       "      <th>MLL2</th>\n",
       "      <th>PCDHA9</th>\n",
       "      <th>PCDHGA12</th>\n",
       "      <th>PIK3CA</th>\n",
       "      <th>PSPC1</th>\n",
       "      <th>SLC35G5</th>\n",
       "      <th>...</th>\n",
       "      <th>FBXW7</th>\n",
       "      <th>MAPK1</th>\n",
       "      <th>MLL2</th>\n",
       "      <th>PCDHA9</th>\n",
       "      <th>PCDHGA12</th>\n",
       "      <th>PIK3CA</th>\n",
       "      <th>PSPC1</th>\n",
       "      <th>SLC35G5</th>\n",
       "      <th>ZC3H6</th>\n",
       "      <th>ZNF750</th>\n",
       "    </tr>\n",
       "    <tr>\n",
       "      <th></th>\n",
       "      <th>count_wt</th>\n",
       "      <th>count_wt</th>\n",
       "      <th>count_wt</th>\n",
       "      <th>count_wt</th>\n",
       "      <th>count_wt</th>\n",
       "      <th>count_wt</th>\n",
       "      <th>count_wt</th>\n",
       "      <th>count_wt</th>\n",
       "      <th>count_wt</th>\n",
       "      <th>count_wt</th>\n",
       "      <th>...</th>\n",
       "      <th>count_mut</th>\n",
       "      <th>count_mut</th>\n",
       "      <th>count_mut</th>\n",
       "      <th>count_mut</th>\n",
       "      <th>count_mut</th>\n",
       "      <th>count_mut</th>\n",
       "      <th>count_mut</th>\n",
       "      <th>count_mut</th>\n",
       "      <th>count_mut</th>\n",
       "      <th>count_mut</th>\n",
       "    </tr>\n",
       "    <tr>\n",
       "      <th>HPV clade</th>\n",
       "      <th></th>\n",
       "      <th></th>\n",
       "      <th></th>\n",
       "      <th></th>\n",
       "      <th></th>\n",
       "      <th></th>\n",
       "      <th></th>\n",
       "      <th></th>\n",
       "      <th></th>\n",
       "      <th></th>\n",
       "      <th></th>\n",
       "      <th></th>\n",
       "      <th></th>\n",
       "      <th></th>\n",
       "      <th></th>\n",
       "      <th></th>\n",
       "      <th></th>\n",
       "      <th></th>\n",
       "      <th></th>\n",
       "      <th></th>\n",
       "      <th></th>\n",
       "    </tr>\n",
       "  </thead>\n",
       "  <tbody>\n",
       "    <tr>\n",
       "      <th>A7</th>\n",
       "      <td>51</td>\n",
       "      <td>41</td>\n",
       "      <td>50</td>\n",
       "      <td>51</td>\n",
       "      <td>43</td>\n",
       "      <td>52</td>\n",
       "      <td>49</td>\n",
       "      <td>35</td>\n",
       "      <td>48</td>\n",
       "      <td>47</td>\n",
       "      <td>...</td>\n",
       "      <td>2</td>\n",
       "      <td>1</td>\n",
       "      <td>9</td>\n",
       "      <td>0</td>\n",
       "      <td>3</td>\n",
       "      <td>17</td>\n",
       "      <td>4</td>\n",
       "      <td>5</td>\n",
       "      <td>1</td>\n",
       "      <td>2</td>\n",
       "    </tr>\n",
       "    <tr>\n",
       "      <th>A9</th>\n",
       "      <td>51</td>\n",
       "      <td>47</td>\n",
       "      <td>47</td>\n",
       "      <td>54</td>\n",
       "      <td>51</td>\n",
       "      <td>53</td>\n",
       "      <td>53</td>\n",
       "      <td>36</td>\n",
       "      <td>55</td>\n",
       "      <td>54</td>\n",
       "      <td>...</td>\n",
       "      <td>10</td>\n",
       "      <td>3</td>\n",
       "      <td>6</td>\n",
       "      <td>4</td>\n",
       "      <td>4</td>\n",
       "      <td>21</td>\n",
       "      <td>2</td>\n",
       "      <td>3</td>\n",
       "      <td>3</td>\n",
       "      <td>3</td>\n",
       "    </tr>\n",
       "    <tr>\n",
       "      <th>Other</th>\n",
       "      <td>8</td>\n",
       "      <td>8</td>\n",
       "      <td>9</td>\n",
       "      <td>7</td>\n",
       "      <td>7</td>\n",
       "      <td>9</td>\n",
       "      <td>9</td>\n",
       "      <td>6</td>\n",
       "      <td>9</td>\n",
       "      <td>9</td>\n",
       "      <td>...</td>\n",
       "      <td>0</td>\n",
       "      <td>2</td>\n",
       "      <td>2</td>\n",
       "      <td>0</td>\n",
       "      <td>0</td>\n",
       "      <td>3</td>\n",
       "      <td>0</td>\n",
       "      <td>0</td>\n",
       "      <td>0</td>\n",
       "      <td>0</td>\n",
       "    </tr>\n",
       "  </tbody>\n",
       "</table>\n",
       "<p>3 rows × 24 columns</p>\n",
       "</div>"
      ],
      "text/plain": [
       "gene         CASP8     FAT1    FBXW7    MAPK1     MLL2   PCDHA9 PCDHGA12  \\\n",
       "          count_wt count_wt count_wt count_wt count_wt count_wt count_wt   \n",
       "HPV clade                                                                  \n",
       "A7              51       41       50       51       43       52       49   \n",
       "A9              51       47       47       54       51       53       53   \n",
       "Other            8        8        9        7        7        9        9   \n",
       "\n",
       "gene        PIK3CA    PSPC1  SLC35G5  ...     FBXW7     MAPK1      MLL2  \\\n",
       "          count_wt count_wt count_wt  ... count_mut count_mut count_mut   \n",
       "HPV clade                             ...                                 \n",
       "A7              35       48       47  ...         2         1         9   \n",
       "A9              36       55       54  ...        10         3         6   \n",
       "Other            6        9        9  ...         0         2         2   \n",
       "\n",
       "gene         PCDHA9  PCDHGA12    PIK3CA     PSPC1   SLC35G5     ZC3H6  \\\n",
       "          count_mut count_mut count_mut count_mut count_mut count_mut   \n",
       "HPV clade                                                               \n",
       "A7                0         3        17         4         5         1   \n",
       "A9                4         4        21         2         3         3   \n",
       "Other             0         0         3         0         0         0   \n",
       "\n",
       "gene         ZNF750  \n",
       "          count_mut  \n",
       "HPV clade            \n",
       "A7                2  \n",
       "A9                3  \n",
       "Other             0  \n",
       "\n",
       "[3 rows x 24 columns]"
      ]
     },
     "execution_count": 130,
     "metadata": {},
     "output_type": "execute_result"
    },
    {
     "data": {
      "text/html": [
       "<div>\n",
       "<style scoped>\n",
       "    .dataframe tbody tr th:only-of-type {\n",
       "        vertical-align: middle;\n",
       "    }\n",
       "\n",
       "    .dataframe tbody tr th {\n",
       "        vertical-align: top;\n",
       "    }\n",
       "\n",
       "    .dataframe thead tr th {\n",
       "        text-align: left;\n",
       "    }\n",
       "\n",
       "    .dataframe thead tr:last-of-type th {\n",
       "        text-align: right;\n",
       "    }\n",
       "</style>\n",
       "<table border=\"1\" class=\"dataframe\">\n",
       "  <thead>\n",
       "    <tr>\n",
       "      <th>gene</th>\n",
       "      <th colspan=\"2\" halign=\"left\">CASP8</th>\n",
       "      <th colspan=\"2\" halign=\"left\">FAT1</th>\n",
       "      <th colspan=\"2\" halign=\"left\">FBXW7</th>\n",
       "      <th colspan=\"2\" halign=\"left\">MAPK1</th>\n",
       "      <th colspan=\"2\" halign=\"left\">MLL2</th>\n",
       "      <th>...</th>\n",
       "      <th colspan=\"2\" halign=\"left\">PIK3CA</th>\n",
       "      <th colspan=\"2\" halign=\"left\">PSPC1</th>\n",
       "      <th colspan=\"2\" halign=\"left\">SLC35G5</th>\n",
       "      <th colspan=\"2\" halign=\"left\">ZC3H6</th>\n",
       "      <th colspan=\"2\" halign=\"left\">ZNF750</th>\n",
       "    </tr>\n",
       "    <tr>\n",
       "      <th></th>\n",
       "      <th>count_mut</th>\n",
       "      <th>count_wt</th>\n",
       "      <th>count_mut</th>\n",
       "      <th>count_wt</th>\n",
       "      <th>count_mut</th>\n",
       "      <th>count_wt</th>\n",
       "      <th>count_mut</th>\n",
       "      <th>count_wt</th>\n",
       "      <th>count_mut</th>\n",
       "      <th>count_wt</th>\n",
       "      <th>...</th>\n",
       "      <th>count_mut</th>\n",
       "      <th>count_wt</th>\n",
       "      <th>count_mut</th>\n",
       "      <th>count_wt</th>\n",
       "      <th>count_mut</th>\n",
       "      <th>count_wt</th>\n",
       "      <th>count_mut</th>\n",
       "      <th>count_wt</th>\n",
       "      <th>count_mut</th>\n",
       "      <th>count_wt</th>\n",
       "    </tr>\n",
       "    <tr>\n",
       "      <th>HPV clade</th>\n",
       "      <th></th>\n",
       "      <th></th>\n",
       "      <th></th>\n",
       "      <th></th>\n",
       "      <th></th>\n",
       "      <th></th>\n",
       "      <th></th>\n",
       "      <th></th>\n",
       "      <th></th>\n",
       "      <th></th>\n",
       "      <th></th>\n",
       "      <th></th>\n",
       "      <th></th>\n",
       "      <th></th>\n",
       "      <th></th>\n",
       "      <th></th>\n",
       "      <th></th>\n",
       "      <th></th>\n",
       "      <th></th>\n",
       "      <th></th>\n",
       "      <th></th>\n",
       "    </tr>\n",
       "  </thead>\n",
       "  <tbody>\n",
       "    <tr>\n",
       "      <th>A7</th>\n",
       "      <td>1</td>\n",
       "      <td>51</td>\n",
       "      <td>11</td>\n",
       "      <td>41</td>\n",
       "      <td>2</td>\n",
       "      <td>50</td>\n",
       "      <td>1</td>\n",
       "      <td>51</td>\n",
       "      <td>9</td>\n",
       "      <td>43</td>\n",
       "      <td>...</td>\n",
       "      <td>17</td>\n",
       "      <td>35</td>\n",
       "      <td>4</td>\n",
       "      <td>48</td>\n",
       "      <td>5</td>\n",
       "      <td>47</td>\n",
       "      <td>1</td>\n",
       "      <td>51</td>\n",
       "      <td>2</td>\n",
       "      <td>50</td>\n",
       "    </tr>\n",
       "    <tr>\n",
       "      <th>A9</th>\n",
       "      <td>6</td>\n",
       "      <td>51</td>\n",
       "      <td>10</td>\n",
       "      <td>47</td>\n",
       "      <td>10</td>\n",
       "      <td>47</td>\n",
       "      <td>3</td>\n",
       "      <td>54</td>\n",
       "      <td>6</td>\n",
       "      <td>51</td>\n",
       "      <td>...</td>\n",
       "      <td>21</td>\n",
       "      <td>36</td>\n",
       "      <td>2</td>\n",
       "      <td>55</td>\n",
       "      <td>3</td>\n",
       "      <td>54</td>\n",
       "      <td>3</td>\n",
       "      <td>54</td>\n",
       "      <td>3</td>\n",
       "      <td>54</td>\n",
       "    </tr>\n",
       "    <tr>\n",
       "      <th>Other</th>\n",
       "      <td>1</td>\n",
       "      <td>8</td>\n",
       "      <td>1</td>\n",
       "      <td>8</td>\n",
       "      <td>0</td>\n",
       "      <td>9</td>\n",
       "      <td>2</td>\n",
       "      <td>7</td>\n",
       "      <td>2</td>\n",
       "      <td>7</td>\n",
       "      <td>...</td>\n",
       "      <td>3</td>\n",
       "      <td>6</td>\n",
       "      <td>0</td>\n",
       "      <td>9</td>\n",
       "      <td>0</td>\n",
       "      <td>9</td>\n",
       "      <td>0</td>\n",
       "      <td>9</td>\n",
       "      <td>0</td>\n",
       "      <td>9</td>\n",
       "    </tr>\n",
       "  </tbody>\n",
       "</table>\n",
       "<p>3 rows × 24 columns</p>\n",
       "</div>"
      ],
      "text/plain": [
       "gene          CASP8               FAT1              FBXW7              MAPK1  \\\n",
       "          count_mut count_wt count_mut count_wt count_mut count_wt count_mut   \n",
       "HPV clade                                                                      \n",
       "A7                1       51        11       41         2       50         1   \n",
       "A9                6       51        10       47        10       47         3   \n",
       "Other             1        8         1        8         0        9         2   \n",
       "\n",
       "gene                    MLL2           ...    PIK3CA              PSPC1  \\\n",
       "          count_wt count_mut count_wt  ... count_mut count_wt count_mut   \n",
       "HPV clade                              ...                                \n",
       "A7              51         9       43  ...        17       35         4   \n",
       "A9              54         6       51  ...        21       36         2   \n",
       "Other            7         2        7  ...         3        6         0   \n",
       "\n",
       "gene                 SLC35G5              ZC3H6             ZNF750           \n",
       "          count_wt count_mut count_wt count_mut count_wt count_mut count_wt  \n",
       "HPV clade                                                                    \n",
       "A7              48         5       47         1       51         2       50  \n",
       "A9              55         3       54         3       54         3       54  \n",
       "Other            9         0        9         0        9         0        9  \n",
       "\n",
       "[3 rows x 24 columns]"
      ]
     },
     "execution_count": 130,
     "metadata": {},
     "output_type": "execute_result"
    }
   ],
   "source": [
    "df1 = pd.pivot_table(dfm, values='mutated', index=['HPV clade'], columns='gene', aggfunc=[count_wt, count_mut])\n",
    "df2 = df1.swaplevel(axis=1)\n",
    "df2\n",
    "df2.sort_index(axis=1)"
   ]
  },
  {
   "cell_type": "code",
   "execution_count": 131,
   "metadata": {},
   "outputs": [],
   "source": [
    "for gene in smgs:\n",
    "    dftmp = dfm[dfm.gene == gene]\n",
    "#     pd.pivot_table(dftmp, index='HPV clade', columns='mutated',aggfunc='count')\n",
    "    df2 = pd.crosstab(index=dftmp['mutated'], columns=dftmp['HPV clade'])#, normalize='columns')\n",
    "    df2.columns.name = gene\n",
    "    df2.index.name = ''\n",
    "    oddsratio, pvalue = stats.fisher_exact([df2.iloc[0, :2], df2.iloc[1, :2]])\n",
    "#     print(gene, pvalue)\n",
    "#     df2\n",
    "#     dftmp.groupby('HPV clade').count()"
   ]
  },
  {
   "cell_type": "code",
   "execution_count": null,
   "metadata": {},
   "outputs": [],
   "source": []
  },
  {
   "cell_type": "code",
   "execution_count": 6,
   "metadata": {},
   "outputs": [
    {
     "data": {
      "text/html": [
       "<div>\n",
       "<style scoped>\n",
       "    .dataframe tbody tr th:only-of-type {\n",
       "        vertical-align: middle;\n",
       "    }\n",
       "\n",
       "    .dataframe tbody tr th {\n",
       "        vertical-align: top;\n",
       "    }\n",
       "\n",
       "    .dataframe thead th {\n",
       "        text-align: right;\n",
       "    }\n",
       "</style>\n",
       "<table border=\"1\" class=\"dataframe\">\n",
       "  <thead>\n",
       "    <tr style=\"text-align: right;\">\n",
       "      <th></th>\n",
       "      <th>HPV clade</th>\n",
       "      <th>Coding mutation rate (Mb)</th>\n",
       "    </tr>\n",
       "    <tr>\n",
       "      <th>Patient</th>\n",
       "      <th></th>\n",
       "      <th></th>\n",
       "    </tr>\n",
       "  </thead>\n",
       "  <tbody>\n",
       "    <tr>\n",
       "      <th>HTMCP-03-06-02001</th>\n",
       "      <td>A9</td>\n",
       "      <td>3.151715</td>\n",
       "    </tr>\n",
       "    <tr>\n",
       "      <th>HTMCP-03-06-02002</th>\n",
       "      <td>A9</td>\n",
       "      <td>2.172708</td>\n",
       "    </tr>\n",
       "  </tbody>\n",
       "</table>\n",
       "</div>"
      ],
      "text/plain": [
       "                  HPV clade  Coding mutation rate (Mb)\n",
       "Patient                                               \n",
       "HTMCP-03-06-02001        A9                   3.151715\n",
       "HTMCP-03-06-02002        A9                   2.172708"
      ]
     },
     "execution_count": 6,
     "metadata": {},
     "output_type": "execute_result"
    }
   ],
   "source": [
    "df = master[['HPV clade','Coding mutation rate (Mb)']]\n",
    "df.head(2)"
   ]
  },
  {
   "cell_type": "code",
   "execution_count": 26,
   "metadata": {},
   "outputs": [
    {
     "data": {
      "text/html": [
       "<div>\n",
       "<style scoped>\n",
       "    .dataframe tbody tr th:only-of-type {\n",
       "        vertical-align: middle;\n",
       "    }\n",
       "\n",
       "    .dataframe tbody tr th {\n",
       "        vertical-align: top;\n",
       "    }\n",
       "\n",
       "    .dataframe thead th {\n",
       "        text-align: right;\n",
       "    }\n",
       "</style>\n",
       "<table border=\"1\" class=\"dataframe\">\n",
       "  <thead>\n",
       "    <tr style=\"text-align: right;\">\n",
       "      <th></th>\n",
       "      <th>HPV clade</th>\n",
       "      <th>Coding mutation rate (Mb)</th>\n",
       "      <th>strelka_mutations</th>\n",
       "    </tr>\n",
       "  </thead>\n",
       "  <tbody>\n",
       "    <tr>\n",
       "      <th>HTMCP-03-06-02001</th>\n",
       "      <td>A9</td>\n",
       "      <td>3.151715</td>\n",
       "      <td>26974</td>\n",
       "    </tr>\n",
       "    <tr>\n",
       "      <th>HTMCP-03-06-02002</th>\n",
       "      <td>A9</td>\n",
       "      <td>2.172708</td>\n",
       "      <td>16661</td>\n",
       "    </tr>\n",
       "    <tr>\n",
       "      <th>HTMCP-03-06-02003</th>\n",
       "      <td>A9</td>\n",
       "      <td>0.841602</td>\n",
       "      <td>8397</td>\n",
       "    </tr>\n",
       "    <tr>\n",
       "      <th>HTMCP-03-06-02006</th>\n",
       "      <td>A7</td>\n",
       "      <td>2.559158</td>\n",
       "      <td>21697</td>\n",
       "    </tr>\n",
       "    <tr>\n",
       "      <th>HTMCP-03-06-02008</th>\n",
       "      <td>Other</td>\n",
       "      <td>0.833015</td>\n",
       "      <td>8082</td>\n",
       "    </tr>\n",
       "  </tbody>\n",
       "</table>\n",
       "</div>"
      ],
      "text/plain": [
       "                  HPV clade  Coding mutation rate (Mb)  strelka_mutations\n",
       "HTMCP-03-06-02001        A9                   3.151715              26974\n",
       "HTMCP-03-06-02002        A9                   2.172708              16661\n",
       "HTMCP-03-06-02003        A9                   0.841602               8397\n",
       "HTMCP-03-06-02006        A7                   2.559158              21697\n",
       "HTMCP-03-06-02008     Other                   0.833015               8082"
      ]
     },
     "execution_count": 26,
     "metadata": {},
     "output_type": "execute_result"
    }
   ],
   "source": [
    "dfm = df.merge(muts, left_index=True, right_index=True)\n",
    "dfm.head()"
   ]
  },
  {
   "cell_type": "code",
   "execution_count": 29,
   "metadata": {},
   "outputs": [
    {
     "data": {
      "text/plain": [
       "Ttest_indResult(statistic=0.04802591604758524, pvalue=0.9617851160883055)"
      ]
     },
     "execution_count": 29,
     "metadata": {},
     "output_type": "execute_result"
    },
    {
     "data": {
      "text/plain": [
       "Ttest_indResult(statistic=0.6290799398338686, pvalue=0.531535807688768)"
      ]
     },
     "execution_count": 29,
     "metadata": {},
     "output_type": "execute_result"
    },
    {
     "data": {
      "text/plain": [
       "Ttest_indResult(statistic=0.7873487647281108, pvalue=0.4342293443930816)"
      ]
     },
     "execution_count": 29,
     "metadata": {},
     "output_type": "execute_result"
    }
   ],
   "source": [
    "A9 = dfm[dfm['HPV clade'] == 'A9']['strelka_mutations']\n",
    "A7 = dfm[dfm['HPV clade'] == 'A7']['strelka_mutations']\n",
    "other = dfm[dfm['HPV clade'] == 'Other']['strelka_mutations']\n",
    "stats.ttest_ind(A9, A7)\n",
    "stats.ttest_ind(A9, other)\n",
    "stats.ttest_ind(A7, other)"
   ]
  },
  {
   "cell_type": "code",
   "execution_count": 27,
   "metadata": {},
   "outputs": [
    {
     "data": {
      "text/plain": [
       "<matplotlib.axes._subplots.AxesSubplot at 0x7f574093ec18>"
      ]
     },
     "execution_count": 27,
     "metadata": {},
     "output_type": "execute_result"
    },
    {
     "data": {
      "text/plain": [
       "<matplotlib.axes._subplots.AxesSubplot at 0x7f574093ec18>"
      ]
     },
     "execution_count": 27,
     "metadata": {},
     "output_type": "execute_result"
    },
    {
     "data": {
      "text/plain": [
       "Text(0.5,1,'Coding Mutation Rate: HPV clade')"
      ]
     },
     "execution_count": 27,
     "metadata": {},
     "output_type": "execute_result"
    },
    {
     "data": {
      "text/plain": [
       "Text(0.5,0,'HPV clade')"
      ]
     },
     "execution_count": 27,
     "metadata": {},
     "output_type": "execute_result"
    },
    {
     "data": {
      "image/png": "[encoded data removed]",
      "text/plain": [
       "<Figure size 432x432 with 1 Axes>"
      ]
     },
     "metadata": {},
     "output_type": "display_data"
    }
   ],
   "source": [
    "\n",
    "# plt.boxplot(dfm['HPV clade'], dfm['strelka_mutations'])\n",
    "f, ax = plt.subplots(figsize=(6, 6))\n",
    "sns.boxplot(dfm['HPV clade'], dfm['strelka_mutations'], ax=ax)\n",
    "sns.swarmplot(dfm['HPV clade'], dfm['strelka_mutations'], ax=ax)\n",
    "ax.set_title('Coding Mutation Rate: HPV clade')\n",
    "ax.set_xlabel('HPV clade')\n",
    "of = '/projects/trans_scratch/validations/workspace/szong/Cervical/variant_bwamem/124_patients_new/coding_mutation_rate_HPV clade_groups.pdf'\n",
    "# plt.savefig(of, dpi=200, bbox_inches='tight')"
   ]
  },
  {
   "cell_type": "code",
   "execution_count": 30,
   "metadata": {},
   "outputs": [
    {
     "data": {
      "text/plain": [
       "<matplotlib.axes._subplots.AxesSubplot at 0x7f57409c10f0>"
      ]
     },
     "execution_count": 30,
     "metadata": {},
     "output_type": "execute_result"
    },
    {
     "data": {
      "text/plain": [
       "<matplotlib.axes._subplots.AxesSubplot at 0x7f57409c10f0>"
      ]
     },
     "execution_count": 30,
     "metadata": {},
     "output_type": "execute_result"
    },
    {
     "data": {
      "text/plain": [
       "Text(0.5,1,'Coding Mutation Rate: HPV clade')"
      ]
     },
     "execution_count": 30,
     "metadata": {},
     "output_type": "execute_result"
    },
    {
     "data": {
      "text/plain": [
       "Text(0.5,0,'HPV clade')"
      ]
     },
     "execution_count": 30,
     "metadata": {},
     "output_type": "execute_result"
    },
    {
     "data": {
      "image/png": "[encoded data removed]",
      "text/plain": [
       "<Figure size 432x432 with 1 Axes>"
      ]
     },
     "metadata": {},
     "output_type": "display_data"
    }
   ],
   "source": [
    "# plt.boxplot(df['HPV clade'], df['Coding mutation rate (Mb)'])\n",
    "f, ax = plt.subplots(figsize=(6, 6))\n",
    "sns.boxplot(df['HPV clade'], df['Coding mutation rate (Mb)'], ax=ax)\n",
    "sns.swarmplot(df['HPV clade'], df['Coding mutation rate (Mb)'], ax=ax)\n",
    "ax.set_title('Coding Mutation Rate: HPV clade')\n",
    "ax.set_xlabel('HPV clade')\n",
    "of = '/projects/trans_scratch/validations/workspace/szong/Cervical/variant_bwamem/124_patients_new/coding_mutation_rate_HPV clade_groups.pdf'\n",
    "plt.savefig(of, dpi=200, bbox_inches='tight')"
   ]
  },
  {
   "cell_type": "code",
   "execution_count": 14,
   "metadata": {},
   "outputs": [
    {
     "data": {
      "text/plain": [
       "Ttest_indResult(statistic=-0.09377163712474476, pvalue=0.9254659280879265)"
      ]
     },
     "execution_count": 14,
     "metadata": {},
     "output_type": "execute_result"
    },
    {
     "data": {
      "text/plain": [
       "Ttest_indResult(statistic=0.7128776025496105, pvalue=0.4785127147282737)"
      ]
     },
     "execution_count": 14,
     "metadata": {},
     "output_type": "execute_result"
    },
    {
     "data": {
      "text/plain": [
       "Ttest_indResult(statistic=0.8977080231017319, pvalue=0.37299000761317247)"
      ]
     },
     "execution_count": 14,
     "metadata": {},
     "output_type": "execute_result"
    }
   ],
   "source": [
    "A9 = df[df['HPV clade'] == 'A9']['Coding mutation rate (Mb)']\n",
    "A7 = df[df['HPV clade'] == 'A7']['Coding mutation rate (Mb)']\n",
    "other = df[df['HPV clade'] == 'Other']['Coding mutation rate (Mb)']\n",
    "\n",
    "stats.ttest_ind(A9, A7)\n",
    "stats.ttest_ind(A9, other)\n",
    "stats.ttest_ind(A7, other)"
   ]
  },
  {
   "cell_type": "markdown",
   "metadata": {},
   "source": [
    "# APOBEC score"
   ]
  },
  {
   "cell_type": "code",
   "execution_count": 8,
   "metadata": {},
   "outputs": [
    {
     "data": {
      "text/html": [
       "<div>\n",
       "<style scoped>\n",
       "    .dataframe tbody tr th:only-of-type {\n",
       "        vertical-align: middle;\n",
       "    }\n",
       "\n",
       "    .dataframe tbody tr th {\n",
       "        vertical-align: top;\n",
       "    }\n",
       "\n",
       "    .dataframe thead th {\n",
       "        text-align: right;\n",
       "    }\n",
       "</style>\n",
       "<table border=\"1\" class=\"dataframe\">\n",
       "  <thead>\n",
       "    <tr style=\"text-align: right;\">\n",
       "      <th></th>\n",
       "      <th>Max APOBEC score</th>\n",
       "      <th>Coding mutation rate (Mb)</th>\n",
       "    </tr>\n",
       "    <tr>\n",
       "      <th>Patient</th>\n",
       "      <th></th>\n",
       "      <th></th>\n",
       "    </tr>\n",
       "  </thead>\n",
       "  <tbody>\n",
       "    <tr>\n",
       "      <td>HTMCP-03-06-02001</td>\n",
       "      <td>0.316</td>\n",
       "      <td>3.151715</td>\n",
       "    </tr>\n",
       "    <tr>\n",
       "      <td>HTMCP-03-06-02002</td>\n",
       "      <td>0.260</td>\n",
       "      <td>2.172708</td>\n",
       "    </tr>\n",
       "  </tbody>\n",
       "</table>\n",
       "</div>"
      ],
      "text/plain": [
       "                   Max APOBEC score  Coding mutation rate (Mb)\n",
       "Patient                                                       \n",
       "HTMCP-03-06-02001             0.316                   3.151715\n",
       "HTMCP-03-06-02002             0.260                   2.172708"
      ]
     },
     "execution_count": 8,
     "metadata": {},
     "output_type": "execute_result"
    }
   ],
   "source": [
    "df = master[['Max APOBEC score','Coding mutation rate (Mb)']]\n",
    "# df['apobec'] = df['Max APOBEC score'].map({})\n",
    "df.head(2)"
   ]
  },
  {
   "cell_type": "code",
   "execution_count": 9,
   "metadata": {},
   "outputs": [
    {
     "name": "stderr",
     "output_type": "stream",
     "text": [
      "/projects/da_workspace/software/miniconda/envs/da/lib/python3.7/site-packages/ipykernel_launcher.py:1: SettingWithCopyWarning: \n",
      "A value is trying to be set on a copy of a slice from a DataFrame.\n",
      "Try using .loc[row_indexer,col_indexer] = value instead\n",
      "\n",
      "See the caveats in the documentation: http://pandas.pydata.org/pandas-docs/stable/user_guide/indexing.html#returning-a-view-versus-a-copy\n",
      "  \"\"\"Entry point for launching an IPython kernel.\n"
     ]
    }
   ],
   "source": [
    "df['apobec'] = (df['Max APOBEC score'] > 0.4).map({True: '> 0.4', False: '<= 0.4'})"
   ]
  },
  {
   "cell_type": "code",
   "execution_count": 12,
   "metadata": {},
   "outputs": [
    {
     "data": {
      "text/html": [
       "<div>\n",
       "<style scoped>\n",
       "    .dataframe tbody tr th:only-of-type {\n",
       "        vertical-align: middle;\n",
       "    }\n",
       "\n",
       "    .dataframe tbody tr th {\n",
       "        vertical-align: top;\n",
       "    }\n",
       "\n",
       "    .dataframe thead th {\n",
       "        text-align: right;\n",
       "    }\n",
       "</style>\n",
       "<table border=\"1\" class=\"dataframe\">\n",
       "  <thead>\n",
       "    <tr style=\"text-align: right;\">\n",
       "      <th></th>\n",
       "      <th>Max APOBEC score</th>\n",
       "      <th>Coding mutation rate (Mb)</th>\n",
       "      <th>apobec</th>\n",
       "    </tr>\n",
       "    <tr>\n",
       "      <th>Patient</th>\n",
       "      <th></th>\n",
       "      <th></th>\n",
       "      <th></th>\n",
       "    </tr>\n",
       "  </thead>\n",
       "  <tbody>\n",
       "    <tr>\n",
       "      <td>HTMCP-03-06-02001</td>\n",
       "      <td>0.3160</td>\n",
       "      <td>3.151715</td>\n",
       "      <td>&lt;= 0.4</td>\n",
       "    </tr>\n",
       "    <tr>\n",
       "      <td>HTMCP-03-06-02002</td>\n",
       "      <td>0.2600</td>\n",
       "      <td>2.172708</td>\n",
       "      <td>&lt;= 0.4</td>\n",
       "    </tr>\n",
       "    <tr>\n",
       "      <td>HTMCP-03-06-02003</td>\n",
       "      <td>0.0607</td>\n",
       "      <td>0.841602</td>\n",
       "      <td>&lt;= 0.4</td>\n",
       "    </tr>\n",
       "    <tr>\n",
       "      <td>HTMCP-03-06-02006</td>\n",
       "      <td>0.1690</td>\n",
       "      <td>2.559158</td>\n",
       "      <td>&lt;= 0.4</td>\n",
       "    </tr>\n",
       "    <tr>\n",
       "      <td>HTMCP-03-06-02008</td>\n",
       "      <td>0.0848</td>\n",
       "      <td>0.833015</td>\n",
       "      <td>&lt;= 0.4</td>\n",
       "    </tr>\n",
       "  </tbody>\n",
       "</table>\n",
       "</div>"
      ],
      "text/plain": [
       "                   Max APOBEC score  Coding mutation rate (Mb)  apobec\n",
       "Patient                                                               \n",
       "HTMCP-03-06-02001            0.3160                   3.151715  <= 0.4\n",
       "HTMCP-03-06-02002            0.2600                   2.172708  <= 0.4\n",
       "HTMCP-03-06-02003            0.0607                   0.841602  <= 0.4\n",
       "HTMCP-03-06-02006            0.1690                   2.559158  <= 0.4\n",
       "HTMCP-03-06-02008            0.0848                   0.833015  <= 0.4"
      ]
     },
     "execution_count": 12,
     "metadata": {},
     "output_type": "execute_result"
    }
   ],
   "source": [
    "df.head()"
   ]
  },
  {
   "cell_type": "code",
   "execution_count": 18,
   "metadata": {},
   "outputs": [
    {
     "data": {
      "text/plain": [
       "Max APOBEC score             99\n",
       "Coding mutation rate (Mb)    99\n",
       "apobec                       99\n",
       "dtype: int64"
      ]
     },
     "execution_count": 18,
     "metadata": {},
     "output_type": "execute_result"
    },
    {
     "data": {
      "text/plain": [
       "Max APOBEC score             19\n",
       "Coding mutation rate (Mb)    19\n",
       "apobec                       19\n",
       "dtype: int64"
      ]
     },
     "execution_count": 18,
     "metadata": {},
     "output_type": "execute_result"
    },
    {
     "data": {
      "text/plain": [
       "array(['<= 0.4', '> 0.4'], dtype=object)"
      ]
     },
     "execution_count": 18,
     "metadata": {},
     "output_type": "execute_result"
    }
   ],
   "source": [
    "df[df.apobec == '<= 0.4'].count()\n",
    "df[df.apobec == '> 0.4'].count()\n",
    "df.apobec.unique()"
   ]
  },
  {
   "cell_type": "code",
   "execution_count": 29,
   "metadata": {},
   "outputs": [
    {
     "data": {
      "text/plain": [
       "4.58587417814307"
      ]
     },
     "execution_count": 29,
     "metadata": {},
     "output_type": "execute_result"
    }
   ],
   "source": [
    "df[df.apobec == '> 0.4']['Coding mutation rate (Mb)'].median()"
   ]
  },
  {
   "cell_type": "code",
   "execution_count": 16,
   "metadata": {},
   "outputs": [
    {
     "data": {
      "text/plain": [
       "<matplotlib.axes._subplots.AxesSubplot at 0x7fc824eaa358>"
      ]
     },
     "execution_count": 16,
     "metadata": {},
     "output_type": "execute_result"
    },
    {
     "data": {
      "text/plain": [
       "<matplotlib.axes._subplots.AxesSubplot at 0x7fc824eaa358>"
      ]
     },
     "execution_count": 16,
     "metadata": {},
     "output_type": "execute_result"
    },
    {
     "data": {
      "text/plain": [
       "Text(0.5,1,'Coding Mutation Rate: APOBEC')"
      ]
     },
     "execution_count": 16,
     "metadata": {},
     "output_type": "execute_result"
    },
    {
     "data": {
      "text/plain": [
       "Text(0.5,0,'APOBEC')"
      ]
     },
     "execution_count": 16,
     "metadata": {},
     "output_type": "execute_result"
    },
    {
     "data": {
      "image/png": "[encoded data removed]",
      "text/plain": [
       "<Figure size 432x432 with 1 Axes>"
      ]
     },
     "metadata": {},
     "output_type": "display_data"
    }
   ],
   "source": [
    "# plt.boxplot(df['apobec'], df['Coding mutation rate (Mb)'])\n",
    "f, ax = plt.subplots(figsize=(6, 6))\n",
    "sns.boxplot(df['apobec'], df['Coding mutation rate (Mb)'], ax=ax)\n",
    "sns.swarmplot(df['apobec'], df['Coding mutation rate (Mb)'], ax=ax)\n",
    "ax.set_title('Coding Mutation Rate: APOBEC')\n",
    "ax.set_xlabel('APOBEC')\n",
    "of = '/projects/trans_scratch/validations/workspace/szong/Cervical/variant_bwamem/124_patients_new/coding_mutation_rate_apobec_groups.pdf'\n",
    "plt.savefig(of, dpi=200, bbox_inches='tight')"
   ]
  },
  {
   "cell_type": "code",
   "execution_count": 30,
   "metadata": {},
   "outputs": [
    {
     "data": {
      "text/plain": [
       "Ttest_indResult(statistic=7.264896547145843, pvalue=4.651494895899535e-11)"
      ]
     },
     "execution_count": 30,
     "metadata": {},
     "output_type": "execute_result"
    }
   ],
   "source": [
    "a = df[df['Max APOBEC score'] > 0.4]['Coding mutation rate (Mb)']\n",
    "b = df[df['Max APOBEC score'] <= 0.4]['Coding mutation rate (Mb)']\n",
    "\n",
    "stats.ttest_ind(a, b)"
   ]
  },
  {
   "cell_type": "code",
   "execution_count": 32,
   "metadata": {},
   "outputs": [
    {
     "data": {
      "text/plain": [
       "6.854403894297233"
      ]
     },
     "execution_count": 32,
     "metadata": {},
     "output_type": "execute_result"
    },
    {
     "data": {
      "text/plain": [
       "4.585874178143075"
      ]
     },
     "execution_count": 32,
     "metadata": {},
     "output_type": "execute_result"
    },
    {
     "data": {
      "text/plain": [
       "1.871441938471961"
      ]
     },
     "execution_count": 32,
     "metadata": {},
     "output_type": "execute_result"
    },
    {
     "data": {
      "text/plain": [
       "1.554388064127147"
      ]
     },
     "execution_count": 32,
     "metadata": {},
     "output_type": "execute_result"
    }
   ],
   "source": [
    "a.mean()\n",
    "a.median()\n",
    "b.mean()\n",
    "b.median()"
   ]
  },
  {
   "cell_type": "code",
   "execution_count": 12,
   "metadata": {},
   "outputs": [
    {
     "data": {
      "text/plain": [
       "<matplotlib.collections.PathCollection at 0x7fa9b1c85908>"
      ]
     },
     "execution_count": 12,
     "metadata": {},
     "output_type": "execute_result"
    },
    {
     "data": {
      "image/png": "[encoded data removed]",
      "text/plain": [
       "<Figure size 432x288 with 1 Axes>"
      ]
     },
     "metadata": {},
     "output_type": "display_data"
    }
   ],
   "source": [
    "plt.scatter(master['Max APOBEC score'], master['Coding mutation rate (Mb)'])"
   ]
  },
  {
   "cell_type": "code",
   "execution_count": null,
   "metadata": {},
   "outputs": [],
   "source": []
  }
 ],
 "metadata": {
  "kernelspec": {
   "display_name": "Python 3",
   "language": "python",
   "name": "python3"
  },
  "language_info": {
   "codemirror_mode": {
    "name": "ipython",
    "version": 3
   },
   "file_extension": ".py",
   "mimetype": "text/x-python",
   "name": "python",
   "nbconvert_exporter": "python",
   "pygments_lexer": "ipython3",
   "version": "3.7.3"
  }
 },
 "nbformat": 4,
 "nbformat_minor": 2
}
