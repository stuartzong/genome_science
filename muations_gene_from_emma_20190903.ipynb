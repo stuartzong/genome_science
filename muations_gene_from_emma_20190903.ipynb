{
 "cells": [
  {
   "cell_type": "code",
   "execution_count": 2,
   "metadata": {},
   "outputs": [],
   "source": [
    "import pandas as pd\n",
    "from IPython.core.interactiveshell import InteractiveShell\n",
    "InteractiveShell.ast_node_interactivity = \"all\""
   ]
  },
  {
   "cell_type": "code",
   "execution_count": 3,
   "metadata": {},
   "outputs": [
    {
     "data": {
      "text/html": [
       "<div>\n",
       "<style scoped>\n",
       "    .dataframe tbody tr th:only-of-type {\n",
       "        vertical-align: middle;\n",
       "    }\n",
       "\n",
       "    .dataframe tbody tr th {\n",
       "        vertical-align: top;\n",
       "    }\n",
       "\n",
       "    .dataframe thead th {\n",
       "        text-align: right;\n",
       "    }\n",
       "</style>\n",
       "<table border=\"1\" class=\"dataframe\">\n",
       "  <thead>\n",
       "    <tr style=\"text-align: right;\">\n",
       "      <th></th>\n",
       "      <th>chr</th>\n",
       "      <th>pos</th>\n",
       "      <th>ref</th>\n",
       "      <th>alt</th>\n",
       "      <th>patient</th>\n",
       "      <th>impact</th>\n",
       "      <th>impact_type</th>\n",
       "      <th>type</th>\n",
       "      <th>AA_change</th>\n",
       "      <th>gene</th>\n",
       "      <th>transcript</th>\n",
       "    </tr>\n",
       "  </thead>\n",
       "  <tbody>\n",
       "    <tr>\n",
       "      <th>0</th>\n",
       "      <td>1</td>\n",
       "      <td>2706109</td>\n",
       "      <td>C</td>\n",
       "      <td>G</td>\n",
       "      <td>HTMCP-03-06-02001</td>\n",
       "      <td>SYNONYMOUS_CODING</td>\n",
       "      <td>LOW</td>\n",
       "      <td>SILENT</td>\n",
       "      <td>R16</td>\n",
       "      <td>TTC34</td>\n",
       "      <td>ENST00000401095</td>\n",
       "    </tr>\n",
       "    <tr>\n",
       "      <th>1</th>\n",
       "      <td>1</td>\n",
       "      <td>2706109</td>\n",
       "      <td>C</td>\n",
       "      <td>G</td>\n",
       "      <td>HTMCP-03-06-02001</td>\n",
       "      <td>SYNONYMOUS_CODING</td>\n",
       "      <td>LOW</td>\n",
       "      <td>SILENT</td>\n",
       "      <td>R16</td>\n",
       "      <td>TTC34</td>\n",
       "      <td>ENST00000574621</td>\n",
       "    </tr>\n",
       "    <tr>\n",
       "      <th>2</th>\n",
       "      <td>1</td>\n",
       "      <td>4771973</td>\n",
       "      <td>C</td>\n",
       "      <td>T</td>\n",
       "      <td>HTMCP-03-06-02001</td>\n",
       "      <td>NON_SYNONYMOUS_CODING</td>\n",
       "      <td>MODERATE</td>\n",
       "      <td>MISSENSE</td>\n",
       "      <td>R15C</td>\n",
       "      <td>AJAP1</td>\n",
       "      <td>ENST00000378190</td>\n",
       "    </tr>\n",
       "    <tr>\n",
       "      <th>3</th>\n",
       "      <td>1</td>\n",
       "      <td>4771973</td>\n",
       "      <td>C</td>\n",
       "      <td>T</td>\n",
       "      <td>HTMCP-03-06-02001</td>\n",
       "      <td>NON_SYNONYMOUS_CODING</td>\n",
       "      <td>MODERATE</td>\n",
       "      <td>MISSENSE</td>\n",
       "      <td>R15C</td>\n",
       "      <td>AJAP1</td>\n",
       "      <td>ENST00000378191</td>\n",
       "    </tr>\n",
       "    <tr>\n",
       "      <th>4</th>\n",
       "      <td>1</td>\n",
       "      <td>6146051</td>\n",
       "      <td>G</td>\n",
       "      <td>C</td>\n",
       "      <td>HTMCP-03-06-02001</td>\n",
       "      <td>NON_SYNONYMOUS_CODING</td>\n",
       "      <td>MODERATE</td>\n",
       "      <td>MISSENSE</td>\n",
       "      <td>G104A</td>\n",
       "      <td>KCNAB2</td>\n",
       "      <td>ENST00000462676</td>\n",
       "    </tr>\n",
       "  </tbody>\n",
       "</table>\n",
       "</div>"
      ],
      "text/plain": [
       "  chr      pos ref alt            patient                 impact impact_type  \\\n",
       "0   1  2706109   C   G  HTMCP-03-06-02001      SYNONYMOUS_CODING         LOW   \n",
       "1   1  2706109   C   G  HTMCP-03-06-02001      SYNONYMOUS_CODING         LOW   \n",
       "2   1  4771973   C   T  HTMCP-03-06-02001  NON_SYNONYMOUS_CODING    MODERATE   \n",
       "3   1  4771973   C   T  HTMCP-03-06-02001  NON_SYNONYMOUS_CODING    MODERATE   \n",
       "4   1  6146051   G   C  HTMCP-03-06-02001  NON_SYNONYMOUS_CODING    MODERATE   \n",
       "\n",
       "       type AA_change    gene       transcript  \n",
       "0    SILENT       R16   TTC34  ENST00000401095  \n",
       "1    SILENT       R16   TTC34  ENST00000574621  \n",
       "2  MISSENSE      R15C   AJAP1  ENST00000378190  \n",
       "3  MISSENSE      R15C   AJAP1  ENST00000378191  \n",
       "4  MISSENSE     G104A  KCNAB2  ENST00000462676  "
      ]
     },
     "execution_count": 3,
     "metadata": {},
     "output_type": "execute_result"
    },
    {
     "data": {
      "text/plain": [
       "(102013, 11)"
      ]
     },
     "execution_count": 3,
     "metadata": {},
     "output_type": "execute_result"
    }
   ],
   "source": [
    "f = '/projects/trans_scratch/validations/workspace/szong/Cervical/variant_bwamem/124_patients_new/strelka_HML_summary_20190527.txt'\n",
    "df = pd.read_csv(f, sep='\\t')\n",
    "df.head()\n",
    "df.shape"
   ]
  },
  {
   "cell_type": "code",
   "execution_count": 4,
   "metadata": {},
   "outputs": [
    {
     "data": {
      "text/plain": [
       "['B2M',\n",
       " 'CD80',\n",
       " 'CD86',\n",
       " 'HLA-A',\n",
       " 'HLA-B',\n",
       " 'HLA-C',\n",
       " 'HLA-DRA',\n",
       " 'HLA-DRB1',\n",
       " 'ICAM1',\n",
       " 'IFI30',\n",
       " 'NLRC5',\n",
       " 'TAP1']"
      ]
     },
     "execution_count": 4,
     "metadata": {},
     "output_type": "execute_result"
    }
   ],
   "source": [
    "f2 = '/projects/trans_scratch/validations/workspace/szong/Cervical/variant_bwamem/124_patients_new/genes_from_emma.txt'\n",
    "genes = pd.read_csv(f2, header=None)[0].tolist()\n",
    "genes"
   ]
  },
  {
   "cell_type": "code",
   "execution_count": 9,
   "metadata": {},
   "outputs": [
    {
     "data": {
      "text/html": [
       "<div>\n",
       "<style scoped>\n",
       "    .dataframe tbody tr th:only-of-type {\n",
       "        vertical-align: middle;\n",
       "    }\n",
       "\n",
       "    .dataframe tbody tr th {\n",
       "        vertical-align: top;\n",
       "    }\n",
       "\n",
       "    .dataframe thead th {\n",
       "        text-align: right;\n",
       "    }\n",
       "</style>\n",
       "<table border=\"1\" class=\"dataframe\">\n",
       "  <thead>\n",
       "    <tr style=\"text-align: right;\">\n",
       "      <th></th>\n",
       "      <th>chr</th>\n",
       "      <th>pos</th>\n",
       "      <th>ref</th>\n",
       "      <th>alt</th>\n",
       "      <th>patient</th>\n",
       "      <th>impact</th>\n",
       "      <th>impact_type</th>\n",
       "      <th>type</th>\n",
       "      <th>AA_change</th>\n",
       "      <th>gene</th>\n",
       "      <th>transcript</th>\n",
       "    </tr>\n",
       "  </thead>\n",
       "  <tbody>\n",
       "    <tr>\n",
       "      <th>1242</th>\n",
       "      <td>6</td>\n",
       "      <td>29910335</td>\n",
       "      <td>C</td>\n",
       "      <td>T</td>\n",
       "      <td>HTMCP-03-06-02002</td>\n",
       "      <td>NON_SYNONYMOUS_CODING</td>\n",
       "      <td>MODERATE</td>\n",
       "      <td>MISSENSE</td>\n",
       "      <td>A2V</td>\n",
       "      <td>HLA-A</td>\n",
       "      <td>ENST00000376809</td>\n",
       "    </tr>\n",
       "    <tr>\n",
       "      <th>1243</th>\n",
       "      <td>6</td>\n",
       "      <td>29910335</td>\n",
       "      <td>C</td>\n",
       "      <td>T</td>\n",
       "      <td>HTMCP-03-06-02002</td>\n",
       "      <td>NON_SYNONYMOUS_CODING</td>\n",
       "      <td>MODERATE</td>\n",
       "      <td>MISSENSE</td>\n",
       "      <td>A2V</td>\n",
       "      <td>HLA-A</td>\n",
       "      <td>ENST00000396634</td>\n",
       "    </tr>\n",
       "  </tbody>\n",
       "</table>\n",
       "</div>"
      ],
      "text/plain": [
       "     chr       pos ref alt            patient                 impact  \\\n",
       "1242   6  29910335   C   T  HTMCP-03-06-02002  NON_SYNONYMOUS_CODING   \n",
       "1243   6  29910335   C   T  HTMCP-03-06-02002  NON_SYNONYMOUS_CODING   \n",
       "\n",
       "     impact_type      type AA_change   gene       transcript  \n",
       "1242    MODERATE  MISSENSE       A2V  HLA-A  ENST00000376809  \n",
       "1243    MODERATE  MISSENSE       A2V  HLA-A  ENST00000396634  "
      ]
     },
     "execution_count": 9,
     "metadata": {},
     "output_type": "execute_result"
    }
   ],
   "source": [
    "dfs = df[df.gene.isin(genes)]\n",
    "dfs[dfs.gene == 'HLA-A'].head(2)"
   ]
  },
  {
   "cell_type": "code",
   "execution_count": 11,
   "metadata": {},
   "outputs": [],
   "source": [
    "cols = ['chr', 'pos', 'ref', 'alt', 'patient', 'impact', 'impact_type', 'gene']"
   ]
  },
  {
   "cell_type": "code",
   "execution_count": 29,
   "metadata": {},
   "outputs": [
    {
     "data": {
      "text/plain": [
       "(37, 8)"
      ]
     },
     "execution_count": 29,
     "metadata": {},
     "output_type": "execute_result"
    },
    {
     "data": {
      "text/plain": [
       "HLA-A       9\n",
       "HLA-B       6\n",
       "HLA-C       5\n",
       "NLRC5       4\n",
       "ICAM1       3\n",
       "TAP1        3\n",
       "CD80        2\n",
       "B2M         2\n",
       "HLA-DRB1    2\n",
       "CD86        1\n",
       "Name: gene, dtype: int64"
      ]
     },
     "execution_count": 29,
     "metadata": {},
     "output_type": "execute_result"
    }
   ],
   "source": [
    "dff = dfs[cols].drop_duplicates(keep='first')\n",
    "dff.shape\n",
    "dff.gene.value_counts()"
   ]
  },
  {
   "cell_type": "code",
   "execution_count": 27,
   "metadata": {},
   "outputs": [
    {
     "data": {
      "text/plain": [
       "118"
      ]
     },
     "execution_count": 27,
     "metadata": {},
     "output_type": "execute_result"
    }
   ],
   "source": [
    "f = '/projects/trans_scratch/validations/workspace/szong/Cervical/118_patients.txt'\n",
    "patients = pd.read_csv(f, header=None)[0].tolist()\n",
    "len(patients)"
   ]
  },
  {
   "cell_type": "code",
   "execution_count": 28,
   "metadata": {},
   "outputs": [
    {
     "data": {
      "text/plain": [
       "(37, 8)"
      ]
     },
     "execution_count": 28,
     "metadata": {},
     "output_type": "execute_result"
    }
   ],
   "source": [
    "dff[dff.patient.isin(patients)].shape"
   ]
  },
  {
   "cell_type": "code",
   "execution_count": 31,
   "metadata": {},
   "outputs": [],
   "source": [
    "of = '/projects/trans_scratch/validations/workspace/szong/Cervical/variant_bwamem/124_patients_new/mutations_immune_response.txt'\n",
    "dff.to_csv(of, sep='\\t', index=False)"
   ]
  },
  {
   "cell_type": "code",
   "execution_count": null,
   "metadata": {},
   "outputs": [],
   "source": []
  },
  {
   "cell_type": "code",
   "execution_count": null,
   "metadata": {},
   "outputs": [],
   "source": []
  },
  {
   "cell_type": "markdown",
   "metadata": {},
   "source": [
    "# bams for tumour content by Luka"
   ]
  },
  {
   "cell_type": "code",
   "execution_count": 32,
   "metadata": {},
   "outputs": [
    {
     "data": {
      "text/plain": [
       "(248, 29)"
      ]
     },
     "execution_count": 32,
     "metadata": {},
     "output_type": "execute_result"
    }
   ],
   "source": [
    "f = '/projects/trans_scratch/validations/workspace/szong/Cervical/variant_bwamem/124_patients_new/124_patients_bam_vcf_20190115.csv'\n",
    "df1 = pd.read_csv(f)\n",
    "df1.shape"
   ]
  },
  {
   "cell_type": "code",
   "execution_count": 33,
   "metadata": {},
   "outputs": [
    {
     "data": {
      "text/html": [
       "<div>\n",
       "<style scoped>\n",
       "    .dataframe tbody tr th:only-of-type {\n",
       "        vertical-align: middle;\n",
       "    }\n",
       "\n",
       "    .dataframe tbody tr th {\n",
       "        vertical-align: top;\n",
       "    }\n",
       "\n",
       "    .dataframe thead th {\n",
       "        text-align: right;\n",
       "    }\n",
       "</style>\n",
       "<table border=\"1\" class=\"dataframe\">\n",
       "  <thead>\n",
       "    <tr style=\"text-align: right;\">\n",
       "      <th></th>\n",
       "      <th>patient</th>\n",
       "      <th>HIV_status</th>\n",
       "      <th>DNA_lib</th>\n",
       "      <th>DNA_single_vcf</th>\n",
       "      <th>strelka_indel_vcf</th>\n",
       "      <th>strelka_snv_vcf</th>\n",
       "      <th>source</th>\n",
       "      <th>status</th>\n",
       "      <th>RNA_lib</th>\n",
       "      <th>ribodepleted_lib</th>\n",
       "      <th>...</th>\n",
       "      <th>other_vcf</th>\n",
       "      <th>DNA_tc</th>\n",
       "      <th>RNA_tc</th>\n",
       "      <th>cnv</th>\n",
       "      <th>bbt_transcriptome</th>\n",
       "      <th>bbt_genome</th>\n",
       "      <th>bbt_transcriptome_other_bacterial</th>\n",
       "      <th>bbt_genome_other_bacterial</th>\n",
       "      <th>bbt_transcriptome_other_viral</th>\n",
       "      <th>bbt_genome_other_viral</th>\n",
       "    </tr>\n",
       "  </thead>\n",
       "  <tbody>\n",
       "    <tr>\n",
       "      <th>0</th>\n",
       "      <td>HTMCP-03-06-02001</td>\n",
       "      <td>Positive</td>\n",
       "      <td>A37234</td>\n",
       "      <td>/projects/analysis31/A37234/vcall21989_merge13...</td>\n",
       "      <td>/projects/somatic/NCI_SAIC_HIV_Cervical/HTMCP-...</td>\n",
       "      <td>/projects/somatic/NCI_SAIC_HIV_Cervical/HTMCP-...</td>\n",
       "      <td>HTMCP_124</td>\n",
       "      <td>Malignant</td>\n",
       "      <td>A37700</td>\n",
       "      <td>A56295</td>\n",
       "      <td>...</td>\n",
       "      <td>NaN</td>\n",
       "      <td>55.0</td>\n",
       "      <td>55.0</td>\n",
       "      <td>/projects/somatic/NCI_SAIC_HIV_Cervical/HTMCP-...</td>\n",
       "      <td>/projects/NCI_validation2_assembly/NCI_SAIC_HI...</td>\n",
       "      <td>/projects/NCI_validation2_assembly/NCI_SAIC_HI...</td>\n",
       "      <td>/projects/NCI_validation2_assembly/NCI_SAIC_HI...</td>\n",
       "      <td>/projects/NCI_validation2_assembly/NCI_SAIC_HI...</td>\n",
       "      <td>/projects/NCI_validation2_assembly/NCI_SAIC_HI...</td>\n",
       "      <td>/projects/NCI_validation2_assembly/NCI_SAIC_HI...</td>\n",
       "    </tr>\n",
       "    <tr>\n",
       "      <th>1</th>\n",
       "      <td>HTMCP-03-06-02002</td>\n",
       "      <td>Negative</td>\n",
       "      <td>A37235</td>\n",
       "      <td>/projects/analysis31/A37235/vcall21991_merge13...</td>\n",
       "      <td>/projects/somatic/NCI_SAIC_HIV_Cervical/HTMCP-...</td>\n",
       "      <td>/projects/somatic/NCI_SAIC_HIV_Cervical/HTMCP-...</td>\n",
       "      <td>HTMCP_125</td>\n",
       "      <td>Malignant</td>\n",
       "      <td>A37701</td>\n",
       "      <td>A56296</td>\n",
       "      <td>...</td>\n",
       "      <td>NaN</td>\n",
       "      <td>70.0</td>\n",
       "      <td>70.0</td>\n",
       "      <td>/projects/somatic/NCI_SAIC_HIV_Cervical/HTMCP-...</td>\n",
       "      <td>/projects/NCI_validation2_assembly/NCI_SAIC_HI...</td>\n",
       "      <td>/projects/NCI_validation2_assembly/NCI_SAIC_HI...</td>\n",
       "      <td>/projects/NCI_validation2_assembly/NCI_SAIC_HI...</td>\n",
       "      <td>/projects/NCI_validation2_assembly/NCI_SAIC_HI...</td>\n",
       "      <td>/projects/NCI_validation2_assembly/NCI_SAIC_HI...</td>\n",
       "      <td>/projects/NCI_validation2_assembly/NCI_SAIC_HI...</td>\n",
       "    </tr>\n",
       "  </tbody>\n",
       "</table>\n",
       "<p>2 rows × 29 columns</p>\n",
       "</div>"
      ],
      "text/plain": [
       "             patient HIV_status DNA_lib  \\\n",
       "0  HTMCP-03-06-02001   Positive  A37234   \n",
       "1  HTMCP-03-06-02002   Negative  A37235   \n",
       "\n",
       "                                      DNA_single_vcf  \\\n",
       "0  /projects/analysis31/A37234/vcall21989_merge13...   \n",
       "1  /projects/analysis31/A37235/vcall21991_merge13...   \n",
       "\n",
       "                                   strelka_indel_vcf  \\\n",
       "0  /projects/somatic/NCI_SAIC_HIV_Cervical/HTMCP-...   \n",
       "1  /projects/somatic/NCI_SAIC_HIV_Cervical/HTMCP-...   \n",
       "\n",
       "                                     strelka_snv_vcf     source     status  \\\n",
       "0  /projects/somatic/NCI_SAIC_HIV_Cervical/HTMCP-...  HTMCP_124  Malignant   \n",
       "1  /projects/somatic/NCI_SAIC_HIV_Cervical/HTMCP-...  HTMCP_125  Malignant   \n",
       "\n",
       "  RNA_lib ribodepleted_lib  ... other_vcf DNA_tc RNA_tc  \\\n",
       "0  A37700           A56295  ...       NaN   55.0   55.0   \n",
       "1  A37701           A56296  ...       NaN   70.0   70.0   \n",
       "\n",
       "                                                 cnv  \\\n",
       "0  /projects/somatic/NCI_SAIC_HIV_Cervical/HTMCP-...   \n",
       "1  /projects/somatic/NCI_SAIC_HIV_Cervical/HTMCP-...   \n",
       "\n",
       "                                   bbt_transcriptome  \\\n",
       "0  /projects/NCI_validation2_assembly/NCI_SAIC_HI...   \n",
       "1  /projects/NCI_validation2_assembly/NCI_SAIC_HI...   \n",
       "\n",
       "                                          bbt_genome  \\\n",
       "0  /projects/NCI_validation2_assembly/NCI_SAIC_HI...   \n",
       "1  /projects/NCI_validation2_assembly/NCI_SAIC_HI...   \n",
       "\n",
       "                   bbt_transcriptome_other_bacterial  \\\n",
       "0  /projects/NCI_validation2_assembly/NCI_SAIC_HI...   \n",
       "1  /projects/NCI_validation2_assembly/NCI_SAIC_HI...   \n",
       "\n",
       "                          bbt_genome_other_bacterial  \\\n",
       "0  /projects/NCI_validation2_assembly/NCI_SAIC_HI...   \n",
       "1  /projects/NCI_validation2_assembly/NCI_SAIC_HI...   \n",
       "\n",
       "                       bbt_transcriptome_other_viral  \\\n",
       "0  /projects/NCI_validation2_assembly/NCI_SAIC_HI...   \n",
       "1  /projects/NCI_validation2_assembly/NCI_SAIC_HI...   \n",
       "\n",
       "                              bbt_genome_other_viral  \n",
       "0  /projects/NCI_validation2_assembly/NCI_SAIC_HI...  \n",
       "1  /projects/NCI_validation2_assembly/NCI_SAIC_HI...  \n",
       "\n",
       "[2 rows x 29 columns]"
      ]
     },
     "execution_count": 33,
     "metadata": {},
     "output_type": "execute_result"
    }
   ],
   "source": [
    "df1.head(2)"
   ]
  },
  {
   "cell_type": "code",
   "execution_count": 36,
   "metadata": {},
   "outputs": [],
   "source": [
    "df1s = df1[df1.patient.isin(patients)]"
   ]
  },
  {
   "cell_type": "code",
   "execution_count": 40,
   "metadata": {},
   "outputs": [
    {
     "data": {
      "text/plain": [
       "Index(['patient', 'HIV_status', 'DNA_lib', 'DNA_single_vcf',\n",
       "       'strelka_indel_vcf', 'strelka_snv_vcf', 'source', 'status', 'RNA_lib',\n",
       "       'ribodepleted_lib', 'DNA_bam', 'RNA_bam', 'DNA_single_vcf_old',\n",
       "       'paired_mpileup_vcf', 'strelka_snv_vcf_old', 'strelka_indel_vcf_old',\n",
       "       'mutseq_snv_vcf', 'mutseq_snv_vcf_old', 'RNA_single_vcf', 'other_vcf',\n",
       "       'DNA_tc', 'RNA_tc', 'cnv', 'bbt_transcriptome', 'bbt_genome',\n",
       "       'bbt_transcriptome_other_bacterial', 'bbt_genome_other_bacterial',\n",
       "       'bbt_transcriptome_other_viral', 'bbt_genome_other_viral'],\n",
       "      dtype='object')"
      ]
     },
     "execution_count": 40,
     "metadata": {},
     "output_type": "execute_result"
    }
   ],
   "source": [
    "df1s.columns\n",
    "dff = df1s[['patient','status','DNA_lib', 'DNA_bam' ]]"
   ]
  },
  {
   "cell_type": "code",
   "execution_count": 42,
   "metadata": {},
   "outputs": [],
   "source": [
    "of = '/projects/trans_scratch/validations/workspace/szong/Cervical/variant_bwamem/124_patients_new/118_patients_bams_20190903.txt'\n",
    "dff.to_csv(of, sep='\\t', index=False)"
   ]
  },
  {
   "cell_type": "code",
   "execution_count": null,
   "metadata": {},
   "outputs": [],
   "source": []
  }
 ],
 "metadata": {
  "kernelspec": {
   "display_name": "Python 3",
   "language": "python",
   "name": "python3"
  },
  "language_info": {
   "codemirror_mode": {
    "name": "ipython",
    "version": 3
   },
   "file_extension": ".py",
   "mimetype": "text/x-python",
   "name": "python",
   "nbconvert_exporter": "python",
   "pygments_lexer": "ipython3",
   "version": "3.7.3"
  }
 },
 "nbformat": 4,
 "nbformat_minor": 2
}
