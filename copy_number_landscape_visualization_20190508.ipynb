{
 "cells": [
  {
   "cell_type": "code",
   "execution_count": 2,
   "metadata": {},
   "outputs": [],
   "source": [
    "import csv\n",
    "import re\n",
    "import matplotlib\n",
    "# import seaborn\n",
    "import seaborn as sns\n",
    "import numpy as np\n",
    "import matplotlib.pyplot as plt\n",
    "from pylab import *\n",
    "from scipy.stats import ttest_ind\n",
    "import scipy.stats as stats\n",
    "import scipy.stats as ss\n",
    "from matplotlib import style\n",
    "import matplotlib.gridspec as gridspec\n",
    "import matplotlib.patches as patches\n",
    "matplotlib.style.use('ggplot')\n",
    "%matplotlib inline\n",
    "matplotlib.rcParams['figure.figsize'] = (12, 6)\n",
    "import pandas as pd\n",
    "\n",
    "# from sklearn.decomposition import RandomizedPCA, PCA, TruncatedSVD\n",
    "# from sklearn.linear_model import LogisticRegression\n",
    "# from sklearn.manifold import TSNE\n",
    "# from sklearn.preprocessing import StandardScaler\n",
    "import seaborn\n",
    "\n",
    "plt.style.context(\"seaborn-whitegrid\")\n",
    "plt.rcParams[\"axes.edgecolor\"] = \"0.15\"\n",
    "plt.rcParams[\"axes.linewidth\"]  = 1.25\n",
    "from IPython.core.interactiveshell import InteractiveShell\n",
    "InteractiveShell.ast_node_interactivity = \"all\"\n"
   ]
  },
  {
   "cell_type": "markdown",
   "metadata": {},
   "source": [
    "matlab :  /gsc/software/linux-x86_64-centos5/matlab-2013a/bin/matlab"
   ]
  },
  {
   "cell_type": "markdown",
   "metadata": {},
   "source": [
    "### try to use gistic thresholded data for cn landscape"
   ]
  },
  {
   "cell_type": "code",
   "execution_count": 204,
   "metadata": {},
   "outputs": [
    {
     "data": {
      "text/html": [
       "<div>\n",
       "<style scoped>\n",
       "    .dataframe tbody tr th:only-of-type {\n",
       "        vertical-align: middle;\n",
       "    }\n",
       "\n",
       "    .dataframe tbody tr th {\n",
       "        vertical-align: top;\n",
       "    }\n",
       "\n",
       "    .dataframe thead th {\n",
       "        text-align: right;\n",
       "    }\n",
       "</style>\n",
       "<table border=\"1\" class=\"dataframe\">\n",
       "  <thead>\n",
       "    <tr style=\"text-align: right;\">\n",
       "      <th></th>\n",
       "      <th>refseq</th>\n",
       "      <th>gene</th>\n",
       "      <th>symb</th>\n",
       "      <th>locus_id</th>\n",
       "      <th>chr</th>\n",
       "      <th>strand</th>\n",
       "      <th>start</th>\n",
       "      <th>nd</th>\n",
       "      <th>cds_start</th>\n",
       "      <th>cds_end</th>\n",
       "      <th>status</th>\n",
       "      <th>chrn</th>\n",
       "    </tr>\n",
       "  </thead>\n",
       "  <tbody>\n",
       "    <tr>\n",
       "      <th>0</th>\n",
       "      <td>NM_000014</td>\n",
       "      <td>alpha-2-macroglobulin precursor</td>\n",
       "      <td>A2M</td>\n",
       "      <td>2</td>\n",
       "      <td>chr12</td>\n",
       "      <td>0</td>\n",
       "      <td>9220303</td>\n",
       "      <td>9268558</td>\n",
       "      <td>9220418</td>\n",
       "      <td>9268445</td>\n",
       "      <td>Reviewed</td>\n",
       "      <td>12</td>\n",
       "    </tr>\n",
       "    <tr>\n",
       "      <th>1</th>\n",
       "      <td>NM_000015</td>\n",
       "      <td>arylamine N-acetyltransferase 2</td>\n",
       "      <td>NAT2</td>\n",
       "      <td>10</td>\n",
       "      <td>chr8</td>\n",
       "      <td>1</td>\n",
       "      <td>18248754</td>\n",
       "      <td>18258723</td>\n",
       "      <td>18257513</td>\n",
       "      <td>18258386</td>\n",
       "      <td>Reviewed</td>\n",
       "      <td>8</td>\n",
       "    </tr>\n",
       "  </tbody>\n",
       "</table>\n",
       "</div>"
      ],
      "text/plain": [
       "      refseq                             gene  symb  locus_id    chr  strand  \\\n",
       "0  NM_000014  alpha-2-macroglobulin precursor   A2M         2  chr12       0   \n",
       "1  NM_000015  arylamine N-acetyltransferase 2  NAT2        10   chr8       1   \n",
       "\n",
       "      start        nd  cds_start   cds_end    status  chrn  \n",
       "0   9220303   9268558    9220418   9268445  Reviewed    12  \n",
       "1  18248754  18258723   18257513  18258386  Reviewed     8  "
      ]
     },
     "execution_count": 204,
     "metadata": {},
     "output_type": "execute_result"
    }
   ],
   "source": [
    "# use gistic refgenefile including both the cytoband and ref genes\n",
    "f1 = '/projects/da_workspace/software/gistic/rg.txt'\n",
    "df1 = pd.read_csv(f1)\n",
    "df1.head(2)\n",
    "df1 = df1.set_index(['chrn', 'start', 'nd'])\n",
    "df1 = df1.loc[~df1.index.duplicated(keep='first')].reset_index()\n",
    "df1 = df1[df1.chrn != 24]"
   ]
  },
  {
   "cell_type": "code",
   "execution_count": 189,
   "metadata": {},
   "outputs": [
    {
     "data": {
      "text/html": [
       "<div>\n",
       "<style scoped>\n",
       "    .dataframe tbody tr th:only-of-type {\n",
       "        vertical-align: middle;\n",
       "    }\n",
       "\n",
       "    .dataframe tbody tr th {\n",
       "        vertical-align: top;\n",
       "    }\n",
       "\n",
       "    .dataframe thead th {\n",
       "        text-align: right;\n",
       "    }\n",
       "</style>\n",
       "<table border=\"1\" class=\"dataframe\">\n",
       "  <thead>\n",
       "    <tr style=\"text-align: right;\">\n",
       "      <th></th>\n",
       "      <th>chrn</th>\n",
       "      <th>start</th>\n",
       "      <th>nd</th>\n",
       "      <th>refseq</th>\n",
       "      <th>gene</th>\n",
       "      <th>symb</th>\n",
       "      <th>locus_id</th>\n",
       "      <th>chr</th>\n",
       "      <th>strand</th>\n",
       "      <th>cds_start</th>\n",
       "      <th>cds_end</th>\n",
       "      <th>status</th>\n",
       "    </tr>\n",
       "  </thead>\n",
       "  <tbody>\n",
       "    <tr>\n",
       "      <th>26067</th>\n",
       "      <td>1</td>\n",
       "      <td>34610</td>\n",
       "      <td>36081</td>\n",
       "      <td>NR_026818</td>\n",
       "      <td>NaN</td>\n",
       "      <td>FAM138A</td>\n",
       "      <td>645520</td>\n",
       "      <td>chr1</td>\n",
       "      <td>0</td>\n",
       "      <td>36081</td>\n",
       "      <td>36081</td>\n",
       "      <td>Validated</td>\n",
       "    </tr>\n",
       "  </tbody>\n",
       "</table>\n",
       "</div>"
      ],
      "text/plain": [
       "       chrn  start     nd     refseq gene     symb  locus_id   chr  strand  \\\n",
       "26067     1  34610  36081  NR_026818  NaN  FAM138A    645520  chr1       0   \n",
       "\n",
       "       cds_start  cds_end     status  \n",
       "26067      36081    36081  Validated  "
      ]
     },
     "execution_count": 189,
     "metadata": {},
     "output_type": "execute_result"
    }
   ],
   "source": [
    "df1[df1.start==34610]"
   ]
  },
  {
   "cell_type": "code",
   "execution_count": 205,
   "metadata": {},
   "outputs": [
    {
     "data": {
      "text/html": [
       "<div>\n",
       "<style scoped>\n",
       "    .dataframe tbody tr th:only-of-type {\n",
       "        vertical-align: middle;\n",
       "    }\n",
       "\n",
       "    .dataframe tbody tr th {\n",
       "        vertical-align: top;\n",
       "    }\n",
       "\n",
       "    .dataframe thead th {\n",
       "        text-align: right;\n",
       "    }\n",
       "</style>\n",
       "<table border=\"1\" class=\"dataframe\">\n",
       "  <thead>\n",
       "    <tr style=\"text-align: right;\">\n",
       "      <th></th>\n",
       "      <th>Gene Symbol</th>\n",
       "      <th>Locus ID</th>\n",
       "      <th>Cytoband</th>\n",
       "      <th>TCGA-BI-A0VR-01A</th>\n",
       "      <th>TCGA-BI-A0VS-01A</th>\n",
       "      <th>TCGA-BI-A20A-01A</th>\n",
       "      <th>TCGA-C5-A0TN-01A</th>\n",
       "      <th>TCGA-C5-A1BE-01B</th>\n",
       "      <th>TCGA-C5-A1BF-01B</th>\n",
       "      <th>TCGA-C5-A1BI-01B</th>\n",
       "      <th>...</th>\n",
       "      <th>TCGA-Q1-A6DT-01A</th>\n",
       "      <th>TCGA-Q1-A6DV-01A</th>\n",
       "      <th>TCGA-Q1-A6DW-01A</th>\n",
       "      <th>TCGA-Q1-A73O-01A</th>\n",
       "      <th>TCGA-Q1-A73P-01A</th>\n",
       "      <th>TCGA-Q1-A73Q-01A</th>\n",
       "      <th>TCGA-Q1-A73R-01A</th>\n",
       "      <th>TCGA-Q1-A73S-01A</th>\n",
       "      <th>TCGA-R2-A69V-01A</th>\n",
       "      <th>TCGA-RA-A741-01A</th>\n",
       "    </tr>\n",
       "  </thead>\n",
       "  <tbody>\n",
       "    <tr>\n",
       "      <th>0</th>\n",
       "      <td>ACAP3</td>\n",
       "      <td>116983</td>\n",
       "      <td>1p36.33</td>\n",
       "      <td>1</td>\n",
       "      <td>1</td>\n",
       "      <td>0</td>\n",
       "      <td>-1</td>\n",
       "      <td>0</td>\n",
       "      <td>0</td>\n",
       "      <td>1</td>\n",
       "      <td>...</td>\n",
       "      <td>-1</td>\n",
       "      <td>0</td>\n",
       "      <td>1</td>\n",
       "      <td>0</td>\n",
       "      <td>0</td>\n",
       "      <td>0</td>\n",
       "      <td>0</td>\n",
       "      <td>0</td>\n",
       "      <td>0</td>\n",
       "      <td>0</td>\n",
       "    </tr>\n",
       "    <tr>\n",
       "      <th>1</th>\n",
       "      <td>ACTRT2</td>\n",
       "      <td>140625</td>\n",
       "      <td>1p36.32</td>\n",
       "      <td>1</td>\n",
       "      <td>1</td>\n",
       "      <td>0</td>\n",
       "      <td>-1</td>\n",
       "      <td>0</td>\n",
       "      <td>0</td>\n",
       "      <td>1</td>\n",
       "      <td>...</td>\n",
       "      <td>-1</td>\n",
       "      <td>0</td>\n",
       "      <td>1</td>\n",
       "      <td>0</td>\n",
       "      <td>0</td>\n",
       "      <td>0</td>\n",
       "      <td>0</td>\n",
       "      <td>0</td>\n",
       "      <td>0</td>\n",
       "      <td>0</td>\n",
       "    </tr>\n",
       "  </tbody>\n",
       "</table>\n",
       "<p>2 rows × 180 columns</p>\n",
       "</div>"
      ],
      "text/plain": [
       "  Gene Symbol  Locus ID Cytoband  TCGA-BI-A0VR-01A  TCGA-BI-A0VS-01A  \\\n",
       "0       ACAP3    116983  1p36.33                 1                 1   \n",
       "1      ACTRT2    140625  1p36.32                 1                 1   \n",
       "\n",
       "   TCGA-BI-A20A-01A  TCGA-C5-A0TN-01A  TCGA-C5-A1BE-01B  TCGA-C5-A1BF-01B  \\\n",
       "0                 0                -1                 0                 0   \n",
       "1                 0                -1                 0                 0   \n",
       "\n",
       "   TCGA-C5-A1BI-01B  ...  TCGA-Q1-A6DT-01A  TCGA-Q1-A6DV-01A  \\\n",
       "0                 1  ...                -1                 0   \n",
       "1                 1  ...                -1                 0   \n",
       "\n",
       "   TCGA-Q1-A6DW-01A  TCGA-Q1-A73O-01A  TCGA-Q1-A73P-01A  TCGA-Q1-A73Q-01A  \\\n",
       "0                 1                 0                 0                 0   \n",
       "1                 1                 0                 0                 0   \n",
       "\n",
       "   TCGA-Q1-A73R-01A  TCGA-Q1-A73S-01A  TCGA-R2-A69V-01A  TCGA-RA-A741-01A  \n",
       "0                 0                 0                 0                 0  \n",
       "1                 0                 0                 0                 0  \n",
       "\n",
       "[2 rows x 180 columns]"
      ]
     },
     "execution_count": 205,
     "metadata": {},
     "output_type": "execute_result"
    },
    {
     "data": {
      "text/plain": [
       "(23109, 180)"
      ]
     },
     "execution_count": 205,
     "metadata": {},
     "output_type": "execute_result"
    }
   ],
   "source": [
    "f2 = '/home/szong/bin/GISTIC_2_0_22/tcga/all_thresholded.by_genes.txt'\n",
    "df2 = pd.read_csv(f2, sep='\\t')#, index_col='Gene Symbol')\n",
    "df2.head(2)\n",
    "df2.shape"
   ]
  },
  {
   "cell_type": "code",
   "execution_count": 206,
   "metadata": {},
   "outputs": [],
   "source": [
    "df3 = pd.merge(df1, df2, left_on='symb', right_on='Gene Symbol', how='left')"
   ]
  },
  {
   "cell_type": "code",
   "execution_count": 207,
   "metadata": {},
   "outputs": [],
   "source": [
    "df3.fillna(0,inplace=True)"
   ]
  },
  {
   "cell_type": "code",
   "execution_count": 208,
   "metadata": {
    "scrolled": true
   },
   "outputs": [
    {
     "data": {
      "text/html": [
       "<div>\n",
       "<style scoped>\n",
       "    .dataframe tbody tr th:only-of-type {\n",
       "        vertical-align: middle;\n",
       "    }\n",
       "\n",
       "    .dataframe tbody tr th {\n",
       "        vertical-align: top;\n",
       "    }\n",
       "\n",
       "    .dataframe thead th {\n",
       "        text-align: right;\n",
       "    }\n",
       "</style>\n",
       "<table border=\"1\" class=\"dataframe\">\n",
       "  <thead>\n",
       "    <tr style=\"text-align: right;\">\n",
       "      <th></th>\n",
       "      <th>chrn</th>\n",
       "      <th>start</th>\n",
       "      <th>nd</th>\n",
       "      <th>refseq</th>\n",
       "      <th>gene</th>\n",
       "      <th>symb</th>\n",
       "      <th>locus_id</th>\n",
       "      <th>chr</th>\n",
       "      <th>strand</th>\n",
       "      <th>cds_start</th>\n",
       "      <th>...</th>\n",
       "      <th>TCGA-Q1-A6DT-01A</th>\n",
       "      <th>TCGA-Q1-A6DV-01A</th>\n",
       "      <th>TCGA-Q1-A6DW-01A</th>\n",
       "      <th>TCGA-Q1-A73O-01A</th>\n",
       "      <th>TCGA-Q1-A73P-01A</th>\n",
       "      <th>TCGA-Q1-A73Q-01A</th>\n",
       "      <th>TCGA-Q1-A73R-01A</th>\n",
       "      <th>TCGA-Q1-A73S-01A</th>\n",
       "      <th>TCGA-R2-A69V-01A</th>\n",
       "      <th>TCGA-RA-A741-01A</th>\n",
       "    </tr>\n",
       "  </thead>\n",
       "  <tbody>\n",
       "    <tr>\n",
       "      <th>0</th>\n",
       "      <td>12</td>\n",
       "      <td>9220303</td>\n",
       "      <td>9268558</td>\n",
       "      <td>NM_000014</td>\n",
       "      <td>alpha-2-macroglobulin precursor</td>\n",
       "      <td>A2M</td>\n",
       "      <td>2</td>\n",
       "      <td>chr12</td>\n",
       "      <td>0</td>\n",
       "      <td>9220418</td>\n",
       "      <td>...</td>\n",
       "      <td>-1.0</td>\n",
       "      <td>0.0</td>\n",
       "      <td>0.0</td>\n",
       "      <td>0.0</td>\n",
       "      <td>0.0</td>\n",
       "      <td>0.0</td>\n",
       "      <td>0.0</td>\n",
       "      <td>0.0</td>\n",
       "      <td>0.0</td>\n",
       "      <td>0.0</td>\n",
       "    </tr>\n",
       "    <tr>\n",
       "      <th>1</th>\n",
       "      <td>8</td>\n",
       "      <td>18248754</td>\n",
       "      <td>18258723</td>\n",
       "      <td>NM_000015</td>\n",
       "      <td>arylamine N-acetyltransferase 2</td>\n",
       "      <td>NAT2</td>\n",
       "      <td>10</td>\n",
       "      <td>chr8</td>\n",
       "      <td>1</td>\n",
       "      <td>18257513</td>\n",
       "      <td>...</td>\n",
       "      <td>-1.0</td>\n",
       "      <td>0.0</td>\n",
       "      <td>1.0</td>\n",
       "      <td>0.0</td>\n",
       "      <td>0.0</td>\n",
       "      <td>-1.0</td>\n",
       "      <td>0.0</td>\n",
       "      <td>-1.0</td>\n",
       "      <td>-1.0</td>\n",
       "      <td>-1.0</td>\n",
       "    </tr>\n",
       "  </tbody>\n",
       "</table>\n",
       "<p>2 rows × 192 columns</p>\n",
       "</div>"
      ],
      "text/plain": [
       "   chrn     start        nd     refseq                             gene  symb  \\\n",
       "0    12   9220303   9268558  NM_000014  alpha-2-macroglobulin precursor   A2M   \n",
       "1     8  18248754  18258723  NM_000015  arylamine N-acetyltransferase 2  NAT2   \n",
       "\n",
       "   locus_id    chr  strand  cds_start  ...  TCGA-Q1-A6DT-01A TCGA-Q1-A6DV-01A  \\\n",
       "0         2  chr12       0    9220418  ...              -1.0              0.0   \n",
       "1        10   chr8       1   18257513  ...              -1.0              0.0   \n",
       "\n",
       "  TCGA-Q1-A6DW-01A  TCGA-Q1-A73O-01A TCGA-Q1-A73P-01A  TCGA-Q1-A73Q-01A  \\\n",
       "0              0.0               0.0              0.0               0.0   \n",
       "1              1.0               0.0              0.0              -1.0   \n",
       "\n",
       "   TCGA-Q1-A73R-01A  TCGA-Q1-A73S-01A  TCGA-R2-A69V-01A  TCGA-RA-A741-01A  \n",
       "0               0.0               0.0               0.0               0.0  \n",
       "1               0.0              -1.0              -1.0              -1.0  \n",
       "\n",
       "[2 rows x 192 columns]"
      ]
     },
     "execution_count": 208,
     "metadata": {},
     "output_type": "execute_result"
    }
   ],
   "source": [
    "df3.head(2)"
   ]
  },
  {
   "cell_type": "code",
   "execution_count": 209,
   "metadata": {},
   "outputs": [],
   "source": [
    "\n",
    "cols = ['refseq', 'gene', 'locus_id', 'symb', 'chr', 'strand', 'cds_start', 'cds_end', 'status' ]\n",
    "df4 = df3.drop(cols, axis=1)"
   ]
  },
  {
   "cell_type": "code",
   "execution_count": 210,
   "metadata": {},
   "outputs": [
    {
     "data": {
      "text/html": [
       "<div>\n",
       "<style scoped>\n",
       "    .dataframe tbody tr th:only-of-type {\n",
       "        vertical-align: middle;\n",
       "    }\n",
       "\n",
       "    .dataframe tbody tr th {\n",
       "        vertical-align: top;\n",
       "    }\n",
       "\n",
       "    .dataframe thead th {\n",
       "        text-align: right;\n",
       "    }\n",
       "</style>\n",
       "<table border=\"1\" class=\"dataframe\">\n",
       "  <thead>\n",
       "    <tr style=\"text-align: right;\">\n",
       "      <th></th>\n",
       "      <th>chrn</th>\n",
       "      <th>start</th>\n",
       "      <th>nd</th>\n",
       "      <th>Gene Symbol</th>\n",
       "      <th>Locus ID</th>\n",
       "      <th>Cytoband</th>\n",
       "      <th>TCGA-BI-A0VR-01A</th>\n",
       "      <th>TCGA-BI-A0VS-01A</th>\n",
       "      <th>TCGA-BI-A20A-01A</th>\n",
       "      <th>TCGA-C5-A0TN-01A</th>\n",
       "      <th>...</th>\n",
       "      <th>TCGA-Q1-A6DT-01A</th>\n",
       "      <th>TCGA-Q1-A6DV-01A</th>\n",
       "      <th>TCGA-Q1-A6DW-01A</th>\n",
       "      <th>TCGA-Q1-A73O-01A</th>\n",
       "      <th>TCGA-Q1-A73P-01A</th>\n",
       "      <th>TCGA-Q1-A73Q-01A</th>\n",
       "      <th>TCGA-Q1-A73R-01A</th>\n",
       "      <th>TCGA-Q1-A73S-01A</th>\n",
       "      <th>TCGA-R2-A69V-01A</th>\n",
       "      <th>TCGA-RA-A741-01A</th>\n",
       "    </tr>\n",
       "  </thead>\n",
       "  <tbody>\n",
       "    <tr>\n",
       "      <th>0</th>\n",
       "      <td>12</td>\n",
       "      <td>9220303</td>\n",
       "      <td>9268558</td>\n",
       "      <td>A2M</td>\n",
       "      <td>2.0</td>\n",
       "      <td>12p13.31</td>\n",
       "      <td>0.0</td>\n",
       "      <td>0.0</td>\n",
       "      <td>0.0</td>\n",
       "      <td>0.0</td>\n",
       "      <td>...</td>\n",
       "      <td>-1.0</td>\n",
       "      <td>0.0</td>\n",
       "      <td>0.0</td>\n",
       "      <td>0.0</td>\n",
       "      <td>0.0</td>\n",
       "      <td>0.0</td>\n",
       "      <td>0.0</td>\n",
       "      <td>0.0</td>\n",
       "      <td>0.0</td>\n",
       "      <td>0.0</td>\n",
       "    </tr>\n",
       "    <tr>\n",
       "      <th>1</th>\n",
       "      <td>8</td>\n",
       "      <td>18248754</td>\n",
       "      <td>18258723</td>\n",
       "      <td>NAT2</td>\n",
       "      <td>10.0</td>\n",
       "      <td>8p22</td>\n",
       "      <td>0.0</td>\n",
       "      <td>-1.0</td>\n",
       "      <td>0.0</td>\n",
       "      <td>0.0</td>\n",
       "      <td>...</td>\n",
       "      <td>-1.0</td>\n",
       "      <td>0.0</td>\n",
       "      <td>1.0</td>\n",
       "      <td>0.0</td>\n",
       "      <td>0.0</td>\n",
       "      <td>-1.0</td>\n",
       "      <td>0.0</td>\n",
       "      <td>-1.0</td>\n",
       "      <td>-1.0</td>\n",
       "      <td>-1.0</td>\n",
       "    </tr>\n",
       "  </tbody>\n",
       "</table>\n",
       "<p>2 rows × 183 columns</p>\n",
       "</div>"
      ],
      "text/plain": [
       "   chrn     start        nd Gene Symbol  Locus ID  Cytoband  TCGA-BI-A0VR-01A  \\\n",
       "0    12   9220303   9268558         A2M       2.0  12p13.31               0.0   \n",
       "1     8  18248754  18258723        NAT2      10.0      8p22               0.0   \n",
       "\n",
       "   TCGA-BI-A0VS-01A  TCGA-BI-A20A-01A  TCGA-C5-A0TN-01A  ...  \\\n",
       "0               0.0               0.0               0.0  ...   \n",
       "1              -1.0               0.0               0.0  ...   \n",
       "\n",
       "   TCGA-Q1-A6DT-01A  TCGA-Q1-A6DV-01A  TCGA-Q1-A6DW-01A  TCGA-Q1-A73O-01A  \\\n",
       "0              -1.0               0.0               0.0               0.0   \n",
       "1              -1.0               0.0               1.0               0.0   \n",
       "\n",
       "   TCGA-Q1-A73P-01A  TCGA-Q1-A73Q-01A  TCGA-Q1-A73R-01A  TCGA-Q1-A73S-01A  \\\n",
       "0               0.0               0.0               0.0               0.0   \n",
       "1               0.0              -1.0               0.0              -1.0   \n",
       "\n",
       "   TCGA-R2-A69V-01A  TCGA-RA-A741-01A  \n",
       "0               0.0               0.0  \n",
       "1              -1.0              -1.0  \n",
       "\n",
       "[2 rows x 183 columns]"
      ]
     },
     "execution_count": 210,
     "metadata": {},
     "output_type": "execute_result"
    }
   ],
   "source": [
    "df4.head(2)"
   ]
  },
  {
   "cell_type": "code",
   "execution_count": 196,
   "metadata": {},
   "outputs": [],
   "source": [
    "df4 = df4.drop(['Gene Symbol', 'Locus ID', 'Cytoband'], axis=1).set_index(['chrn', 'start', 'nd'])"
   ]
  },
  {
   "cell_type": "code",
   "execution_count": 197,
   "metadata": {},
   "outputs": [],
   "source": [
    "df4['xx'] = (df4 <0).sum(axis=1)"
   ]
  },
  {
   "cell_type": "code",
   "execution_count": 198,
   "metadata": {},
   "outputs": [
    {
     "data": {
      "text/html": [
       "<div>\n",
       "<style scoped>\n",
       "    .dataframe tbody tr th:only-of-type {\n",
       "        vertical-align: middle;\n",
       "    }\n",
       "\n",
       "    .dataframe tbody tr th {\n",
       "        vertical-align: top;\n",
       "    }\n",
       "\n",
       "    .dataframe thead th {\n",
       "        text-align: right;\n",
       "    }\n",
       "</style>\n",
       "<table border=\"1\" class=\"dataframe\">\n",
       "  <thead>\n",
       "    <tr style=\"text-align: right;\">\n",
       "      <th></th>\n",
       "      <th></th>\n",
       "      <th></th>\n",
       "      <th>TCGA-BI-A0VR-01A</th>\n",
       "      <th>TCGA-BI-A0VS-01A</th>\n",
       "      <th>TCGA-BI-A20A-01A</th>\n",
       "      <th>TCGA-C5-A0TN-01A</th>\n",
       "      <th>TCGA-C5-A1BE-01B</th>\n",
       "      <th>TCGA-C5-A1BF-01B</th>\n",
       "      <th>TCGA-C5-A1BI-01B</th>\n",
       "      <th>TCGA-C5-A1BJ-01A</th>\n",
       "      <th>TCGA-C5-A1BK-01B</th>\n",
       "      <th>TCGA-C5-A1BL-01A</th>\n",
       "      <th>...</th>\n",
       "      <th>TCGA-Q1-A6DV-01A</th>\n",
       "      <th>TCGA-Q1-A6DW-01A</th>\n",
       "      <th>TCGA-Q1-A73O-01A</th>\n",
       "      <th>TCGA-Q1-A73P-01A</th>\n",
       "      <th>TCGA-Q1-A73Q-01A</th>\n",
       "      <th>TCGA-Q1-A73R-01A</th>\n",
       "      <th>TCGA-Q1-A73S-01A</th>\n",
       "      <th>TCGA-R2-A69V-01A</th>\n",
       "      <th>TCGA-RA-A741-01A</th>\n",
       "      <th>xx</th>\n",
       "    </tr>\n",
       "    <tr>\n",
       "      <th>chrn</th>\n",
       "      <th>start</th>\n",
       "      <th>nd</th>\n",
       "      <th></th>\n",
       "      <th></th>\n",
       "      <th></th>\n",
       "      <th></th>\n",
       "      <th></th>\n",
       "      <th></th>\n",
       "      <th></th>\n",
       "      <th></th>\n",
       "      <th></th>\n",
       "      <th></th>\n",
       "      <th></th>\n",
       "      <th></th>\n",
       "      <th></th>\n",
       "      <th></th>\n",
       "      <th></th>\n",
       "      <th></th>\n",
       "      <th></th>\n",
       "      <th></th>\n",
       "      <th></th>\n",
       "      <th></th>\n",
       "      <th></th>\n",
       "    </tr>\n",
       "  </thead>\n",
       "  <tbody>\n",
       "    <tr>\n",
       "      <th>12</th>\n",
       "      <th>9220303</th>\n",
       "      <th>9268558</th>\n",
       "      <td>0.0</td>\n",
       "      <td>0.0</td>\n",
       "      <td>0.0</td>\n",
       "      <td>0.0</td>\n",
       "      <td>0.0</td>\n",
       "      <td>0.0</td>\n",
       "      <td>0.0</td>\n",
       "      <td>0.0</td>\n",
       "      <td>-1.0</td>\n",
       "      <td>-1.0</td>\n",
       "      <td>...</td>\n",
       "      <td>0.0</td>\n",
       "      <td>0.0</td>\n",
       "      <td>0.0</td>\n",
       "      <td>0.0</td>\n",
       "      <td>0.0</td>\n",
       "      <td>0.0</td>\n",
       "      <td>0.0</td>\n",
       "      <td>0.0</td>\n",
       "      <td>0.0</td>\n",
       "      <td>25</td>\n",
       "    </tr>\n",
       "    <tr>\n",
       "      <th>8</th>\n",
       "      <th>18248754</th>\n",
       "      <th>18258723</th>\n",
       "      <td>0.0</td>\n",
       "      <td>-1.0</td>\n",
       "      <td>0.0</td>\n",
       "      <td>0.0</td>\n",
       "      <td>-1.0</td>\n",
       "      <td>0.0</td>\n",
       "      <td>0.0</td>\n",
       "      <td>0.0</td>\n",
       "      <td>0.0</td>\n",
       "      <td>0.0</td>\n",
       "      <td>...</td>\n",
       "      <td>0.0</td>\n",
       "      <td>1.0</td>\n",
       "      <td>0.0</td>\n",
       "      <td>0.0</td>\n",
       "      <td>-1.0</td>\n",
       "      <td>0.0</td>\n",
       "      <td>-1.0</td>\n",
       "      <td>-1.0</td>\n",
       "      <td>-1.0</td>\n",
       "      <td>52</td>\n",
       "    </tr>\n",
       "    <tr>\n",
       "      <th>1</th>\n",
       "      <th>76190042</th>\n",
       "      <th>76229355</th>\n",
       "      <td>1.0</td>\n",
       "      <td>1.0</td>\n",
       "      <td>0.0</td>\n",
       "      <td>0.0</td>\n",
       "      <td>0.0</td>\n",
       "      <td>0.0</td>\n",
       "      <td>1.0</td>\n",
       "      <td>0.0</td>\n",
       "      <td>0.0</td>\n",
       "      <td>0.0</td>\n",
       "      <td>...</td>\n",
       "      <td>0.0</td>\n",
       "      <td>1.0</td>\n",
       "      <td>0.0</td>\n",
       "      <td>0.0</td>\n",
       "      <td>0.0</td>\n",
       "      <td>0.0</td>\n",
       "      <td>0.0</td>\n",
       "      <td>1.0</td>\n",
       "      <td>0.0</td>\n",
       "      <td>8</td>\n",
       "    </tr>\n",
       "    <tr>\n",
       "      <th>12</th>\n",
       "      <th>121163570</th>\n",
       "      <th>121177811</th>\n",
       "      <td>0.0</td>\n",
       "      <td>0.0</td>\n",
       "      <td>0.0</td>\n",
       "      <td>0.0</td>\n",
       "      <td>0.0</td>\n",
       "      <td>0.0</td>\n",
       "      <td>0.0</td>\n",
       "      <td>0.0</td>\n",
       "      <td>0.0</td>\n",
       "      <td>0.0</td>\n",
       "      <td>...</td>\n",
       "      <td>0.0</td>\n",
       "      <td>0.0</td>\n",
       "      <td>0.0</td>\n",
       "      <td>0.0</td>\n",
       "      <td>0.0</td>\n",
       "      <td>0.0</td>\n",
       "      <td>0.0</td>\n",
       "      <td>0.0</td>\n",
       "      <td>0.0</td>\n",
       "      <td>9</td>\n",
       "    </tr>\n",
       "    <tr>\n",
       "      <th>17</th>\n",
       "      <th>7123152</th>\n",
       "      <th>7128585</th>\n",
       "      <td>0.0</td>\n",
       "      <td>0.0</td>\n",
       "      <td>-1.0</td>\n",
       "      <td>0.0</td>\n",
       "      <td>-1.0</td>\n",
       "      <td>-1.0</td>\n",
       "      <td>0.0</td>\n",
       "      <td>-1.0</td>\n",
       "      <td>0.0</td>\n",
       "      <td>-1.0</td>\n",
       "      <td>...</td>\n",
       "      <td>0.0</td>\n",
       "      <td>0.0</td>\n",
       "      <td>0.0</td>\n",
       "      <td>0.0</td>\n",
       "      <td>-1.0</td>\n",
       "      <td>0.0</td>\n",
       "      <td>-1.0</td>\n",
       "      <td>0.0</td>\n",
       "      <td>-1.0</td>\n",
       "      <td>55</td>\n",
       "    </tr>\n",
       "  </tbody>\n",
       "</table>\n",
       "<p>5 rows × 178 columns</p>\n",
       "</div>"
      ],
      "text/plain": [
       "                          TCGA-BI-A0VR-01A  TCGA-BI-A0VS-01A  \\\n",
       "chrn start     nd                                              \n",
       "12   9220303   9268558                 0.0               0.0   \n",
       "8    18248754  18258723                0.0              -1.0   \n",
       "1    76190042  76229355                1.0               1.0   \n",
       "12   121163570 121177811               0.0               0.0   \n",
       "17   7123152   7128585                 0.0               0.0   \n",
       "\n",
       "                          TCGA-BI-A20A-01A  TCGA-C5-A0TN-01A  \\\n",
       "chrn start     nd                                              \n",
       "12   9220303   9268558                 0.0               0.0   \n",
       "8    18248754  18258723                0.0               0.0   \n",
       "1    76190042  76229355                0.0               0.0   \n",
       "12   121163570 121177811               0.0               0.0   \n",
       "17   7123152   7128585                -1.0               0.0   \n",
       "\n",
       "                          TCGA-C5-A1BE-01B  TCGA-C5-A1BF-01B  \\\n",
       "chrn start     nd                                              \n",
       "12   9220303   9268558                 0.0               0.0   \n",
       "8    18248754  18258723               -1.0               0.0   \n",
       "1    76190042  76229355                0.0               0.0   \n",
       "12   121163570 121177811               0.0               0.0   \n",
       "17   7123152   7128585                -1.0              -1.0   \n",
       "\n",
       "                          TCGA-C5-A1BI-01B  TCGA-C5-A1BJ-01A  \\\n",
       "chrn start     nd                                              \n",
       "12   9220303   9268558                 0.0               0.0   \n",
       "8    18248754  18258723                0.0               0.0   \n",
       "1    76190042  76229355                1.0               0.0   \n",
       "12   121163570 121177811               0.0               0.0   \n",
       "17   7123152   7128585                 0.0              -1.0   \n",
       "\n",
       "                          TCGA-C5-A1BK-01B  TCGA-C5-A1BL-01A  ...  \\\n",
       "chrn start     nd                                             ...   \n",
       "12   9220303   9268558                -1.0              -1.0  ...   \n",
       "8    18248754  18258723                0.0               0.0  ...   \n",
       "1    76190042  76229355                0.0               0.0  ...   \n",
       "12   121163570 121177811               0.0               0.0  ...   \n",
       "17   7123152   7128585                 0.0              -1.0  ...   \n",
       "\n",
       "                          TCGA-Q1-A6DV-01A  TCGA-Q1-A6DW-01A  \\\n",
       "chrn start     nd                                              \n",
       "12   9220303   9268558                 0.0               0.0   \n",
       "8    18248754  18258723                0.0               1.0   \n",
       "1    76190042  76229355                0.0               1.0   \n",
       "12   121163570 121177811               0.0               0.0   \n",
       "17   7123152   7128585                 0.0               0.0   \n",
       "\n",
       "                          TCGA-Q1-A73O-01A  TCGA-Q1-A73P-01A  \\\n",
       "chrn start     nd                                              \n",
       "12   9220303   9268558                 0.0               0.0   \n",
       "8    18248754  18258723                0.0               0.0   \n",
       "1    76190042  76229355                0.0               0.0   \n",
       "12   121163570 121177811               0.0               0.0   \n",
       "17   7123152   7128585                 0.0               0.0   \n",
       "\n",
       "                          TCGA-Q1-A73Q-01A  TCGA-Q1-A73R-01A  \\\n",
       "chrn start     nd                                              \n",
       "12   9220303   9268558                 0.0               0.0   \n",
       "8    18248754  18258723               -1.0               0.0   \n",
       "1    76190042  76229355                0.0               0.0   \n",
       "12   121163570 121177811               0.0               0.0   \n",
       "17   7123152   7128585                -1.0               0.0   \n",
       "\n",
       "                          TCGA-Q1-A73S-01A  TCGA-R2-A69V-01A  \\\n",
       "chrn start     nd                                              \n",
       "12   9220303   9268558                 0.0               0.0   \n",
       "8    18248754  18258723               -1.0              -1.0   \n",
       "1    76190042  76229355                0.0               1.0   \n",
       "12   121163570 121177811               0.0               0.0   \n",
       "17   7123152   7128585                -1.0               0.0   \n",
       "\n",
       "                          TCGA-RA-A741-01A  xx  \n",
       "chrn start     nd                               \n",
       "12   9220303   9268558                 0.0  25  \n",
       "8    18248754  18258723               -1.0  52  \n",
       "1    76190042  76229355                0.0   8  \n",
       "12   121163570 121177811               0.0   9  \n",
       "17   7123152   7128585                -1.0  55  \n",
       "\n",
       "[5 rows x 178 columns]"
      ]
     },
     "execution_count": 198,
     "metadata": {},
     "output_type": "execute_result"
    },
    {
     "data": {
      "text/plain": [
       "(29375, 178)"
      ]
     },
     "execution_count": 198,
     "metadata": {},
     "output_type": "execute_result"
    }
   ],
   "source": [
    "df4.head()\n",
    "df4.shape"
   ]
  },
  {
   "cell_type": "markdown",
   "metadata": {},
   "source": [
    "### plot_cnv input df need to be reindex to standard 1kb bins"
   ]
  },
  {
   "cell_type": "code",
   "execution_count": 202,
   "metadata": {},
   "outputs": [
    {
     "data": {
      "text/html": [
       "<div>\n",
       "<style scoped>\n",
       "    .dataframe tbody tr th:only-of-type {\n",
       "        vertical-align: middle;\n",
       "    }\n",
       "\n",
       "    .dataframe tbody tr th {\n",
       "        vertical-align: top;\n",
       "    }\n",
       "\n",
       "    .dataframe thead th {\n",
       "        text-align: right;\n",
       "    }\n",
       "</style>\n",
       "<table border=\"1\" class=\"dataframe\">\n",
       "  <thead>\n",
       "    <tr style=\"text-align: right;\">\n",
       "      <th></th>\n",
       "      <th>bin_chr</th>\n",
       "      <th>bin_start</th>\n",
       "      <th>bin_end</th>\n",
       "      <th>patient</th>\n",
       "    </tr>\n",
       "  </thead>\n",
       "  <tbody>\n",
       "    <tr>\n",
       "      <th>0</th>\n",
       "      <td>12</td>\n",
       "      <td>9220303</td>\n",
       "      <td>9268558</td>\n",
       "      <td>25</td>\n",
       "    </tr>\n",
       "    <tr>\n",
       "      <th>1</th>\n",
       "      <td>8</td>\n",
       "      <td>18248754</td>\n",
       "      <td>18258723</td>\n",
       "      <td>52</td>\n",
       "    </tr>\n",
       "    <tr>\n",
       "      <th>2</th>\n",
       "      <td>1</td>\n",
       "      <td>76190042</td>\n",
       "      <td>76229355</td>\n",
       "      <td>8</td>\n",
       "    </tr>\n",
       "    <tr>\n",
       "      <th>3</th>\n",
       "      <td>12</td>\n",
       "      <td>121163570</td>\n",
       "      <td>121177811</td>\n",
       "      <td>9</td>\n",
       "    </tr>\n",
       "    <tr>\n",
       "      <th>4</th>\n",
       "      <td>17</td>\n",
       "      <td>7123152</td>\n",
       "      <td>7128585</td>\n",
       "      <td>55</td>\n",
       "    </tr>\n",
       "  </tbody>\n",
       "</table>\n",
       "</div>"
      ],
      "text/plain": [
       "   bin_chr  bin_start    bin_end  patient\n",
       "0       12    9220303    9268558       25\n",
       "1        8   18248754   18258723       52\n",
       "2        1   76190042   76229355        8\n",
       "3       12  121163570  121177811        9\n",
       "4       17    7123152    7128585       55"
      ]
     },
     "execution_count": 202,
     "metadata": {},
     "output_type": "execute_result"
    }
   ],
   "source": [
    "df5 = df4[['xx']].reset_index()\n",
    "df5.columns = ['bin_chr', 'bin_start', 'bin_end', 'patient']\n",
    "df5.head()\n"
   ]
  },
  {
   "cell_type": "code",
   "execution_count": 203,
   "metadata": {},
   "outputs": [],
   "source": [
    "df5.sort_values(['bin_chr', 'bin_start', 'bin_end'], inplace=True)"
   ]
  },
  {
   "cell_type": "code",
   "execution_count": 151,
   "metadata": {},
   "outputs": [],
   "source": [
    "df5 = df5.reset_index(drop=True)"
   ]
  },
  {
   "cell_type": "code",
   "execution_count": 152,
   "metadata": {},
   "outputs": [
    {
     "data": {
      "text/html": [
       "<div>\n",
       "<style scoped>\n",
       "    .dataframe tbody tr th:only-of-type {\n",
       "        vertical-align: middle;\n",
       "    }\n",
       "\n",
       "    .dataframe tbody tr th {\n",
       "        vertical-align: top;\n",
       "    }\n",
       "\n",
       "    .dataframe thead th {\n",
       "        text-align: right;\n",
       "    }\n",
       "</style>\n",
       "<table border=\"1\" class=\"dataframe\">\n",
       "  <thead>\n",
       "    <tr style=\"text-align: right;\">\n",
       "      <th></th>\n",
       "      <th>bin_chr</th>\n",
       "      <th>bin_start</th>\n",
       "      <th>bin_end</th>\n",
       "      <th>patient</th>\n",
       "    </tr>\n",
       "  </thead>\n",
       "  <tbody>\n",
       "    <tr>\n",
       "      <th>0</th>\n",
       "      <td>1</td>\n",
       "      <td>11873</td>\n",
       "      <td>14408</td>\n",
       "      <td>0</td>\n",
       "    </tr>\n",
       "    <tr>\n",
       "      <th>1</th>\n",
       "      <td>1</td>\n",
       "      <td>14361</td>\n",
       "      <td>29370</td>\n",
       "      <td>23</td>\n",
       "    </tr>\n",
       "  </tbody>\n",
       "</table>\n",
       "</div>"
      ],
      "text/plain": [
       "   bin_chr  bin_start  bin_end  patient\n",
       "0        1      11873    14408        0\n",
       "1        1      14361    29370       23"
      ]
     },
     "execution_count": 152,
     "metadata": {},
     "output_type": "execute_result"
    },
    {
     "data": {
      "text/plain": [
       "(29375, 4)"
      ]
     },
     "execution_count": 152,
     "metadata": {},
     "output_type": "execute_result"
    },
    {
     "data": {
      "text/plain": [
       "count    2.937500e+04\n",
       "mean     7.462861e+07\n",
       "std      5.586912e+07\n",
       "min      6.010000e+03\n",
       "25%      3.154584e+07\n",
       "50%      5.847782e+07\n",
       "75%      1.116031e+08\n",
       "max      2.492004e+08\n",
       "Name: bin_start, dtype: float64"
      ]
     },
     "execution_count": 152,
     "metadata": {},
     "output_type": "execute_result"
    },
    {
     "data": {
      "text/plain": [
       "bin_chr      int64\n",
       "bin_start    int64\n",
       "bin_end      int64\n",
       "patient      int64\n",
       "dtype: object"
      ]
     },
     "execution_count": 152,
     "metadata": {},
     "output_type": "execute_result"
    }
   ],
   "source": [
    "df5.head(2)\n",
    "df5.shape\n",
    "df5.bin_start.describe()\n",
    "df5.dtypes"
   ]
  },
  {
   "cell_type": "code",
   "execution_count": 167,
   "metadata": {},
   "outputs": [
    {
     "data": {
      "text/plain": [
       "count    29375.000000\n",
       "mean        28.375285\n",
       "std         20.525853\n",
       "min          0.000000\n",
       "25%         11.000000\n",
       "50%         25.000000\n",
       "75%         43.000000\n",
       "max        101.000000\n",
       "Name: patient, dtype: float64"
      ]
     },
     "execution_count": 167,
     "metadata": {},
     "output_type": "execute_result"
    }
   ],
   "source": [
    "df5.patient.describe()\n",
    "# df5.to_csv('/projects/trans_scratch/validations/workspace/szong/Cervical/cnv/tcgadel.tmp', sep='\\t', index=False)"
   ]
  },
  {
   "cell_type": "code",
   "execution_count": null,
   "metadata": {},
   "outputs": [],
   "source": [
    "# ! bedtools intersect -a /projects/trans_scratch/validations/workspace/szong/Cervical/cnv/bin_segs/chr_bins.txt -b tcgadel.tmp -wa -wb|cut -f 1,2,3,7> tcgadel_bin_1kb.tmp"
   ]
  },
  {
   "cell_type": "code",
   "execution_count": 170,
   "metadata": {},
   "outputs": [
    {
     "data": {
      "text/html": [
       "<div>\n",
       "<style scoped>\n",
       "    .dataframe tbody tr th:only-of-type {\n",
       "        vertical-align: middle;\n",
       "    }\n",
       "\n",
       "    .dataframe tbody tr th {\n",
       "        vertical-align: top;\n",
       "    }\n",
       "\n",
       "    .dataframe thead th {\n",
       "        text-align: right;\n",
       "    }\n",
       "</style>\n",
       "<table border=\"1\" class=\"dataframe\">\n",
       "  <thead>\n",
       "    <tr style=\"text-align: right;\">\n",
       "      <th></th>\n",
       "      <th>bin_chr</th>\n",
       "      <th>bin_start</th>\n",
       "      <th>bin_end</th>\n",
       "      <th>patient</th>\n",
       "    </tr>\n",
       "  </thead>\n",
       "  <tbody>\n",
       "    <tr>\n",
       "      <th>0</th>\n",
       "      <td>1</td>\n",
       "      <td>11001</td>\n",
       "      <td>12000</td>\n",
       "      <td>0</td>\n",
       "    </tr>\n",
       "    <tr>\n",
       "      <th>1</th>\n",
       "      <td>1</td>\n",
       "      <td>12001</td>\n",
       "      <td>13000</td>\n",
       "      <td>0</td>\n",
       "    </tr>\n",
       "  </tbody>\n",
       "</table>\n",
       "</div>"
      ],
      "text/plain": [
       "   bin_chr  bin_start  bin_end  patient\n",
       "0        1      11001    12000        0\n",
       "1        1      12001    13000        0"
      ]
     },
     "execution_count": 170,
     "metadata": {},
     "output_type": "execute_result"
    }
   ],
   "source": [
    "f5b = '/projects/trans_scratch/validations/workspace/szong/Cervical/cnv/tcgadel_bin_1kb.tmp'\n",
    "df5b = pd.read_csv(f5b, header=None, sep='\\t')\n",
    "df5b.columns = ['bin_chr', 'bin_start', 'bin_end', 'patient']\n",
    "df5b.head(2)"
   ]
  },
  {
   "cell_type": "code",
   "execution_count": 172,
   "metadata": {},
   "outputs": [
    {
     "data": {
      "text/plain": [
       "(1668809, 4)"
      ]
     },
     "execution_count": 172,
     "metadata": {},
     "output_type": "execute_result"
    }
   ],
   "source": [
    "df5b.shape"
   ]
  },
  {
   "cell_type": "code",
   "execution_count": 185,
   "metadata": {},
   "outputs": [],
   "source": [
    "df6b = df5b.set_index(['bin_chr', 'bin_start', 'bin_end'])\n",
    "df7b = df6b[~df6b.index.duplicated(keep='first')].reset_index()"
   ]
  },
  {
   "cell_type": "code",
   "execution_count": 177,
   "metadata": {},
   "outputs": [],
   "source": [
    "# df6b = df5b.drop_duplicates(keep='first')"
   ]
  },
  {
   "cell_type": "code",
   "execution_count": 186,
   "metadata": {},
   "outputs": [
    {
     "data": {
      "text/plain": [
       "(1219902, 4)"
      ]
     },
     "execution_count": 186,
     "metadata": {},
     "output_type": "execute_result"
    }
   ],
   "source": [
    "df7b.shape"
   ]
  },
  {
   "cell_type": "code",
   "execution_count": 157,
   "metadata": {},
   "outputs": [
    {
     "data": {
      "text/html": [
       "<div>\n",
       "<style scoped>\n",
       "    .dataframe tbody tr th:only-of-type {\n",
       "        vertical-align: middle;\n",
       "    }\n",
       "\n",
       "    .dataframe tbody tr th {\n",
       "        vertical-align: top;\n",
       "    }\n",
       "\n",
       "    .dataframe thead th {\n",
       "        text-align: right;\n",
       "    }\n",
       "</style>\n",
       "<table border=\"1\" class=\"dataframe\">\n",
       "  <thead>\n",
       "    <tr style=\"text-align: right;\">\n",
       "      <th></th>\n",
       "      <th>bin_chr</th>\n",
       "      <th>bin_start</th>\n",
       "      <th>bin_end</th>\n",
       "      <th>patient</th>\n",
       "    </tr>\n",
       "  </thead>\n",
       "  <tbody>\n",
       "    <tr>\n",
       "      <th>0</th>\n",
       "      <td>1</td>\n",
       "      <td>3218001</td>\n",
       "      <td>3219000</td>\n",
       "      <td>51</td>\n",
       "    </tr>\n",
       "    <tr>\n",
       "      <th>1</th>\n",
       "      <td>1</td>\n",
       "      <td>3219001</td>\n",
       "      <td>3220000</td>\n",
       "      <td>51</td>\n",
       "    </tr>\n",
       "    <tr>\n",
       "      <th>2</th>\n",
       "      <td>1</td>\n",
       "      <td>3220001</td>\n",
       "      <td>3221000</td>\n",
       "      <td>51</td>\n",
       "    </tr>\n",
       "    <tr>\n",
       "      <th>3</th>\n",
       "      <td>1</td>\n",
       "      <td>3221001</td>\n",
       "      <td>3222000</td>\n",
       "      <td>51</td>\n",
       "    </tr>\n",
       "    <tr>\n",
       "      <th>4</th>\n",
       "      <td>1</td>\n",
       "      <td>3222001</td>\n",
       "      <td>3223000</td>\n",
       "      <td>51</td>\n",
       "    </tr>\n",
       "  </tbody>\n",
       "</table>\n",
       "</div>"
      ],
      "text/plain": [
       "   bin_chr  bin_start  bin_end  patient\n",
       "0        1    3218001  3219000       51\n",
       "1        1    3219001  3220000       51\n",
       "2        1    3220001  3221000       51\n",
       "3        1    3221001  3222000       51\n",
       "4        1    3222001  3223000       51"
      ]
     },
     "execution_count": 157,
     "metadata": {},
     "output_type": "execute_result"
    },
    {
     "data": {
      "text/plain": [
       "count    2.903195e+06\n",
       "mean     8.027001e+07\n",
       "std      5.416950e+07\n",
       "min      2.840010e+05\n",
       "25%      3.655800e+07\n",
       "50%      7.097500e+07\n",
       "75%      1.156960e+08\n",
       "max      2.478130e+08\n",
       "Name: bin_start, dtype: float64"
      ]
     },
     "execution_count": 157,
     "metadata": {},
     "output_type": "execute_result"
    },
    {
     "data": {
      "text/plain": [
       "bin_chr      int64\n",
       "bin_start    int64\n",
       "bin_end      int64\n",
       "patient      int64\n",
       "dtype: object"
      ]
     },
     "execution_count": 157,
     "metadata": {},
     "output_type": "execute_result"
    },
    {
     "data": {
      "text/plain": [
       "(2903195, 4)"
      ]
     },
     "execution_count": 157,
     "metadata": {},
     "output_type": "execute_result"
    }
   ],
   "source": [
    "tcga_recur_amps.head()\n",
    "tcga_recur_amps.bin_start.describe()\n",
    "\n",
    "tcga_recur_amps.dtypes\n",
    "tcga_recur_dels.shape"
   ]
  },
  {
   "cell_type": "code",
   "execution_count": 115,
   "metadata": {},
   "outputs": [
    {
     "data": {
      "text/plain": [
       "array([ 1,  2,  3,  4,  5,  6,  7,  8,  9, 10, 11, 12, 13, 14, 15, 16, 17,\n",
       "       18, 19, 20, 21, 22, 23])"
      ]
     },
     "execution_count": 115,
     "metadata": {},
     "output_type": "execute_result"
    }
   ],
   "source": [
    "df5.bin_chr.unique()"
   ]
  },
  {
   "cell_type": "code",
   "execution_count": 187,
   "metadata": {},
   "outputs": [
    {
     "data": {
      "text/plain": [
       "(0.0, 1.0, 0.0, 1.0)"
      ]
     },
     "execution_count": 187,
     "metadata": {},
     "output_type": "execute_result"
    },
    {
     "name": "stdout",
     "output_type": "stream",
     "text": [
      "(0, 3188119038.3) (0, 1.6)\n"
     ]
    },
    {
     "data": {
      "image/png": "[encoded data removed]",
      "text/plain": [
       "<Figure size 1152x720 with 2 Axes>"
      ]
     },
     "metadata": {},
     "output_type": "display_data"
    }
   ],
   "source": [
    "baseline = 0.8\n",
    "fig = plt.figure(figsize=(16, 10), facecolor='white')\n",
    "gs = gridspec.GridSpec(6, 1, height_ratios=[1, 6, 6, 6, 6, 6], \n",
    "                       hspace=0.08)  # vertical space\n",
    "\n",
    "# plot chromosomes\n",
    "ax0 = plt.subplot(gs[0], facecolor='white')\n",
    "ax0.axis('off')\n",
    "chrdf = chrdf.iloc[:23,:]\n",
    "\n",
    "# figuring out xlim and ylim\n",
    "for vl in vlns:\n",
    "    _ = ax0.vlines(vl, 0, 1.6, color='white', linestyle='--', linewidth=.5)\n",
    "xlims = (0, ax0.get_xlim()[1])\n",
    "ylims = (0, ax0.get_ylim()[1])\n",
    "_= ax0.set_xlim(xlims)\n",
    "_ = ax0.set_ylim(ylims)\n",
    "ylims = (0,1.6)\n",
    "print(xlims, ylims)\n",
    "plot_chromosomes(chrdf, ax0)\n",
    "\n",
    "# plot tcga cnvs\n",
    "ax3 = plt.subplot(gs[3], facecolor='white')\n",
    "plot_cnv(ax3, baseline, tcga_recur_dels, df7b, num_tcga_patients, vlns)\n",
    "# plot_arms(tcga_uniqdel_arms, arm_coords, ax3, 'del', 'white', 9e6,'+')\n",
    "_ = ax3.set_xlim(xlims)\n",
    "_ = ax3.set_ylim(ylims)\n"
   ]
  },
  {
   "cell_type": "code",
   "execution_count": null,
   "metadata": {},
   "outputs": [],
   "source": []
  },
  {
   "cell_type": "code",
   "execution_count": null,
   "metadata": {},
   "outputs": [],
   "source": []
  },
  {
   "cell_type": "code",
   "execution_count": 107,
   "metadata": {},
   "outputs": [
    {
     "data": {
      "text/plain": [
       "Index(['start', 'nd', 'chrn', 'Gene Symbol', 'Locus ID', 'Cytoband',\n",
       "       'TCGA-BI-A0VR-01A', 'TCGA-BI-A0VS-01A', 'TCGA-BI-A20A-01A',\n",
       "       'TCGA-C5-A0TN-01A',\n",
       "       ...\n",
       "       'TCGA-Q1-A6DT-01A', 'TCGA-Q1-A6DV-01A', 'TCGA-Q1-A6DW-01A',\n",
       "       'TCGA-Q1-A73O-01A', 'TCGA-Q1-A73P-01A', 'TCGA-Q1-A73Q-01A',\n",
       "       'TCGA-Q1-A73R-01A', 'TCGA-Q1-A73S-01A', 'TCGA-R2-A69V-01A',\n",
       "       'TCGA-RA-A741-01A'],\n",
       "      dtype='object', length=183)"
      ]
     },
     "execution_count": 107,
     "metadata": {},
     "output_type": "execute_result"
    }
   ],
   "source": [
    "\n",
    "df4.columns"
   ]
  },
  {
   "cell_type": "code",
   "execution_count": 211,
   "metadata": {},
   "outputs": [
    {
     "data": {
      "text/html": [
       "<div>\n",
       "<style scoped>\n",
       "    .dataframe tbody tr th:only-of-type {\n",
       "        vertical-align: middle;\n",
       "    }\n",
       "\n",
       "    .dataframe tbody tr th {\n",
       "        vertical-align: top;\n",
       "    }\n",
       "\n",
       "    .dataframe thead th {\n",
       "        text-align: right;\n",
       "    }\n",
       "</style>\n",
       "<table border=\"1\" class=\"dataframe\">\n",
       "  <thead>\n",
       "    <tr style=\"text-align: right;\">\n",
       "      <th></th>\n",
       "      <th>cumulative_length</th>\n",
       "    </tr>\n",
       "  </thead>\n",
       "  <tbody>\n",
       "    <tr>\n",
       "      <th>1</th>\n",
       "      <td>0</td>\n",
       "    </tr>\n",
       "    <tr>\n",
       "      <th>2</th>\n",
       "      <td>249250621</td>\n",
       "    </tr>\n",
       "  </tbody>\n",
       "</table>\n",
       "</div>"
      ],
      "text/plain": [
       "   cumulative_length\n",
       "1                  0\n",
       "2          249250621"
      ]
     },
     "execution_count": 211,
     "metadata": {},
     "output_type": "execute_result"
    }
   ],
   "source": [
    "f5 = '/home/szong/projects/resource/chromosome_accumulative_length.txt'\n",
    "df5 = pd.read_csv(f5, sep='\\t').drop(['chrom', 'length'], axis=1).set_index(np.arange(1,26, 1))\n",
    "df5.head(2)"
   ]
  },
  {
   "cell_type": "code",
   "execution_count": 212,
   "metadata": {},
   "outputs": [
    {
     "data": {
      "text/plain": [
       "array([12,  8,  1, 17, 11, 14, 20,  5, 22,  4,  2,  9, 23, 16, 19, 10,  6,\n",
       "        7, 13,  3, 15, 21, 18])"
      ]
     },
     "execution_count": 212,
     "metadata": {},
     "output_type": "execute_result"
    }
   ],
   "source": [
    "df4.chrn.unique()"
   ]
  },
  {
   "cell_type": "code",
   "execution_count": 213,
   "metadata": {},
   "outputs": [],
   "source": [
    "df6 = pd.merge(df4, df5, left_on='chrn', right_index=True)"
   ]
  },
  {
   "cell_type": "code",
   "execution_count": 214,
   "metadata": {},
   "outputs": [
    {
     "data": {
      "text/html": [
       "<div>\n",
       "<style scoped>\n",
       "    .dataframe tbody tr th:only-of-type {\n",
       "        vertical-align: middle;\n",
       "    }\n",
       "\n",
       "    .dataframe tbody tr th {\n",
       "        vertical-align: top;\n",
       "    }\n",
       "\n",
       "    .dataframe thead th {\n",
       "        text-align: right;\n",
       "    }\n",
       "</style>\n",
       "<table border=\"1\" class=\"dataframe\">\n",
       "  <thead>\n",
       "    <tr style=\"text-align: right;\">\n",
       "      <th></th>\n",
       "      <th>chrn</th>\n",
       "      <th>start</th>\n",
       "      <th>nd</th>\n",
       "      <th>Gene Symbol</th>\n",
       "      <th>Locus ID</th>\n",
       "      <th>Cytoband</th>\n",
       "      <th>TCGA-BI-A0VR-01A</th>\n",
       "      <th>TCGA-BI-A0VS-01A</th>\n",
       "      <th>TCGA-BI-A20A-01A</th>\n",
       "      <th>TCGA-C5-A0TN-01A</th>\n",
       "      <th>...</th>\n",
       "      <th>TCGA-Q1-A6DV-01A</th>\n",
       "      <th>TCGA-Q1-A6DW-01A</th>\n",
       "      <th>TCGA-Q1-A73O-01A</th>\n",
       "      <th>TCGA-Q1-A73P-01A</th>\n",
       "      <th>TCGA-Q1-A73Q-01A</th>\n",
       "      <th>TCGA-Q1-A73R-01A</th>\n",
       "      <th>TCGA-Q1-A73S-01A</th>\n",
       "      <th>TCGA-R2-A69V-01A</th>\n",
       "      <th>TCGA-RA-A741-01A</th>\n",
       "      <th>cumulative_length</th>\n",
       "    </tr>\n",
       "  </thead>\n",
       "  <tbody>\n",
       "    <tr>\n",
       "      <th>29145</th>\n",
       "      <td>18</td>\n",
       "      <td>32621613</td>\n",
       "      <td>32723432</td>\n",
       "      <td>MAPRE2</td>\n",
       "      <td>10982.0</td>\n",
       "      <td>18q12.1</td>\n",
       "      <td>0.0</td>\n",
       "      <td>0.0</td>\n",
       "      <td>0.0</td>\n",
       "      <td>0.0</td>\n",
       "      <td>...</td>\n",
       "      <td>0.0</td>\n",
       "      <td>0.0</td>\n",
       "      <td>0.0</td>\n",
       "      <td>0.0</td>\n",
       "      <td>0.0</td>\n",
       "      <td>0.0</td>\n",
       "      <td>0.0</td>\n",
       "      <td>0.0</td>\n",
       "      <td>-1.0</td>\n",
       "      <td>2581367074</td>\n",
       "    </tr>\n",
       "    <tr>\n",
       "      <th>29270</th>\n",
       "      <td>18</td>\n",
       "      <td>37202086</td>\n",
       "      <td>37202139</td>\n",
       "      <td>hsa-mir-924</td>\n",
       "      <td>-868.0</td>\n",
       "      <td>18q12.3</td>\n",
       "      <td>0.0</td>\n",
       "      <td>0.0</td>\n",
       "      <td>0.0</td>\n",
       "      <td>0.0</td>\n",
       "      <td>...</td>\n",
       "      <td>0.0</td>\n",
       "      <td>0.0</td>\n",
       "      <td>0.0</td>\n",
       "      <td>-1.0</td>\n",
       "      <td>0.0</td>\n",
       "      <td>0.0</td>\n",
       "      <td>0.0</td>\n",
       "      <td>0.0</td>\n",
       "      <td>-1.0</td>\n",
       "      <td>2581367074</td>\n",
       "    </tr>\n",
       "  </tbody>\n",
       "</table>\n",
       "<p>2 rows × 184 columns</p>\n",
       "</div>"
      ],
      "text/plain": [
       "       chrn     start        nd  Gene Symbol  Locus ID Cytoband  \\\n",
       "29145    18  32621613  32723432       MAPRE2   10982.0  18q12.1   \n",
       "29270    18  37202086  37202139  hsa-mir-924    -868.0  18q12.3   \n",
       "\n",
       "       TCGA-BI-A0VR-01A  TCGA-BI-A0VS-01A  TCGA-BI-A20A-01A  TCGA-C5-A0TN-01A  \\\n",
       "29145               0.0               0.0               0.0               0.0   \n",
       "29270               0.0               0.0               0.0               0.0   \n",
       "\n",
       "       ...  TCGA-Q1-A6DV-01A  TCGA-Q1-A6DW-01A  TCGA-Q1-A73O-01A  \\\n",
       "29145  ...               0.0               0.0               0.0   \n",
       "29270  ...               0.0               0.0               0.0   \n",
       "\n",
       "       TCGA-Q1-A73P-01A  TCGA-Q1-A73Q-01A  TCGA-Q1-A73R-01A  TCGA-Q1-A73S-01A  \\\n",
       "29145               0.0               0.0               0.0               0.0   \n",
       "29270              -1.0               0.0               0.0               0.0   \n",
       "\n",
       "       TCGA-R2-A69V-01A  TCGA-RA-A741-01A  cumulative_length  \n",
       "29145               0.0              -1.0         2581367074  \n",
       "29270               0.0              -1.0         2581367074  \n",
       "\n",
       "[2 rows x 184 columns]"
      ]
     },
     "execution_count": 214,
     "metadata": {},
     "output_type": "execute_result"
    }
   ],
   "source": [
    "df6.tail(2)"
   ]
  },
  {
   "cell_type": "code",
   "execution_count": 215,
   "metadata": {},
   "outputs": [],
   "source": [
    "df6['cum_start'] = df6['cumulative_length'] + df6['start']\n",
    "df6['cum_end'] = df6['cumulative_length'] + df6['nd']"
   ]
  },
  {
   "cell_type": "code",
   "execution_count": 216,
   "metadata": {},
   "outputs": [
    {
     "data": {
      "text/html": [
       "<div>\n",
       "<style scoped>\n",
       "    .dataframe tbody tr th:only-of-type {\n",
       "        vertical-align: middle;\n",
       "    }\n",
       "\n",
       "    .dataframe tbody tr th {\n",
       "        vertical-align: top;\n",
       "    }\n",
       "\n",
       "    .dataframe thead th {\n",
       "        text-align: right;\n",
       "    }\n",
       "</style>\n",
       "<table border=\"1\" class=\"dataframe\">\n",
       "  <thead>\n",
       "    <tr style=\"text-align: right;\">\n",
       "      <th></th>\n",
       "      <th>chrn</th>\n",
       "      <th>start</th>\n",
       "      <th>nd</th>\n",
       "      <th>Gene Symbol</th>\n",
       "      <th>Locus ID</th>\n",
       "      <th>Cytoband</th>\n",
       "      <th>TCGA-BI-A0VR-01A</th>\n",
       "      <th>TCGA-BI-A0VS-01A</th>\n",
       "      <th>TCGA-BI-A20A-01A</th>\n",
       "      <th>TCGA-C5-A0TN-01A</th>\n",
       "      <th>...</th>\n",
       "      <th>TCGA-Q1-A73O-01A</th>\n",
       "      <th>TCGA-Q1-A73P-01A</th>\n",
       "      <th>TCGA-Q1-A73Q-01A</th>\n",
       "      <th>TCGA-Q1-A73R-01A</th>\n",
       "      <th>TCGA-Q1-A73S-01A</th>\n",
       "      <th>TCGA-R2-A69V-01A</th>\n",
       "      <th>TCGA-RA-A741-01A</th>\n",
       "      <th>cumulative_length</th>\n",
       "      <th>cum_start</th>\n",
       "      <th>cum_end</th>\n",
       "    </tr>\n",
       "  </thead>\n",
       "  <tbody>\n",
       "    <tr>\n",
       "      <th>0</th>\n",
       "      <td>12</td>\n",
       "      <td>9220303</td>\n",
       "      <td>9268558</td>\n",
       "      <td>A2M</td>\n",
       "      <td>2.0</td>\n",
       "      <td>12p13.31</td>\n",
       "      <td>0.0</td>\n",
       "      <td>0.0</td>\n",
       "      <td>0.0</td>\n",
       "      <td>0.0</td>\n",
       "      <td>...</td>\n",
       "      <td>0.0</td>\n",
       "      <td>0.0</td>\n",
       "      <td>0.0</td>\n",
       "      <td>0.0</td>\n",
       "      <td>0.0</td>\n",
       "      <td>0.0</td>\n",
       "      <td>0.0</td>\n",
       "      <td>1950914406</td>\n",
       "      <td>1960134709</td>\n",
       "      <td>1960182964</td>\n",
       "    </tr>\n",
       "    <tr>\n",
       "      <th>3</th>\n",
       "      <td>12</td>\n",
       "      <td>121163570</td>\n",
       "      <td>121177811</td>\n",
       "      <td>ACADS</td>\n",
       "      <td>35.0</td>\n",
       "      <td>12q24.31</td>\n",
       "      <td>0.0</td>\n",
       "      <td>0.0</td>\n",
       "      <td>0.0</td>\n",
       "      <td>0.0</td>\n",
       "      <td>...</td>\n",
       "      <td>0.0</td>\n",
       "      <td>0.0</td>\n",
       "      <td>0.0</td>\n",
       "      <td>0.0</td>\n",
       "      <td>0.0</td>\n",
       "      <td>0.0</td>\n",
       "      <td>0.0</td>\n",
       "      <td>1950914406</td>\n",
       "      <td>2072077976</td>\n",
       "      <td>2072092217</td>\n",
       "    </tr>\n",
       "  </tbody>\n",
       "</table>\n",
       "<p>2 rows × 186 columns</p>\n",
       "</div>"
      ],
      "text/plain": [
       "   chrn      start         nd Gene Symbol  Locus ID  Cytoband  \\\n",
       "0    12    9220303    9268558         A2M       2.0  12p13.31   \n",
       "3    12  121163570  121177811       ACADS      35.0  12q24.31   \n",
       "\n",
       "   TCGA-BI-A0VR-01A  TCGA-BI-A0VS-01A  TCGA-BI-A20A-01A  TCGA-C5-A0TN-01A  \\\n",
       "0               0.0               0.0               0.0               0.0   \n",
       "3               0.0               0.0               0.0               0.0   \n",
       "\n",
       "   ...  TCGA-Q1-A73O-01A  TCGA-Q1-A73P-01A  TCGA-Q1-A73Q-01A  \\\n",
       "0  ...               0.0               0.0               0.0   \n",
       "3  ...               0.0               0.0               0.0   \n",
       "\n",
       "   TCGA-Q1-A73R-01A  TCGA-Q1-A73S-01A  TCGA-R2-A69V-01A  TCGA-RA-A741-01A  \\\n",
       "0               0.0               0.0               0.0               0.0   \n",
       "3               0.0               0.0               0.0               0.0   \n",
       "\n",
       "   cumulative_length   cum_start     cum_end  \n",
       "0         1950914406  1960134709  1960182964  \n",
       "3         1950914406  2072077976  2072092217  \n",
       "\n",
       "[2 rows x 186 columns]"
      ]
     },
     "execution_count": 216,
     "metadata": {},
     "output_type": "execute_result"
    }
   ],
   "source": [
    "df6.head(2)"
   ]
  },
  {
   "cell_type": "code",
   "execution_count": 45,
   "metadata": {},
   "outputs": [
    {
     "data": {
      "text/plain": [
       "Index(['start', 'nd', 'chrn', 'Gene Symbol', 'Locus ID', 'Cytoband',\n",
       "       'TCGA-BI-A0VR-01A', 'TCGA-BI-A0VS-01A', 'TCGA-BI-A20A-01A',\n",
       "       'TCGA-C5-A0TN-01A',\n",
       "       ...\n",
       "       'TCGA-Q1-A73O-01A', 'TCGA-Q1-A73P-01A', 'TCGA-Q1-A73Q-01A',\n",
       "       'TCGA-Q1-A73R-01A', 'TCGA-Q1-A73S-01A', 'TCGA-R2-A69V-01A',\n",
       "       'TCGA-RA-A741-01A', 'cumulative_length', 'cum_start', 'cum_end'],\n",
       "      dtype='object', length=186)"
      ]
     },
     "execution_count": 45,
     "metadata": {},
     "output_type": "execute_result"
    }
   ],
   "source": [
    "df6.columns"
   ]
  },
  {
   "cell_type": "code",
   "execution_count": 218,
   "metadata": {},
   "outputs": [],
   "source": [
    "cols = ['start', 'nd', 'chrn', 'Gene Symbol', 'Locus ID', 'Cytoband', 'cumulative_length']"
   ]
  },
  {
   "cell_type": "code",
   "execution_count": 220,
   "metadata": {},
   "outputs": [],
   "source": [
    "df7 = df6.drop(cols, axis=1).sort_values('cum_start')"
   ]
  },
  {
   "cell_type": "code",
   "execution_count": 221,
   "metadata": {},
   "outputs": [
    {
     "data": {
      "text/html": [
       "<div>\n",
       "<style scoped>\n",
       "    .dataframe tbody tr th:only-of-type {\n",
       "        vertical-align: middle;\n",
       "    }\n",
       "\n",
       "    .dataframe tbody tr th {\n",
       "        vertical-align: top;\n",
       "    }\n",
       "\n",
       "    .dataframe thead th {\n",
       "        text-align: right;\n",
       "    }\n",
       "</style>\n",
       "<table border=\"1\" class=\"dataframe\">\n",
       "  <thead>\n",
       "    <tr style=\"text-align: right;\">\n",
       "      <th></th>\n",
       "      <th>TCGA-BI-A0VR-01A</th>\n",
       "      <th>TCGA-BI-A0VS-01A</th>\n",
       "      <th>TCGA-BI-A20A-01A</th>\n",
       "      <th>TCGA-C5-A0TN-01A</th>\n",
       "      <th>TCGA-C5-A1BE-01B</th>\n",
       "      <th>TCGA-C5-A1BF-01B</th>\n",
       "      <th>TCGA-C5-A1BI-01B</th>\n",
       "      <th>TCGA-C5-A1BJ-01A</th>\n",
       "      <th>TCGA-C5-A1BK-01B</th>\n",
       "      <th>TCGA-C5-A1BL-01A</th>\n",
       "      <th>...</th>\n",
       "      <th>TCGA-Q1-A6DW-01A</th>\n",
       "      <th>TCGA-Q1-A73O-01A</th>\n",
       "      <th>TCGA-Q1-A73P-01A</th>\n",
       "      <th>TCGA-Q1-A73Q-01A</th>\n",
       "      <th>TCGA-Q1-A73R-01A</th>\n",
       "      <th>TCGA-Q1-A73S-01A</th>\n",
       "      <th>TCGA-R2-A69V-01A</th>\n",
       "      <th>TCGA-RA-A741-01A</th>\n",
       "      <th>cum_start</th>\n",
       "      <th>cum_end</th>\n",
       "    </tr>\n",
       "  </thead>\n",
       "  <tbody>\n",
       "    <tr>\n",
       "      <th>29102</th>\n",
       "      <td>0.0</td>\n",
       "      <td>0.0</td>\n",
       "      <td>0.0</td>\n",
       "      <td>0.0</td>\n",
       "      <td>0.0</td>\n",
       "      <td>0.0</td>\n",
       "      <td>0.0</td>\n",
       "      <td>0.0</td>\n",
       "      <td>0.0</td>\n",
       "      <td>0.0</td>\n",
       "      <td>...</td>\n",
       "      <td>0.0</td>\n",
       "      <td>0.0</td>\n",
       "      <td>0.0</td>\n",
       "      <td>0.0</td>\n",
       "      <td>0.0</td>\n",
       "      <td>0.0</td>\n",
       "      <td>0.0</td>\n",
       "      <td>0.0</td>\n",
       "      <td>11873</td>\n",
       "      <td>14408</td>\n",
       "    </tr>\n",
       "    <tr>\n",
       "      <th>25695</th>\n",
       "      <td>1.0</td>\n",
       "      <td>1.0</td>\n",
       "      <td>0.0</td>\n",
       "      <td>-1.0</td>\n",
       "      <td>0.0</td>\n",
       "      <td>0.0</td>\n",
       "      <td>1.0</td>\n",
       "      <td>0.0</td>\n",
       "      <td>0.0</td>\n",
       "      <td>-1.0</td>\n",
       "      <td>...</td>\n",
       "      <td>1.0</td>\n",
       "      <td>0.0</td>\n",
       "      <td>0.0</td>\n",
       "      <td>0.0</td>\n",
       "      <td>0.0</td>\n",
       "      <td>0.0</td>\n",
       "      <td>0.0</td>\n",
       "      <td>0.0</td>\n",
       "      <td>14361</td>\n",
       "      <td>29370</td>\n",
       "    </tr>\n",
       "  </tbody>\n",
       "</table>\n",
       "<p>2 rows × 179 columns</p>\n",
       "</div>"
      ],
      "text/plain": [
       "       TCGA-BI-A0VR-01A  TCGA-BI-A0VS-01A  TCGA-BI-A20A-01A  TCGA-C5-A0TN-01A  \\\n",
       "29102               0.0               0.0               0.0               0.0   \n",
       "25695               1.0               1.0               0.0              -1.0   \n",
       "\n",
       "       TCGA-C5-A1BE-01B  TCGA-C5-A1BF-01B  TCGA-C5-A1BI-01B  TCGA-C5-A1BJ-01A  \\\n",
       "29102               0.0               0.0               0.0               0.0   \n",
       "25695               0.0               0.0               1.0               0.0   \n",
       "\n",
       "       TCGA-C5-A1BK-01B  TCGA-C5-A1BL-01A  ...  TCGA-Q1-A6DW-01A  \\\n",
       "29102               0.0               0.0  ...               0.0   \n",
       "25695               0.0              -1.0  ...               1.0   \n",
       "\n",
       "       TCGA-Q1-A73O-01A  TCGA-Q1-A73P-01A  TCGA-Q1-A73Q-01A  TCGA-Q1-A73R-01A  \\\n",
       "29102               0.0               0.0               0.0               0.0   \n",
       "25695               0.0               0.0               0.0               0.0   \n",
       "\n",
       "       TCGA-Q1-A73S-01A  TCGA-R2-A69V-01A  TCGA-RA-A741-01A  cum_start  \\\n",
       "29102               0.0               0.0               0.0      11873   \n",
       "25695               0.0               0.0               0.0      14361   \n",
       "\n",
       "       cum_end  \n",
       "29102    14408  \n",
       "25695    29370  \n",
       "\n",
       "[2 rows x 179 columns]"
      ]
     },
     "execution_count": 221,
     "metadata": {},
     "output_type": "execute_result"
    }
   ],
   "source": [
    "df7.head(2)"
   ]
  },
  {
   "cell_type": "code",
   "execution_count": 222,
   "metadata": {},
   "outputs": [],
   "source": [
    "df7['pct'] = (df7 <0).sum(axis=1)/177\n",
    "df7['amplitude'] = (df7 <0).sum(axis=1)/177"
   ]
  },
  {
   "cell_type": "code",
   "execution_count": 228,
   "metadata": {},
   "outputs": [],
   "source": [
    "df7['sum'] = df7[df7<0].sum(axis=1)\n",
    "df7['count'] = (df7 <0).sum(axis=1)\n",
    "df7['pct'] = df7['count']/177\n",
    "df7['amplitude'] = df7['sum']/df7['count']"
   ]
  },
  {
   "cell_type": "code",
   "execution_count": 233,
   "metadata": {
    "scrolled": true
   },
   "outputs": [
    {
     "data": {
      "text/html": [
       "<div>\n",
       "<style scoped>\n",
       "    .dataframe tbody tr th:only-of-type {\n",
       "        vertical-align: middle;\n",
       "    }\n",
       "\n",
       "    .dataframe tbody tr th {\n",
       "        vertical-align: top;\n",
       "    }\n",
       "\n",
       "    .dataframe thead th {\n",
       "        text-align: right;\n",
       "    }\n",
       "</style>\n",
       "<table border=\"1\" class=\"dataframe\">\n",
       "  <thead>\n",
       "    <tr style=\"text-align: right;\">\n",
       "      <th></th>\n",
       "      <th>TCGA-BI-A0VR-01A</th>\n",
       "      <th>TCGA-BI-A0VS-01A</th>\n",
       "      <th>TCGA-BI-A20A-01A</th>\n",
       "      <th>TCGA-C5-A0TN-01A</th>\n",
       "      <th>TCGA-C5-A1BE-01B</th>\n",
       "      <th>TCGA-C5-A1BF-01B</th>\n",
       "      <th>TCGA-C5-A1BI-01B</th>\n",
       "      <th>TCGA-C5-A1BJ-01A</th>\n",
       "      <th>TCGA-C5-A1BK-01B</th>\n",
       "      <th>TCGA-C5-A1BL-01A</th>\n",
       "      <th>...</th>\n",
       "      <th>TCGA-Q1-A73R-01A</th>\n",
       "      <th>TCGA-Q1-A73S-01A</th>\n",
       "      <th>TCGA-R2-A69V-01A</th>\n",
       "      <th>TCGA-RA-A741-01A</th>\n",
       "      <th>cum_start</th>\n",
       "      <th>cum_end</th>\n",
       "      <th>pct</th>\n",
       "      <th>sum</th>\n",
       "      <th>count</th>\n",
       "      <th>amplitude</th>\n",
       "    </tr>\n",
       "  </thead>\n",
       "  <tbody>\n",
       "    <tr>\n",
       "      <th>29102</th>\n",
       "      <td>0.0</td>\n",
       "      <td>0.0</td>\n",
       "      <td>0.0</td>\n",
       "      <td>0.0</td>\n",
       "      <td>0.0</td>\n",
       "      <td>0.0</td>\n",
       "      <td>0.0</td>\n",
       "      <td>0.0</td>\n",
       "      <td>0.0</td>\n",
       "      <td>0.0</td>\n",
       "      <td>...</td>\n",
       "      <td>0.0</td>\n",
       "      <td>0.0</td>\n",
       "      <td>0.0</td>\n",
       "      <td>0.0</td>\n",
       "      <td>11873</td>\n",
       "      <td>14408</td>\n",
       "      <td>0.000000</td>\n",
       "      <td>0.0</td>\n",
       "      <td>0</td>\n",
       "      <td>NaN</td>\n",
       "    </tr>\n",
       "    <tr>\n",
       "      <th>25695</th>\n",
       "      <td>1.0</td>\n",
       "      <td>1.0</td>\n",
       "      <td>0.0</td>\n",
       "      <td>-1.0</td>\n",
       "      <td>0.0</td>\n",
       "      <td>0.0</td>\n",
       "      <td>1.0</td>\n",
       "      <td>0.0</td>\n",
       "      <td>0.0</td>\n",
       "      <td>-1.0</td>\n",
       "      <td>...</td>\n",
       "      <td>0.0</td>\n",
       "      <td>0.0</td>\n",
       "      <td>0.0</td>\n",
       "      <td>0.0</td>\n",
       "      <td>14361</td>\n",
       "      <td>29370</td>\n",
       "      <td>0.135593</td>\n",
       "      <td>-25.0</td>\n",
       "      <td>24</td>\n",
       "      <td>-1.041667</td>\n",
       "    </tr>\n",
       "  </tbody>\n",
       "</table>\n",
       "<p>2 rows × 183 columns</p>\n",
       "</div>"
      ],
      "text/plain": [
       "       TCGA-BI-A0VR-01A  TCGA-BI-A0VS-01A  TCGA-BI-A20A-01A  TCGA-C5-A0TN-01A  \\\n",
       "29102               0.0               0.0               0.0               0.0   \n",
       "25695               1.0               1.0               0.0              -1.0   \n",
       "\n",
       "       TCGA-C5-A1BE-01B  TCGA-C5-A1BF-01B  TCGA-C5-A1BI-01B  TCGA-C5-A1BJ-01A  \\\n",
       "29102               0.0               0.0               0.0               0.0   \n",
       "25695               0.0               0.0               1.0               0.0   \n",
       "\n",
       "       TCGA-C5-A1BK-01B  TCGA-C5-A1BL-01A  ...  TCGA-Q1-A73R-01A  \\\n",
       "29102               0.0               0.0  ...               0.0   \n",
       "25695               0.0              -1.0  ...               0.0   \n",
       "\n",
       "       TCGA-Q1-A73S-01A  TCGA-R2-A69V-01A  TCGA-RA-A741-01A  cum_start  \\\n",
       "29102               0.0               0.0               0.0      11873   \n",
       "25695               0.0               0.0               0.0      14361   \n",
       "\n",
       "       cum_end       pct   sum  count  amplitude  \n",
       "29102    14408  0.000000   0.0      0        NaN  \n",
       "25695    29370  0.135593 -25.0     24  -1.041667  \n",
       "\n",
       "[2 rows x 183 columns]"
      ]
     },
     "execution_count": 233,
     "metadata": {},
     "output_type": "execute_result"
    },
    {
     "data": {
      "text/plain": [
       "(29375, 183)"
      ]
     },
     "execution_count": 233,
     "metadata": {},
     "output_type": "execute_result"
    },
    {
     "data": {
      "text/plain": [
       "count    27931.000000\n",
       "mean        -0.951422\n",
       "std          0.082968\n",
       "min         -1.285714\n",
       "25%         -1.000000\n",
       "50%         -0.972973\n",
       "75%         -0.941176\n",
       "max         -0.500000\n",
       "Name: amplitude, dtype: float64"
      ]
     },
     "execution_count": 233,
     "metadata": {},
     "output_type": "execute_result"
    }
   ],
   "source": [
    "df7.head(2)\n",
    "df7.shape\n",
    "df7.amplitude.describe()"
   ]
  },
  {
   "cell_type": "code",
   "execution_count": 65,
   "metadata": {},
   "outputs": [],
   "source": [
    "plt.plot?"
   ]
  },
  {
   "cell_type": "code",
   "execution_count": 68,
   "metadata": {},
   "outputs": [
    {
     "data": {
      "text/plain": [
       "[<matplotlib.lines.Line2D at 0x7f20c0078e80>]"
      ]
     },
     "execution_count": 68,
     "metadata": {},
     "output_type": "execute_result"
    },
    {
     "data": {
      "image/png": "[encoded data removed]",
      "text/plain": [
       "<Figure size 1152x216 with 1 Axes>"
      ]
     },
     "metadata": {},
     "output_type": "display_data"
    }
   ],
   "source": [
    "f, ax = plt.subplots(figsize=(16, 3))\n",
    "plt.plot(df7.cum_start, df7.pct, 'r')"
   ]
  },
  {
   "cell_type": "code",
   "execution_count": 103,
   "metadata": {},
   "outputs": [
    {
     "data": {
      "text/html": [
       "<div>\n",
       "<style scoped>\n",
       "    .dataframe tbody tr th:only-of-type {\n",
       "        vertical-align: middle;\n",
       "    }\n",
       "\n",
       "    .dataframe tbody tr th {\n",
       "        vertical-align: top;\n",
       "    }\n",
       "\n",
       "    .dataframe thead th {\n",
       "        text-align: right;\n",
       "    }\n",
       "</style>\n",
       "<table border=\"1\" class=\"dataframe\">\n",
       "  <thead>\n",
       "    <tr style=\"text-align: right;\">\n",
       "      <th></th>\n",
       "      <th>TCGA-BI-A0VR-01A</th>\n",
       "      <th>TCGA-BI-A0VS-01A</th>\n",
       "      <th>TCGA-BI-A20A-01A</th>\n",
       "      <th>TCGA-C5-A0TN-01A</th>\n",
       "      <th>TCGA-C5-A1BE-01B</th>\n",
       "      <th>TCGA-C5-A1BF-01B</th>\n",
       "      <th>TCGA-C5-A1BI-01B</th>\n",
       "      <th>TCGA-C5-A1BJ-01A</th>\n",
       "      <th>TCGA-C5-A1BK-01B</th>\n",
       "      <th>TCGA-C5-A1BL-01A</th>\n",
       "      <th>...</th>\n",
       "      <th>TCGA-Q1-A6DW-01A</th>\n",
       "      <th>TCGA-Q1-A73O-01A</th>\n",
       "      <th>TCGA-Q1-A73P-01A</th>\n",
       "      <th>TCGA-Q1-A73Q-01A</th>\n",
       "      <th>TCGA-Q1-A73R-01A</th>\n",
       "      <th>TCGA-Q1-A73S-01A</th>\n",
       "      <th>TCGA-R2-A69V-01A</th>\n",
       "      <th>TCGA-RA-A741-01A</th>\n",
       "      <th>cum_start</th>\n",
       "      <th>pct</th>\n",
       "    </tr>\n",
       "  </thead>\n",
       "  <tbody>\n",
       "    <tr>\n",
       "      <th>39323</th>\n",
       "      <td>0.0</td>\n",
       "      <td>0.0</td>\n",
       "      <td>0.0</td>\n",
       "      <td>0.0</td>\n",
       "      <td>0.0</td>\n",
       "      <td>0.0</td>\n",
       "      <td>0.0</td>\n",
       "      <td>0.0</td>\n",
       "      <td>0.0</td>\n",
       "      <td>0.0</td>\n",
       "      <td>...</td>\n",
       "      <td>0.0</td>\n",
       "      <td>0.0</td>\n",
       "      <td>0.0</td>\n",
       "      <td>0.0</td>\n",
       "      <td>0.0</td>\n",
       "      <td>0.0</td>\n",
       "      <td>0.0</td>\n",
       "      <td>0.0</td>\n",
       "      <td>11873</td>\n",
       "      <td>0.000000</td>\n",
       "    </tr>\n",
       "    <tr>\n",
       "      <th>34757</th>\n",
       "      <td>1.0</td>\n",
       "      <td>1.0</td>\n",
       "      <td>0.0</td>\n",
       "      <td>-1.0</td>\n",
       "      <td>0.0</td>\n",
       "      <td>0.0</td>\n",
       "      <td>1.0</td>\n",
       "      <td>0.0</td>\n",
       "      <td>0.0</td>\n",
       "      <td>-1.0</td>\n",
       "      <td>...</td>\n",
       "      <td>1.0</td>\n",
       "      <td>0.0</td>\n",
       "      <td>0.0</td>\n",
       "      <td>0.0</td>\n",
       "      <td>0.0</td>\n",
       "      <td>0.0</td>\n",
       "      <td>0.0</td>\n",
       "      <td>0.0</td>\n",
       "      <td>14361</td>\n",
       "      <td>0.129944</td>\n",
       "    </tr>\n",
       "  </tbody>\n",
       "</table>\n",
       "<p>2 rows × 179 columns</p>\n",
       "</div>"
      ],
      "text/plain": [
       "       TCGA-BI-A0VR-01A  TCGA-BI-A0VS-01A  TCGA-BI-A20A-01A  TCGA-C5-A0TN-01A  \\\n",
       "39323               0.0               0.0               0.0               0.0   \n",
       "34757               1.0               1.0               0.0              -1.0   \n",
       "\n",
       "       TCGA-C5-A1BE-01B  TCGA-C5-A1BF-01B  TCGA-C5-A1BI-01B  TCGA-C5-A1BJ-01A  \\\n",
       "39323               0.0               0.0               0.0               0.0   \n",
       "34757               0.0               0.0               1.0               0.0   \n",
       "\n",
       "       TCGA-C5-A1BK-01B  TCGA-C5-A1BL-01A  ...  TCGA-Q1-A6DW-01A  \\\n",
       "39323               0.0               0.0  ...               0.0   \n",
       "34757               0.0              -1.0  ...               1.0   \n",
       "\n",
       "       TCGA-Q1-A73O-01A  TCGA-Q1-A73P-01A  TCGA-Q1-A73Q-01A  TCGA-Q1-A73R-01A  \\\n",
       "39323               0.0               0.0               0.0               0.0   \n",
       "34757               0.0               0.0               0.0               0.0   \n",
       "\n",
       "       TCGA-Q1-A73S-01A  TCGA-R2-A69V-01A  TCGA-RA-A741-01A  cum_start  \\\n",
       "39323               0.0               0.0               0.0      11873   \n",
       "34757               0.0               0.0               0.0      14361   \n",
       "\n",
       "            pct  \n",
       "39323  0.000000  \n",
       "34757  0.129944  \n",
       "\n",
       "[2 rows x 179 columns]"
      ]
     },
     "execution_count": 103,
     "metadata": {},
     "output_type": "execute_result"
    }
   ],
   "source": [
    "df7.head(2)"
   ]
  },
  {
   "cell_type": "markdown",
   "metadata": {},
   "source": [
    "# 1. TCGA copy number"
   ]
  },
  {
   "cell_type": "markdown",
   "metadata": {},
   "source": [
    "1. i can load the gatk seg file into igv for visualization. the file extension needs to be .seg\n",
    "\n",
    "2. decided to use the TCGA file with germline CNVs removed for the comparison I used the same TCGA curated germline events to filter out germline events from HTMCP cohort as well. \n",
    "\n",
    "3. i downloaded the population CNVS here: is this from 1000 genomes\n",
    "/projects/trans_scratch/validations/workspace/szong/Cervical/cnv/population_cnv.txt\n",
    "\n",
    "4. tcga core data freeze list: 178 samples with SNP6 array copy number data. extended data include additional 50 samples.\n",
    "\n",
    "5. snp6 copy number analysis was applied to the 178 core samples. in supplimentary, it states \"Somatic copy number alterations in 178 CESC tumors were determined with SNP 6.0 arrays. \"\n",
    "\n",
    "<font color='red'>\n",
    "6. TCGA excluded peaks with more than 30 genes. also TCGA removed germline CNVs\n",
    "</font>\n",
    "\n",
    "7. GISTIC2.0 amplification and deletion plots within copy number clusters. Chromosomal locations for peaks of significantly recurrent focal amplifications (red) and deletions (blue) are plotted by −log10 q value for the high (CN High) and low (CN Low) copy number clusters. Peaks are annotated with cytoband and candidate driver genes. The total number of genes in the peak region is indicated in parentheses. Peaks with more than 30 genes in the peak region are excluded. Any genes annotated have a significant positive correlation with mRNA expression"
   ]
  },
  {
   "cell_type": "markdown",
   "metadata": {},
   "source": [
    "data can be download here:\n",
    "\n",
    "http://firebrowse.org/\n",
    "\n",
    "http://gdac.broadinstitute.org/runs/stddata__2016_01_28/data/CESC/20160128/\n",
    "\n",
    "in firbrowse, there are 295 samples with snp6 copy number results including 586 tumour or normals. not sure why. but it makes sense to have normals in this file because copy number ratio is standardardized to a panel of normals. so normals can be compared to the panel as well.\n",
    "\n",
    "copy number analysis GISTIC results are here with 295 patients:\n",
    "http://gdac.broadinstitute.org/runs/analyses__2016_01_28/reports/cancer/CESC-TP/CopyNumber_Gistic2/nozzle.html\n",
    "\n",
    "TCGA CESC had 178 core samples plus 50 extended cases. but in firebrowse we got 295 samples for the cesc. not sure why. i am confused. so to keep it simple, I will stick to the 178 samples for the purposes of comparison with HTMCP. the 178 core samples include both squamous and adeno cases. so not like we only look at squamous cases. should be fine.\n",
    "\n",
    "decide which file to use. \n",
    "\"_scna_minus_germline_cnv_\" has much less rows, indicating germline cnvs were removed. maybe one normal against a panel of normal can detect germline cnvs, so the file excluded these events. When we run our HTMCP cohort, we did not remove germline cnvs, so i think i should use the other file which include germline cnvs. \n",
    "\n",
    "to determine if a segment is amplfied or deleted based on the segment_mean value, (logT/N ratio). I tend to use cutoffs; amp>=0.58= log2(3/2); del <=-1=log2(1/2), this seems to be too stringent. \n",
    "\n",
    "following paper used 0.25 for copy gain and -0.25 for copy loss.\n",
    "\n",
    "https://www.ncbi.nlm.nih.gov/pmc/articles/PMC4392457/\n",
    "There are no standardised log2 ratio cut-offs to define low-amplitude copy number gain/loss and high amplitude amplification/deletion. Based on the available published literature, we used a log2 ratio cut-off of +/− 0.25 to define copy number gain/loss and a log2 ratio cut-off of +/− 0.8 to define amplification and deletion [7,18,19].\n",
    "\n",
    "https://www.nature.com/articles/nature20805\n",
    "esophageal copy number comparison with ESCC and EAC\n",
    "\n",
    "this google post has some useful information as well:\n",
    "https://groups.google.com/a/broadinstitute.org/forum/#!topic/gdac-users/__zdXDE-Z5U\n",
    "\n",
    "this talks about the germline CNVs identified in 1000 genomes.\n",
    "https://www.biostars.org/p/174343/\n",
    "\n",
    "this describes how GISTIC works:\n",
    "http://www.pnas.org/content/104/50/20007.full"
   ]
  },
  {
   "cell_type": "markdown",
   "metadata": {},
   "source": [
    "\n",
    "Copy number analysis\n",
    "DNA from each tumour or germline sample was hybridized to Affymetrix SNP 6.0 arrays using protocols at the Genome Analysis Platform of the Broad Institute as previously described51. Briefly, Birdseed was used to infer a preliminary copy number at each probe locus from raw .cel files52. For each tumour, genome-wide copy number estimates were refined using tangent normalization, in which tumour signal intensities are divided by signal intensities from the linear combination of all normal samples that are most similar to the tumour16. Individual copy number estimates then underwent segmentation using circular binary segmentation53, and segmented copy number profiles for tumour and matched control DNAs were analysed using Ziggurat Deconstruction54. Significance of copy number alterations were assessed from the segmented data using GISTIC2.0 (version 2.0.22)54. For the purpose of this analysis, an arm-level event was defined as any event spanning more than 50% of a chromosome arm. For copy number-based clustering, tumours were clustered based on copy number at regions using GISTIC analysis. Clustering was done in R on the basis of Euclidean distance using Ward’s method. Allelic and integer copy number, tumour purity and tumour ploidy were calculated using the ABSOLUTE algorithm55.\n",
    "\n"
   ]
  },
  {
   "cell_type": "markdown",
   "metadata": {},
   "source": [
    "# ARE THESE THRESHOLDS  REASONABLE?\n",
    "remember now the final version we only want 3 tracks, the comparison is tcga vs hiv- and hiv+ vs hiv-"
   ]
  },
  {
   "cell_type": "markdown",
   "metadata": {},
   "source": [
    "# goals"
   ]
  },
  {
   "cell_type": "markdown",
   "metadata": {},
   "source": [
    "* to display the copy number landscape using gatk cnv results\n",
    "* to compare significant arm level alterations among three groups: tcga, htmcp hiv+, and htmcp hiv-, all comparisons are made against hiv- group"
   ]
  },
  {
   "cell_type": "markdown",
   "metadata": {},
   "source": [
    "# constants"
   ]
  },
  {
   "cell_type": "code",
   "execution_count": 1,
   "metadata": {},
   "outputs": [],
   "source": [
    "amp_threshold = 0.1 # suggested by Andrew Cherniack\n",
    "del_threshold = -0.1\n",
    "arm_threshold = 0.25\n",
    "num_tcga_patients = 177\n",
    "num_htmcp_patients = 118\n",
    "num_htmcp_hiv_pos_patients = 73\n",
    "num_htmcp_hiv_neg_patients = 45"
   ]
  },
  {
   "cell_type": "markdown",
   "metadata": {},
   "source": [
    "# files"
   ]
  },
  {
   "cell_type": "code",
   "execution_count": 120,
   "metadata": {},
   "outputs": [],
   "source": [
    "wkdir = '/projects/trans_scratch/validations/workspace/szong/Cervical/cnv/'\n",
    "bindir = '/projects/trans_scratch/validations/workspace/szong/Cervical/cnv/bin_segs/'\n",
    "chr_accu_length_f = f'{wkdir}chromosome_accumulative_length.txt'\n",
    "chromosomef = f'{wkdir}chromosome_coordinates.txt'\n",
    "\n",
    "# this removed germline cnvs\n",
    "tcga_cn_file = '/home/szong/bin/GISTIC_2_0_22/tcga/segmentationfile.txt'\n",
    "# tcga_cn_file is extracted from below minus_germline files downloaed from firebrowse\n",
    "# tcga_cn_file = '/projects/trans_scratch/validations/workspace/szong/Cervical/tcga_cn/gdac.broadinstitute.org_CESC.Merge_snp__genome_wide_snp_6__broad_mit_edu__Level_3__segmented_scna_minus_germline_cnv_hg19__seg.Level_3.2016012800.0.0/CESC.snp__genome_wide_snp_6__broad_mit_edu__Level_3__segmented_scna_minus_germline_cnv_hg19__seg.seg.txt'\n",
    "# tcga_cn_file = '/projects/trans_scratch/validations/workspace/szong/Cervical/tcga_cn/gdac.broadinstitute.org_CESC.Merge_snp__genome_wide_snp_6__broad_mit_edu__Level_3__segmented_scna_hg19__seg.Level_3.2016012800.0.0/CESC.snp__genome_wide_snp_6__broad_mit_edu__Level_3__segmented_scna_hg19__seg.seg.txt'\n",
    "tcga_core_sample_file = '/projects/trans_scratch/validations/workspace/szong/Cervical/tcga_cn/TCGA_178_core_samples.txt'\n",
    "htmcp_hiv_neg_file = '/home/szong/bin/GISTIC_2_0_22/gatk_118_HIV_neg/segmentationfile.txt'\n",
    "htmcp_hiv_pos_file = '/home/szong/bin/GISTIC_2_0_22/gatk_118_HIV_pos/segmentationfile.txt'\n",
    "# htmcp_file = '/home/szong/bin/GISTIC_2_0_22/gatk_118_patients/segmentationfile.txt'\n",
    "hivpos_uniqamp_armsf = f'{wkdir}hivpos_uniqamp_arms_{arm_threshold}.txt'\n",
    "hivneg_uniqamp_armsf = f'{wkdir}hivneg_uniqamp_arms_{arm_threshold}.txt'\n",
    "hivpos_uniqdel_armsf = f'{wkdir}hivpos_uniqdel_arms_{arm_threshold}.txt'\n",
    "hivneg_uniqdel_armsf = f'{wkdir}hivneg_uniqdel_arms_{arm_threshold}.txt'\n",
    "tcga_uniqdel_armsf = f'{wkdir}tcga_uniqdel_arms_{arm_threshold}.txt'\n",
    "tcga_uniqamp_armsf = f'{wkdir}tcga_uniqamp_arms_{arm_threshold}.txt'\n",
    "hivneg2_uniqdel_armsf = f'{wkdir}hivneg2_uniqdel_arms_{arm_threshold}.txt'\n",
    "hivneg2_uniqamp_armsf = f'{wkdir}hivneg2_uniqamp_arms_{arm_threshold}.txt'\n",
    "\n"
   ]
  },
  {
   "cell_type": "code",
   "execution_count": 121,
   "metadata": {},
   "outputs": [
    {
     "data": {
      "text/html": [
       "<div>\n",
       "<style scoped>\n",
       "    .dataframe tbody tr th:only-of-type {\n",
       "        vertical-align: middle;\n",
       "    }\n",
       "\n",
       "    .dataframe tbody tr th {\n",
       "        vertical-align: top;\n",
       "    }\n",
       "\n",
       "    .dataframe thead th {\n",
       "        text-align: right;\n",
       "    }\n",
       "</style>\n",
       "<table border=\"1\" class=\"dataframe\">\n",
       "  <thead>\n",
       "    <tr style=\"text-align: right;\">\n",
       "      <th></th>\n",
       "      <th>size</th>\n",
       "    </tr>\n",
       "    <tr>\n",
       "      <th>chr</th>\n",
       "      <th></th>\n",
       "    </tr>\n",
       "  </thead>\n",
       "  <tbody>\n",
       "    <tr>\n",
       "      <th>1</th>\n",
       "      <td>249250621</td>\n",
       "    </tr>\n",
       "    <tr>\n",
       "      <th>2</th>\n",
       "      <td>243199373</td>\n",
       "    </tr>\n",
       "  </tbody>\n",
       "</table>\n",
       "</div>"
      ],
      "text/plain": [
       "          size\n",
       "chr           \n",
       "1    249250621\n",
       "2    243199373"
      ]
     },
     "execution_count": 121,
     "metadata": {},
     "output_type": "execute_result"
    }
   ],
   "source": [
    "f2_1 = '/home/szong/projects/resource/chrominfo.txt'\n",
    "df2_1 = pd.read_csv(f2_1, sep='\\t', usecols=['#chrom', 'size'])\n",
    "df2_1['chr'] = df2_1['#chrom'].apply(lambda x: x.replace('chr', ''))\n",
    "chr_sizes = df2_1.set_index('chr').drop('#chrom', axis=1)\n",
    "chr_sizes = chr_sizes.reset_index().replace('X', '23').replace('Y', '24').iloc[:24,].set_index('chr')\n",
    "chr_sizes.index = chr_sizes.index.astype(int)\n",
    "chr_sizes = chr_sizes.sort_index()\n",
    "chr_sizes.head(2)\n",
    "# initiate occupied label coordinates dict\n",
    "chr_length = chr_sizes['size']#.astype(str)\n",
    "y_coords = np.arange(7, .5, -0.5)"
   ]
  },
  {
   "cell_type": "markdown",
   "metadata": {},
   "source": [
    "# 3. plot cnvs"
   ]
  },
  {
   "cell_type": "code",
   "execution_count": 163,
   "metadata": {},
   "outputs": [],
   "source": [
    "def plot_cnv(ax, baseline, amps, dels, num_patients, vlns):\n",
    "    ticks = [0, 0.4, 0.8, 1.2, 1.6]\n",
    "    ticklabels = [0.8, 0.4, 0, 0.4, 0.8]\n",
    "    ax.set_yticks(ticks, minor=False)\n",
    "    ax.set_yticklabels(ticklabels, minor=False)\n",
    "    # ax.set_frame_on(False) # this turn off frame\n",
    "    # Hide the right and top spines\n",
    "    ax.spines['right'].set_visible(False)\n",
    "    ax.spines['top'].set_visible(False)\n",
    "    ax.spines['bottom'].set_visible(False)\n",
    "    ax.axes.get_xaxis().set_visible(False)\n",
    "    _ = ax.hlines(baseline, 0, vlns[-2], color='black', linewidth=.7)\n",
    "    for vl in vlns:\n",
    "        _ = ax.vlines(vl, 0, 1.6, color='gray', linestyle='--', linewidth=.5)\n",
    "    \n",
    "#     _ = axhline(baseline + 1, color='gray', linestyle='--', linewidth=.5)\n",
    "#     _ = axhline(baseline - 1, color='gray', linestyle='--', linewidth=.5)\n",
    "    coordinates, fractions = get_coordinates_fractions(amps, num_patients)\n",
    "\n",
    "    plot_fraction(coordinates, fractions, baseline, 'amps', ax)\n",
    "    coordinates, fractions = get_coordinates_fractions(dels, num_patients)\n",
    "    plot_fraction(coordinates, fractions, baseline, 'dels', ax)"
   ]
  },
  {
   "cell_type": "code",
   "execution_count": 123,
   "metadata": {},
   "outputs": [],
   "source": [
    "# plot baseline\n",
    "start = 0\n",
    "end = 0\n",
    "# baseline = 1\n",
    "vlns = []\n",
    "mpnts = []\n",
    "for ch, length in enumerate(chr_length[:-1]):\n",
    "    ch+=1\n",
    "    end+=length\n",
    "    midpoint = (start + end)/2\n",
    "    mpnts.append(midpoint)\n",
    "#     _ = ax0.text(midpoint, 1, ch, ha='center')\n",
    "    if ch %2 == 1:\n",
    "        vlns.append(start)\n",
    "        vlns.append(end)\n",
    "#         _ = fill([start, end, end, start], [0, 0, 11, 11], 'b', alpha=0.1, edgecolor='b')\n",
    "#         _= ax0.vlines(start, 0, 10, color='gray', linestyle='--', linewidth=.5)\n",
    "#         _= ax0.vlines(end, 0, 10, color='gray', linestyle='--', linewidth=.5)\n",
    "    start+=length\n",
    "#     _ = ax0.text(midpoint, 1, ch, ha='center')\n"
   ]
  },
  {
   "cell_type": "code",
   "execution_count": 124,
   "metadata": {},
   "outputs": [],
   "source": [
    "def plot_cytobands(df, ax, clr, y_coord):\n",
    "    \"\"\"\n",
    "    keep in mind sometime notebook does render properly, some lines seem missing, \n",
    "    but it will show up when you open the png file. \n",
    "    \"\"\"\n",
    "    for ix, row in df.iterrows():\n",
    "        chrom = row.chr\n",
    "        start = row.start\n",
    "        end = row.end\n",
    "        cytoband = row.cytoband\n",
    "        print(start, end, (end-start), cytoband)\n",
    "        ax.hlines(y_coord, start, end, color=clr, linewidth=14) "
   ]
  },
  {
   "cell_type": "markdown",
   "metadata": {},
   "source": [
    "# plot cytoband"
   ]
  },
  {
   "cell_type": "code",
   "execution_count": 125,
   "metadata": {},
   "outputs": [
    {
     "data": {
      "text/html": [
       "<div>\n",
       "<style scoped>\n",
       "    .dataframe tbody tr th:only-of-type {\n",
       "        vertical-align: middle;\n",
       "    }\n",
       "\n",
       "    .dataframe tbody tr th {\n",
       "        vertical-align: top;\n",
       "    }\n",
       "\n",
       "    .dataframe thead th {\n",
       "        text-align: right;\n",
       "    }\n",
       "</style>\n",
       "<table border=\"1\" class=\"dataframe\">\n",
       "  <thead>\n",
       "    <tr style=\"text-align: right;\">\n",
       "      <th></th>\n",
       "      <th>chr</th>\n",
       "      <th>start</th>\n",
       "      <th>end</th>\n",
       "      <th>cytoband</th>\n",
       "      <th>comments</th>\n",
       "    </tr>\n",
       "  </thead>\n",
       "  <tbody>\n",
       "    <tr>\n",
       "      <th>0</th>\n",
       "      <td>1</td>\n",
       "      <td>0</td>\n",
       "      <td>2300000</td>\n",
       "      <td>1p36.33</td>\n",
       "      <td>gneg</td>\n",
       "    </tr>\n",
       "    <tr>\n",
       "      <th>1</th>\n",
       "      <td>1</td>\n",
       "      <td>2300000</td>\n",
       "      <td>5400000</td>\n",
       "      <td>1p36.32</td>\n",
       "      <td>gpos25</td>\n",
       "    </tr>\n",
       "  </tbody>\n",
       "</table>\n",
       "</div>"
      ],
      "text/plain": [
       "  chr    start      end cytoband comments\n",
       "0   1        0  2300000  1p36.33     gneg\n",
       "1   1  2300000  5400000  1p36.32   gpos25"
      ]
     },
     "execution_count": 125,
     "metadata": {},
     "output_type": "execute_result"
    },
    {
     "data": {
      "text/html": [
       "<div>\n",
       "<style scoped>\n",
       "    .dataframe tbody tr th:only-of-type {\n",
       "        vertical-align: middle;\n",
       "    }\n",
       "\n",
       "    .dataframe tbody tr th {\n",
       "        vertical-align: top;\n",
       "    }\n",
       "\n",
       "    .dataframe thead th {\n",
       "        text-align: right;\n",
       "    }\n",
       "</style>\n",
       "<table border=\"1\" class=\"dataframe\">\n",
       "  <thead>\n",
       "    <tr style=\"text-align: right;\">\n",
       "      <th></th>\n",
       "      <th>chr</th>\n",
       "      <th>start</th>\n",
       "      <th>end</th>\n",
       "      <th>cytoband</th>\n",
       "      <th>comments</th>\n",
       "    </tr>\n",
       "  </thead>\n",
       "  <tbody>\n",
       "    <tr>\n",
       "      <th>857</th>\n",
       "      <td>24</td>\n",
       "      <td>15100000</td>\n",
       "      <td>19800000</td>\n",
       "      <td>Yq11.221</td>\n",
       "      <td>gpos50</td>\n",
       "    </tr>\n",
       "    <tr>\n",
       "      <th>858</th>\n",
       "      <td>24</td>\n",
       "      <td>19800000</td>\n",
       "      <td>22100000</td>\n",
       "      <td>Yq11.222</td>\n",
       "      <td>gneg</td>\n",
       "    </tr>\n",
       "    <tr>\n",
       "      <th>859</th>\n",
       "      <td>24</td>\n",
       "      <td>22100000</td>\n",
       "      <td>26200000</td>\n",
       "      <td>Yq11.223</td>\n",
       "      <td>gpos50</td>\n",
       "    </tr>\n",
       "    <tr>\n",
       "      <th>860</th>\n",
       "      <td>24</td>\n",
       "      <td>26200000</td>\n",
       "      <td>28800000</td>\n",
       "      <td>Yq11.23</td>\n",
       "      <td>gneg</td>\n",
       "    </tr>\n",
       "    <tr>\n",
       "      <th>861</th>\n",
       "      <td>24</td>\n",
       "      <td>28800000</td>\n",
       "      <td>59373566</td>\n",
       "      <td>Yq12</td>\n",
       "      <td>gvar</td>\n",
       "    </tr>\n",
       "  </tbody>\n",
       "</table>\n",
       "</div>"
      ],
      "text/plain": [
       "    chr     start       end  cytoband comments\n",
       "857  24  15100000  19800000  Yq11.221   gpos50\n",
       "858  24  19800000  22100000  Yq11.222     gneg\n",
       "859  24  22100000  26200000  Yq11.223   gpos50\n",
       "860  24  26200000  28800000   Yq11.23     gneg\n",
       "861  24  28800000  59373566      Yq12     gvar"
      ]
     },
     "execution_count": 125,
     "metadata": {},
     "output_type": "execute_result"
    },
    {
     "data": {
      "text/plain": [
       "(862, 5)"
      ]
     },
     "execution_count": 125,
     "metadata": {},
     "output_type": "execute_result"
    },
    {
     "data": {
      "text/plain": [
       "chr         object\n",
       "start        int64\n",
       "end          int64\n",
       "cytoband    object\n",
       "comments    object\n",
       "dtype: object"
      ]
     },
     "execution_count": 125,
     "metadata": {},
     "output_type": "execute_result"
    }
   ],
   "source": [
    "# plot chromosomes\n",
    "f3 = '/home/szong/projects/resource/hg19_cytoband_ucsc.txt'\n",
    "df_cytoband = pd.read_csv(f3, header=None, sep='\\t')\n",
    "df_cytoband.columns = ['chr', 'start', 'end', 'cytoband', 'comments']\n",
    "df_cytoband['cytoband'] = df_cytoband.chr + df_cytoband['cytoband']\n",
    "df_cytoband['chr'] = df_cytoband['chr'].replace({'X':'23', 'Y':'24'}).astype(str)\n",
    "\n",
    "df_cytoband.head(2)\n",
    "df_cytoband.tail()\n",
    "df_cytoband.shape\n",
    "df_cytoband.dtypes"
   ]
  },
  {
   "cell_type": "code",
   "execution_count": 126,
   "metadata": {},
   "outputs": [
    {
     "data": {
      "text/html": [
       "<div>\n",
       "<style scoped>\n",
       "    .dataframe tbody tr th:only-of-type {\n",
       "        vertical-align: middle;\n",
       "    }\n",
       "\n",
       "    .dataframe tbody tr th {\n",
       "        vertical-align: top;\n",
       "    }\n",
       "\n",
       "    .dataframe thead th {\n",
       "        text-align: right;\n",
       "    }\n",
       "</style>\n",
       "<table border=\"1\" class=\"dataframe\">\n",
       "  <thead>\n",
       "    <tr style=\"text-align: right;\">\n",
       "      <th></th>\n",
       "      <th>chrom</th>\n",
       "      <th>length</th>\n",
       "      <th>cumulative_length</th>\n",
       "    </tr>\n",
       "  </thead>\n",
       "  <tbody>\n",
       "    <tr>\n",
       "      <th>0</th>\n",
       "      <td>0</td>\n",
       "      <td>0</td>\n",
       "      <td>0</td>\n",
       "    </tr>\n",
       "    <tr>\n",
       "      <th>1</th>\n",
       "      <td>1</td>\n",
       "      <td>249250621</td>\n",
       "      <td>249250621</td>\n",
       "    </tr>\n",
       "    <tr>\n",
       "      <th>2</th>\n",
       "      <td>2</td>\n",
       "      <td>243199373</td>\n",
       "      <td>492449994</td>\n",
       "    </tr>\n",
       "    <tr>\n",
       "      <th>3</th>\n",
       "      <td>3</td>\n",
       "      <td>198022430</td>\n",
       "      <td>690472424</td>\n",
       "    </tr>\n",
       "  </tbody>\n",
       "</table>\n",
       "</div>"
      ],
      "text/plain": [
       "   chrom     length  cumulative_length\n",
       "0      0          0                  0\n",
       "1      1  249250621          249250621\n",
       "2      2  243199373          492449994\n",
       "3      3  198022430          690472424"
      ]
     },
     "execution_count": 126,
     "metadata": {},
     "output_type": "execute_result"
    },
    {
     "data": {
      "text/plain": [
       "chrom                int64\n",
       "length               int64\n",
       "cumulative_length    int64\n",
       "dtype: object"
      ]
     },
     "execution_count": 126,
     "metadata": {},
     "output_type": "execute_result"
    }
   ],
   "source": [
    "chromosomes = pd.read_csv(chr_accu_length_f, sep='\\t')\n",
    "chromosomes[:4]\n",
    "chromosomes.dtypes"
   ]
  },
  {
   "cell_type": "code",
   "execution_count": 127,
   "metadata": {},
   "outputs": [],
   "source": [
    "chromosomes['end'] = chromosomes.cumulative_length.shift(-1)\n",
    "chroms = chromosomes.loc[0:23,['cumulative_length','end']]\n",
    "chroms['chrom'] = [i for i in range(1, 25)]\n",
    "# chroms.to_csv(chromosomef, index=False)"
   ]
  },
  {
   "cell_type": "markdown",
   "metadata": {},
   "source": [
    "# final plot"
   ]
  },
  {
   "cell_type": "markdown",
   "metadata": {},
   "source": [
    "## get all files"
   ]
  },
  {
   "cell_type": "markdown",
   "metadata": {},
   "source": []
  },
  {
   "cell_type": "code",
   "execution_count": 128,
   "metadata": {},
   "outputs": [],
   "source": [
    "def calculate_fractions(df):\n",
    "    end = 0\n",
    "    all_positions = []\n",
    "    all_fractions = []\n",
    "    for ch, length in enumerate(chr_length):\n",
    "        ch+=1\n",
    "        positions = list(end + np.array(df.iloc[df.index.get_level_values('bin_chr') == ch].index.get_level_values('bin_start').tolist()))\n",
    "        all_positions = all_positions + positions\n",
    "        fractions = df.iloc[df.index.get_level_values('bin_chr') == ch]['fraction_patients'].tolist()\n",
    "        all_fractions = all_fractions + fractions\n",
    "        end+=length\n",
    "    return (all_positions, all_fractions)"
   ]
  },
  {
   "cell_type": "code",
   "execution_count": 165,
   "metadata": {},
   "outputs": [],
   "source": [
    "def get_coordinates_fractions(indf, num_patients):\n",
    "    df = reindex_df(indf, num_patients, df11)\n",
    "    coordinates, fractions = calculate_fractions(df)\n",
    "    return (coordinates, fractions)"
   ]
  },
  {
   "cell_type": "code",
   "execution_count": 162,
   "metadata": {},
   "outputs": [],
   "source": [
    "def reindex_df(indf, num_patients, df11):\n",
    "    df = indf.set_index(['bin_chr', 'bin_start', 'bin_end']).reindex(df11.index)\n",
    "    df.fillna(0, inplace=True)\n",
    "    df['fraction_patients'] = df.patient/num_patients\n",
    "    df.drop('patient', inplace=True, axis=1)\n",
    "    return df"
   ]
  },
  {
   "cell_type": "code",
   "execution_count": 131,
   "metadata": {},
   "outputs": [],
   "source": [
    "def plot_fraction(coordinates, fractions, baseline, cnv_type, ax):\n",
    "    baseline_postions = [baseline] * len(coordinates)\n",
    "    if cnv_type.lower() == 'amps':\n",
    "        fractions = baseline + np.array(fractions)\n",
    "        color = 'red'\n",
    "    elif cnv_type.lower() == 'dels':\n",
    "        fractions = baseline - np.array(fractions)\n",
    "        color = 'blue'\n",
    "    ax.fill_between(coordinates, \n",
    "                    fractions, \n",
    "                    baseline_postions, \n",
    "                    color=color, \n",
    "                    alpha=1)"
   ]
  },
  {
   "cell_type": "code",
   "execution_count": 132,
   "metadata": {},
   "outputs": [],
   "source": [
    "# tcga\n",
    "f = f'{wkdir}tcga_cnv_amps_bins_1kb.txt.patients'\n",
    "tcga_recur_amps = pd.read_csv(f, sep='\\t')\n",
    "f = f'{wkdir}tcga_cnv_dels_bins_1kb.txt.patients'\n",
    "tcga_recur_dels = pd.read_csv(f, sep='\\t')\n",
    "\n",
    "# hiv pos \n",
    "f = f'{wkdir}htmcp_hiv_pos_cnv_amps_bins_1kb.txt.patients'\n",
    "htmcp_hiv_pos_recur_amps = pd.read_csv(f, sep='\\t')\n",
    "f = f'{wkdir}htmcp_hiv_pos_cnv_dels_bins_1kb.txt.patients'\n",
    "htmcp_hiv_pos_recur_dels = pd.read_csv(f, sep='\\t')\n",
    "\n",
    "# hiv neg\n",
    "f = f'{wkdir}htmcp_hiv_neg_cnv_amps_bins_1kb.txt.patients'\n",
    "htmcp_hiv_neg_recur_amps = pd.read_csv(f, sep='\\t')\n",
    "f = f'{wkdir}htmcp_hiv_neg_cnv_dels_bins_1kb.txt.patients'\n",
    "htmcp_hiv_neg_recur_dels = pd.read_csv(f, sep='\\t')\n",
    "\n",
    "\n",
    "\n"
   ]
  },
  {
   "cell_type": "code",
   "execution_count": 133,
   "metadata": {},
   "outputs": [
    {
     "data": {
      "text/html": [
       "<div>\n",
       "<style scoped>\n",
       "    .dataframe tbody tr th:only-of-type {\n",
       "        vertical-align: middle;\n",
       "    }\n",
       "\n",
       "    .dataframe tbody tr th {\n",
       "        vertical-align: top;\n",
       "    }\n",
       "\n",
       "    .dataframe thead th {\n",
       "        text-align: right;\n",
       "    }\n",
       "</style>\n",
       "<table border=\"1\" class=\"dataframe\">\n",
       "  <thead>\n",
       "    <tr style=\"text-align: right;\">\n",
       "      <th></th>\n",
       "      <th>chrom</th>\n",
       "      <th>arm</th>\n",
       "      <th>start</th>\n",
       "      <th>end</th>\n",
       "      <th>chr_arm</th>\n",
       "    </tr>\n",
       "  </thead>\n",
       "  <tbody>\n",
       "    <tr>\n",
       "      <th>0</th>\n",
       "      <td>1</td>\n",
       "      <td>p</td>\n",
       "      <td>1</td>\n",
       "      <td>125000000</td>\n",
       "      <td>1p</td>\n",
       "    </tr>\n",
       "    <tr>\n",
       "      <th>1</th>\n",
       "      <td>1</td>\n",
       "      <td>q</td>\n",
       "      <td>125000001</td>\n",
       "      <td>249250621</td>\n",
       "      <td>1q</td>\n",
       "    </tr>\n",
       "  </tbody>\n",
       "</table>\n",
       "</div>"
      ],
      "text/plain": [
       "   chrom arm      start        end chr_arm\n",
       "0      1   p          1  125000000      1p\n",
       "1      1   q  125000001  249250621      1q"
      ]
     },
     "execution_count": 133,
     "metadata": {},
     "output_type": "execute_result"
    },
    {
     "data": {
      "text/plain": [
       "['6p', '16p', '14q', '9q', '16q', '9p']"
      ]
     },
     "execution_count": 133,
     "metadata": {},
     "output_type": "execute_result"
    },
    {
     "data": {
      "text/plain": [
       "['3p', '15q']"
      ]
     },
     "execution_count": 133,
     "metadata": {},
     "output_type": "execute_result"
    },
    {
     "data": {
      "text/plain": [
       "['13q', '5q', '21q', '4q']"
      ]
     },
     "execution_count": 133,
     "metadata": {},
     "output_type": "execute_result"
    },
    {
     "data": {
      "text/plain": [
       "['22q', '17p', '5q', '4q', '6q', '3q', '10q', '13q', '18q', '8p', '9p']"
      ]
     },
     "execution_count": 133,
     "metadata": {},
     "output_type": "execute_result"
    },
    {
     "data": {
      "text/plain": [
       "['21p']"
      ]
     },
     "execution_count": 133,
     "metadata": {},
     "output_type": "execute_result"
    },
    {
     "data": {
      "text/plain": [
       "['3p', '8p', '15q']"
      ]
     },
     "execution_count": 133,
     "metadata": {},
     "output_type": "execute_result"
    }
   ],
   "source": [
    "# chromosome arm coordinates\n",
    "f = f'{wkdir}chromosome_arm_coordinates.txt'\n",
    "arm_coords = pd.read_csv(f, sep='\\t')\n",
    "arm_coords[:2]\n",
    "\n",
    "# unique arm level alterations\n",
    "\n",
    "\n",
    "\n",
    "hivpos_uniqamp_arms = pd.read_csv(hivpos_uniqamp_armsf, header=None)[0].tolist()\n",
    "hivpos_uniqamp_arms\n",
    "\n",
    "hivneg_uniqamp_arms = pd.read_csv(hivneg_uniqamp_armsf, header=None)[0].tolist()\n",
    "hivneg_uniqamp_arms\n",
    "\n",
    "# no hivneg uniq del \n",
    "# hivneg_uniqdel_arms = pd.read_csv(hivneg_uniqdel_armsf, header=None)[0].tolist()\n",
    "# hivneg_uniqdel_arms\n",
    "\n",
    "hivpos_uniqdel_arms = pd.read_csv(hivpos_uniqdel_armsf, header=None)[0].tolist()\n",
    "hivpos_uniqdel_arms\n",
    "\n",
    "tcga_uniqdel_arms = pd.read_csv(tcga_uniqdel_armsf, header=None)[0].tolist()\n",
    "tcga_uniqdel_arms\n",
    "\n",
    "# no tcga uniqamp events\n",
    "# tcga_uniqamp_arms = pd.read_csv(tcga_uniqamp_armsf, header=None)[0].tolist()\n",
    "# tcga_uniqamp_arms\n",
    "\n",
    "# hivneg2  \n",
    "hivneg2_uniqdel_arms = pd.read_csv(hivneg2_uniqdel_armsf, header=None)[0].tolist()\n",
    "hivneg2_uniqdel_arms\n",
    "\n",
    "hivneg2_uniqamp_arms = pd.read_csv(hivneg2_uniqamp_armsf, header=None)[0].tolist()\n",
    "hivneg2_uniqamp_arms"
   ]
  },
  {
   "cell_type": "code",
   "execution_count": 134,
   "metadata": {},
   "outputs": [],
   "source": [
    "def plot_arms(arms, arm_coords, ax, alteration_type, edgeclr, offset, mk): # w/o border\n",
    "    for arm in arms:\n",
    "        df = arm_coords[arm_coords['chr_arm']==arm]\n",
    "#         print(df)\n",
    "        start = df.loc[df.index[0], 'start']\n",
    "        end = df.loc[df.index[0], 'end']\n",
    "        if alteration_type.lower() == 'amp':\n",
    "            faceclr = 'red'\n",
    "            y1 = 0.8\n",
    "            y2 = 1.5\n",
    "        elif alteration_type.lower() == 'del':\n",
    "            faceclr = 'blue'\n",
    "            y1 = 0\n",
    "            y2 = 0.1\n",
    "        else: print(\"Error! invalid copy number type.\")\n",
    "        \n",
    "#         print(arm, start, end)\n",
    "        ax.plot(start+offset, y2, color='black', marker=mk, markersize=4)\n",
    "        ax.add_patch(matplotlib.patches.Rectangle((start,y1), end-start, 0.8,  \n",
    "                                                  edgecolor=edgeclr, facecolor=faceclr, \n",
    "                                                  alpha=0.3, linewidth=2))\n"
   ]
  },
  {
   "cell_type": "markdown",
   "metadata": {},
   "source": [
    "# Take home message"
   ]
  },
  {
   "cell_type": "markdown",
   "metadata": {},
   "source": [
    "1. hiv + group has more uniq arm level alterations, including both amps and dels. HIV- has 2 unique arms amplified, 3p and 15q, but no unique arm level deletions.\n",
    "\n",
    "2. hiv- group and tcga are more similar in terms of broad copy number alterations, you can see this by examing the significant arm alterations unique to HIV+ group. \n",
    "\n",
    "3. tcga reports more arm deletions while htmcp reports more arm amplifications. tcga reports 9 unique arm deletions, htmcp reports 2 unique arm deletions 21pq. htmcp reports 5 unique arm amplifications.\n",
    "4. keep in mind this plot does not show the amplitude of the alterations in each and all patients. it only shows the frequency. This is a limitation. it is entirely possible a region is altered at lower frequency, but very high magnitude of gain and loss. So it turns out to be more significant than the higher frequency in another cohort. GISTIC looks for both occurrence and amplitude. \n",
    "5. look at the segment_mean distribution: tcga amp mean =0.75, del=-1.2; hiv+ amp=0.62, del=-0.9; hiv- amp=0.58, del=-1.0\n",
    "\n",
    "\n"
   ]
  },
  {
   "cell_type": "markdown",
   "metadata": {},
   "source": [
    "what the plot is showing:\n",
    "1. shows somatic copy number alteration landscape in htmcp hiv+ and - group and tcga cesc cohort\n",
    "2. shows the fraction of patients have copy gain or loss in each 1kb bin along the entore genome\n",
    "3. copy gain is defined as gatk copy ratio of tumour to a panel of normals >0.1, and copy loss is defined as segments with copy ratio less than -0.1.\n",
    "4. unique arm alterations are highlighted in both hiv+ and - group\n",
    "5. unique arm alterations for tcga and htmcp are highlighted in the last panel. highlights with a black border are unique to tcga "
   ]
  },
  {
   "cell_type": "code",
   "execution_count": 135,
   "metadata": {},
   "outputs": [],
   "source": [
    "def plot_chromosomes(df, ax):\n",
    "    # plot chromosome names\n",
    "\n",
    "\n",
    "    # plot chromosomes rectangles\n",
    "    chr_clrs = ['white' if i%2==0 else 'black' for i in df['chrom'] ]\n",
    "    text_clrs = chr_clrs + ['white']\n",
    "#     print(chr_clrs)\n",
    "#     print(text_clrs)\n",
    "    for ix, row in df.iterrows():\n",
    "        chrom = int(row.chrom)\n",
    "        start = row.start\n",
    "        end = row.end\n",
    "\n",
    "        _ = ax.add_patch(matplotlib.patches.Rectangle((start,0), end-start, 1.6,  \n",
    "                                              edgecolor='gray', facecolor=chr_clrs[chrom-1], \n",
    "                                              alpha=1, linewidth=2))\n",
    "        if chrom <= 23:\n",
    "            _ = ax.text(int((start + end)/2), 0.6, chrom, ha='center', color=text_clrs[chrom])\n",
    "        else:\n",
    "            _ = ax.text(int((start + end)/2), 0.6, 'X', ha='center', color=text_clrs[chrom])\n",
    "            "
   ]
  },
  {
   "cell_type": "code",
   "execution_count": 136,
   "metadata": {},
   "outputs": [
    {
     "data": {
      "text/html": [
       "<div>\n",
       "<style scoped>\n",
       "    .dataframe tbody tr th:only-of-type {\n",
       "        vertical-align: middle;\n",
       "    }\n",
       "\n",
       "    .dataframe tbody tr th {\n",
       "        vertical-align: top;\n",
       "    }\n",
       "\n",
       "    .dataframe thead th {\n",
       "        text-align: right;\n",
       "    }\n",
       "</style>\n",
       "<table border=\"1\" class=\"dataframe\">\n",
       "  <thead>\n",
       "    <tr style=\"text-align: right;\">\n",
       "      <th></th>\n",
       "      <th>start</th>\n",
       "      <th>end</th>\n",
       "      <th>chrom</th>\n",
       "    </tr>\n",
       "  </thead>\n",
       "  <tbody>\n",
       "    <tr>\n",
       "      <th>0</th>\n",
       "      <td>0</td>\n",
       "      <td>249250621.0</td>\n",
       "      <td>1</td>\n",
       "    </tr>\n",
       "    <tr>\n",
       "      <th>1</th>\n",
       "      <td>249250621</td>\n",
       "      <td>492449994.0</td>\n",
       "      <td>2</td>\n",
       "    </tr>\n",
       "  </tbody>\n",
       "</table>\n",
       "</div>"
      ],
      "text/plain": [
       "       start          end  chrom\n",
       "0          0  249250621.0      1\n",
       "1  249250621  492449994.0      2"
      ]
     },
     "execution_count": 136,
     "metadata": {},
     "output_type": "execute_result"
    }
   ],
   "source": [
    "chrdf = pd.read_csv(chromosomef)\n",
    "chrdf.columns = ['start', 'end', 'chrom']\n",
    "chrdf[:2]"
   ]
  },
  {
   "cell_type": "code",
   "execution_count": 137,
   "metadata": {},
   "outputs": [
    {
     "data": {
      "text/html": [
       "<div>\n",
       "<style scoped>\n",
       "    .dataframe tbody tr th:only-of-type {\n",
       "        vertical-align: middle;\n",
       "    }\n",
       "\n",
       "    .dataframe tbody tr th {\n",
       "        vertical-align: top;\n",
       "    }\n",
       "\n",
       "    .dataframe thead th {\n",
       "        text-align: right;\n",
       "    }\n",
       "</style>\n",
       "<table border=\"1\" class=\"dataframe\">\n",
       "  <thead>\n",
       "    <tr style=\"text-align: right;\">\n",
       "      <th></th>\n",
       "      <th></th>\n",
       "      <th></th>\n",
       "    </tr>\n",
       "    <tr>\n",
       "      <th>bin_chr</th>\n",
       "      <th>bin_start</th>\n",
       "      <th>bin_end</th>\n",
       "    </tr>\n",
       "  </thead>\n",
       "  <tbody>\n",
       "    <tr>\n",
       "      <th rowspan=\"5\" valign=\"top\">1</th>\n",
       "      <th>1</th>\n",
       "      <th>1000</th>\n",
       "    </tr>\n",
       "    <tr>\n",
       "      <th>1001</th>\n",
       "      <th>2000</th>\n",
       "    </tr>\n",
       "    <tr>\n",
       "      <th>2001</th>\n",
       "      <th>3000</th>\n",
       "    </tr>\n",
       "    <tr>\n",
       "      <th>3001</th>\n",
       "      <th>4000</th>\n",
       "    </tr>\n",
       "    <tr>\n",
       "      <th>4001</th>\n",
       "      <th>5000</th>\n",
       "    </tr>\n",
       "  </tbody>\n",
       "</table>\n",
       "</div>"
      ],
      "text/plain": [
       "Empty DataFrame\n",
       "Columns: []\n",
       "Index: [(1, 1, 1000), (1, 1001, 2000), (1, 2001, 3000), (1, 3001, 4000), (1, 4001, 5000)]"
      ]
     },
     "execution_count": 137,
     "metadata": {},
     "output_type": "execute_result"
    }
   ],
   "source": [
    "f11 = '/projects/trans_scratch/validations/workspace/szong/Cervical/cnv/bin_segs/chr_bins.txt'\n",
    "df11 = pd.read_csv(f11, sep='\\t', header=None)\n",
    "df11.columns = ['bin_chr', 'bin_start', 'bin_end']\n",
    "df11.set_index(['bin_chr', 'bin_start', 'bin_end'], inplace=True)\n",
    "# df11['patient'] = 0\n",
    "df11.head()"
   ]
  },
  {
   "cell_type": "code",
   "execution_count": 138,
   "metadata": {},
   "outputs": [
    {
     "data": {
      "text/html": [
       "<div>\n",
       "<style scoped>\n",
       "    .dataframe tbody tr th:only-of-type {\n",
       "        vertical-align: middle;\n",
       "    }\n",
       "\n",
       "    .dataframe tbody tr th {\n",
       "        vertical-align: top;\n",
       "    }\n",
       "\n",
       "    .dataframe thead th {\n",
       "        text-align: right;\n",
       "    }\n",
       "</style>\n",
       "<table border=\"1\" class=\"dataframe\">\n",
       "  <thead>\n",
       "    <tr style=\"text-align: right;\">\n",
       "      <th></th>\n",
       "      <th>bin_chr</th>\n",
       "      <th>bin_start</th>\n",
       "      <th>bin_end</th>\n",
       "      <th>patient</th>\n",
       "    </tr>\n",
       "  </thead>\n",
       "  <tbody>\n",
       "    <tr>\n",
       "      <th>0</th>\n",
       "      <td>1</td>\n",
       "      <td>10001</td>\n",
       "      <td>11000</td>\n",
       "      <td>10</td>\n",
       "    </tr>\n",
       "    <tr>\n",
       "      <th>1</th>\n",
       "      <td>1</td>\n",
       "      <td>11001</td>\n",
       "      <td>12000</td>\n",
       "      <td>10</td>\n",
       "    </tr>\n",
       "  </tbody>\n",
       "</table>\n",
       "</div>"
      ],
      "text/plain": [
       "   bin_chr  bin_start  bin_end  patient\n",
       "0        1      10001    11000       10\n",
       "1        1      11001    12000       10"
      ]
     },
     "execution_count": 138,
     "metadata": {},
     "output_type": "execute_result"
    },
    {
     "data": {
      "text/plain": [
       "Index(['bin_chr', 'bin_start', 'bin_end', 'patient'], dtype='object')"
      ]
     },
     "execution_count": 138,
     "metadata": {},
     "output_type": "execute_result"
    }
   ],
   "source": [
    "htmcp_hiv_pos_recur_amps.head(2)\n",
    "htmcp_hiv_pos_recur_dels.columns\n"
   ]
  },
  {
   "cell_type": "code",
   "execution_count": 139,
   "metadata": {
    "scrolled": true
   },
   "outputs": [
    {
     "data": {
      "text/plain": [
       "(0.0, 1.0, 0.0, 1.0)"
      ]
     },
     "execution_count": 139,
     "metadata": {},
     "output_type": "execute_result"
    },
    {
     "name": "stdout",
     "output_type": "stream",
     "text": [
      "(0, 3188119038.3) (0, 1.6)\n"
     ]
    },
    {
     "data": {
      "image/png": "[encoded data removed]",
      "text/plain": [
       "<Figure size 1152x720 with 4 Axes>"
      ]
     },
     "metadata": {},
     "output_type": "display_data"
    }
   ],
   "source": [
    "baseline = 0.8\n",
    "fig = plt.figure(figsize=(16, 10), facecolor='white')\n",
    "gs = gridspec.GridSpec(6, 1, height_ratios=[1, 6, 6, 6, 6, 6], \n",
    "                       hspace=0.08)  # vertical space\n",
    "\n",
    "# plot chromosomes\n",
    "ax0 = plt.subplot(gs[0], facecolor='white')\n",
    "ax0.axis('off')\n",
    "chrdf = chrdf.iloc[:23,:]\n",
    "\n",
    "# figuring out xlim and ylim\n",
    "for vl in vlns:\n",
    "    _ = ax0.vlines(vl, 0, 1.6, color='white', linestyle='--', linewidth=.5)\n",
    "xlims = (0, ax0.get_xlim()[1])\n",
    "ylims = (0, ax0.get_ylim()[1])\n",
    "_= ax0.set_xlim(xlims)\n",
    "_ = ax0.set_ylim(ylims)\n",
    "ylims = (0,1.6)\n",
    "print(xlims, ylims)\n",
    "plot_chromosomes(chrdf, ax0)\n",
    "\n",
    "# plot htmcp cnvs hiv+ 73 patients\n",
    "ax1 = plt.subplot(gs[1], facecolor='white')\n",
    "plot_cnv(ax1, baseline, htmcp_hiv_pos_recur_amps, htmcp_hiv_pos_recur_dels, num_htmcp_hiv_pos_patients, vlns)\n",
    "plot_arms(hivpos_uniqamp_arms, arm_coords, ax1, 'amp', 'white', 9e6, '*')\n",
    "plot_arms(hivpos_uniqdel_arms, arm_coords, ax1, 'del', 'white', 9e6, '*')\n",
    "_ = ax1.set_xlim(xlims)\n",
    "_ = ax1.set_ylim(ylims)\n",
    "\n",
    "# plot htmcp cnvs hiv- 45 patients\n",
    "ax2 = plt.subplot(gs[2], facecolor='white')\n",
    "plot_cnv(ax2, baseline, htmcp_hiv_neg_recur_amps, htmcp_hiv_neg_recur_dels, num_htmcp_hiv_neg_patients, vlns)\n",
    "plot_arms(hivneg_uniqamp_arms, arm_coords, ax2, 'amp', 'white', 9e6, '*')\n",
    "plot_arms(hivneg2_uniqamp_arms, arm_coords, ax2, 'amp', 'white', 3e7, '+')\n",
    "plot_arms(hivneg2_uniqdel_arms, arm_coords, ax2, 'del', 'white', 3e6, '+')\n",
    "_ = ax2.set_xlim(xlims)\n",
    "_ = ax2.set_ylim(ylims)\n",
    "# no hivneg uniq deletions\n",
    "\n",
    "\n",
    "# plot tcga cnvs\n",
    "ax3 = plt.subplot(gs[3], facecolor='white')\n",
    "plot_cnv(ax3, baseline, tcga_recur_amps, tcga_recur_dels, num_tcga_patients, vlns)\n",
    "plot_arms(tcga_uniqdel_arms, arm_coords, ax3, 'del', 'white', 9e6,'+')\n",
    "_ = ax3.set_xlim(xlims)\n",
    "_ = ax3.set_ylim(ylims)\n",
    "\n",
    "# plt.savefig(f'{wkdir}cnvs_publication_armthreshold_{arm_threshold}_alterthreshold_{amp_threshold}.pdf', dpi=300, bbox_inches='tight')\n",
    "# plt.savefig(f'{wkdir}cnvs_publication_{arm_threshold}.png', dpi=300, bbox_inches='tight')"
   ]
  },
  {
   "cell_type": "markdown",
   "metadata": {},
   "source": [
    "  "
   ]
  },
  {
   "cell_type": "code",
   "execution_count": null,
   "metadata": {},
   "outputs": [],
   "source": []
  }
 ],
 "metadata": {
  "kernelspec": {
   "display_name": "Python 3",
   "language": "python",
   "name": "python3"
  },
  "language_info": {
   "codemirror_mode": {
    "name": "ipython",
    "version": 3
   },
   "file_extension": ".py",
   "mimetype": "text/x-python",
   "name": "python",
   "nbconvert_exporter": "python",
   "pygments_lexer": "ipython3",
   "version": "3.7.3"
  }
 },
 "nbformat": 4,
 "nbformat_minor": 2
}
