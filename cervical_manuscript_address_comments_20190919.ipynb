{
 "cells": [
  {
   "cell_type": "code",
   "execution_count": 32,
   "metadata": {
    "scrolled": true
   },
   "outputs": [
    {
     "name": "stdout",
     "output_type": "stream",
     "text": [
      "The autoreload extension is already loaded. To reload it, use:\n",
      "  %reload_ext autoreload\n"
     ]
    }
   ],
   "source": [
    "import pandas as pd\n",
    "%load_ext autoreload\n",
    "%autoreload 2\n",
    "\n",
    "import matplotlib.pyplot as plt\n",
    "\n",
    "from IPython.core.interactiveshell import InteractiveShell\n",
    "InteractiveShell.ast_node_interactivity = \"all\""
   ]
  },
  {
   "cell_type": "markdown",
   "metadata": {},
   "source": [
    "Will we have a Table or Supplementary Table to document this? \n",
    "\n",
    "The table will provide very important information on the mutations. The details do not need to be spelt out in the main text unless it is striking, but if I was a reviewer, I would want to see more evidence in order to properly interpret the results.\n",
    "\n",
    "Are there any hotspot mutations? Does any of the genes have a preponderance of loss of function (nonsense, indels, frameshift, etc) mutations which my point to a potential tumor suppressor function? Do the types of mutations support what would be expected based on the known function(s) of the genes from the literature? \n",
    "The sig_genes output from MutSig2CV has most of these information and can be modified into a Suppl. Table.\n",
    "\n",
    "One other thing which may be helpful as a suppl figure are lolliplot figures showing where the mutations are, especially if there are striking features to present."
   ]
  },
  {
   "cell_type": "markdown",
   "metadata": {},
   "source": [
    "If we are presenting this, it may be fair game for a reviewer to ask about the frequencies of mutations in genes previously reported as SMGs in cervical cancer but not called SMGs in the discovery cohort.\n",
    "A Supplementary Table should settle this."
   ]
  },
  {
   "cell_type": "markdown",
   "metadata": {},
   "source": [
    "This will take a bit of work to tease out properly. I am okay with us submitting it largely the way it is, but we should be prepared for requests for more details.\n",
    "\n",
    "I also think this figure needs to be crosschecked. For example 11q22.1 amplifications are the #1 peaks in both HIV+ and HIV-, but the figure does not reflect this.\n",
    "\n",
    "Plaese specify in the legend that 1b shows broad level alterations while 1c shows focal level alterations."
   ]
  },
  {
   "cell_type": "code",
   "execution_count": 66,
   "metadata": {},
   "outputs": [
    {
     "data": {
      "text/plain": [
       "(212, 4)"
      ]
     },
     "execution_count": 66,
     "metadata": {},
     "output_type": "execute_result"
    },
    {
     "data": {
      "text/html": [
       "<div>\n",
       "<style scoped>\n",
       "    .dataframe tbody tr th:only-of-type {\n",
       "        vertical-align: middle;\n",
       "    }\n",
       "\n",
       "    .dataframe tbody tr th {\n",
       "        vertical-align: top;\n",
       "    }\n",
       "\n",
       "    .dataframe thead th {\n",
       "        text-align: right;\n",
       "    }\n",
       "</style>\n",
       "<table border=\"1\" class=\"dataframe\">\n",
       "  <thead>\n",
       "    <tr style=\"text-align: right;\">\n",
       "      <th></th>\n",
       "      <th>Patient</th>\n",
       "      <th>Tumour.content</th>\n",
       "      <th>tp</th>\n",
       "      <th>ploidy</th>\n",
       "    </tr>\n",
       "  </thead>\n",
       "  <tbody>\n",
       "    <tr>\n",
       "      <th>0</th>\n",
       "      <td>HTMCP-03-06-02001</td>\n",
       "      <td>55.0</td>\n",
       "      <td>0.897583</td>\n",
       "      <td>2.0</td>\n",
       "    </tr>\n",
       "    <tr>\n",
       "      <th>1</th>\n",
       "      <td>HTMCP-03-06-02002</td>\n",
       "      <td>70.0</td>\n",
       "      <td>0.688300</td>\n",
       "      <td>2.0</td>\n",
       "    </tr>\n",
       "  </tbody>\n",
       "</table>\n",
       "</div>"
      ],
      "text/plain": [
       "             Patient  Tumour.content        tp  ploidy\n",
       "0  HTMCP-03-06-02001            55.0  0.897583     2.0\n",
       "1  HTMCP-03-06-02002            70.0  0.688300     2.0"
      ]
     },
     "execution_count": 66,
     "metadata": {},
     "output_type": "execute_result"
    }
   ],
   "source": [
    "f ='/projects/trans_scratch/validations/workspace/szong/Cervical/table_with_tp_ploidy_2019SEPT20.txt'\n",
    "df = pd.read_csv(f, sep='\\t', usecols=['Patient', 'Tumour.content', 'tp', 'ploidy'])\n",
    "df.shape\n",
    "df.head(2)"
   ]
  },
  {
   "cell_type": "code",
   "execution_count": 85,
   "metadata": {},
   "outputs": [
    {
     "data": {
      "text/html": [
       "<div>\n",
       "<style scoped>\n",
       "    .dataframe tbody tr th:only-of-type {\n",
       "        vertical-align: middle;\n",
       "    }\n",
       "\n",
       "    .dataframe tbody tr th {\n",
       "        vertical-align: top;\n",
       "    }\n",
       "\n",
       "    .dataframe thead th {\n",
       "        text-align: right;\n",
       "    }\n",
       "</style>\n",
       "<table border=\"1\" class=\"dataframe\">\n",
       "  <thead>\n",
       "    <tr style=\"text-align: right;\">\n",
       "      <th></th>\n",
       "      <th>Patient</th>\n",
       "      <th>Tumour.content</th>\n",
       "      <th>tp</th>\n",
       "      <th>ploidy</th>\n",
       "    </tr>\n",
       "  </thead>\n",
       "  <tbody>\n",
       "    <tr>\n",
       "      <th>0</th>\n",
       "      <td>HTMCP-03-06-02001</td>\n",
       "      <td>55.0</td>\n",
       "      <td>0.897583</td>\n",
       "      <td>2.0</td>\n",
       "    </tr>\n",
       "    <tr>\n",
       "      <th>1</th>\n",
       "      <td>HTMCP-03-06-02002</td>\n",
       "      <td>70.0</td>\n",
       "      <td>0.688300</td>\n",
       "      <td>2.0</td>\n",
       "    </tr>\n",
       "  </tbody>\n",
       "</table>\n",
       "</div>"
      ],
      "text/plain": [
       "             Patient  Tumour.content        tp  ploidy\n",
       "0  HTMCP-03-06-02001            55.0  0.897583     2.0\n",
       "1  HTMCP-03-06-02002            70.0  0.688300     2.0"
      ]
     },
     "execution_count": 85,
     "metadata": {},
     "output_type": "execute_result"
    },
    {
     "data": {
      "text/plain": [
       "0.5972222222222222"
      ]
     },
     "execution_count": 85,
     "metadata": {},
     "output_type": "execute_result"
    }
   ],
   "source": [
    "dft = df[df.ploidy<3]\n",
    "dft.head(2)\n",
    "(dft.tp*100 < dft['Tumour.content']).mean()"
   ]
  },
  {
   "cell_type": "code",
   "execution_count": 82,
   "metadata": {},
   "outputs": [
    {
     "data": {
      "text/html": [
       "<div>\n",
       "<style scoped>\n",
       "    .dataframe tbody tr th:only-of-type {\n",
       "        vertical-align: middle;\n",
       "    }\n",
       "\n",
       "    .dataframe tbody tr th {\n",
       "        vertical-align: top;\n",
       "    }\n",
       "\n",
       "    .dataframe thead th {\n",
       "        text-align: right;\n",
       "    }\n",
       "</style>\n",
       "<table border=\"1\" class=\"dataframe\">\n",
       "  <thead>\n",
       "    <tr style=\"text-align: right;\">\n",
       "      <th></th>\n",
       "      <th>Patient</th>\n",
       "      <th>Tumour.content</th>\n",
       "      <th>tp</th>\n",
       "      <th>ploidy</th>\n",
       "    </tr>\n",
       "  </thead>\n",
       "  <tbody>\n",
       "    <tr>\n",
       "      <th>2</th>\n",
       "      <td>HTMCP-03-06-02003</td>\n",
       "      <td>70.0</td>\n",
       "      <td>0.630608</td>\n",
       "      <td>4.0</td>\n",
       "    </tr>\n",
       "    <tr>\n",
       "      <th>10</th>\n",
       "      <td>HTMCP-03-06-02040</td>\n",
       "      <td>65.0</td>\n",
       "      <td>0.620000</td>\n",
       "      <td>3.0</td>\n",
       "    </tr>\n",
       "  </tbody>\n",
       "</table>\n",
       "</div>"
      ],
      "text/plain": [
       "              Patient  Tumour.content        tp  ploidy\n",
       "2   HTMCP-03-06-02003            70.0  0.630608     4.0\n",
       "10  HTMCP-03-06-02040            65.0  0.620000     3.0"
      ]
     },
     "execution_count": 82,
     "metadata": {},
     "output_type": "execute_result"
    },
    {
     "data": {
      "text/plain": [
       "0.8695652173913043"
      ]
     },
     "execution_count": 82,
     "metadata": {},
     "output_type": "execute_result"
    }
   ],
   "source": [
    "dft = df[df.ploidy>2]\n",
    "dft.head(2)\n",
    "(dft.tp*100 < dft['Tumour.content']).mean()"
   ]
  },
  {
   "cell_type": "code",
   "execution_count": 90,
   "metadata": {
    "scrolled": true
   },
   "outputs": [
    {
     "data": {
      "text/plain": [
       "<matplotlib.axes._subplots.AxesSubplot at 0x7ff2242fc518>"
      ]
     },
     "execution_count": 90,
     "metadata": {},
     "output_type": "execute_result"
    },
    {
     "data": {
      "image/png": "[encoded data removed]",
      "text/plain": [
       "<Figure size 432x288 with 1 Axes>"
      ]
     },
     "metadata": {
      "needs_background": "light"
     },
     "output_type": "display_data"
    }
   ],
   "source": [
    "df[['tp', 'Tumour.content']].plot.scatter(x='Tumour.content', y='tp')\n"
   ]
  },
  {
   "cell_type": "code",
   "execution_count": 59,
   "metadata": {},
   "outputs": [
    {
     "data": {
      "text/plain": [
       "<matplotlib.axes._subplots.AxesSubplot at 0x7ff2db1b7f98>"
      ]
     },
     "execution_count": 59,
     "metadata": {},
     "output_type": "execute_result"
    },
    {
     "data": {
      "image/png": "[encoded data removed]",
      "text/plain": [
       "<Figure size 432x288 with 1 Axes>"
      ]
     },
     "metadata": {
      "needs_background": "light"
     },
     "output_type": "display_data"
    }
   ],
   "source": [
    "df[['tp', 'ploidy']].boxplot(column='tp', by='ploidy')"
   ]
  },
  {
   "cell_type": "code",
   "execution_count": 91,
   "metadata": {},
   "outputs": [
    {
     "data": {
      "text/html": [
       "<div>\n",
       "<style scoped>\n",
       "    .dataframe tbody tr th:only-of-type {\n",
       "        vertical-align: middle;\n",
       "    }\n",
       "\n",
       "    .dataframe tbody tr th {\n",
       "        vertical-align: top;\n",
       "    }\n",
       "\n",
       "    .dataframe thead th {\n",
       "        text-align: right;\n",
       "    }\n",
       "</style>\n",
       "<table border=\"1\" class=\"dataframe\">\n",
       "  <thead>\n",
       "    <tr style=\"text-align: right;\">\n",
       "      <th></th>\n",
       "      <th>tp</th>\n",
       "    </tr>\n",
       "    <tr>\n",
       "      <th>ploidy</th>\n",
       "      <th></th>\n",
       "    </tr>\n",
       "  </thead>\n",
       "  <tbody>\n",
       "    <tr>\n",
       "      <th>2.0</th>\n",
       "      <td>0.641954</td>\n",
       "    </tr>\n",
       "    <tr>\n",
       "      <th>3.0</th>\n",
       "      <td>0.559218</td>\n",
       "    </tr>\n",
       "    <tr>\n",
       "      <th>4.0</th>\n",
       "      <td>0.459515</td>\n",
       "    </tr>\n",
       "  </tbody>\n",
       "</table>\n",
       "</div>"
      ],
      "text/plain": [
       "              tp\n",
       "ploidy          \n",
       "2.0     0.641954\n",
       "3.0     0.559218\n",
       "4.0     0.459515"
      ]
     },
     "execution_count": 91,
     "metadata": {},
     "output_type": "execute_result"
    },
    {
     "data": {
      "text/html": [
       "<div>\n",
       "<style scoped>\n",
       "    .dataframe tbody tr th:only-of-type {\n",
       "        vertical-align: middle;\n",
       "    }\n",
       "\n",
       "    .dataframe tbody tr th {\n",
       "        vertical-align: top;\n",
       "    }\n",
       "\n",
       "    .dataframe thead th {\n",
       "        text-align: right;\n",
       "    }\n",
       "</style>\n",
       "<table border=\"1\" class=\"dataframe\">\n",
       "  <thead>\n",
       "    <tr style=\"text-align: right;\">\n",
       "      <th></th>\n",
       "      <th>tp</th>\n",
       "    </tr>\n",
       "    <tr>\n",
       "      <th>ploidy</th>\n",
       "      <th></th>\n",
       "    </tr>\n",
       "  </thead>\n",
       "  <tbody>\n",
       "    <tr>\n",
       "      <th>2.0</th>\n",
       "      <td>71</td>\n",
       "    </tr>\n",
       "    <tr>\n",
       "      <th>3.0</th>\n",
       "      <td>29</td>\n",
       "    </tr>\n",
       "    <tr>\n",
       "      <th>4.0</th>\n",
       "      <td>17</td>\n",
       "    </tr>\n",
       "  </tbody>\n",
       "</table>\n",
       "</div>"
      ],
      "text/plain": [
       "        tp\n",
       "ploidy    \n",
       "2.0     71\n",
       "3.0     29\n",
       "4.0     17"
      ]
     },
     "execution_count": 91,
     "metadata": {},
     "output_type": "execute_result"
    }
   ],
   "source": [
    "df[['tp', 'ploidy']].groupby('ploidy').mean()\n",
    "df[['tp', 'ploidy']].groupby('ploidy').count()"
   ]
  },
  {
   "cell_type": "markdown",
   "metadata": {},
   "source": [
    "# look at the t/n ratio distribution between ploidy groups"
   ]
  },
  {
   "cell_type": "code",
   "execution_count": 40,
   "metadata": {},
   "outputs": [
    {
     "data": {
      "text/plain": [
       "(148430, 6)"
      ]
     },
     "execution_count": 40,
     "metadata": {},
     "output_type": "execute_result"
    },
    {
     "data": {
      "text/html": [
       "<div>\n",
       "<style scoped>\n",
       "    .dataframe tbody tr th:only-of-type {\n",
       "        vertical-align: middle;\n",
       "    }\n",
       "\n",
       "    .dataframe tbody tr th {\n",
       "        vertical-align: top;\n",
       "    }\n",
       "\n",
       "    .dataframe thead th {\n",
       "        text-align: right;\n",
       "    }\n",
       "</style>\n",
       "<table border=\"1\" class=\"dataframe\">\n",
       "  <thead>\n",
       "    <tr style=\"text-align: right;\">\n",
       "      <th></th>\n",
       "      <th>Samples</th>\n",
       "      <th>Chromosome</th>\n",
       "      <th>Start</th>\n",
       "      <th>End</th>\n",
       "      <th>Num_Probes</th>\n",
       "      <th>Segment_Mean</th>\n",
       "    </tr>\n",
       "  </thead>\n",
       "  <tbody>\n",
       "    <tr>\n",
       "      <th>0</th>\n",
       "      <td>HTMCP-03-06-02256</td>\n",
       "      <td>1</td>\n",
       "      <td>10001</td>\n",
       "      <td>63000</td>\n",
       "      <td>7</td>\n",
       "      <td>-2.710885</td>\n",
       "    </tr>\n",
       "    <tr>\n",
       "      <th>1</th>\n",
       "      <td>HTMCP-03-06-02332</td>\n",
       "      <td>1</td>\n",
       "      <td>10001</td>\n",
       "      <td>90000</td>\n",
       "      <td>16</td>\n",
       "      <td>-0.600141</td>\n",
       "    </tr>\n",
       "  </tbody>\n",
       "</table>\n",
       "</div>"
      ],
      "text/plain": [
       "             Samples  Chromosome  Start    End  Num_Probes  Segment_Mean\n",
       "0  HTMCP-03-06-02256           1  10001  63000           7     -2.710885\n",
       "1  HTMCP-03-06-02332           1  10001  90000          16     -0.600141"
      ]
     },
     "execution_count": 40,
     "metadata": {},
     "output_type": "execute_result"
    }
   ],
   "source": [
    "f1 = '/home/szong/bin/GISTIC_2_0_22/gatk_118_patients/segmentationfile.txt'\n",
    "df1 = pd.read_csv(f1, sep='\\t')\n",
    "df1.shape\n",
    "df1.head(2)"
   ]
  },
  {
   "cell_type": "code",
   "execution_count": 42,
   "metadata": {},
   "outputs": [],
   "source": [
    "df2 = pd.merge(df1, df, left_on='Samples', right_on='Patient')"
   ]
  },
  {
   "cell_type": "code",
   "execution_count": 60,
   "metadata": {},
   "outputs": [
    {
     "data": {
      "text/html": [
       "<div>\n",
       "<style scoped>\n",
       "    .dataframe tbody tr th:only-of-type {\n",
       "        vertical-align: middle;\n",
       "    }\n",
       "\n",
       "    .dataframe tbody tr th {\n",
       "        vertical-align: top;\n",
       "    }\n",
       "\n",
       "    .dataframe thead th {\n",
       "        text-align: right;\n",
       "    }\n",
       "</style>\n",
       "<table border=\"1\" class=\"dataframe\">\n",
       "  <thead>\n",
       "    <tr style=\"text-align: right;\">\n",
       "      <th></th>\n",
       "      <th>Samples</th>\n",
       "      <th>Chromosome</th>\n",
       "      <th>Start</th>\n",
       "      <th>End</th>\n",
       "      <th>Num_Probes</th>\n",
       "      <th>Segment_Mean</th>\n",
       "      <th>Patient</th>\n",
       "      <th>tp</th>\n",
       "      <th>ploidy</th>\n",
       "    </tr>\n",
       "  </thead>\n",
       "  <tbody>\n",
       "    <tr>\n",
       "      <th>0</th>\n",
       "      <td>HTMCP-03-06-02256</td>\n",
       "      <td>1</td>\n",
       "      <td>10001</td>\n",
       "      <td>63000</td>\n",
       "      <td>7</td>\n",
       "      <td>-2.710885</td>\n",
       "      <td>HTMCP-03-06-02256</td>\n",
       "      <td>0.296011</td>\n",
       "      <td>3.0</td>\n",
       "    </tr>\n",
       "    <tr>\n",
       "      <th>1</th>\n",
       "      <td>HTMCP-03-06-02256</td>\n",
       "      <td>1</td>\n",
       "      <td>235001</td>\n",
       "      <td>16835000</td>\n",
       "      <td>13477</td>\n",
       "      <td>0.092183</td>\n",
       "      <td>HTMCP-03-06-02256</td>\n",
       "      <td>0.296011</td>\n",
       "      <td>3.0</td>\n",
       "    </tr>\n",
       "  </tbody>\n",
       "</table>\n",
       "</div>"
      ],
      "text/plain": [
       "             Samples  Chromosome   Start       End  Num_Probes  Segment_Mean  \\\n",
       "0  HTMCP-03-06-02256           1   10001     63000           7     -2.710885   \n",
       "1  HTMCP-03-06-02256           1  235001  16835000       13477      0.092183   \n",
       "\n",
       "             Patient        tp  ploidy  \n",
       "0  HTMCP-03-06-02256  0.296011     3.0  \n",
       "1  HTMCP-03-06-02256  0.296011     3.0  "
      ]
     },
     "execution_count": 60,
     "metadata": {},
     "output_type": "execute_result"
    }
   ],
   "source": [
    "df2.head(2)"
   ]
  },
  {
   "cell_type": "code",
   "execution_count": 55,
   "metadata": {},
   "outputs": [
    {
     "data": {
      "text/plain": [
       "<matplotlib.axes._subplots.AxesSubplot at 0x7ff2daf92748>"
      ]
     },
     "execution_count": 55,
     "metadata": {},
     "output_type": "execute_result"
    },
    {
     "data": {
      "image/png": "[encoded data removed]",
      "text/plain": [
       "<Figure size 432x288 with 1 Axes>"
      ]
     },
     "metadata": {
      "needs_background": "light"
     },
     "output_type": "display_data"
    }
   ],
   "source": [
    "df2[df2.Segment_Mean>0.1][['Segment_Mean', 'ploidy']].boxplot(column='Segment_Mean',by='ploidy', )"
   ]
  },
  {
   "cell_type": "code",
   "execution_count": 56,
   "metadata": {},
   "outputs": [
    {
     "data": {
      "text/html": [
       "<div>\n",
       "<style scoped>\n",
       "    .dataframe tbody tr th:only-of-type {\n",
       "        vertical-align: middle;\n",
       "    }\n",
       "\n",
       "    .dataframe tbody tr th {\n",
       "        vertical-align: top;\n",
       "    }\n",
       "\n",
       "    .dataframe thead th {\n",
       "        text-align: right;\n",
       "    }\n",
       "</style>\n",
       "<table border=\"1\" class=\"dataframe\">\n",
       "  <thead>\n",
       "    <tr style=\"text-align: right;\">\n",
       "      <th></th>\n",
       "      <th>Segment_Mean</th>\n",
       "    </tr>\n",
       "    <tr>\n",
       "      <th>ploidy</th>\n",
       "      <th></th>\n",
       "    </tr>\n",
       "  </thead>\n",
       "  <tbody>\n",
       "    <tr>\n",
       "      <th>2.0</th>\n",
       "      <td>0.486430</td>\n",
       "    </tr>\n",
       "    <tr>\n",
       "      <th>3.0</th>\n",
       "      <td>0.471502</td>\n",
       "    </tr>\n",
       "    <tr>\n",
       "      <th>4.0</th>\n",
       "      <td>0.386861</td>\n",
       "    </tr>\n",
       "  </tbody>\n",
       "</table>\n",
       "</div>"
      ],
      "text/plain": [
       "        Segment_Mean\n",
       "ploidy              \n",
       "2.0         0.486430\n",
       "3.0         0.471502\n",
       "4.0         0.386861"
      ]
     },
     "execution_count": 56,
     "metadata": {},
     "output_type": "execute_result"
    }
   ],
   "source": []
  },
  {
   "cell_type": "code",
   "execution_count": null,
   "metadata": {},
   "outputs": [],
   "source": []
  },
  {
   "cell_type": "code",
   "execution_count": null,
   "metadata": {},
   "outputs": [],
   "source": []
  },
  {
   "cell_type": "code",
   "execution_count": null,
   "metadata": {},
   "outputs": [],
   "source": []
  },
  {
   "cell_type": "code",
   "execution_count": 14,
   "metadata": {},
   "outputs": [
    {
     "data": {
      "text/plain": [
       "46"
      ]
     },
     "execution_count": 14,
     "metadata": {},
     "output_type": "execute_result"
    }
   ],
   "source": [
    "len(ttp)"
   ]
  },
  {
   "cell_type": "code",
   "execution_count": 18,
   "metadata": {},
   "outputs": [
    {
     "data": {
      "text/plain": [
       "1232.391304347826"
      ]
     },
     "execution_count": 18,
     "metadata": {},
     "output_type": "execute_result"
    },
    {
     "data": {
      "text/plain": [
       "1274.1666666666667"
      ]
     },
     "execution_count": 18,
     "metadata": {},
     "output_type": "execute_result"
    }
   ],
   "source": [
    "df1[df1.Samples.isin(ttp)].shape[0]/len(ttp)\n",
    "df1[~df1.Samples.isin(ttp)].shape[0]/(118- len(ttp))"
   ]
  },
  {
   "cell_type": "code",
   "execution_count": 13,
   "metadata": {},
   "outputs": [
    {
     "data": {
      "text/plain": [
       "-0.08954333884282982"
      ]
     },
     "execution_count": 13,
     "metadata": {},
     "output_type": "execute_result"
    },
    {
     "data": {
      "text/plain": [
       "-0.09471512277087385"
      ]
     },
     "execution_count": 13,
     "metadata": {},
     "output_type": "execute_result"
    }
   ],
   "source": [
    "df1[df1.Samples.isin(ttp)]['Segment_Mean'].mean()\n",
    "df1[~df1.Samples.isin(ttp)]['Segment_Mean'].mean()"
   ]
  },
  {
   "cell_type": "markdown",
   "metadata": {},
   "source": [
    "see if triploid and tetraploid samples (groupA) have more amplified segments than deploid samples (groupB).\n",
    "groupA patients have a little less amplified segments: 369 vs 406.\n",
    "groupA patients's amplification amplitude is lower: 0.44 vs 0.48, which does not make sense. "
   ]
  },
  {
   "cell_type": "code",
   "execution_count": 65,
   "metadata": {},
   "outputs": [
    {
     "data": {
      "text/plain": [
       "369.0"
      ]
     },
     "execution_count": 65,
     "metadata": {},
     "output_type": "execute_result"
    },
    {
     "data": {
      "text/plain": [
       "406.2916666666667"
      ]
     },
     "execution_count": 65,
     "metadata": {},
     "output_type": "execute_result"
    },
    {
     "data": {
      "text/plain": [
       "506.6521739130435"
      ]
     },
     "execution_count": 65,
     "metadata": {},
     "output_type": "execute_result"
    },
    {
     "data": {
      "text/plain": [
       "530.5555555555555"
      ]
     },
     "execution_count": 65,
     "metadata": {},
     "output_type": "execute_result"
    }
   ],
   "source": [
    "df1[(df1.Samples.isin(ttp))&(df1.Segment_Mean>0.1)].shape[0]/len(ttp)\n",
    "df1[(~df1.Samples.isin(ttp))&(df1.Segment_Mean>0.1)].shape[0]/(118- len(ttp))\n",
    "df1[(df1.Samples.isin(ttp))&(df1.Segment_Mean<-0.1)].shape[0]/len(ttp)\n",
    "df1[(~df1.Samples.isin(ttp))&(df1.Segment_Mean<-0.1)].shape[0]/(118- len(ttp))"
   ]
  },
  {
   "cell_type": "markdown",
   "metadata": {},
   "source": [
    "# SMGs"
   ]
  },
  {
   "cell_type": "code",
   "execution_count": 154,
   "metadata": {},
   "outputs": [
    {
     "data": {
      "text/plain": [
       "['PIK3CA',\n",
       " 'RBMXL1',\n",
       " 'MAPK1',\n",
       " 'CASP8',\n",
       " 'FBXW7',\n",
       " 'KMT2D',\n",
       " 'ZC3H6',\n",
       " 'TAS2R43',\n",
       " 'MUC17',\n",
       " 'PCDHGA12',\n",
       " 'FAT1',\n",
       " 'ZNF750',\n",
       " 'SLC35G5',\n",
       " 'PCDHA9',\n",
       " 'PSPC1']"
      ]
     },
     "execution_count": 154,
     "metadata": {},
     "output_type": "execute_result"
    }
   ],
   "source": [
    "f = '/projects/trans_scratch/validations/workspace/szong/Cervical/mutsig2cv/118_patients/smgs_15.txt'\n",
    "genes = pd.read_csv(f, header=None)[0].tolist()\n",
    "genes[5] = 'KMT2D'\n",
    "genes"
   ]
  },
  {
   "cell_type": "code",
   "execution_count": null,
   "metadata": {},
   "outputs": [],
   "source": []
  },
  {
   "cell_type": "code",
   "execution_count": null,
   "metadata": {},
   "outputs": [],
   "source": []
  },
  {
   "cell_type": "code",
   "execution_count": null,
   "metadata": {},
   "outputs": [],
   "source": []
  },
  {
   "cell_type": "markdown",
   "metadata": {},
   "source": [
    "# If HIV+ patients enriched in these polyploidy patients"
   ]
  },
  {
   "cell_type": "code",
   "execution_count": 124,
   "metadata": {},
   "outputs": [
    {
     "data": {
      "text/html": [
       "<div>\n",
       "<style scoped>\n",
       "    .dataframe tbody tr th:only-of-type {\n",
       "        vertical-align: middle;\n",
       "    }\n",
       "\n",
       "    .dataframe tbody tr th {\n",
       "        vertical-align: top;\n",
       "    }\n",
       "\n",
       "    .dataframe thead th {\n",
       "        text-align: right;\n",
       "    }\n",
       "</style>\n",
       "<table border=\"1\" class=\"dataframe\">\n",
       "  <thead>\n",
       "    <tr style=\"text-align: right;\">\n",
       "      <th></th>\n",
       "      <th>Patient</th>\n",
       "      <th>Cohort</th>\n",
       "      <th>HIV status</th>\n",
       "      <th>HAART therapy prior to dx</th>\n",
       "      <th>Stage</th>\n",
       "      <th>Grade</th>\n",
       "      <th>Histology from clinical data</th>\n",
       "      <th>Final histology</th>\n",
       "      <th>Pathology comment</th>\n",
       "      <th>Age</th>\n",
       "      <th>...</th>\n",
       "      <th>CD4 T-cells</th>\n",
       "      <th>T-cell content</th>\n",
       "      <th>Cibersort p-value</th>\n",
       "      <th>DNA methylation clusters</th>\n",
       "      <th>RNA-Seq clusters</th>\n",
       "      <th>Chip-Seq clusters (active)</th>\n",
       "      <th>Chip-Seq clusters (all)</th>\n",
       "      <th>HRD score</th>\n",
       "      <th>Tumour purity</th>\n",
       "      <th>Ploidy</th>\n",
       "    </tr>\n",
       "  </thead>\n",
       "  <tbody>\n",
       "    <tr>\n",
       "      <th>0</th>\n",
       "      <td>HTMCP-03-06-02001</td>\n",
       "      <td>Discovery</td>\n",
       "      <td>Positive</td>\n",
       "      <td>YES</td>\n",
       "      <td>Stage IIB</td>\n",
       "      <td>G2</td>\n",
       "      <td>Squamous Cell Carcinoma; Non-Keratinizing</td>\n",
       "      <td>Squamous</td>\n",
       "      <td>NaN</td>\n",
       "      <td>56.0</td>\n",
       "      <td>...</td>\n",
       "      <td>0.229</td>\n",
       "      <td>0.272</td>\n",
       "      <td>0.0</td>\n",
       "      <td>one</td>\n",
       "      <td>one</td>\n",
       "      <td>two</td>\n",
       "      <td>one</td>\n",
       "      <td>6.0</td>\n",
       "      <td>0.897583</td>\n",
       "      <td>2.0</td>\n",
       "    </tr>\n",
       "    <tr>\n",
       "      <th>1</th>\n",
       "      <td>HTMCP-03-06-02002</td>\n",
       "      <td>Discovery</td>\n",
       "      <td>Negative</td>\n",
       "      <td>NaN</td>\n",
       "      <td>Stage IB1</td>\n",
       "      <td>G3</td>\n",
       "      <td>Squamous Cell Carcinoma; Non-Keratinizing</td>\n",
       "      <td>Squamous</td>\n",
       "      <td>NaN</td>\n",
       "      <td>62.0</td>\n",
       "      <td>...</td>\n",
       "      <td>0.322</td>\n",
       "      <td>0.648</td>\n",
       "      <td>0.2</td>\n",
       "      <td>one</td>\n",
       "      <td>one</td>\n",
       "      <td>one</td>\n",
       "      <td>one</td>\n",
       "      <td>10.0</td>\n",
       "      <td>0.688300</td>\n",
       "      <td>2.0</td>\n",
       "    </tr>\n",
       "  </tbody>\n",
       "</table>\n",
       "<p>2 rows × 29 columns</p>\n",
       "</div>"
      ],
      "text/plain": [
       "             Patient     Cohort HIV status HAART therapy prior to dx  \\\n",
       "0  HTMCP-03-06-02001  Discovery   Positive                       YES   \n",
       "1  HTMCP-03-06-02002  Discovery   Negative                       NaN   \n",
       "\n",
       "       Stage Grade               Histology from clinical data Final histology  \\\n",
       "0  Stage IIB    G2  Squamous Cell Carcinoma; Non-Keratinizing        Squamous   \n",
       "1  Stage IB1    G3  Squamous Cell Carcinoma; Non-Keratinizing        Squamous   \n",
       "\n",
       "  Pathology comment   Age  ...  CD4 T-cells T-cell content Cibersort p-value  \\\n",
       "0               NaN  56.0  ...        0.229          0.272               0.0   \n",
       "1               NaN  62.0  ...        0.322          0.648               0.2   \n",
       "\n",
       "  DNA methylation clusters  RNA-Seq clusters  Chip-Seq clusters (active)  \\\n",
       "0                      one               one                         two   \n",
       "1                      one               one                         one   \n",
       "\n",
       "   Chip-Seq clusters (all)  HRD score  Tumour purity  Ploidy  \n",
       "0                      one        6.0       0.897583     2.0  \n",
       "1                      one       10.0       0.688300     2.0  \n",
       "\n",
       "[2 rows x 29 columns]"
      ]
     },
     "execution_count": 124,
     "metadata": {},
     "output_type": "execute_result"
    }
   ],
   "source": [
    "f = '/projects/trans_scratch/validations/workspace/szong/Cervical/HTMCP_Cervical_Master_Patient_Table_V7_20190920.xlsx'\n",
    "df = pd.read_excel(f)\n",
    "df.head(2)"
   ]
  },
  {
   "cell_type": "code",
   "execution_count": 125,
   "metadata": {},
   "outputs": [
    {
     "data": {
      "text/plain": [
       "Index(['Patient', 'Cohort', 'HIV status', 'HAART therapy prior to dx', 'Stage',\n",
       "       'Grade', 'Histology from clinical data', 'Final histology',\n",
       "       'Pathology comment', 'Age', 'CD4 counts at diagnosis', 'HPV type',\n",
       "       'Integration', 'HPV clade', 'Coding mutation rate (Mb)',\n",
       "       'Signature2_APOBEC (nnls)', 'Signature13_APOBEC (nnls)',\n",
       "       'Max APOBEC score', 'CD8 T-cells', 'CD4 T-cells', 'T-cell content',\n",
       "       'Cibersort p-value', 'DNA methylation clusters', 'RNA-Seq clusters',\n",
       "       'Chip-Seq clusters (active)', 'Chip-Seq clusters (all)', 'HRD score',\n",
       "       'Tumour purity', 'Ploidy'],\n",
       "      dtype='object')"
      ]
     },
     "execution_count": 125,
     "metadata": {},
     "output_type": "execute_result"
    }
   ],
   "source": [
    "df.columns"
   ]
  },
  {
   "cell_type": "code",
   "execution_count": 95,
   "metadata": {
    "scrolled": true
   },
   "outputs": [
    {
     "data": {
      "text/plain": [
       "(118, 29)"
      ]
     },
     "execution_count": 95,
     "metadata": {},
     "output_type": "execute_result"
    }
   ],
   "source": [
    "df = df[df.Cohort=='Discovery']\n",
    "df.shape"
   ]
  },
  {
   "cell_type": "code",
   "execution_count": 102,
   "metadata": {},
   "outputs": [],
   "source": [
    "df.pivot_table?"
   ]
  },
  {
   "cell_type": "code",
   "execution_count": 110,
   "metadata": {},
   "outputs": [
    {
     "data": {
      "text/html": [
       "<div>\n",
       "<style scoped>\n",
       "    .dataframe tbody tr th:only-of-type {\n",
       "        vertical-align: middle;\n",
       "    }\n",
       "\n",
       "    .dataframe tbody tr th {\n",
       "        vertical-align: top;\n",
       "    }\n",
       "\n",
       "    .dataframe thead th {\n",
       "        text-align: right;\n",
       "    }\n",
       "</style>\n",
       "<table border=\"1\" class=\"dataframe\">\n",
       "  <thead>\n",
       "    <tr style=\"text-align: right;\">\n",
       "      <th></th>\n",
       "      <th>HIV status</th>\n",
       "      <th>Ploidy</th>\n",
       "    </tr>\n",
       "  </thead>\n",
       "  <tbody>\n",
       "    <tr>\n",
       "      <th>0</th>\n",
       "      <td>Positive</td>\n",
       "      <td>2.0</td>\n",
       "    </tr>\n",
       "    <tr>\n",
       "      <th>1</th>\n",
       "      <td>Negative</td>\n",
       "      <td>2.0</td>\n",
       "    </tr>\n",
       "  </tbody>\n",
       "</table>\n",
       "</div>"
      ],
      "text/plain": [
       "  HIV status  Ploidy\n",
       "0   Positive     2.0\n",
       "1   Negative     2.0"
      ]
     },
     "execution_count": 110,
     "metadata": {},
     "output_type": "execute_result"
    }
   ],
   "source": [
    "df[['HIV status', 'Ploidy']].head(2)"
   ]
  },
  {
   "cell_type": "code",
   "execution_count": 108,
   "metadata": {},
   "outputs": [
    {
     "data": {
      "text/html": [
       "<div>\n",
       "<style scoped>\n",
       "    .dataframe tbody tr th:only-of-type {\n",
       "        vertical-align: middle;\n",
       "    }\n",
       "\n",
       "    .dataframe tbody tr th {\n",
       "        vertical-align: top;\n",
       "    }\n",
       "\n",
       "    .dataframe thead th {\n",
       "        text-align: right;\n",
       "    }\n",
       "</style>\n",
       "<table border=\"1\" class=\"dataframe\">\n",
       "  <thead>\n",
       "    <tr style=\"text-align: right;\">\n",
       "      <th>Ploidy</th>\n",
       "      <th>2.0</th>\n",
       "      <th>3.0</th>\n",
       "      <th>4.0</th>\n",
       "    </tr>\n",
       "  </thead>\n",
       "  <tbody>\n",
       "    <tr>\n",
       "      <th>HIV status</th>\n",
       "      <td>72</td>\n",
       "      <td>29</td>\n",
       "      <td>17</td>\n",
       "    </tr>\n",
       "  </tbody>\n",
       "</table>\n",
       "</div>"
      ],
      "text/plain": [
       "Ploidy      2.0  3.0  4.0\n",
       "HIV status   72   29   17"
      ]
     },
     "execution_count": 108,
     "metadata": {},
     "output_type": "execute_result"
    }
   ],
   "source": [
    "df[['HIV status', 'Ploidy']].pivot_table(index='Ploidy', columns='HIV status', values='', aggfunc='count')"
   ]
  },
  {
   "cell_type": "code",
   "execution_count": 111,
   "metadata": {},
   "outputs": [
    {
     "data": {
      "text/html": [
       "<div>\n",
       "<style scoped>\n",
       "    .dataframe tbody tr th:only-of-type {\n",
       "        vertical-align: middle;\n",
       "    }\n",
       "\n",
       "    .dataframe tbody tr th {\n",
       "        vertical-align: top;\n",
       "    }\n",
       "\n",
       "    .dataframe thead th {\n",
       "        text-align: right;\n",
       "    }\n",
       "</style>\n",
       "<table border=\"1\" class=\"dataframe\">\n",
       "  <thead>\n",
       "    <tr style=\"text-align: right;\">\n",
       "      <th></th>\n",
       "      <th>HIV status</th>\n",
       "    </tr>\n",
       "    <tr>\n",
       "      <th>Ploidy</th>\n",
       "      <th></th>\n",
       "    </tr>\n",
       "  </thead>\n",
       "  <tbody>\n",
       "    <tr>\n",
       "      <th>2.0</th>\n",
       "      <td>72</td>\n",
       "    </tr>\n",
       "    <tr>\n",
       "      <th>3.0</th>\n",
       "      <td>29</td>\n",
       "    </tr>\n",
       "    <tr>\n",
       "      <th>4.0</th>\n",
       "      <td>17</td>\n",
       "    </tr>\n",
       "  </tbody>\n",
       "</table>\n",
       "</div>"
      ],
      "text/plain": [
       "        HIV status\n",
       "Ploidy            \n",
       "2.0             72\n",
       "3.0             29\n",
       "4.0             17"
      ]
     },
     "execution_count": 111,
     "metadata": {},
     "output_type": "execute_result"
    }
   ],
   "source": [
    "df[['HIV status', 'Ploidy']].groupby('Ploidy').count()"
   ]
  },
  {
   "cell_type": "code",
   "execution_count": null,
   "metadata": {},
   "outputs": [],
   "source": []
  },
  {
   "cell_type": "code",
   "execution_count": 117,
   "metadata": {},
   "outputs": [
    {
     "data": {
      "text/html": [
       "<div>\n",
       "<style scoped>\n",
       "    .dataframe tbody tr th:only-of-type {\n",
       "        vertical-align: middle;\n",
       "    }\n",
       "\n",
       "    .dataframe tbody tr th {\n",
       "        vertical-align: top;\n",
       "    }\n",
       "\n",
       "    .dataframe thead th {\n",
       "        text-align: right;\n",
       "    }\n",
       "</style>\n",
       "<table border=\"1\" class=\"dataframe\">\n",
       "  <thead>\n",
       "    <tr style=\"text-align: right;\">\n",
       "      <th>HIV status</th>\n",
       "      <th>Negative</th>\n",
       "      <th>Positive</th>\n",
       "      <th>Unknown</th>\n",
       "    </tr>\n",
       "    <tr>\n",
       "      <th>Ploidy</th>\n",
       "      <th></th>\n",
       "      <th></th>\n",
       "      <th></th>\n",
       "    </tr>\n",
       "  </thead>\n",
       "  <tbody>\n",
       "    <tr>\n",
       "      <th>2.0</th>\n",
       "      <td>29</td>\n",
       "      <td>42</td>\n",
       "      <td>1</td>\n",
       "    </tr>\n",
       "    <tr>\n",
       "      <th>3.0</th>\n",
       "      <td>12</td>\n",
       "      <td>17</td>\n",
       "      <td>0</td>\n",
       "    </tr>\n",
       "    <tr>\n",
       "      <th>4.0</th>\n",
       "      <td>4</td>\n",
       "      <td>13</td>\n",
       "      <td>0</td>\n",
       "    </tr>\n",
       "  </tbody>\n",
       "</table>\n",
       "</div>"
      ],
      "text/plain": [
       "HIV status  Negative  Positive  Unknown\n",
       "Ploidy                                 \n",
       "2.0               29        42        1\n",
       "3.0               12        17        0\n",
       "4.0                4        13        0"
      ]
     },
     "execution_count": 117,
     "metadata": {},
     "output_type": "execute_result"
    }
   ],
   "source": [
    "pd.crosstab(index=df['Ploidy'], columns=df['HIV status'])#, normalize='index')"
   ]
  },
  {
   "cell_type": "code",
   "execution_count": 120,
   "metadata": {},
   "outputs": [
    {
     "data": {
      "text/plain": [
       "(0.0, 0.1253150263559656)"
      ]
     },
     "execution_count": 120,
     "metadata": {},
     "output_type": "execute_result"
    }
   ],
   "source": [
    "import scipy.stats as st\n",
    "ddsratio, pvalue = st.fisher_exact([[0, 15], [19, 84]])\n",
    "ddsratio, pvalue"
   ]
  },
  {
   "cell_type": "code",
   "execution_count": 123,
   "metadata": {},
   "outputs": [
    {
     "data": {
      "text/plain": [
       "(0.4427767354596623, 0.19166144556048373)"
      ]
     },
     "execution_count": 123,
     "metadata": {},
     "output_type": "execute_result"
    },
    {
     "data": {
      "text/plain": [
       "(0.7724137931034483, 0.562985895052509)"
      ]
     },
     "execution_count": 123,
     "metadata": {},
     "output_type": "execute_result"
    }
   ],
   "source": [
    "st.fisher_exact([[4, 13], [41, 59]])\n",
    "st.fisher_exact([[16, 30], [29, 42]])"
   ]
  },
  {
   "cell_type": "code",
   "execution_count": 121,
   "metadata": {},
   "outputs": [],
   "source": [
    "st.fisher_exact?"
   ]
  },
  {
   "cell_type": "markdown",
   "metadata": {},
   "source": [
    "# why mutsig2cv output does not match our mutation count"
   ]
  },
  {
   "cell_type": "code",
   "execution_count": 199,
   "metadata": {},
   "outputs": [
    {
     "data": {
      "text/html": [
       "<div>\n",
       "<style scoped>\n",
       "    .dataframe tbody tr th:only-of-type {\n",
       "        vertical-align: middle;\n",
       "    }\n",
       "\n",
       "    .dataframe tbody tr th {\n",
       "        vertical-align: top;\n",
       "    }\n",
       "\n",
       "    .dataframe thead th {\n",
       "        text-align: right;\n",
       "    }\n",
       "</style>\n",
       "<table border=\"1\" class=\"dataframe\">\n",
       "  <thead>\n",
       "    <tr style=\"text-align: right;\">\n",
       "      <th></th>\n",
       "      <th>Hugo_Symbol</th>\n",
       "      <th>Entrez_Gene_Id</th>\n",
       "      <th>Center</th>\n",
       "      <th>NCBI_Build</th>\n",
       "      <th>Chromosome</th>\n",
       "      <th>Start_Position</th>\n",
       "      <th>End_Position</th>\n",
       "      <th>Strand</th>\n",
       "      <th>Variant_Classification</th>\n",
       "      <th>Variant_Type</th>\n",
       "      <th>...</th>\n",
       "      <th>ExAC_AF</th>\n",
       "      <th>ExAC_AF_AFR</th>\n",
       "      <th>ExAC_AF_AMR</th>\n",
       "      <th>ExAC_AF_EAS</th>\n",
       "      <th>ExAC_AF_FIN</th>\n",
       "      <th>ExAC_AF_NFE</th>\n",
       "      <th>ExAC_AF_OTH</th>\n",
       "      <th>ExAC_AF_SAS</th>\n",
       "      <th>GENE_PHENO</th>\n",
       "      <th>FILTER</th>\n",
       "    </tr>\n",
       "  </thead>\n",
       "  <tbody>\n",
       "    <tr>\n",
       "      <th>0</th>\n",
       "      <td>NaN</td>\n",
       "      <td>0</td>\n",
       "      <td>.</td>\n",
       "      <td>GRCh37</td>\n",
       "      <td>1</td>\n",
       "      <td>5220251</td>\n",
       "      <td>5220252</td>\n",
       "      <td>+</td>\n",
       "      <td>IGR</td>\n",
       "      <td>INS</td>\n",
       "      <td>...</td>\n",
       "      <td>NaN</td>\n",
       "      <td>NaN</td>\n",
       "      <td>NaN</td>\n",
       "      <td>NaN</td>\n",
       "      <td>NaN</td>\n",
       "      <td>NaN</td>\n",
       "      <td>NaN</td>\n",
       "      <td>NaN</td>\n",
       "      <td>NaN</td>\n",
       "      <td>PASS</td>\n",
       "    </tr>\n",
       "    <tr>\n",
       "      <th>1</th>\n",
       "      <td>NaN</td>\n",
       "      <td>0</td>\n",
       "      <td>.</td>\n",
       "      <td>GRCh37</td>\n",
       "      <td>1</td>\n",
       "      <td>5220284</td>\n",
       "      <td>5220285</td>\n",
       "      <td>+</td>\n",
       "      <td>IGR</td>\n",
       "      <td>INS</td>\n",
       "      <td>...</td>\n",
       "      <td>NaN</td>\n",
       "      <td>NaN</td>\n",
       "      <td>NaN</td>\n",
       "      <td>NaN</td>\n",
       "      <td>NaN</td>\n",
       "      <td>NaN</td>\n",
       "      <td>NaN</td>\n",
       "      <td>NaN</td>\n",
       "      <td>NaN</td>\n",
       "      <td>PASS</td>\n",
       "    </tr>\n",
       "  </tbody>\n",
       "</table>\n",
       "<p>2 rows × 109 columns</p>\n",
       "</div>"
      ],
      "text/plain": [
       "  Hugo_Symbol  Entrez_Gene_Id Center NCBI_Build Chromosome  Start_Position  \\\n",
       "0         NaN               0      .     GRCh37          1         5220251   \n",
       "1         NaN               0      .     GRCh37          1         5220284   \n",
       "\n",
       "   End_Position Strand Variant_Classification Variant_Type  ... ExAC_AF  \\\n",
       "0       5220252      +                    IGR          INS  ...     NaN   \n",
       "1       5220285      +                    IGR          INS  ...     NaN   \n",
       "\n",
       "  ExAC_AF_AFR ExAC_AF_AMR ExAC_AF_EAS  ExAC_AF_FIN ExAC_AF_NFE ExAC_AF_OTH  \\\n",
       "0         NaN         NaN         NaN          NaN         NaN         NaN   \n",
       "1         NaN         NaN         NaN          NaN         NaN         NaN   \n",
       "\n",
       "  ExAC_AF_SAS GENE_PHENO  FILTER  \n",
       "0         NaN        NaN    PASS  \n",
       "1         NaN        NaN    PASS  \n",
       "\n",
       "[2 rows x 109 columns]"
      ]
     },
     "execution_count": 199,
     "metadata": {},
     "output_type": "execute_result"
    },
    {
     "data": {
      "text/plain": [
       "(2698813, 109)"
      ]
     },
     "execution_count": 199,
     "metadata": {},
     "output_type": "execute_result"
    }
   ],
   "source": [
    "f = '/projects/trans_scratch/validations/workspace/szong/Cervical/mutsig2cv/118_patients/mafs/118_discovery_strelka.maf'\n",
    "df = pd.read_csv(f, sep='\\t', low_memory=False, comment='#')\n",
    "df.head(2)\n",
    "df.shape"
   ]
  },
  {
   "cell_type": "code",
   "execution_count": 178,
   "metadata": {},
   "outputs": [
    {
     "name": "stdout",
     "output_type": "stream",
     "text": [
      "Hugo_Symbol\n",
      "Entrez_Gene_Id\n",
      "Center\n",
      "NCBI_Build\n",
      "Chromosome\n",
      "Start_Position\n",
      "End_Position\n",
      "Strand\n",
      "Variant_Classification\n",
      "Variant_Type\n",
      "Reference_Allele\n",
      "Tumor_Seq_Allele1\n",
      "Tumor_Seq_Allele2\n",
      "dbSNP_RS\n",
      "dbSNP_Val_Status\n",
      "Tumor_Sample_Barcode\n",
      "Matched_Norm_Sample_Barcode\n",
      "Match_Norm_Seq_Allele1\n",
      "Match_Norm_Seq_Allele2\n",
      "Tumor_Validation_Allele1\n",
      "Tumor_Validation_Allele2\n",
      "Match_Norm_Validation_Allele1\n",
      "Match_Norm_Validation_Allele2\n",
      "Verification_Status\n",
      "Validation_Status\n",
      "Mutation_Status\n",
      "Sequencing_Phase\n",
      "Sequence_Source\n",
      "Validation_Method\n",
      "Score\n",
      "BAM_File\n",
      "Sequencer\n",
      "Tumor_Sample_UUID\n",
      "Matched_Norm_Sample_UUID\n",
      "HGVSc\n",
      "HGVSp\n",
      "HGVSp_Short\n",
      "Transcript_ID\n",
      "Exon_Number\n",
      "t_depth\n",
      "t_ref_count\n",
      "t_alt_count\n",
      "n_depth\n",
      "n_ref_count\n",
      "n_alt_count\n",
      "all_effects\n",
      "Allele\n",
      "Gene\n",
      "Feature\n",
      "Feature_type\n",
      "Consequence\n",
      "cDNA_position\n",
      "CDS_position\n",
      "Protein_position\n",
      "Amino_acids\n",
      "Codons\n",
      "Existing_variation\n",
      "ALLELE_NUM\n",
      "DISTANCE\n",
      "STRAND\n",
      "SYMBOL\n",
      "SYMBOL_SOURCE\n",
      "HGNC_ID\n",
      "BIOTYPE\n",
      "CANONICAL\n",
      "CCDS\n",
      "ENSP\n",
      "SWISSPROT\n",
      "TREMBL\n",
      "UNIPARC\n",
      "RefSeq\n",
      "SIFT\n",
      "PolyPhen\n",
      "EXON\n",
      "INTRON\n",
      "DOMAINS\n",
      "GMAF\n",
      "AFR_MAF\n",
      "AMR_MAF\n",
      "ASN_MAF\n",
      "EAS_MAF\n",
      "EUR_MAF\n",
      "SAS_MAF\n",
      "AA_MAF\n",
      "EA_MAF\n",
      "CLIN_SIG\n",
      "SOMATIC\n",
      "PUBMED\n",
      "MOTIF_NAME\n",
      "MOTIF_POS\n",
      "HIGH_INF_POS\n",
      "MOTIF_SCORE_CHANGE\n",
      "IMPACT\n",
      "PICK\n",
      "VARIANT_CLASS\n",
      "TSL\n",
      "HGVS_OFFSET\n",
      "PHENO\n",
      "MINIMISED\n",
      "ExAC_AF\n",
      "ExAC_AF_AFR\n",
      "ExAC_AF_AMR\n",
      "ExAC_AF_EAS\n",
      "ExAC_AF_FIN\n",
      "ExAC_AF_NFE\n",
      "ExAC_AF_OTH\n",
      "ExAC_AF_SAS\n",
      "GENE_PHENO\n",
      "FILTER\n"
     ]
    }
   ],
   "source": [
    "for c in df.columns:\n",
    "    print(c)"
   ]
  },
  {
   "cell_type": "code",
   "execution_count": 204,
   "metadata": {},
   "outputs": [
    {
     "data": {
      "text/plain": [
       "array(['MODIFIER', 'HIGH', 'MODERATE', 'LOW'], dtype=object)"
      ]
     },
     "execution_count": 204,
     "metadata": {},
     "output_type": "execute_result"
    }
   ],
   "source": [
    "df.IMPACT.unique()"
   ]
  },
  {
   "cell_type": "code",
   "execution_count": 179,
   "metadata": {},
   "outputs": [
    {
     "data": {
      "text/plain": [
       "array(['intergenic_variant', 'intron_variant',\n",
       "       'regulatory_region_variant', 'upstream_gene_variant',\n",
       "       'downstream_gene_variant', 'non_coding_transcript_exon_variant',\n",
       "       'frameshift_variant', '3_prime_UTR_variant', 'inframe_deletion',\n",
       "       'missense_variant', 'synonymous_variant', '5_prime_UTR_variant',\n",
       "       'splice_region_variant', 'TF_binding_site_variant', 'stop_gained',\n",
       "       'splice_acceptor_variant', 'stop_retained_variant', 'stop_lost',\n",
       "       'splice_donor_variant', 'mature_miRNA_variant',\n",
       "       'inframe_insertion', 'start_lost',\n",
       "       'incomplete_terminal_codon_variant', 'coding_sequence_variant',\n",
       "       'protein_altering_variant'], dtype=object)"
      ]
     },
     "execution_count": 179,
     "metadata": {},
     "output_type": "execute_result"
    }
   ],
   "source": [
    "df.Consequence.unique()"
   ]
  },
  {
   "cell_type": "code",
   "execution_count": 131,
   "metadata": {},
   "outputs": [
    {
     "data": {
      "text/plain": [
       "array(['IGR', 'Intron', \"5'Flank\", \"3'Flank\", 'RNA', 'Frame_Shift_Ins',\n",
       "       'Frame_Shift_Del', \"3'UTR\", 'In_Frame_Del', 'Missense_Mutation',\n",
       "       'Silent', \"5'UTR\", 'Nonsense_Mutation', 'Splice_Site',\n",
       "       'Nonstop_Mutation', 'In_Frame_Ins', 'Translation_Start_Site'],\n",
       "      dtype=object)"
      ]
     },
     "execution_count": 131,
     "metadata": {},
     "output_type": "execute_result"
    }
   ],
   "source": [
    "df.Variant_Classification.unique()"
   ]
  },
  {
   "cell_type": "code",
   "execution_count": 136,
   "metadata": {},
   "outputs": [
    {
     "data": {
      "text/plain": [
       "array(['MODIFIER', 'HIGH', 'MODERATE', 'LOW'], dtype=object)"
      ]
     },
     "execution_count": 136,
     "metadata": {},
     "output_type": "execute_result"
    }
   ],
   "source": [
    "df.IMPACT.unique()"
   ]
  },
  {
   "cell_type": "code",
   "execution_count": 201,
   "metadata": {},
   "outputs": [
    {
     "name": "stdout",
     "output_type": "stream",
     "text": [
      "PIK3CA 41 41 1 1\n",
      "RBMXL1 5 6 2 2\n",
      "MAPK1 6 6 0 0\n",
      "CASP8 8 8 0 0\n",
      "FBXW7 12 12 0 0\n",
      "KMT2D 15 17 3 2\n",
      "ZC3H6 4 4 1 1\n",
      "TAS2R43 6 8 3 3\n",
      "MUC17 23 26 8 8\n",
      "PCDHGA12 5 7 2 2\n",
      "FAT1 19 22 5 5\n",
      "ZNF750 4 4 1 1\n",
      "SLC35G5 8 8 1 1\n",
      "PCDHA9 3 4 1 1\n",
      "PSPC1 5 6 1 1\n"
     ]
    }
   ],
   "source": [
    "for gene in genes:\n",
    "    npat = df[(df.Hugo_Symbol == gene)&(df.IMPACT !='MODIFIER')&(df.IMPACT !='LOW')]['Tumor_Sample_Barcode'].nunique()\n",
    "    allpat = df[(df.Hugo_Symbol == gene)&(df.IMPACT !='MODIFIER')]['Tumor_Sample_Barcode'].nunique()\n",
    "    nlow = df[(df.Hugo_Symbol == gene)&(df.IMPACT =='LOW')]['Tumor_Sample_Barcode'].count()\n",
    "    nsil = df[(df.Hugo_Symbol == gene)&(df.Variant_Classification =='Silent')]['Tumor_Sample_Barcode'].count()\n",
    "    print(gene, npat, allpat, nlow, nsil) #allpat including silent mutations"
   ]
  },
  {
   "cell_type": "code",
   "execution_count": 203,
   "metadata": {},
   "outputs": [
    {
     "data": {
      "text/html": [
       "<div>\n",
       "<style scoped>\n",
       "    .dataframe tbody tr th:only-of-type {\n",
       "        vertical-align: middle;\n",
       "    }\n",
       "\n",
       "    .dataframe tbody tr th {\n",
       "        vertical-align: top;\n",
       "    }\n",
       "\n",
       "    .dataframe thead th {\n",
       "        text-align: right;\n",
       "    }\n",
       "</style>\n",
       "<table border=\"1\" class=\"dataframe\">\n",
       "  <thead>\n",
       "    <tr style=\"text-align: right;\">\n",
       "      <th></th>\n",
       "      <th>Hugo_Symbol</th>\n",
       "      <th>Entrez_Gene_Id</th>\n",
       "      <th>Center</th>\n",
       "      <th>NCBI_Build</th>\n",
       "      <th>Chromosome</th>\n",
       "      <th>Start_Position</th>\n",
       "      <th>End_Position</th>\n",
       "      <th>Strand</th>\n",
       "      <th>Variant_Classification</th>\n",
       "      <th>Variant_Type</th>\n",
       "      <th>...</th>\n",
       "      <th>ExAC_AF</th>\n",
       "      <th>ExAC_AF_AFR</th>\n",
       "      <th>ExAC_AF_AMR</th>\n",
       "      <th>ExAC_AF_EAS</th>\n",
       "      <th>ExAC_AF_FIN</th>\n",
       "      <th>ExAC_AF_NFE</th>\n",
       "      <th>ExAC_AF_OTH</th>\n",
       "      <th>ExAC_AF_SAS</th>\n",
       "      <th>GENE_PHENO</th>\n",
       "      <th>FILTER</th>\n",
       "    </tr>\n",
       "  </thead>\n",
       "  <tbody>\n",
       "    <tr>\n",
       "      <th>2147393</th>\n",
       "      <td>PCDHA9</td>\n",
       "      <td>0</td>\n",
       "      <td>.</td>\n",
       "      <td>GRCh37</td>\n",
       "      <td>5</td>\n",
       "      <td>140389282</td>\n",
       "      <td>140389282</td>\n",
       "      <td>+</td>\n",
       "      <td>Silent</td>\n",
       "      <td>SNP</td>\n",
       "      <td>...</td>\n",
       "      <td>NaN</td>\n",
       "      <td>NaN</td>\n",
       "      <td>NaN</td>\n",
       "      <td>NaN</td>\n",
       "      <td>NaN</td>\n",
       "      <td>NaN</td>\n",
       "      <td>NaN</td>\n",
       "      <td>NaN</td>\n",
       "      <td>NaN</td>\n",
       "      <td>PASS</td>\n",
       "    </tr>\n",
       "  </tbody>\n",
       "</table>\n",
       "<p>1 rows × 109 columns</p>\n",
       "</div>"
      ],
      "text/plain": [
       "        Hugo_Symbol  Entrez_Gene_Id Center NCBI_Build Chromosome  \\\n",
       "2147393      PCDHA9               0      .     GRCh37          5   \n",
       "\n",
       "         Start_Position  End_Position Strand Variant_Classification  \\\n",
       "2147393       140389282     140389282      +                 Silent   \n",
       "\n",
       "        Variant_Type  ... ExAC_AF ExAC_AF_AFR ExAC_AF_AMR ExAC_AF_EAS  \\\n",
       "2147393          SNP  ...     NaN         NaN         NaN         NaN   \n",
       "\n",
       "         ExAC_AF_FIN ExAC_AF_NFE ExAC_AF_OTH ExAC_AF_SAS GENE_PHENO  FILTER  \n",
       "2147393          NaN         NaN         NaN         NaN        NaN    PASS  \n",
       "\n",
       "[1 rows x 109 columns]"
      ]
     },
     "execution_count": 203,
     "metadata": {},
     "output_type": "execute_result"
    }
   ],
   "source": [
    "df[(df.Hugo_Symbol == 'PCDHA9')&(df.IMPACT =='LOW')]#[['Variant_Classification', 'IMPACT']]"
   ]
  },
  {
   "cell_type": "code",
   "execution_count": 177,
   "metadata": {},
   "outputs": [
    {
     "name": "stdout",
     "output_type": "stream",
     "text": [
      "KMT2D\n",
      "0\n",
      ".\n",
      "GRCh37\n",
      "12\n",
      "49441825\n",
      "49441825\n",
      "+\n",
      "Missense_Mutation\n",
      "SNP\n",
      "C\n",
      "C\n",
      "T\n",
      "novel\n",
      "nan\n",
      "HTMCP-03-06-02209_T\n",
      "HTMCP-03-06-02209_N\n",
      "C\n",
      "C\n",
      "nan\n",
      "nan\n",
      "nan\n",
      "nan\n",
      "nan\n",
      "nan\n",
      "nan\n",
      "nan\n",
      "nan\n",
      "nan\n",
      "nan\n",
      "nan\n",
      "nan\n",
      "nan\n",
      "nan\n",
      "c.4159G>A\n",
      "p.Gly1387Ser\n",
      "p.G1387S\n",
      "ENST00000301067\n",
      "14/54\n",
      "79\n",
      "57\n",
      "21\n",
      "43\n",
      "42\n",
      "0\n",
      "KMT2D,missense_variant,p.Gly1387Ser,ENST00000301067,NM_003482.3;KMT2D,upstream_gene_variant,,ENST00000550356,;\n",
      "T\n",
      "ENSG00000167548\n",
      "ENST00000301067\n",
      "Transcript\n",
      "missense_variant\n",
      "4159/19419\n",
      "4159/16614\n",
      "1387/5537\n",
      "G/S\n",
      "Ggc/Agc\n",
      "nan\n",
      "1\n",
      "nan\n",
      "-1.0\n",
      "KMT2D\n",
      "HGNC\n",
      "7133.0\n",
      "protein_coding\n",
      "YES\n",
      "CCDS44873.1\n",
      "ENSP00000301067\n",
      "KMT2D_HUMAN\n",
      "Q6PIA1_HUMAN,Q59FG6_HUMAN,F8VWW4_HUMAN\n",
      "UPI0000EE84D6\n",
      "NM_003482.3\n",
      "nan\n",
      "probably_damaging(1)\n",
      "14/54\n",
      "nan\n",
      "PROSITE_profiles:PS50016,hmmpanther:PTHR22884,hmmpanther:PTHR22884:SF324,Gene3D:3.30.40.10,Pfam_domain:PF00628,SMART_domains:SM00249,SMART_domains:SM00184,Superfamily_domains:SSF57903\n",
      "nan\n",
      "nan\n",
      "nan\n",
      "nan\n",
      "nan\n",
      "nan\n",
      "nan\n",
      "nan\n",
      "nan\n",
      "nan\n",
      "nan\n",
      "nan\n",
      "nan\n",
      "nan\n",
      "nan\n",
      "nan\n",
      "MODERATE\n",
      "1.0\n",
      "SNV\n",
      "nan\n",
      "nan\n",
      "nan\n",
      "1.0\n",
      "nan\n",
      "nan\n",
      "nan\n",
      "nan\n",
      "nan\n",
      "nan\n",
      "nan\n",
      "nan\n",
      "1.0\n",
      "PASS\n"
     ]
    }
   ],
   "source": [
    "for i in df[(df.Hugo_Symbol == 'KMT2D')&(df.IMPACT =='MODERATE')].iloc[2]:\n",
    "    print(i)"
   ]
  },
  {
   "cell_type": "code",
   "execution_count": 159,
   "metadata": {},
   "outputs": [
    {
     "data": {
      "text/plain": [
       "array(['HTMCP-03-06-02002_T', 'HTMCP-03-06-02063_T',\n",
       "       'HTMCP-03-06-02219_T', 'HTMCP-03-06-02260_T'], dtype=object)"
      ]
     },
     "execution_count": 159,
     "metadata": {},
     "output_type": "execute_result"
    }
   ],
   "source": [
    "df[(df.Hugo_Symbol == 'ZNF750')&(df.IMPACT !='MODIFIER')]['Tumor_Sample_Barcode'].unique()"
   ]
  },
  {
   "cell_type": "code",
   "execution_count": 198,
   "metadata": {},
   "outputs": [
    {
     "ename": "AttributeError",
     "evalue": "'DataFrame' object has no attribute 'Hugo_Symbol'",
     "output_type": "error",
     "traceback": [
      "\u001b[0;31m---------------------------------------------------------------------------\u001b[0m",
      "\u001b[0;31mAttributeError\u001b[0m                            Traceback (most recent call last)",
      "\u001b[0;32m<ipython-input-198-508afcb570ad>\u001b[0m in \u001b[0;36m<module>\u001b[0;34m\u001b[0m\n\u001b[0;32m----> 1\u001b[0;31m \u001b[0mdf\u001b[0m\u001b[0;34m[\u001b[0m\u001b[0;34m(\u001b[0m\u001b[0mdf\u001b[0m\u001b[0;34m.\u001b[0m\u001b[0mHugo_Symbol\u001b[0m \u001b[0;34m==\u001b[0m \u001b[0;34m'PCDHA9'\u001b[0m\u001b[0;34m)\u001b[0m\u001b[0;34m&\u001b[0m\u001b[0;34m(\u001b[0m\u001b[0mdf\u001b[0m\u001b[0;34m.\u001b[0m\u001b[0mIMPACT\u001b[0m \u001b[0;34m!=\u001b[0m\u001b[0;34m'MODIFIER'\u001b[0m\u001b[0;34m)\u001b[0m\u001b[0;34m]\u001b[0m\u001b[0;34m[\u001b[0m\u001b[0;34m[\u001b[0m\u001b[0;34m'Tumor_Sample_Barcode'\u001b[0m\u001b[0;34m,\u001b[0m \u001b[0;34m'Variant_Classification'\u001b[0m\u001b[0;34m,\u001b[0m \u001b[0;34m'IMPACT'\u001b[0m\u001b[0;34m]\u001b[0m\u001b[0;34m]\u001b[0m\u001b[0;34m\u001b[0m\u001b[0;34m\u001b[0m\u001b[0m\n\u001b[0m",
      "\u001b[0;32m/projects/da_workspace/software/miniconda/envs/da/lib/python3.7/site-packages/pandas/core/generic.py\u001b[0m in \u001b[0;36m__getattr__\u001b[0;34m(self, name)\u001b[0m\n\u001b[1;32m   5065\u001b[0m             \u001b[0;32mif\u001b[0m \u001b[0mself\u001b[0m\u001b[0;34m.\u001b[0m\u001b[0m_info_axis\u001b[0m\u001b[0;34m.\u001b[0m\u001b[0m_can_hold_identifiers_and_holds_name\u001b[0m\u001b[0;34m(\u001b[0m\u001b[0mname\u001b[0m\u001b[0;34m)\u001b[0m\u001b[0;34m:\u001b[0m\u001b[0;34m\u001b[0m\u001b[0;34m\u001b[0m\u001b[0m\n\u001b[1;32m   5066\u001b[0m                 \u001b[0;32mreturn\u001b[0m \u001b[0mself\u001b[0m\u001b[0;34m[\u001b[0m\u001b[0mname\u001b[0m\u001b[0;34m]\u001b[0m\u001b[0;34m\u001b[0m\u001b[0;34m\u001b[0m\u001b[0m\n\u001b[0;32m-> 5067\u001b[0;31m             \u001b[0;32mreturn\u001b[0m \u001b[0mobject\u001b[0m\u001b[0;34m.\u001b[0m\u001b[0m__getattribute__\u001b[0m\u001b[0;34m(\u001b[0m\u001b[0mself\u001b[0m\u001b[0;34m,\u001b[0m \u001b[0mname\u001b[0m\u001b[0;34m)\u001b[0m\u001b[0;34m\u001b[0m\u001b[0;34m\u001b[0m\u001b[0m\n\u001b[0m\u001b[1;32m   5068\u001b[0m \u001b[0;34m\u001b[0m\u001b[0m\n\u001b[1;32m   5069\u001b[0m     \u001b[0;32mdef\u001b[0m \u001b[0m__setattr__\u001b[0m\u001b[0;34m(\u001b[0m\u001b[0mself\u001b[0m\u001b[0;34m,\u001b[0m \u001b[0mname\u001b[0m\u001b[0;34m,\u001b[0m \u001b[0mvalue\u001b[0m\u001b[0;34m)\u001b[0m\u001b[0;34m:\u001b[0m\u001b[0;34m\u001b[0m\u001b[0;34m\u001b[0m\u001b[0m\n",
      "\u001b[0;31mAttributeError\u001b[0m: 'DataFrame' object has no attribute 'Hugo_Symbol'"
     ]
    }
   ],
   "source": [
    "df[(df.Hugo_Symbol == 'PCDHA9')&(df.IMPACT !='MODIFIER')][['Tumor_Sample_Barcode', 'Variant_Classification', 'IMPACT']]"
   ]
  },
  {
   "cell_type": "markdown",
   "metadata": {},
   "source": [
    "in my HML summary: HTMCP-03-06-02002\n",
    "HTMCP-03-06-02063\n",
    "HTMCP-03-06-02214\n",
    "HTMCP-03-06-02219\n",
    "HTMCP-03-06-02260"
   ]
  },
  {
   "cell_type": "code",
   "execution_count": null,
   "metadata": {},
   "outputs": [],
   "source": []
  },
  {
   "cell_type": "markdown",
   "metadata": {},
   "source": [
    "# look into mutsig2cv file"
   ]
  },
  {
   "cell_type": "code",
   "execution_count": 192,
   "metadata": {},
   "outputs": [
    {
     "data": {
      "text/html": [
       "<div>\n",
       "<style scoped>\n",
       "    .dataframe tbody tr th:only-of-type {\n",
       "        vertical-align: middle;\n",
       "    }\n",
       "\n",
       "    .dataframe tbody tr th {\n",
       "        vertical-align: top;\n",
       "    }\n",
       "\n",
       "    .dataframe thead th {\n",
       "        text-align: right;\n",
       "    }\n",
       "</style>\n",
       "<table border=\"1\" class=\"dataframe\">\n",
       "  <thead>\n",
       "    <tr style=\"text-align: right;\">\n",
       "      <th></th>\n",
       "      <th>HTMCP-03-06-02001_T</th>\n",
       "      <th>HTMCP-03-06-02002_T</th>\n",
       "      <th>HTMCP-03-06-02003_T</th>\n",
       "      <th>HTMCP-03-06-02006_T</th>\n",
       "      <th>HTMCP-03-06-02008_T</th>\n",
       "      <th>HTMCP-03-06-02012_T</th>\n",
       "      <th>HTMCP-03-06-02013_T</th>\n",
       "      <th>HTMCP-03-06-02020_T</th>\n",
       "      <th>HTMCP-03-06-02036_T</th>\n",
       "      <th>HTMCP-03-06-02037_T</th>\n",
       "      <th>...</th>\n",
       "      <th>HTMCP-03-06-02417_T</th>\n",
       "      <th>HTMCP-03-06-02424_T</th>\n",
       "      <th>HTMCP-03-06-02427_T</th>\n",
       "      <th>HTMCP-03-06-02428_T</th>\n",
       "      <th>HTMCP-03-06-02434_T</th>\n",
       "      <th>HTMCP-03-06-02435_T</th>\n",
       "      <th>HTMCP-03-06-02437_T</th>\n",
       "      <th>HTMCP-03-06-02441_T</th>\n",
       "      <th>HTMCP-03-06-02442_T</th>\n",
       "      <th>HTMCP-03-06-02447_T</th>\n",
       "    </tr>\n",
       "    <tr>\n",
       "      <th>name</th>\n",
       "      <th></th>\n",
       "      <th></th>\n",
       "      <th></th>\n",
       "      <th></th>\n",
       "      <th></th>\n",
       "      <th></th>\n",
       "      <th></th>\n",
       "      <th></th>\n",
       "      <th></th>\n",
       "      <th></th>\n",
       "      <th></th>\n",
       "      <th></th>\n",
       "      <th></th>\n",
       "      <th></th>\n",
       "      <th></th>\n",
       "      <th></th>\n",
       "      <th></th>\n",
       "      <th></th>\n",
       "      <th></th>\n",
       "      <th></th>\n",
       "      <th></th>\n",
       "    </tr>\n",
       "  </thead>\n",
       "  <tbody>\n",
       "    <tr>\n",
       "      <th>CASP8</th>\n",
       "      <td>1</td>\n",
       "      <td>0</td>\n",
       "      <td>0</td>\n",
       "      <td>0</td>\n",
       "      <td>0</td>\n",
       "      <td>1</td>\n",
       "      <td>0</td>\n",
       "      <td>0</td>\n",
       "      <td>1</td>\n",
       "      <td>0</td>\n",
       "      <td>...</td>\n",
       "      <td>0</td>\n",
       "      <td>0</td>\n",
       "      <td>0</td>\n",
       "      <td>0</td>\n",
       "      <td>0</td>\n",
       "      <td>1</td>\n",
       "      <td>0</td>\n",
       "      <td>0</td>\n",
       "      <td>0</td>\n",
       "      <td>0</td>\n",
       "    </tr>\n",
       "    <tr>\n",
       "      <th>FAT1</th>\n",
       "      <td>0</td>\n",
       "      <td>1</td>\n",
       "      <td>0</td>\n",
       "      <td>0</td>\n",
       "      <td>0</td>\n",
       "      <td>0</td>\n",
       "      <td>0</td>\n",
       "      <td>0</td>\n",
       "      <td>1</td>\n",
       "      <td>0</td>\n",
       "      <td>...</td>\n",
       "      <td>0</td>\n",
       "      <td>0</td>\n",
       "      <td>1</td>\n",
       "      <td>1</td>\n",
       "      <td>0</td>\n",
       "      <td>1</td>\n",
       "      <td>0</td>\n",
       "      <td>0</td>\n",
       "      <td>0</td>\n",
       "      <td>0</td>\n",
       "    </tr>\n",
       "    <tr>\n",
       "      <th>FBXW7</th>\n",
       "      <td>0</td>\n",
       "      <td>0</td>\n",
       "      <td>0</td>\n",
       "      <td>1</td>\n",
       "      <td>0</td>\n",
       "      <td>0</td>\n",
       "      <td>0</td>\n",
       "      <td>0</td>\n",
       "      <td>0</td>\n",
       "      <td>0</td>\n",
       "      <td>...</td>\n",
       "      <td>0</td>\n",
       "      <td>0</td>\n",
       "      <td>0</td>\n",
       "      <td>1</td>\n",
       "      <td>0</td>\n",
       "      <td>6</td>\n",
       "      <td>0</td>\n",
       "      <td>0</td>\n",
       "      <td>0</td>\n",
       "      <td>0</td>\n",
       "    </tr>\n",
       "    <tr>\n",
       "      <th>MAPK1</th>\n",
       "      <td>0</td>\n",
       "      <td>0</td>\n",
       "      <td>0</td>\n",
       "      <td>0</td>\n",
       "      <td>0</td>\n",
       "      <td>0</td>\n",
       "      <td>0</td>\n",
       "      <td>0</td>\n",
       "      <td>0</td>\n",
       "      <td>0</td>\n",
       "      <td>...</td>\n",
       "      <td>1</td>\n",
       "      <td>0</td>\n",
       "      <td>0</td>\n",
       "      <td>1</td>\n",
       "      <td>0</td>\n",
       "      <td>1</td>\n",
       "      <td>0</td>\n",
       "      <td>0</td>\n",
       "      <td>0</td>\n",
       "      <td>0</td>\n",
       "    </tr>\n",
       "    <tr>\n",
       "      <th>MUC17</th>\n",
       "      <td>0</td>\n",
       "      <td>0</td>\n",
       "      <td>0</td>\n",
       "      <td>0</td>\n",
       "      <td>0</td>\n",
       "      <td>1</td>\n",
       "      <td>0</td>\n",
       "      <td>2</td>\n",
       "      <td>0</td>\n",
       "      <td>0</td>\n",
       "      <td>...</td>\n",
       "      <td>1</td>\n",
       "      <td>0</td>\n",
       "      <td>0</td>\n",
       "      <td>0</td>\n",
       "      <td>0</td>\n",
       "      <td>2</td>\n",
       "      <td>0</td>\n",
       "      <td>0</td>\n",
       "      <td>1</td>\n",
       "      <td>0</td>\n",
       "    </tr>\n",
       "  </tbody>\n",
       "</table>\n",
       "<p>5 rows × 118 columns</p>\n",
       "</div>"
      ],
      "text/plain": [
       "       HTMCP-03-06-02001_T  HTMCP-03-06-02002_T  HTMCP-03-06-02003_T  \\\n",
       "name                                                                   \n",
       "CASP8                    1                    0                    0   \n",
       "FAT1                     0                    1                    0   \n",
       "FBXW7                    0                    0                    0   \n",
       "MAPK1                    0                    0                    0   \n",
       "MUC17                    0                    0                    0   \n",
       "\n",
       "       HTMCP-03-06-02006_T  HTMCP-03-06-02008_T  HTMCP-03-06-02012_T  \\\n",
       "name                                                                   \n",
       "CASP8                    0                    0                    1   \n",
       "FAT1                     0                    0                    0   \n",
       "FBXW7                    1                    0                    0   \n",
       "MAPK1                    0                    0                    0   \n",
       "MUC17                    0                    0                    1   \n",
       "\n",
       "       HTMCP-03-06-02013_T  HTMCP-03-06-02020_T  HTMCP-03-06-02036_T  \\\n",
       "name                                                                   \n",
       "CASP8                    0                    0                    1   \n",
       "FAT1                     0                    0                    1   \n",
       "FBXW7                    0                    0                    0   \n",
       "MAPK1                    0                    0                    0   \n",
       "MUC17                    0                    2                    0   \n",
       "\n",
       "       HTMCP-03-06-02037_T  ...  HTMCP-03-06-02417_T  HTMCP-03-06-02424_T  \\\n",
       "name                        ...                                             \n",
       "CASP8                    0  ...                    0                    0   \n",
       "FAT1                     0  ...                    0                    0   \n",
       "FBXW7                    0  ...                    0                    0   \n",
       "MAPK1                    0  ...                    1                    0   \n",
       "MUC17                    0  ...                    1                    0   \n",
       "\n",
       "       HTMCP-03-06-02427_T  HTMCP-03-06-02428_T  HTMCP-03-06-02434_T  \\\n",
       "name                                                                   \n",
       "CASP8                    0                    0                    0   \n",
       "FAT1                     1                    1                    0   \n",
       "FBXW7                    0                    1                    0   \n",
       "MAPK1                    0                    1                    0   \n",
       "MUC17                    0                    0                    0   \n",
       "\n",
       "       HTMCP-03-06-02435_T  HTMCP-03-06-02437_T  HTMCP-03-06-02441_T  \\\n",
       "name                                                                   \n",
       "CASP8                    1                    0                    0   \n",
       "FAT1                     1                    0                    0   \n",
       "FBXW7                    6                    0                    0   \n",
       "MAPK1                    1                    0                    0   \n",
       "MUC17                    2                    0                    0   \n",
       "\n",
       "       HTMCP-03-06-02442_T  HTMCP-03-06-02447_T  \n",
       "name                                             \n",
       "CASP8                    0                    0  \n",
       "FAT1                     0                    0  \n",
       "FBXW7                    0                    0  \n",
       "MAPK1                    0                    0  \n",
       "MUC17                    1                    0  \n",
       "\n",
       "[5 rows x 118 columns]"
      ]
     },
     "execution_count": 192,
     "metadata": {},
     "output_type": "execute_result"
    }
   ],
   "source": [
    "f = '/projects/trans_scratch/validations/workspace/szong/Cervical/mutsig2cv/118_patients/per_gene.mutation_counts.txt'\n",
    "df = pd.read_csv(f, sep='\\t')\n",
    "df = df[df.name.isin(genes)].set_index('name')\n",
    "df = df[[i for i in df.columns if i.startswith('HTMCP')]]\n",
    "df.head()"
   ]
  },
  {
   "cell_type": "code",
   "execution_count": 197,
   "metadata": {},
   "outputs": [
    {
     "data": {
      "text/plain": [
       "name\n",
       "CASP8       10\n",
       "FAT1        23\n",
       "FBXW7       12\n",
       "MAPK1        8\n",
       "MUC17       24\n",
       "PCDHA9       3\n",
       "PCDHGA12     5\n",
       "PIK3CA      42\n",
       "PSPC1        7\n",
       "RBMXL1       5\n",
       "TAS2R43      6\n",
       "ZC3H6        4\n",
       "ZNF750       4\n",
       "dtype: int64"
      ]
     },
     "execution_count": 197,
     "metadata": {},
     "output_type": "execute_result"
    }
   ],
   "source": [
    "(df != 0).sum(axis=1)"
   ]
  },
  {
   "cell_type": "markdown",
   "metadata": {},
   "source": [
    "# was pik3ca mutation more common in older people?"
   ]
  },
  {
   "cell_type": "code",
   "execution_count": 222,
   "metadata": {},
   "outputs": [
    {
     "data": {
      "text/html": [
       "<div>\n",
       "<style scoped>\n",
       "    .dataframe tbody tr th:only-of-type {\n",
       "        vertical-align: middle;\n",
       "    }\n",
       "\n",
       "    .dataframe tbody tr th {\n",
       "        vertical-align: top;\n",
       "    }\n",
       "\n",
       "    .dataframe thead th {\n",
       "        text-align: right;\n",
       "    }\n",
       "</style>\n",
       "<table border=\"1\" class=\"dataframe\">\n",
       "  <thead>\n",
       "    <tr style=\"text-align: right;\">\n",
       "      <th></th>\n",
       "      <th>HTMCP-03-06-02075</th>\n",
       "      <th>HTMCP-03-06-02150</th>\n",
       "      <th>HTMCP-03-06-02182</th>\n",
       "      <th>HTMCP-03-06-02326</th>\n",
       "      <th>HTMCP-03-06-02203</th>\n",
       "      <th>HTMCP-03-06-02176</th>\n",
       "      <th>HTMCP-03-06-02047</th>\n",
       "      <th>HTMCP-03-06-02214</th>\n",
       "      <th>HTMCP-03-06-02063</th>\n",
       "      <th>HTMCP-03-06-02042</th>\n",
       "      <th>...</th>\n",
       "      <th>HTMCP-03-06-02225</th>\n",
       "      <th>HTMCP-03-06-02259</th>\n",
       "      <th>HTMCP-03-06-02330</th>\n",
       "      <th>HTMCP-03-06-02377</th>\n",
       "      <th>HTMCP-03-06-02393</th>\n",
       "      <th>HTMCP-03-06-02417</th>\n",
       "      <th>HTMCP-03-06-02424</th>\n",
       "      <th>HTMCP-03-06-02434</th>\n",
       "      <th>HTMCP-03-06-02437</th>\n",
       "      <th>HTMCP-03-06-02442</th>\n",
       "    </tr>\n",
       "    <tr>\n",
       "      <th>gene</th>\n",
       "      <th></th>\n",
       "      <th></th>\n",
       "      <th></th>\n",
       "      <th></th>\n",
       "      <th></th>\n",
       "      <th></th>\n",
       "      <th></th>\n",
       "      <th></th>\n",
       "      <th></th>\n",
       "      <th></th>\n",
       "      <th></th>\n",
       "      <th></th>\n",
       "      <th></th>\n",
       "      <th></th>\n",
       "      <th></th>\n",
       "      <th></th>\n",
       "      <th></th>\n",
       "      <th></th>\n",
       "      <th></th>\n",
       "      <th></th>\n",
       "      <th></th>\n",
       "    </tr>\n",
       "  </thead>\n",
       "  <tbody>\n",
       "    <tr>\n",
       "      <th>HIV_status</th>\n",
       "      <td>Negative</td>\n",
       "      <td>Negative</td>\n",
       "      <td>Negative</td>\n",
       "      <td>Negative</td>\n",
       "      <td>Negative</td>\n",
       "      <td>Negative</td>\n",
       "      <td>Negative</td>\n",
       "      <td>Negative</td>\n",
       "      <td>Negative</td>\n",
       "      <td>Negative</td>\n",
       "      <td>...</td>\n",
       "      <td>Positive</td>\n",
       "      <td>Positive</td>\n",
       "      <td>Positive</td>\n",
       "      <td>Unknown</td>\n",
       "      <td>Positive</td>\n",
       "      <td>Positive</td>\n",
       "      <td>Positive</td>\n",
       "      <td>Positive</td>\n",
       "      <td>Positive</td>\n",
       "      <td>Positive</td>\n",
       "    </tr>\n",
       "    <tr>\n",
       "      <th>Putative_histology</th>\n",
       "      <td>Adenocarcinoma</td>\n",
       "      <td>Adenocarcinoma</td>\n",
       "      <td>Adenosquamous</td>\n",
       "      <td>Adenosquamous</td>\n",
       "      <td>Adenosquamous</td>\n",
       "      <td>Adenosquamous</td>\n",
       "      <td>Neuroendocrine</td>\n",
       "      <td>Squamous</td>\n",
       "      <td>Squamous</td>\n",
       "      <td>Squamous</td>\n",
       "      <td>...</td>\n",
       "      <td>Squamous</td>\n",
       "      <td>Squamous</td>\n",
       "      <td>Squamous</td>\n",
       "      <td>Adenosquamous</td>\n",
       "      <td>Squamous</td>\n",
       "      <td>Squamous</td>\n",
       "      <td>Squamous</td>\n",
       "      <td>Squamous</td>\n",
       "      <td>Squamous</td>\n",
       "      <td>Adenosquamous</td>\n",
       "    </tr>\n",
       "    <tr>\n",
       "      <th>PIK3CA</th>\n",
       "      <td>Non-synonymous</td>\n",
       "      <td>NaN</td>\n",
       "      <td>NaN</td>\n",
       "      <td>NaN</td>\n",
       "      <td>Non-synonymous</td>\n",
       "      <td>NaN</td>\n",
       "      <td>Non-synonymous</td>\n",
       "      <td>Multi_hit</td>\n",
       "      <td>Multi_hit</td>\n",
       "      <td>Multi_hit</td>\n",
       "      <td>...</td>\n",
       "      <td>NaN</td>\n",
       "      <td>NaN</td>\n",
       "      <td>NaN</td>\n",
       "      <td>NaN</td>\n",
       "      <td>NaN</td>\n",
       "      <td>NaN</td>\n",
       "      <td>NaN</td>\n",
       "      <td>NaN</td>\n",
       "      <td>NaN</td>\n",
       "      <td>NaN</td>\n",
       "    </tr>\n",
       "  </tbody>\n",
       "</table>\n",
       "<p>3 rows × 118 columns</p>\n",
       "</div>"
      ],
      "text/plain": [
       "                   HTMCP-03-06-02075 HTMCP-03-06-02150 HTMCP-03-06-02182  \\\n",
       "gene                                                                       \n",
       "HIV_status                  Negative          Negative          Negative   \n",
       "Putative_histology    Adenocarcinoma    Adenocarcinoma     Adenosquamous   \n",
       "PIK3CA                Non-synonymous               NaN               NaN   \n",
       "\n",
       "                   HTMCP-03-06-02326 HTMCP-03-06-02203 HTMCP-03-06-02176  \\\n",
       "gene                                                                       \n",
       "HIV_status                  Negative          Negative          Negative   \n",
       "Putative_histology     Adenosquamous     Adenosquamous     Adenosquamous   \n",
       "PIK3CA                           NaN    Non-synonymous               NaN   \n",
       "\n",
       "                   HTMCP-03-06-02047 HTMCP-03-06-02214 HTMCP-03-06-02063  \\\n",
       "gene                                                                       \n",
       "HIV_status                  Negative          Negative          Negative   \n",
       "Putative_histology    Neuroendocrine          Squamous          Squamous   \n",
       "PIK3CA                Non-synonymous         Multi_hit         Multi_hit   \n",
       "\n",
       "                   HTMCP-03-06-02042  ... HTMCP-03-06-02225 HTMCP-03-06-02259  \\\n",
       "gene                                  ...                                       \n",
       "HIV_status                  Negative  ...          Positive          Positive   \n",
       "Putative_histology          Squamous  ...          Squamous          Squamous   \n",
       "PIK3CA                     Multi_hit  ...               NaN               NaN   \n",
       "\n",
       "                   HTMCP-03-06-02330 HTMCP-03-06-02377 HTMCP-03-06-02393  \\\n",
       "gene                                                                       \n",
       "HIV_status                  Positive           Unknown          Positive   \n",
       "Putative_histology          Squamous     Adenosquamous          Squamous   \n",
       "PIK3CA                           NaN               NaN               NaN   \n",
       "\n",
       "                   HTMCP-03-06-02417 HTMCP-03-06-02424 HTMCP-03-06-02434  \\\n",
       "gene                                                                       \n",
       "HIV_status                  Positive          Positive          Positive   \n",
       "Putative_histology          Squamous          Squamous          Squamous   \n",
       "PIK3CA                           NaN               NaN               NaN   \n",
       "\n",
       "                   HTMCP-03-06-02437 HTMCP-03-06-02442  \n",
       "gene                                                    \n",
       "HIV_status                  Positive          Positive  \n",
       "Putative_histology          Squamous     Adenosquamous  \n",
       "PIK3CA                           NaN               NaN  \n",
       "\n",
       "[3 rows x 118 columns]"
      ]
     },
     "execution_count": 222,
     "metadata": {},
     "output_type": "execute_result"
    }
   ],
   "source": [
    "f = '/projects/trans_scratch/validations/workspace/szong/Cervical/mutsig2cv/118_patients/smgs_reviewed_details_with_frequency_20190326.txt'\n",
    "df = pd.read_csv(f)#, usecols=['hiv_status', 'final_from_Jay_Reanne'])\n",
    "patients = [i for i in df.columns if i.startswith('HTMCP')] + ['percentage']\n",
    "df = df[patients]\n",
    "df['gene'] = df['percentage'].apply(lambda x: x.split('(')[0])\n",
    "df = df.drop('percentage', axis=1).set_index('gene')\n",
    "df.head(3)"
   ]
  },
  {
   "cell_type": "code",
   "execution_count": 229,
   "metadata": {},
   "outputs": [
    {
     "data": {
      "text/html": [
       "<div>\n",
       "<style scoped>\n",
       "    .dataframe tbody tr th:only-of-type {\n",
       "        vertical-align: middle;\n",
       "    }\n",
       "\n",
       "    .dataframe tbody tr th {\n",
       "        vertical-align: top;\n",
       "    }\n",
       "\n",
       "    .dataframe thead th {\n",
       "        text-align: right;\n",
       "    }\n",
       "</style>\n",
       "<table border=\"1\" class=\"dataframe\">\n",
       "  <thead>\n",
       "    <tr style=\"text-align: right;\">\n",
       "      <th>Patient</th>\n",
       "      <th>HTMCP-03-06-02001</th>\n",
       "      <th>HTMCP-03-06-02002</th>\n",
       "      <th>HTMCP-03-06-02003</th>\n",
       "      <th>HTMCP-03-06-02006</th>\n",
       "      <th>HTMCP-03-06-02008</th>\n",
       "      <th>HTMCP-03-06-02012</th>\n",
       "      <th>HTMCP-03-06-02013</th>\n",
       "      <th>HTMCP-03-06-02020</th>\n",
       "      <th>HTMCP-03-06-02036</th>\n",
       "      <th>HTMCP-03-06-02037</th>\n",
       "      <th>...</th>\n",
       "      <th>HTMCP-03-06-02417</th>\n",
       "      <th>HTMCP-03-06-02424</th>\n",
       "      <th>HTMCP-03-06-02427</th>\n",
       "      <th>HTMCP-03-06-02428</th>\n",
       "      <th>HTMCP-03-06-02434</th>\n",
       "      <th>HTMCP-03-06-02435</th>\n",
       "      <th>HTMCP-03-06-02437</th>\n",
       "      <th>HTMCP-03-06-02441</th>\n",
       "      <th>HTMCP-03-06-02442</th>\n",
       "      <th>HTMCP-03-06-02447</th>\n",
       "    </tr>\n",
       "  </thead>\n",
       "  <tbody>\n",
       "    <tr>\n",
       "      <th>Cohort</th>\n",
       "      <td>Discovery</td>\n",
       "      <td>Discovery</td>\n",
       "      <td>Discovery</td>\n",
       "      <td>Discovery</td>\n",
       "      <td>Discovery</td>\n",
       "      <td>Discovery</td>\n",
       "      <td>Discovery</td>\n",
       "      <td>Discovery</td>\n",
       "      <td>Discovery</td>\n",
       "      <td>Discovery</td>\n",
       "      <td>...</td>\n",
       "      <td>Discovery</td>\n",
       "      <td>Discovery</td>\n",
       "      <td>Discovery</td>\n",
       "      <td>Discovery</td>\n",
       "      <td>Discovery</td>\n",
       "      <td>Discovery</td>\n",
       "      <td>Discovery</td>\n",
       "      <td>Discovery</td>\n",
       "      <td>Discovery</td>\n",
       "      <td>Discovery</td>\n",
       "    </tr>\n",
       "    <tr>\n",
       "      <th>Age</th>\n",
       "      <td>56</td>\n",
       "      <td>62</td>\n",
       "      <td>39</td>\n",
       "      <td>34</td>\n",
       "      <td>61</td>\n",
       "      <td>54</td>\n",
       "      <td>50</td>\n",
       "      <td>39</td>\n",
       "      <td>54</td>\n",
       "      <td>78</td>\n",
       "      <td>...</td>\n",
       "      <td>60</td>\n",
       "      <td>35</td>\n",
       "      <td>43</td>\n",
       "      <td>57</td>\n",
       "      <td>31</td>\n",
       "      <td>38</td>\n",
       "      <td>36</td>\n",
       "      <td>48</td>\n",
       "      <td>45</td>\n",
       "      <td>59</td>\n",
       "    </tr>\n",
       "  </tbody>\n",
       "</table>\n",
       "<p>2 rows × 118 columns</p>\n",
       "</div>"
      ],
      "text/plain": [
       "Patient HTMCP-03-06-02001 HTMCP-03-06-02002 HTMCP-03-06-02003  \\\n",
       "Cohort          Discovery         Discovery         Discovery   \n",
       "Age                    56                62                39   \n",
       "\n",
       "Patient HTMCP-03-06-02006 HTMCP-03-06-02008 HTMCP-03-06-02012  \\\n",
       "Cohort          Discovery         Discovery         Discovery   \n",
       "Age                    34                61                54   \n",
       "\n",
       "Patient HTMCP-03-06-02013 HTMCP-03-06-02020 HTMCP-03-06-02036  \\\n",
       "Cohort          Discovery         Discovery         Discovery   \n",
       "Age                    50                39                54   \n",
       "\n",
       "Patient HTMCP-03-06-02037  ... HTMCP-03-06-02417 HTMCP-03-06-02424  \\\n",
       "Cohort          Discovery  ...         Discovery         Discovery   \n",
       "Age                    78  ...                60                35   \n",
       "\n",
       "Patient HTMCP-03-06-02427 HTMCP-03-06-02428 HTMCP-03-06-02434  \\\n",
       "Cohort          Discovery         Discovery         Discovery   \n",
       "Age                    43                57                31   \n",
       "\n",
       "Patient HTMCP-03-06-02435 HTMCP-03-06-02437 HTMCP-03-06-02441  \\\n",
       "Cohort          Discovery         Discovery         Discovery   \n",
       "Age                    38                36                48   \n",
       "\n",
       "Patient HTMCP-03-06-02442 HTMCP-03-06-02447  \n",
       "Cohort          Discovery         Discovery  \n",
       "Age                    45                59  \n",
       "\n",
       "[2 rows x 118 columns]"
      ]
     },
     "execution_count": 229,
     "metadata": {},
     "output_type": "execute_result"
    },
    {
     "data": {
      "text/plain": [
       "(2, 118)"
      ]
     },
     "execution_count": 229,
     "metadata": {},
     "output_type": "execute_result"
    }
   ],
   "source": [
    "f = '/projects/trans_scratch/validations/workspace/szong/Cervical/HTMCP_Cervical_Master_Patient_Table_V7_20190920.xlsx'\n",
    "df1 = pd.read_excel(f, usecols=['Age', 'Patient', 'Cohort']).set_index('Patient')\n",
    "df1 = df1[df1.Cohort=='Discovery'].T\n",
    "df1.head(2)\n",
    "df1.shape"
   ]
  },
  {
   "cell_type": "code",
   "execution_count": 232,
   "metadata": {},
   "outputs": [
    {
     "data": {
      "text/html": [
       "<div>\n",
       "<style scoped>\n",
       "    .dataframe tbody tr th:only-of-type {\n",
       "        vertical-align: middle;\n",
       "    }\n",
       "\n",
       "    .dataframe tbody tr th {\n",
       "        vertical-align: top;\n",
       "    }\n",
       "\n",
       "    .dataframe thead th {\n",
       "        text-align: right;\n",
       "    }\n",
       "</style>\n",
       "<table border=\"1\" class=\"dataframe\">\n",
       "  <thead>\n",
       "    <tr style=\"text-align: right;\">\n",
       "      <th></th>\n",
       "      <th>HTMCP-03-06-02075</th>\n",
       "      <th>HTMCP-03-06-02150</th>\n",
       "      <th>HTMCP-03-06-02182</th>\n",
       "      <th>HTMCP-03-06-02326</th>\n",
       "      <th>HTMCP-03-06-02203</th>\n",
       "      <th>HTMCP-03-06-02176</th>\n",
       "      <th>HTMCP-03-06-02047</th>\n",
       "      <th>HTMCP-03-06-02214</th>\n",
       "      <th>HTMCP-03-06-02063</th>\n",
       "      <th>HTMCP-03-06-02042</th>\n",
       "      <th>...</th>\n",
       "      <th>HTMCP-03-06-02225</th>\n",
       "      <th>HTMCP-03-06-02259</th>\n",
       "      <th>HTMCP-03-06-02330</th>\n",
       "      <th>HTMCP-03-06-02377</th>\n",
       "      <th>HTMCP-03-06-02393</th>\n",
       "      <th>HTMCP-03-06-02417</th>\n",
       "      <th>HTMCP-03-06-02424</th>\n",
       "      <th>HTMCP-03-06-02434</th>\n",
       "      <th>HTMCP-03-06-02437</th>\n",
       "      <th>HTMCP-03-06-02442</th>\n",
       "    </tr>\n",
       "  </thead>\n",
       "  <tbody>\n",
       "    <tr>\n",
       "      <th>HIV_status</th>\n",
       "      <td>Negative</td>\n",
       "      <td>Negative</td>\n",
       "      <td>Negative</td>\n",
       "      <td>Negative</td>\n",
       "      <td>Negative</td>\n",
       "      <td>Negative</td>\n",
       "      <td>Negative</td>\n",
       "      <td>Negative</td>\n",
       "      <td>Negative</td>\n",
       "      <td>Negative</td>\n",
       "      <td>...</td>\n",
       "      <td>Positive</td>\n",
       "      <td>Positive</td>\n",
       "      <td>Positive</td>\n",
       "      <td>Unknown</td>\n",
       "      <td>Positive</td>\n",
       "      <td>Positive</td>\n",
       "      <td>Positive</td>\n",
       "      <td>Positive</td>\n",
       "      <td>Positive</td>\n",
       "      <td>Positive</td>\n",
       "    </tr>\n",
       "    <tr>\n",
       "      <th>Putative_histology</th>\n",
       "      <td>Adenocarcinoma</td>\n",
       "      <td>Adenocarcinoma</td>\n",
       "      <td>Adenosquamous</td>\n",
       "      <td>Adenosquamous</td>\n",
       "      <td>Adenosquamous</td>\n",
       "      <td>Adenosquamous</td>\n",
       "      <td>Neuroendocrine</td>\n",
       "      <td>Squamous</td>\n",
       "      <td>Squamous</td>\n",
       "      <td>Squamous</td>\n",
       "      <td>...</td>\n",
       "      <td>Squamous</td>\n",
       "      <td>Squamous</td>\n",
       "      <td>Squamous</td>\n",
       "      <td>Adenosquamous</td>\n",
       "      <td>Squamous</td>\n",
       "      <td>Squamous</td>\n",
       "      <td>Squamous</td>\n",
       "      <td>Squamous</td>\n",
       "      <td>Squamous</td>\n",
       "      <td>Adenosquamous</td>\n",
       "    </tr>\n",
       "    <tr>\n",
       "      <th>PIK3CA</th>\n",
       "      <td>Non-synonymous</td>\n",
       "      <td>NaN</td>\n",
       "      <td>NaN</td>\n",
       "      <td>NaN</td>\n",
       "      <td>Non-synonymous</td>\n",
       "      <td>NaN</td>\n",
       "      <td>Non-synonymous</td>\n",
       "      <td>Multi_hit</td>\n",
       "      <td>Multi_hit</td>\n",
       "      <td>Multi_hit</td>\n",
       "      <td>...</td>\n",
       "      <td>NaN</td>\n",
       "      <td>NaN</td>\n",
       "      <td>NaN</td>\n",
       "      <td>NaN</td>\n",
       "      <td>NaN</td>\n",
       "      <td>NaN</td>\n",
       "      <td>NaN</td>\n",
       "      <td>NaN</td>\n",
       "      <td>NaN</td>\n",
       "      <td>NaN</td>\n",
       "    </tr>\n",
       "    <tr>\n",
       "      <th>Cohort</th>\n",
       "      <td>Discovery</td>\n",
       "      <td>Discovery</td>\n",
       "      <td>Discovery</td>\n",
       "      <td>Discovery</td>\n",
       "      <td>Discovery</td>\n",
       "      <td>Discovery</td>\n",
       "      <td>Discovery</td>\n",
       "      <td>Discovery</td>\n",
       "      <td>Discovery</td>\n",
       "      <td>Discovery</td>\n",
       "      <td>...</td>\n",
       "      <td>Discovery</td>\n",
       "      <td>Discovery</td>\n",
       "      <td>Discovery</td>\n",
       "      <td>Discovery</td>\n",
       "      <td>Discovery</td>\n",
       "      <td>Discovery</td>\n",
       "      <td>Discovery</td>\n",
       "      <td>Discovery</td>\n",
       "      <td>Discovery</td>\n",
       "      <td>Discovery</td>\n",
       "    </tr>\n",
       "    <tr>\n",
       "      <th>Age</th>\n",
       "      <td>54</td>\n",
       "      <td>28</td>\n",
       "      <td>57</td>\n",
       "      <td>39</td>\n",
       "      <td>65</td>\n",
       "      <td>54</td>\n",
       "      <td>47</td>\n",
       "      <td>57</td>\n",
       "      <td>62</td>\n",
       "      <td>82</td>\n",
       "      <td>...</td>\n",
       "      <td>47</td>\n",
       "      <td>32</td>\n",
       "      <td>42</td>\n",
       "      <td>48</td>\n",
       "      <td>33</td>\n",
       "      <td>60</td>\n",
       "      <td>35</td>\n",
       "      <td>31</td>\n",
       "      <td>36</td>\n",
       "      <td>45</td>\n",
       "    </tr>\n",
       "  </tbody>\n",
       "</table>\n",
       "<p>5 rows × 118 columns</p>\n",
       "</div>"
      ],
      "text/plain": [
       "                   HTMCP-03-06-02075 HTMCP-03-06-02150 HTMCP-03-06-02182  \\\n",
       "HIV_status                  Negative          Negative          Negative   \n",
       "Putative_histology    Adenocarcinoma    Adenocarcinoma     Adenosquamous   \n",
       "PIK3CA                Non-synonymous               NaN               NaN   \n",
       "Cohort                     Discovery         Discovery         Discovery   \n",
       "Age                               54                28                57   \n",
       "\n",
       "                   HTMCP-03-06-02326 HTMCP-03-06-02203 HTMCP-03-06-02176  \\\n",
       "HIV_status                  Negative          Negative          Negative   \n",
       "Putative_histology     Adenosquamous     Adenosquamous     Adenosquamous   \n",
       "PIK3CA                           NaN    Non-synonymous               NaN   \n",
       "Cohort                     Discovery         Discovery         Discovery   \n",
       "Age                               39                65                54   \n",
       "\n",
       "                   HTMCP-03-06-02047 HTMCP-03-06-02214 HTMCP-03-06-02063  \\\n",
       "HIV_status                  Negative          Negative          Negative   \n",
       "Putative_histology    Neuroendocrine          Squamous          Squamous   \n",
       "PIK3CA                Non-synonymous         Multi_hit         Multi_hit   \n",
       "Cohort                     Discovery         Discovery         Discovery   \n",
       "Age                               47                57                62   \n",
       "\n",
       "                   HTMCP-03-06-02042  ... HTMCP-03-06-02225 HTMCP-03-06-02259  \\\n",
       "HIV_status                  Negative  ...          Positive          Positive   \n",
       "Putative_histology          Squamous  ...          Squamous          Squamous   \n",
       "PIK3CA                     Multi_hit  ...               NaN               NaN   \n",
       "Cohort                     Discovery  ...         Discovery         Discovery   \n",
       "Age                               82  ...                47                32   \n",
       "\n",
       "                   HTMCP-03-06-02330 HTMCP-03-06-02377 HTMCP-03-06-02393  \\\n",
       "HIV_status                  Positive           Unknown          Positive   \n",
       "Putative_histology          Squamous     Adenosquamous          Squamous   \n",
       "PIK3CA                           NaN               NaN               NaN   \n",
       "Cohort                     Discovery         Discovery         Discovery   \n",
       "Age                               42                48                33   \n",
       "\n",
       "                   HTMCP-03-06-02417 HTMCP-03-06-02424 HTMCP-03-06-02434  \\\n",
       "HIV_status                  Positive          Positive          Positive   \n",
       "Putative_histology          Squamous          Squamous          Squamous   \n",
       "PIK3CA                           NaN               NaN               NaN   \n",
       "Cohort                     Discovery         Discovery         Discovery   \n",
       "Age                               60                35                31   \n",
       "\n",
       "                   HTMCP-03-06-02437 HTMCP-03-06-02442  \n",
       "HIV_status                  Positive          Positive  \n",
       "Putative_histology          Squamous     Adenosquamous  \n",
       "PIK3CA                           NaN               NaN  \n",
       "Cohort                     Discovery         Discovery  \n",
       "Age                               36                45  \n",
       "\n",
       "[5 rows x 118 columns]"
      ]
     },
     "execution_count": 232,
     "metadata": {},
     "output_type": "execute_result"
    }
   ],
   "source": [
    "df2 = pd.concat([df.head(3), df1], sort=False)\n",
    "df2.head()"
   ]
  },
  {
   "cell_type": "code",
   "execution_count": 234,
   "metadata": {},
   "outputs": [
    {
     "data": {
      "text/html": [
       "<div>\n",
       "<style scoped>\n",
       "    .dataframe tbody tr th:only-of-type {\n",
       "        vertical-align: middle;\n",
       "    }\n",
       "\n",
       "    .dataframe tbody tr th {\n",
       "        vertical-align: top;\n",
       "    }\n",
       "\n",
       "    .dataframe thead th {\n",
       "        text-align: right;\n",
       "    }\n",
       "</style>\n",
       "<table border=\"1\" class=\"dataframe\">\n",
       "  <thead>\n",
       "    <tr style=\"text-align: right;\">\n",
       "      <th></th>\n",
       "      <th>HIV_status</th>\n",
       "      <th>Putative_histology</th>\n",
       "      <th>PIK3CA</th>\n",
       "      <th>Cohort</th>\n",
       "      <th>Age</th>\n",
       "    </tr>\n",
       "  </thead>\n",
       "  <tbody>\n",
       "    <tr>\n",
       "      <th>HTMCP-03-06-02075</th>\n",
       "      <td>Negative</td>\n",
       "      <td>Adenocarcinoma</td>\n",
       "      <td>Non-synonymous</td>\n",
       "      <td>Discovery</td>\n",
       "      <td>54</td>\n",
       "    </tr>\n",
       "    <tr>\n",
       "      <th>HTMCP-03-06-02150</th>\n",
       "      <td>Negative</td>\n",
       "      <td>Adenocarcinoma</td>\n",
       "      <td>NaN</td>\n",
       "      <td>Discovery</td>\n",
       "      <td>28</td>\n",
       "    </tr>\n",
       "  </tbody>\n",
       "</table>\n",
       "</div>"
      ],
      "text/plain": [
       "                  HIV_status Putative_histology          PIK3CA     Cohort Age\n",
       "HTMCP-03-06-02075   Negative     Adenocarcinoma  Non-synonymous  Discovery  54\n",
       "HTMCP-03-06-02150   Negative     Adenocarcinoma             NaN  Discovery  28"
      ]
     },
     "execution_count": 234,
     "metadata": {},
     "output_type": "execute_result"
    }
   ],
   "source": [
    "df3 = df2.T\n",
    "df3.head(2)"
   ]
  },
  {
   "cell_type": "code",
   "execution_count": 248,
   "metadata": {},
   "outputs": [
    {
     "data": {
      "text/plain": [
       "(76, 41, 43.0, 52.0)"
      ]
     },
     "execution_count": 248,
     "metadata": {},
     "output_type": "execute_result"
    }
   ],
   "source": [
    "wt = df3[df3.PIK3CA.isna()]['Age'].dropna()#.median()\n",
    "mut = df3[~df3.PIK3CA.isna()]['Age'].dropna()#.median()\n",
    "len(wt), len(mut), wt.median(), mut.median()"
   ]
  },
  {
   "cell_type": "code",
   "execution_count": 247,
   "metadata": {},
   "outputs": [
    {
     "data": {
      "text/plain": [
       "Ttest_indResult(statistic=-3.8058618801807538, pvalue=0.00022814380875376208)"
      ]
     },
     "execution_count": 247,
     "metadata": {},
     "output_type": "execute_result"
    }
   ],
   "source": [
    "from scipy.stats import ttest_ind\n",
    "ttest_ind(wt, mut)"
   ]
  },
  {
   "cell_type": "markdown",
   "metadata": {},
   "source": [
    "# copy number"
   ]
  },
  {
   "cell_type": "markdown",
   "metadata": {},
   "source": [
    "we binned the genome into 1kb segments and calculated the fraction of patients having copy number gain (>0.1) or loss (<-0.1) based on the mean segment values in the segmentation file for each cohort.\n",
    "\n",
    " How do the results compare with the GISTIC outputs “broad_significance_results” and “broad_values_by arm”?"
   ]
  }
 ],
 "metadata": {
  "kernelspec": {
   "display_name": "Python 3",
   "language": "python",
   "name": "python3"
  },
  "language_info": {
   "codemirror_mode": {
    "name": "ipython",
    "version": 3
   },
   "file_extension": ".py",
   "mimetype": "text/x-python",
   "name": "python",
   "nbconvert_exporter": "python",
   "pygments_lexer": "ipython3",
   "version": "3.7.3"
  }
 },
 "nbformat": 4,
 "nbformat_minor": 2
}
