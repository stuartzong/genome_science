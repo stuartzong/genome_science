{
 "cells": [
  {
   "cell_type": "markdown",
   "metadata": {
    "collapsed": true
   },
   "source": [
    "analyze NCI cervical cnv results"
   ]
  },
  {
   "cell_type": "code",
   "execution_count": 69,
   "metadata": {},
   "outputs": [],
   "source": [
    "# import csv\n",
    "import matplotlib\n",
    "# import seaborn\n",
    "import seaborn as sns\n",
    "import numpy as np\n",
    "import pandas as pd\n",
    "import matplotlib.pyplot as plt\n",
    "# from scipy.stats import ttest_ind\n",
    "# import scipy.stats as stats\n",
    "# import scipy.stats as ss\n",
    "# from matplotlib import style\n",
    "# import matplotlib.gridspec as gridspec\n",
    "# import matplotlib.patches as patches\n",
    "matplotlib.style.use('ggplot')\n",
    "%matplotlib inline\n",
    "matplotlib.rcParams['figure.figsize'] = (6, 4)\n",
    "from adjustText import adjust_text\n",
    "import sys\n",
    "sys.path.append('/projects/trans_scratch/validations/workspace/szong/Cervical/notebook')\n",
    "import sz_toolbox as szt\n",
    "\n",
    "\n",
    "# from sklearn.decomposition import RandomizedPCA, PCA, TruncatedSVD\n",
    "# from sklearn.linear_model import LogisticRegression\n",
    "# from sklearn.manifold import TSNE\n",
    "# from sklearn.preprocessing import StandardScaler\n",
    "\n",
    "from IPython.core.interactiveshell import InteractiveShell\n",
    "InteractiveShell.ast_node_interactivity = \"all\""
   ]
  },
  {
   "cell_type": "markdown",
   "metadata": {},
   "source": [
    "reference paper: https://www.sciencedirect.com/science/article/pii/S1535610819300960#fig1\n",
    "\n",
    "definition of gain, amplification, loss, and deletion:\n",
    "\n",
    "(C) Known cancer-related genes located in significant GISTIC peaks with residual q < 1 × 10−4 (amplification, gain, neutral, loss, and deletion were defined as GISTIC +2, +1, 0, −1, and −2, respectively).\n",
    "\n",
    "(A–C) Asterisks indicate associations with mRNA subtypes (intrinsic subtype, ASCAT ploidy, lymph node status, and somatic copy-number alterations were tested using Pearson's chi-square test; ASCAT purity and homologous recombination deficiency [HRD] score were tested using the Kruskal-Wallis test; age at surgery was tested using analysis of variance; apocrine differentiation and somatic mutations were tested using Fisher's exact test. ∗∗p < 0.01, ∗p < 0.05).\n",
    "\n",
    "To assess somatic copy number alterations (CNAs), reported oncogenes and tumor suppressor genes observed in the top rank (residual q < 1 × 10−4) GISTIC peaks were examined \n",
    "\n",
    " GISTIC2.0 was run with the following parameters changed from the default settings (-ta 0.2 -td 0.2 -genegistic 1 -smallmem 1 -broad 1 -conf 0.95 -rx 0 –brlen 0.7 -cap 3.5 –armpeel 1)."
   ]
  },
  {
   "cell_type": "markdown",
   "metadata": {},
   "source": [
    "### Starting here 20190401\n",
    "\n",
    "* look at only cytoband level at this point, do not break down to individual gene. \n",
    "* verify if the markerfile used is ok. They differ in number of probes for 3 separate runs: hiv+ /-/tcga. should i use the same markerfile for these 3 runs.\n",
    "* I believe the markerfile at least affect the segment count, which resulted in the elimination of 2 patients in the run including all 118 patients.\n",
    "* i think i will need to use the same marker file for all three runs. The markers file identifies the marker positions used in the original dataset (before segmentation) for array or capture experiments. This is not just the segment start and end position.\n",
    "* tcga used a slightly different marker file. snp6 + tcga start/end positions"
   ]
  },
  {
   "cell_type": "code",
   "execution_count": 119,
   "metadata": {},
   "outputs": [],
   "source": [
    "root = '/projects/trans_scratch/validations/workspace/szong/Cervical/cnv/gatk_cnv/'\n",
    "# outputdir = '/projects/trans_scratch/validations/workspace/szong/Cervical/cnv/gatk_cnv/shared_uniq_genes/'\n",
    "oncogenef = '/home/szong/projects/resource/KB_280_oncogenes_and_tumour_suppressors.txt'\n",
    "gistdir = '/home/szong/bin/GISTIC_2_0_22/'\n",
    "runs = ['gatk_118_HIV_pos', 'gatk_118_HIV_neg', 'tcga']\n",
    "alterations = ['amp', 'del']"
   ]
  },
  {
   "cell_type": "code",
   "execution_count": 110,
   "metadata": {},
   "outputs": [
    {
     "data": {
      "text/plain": [
       "['A1CF', 'ABI1']"
      ]
     },
     "execution_count": 110,
     "metadata": {},
     "output_type": "execute_result"
    },
    {
     "data": {
      "text/plain": [
       "778"
      ]
     },
     "execution_count": 110,
     "metadata": {},
     "output_type": "execute_result"
    }
   ],
   "source": [
    "# get list of oncogenes and tumour suppressors\n",
    "tgs = pd.read_csv(oncogenef, header=None)[0].tolist()\n",
    "tgs[:2]\n",
    "len(tgs)"
   ]
  },
  {
   "cell_type": "markdown",
   "metadata": {},
   "source": [
    "### 1. reformat gistic output"
   ]
  },
  {
   "cell_type": "code",
   "execution_count": 111,
   "metadata": {},
   "outputs": [],
   "source": [
    "def summarize_genes(inf, tgs):\n",
    "    df = pd.read_csv(inf, sep='\\t', header=None)#.replace('', 'None')\n",
    "#     file_name = inf.split('/')[-1]\n",
    "#     print(df)\n",
    "    df.loc['genes',:] = df.apply(lambda x:  ','.join([i.strip() for i in set(x[~x.isnull()][4:]) if ('[' not in i)]))\n",
    "    df.loc['tg_genes',:] = df.apply(lambda x:  ','.join([m.strip() for m in set(x[~x.isnull()][4:]) if m in tgs]))\n",
    "    df1 = df.loc[[0,1,2,3,'genes', 'tg_genes'],:].T\n",
    "    df1['xxx'] = df1.genes.apply(lambda x: x.split(','))\n",
    "#     '' in the list when there is a blank in the original files, must have a better way to deal with this\n",
    "    df1['num_genes'] = df1['xxx'].apply(lambda x: len(x) if '' not in x else len(x)-1)\n",
    "    df1 = df1.drop('xxx', axis=1)\n",
    "    df1 = df1.drop(0)\n",
    "    df1 = df1[:-1]\n",
    "    df1.columns = ['cytoband', 'q_value', 'residual_q_value', 'wide_peak_boundary', 'genes_in_wide_peak','oncogenes','num_genes']\n",
    "#     df1['cancer_genes'] = df1.apply(lambda x: '({0}){1}'.format(x[4], x[5]), axis=1)\n",
    "    of = f'{inf}.summary'\n",
    "    print('write summary to: ', of)\n",
    "    df1.to_csv(of, index=False, sep='\\t')\n",
    "    return df1"
   ]
  },
  {
   "cell_type": "code",
   "execution_count": 112,
   "metadata": {},
   "outputs": [],
   "source": [
    "def get_qvalue_cytoband(f):\n",
    "    df = pd.read_csv(f, sep='\\t')\n",
    "    df.columns = ['cytoband', 'q_value', 'residual_q_value', 'chrom', 'wide_peak_boundary', 'genes_in_wide_peak','oncogenes','num_genes']\n",
    "#     print(df.head(2), df.shape, df.columns)\n",
    "    df['gene'] = df['genes_in_wide_peak']#.apply(lambda x: x.split(',')[0])\n",
    "    df = df[['q_value','cytoband', 'gene']]\n",
    "    df = df[df.gene != '']\n",
    "    s = df[\"gene\"].str.split(',', expand=True).stack()\n",
    "    i = s.index.get_level_values(0)\n",
    "    df2 = df.loc[i].copy()\n",
    "    df2[\"gene\"] = s.values\n",
    "    return df2"
   ]
  },
  {
   "cell_type": "code",
   "execution_count": 120,
   "metadata": {},
   "outputs": [
    {
     "name": "stdout",
     "output_type": "stream",
     "text": [
      "write summary to:  /home/szong/bin/GISTIC_2_0_22/gatk_118_HIV_pos/amp_genes.conf_99.txt.summary\n",
      "write summary to:  /home/szong/bin/GISTIC_2_0_22/gatk_118_HIV_neg/amp_genes.conf_99.txt.summary\n",
      "write summary to:  /home/szong/bin/GISTIC_2_0_22/tcga/amp_genes.conf_99.txt.summary\n",
      "write summary to:  /home/szong/bin/GISTIC_2_0_22/gatk_118_HIV_pos/del_genes.conf_99.txt.summary\n",
      "write summary to:  /home/szong/bin/GISTIC_2_0_22/gatk_118_HIV_neg/del_genes.conf_99.txt.summary\n",
      "write summary to:  /home/szong/bin/GISTIC_2_0_22/tcga/del_genes.conf_99.txt.summary\n"
     ]
    }
   ],
   "source": [
    "for alter in alterations:\n",
    "    for run in runs:\n",
    "#         print(f'{gistdir}{run}/{alter}_genes.conf_99.txt')\n",
    "        f = f'{gistdir}{run}/{alter}_genes.conf_99.txt'\n",
    "        df = summarize_genes(f, tgs)\n",
    "#         df.shape\n",
    "#         break"
   ]
  },
  {
   "cell_type": "code",
   "execution_count": null,
   "metadata": {},
   "outputs": [],
   "source": []
  },
  {
   "cell_type": "markdown",
   "metadata": {},
   "source": [
    "### 2. parse conf_99 files"
   ]
  },
  {
   "cell_type": "code",
   "execution_count": 115,
   "metadata": {},
   "outputs": [],
   "source": [
    "def get_cytobands(f):\n",
    "    df = pd.read_csv(f, sep='\\t')\n",
    "    df = df.iloc[:,[0,1,5,6]]\n",
    "    df.columns = ['cytoband', 'q_value', 'oncogenes', 'num_genes']\n",
    "    return df"
   ]
  },
  {
   "cell_type": "code",
   "execution_count": 121,
   "metadata": {},
   "outputs": [
    {
     "data": {
      "text/html": [
       "<div>\n",
       "<style scoped>\n",
       "    .dataframe tbody tr th:only-of-type {\n",
       "        vertical-align: middle;\n",
       "    }\n",
       "\n",
       "    .dataframe tbody tr th {\n",
       "        vertical-align: top;\n",
       "    }\n",
       "\n",
       "    .dataframe thead th {\n",
       "        text-align: right;\n",
       "    }\n",
       "</style>\n",
       "<table border=\"1\" class=\"dataframe\">\n",
       "  <thead>\n",
       "    <tr style=\"text-align: right;\">\n",
       "      <th></th>\n",
       "      <th>cytoband</th>\n",
       "      <th>q_value</th>\n",
       "      <th>oncogenes</th>\n",
       "      <th>num_genes</th>\n",
       "    </tr>\n",
       "  </thead>\n",
       "  <tbody>\n",
       "    <tr>\n",
       "      <th>0</th>\n",
       "      <td>11q22.2</td>\n",
       "      <td>6.734800e-09</td>\n",
       "      <td>BIRC3,YAP1</td>\n",
       "      <td>7</td>\n",
       "    </tr>\n",
       "    <tr>\n",
       "      <th>1</th>\n",
       "      <td>8q24.21</td>\n",
       "      <td>7.315600e-04</td>\n",
       "      <td>NaN</td>\n",
       "      <td>0</td>\n",
       "    </tr>\n",
       "  </tbody>\n",
       "</table>\n",
       "</div>"
      ],
      "text/plain": [
       "  cytoband       q_value   oncogenes  num_genes\n",
       "0  11q22.2  6.734800e-09  BIRC3,YAP1          7\n",
       "1  8q24.21  7.315600e-04         NaN          0"
      ]
     },
     "execution_count": 121,
     "metadata": {},
     "output_type": "execute_result"
    },
    {
     "data": {
      "text/html": [
       "<div>\n",
       "<style scoped>\n",
       "    .dataframe tbody tr th:only-of-type {\n",
       "        vertical-align: middle;\n",
       "    }\n",
       "\n",
       "    .dataframe tbody tr th {\n",
       "        vertical-align: top;\n",
       "    }\n",
       "\n",
       "    .dataframe thead th {\n",
       "        text-align: right;\n",
       "    }\n",
       "</style>\n",
       "<table border=\"1\" class=\"dataframe\">\n",
       "  <thead>\n",
       "    <tr style=\"text-align: right;\">\n",
       "      <th></th>\n",
       "      <th>cytoband</th>\n",
       "      <th>q_value</th>\n",
       "      <th>oncogenes</th>\n",
       "      <th>num_genes</th>\n",
       "    </tr>\n",
       "  </thead>\n",
       "  <tbody>\n",
       "    <tr>\n",
       "      <th>0</th>\n",
       "      <td>2q22.1</td>\n",
       "      <td>9.596400e-16</td>\n",
       "      <td>LRP1B</td>\n",
       "      <td>1</td>\n",
       "    </tr>\n",
       "    <tr>\n",
       "      <th>1</th>\n",
       "      <td>19p13.3</td>\n",
       "      <td>1.422000e-10</td>\n",
       "      <td>STK11</td>\n",
       "      <td>3</td>\n",
       "    </tr>\n",
       "  </tbody>\n",
       "</table>\n",
       "</div>"
      ],
      "text/plain": [
       "  cytoband       q_value oncogenes  num_genes\n",
       "0   2q22.1  9.596400e-16     LRP1B          1\n",
       "1  19p13.3  1.422000e-10     STK11          3"
      ]
     },
     "execution_count": 121,
     "metadata": {},
     "output_type": "execute_result"
    }
   ],
   "source": [
    "# HIV +\n",
    "pos_amp_file = '/home/szong/bin/GISTIC_2_0_22/gatk_118_HIV_pos/amp_genes.conf_99.txt.summary'\n",
    "pos_del_file = '/home/szong/bin/GISTIC_2_0_22/gatk_118_HIV_pos/del_genes.conf_99.txt.summary'\n",
    "pos_amps = get_cytobands(pos_amp_file)\n",
    "pos_amps.head(2)\n",
    "pos_dels = get_cytobands(pos_del_file)\n",
    "pos_dels.head(2)"
   ]
  },
  {
   "cell_type": "code",
   "execution_count": 122,
   "metadata": {},
   "outputs": [
    {
     "data": {
      "text/html": [
       "<div>\n",
       "<style scoped>\n",
       "    .dataframe tbody tr th:only-of-type {\n",
       "        vertical-align: middle;\n",
       "    }\n",
       "\n",
       "    .dataframe tbody tr th {\n",
       "        vertical-align: top;\n",
       "    }\n",
       "\n",
       "    .dataframe thead th {\n",
       "        text-align: right;\n",
       "    }\n",
       "</style>\n",
       "<table border=\"1\" class=\"dataframe\">\n",
       "  <thead>\n",
       "    <tr style=\"text-align: right;\">\n",
       "      <th></th>\n",
       "      <th>cytoband</th>\n",
       "      <th>q_value</th>\n",
       "      <th>oncogenes</th>\n",
       "      <th>num_genes</th>\n",
       "    </tr>\n",
       "  </thead>\n",
       "  <tbody>\n",
       "    <tr>\n",
       "      <th>0</th>\n",
       "      <td>11q22.1</td>\n",
       "      <td>0.000573</td>\n",
       "      <td>BIRC3,YAP1</td>\n",
       "      <td>21</td>\n",
       "    </tr>\n",
       "    <tr>\n",
       "      <th>1</th>\n",
       "      <td>3q28</td>\n",
       "      <td>0.000039</td>\n",
       "      <td>MECOM,IGF2BP2,SOX2,MUC4,KLHL6,MAP3K13,PRKCI,PI...</td>\n",
       "      <td>234</td>\n",
       "    </tr>\n",
       "  </tbody>\n",
       "</table>\n",
       "</div>"
      ],
      "text/plain": [
       "  cytoband   q_value                                          oncogenes  \\\n",
       "0  11q22.1  0.000573                                         BIRC3,YAP1   \n",
       "1     3q28  0.000039  MECOM,IGF2BP2,SOX2,MUC4,KLHL6,MAP3K13,PRKCI,PI...   \n",
       "\n",
       "   num_genes  \n",
       "0         21  \n",
       "1        234  "
      ]
     },
     "execution_count": 122,
     "metadata": {},
     "output_type": "execute_result"
    },
    {
     "data": {
      "text/html": [
       "<div>\n",
       "<style scoped>\n",
       "    .dataframe tbody tr th:only-of-type {\n",
       "        vertical-align: middle;\n",
       "    }\n",
       "\n",
       "    .dataframe tbody tr th {\n",
       "        vertical-align: top;\n",
       "    }\n",
       "\n",
       "    .dataframe thead th {\n",
       "        text-align: right;\n",
       "    }\n",
       "</style>\n",
       "<table border=\"1\" class=\"dataframe\">\n",
       "  <thead>\n",
       "    <tr style=\"text-align: right;\">\n",
       "      <th></th>\n",
       "      <th>cytoband</th>\n",
       "      <th>q_value</th>\n",
       "      <th>oncogenes</th>\n",
       "      <th>num_genes</th>\n",
       "    </tr>\n",
       "  </thead>\n",
       "  <tbody>\n",
       "    <tr>\n",
       "      <th>0</th>\n",
       "      <td>21p11.2</td>\n",
       "      <td>5.576100e-09</td>\n",
       "      <td>NaN</td>\n",
       "      <td>16</td>\n",
       "    </tr>\n",
       "    <tr>\n",
       "      <th>1</th>\n",
       "      <td>9p24.1</td>\n",
       "      <td>1.789600e-07</td>\n",
       "      <td>CD274,PDCD1LG2</td>\n",
       "      <td>4</td>\n",
       "    </tr>\n",
       "  </tbody>\n",
       "</table>\n",
       "</div>"
      ],
      "text/plain": [
       "  cytoband       q_value       oncogenes  num_genes\n",
       "0  21p11.2  5.576100e-09             NaN         16\n",
       "1   9p24.1  1.789600e-07  CD274,PDCD1LG2          4"
      ]
     },
     "execution_count": 122,
     "metadata": {},
     "output_type": "execute_result"
    }
   ],
   "source": [
    "# HIV -\n",
    "neg_amp_file = '/home/szong/bin/GISTIC_2_0_22/gatk_118_HIV_neg/amp_genes.conf_99.txt.summary'\n",
    "neg_del_file = '/home/szong/bin/GISTIC_2_0_22/gatk_118_HIV_neg/del_genes.conf_99.txt.summary'\n",
    "neg_amps = get_cytobands(neg_amp_file)\n",
    "neg_amps.head(2)\n",
    "neg_dels = get_cytobands(neg_del_file)\n",
    "neg_dels.head(2)"
   ]
  },
  {
   "cell_type": "code",
   "execution_count": 123,
   "metadata": {
    "scrolled": true
   },
   "outputs": [
    {
     "data": {
      "text/html": [
       "<div>\n",
       "<style scoped>\n",
       "    .dataframe tbody tr th:only-of-type {\n",
       "        vertical-align: middle;\n",
       "    }\n",
       "\n",
       "    .dataframe tbody tr th {\n",
       "        vertical-align: top;\n",
       "    }\n",
       "\n",
       "    .dataframe thead th {\n",
       "        text-align: right;\n",
       "    }\n",
       "</style>\n",
       "<table border=\"1\" class=\"dataframe\">\n",
       "  <thead>\n",
       "    <tr style=\"text-align: right;\">\n",
       "      <th></th>\n",
       "      <th>cytoband</th>\n",
       "      <th>q_value</th>\n",
       "      <th>oncogenes</th>\n",
       "      <th>num_genes</th>\n",
       "    </tr>\n",
       "  </thead>\n",
       "  <tbody>\n",
       "    <tr>\n",
       "      <th>0</th>\n",
       "      <td>11q22.1</td>\n",
       "      <td>1.389600e-25</td>\n",
       "      <td>BIRC3,YAP1</td>\n",
       "      <td>7</td>\n",
       "    </tr>\n",
       "    <tr>\n",
       "      <th>1</th>\n",
       "      <td>3q26.31</td>\n",
       "      <td>1.183600e-13</td>\n",
       "      <td>NaN</td>\n",
       "      <td>3</td>\n",
       "    </tr>\n",
       "  </tbody>\n",
       "</table>\n",
       "</div>"
      ],
      "text/plain": [
       "  cytoband       q_value   oncogenes  num_genes\n",
       "0  11q22.1  1.389600e-25  BIRC3,YAP1          7\n",
       "1  3q26.31  1.183600e-13         NaN          3"
      ]
     },
     "execution_count": 123,
     "metadata": {},
     "output_type": "execute_result"
    },
    {
     "data": {
      "text/html": [
       "<div>\n",
       "<style scoped>\n",
       "    .dataframe tbody tr th:only-of-type {\n",
       "        vertical-align: middle;\n",
       "    }\n",
       "\n",
       "    .dataframe tbody tr th {\n",
       "        vertical-align: top;\n",
       "    }\n",
       "\n",
       "    .dataframe thead th {\n",
       "        text-align: right;\n",
       "    }\n",
       "</style>\n",
       "<table border=\"1\" class=\"dataframe\">\n",
       "  <thead>\n",
       "    <tr style=\"text-align: right;\">\n",
       "      <th></th>\n",
       "      <th>cytoband</th>\n",
       "      <th>q_value</th>\n",
       "      <th>oncogenes</th>\n",
       "      <th>num_genes</th>\n",
       "    </tr>\n",
       "  </thead>\n",
       "  <tbody>\n",
       "    <tr>\n",
       "      <th>0</th>\n",
       "      <td>2q37.1</td>\n",
       "      <td>1.683100e-25</td>\n",
       "      <td>CUL3,PAX3,HDAC4,IRS1</td>\n",
       "      <td>191</td>\n",
       "    </tr>\n",
       "    <tr>\n",
       "      <th>1</th>\n",
       "      <td>11q25</td>\n",
       "      <td>2.064600e-15</td>\n",
       "      <td>KCNJ5,ETS1,PAFAH1B2,CHEK1,CBL,FOXR1,PCSK7,DDX6...</td>\n",
       "      <td>201</td>\n",
       "    </tr>\n",
       "  </tbody>\n",
       "</table>\n",
       "</div>"
      ],
      "text/plain": [
       "  cytoband       q_value                                          oncogenes  \\\n",
       "0   2q37.1  1.683100e-25                               CUL3,PAX3,HDAC4,IRS1   \n",
       "1    11q25  2.064600e-15  KCNJ5,ETS1,PAFAH1B2,CHEK1,CBL,FOXR1,PCSK7,DDX6...   \n",
       "\n",
       "   num_genes  \n",
       "0        191  \n",
       "1        201  "
      ]
     },
     "execution_count": 123,
     "metadata": {},
     "output_type": "execute_result"
    }
   ],
   "source": [
    "# TCGA\n",
    "tcga_amp_file = '/home/szong/bin/GISTIC_2_0_22/tcga/amp_genes.conf_99.txt.summary'\n",
    "tcga_del_file = '/home/szong/bin/GISTIC_2_0_22/tcga/del_genes.conf_99.txt.summary'\n",
    "tcga_amps = get_cytobands(tcga_amp_file)\n",
    "tcga_amps.head(2)\n",
    "tcga_dels = get_cytobands(tcga_del_file)\n",
    "tcga_dels.head(2)"
   ]
  },
  {
   "cell_type": "markdown",
   "metadata": {},
   "source": [
    "### 2. summarize cytobands"
   ]
  },
  {
   "cell_type": "code",
   "execution_count": 124,
   "metadata": {},
   "outputs": [],
   "source": [
    "def merge_qvalues(df1, df2):\n",
    "    df = pd.merge(df1, df2, left_on='cytoband', right_on='cytoband', how='outer')#.fillna(1)\n",
    "    new_cols = pd.Series(df.columns.tolist()).str.replace('_x', '_hiv+').str.replace('_y', '_hiv-')\n",
    "    df.columns = new_cols\n",
    "    df = df.drop_duplicates(subset='cytoband', keep='last')\n",
    "    df['cytoband'].nunique()\n",
    "    df['q_value_hiv+'] = df['q_value_hiv+'].fillna(1)\n",
    "    df['q_value_hiv-'] = df['q_value_hiv-'].fillna(1)\n",
    "    df['hiv+q(-log10)'] = -np.log10(df['q_value_hiv+'])\n",
    "    df['hiv-q(-log10)'] = -np.log10(df['q_value_hiv-'])\n",
    "    # df['num_genes_hiv+'] = df['num_genes_hiv+'].fillna(0).astype(int)\n",
    "    # df['num_genes_hiv-'] = df['num_genes_hiv-'].fillna(0).astype(int)\n",
    "    # df['oncogenes_hiv+'] = df['oncogenes_hiv+'].fillna('None')\n",
    "    # df['oncogenes_hiv-'] = df['oncogenes_hiv-'].fillna('None')\n",
    "    return df"
   ]
  },
  {
   "cell_type": "code",
   "execution_count": 125,
   "metadata": {},
   "outputs": [],
   "source": [
    "htmcp_amps = merge_qvalues(pos_amps, neg_amps)\n",
    "cnvdir = '/projects/trans_scratch/validations/workspace/szong/Cervical/cnv/'\n",
    "of = f'{cnvdir}amps_cytoband_qvalue_comparison_hiv_pos_vs_neg.csv'\n",
    "htmcp_amps.to_csv(of, index=False)\n",
    "\n",
    "htmcp_dels = merge_qvalues(pos_dels, neg_dels)\n",
    "\n",
    "of = f'{cnvdir}dels_cytoband_qvalue_comparison_hiv_pos_vs_neg.csv'\n",
    "htmcp_dels.to_csv(of, index=False)\n",
    "\n",
    "tcga_amps = merge_qvalues(tcga_amps, neg_amps)\n",
    "\n",
    "of = f'{cnvdir}amps_cytoband_qvalue_comparison_tcga_vs_neg.csv'\n",
    "tcga_amps.to_csv(of, index=False)\n",
    "\n",
    "tcga_dels = merge_qvalues(tcga_dels, neg_dels)\n",
    "\n",
    "of = f'{cnvdir}dels_cytoband_qvalue_comparison_tcga_vs_neg.csv'\n",
    "tcga_dels.to_csv(of, index=False)"
   ]
  },
  {
   "cell_type": "code",
   "execution_count": 107,
   "metadata": {},
   "outputs": [
    {
     "data": {
      "text/html": [
       "<div>\n",
       "<style scoped>\n",
       "    .dataframe tbody tr th:only-of-type {\n",
       "        vertical-align: middle;\n",
       "    }\n",
       "\n",
       "    .dataframe tbody tr th {\n",
       "        vertical-align: top;\n",
       "    }\n",
       "\n",
       "    .dataframe thead th {\n",
       "        text-align: right;\n",
       "    }\n",
       "</style>\n",
       "<table border=\"1\" class=\"dataframe\">\n",
       "  <thead>\n",
       "    <tr style=\"text-align: right;\">\n",
       "      <th></th>\n",
       "      <th>cytoband</th>\n",
       "      <th>q_value_hiv+</th>\n",
       "      <th>oncogenes_hiv+</th>\n",
       "      <th>num_genes_hiv+</th>\n",
       "      <th>q_value_hiv-</th>\n",
       "      <th>oncogenes_hiv-</th>\n",
       "      <th>num_genes_hiv-</th>\n",
       "      <th>hiv+q(-log10)</th>\n",
       "      <th>hiv-q(-log10)</th>\n",
       "    </tr>\n",
       "  </thead>\n",
       "  <tbody>\n",
       "    <tr>\n",
       "      <th>0</th>\n",
       "      <td>11q22.1</td>\n",
       "      <td>3.544700e-09</td>\n",
       "      <td>BIRC3,YAP1</td>\n",
       "      <td>7.0</td>\n",
       "      <td>0.001928</td>\n",
       "      <td>BIRC3,YAP1</td>\n",
       "      <td>21.0</td>\n",
       "      <td>8.450421</td>\n",
       "      <td>2.714915</td>\n",
       "    </tr>\n",
       "    <tr>\n",
       "      <th>1</th>\n",
       "      <td>8q24.21</td>\n",
       "      <td>1.045400e-04</td>\n",
       "      <td>NaN</td>\n",
       "      <td>0.0</td>\n",
       "      <td>1.000000</td>\n",
       "      <td>NaN</td>\n",
       "      <td>NaN</td>\n",
       "      <td>3.980718</td>\n",
       "      <td>-0.000000</td>\n",
       "    </tr>\n",
       "  </tbody>\n",
       "</table>\n",
       "</div>"
      ],
      "text/plain": [
       "  cytoband  q_value_hiv+ oncogenes_hiv+  num_genes_hiv+  q_value_hiv-  \\\n",
       "0  11q22.1  3.544700e-09     BIRC3,YAP1             7.0      0.001928   \n",
       "1  8q24.21  1.045400e-04            NaN             0.0      1.000000   \n",
       "\n",
       "  oncogenes_hiv-  num_genes_hiv-  hiv+q(-log10)  hiv-q(-log10)  \n",
       "0     BIRC3,YAP1            21.0       8.450421       2.714915  \n",
       "1            NaN             NaN       3.980718      -0.000000  "
      ]
     },
     "execution_count": 107,
     "metadata": {},
     "output_type": "execute_result"
    }
   ],
   "source": [
    "htmcp_amps.head(2)"
   ]
  }
 ],
 "metadata": {
  "kernelspec": {
   "display_name": "Python 3",
   "language": "python",
   "name": "python3"
  },
  "language_info": {
   "codemirror_mode": {
    "name": "ipython",
    "version": 3
   },
   "file_extension": ".py",
   "mimetype": "text/x-python",
   "name": "python",
   "nbconvert_exporter": "python",
   "pygments_lexer": "ipython3",
   "version": "3.6.7"
  }
 },
 "nbformat": 4,
 "nbformat_minor": 2
}
