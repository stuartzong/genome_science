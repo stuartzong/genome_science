{
 "cells": [
  {
   "cell_type": "code",
   "execution_count": 1,
   "metadata": {},
   "outputs": [],
   "source": [
    "import matplotlib.pyplot as plt\n",
    "import numpy as np\n",
    "import pandas as pd\n",
    "import seaborn as sns\n",
    "import sys\n",
    "sys.path.append('/projects/trans_scratch/validations/workspace/szong/Cervical/notebook')\n",
    "from lineticks import LineTicks\n",
    "\n",
    "from IPython.core.interactiveshell import InteractiveShell\n",
    "InteractiveShell.ast_node_interactivity = \"all\""
   ]
  },
  {
   "cell_type": "markdown",
   "metadata": {},
   "source": [
    "this script squash a regular plane plot and rotate it to a squashed v-shaped plane. squash points in 90 degree into specified angle by push points toward 45 degree line"
   ]
  },
  {
   "cell_type": "code",
   "execution_count": 131,
   "metadata": {},
   "outputs": [
    {
     "data": {
      "text/plain": [
       "<matplotlib.axes._subplots.Floating AxesHostAxesSubplot at 0x7f92783c7b38>"
      ]
     },
     "execution_count": 131,
     "metadata": {},
     "output_type": "execute_result"
    },
    {
     "data": {
      "text/plain": [
       "[<matplotlib.lines.Line2D at 0x7f92783cb048>]"
      ]
     },
     "execution_count": 131,
     "metadata": {},
     "output_type": "execute_result"
    },
    {
     "data": {
      "image/png": "[encoded data removed]",
      "text/plain": [
       "<Figure size 432x288 with 1 Axes>"
      ]
     },
     "metadata": {},
     "output_type": "display_data"
    }
   ],
   "source": [
    "import matplotlib.pyplot as plt\n",
    "from matplotlib.transforms import Affine2D\n",
    "import mpl_toolkits.axisartist.floating_axes as floating_axes\n",
    "\n",
    "fig = plt.figure()\n",
    "\n",
    "plot_extents = 0, 10, 0, 10\n",
    "transform = Affine2D().rotate_deg(45)\n",
    "helper = floating_axes.GridHelperCurveLinear(transform, plot_extents)\n",
    "ax = floating_axes.FloatingSubplot(fig, 111, grid_helper=helper)\n",
    "\n",
    "fig.add_subplot(ax)\n",
    "ax.plot(5,5, 'ro')\n",
    "plt.show()"
   ]
  },
  {
   "cell_type": "code",
   "execution_count": 18,
   "metadata": {},
   "outputs": [
    {
     "ename": "AttributeError",
     "evalue": "module 'scipy' has no attribute 'misc'",
     "output_type": "error",
     "traceback": [
      "\u001b[0;31m---------------------------------------------------------------------------\u001b[0m",
      "\u001b[0;31mAttributeError\u001b[0m                            Traceback (most recent call last)",
      "\u001b[0;32m<ipython-input-18-6572c71c95c0>\u001b[0m in \u001b[0;36m<module>\u001b[0;34m()\u001b[0m\n\u001b[1;32m      2\u001b[0m \u001b[0;32mimport\u001b[0m \u001b[0mscipy\u001b[0m\u001b[0;34m\u001b[0m\u001b[0;34m\u001b[0m\u001b[0m\n\u001b[1;32m      3\u001b[0m \u001b[0;34m\u001b[0m\u001b[0m\n\u001b[0;32m----> 4\u001b[0;31m \u001b[0mimg\u001b[0m \u001b[0;34m=\u001b[0m \u001b[0mscipy\u001b[0m\u001b[0;34m.\u001b[0m\u001b[0mmisc\u001b[0m\u001b[0;34m.\u001b[0m\u001b[0mlena\u001b[0m\u001b[0;34m(\u001b[0m\u001b[0;34m)\u001b[0m\u001b[0;34m\u001b[0m\u001b[0;34m\u001b[0m\u001b[0m\n\u001b[0m\u001b[1;32m      5\u001b[0m \u001b[0mtr\u001b[0m \u001b[0;34m=\u001b[0m \u001b[0mscipy\u001b[0m\u001b[0;34m.\u001b[0m\u001b[0mndimage\u001b[0m\u001b[0;34m.\u001b[0m\u001b[0mrotate\u001b[0m\u001b[0;34m(\u001b[0m\u001b[0mimg\u001b[0m\u001b[0;34m,\u001b[0m\u001b[0;36m45\u001b[0m\u001b[0;34m)\u001b[0m\u001b[0;34m\u001b[0m\u001b[0;34m\u001b[0m\u001b[0m\n\u001b[1;32m      6\u001b[0m \u001b[0mimshow\u001b[0m\u001b[0;34m(\u001b[0m\u001b[0mtr\u001b[0m\u001b[0;34m)\u001b[0m\u001b[0;34m\u001b[0m\u001b[0;34m\u001b[0m\u001b[0m\n",
      "\u001b[0;31mAttributeError\u001b[0m: module 'scipy' has no attribute 'misc'"
     ]
    }
   ],
   "source": [
    "from matplotlib import pyplot, image\n",
    "import scipy\n",
    "\n",
    "img = scipy.misc.lena()\n",
    "tr = scipy.ndimage.rotate(img,45)\n",
    "imshow(tr)"
   ]
  },
  {
   "cell_type": "code",
   "execution_count": 17,
   "metadata": {},
   "outputs": [
    {
     "ename": "TypeError",
     "evalue": "ufunc 'sqrt' not supported for the input types, and the inputs could not be safely coerced to any supported types according to the casting rule ''safe''",
     "output_type": "error",
     "traceback": [
      "\u001b[0;31m---------------------------------------------------------------------------\u001b[0m",
      "\u001b[0;31mTypeError\u001b[0m                                 Traceback (most recent call last)",
      "\u001b[0;32m<ipython-input-17-72c1f08ac237>\u001b[0m in \u001b[0;36m<module>\u001b[0;34m()\u001b[0m\n\u001b[1;32m      4\u001b[0m \u001b[0mt\u001b[0m \u001b[0;34m=\u001b[0m \u001b[0mfigure\u001b[0m\u001b[0;34m.\u001b[0m\u001b[0mtext\u001b[0m\u001b[0;34m(\u001b[0m\u001b[0;36m0.5\u001b[0m\u001b[0;34m,\u001b[0m\u001b[0;36m0.5\u001b[0m\u001b[0;34m,\u001b[0m\u001b[0;34m\"some text\"\u001b[0m\u001b[0;34m)\u001b[0m\u001b[0;34m\u001b[0m\u001b[0;34m\u001b[0m\u001b[0m\n\u001b[1;32m      5\u001b[0m \u001b[0mt\u001b[0m\u001b[0;34m.\u001b[0m\u001b[0mset_rotation\u001b[0m\u001b[0;34m(\u001b[0m\u001b[0;36m90\u001b[0m\u001b[0;34m)\u001b[0m\u001b[0;34m\u001b[0m\u001b[0;34m\u001b[0m\u001b[0m\n\u001b[0;32m----> 6\u001b[0;31m \u001b[0mplt\u001b[0m\u001b[0;34m.\u001b[0m\u001b[0mscatter\u001b[0m\u001b[0;34m(\u001b[0m\u001b[0;36m0.2\u001b[0m\u001b[0;34m,\u001b[0m\u001b[0;36m0.5\u001b[0m\u001b[0;34m,\u001b[0m \u001b[0;34m'ro'\u001b[0m\u001b[0;34m,\u001b[0m \u001b[0morientation\u001b[0m\u001b[0;34m=\u001b[0m\u001b[0;34mu'vertical'\u001b[0m\u001b[0;34m)\u001b[0m\u001b[0;34m\u001b[0m\u001b[0;34m\u001b[0m\u001b[0m\n\u001b[0m\u001b[1;32m      7\u001b[0m \u001b[0;31m# labels = ax.get_xticklabels()\u001b[0m\u001b[0;34m\u001b[0m\u001b[0;34m\u001b[0m\u001b[0;34m\u001b[0m\u001b[0m\n\u001b[1;32m      8\u001b[0m \u001b[0;31m# for label in labels:\u001b[0m\u001b[0;34m\u001b[0m\u001b[0;34m\u001b[0m\u001b[0;34m\u001b[0m\u001b[0m\n",
      "\u001b[0;32m/projects/da_workspace/software/miniconda/envs/dlpy3/lib/python3.6/site-packages/matplotlib/pyplot.py\u001b[0m in \u001b[0;36mscatter\u001b[0;34m(x, y, s, c, marker, cmap, norm, vmin, vmax, alpha, linewidths, verts, edgecolors, hold, data, **kwargs)\u001b[0m\n\u001b[1;32m   3468\u001b[0m                          \u001b[0mvmin\u001b[0m\u001b[0;34m=\u001b[0m\u001b[0mvmin\u001b[0m\u001b[0;34m,\u001b[0m \u001b[0mvmax\u001b[0m\u001b[0;34m=\u001b[0m\u001b[0mvmax\u001b[0m\u001b[0;34m,\u001b[0m \u001b[0malpha\u001b[0m\u001b[0;34m=\u001b[0m\u001b[0malpha\u001b[0m\u001b[0;34m,\u001b[0m\u001b[0;34m\u001b[0m\u001b[0;34m\u001b[0m\u001b[0m\n\u001b[1;32m   3469\u001b[0m                          \u001b[0mlinewidths\u001b[0m\u001b[0;34m=\u001b[0m\u001b[0mlinewidths\u001b[0m\u001b[0;34m,\u001b[0m \u001b[0mverts\u001b[0m\u001b[0;34m=\u001b[0m\u001b[0mverts\u001b[0m\u001b[0;34m,\u001b[0m\u001b[0;34m\u001b[0m\u001b[0;34m\u001b[0m\u001b[0m\n\u001b[0;32m-> 3470\u001b[0;31m                          edgecolors=edgecolors, data=data, **kwargs)\n\u001b[0m\u001b[1;32m   3471\u001b[0m     \u001b[0;32mfinally\u001b[0m\u001b[0;34m:\u001b[0m\u001b[0;34m\u001b[0m\u001b[0;34m\u001b[0m\u001b[0m\n\u001b[1;32m   3472\u001b[0m         \u001b[0max\u001b[0m\u001b[0;34m.\u001b[0m\u001b[0m_hold\u001b[0m \u001b[0;34m=\u001b[0m \u001b[0mwashold\u001b[0m\u001b[0;34m\u001b[0m\u001b[0;34m\u001b[0m\u001b[0m\n",
      "\u001b[0;32m/projects/da_workspace/software/miniconda/envs/dlpy3/lib/python3.6/site-packages/matplotlib/__init__.py\u001b[0m in \u001b[0;36minner\u001b[0;34m(ax, *args, **kwargs)\u001b[0m\n\u001b[1;32m   1853\u001b[0m                         \u001b[0;34m\"the Matplotlib list!)\"\u001b[0m \u001b[0;34m%\u001b[0m \u001b[0;34m(\u001b[0m\u001b[0mlabel_namer\u001b[0m\u001b[0;34m,\u001b[0m \u001b[0mfunc\u001b[0m\u001b[0;34m.\u001b[0m\u001b[0m__name__\u001b[0m\u001b[0;34m)\u001b[0m\u001b[0;34m,\u001b[0m\u001b[0;34m\u001b[0m\u001b[0;34m\u001b[0m\u001b[0m\n\u001b[1;32m   1854\u001b[0m                         RuntimeWarning, stacklevel=2)\n\u001b[0;32m-> 1855\u001b[0;31m             \u001b[0;32mreturn\u001b[0m \u001b[0mfunc\u001b[0m\u001b[0;34m(\u001b[0m\u001b[0max\u001b[0m\u001b[0;34m,\u001b[0m \u001b[0;34m*\u001b[0m\u001b[0margs\u001b[0m\u001b[0;34m,\u001b[0m \u001b[0;34m**\u001b[0m\u001b[0mkwargs\u001b[0m\u001b[0;34m)\u001b[0m\u001b[0;34m\u001b[0m\u001b[0;34m\u001b[0m\u001b[0m\n\u001b[0m\u001b[1;32m   1856\u001b[0m \u001b[0;34m\u001b[0m\u001b[0m\n\u001b[1;32m   1857\u001b[0m         inner.__doc__ = _add_data_doc(inner.__doc__,\n",
      "\u001b[0;32m/projects/da_workspace/software/miniconda/envs/dlpy3/lib/python3.6/site-packages/matplotlib/axes/_axes.py\u001b[0m in \u001b[0;36mscatter\u001b[0;34m(self, x, y, s, c, marker, cmap, norm, vmin, vmax, alpha, linewidths, verts, edgecolors, **kwargs)\u001b[0m\n\u001b[1;32m   4318\u001b[0m                 \u001b[0moffsets\u001b[0m\u001b[0;34m=\u001b[0m\u001b[0moffsets\u001b[0m\u001b[0;34m,\u001b[0m\u001b[0;34m\u001b[0m\u001b[0;34m\u001b[0m\u001b[0m\n\u001b[1;32m   4319\u001b[0m                 \u001b[0mtransOffset\u001b[0m\u001b[0;34m=\u001b[0m\u001b[0mkwargs\u001b[0m\u001b[0;34m.\u001b[0m\u001b[0mpop\u001b[0m\u001b[0;34m(\u001b[0m\u001b[0;34m'transform'\u001b[0m\u001b[0;34m,\u001b[0m \u001b[0mself\u001b[0m\u001b[0;34m.\u001b[0m\u001b[0mtransData\u001b[0m\u001b[0;34m)\u001b[0m\u001b[0;34m,\u001b[0m\u001b[0;34m\u001b[0m\u001b[0;34m\u001b[0m\u001b[0m\n\u001b[0;32m-> 4320\u001b[0;31m                 \u001b[0malpha\u001b[0m\u001b[0;34m=\u001b[0m\u001b[0malpha\u001b[0m\u001b[0;34m\u001b[0m\u001b[0;34m\u001b[0m\u001b[0m\n\u001b[0m\u001b[1;32m   4321\u001b[0m                 )\n\u001b[1;32m   4322\u001b[0m         \u001b[0mcollection\u001b[0m\u001b[0;34m.\u001b[0m\u001b[0mset_transform\u001b[0m\u001b[0;34m(\u001b[0m\u001b[0mmtransforms\u001b[0m\u001b[0;34m.\u001b[0m\u001b[0mIdentityTransform\u001b[0m\u001b[0;34m(\u001b[0m\u001b[0;34m)\u001b[0m\u001b[0;34m)\u001b[0m\u001b[0;34m\u001b[0m\u001b[0;34m\u001b[0m\u001b[0m\n",
      "\u001b[0;32m/projects/da_workspace/software/miniconda/envs/dlpy3/lib/python3.6/site-packages/matplotlib/collections.py\u001b[0m in \u001b[0;36m__init__\u001b[0;34m(self, paths, sizes, **kwargs)\u001b[0m\n\u001b[1;32m    927\u001b[0m         \u001b[0mCollection\u001b[0m\u001b[0;34m.\u001b[0m\u001b[0m__init__\u001b[0m\u001b[0;34m(\u001b[0m\u001b[0mself\u001b[0m\u001b[0;34m,\u001b[0m \u001b[0;34m**\u001b[0m\u001b[0mkwargs\u001b[0m\u001b[0;34m)\u001b[0m\u001b[0;34m\u001b[0m\u001b[0;34m\u001b[0m\u001b[0m\n\u001b[1;32m    928\u001b[0m         \u001b[0mself\u001b[0m\u001b[0;34m.\u001b[0m\u001b[0mset_paths\u001b[0m\u001b[0;34m(\u001b[0m\u001b[0mpaths\u001b[0m\u001b[0;34m)\u001b[0m\u001b[0;34m\u001b[0m\u001b[0;34m\u001b[0m\u001b[0m\n\u001b[0;32m--> 929\u001b[0;31m         \u001b[0mself\u001b[0m\u001b[0;34m.\u001b[0m\u001b[0mset_sizes\u001b[0m\u001b[0;34m(\u001b[0m\u001b[0msizes\u001b[0m\u001b[0;34m)\u001b[0m\u001b[0;34m\u001b[0m\u001b[0;34m\u001b[0m\u001b[0m\n\u001b[0m\u001b[1;32m    930\u001b[0m         \u001b[0mself\u001b[0m\u001b[0;34m.\u001b[0m\u001b[0mstale\u001b[0m \u001b[0;34m=\u001b[0m \u001b[0;32mTrue\u001b[0m\u001b[0;34m\u001b[0m\u001b[0;34m\u001b[0m\u001b[0m\n\u001b[1;32m    931\u001b[0m \u001b[0;34m\u001b[0m\u001b[0m\n",
      "\u001b[0;32m/projects/da_workspace/software/miniconda/envs/dlpy3/lib/python3.6/site-packages/matplotlib/collections.py\u001b[0m in \u001b[0;36mset_sizes\u001b[0;34m(self, sizes, dpi)\u001b[0m\n\u001b[1;32m    900\u001b[0m             \u001b[0mself\u001b[0m\u001b[0;34m.\u001b[0m\u001b[0m_sizes\u001b[0m \u001b[0;34m=\u001b[0m \u001b[0mnp\u001b[0m\u001b[0;34m.\u001b[0m\u001b[0masarray\u001b[0m\u001b[0;34m(\u001b[0m\u001b[0msizes\u001b[0m\u001b[0;34m)\u001b[0m\u001b[0;34m\u001b[0m\u001b[0;34m\u001b[0m\u001b[0m\n\u001b[1;32m    901\u001b[0m             \u001b[0mself\u001b[0m\u001b[0;34m.\u001b[0m\u001b[0m_transforms\u001b[0m \u001b[0;34m=\u001b[0m \u001b[0mnp\u001b[0m\u001b[0;34m.\u001b[0m\u001b[0mzeros\u001b[0m\u001b[0;34m(\u001b[0m\u001b[0;34m(\u001b[0m\u001b[0mlen\u001b[0m\u001b[0;34m(\u001b[0m\u001b[0mself\u001b[0m\u001b[0;34m.\u001b[0m\u001b[0m_sizes\u001b[0m\u001b[0;34m)\u001b[0m\u001b[0;34m,\u001b[0m \u001b[0;36m3\u001b[0m\u001b[0;34m,\u001b[0m \u001b[0;36m3\u001b[0m\u001b[0;34m)\u001b[0m\u001b[0;34m)\u001b[0m\u001b[0;34m\u001b[0m\u001b[0;34m\u001b[0m\u001b[0m\n\u001b[0;32m--> 902\u001b[0;31m             \u001b[0mscale\u001b[0m \u001b[0;34m=\u001b[0m \u001b[0mnp\u001b[0m\u001b[0;34m.\u001b[0m\u001b[0msqrt\u001b[0m\u001b[0;34m(\u001b[0m\u001b[0mself\u001b[0m\u001b[0;34m.\u001b[0m\u001b[0m_sizes\u001b[0m\u001b[0;34m)\u001b[0m \u001b[0;34m*\u001b[0m \u001b[0mdpi\u001b[0m \u001b[0;34m/\u001b[0m \u001b[0;36m72.0\u001b[0m \u001b[0;34m*\u001b[0m \u001b[0mself\u001b[0m\u001b[0;34m.\u001b[0m\u001b[0m_factor\u001b[0m\u001b[0;34m\u001b[0m\u001b[0;34m\u001b[0m\u001b[0m\n\u001b[0m\u001b[1;32m    903\u001b[0m             \u001b[0mself\u001b[0m\u001b[0;34m.\u001b[0m\u001b[0m_transforms\u001b[0m\u001b[0;34m[\u001b[0m\u001b[0;34m:\u001b[0m\u001b[0;34m,\u001b[0m \u001b[0;36m0\u001b[0m\u001b[0;34m,\u001b[0m \u001b[0;36m0\u001b[0m\u001b[0;34m]\u001b[0m \u001b[0;34m=\u001b[0m \u001b[0mscale\u001b[0m\u001b[0;34m\u001b[0m\u001b[0;34m\u001b[0m\u001b[0m\n\u001b[1;32m    904\u001b[0m             \u001b[0mself\u001b[0m\u001b[0;34m.\u001b[0m\u001b[0m_transforms\u001b[0m\u001b[0;34m[\u001b[0m\u001b[0;34m:\u001b[0m\u001b[0;34m,\u001b[0m \u001b[0;36m1\u001b[0m\u001b[0;34m,\u001b[0m \u001b[0;36m1\u001b[0m\u001b[0;34m]\u001b[0m \u001b[0;34m=\u001b[0m \u001b[0mscale\u001b[0m\u001b[0;34m\u001b[0m\u001b[0;34m\u001b[0m\u001b[0m\n",
      "\u001b[0;31mTypeError\u001b[0m: ufunc 'sqrt' not supported for the input types, and the inputs could not be safely coerced to any supported types according to the casting rule ''safe''"
     ]
    },
    {
     "data": {
      "image/png": "[encoded data removed]",
      "text/plain": [
       "<Figure size 432x288 with 1 Axes>"
      ]
     },
     "metadata": {},
     "output_type": "display_data"
    }
   ],
   "source": [
    "from matplotlib import pyplot as plt\n",
    "figure = plt.figure()\n",
    "ax = figure.add_subplot(111)\n",
    "t = figure.text(0.5,0.5,\"some text\")\n",
    "t.set_rotation(90)\n",
    "plt.scatter(0.2,0.5, 'ro', orientation=u'vertical')\n",
    "# labels = ax.get_xticklabels()\n",
    "# for label in labels:\n",
    "#     label.set_rotation(45)\n",
    "plt.show()"
   ]
  },
  {
   "cell_type": "code",
   "execution_count": 4,
   "metadata": {},
   "outputs": [
    {
     "data": {
      "image/png": "[encoded data removed]",
      "text/plain": [
       "<Figure size 432x288 with 1 Axes>"
      ]
     },
     "metadata": {},
     "output_type": "display_data"
    }
   ],
   "source": [
    "\n",
    "import matplotlib.pyplot as plt\n",
    "from matplotlib.transforms import Affine2D\n",
    "import mpl_toolkits.axisartist.floating_axes as floating_axes\n",
    "\n",
    "fig = plt.figure()\n",
    "\n",
    "plot_extents = 0, 10, 0, 10\n",
    "transform = Affine2D().rotate_deg(45)\n",
    "helper = floating_axes.GridHelperCurveLinear(transform, plot_extents)\n",
    "ax = floating_axes.FloatingSubplot(fig, 111, grid_helper=helper)\n",
    "\n",
    "fig.add_subplot(ax)\n",
    "\n",
    "# Hide the ticks and background\n",
    "ax.patch.set(visible=False)\n",
    "for axis in ax.axis.values():\n",
    "    # If you'd like to hide the borders, use \"axis.line.set(visible=False)\"\n",
    "    axis.major_ticks.set(visible=False)\n",
    "\n",
    "plt.show()"
   ]
  },
  {
   "cell_type": "code",
   "execution_count": 40,
   "metadata": {
    "scrolled": true
   },
   "outputs": [
    {
     "data": {
      "text/html": [
       "<div>\n",
       "<style scoped>\n",
       "    .dataframe tbody tr th:only-of-type {\n",
       "        vertical-align: middle;\n",
       "    }\n",
       "\n",
       "    .dataframe tbody tr th {\n",
       "        vertical-align: top;\n",
       "    }\n",
       "\n",
       "    .dataframe thead th {\n",
       "        text-align: right;\n",
       "    }\n",
       "</style>\n",
       "<table border=\"1\" class=\"dataframe\">\n",
       "  <thead>\n",
       "    <tr style=\"text-align: right;\">\n",
       "      <th></th>\n",
       "      <th>q_value_hiv+</th>\n",
       "      <th>cytoband</th>\n",
       "      <th>gene_hiv+</th>\n",
       "      <th>q_value_hiv-</th>\n",
       "      <th>gene_hiv-</th>\n",
       "      <th>hiv+q(-log10)</th>\n",
       "      <th>hiv-q(-log10)</th>\n",
       "    </tr>\n",
       "  </thead>\n",
       "  <tbody>\n",
       "    <tr>\n",
       "      <th>0</th>\n",
       "      <td>1.043200e-15</td>\n",
       "      <td>2q22.1</td>\n",
       "      <td>LRP1B</td>\n",
       "      <td>0.04368</td>\n",
       "      <td>LOC389033</td>\n",
       "      <td>14.981632</td>\n",
       "      <td>1.359717</td>\n",
       "    </tr>\n",
       "    <tr>\n",
       "      <th>1</th>\n",
       "      <td>1.519500e-09</td>\n",
       "      <td>2q36.3</td>\n",
       "      <td>AGXT</td>\n",
       "      <td>1.00000</td>\n",
       "      <td>NaN</td>\n",
       "      <td>8.818299</td>\n",
       "      <td>-0.000000</td>\n",
       "    </tr>\n",
       "    <tr>\n",
       "      <th>2</th>\n",
       "      <td>5.958900e-04</td>\n",
       "      <td>3p13</td>\n",
       "      <td>CHMP2B</td>\n",
       "      <td>1.00000</td>\n",
       "      <td>NaN</td>\n",
       "      <td>3.224834</td>\n",
       "      <td>-0.000000</td>\n",
       "    </tr>\n",
       "    <tr>\n",
       "      <th>3</th>\n",
       "      <td>1.144100e-02</td>\n",
       "      <td>3p14.2</td>\n",
       "      <td>MAP4</td>\n",
       "      <td>1.00000</td>\n",
       "      <td>NaN</td>\n",
       "      <td>1.941536</td>\n",
       "      <td>-0.000000</td>\n",
       "    </tr>\n",
       "    <tr>\n",
       "      <th>4</th>\n",
       "      <td>3.485300e-03</td>\n",
       "      <td>4q21.3</td>\n",
       "      <td>MAPK10</td>\n",
       "      <td>1.00000</td>\n",
       "      <td>NaN</td>\n",
       "      <td>2.457760</td>\n",
       "      <td>-0.000000</td>\n",
       "    </tr>\n",
       "  </tbody>\n",
       "</table>\n",
       "</div>"
      ],
      "text/plain": [
       "   q_value_hiv+ cytoband gene_hiv+  q_value_hiv-  gene_hiv-  hiv+q(-log10)  \\\n",
       "0  1.043200e-15   2q22.1     LRP1B       0.04368  LOC389033      14.981632   \n",
       "1  1.519500e-09   2q36.3      AGXT       1.00000        NaN       8.818299   \n",
       "2  5.958900e-04     3p13    CHMP2B       1.00000        NaN       3.224834   \n",
       "3  1.144100e-02   3p14.2      MAP4       1.00000        NaN       1.941536   \n",
       "4  3.485300e-03   4q21.3    MAPK10       1.00000        NaN       2.457760   \n",
       "\n",
       "   hiv-q(-log10)  \n",
       "0       1.359717  \n",
       "1      -0.000000  \n",
       "2      -0.000000  \n",
       "3      -0.000000  \n",
       "4      -0.000000  "
      ]
     },
     "execution_count": 40,
     "metadata": {},
     "output_type": "execute_result"
    },
    {
     "data": {
      "text/plain": [
       "<matplotlib.collections.LineCollection at 0x7f96c7cdbef0>"
      ]
     },
     "execution_count": 40,
     "metadata": {},
     "output_type": "execute_result"
    },
    {
     "data": {
      "text/plain": [
       "(0, 16)"
      ]
     },
     "execution_count": 40,
     "metadata": {},
     "output_type": "execute_result"
    },
    {
     "data": {
      "text/plain": [
       "(-8.0, 8.0)"
      ]
     },
     "execution_count": 40,
     "metadata": {},
     "output_type": "execute_result"
    },
    {
     "data": {
      "text/plain": [
       "<matplotlib.collections.PathCollection at 0x7f96c86084e0>"
      ]
     },
     "execution_count": 40,
     "metadata": {},
     "output_type": "execute_result"
    },
    {
     "name": "stdout",
     "output_type": "stream",
     "text": [
      "xxx 10    0.500000\n",
      "8     1.116734\n",
      "7     1.394842\n",
      "9     3.006704\n",
      "14    3.086953\n",
      "18    3.369964\n",
      "6     3.809815\n",
      "3     4.391307\n",
      "15    5.053517\n",
      "12    5.144581\n",
      "4     5.939979\n",
      "Name: hiv+q(-log10), dtype: float64\n"
     ]
    },
    {
     "name": "stderr",
     "output_type": "stream",
     "text": [
      "/projects/da_workspace/software/miniconda/envs/dlpy3/lib/python3.6/site-packages/ipykernel_launcher.py:59: DeprecationWarning: object of type <class 'float'> cannot be safely interpreted as an integer.\n",
      "/projects/da_workspace/software/miniconda/envs/dlpy3/lib/python3.6/site-packages/ipykernel_launcher.py:105: FutureWarning: 'argmin' is deprecated, use 'idxmin' instead. The behavior of 'argmin'\n",
      "will be corrected to return the positional minimum in the future.\n",
      "Use 'series.values.argmin' to get the position of the minimum now.\n",
      "/projects/da_workspace/software/miniconda/envs/dlpy3/lib/python3.6/site-packages/ipykernel_launcher.py:106: FutureWarning: 'argmax' is deprecated, use 'idxmax' instead. The behavior of 'argmax'\n",
      "will be corrected to return the positional maximum in the future.\n",
      "Use 'series.values.argmax' to get the position of the maximum now.\n"
     ]
    },
    {
     "data": {
      "text/plain": [
       "[<matplotlib.lines.Line2D at 0x7f96c7d41e48>]"
      ]
     },
     "execution_count": 40,
     "metadata": {},
     "output_type": "execute_result"
    },
    {
     "data": {
      "text/plain": [
       "[<matplotlib.lines.Line2D at 0x7f96c7b6e160>]"
      ]
     },
     "execution_count": 40,
     "metadata": {},
     "output_type": "execute_result"
    },
    {
     "name": "stderr",
     "output_type": "stream",
     "text": [
      "/projects/da_workspace/software/miniconda/envs/dlpy3/lib/python3.6/site-packages/ipykernel_launcher.py:149: FutureWarning: 'argmax' is deprecated, use 'idxmax' instead. The behavior of 'argmax'\n",
      "will be corrected to return the positional maximum in the future.\n",
      "Use 'series.values.argmax' to get the position of the maximum now.\n",
      "/projects/da_workspace/software/miniconda/envs/dlpy3/lib/python3.6/site-packages/ipykernel_launcher.py:150: FutureWarning: 'argmin' is deprecated, use 'idxmin' instead. The behavior of 'argmin'\n",
      "will be corrected to return the positional minimum in the future.\n",
      "Use 'series.values.argmin' to get the position of the minimum now.\n"
     ]
    },
    {
     "data": {
      "text/plain": [
       "[<matplotlib.lines.Line2D at 0x7f96c8332358>]"
      ]
     },
     "execution_count": 40,
     "metadata": {},
     "output_type": "execute_result"
    },
    {
     "data": {
      "text/plain": [
       "[<matplotlib.lines.Line2D at 0x7f96c8235be0>]"
      ]
     },
     "execution_count": 40,
     "metadata": {},
     "output_type": "execute_result"
    },
    {
     "data": {
      "text/plain": [
       "Text(0.5,1,'del_cytoband_qvalue_comparison_hiv_pos_vs_neg')"
      ]
     },
     "execution_count": 40,
     "metadata": {},
     "output_type": "execute_result"
    },
    {
     "data": {
      "image/png": "[encoded data removed]",
      "text/plain": [
       "<Figure size 504x504 with 1 Axes>"
      ]
     },
     "metadata": {},
     "output_type": "display_data"
    }
   ],
   "source": [
    "# constants\n",
    "v_angle = 18\n",
    "y_heigth = 16\n",
    "tk_length = .1\n",
    "squash_factor = v_angle/45.0\n",
    "fig_heigth = 7\n",
    "\n",
    "# gistic cytoband data\n",
    "cnvdir = '/projects/trans_scratch/validations/workspace/szong/Cervical/cnv/'\n",
    "of = f'{cnvdir}del_cytoband_qvalue_comparison_hiv_pos_vs_neg.csv'\n",
    "# ndf.to_csv(of, index=False)\n",
    "ndf = pd.read_csv(of)\n",
    "ndf.head()\n",
    "x = ndf['hiv-q(-log10)']\n",
    "y = ndf['hiv+q(-log10)']\n",
    "\n",
    "\n",
    "# v plot setup\n",
    "# sns.set_style('white')\n",
    "f, ax = plt.subplots(figsize=(fig_heigth, fig_heigth))\n",
    "\n",
    "\n",
    "\n",
    "point_dists = np.sqrt(x**2 + y**2)\n",
    "angles_before = np.degrees(np.arcsin( y/point_dists))\n",
    "angles_after = (90 - v_angle) + angles_before * squash_factor\n",
    "\n",
    "# new coordinates in squashed and rotated plane\n",
    "xc = point_dists*np.cos(np.radians(angles_after))\n",
    "yc = point_dists*np.sin(np.radians(angles_after))\n",
    "\n",
    "# plt.scatter(x, y)\n",
    "\n",
    "# plot 45o angle line where both axes will be squashed toward\n",
    "ax.vlines(0, 0, y_heigth-1, 'gray', linestyles='dashed', lw=.8)\n",
    "plt.ylim(0, y_heigth)\n",
    "plt.xlim(-y_heigth/2, y_heigth/2)\n",
    "plt.scatter(xc, yc, c='orange', edgecolors='red')\n",
    "\n",
    "# x axis\n",
    "xlinexs = np.linspace(0, y_heigth, y_heigth) \n",
    "xlineys = xlinexs/np.tan(np.radians(v_angle))\n",
    "\n",
    "# y axis\n",
    "ylinexs = -np.linspace(0, y_heigth, y_heigth) \n",
    "# ylineys = xlinexs/np.tan(np.radians(90 + v_angle))\n",
    "\n",
    "# figure out tick coordinates of tip and end\n",
    "# xs, = ax.plot(xlinexs, xlineys, c='black', lw=1)\n",
    "# ys, = ax.plot(ylinexs, xlineys, c='black', lw=1)\n",
    "# y_heigth*np.tan(np.radians(v_angle))\n",
    "axis_offset = 1.5\n",
    "xs, = ax.plot((0, (y_heigth-axis_offset)*np.tan(np.radians(v_angle))), (0, y_heigth-axis_offset), c='black', lw=1)\n",
    "ys, = ax.plot((0, -(y_heigth-axis_offset)*np.tan(np.radians(v_angle))), (0, y_heigth-axis_offset), c='black', lw=1)\n",
    "\n",
    "\n",
    "# plot ticks\n",
    "xax_length = y_heigth/np.cos(np.radians(v_angle))\n",
    "tks = np.linspace(0, xax_length, int(y_heigth)/3+1)\n",
    "xts1 = tks*np.cos(np.radians(90-v_angle))\n",
    "yts1 = tks*np.sin(np.radians(90-v_angle))\n",
    "xts2 = xts1 + tk_length*np.cos(np.radians(v_angle))\n",
    "yts2 = yts1 - tk_length*np.sin(np.radians(v_angle))\n",
    "\n",
    "\n",
    "# pot x and y axis ticks\n",
    "_ = ax.plot((xts1, xts2), (yts1, yts2), color='black')\n",
    "_ = ax.plot((-xts1, -xts2), (yts1, yts2), color='black')\n",
    "\n",
    "# add text annotations\n",
    "hivpos = ndf[(ndf['hiv-q(-log10)']==0)&(ndf['hiv+q(-log10)']<3)].sort_values('hiv+q(-log10)', ascending=True)\n",
    "hivpos_bands = hivpos['cytoband'].tolist()\n",
    "hivpos_qs = hivpos['hiv+q(-log10)']\n",
    "# nbands = len(hivpos_bands)\n",
    "# anno_ys = np.linspace(1, 10, nbands)\n",
    "# anno_xs = np.array([-6]*nbands)\n",
    "# for i, lb in enumerate(hivpos_bands):\n",
    "#     _ = ax.text(anno_xs[i], anno_ys[i], lb)\n",
    "\n",
    "# draw vertical line to annotate the low q values which are squished together, let labels spread evenly\n",
    "mfactor = 3\n",
    "xoffset =0.5\n",
    "mhivpos_qs = hivpos_qs * mfactor\n",
    "vl_min = min(mhivpos_qs)\n",
    "vl_max = max(mhivpos_qs)\n",
    "mhivpos_qs = mhivpos_qs - vl_min + xoffset\n",
    "print('xxx', mhivpos_qs)\n",
    "mhivpos_qs =  np.linspace(xoffset, vl_max- vl_min + xoffset, len(mhivpos_qs))\n",
    "# get top and bottom annotation coordinates\n",
    "top_anno = mhivpos_qs[mhivpos_qs.argmax()]\n",
    "bottom_anno = mhivpos_qs[mhivpos_qs.argmin()]\n",
    "\n",
    "anno_xs = np.array([-5.3]*len(hivpos_qs))\n",
    "anno_ys = np.array(mhivpos_qs)\n",
    "    \n",
    "# ax.vlines(-5, 1, vl_max- vl_min + 1)\n",
    "# ax.scatter([-5]*len(hivpos_qs), mhivpos_qs,  c='orange', edgecolors='red')\n",
    "for i, lb in enumerate(hivpos_bands):\n",
    "    _ = ax.text(anno_xs[i], anno_ys[i], lb)\n",
    " \n",
    "\n",
    "# draw a line to connect annotations and points\n",
    "dfpos = pd.DataFrame({'x':xc, 'y':yc})\n",
    "df_sub = dfpos[(dfpos.x <0)&(dfpos.y<2.5)].sort_values('x')\n",
    "top_point = df_sub.loc[df_sub.x.argmin(), :]\n",
    "bottom_point = df_sub.loc[df_sub.x.argmax(),:]\n",
    "plt.plot((-3.5,top_point[0]),(top_anno, top_point[1]), linestyle='--', lw=.8)\n",
    "plt.plot((-3.5,bottom_point[0]),(bottom_anno, bottom_point[1]), linestyle='--', lw=.8)\n",
    "\n",
    "\n",
    "hivneg = ndf[(ndf['hiv+q(-log10)']==0)&(ndf['hiv-q(-log10)']<3)].sort_values('hiv-q(-log10)', ascending=True)    \n",
    "hivneg_bands = hivneg['cytoband'].tolist()\n",
    "hivneg_qs = hivneg['hiv-q(-log10)']\n",
    "# nbands = len(hivneg_bands)\n",
    "# anno_ys = np.linspace(1, 10, nbands)\n",
    "# anno_xs = np.array([4]*nbands)\n",
    "# for i, lb in enumerate(hivneg_bands):\n",
    "#     _ = ax.text(anno_xs[i], anno_ys[i], lb)\n",
    "    \n",
    "# draw dottedline to annotations\n",
    "# ax.plot(())\n",
    "# print(anno_xs, anno_ys)\n",
    "# xc\n",
    "# yc\n",
    "\n",
    "# draw vertical line\n",
    "# mfactor = 5\n",
    "# xoffset = 1\n",
    "mhivneg_qs = hivneg_qs * mfactor\n",
    "vl_min = min(mhivneg_qs)\n",
    "vl_max = max(mhivneg_qs)\n",
    "mhivneg_qs = mhivneg_qs - vl_min + 1\n",
    "mhivneg_qs =  np.linspace(xoffset, vl_max- vl_min + xoffset+2, len(mhivneg_qs))\n",
    "# get top and bottom annotation coordinates\n",
    "top_anno = mhivneg_qs[mhivneg_qs.argmax()]\n",
    "bottom_anno = mhivneg_qs[mhivneg_qs.argmin()] \n",
    "anno_xs = np.array([4.3]*len(hivneg_qs))\n",
    "anno_ys = np.array(mhivneg_qs)\n",
    "  \n",
    "# ax.vlines(5, 1, vl_max- vl_min + 1)\n",
    "# ax.scatter([5]*len(hivneg_qs), mhivneg_qs,  c='orange', edgecolors='red')\n",
    "for i, lb in enumerate(hivneg_bands):\n",
    "    _ = ax.text(anno_xs[i], anno_ys[i], lb)\n",
    "\n",
    "    \n",
    "# draw a line to connect annotations and points\n",
    "dfneg = pd.DataFrame({'x':xc, 'y':yc})\n",
    "df_sub = dfneg[(dfneg.x >0)&(dfneg.y<2.5)].sort_values('x')\n",
    "top_point = df_sub.loc[df_sub.x.argmax(), :]\n",
    "bottom_point = df_sub.loc[df_sub.x.argmin(),:]\n",
    "plt.plot((3.5,top_point[0]),(top_anno, top_point[1]), linestyle='--', lw=.8)\n",
    "plt.plot((3.5,bottom_point[0]),(bottom_anno, bottom_point[1]), linestyle='--', lw=.8)\n",
    "    \n",
    "\n",
    "# x y axis lables\n",
    "_ = ax.text(4.5, 15, 'hiv-q(-log10)', fontsize=13)\n",
    "_ = ax.text(-7.5, 15, 'hiv+q(-log10)', fontsize=13)\n",
    "\n",
    "\n",
    "ax.set_title('del_cytoband_qvalue_comparison_hiv_pos_vs_neg')\n",
    "\n",
    "# # remove ticks and ticklabels\n",
    "plt.tick_params(\n",
    "    axis='both',          # changes apply to the x-axis\n",
    "    which='both',      # both major and minor ticks are affected\n",
    "    bottom=False,      # ticks along the bottom edge are off\n",
    "    top=False,         # ticks along the top edge are off\n",
    "    labelbottom=False,\n",
    "    labelleft=False) # labels along the bottom edge are off\n",
    "\n",
    "of = f'{cnvdir}del_cytoband_qvalue_comparison_hiv_pos_vs_neg_vplot.png'\n",
    "plt.savefig(of, bbox_inches='tight', dpi=200)\n",
    "plt.show()"
   ]
  },
  {
   "cell_type": "code",
   "execution_count": 13,
   "metadata": {},
   "outputs": [
    {
     "name": "stderr",
     "output_type": "stream",
     "text": [
      "/projects/da_workspace/software/miniconda/envs/dlpy3/lib/python3.6/site-packages/ipykernel_launcher.py:4: FutureWarning: 'argmax' is deprecated, use 'idxmax' instead. The behavior of 'argmax'\n",
      "will be corrected to return the positional maximum in the future.\n",
      "Use 'series.values.argmax' to get the position of the maximum now.\n",
      "  after removing the cwd from sys.path.\n"
     ]
    },
    {
     "data": {
      "text/plain": [
       "x   -0.199141\n",
       "y    0.612893\n",
       "Name: 10, dtype: float64"
      ]
     },
     "execution_count": 13,
     "metadata": {},
     "output_type": "execute_result"
    },
    {
     "name": "stderr",
     "output_type": "stream",
     "text": [
      "/projects/da_workspace/software/miniconda/envs/dlpy3/lib/python3.6/site-packages/ipykernel_launcher.py:5: FutureWarning: 'argmin' is deprecated, use 'idxmin' instead. The behavior of 'argmin'\n",
      "will be corrected to return the positional minimum in the future.\n",
      "Use 'series.values.argmin' to get the position of the minimum now.\n",
      "  \"\"\"\n"
     ]
    },
    {
     "data": {
      "text/plain": [
       "x   -0.759490\n",
       "y    2.337469\n",
       "Name: 4, dtype: float64"
      ]
     },
     "execution_count": 13,
     "metadata": {},
     "output_type": "execute_result"
    },
    {
     "data": {
      "text/html": [
       "<div>\n",
       "<style scoped>\n",
       "    .dataframe tbody tr th:only-of-type {\n",
       "        vertical-align: middle;\n",
       "    }\n",
       "\n",
       "    .dataframe tbody tr th {\n",
       "        vertical-align: top;\n",
       "    }\n",
       "\n",
       "    .dataframe thead th {\n",
       "        text-align: right;\n",
       "    }\n",
       "</style>\n",
       "<table border=\"1\" class=\"dataframe\">\n",
       "  <thead>\n",
       "    <tr style=\"text-align: right;\">\n",
       "      <th></th>\n",
       "      <th>x</th>\n",
       "      <th>y</th>\n",
       "    </tr>\n",
       "  </thead>\n",
       "  <tbody>\n",
       "    <tr>\n",
       "      <th>4</th>\n",
       "      <td>-0.759490</td>\n",
       "      <td>2.337469</td>\n",
       "    </tr>\n",
       "    <tr>\n",
       "      <th>12</th>\n",
       "      <td>-0.677559</td>\n",
       "      <td>2.085313</td>\n",
       "    </tr>\n",
       "    <tr>\n",
       "      <th>15</th>\n",
       "      <td>-0.668179</td>\n",
       "      <td>2.056444</td>\n",
       "    </tr>\n",
       "    <tr>\n",
       "      <th>3</th>\n",
       "      <td>-0.599968</td>\n",
       "      <td>1.846510</td>\n",
       "    </tr>\n",
       "    <tr>\n",
       "      <th>6</th>\n",
       "      <td>-0.540071</td>\n",
       "      <td>1.662167</td>\n",
       "    </tr>\n",
       "    <tr>\n",
       "      <th>18</th>\n",
       "      <td>-0.494763</td>\n",
       "      <td>1.522725</td>\n",
       "    </tr>\n",
       "    <tr>\n",
       "      <th>14</th>\n",
       "      <td>-0.465612</td>\n",
       "      <td>1.433005</td>\n",
       "    </tr>\n",
       "    <tr>\n",
       "      <th>9</th>\n",
       "      <td>-0.457346</td>\n",
       "      <td>1.407565</td>\n",
       "    </tr>\n",
       "    <tr>\n",
       "      <th>16</th>\n",
       "      <td>-0.369040</td>\n",
       "      <td>2.259058</td>\n",
       "    </tr>\n",
       "    <tr>\n",
       "      <th>7</th>\n",
       "      <td>-0.291315</td>\n",
       "      <td>0.896575</td>\n",
       "    </tr>\n",
       "    <tr>\n",
       "      <th>8</th>\n",
       "      <td>-0.262668</td>\n",
       "      <td>0.808409</td>\n",
       "    </tr>\n",
       "    <tr>\n",
       "      <th>10</th>\n",
       "      <td>-0.199141</td>\n",
       "      <td>0.612893</td>\n",
       "    </tr>\n",
       "  </tbody>\n",
       "</table>\n",
       "</div>"
      ],
      "text/plain": [
       "           x         y\n",
       "4  -0.759490  2.337469\n",
       "12 -0.677559  2.085313\n",
       "15 -0.668179  2.056444\n",
       "3  -0.599968  1.846510\n",
       "6  -0.540071  1.662167\n",
       "18 -0.494763  1.522725\n",
       "14 -0.465612  1.433005\n",
       "9  -0.457346  1.407565\n",
       "16 -0.369040  2.259058\n",
       "7  -0.291315  0.896575\n",
       "8  -0.262668  0.808409\n",
       "10 -0.199141  0.612893"
      ]
     },
     "execution_count": 13,
     "metadata": {},
     "output_type": "execute_result"
    }
   ],
   "source": [
    "# yc[yc <1.3]\n",
    "dfpos = pd.DataFrame({'x':xc, 'y':yc})\n",
    "df_sub = dfpos[(dfpos.x <0)&(dfpos.y<2.5)].sort_values('x')\n",
    "left_point = df_sub.loc[df_sub.x.argmax(), :]\n",
    "right_point = df_sub.loc[df_sub.x.argmin(),:]\n",
    "df_sub"
   ]
  },
  {
   "cell_type": "code",
   "execution_count": 4,
   "metadata": {},
   "outputs": [
    {
     "data": {
      "text/html": [
       "<div>\n",
       "<style scoped>\n",
       "    .dataframe tbody tr th:only-of-type {\n",
       "        vertical-align: middle;\n",
       "    }\n",
       "\n",
       "    .dataframe tbody tr th {\n",
       "        vertical-align: top;\n",
       "    }\n",
       "\n",
       "    .dataframe thead th {\n",
       "        text-align: right;\n",
       "    }\n",
       "</style>\n",
       "<table border=\"1\" class=\"dataframe\">\n",
       "  <thead>\n",
       "    <tr style=\"text-align: right;\">\n",
       "      <th></th>\n",
       "      <th>q_value_hiv+</th>\n",
       "      <th>cytoband</th>\n",
       "      <th>gene_hiv+</th>\n",
       "      <th>q_value_hiv-</th>\n",
       "      <th>gene_hiv-</th>\n",
       "      <th>hiv+q(-log10)</th>\n",
       "      <th>hiv-q(-log10)</th>\n",
       "    </tr>\n",
       "  </thead>\n",
       "  <tbody>\n",
       "    <tr>\n",
       "      <th>28</th>\n",
       "      <td>1.0</td>\n",
       "      <td>7q11.23</td>\n",
       "      <td>NaN</td>\n",
       "      <td>0.199190</td>\n",
       "      <td>FLJ35390</td>\n",
       "      <td>-0.0</td>\n",
       "      <td>0.700732</td>\n",
       "    </tr>\n",
       "    <tr>\n",
       "      <th>23</th>\n",
       "      <td>1.0</td>\n",
       "      <td>3p14.1</td>\n",
       "      <td>NaN</td>\n",
       "      <td>0.170100</td>\n",
       "      <td>PXK</td>\n",
       "      <td>-0.0</td>\n",
       "      <td>0.769296</td>\n",
       "    </tr>\n",
       "    <tr>\n",
       "      <th>29</th>\n",
       "      <td>1.0</td>\n",
       "      <td>10p11.1</td>\n",
       "      <td>NaN</td>\n",
       "      <td>0.170100</td>\n",
       "      <td>ZNF33B</td>\n",
       "      <td>-0.0</td>\n",
       "      <td>0.769296</td>\n",
       "    </tr>\n",
       "    <tr>\n",
       "      <th>21</th>\n",
       "      <td>1.0</td>\n",
       "      <td>1p36.22</td>\n",
       "      <td>NaN</td>\n",
       "      <td>0.141170</td>\n",
       "      <td>PRKCZ</td>\n",
       "      <td>-0.0</td>\n",
       "      <td>0.850258</td>\n",
       "    </tr>\n",
       "    <tr>\n",
       "      <th>35</th>\n",
       "      <td>1.0</td>\n",
       "      <td>22q13.31</td>\n",
       "      <td>NaN</td>\n",
       "      <td>0.132270</td>\n",
       "      <td>DNAJB7</td>\n",
       "      <td>-0.0</td>\n",
       "      <td>0.878539</td>\n",
       "    </tr>\n",
       "    <tr>\n",
       "      <th>33</th>\n",
       "      <td>1.0</td>\n",
       "      <td>19p12</td>\n",
       "      <td>NaN</td>\n",
       "      <td>0.108150</td>\n",
       "      <td>EPHX3</td>\n",
       "      <td>-0.0</td>\n",
       "      <td>0.965973</td>\n",
       "    </tr>\n",
       "    <tr>\n",
       "      <th>27</th>\n",
       "      <td>1.0</td>\n",
       "      <td>6q22.31</td>\n",
       "      <td>NaN</td>\n",
       "      <td>0.076578</td>\n",
       "      <td>C6orf170</td>\n",
       "      <td>-0.0</td>\n",
       "      <td>1.115896</td>\n",
       "    </tr>\n",
       "    <tr>\n",
       "      <th>34</th>\n",
       "      <td>1.0</td>\n",
       "      <td>21q11.2</td>\n",
       "      <td>NaN</td>\n",
       "      <td>0.048570</td>\n",
       "      <td>TPTE</td>\n",
       "      <td>-0.0</td>\n",
       "      <td>1.313632</td>\n",
       "    </tr>\n",
       "    <tr>\n",
       "      <th>20</th>\n",
       "      <td>1.0</td>\n",
       "      <td>1p13.2</td>\n",
       "      <td>NaN</td>\n",
       "      <td>0.036117</td>\n",
       "      <td>MAGI3</td>\n",
       "      <td>-0.0</td>\n",
       "      <td>1.442288</td>\n",
       "    </tr>\n",
       "    <tr>\n",
       "      <th>26</th>\n",
       "      <td>1.0</td>\n",
       "      <td>4q32.3</td>\n",
       "      <td>NaN</td>\n",
       "      <td>0.034063</td>\n",
       "      <td>GUCY1A3</td>\n",
       "      <td>-0.0</td>\n",
       "      <td>1.467717</td>\n",
       "    </tr>\n",
       "    <tr>\n",
       "      <th>25</th>\n",
       "      <td>1.0</td>\n",
       "      <td>4q24</td>\n",
       "      <td>NaN</td>\n",
       "      <td>0.019728</td>\n",
       "      <td>NPNT</td>\n",
       "      <td>-0.0</td>\n",
       "      <td>1.704917</td>\n",
       "    </tr>\n",
       "    <tr>\n",
       "      <th>30</th>\n",
       "      <td>1.0</td>\n",
       "      <td>11q21</td>\n",
       "      <td>NaN</td>\n",
       "      <td>0.011278</td>\n",
       "      <td>PANX1</td>\n",
       "      <td>-0.0</td>\n",
       "      <td>1.947768</td>\n",
       "    </tr>\n",
       "    <tr>\n",
       "      <th>22</th>\n",
       "      <td>1.0</td>\n",
       "      <td>2q37.1</td>\n",
       "      <td>NaN</td>\n",
       "      <td>0.000509</td>\n",
       "      <td>AGXT</td>\n",
       "      <td>-0.0</td>\n",
       "      <td>3.293564</td>\n",
       "    </tr>\n",
       "    <tr>\n",
       "      <th>24</th>\n",
       "      <td>1.0</td>\n",
       "      <td>4p15.1</td>\n",
       "      <td>NaN</td>\n",
       "      <td>0.000509</td>\n",
       "      <td>PCDH7</td>\n",
       "      <td>-0.0</td>\n",
       "      <td>3.293564</td>\n",
       "    </tr>\n",
       "    <tr>\n",
       "      <th>31</th>\n",
       "      <td>1.0</td>\n",
       "      <td>11q25</td>\n",
       "      <td>NaN</td>\n",
       "      <td>0.000509</td>\n",
       "      <td>GLB1L3</td>\n",
       "      <td>-0.0</td>\n",
       "      <td>3.293564</td>\n",
       "    </tr>\n",
       "    <tr>\n",
       "      <th>32</th>\n",
       "      <td>1.0</td>\n",
       "      <td>13q13.2</td>\n",
       "      <td>NaN</td>\n",
       "      <td>0.000509</td>\n",
       "      <td>STARD13</td>\n",
       "      <td>-0.0</td>\n",
       "      <td>3.293564</td>\n",
       "    </tr>\n",
       "  </tbody>\n",
       "</table>\n",
       "</div>"
      ],
      "text/plain": [
       "    q_value_hiv+  cytoband gene_hiv+  q_value_hiv- gene_hiv-  hiv+q(-log10)  \\\n",
       "28           1.0   7q11.23       NaN      0.199190  FLJ35390           -0.0   \n",
       "23           1.0    3p14.1       NaN      0.170100       PXK           -0.0   \n",
       "29           1.0   10p11.1       NaN      0.170100    ZNF33B           -0.0   \n",
       "21           1.0   1p36.22       NaN      0.141170     PRKCZ           -0.0   \n",
       "35           1.0  22q13.31       NaN      0.132270    DNAJB7           -0.0   \n",
       "33           1.0     19p12       NaN      0.108150     EPHX3           -0.0   \n",
       "27           1.0   6q22.31       NaN      0.076578  C6orf170           -0.0   \n",
       "34           1.0   21q11.2       NaN      0.048570      TPTE           -0.0   \n",
       "20           1.0    1p13.2       NaN      0.036117     MAGI3           -0.0   \n",
       "26           1.0    4q32.3       NaN      0.034063   GUCY1A3           -0.0   \n",
       "25           1.0      4q24       NaN      0.019728      NPNT           -0.0   \n",
       "30           1.0     11q21       NaN      0.011278     PANX1           -0.0   \n",
       "22           1.0    2q37.1       NaN      0.000509      AGXT           -0.0   \n",
       "24           1.0    4p15.1       NaN      0.000509     PCDH7           -0.0   \n",
       "31           1.0     11q25       NaN      0.000509    GLB1L3           -0.0   \n",
       "32           1.0   13q13.2       NaN      0.000509   STARD13           -0.0   \n",
       "\n",
       "    hiv-q(-log10)  \n",
       "28       0.700732  \n",
       "23       0.769296  \n",
       "29       0.769296  \n",
       "21       0.850258  \n",
       "35       0.878539  \n",
       "33       0.965973  \n",
       "27       1.115896  \n",
       "34       1.313632  \n",
       "20       1.442288  \n",
       "26       1.467717  \n",
       "25       1.704917  \n",
       "30       1.947768  \n",
       "22       3.293564  \n",
       "24       3.293564  \n",
       "31       3.293564  \n",
       "32       3.293564  "
      ]
     },
     "execution_count": 4,
     "metadata": {},
     "output_type": "execute_result"
    }
   ],
   "source": [
    "ndf[ndf['hiv+q(-log10)']==0].sort_values('hiv-q(-log10)', ascending=True)"
   ]
  },
  {
   "cell_type": "code",
   "execution_count": 6,
   "metadata": {},
   "outputs": [
    {
     "data": {
      "text/html": [
       "<div>\n",
       "<style scoped>\n",
       "    .dataframe tbody tr th:only-of-type {\n",
       "        vertical-align: middle;\n",
       "    }\n",
       "\n",
       "    .dataframe tbody tr th {\n",
       "        vertical-align: top;\n",
       "    }\n",
       "\n",
       "    .dataframe thead th {\n",
       "        text-align: right;\n",
       "    }\n",
       "</style>\n",
       "<table border=\"1\" class=\"dataframe\">\n",
       "  <thead>\n",
       "    <tr style=\"text-align: right;\">\n",
       "      <th></th>\n",
       "      <th>q_value_hiv+</th>\n",
       "      <th>cytoband</th>\n",
       "      <th>gene_hiv+</th>\n",
       "      <th>q_value_hiv-</th>\n",
       "      <th>gene_hiv-</th>\n",
       "      <th>hiv+q(-log10)</th>\n",
       "      <th>hiv-q(-log10)</th>\n",
       "    </tr>\n",
       "  </thead>\n",
       "  <tbody>\n",
       "    <tr>\n",
       "      <th>1</th>\n",
       "      <td>1.519500e-09</td>\n",
       "      <td>2q36.3</td>\n",
       "      <td>AGXT</td>\n",
       "      <td>1.0</td>\n",
       "      <td>NaN</td>\n",
       "      <td>8.818299</td>\n",
       "      <td>-0.0</td>\n",
       "    </tr>\n",
       "    <tr>\n",
       "      <th>5</th>\n",
       "      <td>2.792400e-05</td>\n",
       "      <td>4q35.2</td>\n",
       "      <td>F11</td>\n",
       "      <td>1.0</td>\n",
       "      <td>NaN</td>\n",
       "      <td>4.554022</td>\n",
       "      <td>-0.0</td>\n",
       "    </tr>\n",
       "    <tr>\n",
       "      <th>2</th>\n",
       "      <td>5.958900e-04</td>\n",
       "      <td>3p13</td>\n",
       "      <td>CHMP2B</td>\n",
       "      <td>1.0</td>\n",
       "      <td>NaN</td>\n",
       "      <td>3.224834</td>\n",
       "      <td>-0.0</td>\n",
       "    </tr>\n",
       "    <tr>\n",
       "      <th>11</th>\n",
       "      <td>8.401800e-04</td>\n",
       "      <td>11q24.3</td>\n",
       "      <td>TTC36</td>\n",
       "      <td>1.0</td>\n",
       "      <td>NaN</td>\n",
       "      <td>3.075628</td>\n",
       "      <td>-0.0</td>\n",
       "    </tr>\n",
       "    <tr>\n",
       "      <th>13</th>\n",
       "      <td>9.411400e-04</td>\n",
       "      <td>13q14.2</td>\n",
       "      <td>LOC100616668</td>\n",
       "      <td>1.0</td>\n",
       "      <td>NaN</td>\n",
       "      <td>3.026346</td>\n",
       "      <td>-0.0</td>\n",
       "    </tr>\n",
       "    <tr>\n",
       "      <th>4</th>\n",
       "      <td>3.485300e-03</td>\n",
       "      <td>4q21.3</td>\n",
       "      <td>MAPK10</td>\n",
       "      <td>1.0</td>\n",
       "      <td>NaN</td>\n",
       "      <td>2.457760</td>\n",
       "      <td>-0.0</td>\n",
       "    </tr>\n",
       "    <tr>\n",
       "      <th>12</th>\n",
       "      <td>6.417600e-03</td>\n",
       "      <td>13q12.11</td>\n",
       "      <td>LOC100616668</td>\n",
       "      <td>1.0</td>\n",
       "      <td>NaN</td>\n",
       "      <td>2.192627</td>\n",
       "      <td>-0.0</td>\n",
       "    </tr>\n",
       "    <tr>\n",
       "      <th>15</th>\n",
       "      <td>6.882200e-03</td>\n",
       "      <td>17q12</td>\n",
       "      <td>BRIP1</td>\n",
       "      <td>1.0</td>\n",
       "      <td>NaN</td>\n",
       "      <td>2.162273</td>\n",
       "      <td>-0.0</td>\n",
       "    </tr>\n",
       "    <tr>\n",
       "      <th>3</th>\n",
       "      <td>1.144100e-02</td>\n",
       "      <td>3p14.2</td>\n",
       "      <td>MAP4</td>\n",
       "      <td>1.0</td>\n",
       "      <td>NaN</td>\n",
       "      <td>1.941536</td>\n",
       "      <td>-0.0</td>\n",
       "    </tr>\n",
       "    <tr>\n",
       "      <th>6</th>\n",
       "      <td>1.787700e-02</td>\n",
       "      <td>5q14.2</td>\n",
       "      <td>ATP6AP1L</td>\n",
       "      <td>1.0</td>\n",
       "      <td>NaN</td>\n",
       "      <td>1.747705</td>\n",
       "      <td>-0.0</td>\n",
       "    </tr>\n",
       "    <tr>\n",
       "      <th>18</th>\n",
       "      <td>2.505600e-02</td>\n",
       "      <td>20p12.1</td>\n",
       "      <td>MACROD2</td>\n",
       "      <td>1.0</td>\n",
       "      <td>NaN</td>\n",
       "      <td>1.601088</td>\n",
       "      <td>-0.0</td>\n",
       "    </tr>\n",
       "    <tr>\n",
       "      <th>14</th>\n",
       "      <td>3.113500e-02</td>\n",
       "      <td>13q21.32</td>\n",
       "      <td>LOC100616668</td>\n",
       "      <td>1.0</td>\n",
       "      <td>NaN</td>\n",
       "      <td>1.506751</td>\n",
       "      <td>-0.0</td>\n",
       "    </tr>\n",
       "    <tr>\n",
       "      <th>9</th>\n",
       "      <td>3.311300e-02</td>\n",
       "      <td>9p21.3</td>\n",
       "      <td>MTAP</td>\n",
       "      <td>1.0</td>\n",
       "      <td>NaN</td>\n",
       "      <td>1.480001</td>\n",
       "      <td>-0.0</td>\n",
       "    </tr>\n",
       "    <tr>\n",
       "      <th>7</th>\n",
       "      <td>1.141000e-01</td>\n",
       "      <td>6p21.31</td>\n",
       "      <td>hsa-mir-1236</td>\n",
       "      <td>1.0</td>\n",
       "      <td>NaN</td>\n",
       "      <td>0.942714</td>\n",
       "      <td>-0.0</td>\n",
       "    </tr>\n",
       "    <tr>\n",
       "      <th>8</th>\n",
       "      <td>1.412500e-01</td>\n",
       "      <td>6q25.3</td>\n",
       "      <td>hsa-mir-1236</td>\n",
       "      <td>1.0</td>\n",
       "      <td>NaN</td>\n",
       "      <td>0.850012</td>\n",
       "      <td>-0.0</td>\n",
       "    </tr>\n",
       "    <tr>\n",
       "      <th>10</th>\n",
       "      <td>2.267600e-01</td>\n",
       "      <td>10q23.2</td>\n",
       "      <td>CFL1P1</td>\n",
       "      <td>1.0</td>\n",
       "      <td>NaN</td>\n",
       "      <td>0.644434</td>\n",
       "      <td>-0.0</td>\n",
       "    </tr>\n",
       "  </tbody>\n",
       "</table>\n",
       "</div>"
      ],
      "text/plain": [
       "    q_value_hiv+  cytoband     gene_hiv+  q_value_hiv- gene_hiv-  \\\n",
       "1   1.519500e-09    2q36.3          AGXT           1.0       NaN   \n",
       "5   2.792400e-05    4q35.2           F11           1.0       NaN   \n",
       "2   5.958900e-04      3p13        CHMP2B           1.0       NaN   \n",
       "11  8.401800e-04   11q24.3         TTC36           1.0       NaN   \n",
       "13  9.411400e-04   13q14.2  LOC100616668           1.0       NaN   \n",
       "4   3.485300e-03    4q21.3        MAPK10           1.0       NaN   \n",
       "12  6.417600e-03  13q12.11  LOC100616668           1.0       NaN   \n",
       "15  6.882200e-03     17q12         BRIP1           1.0       NaN   \n",
       "3   1.144100e-02    3p14.2          MAP4           1.0       NaN   \n",
       "6   1.787700e-02    5q14.2      ATP6AP1L           1.0       NaN   \n",
       "18  2.505600e-02   20p12.1       MACROD2           1.0       NaN   \n",
       "14  3.113500e-02  13q21.32  LOC100616668           1.0       NaN   \n",
       "9   3.311300e-02    9p21.3          MTAP           1.0       NaN   \n",
       "7   1.141000e-01   6p21.31  hsa-mir-1236           1.0       NaN   \n",
       "8   1.412500e-01    6q25.3  hsa-mir-1236           1.0       NaN   \n",
       "10  2.267600e-01   10q23.2        CFL1P1           1.0       NaN   \n",
       "\n",
       "    hiv+q(-log10)  hiv-q(-log10)  \n",
       "1        8.818299           -0.0  \n",
       "5        4.554022           -0.0  \n",
       "2        3.224834           -0.0  \n",
       "11       3.075628           -0.0  \n",
       "13       3.026346           -0.0  \n",
       "4        2.457760           -0.0  \n",
       "12       2.192627           -0.0  \n",
       "15       2.162273           -0.0  \n",
       "3        1.941536           -0.0  \n",
       "6        1.747705           -0.0  \n",
       "18       1.601088           -0.0  \n",
       "14       1.506751           -0.0  \n",
       "9        1.480001           -0.0  \n",
       "7        0.942714           -0.0  \n",
       "8        0.850012           -0.0  \n",
       "10       0.644434           -0.0  "
      ]
     },
     "execution_count": 6,
     "metadata": {},
     "output_type": "execute_result"
    }
   ],
   "source": [
    "ndf[ndf['hiv-q(-log10)']==0].sort_values('hiv+q(-log10)', ascending=False)"
   ]
  },
  {
   "cell_type": "code",
   "execution_count": 7,
   "metadata": {
    "scrolled": true
   },
   "outputs": [
    {
     "data": {
      "text/plain": [
       "Text(4,1,'2q36.3')"
      ]
     },
     "execution_count": 7,
     "metadata": {},
     "output_type": "execute_result"
    },
    {
     "data": {
      "text/plain": [
       "Text(4,1.6,'4q35.2')"
      ]
     },
     "execution_count": 7,
     "metadata": {},
     "output_type": "execute_result"
    },
    {
     "data": {
      "text/plain": [
       "Text(4,2.2,'3p13')"
      ]
     },
     "execution_count": 7,
     "metadata": {},
     "output_type": "execute_result"
    },
    {
     "data": {
      "text/plain": [
       "Text(4,2.8,'11q24.3')"
      ]
     },
     "execution_count": 7,
     "metadata": {},
     "output_type": "execute_result"
    },
    {
     "data": {
      "text/plain": [
       "Text(4,3.4,'13q14.2')"
      ]
     },
     "execution_count": 7,
     "metadata": {},
     "output_type": "execute_result"
    },
    {
     "data": {
      "text/plain": [
       "Text(4,4,'4q21.3')"
      ]
     },
     "execution_count": 7,
     "metadata": {},
     "output_type": "execute_result"
    },
    {
     "data": {
      "text/plain": [
       "Text(4,4.6,'13q12.11')"
      ]
     },
     "execution_count": 7,
     "metadata": {},
     "output_type": "execute_result"
    },
    {
     "data": {
      "text/plain": [
       "Text(4,5.2,'17q12')"
      ]
     },
     "execution_count": 7,
     "metadata": {},
     "output_type": "execute_result"
    },
    {
     "data": {
      "text/plain": [
       "Text(4,5.8,'3p14.2')"
      ]
     },
     "execution_count": 7,
     "metadata": {},
     "output_type": "execute_result"
    },
    {
     "data": {
      "text/plain": [
       "Text(4,6.4,'5q14.2')"
      ]
     },
     "execution_count": 7,
     "metadata": {},
     "output_type": "execute_result"
    },
    {
     "data": {
      "text/plain": [
       "Text(4,7,'20p12.1')"
      ]
     },
     "execution_count": 7,
     "metadata": {},
     "output_type": "execute_result"
    },
    {
     "data": {
      "text/plain": [
       "Text(4,7.6,'13q21.32')"
      ]
     },
     "execution_count": 7,
     "metadata": {},
     "output_type": "execute_result"
    },
    {
     "data": {
      "text/plain": [
       "Text(4,8.2,'9p21.3')"
      ]
     },
     "execution_count": 7,
     "metadata": {},
     "output_type": "execute_result"
    },
    {
     "data": {
      "text/plain": [
       "Text(4,8.8,'6p21.31')"
      ]
     },
     "execution_count": 7,
     "metadata": {},
     "output_type": "execute_result"
    },
    {
     "data": {
      "text/plain": [
       "Text(4,9.4,'6q25.3')"
      ]
     },
     "execution_count": 7,
     "metadata": {},
     "output_type": "execute_result"
    },
    {
     "data": {
      "text/plain": [
       "Text(4,10,'10q23.2')"
      ]
     },
     "execution_count": 7,
     "metadata": {},
     "output_type": "execute_result"
    },
    {
     "data": {
      "text/plain": [
       "<matplotlib.collections.PathCollection at 0x7f1a2005acc0>"
      ]
     },
     "execution_count": 7,
     "metadata": {},
     "output_type": "execute_result"
    },
    {
     "data": {
      "image/png": "[encoded data removed]",
      "text/plain": [
       "<Figure size 432x288 with 1 Axes>"
      ]
     },
     "metadata": {},
     "output_type": "display_data"
    }
   ],
   "source": [
    "fig, ax = plt.subplots()\n",
    "hivneg_bands = ndf[ndf['hiv-q(-log10)']==0].sort_values('hiv+q(-log10)', ascending=False)['cytoband'].tolist()\n",
    "nbands = len(hivneg_bands)\n",
    "anno_ys = np.linspace(1, 10, nbands)\n",
    "anno_xs = np.array([4]*nbands)\n",
    "for i, lb in enumerate(hivneg_bands):\n",
    "    ax.text(anno_xs[i], anno_ys[i], lb)\n",
    "ax.scatter(anno_xs, anno_ys)\n",
    "plt.show()"
   ]
  },
  {
   "cell_type": "code",
   "execution_count": 8,
   "metadata": {},
   "outputs": [
    {
     "data": {
      "text/html": [
       "<div>\n",
       "<style scoped>\n",
       "    .dataframe tbody tr th:only-of-type {\n",
       "        vertical-align: middle;\n",
       "    }\n",
       "\n",
       "    .dataframe tbody tr th {\n",
       "        vertical-align: top;\n",
       "    }\n",
       "\n",
       "    .dataframe thead th {\n",
       "        text-align: right;\n",
       "    }\n",
       "</style>\n",
       "<table border=\"1\" class=\"dataframe\">\n",
       "  <thead>\n",
       "    <tr style=\"text-align: right;\">\n",
       "      <th></th>\n",
       "      <th>q_value_hiv+</th>\n",
       "      <th>cytoband</th>\n",
       "      <th>gene_hiv+</th>\n",
       "      <th>q_value_hiv-</th>\n",
       "      <th>gene_hiv-</th>\n",
       "      <th>hiv+q(-log10)</th>\n",
       "      <th>hiv-q(-log10)</th>\n",
       "    </tr>\n",
       "  </thead>\n",
       "  <tbody>\n",
       "    <tr>\n",
       "      <th>0</th>\n",
       "      <td>1.043200e-15</td>\n",
       "      <td>2q22.1</td>\n",
       "      <td>LRP1B</td>\n",
       "      <td>0.04368</td>\n",
       "      <td>LOC389033</td>\n",
       "      <td>14.981632</td>\n",
       "      <td>1.359717</td>\n",
       "    </tr>\n",
       "    <tr>\n",
       "      <th>1</th>\n",
       "      <td>1.519500e-09</td>\n",
       "      <td>2q36.3</td>\n",
       "      <td>AGXT</td>\n",
       "      <td>1.00000</td>\n",
       "      <td>NaN</td>\n",
       "      <td>8.818299</td>\n",
       "      <td>-0.000000</td>\n",
       "    </tr>\n",
       "    <tr>\n",
       "      <th>2</th>\n",
       "      <td>5.958900e-04</td>\n",
       "      <td>3p13</td>\n",
       "      <td>CHMP2B</td>\n",
       "      <td>1.00000</td>\n",
       "      <td>NaN</td>\n",
       "      <td>3.224834</td>\n",
       "      <td>-0.000000</td>\n",
       "    </tr>\n",
       "    <tr>\n",
       "      <th>3</th>\n",
       "      <td>1.144100e-02</td>\n",
       "      <td>3p14.2</td>\n",
       "      <td>MAP4</td>\n",
       "      <td>1.00000</td>\n",
       "      <td>NaN</td>\n",
       "      <td>1.941536</td>\n",
       "      <td>-0.000000</td>\n",
       "    </tr>\n",
       "    <tr>\n",
       "      <th>4</th>\n",
       "      <td>3.485300e-03</td>\n",
       "      <td>4q21.3</td>\n",
       "      <td>MAPK10</td>\n",
       "      <td>1.00000</td>\n",
       "      <td>NaN</td>\n",
       "      <td>2.457760</td>\n",
       "      <td>-0.000000</td>\n",
       "    </tr>\n",
       "  </tbody>\n",
       "</table>\n",
       "</div>"
      ],
      "text/plain": [
       "   q_value_hiv+ cytoband gene_hiv+  q_value_hiv-  gene_hiv-  hiv+q(-log10)  \\\n",
       "0  1.043200e-15   2q22.1     LRP1B       0.04368  LOC389033      14.981632   \n",
       "1  1.519500e-09   2q36.3      AGXT       1.00000        NaN       8.818299   \n",
       "2  5.958900e-04     3p13    CHMP2B       1.00000        NaN       3.224834   \n",
       "3  1.144100e-02   3p14.2      MAP4       1.00000        NaN       1.941536   \n",
       "4  3.485300e-03   4q21.3    MAPK10       1.00000        NaN       2.457760   \n",
       "\n",
       "   hiv-q(-log10)  \n",
       "0       1.359717  \n",
       "1      -0.000000  \n",
       "2      -0.000000  \n",
       "3      -0.000000  \n",
       "4      -0.000000  "
      ]
     },
     "execution_count": 8,
     "metadata": {},
     "output_type": "execute_result"
    },
    {
     "data": {
      "text/plain": [
       "<matplotlib.axes._subplots.AxesSubplot at 0x7f1a1f90d0b8>"
      ]
     },
     "execution_count": 8,
     "metadata": {},
     "output_type": "execute_result"
    },
    {
     "data": {
      "text/plain": [
       "Text(0.5,0,'HIV-(-log10)')"
      ]
     },
     "execution_count": 8,
     "metadata": {},
     "output_type": "execute_result"
    },
    {
     "data": {
      "text/plain": [
       "Text(0,0.5,'HIV+(-log10)')"
      ]
     },
     "execution_count": 8,
     "metadata": {},
     "output_type": "execute_result"
    },
    {
     "data": {
      "text/plain": [
       "Text(0.5,1,'GISTIC dels cytobands')"
      ]
     },
     "execution_count": 8,
     "metadata": {},
     "output_type": "execute_result"
    },
    {
     "data": {
      "text/plain": [
       "(-1, 16)"
      ]
     },
     "execution_count": 8,
     "metadata": {},
     "output_type": "execute_result"
    },
    {
     "data": {
      "text/plain": [
       "(-1, 16)"
      ]
     },
     "execution_count": 8,
     "metadata": {},
     "output_type": "execute_result"
    },
    {
     "data": {
      "image/png": "[encoded data removed]",
      "text/plain": [
       "<Figure size 504x504 with 1 Axes>"
      ]
     },
     "metadata": {},
     "output_type": "display_data"
    }
   ],
   "source": [
    "cnvdir = '/projects/trans_scratch/validations/workspace/szong/Cervical/cnv/'\n",
    "of = f'{cnvdir}gistic_cytobands_hiv_pos_vs_neg.csv'\n",
    "# ndf.to_csv(of, index=False)\n",
    "ndf = pd.read_csv(of)\n",
    "ndf.head()\n",
    "x = ndf['hiv-q(-log10)']\n",
    "y = ndf['hiv+q(-log10)']\n",
    "# Set theme\n",
    "sns.set_style('whitegrid')\n",
    "f, ax = plt.subplots(figsize=(7, 7))\n",
    "sns.regplot(x='hiv-q(-log10)', y='hiv+q(-log10)', data=ndf, ax=ax, fit_reg=False,  scatter_kws={\"s\": 10})#x_jitter=1e-12, y_jitter=1e-10,\n",
    "ax.set_xlabel('HIV-(-log10)', fontsize=16)\n",
    "ax.set_ylabel('HIV+(-log10)', fontsize=16)\n",
    "ax.set_title('GISTIC dels cytobands')\n",
    "ax.set_xlim(-1, 16)\n",
    "ax.set_ylim(-1, 16)\n",
    "\n",
    "texts = [plt.text(a, b, c) for a, b, c in zip(ndf['hiv-q(-log10)'], ndf['hiv+q(-log10)'], ndf.cytoband)]\n",
    "# adjust_text(texts)\n",
    "\n",
    "# of = f'{root}del_cytoband_qvalue_comparison_hiv_pos_vs_neg.png'\n",
    "# plt.savefig(of, bbox_inches='tight', dpi=200)"
   ]
  },
  {
   "cell_type": "code",
   "execution_count": 22,
   "metadata": {},
   "outputs": [
    {
     "name": "stdout",
     "output_type": "stream",
     "text": [
      "xxx 0\n"
     ]
    },
    {
     "data": {
      "image/png": "[encoded data removed]",
      "text/plain": [
       "<Figure size 576x576 with 2 Axes>"
      ]
     },
     "metadata": {},
     "output_type": "display_data"
    }
   ],
   "source": [
    "import numpy as np\n",
    "from matplotlib.transforms import Affine2D\n",
    "import mpl_toolkits.axisartist.floating_axes as floating_axes\n",
    "import matplotlib.pyplot as plt\n",
    "\n",
    "fig  = plt.figure(1, figsize=(8, 8))\n",
    "\n",
    "axisOrientation = 45\n",
    "axisScale = [1,1]\n",
    "axisPosition = 222\n",
    "axisLimits = (0,5, 0, 5)\n",
    "print('xxx', axisLimits[0])\n",
    "doShift = [True]\n",
    "axes = []\n",
    "label_axes = []\n",
    "i = 0\n",
    "tr_rot = Affine2D().scale(1,1).rotate_deg(45)\n",
    "tr_trn = Affine2D().translate(-90,-5)\n",
    "tr = tr_rot + tr_trn\n",
    "grid_helper = floating_axes.GridHelperCurveLinear(tr, extremes=axisLimits)\n",
    "\n",
    "ax = floating_axes.FloatingSubplot(fig, 222, grid_helper=grid_helper)\n",
    "\n",
    "fig.add_subplot(ax)\n",
    "aux_ax = ax.get_aux_axes(tr)\n",
    "\n",
    "\n",
    "axes.append(aux_ax)\n",
    "label_axes.append(ax)\n",
    "\n",
    "\n",
    "x = np.random.randint(1,5,10)\n",
    "y = np.random.randint(1,5,10)\n",
    "axes[0].scatter(np.array(x), np.array(y))\n",
    "axes[0].scatter(x=3.5, y=4, marker='^', c='red')\n",
    "axes[0].text(3,4,'xxxx', rotation=45)\n",
    "ax.axis['left'].label.set_text('left')\n",
    "ax.axis['bottom'].label.set_text('bottom')\n",
    "\n",
    "\n",
    "# add a subplot\n",
    "ax2 = fig.add_subplot(211)\n",
    "\n",
    "\n",
    "\n",
    "fig.subplots_adjust(wspace=-0.30, hspace=-0.30, left=0.00, right=0.99, top=0.99, bottom=0.0)\n",
    "plt.show()"
   ]
  },
  {
   "cell_type": "code",
   "execution_count": 121,
   "metadata": {},
   "outputs": [],
   "source": [
    "from matplotlib.transforms import Affine2D\n",
    "import mpl_toolkits.axisartist.floating_axes as floating_axes\n",
    "import numpy as np\n",
    "import mpl_toolkits.axisartist.angle_helper as angle_helper\n",
    "from matplotlib.projections import PolarAxes\n",
    "from mpl_toolkits.axisartist.grid_finder import (FixedLocator, MaxNLocator,\n",
    "                                                 DictFormatter)\n",
    "import matplotlib.pyplot as plt\n",
    "\n",
    "# Fixing random state for reproducibility\n",
    "np.random.seed(19680801)\n",
    "\n",
    "\n",
    "def setup_axes1(fig, rect):\n",
    "    \"\"\"\n",
    "    A simple one.\n",
    "    \"\"\"\n",
    "    tr = Affine2D().scale(2, 1).rotate_deg(30)\n",
    "\n",
    "    grid_helper = floating_axes.GridHelperCurveLinear(\n",
    "        tr, extremes=(-0.5, 3.5, 0, 4))\n",
    "\n",
    "    ax1 = floating_axes.FloatingSubplot(fig, rect, grid_helper=grid_helper)\n",
    "    fig.add_subplot(ax1)\n",
    "\n",
    "    aux_ax = ax1.get_aux_axes(tr)\n",
    "\n",
    "    grid_helper.grid_finder.grid_locator1._nbins = 4\n",
    "    grid_helper.grid_finder.grid_locator2._nbins = 4\n",
    "\n",
    "    return ax1, aux_ax\n",
    "\n",
    "\n",
    "def setup_axes2(fig, rect):\n",
    "    \"\"\"\n",
    "    With custom locator and formatter.\n",
    "    Note that the extreme values are swapped.\n",
    "    \"\"\"\n",
    "    tr = PolarAxes.PolarTransform()\n",
    "\n",
    "    pi = np.pi\n",
    "    angle_ticks = [(0, r\"$0$\"),\n",
    "                   (.25*pi, r\"$\\frac{1}{4}\\pi$\"),\n",
    "                   (.5*pi, r\"$\\frac{1}{2}\\pi$\")]\n",
    "    grid_locator1 = FixedLocator([v for v, s in angle_ticks])\n",
    "    tick_formatter1 = DictFormatter(dict(angle_ticks))\n",
    "\n",
    "    grid_locator2 = MaxNLocator(2)\n",
    "\n",
    "    grid_helper = floating_axes.GridHelperCurveLinear(\n",
    "        tr, extremes=(.5*pi, 0, 2, 1),\n",
    "        grid_locator1=grid_locator1,\n",
    "        grid_locator2=grid_locator2,\n",
    "        tick_formatter1=tick_formatter1,\n",
    "        tick_formatter2=None)\n",
    "\n",
    "    ax1 = floating_axes.FloatingSubplot(fig, rect, grid_helper=grid_helper)\n",
    "    fig.add_subplot(ax1)\n",
    "\n",
    "    # create a parasite axes whose transData in RA, cz\n",
    "    aux_ax = ax1.get_aux_axes(tr)\n",
    "\n",
    "    aux_ax.patch = ax1.patch  # for aux_ax to have a clip path as in ax\n",
    "    ax1.patch.zorder = 0.9  # but this has a side effect that the patch is\n",
    "    # drawn twice, and possibly over some other\n",
    "    # artists. So, we decrease the zorder a bit to\n",
    "    # prevent this.\n",
    "\n",
    "    return ax1, aux_ax\n",
    "def setup_axes3(fig, rect):\n",
    "    \"\"\"\n",
    "    Sometimes, things like axis_direction need to be adjusted.\n",
    "    \"\"\"\n",
    "\n",
    "    # rotate a bit for better orientation\n",
    "    tr_rotate = Affine2D().translate(-65, 0)\n",
    "\n",
    "    # scale degree to radians\n",
    "    tr_scale = Affine2D().scale(np.pi/180., 1.)\n",
    "\n",
    "    tr = tr_rotate + tr_scale + PolarAxes.PolarTransform()\n",
    "\n",
    "    grid_locator1 = angle_helper.LocatorHMS(4)\n",
    "    tick_formatter1 = angle_helper.FormatterHMS()\n",
    "\n",
    "    grid_locator2 = MaxNLocator(3)\n",
    "\n",
    "    # Specify theta limits in degrees\n",
    "    ra0, ra1 = 8.*15, 14.*15\n",
    "    # Specify radial limits\n",
    "    cz0, cz1 = 0, 10\n",
    "    grid_helper = floating_axes.GridHelperCurveLinear(\n",
    "        tr, extremes=(ra0, ra1, cz0, cz1),\n",
    "        grid_locator1=grid_locator1,\n",
    "        grid_locator2=grid_locator2,\n",
    "        tick_formatter1=tick_formatter1,\n",
    "        tick_formatter2=None)\n",
    "\n",
    "    ax1 = floating_axes.FloatingSubplot(fig, rect, grid_helper=grid_helper)\n",
    "    fig.add_subplot(ax1)\n",
    "\n",
    "    # adjust axis\n",
    "    ax1.axis[\"left\"].set_axis_direction(\"bottom\")\n",
    "    ax1.axis[\"right\"].set_axis_direction(\"top\")\n",
    "\n",
    "    ax1.axis[\"bottom\"].set_visible(True)\n",
    "    ax1.axis[\"top\"].set_axis_direction(\"bottom\")\n",
    "    ax1.axis[\"top\"].toggle(ticklabels=True, label=True)\n",
    "    ax1.axis[\"top\"].major_ticklabels.set_axis_direction(\"top\")\n",
    "    ax1.axis[\"top\"].label.set_axis_direction(\"top\")\n",
    "\n",
    "    ax1.axis[\"left\"].label.set_text(r\"cz [km$^{-1}$]\")\n",
    "    ax1.axis[\"top\"].label.set_text(r\"$\\alpha_{1950}$\")\n",
    "\n",
    "    # create a parasite axes whose transData in RA, cz\n",
    "    aux_ax = ax1.get_aux_axes(tr)\n",
    "\n",
    "    aux_ax.patch = ax1.patch  # for aux_ax to have a clip path as in ax\n",
    "    ax1.patch.zorder = 0.9  # but this has a side effect that the patch is\n",
    "    # drawn twice, and possibly over some other\n",
    "    # artists. So, we decrease the zorder a bit to\n",
    "    # prevent this.\n",
    "\n",
    "    return ax1, aux_ax"
   ]
  },
  {
   "cell_type": "code",
   "execution_count": 122,
   "metadata": {},
   "outputs": [
    {
     "name": "stdout",
     "output_type": "stream",
     "text": [
      "[56.67455225 97.77853328 70.6334846 ]\n",
      "[183.03305735 186.84757285 183.83520096]\n"
     ]
    },
    {
     "data": {
      "image/png": "[encoded data removed]",
      "text/plain": [
       "<Figure size 576x288 with 1 Axes>"
      ]
     },
     "metadata": {},
     "output_type": "display_data"
    }
   ],
   "source": [
    "fig = plt.figure(1, figsize=(8, 4))\n",
    "fig.subplots_adjust(wspace=0.3, left=0.05, right=0.95)\n",
    "\n",
    "# ax1, aux_ax1 = setup_axes1(fig, 131)\n",
    "# aux_ax1.bar([0, 1, 2, 3], [3, 2, 1, 3])\n",
    "\n",
    "# ax2, aux_ax2 = setup_axes2(fig, 132)\n",
    "# theta = np.random.rand(10)*.5*np.pi\n",
    "# radius = np.random.rand(10) + 1.\n",
    "# aux_ax2.scatter(theta, radius)\n",
    "\n",
    "ax3, aux_ax3 = setup_axes3(fig, 133)\n",
    "\n",
    "theta = (8 + np.random.rand(3)*(14 - 8))*15.  # in degrees\n",
    "radius = np.random.rand(3)*100.\n",
    "print(radius)\n",
    "print(theta)\n",
    "aux_ax3.scatter(theta, radius)\n",
    "\n",
    "plt.show()"
   ]
  },
  {
   "cell_type": "code",
   "execution_count": 46,
   "metadata": {},
   "outputs": [
    {
     "name": "stdout",
     "output_type": "stream",
     "text": [
      "0\n",
      "1\n",
      "2\n",
      "3\n"
     ]
    },
    {
     "data": {
      "image/png": "[encoded data removed]",
      "text/plain": [
       "<Figure size 1152x1152 with 3 Axes>"
      ]
     },
     "metadata": {},
     "output_type": "display_data"
    }
   ],
   "source": [
    "from matplotlib.transforms import Affine2D\n",
    "import mpl_toolkits.axisartist.floating_axes as floating_axes\n",
    "import matplotlib.pyplot as plt\n",
    "\n",
    "def setup_axes(fig, rect, rotation, axisScale):\n",
    "    tr = Affine2D().scale(axisScale[0], axisScale[1]).rotate_deg(rotation)\n",
    "\n",
    "    grid_helper = floating_axes.GridHelperCurveLinear(tr, extremes=(-0.5, 3.5, 0, 4))\n",
    "\n",
    "    ax = floating_axes.FloatingSubplot(fig, rect, grid_helper=grid_helper)\n",
    "    fig.add_subplot(ax)\n",
    "    aux_ax = ax.get_aux_axes(tr)\n",
    "\n",
    "    return ax, aux_ax\n",
    "\n",
    "fig  = plt.figure(1, figsize=(16, 16))\n",
    "fig.subplots_adjust(wspace=0.3, left=0.05, right=0.95)\n",
    "\n",
    "axes = []\n",
    "axisOrientation = [45, 45, 0, 45]\n",
    "axisScale = [[1,4],[4,4],[.1,.1],[4,1]]\n",
    "axisPosition = [221,222,223,224]\n",
    "\n",
    "for i in range(0, len(axisOrientation)):\n",
    "    print(i)\n",
    "    if i != 2:\n",
    "        ax, aux_ax = setup_axes(fig, axisPosition[i], axisOrientation[i], axisScale[i])        \n",
    "        axes.append(aux_ax)\n",
    "# fig.subplots_adjust(wspace=0.02, hspace=0.02, left=0.00, right=0.9, top=0.9, bottom=0.0)\n",
    "plt.show()"
   ]
  },
  {
   "cell_type": "markdown",
   "metadata": {},
   "source": [
    "### new plot 20190329"
   ]
  },
  {
   "cell_type": "code",
   "execution_count": 86,
   "metadata": {},
   "outputs": [
    {
     "data": {
      "text/html": [
       "<div>\n",
       "<style scoped>\n",
       "    .dataframe tbody tr th:only-of-type {\n",
       "        vertical-align: middle;\n",
       "    }\n",
       "\n",
       "    .dataframe tbody tr th {\n",
       "        vertical-align: top;\n",
       "    }\n",
       "\n",
       "    .dataframe thead th {\n",
       "        text-align: right;\n",
       "    }\n",
       "</style>\n",
       "<table border=\"1\" class=\"dataframe\">\n",
       "  <thead>\n",
       "    <tr style=\"text-align: right;\">\n",
       "      <th></th>\n",
       "      <th>q_value_hiv+</th>\n",
       "      <th>cytoband</th>\n",
       "      <th>gene_hiv+</th>\n",
       "      <th>q_value_hiv-</th>\n",
       "      <th>gene_hiv-</th>\n",
       "      <th>hiv+q(-log10)</th>\n",
       "      <th>hiv-q(-log10)</th>\n",
       "    </tr>\n",
       "  </thead>\n",
       "  <tbody>\n",
       "    <tr>\n",
       "      <th>0</th>\n",
       "      <td>1.043200e-15</td>\n",
       "      <td>2q22.1</td>\n",
       "      <td>LRP1B</td>\n",
       "      <td>0.04368</td>\n",
       "      <td>LOC389033</td>\n",
       "      <td>14.981632</td>\n",
       "      <td>1.359717</td>\n",
       "    </tr>\n",
       "    <tr>\n",
       "      <th>1</th>\n",
       "      <td>1.519500e-09</td>\n",
       "      <td>2q36.3</td>\n",
       "      <td>AGXT</td>\n",
       "      <td>1.00000</td>\n",
       "      <td>NaN</td>\n",
       "      <td>8.818299</td>\n",
       "      <td>-0.000000</td>\n",
       "    </tr>\n",
       "    <tr>\n",
       "      <th>2</th>\n",
       "      <td>5.958900e-04</td>\n",
       "      <td>3p13</td>\n",
       "      <td>CHMP2B</td>\n",
       "      <td>1.00000</td>\n",
       "      <td>NaN</td>\n",
       "      <td>3.224834</td>\n",
       "      <td>-0.000000</td>\n",
       "    </tr>\n",
       "    <tr>\n",
       "      <th>3</th>\n",
       "      <td>1.144100e-02</td>\n",
       "      <td>3p14.2</td>\n",
       "      <td>MAP4</td>\n",
       "      <td>1.00000</td>\n",
       "      <td>NaN</td>\n",
       "      <td>1.941536</td>\n",
       "      <td>-0.000000</td>\n",
       "    </tr>\n",
       "    <tr>\n",
       "      <th>4</th>\n",
       "      <td>3.485300e-03</td>\n",
       "      <td>4q21.3</td>\n",
       "      <td>MAPK10</td>\n",
       "      <td>1.00000</td>\n",
       "      <td>NaN</td>\n",
       "      <td>2.457760</td>\n",
       "      <td>-0.000000</td>\n",
       "    </tr>\n",
       "  </tbody>\n",
       "</table>\n",
       "</div>"
      ],
      "text/plain": [
       "   q_value_hiv+ cytoband gene_hiv+  q_value_hiv-  gene_hiv-  hiv+q(-log10)  \\\n",
       "0  1.043200e-15   2q22.1     LRP1B       0.04368  LOC389033      14.981632   \n",
       "1  1.519500e-09   2q36.3      AGXT       1.00000        NaN       8.818299   \n",
       "2  5.958900e-04     3p13    CHMP2B       1.00000        NaN       3.224834   \n",
       "3  1.144100e-02   3p14.2      MAP4       1.00000        NaN       1.941536   \n",
       "4  3.485300e-03   4q21.3    MAPK10       1.00000        NaN       2.457760   \n",
       "\n",
       "   hiv-q(-log10)  \n",
       "0       1.359717  \n",
       "1      -0.000000  \n",
       "2      -0.000000  \n",
       "3      -0.000000  \n",
       "4      -0.000000  "
      ]
     },
     "execution_count": 86,
     "metadata": {},
     "output_type": "execute_result"
    },
    {
     "data": {
      "text/plain": [
       "(36, 7)"
      ]
     },
     "execution_count": 86,
     "metadata": {},
     "output_type": "execute_result"
    }
   ],
   "source": [
    "# gistic cytoband data\n",
    "cnvdir = '/projects/trans_scratch/validations/workspace/szong/Cervical/cnv/'\n",
    "of = f'{cnvdir}del_cytoband_qvalue_comparison_hiv_pos_vs_neg.csv'\n",
    "# ndf.to_csv(of, index=False)\n",
    "ndf = pd.read_csv(of)\n",
    "ndf.head()\n",
    "x = ndf['hiv-q(-log10)']\n",
    "y = ndf['hiv+q(-log10)']\n",
    "# xband = ndf['']\n",
    "maxq = int(max(max(x), max(y))) + 2\n",
    "\n",
    "ndf.shape"
   ]
  },
  {
   "cell_type": "code",
   "execution_count": 198,
   "metadata": {},
   "outputs": [],
   "source": [
    "tmpy = ndf[x==0][['cytoband','hiv-q(-log10)', 'hiv+q(-log10)']].sort_values('hiv+q(-log10)', ascending=False)\n",
    "pyxs = tmpy['hiv-q(-log10)']\n",
    "pyys = tmpy['hiv+q(-log10)']\n",
    "ybands = tmpy['cytoband'].tolist()"
   ]
  },
  {
   "cell_type": "code",
   "execution_count": 199,
   "metadata": {},
   "outputs": [],
   "source": [
    "# ybands = ndf[x==0][['cytoband','hiv+q(-log10)']].sort_values('hiv+q(-log10)', ascending=False)['cytoband'].tolist()"
   ]
  },
  {
   "cell_type": "code",
   "execution_count": 200,
   "metadata": {},
   "outputs": [],
   "source": [
    "tmpx = ndf[y==0][['cytoband','hiv-q(-log10)', 'hiv+q(-log10)']].sort_values('hiv-q(-log10)', ascending=True)\n",
    "pxxs = tmpx['hiv-q(-log10)']\n",
    "pxys = tmpx['hiv+q(-log10)']\n",
    "xbands = tmpx['cytoband'].tolist()"
   ]
  },
  {
   "cell_type": "code",
   "execution_count": 193,
   "metadata": {},
   "outputs": [],
   "source": [
    "# xbands = ndf[y==0][['cytoband','hiv-q(-log10)']].sort_values('hiv-q(-log10)', ascending=True)['cytoband'].tolist()"
   ]
  },
  {
   "cell_type": "markdown",
   "metadata": {},
   "source": [
    "### shared bands"
   ]
  },
  {
   "cell_type": "code",
   "execution_count": 145,
   "metadata": {},
   "outputs": [
    {
     "data": {
      "text/html": [
       "<div>\n",
       "<style scoped>\n",
       "    .dataframe tbody tr th:only-of-type {\n",
       "        vertical-align: middle;\n",
       "    }\n",
       "\n",
       "    .dataframe tbody tr th {\n",
       "        vertical-align: top;\n",
       "    }\n",
       "\n",
       "    .dataframe thead th {\n",
       "        text-align: right;\n",
       "    }\n",
       "</style>\n",
       "<table border=\"1\" class=\"dataframe\">\n",
       "  <thead>\n",
       "    <tr style=\"text-align: right;\">\n",
       "      <th></th>\n",
       "      <th>q_value_hiv+</th>\n",
       "      <th>cytoband</th>\n",
       "      <th>gene_hiv+</th>\n",
       "      <th>q_value_hiv-</th>\n",
       "      <th>gene_hiv-</th>\n",
       "      <th>hiv+q(-log10)</th>\n",
       "      <th>hiv-q(-log10)</th>\n",
       "    </tr>\n",
       "  </thead>\n",
       "  <tbody>\n",
       "    <tr>\n",
       "      <th>0</th>\n",
       "      <td>1.043200e-15</td>\n",
       "      <td>2q22.1</td>\n",
       "      <td>LRP1B</td>\n",
       "      <td>4.368000e-02</td>\n",
       "      <td>LOC389033</td>\n",
       "      <td>14.981632</td>\n",
       "      <td>1.359717</td>\n",
       "    </tr>\n",
       "    <tr>\n",
       "      <th>16</th>\n",
       "      <td>7.495000e-03</td>\n",
       "      <td>17q25.3</td>\n",
       "      <td>CBX8</td>\n",
       "      <td>1.411700e-01</td>\n",
       "      <td>CBX8</td>\n",
       "      <td>2.125228</td>\n",
       "      <td>0.850258</td>\n",
       "    </tr>\n",
       "    <tr>\n",
       "      <th>17</th>\n",
       "      <td>6.012000e-07</td>\n",
       "      <td>19p13.3</td>\n",
       "      <td>FAM138F</td>\n",
       "      <td>5.086700e-04</td>\n",
       "      <td>MIDN</td>\n",
       "      <td>6.220981</td>\n",
       "      <td>3.293564</td>\n",
       "    </tr>\n",
       "    <tr>\n",
       "      <th>19</th>\n",
       "      <td>6.061100e-03</td>\n",
       "      <td>21p11.2</td>\n",
       "      <td>MIR3648</td>\n",
       "      <td>7.184100e-09</td>\n",
       "      <td>MIR3648</td>\n",
       "      <td>2.217449</td>\n",
       "      <td>8.143628</td>\n",
       "    </tr>\n",
       "  </tbody>\n",
       "</table>\n",
       "</div>"
      ],
      "text/plain": [
       "    q_value_hiv+ cytoband gene_hiv+  q_value_hiv-  gene_hiv-  hiv+q(-log10)  \\\n",
       "0   1.043200e-15   2q22.1     LRP1B  4.368000e-02  LOC389033      14.981632   \n",
       "16  7.495000e-03  17q25.3      CBX8  1.411700e-01       CBX8       2.125228   \n",
       "17  6.012000e-07  19p13.3   FAM138F  5.086700e-04       MIDN       6.220981   \n",
       "19  6.061100e-03  21p11.2   MIR3648  7.184100e-09    MIR3648       2.217449   \n",
       "\n",
       "    hiv-q(-log10)  \n",
       "0        1.359717  \n",
       "16       0.850258  \n",
       "17       3.293564  \n",
       "19       8.143628  "
      ]
     },
     "execution_count": 145,
     "metadata": {},
     "output_type": "execute_result"
    }
   ],
   "source": [
    "sbands = ndf[(x!=0)&(y!=0)]\n",
    "sbands\n"
   ]
  },
  {
   "cell_type": "code",
   "execution_count": 161,
   "metadata": {},
   "outputs": [],
   "source": [
    "def plot_shared_bands(bands, ax):\n",
    "    n = bands.shape[0]\n",
    "    xs = bands['hiv-q(-log10)'] + .5\n",
    "    ys = bands['hiv+q(-log10)']\n",
    "    ls = bands['cytoband']\n",
    "    for x, y, l in zip(xs, ys, ls):\n",
    "        _ = ax.text(x, y, l, rotation=0, withdash=True, \n",
    "                    horizontalalignment='left', verticalalignment='center', fontsize=10)"
   ]
  },
  {
   "cell_type": "code",
   "execution_count": 99,
   "metadata": {},
   "outputs": [
    {
     "data": {
      "text/plain": [
       "['2q36.3',\n",
       " '4q35.2',\n",
       " '3p13',\n",
       " '11q24.3',\n",
       " '13q14.2',\n",
       " '4q21.3',\n",
       " '13q12.11',\n",
       " '17q12',\n",
       " '3p14.2',\n",
       " '5q14.2',\n",
       " '20p12.1',\n",
       " '13q21.32',\n",
       " '9p21.3',\n",
       " '6p21.31',\n",
       " '6q25.3',\n",
       " '10q23.2']"
      ]
     },
     "execution_count": 99,
     "metadata": {},
     "output_type": "execute_result"
    },
    {
     "data": {
      "text/plain": [
       "['7q11.23',\n",
       " '3p14.1',\n",
       " '10p11.1',\n",
       " '1p36.22',\n",
       " '22q13.31',\n",
       " '19p12',\n",
       " '6q22.31',\n",
       " '21q11.2',\n",
       " '1p13.2',\n",
       " '4q32.3',\n",
       " '4q24',\n",
       " '11q21',\n",
       " '2q37.1',\n",
       " '4p15.1',\n",
       " '11q25',\n",
       " '13q13.2']"
      ]
     },
     "execution_count": 99,
     "metadata": {},
     "output_type": "execute_result"
    }
   ],
   "source": [
    "ybands\n",
    "xbands"
   ]
  },
  {
   "cell_type": "code",
   "execution_count": 97,
   "metadata": {},
   "outputs": [],
   "source": [
    "# fig = plt.figure(figsize=(8,8))\n",
    "# ax = fig.add_subplot(111)\n",
    "# n = len(ybands)\n",
    "# y = np.linspace(8, 1, n)\n",
    "# x = np.array(n * [0.95])\n",
    "# for a, b, c in zip(x, y, ybands):\n",
    "#     _ = ax.text(a, b, c)\n",
    "# plt.show()"
   ]
  },
  {
   "cell_type": "code",
   "execution_count": 113,
   "metadata": {},
   "outputs": [],
   "source": [
    "def adjust_spines(ax, spines):\n",
    "    for loc, spine in ax.spines.items():\n",
    "        if loc in spines:\n",
    "            spine.set_position(('outward', 0))  # outward by 10 points\n",
    "            spine.set_smart_bounds(True)\n",
    "        else:\n",
    "            spine.set_color('none')  # don't draw spine\n",
    "\n",
    "    # turn off ticks where there is no spine\n",
    "    if 'left' in spines:\n",
    "        ax.yaxis.set_ticks_position('left')\n",
    "    if 'right' in spines:\n",
    "        ax.yaxis.set_ticks_position('right')\n",
    "    else:\n",
    "        # no yaxis ticks\n",
    "        ax.yaxis.set_ticks([])\n",
    "\n",
    "    if 'bottom' in spines:\n",
    "        ax.xaxis.set_ticks_position('bottom')\n",
    "    if 'top' in spines:\n",
    "        ax.xaxis.set_ticks_position('top')\n",
    "    else:\n",
    "        # no xaxis ticks\n",
    "        ax.xaxis.set_ticks([])"
   ]
  },
  {
   "cell_type": "code",
   "execution_count": 187,
   "metadata": {},
   "outputs": [],
   "source": [
    "def label_xband(bands, ax):\n",
    "    n = len(bands)\n",
    "    x = np.linspace(-0.1, 7, n)\n",
    "    y = np.array(n * [-0.8])\n",
    "    for a, b, c in zip(x, y, bands, ):\n",
    "        _ = ax.text(a, b, c, rotation=-90, withdash=True, verticalalignment='top', fontsize=7)\n",
    "    return (x, y)"
   ]
  },
  {
   "cell_type": "code",
   "execution_count": 195,
   "metadata": {},
   "outputs": [],
   "source": [
    "def label_yband(bands, ax):\n",
    "    n = len(bands)\n",
    "    y = np.linspace(5, -2, n)\n",
    "    x = np.array(n * [-0.8])\n",
    "    for a, b, c in zip(x, y, bands, ):\n",
    "        _ = ax.text(a, b, c, rotation=-0, withdash=True, \n",
    "                    horizontalalignment='right',  fontsize=7)\n",
    "    return (x, y)"
   ]
  },
  {
   "cell_type": "code",
   "execution_count": 3,
   "metadata": {},
   "outputs": [],
   "source": [
    "def remove_tickline_ticklables(ax):\n",
    "    _ = plt.setp(ax.get_xticklines(),visible=False)\n",
    "    _ = plt.setp(ax.get_yticklines(),visible=False)\n",
    "    _ = plt.setp(ax.get_xticklabels(),visible=False)\n",
    "    _ = plt.setp(ax.get_yticklabels(),visible=False)"
   ]
  },
  {
   "cell_type": "code",
   "execution_count": 201,
   "metadata": {
    "scrolled": true
   },
   "outputs": [
    {
     "data": {
      "text/plain": [
       "<matplotlib.collections.PathCollection at 0x7f698359e828>"
      ]
     },
     "execution_count": 201,
     "metadata": {},
     "output_type": "execute_result"
    },
    {
     "data": {
      "text/plain": [
       "(-3, 16)"
      ]
     },
     "execution_count": 201,
     "metadata": {},
     "output_type": "execute_result"
    },
    {
     "data": {
      "text/plain": [
       "(-3, 16)"
      ]
     },
     "execution_count": 201,
     "metadata": {},
     "output_type": "execute_result"
    },
    {
     "data": {
      "text/plain": [
       "[<matplotlib.axis.XTick at 0x7f69835fdba8>,\n",
       " <matplotlib.axis.XTick at 0x7f69835fd4e0>,\n",
       " <matplotlib.axis.XTick at 0x7f69835fd278>,\n",
       " <matplotlib.axis.XTick at 0x7f698359ef28>,\n",
       " <matplotlib.axis.XTick at 0x7f69835b54e0>]"
      ]
     },
     "execution_count": 201,
     "metadata": {},
     "output_type": "execute_result"
    },
    {
     "data": {
      "text/plain": [
       "[<matplotlib.axis.YTick at 0x7f69836099b0>,\n",
       " <matplotlib.axis.YTick at 0x7f6983609278>,\n",
       " <matplotlib.axis.YTick at 0x7f6983611be0>,\n",
       " <matplotlib.axis.YTick at 0x7f69835b5f60>,\n",
       " <matplotlib.axis.YTick at 0x7f69835ad400>]"
      ]
     },
     "execution_count": 201,
     "metadata": {},
     "output_type": "execute_result"
    },
    {
     "data": {
      "text/plain": [
       "Text(0.5,0.5,'HIV+/- Deletion')"
      ]
     },
     "execution_count": 201,
     "metadata": {},
     "output_type": "execute_result"
    },
    {
     "data": {
      "image/png": "[encoded data removed]",
      "text/plain": [
       "<Figure size 648x648 with 4 Axes>"
      ]
     },
     "metadata": {},
     "output_type": "display_data"
    }
   ],
   "source": [
    "# Set up the axes with gridspec\n",
    "fig = plt.figure(figsize=(9, 9))\n",
    "grid = plt.GridSpec(2, 2, hspace=0.05, wspace=0.05, \n",
    "                    width_ratios=[1,3], \n",
    "                    height_ratios=[3,1])\n",
    "\n",
    "\n",
    "ax1 = fig.add_subplot(grid[1])\n",
    "# scatter points on the main axes\n",
    "ax1.scatter(x, y, marker='+', s=26, c='red', alpha=1)\n",
    "\n",
    "# adjust_spines(ax1, ['top', 'right'])\n",
    "ax1.set_xlim(-3, maxq)\n",
    "ax1.set_ylim(-3, maxq)\n",
    "\n",
    "\n",
    "# Major ticks every 4, minor ticks every 5\n",
    "major_ticks = np.arange(0, 17, 4)\n",
    "# minor_ticks = np.arange(0, 101, 5)\n",
    "\n",
    "ax1.set_xticks(major_ticks)\n",
    "# ax.set_xticks(minor_ticks, minor=True)\n",
    "ax1.set_yticks(major_ticks)\n",
    "# ax.set_yticks(minor_ticks, minor=True)\n",
    "\n",
    "# ax1.tick_params(direction='in', length=6, width=2, colors='black',\n",
    "#                grid_color='black', grid_alpha=0.5, grid_linewidth=4 )\n",
    "# ax1.set_xticklines(np.linspace(0,16,5))\n",
    "# ax1.set_xticklabels(np.linspace(0,16,5))\n",
    "\n",
    "ax1.spines['right'].set_visible(False) # turn off right spine\n",
    "ax1.spines['top'].set_visible(False)\n",
    "\n",
    "\n",
    "\n",
    "ax0 = fig.add_subplot(grid[0],  xticklabels=[], sharey=ax1, frameon=False)\n",
    "remove_tickline_ticklables(ax0)\n",
    "\n",
    "\n",
    "\n",
    "\n",
    "ax3 = fig.add_subplot(grid[3], yticklabels=[], sharex=ax1, frameon=False)\n",
    "\n",
    "\n",
    "\n",
    "ax2 = fig.add_subplot(grid[2], frameon=False)\n",
    "ax2.text(.5, .5,'HIV+/- Deletion')\n",
    "remove_tickline_ticklables(ax2)\n",
    "\n",
    "\n",
    "\n",
    "\n",
    "# histogram on the attached axes\n",
    "# ax3.text(.2,.95, 'hiv-cytoband', rotation=-90, withdash=True, verticalalignment='top', fontsize=14)\n",
    "xlxs, xlys = label_xband(xbands, ax1)\n",
    "# ax3.invert_yaxis()\n",
    "remove_tickline_ticklables(ax3)\n",
    "\n",
    "\n",
    "# ax0.text(.95,.5, 'hiv+ cytoband', rotation=-0, withdash=True, horizontalalignment='right', fontsize=14)\n",
    "ylxs, ylys = label_yband(ybands, ax1)\n",
    "\n",
    "# connect points and labels\n",
    "for px, py, lx, ly in zip(pyxs, pyys, ylxs, ylys):\n",
    "    _ = ax1.plot((px-0.2, lx+0.1), (py, ly), linestyle='dashed', color='gray',linewidth=.8)\n",
    "\n",
    "# ax0.invert_xaxis()\n",
    "\n",
    "# connect points and labels\n",
    "for px, py, lx, ly in zip(pxxs, pxys, xlxs, xlys):\n",
    "    _ = ax1.plot((px, lx), (py, ly), linestyle='dashed', color='gray',linewidth=.8)\n",
    "\n",
    "_ = plot_shared_bands(sbands, ax1)\n",
    "of = '/projects/trans_scratch/validations/workspace/szong/Cervical/variant_bwamem/124_patients_new/test.png'\n",
    "# plt.savefig(of, bbox_inches='tight', dpi=400)"
   ]
  },
  {
   "cell_type": "code",
   "execution_count": 174,
   "metadata": {},
   "outputs": [
    {
     "data": {
      "text/plain": [
       "1     8.818299\n",
       "5     4.554022\n",
       "2     3.224834\n",
       "11    3.075628\n",
       "13    3.026346\n",
       "4     2.457760\n",
       "12    2.192627\n",
       "15    2.162273\n",
       "3     1.941536\n",
       "6     1.747705\n",
       "18    1.601088\n",
       "14    1.506751\n",
       "9     1.480001\n",
       "7     0.942714\n",
       "8     0.850012\n",
       "10    0.644434\n",
       "Name: hiv+q(-log10), dtype: float64"
      ]
     },
     "execution_count": 174,
     "metadata": {},
     "output_type": "execute_result"
    }
   ],
   "source": [
    "pys"
   ]
  },
  {
   "cell_type": "code",
   "execution_count": 98,
   "metadata": {},
   "outputs": [
    {
     "data": {
      "text/plain": [
       "(-0.5, 2879.5, 2878.5, -0.5)"
      ]
     },
     "execution_count": 98,
     "metadata": {},
     "output_type": "execute_result"
    },
    {
     "data": {
      "image/png": "[encoded data removed]",
      "text/plain": [
       "<Figure size 576x576 with 1 Axes>"
      ]
     },
     "metadata": {},
     "output_type": "display_data"
    }
   ],
   "source": [
    "import matplotlib.pyplot as plt\n",
    "import matplotlib.image as mpimg\n",
    "import scipy.misc\n",
    "from scipy import ndimage\n",
    "import matplotlib.pyplot as plt\n",
    "\n",
    "# img=mpimg.imread(of)\n",
    "# img = scipy.misc.imread(of)\n",
    "from PIL import Image\n",
    "img = Image.open(of)\n",
    "rotated_img = img.rotate(45, resample=Image.BICUBIC, expand=True)\n",
    "#rotate image\n",
    "fig = plt.figure(figsize=(8,8))\n",
    "ax = fig.add_subplot(111)\n",
    "# rotated_img = ndimage.rotate(img, 45)\n",
    "plt.imshow(rotated_img)#, cmap=plt.cm.gray)\n",
    "plt.axis('off')"
   ]
  }
 ],
 "metadata": {
  "kernelspec": {
   "display_name": "Python 3",
   "language": "python",
   "name": "python3"
  },
  "language_info": {
   "codemirror_mode": {
    "name": "ipython",
    "version": 3
   },
   "file_extension": ".py",
   "mimetype": "text/x-python",
   "name": "python",
   "nbconvert_exporter": "python",
   "pygments_lexer": "ipython3",
   "version": "3.6.7"
  }
 },
 "nbformat": 4,
 "nbformat_minor": 2
}
