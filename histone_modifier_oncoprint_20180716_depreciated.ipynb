{
 "cells": [
  {
   "cell_type": "code",
   "execution_count": 5,
   "metadata": {},
   "outputs": [],
   "source": [
    "import pandas as pd\n",
    "import numpy as np\n",
    "import string as s\n",
    "import seaborn as sns\n",
    "import math\n",
    "from collections import defaultdict\n",
    "# import tables\n",
    "import matplotlib\n",
    "import matplotlib.pyplot as plt\n",
    "from matplotlib import style, colors\n",
    "from itertools import groupby\n",
    "import matplotlib.patches as patches\n",
    "from matplotlib import gridspec\n",
    "import scipy.stats as stats\n",
    "from scipy.cluster.hierarchy import dendrogram, linkage, fcluster, fclusterdata, leaves_list\n",
    "from scipy.spatial.distance import pdist\n",
    "from scipy.ndimage.interpolation import shift\n",
    "# matplotlib.style.use('ggplot')\n",
    "# %matplotlib inline\n",
    "matplotlib.rcParams['figure.figsize'] = (12, 6)\n",
    "from matplotlib.colors import rgb2hex, colorConverter\n",
    "# matplotlib.rcParams['figure.facecolor'] = 'white'\n",
    "import mpl_toolkits.mplot3d.axes3d as p3\n",
    "from sklearn.cluster import AgglomerativeClustering\n",
    "from sklearn.datasets.samples_generator import make_swiss_roll\n",
    "matplotlib.style.use('ggplot')\n",
    "%matplotlib inline\n",
    "from IPython.core.interactiveshell import InteractiveShell\n",
    "InteractiveShell.ast_node_interactivity = \"all\""
   ]
  },
  {
   "cell_type": "code",
   "execution_count": 7,
   "metadata": {},
   "outputs": [],
   "source": [
    "wkdir = '/projects/trans_scratch/validations/workspace/szong/Cervical/chipseq/'"
   ]
  },
  {
   "cell_type": "code",
   "execution_count": 90,
   "metadata": {},
   "outputs": [
    {
     "name": "stderr",
     "output_type": "stream",
     "text": [
      "/projects/da_workspace/software/miniconda/envs/dlpy3/lib/python3.6/site-packages/pandas/io/excel.py:329: FutureWarning: The `sheetname` keyword is deprecated, use `sheet_name` instead\n",
      "  **kwds)\n"
     ]
    },
    {
     "data": {
      "text/html": [
       "<div>\n",
       "<style scoped>\n",
       "    .dataframe tbody tr th:only-of-type {\n",
       "        vertical-align: middle;\n",
       "    }\n",
       "\n",
       "    .dataframe tbody tr th {\n",
       "        vertical-align: top;\n",
       "    }\n",
       "\n",
       "    .dataframe thead th {\n",
       "        text-align: right;\n",
       "    }\n",
       "</style>\n",
       "<table border=\"1\" class=\"dataframe\">\n",
       "  <thead>\n",
       "    <tr style=\"text-align: right;\">\n",
       "      <th></th>\n",
       "      <th>HIV status</th>\n",
       "      <th>ARID1A</th>\n",
       "      <th>ATRX</th>\n",
       "      <th>BAZ1A</th>\n",
       "      <th>BAZ1B</th>\n",
       "      <th>BAZ2B</th>\n",
       "      <th>BRD2</th>\n",
       "      <th>BRD3</th>\n",
       "      <th>BRD4</th>\n",
       "      <th>BRD7</th>\n",
       "      <th>...</th>\n",
       "      <th>TBL1X</th>\n",
       "      <th>TFPT</th>\n",
       "      <th>TRIM33</th>\n",
       "      <th>UBE2B</th>\n",
       "      <th>TRRAP</th>\n",
       "      <th>WHSC1L1</th>\n",
       "      <th>YEATS2</th>\n",
       "      <th>YY1</th>\n",
       "      <th>ZMYND11</th>\n",
       "      <th>ZMYND8</th>\n",
       "    </tr>\n",
       "    <tr>\n",
       "      <th>patient</th>\n",
       "      <th></th>\n",
       "      <th></th>\n",
       "      <th></th>\n",
       "      <th></th>\n",
       "      <th></th>\n",
       "      <th></th>\n",
       "      <th></th>\n",
       "      <th></th>\n",
       "      <th></th>\n",
       "      <th></th>\n",
       "      <th></th>\n",
       "      <th></th>\n",
       "      <th></th>\n",
       "      <th></th>\n",
       "      <th></th>\n",
       "      <th></th>\n",
       "      <th></th>\n",
       "      <th></th>\n",
       "      <th></th>\n",
       "      <th></th>\n",
       "      <th></th>\n",
       "    </tr>\n",
       "  </thead>\n",
       "  <tbody>\n",
       "    <tr>\n",
       "      <th>HTMCP-03-06-02007</th>\n",
       "      <td>HIV negative</td>\n",
       "      <td>1</td>\n",
       "      <td>1</td>\n",
       "      <td>1</td>\n",
       "      <td>0</td>\n",
       "      <td>1</td>\n",
       "      <td>0</td>\n",
       "      <td>0</td>\n",
       "      <td>1</td>\n",
       "      <td>1</td>\n",
       "      <td>...</td>\n",
       "      <td>0</td>\n",
       "      <td>0</td>\n",
       "      <td>0</td>\n",
       "      <td>0</td>\n",
       "      <td>1</td>\n",
       "      <td>0</td>\n",
       "      <td>0</td>\n",
       "      <td>1</td>\n",
       "      <td>0</td>\n",
       "      <td>1</td>\n",
       "    </tr>\n",
       "    <tr>\n",
       "      <th>HTMCP-03-06-02026</th>\n",
       "      <td>HIV negative</td>\n",
       "      <td>1</td>\n",
       "      <td>1</td>\n",
       "      <td>0</td>\n",
       "      <td>1</td>\n",
       "      <td>1</td>\n",
       "      <td>0</td>\n",
       "      <td>1</td>\n",
       "      <td>0</td>\n",
       "      <td>1</td>\n",
       "      <td>...</td>\n",
       "      <td>0</td>\n",
       "      <td>0</td>\n",
       "      <td>1</td>\n",
       "      <td>0</td>\n",
       "      <td>0</td>\n",
       "      <td>0</td>\n",
       "      <td>0</td>\n",
       "      <td>0</td>\n",
       "      <td>1</td>\n",
       "      <td>0</td>\n",
       "    </tr>\n",
       "  </tbody>\n",
       "</table>\n",
       "<p>2 rows × 117 columns</p>\n",
       "</div>"
      ],
      "text/plain": [
       "                     HIV status  ARID1A  ATRX  BAZ1A  BAZ1B  BAZ2B  BRD2  \\\n",
       "patient                                                                    \n",
       "HTMCP-03-06-02007  HIV negative       1     1      1      0      1     0   \n",
       "HTMCP-03-06-02026  HIV negative       1     1      0      1      1     0   \n",
       "\n",
       "                   BRD3  BRD4  BRD7   ...    TBL1X  TFPT  TRIM33  UBE2B  \\\n",
       "patient                               ...                                 \n",
       "HTMCP-03-06-02007     0     1     1   ...        0     0       0      0   \n",
       "HTMCP-03-06-02026     1     0     1   ...        0     0       1      0   \n",
       "\n",
       "                   TRRAP  WHSC1L1  YEATS2  YY1  ZMYND11  ZMYND8  \n",
       "patient                                                          \n",
       "HTMCP-03-06-02007      1        0       0    1        0       1  \n",
       "HTMCP-03-06-02026      0        0       0    0        1       0  \n",
       "\n",
       "[2 rows x 117 columns]"
      ]
     },
     "execution_count": 90,
     "metadata": {},
     "output_type": "execute_result"
    },
    {
     "data": {
      "text/plain": [
       "(54, 117)"
      ]
     },
     "execution_count": 90,
     "metadata": {},
     "output_type": "execute_result"
    }
   ],
   "source": [
    "f1 = '{}categorisation_of_epigentic_modifiers_from_Alessia_v3.xls'.format(wkdir)\n",
    "df1 = pd.read_excel(f1, index_col='patient', sheetname='sample_mut_details_sz')\n",
    "df1.head(2)\n",
    "df1.shape"
   ]
  },
  {
   "cell_type": "code",
   "execution_count": 91,
   "metadata": {},
   "outputs": [],
   "source": [
    "df1 = df1.drop('HIV status', axis=1)\n",
    "\n",
    "df1.head()\n",
    "\n",
    "df1 = df1.loc[:,df1.sum()>3]\n",
    "\n",
    "# sort df\n",
    "df1 = df1.T\n",
    "\n",
    "df1['count']  = df1.sum(axis=1)\n",
    "\n",
    "df1 = df1.sort_values('count', ascending=False).drop('count', axis=1)\n",
    "\n",
    "df1 = df1.sort_values(df1.index.tolist(), axis=1, ascending=False).fillna(0)"
   ]
  },
  {
   "cell_type": "code",
   "execution_count": null,
   "metadata": {},
   "outputs": [],
   "source": []
  },
  {
   "cell_type": "code",
   "execution_count": 61,
   "metadata": {},
   "outputs": [
    {
     "data": {
      "image/png": "[encoded data removed]",
      "text/plain": [
       "<Figure size 720x72 with 1 Axes>"
      ]
     },
     "metadata": {},
     "output_type": "display_data"
    }
   ],
   "source": [
    "sns.palplot(sns.color_palette(clrs))"
   ]
  },
  {
   "cell_type": "code",
   "execution_count": 99,
   "metadata": {},
   "outputs": [
    {
     "name": "stdout",
     "output_type": "stream",
     "text": [
      "[0.0, 1.0]\n"
     ]
    },
    {
     "data": {
      "text/plain": [
       "Text(0.5,1,'')"
      ]
     },
     "execution_count": 99,
     "metadata": {},
     "output_type": "execute_result"
    },
    {
     "data": {
      "text/plain": [
       "<matplotlib.axes._subplots.AxesSubplot at 0x7fa53f0de7f0>"
      ]
     },
     "execution_count": 99,
     "metadata": {},
     "output_type": "execute_result"
    },
    {
     "data": {
      "image/png": "[encoded data removed]",
      "text/plain": [
       "<Figure size 1080x324 with 1 Axes>"
      ]
     },
     "metadata": {},
     "output_type": "display_data"
    }
   ],
   "source": [
    "# def plot_oncoprint(df):\n",
    "#     df = df[col_den_labels]\n",
    "df = df1\n",
    "nrows = df.shape[0]    \n",
    "fig = plt.figure(figsize=(15,.15*nrows), facecolor='white')\n",
    "gs = gridspec.GridSpec(1, 2,                            \n",
    "                       width_ratios=[1,18], \n",
    "#                        height_ratios=[1]*nrows,\n",
    "                       wspace=0.0, # horizontal space\n",
    "                       hspace=0.0  # vertical space\n",
    "                      )\n",
    "grid_num = 0\n",
    "# categories = sorted(df.loc['ARID1A',:].unique())\n",
    "categories = [0.0, 1.0]\n",
    "print(categories)\n",
    "clrs = [ \"purple\", \"#E69F00\",\"#009E73\",\"#56B4E9\",\"#377EB8\",\"#E41A1C\",\"#F0E442\",'black',\"#D55E00\",\"#CC79A7\"]\n",
    " # make map dictionary\n",
    "# map_dict = {k:v for v, k in  enumerate(categories)} \n",
    "# clrs = clrs[:len(map_dict)]    \n",
    "# types = len(map_dict)\n",
    "cmap = colors.ListedColormap([\"lightgray\",\"#009E73\"])\n",
    "# print(map_dict)\n",
    "# dfa = pd.DataFrame(index=[ix], columns=df.columns)\n",
    "# dfa.loc[ix,:] = df.loc[ix,].map(map_dict).astype(float)\n",
    "\n",
    "# # add covariate track legend\n",
    "gs1 = gs[grid_num+1]\n",
    "ax1 = plt.subplot(gs1, facecolor='white')\n",
    "ax1.set_title(\"\")  \n",
    "sns.heatmap(df, \n",
    "            ax=ax1, \n",
    "            cmap=cmap,\n",
    "            linewidths=.05,                    \n",
    "            xticklabels=True,\n",
    "            yticklabels=True,\n",
    "            cbar=False) #cbar_ax=ax1,\n",
    "_ = ax1.tick_params(axis='y', which='major', labelsize=8)\n",
    "_ = ax1.set_yticklabels(ax1.yaxis.get_majorticklabels(), rotation=0)\n",
    "_ = ax1.yaxis.tick_right()\n",
    "\n",
    "# gs0 = gs[grid_num]\n",
    "# ax0 =  plt.subplot(gs0, frameon=False)\n",
    "\n",
    "# k = 0\n",
    "# for key, clr in zip(map_dict.keys(), clrs):\n",
    "\n",
    "#     rect = patches.Rectangle((0,k/types), 0.2, 1/types, \n",
    "#                              linewidth=0.001,\n",
    "#                              edgecolor=clr,\n",
    "#                              facecolor=clr)\n",
    "\n",
    "#     _ = ax0.text(0.25, k/types+0.05, \n",
    "#                  key, \n",
    "#                  ha='left', \n",
    "#                  va='center', \n",
    "#                  fontsize=6)\n",
    "#     _ = ax0.add_patch(rect)\n",
    "#     k+=1\n",
    "# _ = ax0.get_xaxis().set_ticks([])\n",
    "# _ = ax0.get_yaxis().set_ticks([])\n",
    "# _ = ax0.set_title('')\n",
    "# grid_num+=2\n",
    "plt.show()\n"
   ]
  },
  {
   "cell_type": "code",
   "execution_count": null,
   "metadata": {},
   "outputs": [],
   "source": []
  }
 ],
 "metadata": {
  "kernelspec": {
   "display_name": "Python 3",
   "language": "python",
   "name": "python3"
  },
  "language_info": {
   "codemirror_mode": {
    "name": "ipython",
    "version": 3
   },
   "file_extension": ".py",
   "mimetype": "text/x-python",
   "name": "python",
   "nbconvert_exporter": "python",
   "pygments_lexer": "ipython3",
   "version": "3.6.5"
  }
 },
 "nbformat": 4,
 "nbformat_minor": 2
}
