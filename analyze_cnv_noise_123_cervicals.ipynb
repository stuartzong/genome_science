{
 "cells": [
  {
   "cell_type": "code",
   "execution_count": 1,
   "metadata": {
    "collapsed": true
   },
   "outputs": [],
   "source": [
    "import csv\n",
    "import matplotlib\n",
    "# import seaborn\n",
    "import seaborn as sns\n",
    "import numpy as np\n",
    "import matplotlib.pyplot as plt\n",
    "from scipy.stats import ttest_ind\n",
    "import scipy.stats as stats\n",
    "import scipy.stats as ss\n",
    "from matplotlib import style\n",
    "import matplotlib.gridspec as gridspec\n",
    "import matplotlib.patches as patches\n",
    "matplotlib.style.use('ggplot')\n",
    "%matplotlib inline\n",
    "matplotlib.rcParams['figure.figsize'] = (6, 4)\n",
    "import pandas as pd\n",
    "\n",
    "from sklearn.decomposition import RandomizedPCA, PCA, TruncatedSVD\n",
    "from sklearn.linear_model import LogisticRegression\n",
    "from sklearn.manifold import TSNE\n",
    "from sklearn.preprocessing import StandardScaler\n",
    "import seaborn\n",
    "\n",
    "with plt.style.context(\"seaborn-whitegrid\"):\n",
    "    plt.rcParams[\"axes.edgecolor\"] = \"0.15\"\n",
    "    plt.rcParams[\"axes.linewidth\"]  = 1.25\n"
   ]
  },
  {
   "cell_type": "markdown",
   "metadata": {},
   "source": [
    "clean up should consider:\n",
    "    1. seg length"
   ]
  },
  {
   "cell_type": "markdown",
   "metadata": {
    "collapsed": true
   },
   "source": [
    "# look for systematic cnv noise in 123 cervicals"
   ]
  },
  {
   "cell_type": "code",
   "execution_count": 53,
   "metadata": {},
   "outputs": [
    {
     "data": {
      "text/html": [
       "<div>\n",
       "<style>\n",
       "    .dataframe thead tr:only-child th {\n",
       "        text-align: right;\n",
       "    }\n",
       "\n",
       "    .dataframe thead th {\n",
       "        text-align: left;\n",
       "    }\n",
       "\n",
       "    .dataframe tbody tr th {\n",
       "        vertical-align: top;\n",
       "    }\n",
       "</style>\n",
       "<table border=\"1\" class=\"dataframe\">\n",
       "  <thead>\n",
       "    <tr style=\"text-align: right;\">\n",
       "      <th></th>\n",
       "      <th>patient</th>\n",
       "      <th>seg_path</th>\n",
       "    </tr>\n",
       "  </thead>\n",
       "  <tbody>\n",
       "    <tr>\n",
       "      <th>0</th>\n",
       "      <td>HTMCP-03-06-02001</td>\n",
       "      <td>/projects/trans_scratch/validations/workspace/...</td>\n",
       "    </tr>\n",
       "    <tr>\n",
       "      <th>1</th>\n",
       "      <td>HTMCP-03-06-02002</td>\n",
       "      <td>/projects/trans_scratch/validations/workspace/...</td>\n",
       "    </tr>\n",
       "  </tbody>\n",
       "</table>\n",
       "</div>"
      ],
      "text/plain": [
       "             patient                                           seg_path\n",
       "0  HTMCP-03-06-02001  /projects/trans_scratch/validations/workspace/...\n",
       "1  HTMCP-03-06-02002  /projects/trans_scratch/validations/workspace/..."
      ]
     },
     "execution_count": 53,
     "metadata": {},
     "output_type": "execute_result"
    }
   ],
   "source": [
    "# f1 = '/projects/trans_scratch/validations/workspace/szong/Cervical/cnv/Cervical_124_patients_adjusted/cnv_files_for_acen_removal.txt'\n",
    "f1 = '/projects/trans_scratch/validations/workspace/szong/Cervical/cnv/cervical_cnv/cnv_files_adj.txt'\n",
    "df1 = pd.read_csv(f1, sep='\\t', header=None, comment='#')\n",
    "df1.columns = ['patient', 'seg_path']\n",
    "assert df1.shape[0] == 123\n",
    "df1.head(2)"
   ]
  },
  {
   "cell_type": "code",
   "execution_count": 3,
   "metadata": {},
   "outputs": [
    {
     "data": {
      "text/html": [
       "<div>\n",
       "<style>\n",
       "    .dataframe thead tr:only-child th {\n",
       "        text-align: right;\n",
       "    }\n",
       "\n",
       "    .dataframe thead th {\n",
       "        text-align: left;\n",
       "    }\n",
       "\n",
       "    .dataframe tbody tr th {\n",
       "        vertical-align: top;\n",
       "    }\n",
       "</style>\n",
       "<table border=\"1\" class=\"dataframe\">\n",
       "  <thead>\n",
       "    <tr style=\"text-align: right;\">\n",
       "      <th></th>\n",
       "      <th>patient</th>\n",
       "      <th>seg_path</th>\n",
       "    </tr>\n",
       "  </thead>\n",
       "  <tbody>\n",
       "    <tr>\n",
       "      <th>0</th>\n",
       "      <td>POG001</td>\n",
       "      <td>/projects/POG/POG_data/POG001/wgs/biop1_t_A105...</td>\n",
       "    </tr>\n",
       "    <tr>\n",
       "      <th>1</th>\n",
       "      <td>POG002</td>\n",
       "      <td>/projects/POG/POG_data/POG002/wgs/biop1_t_A105...</td>\n",
       "    </tr>\n",
       "  </tbody>\n",
       "</table>\n",
       "</div>"
      ],
      "text/plain": [
       "  patient                                           seg_path\n",
       "0  POG001  /projects/POG/POG_data/POG001/wgs/biop1_t_A105...\n",
       "1  POG002  /projects/POG/POG_data/POG002/wgs/biop1_t_A105..."
      ]
     },
     "execution_count": 3,
     "metadata": {},
     "output_type": "execute_result"
    }
   ],
   "source": [
    "# f1 = '//projects/trans_scratch/validations/workspace/szong/Cervical/cnv/pog_cnv/pog_ff_segs_files.txt'\n",
    "# df1 = pd.read_csv(f1, sep='\\t', header=None, comment='#', encoding='utf-8')\n",
    "# df1.columns = ['patient', 'seg_path']\n",
    "# assert df1.shape[0] == 689\n",
    "# df1.head(2)"
   ]
  },
  {
   "cell_type": "code",
   "execution_count": 54,
   "metadata": {
    "collapsed": true
   },
   "outputs": [],
   "source": [
    "df2 = pd.DataFrame()\n",
    "for idx, row in df1.iterrows():\n",
    "    pat = row['patient']\n",
    "    seg_file = row['seg_path']\n",
    "#     print(pat, seg_file)\n",
    "    # cnv_files, some rows have 10 columns instead of 9, problems from the APLcnv pipeline\n",
    "    cnv = pd.read_csv(seg_file, sep='\\t',  error_bad_lines=False, warn_bad_lines=True)\n",
    "    cnv.columns = ['chr', 'start', 'end', 'cn']\n",
    "    cnv = cnv[cnv.cn != 2]\n",
    "    cnv['patient'] = pat\n",
    "    if df2.empty:\n",
    "        df2 = cnv\n",
    "    else: df2 = pd.concat([df2,cnv])"
   ]
  },
  {
   "cell_type": "code",
   "execution_count": 47,
   "metadata": {},
   "outputs": [
    {
     "data": {
      "text/plain": [
       "(49750, 5)"
      ]
     },
     "execution_count": 47,
     "metadata": {},
     "output_type": "execute_result"
    }
   ],
   "source": [
    "df2.shape"
   ]
  },
  {
   "cell_type": "code",
   "execution_count": 55,
   "metadata": {},
   "outputs": [
    {
     "data": {
      "text/plain": [
       "(45957, 5)"
      ]
     },
     "execution_count": 55,
     "metadata": {},
     "output_type": "execute_result"
    }
   ],
   "source": [
    "df2.shape"
   ]
  },
  {
   "cell_type": "code",
   "execution_count": 48,
   "metadata": {},
   "outputs": [
    {
     "data": {
      "text/plain": [
       "4190"
      ]
     },
     "execution_count": 48,
     "metadata": {},
     "output_type": "execute_result"
    }
   ],
   "source": [
    "49750-45560"
   ]
  },
  {
   "cell_type": "code",
   "execution_count": 49,
   "metadata": {},
   "outputs": [
    {
     "data": {
      "text/plain": [
       "0.08422110552763819"
      ]
     },
     "execution_count": 49,
     "metadata": {},
     "output_type": "execute_result"
    }
   ],
   "source": [
    "4190/49750\n"
   ]
  },
  {
   "cell_type": "code",
   "execution_count": 26,
   "metadata": {},
   "outputs": [],
   "source": [
    "assert df2.patient.nunique() > 120 # some patient has no cnvs?"
   ]
  },
  {
   "cell_type": "code",
   "execution_count": 27,
   "metadata": {},
   "outputs": [
    {
     "data": {
      "text/html": [
       "<div>\n",
       "<style>\n",
       "    .dataframe thead tr:only-child th {\n",
       "        text-align: right;\n",
       "    }\n",
       "\n",
       "    .dataframe thead th {\n",
       "        text-align: left;\n",
       "    }\n",
       "\n",
       "    .dataframe tbody tr th {\n",
       "        vertical-align: top;\n",
       "    }\n",
       "</style>\n",
       "<table border=\"1\" class=\"dataframe\">\n",
       "  <thead>\n",
       "    <tr style=\"text-align: right;\">\n",
       "      <th></th>\n",
       "      <th>chr</th>\n",
       "      <th>start</th>\n",
       "      <th>end</th>\n",
       "      <th>cn</th>\n",
       "      <th>patient</th>\n",
       "    </tr>\n",
       "  </thead>\n",
       "  <tbody>\n",
       "    <tr>\n",
       "      <th>0</th>\n",
       "      <td>1</td>\n",
       "      <td>416575</td>\n",
       "      <td>564606</td>\n",
       "      <td>4</td>\n",
       "      <td>HTMCP-03-06-02001</td>\n",
       "    </tr>\n",
       "    <tr>\n",
       "      <th>2</th>\n",
       "      <td>1</td>\n",
       "      <td>569346</td>\n",
       "      <td>722466</td>\n",
       "      <td>4</td>\n",
       "      <td>HTMCP-03-06-02001</td>\n",
       "    </tr>\n",
       "  </tbody>\n",
       "</table>\n",
       "</div>"
      ],
      "text/plain": [
       "   chr   start     end  cn            patient\n",
       "0    1  416575  564606   4  HTMCP-03-06-02001\n",
       "2    1  569346  722466   4  HTMCP-03-06-02001"
      ]
     },
     "execution_count": 27,
     "metadata": {},
     "output_type": "execute_result"
    }
   ],
   "source": [
    "df2.head(2)"
   ]
  },
  {
   "cell_type": "code",
   "execution_count": 28,
   "metadata": {
    "collapsed": true
   },
   "outputs": [],
   "source": [
    "df2['seg_length'] = (df2.end - df2.start)"
   ]
  },
  {
   "cell_type": "code",
   "execution_count": 31,
   "metadata": {},
   "outputs": [
    {
     "data": {
      "text/plain": [
       "(34157, 6)"
      ]
     },
     "execution_count": 31,
     "metadata": {},
     "output_type": "execute_result"
    }
   ],
   "source": [
    "# only focus on focal event <1Mb\n",
    "df2 = df2[df2.seg_length<1e6]\n",
    "df2.shape"
   ]
  },
  {
   "cell_type": "code",
   "execution_count": 32,
   "metadata": {},
   "outputs": [
    {
     "data": {
      "text/html": [
       "<div>\n",
       "<style>\n",
       "    .dataframe thead tr:only-child th {\n",
       "        text-align: right;\n",
       "    }\n",
       "\n",
       "    .dataframe thead th {\n",
       "        text-align: left;\n",
       "    }\n",
       "\n",
       "    .dataframe tbody tr th {\n",
       "        vertical-align: top;\n",
       "    }\n",
       "</style>\n",
       "<table border=\"1\" class=\"dataframe\">\n",
       "  <thead>\n",
       "    <tr style=\"text-align: right;\">\n",
       "      <th></th>\n",
       "      <th>chr</th>\n",
       "      <th>start</th>\n",
       "      <th>end</th>\n",
       "      <th>cn</th>\n",
       "      <th>patient</th>\n",
       "      <th>seg_length</th>\n",
       "    </tr>\n",
       "  </thead>\n",
       "  <tbody>\n",
       "    <tr>\n",
       "      <th>0</th>\n",
       "      <td>1</td>\n",
       "      <td>416575</td>\n",
       "      <td>564606</td>\n",
       "      <td>4</td>\n",
       "      <td>HTMCP-03-06-02001</td>\n",
       "      <td>148031</td>\n",
       "    </tr>\n",
       "    <tr>\n",
       "      <th>2</th>\n",
       "      <td>1</td>\n",
       "      <td>569346</td>\n",
       "      <td>722466</td>\n",
       "      <td>4</td>\n",
       "      <td>HTMCP-03-06-02001</td>\n",
       "      <td>153120</td>\n",
       "    </tr>\n",
       "    <tr>\n",
       "      <th>3</th>\n",
       "      <td>1</td>\n",
       "      <td>722467</td>\n",
       "      <td>831517</td>\n",
       "      <td>3</td>\n",
       "      <td>HTMCP-03-06-02001</td>\n",
       "      <td>109050</td>\n",
       "    </tr>\n",
       "    <tr>\n",
       "      <th>4</th>\n",
       "      <td>1</td>\n",
       "      <td>831518</td>\n",
       "      <td>1487296</td>\n",
       "      <td>4</td>\n",
       "      <td>HTMCP-03-06-02001</td>\n",
       "      <td>655778</td>\n",
       "    </tr>\n",
       "    <tr>\n",
       "      <th>5</th>\n",
       "      <td>1</td>\n",
       "      <td>1487297</td>\n",
       "      <td>1644650</td>\n",
       "      <td>3</td>\n",
       "      <td>HTMCP-03-06-02001</td>\n",
       "      <td>157353</td>\n",
       "    </tr>\n",
       "  </tbody>\n",
       "</table>\n",
       "</div>"
      ],
      "text/plain": [
       "   chr    start      end  cn            patient  seg_length\n",
       "0    1   416575   564606   4  HTMCP-03-06-02001      148031\n",
       "2    1   569346   722466   4  HTMCP-03-06-02001      153120\n",
       "3    1   722467   831517   3  HTMCP-03-06-02001      109050\n",
       "4    1   831518  1487296   4  HTMCP-03-06-02001      655778\n",
       "5    1  1487297  1644650   3  HTMCP-03-06-02001      157353"
      ]
     },
     "execution_count": 32,
     "metadata": {},
     "output_type": "execute_result"
    }
   ],
   "source": [
    "df2.head()"
   ]
  },
  {
   "cell_type": "code",
   "execution_count": 33,
   "metadata": {},
   "outputs": [
    {
     "name": "stderr",
     "output_type": "stream",
     "text": [
      "/home/szong/anaconda3/lib/python3.6/site-packages/matplotlib/font_manager.py:1297: UserWarning: findfont: Font family ['sans-serif'] not found. Falling back to DejaVu Sans\n",
      "  (prop.get_family(), self.defaultFamily[fontext]))\n"
     ]
    },
    {
     "data": {
      "image/png": "[encoded data removed]",
      "text/plain": [
       "<matplotlib.figure.Figure at 0x7f1130201b00>"
      ]
     },
     "metadata": {},
     "output_type": "display_data"
    }
   ],
   "source": [
    "# amps segment length distribution\n",
    "with plt.style.context(\"seaborn-whitegrid\"):\n",
    "    plt.rcParams[\"axes.edgecolor\"] = \"0.15\"\n",
    "    plt.rcParams[\"axes.linewidth\"]  = 1.25\n",
    "    fig = plt.figure(facecolor='w')\n",
    "    sns.distplot(df2.seg_length, kde=False)\n",
    "    plt.xlabel('seg length kb')\n",
    "    plt.ylabel('number of seg length')\n",
    "#     plt.xlim(0, 5000)\n",
    "# of = '/projects/trans_scratch/validations/workspace/szong/Cervical/cnv/pog_cnv/segs_distribution.png'\n",
    "# plt.savefig(of, dpi=500)"
   ]
  },
  {
   "cell_type": "code",
   "execution_count": 34,
   "metadata": {},
   "outputs": [
    {
     "name": "stderr",
     "output_type": "stream",
     "text": [
      "/home/szong/anaconda3/lib/python3.6/site-packages/matplotlib/font_manager.py:1297: UserWarning: findfont: Font family ['sans-serif'] not found. Falling back to DejaVu Sans\n",
      "  (prop.get_family(), self.defaultFamily[fontext]))\n"
     ]
    },
    {
     "data": {
      "image/png": "[encoded data removed]",
      "text/plain": [
       "<matplotlib.figure.Figure at 0x7f11a2a87ef0>"
      ]
     },
     "metadata": {},
     "output_type": "display_data"
    }
   ],
   "source": [
    "# segments per patient\n",
    "segments = df2.groupby('patient').count().sort_values('cn', ascending=False)['cn']\n",
    "\n",
    "# distribution of number of segments\n",
    "with plt.style.context(\"seaborn-whitegrid\"):\n",
    "    plt.rcParams[\"axes.edgecolor\"] = \"0.15\"\n",
    "    plt.rcParams[\"axes.linewidth\"]  = 1.25\n",
    "    fig = plt.figure(facecolor='w')\n",
    "    sns.distplot(segments, kde=False)\n",
    "    plt.xlabel('number of non_diploid segments')\n",
    "    plt.ylabel('number of patients')\n",
    "of = '/projects/trans_scratch/validations/workspace/szong/Cervical/cnv/pog_cnv/segs_distribution.png'\n",
    "# plt.savefig(of, dpi=500)"
   ]
  },
  {
   "cell_type": "code",
   "execution_count": 35,
   "metadata": {
    "collapsed": true
   },
   "outputs": [],
   "source": [
    "of = '/projects/trans_scratch/validations/workspace/szong/Cervical/cnv/cervical_cnv/amps.txt'\n",
    "of2 = '/projects/trans_scratch/validations/workspace/szong/Cervical/cnv/cervical_cnv/dels.txt'\n",
    "df2[df2.cn >2].to_csv(of, index=False, header=None, sep='\\t')\n",
    "df2[df2.cn <2].to_csv(of2, index=False, header=None, sep='\\t')"
   ]
  },
  {
   "cell_type": "code",
   "execution_count": 36,
   "metadata": {
    "collapsed": true
   },
   "outputs": [],
   "source": [
    "patients = df2.patient.value_counts().index.tolist()"
   ]
  },
  {
   "cell_type": "code",
   "execution_count": 37,
   "metadata": {},
   "outputs": [
    {
     "data": {
      "text/plain": [
       "121"
      ]
     },
     "execution_count": 37,
     "metadata": {},
     "output_type": "execute_result"
    }
   ],
   "source": [
    "len(patients)"
   ]
  },
  {
   "cell_type": "markdown",
   "metadata": {},
   "source": [
    "find systematic cnv noise"
   ]
  },
  {
   "cell_type": "markdown",
   "metadata": {},
   "source": [
    "cnv zoom in plots are here\n",
    "\n",
    "/projects/rcorbettprj2/NCI_cervical/HTMCP-03-06-02344\n",
    "\n",
    "\n"
   ]
  },
  {
   "cell_type": "markdown",
   "metadata": {},
   "source": [
    "generate regions to review for all patients:\n",
    "\n",
    " while read a b;do /home/rcorbett/aligners/bedtools/BEDTools-Version-2.15.0/bin/bedtools intersect -a $b  -b amps_noise_to_review.txt -wa -wb|awk '$4>2'|awk '{print $1\"\\t\"$2\"\\t\"$3\"\\t\"$4\"\\t\"$5\"\\t\"$6\"\\t\"$7\"\\t\"$8\"\\t\"$9\"\\t\"($3-$2)/1000}'|sort -k10nr>$a.amp.to.review;done < segs_file.tmp \n",
    " \n",
    " while read a b;do /home/rcorbett/aligners/bedtools/BEDTools-Version-2.15.0/bin/bedtools intersect -a $b  -b dels_noise_to_review.txt -wa -wb|awk '$4<2'|awk '{print $1\"\\t\"$2\"\\t\"$3\"\\t\"$4\"\\t\"$5\"\\t\"$6\"\\t\"$7\"\\t\"$8\"\\t\"$9\"\\t\"($3-$2)/1000}'|sort -k10nr>$a.del.to.review;done < segs_file.tmp \n",
    " \n",
    " use this command to see window size of a region:\n",
    " \n",
    " grep -w -C 50 38306472 \n",
    "/projects/somatic/NCI_SAIC_HIV_Cervical/HTMCP-03-06-02213/hg19a/GSH/A54387_A54514/cnv/tc_60/18647/w200/w200_cna.txt\n"
   ]
  },
  {
   "cell_type": "markdown",
   "metadata": {},
   "source": [
    "bin cnv into 1kb bins\n",
    "\n",
    "sort -k1n -k2n -k3n amps.txt > amps.txt.sorted \n",
    "\n",
    "/home/rcorbett/aligners/bedtools/BEDTools-Version-2.15.0/bin/bedtools intersect -a ../bin_segs/chr_bins.txt -b amps.txt.sorted -wa -wb > amps_bins_1kb.txt\n",
    "\n",
    "sort -k1n -k2n -k3n dels.txt > dels.txt.sorted\n",
    "\n",
    "/home/rcorbett/aligners/bedtools/BEDTools-Version-2.15.0/bin/bedtools intersect -a ../bin_segs/chr_bins.txt -b dels.txt.sorted -wa -wb > dels_bins_1kb.txt\n"
   ]
  },
  {
   "cell_type": "code",
   "execution_count": 38,
   "metadata": {
    "collapsed": true
   },
   "outputs": [],
   "source": [
    "f = '/projects/trans_scratch/validations/workspace/szong/Cervical/cnv/cervical_cnv/dels_bins_1kb.txt'\n",
    "df = pd.read_csv(f, sep='\\t', header=None)\n",
    "df.columns = ['bin_chr', 'bin_start', 'bin_end', 'chr', 'start', 'end', 'cn', 'patient', 'length']\n",
    "df = df[['bin_chr', 'bin_start', 'bin_end','patient']]\n",
    "occurrence = df.groupby(['bin_chr', 'bin_start', 'bin_end']).nunique()['patient']#.sort_values(ascending=False)\n",
    "recur_dels = occurrence.reset_index().sort_values(['bin_chr', 'bin_start', 'bin_end'])\n",
    "f = '/projects/trans_scratch/validations/workspace/szong/Cervical/cnv/cervical_cnv/dels_bins_1kb_patients.txt'\n",
    "recur_dels.to_csv(f, index=False, sep='\\t')\n",
    "# recur_dels = pd.read_csv(f, sep='\\t')"
   ]
  },
  {
   "cell_type": "code",
   "execution_count": 39,
   "metadata": {
    "collapsed": true
   },
   "outputs": [],
   "source": [
    "f = '/projects/trans_scratch/validations/workspace/szong/Cervical/cnv/cervical_cnv/amps_bins_1kb.txt'\n",
    "df = pd.read_csv(f, sep='\\t', header=None)\n",
    "df.columns = ['bin_chr', 'bin_start', 'bin_end', 'chr', 'start', 'end', 'cn', 'patient', 'length']\n",
    "df.head(2)\n",
    "\n",
    "occurrence = df.groupby(['bin_chr', 'bin_start', 'bin_end']).nunique()['patient']#.sort_values(ascending=False)\n",
    "\n",
    "occurrence.head()\n",
    "\n",
    "type(occurrence.reset_index())\n",
    "\n",
    "recur_amps = occurrence.reset_index().sort_values(['bin_chr', 'bin_start', 'bin_end'])\n",
    "\n",
    "recur_amps.head()\n",
    "\n",
    "f = '/projects/trans_scratch/validations/workspace/szong/Cervical/cnv/cervical_cnv/amps_bins_1kb_patients.txt'\n",
    "recur_amps.to_csv(f, index=False, sep='\\t')"
   ]
  },
  {
   "cell_type": "code",
   "execution_count": 44,
   "metadata": {},
   "outputs": [
    {
     "data": {
      "text/html": [
       "<div>\n",
       "<style>\n",
       "    .dataframe thead tr:only-child th {\n",
       "        text-align: right;\n",
       "    }\n",
       "\n",
       "    .dataframe thead th {\n",
       "        text-align: left;\n",
       "    }\n",
       "\n",
       "    .dataframe tbody tr th {\n",
       "        vertical-align: top;\n",
       "    }\n",
       "</style>\n",
       "<table border=\"1\" class=\"dataframe\">\n",
       "  <thead>\n",
       "    <tr style=\"text-align: right;\">\n",
       "      <th></th>\n",
       "      <th>bin_chr</th>\n",
       "      <th>bin_start</th>\n",
       "      <th>bin_end</th>\n",
       "      <th>patient</th>\n",
       "    </tr>\n",
       "  </thead>\n",
       "  <tbody>\n",
       "    <tr>\n",
       "      <th>1830634</th>\n",
       "      <td>19</td>\n",
       "      <td>27853001</td>\n",
       "      <td>27854000</td>\n",
       "      <td>63</td>\n",
       "    </tr>\n",
       "    <tr>\n",
       "      <th>1830630</th>\n",
       "      <td>19</td>\n",
       "      <td>27849001</td>\n",
       "      <td>27850000</td>\n",
       "      <td>63</td>\n",
       "    </tr>\n",
       "    <tr>\n",
       "      <th>1830641</th>\n",
       "      <td>19</td>\n",
       "      <td>27860001</td>\n",
       "      <td>27861000</td>\n",
       "      <td>63</td>\n",
       "    </tr>\n",
       "    <tr>\n",
       "      <th>1830640</th>\n",
       "      <td>19</td>\n",
       "      <td>27859001</td>\n",
       "      <td>27860000</td>\n",
       "      <td>63</td>\n",
       "    </tr>\n",
       "    <tr>\n",
       "      <th>1830639</th>\n",
       "      <td>19</td>\n",
       "      <td>27858001</td>\n",
       "      <td>27859000</td>\n",
       "      <td>63</td>\n",
       "    </tr>\n",
       "  </tbody>\n",
       "</table>\n",
       "</div>"
      ],
      "text/plain": [
       "         bin_chr  bin_start   bin_end  patient\n",
       "1830634       19   27853001  27854000       63\n",
       "1830630       19   27849001  27850000       63\n",
       "1830641       19   27860001  27861000       63\n",
       "1830640       19   27859001  27860000       63\n",
       "1830639       19   27858001  27859000       63"
      ]
     },
     "execution_count": 44,
     "metadata": {},
     "output_type": "execute_result"
    }
   ],
   "source": [
    "recur_amps[recur_amps.patient>60].sort_values('patient', ascending=False).head()"
   ]
  },
  {
   "cell_type": "code",
   "execution_count": 40,
   "metadata": {},
   "outputs": [
    {
     "name": "stderr",
     "output_type": "stream",
     "text": [
      "/home/szong/anaconda3/lib/python3.6/site-packages/matplotlib/font_manager.py:1297: UserWarning: findfont: Font family ['sans-serif'] not found. Falling back to DejaVu Sans\n",
      "  (prop.get_family(), self.defaultFamily[fontext]))\n"
     ]
    },
    {
     "data": {
      "image/png": "[encoded data removed]",
      "text/plain": [
       "<matplotlib.figure.Figure at 0x7f11a20d0cc0>"
      ]
     },
     "metadata": {},
     "output_type": "display_data"
    }
   ],
   "source": [
    "# distribution of number of patients for each bin\n",
    "with plt.style.context(\"seaborn-whitegrid\"):\n",
    "    plt.rcParams[\"axes.edgecolor\"] = \"0.15\"\n",
    "    plt.rcParams[\"axes.linewidth\"]  = 1.25\n",
    "    fig = plt.figure(facecolor='w', figsize=(12, 6))\n",
    "    ax1 = fig.add_subplot(121)\n",
    "    sns.distplot(recur_amps.patient, kde=False)\n",
    "    ax1.set_xlabel('number of patients')\n",
    "    ax1.set_ylabel('number of ikb bins')\n",
    "    ax1.set_title('amp distribution')\n",
    "    \n",
    "    ax2 = fig.add_subplot(122)\n",
    "    sns.distplot(recur_dels.patient, kde=False)\n",
    "    ax2.set_xlabel('number of patients')\n",
    "    ax2.set_ylabel('number of ikb bins')\n",
    "    ax2.set_title('del distribution')\n",
    "#     plt.ylim(0,350000)\n",
    "of = '/projects/trans_scratch/validations/workspace/szong/Cervical/cnv/pog_cnv/bin_distribution.png'\n",
    "plt.savefig(of, dpi=500)"
   ]
  },
  {
   "cell_type": "markdown",
   "metadata": {},
   "source": [
    "# review cna zoomed-in plots\n",
    "You can run Matlab from your command line with this command:\n",
    "/gsc/software/linux-x86_64-centos6/matlab-r2016a/bin/matlab\n",
    "\n",
    " From there if you just open a .fig file through the menu it will give \n",
    "you a window with the zoom tools at the top."
   ]
  },
  {
   "cell_type": "code",
   "execution_count": null,
   "metadata": {
    "collapsed": true
   },
   "outputs": [],
   "source": []
  },
  {
   "cell_type": "code",
   "execution_count": null,
   "metadata": {
    "collapsed": true
   },
   "outputs": [],
   "source": []
  },
  {
   "cell_type": "code",
   "execution_count": null,
   "metadata": {
    "collapsed": true
   },
   "outputs": [],
   "source": []
  },
  {
   "cell_type": "markdown",
   "metadata": {},
   "source": [
    "# below are outdated"
   ]
  },
  {
   "cell_type": "code",
   "execution_count": 197,
   "metadata": {
    "collapsed": true
   },
   "outputs": [],
   "source": [
    "# patients"
   ]
  },
  {
   "cell_type": "code",
   "execution_count": null,
   "metadata": {
    "collapsed": true
   },
   "outputs": [],
   "source": [
    "# plot cytoband hg19\n",
    "df_segs = df2.copy()\n",
    "df_cytoband = df3.copy()"
   ]
  },
  {
   "cell_type": "code",
   "execution_count": 255,
   "metadata": {
    "collapsed": true
   },
   "outputs": [],
   "source": [
    "patients = ['HTMCP-03-06-02071', 'HTMCP-03-06-02330', 'HTMCP-03-06-02441']"
   ]
  },
  {
   "cell_type": "code",
   "execution_count": 256,
   "metadata": {},
   "outputs": [
    {
     "name": "stdout",
     "output_type": "stream",
     "text": [
      "processing chr 1 and the chr_offset is 0\n",
      "plotting amp aggregation\n"
     ]
    },
    {
     "name": "stderr",
     "output_type": "stream",
     "text": [
      "/home/szong/anaconda3/lib/python3.6/site-packages/ipykernel_launcher.py:50: SettingWithCopyWarning: \n",
      "A value is trying to be set on a copy of a slice from a DataFrame.\n",
      "Try using .loc[row_indexer,col_indexer] = value instead\n",
      "\n",
      "See the caveats in the documentation: http://pandas.pydata.org/pandas-docs/stable/indexing.html#indexing-view-versus-copy\n"
     ]
    },
    {
     "name": "stdout",
     "output_type": "stream",
     "text": [
      "plotting del aggregation\n"
     ]
    },
    {
     "name": "stderr",
     "output_type": "stream",
     "text": [
      "/home/szong/anaconda3/lib/python3.6/site-packages/ipykernel_launcher.py:57: SettingWithCopyWarning: \n",
      "A value is trying to be set on a copy of a slice from a DataFrame.\n",
      "Try using .loc[row_indexer,col_indexer] = value instead\n",
      "\n",
      "See the caveats in the documentation: http://pandas.pydata.org/pandas-docs/stable/indexing.html#indexing-view-versus-copy\n"
     ]
    },
    {
     "name": "stdout",
     "output_type": "stream",
     "text": [
      "processing chr 2 and the chr_offset is 249250621\n",
      "plotting amp aggregation\n",
      "plotting del aggregation\n",
      "processing chr 3 and the chr_offset is 492449994\n",
      "plotting amp aggregation\n",
      "plotting del aggregation\n",
      "processing chr 4 and the chr_offset is 690472424\n",
      "plotting amp aggregation\n",
      "plotting del aggregation\n",
      "processing chr 5 and the chr_offset is 881626700\n",
      "plotting amp aggregation\n",
      "plotting del aggregation\n",
      "processing chr 6 and the chr_offset is 1062541960\n",
      "plotting amp aggregation\n",
      "plotting del aggregation\n",
      "processing chr 7 and the chr_offset is 1233657027\n",
      "plotting amp aggregation\n",
      "plotting del aggregation\n",
      "processing chr 8 and the chr_offset is 1392795690\n",
      "plotting amp aggregation\n",
      "plotting del aggregation\n",
      "processing chr 9 and the chr_offset is 1539159712\n",
      "plotting amp aggregation\n",
      "plotting del aggregation\n",
      "processing chr 10 and the chr_offset is 1680373143\n",
      "plotting amp aggregation\n",
      "plotting del aggregation\n",
      "processing chr 11 and the chr_offset is 1815907890\n",
      "plotting amp aggregation\n",
      "plotting del aggregation\n",
      "processing chr 12 and the chr_offset is 1950914406\n",
      "plotting amp aggregation\n",
      "plotting del aggregation\n",
      "processing chr 13 and the chr_offset is 2084766301\n",
      "plotting amp aggregation\n",
      "plotting del aggregation\n",
      "processing chr 14 and the chr_offset is 2199936179\n",
      "plotting amp aggregation\n",
      "plotting del aggregation\n",
      "processing chr 15 and the chr_offset is 2307285719\n",
      "plotting amp aggregation\n",
      "plotting del aggregation\n",
      "processing chr 16 and the chr_offset is 2409817111\n",
      "plotting amp aggregation\n",
      "plotting del aggregation\n",
      "processing chr 17 and the chr_offset is 2500171864\n",
      "plotting amp aggregation\n",
      "plotting del aggregation\n",
      "processing chr 18 and the chr_offset is 2581367074\n",
      "plotting amp aggregation\n",
      "plotting del aggregation\n",
      "processing chr 19 and the chr_offset is 2659444322\n",
      "plotting amp aggregation\n",
      "plotting del aggregation\n",
      "processing chr 20 and the chr_offset is 2718573305\n",
      "plotting amp aggregation\n",
      "plotting del aggregation\n",
      "processing chr 21 and the chr_offset is 2781598825\n",
      "plotting amp aggregation\n",
      "plotting del aggregation\n",
      "processing chr 22 and the chr_offset is 2829728720\n",
      "plotting amp aggregation\n",
      "plotting del aggregation\n"
     ]
    },
    {
     "data": {
      "image/png": "[encoded data removed]",
      "text/plain": [
       "<matplotlib.figure.Figure at 0x7fb3042bc198>"
      ]
     },
     "metadata": {},
     "output_type": "display_data"
    }
   ],
   "source": [
    "with plt.style.context(\"seaborn-white\"):\n",
    "    plt.rcParams[\"axes.edgecolor\"] = \"0.15\"\n",
    "    plt.rcParams[\"axes.linewidth\"]  = 1.25\n",
    "#     fig = plt.figure(facecolor='w', figsize=(15,9))\n",
    "    fig = plt.figure(figsize=(15, 9), facecolor='white')\n",
    "    gs = gridspec.GridSpec(3, 1, height_ratios=[1,1,8],\n",
    "                           wspace=0.05, # horizontal space\n",
    "                           hspace=0.0  # vertical space\n",
    "                          )\n",
    "    \n",
    "    ax0 = fig.add_subplot(gs[0], facecolor='white')\n",
    "    ax1 = fig.add_subplot(gs[1], facecolor='white')\n",
    "    ax2 = fig.add_subplot(gs[2], facecolor='white')\n",
    "    chr_offset = 0 # chromosome offset\n",
    "    num_patients = len(patients)\n",
    "#     ylim = 4\n",
    "    ylim = num_patients/10.0+0.1\n",
    "    for chr in np.arange(1,23):\n",
    "        print('processing chr {0} and the chr_offset is {1}'.format(chr, chr_offset))\n",
    "        dfchr = df_cytoband[df_cytoband.chr=='chr{}'.format(chr)]\n",
    "        clrs = ['-k', '-g']*100\n",
    "        \n",
    "        num_segs = dfchr.shape[0]\n",
    "        # plot centromere\n",
    "        acen = dfchr[dfchr.comments=='acen'].reset_index().loc[0, 'end'] + chr_offset\n",
    "        ax2.plot(acen, 0.1, color='black',marker='D', markersize=4)\n",
    "        ax2.axvline(x=acen, color='gray', linewidth=0.2)\n",
    "        ax2.text(acen, -.25, '{}'.format(chr), color='red', horizontalalignment='center')\n",
    "        \n",
    "        clrs = clrs[:num_segs]\n",
    "        i = 0 # color index\n",
    "        for idx, row in dfchr.iterrows():\n",
    "            start = row.start + chr_offset\n",
    "            end = row.end + chr_offset\n",
    "            cytoband = row.cytoband\n",
    "            comment = row.comments\n",
    "            center = (start + end)/2 + chr_offset\n",
    "            width = int(end - start)\n",
    "            ax2.plot((start, end), (0.05,0.05), clrs[i], linewidth=3, solid_capstyle='butt')        \n",
    "            i+=1\n",
    "\n",
    "        \n",
    "        # draw chromosome boundary\n",
    "        ax2.axvline(x=chr_offset, color='gray')\n",
    "        \n",
    "        \n",
    "        # plot amp aggregate results\n",
    "        amps = recur_amps.query('bin_chr == {0}'.format(chr))\n",
    "        print('plotting amp aggregation')\n",
    "        amps['x'] = amps.bin_start + chr_offset\n",
    "        ax0.plot(amps.x, amps.patient, color='red', linewidth=.5, solid_capstyle='butt')\n",
    "        ax0.axhline(y=0.75*num_patients, color='gray', linestyle='dashed')\n",
    "\n",
    "        # plot del aggregate results\n",
    "        dels = recur_dels.query('bin_chr == {0}'.format(chr))\n",
    "        print('plotting del aggregation')\n",
    "        dels['x'] = dels.bin_start + chr_offset\n",
    "        ax1.plot(dels.x, dels.patient, color='blue', linewidth=.5, solid_capstyle='butt')\n",
    "        ax1.axhline(y=0.75*num_patients, color='gray', linestyle='dashed')\n",
    " \n",
    "       \n",
    "        # plot cnvs\n",
    "        j = 0 # row offset\n",
    "        yticks = []\n",
    "        cnvy_coords = []\n",
    "        for patient in patients: \n",
    "#             print('plotting patient {0}, cnvy_coords is {1}'.format(patient, 0.2+j))\n",
    "            # plot amplification\n",
    "            amps = df_segs.query('chr == {0} & patient == \"{1}\" & cn > 2'.format(chr, patient))\n",
    "            m=0 #test label offset to be deleted\n",
    "            for idx, row in amps.iterrows():\n",
    "                start = row.start + chr_offset\n",
    "                end = row.end + chr_offset\n",
    "                length = end - start\n",
    "                cn = row.cn\n",
    "#                 if chr == 7 or chr ==14:\n",
    "#                     print('plotting amps line {0}:{1}-{2}, cn {3}, length {4}'.format(chr, row.start, row.end, cn, row.end-row.start))\n",
    "                    \n",
    "\n",
    "#                 it looks like can not see anything <150000 on a 3 billion scale, so magnfiy anything to 150000\n",
    "                if length < 150000:\n",
    "                    end = start + 150000\n",
    "                ax2.plot((start, end), (0.2+j, 0.2+j), color='red', marker='_', linewidth=cn*0.5, solid_capstyle='butt')\n",
    "#                 ax2.text(start, 0.2+m, str(row.start))\n",
    "#                 m+=0.2\n",
    "            # plot deletion\n",
    "            dels = df_segs.query('chr == {0} & patient == \"{1}\" & cn < 2'.format(chr, patient))\n",
    "            for idx, row in dels.iterrows():\n",
    "                start = row.start + chr_offset\n",
    "                end = row.end + chr_offset\n",
    "                length = end - start\n",
    "                cn = row.cn\n",
    "                if length < 150000:\n",
    "                    end = start + 150000\n",
    "                del_w = 2 - cn\n",
    "                ax2.plot((start, end), (0.3+j, 0.3+j), color='blue', marker='_', linewidth=del_w*0.75, solid_capstyle='butt')\n",
    "            yticks.append(0.25+j)\n",
    "            j+=0.2\n",
    "        chr_offset+=max(dfchr.end)\n",
    "    ax0.set_xlim(0, chr_offset)\n",
    "    ax0.set_ylim(0, num_patients)\n",
    "    ax1.set_xlim(0, chr_offset)\n",
    "    ax1.set_ylim(0, num_patients)\n",
    "    ax2.set_xlim(0, chr_offset)\n",
    "    ax2.set_ylim(0, ylim)\n",
    "    ax0.set_xticklabels('')\n",
    "    ax1.set_xticklabels('')\n",
    "    ax2.set_xticklabels('')\n",
    "    ax2.set_yticks(yticks)\n",
    "    ax2.set_yticklabels([i.split('-')[3] for i in patients], fontsize=3)\n",
    "#     plt.tight_layout()\n",
    "    of = '/projects/trans_scratch/validations/workspace/szong/Cervical/cnv/cnv_123_patients.png'\n",
    "    plt.savefig(of, dpi=800)\n",
    "    plt.show()"
   ]
  },
  {
   "cell_type": "code",
   "execution_count": null,
   "metadata": {
    "collapsed": true
   },
   "outputs": [],
   "source": []
  },
  {
   "cell_type": "code",
   "execution_count": null,
   "metadata": {
    "collapsed": true
   },
   "outputs": [],
   "source": []
  },
  {
   "cell_type": "code",
   "execution_count": null,
   "metadata": {
    "collapsed": true
   },
   "outputs": [],
   "source": []
  },
  {
   "cell_type": "markdown",
   "metadata": {},
   "source": [
    "sanity check: because of resolution, bands less than 100kb in length may not show on the plot.\n",
    "\n",
    "    while read a b;do echo -ne $a\"\\t\";/home/rcorbett/aligners/bedtools/BEDTools-Version-2.15.0/bin/bedtools intersect -a $b -b a.tmp ;done < Cervical_124_patients_adjusted/cnv_files_for_acen_removal.txt |awk '$5>2'"
   ]
  },
  {
   "cell_type": "markdown",
   "metadata": {},
   "source": [
    " these are 3 examples of peaks in 7q14.1, we should see them in the plot\n",
    " while read a b;do echo -ne $a\"\\t\";/home/rcorbett/aligners/bedtools/BEDTools-Version-2.15.0/bin/bedtools intersect -a $b -b 7q14.1_peak_coords.txt -wa -wb;done < cnv_files_for_acen_removal.txt|grep \"02441\\|02330\\|02071\"\n",
    " \n",
    "HTMCP-03-06-02071\t7\t38294085\t38374669\t4\t7\t38311127\t38338695\n",
    "\n",
    "HTMCP-03-06-02330\t7\t38309671\t38338696\t4\t7\t38311127\t38338695\n",
    "\n",
    "HTMCP-03-06-02441\t7\t38292804\t38368824\t4\t7\t38311127\t38338695\n"
   ]
  },
  {
   "cell_type": "code",
   "execution_count": null,
   "metadata": {
    "collapsed": true
   },
   "outputs": [],
   "source": []
  },
  {
   "cell_type": "markdown",
   "metadata": {},
   "source": [
    "clean up by removing GISTIC wide peaks after review"
   ]
  },
  {
   "cell_type": "code",
   "execution_count": null,
   "metadata": {
    "collapsed": true
   },
   "outputs": [],
   "source": [
    "# peak region to remove: my scipts identified\n",
    "# 6\t58776001\t58780001\t4000\n",
    "# 7\t38294001\t38371001\t77000\n",
    "# 14\t22406001\t22971001\t565000\n",
    "\n",
    "# GISTIC wide peaks\n",
    "# chr14:22779419-22934657\t\n",
    "# chr7:38311127-38338695\t\n",
    "# chr7:142421419-142476036\n",
    "# chr4:68264255-68264791\n",
    "\n"
   ]
  },
  {
   "cell_type": "code",
   "execution_count": 75,
   "metadata": {},
   "outputs": [
    {
     "data": {
      "text/html": [
       "<div>\n",
       "<style>\n",
       "    .dataframe thead tr:only-child th {\n",
       "        text-align: right;\n",
       "    }\n",
       "\n",
       "    .dataframe thead th {\n",
       "        text-align: left;\n",
       "    }\n",
       "\n",
       "    .dataframe tbody tr th {\n",
       "        vertical-align: top;\n",
       "    }\n",
       "</style>\n",
       "<table border=\"1\" class=\"dataframe\">\n",
       "  <thead>\n",
       "    <tr style=\"text-align: right;\">\n",
       "      <th></th>\n",
       "      <th>chr</th>\n",
       "      <th>start</th>\n",
       "      <th>end</th>\n",
       "      <th>length</th>\n",
       "    </tr>\n",
       "  </thead>\n",
       "  <tbody>\n",
       "    <tr>\n",
       "      <th>0</th>\n",
       "      <td>6</td>\n",
       "      <td>58776001</td>\n",
       "      <td>58780001</td>\n",
       "      <td>4000</td>\n",
       "    </tr>\n",
       "    <tr>\n",
       "      <th>1</th>\n",
       "      <td>14</td>\n",
       "      <td>22779419</td>\n",
       "      <td>22934657</td>\n",
       "      <td>155238</td>\n",
       "    </tr>\n",
       "    <tr>\n",
       "      <th>2</th>\n",
       "      <td>7</td>\n",
       "      <td>38311127</td>\n",
       "      <td>38338695</td>\n",
       "      <td>27568</td>\n",
       "    </tr>\n",
       "    <tr>\n",
       "      <th>3</th>\n",
       "      <td>7</td>\n",
       "      <td>142421419</td>\n",
       "      <td>142476036</td>\n",
       "      <td>54617</td>\n",
       "    </tr>\n",
       "    <tr>\n",
       "      <th>4</th>\n",
       "      <td>4</td>\n",
       "      <td>68264255</td>\n",
       "      <td>68264791</td>\n",
       "      <td>536</td>\n",
       "    </tr>\n",
       "  </tbody>\n",
       "</table>\n",
       "</div>"
      ],
      "text/plain": [
       "   chr      start        end  length\n",
       "0    6   58776001   58780001    4000\n",
       "1   14   22779419   22934657  155238\n",
       "2    7   38311127   38338695   27568\n",
       "3    7  142421419  142476036   54617\n",
       "4    4   68264255   68264791     536"
      ]
     },
     "execution_count": 75,
     "metadata": {},
     "output_type": "execute_result"
    }
   ],
   "source": [
    "f3 = '/projects/trans_scratch/validations/workspace/szong/Cervical/cnv/peaks_to_remove.txt'\n",
    "df3 = pd.read_csv(f3, comment=\"#\", sep='\\t', header=None)\n",
    "df3.columns= ['chr', 'start', 'end', 'length']\n",
    "df3"
   ]
  },
  {
   "cell_type": "code",
   "execution_count": null,
   "metadata": {
    "collapsed": true
   },
   "outputs": [],
   "source": [
    "# rules to clean up\n",
    "# overlap 10% of the interval to be removed\n",
    "# if cn>2 and orginal segment < 50mb, change the cn to 2"
   ]
  },
  {
   "cell_type": "code",
   "execution_count": 76,
   "metadata": {},
   "outputs": [
    {
     "data": {
      "text/html": [
       "<div>\n",
       "<style>\n",
       "    .dataframe thead tr:only-child th {\n",
       "        text-align: right;\n",
       "    }\n",
       "\n",
       "    .dataframe thead th {\n",
       "        text-align: left;\n",
       "    }\n",
       "\n",
       "    .dataframe tbody tr th {\n",
       "        vertical-align: top;\n",
       "    }\n",
       "</style>\n",
       "<table border=\"1\" class=\"dataframe\">\n",
       "  <thead>\n",
       "    <tr style=\"text-align: right;\">\n",
       "      <th></th>\n",
       "      <th>patient</th>\n",
       "      <th>seg_path</th>\n",
       "    </tr>\n",
       "  </thead>\n",
       "  <tbody>\n",
       "    <tr>\n",
       "      <th>0</th>\n",
       "      <td>HTMCP-03-06-02001</td>\n",
       "      <td>/projects/somatic/NCI_SAIC_HIV_Cervical/HTMCP-...</td>\n",
       "    </tr>\n",
       "    <tr>\n",
       "      <th>1</th>\n",
       "      <td>HTMCP-03-06-02002</td>\n",
       "      <td>/projects/somatic/NCI_SAIC_HIV_Cervical/HTMCP-...</td>\n",
       "    </tr>\n",
       "  </tbody>\n",
       "</table>\n",
       "</div>"
      ],
      "text/plain": [
       "             patient                                           seg_path\n",
       "0  HTMCP-03-06-02001  /projects/somatic/NCI_SAIC_HIV_Cervical/HTMCP-...\n",
       "1  HTMCP-03-06-02002  /projects/somatic/NCI_SAIC_HIV_Cervical/HTMCP-..."
      ]
     },
     "execution_count": 76,
     "metadata": {},
     "output_type": "execute_result"
    }
   ],
   "source": [
    "df1.head(2)"
   ]
  },
  {
   "cell_type": "code",
   "execution_count": 91,
   "metadata": {
    "collapsed": true
   },
   "outputs": [],
   "source": [
    "def overlap_intervals(a, b):\n",
    "    return max(0, min(a[1], b[1]) - max(a[0], b[0]))\n"
   ]
  },
  {
   "cell_type": "code",
   "execution_count": 176,
   "metadata": {
    "collapsed": true
   },
   "outputs": [],
   "source": [
    "# shorted chromosome 21 ~48Mb\n",
    "def mask_cnv(df_segs, df_masks, of):\n",
    "    with open(of, 'w') as writer:\n",
    "        for i, row in df_segs.iterrows():\n",
    "            chrm = row[0]\n",
    "            start = row[1]\n",
    "            end = row[2]\n",
    "            cn = row[3]\n",
    "            length = end - start\n",
    "            chrms = df_masks.chr.unique()\n",
    "            if chrm in chrms and cn >2 and length < 5000000:\n",
    "                for j, m_row in df_masks.iterrows():\n",
    "                    m_chrm = m_row[0]\n",
    "                    m_start = m_row[1]\n",
    "                    m_end = m_row[2]\n",
    "                    m_length = m_end - m_start\n",
    "                    if chrm == m_chrm:\n",
    "                        overlap = overlap_intervals([start, end], [m_start, m_end])\n",
    "                        if overlap/min(length, m_length)*1.0 > 0.1:\n",
    "                            print('ovelap', overlap, \"change cn to 2\")\n",
    "                            cn = 2\n",
    "            writer.write('\\t'.join([str(i) for i in [chrm, start, end, cn]]))\n",
    "            writer.write('\\n')\n"
   ]
  },
  {
   "cell_type": "code",
   "execution_count": 86,
   "metadata": {
    "collapsed": true,
    "scrolled": false
   },
   "outputs": [],
   "source": [
    "# for idx, row in df1.iterrows():\n",
    "#     patient = row.patient\n",
    "#     seg_file = row.seg_path\n",
    "#     dftmp = pd.read_csv(seg_file, sep='\\t', header=None)\n",
    "#     of = '/projects/trans_scratch/validations/workspace/szong/Cervical/cnv/Cervical_124_patients_adjusted/w200_clean/{}/w200_segs_cleaned.txt'.format(patient)\n",
    "#     mask_cnv(dftmp, df3, of)"
   ]
  },
  {
   "cell_type": "code",
   "execution_count": null,
   "metadata": {
    "collapsed": true
   },
   "outputs": [],
   "source": []
  },
  {
   "cell_type": "code",
   "execution_count": null,
   "metadata": {
    "collapsed": true
   },
   "outputs": [],
   "source": []
  }
 ],
 "metadata": {
  "kernelspec": {
   "display_name": "Python 3",
   "language": "python",
   "name": "python3"
  },
  "language_info": {
   "codemirror_mode": {
    "name": "ipython",
    "version": 3
   },
   "file_extension": ".py",
   "mimetype": "text/x-python",
   "name": "python",
   "nbconvert_exporter": "python",
   "pygments_lexer": "ipython3",
   "version": "3.6.5"
  }
 },
 "nbformat": 4,
 "nbformat_minor": 2
}
