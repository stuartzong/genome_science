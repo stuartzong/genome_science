{
 "cells": [
  {
   "cell_type": "code",
   "execution_count": 1,
   "metadata": {},
   "outputs": [],
   "source": [
    "# https://shahlab.ca/projects/apolloh/\n",
    "# Function apolloh(infile,cnfile,paramset,outparam,outfile)\n",
    "\n",
    "# INPUTS:  \n",
    "# infile         Tab-delimited input file containing allelic counts\n",
    "#                  from the tumour at positions determined as heterozygous\n",
    "#                  from the normal genome. \n",
    "#                  No header line is assumed.\n",
    "#                 6 columns:\n",
    "#                     1) chr (integer; 'X' and 'Y' strings can be used)\n",
    "#                     2) position\n",
    "#                     3) reference base (can be arbitrary; not used)\n",
    "#                     4) referenc count\n",
    "#                     5) non-reference base (can be arbitrary; not used)\n",
    "#                     6) non-reference count \n",
    "\n",
    "# cnfile         Tab-delimited input copy number segment prior file.\n",
    "#                   The accepted format is the output from HMMcopy,\n",
    "#                   a read-depth for analyzing copy number in tumour-\n",
    "#                   normal sequenced genomes.  \n",
    "#                   However, copy number segments from any source can be used.                \n",
    "#                  8-columns:\n",
    "#                     1) id (can be arbitrary, not used)\n",
    "#                     2) chr\n",
    "#                     3) start  \n",
    "#                     4) stop\n",
    "#                     5) Number of 1kb intervals (can be arbitrary; not used)\n",
    "#                     6) median log2 ratio (normal and tumour) for segment\n",
    "#                     7) HMM state: 1=HOMD (0 copies), 2=HEMD (1 copy),\n",
    "#                         3=NEUT (2 copies), 4=GAIN (3 copies),\n",
    "#                         5=AMP (4 copies), 6=HLAMP (5+ copies)\n",
    "#                         Note that for AMP and HLAMP, relative numbers of copies\n",
    "#                         can be used (i.e. GAIN is 3-4 copies, AMP is 5-6 copies,\n",
    "#                         HLAMP is 7+ copies)\n",
    "#                     8 ) CN state (can be arbitrary; not used)\n",
    "#                   If cnfile='0' is used, then copy number of 2 (diploid) is used\n",
    "#                     for all positions.  \n",
    "\n",
    "# paramset       Parameter intialization file is a matlab binary (.mat) file.\n",
    "#                       This file contains model and setting paramters necessary\n",
    "#                       to run the program.\n",
    "#                       See examples in \"<$install_dir>/APOLLOH_0.1.0/parameters/\".\n",
    "\n",
    "# outfile        Tab-delimited output file for position-level results. \n",
    "#                   9-columns:\n",
    "#                      1) chr ('X' and 'Y' will be output as 23 and 24)\n",
    "#                      2) position\n",
    "#                      3) reference count\n",
    "#                      4) non-reference count\n",
    "#                      5) total depth\n",
    "#                      6) allelic ratio\n",
    "#                      7) copy number (from input)\n",
    "#                      8 ) APOLLOH genotype state\n",
    "#                      9) Zygosity state.\n",
    "#                   N additional columns:\n",
    "#                      posterior marginal probabilities (responsibilities) for\n",
    "#                      each APOLLOH genotype state. \n",
    "#                  Zygosity states are:\n",
    "#                     DLOH=deletion-LOH (state 1)\n",
    "#                     NLOH=copy-neutral-LOH (states 2,4)\n",
    "#                     ALOH=amplified-LOH (states 5,8,9,13,14,19)\n",
    "#                     HET=heterozygous (states 3,6,7)\n",
    "#                     ASCNA=allele-specific-amplification (states 10,12,15,18)\n",
    "#                     BCNA=balanced-amplification (states 11,16,17)\n",
    "\n",
    "#                   Segment boundaries are determined as consecutive\n",
    "#                    marginal states of DLOH, NLOH, ALOH, HET, BCNA,\n",
    "#                    ASCNA; this implementation does not output this\n",
    "#                    information. An external Perl script handles this: \"\n",
    "#                    <$install_dir>/APOLLOH_0.1.0/scripts/createSingleSegFileFromAPOLLOH.pl\"\n",
    "\n",
    "# outparam       Tab-delimited output file storing converged parameters\n",
    "#                        after model training using Expectation Maximization (EM)\n",
    "#                        algorithm.\n",
    "#                      1) Number of iterations \n",
    "#                      2) Global normal contamination parameter \n",
    "#                      3) Binomial parameters for each HMM class/state."
   ]
  },
  {
   "cell_type": "markdown",
   "metadata": {},
   "source": [
    "For the majority of positions in the genome the base present is consistent between individuals, however a small percentage may contain different bases (usually one of two; for instance, ‘A’ or ‘G’) and these positions are called ‘single nucleotide polymorphisms’ or ‘SNPs’. When the genomic copies derived from each parent have different bases for these polymorphic regions (SNPs) the region is said to be heterozygous. Most of the chromosomes within somatic cells of individuals are paired, allowing for SNP locations to be potentially heterozygous. However, one parental copy of a region can sometimes be lost, which results in the region having just one copy. The single copy cannot be heterozygous at SNP locations and therefore the region shows loss of heterozygosity (LOH). Loss of heterozygosity due to loss of one parental copy in a region is also called hemizygosity in that region."
   ]
  },
  {
   "cell_type": "markdown",
   "metadata": {},
   "source": [
    "# files:"
   ]
  },
  {
   "cell_type": "code",
   "execution_count": null,
   "metadata": {},
   "outputs": [],
   "source": []
  },
  {
   "cell_type": "code",
   "execution_count": null,
   "metadata": {},
   "outputs": [],
   "source": []
  },
  {
   "cell_type": "code",
   "execution_count": null,
   "metadata": {},
   "outputs": [],
   "source": []
  },
  {
   "cell_type": "code",
   "execution_count": null,
   "metadata": {},
   "outputs": [],
   "source": []
  },
  {
   "cell_type": "code",
   "execution_count": null,
   "metadata": {},
   "outputs": [],
   "source": []
  }
 ],
 "metadata": {
  "kernelspec": {
   "display_name": "Python 3",
   "language": "python",
   "name": "python3"
  },
  "language_info": {
   "codemirror_mode": {
    "name": "ipython",
    "version": 3
   },
   "file_extension": ".py",
   "mimetype": "text/x-python",
   "name": "python",
   "nbconvert_exporter": "python",
   "pygments_lexer": "ipython3",
   "version": "3.7.3"
  }
 },
 "nbformat": 4,
 "nbformat_minor": 2
}
