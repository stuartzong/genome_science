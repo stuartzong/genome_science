{
 "cells": [
  {
   "cell_type": "markdown",
   "metadata": {},
   "source": [
    "reference:  \n",
    "https://groups.google.com/a/soe.ucsc.edu/forum/#!topic/genome/RCMWZcyOxUs"
   ]
  },
  {
   "cell_type": "markdown",
   "metadata": {},
   "source": [
    "reference mapping cooridates between genome, transcript, protein.  \n",
    "https://bioconductor.org/packages/release/bioc/vignettes/ensembldb/inst/doc/coordinate-mapping.html"
   ]
  },
  {
   "cell_type": "markdown",
   "metadata": {},
   "source": [
    "An he was able to query ensemble data base and give me a table. it looks like the domain information can come from various sources: \n",
    "    for example\n",
    "1. pfam with hit_id start with PF00454, https://pfam.xfam.org/family/PF00454, pfam seems matches uniprot.\n",
    "\n",
    "2. CATHDB databse, with id likes this: 1.10.1070.11,  http://www.cathdb.info/ \n",
    "\n",
    "3. SMART database, wiht id likes this: SM00143, http://smart.embl.de/smart/do_annotation.pl?DOMAIN=SM00142"
   ]
  },
  {
   "cell_type": "markdown",
   "metadata": {},
   "source": [
    "I can get pfam annotation by parse the file:\n",
    "\n",
    "ens89 is for hg38, i will need hg19 though      \n",
    "grep PIK3CA /projects/bfx/tickets/PIPE-1671/protein_domain_ens89.txt|grep -v NULL|grep PF"
   ]
  },
  {
   "cell_type": "markdown",
   "metadata": {},
   "source": [
    "this is hg19:\n",
    "\n",
    "/home/szong/projects/resource/protein_domain_ens75.txt"
   ]
  },
  {
   "cell_type": "code",
   "execution_count": null,
   "metadata": {},
   "outputs": [],
   "source": []
  }
 ],
 "metadata": {
  "kernelspec": {
   "display_name": "Python 3",
   "language": "python",
   "name": "python3"
  },
  "language_info": {
   "codemirror_mode": {
    "name": "ipython",
    "version": 3
   },
   "file_extension": ".py",
   "mimetype": "text/x-python",
   "name": "python",
   "nbconvert_exporter": "python",
   "pygments_lexer": "ipython3",
   "version": "3.6.7"
  }
 },
 "nbformat": 4,
 "nbformat_minor": 2
}
