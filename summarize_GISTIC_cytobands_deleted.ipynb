{
 "cells": [
  {
   "cell_type": "markdown",
   "metadata": {
    "collapsed": true
   },
   "source": [
    "analyze NCI cervical cnv results"
   ]
  },
  {
   "cell_type": "code",
   "execution_count": 1,
   "metadata": {},
   "outputs": [],
   "source": [
    "# import csv\n",
    "import matplotlib\n",
    "# import seaborn\n",
    "import seaborn as sns\n",
    "import numpy as np\n",
    "import pandas as pd\n",
    "import matplotlib.pyplot as plt\n",
    "# from scipy.stats import ttest_ind\n",
    "# import scipy.stats as stats\n",
    "# import scipy.stats as ss\n",
    "# from matplotlib import style\n",
    "# import matplotlib.gridspec as gridspec\n",
    "# import matplotlib.patches as patches\n",
    "matplotlib.style.use('ggplot')\n",
    "%matplotlib inline\n",
    "matplotlib.rcParams['figure.figsize'] = (6, 4)\n",
    "\n",
    "\n",
    "# from sklearn.decomposition import RandomizedPCA, PCA, TruncatedSVD\n",
    "# from sklearn.linear_moamp import LogisticRegression\n",
    "# from sklearn.manifold import TSNE\n",
    "# from sklearn.preprocessing import StandardScaler\n",
    "\n",
    "from IPython.core.interactiveshell import InteractiveShell\n",
    "InteractiveShell.ast_node_interactivity = \"all\""
   ]
  },
  {
   "cell_type": "markdown",
   "metadata": {
    "collapsed": true
   },
   "source": [
    "# produce list of amplied and ampeted regions with oncogenes"
   ]
  },
  {
   "cell_type": "code",
   "execution_count": 298,
   "metadata": {},
   "outputs": [],
   "source": [
    "def get_qvalue_cytoband(f):\n",
    "    df = pd.read_csv(f, sep='\\t')\n",
    "#     df['num_genes'] = df['oncogenes'].apply(lambda x: x.split(')')[0].split('(')[1])\n",
    "#     df['gene'] = df['oncogenes'].apply(lambda x: x.split(')')[1])\n",
    "#     df = df[['q value','cytoband', 'num_genes', 'gene']].replace('', 'None')\n",
    "#     df = df[df.gene != '']\n",
    "#     s = df[\"gene\"].str.split(',', expand=True).stack()\n",
    "#     i = s.index.get_level_values(0)\n",
    "#     df2 = df.loc[i].copy()\n",
    "#     df2[\"gene\"] = s.values\n",
    "    return df"
   ]
  },
  {
   "cell_type": "code",
   "execution_count": 299,
   "metadata": {},
   "outputs": [],
   "source": [
    "def map_two_columns(x1, x2):\n",
    "    if 'q' in x1 or 'p' in x1:\n",
    "        return x1\n",
    "    elif 'q' in x2 or 'p' in x2:\n",
    "        return x2\n",
    "    else:\n",
    "        return 'error'\n",
    "    "
   ]
  },
  {
   "cell_type": "code",
   "execution_count": 506,
   "metadata": {},
   "outputs": [
    {
     "data": {
      "text/html": [
       "<div>\n",
       "<style scoped>\n",
       "    .dataframe tbody tr th:only-of-type {\n",
       "        vertical-align: middle;\n",
       "    }\n",
       "\n",
       "    .dataframe tbody tr th {\n",
       "        vertical-align: top;\n",
       "    }\n",
       "\n",
       "    .dataframe thead th {\n",
       "        text-align: right;\n",
       "    }\n",
       "</style>\n",
       "<table border=\"1\" class=\"dataframe\">\n",
       "  <thead>\n",
       "    <tr style=\"text-align: right;\">\n",
       "      <th></th>\n",
       "      <th>cytoband</th>\n",
       "      <th>q_value</th>\n",
       "      <th>residual_q_value</th>\n",
       "      <th>chrom</th>\n",
       "      <th>wide_peak_boundary</th>\n",
       "      <th>genes_in_wide_peak</th>\n",
       "      <th>oncogenes</th>\n",
       "      <th>num_genes</th>\n",
       "    </tr>\n",
       "  </thead>\n",
       "  <tbody>\n",
       "    <tr>\n",
       "      <th>0</th>\n",
       "      <td>1p36.21</td>\n",
       "      <td>0.055942</td>\n",
       "      <td>0.108690</td>\n",
       "      <td>1</td>\n",
       "      <td>7908889-24527094</td>\n",
       "      <td>RNF186,PRAMEF10,DFFA,SLC25A34,HNRNPCL1,C1QB,KL...</td>\n",
       "      <td>SDHB,PARK7,PLA2G2A,UBE4B,ERRFI1,EPHB2,RAP1GAP,...</td>\n",
       "      <td>243</td>\n",
       "    </tr>\n",
       "    <tr>\n",
       "      <th>1</th>\n",
       "      <td>1p36.33</td>\n",
       "      <td>0.000004</td>\n",
       "      <td>0.000011</td>\n",
       "      <td>1</td>\n",
       "      <td>10029-139436</td>\n",
       "      <td>FAM138F,OR4F5,FAM138A,DDX11L1,WASH7P,hsa-mir-1...</td>\n",
       "      <td>NaN</td>\n",
       "      <td>6</td>\n",
       "    </tr>\n",
       "  </tbody>\n",
       "</table>\n",
       "</div>"
      ],
      "text/plain": [
       "  cytoband   q_value  residual_q_value  chrom wide_peak_boundary  \\\n",
       "0  1p36.21  0.055942          0.108690      1   7908889-24527094   \n",
       "1  1p36.33  0.000004          0.000011      1       10029-139436   \n",
       "\n",
       "                                  genes_in_wide_peak  \\\n",
       "0  RNF186,PRAMEF10,DFFA,SLC25A34,HNRNPCL1,C1QB,KL...   \n",
       "1  FAM138F,OR4F5,FAM138A,DDX11L1,WASH7P,hsa-mir-1...   \n",
       "\n",
       "                                           oncogenes  num_genes  \n",
       "0  SDHB,PARK7,PLA2G2A,UBE4B,ERRFI1,EPHB2,RAP1GAP,...        243  \n",
       "1                                                NaN          6  "
      ]
     },
     "execution_count": 506,
     "metadata": {},
     "output_type": "execute_result"
    },
    {
     "data": {
      "text/html": [
       "<div>\n",
       "<style scoped>\n",
       "    .dataframe tbody tr th:only-of-type {\n",
       "        vertical-align: middle;\n",
       "    }\n",
       "\n",
       "    .dataframe tbody tr th {\n",
       "        vertical-align: top;\n",
       "    }\n",
       "\n",
       "    .dataframe thead th {\n",
       "        text-align: right;\n",
       "    }\n",
       "</style>\n",
       "<table border=\"1\" class=\"dataframe\">\n",
       "  <thead>\n",
       "    <tr style=\"text-align: right;\">\n",
       "      <th></th>\n",
       "      <th>cytoband</th>\n",
       "      <th>q_value</th>\n",
       "      <th>residual_q_value</th>\n",
       "      <th>chrom</th>\n",
       "      <th>wide_peak_boundary</th>\n",
       "      <th>genes_in_wide_peak</th>\n",
       "      <th>oncogenes</th>\n",
       "      <th>num_genes</th>\n",
       "    </tr>\n",
       "  </thead>\n",
       "  <tbody>\n",
       "    <tr>\n",
       "      <th>0</th>\n",
       "      <td>1p13.2</td>\n",
       "      <td>0.039246</td>\n",
       "      <td>0.044773</td>\n",
       "      <td>1</td>\n",
       "      <td>108505732-143166646</td>\n",
       "      <td>KCNA10,ATXN7L2,CYB561D1,SYPL2,SPAG17,NOTCH2,KC...</td>\n",
       "      <td>NOTCH2,NRAS,RBM15,FAM46C,TRIM33,ATP1A1,GSTM1,R...</td>\n",
       "      <td>158</td>\n",
       "    </tr>\n",
       "    <tr>\n",
       "      <th>1</th>\n",
       "      <td>1p36.33</td>\n",
       "      <td>0.001157</td>\n",
       "      <td>0.002320</td>\n",
       "      <td>1</td>\n",
       "      <td>31710-138899</td>\n",
       "      <td>FAM138F,OR4F5,FAM138A</td>\n",
       "      <td>NaN</td>\n",
       "      <td>3</td>\n",
       "    </tr>\n",
       "  </tbody>\n",
       "</table>\n",
       "</div>"
      ],
      "text/plain": [
       "  cytoband   q_value  residual_q_value  chrom   wide_peak_boundary  \\\n",
       "0   1p13.2  0.039246          0.044773      1  108505732-143166646   \n",
       "1  1p36.33  0.001157          0.002320      1         31710-138899   \n",
       "\n",
       "                                  genes_in_wide_peak  \\\n",
       "0  KCNA10,ATXN7L2,CYB561D1,SYPL2,SPAG17,NOTCH2,KC...   \n",
       "1                              FAM138F,OR4F5,FAM138A   \n",
       "\n",
       "                                           oncogenes  num_genes  \n",
       "0  NOTCH2,NRAS,RBM15,FAM46C,TRIM33,ATP1A1,GSTM1,R...        158  \n",
       "1                                                NaN          3  "
      ]
     },
     "execution_count": 506,
     "metadata": {},
     "output_type": "execute_result"
    },
    {
     "data": {
      "text/html": [
       "<div>\n",
       "<style scoped>\n",
       "    .dataframe tbody tr th:only-of-type {\n",
       "        vertical-align: middle;\n",
       "    }\n",
       "\n",
       "    .dataframe tbody tr th {\n",
       "        vertical-align: top;\n",
       "    }\n",
       "\n",
       "    .dataframe thead th {\n",
       "        text-align: right;\n",
       "    }\n",
       "</style>\n",
       "<table border=\"1\" class=\"dataframe\">\n",
       "  <thead>\n",
       "    <tr style=\"text-align: right;\">\n",
       "      <th></th>\n",
       "      <th>cytoband</th>\n",
       "      <th>q_value_x</th>\n",
       "      <th>residual_q_value_x</th>\n",
       "      <th>chrom_x</th>\n",
       "      <th>wide_peak_boundary_x</th>\n",
       "      <th>genes_in_wide_peak_x</th>\n",
       "      <th>oncogenes_x</th>\n",
       "      <th>num_genes_x</th>\n",
       "      <th>q_value_y</th>\n",
       "      <th>residual_q_value_y</th>\n",
       "      <th>chrom_y</th>\n",
       "      <th>wide_peak_boundary_y</th>\n",
       "      <th>genes_in_wide_peak_y</th>\n",
       "      <th>oncogenes_y</th>\n",
       "      <th>num_genes_y</th>\n",
       "    </tr>\n",
       "  </thead>\n",
       "  <tbody>\n",
       "    <tr>\n",
       "      <th>0</th>\n",
       "      <td>1p36.21</td>\n",
       "      <td>0.055942</td>\n",
       "      <td>0.108690</td>\n",
       "      <td>1.0</td>\n",
       "      <td>7908889-24527094</td>\n",
       "      <td>RNF186,PRAMEF10,DFFA,SLC25A34,HNRNPCL1,C1QB,KL...</td>\n",
       "      <td>SDHB,PARK7,PLA2G2A,UBE4B,ERRFI1,EPHB2,RAP1GAP,...</td>\n",
       "      <td>243.0</td>\n",
       "      <td>NaN</td>\n",
       "      <td>NaN</td>\n",
       "      <td>NaN</td>\n",
       "      <td>NaN</td>\n",
       "      <td>NaN</td>\n",
       "      <td>NaN</td>\n",
       "      <td>NaN</td>\n",
       "    </tr>\n",
       "    <tr>\n",
       "      <th>1</th>\n",
       "      <td>1p36.33</td>\n",
       "      <td>0.000004</td>\n",
       "      <td>0.000011</td>\n",
       "      <td>1.0</td>\n",
       "      <td>10029-139436</td>\n",
       "      <td>FAM138F,OR4F5,FAM138A,DDX11L1,WASH7P,hsa-mir-1...</td>\n",
       "      <td>NaN</td>\n",
       "      <td>6.0</td>\n",
       "      <td>0.001157</td>\n",
       "      <td>0.00232</td>\n",
       "      <td>1.0</td>\n",
       "      <td>31710-138899</td>\n",
       "      <td>FAM138F,OR4F5,FAM138A</td>\n",
       "      <td>NaN</td>\n",
       "      <td>3.0</td>\n",
       "    </tr>\n",
       "  </tbody>\n",
       "</table>\n",
       "</div>"
      ],
      "text/plain": [
       "  cytoband  q_value_x  residual_q_value_x  chrom_x wide_peak_boundary_x  \\\n",
       "0  1p36.21   0.055942            0.108690      1.0     7908889-24527094   \n",
       "1  1p36.33   0.000004            0.000011      1.0         10029-139436   \n",
       "\n",
       "                                genes_in_wide_peak_x  \\\n",
       "0  RNF186,PRAMEF10,DFFA,SLC25A34,HNRNPCL1,C1QB,KL...   \n",
       "1  FAM138F,OR4F5,FAM138A,DDX11L1,WASH7P,hsa-mir-1...   \n",
       "\n",
       "                                         oncogenes_x  num_genes_x  q_value_y  \\\n",
       "0  SDHB,PARK7,PLA2G2A,UBE4B,ERRFI1,EPHB2,RAP1GAP,...        243.0        NaN   \n",
       "1                                                NaN          6.0   0.001157   \n",
       "\n",
       "   residual_q_value_y  chrom_y wide_peak_boundary_y   genes_in_wide_peak_y  \\\n",
       "0                 NaN      NaN                  NaN                    NaN   \n",
       "1             0.00232      1.0         31710-138899  FAM138F,OR4F5,FAM138A   \n",
       "\n",
       "  oncogenes_y  num_genes_y  \n",
       "0         NaN          NaN  \n",
       "1         NaN          3.0  "
      ]
     },
     "execution_count": 506,
     "metadata": {},
     "output_type": "execute_result"
    }
   ],
   "source": [
    "# for dels\n",
    "# pos_del_file = '/home/szong/bin/GISTIC_2_0_22/124_patient_adj_hiv_pos/del_genes.conf_99.txt.summary.sorted'\n",
    "pos_del_file = '/projects/trans_scratch/validations/workspace/szong/Cervical/cnv/124_patient_adj_hiv_pos/del_genes.conf_99.txt.summary.sorted'\n",
    "pos_dels = get_qvalue_cytoband(pos_del_file)\n",
    "pos_dels.columns = ['cytoband', 'q_value', 'residual_q_value', 'chrom', 'wide_peak_boundary',\n",
    "       'genes_in_wide_peak', 'oncogenes', 'num_genes']\n",
    "# pos_dels = pd.read_csv(pos_del_file, sep='\\t')\n",
    "pos_dels.head(2)\n",
    "\n",
    "# neg_del_file = '/home/szong/bin/GISTIC_2_0_22/124_patient_adj_hiv_neg/del_genes.conf_99.txt.summary.sorted'\n",
    "neg_del_file = '/projects/trans_scratch/validations/workspace/szong/Cervical/cnv/124_patient_adj_hiv_neg/del_genes.conf_99.txt.summary.sorted'\n",
    "neg_dels = get_qvalue_cytoband(neg_del_file)\n",
    "neg_dels.columns = ['cytoband', 'q_value', 'residual_q_value', 'chrom', 'wide_peak_boundary',\n",
    "       'genes_in_wide_peak', 'oncogenes', 'num_genes']\n",
    "# neg_dels = pd.read_csv(neg_del_file, sep='\\t')\n",
    "neg_dels.head(2)\n",
    "\n",
    "ndf = pd.merge(pos_dels, neg_dels, left_on='cytoband', right_on='cytoband', how='outer')#.fillna(1)\n",
    "# ndf.columns = ['hiv+q', 'cytoband','hiv+num_genes', 'hiv+oncogenes', 'hiv-q', 'hiv-num_genes','hiv-oncogenes']\n",
    "# ndf['cytoband'] = ndf.astype(str).apply(lambda x: map_two_columns(x1=x['cytoband_pos'], x2=x['cytoband_neg']), axis=1)\n",
    "\n",
    "# ndf = ndf.drop(['cytoband_pos', 'cytoband_neg'], axis=1)\n",
    "ndf.head(2)"
   ]
  },
  {
   "cell_type": "code",
   "execution_count": 507,
   "metadata": {},
   "outputs": [],
   "source": [
    "# ndf[ndf.cytoband == '5p11']"
   ]
  },
  {
   "cell_type": "code",
   "execution_count": 508,
   "metadata": {},
   "outputs": [],
   "source": [
    "new_cols = pd.Series(ndf.columns.tolist()).str.replace('_x', '_hiv+').str.replace('_y', '_hiv-')"
   ]
  },
  {
   "cell_type": "code",
   "execution_count": 509,
   "metadata": {},
   "outputs": [],
   "source": [
    "ndf.columns = new_cols"
   ]
  },
  {
   "cell_type": "code",
   "execution_count": 510,
   "metadata": {
    "scrolled": true
   },
   "outputs": [
    {
     "data": {
      "text/html": [
       "<div>\n",
       "<style scoped>\n",
       "    .dataframe tbody tr th:only-of-type {\n",
       "        vertical-align: middle;\n",
       "    }\n",
       "\n",
       "    .dataframe tbody tr th {\n",
       "        vertical-align: top;\n",
       "    }\n",
       "\n",
       "    .dataframe thead th {\n",
       "        text-align: right;\n",
       "    }\n",
       "</style>\n",
       "<table border=\"1\" class=\"dataframe\">\n",
       "  <thead>\n",
       "    <tr style=\"text-align: right;\">\n",
       "      <th></th>\n",
       "      <th>cytoband</th>\n",
       "      <th>q_value_hiv+</th>\n",
       "      <th>residual_q_value_hiv+</th>\n",
       "      <th>chrom_hiv+</th>\n",
       "      <th>wide_peak_boundary_hiv+</th>\n",
       "      <th>genes_in_wide_peak_hiv+</th>\n",
       "      <th>oncogenes_hiv+</th>\n",
       "      <th>num_genes_hiv+</th>\n",
       "      <th>q_value_hiv-</th>\n",
       "      <th>residual_q_value_hiv-</th>\n",
       "      <th>chrom_hiv-</th>\n",
       "      <th>wide_peak_boundary_hiv-</th>\n",
       "      <th>genes_in_wide_peak_hiv-</th>\n",
       "      <th>oncogenes_hiv-</th>\n",
       "      <th>num_genes_hiv-</th>\n",
       "    </tr>\n",
       "  </thead>\n",
       "  <tbody>\n",
       "    <tr>\n",
       "      <th>0</th>\n",
       "      <td>1p36.21</td>\n",
       "      <td>0.055942</td>\n",
       "      <td>0.108690</td>\n",
       "      <td>1.0</td>\n",
       "      <td>7908889-24527094</td>\n",
       "      <td>RNF186,PRAMEF10,DFFA,SLC25A34,HNRNPCL1,C1QB,KL...</td>\n",
       "      <td>SDHB,PARK7,PLA2G2A,UBE4B,ERRFI1,EPHB2,RAP1GAP,...</td>\n",
       "      <td>243.0</td>\n",
       "      <td>NaN</td>\n",
       "      <td>NaN</td>\n",
       "      <td>NaN</td>\n",
       "      <td>NaN</td>\n",
       "      <td>NaN</td>\n",
       "      <td>NaN</td>\n",
       "      <td>NaN</td>\n",
       "    </tr>\n",
       "    <tr>\n",
       "      <th>1</th>\n",
       "      <td>1p36.33</td>\n",
       "      <td>0.000004</td>\n",
       "      <td>0.000011</td>\n",
       "      <td>1.0</td>\n",
       "      <td>10029-139436</td>\n",
       "      <td>FAM138F,OR4F5,FAM138A,DDX11L1,WASH7P,hsa-mir-1...</td>\n",
       "      <td>NaN</td>\n",
       "      <td>6.0</td>\n",
       "      <td>0.001157</td>\n",
       "      <td>0.00232</td>\n",
       "      <td>1.0</td>\n",
       "      <td>31710-138899</td>\n",
       "      <td>FAM138F,OR4F5,FAM138A</td>\n",
       "      <td>NaN</td>\n",
       "      <td>3.0</td>\n",
       "    </tr>\n",
       "  </tbody>\n",
       "</table>\n",
       "</div>"
      ],
      "text/plain": [
       "  cytoband  q_value_hiv+  residual_q_value_hiv+  chrom_hiv+  \\\n",
       "0  1p36.21      0.055942               0.108690         1.0   \n",
       "1  1p36.33      0.000004               0.000011         1.0   \n",
       "\n",
       "  wide_peak_boundary_hiv+                            genes_in_wide_peak_hiv+  \\\n",
       "0        7908889-24527094  RNF186,PRAMEF10,DFFA,SLC25A34,HNRNPCL1,C1QB,KL...   \n",
       "1            10029-139436  FAM138F,OR4F5,FAM138A,DDX11L1,WASH7P,hsa-mir-1...   \n",
       "\n",
       "                                      oncogenes_hiv+  num_genes_hiv+  \\\n",
       "0  SDHB,PARK7,PLA2G2A,UBE4B,ERRFI1,EPHB2,RAP1GAP,...           243.0   \n",
       "1                                                NaN             6.0   \n",
       "\n",
       "   q_value_hiv-  residual_q_value_hiv-  chrom_hiv- wide_peak_boundary_hiv-  \\\n",
       "0           NaN                    NaN         NaN                     NaN   \n",
       "1      0.001157                0.00232         1.0            31710-138899   \n",
       "\n",
       "  genes_in_wide_peak_hiv- oncogenes_hiv-  num_genes_hiv-  \n",
       "0                     NaN            NaN             NaN  \n",
       "1   FAM138F,OR4F5,FAM138A            NaN             3.0  "
      ]
     },
     "execution_count": 510,
     "metadata": {},
     "output_type": "execute_result"
    }
   ],
   "source": [
    "ndf.head(2)"
   ]
  },
  {
   "cell_type": "code",
   "execution_count": 511,
   "metadata": {},
   "outputs": [],
   "source": [
    "# find duplicated cytobands\n",
    "# pd.concat([g for _,g in ndf.groupby('cytoband') if len(g)>1])"
   ]
  },
  {
   "cell_type": "code",
   "execution_count": 512,
   "metadata": {},
   "outputs": [],
   "source": [
    "ndf = ndf.drop_duplicates(subset='cytoband', keep='last')"
   ]
  },
  {
   "cell_type": "code",
   "execution_count": 513,
   "metadata": {},
   "outputs": [],
   "source": [
    "# of = '/projects/trans_scratch/validations/workspace/szong/Cervical/cnv/amp_cytoband_qvalue_comparison_hiv_pos_vs_neg.txt'\n",
    "# ndf.to_csv(of, sep='\\t', index=False)"
   ]
  },
  {
   "cell_type": "code",
   "execution_count": 514,
   "metadata": {},
   "outputs": [
    {
     "data": {
      "text/plain": [
       "(50, 15)"
      ]
     },
     "execution_count": 514,
     "metadata": {},
     "output_type": "execute_result"
    },
    {
     "data": {
      "text/plain": [
       "50"
      ]
     },
     "execution_count": 514,
     "metadata": {},
     "output_type": "execute_result"
    }
   ],
   "source": [
    "ndf.shape\n",
    "ndf['cytoband'].nunique()"
   ]
  },
  {
   "cell_type": "code",
   "execution_count": 515,
   "metadata": {},
   "outputs": [],
   "source": [
    "# ndf = ndf.drop_duplicates(subset='cytoband', keep='last')\n",
    "# ndf = ndf.fillna(1)"
   ]
  },
  {
   "cell_type": "code",
   "execution_count": 516,
   "metadata": {},
   "outputs": [],
   "source": [
    "def label_point(x, y, val, ax):\n",
    "    a = pd.concat({'x': x, 'y': y, 'val': val}, axis=1)\n",
    "    k = 0\n",
    "    j = 0 \n",
    "    for i, point in a.iterrows():\n",
    "        _ = ax.text(point['x']+j, point['y']+k, str(point['val']))\n",
    "#         k+=.2\n",
    "#         j+=.2\n",
    "    return a"
   ]
  },
  {
   "cell_type": "code",
   "execution_count": 523,
   "metadata": {},
   "outputs": [],
   "source": [
    "ndf['q_value_hiv+'] = ndf['q_value_hiv+'].fillna(1)\n",
    "ndf['q_value_hiv-'] = ndf['q_value_hiv-'].fillna(1)\n",
    "ndf['num_genes_hiv+'] = ndf['num_genes_hiv+'].fillna(0).astype(int)\n",
    "ndf['num_genes_hiv-'] = ndf['num_genes_hiv-'].fillna(0).astype(int)\n",
    "ndf['oncogenes_hiv+'] = ndf['oncogenes_hiv+'].fillna('None')\n",
    "ndf['oncogenes_hiv-'] = ndf['oncogenes_hiv-'].fillna('None')\n"
   ]
  },
  {
   "cell_type": "code",
   "execution_count": 524,
   "metadata": {},
   "outputs": [],
   "source": [
    "# of = '/projects/trans_scratch/validations/workspace/szong/Cervical/cnv/amp_gene_qvalue_comparison_hiv_pos_vs_neg.txt'\n",
    "# ndf = pd.read_csv(of, sep='\\t').fillna(1)\n",
    "# ndf.head(2)"
   ]
  },
  {
   "cell_type": "code",
   "execution_count": 525,
   "metadata": {},
   "outputs": [],
   "source": [
    "ndf['hiv+q(-log10)'] = -np.log10(ndf['q_value_hiv+'])\n",
    "ndf['hiv-q(-log10)'] = -np.log10(ndf['q_value_hiv-'])"
   ]
  },
  {
   "cell_type": "code",
   "execution_count": 526,
   "metadata": {
    "scrolled": true
   },
   "outputs": [
    {
     "data": {
      "text/html": [
       "<div>\n",
       "<style scoped>\n",
       "    .dataframe tbody tr th:only-of-type {\n",
       "        vertical-align: middle;\n",
       "    }\n",
       "\n",
       "    .dataframe tbody tr th {\n",
       "        vertical-align: top;\n",
       "    }\n",
       "\n",
       "    .dataframe thead th {\n",
       "        text-align: right;\n",
       "    }\n",
       "</style>\n",
       "<table border=\"1\" class=\"dataframe\">\n",
       "  <thead>\n",
       "    <tr style=\"text-align: right;\">\n",
       "      <th></th>\n",
       "      <th>cytoband</th>\n",
       "      <th>q_value_hiv+</th>\n",
       "      <th>residual_q_value_hiv+</th>\n",
       "      <th>chrom_hiv+</th>\n",
       "      <th>wide_peak_boundary_hiv+</th>\n",
       "      <th>genes_in_wide_peak_hiv+</th>\n",
       "      <th>oncogenes_hiv+</th>\n",
       "      <th>num_genes_hiv+</th>\n",
       "      <th>q_value_hiv-</th>\n",
       "      <th>residual_q_value_hiv-</th>\n",
       "      <th>chrom_hiv-</th>\n",
       "      <th>wide_peak_boundary_hiv-</th>\n",
       "      <th>genes_in_wide_peak_hiv-</th>\n",
       "      <th>oncogenes_hiv-</th>\n",
       "      <th>num_genes_hiv-</th>\n",
       "      <th>hiv+q(-log10)</th>\n",
       "      <th>hiv-q(-log10)</th>\n",
       "    </tr>\n",
       "  </thead>\n",
       "  <tbody>\n",
       "    <tr>\n",
       "      <th>0</th>\n",
       "      <td>1p36.21</td>\n",
       "      <td>0.055942</td>\n",
       "      <td>0.108690</td>\n",
       "      <td>1.0</td>\n",
       "      <td>7908889-24527094</td>\n",
       "      <td>RNF186,PRAMEF10,DFFA,SLC25A34,HNRNPCL1,C1QB,KL...</td>\n",
       "      <td>SDHB,PARK7,PLA2G2A,UBE4B,ERRFI1,EPHB2,RAP1GAP,...</td>\n",
       "      <td>243</td>\n",
       "      <td>1.000000</td>\n",
       "      <td>NaN</td>\n",
       "      <td>NaN</td>\n",
       "      <td>NaN</td>\n",
       "      <td>NaN</td>\n",
       "      <td>None</td>\n",
       "      <td>0</td>\n",
       "      <td>1.252262</td>\n",
       "      <td>-0.000000</td>\n",
       "    </tr>\n",
       "    <tr>\n",
       "      <th>1</th>\n",
       "      <td>1p36.33</td>\n",
       "      <td>0.000004</td>\n",
       "      <td>0.000011</td>\n",
       "      <td>1.0</td>\n",
       "      <td>10029-139436</td>\n",
       "      <td>FAM138F,OR4F5,FAM138A,DDX11L1,WASH7P,hsa-mir-1...</td>\n",
       "      <td>None</td>\n",
       "      <td>6</td>\n",
       "      <td>0.001157</td>\n",
       "      <td>0.00232</td>\n",
       "      <td>1.0</td>\n",
       "      <td>31710-138899</td>\n",
       "      <td>FAM138F,OR4F5,FAM138A</td>\n",
       "      <td>None</td>\n",
       "      <td>3</td>\n",
       "      <td>5.447794</td>\n",
       "      <td>2.936817</td>\n",
       "    </tr>\n",
       "  </tbody>\n",
       "</table>\n",
       "</div>"
      ],
      "text/plain": [
       "  cytoband  q_value_hiv+  residual_q_value_hiv+  chrom_hiv+  \\\n",
       "0  1p36.21      0.055942               0.108690         1.0   \n",
       "1  1p36.33      0.000004               0.000011         1.0   \n",
       "\n",
       "  wide_peak_boundary_hiv+                            genes_in_wide_peak_hiv+  \\\n",
       "0        7908889-24527094  RNF186,PRAMEF10,DFFA,SLC25A34,HNRNPCL1,C1QB,KL...   \n",
       "1            10029-139436  FAM138F,OR4F5,FAM138A,DDX11L1,WASH7P,hsa-mir-1...   \n",
       "\n",
       "                                      oncogenes_hiv+  num_genes_hiv+  \\\n",
       "0  SDHB,PARK7,PLA2G2A,UBE4B,ERRFI1,EPHB2,RAP1GAP,...             243   \n",
       "1                                               None               6   \n",
       "\n",
       "   q_value_hiv-  residual_q_value_hiv-  chrom_hiv- wide_peak_boundary_hiv-  \\\n",
       "0      1.000000                    NaN         NaN                     NaN   \n",
       "1      0.001157                0.00232         1.0            31710-138899   \n",
       "\n",
       "  genes_in_wide_peak_hiv- oncogenes_hiv-  num_genes_hiv-  hiv+q(-log10)  \\\n",
       "0                     NaN           None               0       1.252262   \n",
       "1   FAM138F,OR4F5,FAM138A           None               3       5.447794   \n",
       "\n",
       "   hiv-q(-log10)  \n",
       "0      -0.000000  \n",
       "1       2.936817  "
      ]
     },
     "execution_count": 526,
     "metadata": {},
     "output_type": "execute_result"
    },
    {
     "data": {
      "text/plain": [
       "(50, 17)"
      ]
     },
     "execution_count": 526,
     "metadata": {},
     "output_type": "execute_result"
    }
   ],
   "source": [
    "ndf.head(2)\n",
    "\n",
    "ndf.shape"
   ]
  },
  {
   "cell_type": "code",
   "execution_count": 527,
   "metadata": {},
   "outputs": [],
   "source": [
    "of = '/projects/trans_scratch/validations/workspace/szong/Cervical/cnv/del_cytoband_qvalue_comparison_hiv_pos_vs_neg.txt'\n",
    "# ndf.to_csv(of, sep='\\t', index=False)"
   ]
  },
  {
   "cell_type": "code",
   "execution_count": 528,
   "metadata": {},
   "outputs": [],
   "source": [
    "of = '/projects/trans_scratch/validations/workspace/szong/Cervical/cnv/del_cytoband_labels.csv'\n",
    "# points.sort_values(['x', 'y']).to_csv(of, sep='\\t', index=False)\n",
    "points = pd.read_csv(of, sep='\\t')"
   ]
  },
  {
   "cell_type": "code",
   "execution_count": 529,
   "metadata": {
    "scrolled": true
   },
   "outputs": [
    {
     "data": {
      "text/plain": [
       "<matplotlib.axes._subplots.AxesSubplot at 0x7f281be35c50>"
      ]
     },
     "execution_count": 529,
     "metadata": {},
     "output_type": "execute_result"
    },
    {
     "data": {
      "text/plain": [
       "Text(0.5,1,'GISTIC dels cytobands')"
      ]
     },
     "execution_count": 529,
     "metadata": {},
     "output_type": "execute_result"
    },
    {
     "data": {
      "text/plain": [
       "(-1, 23)"
      ]
     },
     "execution_count": 529,
     "metadata": {},
     "output_type": "execute_result"
    },
    {
     "data": {
      "text/plain": [
       "(-1, 23)"
      ]
     },
     "execution_count": 529,
     "metadata": {},
     "output_type": "execute_result"
    },
    {
     "data": {
      "image/png": "[encoded data removed]",
      "text/plain": [
       "<Figure size 504x504 with 1 Axes>"
      ]
     },
     "metadata": {},
     "output_type": "display_data"
    }
   ],
   "source": [
    "# Set theme\n",
    "sns.set_style('whitegrid')\n",
    "\n",
    "\n",
    "# Scatterplot arguments\n",
    "# grid = sns.lmplot(x='hiv+q', y='hiv-q', data=ndf.fillna(.1),\n",
    "#            fit_reg=False) # No regression line\n",
    "#            #hue='Stage')   # Color by evolution stage\n",
    "# # Tweak using Matplotlib\n",
    "# # plt.ylim(0, .2)\n",
    "# # plt.xlim(0, .2)\n",
    "# grid.set(xscale=\"log\", yscale=\"log\")\n",
    "\n",
    "f, ax = plt.subplots(figsize=(7, 7))\n",
    "\n",
    "\n",
    "# ax.set(xscale=\"log\", yscale=\"log\")\n",
    "sns.regplot(y='hiv+q(-log10)', x='hiv-q(-log10)', data=ndf, ax=ax, fit_reg=False,  scatter_kws={\"s\": 10})#x_jitter=1e-12, y_jitter=1e-10,\n",
    "\n",
    "\n",
    "\n",
    "\n",
    "ax.set_title('GISTIC dels cytobands')\n",
    "ax.set_xlim(-1, 23)\n",
    "ax.set_ylim(-1, 23)\n",
    "\n",
    "\n",
    "\n",
    "    \n",
    "ndf = ndf[(ndf['hiv+q(-log10)']>7)|(ndf['hiv-q(-log10)']>5)]\n",
    "# points = label_point(ndf['hiv-q(-log10)'], ndf['hiv+q(-log10)'], ndf['cytoband']+'('+ndf['num_genes_hiv+'].astype(str)+'_'+ndf['num_genes_hiv-'].astype(str)+')', plt.gca()) \n",
    "_ = label_point(points['x'], points['y'], points['val'], plt.gca()) \n",
    "of = '/projects/trans_scratch/validations/workspace/szong/Cervical/cnv/del_cytoband_qvalue_comparison_hiv_pos_vs_neg.png'\n",
    "plt.savefig(of, bbox_inches='tight', dpi=200)"
   ]
  },
  {
   "cell_type": "code",
   "execution_count": 496,
   "metadata": {},
   "outputs": [
    {
     "data": {
      "text/html": [
       "<div>\n",
       "<style scoped>\n",
       "    .dataframe tbody tr th:only-of-type {\n",
       "        vertical-align: middle;\n",
       "    }\n",
       "\n",
       "    .dataframe tbody tr th {\n",
       "        vertical-align: top;\n",
       "    }\n",
       "\n",
       "    .dataframe thead th {\n",
       "        text-align: right;\n",
       "    }\n",
       "</style>\n",
       "<table border=\"1\" class=\"dataframe\">\n",
       "  <thead>\n",
       "    <tr style=\"text-align: right;\">\n",
       "      <th></th>\n",
       "      <th>val</th>\n",
       "      <th>x</th>\n",
       "      <th>y</th>\n",
       "    </tr>\n",
       "  </thead>\n",
       "  <tbody>\n",
       "    <tr>\n",
       "      <th>3</th>\n",
       "      <td>2q22.1(1.0_1.0)</td>\n",
       "      <td>3.337431</td>\n",
       "      <td>18.371499</td>\n",
       "    </tr>\n",
       "    <tr>\n",
       "      <th>4</th>\n",
       "      <td>2q36.2(226.0_0.0)</td>\n",
       "      <td>-0.000000</td>\n",
       "      <td>18.745742</td>\n",
       "    </tr>\n",
       "    <tr>\n",
       "      <th>5</th>\n",
       "      <td>2q37.3(278.0_0.0)</td>\n",
       "      <td>-0.000000</td>\n",
       "      <td>17.731633</td>\n",
       "    </tr>\n",
       "    <tr>\n",
       "      <th>6</th>\n",
       "      <td>3p14.2(1.0_1.0)</td>\n",
       "      <td>0.729787</td>\n",
       "      <td>20.037276</td>\n",
       "    </tr>\n",
       "    <tr>\n",
       "      <th>15</th>\n",
       "      <td>11q24.3(1142.0_0.0)</td>\n",
       "      <td>-0.000000</td>\n",
       "      <td>10.684849</td>\n",
       "    </tr>\n",
       "    <tr>\n",
       "      <th>24</th>\n",
       "      <td>19p13.3(29.0_52.0)</td>\n",
       "      <td>1.353655</td>\n",
       "      <td>8.945617</td>\n",
       "    </tr>\n",
       "  </tbody>\n",
       "</table>\n",
       "</div>"
      ],
      "text/plain": [
       "                    val         x          y\n",
       "3       2q22.1(1.0_1.0)  3.337431  18.371499\n",
       "4     2q36.2(226.0_0.0) -0.000000  18.745742\n",
       "5     2q37.3(278.0_0.0) -0.000000  17.731633\n",
       "6       3p14.2(1.0_1.0)  0.729787  20.037276\n",
       "15  11q24.3(1142.0_0.0) -0.000000  10.684849\n",
       "24   19p13.3(29.0_52.0)  1.353655   8.945617"
      ]
     },
     "execution_count": 496,
     "metadata": {},
     "output_type": "execute_result"
    }
   ],
   "source": [
    "points"
   ]
  }
 ],
 "metadata": {
  "kernelspec": {
   "display_name": "Python 3",
   "language": "python",
   "name": "python3"
  },
  "language_info": {
   "codemirror_mode": {
    "name": "ipython",
    "version": 3
   },
   "file_extension": ".py",
   "mimetype": "text/x-python",
   "name": "python",
   "nbconvert_exporter": "python",
   "pygments_lexer": "ipython3",
   "version": "3.6.5"
  }
 },
 "nbformat": 4,
 "nbformat_minor": 2
}
