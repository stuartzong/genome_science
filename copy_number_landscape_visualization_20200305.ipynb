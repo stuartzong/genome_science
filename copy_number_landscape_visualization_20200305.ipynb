{
 "cells": [
  {
   "cell_type": "code",
   "execution_count": 27,
   "metadata": {},
   "outputs": [
    {
     "data": {
      "text/plain": [
       "<contextlib._GeneratorContextManager at 0x7f8fc2069f98>"
      ]
     },
     "execution_count": 27,
     "metadata": {},
     "output_type": "execute_result"
    }
   ],
   "source": [
    "import csv\n",
    "import re\n",
    "import matplotlib\n",
    "import seaborn as sns\n",
    "import pandas as pd\n",
    "import numpy as np\n",
    "import matplotlib.pyplot as plt\n",
    "from pylab import *\n",
    "\n",
    "from matplotlib import style\n",
    "import matplotlib.gridspec as gridspec\n",
    "\n",
    "matplotlib.style.use('ggplot')\n",
    "%matplotlib inline\n",
    "matplotlib.rcParams['figure.figsize'] = (12, 6)\n",
    "\n",
    "\n",
    "plt.style.context(\"seaborn-whitegrid\")\n",
    "plt.rcParams[\"axes.edgecolor\"] = \"0.15\"\n",
    "plt.rcParams[\"axes.linewidth\"]  = 1.25\n",
    "\n",
    "from IPython.core.interactiveshell import InteractiveShell\n",
    "InteractiveShell.ast_node_interactivity = \"all\"\n"
   ]
  },
  {
   "cell_type": "markdown",
   "metadata": {},
   "source": [
    "### 1. some important files related to gatk copy number analysis \n",
    "\n",
    "\n",
    "* matlab: /gsc/software/linux-x86_64-centos5/matlab-2013a/bin/matlab  \n",
    "\n",
    "* gistic refgenefile including both the cytoband and ref genes: /projects/da_workspace/software/gistic/rg.txt \n",
    "\n",
    "* cumulative chromosome length: /home/szong/projects/resource/chromosome_accumulative_length.txt'  \n",
    "\n",
    "* curated germline cnvs from Andrew Cherniack, use this to filter out germline cnv\n",
    "/projects/trans_scratch/validations/workspace/szong/Cervical/cnv/CNV.hg19.bypos.111213.from.Andrew.Cherniack.txt"
   ]
  },
  {
   "cell_type": "markdown",
   "metadata": {},
   "source": [
    "### 2. remove germline cnvs"
   ]
  },
  {
   "cell_type": "markdown",
   "metadata": {},
   "source": [
    "* https://www.bcgsc.ca/jira/browse/DA-243?jql=text%20~%20%22cervical%20copy%20number%22  \n",
    "* In case people will worry that we have missed stuff, To remove a segment, it is required that 75% of the segment overlap with one of the germline regions sent by Andy C. \n",
    "* when comparing to 50% overlap, 75% overlap just removed 2% less segements, from 16% to 14%. This indicates that we won't have tons of germline CNVs in our final segment file.\n",
    "* In TCGA, it looks like they actually ended up removing 75% of the segments. no wonder the TCGA copy number results look super clean."
   ]
  },
  {
   "cell_type": "markdown",
   "metadata": {},
   "source": [
    "### 3. thresholds for copy gain/loss: gatk log2 ratio > 0.1 gain, gatk log2 ratio < -0.1 loss"
   ]
  },
  {
   "cell_type": "markdown",
   "metadata": {},
   "source": [
    "* see DA-243 for how the thresholds are determined, link: https://www.bcgsc.ca/jira/browse/DA-243?jql=text%20~%20%22cervical%20copy%20number%22 \n",
    "* there is a back and forth for this. Initially I used this (gatk log2 ratio > 0.25 gain, gatk log2 ratio < -0.25 loss) based on a paper (https://www.ncbi.nlm.nih.gov/pmc/articles/PMC4392457/). \n",
    "* According to Andrew Cherniack, they usually use 0.1 for SNP array data because this is ratio they are confident there are copy changes. \n",
    "* also in GISITC documentation: https://gatkforums.broadinstitute.org/firecloud/discussion/8254/gistic2-0.\n",
    "it uses 0.1 as the threshold to decide if a segment is amplified or deleted.  "
   ]
  },
  {
   "cell_type": "markdown",
   "metadata": {},
   "source": [
    "### 4. GISTIC q value threshold: 0.25"
   ]
  },
  {
   "cell_type": "markdown",
   "metadata": {},
   "source": [
    "* There is some discrepancy on the q significant threshold between old and new gistic documentation. \n",
    "* /home/szong/bin/GISTIC_2_0_22/GISTICDocumentation_standalone.htm, the q threshold is set to 0.25 by default.\n",
    "* https://gatkforums.broadinstitute.org/firecloud/discussion/8254/gistic2-0, This is the newer documentation and the q threshold is set to 0.1 by default.\n",
    "* TCGA gistic analysis used 0.25 as threshold, for comparison I picked 0.25 to ensure consistence."
   ]
  },
  {
   "cell_type": "markdown",
   "metadata": {},
   "source": [
    "### 5. Some points made by Andrew Cheniack quoted as below:"
   ]
  },
  {
   "cell_type": "markdown",
   "metadata": {},
   "source": [
    "1) The germline CNV file was manually curated from normal SNP array data. I have attached our germline CNV file. This is aligned to HG19. I believe a newer HG38 file exists on the GDC portal. If not, I can dig one up if you need it..\n",
    "\n",
    "2) GISTIC doesn't compare Broad and Focal alterations together because they are two really different things. The arm level significance file is named:\n",
    "broad_significance_results.txt\n",
    "\n",
    "3) We usually use 0.1 because that was the lowest level from SNP array data that we felt confident in calling as an alteration. If you want to use 0.25 that is OK.\n",
    "It's whatever you feel comfortable with.\n",
    "\n",
    "4) 30 genes was an arbitrary number used to make the figure look good. Peaks with 100s of genes are not well defined and so take them with a grain of salt. If you have a peak with ~50 genes with a well known oncogene in the middle, I wouldn't ignore it.\n",
    "\n",
    "5) The germline CNV list should be good for any conhort. The only caveat is that it may be incomplete if you are profiling an ethnic group that is not well represented TCGA.\n",
    "6) BTW germlines CNVs are easy to identify. What you will see is CNVs with similar boundaries that maybe either amplified or deleted. (see example below)\n",
    "\n",
    "Andy"
   ]
  },
  {
   "cell_type": "markdown",
   "metadata": {},
   "source": [
    "### 6. TCGA copy number"
   ]
  },
  {
   "cell_type": "markdown",
   "metadata": {},
   "source": [
    "* i can load the gatk seg file into igv for visualization. the file extension needs to be .seg\n",
    "\n",
    "* decided to use the TCGA file with germline CNVs removed for the comparison I used the same TCGA curated germline events to filter out germline events from HTMCP cohort as well. this is only true if the file Andy C sent to me is exactly the same file they used for TCGA. \n",
    "\n",
    "* i downloaded the population CNVS here: is this from 1000 genomes\n",
    "/projects/trans_scratch/validations/workspace/szong/Cervical/cnv/population_cnv.txt\n",
    "\n",
    "* TCGA core data freeze list: 178 samples with SNP6 array copy number data. extended data include additional 50 samples.\n",
    "\n",
    "* snp6 copy number analysis was applied to the 178 core samples. in supplimentary, it states \"Somatic copy number alterations in 178 CESC tumors were determined with SNP 6.0 arrays. \"\n",
    "\n",
    "* <font color='red'>\n",
    "TCGA excluded peaks with more than 30 genes. also TCGA removed germline CNVs\n",
    "</font>\n",
    "\n",
    "* GISTIC2.0 amplification and deletion plots within copy number clusters. Chromosomal locations for peaks of significantly recurrent focal amplifications (red) and deletions (blue) are plotted by −log10 q value for the high (CN High) and low (CN Low) copy number clusters. Peaks are annotated with cytoband and candidate driver genes. The total number of genes in the peak region is indicated in parentheses. Peaks with more than 30 genes in the peak region are excluded. Any genes annotated have a significant positive correlation with mRNA expression\n",
    "\n",
    "* TCGA data are download here: http://firebrowse.org/\n",
    ", http://gdac.broadinstitute.org/runs/stddata__2016_01_28/data/CESC/20160128/\n",
    ". In firbrowse, there are 295 samples with snp6 copy number results including 586 tumour or normals. not sure why. but it makes sense to have normals in this file because copy number ratio is standardardized to a panel of normals. so normals can be compared to the panel as well.\n",
    "\n",
    "* TCGA copy number analysis GISTIC results are here with 295 patients: http://gdac.broadinstitute.org/runs/analyses__2016_01_28/reports/cancer/CESC-TP/CopyNumber_Gistic2/nozzle.html\n",
    "\n",
    "* TCGA CESC had 178 core samples plus 50 extended cases. but in firebrowse we got 295 samples for the cesc. not sure why. i am confused. so to keep it simple, I will stick to the 178 samples for the purposes of comparison with HTMCP. the 178 core samples include both squamous and adeno cases. so not like we only look at squamous cases. should be fine.\n",
    "\n",
    "* To decide which file to use. \"_scna_minus_germline_cnv_\" has much less rows, indicating germline cnvs were removed. maybe one normal against a panel of normal can detect germline cnvs, so the file excluded these events. we need to removed germline events for HTMCP cohort as well. "
   ]
  },
  {
   "cell_type": "markdown",
   "metadata": {},
   "source": [
    "* to determine if a segment is amplfied or deleted based on the segment_mean value, (logT/N ratio). I tend to use cutoffs; amp>=0.58=log2(3/2); del <=-1=log2(1/2), this seems to be too stringent. \n",
    "\n",
    "* Below are some relevant references:\n",
    "* https://www.ncbi.nlm.nih.gov/pmc/articles/PMC4392457/. There are no standardised log2 ratio cut-offs to define low-amplitude copy number gain/loss and high amplitude amplification/deletion. Based on the available published literature, we used a log2 ratio cut-off of +/− 0.25 to define copy number gain/loss and a log2 ratio cut-off of +/− 0.8 to define amplification and deletion [7,18,19].\n",
    "\n",
    "* https://www.nature.com/articles/nature20805. esophageal copy number comparison with ESCC and EAC\n",
    "\n",
    "* this google post has some useful information as well: https://groups.google.com/a/broadinstitute.org/forum/#!topic/gdac-users/__zdXDE-Z5U\n",
    "\n",
    "* this talks about the germline CNVs identified in 1000 genomes. https://www.biostars.org/p/174343/\n",
    "\n",
    "* this describes how GISTIC works: http://www.pnas.org/content/104/50/20007.full"
   ]
  },
  {
   "cell_type": "markdown",
   "metadata": {},
   "source": [
    "\n",
    "### 7. TCGA Copy number analysis method from the paper\n",
    "* DNA from each tumour or germline sample was hybridized to Affymetrix SNP 6.0 arrays using protocols at the Genome Analysis Platform of the Broad Institute as previously described51. Briefly, Birdseed was used to infer a preliminary copy number at each probe locus from raw .cel files52. For each tumour, genome-wide copy number estimates were refined using tangent normalization, in which tumour signal intensities are divided by signal intensities from the linear combination of all normal samples that are most similar to the tumour16. Individual copy number estimates then underwent segmentation using circular binary segmentation53, and segmented copy number profiles for tumour and matched control DNAs were analysed using Ziggurat Deconstruction54. Significance of copy number alterations were assessed from the segmented data using GISTIC2.0 (version 2.0.22)54. For the purpose of this analysis, an arm-level event was defined as any event spanning more than 50% of a chromosome arm. For copy number-based clustering, tumours were clustered based on copy number at regions using GISTIC analysis. Clustering was done in R on the basis of Euclidean distance using Ward’s method. Allelic and integer copy number, tumour purity and tumour ploidy were calculated using the ABSOLUTE algorithm55.\n",
    "\n"
   ]
  },
  {
   "cell_type": "markdown",
   "metadata": {},
   "source": [
    "# goals"
   ]
  },
  {
   "cell_type": "markdown",
   "metadata": {},
   "source": [
    "* to display the copy number landscape using gatk cnv results\n",
    "* to compare significant arm level alterations among three groups: tcga, htmcp hiv+, and htmcp hiv-, all comparisons are made against hiv- group"
   ]
  },
  {
   "cell_type": "markdown",
   "metadata": {},
   "source": [
    "# constants"
   ]
  },
  {
   "cell_type": "code",
   "execution_count": 1,
   "metadata": {},
   "outputs": [],
   "source": [
    "# suggested by Andrew Cherniack\n",
    "amp_threshold = 0.1 # gatk log2 ratio > 0.1 copy gain\n",
    "del_threshold = -0.1 # gatk log2 ratio < -0.1 copy loss\n",
    "arm_threshold = 0.25 # q value < 0.25 significant events\n",
    "num_tcga_patients = 177\n",
    "num_htmcp_patients = 118\n",
    "num_htmcp_hiv_pos_patients = 73\n",
    "num_htmcp_hiv_neg_patients = 45"
   ]
  },
  {
   "cell_type": "markdown",
   "metadata": {},
   "source": [
    "# files"
   ]
  },
  {
   "cell_type": "code",
   "execution_count": 2,
   "metadata": {},
   "outputs": [],
   "source": [
    "wkdir = '/projects/trans_scratch/validations/workspace/szong/Cervical/cnv/'\n",
    "bindir = '/projects/trans_scratch/validations/workspace/szong/Cervical/cnv/bin_segs/'\n",
    "chr_accu_length_f = f'{wkdir}chromosome_accumulative_length.txt'\n",
    "chromosomef = f'{wkdir}chromosome_coordinates.txt'\n",
    "\n",
    "# this removed germline cnvs\n",
    "tcga_cn_file = '/home/szong/bin/GISTIC_2_0_22/tcga/segmentationfile.txt'\n",
    "# tcga_cn_file is extracted from below minus_germline files downloaed from firebrowse\n",
    "# tcga_cn_file = '/projects/trans_scratch/validations/workspace/szong/Cervical/tcga_cn/gdac.broadinstitute.org_CESC.Merge_snp__genome_wide_snp_6__broad_mit_edu__Level_3__segmented_scna_minus_germline_cnv_hg19__seg.Level_3.2016012800.0.0/CESC.snp__genome_wide_snp_6__broad_mit_edu__Level_3__segmented_scna_minus_germline_cnv_hg19__seg.seg.txt'\n",
    "# tcga_cn_file = '/projects/trans_scratch/validations/workspace/szong/Cervical/tcga_cn/gdac.broadinstitute.org_CESC.Merge_snp__genome_wide_snp_6__broad_mit_edu__Level_3__segmented_scna_hg19__seg.Level_3.2016012800.0.0/CESC.snp__genome_wide_snp_6__broad_mit_edu__Level_3__segmented_scna_hg19__seg.seg.txt'\n",
    "tcga_core_sample_file = '/projects/trans_scratch/validations/workspace/szong/Cervical/tcga_cn/TCGA_178_core_samples.txt'\n",
    "htmcp_hiv_neg_file = '/home/szong/bin/GISTIC_2_0_22/gatk_118_HIV_neg/segmentationfile.txt'\n",
    "htmcp_hiv_pos_file = '/home/szong/bin/GISTIC_2_0_22/gatk_118_HIV_pos/segmentationfile.txt'\n",
    "# htmcp_file = '/home/szong/bin/GISTIC_2_0_22/gatk_118_patients/segmentationfile.txt'\n",
    "hivpos_uniqamp_armsf = f'{wkdir}hivpos_uniqamp_arms_{arm_threshold}.txt'\n",
    "hivneg_uniqamp_armsf = f'{wkdir}hivneg_uniqamp_arms_{arm_threshold}.txt'\n",
    "hivpos_uniqdel_armsf = f'{wkdir}hivpos_uniqdel_arms_{arm_threshold}.txt'\n",
    "hivneg_uniqdel_armsf = f'{wkdir}hivneg_uniqdel_arms_{arm_threshold}.txt'\n",
    "tcga_uniqdel_armsf = f'{wkdir}tcga_uniqdel_arms_{arm_threshold}.txt'\n",
    "tcga_uniqamp_armsf = f'{wkdir}tcga_uniqamp_arms_{arm_threshold}.txt'\n",
    "hivneg2_uniqdel_armsf = f'{wkdir}hivneg2_uniqdel_arms_{arm_threshold}.txt'\n",
    "hivneg2_uniqamp_armsf = f'{wkdir}hivneg2_uniqamp_arms_{arm_threshold}.txt'\n",
    "\n"
   ]
  },
  {
   "cell_type": "code",
   "execution_count": 5,
   "metadata": {},
   "outputs": [
    {
     "data": {
      "text/html": [
       "<div>\n",
       "<style scoped>\n",
       "    .dataframe tbody tr th:only-of-type {\n",
       "        vertical-align: middle;\n",
       "    }\n",
       "\n",
       "    .dataframe tbody tr th {\n",
       "        vertical-align: top;\n",
       "    }\n",
       "\n",
       "    .dataframe thead th {\n",
       "        text-align: right;\n",
       "    }\n",
       "</style>\n",
       "<table border=\"1\" class=\"dataframe\">\n",
       "  <thead>\n",
       "    <tr style=\"text-align: right;\">\n",
       "      <th></th>\n",
       "      <th>size</th>\n",
       "    </tr>\n",
       "    <tr>\n",
       "      <th>chr</th>\n",
       "      <th></th>\n",
       "    </tr>\n",
       "  </thead>\n",
       "  <tbody>\n",
       "    <tr>\n",
       "      <td>1</td>\n",
       "      <td>249250621</td>\n",
       "    </tr>\n",
       "    <tr>\n",
       "      <td>2</td>\n",
       "      <td>243199373</td>\n",
       "    </tr>\n",
       "  </tbody>\n",
       "</table>\n",
       "</div>"
      ],
      "text/plain": [
       "          size\n",
       "chr           \n",
       "1    249250621\n",
       "2    243199373"
      ]
     },
     "execution_count": 5,
     "metadata": {},
     "output_type": "execute_result"
    }
   ],
   "source": [
    "f2_1 = '/home/szong/projects/resource/chrominfo.txt'\n",
    "df2_1 = pd.read_csv(f2_1, sep='\\t', usecols=['#chrom', 'size'])\n",
    "df2_1['chr'] = df2_1['#chrom'].apply(lambda x: x.replace('chr', ''))\n",
    "chr_sizes = df2_1.set_index('chr').drop('#chrom', axis=1)\n",
    "chr_sizes = chr_sizes.reset_index().replace('X', '23').replace('Y', '24').iloc[:24,].set_index('chr')\n",
    "chr_sizes.index = chr_sizes.index.astype(int)\n",
    "chr_sizes = chr_sizes.sort_index()\n",
    "chr_sizes.head(2)\n",
    "# initiate occupied label coordinates dict\n",
    "chr_length = chr_sizes['size']#.astype(str)\n",
    "y_coords = np.arange(7, .5, -0.5)"
   ]
  },
  {
   "cell_type": "markdown",
   "metadata": {},
   "source": [
    "# 3. plot cnvs"
   ]
  },
  {
   "cell_type": "code",
   "execution_count": 6,
   "metadata": {},
   "outputs": [],
   "source": [
    "def plot_cnv(ax, baseline, amps, dels, num_patients, vlns):\n",
    "    ticks = [0, 0.4, 0.8, 1.2, 1.6]\n",
    "    ticklabels = [0.8, 0.4, 0, 0.4, 0.8]\n",
    "    ax.set_yticks(ticks, minor=False)\n",
    "    ax.set_yticklabels(ticklabels, minor=False)\n",
    "    # ax.set_frame_on(False) # this turn off frame\n",
    "    # Hide the right and top spines\n",
    "    ax.spines['right'].set_visible(False)\n",
    "    ax.spines['top'].set_visible(False)\n",
    "    ax.spines['bottom'].set_visible(False)\n",
    "    ax.axes.get_xaxis().set_visible(False)\n",
    "    _ = ax.hlines(baseline, 0, vlns[-2], color='black', linewidth=.7)\n",
    "    for vl in vlns:\n",
    "        _ = ax.vlines(vl, 0, 1.6, color='gray', linestyle='--', linewidth=.5)\n",
    "    \n",
    "#     _ = axhline(baseline + 1, color='gray', linestyle='--', linewidth=.5)\n",
    "#     _ = axhline(baseline - 1, color='gray', linestyle='--', linewidth=.5)\n",
    "    coordinates, fractions = get_coordinates_fractions(amps, num_patients)\n",
    "\n",
    "    plot_fraction(coordinates, fractions, baseline, 'amps', ax)\n",
    "    coordinates, fractions = get_coordinates_fractions(dels, num_patients)\n",
    "    plot_fraction(coordinates, fractions, baseline, 'dels', ax)"
   ]
  },
  {
   "cell_type": "code",
   "execution_count": 7,
   "metadata": {},
   "outputs": [],
   "source": [
    "# plot baseline\n",
    "start = 0\n",
    "end = 0\n",
    "# baseline = 1\n",
    "vlns = []\n",
    "mpnts = []\n",
    "for ch, length in enumerate(chr_length[:-1]):\n",
    "    ch+=1\n",
    "    end+=length\n",
    "    midpoint = (start + end)/2\n",
    "    mpnts.append(midpoint)\n",
    "#     _ = ax0.text(midpoint, 1, ch, ha='center')\n",
    "    if ch %2 == 1:\n",
    "        vlns.append(start)\n",
    "        vlns.append(end)\n",
    "#         _ = fill([start, end, end, start], [0, 0, 11, 11], 'b', alpha=0.1, edgecolor='b')\n",
    "#         _= ax0.vlines(start, 0, 10, color='gray', linestyle='--', linewidth=.5)\n",
    "#         _= ax0.vlines(end, 0, 10, color='gray', linestyle='--', linewidth=.5)\n",
    "    start+=length\n",
    "#     _ = ax0.text(midpoint, 1, ch, ha='center')\n"
   ]
  },
  {
   "cell_type": "code",
   "execution_count": 8,
   "metadata": {},
   "outputs": [],
   "source": [
    "def plot_cytobands(df, ax, clr, y_coord):\n",
    "    \"\"\"\n",
    "    keep in mind sometime notebook does render properly, some lines seem missing, \n",
    "    but it will show up when you open the png file. \n",
    "    \"\"\"\n",
    "    for ix, row in df.iterrows():\n",
    "        chrom = row.chr\n",
    "        start = row.start\n",
    "        end = row.end\n",
    "        cytoband = row.cytoband\n",
    "        print(start, end, (end-start), cytoband)\n",
    "        ax.hlines(y_coord, start, end, color=clr, linewidth=14) "
   ]
  },
  {
   "cell_type": "markdown",
   "metadata": {},
   "source": [
    "# plot cytoband"
   ]
  },
  {
   "cell_type": "code",
   "execution_count": 9,
   "metadata": {},
   "outputs": [
    {
     "data": {
      "text/html": [
       "<div>\n",
       "<style scoped>\n",
       "    .dataframe tbody tr th:only-of-type {\n",
       "        vertical-align: middle;\n",
       "    }\n",
       "\n",
       "    .dataframe tbody tr th {\n",
       "        vertical-align: top;\n",
       "    }\n",
       "\n",
       "    .dataframe thead th {\n",
       "        text-align: right;\n",
       "    }\n",
       "</style>\n",
       "<table border=\"1\" class=\"dataframe\">\n",
       "  <thead>\n",
       "    <tr style=\"text-align: right;\">\n",
       "      <th></th>\n",
       "      <th>chr</th>\n",
       "      <th>start</th>\n",
       "      <th>end</th>\n",
       "      <th>cytoband</th>\n",
       "      <th>comments</th>\n",
       "    </tr>\n",
       "  </thead>\n",
       "  <tbody>\n",
       "    <tr>\n",
       "      <td>0</td>\n",
       "      <td>1</td>\n",
       "      <td>0</td>\n",
       "      <td>2300000</td>\n",
       "      <td>1p36.33</td>\n",
       "      <td>gneg</td>\n",
       "    </tr>\n",
       "    <tr>\n",
       "      <td>1</td>\n",
       "      <td>1</td>\n",
       "      <td>2300000</td>\n",
       "      <td>5400000</td>\n",
       "      <td>1p36.32</td>\n",
       "      <td>gpos25</td>\n",
       "    </tr>\n",
       "  </tbody>\n",
       "</table>\n",
       "</div>"
      ],
      "text/plain": [
       "  chr    start      end cytoband comments\n",
       "0   1        0  2300000  1p36.33     gneg\n",
       "1   1  2300000  5400000  1p36.32   gpos25"
      ]
     },
     "execution_count": 9,
     "metadata": {},
     "output_type": "execute_result"
    },
    {
     "data": {
      "text/html": [
       "<div>\n",
       "<style scoped>\n",
       "    .dataframe tbody tr th:only-of-type {\n",
       "        vertical-align: middle;\n",
       "    }\n",
       "\n",
       "    .dataframe tbody tr th {\n",
       "        vertical-align: top;\n",
       "    }\n",
       "\n",
       "    .dataframe thead th {\n",
       "        text-align: right;\n",
       "    }\n",
       "</style>\n",
       "<table border=\"1\" class=\"dataframe\">\n",
       "  <thead>\n",
       "    <tr style=\"text-align: right;\">\n",
       "      <th></th>\n",
       "      <th>chr</th>\n",
       "      <th>start</th>\n",
       "      <th>end</th>\n",
       "      <th>cytoband</th>\n",
       "      <th>comments</th>\n",
       "    </tr>\n",
       "  </thead>\n",
       "  <tbody>\n",
       "    <tr>\n",
       "      <td>857</td>\n",
       "      <td>24</td>\n",
       "      <td>15100000</td>\n",
       "      <td>19800000</td>\n",
       "      <td>Yq11.221</td>\n",
       "      <td>gpos50</td>\n",
       "    </tr>\n",
       "    <tr>\n",
       "      <td>858</td>\n",
       "      <td>24</td>\n",
       "      <td>19800000</td>\n",
       "      <td>22100000</td>\n",
       "      <td>Yq11.222</td>\n",
       "      <td>gneg</td>\n",
       "    </tr>\n",
       "    <tr>\n",
       "      <td>859</td>\n",
       "      <td>24</td>\n",
       "      <td>22100000</td>\n",
       "      <td>26200000</td>\n",
       "      <td>Yq11.223</td>\n",
       "      <td>gpos50</td>\n",
       "    </tr>\n",
       "    <tr>\n",
       "      <td>860</td>\n",
       "      <td>24</td>\n",
       "      <td>26200000</td>\n",
       "      <td>28800000</td>\n",
       "      <td>Yq11.23</td>\n",
       "      <td>gneg</td>\n",
       "    </tr>\n",
       "    <tr>\n",
       "      <td>861</td>\n",
       "      <td>24</td>\n",
       "      <td>28800000</td>\n",
       "      <td>59373566</td>\n",
       "      <td>Yq12</td>\n",
       "      <td>gvar</td>\n",
       "    </tr>\n",
       "  </tbody>\n",
       "</table>\n",
       "</div>"
      ],
      "text/plain": [
       "    chr     start       end  cytoband comments\n",
       "857  24  15100000  19800000  Yq11.221   gpos50\n",
       "858  24  19800000  22100000  Yq11.222     gneg\n",
       "859  24  22100000  26200000  Yq11.223   gpos50\n",
       "860  24  26200000  28800000   Yq11.23     gneg\n",
       "861  24  28800000  59373566      Yq12     gvar"
      ]
     },
     "execution_count": 9,
     "metadata": {},
     "output_type": "execute_result"
    },
    {
     "data": {
      "text/plain": [
       "(862, 5)"
      ]
     },
     "execution_count": 9,
     "metadata": {},
     "output_type": "execute_result"
    },
    {
     "data": {
      "text/plain": [
       "chr         object\n",
       "start        int64\n",
       "end          int64\n",
       "cytoband    object\n",
       "comments    object\n",
       "dtype: object"
      ]
     },
     "execution_count": 9,
     "metadata": {},
     "output_type": "execute_result"
    }
   ],
   "source": [
    "# plot chromosomes\n",
    "f3 = '/home/szong/projects/resource/hg19_cytoband_ucsc.txt'\n",
    "df_cytoband = pd.read_csv(f3, header=None, sep='\\t')\n",
    "df_cytoband.columns = ['chr', 'start', 'end', 'cytoband', 'comments']\n",
    "df_cytoband['cytoband'] = df_cytoband.chr + df_cytoband['cytoband']\n",
    "df_cytoband['chr'] = df_cytoband['chr'].replace({'X':'23', 'Y':'24'}).astype(str)\n",
    "\n",
    "df_cytoband.head(2)\n",
    "df_cytoband.tail()\n",
    "df_cytoband.shape\n",
    "df_cytoband.dtypes"
   ]
  },
  {
   "cell_type": "code",
   "execution_count": 10,
   "metadata": {},
   "outputs": [
    {
     "data": {
      "text/html": [
       "<div>\n",
       "<style scoped>\n",
       "    .dataframe tbody tr th:only-of-type {\n",
       "        vertical-align: middle;\n",
       "    }\n",
       "\n",
       "    .dataframe tbody tr th {\n",
       "        vertical-align: top;\n",
       "    }\n",
       "\n",
       "    .dataframe thead th {\n",
       "        text-align: right;\n",
       "    }\n",
       "</style>\n",
       "<table border=\"1\" class=\"dataframe\">\n",
       "  <thead>\n",
       "    <tr style=\"text-align: right;\">\n",
       "      <th></th>\n",
       "      <th>chrom</th>\n",
       "      <th>length</th>\n",
       "      <th>cumulative_length</th>\n",
       "    </tr>\n",
       "  </thead>\n",
       "  <tbody>\n",
       "    <tr>\n",
       "      <td>0</td>\n",
       "      <td>0</td>\n",
       "      <td>0</td>\n",
       "      <td>0</td>\n",
       "    </tr>\n",
       "    <tr>\n",
       "      <td>1</td>\n",
       "      <td>1</td>\n",
       "      <td>249250621</td>\n",
       "      <td>249250621</td>\n",
       "    </tr>\n",
       "    <tr>\n",
       "      <td>2</td>\n",
       "      <td>2</td>\n",
       "      <td>243199373</td>\n",
       "      <td>492449994</td>\n",
       "    </tr>\n",
       "    <tr>\n",
       "      <td>3</td>\n",
       "      <td>3</td>\n",
       "      <td>198022430</td>\n",
       "      <td>690472424</td>\n",
       "    </tr>\n",
       "  </tbody>\n",
       "</table>\n",
       "</div>"
      ],
      "text/plain": [
       "   chrom     length  cumulative_length\n",
       "0      0          0                  0\n",
       "1      1  249250621          249250621\n",
       "2      2  243199373          492449994\n",
       "3      3  198022430          690472424"
      ]
     },
     "execution_count": 10,
     "metadata": {},
     "output_type": "execute_result"
    },
    {
     "data": {
      "text/plain": [
       "chrom                int64\n",
       "length               int64\n",
       "cumulative_length    int64\n",
       "dtype: object"
      ]
     },
     "execution_count": 10,
     "metadata": {},
     "output_type": "execute_result"
    }
   ],
   "source": [
    "chromosomes = pd.read_csv(chr_accu_length_f, sep='\\t')\n",
    "chromosomes[:4]\n",
    "chromosomes.dtypes"
   ]
  },
  {
   "cell_type": "code",
   "execution_count": 11,
   "metadata": {},
   "outputs": [],
   "source": [
    "chromosomes['end'] = chromosomes.cumulative_length.shift(-1)\n",
    "chroms = chromosomes.loc[0:23,['cumulative_length','end']]\n",
    "chroms['chrom'] = [i for i in range(1, 25)]\n",
    "# chroms.to_csv(chromosomef, index=False)"
   ]
  },
  {
   "cell_type": "markdown",
   "metadata": {},
   "source": [
    "# final plot"
   ]
  },
  {
   "cell_type": "code",
   "execution_count": 12,
   "metadata": {},
   "outputs": [],
   "source": [
    "def calculate_fractions(df):\n",
    "    end = 0\n",
    "    all_positions = []\n",
    "    all_fractions = []\n",
    "    for ch, length in enumerate(chr_length):\n",
    "        ch+=1\n",
    "        positions = list(end + np.array(df.iloc[df.index.get_level_values('bin_chr') == ch].index.get_level_values('bin_start').tolist()))\n",
    "        all_positions = all_positions + positions\n",
    "        fractions = df.iloc[df.index.get_level_values('bin_chr') == ch]['fraction_patients'].tolist()\n",
    "        all_fractions = all_fractions + fractions\n",
    "        end+=length\n",
    "    return (all_positions, all_fractions)"
   ]
  },
  {
   "cell_type": "code",
   "execution_count": 13,
   "metadata": {},
   "outputs": [],
   "source": [
    "def get_coordinates_fractions(indf, num_patients):\n",
    "    df = reindex_df(indf, num_patients, df11)\n",
    "    coordinates, fractions = calculate_fractions(df)\n",
    "    return (coordinates, fractions)"
   ]
  },
  {
   "cell_type": "code",
   "execution_count": 14,
   "metadata": {},
   "outputs": [],
   "source": [
    "def reindex_df(indf, num_patients, df11):\n",
    "    df = indf.set_index(['bin_chr', 'bin_start', 'bin_end']).reindex(df11.index)\n",
    "    df.fillna(0, inplace=True)\n",
    "    df['fraction_patients'] = df.patient/num_patients\n",
    "    df.drop('patient', inplace=True, axis=1)\n",
    "    return df"
   ]
  },
  {
   "cell_type": "code",
   "execution_count": 15,
   "metadata": {},
   "outputs": [],
   "source": [
    "def plot_fraction(coordinates, fractions, baseline, cnv_type, ax):\n",
    "    baseline_postions = [baseline] * len(coordinates)\n",
    "    if cnv_type.lower() == 'amps':\n",
    "        fractions = baseline + np.array(fractions)\n",
    "        color = 'red'\n",
    "    elif cnv_type.lower() == 'dels':\n",
    "        fractions = baseline - np.array(fractions)\n",
    "        color = 'blue'\n",
    "    ax.fill_between(coordinates, \n",
    "                    fractions, \n",
    "                    baseline_postions, \n",
    "                    color=color, \n",
    "                    alpha=1)"
   ]
  },
  {
   "cell_type": "code",
   "execution_count": 19,
   "metadata": {},
   "outputs": [],
   "source": [
    "# tcga\n",
    "f = f'{wkdir}tcga_cnv_amps_bins_1kb.txt.patients'\n",
    "tcga_recur_amps = pd.read_csv(f, sep='\\t')\n",
    "f = f'{wkdir}tcga_cnv_dels_bins_1kb.txt.patients'\n",
    "tcga_recur_dels = pd.read_csv(f, sep='\\t')\n",
    "\n",
    "# hiv pos \n",
    "f = f'{wkdir}htmcp_hiv_pos_cnv_amps_bins_1kb.txt.patients'\n",
    "htmcp_hiv_pos_recur_amps = pd.read_csv(f, sep='\\t')\n",
    "f = f'{wkdir}htmcp_hiv_pos_cnv_dels_bins_1kb.txt.patients'\n",
    "htmcp_hiv_pos_recur_dels = pd.read_csv(f, sep='\\t')\n",
    "\n",
    "# hiv neg\n",
    "f = f'{wkdir}htmcp_hiv_neg_cnv_amps_bins_1kb.txt.patients'\n",
    "htmcp_hiv_neg_recur_amps = pd.read_csv(f, sep='\\t')\n",
    "f = f'{wkdir}htmcp_hiv_neg_cnv_dels_bins_1kb.txt.patients'\n",
    "htmcp_hiv_neg_recur_dels = pd.read_csv(f, sep='\\t')"
   ]
  },
  {
   "cell_type": "code",
   "execution_count": 18,
   "metadata": {},
   "outputs": [
    {
     "data": {
      "text/html": [
       "<div>\n",
       "<style scoped>\n",
       "    .dataframe tbody tr th:only-of-type {\n",
       "        vertical-align: middle;\n",
       "    }\n",
       "\n",
       "    .dataframe tbody tr th {\n",
       "        vertical-align: top;\n",
       "    }\n",
       "\n",
       "    .dataframe thead th {\n",
       "        text-align: right;\n",
       "    }\n",
       "</style>\n",
       "<table border=\"1\" class=\"dataframe\">\n",
       "  <thead>\n",
       "    <tr style=\"text-align: right;\">\n",
       "      <th></th>\n",
       "      <th>chrom</th>\n",
       "      <th>arm</th>\n",
       "      <th>start</th>\n",
       "      <th>end</th>\n",
       "      <th>chr_arm</th>\n",
       "    </tr>\n",
       "  </thead>\n",
       "  <tbody>\n",
       "    <tr>\n",
       "      <td>0</td>\n",
       "      <td>1</td>\n",
       "      <td>p</td>\n",
       "      <td>1</td>\n",
       "      <td>125000000</td>\n",
       "      <td>1p</td>\n",
       "    </tr>\n",
       "    <tr>\n",
       "      <td>1</td>\n",
       "      <td>1</td>\n",
       "      <td>q</td>\n",
       "      <td>125000001</td>\n",
       "      <td>249250621</td>\n",
       "      <td>1q</td>\n",
       "    </tr>\n",
       "  </tbody>\n",
       "</table>\n",
       "</div>"
      ],
      "text/plain": [
       "   chrom arm      start        end chr_arm\n",
       "0      1   p          1  125000000      1p\n",
       "1      1   q  125000001  249250621      1q"
      ]
     },
     "execution_count": 18,
     "metadata": {},
     "output_type": "execute_result"
    },
    {
     "data": {
      "text/plain": [
       "['6p', '16p', '14q', '9q', '16q', '9p']"
      ]
     },
     "execution_count": 18,
     "metadata": {},
     "output_type": "execute_result"
    },
    {
     "data": {
      "text/plain": [
       "['3p', '15q']"
      ]
     },
     "execution_count": 18,
     "metadata": {},
     "output_type": "execute_result"
    },
    {
     "data": {
      "text/plain": [
       "['13q', '5q', '21q', '4q']"
      ]
     },
     "execution_count": 18,
     "metadata": {},
     "output_type": "execute_result"
    },
    {
     "data": {
      "text/plain": [
       "['22q', '17p', '5q', '4q', '6q', '3q', '10q', '13q', '18q', '8p', '9p']"
      ]
     },
     "execution_count": 18,
     "metadata": {},
     "output_type": "execute_result"
    },
    {
     "data": {
      "text/plain": [
       "['21p']"
      ]
     },
     "execution_count": 18,
     "metadata": {},
     "output_type": "execute_result"
    },
    {
     "data": {
      "text/plain": [
       "['3p', '8p', '15q']"
      ]
     },
     "execution_count": 18,
     "metadata": {},
     "output_type": "execute_result"
    }
   ],
   "source": [
    "# chromosome arm coordinates\n",
    "f = f'{wkdir}chromosome_arm_coordinates.txt'\n",
    "arm_coords = pd.read_csv(f, sep='\\t')\n",
    "arm_coords[:2]\n",
    "\n",
    "# unique arm level alterations\n",
    "hivpos_uniqamp_arms = pd.read_csv(hivpos_uniqamp_armsf, header=None)[0].tolist()\n",
    "hivpos_uniqamp_arms\n",
    "\n",
    "hivneg_uniqamp_arms = pd.read_csv(hivneg_uniqamp_armsf, header=None)[0].tolist()\n",
    "hivneg_uniqamp_arms\n",
    "\n",
    "# no hivneg uniq del \n",
    "# hivneg_uniqdel_arms = pd.read_csv(hivneg_uniqdel_armsf, header=None)[0].tolist()\n",
    "# hivneg_uniqdel_arms\n",
    "\n",
    "hivpos_uniqdel_arms = pd.read_csv(hivpos_uniqdel_armsf, header=None)[0].tolist()\n",
    "hivpos_uniqdel_arms\n",
    "\n",
    "tcga_uniqdel_arms = pd.read_csv(tcga_uniqdel_armsf, header=None)[0].tolist()\n",
    "tcga_uniqdel_arms\n",
    "\n",
    "# no tcga uniqamp events\n",
    "# tcga_uniqamp_arms = pd.read_csv(tcga_uniqamp_armsf, header=None)[0].tolist()\n",
    "# tcga_uniqamp_arms\n",
    "\n",
    "# hivneg2  \n",
    "hivneg2_uniqdel_arms = pd.read_csv(hivneg2_uniqdel_armsf, header=None)[0].tolist()\n",
    "hivneg2_uniqdel_arms\n",
    "\n",
    "hivneg2_uniqamp_arms = pd.read_csv(hivneg2_uniqamp_armsf, header=None)[0].tolist()\n",
    "hivneg2_uniqamp_arms"
   ]
  },
  {
   "cell_type": "code",
   "execution_count": 21,
   "metadata": {},
   "outputs": [],
   "source": [
    "def plot_arms(arms, arm_coords, ax, alteration_type, edgeclr, offset, mk): # w/o border\n",
    "    for arm in arms:\n",
    "        df = arm_coords[arm_coords['chr_arm']==arm]\n",
    "#         print(df)\n",
    "        start = df.loc[df.index[0], 'start']\n",
    "        end = df.loc[df.index[0], 'end']\n",
    "        if alteration_type.lower() == 'amp':\n",
    "            faceclr = 'red'\n",
    "            y1 = 0.8\n",
    "            y2 = 1.5\n",
    "        elif alteration_type.lower() == 'del':\n",
    "            faceclr = 'blue'\n",
    "            y1 = 0\n",
    "            y2 = 0.1\n",
    "        else: print(\"Error! invalid copy number type.\")\n",
    "        \n",
    "#         print(arm, start, end)\n",
    "        ax.plot(start+offset, y2, color='black', marker=mk, markersize=4)\n",
    "        ax.add_patch(matplotlib.patches.Rectangle((start,y1), end-start, 0.8,  \n",
    "                                                  edgecolor=edgeclr, facecolor=faceclr, \n",
    "                                                  alpha=0.3, linewidth=2))\n"
   ]
  },
  {
   "cell_type": "code",
   "execution_count": 22,
   "metadata": {},
   "outputs": [],
   "source": [
    "def plot_chromosomes(df, ax):\n",
    "    # plot chromosome names\n",
    "\n",
    "\n",
    "    # plot chromosomes rectangles\n",
    "    chr_clrs = ['white' if i%2==0 else 'black' for i in df['chrom'] ]\n",
    "    text_clrs = chr_clrs + ['white']\n",
    "#     print(chr_clrs)\n",
    "#     print(text_clrs)\n",
    "    for ix, row in df.iterrows():\n",
    "        chrom = int(row.chrom)\n",
    "        start = row.start\n",
    "        end = row.end\n",
    "\n",
    "        _ = ax.add_patch(matplotlib.patches.Rectangle((start,0), end-start, 1.6,  \n",
    "                                              edgecolor='gray', facecolor=chr_clrs[chrom-1], \n",
    "                                              alpha=1, linewidth=2))\n",
    "        if chrom <= 23:\n",
    "            _ = ax.text(int((start + end)/2), 0.6, chrom, ha='center', color=text_clrs[chrom])\n",
    "        else:\n",
    "            _ = ax.text(int((start + end)/2), 0.6, 'X', ha='center', color=text_clrs[chrom])\n",
    "            "
   ]
  },
  {
   "cell_type": "code",
   "execution_count": 23,
   "metadata": {},
   "outputs": [
    {
     "data": {
      "text/html": [
       "<div>\n",
       "<style scoped>\n",
       "    .dataframe tbody tr th:only-of-type {\n",
       "        vertical-align: middle;\n",
       "    }\n",
       "\n",
       "    .dataframe tbody tr th {\n",
       "        vertical-align: top;\n",
       "    }\n",
       "\n",
       "    .dataframe thead th {\n",
       "        text-align: right;\n",
       "    }\n",
       "</style>\n",
       "<table border=\"1\" class=\"dataframe\">\n",
       "  <thead>\n",
       "    <tr style=\"text-align: right;\">\n",
       "      <th></th>\n",
       "      <th>start</th>\n",
       "      <th>end</th>\n",
       "      <th>chrom</th>\n",
       "    </tr>\n",
       "  </thead>\n",
       "  <tbody>\n",
       "    <tr>\n",
       "      <td>0</td>\n",
       "      <td>0</td>\n",
       "      <td>249250621.0</td>\n",
       "      <td>1</td>\n",
       "    </tr>\n",
       "    <tr>\n",
       "      <td>1</td>\n",
       "      <td>249250621</td>\n",
       "      <td>492449994.0</td>\n",
       "      <td>2</td>\n",
       "    </tr>\n",
       "  </tbody>\n",
       "</table>\n",
       "</div>"
      ],
      "text/plain": [
       "       start          end  chrom\n",
       "0          0  249250621.0      1\n",
       "1  249250621  492449994.0      2"
      ]
     },
     "execution_count": 23,
     "metadata": {},
     "output_type": "execute_result"
    }
   ],
   "source": [
    "chrdf = pd.read_csv(chromosomef)\n",
    "chrdf.columns = ['start', 'end', 'chrom']\n",
    "chrdf[:2]"
   ]
  },
  {
   "cell_type": "code",
   "execution_count": 24,
   "metadata": {},
   "outputs": [
    {
     "data": {
      "text/html": [
       "<div>\n",
       "<style scoped>\n",
       "    .dataframe tbody tr th:only-of-type {\n",
       "        vertical-align: middle;\n",
       "    }\n",
       "\n",
       "    .dataframe tbody tr th {\n",
       "        vertical-align: top;\n",
       "    }\n",
       "\n",
       "    .dataframe thead th {\n",
       "        text-align: right;\n",
       "    }\n",
       "</style>\n",
       "<table border=\"1\" class=\"dataframe\">\n",
       "  <thead>\n",
       "    <tr style=\"text-align: right;\">\n",
       "      <th></th>\n",
       "      <th></th>\n",
       "      <th></th>\n",
       "    </tr>\n",
       "    <tr>\n",
       "      <th>bin_chr</th>\n",
       "      <th>bin_start</th>\n",
       "      <th>bin_end</th>\n",
       "    </tr>\n",
       "  </thead>\n",
       "  <tbody>\n",
       "    <tr>\n",
       "      <td rowspan=\"5\" valign=\"top\">1</td>\n",
       "      <td>1</td>\n",
       "      <td>1000</td>\n",
       "    </tr>\n",
       "    <tr>\n",
       "      <td>1001</td>\n",
       "      <td>2000</td>\n",
       "    </tr>\n",
       "    <tr>\n",
       "      <td>2001</td>\n",
       "      <td>3000</td>\n",
       "    </tr>\n",
       "    <tr>\n",
       "      <td>3001</td>\n",
       "      <td>4000</td>\n",
       "    </tr>\n",
       "    <tr>\n",
       "      <td>4001</td>\n",
       "      <td>5000</td>\n",
       "    </tr>\n",
       "  </tbody>\n",
       "</table>\n",
       "</div>"
      ],
      "text/plain": [
       "Empty DataFrame\n",
       "Columns: []\n",
       "Index: [(1, 1, 1000), (1, 1001, 2000), (1, 2001, 3000), (1, 3001, 4000), (1, 4001, 5000)]"
      ]
     },
     "execution_count": 24,
     "metadata": {},
     "output_type": "execute_result"
    }
   ],
   "source": [
    "f11 = '/projects/trans_scratch/validations/workspace/szong/Cervical/cnv/bin_segs/chr_bins.txt'\n",
    "df11 = pd.read_csv(f11, sep='\\t', header=None)\n",
    "df11.columns = ['bin_chr', 'bin_start', 'bin_end']\n",
    "df11.set_index(['bin_chr', 'bin_start', 'bin_end'], inplace=True)\n",
    "# df11['patient'] = 0\n",
    "df11.head()"
   ]
  },
  {
   "cell_type": "code",
   "execution_count": 25,
   "metadata": {},
   "outputs": [
    {
     "data": {
      "text/html": [
       "<div>\n",
       "<style scoped>\n",
       "    .dataframe tbody tr th:only-of-type {\n",
       "        vertical-align: middle;\n",
       "    }\n",
       "\n",
       "    .dataframe tbody tr th {\n",
       "        vertical-align: top;\n",
       "    }\n",
       "\n",
       "    .dataframe thead th {\n",
       "        text-align: right;\n",
       "    }\n",
       "</style>\n",
       "<table border=\"1\" class=\"dataframe\">\n",
       "  <thead>\n",
       "    <tr style=\"text-align: right;\">\n",
       "      <th></th>\n",
       "      <th>bin_chr</th>\n",
       "      <th>bin_start</th>\n",
       "      <th>bin_end</th>\n",
       "      <th>patient</th>\n",
       "    </tr>\n",
       "  </thead>\n",
       "  <tbody>\n",
       "    <tr>\n",
       "      <td>0</td>\n",
       "      <td>1</td>\n",
       "      <td>10001</td>\n",
       "      <td>11000</td>\n",
       "      <td>10</td>\n",
       "    </tr>\n",
       "    <tr>\n",
       "      <td>1</td>\n",
       "      <td>1</td>\n",
       "      <td>11001</td>\n",
       "      <td>12000</td>\n",
       "      <td>10</td>\n",
       "    </tr>\n",
       "  </tbody>\n",
       "</table>\n",
       "</div>"
      ],
      "text/plain": [
       "   bin_chr  bin_start  bin_end  patient\n",
       "0        1      10001    11000       10\n",
       "1        1      11001    12000       10"
      ]
     },
     "execution_count": 25,
     "metadata": {},
     "output_type": "execute_result"
    },
    {
     "data": {
      "text/plain": [
       "Index(['bin_chr', 'bin_start', 'bin_end', 'patient'], dtype='object')"
      ]
     },
     "execution_count": 25,
     "metadata": {},
     "output_type": "execute_result"
    }
   ],
   "source": [
    "htmcp_hiv_pos_recur_amps.head(2)\n",
    "htmcp_hiv_pos_recur_dels.columns\n"
   ]
  },
  {
   "cell_type": "code",
   "execution_count": 28,
   "metadata": {
    "scrolled": true
   },
   "outputs": [
    {
     "data": {
      "text/plain": [
       "(0.0, 1.0, 0.0, 1.0)"
      ]
     },
     "execution_count": 28,
     "metadata": {},
     "output_type": "execute_result"
    },
    {
     "name": "stdout",
     "output_type": "stream",
     "text": [
      "(0, 3188119038.3) (0, 1.6)\n"
     ]
    },
    {
     "data": {
      "image/png": "[encoded data removed]",
      "text/plain": [
       "<Figure size 1152x720 with 4 Axes>"
      ]
     },
     "metadata": {},
     "output_type": "display_data"
    }
   ],
   "source": [
    "baseline = 0.8\n",
    "fig = plt.figure(figsize=(16, 10), facecolor='white')\n",
    "gs = gridspec.GridSpec(6, 1, height_ratios=[1, 6, 6, 6, 6, 6], \n",
    "                       hspace=0.08)  # vertical space\n",
    "\n",
    "# plot chromosomes\n",
    "ax0 = plt.subplot(gs[0], facecolor='white')\n",
    "ax0.axis('off')\n",
    "chrdf = chrdf.iloc[:23,:]\n",
    "\n",
    "# figuring out xlim and ylim\n",
    "for vl in vlns:\n",
    "    _ = ax0.vlines(vl, 0, 1.6, color='white', linestyle='--', linewidth=.5)\n",
    "xlims = (0, ax0.get_xlim()[1])\n",
    "ylims = (0, ax0.get_ylim()[1])\n",
    "_= ax0.set_xlim(xlims)\n",
    "_ = ax0.set_ylim(ylims)\n",
    "ylims = (0,1.6)\n",
    "print(xlims, ylims)\n",
    "plot_chromosomes(chrdf, ax0)\n",
    "\n",
    "# plot htmcp cnvs hiv+ 73 patients\n",
    "ax1 = plt.subplot(gs[1], facecolor='white')\n",
    "plot_cnv(ax1, baseline, htmcp_hiv_pos_recur_amps, htmcp_hiv_pos_recur_dels, num_htmcp_hiv_pos_patients, vlns)\n",
    "plot_arms(hivpos_uniqamp_arms, arm_coords, ax1, 'amp', 'white', 9e6, '*')\n",
    "plot_arms(hivpos_uniqdel_arms, arm_coords, ax1, 'del', 'white', 9e6, '*')\n",
    "_ = ax1.set_xlim(xlims)\n",
    "_ = ax1.set_ylim(ylims)\n",
    "\n",
    "# plot htmcp cnvs hiv- 45 patients\n",
    "ax2 = plt.subplot(gs[2], facecolor='white')\n",
    "plot_cnv(ax2, baseline, htmcp_hiv_neg_recur_amps, htmcp_hiv_neg_recur_dels, num_htmcp_hiv_neg_patients, vlns)\n",
    "plot_arms(hivneg_uniqamp_arms, arm_coords, ax2, 'amp', 'white', 9e6, '*')\n",
    "plot_arms(hivneg2_uniqamp_arms, arm_coords, ax2, 'amp', 'white', 3e7, '+')\n",
    "plot_arms(hivneg2_uniqdel_arms, arm_coords, ax2, 'del', 'white', 3e6, '+')\n",
    "_ = ax2.set_xlim(xlims)\n",
    "_ = ax2.set_ylim(ylims)\n",
    "# no hivneg uniq deletions\n",
    "\n",
    "\n",
    "# plot tcga cnvs\n",
    "ax3 = plt.subplot(gs[3], facecolor='white')\n",
    "plot_cnv(ax3, baseline, tcga_recur_amps, tcga_recur_dels, num_tcga_patients, vlns)\n",
    "plot_arms(tcga_uniqdel_arms, arm_coords, ax3, 'del', 'white', 9e6,'+')\n",
    "_ = ax3.set_xlim(xlims)\n",
    "_ = ax3.set_ylim(ylims)\n",
    "\n",
    "# plt.savefig(f'{wkdir}cnvs_publication_armthreshold_{arm_threshold}_alterthreshold_{amp_threshold}.pdf', dpi=300, bbox_inches='tight')\n",
    "# plt.savefig(f'{wkdir}cnvs_publication_{arm_threshold}.png', dpi=300, bbox_inches='tight')"
   ]
  },
  {
   "cell_type": "markdown",
   "metadata": {},
   "source": [
    "  "
   ]
  },
  {
   "cell_type": "markdown",
   "metadata": {},
   "source": [
    "# Take home message"
   ]
  },
  {
   "cell_type": "markdown",
   "metadata": {},
   "source": [
    "1. hiv + group has more uniq arm level alterations, including both amps and dels. HIV- has 2 unique arms amplified, 3p and 15q, but no unique arm level deletions.\n",
    "\n",
    "2. hiv- group and tcga are more similar in terms of broad copy number alterations, you can see this by examing the significant arm alterations unique to HIV+ group. \n",
    "\n",
    "3. tcga reports more arm deletions while htmcp reports more arm amplifications. tcga reports 9 unique arm deletions, htmcp reports 2 unique arm deletions 21pq. htmcp reports 5 unique arm amplifications.\n",
    "4. keep in mind this plot does not show the amplitude of the alterations in each and all patients. it only shows the frequency. This is a limitation. it is entirely possible a region is altered at lower frequency, but very high magnitude of gain and loss. So it turns out to be more significant than the higher frequency in another cohort. GISTIC looks for both occurrence and amplitude. \n",
    "5. look at the segment_mean distribution: tcga amp mean =0.75, del=-1.2; hiv+ amp=0.62, del=-0.9; hiv- amp=0.58, del=-1.0\n",
    "\n",
    "\n"
   ]
  },
  {
   "cell_type": "markdown",
   "metadata": {},
   "source": [
    "what the plot is showing:\n",
    "1. shows somatic copy number alteration landscape in htmcp hiv+ and - group and tcga cesc cohort\n",
    "2. shows the fraction of patients have copy gain or loss in each 1kb bin along the entore genome\n",
    "3. copy gain is defined as gatk copy ratio of tumour to a panel of normals >0.1, and copy loss is defined as segments with copy ratio less than -0.1.\n",
    "4. unique arm alterations are highlighted in both hiv+ and - group\n",
    "5. unique arm alterations for tcga and htmcp are highlighted in the last panel. highlights with a black border are unique to tcga "
   ]
  }
 ],
 "metadata": {
  "kernelspec": {
   "display_name": "Python 3",
   "language": "python",
   "name": "python3"
  },
  "language_info": {
   "codemirror_mode": {
    "name": "ipython",
    "version": 3
   },
   "file_extension": ".py",
   "mimetype": "text/x-python",
   "name": "python",
   "nbconvert_exporter": "python",
   "pygments_lexer": "ipython3",
   "version": "3.7.3"
  }
 },
 "nbformat": 4,
 "nbformat_minor": 2
}
