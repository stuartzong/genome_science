{
 "cells": [
  {
   "cell_type": "code",
   "execution_count": 10,
   "metadata": {
    "collapsed": false
   },
   "outputs": [],
   "source": [
    "import pybam \n",
    "import re\n",
    "import numpy as np\n",
    "import pandas as pd\n",
    "# from tqdm import tnrange, tqdm_notebook\n",
    "from tqdm import tqdm"
   ]
  },
  {
   "cell_type": "markdown",
   "metadata": {},
   "source": [
    "it takes 12 hours to finish one genome, not impressed at all."
   ]
  },
  {
   "cell_type": "code",
   "execution_count": 7,
   "metadata": {
    "collapsed": false
   },
   "outputs": [],
   "source": [
    "bam = '/projects/analysis/analysis30/A76742/HCV2CCCXY_4/A76742/150nt/hg19a/bwa-mem-0.7.6a-sb/A76742_1_lane_dupsFlagged.bam'\n",
    "\n",
    "def extract_misalignment(bam):\n",
    "    positions = []\n",
    "    for sam_tags_string, sam_rname, sam_pos1 in tqdm(pybam.read(bam,['sam_tags_string', 'sam_rname', 'sam_pos1'])):\n",
    "        if 'MD:Z:' in sam_tags_string: # ignore insertion for now\n",
    "            md = [i for i in sam_tags_string.split('\\t') if i.startswith('MD:Z:')][0].split(':')[2]\n",
    "        if not '^' in md: # '^'=deletion\n",
    "            char_count = len([c for c in md if c.isalpha()]) \n",
    "            md_spl = re.split('A|T|C|G', md)\n",
    "            pseudo_len = np.sum(np.array(md_spl).astype(int))\n",
    "            if char_count >5:\n",
    "                align_end = sam_pos1 + pseudo_len + char_count\n",
    "                positions.append([sam_rname, sam_pos1, align_end])\n",
    "    df = pd.DataFrame(positions)\n",
    "    df.columns = ['chrom', 'start', 'end']\n",
    "    return df\n",
    "    "
   ]
  },
  {
   "cell_type": "code",
   "execution_count": 8,
   "metadata": {
    "collapsed": false
   },
   "outputs": [
    {
     "name": "stdout",
     "output_type": "stream",
     "text": [
      "Enabling notebook extension jupyter-js-widgets/extension...\r\n",
      "      - Validating: \u001b[32mOK\u001b[0m\r\n"
     ]
    }
   ],
   "source": [
    "!jupyter nbextension enable --py --sys-prefix widgetsnbextension"
   ]
  },
  {
   "cell_type": "code",
   "execution_count": 9,
   "metadata": {
    "collapsed": false
   },
   "outputs": [
    {
     "name": "stderr",
     "output_type": "stream",
     "text": [
      "1028299194it [11:47:55, 24209.35it/s]5.07it/s]\n"
     ]
    },
    {
     "ename": "NameError",
     "evalue": "global name 'pd' is not defined",
     "output_type": "error",
     "traceback": [
      "\u001b[0;31m---------------------------------------------------------------------------\u001b[0m",
      "\u001b[0;31mNameError\u001b[0m                                 Traceback (most recent call last)",
      "\u001b[0;32m<ipython-input-9-997019975ded>\u001b[0m in \u001b[0;36m<module>\u001b[0;34m()\u001b[0m\n\u001b[0;32m----> 1\u001b[0;31m \u001b[0mdf\u001b[0m \u001b[0;34m=\u001b[0m \u001b[0mextract_misalignment\u001b[0m\u001b[0;34m(\u001b[0m\u001b[0mbam\u001b[0m\u001b[0;34m)\u001b[0m\u001b[0;34m\u001b[0m\u001b[0m\n\u001b[0m",
      "\u001b[0;32m<ipython-input-7-e30d53b3373b>\u001b[0m in \u001b[0;36mextract_misalignment\u001b[0;34m(bam)\u001b[0m\n\u001b[1;32m     13\u001b[0m                 \u001b[0malign_end\u001b[0m \u001b[0;34m=\u001b[0m \u001b[0msam_pos1\u001b[0m \u001b[0;34m+\u001b[0m \u001b[0mpseudo_len\u001b[0m \u001b[0;34m+\u001b[0m \u001b[0mchar_count\u001b[0m\u001b[0;34m\u001b[0m\u001b[0m\n\u001b[1;32m     14\u001b[0m                 \u001b[0mpositions\u001b[0m\u001b[0;34m.\u001b[0m\u001b[0mappend\u001b[0m\u001b[0;34m(\u001b[0m\u001b[0;34m[\u001b[0m\u001b[0msam_rname\u001b[0m\u001b[0;34m,\u001b[0m \u001b[0msam_pos1\u001b[0m\u001b[0;34m,\u001b[0m \u001b[0malign_end\u001b[0m\u001b[0;34m]\u001b[0m\u001b[0;34m)\u001b[0m\u001b[0;34m\u001b[0m\u001b[0m\n\u001b[0;32m---> 15\u001b[0;31m     \u001b[0mdf\u001b[0m \u001b[0;34m=\u001b[0m \u001b[0mpd\u001b[0m\u001b[0;34m.\u001b[0m\u001b[0mDataFrame\u001b[0m\u001b[0;34m(\u001b[0m\u001b[0mpositions\u001b[0m\u001b[0;34m)\u001b[0m\u001b[0;34m\u001b[0m\u001b[0m\n\u001b[0m\u001b[1;32m     16\u001b[0m     \u001b[0mdf\u001b[0m\u001b[0;34m.\u001b[0m\u001b[0mcolumns\u001b[0m \u001b[0;34m=\u001b[0m \u001b[0;34m[\u001b[0m\u001b[0;34m'chrom'\u001b[0m\u001b[0;34m,\u001b[0m \u001b[0;34m'start'\u001b[0m\u001b[0;34m,\u001b[0m \u001b[0;34m'end'\u001b[0m\u001b[0;34m]\u001b[0m\u001b[0;34m\u001b[0m\u001b[0m\n\u001b[1;32m     17\u001b[0m     \u001b[0;32mreturn\u001b[0m \u001b[0mdf\u001b[0m\u001b[0;34m\u001b[0m\u001b[0m\n",
      "\u001b[0;31mNameError\u001b[0m: global name 'pd' is not defined"
     ]
    }
   ],
   "source": [
    "df = extract_misalignment(bam)"
   ]
  },
  {
   "cell_type": "code",
   "execution_count": null,
   "metadata": {
    "collapsed": true
   },
   "outputs": [],
   "source": []
  },
  {
   "cell_type": "code",
   "execution_count": null,
   "metadata": {
    "collapsed": true
   },
   "outputs": [],
   "source": []
  },
  {
   "cell_type": "code",
   "execution_count": null,
   "metadata": {
    "collapsed": true
   },
   "outputs": [],
   "source": []
  }
 ],
 "metadata": {
  "kernelspec": {
   "display_name": "Python 2",
   "language": "python",
   "name": "python2"
  },
  "language_info": {
   "codemirror_mode": {
    "name": "ipython",
    "version": 2
   },
   "file_extension": ".py",
   "mimetype": "text/x-python",
   "name": "python",
   "nbconvert_exporter": "python",
   "pygments_lexer": "ipython2",
   "version": "2.7.15"
  }
 },
 "nbformat": 4,
 "nbformat_minor": 2
}
