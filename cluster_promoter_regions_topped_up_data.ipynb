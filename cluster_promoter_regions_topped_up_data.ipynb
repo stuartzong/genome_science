{
 "cells": [
  {
   "cell_type": "code",
   "execution_count": 1,
   "metadata": {},
   "outputs": [],
   "source": [
    "import pandas as pd\n",
    "import numpy as np\n",
    "import string as s\n",
    "import seaborn as sns\n",
    "import math\n",
    "# import tables\n",
    "import matplotlib\n",
    "import matplotlib.pyplot as plt\n",
    "from matplotlib import style, colors\n",
    "from itertools import groupby\n",
    "import matplotlib.patches as patches\n",
    "from matplotlib import gridspec\n",
    "import scipy.stats as stats\n",
    "from scipy.cluster.hierarchy import dendrogram, linkage, fcluster, fclusterdata, leaves_list\n",
    "from scipy.spatial.distance import pdist\n",
    "from scipy.ndimage.interpolation import shift\n",
    "# matplotlib.style.use('ggplot')\n",
    "# %matplotlib inline\n",
    "matplotlib.rcParams['figure.figsize'] = (12, 6)\n",
    "# matplotlib.rcParams['figure.facecolor'] = 'white'\n",
    "import mpl_toolkits.mplot3d.axes3d as p3\n",
    "from sklearn.cluster import AgglomerativeClustering\n",
    "from sklearn.datasets.samples_generator import make_swiss_roll\n",
    "matplotlib.style.use('ggplot')\n",
    "%matplotlib inline\n",
    "from IPython.core.interactiveshell import InteractiveShell\n",
    "InteractiveShell.ast_node_interactivity = \"all\""
   ]
  },
  {
   "cell_type": "code",
   "execution_count": 2,
   "metadata": {},
   "outputs": [],
   "source": [
    "wkdir = '/projects/da_workspace/DA-167_Cervical_epi_clustering/H3K4me3_promoter/'"
   ]
  },
  {
   "cell_type": "code",
   "execution_count": 3,
   "metadata": {},
   "outputs": [],
   "source": [
    "# macs2 peaks intersected with promoter regions, require 10% overlap\n",
    "f1 = '/projects/da_workspace/DA-167_Cervical_epi_clustering/H3K4me3_promoter/intersected_peaks.txt'"
   ]
  },
  {
   "cell_type": "code",
   "execution_count": 4,
   "metadata": {
    "scrolled": true
   },
   "outputs": [
    {
     "data": {
      "text/html": [
       "<div>\n",
       "<style scoped>\n",
       "    .dataframe tbody tr th:only-of-type {\n",
       "        vertical-align: middle;\n",
       "    }\n",
       "\n",
       "    .dataframe tbody tr th {\n",
       "        vertical-align: top;\n",
       "    }\n",
       "\n",
       "    .dataframe thead th {\n",
       "        text-align: right;\n",
       "    }\n",
       "</style>\n",
       "<table border=\"1\" class=\"dataframe\">\n",
       "  <thead>\n",
       "    <tr style=\"text-align: right;\">\n",
       "      <th></th>\n",
       "      <th>peak_file</th>\n",
       "    </tr>\n",
       "  </thead>\n",
       "  <tbody>\n",
       "    <tr>\n",
       "      <th>0</th>\n",
       "      <td>HTMCP-03-06-02001.intersected</td>\n",
       "    </tr>\n",
       "    <tr>\n",
       "      <th>1</th>\n",
       "      <td>HTMCP-03-06-02006.intersected</td>\n",
       "    </tr>\n",
       "  </tbody>\n",
       "</table>\n",
       "</div>"
      ],
      "text/plain": [
       "                       peak_file\n",
       "0  HTMCP-03-06-02001.intersected\n",
       "1  HTMCP-03-06-02006.intersected"
      ]
     },
     "execution_count": 4,
     "metadata": {},
     "output_type": "execute_result"
    }
   ],
   "source": [
    "df1 =  pd.read_csv(f1, sep='\\t', header=None)\n",
    "df1.columns = ['peak_file']\n",
    "df1.head(2)"
   ]
  },
  {
   "cell_type": "code",
   "execution_count": 39,
   "metadata": {},
   "outputs": [
    {
     "name": "stdout",
     "output_type": "stream",
     "text": [
      "HTMCP-03-06-02001\n"
     ]
    },
    {
     "data": {
      "text/plain": [
       "(10672, 1)"
      ]
     },
     "execution_count": 39,
     "metadata": {},
     "output_type": "execute_result"
    },
    {
     "name": "stdout",
     "output_type": "stream",
     "text": [
      "HTMCP-03-06-02006\n"
     ]
    },
    {
     "data": {
      "text/plain": [
       "(12269, 2)"
      ]
     },
     "execution_count": 39,
     "metadata": {},
     "output_type": "execute_result"
    },
    {
     "name": "stdout",
     "output_type": "stream",
     "text": [
      "HTMCP-03-06-02007\n"
     ]
    },
    {
     "data": {
      "text/plain": [
       "(13428, 3)"
      ]
     },
     "execution_count": 39,
     "metadata": {},
     "output_type": "execute_result"
    },
    {
     "name": "stdout",
     "output_type": "stream",
     "text": [
      "HTMCP-03-06-02012\n"
     ]
    },
    {
     "data": {
      "text/plain": [
       "(13824, 4)"
      ]
     },
     "execution_count": 39,
     "metadata": {},
     "output_type": "execute_result"
    },
    {
     "name": "stdout",
     "output_type": "stream",
     "text": [
      "HTMCP-03-06-02020\n"
     ]
    },
    {
     "data": {
      "text/plain": [
       "(14157, 5)"
      ]
     },
     "execution_count": 39,
     "metadata": {},
     "output_type": "execute_result"
    },
    {
     "name": "stdout",
     "output_type": "stream",
     "text": [
      "HTMCP-03-06-02026\n"
     ]
    },
    {
     "data": {
      "text/plain": [
       "(14535, 6)"
      ]
     },
     "execution_count": 39,
     "metadata": {},
     "output_type": "execute_result"
    },
    {
     "name": "stdout",
     "output_type": "stream",
     "text": [
      "HTMCP-03-06-02040\n"
     ]
    },
    {
     "data": {
      "text/plain": [
       "(14743, 7)"
      ]
     },
     "execution_count": 39,
     "metadata": {},
     "output_type": "execute_result"
    },
    {
     "name": "stdout",
     "output_type": "stream",
     "text": [
      "HTMCP-03-06-02042\n"
     ]
    },
    {
     "data": {
      "text/plain": [
       "(14823, 8)"
      ]
     },
     "execution_count": 39,
     "metadata": {},
     "output_type": "execute_result"
    },
    {
     "name": "stdout",
     "output_type": "stream",
     "text": [
      "HTMCP-03-06-02054\n"
     ]
    },
    {
     "data": {
      "text/plain": [
       "(14905, 9)"
      ]
     },
     "execution_count": 39,
     "metadata": {},
     "output_type": "execute_result"
    },
    {
     "name": "stdout",
     "output_type": "stream",
     "text": [
      "HTMCP-03-06-02058\n"
     ]
    },
    {
     "data": {
      "text/plain": [
       "(14983, 10)"
      ]
     },
     "execution_count": 39,
     "metadata": {},
     "output_type": "execute_result"
    },
    {
     "name": "stdout",
     "output_type": "stream",
     "text": [
      "HTMCP-03-06-02063\n"
     ]
    },
    {
     "data": {
      "text/plain": [
       "(15010, 11)"
      ]
     },
     "execution_count": 39,
     "metadata": {},
     "output_type": "execute_result"
    },
    {
     "name": "stdout",
     "output_type": "stream",
     "text": [
      "HTMCP-03-06-02075\n"
     ]
    },
    {
     "data": {
      "text/plain": [
       "(15030, 12)"
      ]
     },
     "execution_count": 39,
     "metadata": {},
     "output_type": "execute_result"
    },
    {
     "name": "stdout",
     "output_type": "stream",
     "text": [
      "HTMCP-03-06-02076\n"
     ]
    },
    {
     "data": {
      "text/plain": [
       "(15072, 13)"
      ]
     },
     "execution_count": 39,
     "metadata": {},
     "output_type": "execute_result"
    },
    {
     "name": "stdout",
     "output_type": "stream",
     "text": [
      "HTMCP-03-06-02089\n"
     ]
    },
    {
     "data": {
      "text/plain": [
       "(15101, 14)"
      ]
     },
     "execution_count": 39,
     "metadata": {},
     "output_type": "execute_result"
    },
    {
     "name": "stdout",
     "output_type": "stream",
     "text": [
      "HTMCP-03-06-02097\n"
     ]
    },
    {
     "data": {
      "text/plain": [
       "(15131, 15)"
      ]
     },
     "execution_count": 39,
     "metadata": {},
     "output_type": "execute_result"
    },
    {
     "name": "stdout",
     "output_type": "stream",
     "text": [
      "HTMCP-03-06-02103\n"
     ]
    },
    {
     "data": {
      "text/plain": [
       "(15149, 16)"
      ]
     },
     "execution_count": 39,
     "metadata": {},
     "output_type": "execute_result"
    },
    {
     "name": "stdout",
     "output_type": "stream",
     "text": [
      "HTMCP-03-06-02109\n"
     ]
    },
    {
     "data": {
      "text/plain": [
       "(15167, 17)"
      ]
     },
     "execution_count": 39,
     "metadata": {},
     "output_type": "execute_result"
    },
    {
     "name": "stdout",
     "output_type": "stream",
     "text": [
      "HTMCP-03-06-02128\n"
     ]
    },
    {
     "data": {
      "text/plain": [
       "(15273, 18)"
      ]
     },
     "execution_count": 39,
     "metadata": {},
     "output_type": "execute_result"
    },
    {
     "name": "stdout",
     "output_type": "stream",
     "text": [
      "HTMCP-03-06-02148\n"
     ]
    },
    {
     "data": {
      "text/plain": [
       "(15295, 19)"
      ]
     },
     "execution_count": 39,
     "metadata": {},
     "output_type": "execute_result"
    },
    {
     "name": "stdout",
     "output_type": "stream",
     "text": [
      "HTMCP-03-06-02179\n"
     ]
    },
    {
     "data": {
      "text/plain": [
       "(15424, 20)"
      ]
     },
     "execution_count": 39,
     "metadata": {},
     "output_type": "execute_result"
    },
    {
     "name": "stdout",
     "output_type": "stream",
     "text": [
      "HTMCP-03-06-02180\n"
     ]
    },
    {
     "data": {
      "text/plain": [
       "(15499, 21)"
      ]
     },
     "execution_count": 39,
     "metadata": {},
     "output_type": "execute_result"
    },
    {
     "name": "stdout",
     "output_type": "stream",
     "text": [
      "HTMCP-03-06-02182\n"
     ]
    },
    {
     "data": {
      "text/plain": [
       "(15749, 22)"
      ]
     },
     "execution_count": 39,
     "metadata": {},
     "output_type": "execute_result"
    },
    {
     "name": "stdout",
     "output_type": "stream",
     "text": [
      "HTMCP-03-06-02185\n"
     ]
    },
    {
     "data": {
      "text/plain": [
       "(15755, 23)"
      ]
     },
     "execution_count": 39,
     "metadata": {},
     "output_type": "execute_result"
    },
    {
     "name": "stdout",
     "output_type": "stream",
     "text": [
      "HTMCP-03-06-02196\n"
     ]
    },
    {
     "data": {
      "text/plain": [
       "(15764, 24)"
      ]
     },
     "execution_count": 39,
     "metadata": {},
     "output_type": "execute_result"
    },
    {
     "name": "stdout",
     "output_type": "stream",
     "text": [
      "HTMCP-03-06-02202\n"
     ]
    },
    {
     "data": {
      "text/plain": [
       "(15783, 25)"
      ]
     },
     "execution_count": 39,
     "metadata": {},
     "output_type": "execute_result"
    },
    {
     "name": "stdout",
     "output_type": "stream",
     "text": [
      "HTMCP-03-06-02203\n"
     ]
    },
    {
     "data": {
      "text/plain": [
       "(15862, 26)"
      ]
     },
     "execution_count": 39,
     "metadata": {},
     "output_type": "execute_result"
    },
    {
     "name": "stdout",
     "output_type": "stream",
     "text": [
      "HTMCP-03-06-02205\n"
     ]
    },
    {
     "data": {
      "text/plain": [
       "(15915, 27)"
      ]
     },
     "execution_count": 39,
     "metadata": {},
     "output_type": "execute_result"
    },
    {
     "name": "stdout",
     "output_type": "stream",
     "text": [
      "HTMCP-03-06-02210\n"
     ]
    },
    {
     "data": {
      "text/plain": [
       "(15988, 28)"
      ]
     },
     "execution_count": 39,
     "metadata": {},
     "output_type": "execute_result"
    },
    {
     "name": "stdout",
     "output_type": "stream",
     "text": [
      "HTMCP-03-06-02214\n"
     ]
    },
    {
     "data": {
      "text/plain": [
       "(16019, 29)"
      ]
     },
     "execution_count": 39,
     "metadata": {},
     "output_type": "execute_result"
    },
    {
     "name": "stdout",
     "output_type": "stream",
     "text": [
      "HTMCP-03-06-02260\n"
     ]
    },
    {
     "data": {
      "text/plain": [
       "(16025, 30)"
      ]
     },
     "execution_count": 39,
     "metadata": {},
     "output_type": "execute_result"
    },
    {
     "name": "stdout",
     "output_type": "stream",
     "text": [
      "HTMCP-03-06-02266\n"
     ]
    },
    {
     "data": {
      "text/plain": [
       "(16129, 31)"
      ]
     },
     "execution_count": 39,
     "metadata": {},
     "output_type": "execute_result"
    },
    {
     "name": "stdout",
     "output_type": "stream",
     "text": [
      "HTMCP-03-06-02268\n"
     ]
    },
    {
     "data": {
      "text/plain": [
       "(16144, 32)"
      ]
     },
     "execution_count": 39,
     "metadata": {},
     "output_type": "execute_result"
    },
    {
     "name": "stdout",
     "output_type": "stream",
     "text": [
      "HTMCP-03-06-02320\n"
     ]
    },
    {
     "data": {
      "text/plain": [
       "(16155, 33)"
      ]
     },
     "execution_count": 39,
     "metadata": {},
     "output_type": "execute_result"
    },
    {
     "name": "stdout",
     "output_type": "stream",
     "text": [
      "HTMCP-03-06-02330\n"
     ]
    },
    {
     "data": {
      "text/plain": [
       "(16175, 34)"
      ]
     },
     "execution_count": 39,
     "metadata": {},
     "output_type": "execute_result"
    },
    {
     "name": "stdout",
     "output_type": "stream",
     "text": [
      "HTMCP-03-06-02332\n"
     ]
    },
    {
     "data": {
      "text/plain": [
       "(16180, 35)"
      ]
     },
     "execution_count": 39,
     "metadata": {},
     "output_type": "execute_result"
    }
   ],
   "source": [
    "dfm = pd.DataFrame()\n",
    "for ix, f in df1.iterrows():\n",
    "    fl = '{0}{1}'.format(wkdir, f.peak_file)\n",
    "    pat = f.peak_file.split('.')[0]\n",
    "    dftmp = pd.read_csv(fl, sep='\\t', header=None, usecols=[0,1,2], low_memory=False)\n",
    "    dftmp = dftmp.drop_duplicates()\n",
    "    dftmp[pat] = 1\n",
    "    dftmp['ix'] = dftmp.apply(lambda x: '_'.join([str(x[0]), str(x[1]), str(x[2])]), axis=1)\n",
    "    dftmp = dftmp.drop([0,1,2], axis=1).set_index('ix')\n",
    "    if dfm.empty:\n",
    "        dfm = dftmp\n",
    "    else:\n",
    "        dfm = pd.merge(dfm, dftmp,left_index=True, right_index=True, how='outer' )\n"
   ]
  },
  {
   "cell_type": "code",
   "execution_count": 41,
   "metadata": {},
   "outputs": [
    {
     "data": {
      "text/html": [
       "<div>\n",
       "<style scoped>\n",
       "    .dataframe tbody tr th:only-of-type {\n",
       "        vertical-align: middle;\n",
       "    }\n",
       "\n",
       "    .dataframe tbody tr th {\n",
       "        vertical-align: top;\n",
       "    }\n",
       "\n",
       "    .dataframe thead th {\n",
       "        text-align: right;\n",
       "    }\n",
       "</style>\n",
       "<table border=\"1\" class=\"dataframe\">\n",
       "  <thead>\n",
       "    <tr style=\"text-align: right;\">\n",
       "      <th></th>\n",
       "      <th>HTMCP-03-06-02001</th>\n",
       "      <th>HTMCP-03-06-02006</th>\n",
       "      <th>HTMCP-03-06-02007</th>\n",
       "      <th>HTMCP-03-06-02012</th>\n",
       "      <th>HTMCP-03-06-02020</th>\n",
       "      <th>HTMCP-03-06-02026</th>\n",
       "      <th>HTMCP-03-06-02040</th>\n",
       "      <th>HTMCP-03-06-02042</th>\n",
       "      <th>HTMCP-03-06-02054</th>\n",
       "      <th>HTMCP-03-06-02058</th>\n",
       "      <th>...</th>\n",
       "      <th>HTMCP-03-06-02203</th>\n",
       "      <th>HTMCP-03-06-02205</th>\n",
       "      <th>HTMCP-03-06-02210</th>\n",
       "      <th>HTMCP-03-06-02214</th>\n",
       "      <th>HTMCP-03-06-02260</th>\n",
       "      <th>HTMCP-03-06-02266</th>\n",
       "      <th>HTMCP-03-06-02268</th>\n",
       "      <th>HTMCP-03-06-02320</th>\n",
       "      <th>HTMCP-03-06-02330</th>\n",
       "      <th>HTMCP-03-06-02332</th>\n",
       "    </tr>\n",
       "    <tr>\n",
       "      <th>ix</th>\n",
       "      <th></th>\n",
       "      <th></th>\n",
       "      <th></th>\n",
       "      <th></th>\n",
       "      <th></th>\n",
       "      <th></th>\n",
       "      <th></th>\n",
       "      <th></th>\n",
       "      <th></th>\n",
       "      <th></th>\n",
       "      <th></th>\n",
       "      <th></th>\n",
       "      <th></th>\n",
       "      <th></th>\n",
       "      <th></th>\n",
       "      <th></th>\n",
       "      <th></th>\n",
       "      <th></th>\n",
       "      <th></th>\n",
       "      <th></th>\n",
       "      <th></th>\n",
       "    </tr>\n",
       "  </thead>\n",
       "  <tbody>\n",
       "    <tr>\n",
       "      <th>10_100026007_100030006</th>\n",
       "      <td>0.0</td>\n",
       "      <td>0.0</td>\n",
       "      <td>1.0</td>\n",
       "      <td>1.0</td>\n",
       "      <td>1.0</td>\n",
       "      <td>0.0</td>\n",
       "      <td>1.0</td>\n",
       "      <td>0.0</td>\n",
       "      <td>0.0</td>\n",
       "      <td>0.0</td>\n",
       "      <td>...</td>\n",
       "      <td>1.0</td>\n",
       "      <td>0.0</td>\n",
       "      <td>0.0</td>\n",
       "      <td>0.0</td>\n",
       "      <td>0.0</td>\n",
       "      <td>1.0</td>\n",
       "      <td>0.0</td>\n",
       "      <td>0.0</td>\n",
       "      <td>0.0</td>\n",
       "      <td>0.0</td>\n",
       "    </tr>\n",
       "    <tr>\n",
       "      <th>10_100172941_100176940</th>\n",
       "      <td>1.0</td>\n",
       "      <td>1.0</td>\n",
       "      <td>1.0</td>\n",
       "      <td>1.0</td>\n",
       "      <td>1.0</td>\n",
       "      <td>1.0</td>\n",
       "      <td>1.0</td>\n",
       "      <td>0.0</td>\n",
       "      <td>1.0</td>\n",
       "      <td>1.0</td>\n",
       "      <td>...</td>\n",
       "      <td>1.0</td>\n",
       "      <td>0.0</td>\n",
       "      <td>1.0</td>\n",
       "      <td>1.0</td>\n",
       "      <td>1.0</td>\n",
       "      <td>1.0</td>\n",
       "      <td>1.0</td>\n",
       "      <td>1.0</td>\n",
       "      <td>1.0</td>\n",
       "      <td>1.0</td>\n",
       "    </tr>\n",
       "    <tr>\n",
       "      <th>10_100204684_100208683</th>\n",
       "      <td>1.0</td>\n",
       "      <td>1.0</td>\n",
       "      <td>1.0</td>\n",
       "      <td>1.0</td>\n",
       "      <td>1.0</td>\n",
       "      <td>1.0</td>\n",
       "      <td>1.0</td>\n",
       "      <td>1.0</td>\n",
       "      <td>1.0</td>\n",
       "      <td>1.0</td>\n",
       "      <td>...</td>\n",
       "      <td>1.0</td>\n",
       "      <td>1.0</td>\n",
       "      <td>1.0</td>\n",
       "      <td>1.0</td>\n",
       "      <td>1.0</td>\n",
       "      <td>1.0</td>\n",
       "      <td>1.0</td>\n",
       "      <td>1.0</td>\n",
       "      <td>1.0</td>\n",
       "      <td>1.0</td>\n",
       "    </tr>\n",
       "    <tr>\n",
       "      <th>10_100993619_100997618</th>\n",
       "      <td>0.0</td>\n",
       "      <td>0.0</td>\n",
       "      <td>0.0</td>\n",
       "      <td>1.0</td>\n",
       "      <td>0.0</td>\n",
       "      <td>0.0</td>\n",
       "      <td>0.0</td>\n",
       "      <td>0.0</td>\n",
       "      <td>0.0</td>\n",
       "      <td>0.0</td>\n",
       "      <td>...</td>\n",
       "      <td>1.0</td>\n",
       "      <td>0.0</td>\n",
       "      <td>0.0</td>\n",
       "      <td>0.0</td>\n",
       "      <td>0.0</td>\n",
       "      <td>1.0</td>\n",
       "      <td>1.0</td>\n",
       "      <td>0.0</td>\n",
       "      <td>0.0</td>\n",
       "      <td>0.0</td>\n",
       "    </tr>\n",
       "    <tr>\n",
       "      <th>10_101086857_101090856</th>\n",
       "      <td>0.0</td>\n",
       "      <td>0.0</td>\n",
       "      <td>0.0</td>\n",
       "      <td>0.0</td>\n",
       "      <td>0.0</td>\n",
       "      <td>0.0</td>\n",
       "      <td>0.0</td>\n",
       "      <td>0.0</td>\n",
       "      <td>0.0</td>\n",
       "      <td>0.0</td>\n",
       "      <td>...</td>\n",
       "      <td>0.0</td>\n",
       "      <td>0.0</td>\n",
       "      <td>1.0</td>\n",
       "      <td>0.0</td>\n",
       "      <td>0.0</td>\n",
       "      <td>0.0</td>\n",
       "      <td>0.0</td>\n",
       "      <td>0.0</td>\n",
       "      <td>0.0</td>\n",
       "      <td>0.0</td>\n",
       "    </tr>\n",
       "  </tbody>\n",
       "</table>\n",
       "<p>5 rows × 35 columns</p>\n",
       "</div>"
      ],
      "text/plain": [
       "                        HTMCP-03-06-02001  HTMCP-03-06-02006  \\\n",
       "ix                                                             \n",
       "10_100026007_100030006                0.0                0.0   \n",
       "10_100172941_100176940                1.0                1.0   \n",
       "10_100204684_100208683                1.0                1.0   \n",
       "10_100993619_100997618                0.0                0.0   \n",
       "10_101086857_101090856                0.0                0.0   \n",
       "\n",
       "                        HTMCP-03-06-02007  HTMCP-03-06-02012  \\\n",
       "ix                                                             \n",
       "10_100026007_100030006                1.0                1.0   \n",
       "10_100172941_100176940                1.0                1.0   \n",
       "10_100204684_100208683                1.0                1.0   \n",
       "10_100993619_100997618                0.0                1.0   \n",
       "10_101086857_101090856                0.0                0.0   \n",
       "\n",
       "                        HTMCP-03-06-02020  HTMCP-03-06-02026  \\\n",
       "ix                                                             \n",
       "10_100026007_100030006                1.0                0.0   \n",
       "10_100172941_100176940                1.0                1.0   \n",
       "10_100204684_100208683                1.0                1.0   \n",
       "10_100993619_100997618                0.0                0.0   \n",
       "10_101086857_101090856                0.0                0.0   \n",
       "\n",
       "                        HTMCP-03-06-02040  HTMCP-03-06-02042  \\\n",
       "ix                                                             \n",
       "10_100026007_100030006                1.0                0.0   \n",
       "10_100172941_100176940                1.0                0.0   \n",
       "10_100204684_100208683                1.0                1.0   \n",
       "10_100993619_100997618                0.0                0.0   \n",
       "10_101086857_101090856                0.0                0.0   \n",
       "\n",
       "                        HTMCP-03-06-02054  HTMCP-03-06-02058  \\\n",
       "ix                                                             \n",
       "10_100026007_100030006                0.0                0.0   \n",
       "10_100172941_100176940                1.0                1.0   \n",
       "10_100204684_100208683                1.0                1.0   \n",
       "10_100993619_100997618                0.0                0.0   \n",
       "10_101086857_101090856                0.0                0.0   \n",
       "\n",
       "                              ...          HTMCP-03-06-02203  \\\n",
       "ix                            ...                              \n",
       "10_100026007_100030006        ...                        1.0   \n",
       "10_100172941_100176940        ...                        1.0   \n",
       "10_100204684_100208683        ...                        1.0   \n",
       "10_100993619_100997618        ...                        1.0   \n",
       "10_101086857_101090856        ...                        0.0   \n",
       "\n",
       "                        HTMCP-03-06-02205  HTMCP-03-06-02210  \\\n",
       "ix                                                             \n",
       "10_100026007_100030006                0.0                0.0   \n",
       "10_100172941_100176940                0.0                1.0   \n",
       "10_100204684_100208683                1.0                1.0   \n",
       "10_100993619_100997618                0.0                0.0   \n",
       "10_101086857_101090856                0.0                1.0   \n",
       "\n",
       "                        HTMCP-03-06-02214  HTMCP-03-06-02260  \\\n",
       "ix                                                             \n",
       "10_100026007_100030006                0.0                0.0   \n",
       "10_100172941_100176940                1.0                1.0   \n",
       "10_100204684_100208683                1.0                1.0   \n",
       "10_100993619_100997618                0.0                0.0   \n",
       "10_101086857_101090856                0.0                0.0   \n",
       "\n",
       "                        HTMCP-03-06-02266  HTMCP-03-06-02268  \\\n",
       "ix                                                             \n",
       "10_100026007_100030006                1.0                0.0   \n",
       "10_100172941_100176940                1.0                1.0   \n",
       "10_100204684_100208683                1.0                1.0   \n",
       "10_100993619_100997618                1.0                1.0   \n",
       "10_101086857_101090856                0.0                0.0   \n",
       "\n",
       "                        HTMCP-03-06-02320  HTMCP-03-06-02330  \\\n",
       "ix                                                             \n",
       "10_100026007_100030006                0.0                0.0   \n",
       "10_100172941_100176940                1.0                1.0   \n",
       "10_100204684_100208683                1.0                1.0   \n",
       "10_100993619_100997618                0.0                0.0   \n",
       "10_101086857_101090856                0.0                0.0   \n",
       "\n",
       "                        HTMCP-03-06-02332  \n",
       "ix                                         \n",
       "10_100026007_100030006                0.0  \n",
       "10_100172941_100176940                1.0  \n",
       "10_100204684_100208683                1.0  \n",
       "10_100993619_100997618                0.0  \n",
       "10_101086857_101090856                0.0  \n",
       "\n",
       "[5 rows x 35 columns]"
      ]
     },
     "execution_count": 41,
     "metadata": {},
     "output_type": "execute_result"
    }
   ],
   "source": [
    "dfm = dfm.fillna(0)\n",
    "dfm.head()"
   ]
  },
  {
   "cell_type": "code",
   "execution_count": 42,
   "metadata": {},
   "outputs": [],
   "source": [
    "dfm.to_csv('{}H3K4me3.promoter.txt'.format(wkdir))"
   ]
  },
  {
   "cell_type": "code",
   "execution_count": null,
   "metadata": {},
   "outputs": [],
   "source": []
  },
  {
   "cell_type": "code",
   "execution_count": null,
   "metadata": {},
   "outputs": [],
   "source": []
  }
 ],
 "metadata": {
  "kernelspec": {
   "display_name": "Python 3",
   "language": "python",
   "name": "python3"
  },
  "language_info": {
   "codemirror_mode": {
    "name": "ipython",
    "version": 3
   },
   "file_extension": ".py",
   "mimetype": "text/x-python",
   "name": "python",
   "nbconvert_exporter": "python",
   "pygments_lexer": "ipython3",
   "version": "3.6.5"
  }
 },
 "nbformat": 4,
 "nbformat_minor": 2
}
