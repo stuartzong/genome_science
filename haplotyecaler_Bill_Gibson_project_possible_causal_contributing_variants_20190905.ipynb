{
 "cells": [
  {
   "cell_type": "markdown",
   "metadata": {},
   "source": [
    "Thanks very much - Veronica, Ru Chen and I went over the pedigrees this morning and reverified the identities. I have attached the sample list here.\n",
    "\n",
    "The sibship defined by B04522, B04523, B04524, B04525, B04526, B04527 and B04528 should all be compared to each other. Since B04523 and B04528 could not be collected, we are left with assuming B04522, B04524, B04525, B04526, B04527 are full sibs. Of those 5 samples, 3 are affected and 2 are unaffected. We are interested in the list of rare variants (either coding or non-coding) that are shared among the affecteds (B04522, B04524 and B04525) and not shared with the unaffecteds (B04526, B04527). \n",
    "These can be homozygous (autosomal recessive model) or heterozygous (autosomal dominant model).\n",
    "\n",
    "B04529 and B04530 are third cousins to each other, both affected. We are interested in the list of rare variants that are shared between them.\n",
    "\n",
    "The other samples are all individuals from different families, unrelated to each other. It is possible (though not likely, given what we know about the genetic architecture of nonsyndromic brain aneurysms) that one or more of these samples has a rare variant in or near a gene that is flagged by one of the above approaches.\n",
    "If there is an algorithmic way to approach that, I'd appreciate you letting me know, but as far as I am aware the onus will be on me to scroll through the variant lists for those individuals one at a time to see by eye whether any rare variants in these singletons are in the same genes as are flagged by the filtering of the multiplex sibship and/or the two third cousins."
   ]
  },
  {
   "cell_type": "markdown",
   "metadata": {},
   "source": [
    "# email correspondence to help filtering"
   ]
  },
  {
   "cell_type": "markdown",
   "metadata": {},
   "source": [
    "The set of samples IBA1863, IBA1823, IBA1801, IBA1837 as labelled here each represent individual affected members from multiplex families. For each of these we will want .vcf files that represent all rare coding variants present at a MAF of 0.01 or less in gnomAD. It is likely that these families each have a different causative allele, <font color='red'>so there is no rationale for overlapping them to exclude rare alleles from consideration.</font>\n",
    "\n",
    "It is possible that any two of them may have different causative alleles in the same gene, but that is not likely so we will analyse them in conjunction with other rare families we have.\n",
    "\n",
    "\n",
    "\n",
    "The two samples labelled \"IV-1\" and \"IV-2\" here will be provided with IBA numbers when we send them to you. As you can see, they are third cousins. Thus, we would want to analyse these samples together - the .vcf files we would want from these two can safely <font color='red'>be restricted to rare coding variants with a MAF of 0.01 or less in gnomAD that are shared between both individuals.</font>\n",
    "\n",
    "\n",
    "\n",
    "Lastly (though perhaps most importantly), the multiplex family II-1, II-2, II-3, II-4, II-5, II-6 and II-7.\n",
    "\n",
    "\n",
    "\n",
    "Here we are looking for rare coding variants that satisfy the following\n",
    "<font color='red'>\n",
    "\n",
    "criteria:\n",
    "\n",
    "\n",
    "\n",
    "1. MAF of 0.01 or less in gnomAD\n",
    "\n",
    "\n",
    "\n",
    "2. Shared among all 4 of II-1, II-2, II-4, II-5.\n",
    "\n",
    "\n",
    "\n",
    "AND\n",
    "\n",
    "\n",
    "\n",
    "3. Not shared with any of II-3, II-6 or II-7.\n",
    "</font>\n",
    "\n",
    "\n",
    "We would appreciate a quote for an SOW that satisfied the above parameters, with 40X coverage across the whole genome.\n",
    "\n",
    "\n",
    "\n",
    "Of course we are most interested in the variants that are predicted to be damaging. If CADD scores can be provided, that would be great, alongside predictions from SIFT, Polyphen, Mutation Taster and/or Align GVGD. I am not sure if there is a \"standard\" pipeline that you would use to call heterozygous dominant variants"
   ]
  },
  {
   "cell_type": "markdown",
   "metadata": {},
   "source": [
    "A haplotype is a group of genes within an organism that was inherited together from a single parent. The word \"haplotype\" is derived from the word \"haploid,\" which describes cells with only one set of chromosomes, and from the word \"genotype,\" which refers to the genetic makeup of an organism. A haplotype can describe a pair of genes inherited together from one parent on one chromosome, or it can describe all of the genes on a chromosome that were inherited together from a single parent. This group of genes was inherited together because of genetic linkage, or the phenomenon by which genes that are close to each other on the same chromosome are often inherited together. In addition, the term \"haplotype\" can also refer to the inheritance of a cluster of single nucleotide polymorphisms (SNPs), which are variations at single positions in the DNA sequence among individuals.\n",
    "\n",
    "By examining haplotypes, scientists can identify patterns of genetic variation that are associated with health and disease states. For instance, if a haplotype is associated with a certain disease, then scientists can examine stretches of DNA near the SNP cluster to try to identify the gene or genes responsible for causing the disease."
   ]
  },
  {
   "cell_type": "markdown",
   "metadata": {},
   "source": [
    "# annotations"
   ]
  },
  {
   "cell_type": "markdown",
   "metadata": {},
   "source": [
    "https://macarthurlab.org/2017/02/27/the-genome-aggregation-database-gnomad/"
   ]
  },
  {
   "cell_type": "code",
   "execution_count": 1,
   "metadata": {},
   "outputs": [],
   "source": [
    "import pandas as pd\n",
    "import numpy as np\n",
    "import re\n",
    "import matplotlib.pyplot as plt\n",
    "%load_ext autoreload\n",
    "%autoreload 2\n",
    "from IPython.core.interactiveshell import InteractiveShell\n",
    "InteractiveShell.ast_node_interactivity = \"all\""
   ]
  },
  {
   "cell_type": "code",
   "execution_count": 2,
   "metadata": {},
   "outputs": [],
   "source": [
    "wkdir = '/projects/da_workspace/DA-337/'"
   ]
  },
  {
   "cell_type": "code",
   "execution_count": 3,
   "metadata": {},
   "outputs": [],
   "source": [
    "siblibs = ['B04522', 'B04524', 'B04525', 'B04526', 'B04527']#'B04529' ,'B04530', 'B04531', 'B04533', 'B04534', 'B04532']"
   ]
  },
  {
   "cell_type": "markdown",
   "metadata": {},
   "source": [
    "# vcf v4.2 specification"
   ]
  },
  {
   "cell_type": "markdown",
   "metadata": {},
   "source": [
    "QUAL: −10log10prob(no variant)\n",
    "\n",
    "AC : allele count in genotypes, for each ALT allele, in the same order as listed, it is the alternativew allele count for all samples. AC=3 means 3 alt alleles found in 5 individuals in this case.\n",
    "\n",
    "AF : allele frequency for each ALT allele in the same order as listed: use this when estimated from primary\n",
    "data, not called genotypes, AF= AC/AN\n",
    "\n",
    "AN : total number of alleles in called genotypes, in this case AN=10, 5 diploid samples\n",
    "\n",
    "BQ : RMS base quality at this position\n",
    "\n",
    "DB : dbSNP membership\n",
    "\n",
    "DP : combined depth across samples, e.g. DP=154\n",
    "\n",
    "GT : genotype, encoded as allele values separated by either of / or |. The allele values are 0 for the reference\n",
    "allele (what is in the REF field), 1 for the first allele listed in ALT, 2 for the second allele list in ALT and\n",
    "so on. For diploid calls examples could be 0/1, 1 | 0, or 1/2, etc. For haploid calls, e.g. on Y, male nonpseudoautosomal X, or mitochondrion, only one allele value should be given; a triploid call might look like\n",
    "0/0/1. If a call cannot be made for a sample at a given locus, ‘.’ should be specified for each missing allele\n",
    "5\n",
    "\n",
    "in the GT field (for example ‘./.’ for a diploid genotype and ‘.’ for haploid genotype). The meanings of the\n",
    "separators are as follows (see the PS field below for more details on incorporating phasing information into the\n",
    "genotypes):\n",
    "\n",
    "◦ / : genotype unphased\n",
    "\n",
    "◦ | : genotype phased\n",
    "\n",
    "GL : genotype likelihoods comprised of comma separated floating point log10-scaled likelihoods for all possible\n",
    "genotypes given the set of alleles defined in the REF and ALT fields. In presence of the GT field the same\n",
    "ploidy is expected and the canonical order is used; without GT field, diploidy is assumed. If A is the allele in\n",
    "REF and B,C,... are the alleles as ordered in ALT, the ordering of genotypes for the likelihoods is given by:\n",
    "F(j/k) = (k*(k+1)/2)+j. In other words, for biallelic sites the ordering is: AA,AB,BB; for triallelic sites the\n",
    "ordering is: AA,AB,BB,AC,BC,CC, etc. For example: GT:GL 0/1:-323.03,-99.29,-802.53 (Floats)\n",
    "\n",
    "\n",
    "DP : read depth at this position for this sample (Integer)\n",
    "\n",
    "GQ : conditional genotype quality, encoded as a phred quality −10log10 p(genotype call is wrong, conditioned\n",
    "on the site’s being variant) (Integer)\n",
    "\n",
    "PL : the phred-scaled genotype likelihoods rounded to the closest integer (and otherwise defined precisely as\n",
    "the GL field) (Integers)\n",
    "\n",
    "Phasing:  \n",
    "If the GTs in the VCF have the pipe symbol instead of the forward slash, i.e., 1|0, 1|1, or 0|1, it means that we know which variants were called on the same paternal or maternal chromosome, i.e., the same haplotype. To get this level of information, faithfully, requires a special type of sample prep that I won't go into right now. To interpret this data, all variants reported on the left of the pipe symbol will be on the same haplotype, whilst all on the right will be on the another.\n"
   ]
  },
  {
   "cell_type": "markdown",
   "metadata": {},
   "source": [
    "20 14370 rs6054257 G A 29 PASS NS=3;DP=14;AF=0.5;DB;H2 GT:GQ:DP:HQ 0|0:48:1:51,51 1|0:48:8:51,51 1/1:43:5:.,.  \n",
    "20 17330 . T A 3 q10 NS=3;DP=11;AF=0.017 GT:GQ:DP:HQ 0|0:49:3:58,50 0|1:3:5:65,3 0/0:41:3  \n",
    "20 1110696 rs6040355 A G,T 67 PASS NS=2;DP=10;AF=0.333,0.667;AA=T;DB GT:GQ:DP:HQ 1|2:21:6:23,27 2|1:2:0:18,2 2/2:35:4  \n",
    "20 1230237 . T . 47 PASS NS=3;DP=13;AA=T GT:GQ:DP:HQ 0|0:54:7:56,60 0|0:48:4:51,51 0/0:61:2  \n",
    "20 1234567 microsat1 GTC G,GTCT 50 PASS NS=3;DP=9;AA=G GT:GQ:DP 0/1:35:4 0/2:17:2 1/1:40:3  \n",
    "This example shows (in order): a good simple SNP, a possible SNP that has been filtered out because its quality is\n",
    "below 10, a site at which two alternate alleles are called, with one of them (T) being ancestral (possibly a reference\n",
    "sequencing error), a site that is called monomorphic reference (i.e. with no alternate alleles), and a microsatellite with\n",
    "two alternative alleles, one a deletion of 2 bases (TC), and the other an insertion of one base (T). Genotype data are\n",
    "given for three samples, two of which are phased and the third unphased, with per sample genotype quality, depth\n",
    "and haplotype qualities (the latter only for the phased samples) given as well as the genotypes. The microsatellite\n",
    "calls are unphased."
   ]
  },
  {
   "cell_type": "markdown",
   "metadata": {},
   "source": [
    "# get GT: genotype for each sample"
   ]
  },
  {
   "cell_type": "code",
   "execution_count": 3,
   "metadata": {},
   "outputs": [
    {
     "ename": "NameError",
     "evalue": "name 'dft' is not defined",
     "output_type": "error",
     "traceback": [
      "\u001b[0;31m---------------------------------------------------------------------------\u001b[0m",
      "\u001b[0;31mNameError\u001b[0m                                 Traceback (most recent call last)",
      "\u001b[0;32m<ipython-input-3-cddcdf931676>\u001b[0m in \u001b[0;36m<module>\u001b[0;34m\u001b[0m\n\u001b[0;32m----> 1\u001b[0;31m \u001b[0mlibs\u001b[0m \u001b[0;34m=\u001b[0m \u001b[0;34m[\u001b[0m\u001b[0mi\u001b[0m \u001b[0;32mfor\u001b[0m \u001b[0mi\u001b[0m \u001b[0;32min\u001b[0m \u001b[0mdft\u001b[0m\u001b[0;34m.\u001b[0m\u001b[0mcolumns\u001b[0m \u001b[0;32mif\u001b[0m \u001b[0mi\u001b[0m\u001b[0;34m.\u001b[0m\u001b[0mstartswith\u001b[0m\u001b[0;34m(\u001b[0m\u001b[0;34m'B'\u001b[0m\u001b[0;34m)\u001b[0m\u001b[0;34m]\u001b[0m\u001b[0;34m\u001b[0m\u001b[0;34m\u001b[0m\u001b[0m\n\u001b[0m\u001b[1;32m      2\u001b[0m \u001b[0;34m\u001b[0m\u001b[0m\n\u001b[1;32m      3\u001b[0m \u001b[0mtarget_cols\u001b[0m \u001b[0;34m=\u001b[0m \u001b[0;34m[\u001b[0m\u001b[0;34m'GT'\u001b[0m\u001b[0;34m]\u001b[0m\u001b[0;34m\u001b[0m\u001b[0;34m\u001b[0m\u001b[0m\n\u001b[1;32m      4\u001b[0m \u001b[0;32mdef\u001b[0m \u001b[0mx_gt\u001b[0m\u001b[0;34m(\u001b[0m\u001b[0mfmtstr\u001b[0m\u001b[0;34m,\u001b[0m \u001b[0mx\u001b[0m\u001b[0;34m,\u001b[0m \u001b[0mtarget_cols\u001b[0m\u001b[0;34m)\u001b[0m\u001b[0;34m:\u001b[0m\u001b[0;34m\u001b[0m\u001b[0;34m\u001b[0m\u001b[0m\n\u001b[1;32m      5\u001b[0m     \u001b[0mfmtstr\u001b[0m \u001b[0;34m=\u001b[0m \u001b[0mfmtstr\u001b[0m\u001b[0;34m.\u001b[0m\u001b[0msplit\u001b[0m\u001b[0;34m(\u001b[0m\u001b[0;34m':'\u001b[0m\u001b[0;34m)\u001b[0m\u001b[0;34m\u001b[0m\u001b[0;34m\u001b[0m\u001b[0m\n",
      "\u001b[0;31mNameError\u001b[0m: name 'dft' is not defined"
     ]
    }
   ],
   "source": [
    "libs = [i for i in dft.columns if i.startswith('B')]\n",
    "\n",
    "target_cols = ['GT']\n",
    "def x_gt(fmtstr, x, target_cols):\n",
    "    fmtstr = fmtstr.split(':')\n",
    "    x = x.split(':')\n",
    "    d = {k:v for k, v in zip(fmtstr, x)}\n",
    "    return [d[i] for i in target_cols]\n",
    "#     print(d)"
   ]
  },
  {
   "cell_type": "code",
   "execution_count": 90,
   "metadata": {},
   "outputs": [
    {
     "data": {
      "text/plain": [
       "['0/0', '94,0', '94']"
      ]
     },
     "execution_count": 90,
     "metadata": {},
     "output_type": "execute_result"
    }
   ],
   "source": [
    "x_gt('GT:AD:DP:GQ:PL', '0/0:94,0:94:0:0,0,905', ['GT', 'AD', 'DP'])"
   ]
  },
  {
   "cell_type": "code",
   "execution_count": 1,
   "metadata": {},
   "outputs": [
    {
     "ename": "NameError",
     "evalue": "name 'df' is not defined",
     "output_type": "error",
     "traceback": [
      "\u001b[0;31m---------------------------------------------------------------------------\u001b[0m",
      "\u001b[0;31mNameError\u001b[0m                                 Traceback (most recent call last)",
      "\u001b[0;32m<ipython-input-1-0b0e19957dcf>\u001b[0m in \u001b[0;36m<module>\u001b[0;34m\u001b[0m\n\u001b[1;32m      1\u001b[0m \u001b[0mtarget_cols\u001b[0m \u001b[0;34m=\u001b[0m \u001b[0;34m[\u001b[0m\u001b[0;34m'GT'\u001b[0m\u001b[0;34m]\u001b[0m\u001b[0;31m#, 'AD', 'DP']\u001b[0m\u001b[0;34m\u001b[0m\u001b[0;34m\u001b[0m\u001b[0m\n\u001b[1;32m      2\u001b[0m \u001b[0mgts\u001b[0m \u001b[0;34m=\u001b[0m \u001b[0;34m[\u001b[0m\u001b[0;34m]\u001b[0m\u001b[0;34m\u001b[0m\u001b[0;34m\u001b[0m\u001b[0m\n\u001b[0;32m----> 3\u001b[0;31m \u001b[0;32mfor\u001b[0m \u001b[0mix\u001b[0m\u001b[0;34m,\u001b[0m \u001b[0mrow\u001b[0m \u001b[0;32min\u001b[0m \u001b[0mdf\u001b[0m\u001b[0;34m.\u001b[0m\u001b[0mhead\u001b[0m\u001b[0;34m(\u001b[0m\u001b[0;34m)\u001b[0m\u001b[0;34m.\u001b[0m\u001b[0miterrows\u001b[0m\u001b[0;34m(\u001b[0m\u001b[0;34m)\u001b[0m\u001b[0;34m:\u001b[0m\u001b[0;34m\u001b[0m\u001b[0;34m\u001b[0m\u001b[0m\n\u001b[0m\u001b[1;32m      4\u001b[0m     \u001b[0mgt\u001b[0m \u001b[0;34m=\u001b[0m \u001b[0;34m[\u001b[0m\u001b[0;34m]\u001b[0m\u001b[0;34m\u001b[0m\u001b[0;34m\u001b[0m\u001b[0m\n\u001b[1;32m      5\u001b[0m     \u001b[0mfmtstr\u001b[0m \u001b[0;34m=\u001b[0m \u001b[0mrow\u001b[0m\u001b[0;34m[\u001b[0m\u001b[0;34m'FORMAT'\u001b[0m\u001b[0;34m]\u001b[0m\u001b[0;34m\u001b[0m\u001b[0;34m\u001b[0m\u001b[0m\n",
      "\u001b[0;31mNameError\u001b[0m: name 'df' is not defined"
     ]
    }
   ],
   "source": [
    "target_cols = ['GT']#, 'AD', 'DP']\n",
    "gts = []\n",
    "for ix, row in df.head().iterrows():\n",
    "    gt = []\n",
    "    fmtstr = row['FORMAT']\n",
    "    for lib in libs:\n",
    "        x = row[lib]\n",
    "        gt.append(x_gt(fmtstr, x, target_cols)[0])\n",
    "    gts.append(gt)\n",
    "# print(gts)\n",
    "dfgt = pd.DataFrame(gts)\n",
    "dfgt.columns = ['_'.join([lib, 'GT']) for lib in libs]\n",
    "dfgt.head()"
   ]
  },
  {
   "cell_type": "markdown",
   "metadata": {},
   "source": [
    " affecteds (B04522, B04524 and B04525) and not shared with the unaffecteds (B04526, B04527)"
   ]
  },
  {
   "cell_type": "markdown",
   "metadata": {},
   "source": [
    "# FILTER field does not equate PASS should be filter out, they failed FILTER"
   ]
  },
  {
   "cell_type": "markdown",
   "metadata": {},
   "source": [
    "# annotated vcf"
   ]
  },
  {
   "cell_type": "code",
   "execution_count": 4,
   "metadata": {},
   "outputs": [
    {
     "data": {
      "text/html": [
       "<div>\n",
       "<style scoped>\n",
       "    .dataframe tbody tr th:only-of-type {\n",
       "        vertical-align: middle;\n",
       "    }\n",
       "\n",
       "    .dataframe tbody tr th {\n",
       "        vertical-align: top;\n",
       "    }\n",
       "\n",
       "    .dataframe thead th {\n",
       "        text-align: right;\n",
       "    }\n",
       "</style>\n",
       "<table border=\"1\" class=\"dataframe\">\n",
       "  <thead>\n",
       "    <tr style=\"text-align: right;\">\n",
       "      <th></th>\n",
       "      <th>CHROM</th>\n",
       "      <th>POS</th>\n",
       "      <th>ID</th>\n",
       "      <th>REF</th>\n",
       "      <th>ALT</th>\n",
       "      <th>QUAL</th>\n",
       "      <th>FILTER</th>\n",
       "      <th>INFO</th>\n",
       "      <th>FORMAT</th>\n",
       "      <th>B04522</th>\n",
       "      <th>B04524</th>\n",
       "      <th>B04525</th>\n",
       "      <th>B04526</th>\n",
       "      <th>B04527</th>\n",
       "    </tr>\n",
       "  </thead>\n",
       "  <tbody>\n",
       "    <tr>\n",
       "      <th>0</th>\n",
       "      <td>1</td>\n",
       "      <td>10146</td>\n",
       "      <td>rs779258992</td>\n",
       "      <td>AC</td>\n",
       "      <td>A</td>\n",
       "      <td>207.23</td>\n",
       "      <td>PASS</td>\n",
       "      <td>AC=1;AF=0.100;AN=10;BaseQRankSum=-6.830e-01;DB...</td>\n",
       "      <td>GT:AD:DP:GQ:PL</td>\n",
       "      <td>0/0:94,0:94:0:0,0,905</td>\n",
       "      <td>0/0:105,0:105:63:0,63,2541</td>\n",
       "      <td>0/0:130,0:130:14:0,14,3038</td>\n",
       "      <td>0/1:2,10:12:30:216,0,30</td>\n",
       "      <td>0/0:118,0:118:85:0,85,3066</td>\n",
       "    </tr>\n",
       "    <tr>\n",
       "      <th>1</th>\n",
       "      <td>1</td>\n",
       "      <td>10403</td>\n",
       "      <td>.</td>\n",
       "      <td>ACCCTAACCCTAACCCTAACCCTAACCCTAACCCTAAC</td>\n",
       "      <td>A</td>\n",
       "      <td>132.33</td>\n",
       "      <td>PASS</td>\n",
       "      <td>AC=1;AF=0.100;AN=10;BaseQRankSum=-2.400e-02;DP...</td>\n",
       "      <td>GT:AD:DP:GQ:PGT:PID:PL</td>\n",
       "      <td>0/0:101,0:101:0:.:.:0,0,2695</td>\n",
       "      <td>0/1:8,5:13:99:0|1:10403_ACCCTAACCCTAACCCTAACCC...</td>\n",
       "      <td>0/0:115,0:115:55:.:.:0,55,3276</td>\n",
       "      <td>0/0:120,0:120:0:.:.:0,0,2770</td>\n",
       "      <td>0/0:136,0:136:15:.:.:0,15,3309</td>\n",
       "    </tr>\n",
       "  </tbody>\n",
       "</table>\n",
       "</div>"
      ],
      "text/plain": [
       "  CHROM    POS           ID                                     REF ALT  \\\n",
       "0     1  10146  rs779258992                                      AC   A   \n",
       "1     1  10403            .  ACCCTAACCCTAACCCTAACCCTAACCCTAACCCTAAC   A   \n",
       "\n",
       "     QUAL FILTER                                               INFO  \\\n",
       "0  207.23   PASS  AC=1;AF=0.100;AN=10;BaseQRankSum=-6.830e-01;DB...   \n",
       "1  132.33   PASS  AC=1;AF=0.100;AN=10;BaseQRankSum=-2.400e-02;DP...   \n",
       "\n",
       "                   FORMAT                        B04522  \\\n",
       "0          GT:AD:DP:GQ:PL         0/0:94,0:94:0:0,0,905   \n",
       "1  GT:AD:DP:GQ:PGT:PID:PL  0/0:101,0:101:0:.:.:0,0,2695   \n",
       "\n",
       "                                              B04524  \\\n",
       "0                         0/0:105,0:105:63:0,63,2541   \n",
       "1  0/1:8,5:13:99:0|1:10403_ACCCTAACCCTAACCCTAACCC...   \n",
       "\n",
       "                           B04525                        B04526  \\\n",
       "0      0/0:130,0:130:14:0,14,3038       0/1:2,10:12:30:216,0,30   \n",
       "1  0/0:115,0:115:55:.:.:0,55,3276  0/0:120,0:120:0:.:.:0,0,2770   \n",
       "\n",
       "                           B04527  \n",
       "0      0/0:118,0:118:85:0,85,3066  \n",
       "1  0/0:136,0:136:15:.:.:0,15,3309  "
      ]
     },
     "execution_count": 4,
     "metadata": {},
     "output_type": "execute_result"
    }
   ],
   "source": [
    "f = '/projects/da_workspace/DA-337/haplotype/B04522_27/haplotype_caller-1.1.4/joint/B04522_B04524_B04525_B04526_B04527/379/joint_calling.exclude_no_variation.snpeff.hg19_multianno.vcf.gz'\n",
    "df = pd.read_csv(f, sep='\\t', comment='#', compression='gzip', low_memory=False, header=None)\n",
    "df.columns = ['CHROM', 'POS','ID', 'REF', 'ALT', 'QUAL', 'FILTER', 'INFO', \n",
    "              'FORMAT', 'B04522', 'B04524', 'B04525', 'B04526', 'B04527']\n",
    "df.head(2)"
   ]
  },
  {
   "cell_type": "code",
   "execution_count": 5,
   "metadata": {},
   "outputs": [
    {
     "data": {
      "text/plain": [
       "(7040126, 14)"
      ]
     },
     "execution_count": 5,
     "metadata": {},
     "output_type": "execute_result"
    }
   ],
   "source": [
    "df.shape"
   ]
  },
  {
   "cell_type": "code",
   "execution_count": 6,
   "metadata": {},
   "outputs": [],
   "source": [
    "# filter step by  step\n",
    "df = df[df.FILTER=='PASS']"
   ]
  },
  {
   "cell_type": "code",
   "execution_count": 7,
   "metadata": {},
   "outputs": [
    {
     "data": {
      "text/plain": [
       "(6293924, 14)"
      ]
     },
     "execution_count": 7,
     "metadata": {},
     "output_type": "execute_result"
    }
   ],
   "source": [
    "df.shape"
   ]
  },
  {
   "cell_type": "code",
   "execution_count": 8,
   "metadata": {},
   "outputs": [],
   "source": [
    "def get_gnomAD_anno(info):\n",
    "    sps = [(i.split('=')) for i in info.split(';')[:-1]]\n",
    "#     sps  = [(i.split('=')) for i in items]\n",
    "    d = {i[0]: i[1] for i in sps if len(i) == 2}\n",
    "    ks = ['cosmic70',  'ExAC_ALL', 'gnomAD_genome_ALL'] #'Gene.refGene', 'AAChange.refGene',\n",
    "#     return {k: d[k] for k in ks}\n",
    "    return pd.Series([d[k] for k in ks])"
   ]
  },
  {
   "cell_type": "code",
   "execution_count": 9,
   "metadata": {},
   "outputs": [
    {
     "ename": "NameError",
     "evalue": "name 'dfsub' is not defined",
     "output_type": "error",
     "traceback": [
      "\u001b[0;31m---------------------------------------------------------------------------\u001b[0m",
      "\u001b[0;31mNameError\u001b[0m                                 Traceback (most recent call last)",
      "\u001b[0;32m<ipython-input-9-d5d172b3dc0b>\u001b[0m in \u001b[0;36m<module>\u001b[0;34m\u001b[0m\n\u001b[0;32m----> 1\u001b[0;31m \u001b[0mget_gnomAD_anno\u001b[0m\u001b[0;34m(\u001b[0m\u001b[0mdfsub\u001b[0m\u001b[0;34m.\u001b[0m\u001b[0mloc\u001b[0m\u001b[0;34m[\u001b[0m\u001b[0;36m27\u001b[0m\u001b[0;34m,\u001b[0m \u001b[0;34m'INFO'\u001b[0m\u001b[0;34m]\u001b[0m\u001b[0;34m)\u001b[0m\u001b[0;34m\u001b[0m\u001b[0;34m\u001b[0m\u001b[0m\n\u001b[0m",
      "\u001b[0;31mNameError\u001b[0m: name 'dfsub' is not defined"
     ]
    }
   ],
   "source": [
    "# get_gnomAD_anno(dfsub.loc[27, 'INFO'])"
   ]
  },
  {
   "cell_type": "code",
   "execution_count": 10,
   "metadata": {},
   "outputs": [],
   "source": [
    "# keep it easy for now pick HIGH, MODERATE and then LOW and the first transcript. could pull out all transcripts if needed\n",
    "def get_annotations(info):\n",
    "    effs = info.split('EFF=')[1].split(',')\n",
    "#     effs = eff_line.split(',')\n",
    "    #     extract impact, impact_type, amino acid change, and gene\n",
    "    effs = ['@'.join(list(np.array(re.split('\\(|\\|',ef))[[0,1,2,4,6,9]])) for ef in effs if ('HIGH' in  ef) or ('MODERATE' in ef) or ('LOW' in ef)]\n",
    "    effs = list(set(effs))\n",
    "    high = [ef for ef in effs if 'HIGH' in ef]\n",
    "    moderate = [ef for ef in effs if 'MODERATE' in ef]\n",
    "    low = [ef for ef in effs if 'LOW' in ef]\n",
    "#     print(high, moderate, low)\n",
    "    if high:\n",
    "#         anno = '$'.join(high)\n",
    "        anno = high[0]\n",
    "    elif moderate:\n",
    "#         anno = '$'.join(moderate)\n",
    "        anno = moderate[0]\n",
    "    elif low:\n",
    "#         anno = '$'.join(low)\n",
    "        anno = low[0]\n",
    "    else:\n",
    "        print('ERROR!')\n",
    "        pass\n",
    "#     make sure the genes have the same name\n",
    "#     genes = [ef.split('@')[2] for ef in effs]\n",
    "#     print(anno)\n",
    "    # anno= list of annotations\n",
    "    return pd.Series(anno.split('@'))\n"
   ]
  },
  {
   "cell_type": "code",
   "execution_count": 11,
   "metadata": {},
   "outputs": [
    {
     "data": {
      "text/plain": [
       "0    splice_donor_variant+splice_region_variant+int...\n",
       "1                                                 HIGH\n",
       "2                                                     \n",
       "3                                   n.734+2_734+3delAG\n",
       "4                                              DDX11L1\n",
       "5                                      ENST00000518655\n",
       "dtype: object"
      ]
     },
     "execution_count": 11,
     "metadata": {},
     "output_type": "execute_result"
    }
   ],
   "source": [
    "get_annotations(df.loc[27, 'INFO'])"
   ]
  },
  {
   "cell_type": "code",
   "execution_count": 13,
   "metadata": {},
   "outputs": [],
   "source": [
    "libs = [i for i in df.columns if i.startswith('B')]\n",
    "target_feat = 'GT'"
   ]
  },
  {
   "cell_type": "code",
   "execution_count": 14,
   "metadata": {},
   "outputs": [],
   "source": [
    "def get_genotype(target_feat, features, x):\n",
    "    feats = features.split(':')\n",
    "    x = x.split(':')\n",
    "    d = {k:v for k, v in zip(feats, x)}\n",
    "    return d[target_feat]"
   ]
  },
  {
   "cell_type": "code",
   "execution_count": 15,
   "metadata": {},
   "outputs": [
    {
     "data": {
      "text/plain": [
       "'0/1'"
      ]
     },
     "execution_count": 15,
     "metadata": {},
     "output_type": "execute_result"
    }
   ],
   "source": [
    "get_genotype(target_feat, 'GT:AD:DP:GQ:PL',  '0/1:36,23:59:99:827,0,1516')"
   ]
  },
  {
   "cell_type": "code",
   "execution_count": 16,
   "metadata": {},
   "outputs": [
    {
     "name": "stderr",
     "output_type": "stream",
     "text": [
      "/projects/da_workspace/software/miniconda/envs/da/lib/python3.7/site-packages/pandas/core/frame.py:3391: SettingWithCopyWarning: \n",
      "A value is trying to be set on a copy of a slice from a DataFrame.\n",
      "Try using .loc[row_indexer,col_indexer] = value instead\n",
      "\n",
      "See the caveats in the documentation: http://pandas.pydata.org/pandas-docs/stable/indexing.html#indexing-view-versus-copy\n",
      "  self[k1] = value[k2]\n",
      "/projects/da_workspace/software/miniconda/envs/da/lib/python3.7/site-packages/ipykernel_launcher.py:6: SettingWithCopyWarning: \n",
      "A value is trying to be set on a copy of a slice from a DataFrame.\n",
      "Try using .loc[row_indexer,col_indexer] = value instead\n",
      "\n",
      "See the caveats in the documentation: http://pandas.pydata.org/pandas-docs/stable/indexing.html#indexing-view-versus-copy\n",
      "  \n",
      "/projects/da_workspace/software/miniconda/envs/da/lib/python3.7/site-packages/pandas/core/frame.py:3940: SettingWithCopyWarning: \n",
      "A value is trying to be set on a copy of a slice from a DataFrame\n",
      "\n",
      "See the caveats in the documentation: http://pandas.pydata.org/pandas-docs/stable/indexing.html#indexing-view-versus-copy\n",
      "  errors=errors)\n"
     ]
    }
   ],
   "source": [
    "dfhml = df[(df['INFO'].str.contains(\"HIGH\"))|(df['INFO'].str.contains(\"MODERATE\"))|(df['INFO'].str.contains(\"LOW\"))]\n",
    "if not dfhml.empty:\n",
    "    dfhml[['variant', 'impact','mutation_type','aa_change','gene','transcript']] = dfhml['INFO'].apply(lambda x: get_annotations(x))   \n",
    "    dfhml[['cosmic70',  'ExAC_ALL', 'gnomAD_genome_ALL']] = dfhml['INFO'].apply(lambda x: get_gnomAD_anno(x))\n",
    "    for lib in libs:\n",
    "        dfhml['_'.join([lib, 'gt'])] = dfhml[['FORMAT', lib]].apply(lambda x: get_genotype(target_feat, x['FORMAT'], x[lib]), axis=1)\n",
    "    dfhml.drop(['INFO', 'FILTER'], axis=1, inplace=True)"
   ]
  },
  {
   "cell_type": "code",
   "execution_count": 17,
   "metadata": {},
   "outputs": [
    {
     "data": {
      "text/plain": [
       "(46321, 26)"
      ]
     },
     "execution_count": 17,
     "metadata": {},
     "output_type": "execute_result"
    }
   ],
   "source": [
    "dfhml.shape"
   ]
  },
  {
   "cell_type": "code",
   "execution_count": 18,
   "metadata": {},
   "outputs": [
    {
     "data": {
      "text/html": [
       "<div>\n",
       "<style scoped>\n",
       "    .dataframe tbody tr th:only-of-type {\n",
       "        vertical-align: middle;\n",
       "    }\n",
       "\n",
       "    .dataframe tbody tr th {\n",
       "        vertical-align: top;\n",
       "    }\n",
       "\n",
       "    .dataframe thead th {\n",
       "        text-align: right;\n",
       "    }\n",
       "</style>\n",
       "<table border=\"1\" class=\"dataframe\">\n",
       "  <thead>\n",
       "    <tr style=\"text-align: right;\">\n",
       "      <th></th>\n",
       "      <th>CHROM</th>\n",
       "      <th>POS</th>\n",
       "      <th>ID</th>\n",
       "      <th>REF</th>\n",
       "      <th>ALT</th>\n",
       "      <th>QUAL</th>\n",
       "      <th>FORMAT</th>\n",
       "      <th>B04522</th>\n",
       "      <th>B04524</th>\n",
       "      <th>B04525</th>\n",
       "      <th>...</th>\n",
       "      <th>gene</th>\n",
       "      <th>transcript</th>\n",
       "      <th>cosmic70</th>\n",
       "      <th>ExAC_ALL</th>\n",
       "      <th>gnomAD_genome_ALL</th>\n",
       "      <th>B04522_gt</th>\n",
       "      <th>B04524_gt</th>\n",
       "      <th>B04525_gt</th>\n",
       "      <th>B04526_gt</th>\n",
       "      <th>B04527_gt</th>\n",
       "    </tr>\n",
       "  </thead>\n",
       "  <tbody>\n",
       "    <tr>\n",
       "      <th>27</th>\n",
       "      <td>1</td>\n",
       "      <td>13656</td>\n",
       "      <td>.</td>\n",
       "      <td>CAG</td>\n",
       "      <td>C</td>\n",
       "      <td>4649.20</td>\n",
       "      <td>GT:AD:DP:GQ:PL</td>\n",
       "      <td>0/1:36,23:59:99:827,0,1516</td>\n",
       "      <td>0/1:35,22:57:99:803,0,1400</td>\n",
       "      <td>0/1:28,24:52:99:892,0,1108</td>\n",
       "      <td>...</td>\n",
       "      <td>DDX11L1</td>\n",
       "      <td>ENST00000518655</td>\n",
       "      <td>.</td>\n",
       "      <td>.</td>\n",
       "      <td>0.4901</td>\n",
       "      <td>0/1</td>\n",
       "      <td>0/1</td>\n",
       "      <td>0/1</td>\n",
       "      <td>0/1</td>\n",
       "      <td>0/1</td>\n",
       "    </tr>\n",
       "    <tr>\n",
       "      <th>54</th>\n",
       "      <td>1</td>\n",
       "      <td>15903</td>\n",
       "      <td>rs557514207</td>\n",
       "      <td>G</td>\n",
       "      <td>GC</td>\n",
       "      <td>1173.20</td>\n",
       "      <td>GT:AD:DP:GQ:PL</td>\n",
       "      <td>1/1:0,7:7:21:249,21,0</td>\n",
       "      <td>1/1:0,11:11:33:392,33,0</td>\n",
       "      <td>1/1:0,8:8:24:285,24,0</td>\n",
       "      <td>...</td>\n",
       "      <td>WASH7P</td>\n",
       "      <td>ENST00000438504</td>\n",
       "      <td>.</td>\n",
       "      <td>.</td>\n",
       "      <td>0.5042</td>\n",
       "      <td>1/1</td>\n",
       "      <td>1/1</td>\n",
       "      <td>1/1</td>\n",
       "      <td>./.</td>\n",
       "      <td>1/1</td>\n",
       "    </tr>\n",
       "    <tr>\n",
       "      <th>2167</th>\n",
       "      <td>1</td>\n",
       "      <td>877831</td>\n",
       "      <td>rs6672356</td>\n",
       "      <td>T</td>\n",
       "      <td>C</td>\n",
       "      <td>8712.01</td>\n",
       "      <td>GT:AD:DP:GQ:PL</td>\n",
       "      <td>1/1:0,42:42:99:1772,126,0</td>\n",
       "      <td>1/1:0,47:47:99:1962,141,0</td>\n",
       "      <td>1/1:0,33:33:99:1364,99,0</td>\n",
       "      <td>...</td>\n",
       "      <td>SAMD11</td>\n",
       "      <td>ENST00000455979</td>\n",
       "      <td>.</td>\n",
       "      <td>0.9999</td>\n",
       "      <td>0.9998</td>\n",
       "      <td>1/1</td>\n",
       "      <td>1/1</td>\n",
       "      <td>1/1</td>\n",
       "      <td>1/1</td>\n",
       "      <td>1/1</td>\n",
       "    </tr>\n",
       "    <tr>\n",
       "      <th>2169</th>\n",
       "      <td>1</td>\n",
       "      <td>879317</td>\n",
       "      <td>rs7523549</td>\n",
       "      <td>C</td>\n",
       "      <td>T</td>\n",
       "      <td>1601.96</td>\n",
       "      <td>GT:AD:DP:GQ:PL</td>\n",
       "      <td>0/1:19,11:30:99:270,0,713</td>\n",
       "      <td>0/0:29,0:29:78:0,78,1170</td>\n",
       "      <td>0/1:13,20:33:99:667,0,460</td>\n",
       "      <td>...</td>\n",
       "      <td>SAMD11</td>\n",
       "      <td>ENST00000342066</td>\n",
       "      <td>.</td>\n",
       "      <td>0.0480</td>\n",
       "      <td>0.0820</td>\n",
       "      <td>0/1</td>\n",
       "      <td>0/0</td>\n",
       "      <td>0/1</td>\n",
       "      <td>0/1</td>\n",
       "      <td>0/1</td>\n",
       "    </tr>\n",
       "    <tr>\n",
       "      <th>2175</th>\n",
       "      <td>1</td>\n",
       "      <td>881627</td>\n",
       "      <td>rs2272757</td>\n",
       "      <td>G</td>\n",
       "      <td>A</td>\n",
       "      <td>2911.20</td>\n",
       "      <td>GT:AD:DP:GQ:PL</td>\n",
       "      <td>0/1:12,16:28:99:575,0,416</td>\n",
       "      <td>0/1:13,11:24:99:395,0,473</td>\n",
       "      <td>0/1:19,19:38:99:726,0,638</td>\n",
       "      <td>...</td>\n",
       "      <td>NOC2L</td>\n",
       "      <td>ENST00000327044</td>\n",
       "      <td>.</td>\n",
       "      <td>0.5653</td>\n",
       "      <td>0.4889</td>\n",
       "      <td>0/1</td>\n",
       "      <td>0/1</td>\n",
       "      <td>0/1</td>\n",
       "      <td>0/1</td>\n",
       "      <td>0/1</td>\n",
       "    </tr>\n",
       "  </tbody>\n",
       "</table>\n",
       "<p>5 rows × 26 columns</p>\n",
       "</div>"
      ],
      "text/plain": [
       "     CHROM     POS           ID  REF ALT     QUAL          FORMAT  \\\n",
       "27       1   13656            .  CAG   C  4649.20  GT:AD:DP:GQ:PL   \n",
       "54       1   15903  rs557514207    G  GC  1173.20  GT:AD:DP:GQ:PL   \n",
       "2167     1  877831    rs6672356    T   C  8712.01  GT:AD:DP:GQ:PL   \n",
       "2169     1  879317    rs7523549    C   T  1601.96  GT:AD:DP:GQ:PL   \n",
       "2175     1  881627    rs2272757    G   A  2911.20  GT:AD:DP:GQ:PL   \n",
       "\n",
       "                          B04522                      B04524  \\\n",
       "27    0/1:36,23:59:99:827,0,1516  0/1:35,22:57:99:803,0,1400   \n",
       "54         1/1:0,7:7:21:249,21,0     1/1:0,11:11:33:392,33,0   \n",
       "2167   1/1:0,42:42:99:1772,126,0   1/1:0,47:47:99:1962,141,0   \n",
       "2169   0/1:19,11:30:99:270,0,713    0/0:29,0:29:78:0,78,1170   \n",
       "2175   0/1:12,16:28:99:575,0,416   0/1:13,11:24:99:395,0,473   \n",
       "\n",
       "                          B04525  ...     gene       transcript cosmic70  \\\n",
       "27    0/1:28,24:52:99:892,0,1108  ...  DDX11L1  ENST00000518655        .   \n",
       "54         1/1:0,8:8:24:285,24,0  ...   WASH7P  ENST00000438504        .   \n",
       "2167    1/1:0,33:33:99:1364,99,0  ...   SAMD11  ENST00000455979        .   \n",
       "2169   0/1:13,20:33:99:667,0,460  ...   SAMD11  ENST00000342066        .   \n",
       "2175   0/1:19,19:38:99:726,0,638  ...    NOC2L  ENST00000327044        .   \n",
       "\n",
       "     ExAC_ALL gnomAD_genome_ALL B04522_gt B04524_gt B04525_gt B04526_gt  \\\n",
       "27          .            0.4901       0/1       0/1       0/1       0/1   \n",
       "54          .            0.5042       1/1       1/1       1/1       ./.   \n",
       "2167   0.9999            0.9998       1/1       1/1       1/1       1/1   \n",
       "2169   0.0480            0.0820       0/1       0/0       0/1       0/1   \n",
       "2175   0.5653            0.4889       0/1       0/1       0/1       0/1   \n",
       "\n",
       "     B04527_gt  \n",
       "27         0/1  \n",
       "54         1/1  \n",
       "2167       1/1  \n",
       "2169       0/1  \n",
       "2175       0/1  \n",
       "\n",
       "[5 rows x 26 columns]"
      ]
     },
     "execution_count": 18,
     "metadata": {},
     "output_type": "execute_result"
    }
   ],
   "source": [
    "dfhml.head()"
   ]
  },
  {
   "cell_type": "code",
   "execution_count": 19,
   "metadata": {},
   "outputs": [
    {
     "name": "stderr",
     "output_type": "stream",
     "text": [
      "/projects/da_workspace/software/miniconda/envs/da/lib/python3.7/site-packages/ipykernel_launcher.py:1: SettingWithCopyWarning: \n",
      "A value is trying to be set on a copy of a slice from a DataFrame.\n",
      "Try using .loc[row_indexer,col_indexer] = value instead\n",
      "\n",
      "See the caveats in the documentation: http://pandas.pydata.org/pandas-docs/stable/indexing.html#indexing-view-versus-copy\n",
      "  \"\"\"Entry point for launching an IPython kernel.\n"
     ]
    }
   ],
   "source": [
    "dfhml['gnomAD_genome_ALL_tmp'] = dfhml['gnomAD_genome_ALL'].replace('.', .0)"
   ]
  },
  {
   "cell_type": "code",
   "execution_count": 20,
   "metadata": {},
   "outputs": [],
   "source": [
    "dff = dfhml[(dfhml.gnomAD_genome_ALL_tmp.astype(float) <0.01)|(dfhml.gnomAD_genome_ALL_tmp.isna())]"
   ]
  },
  {
   "cell_type": "code",
   "execution_count": 21,
   "metadata": {},
   "outputs": [
    {
     "data": {
      "text/html": [
       "<div>\n",
       "<style scoped>\n",
       "    .dataframe tbody tr th:only-of-type {\n",
       "        vertical-align: middle;\n",
       "    }\n",
       "\n",
       "    .dataframe tbody tr th {\n",
       "        vertical-align: top;\n",
       "    }\n",
       "\n",
       "    .dataframe thead th {\n",
       "        text-align: right;\n",
       "    }\n",
       "</style>\n",
       "<table border=\"1\" class=\"dataframe\">\n",
       "  <thead>\n",
       "    <tr style=\"text-align: right;\">\n",
       "      <th></th>\n",
       "      <th>CHROM</th>\n",
       "      <th>POS</th>\n",
       "      <th>ID</th>\n",
       "      <th>REF</th>\n",
       "      <th>ALT</th>\n",
       "      <th>QUAL</th>\n",
       "      <th>FORMAT</th>\n",
       "      <th>B04522</th>\n",
       "      <th>B04524</th>\n",
       "      <th>B04525</th>\n",
       "      <th>...</th>\n",
       "      <th>transcript</th>\n",
       "      <th>cosmic70</th>\n",
       "      <th>ExAC_ALL</th>\n",
       "      <th>gnomAD_genome_ALL</th>\n",
       "      <th>B04522_gt</th>\n",
       "      <th>B04524_gt</th>\n",
       "      <th>B04525_gt</th>\n",
       "      <th>B04526_gt</th>\n",
       "      <th>B04527_gt</th>\n",
       "      <th>gnomAD_genome_ALL_tmp</th>\n",
       "    </tr>\n",
       "  </thead>\n",
       "  <tbody>\n",
       "    <tr>\n",
       "      <th>2284</th>\n",
       "      <td>1</td>\n",
       "      <td>915614</td>\n",
       "      <td>rs186435690</td>\n",
       "      <td>T</td>\n",
       "      <td>A</td>\n",
       "      <td>2041.96</td>\n",
       "      <td>GT:AD:DP:GQ:PL</td>\n",
       "      <td>0/1:21,12:33:99:416,0,792</td>\n",
       "      <td>0/0:35,0:35:96:0,96,1440</td>\n",
       "      <td>0/1:15,23:38:99:710,0,543</td>\n",
       "      <td>...</td>\n",
       "      <td>ENST00000433179</td>\n",
       "      <td>.</td>\n",
       "      <td>0.0008</td>\n",
       "      <td>0.0011</td>\n",
       "      <td>0/1</td>\n",
       "      <td>0/0</td>\n",
       "      <td>0/1</td>\n",
       "      <td>0/1</td>\n",
       "      <td>0/1</td>\n",
       "      <td>0.0011</td>\n",
       "    </tr>\n",
       "    <tr>\n",
       "      <th>2440</th>\n",
       "      <td>1</td>\n",
       "      <td>955701</td>\n",
       "      <td>rs767809484</td>\n",
       "      <td>C</td>\n",
       "      <td>T</td>\n",
       "      <td>636.23</td>\n",
       "      <td>GT:AD:DP:GQ:PL</td>\n",
       "      <td>0/0:41,0:41:99:0,111,1764</td>\n",
       "      <td>0/1:22,19:41:99:646,0,753</td>\n",
       "      <td>0/0:52,0:52:99:0,110,1800</td>\n",
       "      <td>...</td>\n",
       "      <td>ENST00000379370</td>\n",
       "      <td>.</td>\n",
       "      <td>8.649e-05</td>\n",
       "      <td>0.0002</td>\n",
       "      <td>0/0</td>\n",
       "      <td>0/1</td>\n",
       "      <td>0/0</td>\n",
       "      <td>0/0</td>\n",
       "      <td>0/0</td>\n",
       "      <td>0.0002</td>\n",
       "    </tr>\n",
       "    <tr>\n",
       "      <th>2529</th>\n",
       "      <td>1</td>\n",
       "      <td>984660</td>\n",
       "      <td>rs200232485</td>\n",
       "      <td>C</td>\n",
       "      <td>T</td>\n",
       "      <td>1589.96</td>\n",
       "      <td>GT:AD:DP:GQ:PL</td>\n",
       "      <td>0/1:12,14:26:99:497,0,454</td>\n",
       "      <td>0/0:27,0:27:81:0,81,1077</td>\n",
       "      <td>0/1:12,14:26:99:536,0,418</td>\n",
       "      <td>...</td>\n",
       "      <td>ENST00000379370</td>\n",
       "      <td>.</td>\n",
       "      <td>0.0011</td>\n",
       "      <td>0.0007</td>\n",
       "      <td>0/1</td>\n",
       "      <td>0/0</td>\n",
       "      <td>0/1</td>\n",
       "      <td>0/1</td>\n",
       "      <td>0/1</td>\n",
       "      <td>0.0007</td>\n",
       "    </tr>\n",
       "    <tr>\n",
       "      <th>2898</th>\n",
       "      <td>1</td>\n",
       "      <td>1139498</td>\n",
       "      <td>rs11466693</td>\n",
       "      <td>C</td>\n",
       "      <td>T</td>\n",
       "      <td>1977.44</td>\n",
       "      <td>GT:AD:DP:GQ:PL</td>\n",
       "      <td>0/0:36,0:36:99:0,99,1485</td>\n",
       "      <td>0/1:15,16:31:99:566,0,499</td>\n",
       "      <td>0/1:14,20:34:99:692,0,481</td>\n",
       "      <td>...</td>\n",
       "      <td>ENST00000379265</td>\n",
       "      <td>.</td>\n",
       "      <td>0.0078</td>\n",
       "      <td>0.0093</td>\n",
       "      <td>0/0</td>\n",
       "      <td>0/1</td>\n",
       "      <td>0/1</td>\n",
       "      <td>0/1</td>\n",
       "      <td>0/0</td>\n",
       "      <td>0.0093</td>\n",
       "    </tr>\n",
       "    <tr>\n",
       "      <th>3208</th>\n",
       "      <td>1</td>\n",
       "      <td>1216859</td>\n",
       "      <td>rs556090955</td>\n",
       "      <td>C</td>\n",
       "      <td>T</td>\n",
       "      <td>1124.94</td>\n",
       "      <td>GT:AD:DP:GQ:PL</td>\n",
       "      <td>0/1:19,18:37:99:562,0,746</td>\n",
       "      <td>0/0:33,0:33:90:0,90,1350</td>\n",
       "      <td>0/0:37,0:37:99:0,99,1485</td>\n",
       "      <td>...</td>\n",
       "      <td>ENST00000379116</td>\n",
       "      <td>.</td>\n",
       "      <td>.</td>\n",
       "      <td>.</td>\n",
       "      <td>0/1</td>\n",
       "      <td>0/0</td>\n",
       "      <td>0/0</td>\n",
       "      <td>0/0</td>\n",
       "      <td>0/1</td>\n",
       "      <td>0</td>\n",
       "    </tr>\n",
       "  </tbody>\n",
       "</table>\n",
       "<p>5 rows × 27 columns</p>\n",
       "</div>"
      ],
      "text/plain": [
       "     CHROM      POS           ID REF ALT     QUAL          FORMAT  \\\n",
       "2284     1   915614  rs186435690   T   A  2041.96  GT:AD:DP:GQ:PL   \n",
       "2440     1   955701  rs767809484   C   T   636.23  GT:AD:DP:GQ:PL   \n",
       "2529     1   984660  rs200232485   C   T  1589.96  GT:AD:DP:GQ:PL   \n",
       "2898     1  1139498   rs11466693   C   T  1977.44  GT:AD:DP:GQ:PL   \n",
       "3208     1  1216859  rs556090955   C   T  1124.94  GT:AD:DP:GQ:PL   \n",
       "\n",
       "                         B04522                     B04524  \\\n",
       "2284  0/1:21,12:33:99:416,0,792   0/0:35,0:35:96:0,96,1440   \n",
       "2440  0/0:41,0:41:99:0,111,1764  0/1:22,19:41:99:646,0,753   \n",
       "2529  0/1:12,14:26:99:497,0,454   0/0:27,0:27:81:0,81,1077   \n",
       "2898   0/0:36,0:36:99:0,99,1485  0/1:15,16:31:99:566,0,499   \n",
       "3208  0/1:19,18:37:99:562,0,746   0/0:33,0:33:90:0,90,1350   \n",
       "\n",
       "                         B04525  ...       transcript cosmic70   ExAC_ALL  \\\n",
       "2284  0/1:15,23:38:99:710,0,543  ...  ENST00000433179        .     0.0008   \n",
       "2440  0/0:52,0:52:99:0,110,1800  ...  ENST00000379370        .  8.649e-05   \n",
       "2529  0/1:12,14:26:99:536,0,418  ...  ENST00000379370        .     0.0011   \n",
       "2898  0/1:14,20:34:99:692,0,481  ...  ENST00000379265        .     0.0078   \n",
       "3208   0/0:37,0:37:99:0,99,1485  ...  ENST00000379116        .          .   \n",
       "\n",
       "     gnomAD_genome_ALL B04522_gt B04524_gt B04525_gt B04526_gt B04527_gt  \\\n",
       "2284            0.0011       0/1       0/0       0/1       0/1       0/1   \n",
       "2440            0.0002       0/0       0/1       0/0       0/0       0/0   \n",
       "2529            0.0007       0/1       0/0       0/1       0/1       0/1   \n",
       "2898            0.0093       0/0       0/1       0/1       0/1       0/0   \n",
       "3208                 .       0/1       0/0       0/0       0/0       0/1   \n",
       "\n",
       "     gnomAD_genome_ALL_tmp  \n",
       "2284                0.0011  \n",
       "2440                0.0002  \n",
       "2529                0.0007  \n",
       "2898                0.0093  \n",
       "3208                     0  \n",
       "\n",
       "[5 rows x 27 columns]"
      ]
     },
     "execution_count": 21,
     "metadata": {},
     "output_type": "execute_result"
    },
    {
     "data": {
      "text/plain": [
       "(4301, 27)"
      ]
     },
     "execution_count": 21,
     "metadata": {},
     "output_type": "execute_result"
    }
   ],
   "source": [
    "dff.head()\n",
    "dff.shape"
   ]
  },
  {
   "cell_type": "markdown",
   "metadata": {},
   "source": [
    "# filter based on genotype"
   ]
  },
  {
   "cell_type": "code",
   "execution_count": 22,
   "metadata": {},
   "outputs": [],
   "source": [
    "ps = ['0/1', '1/0', '1/1', '0|1', '1|0', '1|1', './.', '.|']\n",
    "ns = ['0/0', '0|0', './.', '.|.']\n",
    "affected = ['B04522', 'B04524', 'B04525']\n",
    "unaffected = ['B04526', 'B04527']"
   ]
  },
  {
   "cell_type": "markdown",
   "metadata": {},
   "source": [
    "affecteds (B04522, B04524 and B04525) and not shared with the unaffecteds (B04526, B04527)\n",
    "\n"
   ]
  },
  {
   "cell_type": "code",
   "execution_count": 23,
   "metadata": {},
   "outputs": [],
   "source": [
    "dfff = dff[(dff.B04522_gt.isin(ps))&(dff.B04524_gt.isin(ps))&(dff.B04525_gt.isin(ps))&(dff.B04526_gt.isin(ns))&(dff.B04527_gt.isin(ns))]"
   ]
  },
  {
   "cell_type": "code",
   "execution_count": 24,
   "metadata": {},
   "outputs": [],
   "source": [
    "dfff.drop('gnomAD_genome_ALL_tmp', axis=1, inplace=True)"
   ]
  },
  {
   "cell_type": "code",
   "execution_count": 25,
   "metadata": {},
   "outputs": [
    {
     "data": {
      "text/html": [
       "<div>\n",
       "<style scoped>\n",
       "    .dataframe tbody tr th:only-of-type {\n",
       "        vertical-align: middle;\n",
       "    }\n",
       "\n",
       "    .dataframe tbody tr th {\n",
       "        vertical-align: top;\n",
       "    }\n",
       "\n",
       "    .dataframe thead th {\n",
       "        text-align: right;\n",
       "    }\n",
       "</style>\n",
       "<table border=\"1\" class=\"dataframe\">\n",
       "  <thead>\n",
       "    <tr style=\"text-align: right;\">\n",
       "      <th></th>\n",
       "      <th>CHROM</th>\n",
       "      <th>POS</th>\n",
       "      <th>ID</th>\n",
       "      <th>REF</th>\n",
       "      <th>ALT</th>\n",
       "      <th>QUAL</th>\n",
       "      <th>FORMAT</th>\n",
       "      <th>B04522</th>\n",
       "      <th>B04524</th>\n",
       "      <th>B04525</th>\n",
       "      <th>...</th>\n",
       "      <th>gene</th>\n",
       "      <th>transcript</th>\n",
       "      <th>cosmic70</th>\n",
       "      <th>ExAC_ALL</th>\n",
       "      <th>gnomAD_genome_ALL</th>\n",
       "      <th>B04522_gt</th>\n",
       "      <th>B04524_gt</th>\n",
       "      <th>B04525_gt</th>\n",
       "      <th>B04526_gt</th>\n",
       "      <th>B04527_gt</th>\n",
       "    </tr>\n",
       "  </thead>\n",
       "  <tbody>\n",
       "    <tr>\n",
       "      <th>136444</th>\n",
       "      <td>1</td>\n",
       "      <td>61869885</td>\n",
       "      <td>rs771792554</td>\n",
       "      <td>G</td>\n",
       "      <td>A</td>\n",
       "      <td>1906.44</td>\n",
       "      <td>GT:AD:DP:GQ:PL</td>\n",
       "      <td>0/1:24,23:47:99:728,0,900</td>\n",
       "      <td>0/1:11,19:30:99:669,0,400</td>\n",
       "      <td>0/1:17,15:32:99:523,0,619</td>\n",
       "      <td>...</td>\n",
       "      <td>NFIA</td>\n",
       "      <td>ENST00000371185</td>\n",
       "      <td>.</td>\n",
       "      <td>8.246e-06</td>\n",
       "      <td>.</td>\n",
       "      <td>0/1</td>\n",
       "      <td>0/1</td>\n",
       "      <td>0/1</td>\n",
       "      <td>0/0</td>\n",
       "      <td>0/0</td>\n",
       "    </tr>\n",
       "    <tr>\n",
       "      <th>138596</th>\n",
       "      <td>1</td>\n",
       "      <td>62739482</td>\n",
       "      <td>.</td>\n",
       "      <td>T</td>\n",
       "      <td>C</td>\n",
       "      <td>1533.44</td>\n",
       "      <td>GT:AD:DP:GQ:PL</td>\n",
       "      <td>0/1:15,15:30:99:576,0,513</td>\n",
       "      <td>0/1:13,14:27:99:540,0,415</td>\n",
       "      <td>0/1:18,13:31:99:431,0,642</td>\n",
       "      <td>...</td>\n",
       "      <td>KANK4</td>\n",
       "      <td>ENST00000371153</td>\n",
       "      <td>.</td>\n",
       "      <td>.</td>\n",
       "      <td>.</td>\n",
       "      <td>0/1</td>\n",
       "      <td>0/1</td>\n",
       "      <td>0/1</td>\n",
       "      <td>0/0</td>\n",
       "      <td>0/0</td>\n",
       "    </tr>\n",
       "  </tbody>\n",
       "</table>\n",
       "<p>2 rows × 26 columns</p>\n",
       "</div>"
      ],
      "text/plain": [
       "       CHROM       POS           ID REF ALT     QUAL          FORMAT  \\\n",
       "136444     1  61869885  rs771792554   G   A  1906.44  GT:AD:DP:GQ:PL   \n",
       "138596     1  62739482            .   T   C  1533.44  GT:AD:DP:GQ:PL   \n",
       "\n",
       "                           B04522                     B04524  \\\n",
       "136444  0/1:24,23:47:99:728,0,900  0/1:11,19:30:99:669,0,400   \n",
       "138596  0/1:15,15:30:99:576,0,513  0/1:13,14:27:99:540,0,415   \n",
       "\n",
       "                           B04525  ...   gene       transcript cosmic70  \\\n",
       "136444  0/1:17,15:32:99:523,0,619  ...   NFIA  ENST00000371185        .   \n",
       "138596  0/1:18,13:31:99:431,0,642  ...  KANK4  ENST00000371153        .   \n",
       "\n",
       "         ExAC_ALL gnomAD_genome_ALL B04522_gt B04524_gt B04525_gt B04526_gt  \\\n",
       "136444  8.246e-06                 .       0/1       0/1       0/1       0/0   \n",
       "138596          .                 .       0/1       0/1       0/1       0/0   \n",
       "\n",
       "       B04527_gt  \n",
       "136444       0/0  \n",
       "138596       0/0  \n",
       "\n",
       "[2 rows x 26 columns]"
      ]
     },
     "execution_count": 25,
     "metadata": {},
     "output_type": "execute_result"
    }
   ],
   "source": [
    "dfff.head(2)"
   ]
  },
  {
   "cell_type": "code",
   "execution_count": 27,
   "metadata": {},
   "outputs": [],
   "source": [
    "of = '/projects/da_workspace/DA-337/haplotype/B04522_27/haplotype_caller-1.1.4/joint/B04522_B04524_B04525_B04526_B04527/379/potential_causal_contributing_variants_20190910.tsv'\n",
    "dfff.to_csv(of, sep='\\t', index=False)"
   ]
  },
  {
   "cell_type": "code",
   "execution_count": 26,
   "metadata": {},
   "outputs": [
    {
     "data": {
      "text/plain": [
       "array(['NFIA', 'KANK4', 'ROR1', 'RAVER2', 'TGFBR3', 'BCAR3', 'DENND2D',\n",
       "       'WNT2B', 'VANGL1', 'CASQ2', 'ATP1A1', 'NBPF12', 'POGZ', 'FLG',\n",
       "       'GATAD2B', 'ASH1L', 'RP11-29H23.5', 'SMG5', 'CAMSAP2',\n",
       "       'AC140481.2', 'CHL1', 'OGG1', 'ARPC4', 'POM121C', 'ZSCAN21',\n",
       "       'MTUS1', 'PDLIM2', 'LETM2', 'ADAM9', 'PRKDC', 'CUBN', 'C10orf114',\n",
       "       'SKIDA1', 'ZEB1-AS1', 'ANKRD30A', 'ABCD1P2', 'BMS1',\n",
       "       'RP11-285G1.2', 'WDFY4', 'TFAM', 'AHNAK', 'VSIG2', 'AP000708.1',\n",
       "       'CHEK1', 'SNX19', 'GLB1L2', 'BTBD11', 'ACACB', 'PLBD2', 'SERPINA5',\n",
       "       'CDC42BPB', 'KIF26A', 'INF2', 'AHNAK2', 'BTBD6', 'UBL7', 'CSPG4',\n",
       "       'SCAPER', 'ACSBG1', 'ADAMTSL3', 'ZSWIM7', 'FAM83G', 'ULK2',\n",
       "       'DHRS7B', 'SLFN12', 'CWC25', 'KRT19', 'KAT2A', 'AOC3', 'ARHGAP27',\n",
       "       'EFCAB13', 'TBKBP1', 'EPN3', 'SPATA20', 'BRIP1', 'MAP2K6', 'FHOD3',\n",
       "       'KATNAL2', 'PLEKHJ1', 'RBMY2OP', 'RPS4Y2'], dtype=object)"
      ]
     },
     "execution_count": 26,
     "metadata": {},
     "output_type": "execute_result"
    },
    {
     "data": {
      "text/plain": [
       "(96, 26)"
      ]
     },
     "execution_count": 26,
     "metadata": {},
     "output_type": "execute_result"
    }
   ],
   "source": [
    "dfff.gene.unique()\n",
    "dfff.shape"
   ]
  },
  {
   "cell_type": "code",
   "execution_count": 85,
   "metadata": {
    "scrolled": true
   },
   "outputs": [
    {
     "data": {
      "text/html": [
       "<div>\n",
       "<style scoped>\n",
       "    .dataframe tbody tr th:only-of-type {\n",
       "        vertical-align: middle;\n",
       "    }\n",
       "\n",
       "    .dataframe tbody tr th {\n",
       "        vertical-align: top;\n",
       "    }\n",
       "\n",
       "    .dataframe thead th {\n",
       "        text-align: right;\n",
       "    }\n",
       "</style>\n",
       "<table border=\"1\" class=\"dataframe\">\n",
       "  <thead>\n",
       "    <tr style=\"text-align: right;\">\n",
       "      <th></th>\n",
       "      <th>CHROM</th>\n",
       "      <th>POS</th>\n",
       "      <th>ID</th>\n",
       "      <th>REF</th>\n",
       "      <th>ALT</th>\n",
       "      <th>QUAL</th>\n",
       "      <th>B04522</th>\n",
       "      <th>B04524</th>\n",
       "      <th>B04525</th>\n",
       "      <th>B04526</th>\n",
       "      <th>...</th>\n",
       "      <th>gene</th>\n",
       "      <th>transcript</th>\n",
       "      <th>cosmic70</th>\n",
       "      <th>ExAC_ALL</th>\n",
       "      <th>gnomAD_genome_ALL</th>\n",
       "      <th>B04522_gt</th>\n",
       "      <th>B04524_gt</th>\n",
       "      <th>B04525_gt</th>\n",
       "      <th>B04526_gt</th>\n",
       "      <th>B04527_gt</th>\n",
       "    </tr>\n",
       "  </thead>\n",
       "  <tbody>\n",
       "    <tr>\n",
       "      <th>6887343</th>\n",
       "      <td>Y</td>\n",
       "      <td>9789275</td>\n",
       "      <td>rs368461823</td>\n",
       "      <td>CGT</td>\n",
       "      <td>C</td>\n",
       "      <td>467.28</td>\n",
       "      <td>1/1:0,11:11:33:300,33,0</td>\n",
       "      <td>0/1:1,7:8:3:174,0,3</td>\n",
       "      <td>./.:0,0:0:.:0,0,0</td>\n",
       "      <td>./.:0,0:0:.:0,0,0</td>\n",
       "      <td>...</td>\n",
       "      <td>RBMY2OP</td>\n",
       "      <td>ENST00000447105</td>\n",
       "      <td>.</td>\n",
       "      <td>.</td>\n",
       "      <td>NaN</td>\n",
       "      <td>1/1</td>\n",
       "      <td>0/1</td>\n",
       "      <td>./.</td>\n",
       "      <td>./.</td>\n",
       "      <td>./.</td>\n",
       "    </tr>\n",
       "    <tr>\n",
       "      <th>6921261</th>\n",
       "      <td>Y</td>\n",
       "      <td>22942897</td>\n",
       "      <td>rs34459399</td>\n",
       "      <td>T</td>\n",
       "      <td>C</td>\n",
       "      <td>1261.07</td>\n",
       "      <td>1/1:0,14:14:42:583,42,0</td>\n",
       "      <td>1/1:0,16:16:48:685,48,0</td>\n",
       "      <td>./.:0,0:0:.:0,0,0</td>\n",
       "      <td>./.:0,0:0:.:0,0,0</td>\n",
       "      <td>...</td>\n",
       "      <td>RPS4Y2</td>\n",
       "      <td>ENST00000288666</td>\n",
       "      <td>.</td>\n",
       "      <td>0.0445</td>\n",
       "      <td>NaN</td>\n",
       "      <td>1/1</td>\n",
       "      <td>1/1</td>\n",
       "      <td>./.</td>\n",
       "      <td>./.</td>\n",
       "      <td>./.</td>\n",
       "    </tr>\n",
       "  </tbody>\n",
       "</table>\n",
       "<p>2 rows × 25 columns</p>\n",
       "</div>"
      ],
      "text/plain": [
       "        CHROM       POS           ID  REF ALT     QUAL  \\\n",
       "6887343     Y   9789275  rs368461823  CGT   C   467.28   \n",
       "6921261     Y  22942897   rs34459399    T   C  1261.07   \n",
       "\n",
       "                          B04522                   B04524             B04525  \\\n",
       "6887343  1/1:0,11:11:33:300,33,0      0/1:1,7:8:3:174,0,3  ./.:0,0:0:.:0,0,0   \n",
       "6921261  1/1:0,14:14:42:583,42,0  1/1:0,16:16:48:685,48,0  ./.:0,0:0:.:0,0,0   \n",
       "\n",
       "                    B04526  ...     gene       transcript cosmic70 ExAC_ALL  \\\n",
       "6887343  ./.:0,0:0:.:0,0,0  ...  RBMY2OP  ENST00000447105        .        .   \n",
       "6921261  ./.:0,0:0:.:0,0,0  ...   RPS4Y2  ENST00000288666        .   0.0445   \n",
       "\n",
       "        gnomAD_genome_ALL B04522_gt B04524_gt B04525_gt B04526_gt B04527_gt  \n",
       "6887343               NaN       1/1       0/1       ./.       ./.       ./.  \n",
       "6921261               NaN       1/1       1/1       ./.       ./.       ./.  \n",
       "\n",
       "[2 rows x 25 columns]"
      ]
     },
     "execution_count": 85,
     "metadata": {},
     "output_type": "execute_result"
    }
   ],
   "source": [
    "dfff[dfff.B04522_gt == '1/1']"
   ]
  },
  {
   "cell_type": "markdown",
   "metadata": {},
   "source": [
    "# get the vcf entries based on index"
   ]
  },
  {
   "cell_type": "code",
   "execution_count": 90,
   "metadata": {},
   "outputs": [
    {
     "data": {
      "text/html": [
       "<div>\n",
       "<style scoped>\n",
       "    .dataframe tbody tr th:only-of-type {\n",
       "        vertical-align: middle;\n",
       "    }\n",
       "\n",
       "    .dataframe tbody tr th {\n",
       "        vertical-align: top;\n",
       "    }\n",
       "\n",
       "    .dataframe thead th {\n",
       "        text-align: right;\n",
       "    }\n",
       "</style>\n",
       "<table border=\"1\" class=\"dataframe\">\n",
       "  <thead>\n",
       "    <tr style=\"text-align: right;\">\n",
       "      <th></th>\n",
       "      <th>CHROM</th>\n",
       "      <th>POS</th>\n",
       "      <th>ID</th>\n",
       "      <th>REF</th>\n",
       "      <th>ALT</th>\n",
       "      <th>QUAL</th>\n",
       "      <th>B04522</th>\n",
       "      <th>B04524</th>\n",
       "      <th>B04525</th>\n",
       "      <th>B04526</th>\n",
       "      <th>...</th>\n",
       "      <th>gene</th>\n",
       "      <th>transcript</th>\n",
       "      <th>cosmic70</th>\n",
       "      <th>ExAC_ALL</th>\n",
       "      <th>gnomAD_genome_ALL</th>\n",
       "      <th>B04522_gt</th>\n",
       "      <th>B04524_gt</th>\n",
       "      <th>B04525_gt</th>\n",
       "      <th>B04526_gt</th>\n",
       "      <th>B04527_gt</th>\n",
       "    </tr>\n",
       "  </thead>\n",
       "  <tbody>\n",
       "    <tr>\n",
       "      <th>27</th>\n",
       "      <td>1</td>\n",
       "      <td>13656</td>\n",
       "      <td>.</td>\n",
       "      <td>CAG</td>\n",
       "      <td>C</td>\n",
       "      <td>4649.20</td>\n",
       "      <td>0/1:36,23:59:99:827,0,1516</td>\n",
       "      <td>0/1:35,22:57:99:803,0,1400</td>\n",
       "      <td>0/1:28,24:52:99:892,0,1108</td>\n",
       "      <td>0/1:21,29:50:99:1155,0,829</td>\n",
       "      <td>...</td>\n",
       "      <td>DDX11L1</td>\n",
       "      <td>ENST00000518655</td>\n",
       "      <td>.</td>\n",
       "      <td>.</td>\n",
       "      <td>0.4901</td>\n",
       "      <td>0/1</td>\n",
       "      <td>0/1</td>\n",
       "      <td>0/1</td>\n",
       "      <td>0/1</td>\n",
       "      <td>0/1</td>\n",
       "    </tr>\n",
       "    <tr>\n",
       "      <th>54</th>\n",
       "      <td>1</td>\n",
       "      <td>15903</td>\n",
       "      <td>rs557514207</td>\n",
       "      <td>G</td>\n",
       "      <td>GC</td>\n",
       "      <td>1173.20</td>\n",
       "      <td>1/1:0,7:7:21:249,21,0</td>\n",
       "      <td>1/1:0,11:11:33:392,33,0</td>\n",
       "      <td>1/1:0,8:8:24:285,24,0</td>\n",
       "      <td>./.:1,0:1:.:0,0,0</td>\n",
       "      <td>...</td>\n",
       "      <td>WASH7P</td>\n",
       "      <td>ENST00000438504</td>\n",
       "      <td>.</td>\n",
       "      <td>.</td>\n",
       "      <td>0.5042</td>\n",
       "      <td>1/1</td>\n",
       "      <td>1/1</td>\n",
       "      <td>1/1</td>\n",
       "      <td>./.</td>\n",
       "      <td>1/1</td>\n",
       "    </tr>\n",
       "    <tr>\n",
       "      <th>2167</th>\n",
       "      <td>1</td>\n",
       "      <td>877831</td>\n",
       "      <td>rs6672356</td>\n",
       "      <td>T</td>\n",
       "      <td>C</td>\n",
       "      <td>8712.01</td>\n",
       "      <td>1/1:0,42:42:99:1772,126,0</td>\n",
       "      <td>1/1:0,47:47:99:1962,141,0</td>\n",
       "      <td>1/1:0,33:33:99:1364,99,0</td>\n",
       "      <td>1/1:0,46:46:99:1921,138,0</td>\n",
       "      <td>...</td>\n",
       "      <td>SAMD11</td>\n",
       "      <td>ENST00000341065</td>\n",
       "      <td>.</td>\n",
       "      <td>0.9999</td>\n",
       "      <td>0.9998</td>\n",
       "      <td>1/1</td>\n",
       "      <td>1/1</td>\n",
       "      <td>1/1</td>\n",
       "      <td>1/1</td>\n",
       "      <td>1/1</td>\n",
       "    </tr>\n",
       "    <tr>\n",
       "      <th>2169</th>\n",
       "      <td>1</td>\n",
       "      <td>879317</td>\n",
       "      <td>rs7523549</td>\n",
       "      <td>C</td>\n",
       "      <td>T</td>\n",
       "      <td>1601.96</td>\n",
       "      <td>0/1:19,11:30:99:270,0,713</td>\n",
       "      <td>0/0:29,0:29:78:0,78,1170</td>\n",
       "      <td>0/1:13,20:33:99:667,0,460</td>\n",
       "      <td>0/1:17,9:26:99:324,0,692</td>\n",
       "      <td>...</td>\n",
       "      <td>SAMD11</td>\n",
       "      <td>ENST00000342066</td>\n",
       "      <td>.</td>\n",
       "      <td>0.0480</td>\n",
       "      <td>0.0820</td>\n",
       "      <td>0/1</td>\n",
       "      <td>0/0</td>\n",
       "      <td>0/1</td>\n",
       "      <td>0/1</td>\n",
       "      <td>0/1</td>\n",
       "    </tr>\n",
       "    <tr>\n",
       "      <th>2175</th>\n",
       "      <td>1</td>\n",
       "      <td>881627</td>\n",
       "      <td>rs2272757</td>\n",
       "      <td>G</td>\n",
       "      <td>A</td>\n",
       "      <td>2911.20</td>\n",
       "      <td>0/1:12,16:28:99:575,0,416</td>\n",
       "      <td>0/1:13,11:24:99:395,0,473</td>\n",
       "      <td>0/1:19,19:38:99:726,0,638</td>\n",
       "      <td>0/1:18,26:44:99:906,0,629</td>\n",
       "      <td>...</td>\n",
       "      <td>NOC2L</td>\n",
       "      <td>ENST00000327044</td>\n",
       "      <td>.</td>\n",
       "      <td>0.5653</td>\n",
       "      <td>0.4889</td>\n",
       "      <td>0/1</td>\n",
       "      <td>0/1</td>\n",
       "      <td>0/1</td>\n",
       "      <td>0/1</td>\n",
       "      <td>0/1</td>\n",
       "    </tr>\n",
       "  </tbody>\n",
       "</table>\n",
       "<p>5 rows × 25 columns</p>\n",
       "</div>"
      ],
      "text/plain": [
       "     CHROM     POS           ID  REF ALT     QUAL                      B04522  \\\n",
       "27       1   13656            .  CAG   C  4649.20  0/1:36,23:59:99:827,0,1516   \n",
       "54       1   15903  rs557514207    G  GC  1173.20       1/1:0,7:7:21:249,21,0   \n",
       "2167     1  877831    rs6672356    T   C  8712.01   1/1:0,42:42:99:1772,126,0   \n",
       "2169     1  879317    rs7523549    C   T  1601.96   0/1:19,11:30:99:270,0,713   \n",
       "2175     1  881627    rs2272757    G   A  2911.20   0/1:12,16:28:99:575,0,416   \n",
       "\n",
       "                          B04524                      B04525  \\\n",
       "27    0/1:35,22:57:99:803,0,1400  0/1:28,24:52:99:892,0,1108   \n",
       "54       1/1:0,11:11:33:392,33,0       1/1:0,8:8:24:285,24,0   \n",
       "2167   1/1:0,47:47:99:1962,141,0    1/1:0,33:33:99:1364,99,0   \n",
       "2169    0/0:29,0:29:78:0,78,1170   0/1:13,20:33:99:667,0,460   \n",
       "2175   0/1:13,11:24:99:395,0,473   0/1:19,19:38:99:726,0,638   \n",
       "\n",
       "                          B04526  ...     gene       transcript cosmic70  \\\n",
       "27    0/1:21,29:50:99:1155,0,829  ...  DDX11L1  ENST00000518655        .   \n",
       "54             ./.:1,0:1:.:0,0,0  ...   WASH7P  ENST00000438504        .   \n",
       "2167   1/1:0,46:46:99:1921,138,0  ...   SAMD11  ENST00000341065        .   \n",
       "2169    0/1:17,9:26:99:324,0,692  ...   SAMD11  ENST00000342066        .   \n",
       "2175   0/1:18,26:44:99:906,0,629  ...    NOC2L  ENST00000327044        .   \n",
       "\n",
       "     ExAC_ALL gnomAD_genome_ALL B04522_gt B04524_gt B04525_gt B04526_gt  \\\n",
       "27          .            0.4901       0/1       0/1       0/1       0/1   \n",
       "54          .            0.5042       1/1       1/1       1/1       ./.   \n",
       "2167   0.9999            0.9998       1/1       1/1       1/1       1/1   \n",
       "2169   0.0480            0.0820       0/1       0/0       0/1       0/1   \n",
       "2175   0.5653            0.4889       0/1       0/1       0/1       0/1   \n",
       "\n",
       "     B04527_gt  \n",
       "27         0/1  \n",
       "54         1/1  \n",
       "2167       1/1  \n",
       "2169       0/1  \n",
       "2175       0/1  \n",
       "\n",
       "[5 rows x 25 columns]"
      ]
     },
     "execution_count": 90,
     "metadata": {},
     "output_type": "execute_result"
    }
   ],
   "source": [
    "dfhml.head()"
   ]
  },
  {
   "cell_type": "code",
   "execution_count": 112,
   "metadata": {},
   "outputs": [],
   "source": [
    "dfvcf = df.reindex(dfff.index)"
   ]
  },
  {
   "cell_type": "code",
   "execution_count": 113,
   "metadata": {},
   "outputs": [],
   "source": [
    "of = '/projects/da_workspace/DA-337/haplotype/B04522_27/haplotype_caller-1.1.4/joint/B04522_B04524_B04525_B04526_B04527/379/B04522_B04524_B04525_B04526_B04527_vcf_20190910.tsv'\n",
    "dfvcf.to_csv(of, sep='\\t', index=False)"
   ]
  },
  {
   "cell_type": "markdown",
   "metadata": {},
   "source": [
    "# look into B04529 and B04530 are third cousins to each other, both affected. "
   ]
  },
  {
   "cell_type": "code",
   "execution_count": null,
   "metadata": {},
   "outputs": [],
   "source": []
  }
 ],
 "metadata": {
  "kernelspec": {
   "display_name": "Python 3",
   "language": "python",
   "name": "python3"
  },
  "language_info": {
   "codemirror_mode": {
    "name": "ipython",
    "version": 3
   },
   "file_extension": ".py",
   "mimetype": "text/x-python",
   "name": "python",
   "nbconvert_exporter": "python",
   "pygments_lexer": "ipython3",
   "version": "3.7.3"
  }
 },
 "nbformat": 4,
 "nbformat_minor": 2
}
