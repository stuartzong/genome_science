{
 "cells": [
  {
   "cell_type": "code",
   "execution_count": 1,
   "metadata": {},
   "outputs": [],
   "source": [
    "%load_ext autoreload\n",
    "%autoreload 2\n",
    "import numpy as np\n",
    "import pandas as pd\n",
    "import re\n",
    "%matplotlib inline\n",
    "\n",
    "from IPython.core.interactiveshell import InteractiveShell\n",
    "InteractiveShell.ast_node_interactivity = \"all\""
   ]
  },
  {
   "cell_type": "code",
   "execution_count": 2,
   "metadata": {},
   "outputs": [],
   "source": [
    "from exp.nb_VcfParser import *"
   ]
  },
  {
   "cell_type": "markdown",
   "metadata": {},
   "source": [
    "# strelka "
   ]
  },
  {
   "cell_type": "markdown",
   "metadata": {},
   "source": [
    "expecting 86 pairs, intially 89 pairs, 1 patient's dna missing, 2 patients sequenced without normal"
   ]
  },
  {
   "cell_type": "code",
   "execution_count": 3,
   "metadata": {},
   "outputs": [
    {
     "data": {
      "text/html": [
       "<div>\n",
       "<style scoped>\n",
       "    .dataframe tbody tr th:only-of-type {\n",
       "        vertical-align: middle;\n",
       "    }\n",
       "\n",
       "    .dataframe tbody tr th {\n",
       "        vertical-align: top;\n",
       "    }\n",
       "\n",
       "    .dataframe thead th {\n",
       "        text-align: right;\n",
       "    }\n",
       "</style>\n",
       "<table border=\"1\" class=\"dataframe\">\n",
       "  <thead>\n",
       "    <tr style=\"text-align: right;\">\n",
       "      <th></th>\n",
       "      <th>tlib</th>\n",
       "      <th>nlib</th>\n",
       "      <th>snv</th>\n",
       "      <th>indel</th>\n",
       "    </tr>\n",
       "    <tr>\n",
       "      <th>patient</th>\n",
       "      <th></th>\n",
       "      <th></th>\n",
       "      <th></th>\n",
       "      <th></th>\n",
       "    </tr>\n",
       "  </thead>\n",
       "  <tbody>\n",
       "    <tr>\n",
       "      <td>HTMCP-03-06-02025</td>\n",
       "      <td>B68907</td>\n",
       "      <td>B68872</td>\n",
       "      <td>/projects/somatic/NCI_SAIC_HIV_Cervical/HTMCP-...</td>\n",
       "      <td>/projects/somatic/NCI_SAIC_HIV_Cervical/HTMCP-...</td>\n",
       "    </tr>\n",
       "    <tr>\n",
       "      <td>HTMCP-03-06-02044</td>\n",
       "      <td>B68919</td>\n",
       "      <td>B68884</td>\n",
       "      <td>/projects/somatic/NCI_SAIC_HIV_Cervical/HTMCP-...</td>\n",
       "      <td>/projects/somatic/NCI_SAIC_HIV_Cervical/HTMCP-...</td>\n",
       "    </tr>\n",
       "  </tbody>\n",
       "</table>\n",
       "</div>"
      ],
      "text/plain": [
       "                     tlib    nlib  \\\n",
       "patient                             \n",
       "HTMCP-03-06-02025  B68907  B68872   \n",
       "HTMCP-03-06-02044  B68919  B68884   \n",
       "\n",
       "                                                                 snv  \\\n",
       "patient                                                                \n",
       "HTMCP-03-06-02025  /projects/somatic/NCI_SAIC_HIV_Cervical/HTMCP-...   \n",
       "HTMCP-03-06-02044  /projects/somatic/NCI_SAIC_HIV_Cervical/HTMCP-...   \n",
       "\n",
       "                                                               indel  \n",
       "patient                                                               \n",
       "HTMCP-03-06-02025  /projects/somatic/NCI_SAIC_HIV_Cervical/HTMCP-...  \n",
       "HTMCP-03-06-02044  /projects/somatic/NCI_SAIC_HIV_Cervical/HTMCP-...  "
      ]
     },
     "execution_count": 3,
     "metadata": {},
     "output_type": "execute_result"
    }
   ],
   "source": [
    "f = '/projects/trans_scratch/validations/workspace/szong/Cervical/variant_bwamem/validation/validation_2nd_strelka_20191010.xls'\n",
    "df = pd.read_excel(f, header=None)\n",
    "df.columns = ['patient', 'tlib', 'nlib', 'snv', 'indel']\n",
    "df.set_index('patient', inplace=True)\n",
    "df.head(2)"
   ]
  },
  {
   "cell_type": "markdown",
   "metadata": {},
   "source": [
    "parse strelka vcf file"
   ]
  },
  {
   "cell_type": "code",
   "execution_count": 4,
   "metadata": {},
   "outputs": [],
   "source": [
    "# vcf = '/projects/somatic/NCI_SAIC_HIV_Cervical/HTMCP-03-06-02218-01A-01D/hg19a/SPC/B68880_B68879/strelka/65743/bwa/results/passed.somatic.snvs.eff.dbSNP_v149.cosmic_v82.clinvar_20170801.annotations.classic.vcf'\n",
    "impacts = ['high', 'moderate', 'low', 'modifier']"
   ]
  },
  {
   "cell_type": "code",
   "execution_count": 5,
   "metadata": {},
   "outputs": [
    {
     "name": "stderr",
     "output_type": "stream",
     "text": [
      "3it [00:00, 27.80it/s]"
     ]
    },
    {
     "name": "stdout",
     "output_type": "stream",
     "text": [
      "parsing variants with impacts of: ['HIGH', 'MODERATE', 'LOW', 'MODIFIER']!\n",
      "parsing vcf: /projects/somatic/NCI_SAIC_HIV_Cervical/HTMCP-03-06-02025-01A-01D/hg19a/SPC/B68907_B68872/strelka/65713/bwa/results/passed.somatic.snvs.eff.dbSNP_v149.cosmic_v82.clinvar_20170801.annotations.classic.vcf\n",
      "WARNING: empty file>/projects/somatic/NCI_SAIC_HIV_Cervical/HTMCP-03-06-02025-01A-01D/hg19a/SPC/B68907_B68872/strelka/65713/bwa/results/passed.somatic.indels.eff.dbSNP_v149.cosmic_v82.clinvar_20170801.annotations.classic.vcf\n",
      "parsing vcf: /projects/somatic/NCI_SAIC_HIV_Cervical/HTMCP-03-06-02044-01A-01D/hg19a/SPC/B68919_B68884/strelka/65714/bwa/results/passed.somatic.snvs.eff.dbSNP_v149.cosmic_v82.clinvar_20170801.annotations.classic.vcf\n",
      "WARNING: empty file>/projects/somatic/NCI_SAIC_HIV_Cervical/HTMCP-03-06-02044-01A-01D/hg19a/SPC/B68919_B68884/strelka/65714/bwa/results/passed.somatic.indels.eff.dbSNP_v149.cosmic_v82.clinvar_20170801.annotations.classic.vcf\n",
      "parsing vcf: /projects/somatic/NCI_SAIC_HIV_Cervical/HTMCP-03-06-02060-01A-01D/hg19a/SPC/B68930_B68895/strelka/65715/bwa/results/passed.somatic.snvs.eff.dbSNP_v149.cosmic_v82.clinvar_20170801.annotations.classic.vcf\n",
      "WARNING: empty file>/projects/somatic/NCI_SAIC_HIV_Cervical/HTMCP-03-06-02060-01A-01D/hg19a/SPC/B68930_B68895/strelka/65715/bwa/results/passed.somatic.indels.eff.dbSNP_v149.cosmic_v82.clinvar_20170801.annotations.classic.vcf\n",
      "parsing vcf: /projects/somatic/NCI_SAIC_HIV_Cervical/HTMCP-03-06-02061-01A-01D/hg19a/SPC/B68941_B68906/strelka/65716/bwa/results/passed.somatic.snvs.eff.dbSNP_v149.cosmic_v82.clinvar_20170801.annotations.classic.vcf\n",
      "WARNING: empty file>/projects/somatic/NCI_SAIC_HIV_Cervical/HTMCP-03-06-02061-01A-01D/hg19a/SPC/B68941_B68906/strelka/65716/bwa/results/passed.somatic.indels.eff.dbSNP_v149.cosmic_v82.clinvar_20170801.annotations.classic.vcf\n",
      "parsing vcf: /projects/somatic/NCI_SAIC_HIV_Cervical/HTMCP-03-06-02062-01A-01D/hg19a/SPC/B68951_B68918/strelka/65717/bwa/results/passed.somatic.snvs.eff.dbSNP_v149.cosmic_v82.clinvar_20170801.annotations.classic.vcf\n",
      "WARNING: empty file>/projects/somatic/NCI_SAIC_HIV_Cervical/HTMCP-03-06-02062-01A-01D/hg19a/SPC/B68951_B68918/strelka/65717/bwa/results/passed.somatic.indels.eff.dbSNP_v149.cosmic_v82.clinvar_20170801.annotations.classic.vcf\n",
      "parsing vcf: /projects/somatic/NCI_SAIC_HIV_Cervical/HTMCP-03-06-02066-01A-01D/hg19a/SPC/B68874_B68929/strelka/65718/bwa/results/passed.somatic.snvs.eff.dbSNP_v149.cosmic_v82.clinvar_20170801.annotations.classic.vcf\n"
     ]
    },
    {
     "name": "stderr",
     "output_type": "stream",
     "text": [
      "9it [00:00, 26.01it/s]"
     ]
    },
    {
     "name": "stdout",
     "output_type": "stream",
     "text": [
      "WARNING: empty file>/projects/somatic/NCI_SAIC_HIV_Cervical/HTMCP-03-06-02066-01A-01D/hg19a/SPC/B68874_B68929/strelka/65718/bwa/results/passed.somatic.indels.eff.dbSNP_v149.cosmic_v82.clinvar_20170801.annotations.classic.vcf\n",
      "parsing vcf: /projects/somatic/NCI_SAIC_HIV_Cervical/HTMCP-03-06-02067-01A-01D/hg19a/SPC/B68886_B68940/strelka/65719/bwa/results/passed.somatic.snvs.eff.dbSNP_v149.cosmic_v82.clinvar_20170801.annotations.classic.vcf\n",
      "WARNING: empty file>/projects/somatic/NCI_SAIC_HIV_Cervical/HTMCP-03-06-02067-01A-01D/hg19a/SPC/B68886_B68940/strelka/65719/bwa/results/passed.somatic.indels.eff.dbSNP_v149.cosmic_v82.clinvar_20170801.annotations.classic.vcf\n",
      "parsing vcf: /projects/somatic/NCI_SAIC_HIV_Cervical/HTMCP-03-06-02072-01A-01D/hg19a/SPC/B68897_B68950/strelka/65720/bwa/results/passed.somatic.snvs.eff.dbSNP_v149.cosmic_v82.clinvar_20170801.annotations.classic.vcf\n",
      "WARNING: empty file>/projects/somatic/NCI_SAIC_HIV_Cervical/HTMCP-03-06-02072-01A-01D/hg19a/SPC/B68897_B68950/strelka/65720/bwa/results/passed.somatic.indels.eff.dbSNP_v149.cosmic_v82.clinvar_20170801.annotations.classic.vcf\n",
      "parsing vcf: /projects/somatic/NCI_SAIC_HIV_Cervical/HTMCP-03-06-02081-01A-01D/hg19a/SPC/B68920_B68885/strelka/65721/bwa/results/passed.somatic.snvs.eff.dbSNP_v149.cosmic_v82.clinvar_20170801.annotations.classic.vcf\n",
      "parsing vcf: /projects/somatic/NCI_SAIC_HIV_Cervical/HTMCP-03-06-02081-01A-01D/hg19a/SPC/B68920_B68885/strelka/65721/bwa/results/passed.somatic.indels.eff.dbSNP_v149.cosmic_v82.clinvar_20170801.annotations.classic.vcf\n",
      "parsing vcf: /projects/somatic/NCI_SAIC_HIV_Cervical/HTMCP-03-06-02082-01A-01D/hg19a/SPC/B68908_B68873/strelka/65722/bwa/results/passed.somatic.snvs.eff.dbSNP_v149.cosmic_v82.clinvar_20170801.annotations.classic.vcf\n",
      "parsing vcf: /projects/somatic/NCI_SAIC_HIV_Cervical/HTMCP-03-06-02082-01A-01D/hg19a/SPC/B68908_B68873/strelka/65722/bwa/results/passed.somatic.indels.eff.dbSNP_v149.cosmic_v82.clinvar_20170801.annotations.classic.vcf\n",
      "parsing vcf: /projects/somatic/NCI_SAIC_HIV_Cervical/HTMCP-03-06-02084-01A-01D/hg19a/SPC/B68931_B68896/strelka/65723/bwa/results/passed.somatic.snvs.eff.dbSNP_v149.cosmic_v82.clinvar_20170801.annotations.classic.vcf\n"
     ]
    },
    {
     "name": "stderr",
     "output_type": "stream",
     "text": [
      "15it [00:00, 24.95it/s]"
     ]
    },
    {
     "name": "stdout",
     "output_type": "stream",
     "text": [
      "WARNING: empty file>/projects/somatic/NCI_SAIC_HIV_Cervical/HTMCP-03-06-02084-01A-01D/hg19a/SPC/B68931_B68896/strelka/65723/bwa/results/passed.somatic.indels.eff.dbSNP_v149.cosmic_v82.clinvar_20170801.annotations.classic.vcf\n",
      "parsing vcf: /projects/somatic/NCI_SAIC_HIV_Cervical/HTMCP-03-06-02101-01C-01D/hg19a/SPC/B68910_B68952/strelka/65724/bwa/results/passed.somatic.snvs.eff.dbSNP_v149.cosmic_v82.clinvar_20170801.annotations.classic.vcf\n",
      "WARNING: empty file>/projects/somatic/NCI_SAIC_HIV_Cervical/HTMCP-03-06-02101-01C-01D/hg19a/SPC/B68910_B68952/strelka/65724/bwa/results/passed.somatic.indels.eff.dbSNP_v149.cosmic_v82.clinvar_20170801.annotations.classic.vcf\n",
      "parsing vcf: /projects/somatic/NCI_SAIC_HIV_Cervical/HTMCP-03-06-02104-01A-01D/hg19a/SPC/B68922_B68875/strelka/65725/bwa/results/passed.somatic.snvs.eff.dbSNP_v149.cosmic_v82.clinvar_20170801.annotations.classic.vcf\n",
      "WARNING: empty file>/projects/somatic/NCI_SAIC_HIV_Cervical/HTMCP-03-06-02104-01A-01D/hg19a/SPC/B68922_B68875/strelka/65725/bwa/results/passed.somatic.indels.eff.dbSNP_v149.cosmic_v82.clinvar_20170801.annotations.classic.vcf\n",
      "parsing vcf: /projects/somatic/NCI_SAIC_HIV_Cervical/HTMCP-03-06-02111-01A-01D/hg19a/SPC/B68943_B68887/strelka/65726/bwa/results/passed.somatic.snvs.eff.dbSNP_v149.cosmic_v82.clinvar_20170801.annotations.classic.vcf\n",
      "WARNING: empty file>/projects/somatic/NCI_SAIC_HIV_Cervical/HTMCP-03-06-02111-01A-01D/hg19a/SPC/B68943_B68887/strelka/65726/bwa/results/passed.somatic.indels.eff.dbSNP_v149.cosmic_v82.clinvar_20170801.annotations.classic.vcf\n",
      "parsing vcf: /projects/somatic/NCI_SAIC_HIV_Cervical/HTMCP-03-06-02112-01A-01D/hg19a/SPC/B68954_B68898/strelka/65727/bwa/results/passed.somatic.snvs.eff.dbSNP_v149.cosmic_v82.clinvar_20170801.annotations.classic.vcf\n",
      "WARNING: empty file>/projects/somatic/NCI_SAIC_HIV_Cervical/HTMCP-03-06-02112-01A-01D/hg19a/SPC/B68954_B68898/strelka/65727/bwa/results/passed.somatic.indels.eff.dbSNP_v149.cosmic_v82.clinvar_20170801.annotations.classic.vcf\n",
      "parsing vcf: /projects/somatic/NCI_SAIC_HIV_Cervical/HTMCP-03-06-02118-01A-01D/hg19a/SPC/B68877_B68909/strelka/65728/bwa/results/passed.somatic.snvs.eff.dbSNP_v149.cosmic_v82.clinvar_20170801.annotations.classic.vcf\n",
      "parsing vcf: /projects/somatic/NCI_SAIC_HIV_Cervical/HTMCP-03-06-02118-01A-01D/hg19a/SPC/B68877_B68909/strelka/65728/bwa/results/passed.somatic.indels.eff.dbSNP_v149.cosmic_v82.clinvar_20170801.annotations.classic.vcf\n"
     ]
    },
    {
     "name": "stderr",
     "output_type": "stream",
     "text": [
      "\r",
      "18it [00:00, 23.68it/s]"
     ]
    },
    {
     "name": "stdout",
     "output_type": "stream",
     "text": [
      "parsing vcf: /projects/somatic/NCI_SAIC_HIV_Cervical/HTMCP-03-06-02121-01A-01D/hg19a/SPC/B68889_B68921/strelka/65729/bwa/results/passed.somatic.snvs.eff.dbSNP_v149.cosmic_v82.clinvar_20170801.annotations.classic.vcf\n",
      "WARNING: empty file>/projects/somatic/NCI_SAIC_HIV_Cervical/HTMCP-03-06-02121-01A-01D/hg19a/SPC/B68889_B68921/strelka/65729/bwa/results/passed.somatic.indels.eff.dbSNP_v149.cosmic_v82.clinvar_20170801.annotations.classic.vcf\n",
      "parsing vcf: /projects/somatic/NCI_SAIC_HIV_Cervical/HTMCP-03-06-02123-01A-01D/hg19a/SPC/B68899_B68932/strelka/65730/bwa/results/passed.somatic.snvs.eff.dbSNP_v149.cosmic_v82.clinvar_20170801.annotations.classic.vcf\n",
      "WARNING: empty file>/projects/somatic/NCI_SAIC_HIV_Cervical/HTMCP-03-06-02123-01A-01D/hg19a/SPC/B68899_B68932/strelka/65730/bwa/results/passed.somatic.indels.eff.dbSNP_v149.cosmic_v82.clinvar_20170801.annotations.classic.vcf\n",
      "parsing vcf: /projects/somatic/NCI_SAIC_HIV_Cervical/HTMCP-03-06-02129-01A-01D/hg19a/SPC/B68911_B68942/strelka/65731/bwa/results/passed.somatic.snvs.eff.dbSNP_v149.cosmic_v82.clinvar_20170801.annotations.classic.vcf\n",
      "parsing vcf: /projects/somatic/NCI_SAIC_HIV_Cervical/HTMCP-03-06-02129-01A-01D/hg19a/SPC/B68911_B68942/strelka/65731/bwa/results/passed.somatic.indels.eff.dbSNP_v149.cosmic_v82.clinvar_20170801.annotations.classic.vcf\n",
      "parsing vcf: /projects/somatic/NCI_SAIC_HIV_Cervical/HTMCP-03-06-02137-01A-01D/hg19a/SPC/B68923_B68953/strelka/65732/bwa/results/passed.somatic.snvs.eff.dbSNP_v149.cosmic_v82.clinvar_20170801.annotations.classic.vcf\n",
      "parsing vcf: /projects/somatic/NCI_SAIC_HIV_Cervical/HTMCP-03-06-02137-01A-01D/hg19a/SPC/B68923_B68953/strelka/65732/bwa/results/passed.somatic.indels.eff.dbSNP_v149.cosmic_v82.clinvar_20170801.annotations.classic.vcf\n",
      "parsing vcf: /projects/somatic/NCI_SAIC_HIV_Cervical/HTMCP-03-06-02138-01A-01D/hg19a/SPC/B68934_B68876/strelka/65733/bwa/results/passed.somatic.snvs.eff.dbSNP_v149.cosmic_v82.clinvar_20170801.annotations.classic.vcf\n",
      "parsing vcf: /projects/somatic/NCI_SAIC_HIV_Cervical/HTMCP-03-06-02138-01A-01D/hg19a/SPC/B68934_B68876/strelka/65733/bwa/results/passed.somatic.indels.eff.dbSNP_v149.cosmic_v82.clinvar_20170801.annotations.classic.vcf\n"
     ]
    },
    {
     "name": "stderr",
     "output_type": "stream",
     "text": [
      "24it [00:01, 22.70it/s]"
     ]
    },
    {
     "name": "stdout",
     "output_type": "stream",
     "text": [
      "parsing vcf: /projects/somatic/NCI_SAIC_HIV_Cervical/HTMCP-03-06-02146-01A-01D/hg19a/SPC/B68944_B68888/strelka/65734/bwa/results/passed.somatic.snvs.eff.dbSNP_v149.cosmic_v82.clinvar_20170801.annotations.classic.vcf\n",
      "WARNING: empty file>/projects/somatic/NCI_SAIC_HIV_Cervical/HTMCP-03-06-02146-01A-01D/hg19a/SPC/B68944_B68888/strelka/65734/bwa/results/passed.somatic.indels.eff.dbSNP_v149.cosmic_v82.clinvar_20170801.annotations.classic.vcf\n",
      "parsing vcf: /projects/somatic/NCI_SAIC_HIV_Cervical/HTMCP-03-06-02158-01A-01D/hg19a/SPC/B68890_B68955/strelka/65735/bwa/results/passed.somatic.snvs.eff.dbSNP_v149.cosmic_v82.clinvar_20170801.annotations.classic.vcf\n",
      "WARNING: empty file>/projects/somatic/NCI_SAIC_HIV_Cervical/HTMCP-03-06-02158-01A-01D/hg19a/SPC/B68890_B68955/strelka/65735/bwa/results/passed.somatic.indels.eff.dbSNP_v149.cosmic_v82.clinvar_20170801.annotations.classic.vcf\n",
      "parsing vcf: /projects/somatic/NCI_SAIC_HIV_Cervical/HTMCP-03-06-02173-01A-01D/hg19a/SPC/B68891_B68878/strelka/65736/bwa/results/passed.somatic.snvs.eff.dbSNP_v149.cosmic_v82.clinvar_20170801.annotations.classic.vcf\n",
      "WARNING: empty file>/projects/somatic/NCI_SAIC_HIV_Cervical/HTMCP-03-06-02173-01A-01D/hg19a/SPC/B68891_B68878/strelka/65736/bwa/results/passed.somatic.indels.eff.dbSNP_v149.cosmic_v82.clinvar_20170801.annotations.classic.vcf\n",
      "parsing vcf: /projects/somatic/NCI_SAIC_HIV_Cervical/HTMCP-03-06-02187-01A-01D/hg19a/SPC/B68913_B68912/strelka/65737/bwa/results/passed.somatic.snvs.eff.dbSNP_v149.cosmic_v82.clinvar_20170801.annotations.classic.vcf\n",
      "WARNING: empty file>/projects/somatic/NCI_SAIC_HIV_Cervical/HTMCP-03-06-02187-01A-01D/hg19a/SPC/B68913_B68912/strelka/65737/bwa/results/passed.somatic.indels.eff.dbSNP_v149.cosmic_v82.clinvar_20170801.annotations.classic.vcf\n",
      "parsing vcf: /projects/somatic/NCI_SAIC_HIV_Cervical/HTMCP-03-06-02188-01A-01D/hg19a/SPC/B68901_B68900/strelka/65738/bwa/results/passed.somatic.snvs.eff.dbSNP_v149.cosmic_v82.clinvar_20170801.annotations.classic.vcf\n"
     ]
    },
    {
     "name": "stderr",
     "output_type": "stream",
     "text": [
      "\r",
      "27it [00:01, 21.82it/s]"
     ]
    },
    {
     "name": "stdout",
     "output_type": "stream",
     "text": [
      "WARNING: empty file>/projects/somatic/NCI_SAIC_HIV_Cervical/HTMCP-03-06-02188-01A-01D/hg19a/SPC/B68901_B68900/strelka/65738/bwa/results/passed.somatic.indels.eff.dbSNP_v149.cosmic_v82.clinvar_20170801.annotations.classic.vcf\n",
      "parsing vcf: /projects/somatic/NCI_SAIC_HIV_Cervical/HTMCP-03-06-02189-01A-01D/hg19a/SPC/B68925_B68924/strelka/65739/bwa/results/passed.somatic.snvs.eff.dbSNP_v149.cosmic_v82.clinvar_20170801.annotations.classic.vcf\n",
      "WARNING: empty file>/projects/somatic/NCI_SAIC_HIV_Cervical/HTMCP-03-06-02189-01A-01D/hg19a/SPC/B68925_B68924/strelka/65739/bwa/results/passed.somatic.indels.eff.dbSNP_v149.cosmic_v82.clinvar_20170801.annotations.classic.vcf\n",
      "parsing vcf: /projects/somatic/NCI_SAIC_HIV_Cervical/HTMCP-03-06-02193-01A-01D/hg19a/SPC/B68936_B68935/strelka/65740/bwa/results/passed.somatic.snvs.eff.dbSNP_v149.cosmic_v82.clinvar_20170801.annotations.classic.vcf\n",
      "WARNING: empty file>/projects/somatic/NCI_SAIC_HIV_Cervical/HTMCP-03-06-02193-01A-01D/hg19a/SPC/B68936_B68935/strelka/65740/bwa/results/passed.somatic.indels.eff.dbSNP_v149.cosmic_v82.clinvar_20170801.annotations.classic.vcf\n",
      "parsing vcf: /projects/somatic/NCI_SAIC_HIV_Cervical/HTMCP-03-06-02206-01A-01D/hg19a/SPC/B68957_B68945/strelka/65741/bwa/results/passed.somatic.snvs.eff.dbSNP_v149.cosmic_v82.clinvar_20170801.annotations.classic.vcf\n",
      "WARNING: empty file>/projects/somatic/NCI_SAIC_HIV_Cervical/HTMCP-03-06-02206-01A-01D/hg19a/SPC/B68957_B68945/strelka/65741/bwa/results/passed.somatic.indels.eff.dbSNP_v149.cosmic_v82.clinvar_20170801.annotations.classic.vcf\n",
      "parsing vcf: /projects/somatic/NCI_SAIC_HIV_Cervical/HTMCP-03-06-02211-01B-01D/hg19a/SPC/B68926_B68956/strelka/65742/bwa/results/passed.somatic.snvs.eff.dbSNP_v149.cosmic_v82.clinvar_20170801.annotations.classic.vcf\n",
      "WARNING: empty file>/projects/somatic/NCI_SAIC_HIV_Cervical/HTMCP-03-06-02211-01B-01D/hg19a/SPC/B68926_B68956/strelka/65742/bwa/results/passed.somatic.indels.eff.dbSNP_v149.cosmic_v82.clinvar_20170801.annotations.classic.vcf\n"
     ]
    },
    {
     "name": "stderr",
     "output_type": "stream",
     "text": [
      "33it [00:01, 20.24it/s]"
     ]
    },
    {
     "name": "stdout",
     "output_type": "stream",
     "text": [
      "parsing vcf: /projects/somatic/NCI_SAIC_HIV_Cervical/HTMCP-03-06-02218-01A-01D/hg19a/SPC/B68880_B68879/strelka/65743/bwa/results/passed.somatic.snvs.eff.dbSNP_v149.cosmic_v82.clinvar_20170801.annotations.classic.vcf\n",
      "WARNING: empty file>/projects/somatic/NCI_SAIC_HIV_Cervical/HTMCP-03-06-02218-01A-01D/hg19a/SPC/B68880_B68879/strelka/65743/bwa/results/passed.somatic.indels.eff.dbSNP_v149.cosmic_v82.clinvar_20170801.annotations.classic.vcf\n",
      "parsing vcf: /projects/somatic/NCI_SAIC_HIV_Cervical/HTMCP-03-06-02220-01A-01D/hg19a/SPC/B68937_B68902/strelka/65744/bwa/results/passed.somatic.snvs.eff.dbSNP_v149.cosmic_v82.clinvar_20170801.annotations.classic.vcf\n",
      "parsing vcf: /projects/somatic/NCI_SAIC_HIV_Cervical/HTMCP-03-06-02220-01A-01D/hg19a/SPC/B68937_B68902/strelka/65744/bwa/results/passed.somatic.indels.eff.dbSNP_v149.cosmic_v82.clinvar_20170801.annotations.classic.vcf\n",
      "parsing vcf: /projects/somatic/NCI_SAIC_HIV_Cervical/HTMCP-03-06-02246-01A-01D/hg19a/SPC/B68947_B68914/strelka/65745/bwa/results/passed.somatic.snvs.eff.dbSNP_v149.cosmic_v82.clinvar_20170801.annotations.classic.vcf\n",
      "WARNING: empty file>/projects/somatic/NCI_SAIC_HIV_Cervical/HTMCP-03-06-02246-01A-01D/hg19a/SPC/B68947_B68914/strelka/65745/bwa/results/passed.somatic.indels.eff.dbSNP_v149.cosmic_v82.clinvar_20170801.annotations.classic.vcf\n",
      "parsing vcf: /projects/somatic/NCI_SAIC_HIV_Cervical/HTMCP-03-06-02321-01A-01D/hg19a/SPC/B68892_B68958/strelka/65746/bwa/results/passed.somatic.snvs.eff.dbSNP_v149.cosmic_v82.clinvar_20170801.annotations.classic.vcf\n",
      "WARNING: empty file>/projects/somatic/NCI_SAIC_HIV_Cervical/HTMCP-03-06-02321-01A-01D/hg19a/SPC/B68892_B68958/strelka/65746/bwa/results/passed.somatic.indels.eff.dbSNP_v149.cosmic_v82.clinvar_20170801.annotations.classic.vcf\n"
     ]
    },
    {
     "name": "stderr",
     "output_type": "stream",
     "text": [
      "\r",
      "36it [00:01, 20.44it/s]"
     ]
    },
    {
     "name": "stdout",
     "output_type": "stream",
     "text": [
      "parsing vcf: /projects/somatic/NCI_SAIC_HIV_Cervical/HTMCP-03-06-02327-01A-01D/hg19a/SPC/B68903_B68881/strelka/65747/bwa/results/passed.somatic.snvs.eff.dbSNP_v149.cosmic_v82.clinvar_20170801.annotations.classic.vcf\n",
      "WARNING: empty file>/projects/somatic/NCI_SAIC_HIV_Cervical/HTMCP-03-06-02327-01A-01D/hg19a/SPC/B68903_B68881/strelka/65747/bwa/results/passed.somatic.indels.eff.dbSNP_v149.cosmic_v82.clinvar_20170801.annotations.classic.vcf\n",
      "parsing vcf: /projects/somatic/NCI_SAIC_HIV_Cervical/HTMCP-03-06-02334-01A-01D/hg19a/SPC/B68961_B68915/strelka/65748/bwa/results/passed.somatic.snvs.eff.dbSNP_v149.cosmic_v82.clinvar_20170801.annotations.classic.vcf\n",
      "WARNING: empty file>/projects/somatic/NCI_SAIC_HIV_Cervical/HTMCP-03-06-02334-01A-01D/hg19a/SPC/B68961_B68915/strelka/65748/bwa/results/passed.somatic.indels.eff.dbSNP_v149.cosmic_v82.clinvar_20170801.annotations.classic.vcf\n",
      "parsing vcf: /projects/somatic/NCI_SAIC_HIV_Cervical/HTMCP-03-06-02337-01A-01D/hg19a/SPC/B68972_B68927/strelka/65749/bwa/results/passed.somatic.snvs.eff.dbSNP_v149.cosmic_v82.clinvar_20170801.annotations.classic.vcf\n",
      "parsing vcf: /projects/somatic/NCI_SAIC_HIV_Cervical/HTMCP-03-06-02337-01A-01D/hg19a/SPC/B68972_B68927/strelka/65749/bwa/results/passed.somatic.indels.eff.dbSNP_v149.cosmic_v82.clinvar_20170801.annotations.classic.vcf\n",
      "parsing vcf: /projects/somatic/NCI_SAIC_HIV_Cervical/HTMCP-03-06-02338-01A-01D/hg19a/SPC/B68983_B68938/strelka/65750/bwa/results/passed.somatic.snvs.eff.dbSNP_v149.cosmic_v82.clinvar_20170801.annotations.classic.vcf\n",
      "WARNING: empty file>/projects/somatic/NCI_SAIC_HIV_Cervical/HTMCP-03-06-02338-01A-01D/hg19a/SPC/B68983_B68938/strelka/65750/bwa/results/passed.somatic.indels.eff.dbSNP_v149.cosmic_v82.clinvar_20170801.annotations.classic.vcf\n"
     ]
    },
    {
     "name": "stderr",
     "output_type": "stream",
     "text": [
      "41it [00:01, 18.40it/s]"
     ]
    },
    {
     "name": "stdout",
     "output_type": "stream",
     "text": [
      "parsing vcf: /projects/somatic/NCI_SAIC_HIV_Cervical/HTMCP-03-06-02339-01A-01D/hg19a/SPC/B68994_B68948/strelka/65751/bwa/results/passed.somatic.snvs.eff.dbSNP_v149.cosmic_v82.clinvar_20170801.annotations.classic.vcf\n",
      "WARNING: empty file>/projects/somatic/NCI_SAIC_HIV_Cervical/HTMCP-03-06-02339-01A-01D/hg19a/SPC/B68994_B68948/strelka/65751/bwa/results/passed.somatic.indels.eff.dbSNP_v149.cosmic_v82.clinvar_20170801.annotations.classic.vcf\n",
      "parsing vcf: /projects/somatic/NCI_SAIC_HIV_Cervical/HTMCP-03-06-02342-01A-01D/hg19a/SPC/B69005_B68959/strelka/65752/bwa/results/passed.somatic.snvs.eff.dbSNP_v149.cosmic_v82.clinvar_20170801.annotations.classic.vcf\n",
      "parsing vcf: /projects/somatic/NCI_SAIC_HIV_Cervical/HTMCP-03-06-02342-01A-01D/hg19a/SPC/B69005_B68959/strelka/65752/bwa/results/passed.somatic.indels.eff.dbSNP_v149.cosmic_v82.clinvar_20170801.annotations.classic.vcf\n",
      "parsing vcf: /projects/somatic/NCI_SAIC_HIV_Cervical/HTMCP-03-06-02343-01A-01D/hg19a/SPC/B69016_B68882/strelka/65753/bwa/results/passed.somatic.snvs.eff.dbSNP_v149.cosmic_v82.clinvar_20170801.annotations.classic.vcf\n",
      "WARNING: empty file>/projects/somatic/NCI_SAIC_HIV_Cervical/HTMCP-03-06-02343-01A-01D/hg19a/SPC/B69016_B68882/strelka/65753/bwa/results/passed.somatic.indels.eff.dbSNP_v149.cosmic_v82.clinvar_20170801.annotations.classic.vcf\n",
      "parsing vcf: /projects/somatic/NCI_SAIC_HIV_Cervical/HTMCP-03-06-02345-01A-01D/hg19a/SPC/B69026_B68893/strelka/65754/bwa/results/passed.somatic.snvs.eff.dbSNP_v149.cosmic_v82.clinvar_20170801.annotations.classic.vcf\n"
     ]
    },
    {
     "name": "stderr",
     "output_type": "stream",
     "text": [
      "\r",
      "44it [00:02, 18.77it/s]"
     ]
    },
    {
     "name": "stdout",
     "output_type": "stream",
     "text": [
      "WARNING: empty file>/projects/somatic/NCI_SAIC_HIV_Cervical/HTMCP-03-06-02345-01A-01D/hg19a/SPC/B69026_B68893/strelka/65754/bwa/results/passed.somatic.indels.eff.dbSNP_v149.cosmic_v82.clinvar_20170801.annotations.classic.vcf\n",
      "parsing vcf: /projects/somatic/NCI_SAIC_HIV_Cervical/HTMCP-03-06-02347-01A-01D/hg19a/SPC/B69036_B68904/strelka/65755/bwa/results/passed.somatic.snvs.eff.dbSNP_v149.cosmic_v82.clinvar_20170801.annotations.classic.vcf\n",
      "WARNING: empty file>/projects/somatic/NCI_SAIC_HIV_Cervical/HTMCP-03-06-02347-01A-01D/hg19a/SPC/B69036_B68904/strelka/65755/bwa/results/passed.somatic.indels.eff.dbSNP_v149.cosmic_v82.clinvar_20170801.annotations.classic.vcf\n",
      "parsing vcf: /projects/somatic/NCI_SAIC_HIV_Cervical/HTMCP-03-06-02352-01A-01D/hg19a/SPC/B68962_B68916/strelka/65756/bwa/results/passed.somatic.snvs.eff.dbSNP_v149.cosmic_v82.clinvar_20170801.annotations.classic.vcf\n",
      "WARNING: empty file>/projects/somatic/NCI_SAIC_HIV_Cervical/HTMCP-03-06-02352-01A-01D/hg19a/SPC/B68962_B68916/strelka/65756/bwa/results/passed.somatic.indels.eff.dbSNP_v149.cosmic_v82.clinvar_20170801.annotations.classic.vcf\n",
      "parsing vcf: /projects/somatic/NCI_SAIC_HIV_Cervical/HTMCP-03-06-02356-01A-01D/hg19a/SPC/B68973_B68928/strelka/65757/bwa/results/passed.somatic.snvs.eff.dbSNP_v149.cosmic_v82.clinvar_20170801.annotations.classic.vcf\n",
      "WARNING: empty file>/projects/somatic/NCI_SAIC_HIV_Cervical/HTMCP-03-06-02356-01A-01D/hg19a/SPC/B68973_B68928/strelka/65757/bwa/results/passed.somatic.indels.eff.dbSNP_v149.cosmic_v82.clinvar_20170801.annotations.classic.vcf\n",
      "parsing vcf: /projects/somatic/NCI_SAIC_HIV_Cervical/HTMCP-03-06-02357-01A-01D/hg19a/SPC/B68984_B68939/strelka/65758/bwa/results/passed.somatic.snvs.eff.dbSNP_v149.cosmic_v82.clinvar_20170801.annotations.classic.vcf\n",
      "WARNING: empty file>/projects/somatic/NCI_SAIC_HIV_Cervical/HTMCP-03-06-02357-01A-01D/hg19a/SPC/B68984_B68939/strelka/65758/bwa/results/passed.somatic.indels.eff.dbSNP_v149.cosmic_v82.clinvar_20170801.annotations.classic.vcf\n"
     ]
    },
    {
     "name": "stderr",
     "output_type": "stream",
     "text": [
      "50it [00:02, 20.69it/s]"
     ]
    },
    {
     "name": "stdout",
     "output_type": "stream",
     "text": [
      "parsing vcf: /projects/somatic/NCI_SAIC_HIV_Cervical/HTMCP-03-06-02360-01A-01D/hg19a/SPC/B68995_B68949/strelka/65759/bwa/results/passed.somatic.snvs.eff.dbSNP_v149.cosmic_v82.clinvar_20170801.annotations.classic.vcf\n",
      "WARNING: empty file>/projects/somatic/NCI_SAIC_HIV_Cervical/HTMCP-03-06-02360-01A-01D/hg19a/SPC/B68995_B68949/strelka/65759/bwa/results/passed.somatic.indels.eff.dbSNP_v149.cosmic_v82.clinvar_20170801.annotations.classic.vcf\n",
      "parsing vcf: /projects/somatic/NCI_SAIC_HIV_Cervical/HTMCP-03-06-02361-01A-01D/hg19a/SPC/B69006_B68960/strelka/65760/bwa/results/passed.somatic.snvs.eff.dbSNP_v149.cosmic_v82.clinvar_20170801.annotations.classic.vcf\n",
      "WARNING: empty file>/projects/somatic/NCI_SAIC_HIV_Cervical/HTMCP-03-06-02361-01A-01D/hg19a/SPC/B69006_B68960/strelka/65760/bwa/results/passed.somatic.indels.eff.dbSNP_v149.cosmic_v82.clinvar_20170801.annotations.classic.vcf\n",
      "parsing vcf: /projects/somatic/NCI_SAIC_HIV_Cervical/HTMCP-03-06-02362-01A-01D/hg19a/SPC/B69017_B68883/strelka/65761/bwa/results/passed.somatic.snvs.eff.dbSNP_v149.cosmic_v82.clinvar_20170801.annotations.classic.vcf\n",
      "WARNING: empty file>/projects/somatic/NCI_SAIC_HIV_Cervical/HTMCP-03-06-02362-01A-01D/hg19a/SPC/B69017_B68883/strelka/65761/bwa/results/passed.somatic.indels.eff.dbSNP_v149.cosmic_v82.clinvar_20170801.annotations.classic.vcf\n",
      "parsing vcf: /projects/somatic/NCI_SAIC_HIV_Cervical/HTMCP-03-06-02363-01A-01D/hg19a/SPC/B69027_B68894/strelka/65762/bwa/results/passed.somatic.snvs.eff.dbSNP_v149.cosmic_v82.clinvar_20170801.annotations.classic.vcf\n",
      "WARNING: empty file>/projects/somatic/NCI_SAIC_HIV_Cervical/HTMCP-03-06-02363-01A-01D/hg19a/SPC/B69027_B68894/strelka/65762/bwa/results/passed.somatic.indels.eff.dbSNP_v149.cosmic_v82.clinvar_20170801.annotations.classic.vcf\n",
      "parsing vcf: /projects/somatic/NCI_SAIC_HIV_Cervical/HTMCP-03-06-02364-01A-01D/hg19a/SPC/B69000_B68974/strelka/65763/bwa/results/passed.somatic.snvs.eff.dbSNP_v149.cosmic_v82.clinvar_20170801.annotations.classic.vcf\n",
      "WARNING: empty file>/projects/somatic/NCI_SAIC_HIV_Cervical/HTMCP-03-06-02364-01A-01D/hg19a/SPC/B69000_B68974/strelka/65763/bwa/results/passed.somatic.indels.eff.dbSNP_v149.cosmic_v82.clinvar_20170801.annotations.classic.vcf\n"
     ]
    },
    {
     "name": "stderr",
     "output_type": "stream",
     "text": [
      "\r",
      "53it [00:02, 20.94it/s]"
     ]
    },
    {
     "name": "stdout",
     "output_type": "stream",
     "text": [
      "parsing vcf: /projects/somatic/NCI_SAIC_HIV_Cervical/HTMCP-03-06-02365-01A-01D/hg19a/SPC/B69037_B68905/strelka/65764/bwa/results/passed.somatic.snvs.eff.dbSNP_v149.cosmic_v82.clinvar_20170801.annotations.classic.vcf\n",
      "WARNING: empty file>/projects/somatic/NCI_SAIC_HIV_Cervical/HTMCP-03-06-02365-01A-01D/hg19a/SPC/B69037_B68905/strelka/65764/bwa/results/passed.somatic.indels.eff.dbSNP_v149.cosmic_v82.clinvar_20170801.annotations.classic.vcf\n",
      "parsing vcf: /projects/somatic/NCI_SAIC_HIV_Cervical/HTMCP-03-06-02366-01A-01D/hg19a/SPC/B68963_B68917/strelka/65765/bwa/results/passed.somatic.snvs.eff.dbSNP_v149.cosmic_v82.clinvar_20170801.annotations.classic.vcf\n",
      "WARNING: empty file>/projects/somatic/NCI_SAIC_HIV_Cervical/HTMCP-03-06-02366-01A-01D/hg19a/SPC/B68963_B68917/strelka/65765/bwa/results/passed.somatic.indels.eff.dbSNP_v149.cosmic_v82.clinvar_20170801.annotations.classic.vcf\n",
      "parsing vcf: /projects/somatic/NCI_SAIC_HIV_Cervical/HTMCP-03-06-02367-01A-01D/hg19a/SPC/B68992_B68977/strelka/65766/bwa/results/passed.somatic.snvs.eff.dbSNP_v149.cosmic_v82.clinvar_20170801.annotations.classic.vcf\n",
      "WARNING: empty file>/projects/somatic/NCI_SAIC_HIV_Cervical/HTMCP-03-06-02367-01A-01D/hg19a/SPC/B68992_B68977/strelka/65766/bwa/results/passed.somatic.indels.eff.dbSNP_v149.cosmic_v82.clinvar_20170801.annotations.classic.vcf\n",
      "parsing vcf: /projects/somatic/NCI_SAIC_HIV_Cervical/HTMCP-03-06-02368-01A-01D/hg19a/SPC/B69003_B68988/strelka/65767/bwa/results/passed.somatic.snvs.eff.dbSNP_v149.cosmic_v82.clinvar_20170801.annotations.classic.vcf\n",
      "WARNING: empty file>/projects/somatic/NCI_SAIC_HIV_Cervical/HTMCP-03-06-02368-01A-01D/hg19a/SPC/B69003_B68988/strelka/65767/bwa/results/passed.somatic.indels.eff.dbSNP_v149.cosmic_v82.clinvar_20170801.annotations.classic.vcf\n",
      "parsing vcf: /projects/somatic/NCI_SAIC_HIV_Cervical/HTMCP-03-06-02369-01A-01D/hg19a/SPC/B69014_B68999/strelka/65768/bwa/results/passed.somatic.snvs.eff.dbSNP_v149.cosmic_v82.clinvar_20170801.annotations.classic.vcf\n"
     ]
    },
    {
     "name": "stderr",
     "output_type": "stream",
     "text": [
      "59it [00:02, 21.39it/s]"
     ]
    },
    {
     "name": "stdout",
     "output_type": "stream",
     "text": [
      "WARNING: empty file>/projects/somatic/NCI_SAIC_HIV_Cervical/HTMCP-03-06-02369-01A-01D/hg19a/SPC/B69014_B68999/strelka/65768/bwa/results/passed.somatic.indels.eff.dbSNP_v149.cosmic_v82.clinvar_20170801.annotations.classic.vcf\n",
      "parsing vcf: /projects/somatic/NCI_SAIC_HIV_Cervical/HTMCP-03-06-02370-01A-01D/hg19a/SPC/B69011_B68985/strelka/65769/bwa/results/passed.somatic.snvs.eff.dbSNP_v149.cosmic_v82.clinvar_20170801.annotations.classic.vcf\n",
      "WARNING: empty file>/projects/somatic/NCI_SAIC_HIV_Cervical/HTMCP-03-06-02370-01A-01D/hg19a/SPC/B69011_B68985/strelka/65769/bwa/results/passed.somatic.indels.eff.dbSNP_v149.cosmic_v82.clinvar_20170801.annotations.classic.vcf\n",
      "parsing vcf: /projects/somatic/NCI_SAIC_HIV_Cervical/HTMCP-03-06-02373-01A-01D/hg19a/SPC/B69025_B69010/strelka/65770/bwa/results/passed.somatic.snvs.eff.dbSNP_v149.cosmic_v82.clinvar_20170801.annotations.classic.vcf\n",
      "WARNING: empty file>/projects/somatic/NCI_SAIC_HIV_Cervical/HTMCP-03-06-02373-01A-01D/hg19a/SPC/B69025_B69010/strelka/65770/bwa/results/passed.somatic.indels.eff.dbSNP_v149.cosmic_v82.clinvar_20170801.annotations.classic.vcf\n",
      "parsing vcf: /projects/somatic/NCI_SAIC_HIV_Cervical/HTMCP-03-06-02376-01A-01D/hg19a/SPC/B69022_B68996/strelka/65771/bwa/results/passed.somatic.snvs.eff.dbSNP_v149.cosmic_v82.clinvar_20170801.annotations.classic.vcf\n",
      "WARNING: empty file>/projects/somatic/NCI_SAIC_HIV_Cervical/HTMCP-03-06-02376-01A-01D/hg19a/SPC/B69022_B68996/strelka/65771/bwa/results/passed.somatic.indels.eff.dbSNP_v149.cosmic_v82.clinvar_20170801.annotations.classic.vcf\n",
      "parsing vcf: /projects/somatic/NCI_SAIC_HIV_Cervical/HTMCP-03-06-02379-01A-01D/hg19a/SPC/B69032_B69007/strelka/65772/bwa/results/passed.somatic.snvs.eff.dbSNP_v149.cosmic_v82.clinvar_20170801.annotations.classic.vcf\n",
      "parsing vcf: /projects/somatic/NCI_SAIC_HIV_Cervical/HTMCP-03-06-02379-01A-01D/hg19a/SPC/B69032_B69007/strelka/65772/bwa/results/passed.somatic.indels.eff.dbSNP_v149.cosmic_v82.clinvar_20170801.annotations.classic.vcf\n"
     ]
    },
    {
     "name": "stderr",
     "output_type": "stream",
     "text": [
      "\r",
      "62it [00:02, 20.28it/s]"
     ]
    },
    {
     "name": "stdout",
     "output_type": "stream",
     "text": [
      "parsing vcf: /projects/somatic/NCI_SAIC_HIV_Cervical/HTMCP-03-06-02380-01A-01D/hg19a/SPC/B69042_B69018/strelka/65773/bwa/results/passed.somatic.snvs.eff.dbSNP_v149.cosmic_v82.clinvar_20170801.annotations.classic.vcf\n",
      "WARNING: empty file>/projects/somatic/NCI_SAIC_HIV_Cervical/HTMCP-03-06-02380-01A-01D/hg19a/SPC/B69042_B69018/strelka/65773/bwa/results/passed.somatic.indels.eff.dbSNP_v149.cosmic_v82.clinvar_20170801.annotations.classic.vcf\n",
      "parsing vcf: /projects/somatic/NCI_SAIC_HIV_Cervical/HTMCP-03-06-02383-01A-01D/hg19a/SPC/B68968_B69028/strelka/65774/bwa/results/passed.somatic.snvs.eff.dbSNP_v149.cosmic_v82.clinvar_20170801.annotations.classic.vcf\n",
      "WARNING: empty file>/projects/somatic/NCI_SAIC_HIV_Cervical/HTMCP-03-06-02383-01A-01D/hg19a/SPC/B68968_B69028/strelka/65774/bwa/results/passed.somatic.indels.eff.dbSNP_v149.cosmic_v82.clinvar_20170801.annotations.classic.vcf\n",
      "parsing vcf: /projects/somatic/NCI_SAIC_HIV_Cervical/HTMCP-03-06-02384-01A-01D/hg19a/SPC/B68979_B69038/strelka/65775/bwa/results/passed.somatic.snvs.eff.dbSNP_v149.cosmic_v82.clinvar_20170801.annotations.classic.vcf\n",
      "WARNING: empty file>/projects/somatic/NCI_SAIC_HIV_Cervical/HTMCP-03-06-02384-01A-01D/hg19a/SPC/B68979_B69038/strelka/65775/bwa/results/passed.somatic.indels.eff.dbSNP_v149.cosmic_v82.clinvar_20170801.annotations.classic.vcf\n",
      "parsing vcf: /projects/somatic/NCI_SAIC_HIV_Cervical/HTMCP-03-06-02385-01A-01D/hg19a/SPC/B68990_B68964/strelka/65776/bwa/results/passed.somatic.snvs.eff.dbSNP_v149.cosmic_v82.clinvar_20170801.annotations.classic.vcf\n",
      "WARNING: empty file>/projects/somatic/NCI_SAIC_HIV_Cervical/HTMCP-03-06-02385-01A-01D/hg19a/SPC/B68990_B68964/strelka/65776/bwa/results/passed.somatic.indels.eff.dbSNP_v149.cosmic_v82.clinvar_20170801.annotations.classic.vcf\n",
      "parsing vcf: /projects/somatic/NCI_SAIC_HIV_Cervical/HTMCP-03-06-02386-01C-01D/hg19a/SPC/B69001_B68975/strelka/65777/bwa/results/passed.somatic.snvs.eff.dbSNP_v149.cosmic_v82.clinvar_20170801.annotations.classic.vcf\n"
     ]
    },
    {
     "name": "stderr",
     "output_type": "stream",
     "text": [
      "68it [00:03, 21.28it/s]"
     ]
    },
    {
     "name": "stdout",
     "output_type": "stream",
     "text": [
      "WARNING: empty file>/projects/somatic/NCI_SAIC_HIV_Cervical/HTMCP-03-06-02386-01C-01D/hg19a/SPC/B69001_B68975/strelka/65777/bwa/results/passed.somatic.indels.eff.dbSNP_v149.cosmic_v82.clinvar_20170801.annotations.classic.vcf\n",
      "parsing vcf: /projects/somatic/NCI_SAIC_HIV_Cervical/HTMCP-03-06-02387-01A-01D/hg19a/SPC/B69012_B68986/strelka/65778/bwa/results/passed.somatic.snvs.eff.dbSNP_v149.cosmic_v82.clinvar_20170801.annotations.classic.vcf\n",
      "WARNING: empty file>/projects/somatic/NCI_SAIC_HIV_Cervical/HTMCP-03-06-02387-01A-01D/hg19a/SPC/B69012_B68986/strelka/65778/bwa/results/passed.somatic.indels.eff.dbSNP_v149.cosmic_v82.clinvar_20170801.annotations.classic.vcf\n",
      "parsing vcf: /projects/somatic/NCI_SAIC_HIV_Cervical/HTMCP-03-06-02389-01A-01D/hg19a/SPC/B69015_B68997/strelka/65779/bwa/results/passed.somatic.snvs.eff.dbSNP_v149.cosmic_v82.clinvar_20170801.annotations.classic.vcf\n",
      "WARNING: empty file>/projects/somatic/NCI_SAIC_HIV_Cervical/HTMCP-03-06-02389-01A-01D/hg19a/SPC/B69015_B68997/strelka/65779/bwa/results/passed.somatic.indels.eff.dbSNP_v149.cosmic_v82.clinvar_20170801.annotations.classic.vcf\n",
      "parsing vcf: /projects/somatic/NCI_SAIC_HIV_Cervical/HTMCP-03-06-02394-01A-01D/hg19a/SPC/B69023_B69008/strelka/65780/bwa/results/passed.somatic.snvs.eff.dbSNP_v149.cosmic_v82.clinvar_20170801.annotations.classic.vcf\n",
      "WARNING: empty file>/projects/somatic/NCI_SAIC_HIV_Cervical/HTMCP-03-06-02394-01A-01D/hg19a/SPC/B69023_B69008/strelka/65780/bwa/results/passed.somatic.indels.eff.dbSNP_v149.cosmic_v82.clinvar_20170801.annotations.classic.vcf\n",
      "parsing vcf: /projects/somatic/NCI_SAIC_HIV_Cervical/HTMCP-03-06-02397-01A-01D/hg19a/SPC/B69033_B69019/strelka/65781/bwa/results/passed.somatic.snvs.eff.dbSNP_v149.cosmic_v82.clinvar_20170801.annotations.classic.vcf\n",
      "parsing vcf: /projects/somatic/NCI_SAIC_HIV_Cervical/HTMCP-03-06-02397-01A-01D/hg19a/SPC/B69033_B69019/strelka/65781/bwa/results/passed.somatic.indels.eff.dbSNP_v149.cosmic_v82.clinvar_20170801.annotations.classic.vcf\n"
     ]
    },
    {
     "name": "stderr",
     "output_type": "stream",
     "text": [
      "\r",
      "71it [00:03, 20.12it/s]"
     ]
    },
    {
     "name": "stdout",
     "output_type": "stream",
     "text": [
      "parsing vcf: /projects/somatic/NCI_SAIC_HIV_Cervical/HTMCP-03-06-02399-01A-01D/hg19a/SPC/B69043_B69029/strelka/65782/bwa/results/passed.somatic.snvs.eff.dbSNP_v149.cosmic_v82.clinvar_20170801.annotations.classic.vcf\n",
      "WARNING: empty file>/projects/somatic/NCI_SAIC_HIV_Cervical/HTMCP-03-06-02399-01A-01D/hg19a/SPC/B69043_B69029/strelka/65782/bwa/results/passed.somatic.indels.eff.dbSNP_v149.cosmic_v82.clinvar_20170801.annotations.classic.vcf\n",
      "parsing vcf: /projects/somatic/NCI_SAIC_HIV_Cervical/HTMCP-03-06-02400-01A-01D/hg19a/SPC/B68969_B69039/strelka/65783/bwa/results/passed.somatic.snvs.eff.dbSNP_v149.cosmic_v82.clinvar_20170801.annotations.classic.vcf\n",
      "WARNING: empty file>/projects/somatic/NCI_SAIC_HIV_Cervical/HTMCP-03-06-02400-01A-01D/hg19a/SPC/B68969_B69039/strelka/65783/bwa/results/passed.somatic.indels.eff.dbSNP_v149.cosmic_v82.clinvar_20170801.annotations.classic.vcf\n",
      "parsing vcf: /projects/somatic/NCI_SAIC_HIV_Cervical/HTMCP-03-06-02402-01A-01D/hg19a/SPC/B68980_B68965/strelka/65784/bwa/results/passed.somatic.snvs.eff.dbSNP_v149.cosmic_v82.clinvar_20170801.annotations.classic.vcf\n",
      "WARNING: empty file>/projects/somatic/NCI_SAIC_HIV_Cervical/HTMCP-03-06-02402-01A-01D/hg19a/SPC/B68980_B68965/strelka/65784/bwa/results/passed.somatic.indels.eff.dbSNP_v149.cosmic_v82.clinvar_20170801.annotations.classic.vcf\n",
      "parsing vcf: /projects/somatic/NCI_SAIC_HIV_Cervical/HTMCP-03-06-02404-01A-01D/hg19a/SPC/B68991_B68976/strelka/65785/bwa/results/passed.somatic.snvs.eff.dbSNP_v149.cosmic_v82.clinvar_20170801.annotations.classic.vcf\n",
      "parsing vcf: /projects/somatic/NCI_SAIC_HIV_Cervical/HTMCP-03-06-02404-01A-01D/hg19a/SPC/B68991_B68976/strelka/65785/bwa/results/passed.somatic.indels.eff.dbSNP_v149.cosmic_v82.clinvar_20170801.annotations.classic.vcf\n"
     ]
    },
    {
     "name": "stderr",
     "output_type": "stream",
     "text": [
      "76it [00:03, 18.17it/s]"
     ]
    },
    {
     "name": "stdout",
     "output_type": "stream",
     "text": [
      "parsing vcf: /projects/somatic/NCI_SAIC_HIV_Cervical/HTMCP-03-06-02406-01A-01D/hg19a/SPC/B69002_B68987/strelka/65786/bwa/results/passed.somatic.snvs.eff.dbSNP_v149.cosmic_v82.clinvar_20170801.annotations.classic.vcf\n",
      "parsing vcf: /projects/somatic/NCI_SAIC_HIV_Cervical/HTMCP-03-06-02406-01A-01D/hg19a/SPC/B69002_B68987/strelka/65786/bwa/results/passed.somatic.indels.eff.dbSNP_v149.cosmic_v82.clinvar_20170801.annotations.classic.vcf\n",
      "parsing vcf: /projects/somatic/NCI_SAIC_HIV_Cervical/HTMCP-03-06-02407-01A-01D/hg19a/SPC/B69013_B68998/strelka/65787/bwa/results/passed.somatic.snvs.eff.dbSNP_v149.cosmic_v82.clinvar_20170801.annotations.classic.vcf\n",
      "parsing vcf: /projects/somatic/NCI_SAIC_HIV_Cervical/HTMCP-03-06-02407-01A-01D/hg19a/SPC/B69013_B68998/strelka/65787/bwa/results/passed.somatic.indels.eff.dbSNP_v149.cosmic_v82.clinvar_20170801.annotations.classic.vcf\n",
      "parsing vcf: /projects/somatic/NCI_SAIC_HIV_Cervical/HTMCP-03-06-02408-01A-01D/hg19a/SPC/B69024_B69009/strelka/65788/bwa/results/passed.somatic.snvs.eff.dbSNP_v149.cosmic_v82.clinvar_20170801.annotations.classic.vcf\n",
      "WARNING: empty file>/projects/somatic/NCI_SAIC_HIV_Cervical/HTMCP-03-06-02408-01A-01D/hg19a/SPC/B69024_B69009/strelka/65788/bwa/results/passed.somatic.indels.eff.dbSNP_v149.cosmic_v82.clinvar_20170801.annotations.classic.vcf\n",
      "parsing vcf: /projects/somatic/NCI_SAIC_HIV_Cervical/HTMCP-03-06-02409-01A-01D/hg19a/SPC/B69034_B69020/strelka/65789/bwa/results/passed.somatic.snvs.eff.dbSNP_v149.cosmic_v82.clinvar_20170801.annotations.classic.vcf\n"
     ]
    },
    {
     "name": "stderr",
     "output_type": "stream",
     "text": [
      "\r",
      "79it [00:03, 18.26it/s]"
     ]
    },
    {
     "name": "stdout",
     "output_type": "stream",
     "text": [
      "WARNING: empty file>/projects/somatic/NCI_SAIC_HIV_Cervical/HTMCP-03-06-02409-01A-01D/hg19a/SPC/B69034_B69020/strelka/65789/bwa/results/passed.somatic.indels.eff.dbSNP_v149.cosmic_v82.clinvar_20170801.annotations.classic.vcf\n",
      "parsing vcf: /projects/somatic/NCI_SAIC_HIV_Cervical/HTMCP-03-06-02410-01A-01D/hg19a/SPC/B69044_B69030/strelka/65790/bwa/results/passed.somatic.snvs.eff.dbSNP_v149.cosmic_v82.clinvar_20170801.annotations.classic.vcf\n",
      "WARNING: empty file>/projects/somatic/NCI_SAIC_HIV_Cervical/HTMCP-03-06-02410-01A-01D/hg19a/SPC/B69044_B69030/strelka/65790/bwa/results/passed.somatic.indels.eff.dbSNP_v149.cosmic_v82.clinvar_20170801.annotations.classic.vcf\n",
      "parsing vcf: /projects/somatic/NCI_SAIC_HIV_Cervical/HTMCP-03-06-02412-01A-01D/hg19a/SPC/B68970_B69040/strelka/65791/bwa/results/passed.somatic.snvs.eff.dbSNP_v149.cosmic_v82.clinvar_20170801.annotations.classic.vcf\n",
      "parsing vcf: /projects/somatic/NCI_SAIC_HIV_Cervical/HTMCP-03-06-02412-01A-01D/hg19a/SPC/B68970_B69040/strelka/65791/bwa/results/passed.somatic.indels.eff.dbSNP_v149.cosmic_v82.clinvar_20170801.annotations.classic.vcf\n",
      "parsing vcf: /projects/somatic/NCI_SAIC_HIV_Cervical/HTMCP-03-06-02416-01A-01D/hg19a/SPC/B68981_B68966/strelka/65792/bwa/results/passed.somatic.snvs.eff.dbSNP_v149.cosmic_v82.clinvar_20170801.annotations.classic.vcf\n",
      "WARNING: empty file>/projects/somatic/NCI_SAIC_HIV_Cervical/HTMCP-03-06-02416-01A-01D/hg19a/SPC/B68981_B68966/strelka/65792/bwa/results/passed.somatic.indels.eff.dbSNP_v149.cosmic_v82.clinvar_20170801.annotations.classic.vcf\n",
      "parsing vcf: /projects/somatic/NCI_SAIC_HIV_Cervical/HTMCP-03-06-02421-01A-01D/hg19a/SPC/B69035_B69021/strelka/65793/bwa/results/passed.somatic.snvs.eff.dbSNP_v149.cosmic_v82.clinvar_20170801.annotations.classic.vcf\n"
     ]
    },
    {
     "name": "stderr",
     "output_type": "stream",
     "text": [
      "\r",
      "82it [00:03, 18.97it/s]"
     ]
    },
    {
     "name": "stdout",
     "output_type": "stream",
     "text": [
      "WARNING: empty file>/projects/somatic/NCI_SAIC_HIV_Cervical/HTMCP-03-06-02421-01A-01D/hg19a/SPC/B69035_B69021/strelka/65793/bwa/results/passed.somatic.indels.eff.dbSNP_v149.cosmic_v82.clinvar_20170801.annotations.classic.vcf\n",
      "parsing vcf: /projects/somatic/NCI_SAIC_HIV_Cervical/HTMCP-03-06-02423-01A-01D/hg19a/SPC/B69045_B69031/strelka/65794/bwa/results/passed.somatic.snvs.eff.dbSNP_v149.cosmic_v82.clinvar_20170801.annotations.classic.vcf\n",
      "WARNING: empty file>/projects/somatic/NCI_SAIC_HIV_Cervical/HTMCP-03-06-02423-01A-01D/hg19a/SPC/B69045_B69031/strelka/65794/bwa/results/passed.somatic.indels.eff.dbSNP_v149.cosmic_v82.clinvar_20170801.annotations.classic.vcf\n",
      "parsing vcf: /projects/somatic/NCI_SAIC_HIV_Cervical/HTMCP-03-06-02425-01A-01D/hg19a/SPC/B68971_B69041/strelka/65795/bwa/results/passed.somatic.snvs.eff.dbSNP_v149.cosmic_v82.clinvar_20170801.annotations.classic.vcf\n",
      "WARNING: empty file>/projects/somatic/NCI_SAIC_HIV_Cervical/HTMCP-03-06-02425-01A-01D/hg19a/SPC/B68971_B69041/strelka/65795/bwa/results/passed.somatic.indels.eff.dbSNP_v149.cosmic_v82.clinvar_20170801.annotations.classic.vcf\n",
      "parsing vcf: /projects/somatic/NCI_SAIC_HIV_Cervical/HTMCP-03-06-02426-01A-01D/hg19a/SPC/B68982_B68967/strelka/65796/bwa/results/passed.somatic.snvs.eff.dbSNP_v149.cosmic_v82.clinvar_20170801.annotations.classic.vcf\n",
      "WARNING: empty file>/projects/somatic/NCI_SAIC_HIV_Cervical/HTMCP-03-06-02426-01A-01D/hg19a/SPC/B68982_B68967/strelka/65796/bwa/results/passed.somatic.indels.eff.dbSNP_v149.cosmic_v82.clinvar_20170801.annotations.classic.vcf\n",
      "parsing vcf: /projects/somatic/NCI_SAIC_HIV_Cervical/HTMCP-03-06-02439-01A-01D/hg19a/SPC/B68993_B68978/strelka/65797/bwa/results/passed.somatic.snvs.eff.dbSNP_v149.cosmic_v82.clinvar_20170801.annotations.classic.vcf\n",
      "WARNING: empty file>/projects/somatic/NCI_SAIC_HIV_Cervical/HTMCP-03-06-02439-01A-01D/hg19a/SPC/B68993_B68978/strelka/65797/bwa/results/passed.somatic.indels.eff.dbSNP_v149.cosmic_v82.clinvar_20170801.annotations.classic.vcf\n"
     ]
    },
    {
     "name": "stderr",
     "output_type": "stream",
     "text": [
      "86it [00:04, 20.69it/s]"
     ]
    },
    {
     "name": "stdout",
     "output_type": "stream",
     "text": [
      "parsing vcf: /projects/somatic/NCI_SAIC_HIV_Cervical/HTMCP-03-06-02446-01A-01D/hg19a/SPC/B69004_B68989/strelka/65798/bwa/results/passed.somatic.snvs.eff.dbSNP_v149.cosmic_v82.clinvar_20170801.annotations.classic.vcf\n",
      "WARNING: empty file>/projects/somatic/NCI_SAIC_HIV_Cervical/HTMCP-03-06-02446-01A-01D/hg19a/SPC/B69004_B68989/strelka/65798/bwa/results/passed.somatic.indels.eff.dbSNP_v149.cosmic_v82.clinvar_20170801.annotations.classic.vcf\n"
     ]
    },
    {
     "name": "stderr",
     "output_type": "stream",
     "text": [
      "\n"
     ]
    }
   ],
   "source": [
    "parser = VcfParser(impacts, df=df)\n",
    "dfmg = parser.summarize_cohort()"
   ]
  },
  {
   "cell_type": "code",
   "execution_count": 21,
   "metadata": {},
   "outputs": [
    {
     "data": {
      "text/plain": [
       "(2275, 11)"
      ]
     },
     "execution_count": 21,
     "metadata": {},
     "output_type": "execute_result"
    },
    {
     "data": {
      "text/html": [
       "<div>\n",
       "<style scoped>\n",
       "    .dataframe tbody tr th:only-of-type {\n",
       "        vertical-align: middle;\n",
       "    }\n",
       "\n",
       "    .dataframe tbody tr th {\n",
       "        vertical-align: top;\n",
       "    }\n",
       "\n",
       "    .dataframe thead th {\n",
       "        text-align: right;\n",
       "    }\n",
       "</style>\n",
       "<table border=\"1\" class=\"dataframe\">\n",
       "  <thead>\n",
       "    <tr style=\"text-align: right;\">\n",
       "      <th></th>\n",
       "      <th>chr</th>\n",
       "      <th>pos</th>\n",
       "      <th>ref</th>\n",
       "      <th>alt</th>\n",
       "      <th>patient</th>\n",
       "      <th>impact</th>\n",
       "      <th>impact_type</th>\n",
       "      <th>type</th>\n",
       "      <th>AA_change</th>\n",
       "      <th>gene</th>\n",
       "      <th>transcript</th>\n",
       "    </tr>\n",
       "  </thead>\n",
       "  <tbody>\n",
       "    <tr>\n",
       "      <td>0</td>\n",
       "      <td>1</td>\n",
       "      <td>121484536</td>\n",
       "      <td>C</td>\n",
       "      <td>T</td>\n",
       "      <td>HTMCP-03-06-02025-01A-01D</td>\n",
       "      <td>INTERGENIC</td>\n",
       "      <td>MODIFIER</td>\n",
       "      <td></td>\n",
       "      <td></td>\n",
       "      <td></td>\n",
       "      <td></td>\n",
       "    </tr>\n",
       "    <tr>\n",
       "      <td>1</td>\n",
       "      <td>1</td>\n",
       "      <td>121484671</td>\n",
       "      <td>T</td>\n",
       "      <td>G</td>\n",
       "      <td>HTMCP-03-06-02025-01A-01D</td>\n",
       "      <td>INTERGENIC</td>\n",
       "      <td>MODIFIER</td>\n",
       "      <td></td>\n",
       "      <td></td>\n",
       "      <td></td>\n",
       "      <td></td>\n",
       "    </tr>\n",
       "  </tbody>\n",
       "</table>\n",
       "</div>"
      ],
      "text/plain": [
       "  chr        pos ref alt                    patient      impact impact_type  \\\n",
       "0   1  121484536   C   T  HTMCP-03-06-02025-01A-01D  INTERGENIC    MODIFIER   \n",
       "1   1  121484671   T   G  HTMCP-03-06-02025-01A-01D  INTERGENIC    MODIFIER   \n",
       "\n",
       "  type AA_change gene transcript  \n",
       "0                                 \n",
       "1                                 "
      ]
     },
     "execution_count": 21,
     "metadata": {},
     "output_type": "execute_result"
    },
    {
     "data": {
      "text/html": [
       "<div>\n",
       "<style scoped>\n",
       "    .dataframe tbody tr th:only-of-type {\n",
       "        vertical-align: middle;\n",
       "    }\n",
       "\n",
       "    .dataframe tbody tr th {\n",
       "        vertical-align: top;\n",
       "    }\n",
       "\n",
       "    .dataframe thead th {\n",
       "        text-align: right;\n",
       "    }\n",
       "</style>\n",
       "<table border=\"1\" class=\"dataframe\">\n",
       "  <thead>\n",
       "    <tr style=\"text-align: right;\">\n",
       "      <th></th>\n",
       "      <th>chr</th>\n",
       "      <th>pos</th>\n",
       "      <th>ref</th>\n",
       "      <th>alt</th>\n",
       "      <th>patient</th>\n",
       "      <th>impact</th>\n",
       "      <th>impact_type</th>\n",
       "      <th>type</th>\n",
       "      <th>AA_change</th>\n",
       "      <th>gene</th>\n",
       "      <th>transcript</th>\n",
       "    </tr>\n",
       "  </thead>\n",
       "  <tbody>\n",
       "    <tr>\n",
       "      <td>6</td>\n",
       "      <td>6</td>\n",
       "      <td>142706206</td>\n",
       "      <td>G</td>\n",
       "      <td>A</td>\n",
       "      <td>HTMCP-03-06-02025-01A-01D</td>\n",
       "      <td>DOWNSTREAM</td>\n",
       "      <td>MODIFIER</td>\n",
       "      <td></td>\n",
       "      <td></td>\n",
       "      <td>GPR126</td>\n",
       "      <td>ENST00000545477</td>\n",
       "    </tr>\n",
       "    <tr>\n",
       "      <td>6</td>\n",
       "      <td>6</td>\n",
       "      <td>142706206</td>\n",
       "      <td>G</td>\n",
       "      <td>A</td>\n",
       "      <td>HTMCP-03-06-02025-01A-01D</td>\n",
       "      <td>INTRON</td>\n",
       "      <td>MODIFIER</td>\n",
       "      <td></td>\n",
       "      <td></td>\n",
       "      <td>GPR126</td>\n",
       "      <td>ENST00000367609</td>\n",
       "    </tr>\n",
       "    <tr>\n",
       "      <td>6</td>\n",
       "      <td>6</td>\n",
       "      <td>142706206</td>\n",
       "      <td>G</td>\n",
       "      <td>A</td>\n",
       "      <td>HTMCP-03-06-02025-01A-01D</td>\n",
       "      <td>INTRON</td>\n",
       "      <td>MODIFIER</td>\n",
       "      <td></td>\n",
       "      <td></td>\n",
       "      <td>GPR126</td>\n",
       "      <td>ENST00000230173</td>\n",
       "    </tr>\n",
       "    <tr>\n",
       "      <td>6</td>\n",
       "      <td>6</td>\n",
       "      <td>142706206</td>\n",
       "      <td>G</td>\n",
       "      <td>A</td>\n",
       "      <td>HTMCP-03-06-02025-01A-01D</td>\n",
       "      <td>INTRON</td>\n",
       "      <td>MODIFIER</td>\n",
       "      <td></td>\n",
       "      <td></td>\n",
       "      <td>GPR126</td>\n",
       "      <td>ENST00000367608</td>\n",
       "    </tr>\n",
       "    <tr>\n",
       "      <td>6</td>\n",
       "      <td>6</td>\n",
       "      <td>142706206</td>\n",
       "      <td>G</td>\n",
       "      <td>A</td>\n",
       "      <td>HTMCP-03-06-02025-01A-01D</td>\n",
       "      <td>INTRON</td>\n",
       "      <td>MODIFIER</td>\n",
       "      <td></td>\n",
       "      <td></td>\n",
       "      <td>GPR126</td>\n",
       "      <td>ENST00000296932</td>\n",
       "    </tr>\n",
       "    <tr>\n",
       "      <td>2</td>\n",
       "      <td>6</td>\n",
       "      <td>142706206</td>\n",
       "      <td>G</td>\n",
       "      <td>A</td>\n",
       "      <td>HTMCP-03-06-02061-01A-01D</td>\n",
       "      <td>DOWNSTREAM</td>\n",
       "      <td>MODIFIER</td>\n",
       "      <td></td>\n",
       "      <td></td>\n",
       "      <td>GPR126</td>\n",
       "      <td>ENST00000545477</td>\n",
       "    </tr>\n",
       "    <tr>\n",
       "      <td>2</td>\n",
       "      <td>6</td>\n",
       "      <td>142706206</td>\n",
       "      <td>G</td>\n",
       "      <td>A</td>\n",
       "      <td>HTMCP-03-06-02061-01A-01D</td>\n",
       "      <td>INTRON</td>\n",
       "      <td>MODIFIER</td>\n",
       "      <td></td>\n",
       "      <td></td>\n",
       "      <td>GPR126</td>\n",
       "      <td>ENST00000367609</td>\n",
       "    </tr>\n",
       "    <tr>\n",
       "      <td>2</td>\n",
       "      <td>6</td>\n",
       "      <td>142706206</td>\n",
       "      <td>G</td>\n",
       "      <td>A</td>\n",
       "      <td>HTMCP-03-06-02061-01A-01D</td>\n",
       "      <td>INTRON</td>\n",
       "      <td>MODIFIER</td>\n",
       "      <td></td>\n",
       "      <td></td>\n",
       "      <td>GPR126</td>\n",
       "      <td>ENST00000230173</td>\n",
       "    </tr>\n",
       "    <tr>\n",
       "      <td>2</td>\n",
       "      <td>6</td>\n",
       "      <td>142706206</td>\n",
       "      <td>G</td>\n",
       "      <td>A</td>\n",
       "      <td>HTMCP-03-06-02061-01A-01D</td>\n",
       "      <td>INTRON</td>\n",
       "      <td>MODIFIER</td>\n",
       "      <td></td>\n",
       "      <td></td>\n",
       "      <td>GPR126</td>\n",
       "      <td>ENST00000367608</td>\n",
       "    </tr>\n",
       "    <tr>\n",
       "      <td>2</td>\n",
       "      <td>6</td>\n",
       "      <td>142706206</td>\n",
       "      <td>G</td>\n",
       "      <td>A</td>\n",
       "      <td>HTMCP-03-06-02061-01A-01D</td>\n",
       "      <td>INTRON</td>\n",
       "      <td>MODIFIER</td>\n",
       "      <td></td>\n",
       "      <td></td>\n",
       "      <td>GPR126</td>\n",
       "      <td>ENST00000296932</td>\n",
       "    </tr>\n",
       "    <tr>\n",
       "      <td>5</td>\n",
       "      <td>6</td>\n",
       "      <td>142706206</td>\n",
       "      <td>G</td>\n",
       "      <td>T</td>\n",
       "      <td>HTMCP-03-06-02111-01A-01D</td>\n",
       "      <td>DOWNSTREAM</td>\n",
       "      <td>MODIFIER</td>\n",
       "      <td></td>\n",
       "      <td></td>\n",
       "      <td>GPR126</td>\n",
       "      <td>ENST00000545477</td>\n",
       "    </tr>\n",
       "    <tr>\n",
       "      <td>5</td>\n",
       "      <td>6</td>\n",
       "      <td>142706206</td>\n",
       "      <td>G</td>\n",
       "      <td>T</td>\n",
       "      <td>HTMCP-03-06-02111-01A-01D</td>\n",
       "      <td>INTRON</td>\n",
       "      <td>MODIFIER</td>\n",
       "      <td></td>\n",
       "      <td></td>\n",
       "      <td>GPR126</td>\n",
       "      <td>ENST00000367609</td>\n",
       "    </tr>\n",
       "    <tr>\n",
       "      <td>5</td>\n",
       "      <td>6</td>\n",
       "      <td>142706206</td>\n",
       "      <td>G</td>\n",
       "      <td>T</td>\n",
       "      <td>HTMCP-03-06-02111-01A-01D</td>\n",
       "      <td>INTRON</td>\n",
       "      <td>MODIFIER</td>\n",
       "      <td></td>\n",
       "      <td></td>\n",
       "      <td>GPR126</td>\n",
       "      <td>ENST00000230173</td>\n",
       "    </tr>\n",
       "    <tr>\n",
       "      <td>5</td>\n",
       "      <td>6</td>\n",
       "      <td>142706206</td>\n",
       "      <td>G</td>\n",
       "      <td>T</td>\n",
       "      <td>HTMCP-03-06-02111-01A-01D</td>\n",
       "      <td>INTRON</td>\n",
       "      <td>MODIFIER</td>\n",
       "      <td></td>\n",
       "      <td></td>\n",
       "      <td>GPR126</td>\n",
       "      <td>ENST00000367608</td>\n",
       "    </tr>\n",
       "    <tr>\n",
       "      <td>5</td>\n",
       "      <td>6</td>\n",
       "      <td>142706206</td>\n",
       "      <td>G</td>\n",
       "      <td>T</td>\n",
       "      <td>HTMCP-03-06-02111-01A-01D</td>\n",
       "      <td>INTRON</td>\n",
       "      <td>MODIFIER</td>\n",
       "      <td></td>\n",
       "      <td></td>\n",
       "      <td>GPR126</td>\n",
       "      <td>ENST00000296932</td>\n",
       "    </tr>\n",
       "    <tr>\n",
       "      <td>9</td>\n",
       "      <td>6</td>\n",
       "      <td>142706206</td>\n",
       "      <td>G</td>\n",
       "      <td>A</td>\n",
       "      <td>HTMCP-03-06-02400-01A-01D</td>\n",
       "      <td>DOWNSTREAM</td>\n",
       "      <td>MODIFIER</td>\n",
       "      <td></td>\n",
       "      <td></td>\n",
       "      <td>GPR126</td>\n",
       "      <td>ENST00000545477</td>\n",
       "    </tr>\n",
       "    <tr>\n",
       "      <td>9</td>\n",
       "      <td>6</td>\n",
       "      <td>142706206</td>\n",
       "      <td>G</td>\n",
       "      <td>A</td>\n",
       "      <td>HTMCP-03-06-02400-01A-01D</td>\n",
       "      <td>INTRON</td>\n",
       "      <td>MODIFIER</td>\n",
       "      <td></td>\n",
       "      <td></td>\n",
       "      <td>GPR126</td>\n",
       "      <td>ENST00000367609</td>\n",
       "    </tr>\n",
       "    <tr>\n",
       "      <td>9</td>\n",
       "      <td>6</td>\n",
       "      <td>142706206</td>\n",
       "      <td>G</td>\n",
       "      <td>A</td>\n",
       "      <td>HTMCP-03-06-02400-01A-01D</td>\n",
       "      <td>INTRON</td>\n",
       "      <td>MODIFIER</td>\n",
       "      <td></td>\n",
       "      <td></td>\n",
       "      <td>GPR126</td>\n",
       "      <td>ENST00000230173</td>\n",
       "    </tr>\n",
       "    <tr>\n",
       "      <td>9</td>\n",
       "      <td>6</td>\n",
       "      <td>142706206</td>\n",
       "      <td>G</td>\n",
       "      <td>A</td>\n",
       "      <td>HTMCP-03-06-02400-01A-01D</td>\n",
       "      <td>INTRON</td>\n",
       "      <td>MODIFIER</td>\n",
       "      <td></td>\n",
       "      <td></td>\n",
       "      <td>GPR126</td>\n",
       "      <td>ENST00000367608</td>\n",
       "    </tr>\n",
       "    <tr>\n",
       "      <td>9</td>\n",
       "      <td>6</td>\n",
       "      <td>142706206</td>\n",
       "      <td>G</td>\n",
       "      <td>A</td>\n",
       "      <td>HTMCP-03-06-02400-01A-01D</td>\n",
       "      <td>INTRON</td>\n",
       "      <td>MODIFIER</td>\n",
       "      <td></td>\n",
       "      <td></td>\n",
       "      <td>GPR126</td>\n",
       "      <td>ENST00000296932</td>\n",
       "    </tr>\n",
       "  </tbody>\n",
       "</table>\n",
       "</div>"
      ],
      "text/plain": [
       "  chr        pos ref alt                    patient      impact impact_type  \\\n",
       "6   6  142706206   G   A  HTMCP-03-06-02025-01A-01D  DOWNSTREAM    MODIFIER   \n",
       "6   6  142706206   G   A  HTMCP-03-06-02025-01A-01D      INTRON    MODIFIER   \n",
       "6   6  142706206   G   A  HTMCP-03-06-02025-01A-01D      INTRON    MODIFIER   \n",
       "6   6  142706206   G   A  HTMCP-03-06-02025-01A-01D      INTRON    MODIFIER   \n",
       "6   6  142706206   G   A  HTMCP-03-06-02025-01A-01D      INTRON    MODIFIER   \n",
       "2   6  142706206   G   A  HTMCP-03-06-02061-01A-01D  DOWNSTREAM    MODIFIER   \n",
       "2   6  142706206   G   A  HTMCP-03-06-02061-01A-01D      INTRON    MODIFIER   \n",
       "2   6  142706206   G   A  HTMCP-03-06-02061-01A-01D      INTRON    MODIFIER   \n",
       "2   6  142706206   G   A  HTMCP-03-06-02061-01A-01D      INTRON    MODIFIER   \n",
       "2   6  142706206   G   A  HTMCP-03-06-02061-01A-01D      INTRON    MODIFIER   \n",
       "5   6  142706206   G   T  HTMCP-03-06-02111-01A-01D  DOWNSTREAM    MODIFIER   \n",
       "5   6  142706206   G   T  HTMCP-03-06-02111-01A-01D      INTRON    MODIFIER   \n",
       "5   6  142706206   G   T  HTMCP-03-06-02111-01A-01D      INTRON    MODIFIER   \n",
       "5   6  142706206   G   T  HTMCP-03-06-02111-01A-01D      INTRON    MODIFIER   \n",
       "5   6  142706206   G   T  HTMCP-03-06-02111-01A-01D      INTRON    MODIFIER   \n",
       "9   6  142706206   G   A  HTMCP-03-06-02400-01A-01D  DOWNSTREAM    MODIFIER   \n",
       "9   6  142706206   G   A  HTMCP-03-06-02400-01A-01D      INTRON    MODIFIER   \n",
       "9   6  142706206   G   A  HTMCP-03-06-02400-01A-01D      INTRON    MODIFIER   \n",
       "9   6  142706206   G   A  HTMCP-03-06-02400-01A-01D      INTRON    MODIFIER   \n",
       "9   6  142706206   G   A  HTMCP-03-06-02400-01A-01D      INTRON    MODIFIER   \n",
       "\n",
       "  type AA_change    gene       transcript  \n",
       "6                 GPR126  ENST00000545477  \n",
       "6                 GPR126  ENST00000367609  \n",
       "6                 GPR126  ENST00000230173  \n",
       "6                 GPR126  ENST00000367608  \n",
       "6                 GPR126  ENST00000296932  \n",
       "2                 GPR126  ENST00000545477  \n",
       "2                 GPR126  ENST00000367609  \n",
       "2                 GPR126  ENST00000230173  \n",
       "2                 GPR126  ENST00000367608  \n",
       "2                 GPR126  ENST00000296932  \n",
       "5                 GPR126  ENST00000545477  \n",
       "5                 GPR126  ENST00000367609  \n",
       "5                 GPR126  ENST00000230173  \n",
       "5                 GPR126  ENST00000367608  \n",
       "5                 GPR126  ENST00000296932  \n",
       "9                 GPR126  ENST00000545477  \n",
       "9                 GPR126  ENST00000367609  \n",
       "9                 GPR126  ENST00000230173  \n",
       "9                 GPR126  ENST00000367608  \n",
       "9                 GPR126  ENST00000296932  "
      ]
     },
     "execution_count": 21,
     "metadata": {},
     "output_type": "execute_result"
    }
   ],
   "source": [
    "dfmg.shape\n",
    "dfmg.head(2)\n",
    "\n",
    "dfmg[dfmg.pos == 142706206]"
   ]
  },
  {
   "cell_type": "code",
   "execution_count": 24,
   "metadata": {},
   "outputs": [],
   "source": [
    "dfmg['patient'] = dfmg['patient'].apply(lambda x: '-'.join(x.split('-')[:4]))"
   ]
  },
  {
   "cell_type": "code",
   "execution_count": 35,
   "metadata": {},
   "outputs": [
    {
     "data": {
      "text/html": [
       "<div>\n",
       "<style scoped>\n",
       "    .dataframe tbody tr th:only-of-type {\n",
       "        vertical-align: middle;\n",
       "    }\n",
       "\n",
       "    .dataframe tbody tr th {\n",
       "        vertical-align: top;\n",
       "    }\n",
       "\n",
       "    .dataframe thead th {\n",
       "        text-align: right;\n",
       "    }\n",
       "</style>\n",
       "<table border=\"1\" class=\"dataframe\">\n",
       "  <thead>\n",
       "    <tr style=\"text-align: right;\">\n",
       "      <th></th>\n",
       "      <th>chr</th>\n",
       "      <th>pos</th>\n",
       "      <th>ref</th>\n",
       "      <th>alt</th>\n",
       "      <th>patient</th>\n",
       "      <th>impact</th>\n",
       "      <th>impact_type</th>\n",
       "      <th>type</th>\n",
       "      <th>AA_change</th>\n",
       "      <th>gene</th>\n",
       "      <th>transcript</th>\n",
       "    </tr>\n",
       "  </thead>\n",
       "  <tbody>\n",
       "    <tr>\n",
       "      <td>0</td>\n",
       "      <td>1</td>\n",
       "      <td>121484536</td>\n",
       "      <td>C</td>\n",
       "      <td>T</td>\n",
       "      <td>HTMCP-03-06-02025</td>\n",
       "      <td>INTERGENIC</td>\n",
       "      <td>MODIFIER</td>\n",
       "      <td></td>\n",
       "      <td></td>\n",
       "      <td></td>\n",
       "      <td></td>\n",
       "    </tr>\n",
       "    <tr>\n",
       "      <td>1</td>\n",
       "      <td>1</td>\n",
       "      <td>121484671</td>\n",
       "      <td>T</td>\n",
       "      <td>G</td>\n",
       "      <td>HTMCP-03-06-02025</td>\n",
       "      <td>INTERGENIC</td>\n",
       "      <td>MODIFIER</td>\n",
       "      <td></td>\n",
       "      <td></td>\n",
       "      <td></td>\n",
       "      <td></td>\n",
       "    </tr>\n",
       "  </tbody>\n",
       "</table>\n",
       "</div>"
      ],
      "text/plain": [
       "  chr        pos ref alt            patient      impact impact_type type  \\\n",
       "0   1  121484536   C   T  HTMCP-03-06-02025  INTERGENIC    MODIFIER        \n",
       "1   1  121484671   T   G  HTMCP-03-06-02025  INTERGENIC    MODIFIER        \n",
       "\n",
       "  AA_change gene transcript  \n",
       "0                            \n",
       "1                            "
      ]
     },
     "execution_count": 35,
     "metadata": {},
     "output_type": "execute_result"
    }
   ],
   "source": [
    "dfmg.head(2)"
   ]
  },
  {
   "cell_type": "code",
   "execution_count": 33,
   "metadata": {},
   "outputs": [],
   "source": [
    "ncs = ['92890260', '83993737', '39877969']\n",
    "genes = ['TERT', 'GPR126', 'MLL2']"
   ]
  },
  {
   "cell_type": "code",
   "execution_count": 38,
   "metadata": {},
   "outputs": [],
   "source": [
    "dff = dfmg[dfmg.gene.isin(genes)|(dfmg.pos.isin(ncs))]\n",
    "of = '/projects/trans_scratch/validations/workspace/szong/Cervical/variant_bwamem/validation/strelka_HMLM_targets_summary_20191016.txt'\n",
    "dff.to_csv(of, index=False, sep='\\t')"
   ]
  },
  {
   "cell_type": "code",
   "execution_count": 25,
   "metadata": {},
   "outputs": [
    {
     "data": {
      "text/plain": [
       "16"
      ]
     },
     "execution_count": 25,
     "metadata": {},
     "output_type": "execute_result"
    },
    {
     "data": {
      "text/plain": [
       "0.18604651162790697"
      ]
     },
     "execution_count": 25,
     "metadata": {},
     "output_type": "execute_result"
    }
   ],
   "source": [
    "dfmg[(dfmg.gene == 'MLL2')&(dfmg.impact_type !=\"MODIFIER\")]['patient'].nunique()\n",
    "16/86"
   ]
  },
  {
   "cell_type": "code",
   "execution_count": 26,
   "metadata": {},
   "outputs": [],
   "source": [
    "def uniquejoin(x):\n",
    "    return ';'.join(x.unique())"
   ]
  },
  {
   "cell_type": "code",
   "execution_count": 27,
   "metadata": {},
   "outputs": [
    {
     "data": {
      "text/html": [
       "<div>\n",
       "<style scoped>\n",
       "    .dataframe tbody tr th:only-of-type {\n",
       "        vertical-align: middle;\n",
       "    }\n",
       "\n",
       "    .dataframe tbody tr th {\n",
       "        vertical-align: top;\n",
       "    }\n",
       "\n",
       "    .dataframe thead th {\n",
       "        text-align: right;\n",
       "    }\n",
       "</style>\n",
       "<table border=\"1\" class=\"dataframe\">\n",
       "  <thead>\n",
       "    <tr style=\"text-align: right;\">\n",
       "      <th></th>\n",
       "      <th>gene</th>\n",
       "      <th>chr</th>\n",
       "      <th>pos</th>\n",
       "      <th>ref</th>\n",
       "      <th>alt</th>\n",
       "      <th>patient</th>\n",
       "      <th>num_patients_variant</th>\n",
       "      <th>impact_type</th>\n",
       "      <th>impact</th>\n",
       "    </tr>\n",
       "  </thead>\n",
       "  <tbody>\n",
       "    <tr>\n",
       "      <td>0</td>\n",
       "      <td></td>\n",
       "      <td>1</td>\n",
       "      <td>121485391</td>\n",
       "      <td>G</td>\n",
       "      <td>T</td>\n",
       "      <td>HTMCP-03-06-02062;HTMCP-03-06-02104;HTMCP-03-0...</td>\n",
       "      <td>9</td>\n",
       "      <td>MODIFIER</td>\n",
       "      <td>INTERGENIC</td>\n",
       "    </tr>\n",
       "    <tr>\n",
       "      <td>1</td>\n",
       "      <td></td>\n",
       "      <td>10</td>\n",
       "      <td>42599630</td>\n",
       "      <td>A</td>\n",
       "      <td>G</td>\n",
       "      <td>HTMCP-03-06-02066;HTMCP-03-06-02206;HTMCP-03-0...</td>\n",
       "      <td>7</td>\n",
       "      <td>MODIFIER</td>\n",
       "      <td>INTERGENIC</td>\n",
       "    </tr>\n",
       "  </tbody>\n",
       "</table>\n",
       "</div>"
      ],
      "text/plain": [
       "  gene chr        pos ref alt  \\\n",
       "0        1  121485391   G   T   \n",
       "1       10   42599630   A   G   \n",
       "\n",
       "                                             patient  num_patients_variant  \\\n",
       "0  HTMCP-03-06-02062;HTMCP-03-06-02104;HTMCP-03-0...                     9   \n",
       "1  HTMCP-03-06-02066;HTMCP-03-06-02206;HTMCP-03-0...                     7   \n",
       "\n",
       "  impact_type      impact  \n",
       "0    MODIFIER  INTERGENIC  \n",
       "1    MODIFIER  INTERGENIC  "
      ]
     },
     "execution_count": 27,
     "metadata": {},
     "output_type": "execute_result"
    }
   ],
   "source": [
    "dfs = dfmg.astype(str).groupby(['gene', 'chr', 'pos', 'ref', 'alt']).agg({'patient':[uniquejoin, 'nunique'], 'impact_type':uniquejoin, 'impact':uniquejoin})\n",
    "dfs = dfs.sort_values(('patient','nunique'), ascending=False).reset_index()\n",
    "dfs.columns = ['gene', 'chr', 'pos', 'ref', 'alt', 'patient', 'num_patients_variant', 'impact_type', 'impact']\n",
    "dfs.head(2)"
   ]
  },
  {
   "cell_type": "code",
   "execution_count": 28,
   "metadata": {},
   "outputs": [],
   "source": [
    "gene_patients_counts = dfmg.astype(str).groupby(['gene']).agg({'patient':'nunique'}).sort_values('patient', ascending=False)"
   ]
  },
  {
   "cell_type": "code",
   "execution_count": 29,
   "metadata": {},
   "outputs": [],
   "source": [
    "dff = pd.merge(dfs, gene_patients_counts, left_on='gene', right_index=True, how='left')\n",
    "dff = dff.sort_values(['patient_y', 'gene'], ascending=False)"
   ]
  },
  {
   "cell_type": "code",
   "execution_count": 30,
   "metadata": {},
   "outputs": [
    {
     "data": {
      "text/html": [
       "<div>\n",
       "<style scoped>\n",
       "    .dataframe tbody tr th:only-of-type {\n",
       "        vertical-align: middle;\n",
       "    }\n",
       "\n",
       "    .dataframe tbody tr th {\n",
       "        vertical-align: top;\n",
       "    }\n",
       "\n",
       "    .dataframe thead th {\n",
       "        text-align: right;\n",
       "    }\n",
       "</style>\n",
       "<table border=\"1\" class=\"dataframe\">\n",
       "  <thead>\n",
       "    <tr style=\"text-align: right;\">\n",
       "      <th></th>\n",
       "      <th>gene</th>\n",
       "      <th>chr</th>\n",
       "      <th>pos</th>\n",
       "      <th>ref</th>\n",
       "      <th>alt</th>\n",
       "      <th>patient_x</th>\n",
       "      <th>num_patients_variant</th>\n",
       "      <th>impact_type</th>\n",
       "      <th>impact</th>\n",
       "      <th>patient_y</th>\n",
       "    </tr>\n",
       "  </thead>\n",
       "  <tbody>\n",
       "    <tr>\n",
       "      <td>0</td>\n",
       "      <td></td>\n",
       "      <td>1</td>\n",
       "      <td>121485391</td>\n",
       "      <td>G</td>\n",
       "      <td>T</td>\n",
       "      <td>HTMCP-03-06-02062;HTMCP-03-06-02104;HTMCP-03-0...</td>\n",
       "      <td>9</td>\n",
       "      <td>MODIFIER</td>\n",
       "      <td>INTERGENIC</td>\n",
       "      <td>86</td>\n",
       "    </tr>\n",
       "    <tr>\n",
       "      <td>1</td>\n",
       "      <td></td>\n",
       "      <td>10</td>\n",
       "      <td>42599630</td>\n",
       "      <td>A</td>\n",
       "      <td>G</td>\n",
       "      <td>HTMCP-03-06-02066;HTMCP-03-06-02206;HTMCP-03-0...</td>\n",
       "      <td>7</td>\n",
       "      <td>MODIFIER</td>\n",
       "      <td>INTERGENIC</td>\n",
       "      <td>86</td>\n",
       "    </tr>\n",
       "    <tr>\n",
       "      <td>2</td>\n",
       "      <td></td>\n",
       "      <td>10</td>\n",
       "      <td>42597072</td>\n",
       "      <td>T</td>\n",
       "      <td>G</td>\n",
       "      <td>HTMCP-03-06-02104;HTMCP-03-06-02193;HTMCP-03-0...</td>\n",
       "      <td>6</td>\n",
       "      <td>MODIFIER</td>\n",
       "      <td>INTERGENIC</td>\n",
       "      <td>86</td>\n",
       "    </tr>\n",
       "    <tr>\n",
       "      <td>3</td>\n",
       "      <td></td>\n",
       "      <td>10</td>\n",
       "      <td>42396092</td>\n",
       "      <td>T</td>\n",
       "      <td>A</td>\n",
       "      <td>HTMCP-03-06-02062;HTMCP-03-06-02158;HTMCP-03-0...</td>\n",
       "      <td>6</td>\n",
       "      <td>MODIFIER</td>\n",
       "      <td>INTERGENIC</td>\n",
       "      <td>86</td>\n",
       "    </tr>\n",
       "    <tr>\n",
       "      <td>4</td>\n",
       "      <td></td>\n",
       "      <td>17</td>\n",
       "      <td>22253174</td>\n",
       "      <td>C</td>\n",
       "      <td>T</td>\n",
       "      <td>HTMCP-03-06-02101;HTMCP-03-06-02111;HTMCP-03-0...</td>\n",
       "      <td>5</td>\n",
       "      <td>MODIFIER</td>\n",
       "      <td>INTERGENIC</td>\n",
       "      <td>86</td>\n",
       "    </tr>\n",
       "    <tr>\n",
       "      <td>...</td>\n",
       "      <td>...</td>\n",
       "      <td>...</td>\n",
       "      <td>...</td>\n",
       "      <td>...</td>\n",
       "      <td>...</td>\n",
       "      <td>...</td>\n",
       "      <td>...</td>\n",
       "      <td>...</td>\n",
       "      <td>...</td>\n",
       "      <td>...</td>\n",
       "    </tr>\n",
       "    <tr>\n",
       "      <td>602</td>\n",
       "      <td>CTD-2540B15.11</td>\n",
       "      <td>19</td>\n",
       "      <td>33791273</td>\n",
       "      <td>C</td>\n",
       "      <td>A</td>\n",
       "      <td>HTMCP-03-06-02409</td>\n",
       "      <td>1</td>\n",
       "      <td>MODIFIER</td>\n",
       "      <td>EXON</td>\n",
       "      <td>1</td>\n",
       "    </tr>\n",
       "    <tr>\n",
       "      <td>604</td>\n",
       "      <td>CEBPA-AS1</td>\n",
       "      <td>19</td>\n",
       "      <td>33791273</td>\n",
       "      <td>C</td>\n",
       "      <td>A</td>\n",
       "      <td>HTMCP-03-06-02409</td>\n",
       "      <td>1</td>\n",
       "      <td>MODIFIER</td>\n",
       "      <td>UPSTREAM</td>\n",
       "      <td>1</td>\n",
       "    </tr>\n",
       "    <tr>\n",
       "      <td>605</td>\n",
       "      <td>CEBPA</td>\n",
       "      <td>19</td>\n",
       "      <td>33791273</td>\n",
       "      <td>C</td>\n",
       "      <td>A</td>\n",
       "      <td>HTMCP-03-06-02409</td>\n",
       "      <td>1</td>\n",
       "      <td>MODIFIER</td>\n",
       "      <td>UTR_3_PRIME</td>\n",
       "      <td>1</td>\n",
       "    </tr>\n",
       "    <tr>\n",
       "      <td>606</td>\n",
       "      <td>BMP2K</td>\n",
       "      <td>4</td>\n",
       "      <td>79792163</td>\n",
       "      <td>G</td>\n",
       "      <td>C</td>\n",
       "      <td>HTMCP-03-06-02188</td>\n",
       "      <td>1</td>\n",
       "      <td>MODERATE</td>\n",
       "      <td>NON_SYNONYMOUS_CODING</td>\n",
       "      <td>1</td>\n",
       "    </tr>\n",
       "    <tr>\n",
       "      <td>828</td>\n",
       "      <td>AC008738.1</td>\n",
       "      <td>19</td>\n",
       "      <td>33791273</td>\n",
       "      <td>C</td>\n",
       "      <td>A</td>\n",
       "      <td>HTMCP-03-06-02409</td>\n",
       "      <td>1</td>\n",
       "      <td>MODIFIER</td>\n",
       "      <td>EXON</td>\n",
       "      <td>1</td>\n",
       "    </tr>\n",
       "  </tbody>\n",
       "</table>\n",
       "<p>1576 rows × 10 columns</p>\n",
       "</div>"
      ],
      "text/plain": [
       "               gene chr        pos ref alt  \\\n",
       "0                     1  121485391   G   T   \n",
       "1                    10   42599630   A   G   \n",
       "2                    10   42597072   T   G   \n",
       "3                    10   42396092   T   A   \n",
       "4                    17   22253174   C   T   \n",
       "..              ...  ..        ...  ..  ..   \n",
       "602  CTD-2540B15.11  19   33791273   C   A   \n",
       "604       CEBPA-AS1  19   33791273   C   A   \n",
       "605           CEBPA  19   33791273   C   A   \n",
       "606           BMP2K   4   79792163   G   C   \n",
       "828      AC008738.1  19   33791273   C   A   \n",
       "\n",
       "                                             patient_x  num_patients_variant  \\\n",
       "0    HTMCP-03-06-02062;HTMCP-03-06-02104;HTMCP-03-0...                     9   \n",
       "1    HTMCP-03-06-02066;HTMCP-03-06-02206;HTMCP-03-0...                     7   \n",
       "2    HTMCP-03-06-02104;HTMCP-03-06-02193;HTMCP-03-0...                     6   \n",
       "3    HTMCP-03-06-02062;HTMCP-03-06-02158;HTMCP-03-0...                     6   \n",
       "4    HTMCP-03-06-02101;HTMCP-03-06-02111;HTMCP-03-0...                     5   \n",
       "..                                                 ...                   ...   \n",
       "602                                  HTMCP-03-06-02409                     1   \n",
       "604                                  HTMCP-03-06-02409                     1   \n",
       "605                                  HTMCP-03-06-02409                     1   \n",
       "606                                  HTMCP-03-06-02188                     1   \n",
       "828                                  HTMCP-03-06-02409                     1   \n",
       "\n",
       "    impact_type                 impact  patient_y  \n",
       "0      MODIFIER             INTERGENIC         86  \n",
       "1      MODIFIER             INTERGENIC         86  \n",
       "2      MODIFIER             INTERGENIC         86  \n",
       "3      MODIFIER             INTERGENIC         86  \n",
       "4      MODIFIER             INTERGENIC         86  \n",
       "..          ...                    ...        ...  \n",
       "602    MODIFIER                   EXON          1  \n",
       "604    MODIFIER               UPSTREAM          1  \n",
       "605    MODIFIER            UTR_3_PRIME          1  \n",
       "606    MODERATE  NON_SYNONYMOUS_CODING          1  \n",
       "828    MODIFIER                   EXON          1  \n",
       "\n",
       "[1576 rows x 10 columns]"
      ]
     },
     "execution_count": 30,
     "metadata": {},
     "output_type": "execute_result"
    }
   ],
   "source": [
    "dff"
   ]
  },
  {
   "cell_type": "code",
   "execution_count": null,
   "metadata": {},
   "outputs": [],
   "source": []
  },
  {
   "cell_type": "code",
   "execution_count": 31,
   "metadata": {},
   "outputs": [],
   "source": [
    "dff.to_csv(f'/projects/trans_scratch/validations/workspace/szong/Cervical/variant_bwamem/validation/strelka_HMLM_summary_20191011.txt', sep='\\t', index=False)"
   ]
  },
  {
   "cell_type": "code",
   "execution_count": 32,
   "metadata": {},
   "outputs": [
    {
     "data": {
      "text/html": [
       "<div>\n",
       "<style scoped>\n",
       "    .dataframe tbody tr th:only-of-type {\n",
       "        vertical-align: middle;\n",
       "    }\n",
       "\n",
       "    .dataframe tbody tr th {\n",
       "        vertical-align: top;\n",
       "    }\n",
       "\n",
       "    .dataframe thead th {\n",
       "        text-align: right;\n",
       "    }\n",
       "</style>\n",
       "<table border=\"1\" class=\"dataframe\">\n",
       "  <thead>\n",
       "    <tr style=\"text-align: right;\">\n",
       "      <th></th>\n",
       "      <th>gene</th>\n",
       "      <th>chr</th>\n",
       "      <th>pos</th>\n",
       "      <th>ref</th>\n",
       "      <th>alt</th>\n",
       "      <th>patient_x</th>\n",
       "      <th>num_patients_variant</th>\n",
       "      <th>impact_type</th>\n",
       "      <th>impact</th>\n",
       "      <th>patient_y</th>\n",
       "    </tr>\n",
       "  </thead>\n",
       "  <tbody>\n",
       "    <tr>\n",
       "      <td>16</td>\n",
       "      <td>TERT</td>\n",
       "      <td>5</td>\n",
       "      <td>1295250</td>\n",
       "      <td>G</td>\n",
       "      <td>A</td>\n",
       "      <td>HTMCP-03-06-02072;HTMCP-03-06-02082;HTMCP-03-0...</td>\n",
       "      <td>5</td>\n",
       "      <td>MODIFIER</td>\n",
       "      <td>UPSTREAM</td>\n",
       "      <td>9</td>\n",
       "    </tr>\n",
       "    <tr>\n",
       "      <td>283</td>\n",
       "      <td>TERT</td>\n",
       "      <td>5</td>\n",
       "      <td>1295228</td>\n",
       "      <td>G</td>\n",
       "      <td>A</td>\n",
       "      <td>HTMCP-03-06-02146;HTMCP-03-06-02400</td>\n",
       "      <td>2</td>\n",
       "      <td>MODIFIER</td>\n",
       "      <td>UPSTREAM</td>\n",
       "      <td>9</td>\n",
       "    </tr>\n",
       "    <tr>\n",
       "      <td>660</td>\n",
       "      <td>TERT</td>\n",
       "      <td>5</td>\n",
       "      <td>1295228</td>\n",
       "      <td>G</td>\n",
       "      <td>T</td>\n",
       "      <td>HTMCP-03-06-02389</td>\n",
       "      <td>1</td>\n",
       "      <td>MODIFIER</td>\n",
       "      <td>UPSTREAM</td>\n",
       "      <td>9</td>\n",
       "    </tr>\n",
       "    <tr>\n",
       "      <td>1575</td>\n",
       "      <td>TERT</td>\n",
       "      <td>5</td>\n",
       "      <td>1295349</td>\n",
       "      <td>A</td>\n",
       "      <td>G</td>\n",
       "      <td>HTMCP-03-06-02118</td>\n",
       "      <td>1</td>\n",
       "      <td>MODIFIER</td>\n",
       "      <td>UPSTREAM</td>\n",
       "      <td>9</td>\n",
       "    </tr>\n",
       "  </tbody>\n",
       "</table>\n",
       "</div>"
      ],
      "text/plain": [
       "      gene chr      pos ref alt  \\\n",
       "16    TERT   5  1295250   G   A   \n",
       "283   TERT   5  1295228   G   A   \n",
       "660   TERT   5  1295228   G   T   \n",
       "1575  TERT   5  1295349   A   G   \n",
       "\n",
       "                                              patient_x  num_patients_variant  \\\n",
       "16    HTMCP-03-06-02072;HTMCP-03-06-02082;HTMCP-03-0...                     5   \n",
       "283                 HTMCP-03-06-02146;HTMCP-03-06-02400                     2   \n",
       "660                                   HTMCP-03-06-02389                     1   \n",
       "1575                                  HTMCP-03-06-02118                     1   \n",
       "\n",
       "     impact_type    impact  patient_y  \n",
       "16      MODIFIER  UPSTREAM          9  \n",
       "283     MODIFIER  UPSTREAM          9  \n",
       "660     MODIFIER  UPSTREAM          9  \n",
       "1575    MODIFIER  UPSTREAM          9  "
      ]
     },
     "execution_count": 32,
     "metadata": {},
     "output_type": "execute_result"
    }
   ],
   "source": [
    "dff[dff.gene == 'TERT']"
   ]
  },
  {
   "cell_type": "code",
   "execution_count": 18,
   "metadata": {},
   "outputs": [
    {
     "data": {
      "text/html": [
       "<div>\n",
       "<style scoped>\n",
       "    .dataframe tbody tr th:only-of-type {\n",
       "        vertical-align: middle;\n",
       "    }\n",
       "\n",
       "    .dataframe tbody tr th {\n",
       "        vertical-align: top;\n",
       "    }\n",
       "\n",
       "    .dataframe thead th {\n",
       "        text-align: right;\n",
       "    }\n",
       "</style>\n",
       "<table border=\"1\" class=\"dataframe\">\n",
       "  <thead>\n",
       "    <tr style=\"text-align: right;\">\n",
       "      <th></th>\n",
       "      <th>gene</th>\n",
       "      <th>chr</th>\n",
       "      <th>pos</th>\n",
       "      <th>ref</th>\n",
       "      <th>alt</th>\n",
       "      <th>patient_x</th>\n",
       "      <th>num_patients_variant</th>\n",
       "      <th>impact_type</th>\n",
       "      <th>impact</th>\n",
       "      <th>patient_y</th>\n",
       "    </tr>\n",
       "  </thead>\n",
       "  <tbody>\n",
       "    <tr>\n",
       "      <td>63</td>\n",
       "      <td>GPR126</td>\n",
       "      <td>6</td>\n",
       "      <td>142706206</td>\n",
       "      <td>G</td>\n",
       "      <td>A</td>\n",
       "      <td>HTMCP-03-06-02025-01A-01D;HTMCP-03-06-02061-01...</td>\n",
       "      <td>3</td>\n",
       "      <td>MODIFIER</td>\n",
       "      <td>DOWNSTREAM;INTRON</td>\n",
       "      <td>5</td>\n",
       "    </tr>\n",
       "    <tr>\n",
       "      <td>598</td>\n",
       "      <td>GPR126</td>\n",
       "      <td>6</td>\n",
       "      <td>142706209</td>\n",
       "      <td>C</td>\n",
       "      <td>T</td>\n",
       "      <td>HTMCP-03-06-02352-01A-01D</td>\n",
       "      <td>1</td>\n",
       "      <td>MODIFIER</td>\n",
       "      <td>DOWNSTREAM;INTRON</td>\n",
       "      <td>5</td>\n",
       "    </tr>\n",
       "    <tr>\n",
       "      <td>599</td>\n",
       "      <td>GPR126</td>\n",
       "      <td>6</td>\n",
       "      <td>142706206</td>\n",
       "      <td>G</td>\n",
       "      <td>T</td>\n",
       "      <td>HTMCP-03-06-02111-01A-01D</td>\n",
       "      <td>1</td>\n",
       "      <td>MODIFIER</td>\n",
       "      <td>DOWNSTREAM;INTRON</td>\n",
       "      <td>5</td>\n",
       "    </tr>\n",
       "  </tbody>\n",
       "</table>\n",
       "</div>"
      ],
      "text/plain": [
       "       gene chr        pos ref alt  \\\n",
       "63   GPR126   6  142706206   G   A   \n",
       "598  GPR126   6  142706209   C   T   \n",
       "599  GPR126   6  142706206   G   T   \n",
       "\n",
       "                                             patient_x  num_patients_variant  \\\n",
       "63   HTMCP-03-06-02025-01A-01D;HTMCP-03-06-02061-01...                     3   \n",
       "598                          HTMCP-03-06-02352-01A-01D                     1   \n",
       "599                          HTMCP-03-06-02111-01A-01D                     1   \n",
       "\n",
       "    impact_type             impact  patient_y  \n",
       "63     MODIFIER  DOWNSTREAM;INTRON          5  \n",
       "598    MODIFIER  DOWNSTREAM;INTRON          5  \n",
       "599    MODIFIER  DOWNSTREAM;INTRON          5  "
      ]
     },
     "execution_count": 18,
     "metadata": {},
     "output_type": "execute_result"
    }
   ],
   "source": [
    "dff[dff.gene == 'GPR126']"
   ]
  },
  {
   "cell_type": "code",
   "execution_count": 19,
   "metadata": {},
   "outputs": [
    {
     "data": {
      "text/plain": [
       "gene                    object\n",
       "chr                     object\n",
       "pos                     object\n",
       "ref                     object\n",
       "alt                     object\n",
       "patient_x               object\n",
       "num_patients_variant     int64\n",
       "impact_type             object\n",
       "impact                  object\n",
       "patient_y                int64\n",
       "dtype: object"
      ]
     },
     "execution_count": 19,
     "metadata": {},
     "output_type": "execute_result"
    }
   ],
   "source": [
    "dff.dtypes"
   ]
  },
  {
   "cell_type": "code",
   "execution_count": null,
   "metadata": {},
   "outputs": [],
   "source": []
  },
  {
   "cell_type": "code",
   "execution_count": 20,
   "metadata": {},
   "outputs": [
    {
     "data": {
      "text/html": [
       "<div>\n",
       "<style scoped>\n",
       "    .dataframe tbody tr th:only-of-type {\n",
       "        vertical-align: middle;\n",
       "    }\n",
       "\n",
       "    .dataframe tbody tr th {\n",
       "        vertical-align: top;\n",
       "    }\n",
       "\n",
       "    .dataframe thead th {\n",
       "        text-align: right;\n",
       "    }\n",
       "</style>\n",
       "<table border=\"1\" class=\"dataframe\">\n",
       "  <thead>\n",
       "    <tr style=\"text-align: right;\">\n",
       "      <th></th>\n",
       "      <th>gene</th>\n",
       "      <th>chr</th>\n",
       "      <th>pos</th>\n",
       "      <th>ref</th>\n",
       "      <th>alt</th>\n",
       "      <th>patient_x</th>\n",
       "      <th>num_patients_variant</th>\n",
       "      <th>impact_type</th>\n",
       "      <th>impact</th>\n",
       "      <th>patient_y</th>\n",
       "    </tr>\n",
       "  </thead>\n",
       "  <tbody>\n",
       "  </tbody>\n",
       "</table>\n",
       "</div>"
      ],
      "text/plain": [
       "Empty DataFrame\n",
       "Columns: [gene, chr, pos, ref, alt, patient_x, num_patients_variant, impact_type, impact, patient_y]\n",
       "Index: []"
      ]
     },
     "execution_count": 20,
     "metadata": {},
     "output_type": "execute_result"
    },
    {
     "data": {
      "text/html": [
       "<div>\n",
       "<style scoped>\n",
       "    .dataframe tbody tr th:only-of-type {\n",
       "        vertical-align: middle;\n",
       "    }\n",
       "\n",
       "    .dataframe tbody tr th {\n",
       "        vertical-align: top;\n",
       "    }\n",
       "\n",
       "    .dataframe thead th {\n",
       "        text-align: right;\n",
       "    }\n",
       "</style>\n",
       "<table border=\"1\" class=\"dataframe\">\n",
       "  <thead>\n",
       "    <tr style=\"text-align: right;\">\n",
       "      <th></th>\n",
       "      <th>gene</th>\n",
       "      <th>chr</th>\n",
       "      <th>pos</th>\n",
       "      <th>ref</th>\n",
       "      <th>alt</th>\n",
       "      <th>patient_x</th>\n",
       "      <th>num_patients_variant</th>\n",
       "      <th>impact_type</th>\n",
       "      <th>impact</th>\n",
       "      <th>patient_y</th>\n",
       "    </tr>\n",
       "  </thead>\n",
       "  <tbody>\n",
       "  </tbody>\n",
       "</table>\n",
       "</div>"
      ],
      "text/plain": [
       "Empty DataFrame\n",
       "Columns: [gene, chr, pos, ref, alt, patient_x, num_patients_variant, impact_type, impact, patient_y]\n",
       "Index: []"
      ]
     },
     "execution_count": 20,
     "metadata": {},
     "output_type": "execute_result"
    },
    {
     "data": {
      "text/html": [
       "<div>\n",
       "<style scoped>\n",
       "    .dataframe tbody tr th:only-of-type {\n",
       "        vertical-align: middle;\n",
       "    }\n",
       "\n",
       "    .dataframe tbody tr th {\n",
       "        vertical-align: top;\n",
       "    }\n",
       "\n",
       "    .dataframe thead th {\n",
       "        text-align: right;\n",
       "    }\n",
       "</style>\n",
       "<table border=\"1\" class=\"dataframe\">\n",
       "  <thead>\n",
       "    <tr style=\"text-align: right;\">\n",
       "      <th></th>\n",
       "      <th>gene</th>\n",
       "      <th>chr</th>\n",
       "      <th>pos</th>\n",
       "      <th>ref</th>\n",
       "      <th>alt</th>\n",
       "      <th>patient_x</th>\n",
       "      <th>num_patients_variant</th>\n",
       "      <th>impact_type</th>\n",
       "      <th>impact</th>\n",
       "      <th>patient_y</th>\n",
       "    </tr>\n",
       "  </thead>\n",
       "  <tbody>\n",
       "  </tbody>\n",
       "</table>\n",
       "</div>"
      ],
      "text/plain": [
       "Empty DataFrame\n",
       "Columns: [gene, chr, pos, ref, alt, patient_x, num_patients_variant, impact_type, impact, patient_y]\n",
       "Index: []"
      ]
     },
     "execution_count": 20,
     "metadata": {},
     "output_type": "execute_result"
    }
   ],
   "source": [
    "dff[dff.pos == '92890260']\n",
    "dff[dff.pos == '83993737']\n",
    "dff[dff.pos == '39877969']"
   ]
  },
  {
   "cell_type": "code",
   "execution_count": null,
   "metadata": {},
   "outputs": [],
   "source": [
    "# !python notebook2script.py 05_anneal.ipynb"
   ]
  }
 ],
 "metadata": {
  "kernelspec": {
   "display_name": "Python 3",
   "language": "python",
   "name": "python3"
  },
  "language_info": {
   "codemirror_mode": {
    "name": "ipython",
    "version": 3
   },
   "file_extension": ".py",
   "mimetype": "text/x-python",
   "name": "python",
   "nbconvert_exporter": "python",
   "pygments_lexer": "ipython3",
   "version": "3.7.3"
  }
 },
 "nbformat": 4,
 "nbformat_minor": 2
}
