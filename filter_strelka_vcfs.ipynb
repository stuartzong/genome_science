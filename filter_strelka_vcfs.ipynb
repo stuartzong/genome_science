{
 "cells": [
  {
   "cell_type": "code",
   "execution_count": 4,
   "metadata": {},
   "outputs": [],
   "source": [
    "import re\n",
    "import matplotlib\n",
    "import numpy as np\n",
    "import pandas as pd\n",
    "import seaborn as sns\n",
    "import scipy.stats as ss\n",
    "import matplotlib.pyplot as plt\n",
    "from matplotlib import style, colors\n",
    "from matplotlib import gridspec\n",
    "import random\n",
    "import string\n",
    "import math\n",
    "\n",
    "# matplotlib.style.use('ggplot')\n",
    "%matplotlib inline\n",
    "matplotlib.rcParams['figure.figsize'] = (12, 6)\n",
    "from IPython.core.interactiveshell import InteractiveShell\n",
    "InteractiveShell.ast_node_interactivity = \"all\"\n"
   ]
  },
  {
   "cell_type": "code",
   "execution_count": 86,
   "metadata": {},
   "outputs": [],
   "source": [
    "def filter_snv(vcf, qss):\n",
    "    df = pd.read_csv(vcf, sep='\\t', comment='#', header=None)\n",
    "    df.columns = [\"#CHROM\",  \"POS\",  \"ID\",  \"REF\",  \"ALT\",  \"QUAL\",  \"FILTER\",  \"INFO\",  \"FORMAT\",  \"NORMAL\",  \"TUMOR\"]\n",
    "    df[\"QSS\"] = df['INFO'].apply(lambda x: [i.split('=')[1] for i in x.split(';') if i.startswith('QSS')][0])\n",
    "    print(df.shape)\n",
    "    df = df[df.QSS.astype(int)>=qss].drop('QSS', axis=1)\n",
    "    print(df.shape)\n",
    "    return df"
   ]
  },
  {
   "cell_type": "code",
   "execution_count": 76,
   "metadata": {},
   "outputs": [
    {
     "data": {
      "text/html": [
       "<div>\n",
       "<style scoped>\n",
       "    .dataframe tbody tr th:only-of-type {\n",
       "        vertical-align: middle;\n",
       "    }\n",
       "\n",
       "    .dataframe tbody tr th {\n",
       "        vertical-align: top;\n",
       "    }\n",
       "\n",
       "    .dataframe thead th {\n",
       "        text-align: right;\n",
       "    }\n",
       "</style>\n",
       "<table border=\"1\" class=\"dataframe\">\n",
       "  <thead>\n",
       "    <tr style=\"text-align: right;\">\n",
       "      <th></th>\n",
       "      <th>CHROM</th>\n",
       "      <th>POS</th>\n",
       "      <th>ID</th>\n",
       "      <th>REF</th>\n",
       "      <th>ALT</th>\n",
       "      <th>QUAL</th>\n",
       "      <th>FILTER</th>\n",
       "      <th>INFO</th>\n",
       "      <th>FORMAT</th>\n",
       "      <th>NORMAL</th>\n",
       "      <th>TUMOR</th>\n",
       "    </tr>\n",
       "  </thead>\n",
       "  <tbody>\n",
       "    <tr>\n",
       "      <th>10</th>\n",
       "      <td>1</td>\n",
       "      <td>2903222</td>\n",
       "      <td>.</td>\n",
       "      <td>C</td>\n",
       "      <td>T</td>\n",
       "      <td>.</td>\n",
       "      <td>PASS</td>\n",
       "      <td>NT=ref;QSS=61;QSS_NT=61;SGT=CC-&gt;CT;SOMATIC;TQS...</td>\n",
       "      <td>DP:FDP:SDP:SUBDP:AU:CU:GU:TU</td>\n",
       "      <td>37:0:0:0:0,0:37,37:0,0:0,0</td>\n",
       "      <td>63:1:0:0:0,0:38,39:0,0:24,25</td>\n",
       "    </tr>\n",
       "    <tr>\n",
       "      <th>11</th>\n",
       "      <td>1</td>\n",
       "      <td>3282979</td>\n",
       "      <td>.</td>\n",
       "      <td>C</td>\n",
       "      <td>T</td>\n",
       "      <td>.</td>\n",
       "      <td>PASS</td>\n",
       "      <td>NT=ref;QSS=30;QSS_NT=30;SGT=CC-&gt;CT;SOMATIC;TQS...</td>\n",
       "      <td>DP:FDP:SDP:SUBDP:AU:CU:GU:TU</td>\n",
       "      <td>23:0:0:0:0,0:23,23:0,0:0,0</td>\n",
       "      <td>60:0:0:0:0,0:33,33:0,0:27,27</td>\n",
       "    </tr>\n",
       "  </tbody>\n",
       "</table>\n",
       "</div>"
      ],
      "text/plain": [
       "   CHROM      POS ID REF ALT QUAL FILTER  \\\n",
       "10     1  2903222  .   C   T    .   PASS   \n",
       "11     1  3282979  .   C   T    .   PASS   \n",
       "\n",
       "                                                 INFO  \\\n",
       "10  NT=ref;QSS=61;QSS_NT=61;SGT=CC->CT;SOMATIC;TQS...   \n",
       "11  NT=ref;QSS=30;QSS_NT=30;SGT=CC->CT;SOMATIC;TQS...   \n",
       "\n",
       "                          FORMAT                      NORMAL  \\\n",
       "10  DP:FDP:SDP:SUBDP:AU:CU:GU:TU  37:0:0:0:0,0:37,37:0,0:0,0   \n",
       "11  DP:FDP:SDP:SUBDP:AU:CU:GU:TU  23:0:0:0:0,0:23,23:0,0:0,0   \n",
       "\n",
       "                           TUMOR  \n",
       "10  63:1:0:0:0,0:38,39:0,0:24,25  \n",
       "11  60:0:0:0:0,0:33,33:0,0:27,27  "
      ]
     },
     "execution_count": 76,
     "metadata": {},
     "output_type": "execute_result"
    }
   ],
   "source": [
    "snv_vcf = '/projects/somatic/NCI_SAIC_HIV_Cervical/HTMCP-03-06-02008/hg19a/GSH/A37241_A37166/strelka/16522/bwa/results/passed.somatic.snvs.eff.dbSNP_v137.cosmic_v64.annotations.vcf'\n",
    "df_snv = filter_snv(snv_vcf, 30)\n",
    "df_snv.head(2)"
   ]
  },
  {
   "cell_type": "code",
   "execution_count": 87,
   "metadata": {},
   "outputs": [],
   "source": [
    "def filter_indel(vcf, qsi):\n",
    "    df = pd.read_csv(vcf, sep='\\t', comment='#', header=None)\n",
    "    df.columns = [\"#CHROM\",  \"POS\",  \"ID\",  \"REF\",  \"ALT\",  \"QUAL\",  \"FILTER\",  \"INFO\",  \"FORMAT\",  \"NORMAL\",  \"TUMOR\"]\n",
    "#     print(df.head(2))\n",
    "    df[\"QSI\"] = df['INFO'].apply(lambda x: [i.split('=')[1] for i in x.split(';') if i.startswith('QSI')][0])\n",
    "    print(df.shape)\n",
    "    df = df[df.QSI.astype(int)>=qsi].drop('QSI', axis=1)\n",
    "    print(df.shape)\n",
    "    return df"
   ]
  },
  {
   "cell_type": "code",
   "execution_count": 78,
   "metadata": {},
   "outputs": [
    {
     "name": "stdout",
     "output_type": "stream",
     "text": [
      "  CHROM      POS ID REF        ALT QUAL FILTER  \\\n",
      "0     1  5220251  .   A  ATATATACT    .   PASS   \n",
      "1     1  5220284  .   C    CACACTA    .   PASS   \n",
      "\n",
      "                                                INFO  \\\n",
      "0  IC=1;IHP=2;NT=ref;QSI=36;QSI_NT=36;RC=0;RU=TAT...   \n",
      "1  IC=1;IHP=2;NT=ref;QSI=55;QSI_NT=55;RC=0;RU=ACA...   \n",
      "\n",
      "                                  FORMAT  \\\n",
      "0  DP:DP2:TAR:TIR:TOR:DP50:FDP50:SUBDP50   \n",
      "1  DP:DP2:TAR:TIR:TOR:DP50:FDP50:SUBDP50   \n",
      "\n",
      "                                       NORMAL  \\\n",
      "0        76:76:72,100:0,0:5,3:82.15:9.86:0.00   \n",
      "1  124:124:114,164:0,0:10,3:111.99:16.62:0.00   \n",
      "\n",
      "                                         TUMOR  \n",
      "0  181:181:140,185:4,4:38,44:197.34:17.97:0.00  \n",
      "1  303:303:251,354:9,15:40,37:265.8:37.47:0.00  \n",
      "(1242, 12)\n",
      "(1242, 11)\n"
     ]
    },
    {
     "data": {
      "text/html": [
       "<div>\n",
       "<style scoped>\n",
       "    .dataframe tbody tr th:only-of-type {\n",
       "        vertical-align: middle;\n",
       "    }\n",
       "\n",
       "    .dataframe tbody tr th {\n",
       "        vertical-align: top;\n",
       "    }\n",
       "\n",
       "    .dataframe thead th {\n",
       "        text-align: right;\n",
       "    }\n",
       "</style>\n",
       "<table border=\"1\" class=\"dataframe\">\n",
       "  <thead>\n",
       "    <tr style=\"text-align: right;\">\n",
       "      <th></th>\n",
       "      <th>CHROM</th>\n",
       "      <th>POS</th>\n",
       "      <th>ID</th>\n",
       "      <th>REF</th>\n",
       "      <th>ALT</th>\n",
       "      <th>QUAL</th>\n",
       "      <th>FILTER</th>\n",
       "      <th>INFO</th>\n",
       "      <th>FORMAT</th>\n",
       "      <th>NORMAL</th>\n",
       "      <th>TUMOR</th>\n",
       "    </tr>\n",
       "  </thead>\n",
       "  <tbody>\n",
       "    <tr>\n",
       "      <th>0</th>\n",
       "      <td>1</td>\n",
       "      <td>5220251</td>\n",
       "      <td>.</td>\n",
       "      <td>A</td>\n",
       "      <td>ATATATACT</td>\n",
       "      <td>.</td>\n",
       "      <td>PASS</td>\n",
       "      <td>IC=1;IHP=2;NT=ref;QSI=36;QSI_NT=36;RC=0;RU=TAT...</td>\n",
       "      <td>DP:DP2:TAR:TIR:TOR:DP50:FDP50:SUBDP50</td>\n",
       "      <td>76:76:72,100:0,0:5,3:82.15:9.86:0.00</td>\n",
       "      <td>181:181:140,185:4,4:38,44:197.34:17.97:0.00</td>\n",
       "    </tr>\n",
       "    <tr>\n",
       "      <th>1</th>\n",
       "      <td>1</td>\n",
       "      <td>5220284</td>\n",
       "      <td>.</td>\n",
       "      <td>C</td>\n",
       "      <td>CACACTA</td>\n",
       "      <td>.</td>\n",
       "      <td>PASS</td>\n",
       "      <td>IC=1;IHP=2;NT=ref;QSI=55;QSI_NT=55;RC=0;RU=ACA...</td>\n",
       "      <td>DP:DP2:TAR:TIR:TOR:DP50:FDP50:SUBDP50</td>\n",
       "      <td>124:124:114,164:0,0:10,3:111.99:16.62:0.00</td>\n",
       "      <td>303:303:251,354:9,15:40,37:265.8:37.47:0.00</td>\n",
       "    </tr>\n",
       "  </tbody>\n",
       "</table>\n",
       "</div>"
      ],
      "text/plain": [
       "  CHROM      POS ID REF        ALT QUAL FILTER  \\\n",
       "0     1  5220251  .   A  ATATATACT    .   PASS   \n",
       "1     1  5220284  .   C    CACACTA    .   PASS   \n",
       "\n",
       "                                                INFO  \\\n",
       "0  IC=1;IHP=2;NT=ref;QSI=36;QSI_NT=36;RC=0;RU=TAT...   \n",
       "1  IC=1;IHP=2;NT=ref;QSI=55;QSI_NT=55;RC=0;RU=ACA...   \n",
       "\n",
       "                                  FORMAT  \\\n",
       "0  DP:DP2:TAR:TIR:TOR:DP50:FDP50:SUBDP50   \n",
       "1  DP:DP2:TAR:TIR:TOR:DP50:FDP50:SUBDP50   \n",
       "\n",
       "                                       NORMAL  \\\n",
       "0        76:76:72,100:0,0:5,3:82.15:9.86:0.00   \n",
       "1  124:124:114,164:0,0:10,3:111.99:16.62:0.00   \n",
       "\n",
       "                                         TUMOR  \n",
       "0  181:181:140,185:4,4:38,44:197.34:17.97:0.00  \n",
       "1  303:303:251,354:9,15:40,37:265.8:37.47:0.00  "
      ]
     },
     "execution_count": 78,
     "metadata": {},
     "output_type": "execute_result"
    }
   ],
   "source": [
    "indel_vcf = '/projects/somatic/NCI_SAIC_HIV_Cervical/HTMCP-03-06-02001/hg19a/GSH/A37234_A37159/strelka/16551/bwa/results/passed.somatic.indels.eff.dbSNP_v137.cosmic_v64.annotations.vcf'\n",
    "df_indel = filter_indel(indel_vcf, 30)\n",
    "df_indel.head(2)"
   ]
  },
  {
   "cell_type": "code",
   "execution_count": 80,
   "metadata": {},
   "outputs": [],
   "source": [
    "outdir = '/projects/trans_scratch/validations/workspace/szong/Cervical/mutsig2cv/filtered_vcfs/'\n",
    "df_snv.to_csv('{}a.snvs.vcf'.format(outdir), index=False, sep='\\t')\n",
    "df_indel.to_csv('{}a.indels.vcf'.format(outdir), index=False, sep='\\t')"
   ]
  },
  {
   "cell_type": "code",
   "execution_count": 88,
   "metadata": {
    "scrolled": true
   },
   "outputs": [
    {
     "data": {
      "text/html": [
       "<div>\n",
       "<style scoped>\n",
       "    .dataframe tbody tr th:only-of-type {\n",
       "        vertical-align: middle;\n",
       "    }\n",
       "\n",
       "    .dataframe tbody tr th {\n",
       "        vertical-align: top;\n",
       "    }\n",
       "\n",
       "    .dataframe thead th {\n",
       "        text-align: right;\n",
       "    }\n",
       "</style>\n",
       "<table border=\"1\" class=\"dataframe\">\n",
       "  <thead>\n",
       "    <tr style=\"text-align: right;\">\n",
       "      <th></th>\n",
       "      <th>patient</th>\n",
       "      <th>snv_vcf</th>\n",
       "      <th>indel_vcf</th>\n",
       "    </tr>\n",
       "  </thead>\n",
       "  <tbody>\n",
       "    <tr>\n",
       "      <th>0</th>\n",
       "      <td>HTMCP-03-06-02001</td>\n",
       "      <td>/projects/somatic/NCI_SAIC_HIV_Cervical/HTMCP-...</td>\n",
       "      <td>/projects/somatic/NCI_SAIC_HIV_Cervical/HTMCP-...</td>\n",
       "    </tr>\n",
       "    <tr>\n",
       "      <th>1</th>\n",
       "      <td>HTMCP-03-06-02002</td>\n",
       "      <td>/projects/somatic/NCI_SAIC_HIV_Cervical/HTMCP-...</td>\n",
       "      <td>/projects/somatic/NCI_SAIC_HIV_Cervical/HTMCP-...</td>\n",
       "    </tr>\n",
       "  </tbody>\n",
       "</table>\n",
       "</div>"
      ],
      "text/plain": [
       "             patient                                            snv_vcf  \\\n",
       "0  HTMCP-03-06-02001  /projects/somatic/NCI_SAIC_HIV_Cervical/HTMCP-...   \n",
       "1  HTMCP-03-06-02002  /projects/somatic/NCI_SAIC_HIV_Cervical/HTMCP-...   \n",
       "\n",
       "                                           indel_vcf  \n",
       "0  /projects/somatic/NCI_SAIC_HIV_Cervical/HTMCP-...  \n",
       "1  /projects/somatic/NCI_SAIC_HIV_Cervical/HTMCP-...  "
      ]
     },
     "execution_count": 88,
     "metadata": {},
     "output_type": "execute_result"
    }
   ],
   "source": [
    "vcfs = '/projects/trans_scratch/validations/workspace/szong/Cervical/mutsig2cv/filtered_vcfs/118_strelka_vcfs.txt'\n",
    "df = pd.read_csv(vcfs, sep='\\t', header=None)\n",
    "df.columns = ['patient', 'snv_vcf', 'indel_vcf']\n",
    "df.head(2)"
   ]
  },
  {
   "cell_type": "code",
   "execution_count": 91,
   "metadata": {},
   "outputs": [
    {
     "name": "stdout",
     "output_type": "stream",
     "text": [
      "processing HTMCP-03-06-02001\n",
      "(25732, 12)\n",
      "(22747, 11)\n",
      "(1242, 12)\n",
      "(1193, 11)\n"
     ]
    },
    {
     "data": {
      "text/plain": [
       "21"
      ]
     },
     "execution_count": 91,
     "metadata": {},
     "output_type": "execute_result"
    },
    {
     "data": {
      "text/plain": [
       "21"
      ]
     },
     "execution_count": 91,
     "metadata": {},
     "output_type": "execute_result"
    },
    {
     "name": "stdout",
     "output_type": "stream",
     "text": [
      "processing HTMCP-03-06-02002\n",
      "(15964, 12)\n",
      "(12983, 11)\n",
      "(697, 12)\n",
      "(632, 11)\n"
     ]
    },
    {
     "data": {
      "text/plain": [
       "21"
      ]
     },
     "execution_count": 91,
     "metadata": {},
     "output_type": "execute_result"
    },
    {
     "data": {
      "text/plain": [
       "21"
      ]
     },
     "execution_count": 91,
     "metadata": {},
     "output_type": "execute_result"
    },
    {
     "name": "stdout",
     "output_type": "stream",
     "text": [
      "processing HTMCP-03-06-02003\n",
      "(7914, 12)\n",
      "(4124, 11)\n",
      "(483, 12)\n",
      "(422, 11)\n"
     ]
    },
    {
     "data": {
      "text/plain": [
       "21"
      ]
     },
     "execution_count": 91,
     "metadata": {},
     "output_type": "execute_result"
    },
    {
     "data": {
      "text/plain": [
       "21"
      ]
     },
     "execution_count": 91,
     "metadata": {},
     "output_type": "execute_result"
    },
    {
     "name": "stdout",
     "output_type": "stream",
     "text": [
      "processing HTMCP-03-06-02006\n",
      "(19931, 12)\n",
      "(15899, 11)\n",
      "(1766, 12)\n",
      "(1574, 11)\n"
     ]
    },
    {
     "data": {
      "text/plain": [
       "21"
      ]
     },
     "execution_count": 91,
     "metadata": {},
     "output_type": "execute_result"
    },
    {
     "data": {
      "text/plain": [
       "21"
      ]
     },
     "execution_count": 91,
     "metadata": {},
     "output_type": "execute_result"
    },
    {
     "name": "stdout",
     "output_type": "stream",
     "text": [
      "processing HTMCP-03-06-02008\n",
      "(7535, 12)\n",
      "(4180, 11)\n",
      "(547, 12)\n",
      "(501, 11)\n"
     ]
    },
    {
     "data": {
      "text/plain": [
       "21"
      ]
     },
     "execution_count": 91,
     "metadata": {},
     "output_type": "execute_result"
    },
    {
     "data": {
      "text/plain": [
       "21"
      ]
     },
     "execution_count": 91,
     "metadata": {},
     "output_type": "execute_result"
    },
    {
     "name": "stdout",
     "output_type": "stream",
     "text": [
      "processing HTMCP-03-06-02012\n",
      "(42517, 12)\n",
      "(30589, 11)\n",
      "(757, 12)\n",
      "(668, 11)\n"
     ]
    },
    {
     "data": {
      "text/plain": [
       "21"
      ]
     },
     "execution_count": 91,
     "metadata": {},
     "output_type": "execute_result"
    },
    {
     "data": {
      "text/plain": [
       "21"
      ]
     },
     "execution_count": 91,
     "metadata": {},
     "output_type": "execute_result"
    },
    {
     "name": "stdout",
     "output_type": "stream",
     "text": [
      "processing HTMCP-03-06-02013\n",
      "(9938, 12)\n",
      "(7667, 11)\n",
      "(500, 12)\n",
      "(459, 11)\n"
     ]
    },
    {
     "data": {
      "text/plain": [
       "21"
      ]
     },
     "execution_count": 91,
     "metadata": {},
     "output_type": "execute_result"
    },
    {
     "data": {
      "text/plain": [
       "21"
      ]
     },
     "execution_count": 91,
     "metadata": {},
     "output_type": "execute_result"
    },
    {
     "name": "stdout",
     "output_type": "stream",
     "text": [
      "processing HTMCP-03-06-02020\n",
      "(19409, 12)\n",
      "(8593, 11)\n",
      "(582, 12)\n",
      "(413, 11)\n"
     ]
    },
    {
     "data": {
      "text/plain": [
       "21"
      ]
     },
     "execution_count": 91,
     "metadata": {},
     "output_type": "execute_result"
    },
    {
     "data": {
      "text/plain": [
       "21"
      ]
     },
     "execution_count": 91,
     "metadata": {},
     "output_type": "execute_result"
    },
    {
     "name": "stdout",
     "output_type": "stream",
     "text": [
      "processing HTMCP-03-06-02036\n",
      "(6553, 12)\n",
      "(3015, 11)\n",
      "(322, 12)\n",
      "(271, 11)\n"
     ]
    },
    {
     "data": {
      "text/plain": [
       "21"
      ]
     },
     "execution_count": 91,
     "metadata": {},
     "output_type": "execute_result"
    },
    {
     "data": {
      "text/plain": [
       "21"
      ]
     },
     "execution_count": 91,
     "metadata": {},
     "output_type": "execute_result"
    },
    {
     "name": "stdout",
     "output_type": "stream",
     "text": [
      "processing HTMCP-03-06-02037\n",
      "(11097, 12)\n",
      "(8287, 11)\n",
      "(697, 12)\n",
      "(638, 11)\n"
     ]
    },
    {
     "data": {
      "text/plain": [
       "21"
      ]
     },
     "execution_count": 91,
     "metadata": {},
     "output_type": "execute_result"
    },
    {
     "data": {
      "text/plain": [
       "21"
      ]
     },
     "execution_count": 91,
     "metadata": {},
     "output_type": "execute_result"
    },
    {
     "name": "stdout",
     "output_type": "stream",
     "text": [
      "processing HTMCP-03-06-02040\n",
      "(15092, 12)\n",
      "(9796, 11)\n",
      "(974, 12)\n",
      "(811, 11)\n"
     ]
    },
    {
     "data": {
      "text/plain": [
       "21"
      ]
     },
     "execution_count": 91,
     "metadata": {},
     "output_type": "execute_result"
    },
    {
     "data": {
      "text/plain": [
       "21"
      ]
     },
     "execution_count": 91,
     "metadata": {},
     "output_type": "execute_result"
    },
    {
     "name": "stdout",
     "output_type": "stream",
     "text": [
      "processing HTMCP-03-06-02042\n",
      "(33313, 12)\n",
      "(19524, 11)\n",
      "(359, 12)\n",
      "(266, 11)\n"
     ]
    },
    {
     "data": {
      "text/plain": [
       "21"
      ]
     },
     "execution_count": 91,
     "metadata": {},
     "output_type": "execute_result"
    },
    {
     "data": {
      "text/plain": [
       "21"
      ]
     },
     "execution_count": 91,
     "metadata": {},
     "output_type": "execute_result"
    },
    {
     "name": "stdout",
     "output_type": "stream",
     "text": [
      "processing HTMCP-03-06-02046\n",
      "(4998, 12)\n",
      "(2489, 11)\n",
      "(183, 12)\n",
      "(150, 11)\n"
     ]
    },
    {
     "data": {
      "text/plain": [
       "21"
      ]
     },
     "execution_count": 91,
     "metadata": {},
     "output_type": "execute_result"
    },
    {
     "data": {
      "text/plain": [
       "21"
      ]
     },
     "execution_count": 91,
     "metadata": {},
     "output_type": "execute_result"
    },
    {
     "name": "stdout",
     "output_type": "stream",
     "text": [
      "processing HTMCP-03-06-02047\n",
      "(8363, 12)\n",
      "(5983, 11)\n",
      "(471, 12)\n",
      "(415, 11)\n"
     ]
    },
    {
     "data": {
      "text/plain": [
       "21"
      ]
     },
     "execution_count": 91,
     "metadata": {},
     "output_type": "execute_result"
    },
    {
     "data": {
      "text/plain": [
       "21"
      ]
     },
     "execution_count": 91,
     "metadata": {},
     "output_type": "execute_result"
    },
    {
     "name": "stdout",
     "output_type": "stream",
     "text": [
      "processing HTMCP-03-06-02054\n",
      "(19346, 12)\n",
      "(15689, 11)\n",
      "(738, 12)\n",
      "(657, 11)\n"
     ]
    },
    {
     "data": {
      "text/plain": [
       "21"
      ]
     },
     "execution_count": 91,
     "metadata": {},
     "output_type": "execute_result"
    },
    {
     "data": {
      "text/plain": [
       "21"
      ]
     },
     "execution_count": 91,
     "metadata": {},
     "output_type": "execute_result"
    },
    {
     "name": "stdout",
     "output_type": "stream",
     "text": [
      "processing HTMCP-03-06-02057\n",
      "(7048, 12)\n",
      "(3767, 11)\n",
      "(391, 12)\n",
      "(341, 11)\n"
     ]
    },
    {
     "data": {
      "text/plain": [
       "21"
      ]
     },
     "execution_count": 91,
     "metadata": {},
     "output_type": "execute_result"
    },
    {
     "data": {
      "text/plain": [
       "21"
      ]
     },
     "execution_count": 91,
     "metadata": {},
     "output_type": "execute_result"
    },
    {
     "name": "stdout",
     "output_type": "stream",
     "text": [
      "processing HTMCP-03-06-02058\n"
     ]
    },
    {
     "name": "stderr",
     "output_type": "stream",
     "text": [
      "/projects/da_workspace/software/miniconda/envs/dlpy3/lib/python3.6/site-packages/IPython/core/interactiveshell.py:2909: DtypeWarning: Columns (0) have mixed types. Specify dtype option on import or set low_memory=False.\n",
      "  if self.run_code(code, result):\n"
     ]
    },
    {
     "name": "stdout",
     "output_type": "stream",
     "text": [
      "(118825, 12)\n",
      "(80909, 11)\n",
      "(582, 12)\n",
      "(478, 11)\n"
     ]
    },
    {
     "data": {
      "text/plain": [
       "21"
      ]
     },
     "execution_count": 91,
     "metadata": {},
     "output_type": "execute_result"
    },
    {
     "data": {
      "text/plain": [
       "21"
      ]
     },
     "execution_count": 91,
     "metadata": {},
     "output_type": "execute_result"
    },
    {
     "name": "stdout",
     "output_type": "stream",
     "text": [
      "processing HTMCP-03-06-02063\n",
      "(178335, 12)\n",
      "(105698, 11)\n",
      "(1178, 12)\n",
      "(954, 11)\n"
     ]
    },
    {
     "data": {
      "text/plain": [
       "21"
      ]
     },
     "execution_count": 91,
     "metadata": {},
     "output_type": "execute_result"
    },
    {
     "data": {
      "text/plain": [
       "21"
      ]
     },
     "execution_count": 91,
     "metadata": {},
     "output_type": "execute_result"
    },
    {
     "name": "stdout",
     "output_type": "stream",
     "text": [
      "processing HTMCP-03-06-02068\n",
      "(57658, 12)\n",
      "(14854, 11)\n",
      "(659, 12)\n",
      "(462, 11)\n"
     ]
    },
    {
     "data": {
      "text/plain": [
       "21"
      ]
     },
     "execution_count": 91,
     "metadata": {},
     "output_type": "execute_result"
    },
    {
     "data": {
      "text/plain": [
       "21"
      ]
     },
     "execution_count": 91,
     "metadata": {},
     "output_type": "execute_result"
    },
    {
     "name": "stdout",
     "output_type": "stream",
     "text": [
      "processing HTMCP-03-06-02070\n",
      "(15357, 12)\n",
      "(9180, 11)\n",
      "(499, 12)\n",
      "(406, 11)\n"
     ]
    },
    {
     "data": {
      "text/plain": [
       "21"
      ]
     },
     "execution_count": 91,
     "metadata": {},
     "output_type": "execute_result"
    },
    {
     "data": {
      "text/plain": [
       "21"
      ]
     },
     "execution_count": 91,
     "metadata": {},
     "output_type": "execute_result"
    },
    {
     "name": "stdout",
     "output_type": "stream",
     "text": [
      "processing HTMCP-03-06-02071\n",
      "(6459, 12)\n",
      "(4373, 11)\n",
      "(616, 12)\n",
      "(543, 11)\n"
     ]
    },
    {
     "data": {
      "text/plain": [
       "21"
      ]
     },
     "execution_count": 91,
     "metadata": {},
     "output_type": "execute_result"
    },
    {
     "data": {
      "text/plain": [
       "21"
      ]
     },
     "execution_count": 91,
     "metadata": {},
     "output_type": "execute_result"
    },
    {
     "name": "stdout",
     "output_type": "stream",
     "text": [
      "processing HTMCP-03-06-02074\n",
      "(14502, 12)\n",
      "(9420, 11)\n",
      "(685, 12)\n",
      "(503, 11)\n"
     ]
    },
    {
     "data": {
      "text/plain": [
       "21"
      ]
     },
     "execution_count": 91,
     "metadata": {},
     "output_type": "execute_result"
    },
    {
     "data": {
      "text/plain": [
       "21"
      ]
     },
     "execution_count": 91,
     "metadata": {},
     "output_type": "execute_result"
    },
    {
     "name": "stdout",
     "output_type": "stream",
     "text": [
      "processing HTMCP-03-06-02075\n",
      "(33951, 12)\n",
      "(22588, 11)\n",
      "(594, 12)\n",
      "(445, 11)\n"
     ]
    },
    {
     "data": {
      "text/plain": [
       "21"
      ]
     },
     "execution_count": 91,
     "metadata": {},
     "output_type": "execute_result"
    },
    {
     "data": {
      "text/plain": [
       "21"
      ]
     },
     "execution_count": 91,
     "metadata": {},
     "output_type": "execute_result"
    },
    {
     "name": "stdout",
     "output_type": "stream",
     "text": [
      "processing HTMCP-03-06-02076\n",
      "(16466, 12)\n",
      "(11642, 11)\n",
      "(391, 12)\n",
      "(349, 11)\n"
     ]
    },
    {
     "data": {
      "text/plain": [
       "21"
      ]
     },
     "execution_count": 91,
     "metadata": {},
     "output_type": "execute_result"
    },
    {
     "data": {
      "text/plain": [
       "21"
      ]
     },
     "execution_count": 91,
     "metadata": {},
     "output_type": "execute_result"
    },
    {
     "name": "stdout",
     "output_type": "stream",
     "text": [
      "processing HTMCP-03-06-02089\n",
      "(20877, 12)\n",
      "(6637, 11)\n",
      "(312, 12)\n",
      "(236, 11)\n"
     ]
    },
    {
     "data": {
      "text/plain": [
       "21"
      ]
     },
     "execution_count": 91,
     "metadata": {},
     "output_type": "execute_result"
    },
    {
     "data": {
      "text/plain": [
       "21"
      ]
     },
     "execution_count": 91,
     "metadata": {},
     "output_type": "execute_result"
    },
    {
     "name": "stdout",
     "output_type": "stream",
     "text": [
      "processing HTMCP-03-06-02092\n",
      "(11655, 12)\n",
      "(7035, 11)\n",
      "(818, 12)\n",
      "(654, 11)\n"
     ]
    },
    {
     "data": {
      "text/plain": [
       "21"
      ]
     },
     "execution_count": 91,
     "metadata": {},
     "output_type": "execute_result"
    },
    {
     "data": {
      "text/plain": [
       "21"
      ]
     },
     "execution_count": 91,
     "metadata": {},
     "output_type": "execute_result"
    },
    {
     "name": "stdout",
     "output_type": "stream",
     "text": [
      "processing HTMCP-03-06-02097\n",
      "(8752, 12)\n",
      "(5891, 11)\n",
      "(672, 12)\n",
      "(586, 11)\n"
     ]
    },
    {
     "data": {
      "text/plain": [
       "21"
      ]
     },
     "execution_count": 91,
     "metadata": {},
     "output_type": "execute_result"
    },
    {
     "data": {
      "text/plain": [
       "21"
      ]
     },
     "execution_count": 91,
     "metadata": {},
     "output_type": "execute_result"
    },
    {
     "name": "stdout",
     "output_type": "stream",
     "text": [
      "processing HTMCP-03-06-02098\n",
      "(19579, 12)\n",
      "(13372, 11)\n",
      "(1315, 12)\n",
      "(1153, 11)\n"
     ]
    },
    {
     "data": {
      "text/plain": [
       "21"
      ]
     },
     "execution_count": 91,
     "metadata": {},
     "output_type": "execute_result"
    },
    {
     "data": {
      "text/plain": [
       "21"
      ]
     },
     "execution_count": 91,
     "metadata": {},
     "output_type": "execute_result"
    },
    {
     "name": "stdout",
     "output_type": "stream",
     "text": [
      "processing HTMCP-03-06-02099\n",
      "(10120, 12)\n",
      "(5464, 11)\n",
      "(401, 12)\n",
      "(322, 11)\n"
     ]
    },
    {
     "data": {
      "text/plain": [
       "21"
      ]
     },
     "execution_count": 91,
     "metadata": {},
     "output_type": "execute_result"
    },
    {
     "data": {
      "text/plain": [
       "21"
      ]
     },
     "execution_count": 91,
     "metadata": {},
     "output_type": "execute_result"
    },
    {
     "name": "stdout",
     "output_type": "stream",
     "text": [
      "processing HTMCP-03-06-02103\n",
      "(51500, 12)\n",
      "(35962, 11)\n",
      "(413, 12)\n",
      "(353, 11)\n"
     ]
    },
    {
     "data": {
      "text/plain": [
       "21"
      ]
     },
     "execution_count": 91,
     "metadata": {},
     "output_type": "execute_result"
    },
    {
     "data": {
      "text/plain": [
       "21"
      ]
     },
     "execution_count": 91,
     "metadata": {},
     "output_type": "execute_result"
    },
    {
     "name": "stdout",
     "output_type": "stream",
     "text": [
      "processing HTMCP-03-06-02108\n",
      "(9396, 12)\n",
      "(6840, 11)\n",
      "(379, 12)\n",
      "(306, 11)\n"
     ]
    },
    {
     "data": {
      "text/plain": [
       "21"
      ]
     },
     "execution_count": 91,
     "metadata": {},
     "output_type": "execute_result"
    },
    {
     "data": {
      "text/plain": [
       "21"
      ]
     },
     "execution_count": 91,
     "metadata": {},
     "output_type": "execute_result"
    },
    {
     "name": "stdout",
     "output_type": "stream",
     "text": [
      "processing HTMCP-03-06-02109\n",
      "(24750, 12)\n",
      "(17604, 11)\n",
      "(1219, 12)\n",
      "(1000, 11)\n"
     ]
    },
    {
     "data": {
      "text/plain": [
       "21"
      ]
     },
     "execution_count": 91,
     "metadata": {},
     "output_type": "execute_result"
    },
    {
     "data": {
      "text/plain": [
       "21"
      ]
     },
     "execution_count": 91,
     "metadata": {},
     "output_type": "execute_result"
    },
    {
     "name": "stdout",
     "output_type": "stream",
     "text": [
      "processing HTMCP-03-06-02110\n",
      "(8170, 12)\n",
      "(4471, 11)\n",
      "(395, 12)\n",
      "(351, 11)\n"
     ]
    },
    {
     "data": {
      "text/plain": [
       "21"
      ]
     },
     "execution_count": 91,
     "metadata": {},
     "output_type": "execute_result"
    },
    {
     "data": {
      "text/plain": [
       "21"
      ]
     },
     "execution_count": 91,
     "metadata": {},
     "output_type": "execute_result"
    },
    {
     "name": "stdout",
     "output_type": "stream",
     "text": [
      "processing HTMCP-03-06-02113\n",
      "(10117, 12)\n",
      "(4421, 11)\n",
      "(252, 12)\n",
      "(175, 11)\n"
     ]
    },
    {
     "data": {
      "text/plain": [
       "21"
      ]
     },
     "execution_count": 91,
     "metadata": {},
     "output_type": "execute_result"
    },
    {
     "data": {
      "text/plain": [
       "21"
      ]
     },
     "execution_count": 91,
     "metadata": {},
     "output_type": "execute_result"
    },
    {
     "name": "stdout",
     "output_type": "stream",
     "text": [
      "processing HTMCP-03-06-02120\n",
      "(17642, 12)\n",
      "(11371, 11)\n",
      "(527, 12)\n",
      "(391, 11)\n"
     ]
    },
    {
     "data": {
      "text/plain": [
       "21"
      ]
     },
     "execution_count": 91,
     "metadata": {},
     "output_type": "execute_result"
    },
    {
     "data": {
      "text/plain": [
       "21"
      ]
     },
     "execution_count": 91,
     "metadata": {},
     "output_type": "execute_result"
    },
    {
     "name": "stdout",
     "output_type": "stream",
     "text": [
      "processing HTMCP-03-06-02125\n",
      "(12059, 12)\n",
      "(8182, 11)\n",
      "(299, 12)\n",
      "(261, 11)\n"
     ]
    },
    {
     "data": {
      "text/plain": [
       "21"
      ]
     },
     "execution_count": 91,
     "metadata": {},
     "output_type": "execute_result"
    },
    {
     "data": {
      "text/plain": [
       "21"
      ]
     },
     "execution_count": 91,
     "metadata": {},
     "output_type": "execute_result"
    },
    {
     "name": "stdout",
     "output_type": "stream",
     "text": [
      "processing HTMCP-03-06-02128\n",
      "(12250, 12)\n",
      "(9492, 11)\n",
      "(604, 12)\n",
      "(552, 11)\n"
     ]
    },
    {
     "data": {
      "text/plain": [
       "21"
      ]
     },
     "execution_count": 91,
     "metadata": {},
     "output_type": "execute_result"
    },
    {
     "data": {
      "text/plain": [
       "21"
      ]
     },
     "execution_count": 91,
     "metadata": {},
     "output_type": "execute_result"
    },
    {
     "name": "stdout",
     "output_type": "stream",
     "text": [
      "processing HTMCP-03-06-02139\n",
      "(22281, 12)\n",
      "(13209, 11)\n",
      "(1260, 12)\n",
      "(1086, 11)\n"
     ]
    },
    {
     "data": {
      "text/plain": [
       "21"
      ]
     },
     "execution_count": 91,
     "metadata": {},
     "output_type": "execute_result"
    },
    {
     "data": {
      "text/plain": [
       "21"
      ]
     },
     "execution_count": 91,
     "metadata": {},
     "output_type": "execute_result"
    },
    {
     "name": "stdout",
     "output_type": "stream",
     "text": [
      "processing HTMCP-03-06-02144\n",
      "(5512, 12)\n",
      "(2967, 11)\n",
      "(266, 12)\n",
      "(227, 11)\n"
     ]
    },
    {
     "data": {
      "text/plain": [
       "21"
      ]
     },
     "execution_count": 91,
     "metadata": {},
     "output_type": "execute_result"
    },
    {
     "data": {
      "text/plain": [
       "21"
      ]
     },
     "execution_count": 91,
     "metadata": {},
     "output_type": "execute_result"
    },
    {
     "name": "stdout",
     "output_type": "stream",
     "text": [
      "processing HTMCP-03-06-02145\n",
      "(10550, 12)\n",
      "(6879, 11)\n",
      "(594, 12)\n",
      "(520, 11)\n"
     ]
    },
    {
     "data": {
      "text/plain": [
       "21"
      ]
     },
     "execution_count": 91,
     "metadata": {},
     "output_type": "execute_result"
    },
    {
     "data": {
      "text/plain": [
       "21"
      ]
     },
     "execution_count": 91,
     "metadata": {},
     "output_type": "execute_result"
    },
    {
     "name": "stdout",
     "output_type": "stream",
     "text": [
      "processing HTMCP-03-06-02147\n",
      "(19553, 12)\n",
      "(9826, 11)\n",
      "(374, 12)\n",
      "(330, 11)\n"
     ]
    },
    {
     "data": {
      "text/plain": [
       "21"
      ]
     },
     "execution_count": 91,
     "metadata": {},
     "output_type": "execute_result"
    },
    {
     "data": {
      "text/plain": [
       "21"
      ]
     },
     "execution_count": 91,
     "metadata": {},
     "output_type": "execute_result"
    },
    {
     "name": "stdout",
     "output_type": "stream",
     "text": [
      "processing HTMCP-03-06-02148\n",
      "(33693, 12)\n",
      "(20867, 11)\n",
      "(417, 12)\n",
      "(328, 11)\n"
     ]
    },
    {
     "data": {
      "text/plain": [
       "21"
      ]
     },
     "execution_count": 91,
     "metadata": {},
     "output_type": "execute_result"
    },
    {
     "data": {
      "text/plain": [
       "21"
      ]
     },
     "execution_count": 91,
     "metadata": {},
     "output_type": "execute_result"
    },
    {
     "name": "stdout",
     "output_type": "stream",
     "text": [
      "processing HTMCP-03-06-02149\n",
      "(16646, 12)\n",
      "(5248, 11)\n",
      "(245, 12)\n",
      "(178, 11)\n"
     ]
    },
    {
     "data": {
      "text/plain": [
       "21"
      ]
     },
     "execution_count": 91,
     "metadata": {},
     "output_type": "execute_result"
    },
    {
     "data": {
      "text/plain": [
       "21"
      ]
     },
     "execution_count": 91,
     "metadata": {},
     "output_type": "execute_result"
    },
    {
     "name": "stdout",
     "output_type": "stream",
     "text": [
      "processing HTMCP-03-06-02150\n",
      "(5417, 12)\n",
      "(3061, 11)\n",
      "(321, 12)\n",
      "(273, 11)\n"
     ]
    },
    {
     "data": {
      "text/plain": [
       "21"
      ]
     },
     "execution_count": 91,
     "metadata": {},
     "output_type": "execute_result"
    },
    {
     "data": {
      "text/plain": [
       "21"
      ]
     },
     "execution_count": 91,
     "metadata": {},
     "output_type": "execute_result"
    },
    {
     "name": "stdout",
     "output_type": "stream",
     "text": [
      "processing HTMCP-03-06-02151\n",
      "(5101, 12)\n",
      "(2451, 11)\n",
      "(162, 12)\n",
      "(112, 11)\n"
     ]
    },
    {
     "data": {
      "text/plain": [
       "21"
      ]
     },
     "execution_count": 91,
     "metadata": {},
     "output_type": "execute_result"
    },
    {
     "data": {
      "text/plain": [
       "21"
      ]
     },
     "execution_count": 91,
     "metadata": {},
     "output_type": "execute_result"
    },
    {
     "name": "stdout",
     "output_type": "stream",
     "text": [
      "processing HTMCP-03-06-02152\n",
      "(18534, 12)\n",
      "(3201, 11)\n",
      "(325, 12)\n",
      "(253, 11)\n"
     ]
    },
    {
     "data": {
      "text/plain": [
       "21"
      ]
     },
     "execution_count": 91,
     "metadata": {},
     "output_type": "execute_result"
    },
    {
     "data": {
      "text/plain": [
       "21"
      ]
     },
     "execution_count": 91,
     "metadata": {},
     "output_type": "execute_result"
    },
    {
     "name": "stdout",
     "output_type": "stream",
     "text": [
      "processing HTMCP-03-06-02155\n",
      "(24497, 12)\n",
      "(12978, 11)\n",
      "(514, 12)\n",
      "(377, 11)\n"
     ]
    },
    {
     "data": {
      "text/plain": [
       "21"
      ]
     },
     "execution_count": 91,
     "metadata": {},
     "output_type": "execute_result"
    },
    {
     "data": {
      "text/plain": [
       "21"
      ]
     },
     "execution_count": 91,
     "metadata": {},
     "output_type": "execute_result"
    },
    {
     "name": "stdout",
     "output_type": "stream",
     "text": [
      "processing HTMCP-03-06-02156\n",
      "(15881, 12)\n",
      "(9082, 11)\n",
      "(540, 12)\n",
      "(378, 11)\n"
     ]
    },
    {
     "data": {
      "text/plain": [
       "21"
      ]
     },
     "execution_count": 91,
     "metadata": {},
     "output_type": "execute_result"
    },
    {
     "data": {
      "text/plain": [
       "21"
      ]
     },
     "execution_count": 91,
     "metadata": {},
     "output_type": "execute_result"
    },
    {
     "name": "stdout",
     "output_type": "stream",
     "text": [
      "processing HTMCP-03-06-02170\n",
      "(27747, 12)\n",
      "(15503, 11)\n",
      "(1082, 12)\n",
      "(773, 11)\n"
     ]
    },
    {
     "data": {
      "text/plain": [
       "21"
      ]
     },
     "execution_count": 91,
     "metadata": {},
     "output_type": "execute_result"
    },
    {
     "data": {
      "text/plain": [
       "21"
      ]
     },
     "execution_count": 91,
     "metadata": {},
     "output_type": "execute_result"
    },
    {
     "name": "stdout",
     "output_type": "stream",
     "text": [
      "processing HTMCP-03-06-02174\n",
      "(22081, 12)\n",
      "(17019, 11)\n",
      "(1234, 12)\n",
      "(1140, 11)\n"
     ]
    },
    {
     "data": {
      "text/plain": [
       "21"
      ]
     },
     "execution_count": 91,
     "metadata": {},
     "output_type": "execute_result"
    },
    {
     "data": {
      "text/plain": [
       "21"
      ]
     },
     "execution_count": 91,
     "metadata": {},
     "output_type": "execute_result"
    },
    {
     "name": "stdout",
     "output_type": "stream",
     "text": [
      "processing HTMCP-03-06-02175\n",
      "(21609, 12)\n",
      "(12412, 11)\n",
      "(636, 12)\n",
      "(492, 11)\n"
     ]
    },
    {
     "data": {
      "text/plain": [
       "21"
      ]
     },
     "execution_count": 91,
     "metadata": {},
     "output_type": "execute_result"
    },
    {
     "data": {
      "text/plain": [
       "21"
      ]
     },
     "execution_count": 91,
     "metadata": {},
     "output_type": "execute_result"
    },
    {
     "name": "stdout",
     "output_type": "stream",
     "text": [
      "processing HTMCP-03-06-02176\n",
      "(25499, 12)\n",
      "(8588, 11)\n",
      "(304, 12)\n",
      "(214, 11)\n"
     ]
    },
    {
     "data": {
      "text/plain": [
       "21"
      ]
     },
     "execution_count": 91,
     "metadata": {},
     "output_type": "execute_result"
    },
    {
     "data": {
      "text/plain": [
       "21"
      ]
     },
     "execution_count": 91,
     "metadata": {},
     "output_type": "execute_result"
    },
    {
     "name": "stdout",
     "output_type": "stream",
     "text": [
      "processing HTMCP-03-06-02179\n",
      "(16191, 12)\n",
      "(10719, 11)\n",
      "(484, 12)\n",
      "(405, 11)\n"
     ]
    },
    {
     "data": {
      "text/plain": [
       "21"
      ]
     },
     "execution_count": 91,
     "metadata": {},
     "output_type": "execute_result"
    },
    {
     "data": {
      "text/plain": [
       "21"
      ]
     },
     "execution_count": 91,
     "metadata": {},
     "output_type": "execute_result"
    },
    {
     "name": "stdout",
     "output_type": "stream",
     "text": [
      "processing HTMCP-03-06-02180\n",
      "(14927, 12)\n",
      "(9001, 11)\n",
      "(544, 12)\n",
      "(491, 11)\n"
     ]
    },
    {
     "data": {
      "text/plain": [
       "21"
      ]
     },
     "execution_count": 91,
     "metadata": {},
     "output_type": "execute_result"
    },
    {
     "data": {
      "text/plain": [
       "21"
      ]
     },
     "execution_count": 91,
     "metadata": {},
     "output_type": "execute_result"
    },
    {
     "name": "stdout",
     "output_type": "stream",
     "text": [
      "processing HTMCP-03-06-02182\n",
      "(12499, 12)\n",
      "(9084, 11)\n",
      "(552, 12)\n",
      "(507, 11)\n"
     ]
    },
    {
     "data": {
      "text/plain": [
       "21"
      ]
     },
     "execution_count": 91,
     "metadata": {},
     "output_type": "execute_result"
    },
    {
     "data": {
      "text/plain": [
       "21"
      ]
     },
     "execution_count": 91,
     "metadata": {},
     "output_type": "execute_result"
    },
    {
     "name": "stdout",
     "output_type": "stream",
     "text": [
      "processing HTMCP-03-06-02185\n",
      "(53191, 12)\n",
      "(24719, 11)\n",
      "(7257, 12)\n",
      "(4902, 11)\n"
     ]
    },
    {
     "data": {
      "text/plain": [
       "21"
      ]
     },
     "execution_count": 91,
     "metadata": {},
     "output_type": "execute_result"
    },
    {
     "data": {
      "text/plain": [
       "21"
      ]
     },
     "execution_count": 91,
     "metadata": {},
     "output_type": "execute_result"
    },
    {
     "name": "stdout",
     "output_type": "stream",
     "text": [
      "processing HTMCP-03-06-02194\n",
      "(16802, 12)\n",
      "(11203, 11)\n",
      "(1072, 12)\n",
      "(868, 11)\n"
     ]
    },
    {
     "data": {
      "text/plain": [
       "21"
      ]
     },
     "execution_count": 91,
     "metadata": {},
     "output_type": "execute_result"
    },
    {
     "data": {
      "text/plain": [
       "21"
      ]
     },
     "execution_count": 91,
     "metadata": {},
     "output_type": "execute_result"
    },
    {
     "name": "stdout",
     "output_type": "stream",
     "text": [
      "processing HTMCP-03-06-02195\n",
      "(3002, 12)\n",
      "(256, 11)\n",
      "(31, 12)\n",
      "(21, 11)\n"
     ]
    },
    {
     "data": {
      "text/plain": [
       "21"
      ]
     },
     "execution_count": 91,
     "metadata": {},
     "output_type": "execute_result"
    },
    {
     "data": {
      "text/plain": [
       "21"
      ]
     },
     "execution_count": 91,
     "metadata": {},
     "output_type": "execute_result"
    },
    {
     "name": "stdout",
     "output_type": "stream",
     "text": [
      "processing HTMCP-03-06-02196\n",
      "(15971, 12)\n",
      "(11659, 11)\n",
      "(448, 12)\n",
      "(378, 11)\n"
     ]
    },
    {
     "data": {
      "text/plain": [
       "21"
      ]
     },
     "execution_count": 91,
     "metadata": {},
     "output_type": "execute_result"
    },
    {
     "data": {
      "text/plain": [
       "21"
      ]
     },
     "execution_count": 91,
     "metadata": {},
     "output_type": "execute_result"
    },
    {
     "name": "stdout",
     "output_type": "stream",
     "text": [
      "processing HTMCP-03-06-02197\n",
      "(7849, 12)\n",
      "(3064, 11)\n",
      "(162, 12)\n",
      "(101, 11)\n"
     ]
    },
    {
     "data": {
      "text/plain": [
       "21"
      ]
     },
     "execution_count": 91,
     "metadata": {},
     "output_type": "execute_result"
    },
    {
     "data": {
      "text/plain": [
       "21"
      ]
     },
     "execution_count": 91,
     "metadata": {},
     "output_type": "execute_result"
    },
    {
     "name": "stdout",
     "output_type": "stream",
     "text": [
      "processing HTMCP-03-06-02202\n",
      "(9760, 12)\n",
      "(4574, 11)\n",
      "(447, 12)\n",
      "(348, 11)\n"
     ]
    },
    {
     "data": {
      "text/plain": [
       "21"
      ]
     },
     "execution_count": 91,
     "metadata": {},
     "output_type": "execute_result"
    },
    {
     "data": {
      "text/plain": [
       "21"
      ]
     },
     "execution_count": 91,
     "metadata": {},
     "output_type": "execute_result"
    },
    {
     "name": "stdout",
     "output_type": "stream",
     "text": [
      "processing HTMCP-03-06-02203\n",
      "(35584, 12)\n",
      "(18379, 11)\n",
      "(411, 12)\n",
      "(315, 11)\n"
     ]
    },
    {
     "data": {
      "text/plain": [
       "21"
      ]
     },
     "execution_count": 91,
     "metadata": {},
     "output_type": "execute_result"
    },
    {
     "data": {
      "text/plain": [
       "21"
      ]
     },
     "execution_count": 91,
     "metadata": {},
     "output_type": "execute_result"
    },
    {
     "name": "stdout",
     "output_type": "stream",
     "text": [
      "processing HTMCP-03-06-02204\n",
      "(12278, 12)\n",
      "(7542, 11)\n",
      "(310, 12)\n",
      "(255, 11)\n"
     ]
    },
    {
     "data": {
      "text/plain": [
       "21"
      ]
     },
     "execution_count": 91,
     "metadata": {},
     "output_type": "execute_result"
    },
    {
     "data": {
      "text/plain": [
       "21"
      ]
     },
     "execution_count": 91,
     "metadata": {},
     "output_type": "execute_result"
    },
    {
     "name": "stdout",
     "output_type": "stream",
     "text": [
      "processing HTMCP-03-06-02205\n",
      "(14114, 12)\n",
      "(6360, 11)\n",
      "(514, 12)\n",
      "(378, 11)\n"
     ]
    },
    {
     "data": {
      "text/plain": [
       "21"
      ]
     },
     "execution_count": 91,
     "metadata": {},
     "output_type": "execute_result"
    },
    {
     "data": {
      "text/plain": [
       "21"
      ]
     },
     "execution_count": 91,
     "metadata": {},
     "output_type": "execute_result"
    },
    {
     "name": "stdout",
     "output_type": "stream",
     "text": [
      "processing HTMCP-03-06-02209\n",
      "(15713, 12)\n",
      "(11621, 11)\n",
      "(1008, 12)\n",
      "(872, 11)\n"
     ]
    },
    {
     "data": {
      "text/plain": [
       "21"
      ]
     },
     "execution_count": 91,
     "metadata": {},
     "output_type": "execute_result"
    },
    {
     "data": {
      "text/plain": [
       "21"
      ]
     },
     "execution_count": 91,
     "metadata": {},
     "output_type": "execute_result"
    },
    {
     "name": "stdout",
     "output_type": "stream",
     "text": [
      "processing HTMCP-03-06-02210\n",
      "(47974, 12)\n",
      "(33826, 11)\n",
      "(930, 12)\n",
      "(729, 11)\n"
     ]
    },
    {
     "data": {
      "text/plain": [
       "21"
      ]
     },
     "execution_count": 91,
     "metadata": {},
     "output_type": "execute_result"
    },
    {
     "data": {
      "text/plain": [
       "21"
      ]
     },
     "execution_count": 91,
     "metadata": {},
     "output_type": "execute_result"
    },
    {
     "name": "stdout",
     "output_type": "stream",
     "text": [
      "processing HTMCP-03-06-02213\n",
      "(11936, 12)\n",
      "(4229, 11)\n",
      "(173, 12)\n",
      "(112, 11)\n"
     ]
    },
    {
     "data": {
      "text/plain": [
       "21"
      ]
     },
     "execution_count": 91,
     "metadata": {},
     "output_type": "execute_result"
    },
    {
     "data": {
      "text/plain": [
       "21"
      ]
     },
     "execution_count": 91,
     "metadata": {},
     "output_type": "execute_result"
    },
    {
     "name": "stdout",
     "output_type": "stream",
     "text": [
      "processing HTMCP-03-06-02214\n",
      "(104274, 12)\n",
      "(79084, 11)\n",
      "(848, 12)\n",
      "(772, 11)\n"
     ]
    },
    {
     "data": {
      "text/plain": [
       "21"
      ]
     },
     "execution_count": 91,
     "metadata": {},
     "output_type": "execute_result"
    },
    {
     "data": {
      "text/plain": [
       "21"
      ]
     },
     "execution_count": 91,
     "metadata": {},
     "output_type": "execute_result"
    },
    {
     "name": "stdout",
     "output_type": "stream",
     "text": [
      "processing HTMCP-03-06-02215\n",
      "(19748, 12)\n",
      "(14255, 11)\n",
      "(701, 12)\n",
      "(580, 11)\n"
     ]
    },
    {
     "data": {
      "text/plain": [
       "21"
      ]
     },
     "execution_count": 91,
     "metadata": {},
     "output_type": "execute_result"
    },
    {
     "data": {
      "text/plain": [
       "21"
      ]
     },
     "execution_count": 91,
     "metadata": {},
     "output_type": "execute_result"
    },
    {
     "name": "stdout",
     "output_type": "stream",
     "text": [
      "processing HTMCP-03-06-02216\n",
      "(5475, 12)\n",
      "(2936, 11)\n",
      "(356, 12)\n",
      "(292, 11)\n"
     ]
    },
    {
     "data": {
      "text/plain": [
       "21"
      ]
     },
     "execution_count": 91,
     "metadata": {},
     "output_type": "execute_result"
    },
    {
     "data": {
      "text/plain": [
       "21"
      ]
     },
     "execution_count": 91,
     "metadata": {},
     "output_type": "execute_result"
    },
    {
     "name": "stdout",
     "output_type": "stream",
     "text": [
      "processing HTMCP-03-06-02217\n",
      "(7873, 12)\n",
      "(4163, 11)\n",
      "(367, 12)\n",
      "(305, 11)\n"
     ]
    },
    {
     "data": {
      "text/plain": [
       "21"
      ]
     },
     "execution_count": 91,
     "metadata": {},
     "output_type": "execute_result"
    },
    {
     "data": {
      "text/plain": [
       "21"
      ]
     },
     "execution_count": 91,
     "metadata": {},
     "output_type": "execute_result"
    },
    {
     "name": "stdout",
     "output_type": "stream",
     "text": [
      "processing HTMCP-03-06-02219\n",
      "(22830, 12)\n",
      "(2594, 11)\n",
      "(58, 12)\n",
      "(34, 11)\n"
     ]
    },
    {
     "data": {
      "text/plain": [
       "21"
      ]
     },
     "execution_count": 91,
     "metadata": {},
     "output_type": "execute_result"
    },
    {
     "data": {
      "text/plain": [
       "21"
      ]
     },
     "execution_count": 91,
     "metadata": {},
     "output_type": "execute_result"
    },
    {
     "name": "stdout",
     "output_type": "stream",
     "text": [
      "processing HTMCP-03-06-02222\n",
      "(15848, 12)\n",
      "(7066, 11)\n",
      "(703, 12)\n",
      "(512, 11)\n"
     ]
    },
    {
     "data": {
      "text/plain": [
       "21"
      ]
     },
     "execution_count": 91,
     "metadata": {},
     "output_type": "execute_result"
    },
    {
     "data": {
      "text/plain": [
       "21"
      ]
     },
     "execution_count": 91,
     "metadata": {},
     "output_type": "execute_result"
    },
    {
     "name": "stdout",
     "output_type": "stream",
     "text": [
      "processing HTMCP-03-06-02225\n",
      "(11311, 12)\n",
      "(3807, 11)\n",
      "(213, 12)\n",
      "(150, 11)\n"
     ]
    },
    {
     "data": {
      "text/plain": [
       "21"
      ]
     },
     "execution_count": 91,
     "metadata": {},
     "output_type": "execute_result"
    },
    {
     "data": {
      "text/plain": [
       "21"
      ]
     },
     "execution_count": 91,
     "metadata": {},
     "output_type": "execute_result"
    },
    {
     "name": "stdout",
     "output_type": "stream",
     "text": [
      "processing HTMCP-03-06-02230\n",
      "(7644, 12)\n",
      "(4561, 11)\n",
      "(462, 12)\n",
      "(375, 11)\n"
     ]
    },
    {
     "data": {
      "text/plain": [
       "21"
      ]
     },
     "execution_count": 91,
     "metadata": {},
     "output_type": "execute_result"
    },
    {
     "data": {
      "text/plain": [
       "21"
      ]
     },
     "execution_count": 91,
     "metadata": {},
     "output_type": "execute_result"
    },
    {
     "name": "stdout",
     "output_type": "stream",
     "text": [
      "processing HTMCP-03-06-02235\n",
      "(7602, 12)\n",
      "(2687, 11)\n",
      "(195, 12)\n",
      "(135, 11)\n"
     ]
    },
    {
     "data": {
      "text/plain": [
       "21"
      ]
     },
     "execution_count": 91,
     "metadata": {},
     "output_type": "execute_result"
    },
    {
     "data": {
      "text/plain": [
       "21"
      ]
     },
     "execution_count": 91,
     "metadata": {},
     "output_type": "execute_result"
    },
    {
     "name": "stdout",
     "output_type": "stream",
     "text": [
      "processing HTMCP-03-06-02238\n",
      "(21217, 12)\n",
      "(4922, 11)\n",
      "(200, 12)\n",
      "(139, 11)\n"
     ]
    },
    {
     "data": {
      "text/plain": [
       "21"
      ]
     },
     "execution_count": 91,
     "metadata": {},
     "output_type": "execute_result"
    },
    {
     "data": {
      "text/plain": [
       "21"
      ]
     },
     "execution_count": 91,
     "metadata": {},
     "output_type": "execute_result"
    },
    {
     "name": "stdout",
     "output_type": "stream",
     "text": [
      "processing HTMCP-03-06-02239\n",
      "(9275, 12)\n",
      "(7008, 11)\n",
      "(538, 12)\n",
      "(502, 11)\n"
     ]
    },
    {
     "data": {
      "text/plain": [
       "21"
      ]
     },
     "execution_count": 91,
     "metadata": {},
     "output_type": "execute_result"
    },
    {
     "data": {
      "text/plain": [
       "21"
      ]
     },
     "execution_count": 91,
     "metadata": {},
     "output_type": "execute_result"
    },
    {
     "name": "stdout",
     "output_type": "stream",
     "text": [
      "processing HTMCP-03-06-02240\n",
      "(20394, 12)\n",
      "(12279, 11)\n",
      "(829, 12)\n",
      "(733, 11)\n"
     ]
    },
    {
     "data": {
      "text/plain": [
       "21"
      ]
     },
     "execution_count": 91,
     "metadata": {},
     "output_type": "execute_result"
    },
    {
     "data": {
      "text/plain": [
       "21"
      ]
     },
     "execution_count": 91,
     "metadata": {},
     "output_type": "execute_result"
    },
    {
     "name": "stdout",
     "output_type": "stream",
     "text": [
      "processing HTMCP-03-06-02242\n",
      "(21331, 12)\n",
      "(17281, 11)\n",
      "(613, 12)\n",
      "(529, 11)\n"
     ]
    },
    {
     "data": {
      "text/plain": [
       "21"
      ]
     },
     "execution_count": 91,
     "metadata": {},
     "output_type": "execute_result"
    },
    {
     "data": {
      "text/plain": [
       "21"
      ]
     },
     "execution_count": 91,
     "metadata": {},
     "output_type": "execute_result"
    },
    {
     "name": "stdout",
     "output_type": "stream",
     "text": [
      "processing HTMCP-03-06-02256\n",
      "(18307, 12)\n",
      "(2476, 11)\n",
      "(136, 12)\n",
      "(85, 11)\n"
     ]
    },
    {
     "data": {
      "text/plain": [
       "21"
      ]
     },
     "execution_count": 91,
     "metadata": {},
     "output_type": "execute_result"
    },
    {
     "data": {
      "text/plain": [
       "21"
      ]
     },
     "execution_count": 91,
     "metadata": {},
     "output_type": "execute_result"
    },
    {
     "name": "stdout",
     "output_type": "stream",
     "text": [
      "processing HTMCP-03-06-02259\n",
      "(18640, 12)\n",
      "(12407, 11)\n",
      "(566, 12)\n",
      "(498, 11)\n"
     ]
    },
    {
     "data": {
      "text/plain": [
       "21"
      ]
     },
     "execution_count": 91,
     "metadata": {},
     "output_type": "execute_result"
    },
    {
     "data": {
      "text/plain": [
       "21"
      ]
     },
     "execution_count": 91,
     "metadata": {},
     "output_type": "execute_result"
    },
    {
     "name": "stdout",
     "output_type": "stream",
     "text": [
      "processing HTMCP-03-06-02260\n",
      "(89497, 12)\n",
      "(71944, 11)\n",
      "(720, 12)\n",
      "(565, 11)\n"
     ]
    },
    {
     "data": {
      "text/plain": [
       "21"
      ]
     },
     "execution_count": 91,
     "metadata": {},
     "output_type": "execute_result"
    },
    {
     "data": {
      "text/plain": [
       "21"
      ]
     },
     "execution_count": 91,
     "metadata": {},
     "output_type": "execute_result"
    },
    {
     "name": "stdout",
     "output_type": "stream",
     "text": [
      "processing HTMCP-03-06-02261\n",
      "(17725, 12)\n",
      "(6341, 11)\n",
      "(421, 12)\n",
      "(284, 11)\n"
     ]
    },
    {
     "data": {
      "text/plain": [
       "21"
      ]
     },
     "execution_count": 91,
     "metadata": {},
     "output_type": "execute_result"
    },
    {
     "data": {
      "text/plain": [
       "21"
      ]
     },
     "execution_count": 91,
     "metadata": {},
     "output_type": "execute_result"
    },
    {
     "name": "stdout",
     "output_type": "stream",
     "text": [
      "processing HTMCP-03-06-02262\n",
      "(24651, 12)\n",
      "(4143, 11)\n",
      "(1, 12)\n",
      "(1, 11)\n"
     ]
    },
    {
     "data": {
      "text/plain": [
       "21"
      ]
     },
     "execution_count": 91,
     "metadata": {},
     "output_type": "execute_result"
    },
    {
     "data": {
      "text/plain": [
       "21"
      ]
     },
     "execution_count": 91,
     "metadata": {},
     "output_type": "execute_result"
    },
    {
     "name": "stdout",
     "output_type": "stream",
     "text": [
      "processing HTMCP-03-06-02264\n",
      "(9286, 12)\n",
      "(5521, 11)\n",
      "(956, 12)\n",
      "(801, 11)\n"
     ]
    },
    {
     "data": {
      "text/plain": [
       "21"
      ]
     },
     "execution_count": 91,
     "metadata": {},
     "output_type": "execute_result"
    },
    {
     "data": {
      "text/plain": [
       "21"
      ]
     },
     "execution_count": 91,
     "metadata": {},
     "output_type": "execute_result"
    },
    {
     "name": "stdout",
     "output_type": "stream",
     "text": [
      "processing HTMCP-03-06-02266\n",
      "(18346, 12)\n",
      "(7534, 11)\n",
      "(414, 12)\n",
      "(285, 11)\n"
     ]
    },
    {
     "data": {
      "text/plain": [
       "21"
      ]
     },
     "execution_count": 91,
     "metadata": {},
     "output_type": "execute_result"
    },
    {
     "data": {
      "text/plain": [
       "21"
      ]
     },
     "execution_count": 91,
     "metadata": {},
     "output_type": "execute_result"
    },
    {
     "name": "stdout",
     "output_type": "stream",
     "text": [
      "processing HTMCP-03-06-02267\n",
      "(5372, 12)\n",
      "(1297, 11)\n",
      "(68, 12)\n",
      "(48, 11)\n"
     ]
    },
    {
     "data": {
      "text/plain": [
       "21"
      ]
     },
     "execution_count": 91,
     "metadata": {},
     "output_type": "execute_result"
    },
    {
     "data": {
      "text/plain": [
       "21"
      ]
     },
     "execution_count": 91,
     "metadata": {},
     "output_type": "execute_result"
    },
    {
     "name": "stdout",
     "output_type": "stream",
     "text": [
      "processing HTMCP-03-06-02268\n",
      "(17548, 12)\n",
      "(3494, 11)\n",
      "(159, 12)\n",
      "(109, 11)\n"
     ]
    },
    {
     "data": {
      "text/plain": [
       "21"
      ]
     },
     "execution_count": 91,
     "metadata": {},
     "output_type": "execute_result"
    },
    {
     "data": {
      "text/plain": [
       "21"
      ]
     },
     "execution_count": 91,
     "metadata": {},
     "output_type": "execute_result"
    },
    {
     "name": "stdout",
     "output_type": "stream",
     "text": [
      "processing HTMCP-03-06-02320\n",
      "(10314, 12)\n",
      "(6219, 11)\n",
      "(221, 12)\n",
      "(163, 11)\n"
     ]
    },
    {
     "data": {
      "text/plain": [
       "21"
      ]
     },
     "execution_count": 91,
     "metadata": {},
     "output_type": "execute_result"
    },
    {
     "data": {
      "text/plain": [
       "21"
      ]
     },
     "execution_count": 91,
     "metadata": {},
     "output_type": "execute_result"
    },
    {
     "name": "stdout",
     "output_type": "stream",
     "text": [
      "processing HTMCP-03-06-02322\n",
      "(16679, 12)\n",
      "(2897, 11)\n",
      "(128, 12)\n",
      "(87, 11)\n"
     ]
    },
    {
     "data": {
      "text/plain": [
       "21"
      ]
     },
     "execution_count": 91,
     "metadata": {},
     "output_type": "execute_result"
    },
    {
     "data": {
      "text/plain": [
       "21"
      ]
     },
     "execution_count": 91,
     "metadata": {},
     "output_type": "execute_result"
    },
    {
     "name": "stdout",
     "output_type": "stream",
     "text": [
      "processing HTMCP-03-06-02326\n",
      "(31741, 12)\n",
      "(21261, 11)\n",
      "(532, 12)\n",
      "(456, 11)\n"
     ]
    },
    {
     "data": {
      "text/plain": [
       "21"
      ]
     },
     "execution_count": 91,
     "metadata": {},
     "output_type": "execute_result"
    },
    {
     "data": {
      "text/plain": [
       "21"
      ]
     },
     "execution_count": 91,
     "metadata": {},
     "output_type": "execute_result"
    },
    {
     "name": "stdout",
     "output_type": "stream",
     "text": [
      "processing HTMCP-03-06-02328\n",
      "(22603, 12)\n",
      "(8759, 11)\n",
      "(463, 12)\n",
      "(382, 11)\n"
     ]
    },
    {
     "data": {
      "text/plain": [
       "21"
      ]
     },
     "execution_count": 91,
     "metadata": {},
     "output_type": "execute_result"
    },
    {
     "data": {
      "text/plain": [
       "21"
      ]
     },
     "execution_count": 91,
     "metadata": {},
     "output_type": "execute_result"
    },
    {
     "name": "stdout",
     "output_type": "stream",
     "text": [
      "processing HTMCP-03-06-02330\n",
      "(19357, 12)\n",
      "(9631, 11)\n",
      "(350, 12)\n",
      "(265, 11)\n"
     ]
    },
    {
     "data": {
      "text/plain": [
       "21"
      ]
     },
     "execution_count": 91,
     "metadata": {},
     "output_type": "execute_result"
    },
    {
     "data": {
      "text/plain": [
       "21"
      ]
     },
     "execution_count": 91,
     "metadata": {},
     "output_type": "execute_result"
    },
    {
     "name": "stdout",
     "output_type": "stream",
     "text": [
      "processing HTMCP-03-06-02332\n",
      "(22162, 12)\n",
      "(11138, 11)\n",
      "(548, 12)\n",
      "(413, 11)\n"
     ]
    },
    {
     "data": {
      "text/plain": [
       "21"
      ]
     },
     "execution_count": 91,
     "metadata": {},
     "output_type": "execute_result"
    },
    {
     "data": {
      "text/plain": [
       "21"
      ]
     },
     "execution_count": 91,
     "metadata": {},
     "output_type": "execute_result"
    },
    {
     "name": "stdout",
     "output_type": "stream",
     "text": [
      "processing HTMCP-03-06-02333\n",
      "(9532, 12)\n",
      "(2587, 11)\n",
      "(214, 12)\n",
      "(133, 11)\n"
     ]
    },
    {
     "data": {
      "text/plain": [
       "21"
      ]
     },
     "execution_count": 91,
     "metadata": {},
     "output_type": "execute_result"
    },
    {
     "data": {
      "text/plain": [
       "21"
      ]
     },
     "execution_count": 91,
     "metadata": {},
     "output_type": "execute_result"
    },
    {
     "name": "stdout",
     "output_type": "stream",
     "text": [
      "processing HTMCP-03-06-02335\n",
      "(10101, 12)\n",
      "(4169, 11)\n",
      "(286, 12)\n",
      "(235, 11)\n"
     ]
    },
    {
     "data": {
      "text/plain": [
       "21"
      ]
     },
     "execution_count": 91,
     "metadata": {},
     "output_type": "execute_result"
    },
    {
     "data": {
      "text/plain": [
       "21"
      ]
     },
     "execution_count": 91,
     "metadata": {},
     "output_type": "execute_result"
    },
    {
     "name": "stdout",
     "output_type": "stream",
     "text": [
      "processing HTMCP-03-06-02340\n",
      "(9761, 12)\n",
      "(3792, 11)\n",
      "(393, 12)\n",
      "(293, 11)\n"
     ]
    },
    {
     "data": {
      "text/plain": [
       "21"
      ]
     },
     "execution_count": 91,
     "metadata": {},
     "output_type": "execute_result"
    },
    {
     "data": {
      "text/plain": [
       "21"
      ]
     },
     "execution_count": 91,
     "metadata": {},
     "output_type": "execute_result"
    },
    {
     "name": "stdout",
     "output_type": "stream",
     "text": [
      "processing HTMCP-03-06-02341\n",
      "(19031, 12)\n",
      "(1567, 11)\n",
      "(72, 12)\n",
      "(49, 11)\n"
     ]
    },
    {
     "data": {
      "text/plain": [
       "21"
      ]
     },
     "execution_count": 91,
     "metadata": {},
     "output_type": "execute_result"
    },
    {
     "data": {
      "text/plain": [
       "21"
      ]
     },
     "execution_count": 91,
     "metadata": {},
     "output_type": "execute_result"
    },
    {
     "name": "stdout",
     "output_type": "stream",
     "text": [
      "processing HTMCP-03-06-02344\n",
      "(11356, 12)\n",
      "(6019, 11)\n",
      "(558, 12)\n",
      "(469, 11)\n"
     ]
    },
    {
     "data": {
      "text/plain": [
       "21"
      ]
     },
     "execution_count": 91,
     "metadata": {},
     "output_type": "execute_result"
    },
    {
     "data": {
      "text/plain": [
       "21"
      ]
     },
     "execution_count": 91,
     "metadata": {},
     "output_type": "execute_result"
    },
    {
     "name": "stdout",
     "output_type": "stream",
     "text": [
      "processing HTMCP-03-06-02346\n",
      "(15410, 12)\n",
      "(9402, 11)\n",
      "(843, 12)\n",
      "(744, 11)\n"
     ]
    },
    {
     "data": {
      "text/plain": [
       "21"
      ]
     },
     "execution_count": 91,
     "metadata": {},
     "output_type": "execute_result"
    },
    {
     "data": {
      "text/plain": [
       "21"
      ]
     },
     "execution_count": 91,
     "metadata": {},
     "output_type": "execute_result"
    },
    {
     "name": "stdout",
     "output_type": "stream",
     "text": [
      "processing HTMCP-03-06-02354\n",
      "(15658, 12)\n",
      "(10029, 11)\n",
      "(443, 12)\n",
      "(377, 11)\n"
     ]
    },
    {
     "data": {
      "text/plain": [
       "21"
      ]
     },
     "execution_count": 91,
     "metadata": {},
     "output_type": "execute_result"
    },
    {
     "data": {
      "text/plain": [
       "21"
      ]
     },
     "execution_count": 91,
     "metadata": {},
     "output_type": "execute_result"
    },
    {
     "name": "stdout",
     "output_type": "stream",
     "text": [
      "processing HTMCP-03-06-02377\n",
      "(7972, 12)\n",
      "(4181, 11)\n",
      "(251, 12)\n",
      "(195, 11)\n"
     ]
    },
    {
     "data": {
      "text/plain": [
       "21"
      ]
     },
     "execution_count": 91,
     "metadata": {},
     "output_type": "execute_result"
    },
    {
     "data": {
      "text/plain": [
       "21"
      ]
     },
     "execution_count": 91,
     "metadata": {},
     "output_type": "execute_result"
    },
    {
     "name": "stdout",
     "output_type": "stream",
     "text": [
      "processing HTMCP-03-06-02392\n",
      "(11768, 12)\n",
      "(7336, 11)\n",
      "(597, 12)\n",
      "(443, 11)\n"
     ]
    },
    {
     "data": {
      "text/plain": [
       "21"
      ]
     },
     "execution_count": 91,
     "metadata": {},
     "output_type": "execute_result"
    },
    {
     "data": {
      "text/plain": [
       "21"
      ]
     },
     "execution_count": 91,
     "metadata": {},
     "output_type": "execute_result"
    },
    {
     "name": "stdout",
     "output_type": "stream",
     "text": [
      "processing HTMCP-03-06-02393\n",
      "(7607, 12)\n",
      "(3993, 11)\n",
      "(489, 12)\n",
      "(415, 11)\n"
     ]
    },
    {
     "data": {
      "text/plain": [
       "21"
      ]
     },
     "execution_count": 91,
     "metadata": {},
     "output_type": "execute_result"
    },
    {
     "data": {
      "text/plain": [
       "21"
      ]
     },
     "execution_count": 91,
     "metadata": {},
     "output_type": "execute_result"
    },
    {
     "name": "stdout",
     "output_type": "stream",
     "text": [
      "processing HTMCP-03-06-02396\n",
      "(84830, 12)\n",
      "(17178, 11)\n",
      "(465, 12)\n",
      "(378, 11)\n"
     ]
    },
    {
     "data": {
      "text/plain": [
       "21"
      ]
     },
     "execution_count": 91,
     "metadata": {},
     "output_type": "execute_result"
    },
    {
     "data": {
      "text/plain": [
       "21"
      ]
     },
     "execution_count": 91,
     "metadata": {},
     "output_type": "execute_result"
    },
    {
     "name": "stdout",
     "output_type": "stream",
     "text": [
      "processing HTMCP-03-06-02411\n",
      "(21933, 12)\n",
      "(13141, 11)\n",
      "(753, 12)\n",
      "(598, 11)\n"
     ]
    },
    {
     "data": {
      "text/plain": [
       "21"
      ]
     },
     "execution_count": 91,
     "metadata": {},
     "output_type": "execute_result"
    },
    {
     "data": {
      "text/plain": [
       "21"
      ]
     },
     "execution_count": 91,
     "metadata": {},
     "output_type": "execute_result"
    },
    {
     "name": "stdout",
     "output_type": "stream",
     "text": [
      "processing HTMCP-03-06-02414\n",
      "(12599, 12)\n",
      "(5344, 11)\n",
      "(643, 12)\n",
      "(524, 11)\n"
     ]
    },
    {
     "data": {
      "text/plain": [
       "21"
      ]
     },
     "execution_count": 91,
     "metadata": {},
     "output_type": "execute_result"
    },
    {
     "data": {
      "text/plain": [
       "21"
      ]
     },
     "execution_count": 91,
     "metadata": {},
     "output_type": "execute_result"
    },
    {
     "name": "stdout",
     "output_type": "stream",
     "text": [
      "processing HTMCP-03-06-02417\n",
      "(15221, 12)\n",
      "(7504, 11)\n",
      "(602, 12)\n",
      "(430, 11)\n"
     ]
    },
    {
     "data": {
      "text/plain": [
       "21"
      ]
     },
     "execution_count": 91,
     "metadata": {},
     "output_type": "execute_result"
    },
    {
     "data": {
      "text/plain": [
       "21"
      ]
     },
     "execution_count": 91,
     "metadata": {},
     "output_type": "execute_result"
    },
    {
     "name": "stdout",
     "output_type": "stream",
     "text": [
      "processing HTMCP-03-06-02424\n",
      "(17014, 12)\n",
      "(11716, 11)\n",
      "(460, 12)\n",
      "(333, 11)\n"
     ]
    },
    {
     "data": {
      "text/plain": [
       "21"
      ]
     },
     "execution_count": 91,
     "metadata": {},
     "output_type": "execute_result"
    },
    {
     "data": {
      "text/plain": [
       "21"
      ]
     },
     "execution_count": 91,
     "metadata": {},
     "output_type": "execute_result"
    },
    {
     "name": "stdout",
     "output_type": "stream",
     "text": [
      "processing HTMCP-03-06-02427\n",
      "(7041, 12)\n",
      "(3790, 11)\n",
      "(305, 12)\n",
      "(247, 11)\n"
     ]
    },
    {
     "data": {
      "text/plain": [
       "21"
      ]
     },
     "execution_count": 91,
     "metadata": {},
     "output_type": "execute_result"
    },
    {
     "data": {
      "text/plain": [
       "21"
      ]
     },
     "execution_count": 91,
     "metadata": {},
     "output_type": "execute_result"
    },
    {
     "name": "stdout",
     "output_type": "stream",
     "text": [
      "processing HTMCP-03-06-02428\n",
      "(57993, 12)\n",
      "(33881, 11)\n",
      "(677, 12)\n",
      "(571, 11)\n"
     ]
    },
    {
     "data": {
      "text/plain": [
       "21"
      ]
     },
     "execution_count": 91,
     "metadata": {},
     "output_type": "execute_result"
    },
    {
     "data": {
      "text/plain": [
       "21"
      ]
     },
     "execution_count": 91,
     "metadata": {},
     "output_type": "execute_result"
    },
    {
     "name": "stdout",
     "output_type": "stream",
     "text": [
      "processing HTMCP-03-06-02434\n",
      "(6664, 12)\n",
      "(3233, 11)\n",
      "(335, 12)\n",
      "(261, 11)\n"
     ]
    },
    {
     "data": {
      "text/plain": [
       "21"
      ]
     },
     "execution_count": 91,
     "metadata": {},
     "output_type": "execute_result"
    },
    {
     "data": {
      "text/plain": [
       "21"
      ]
     },
     "execution_count": 91,
     "metadata": {},
     "output_type": "execute_result"
    },
    {
     "name": "stdout",
     "output_type": "stream",
     "text": [
      "processing HTMCP-03-06-02435\n",
      "(92772, 12)\n",
      "(45259, 11)\n",
      "(36853, 12)\n",
      "(29789, 11)\n"
     ]
    },
    {
     "data": {
      "text/plain": [
       "21"
      ]
     },
     "execution_count": 91,
     "metadata": {},
     "output_type": "execute_result"
    },
    {
     "data": {
      "text/plain": [
       "21"
      ]
     },
     "execution_count": 91,
     "metadata": {},
     "output_type": "execute_result"
    },
    {
     "name": "stdout",
     "output_type": "stream",
     "text": [
      "processing HTMCP-03-06-02437\n",
      "(18036, 12)\n",
      "(5586, 11)\n",
      "(406, 12)\n",
      "(286, 11)\n"
     ]
    },
    {
     "data": {
      "text/plain": [
       "21"
      ]
     },
     "execution_count": 91,
     "metadata": {},
     "output_type": "execute_result"
    },
    {
     "data": {
      "text/plain": [
       "21"
      ]
     },
     "execution_count": 91,
     "metadata": {},
     "output_type": "execute_result"
    },
    {
     "name": "stdout",
     "output_type": "stream",
     "text": [
      "processing HTMCP-03-06-02441\n",
      "(34009, 12)\n",
      "(24957, 11)\n",
      "(826, 12)\n",
      "(720, 11)\n"
     ]
    },
    {
     "data": {
      "text/plain": [
       "21"
      ]
     },
     "execution_count": 91,
     "metadata": {},
     "output_type": "execute_result"
    },
    {
     "data": {
      "text/plain": [
       "21"
      ]
     },
     "execution_count": 91,
     "metadata": {},
     "output_type": "execute_result"
    },
    {
     "name": "stdout",
     "output_type": "stream",
     "text": [
      "processing HTMCP-03-06-02442\n",
      "(9570, 12)\n",
      "(2863, 11)\n",
      "(181, 12)\n",
      "(101, 11)\n"
     ]
    },
    {
     "data": {
      "text/plain": [
       "21"
      ]
     },
     "execution_count": 91,
     "metadata": {},
     "output_type": "execute_result"
    },
    {
     "data": {
      "text/plain": [
       "21"
      ]
     },
     "execution_count": 91,
     "metadata": {},
     "output_type": "execute_result"
    },
    {
     "name": "stdout",
     "output_type": "stream",
     "text": [
      "processing HTMCP-03-06-02447\n",
      "(13417, 12)\n",
      "(5402, 11)\n",
      "(497, 12)\n",
      "(326, 11)\n"
     ]
    },
    {
     "data": {
      "text/plain": [
       "21"
      ]
     },
     "execution_count": 91,
     "metadata": {},
     "output_type": "execute_result"
    },
    {
     "data": {
      "text/plain": [
       "21"
      ]
     },
     "execution_count": 91,
     "metadata": {},
     "output_type": "execute_result"
    }
   ],
   "source": [
    "for _, row in df.iterrows():\n",
    "    patient = row['patient']\n",
    "    snv_vcf = row['snv_vcf']\n",
    "    print('processing {}'.format(patient))\n",
    "#     print(snv_vcf, indel_vcf)\n",
    "    df_snv = filter_snv(snv_vcf, 30)\n",
    "    indel_vcf = row['indel_vcf']\n",
    "#     print('processing {}, indel'.format(patient))\n",
    "    df_indel = filter_indel(indel_vcf, 35)\n",
    "    f_name = '{0}{1}.snvs.vcf'.format(outdir, patient)\n",
    "    with open(f_name, 'a') as f: \n",
    "        f.write('##fileformat=VCFv4.1\\n')\n",
    "        df_snv.to_csv(f, index=False, sep='\\t')\n",
    "        \n",
    "    indel_name = '{0}{1}.indels.vcf'.format(outdir, patient)\n",
    "    with open(indel_name, 'a') as g: \n",
    "        g.write('##fileformat=VCFv4.1\\n')\n",
    "        df_indel.to_csv(g, index=False, sep='\\t')\n",
    "    "
   ]
  },
  {
   "cell_type": "code",
   "execution_count": null,
   "metadata": {},
   "outputs": [],
   "source": []
  },
  {
   "cell_type": "code",
   "execution_count": 17,
   "metadata": {},
   "outputs": [
    {
     "data": {
      "text/html": [
       "<div>\n",
       "<style scoped>\n",
       "    .dataframe tbody tr th:only-of-type {\n",
       "        vertical-align: middle;\n",
       "    }\n",
       "\n",
       "    .dataframe tbody tr th {\n",
       "        vertical-align: top;\n",
       "    }\n",
       "\n",
       "    .dataframe thead th {\n",
       "        text-align: right;\n",
       "    }\n",
       "</style>\n",
       "<table border=\"1\" class=\"dataframe\">\n",
       "  <thead>\n",
       "    <tr style=\"text-align: right;\">\n",
       "      <th></th>\n",
       "      <th>CHROM</th>\n",
       "      <th>POS</th>\n",
       "      <th>ID</th>\n",
       "      <th>REF</th>\n",
       "      <th>ALT</th>\n",
       "      <th>QUAL</th>\n",
       "      <th>FILTER</th>\n",
       "      <th>INFO</th>\n",
       "      <th>FORMAT</th>\n",
       "      <th>NORMAL</th>\n",
       "      <th>TUMOR</th>\n",
       "      <th>QSI</th>\n",
       "    </tr>\n",
       "  </thead>\n",
       "  <tbody>\n",
       "    <tr>\n",
       "      <th>0</th>\n",
       "      <td>1</td>\n",
       "      <td>66329</td>\n",
       "      <td>.</td>\n",
       "      <td>ATATATTTTAT</td>\n",
       "      <td>A</td>\n",
       "      <td>.</td>\n",
       "      <td>PASS</td>\n",
       "      <td>IC=0;IHP=6;NT=ref;QSI=34;QSI_NT=34;RC=1;RU=TAT...</td>\n",
       "      <td>DP:DP2:TAR:TIR:TOR:DP50:FDP50:SUBDP50</td>\n",
       "      <td>82:82:82,111:0,0:5,4:80.67:6.75:0.00</td>\n",
       "      <td>156:156:155,231:6,9:19,28:152.85:23.27:0.00</td>\n",
       "      <td>34</td>\n",
       "    </tr>\n",
       "    <tr>\n",
       "      <th>1</th>\n",
       "      <td>1</td>\n",
       "      <td>8573595</td>\n",
       "      <td>.</td>\n",
       "      <td>T</td>\n",
       "      <td>TG</td>\n",
       "      <td>.</td>\n",
       "      <td>PASS</td>\n",
       "      <td>IC=7;IHP=6;NT=ref;QSI=31;QSI_NT=31;RC=6;RU=G;S...</td>\n",
       "      <td>DP:DP2:TAR:TIR:TOR:DP50:FDP50:SUBDP50</td>\n",
       "      <td>52:52:51,51:0,0:0,0:51.65:0.00:0.00</td>\n",
       "      <td>80:80:59,62:13,13:6,5:78.81:0.00:0.00</td>\n",
       "      <td>31</td>\n",
       "    </tr>\n",
       "  </tbody>\n",
       "</table>\n",
       "</div>"
      ],
      "text/plain": [
       "  CHROM      POS ID          REF ALT QUAL FILTER  \\\n",
       "0     1    66329  .  ATATATTTTAT   A    .   PASS   \n",
       "1     1  8573595  .            T  TG    .   PASS   \n",
       "\n",
       "                                                INFO  \\\n",
       "0  IC=0;IHP=6;NT=ref;QSI=34;QSI_NT=34;RC=1;RU=TAT...   \n",
       "1  IC=7;IHP=6;NT=ref;QSI=31;QSI_NT=31;RC=6;RU=G;S...   \n",
       "\n",
       "                                  FORMAT  \\\n",
       "0  DP:DP2:TAR:TIR:TOR:DP50:FDP50:SUBDP50   \n",
       "1  DP:DP2:TAR:TIR:TOR:DP50:FDP50:SUBDP50   \n",
       "\n",
       "                                 NORMAL  \\\n",
       "0  82:82:82,111:0,0:5,4:80.67:6.75:0.00   \n",
       "1   52:52:51,51:0,0:0,0:51.65:0.00:0.00   \n",
       "\n",
       "                                         TUMOR QSI  \n",
       "0  156:156:155,231:6,9:19,28:152.85:23.27:0.00  34  \n",
       "1        80:80:59,62:13,13:6,5:78.81:0.00:0.00  31  "
      ]
     },
     "execution_count": 17,
     "metadata": {},
     "output_type": "execute_result"
    }
   ],
   "source": [
    "df_indel = pd.read_csv(indel_vcf, sep='\\t', comment='#', header=None)\n",
    "df_indel.columns = [\"CHROM\",  \"POS\",  \"ID\",  \"REF\",  \"ALT\",  \"QUAL\",  \"FILTER\",  \"INFO\",  \"FORMAT\",  \"NORMAL\",  \"TUMOR\"]\n",
    "df_indel[\"QSI\"] = df_indel['INFO'].apply(lambda x: x.split(';')[3].split('=')[1])\n",
    "df_indel.head(2)"
   ]
  },
  {
   "cell_type": "code",
   "execution_count": null,
   "metadata": {},
   "outputs": [],
   "source": []
  },
  {
   "cell_type": "code",
   "execution_count": null,
   "metadata": {},
   "outputs": [],
   "source": []
  }
 ],
 "metadata": {
  "kernelspec": {
   "display_name": "Python 3",
   "language": "python",
   "name": "python3"
  },
  "language_info": {
   "codemirror_mode": {
    "name": "ipython",
    "version": 3
   },
   "file_extension": ".py",
   "mimetype": "text/x-python",
   "name": "python",
   "nbconvert_exporter": "python",
   "pygments_lexer": "ipython3",
   "version": "3.7.3"
  }
 },
 "nbformat": 4,
 "nbformat_minor": 2
}
