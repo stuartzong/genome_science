{
 "cells": [
  {
   "cell_type": "code",
   "execution_count": 335,
   "metadata": {},
   "outputs": [],
   "source": [
    "import matplotlib.pyplot as plt\n",
    "import numpy as np\n",
    "import pandas as pd\n",
    "import seaborn as sns\n",
    "import sys\n",
    "sys.path.append('/projects/trans_scratch/validations/workspace/szong/Cervical/notebook')\n",
    "from lineticks import LineTicks\n",
    "\n",
    "\n",
    "from IPython.core.interactiveshell import InteractiveShell\n",
    "InteractiveShell.ast_node_interactivity = \"all\""
   ]
  },
  {
   "cell_type": "markdown",
   "metadata": {},
   "source": [
    "### new plot 20190329"
   ]
  },
  {
   "cell_type": "code",
   "execution_count": 248,
   "metadata": {},
   "outputs": [
    {
     "data": {
      "text/html": [
       "<div>\n",
       "<style scoped>\n",
       "    .dataframe tbody tr th:only-of-type {\n",
       "        vertical-align: middle;\n",
       "    }\n",
       "\n",
       "    .dataframe tbody tr th {\n",
       "        vertical-align: top;\n",
       "    }\n",
       "\n",
       "    .dataframe thead th {\n",
       "        text-align: right;\n",
       "    }\n",
       "</style>\n",
       "<table border=\"1\" class=\"dataframe\">\n",
       "  <thead>\n",
       "    <tr style=\"text-align: right;\">\n",
       "      <th></th>\n",
       "      <th>q_value_hiv+</th>\n",
       "      <th>cytoband</th>\n",
       "      <th>gene_hiv+</th>\n",
       "      <th>q_value_hiv-</th>\n",
       "      <th>gene_hiv-</th>\n",
       "      <th>hiv+q(-log10)</th>\n",
       "      <th>hiv-q(-log10)</th>\n",
       "    </tr>\n",
       "  </thead>\n",
       "  <tbody>\n",
       "    <tr>\n",
       "      <th>0</th>\n",
       "      <td>1.043200e-15</td>\n",
       "      <td>2q22.1</td>\n",
       "      <td>LRP1B</td>\n",
       "      <td>0.04368</td>\n",
       "      <td>LOC389033</td>\n",
       "      <td>14.981632</td>\n",
       "      <td>1.359717</td>\n",
       "    </tr>\n",
       "    <tr>\n",
       "      <th>1</th>\n",
       "      <td>1.519500e-09</td>\n",
       "      <td>2q36.3</td>\n",
       "      <td>AGXT</td>\n",
       "      <td>1.00000</td>\n",
       "      <td>NaN</td>\n",
       "      <td>8.818299</td>\n",
       "      <td>-0.000000</td>\n",
       "    </tr>\n",
       "    <tr>\n",
       "      <th>2</th>\n",
       "      <td>5.958900e-04</td>\n",
       "      <td>3p13</td>\n",
       "      <td>CHMP2B</td>\n",
       "      <td>1.00000</td>\n",
       "      <td>NaN</td>\n",
       "      <td>3.224834</td>\n",
       "      <td>-0.000000</td>\n",
       "    </tr>\n",
       "    <tr>\n",
       "      <th>3</th>\n",
       "      <td>1.144100e-02</td>\n",
       "      <td>3p14.2</td>\n",
       "      <td>MAP4</td>\n",
       "      <td>1.00000</td>\n",
       "      <td>NaN</td>\n",
       "      <td>1.941536</td>\n",
       "      <td>-0.000000</td>\n",
       "    </tr>\n",
       "    <tr>\n",
       "      <th>4</th>\n",
       "      <td>3.485300e-03</td>\n",
       "      <td>4q21.3</td>\n",
       "      <td>MAPK10</td>\n",
       "      <td>1.00000</td>\n",
       "      <td>NaN</td>\n",
       "      <td>2.457760</td>\n",
       "      <td>-0.000000</td>\n",
       "    </tr>\n",
       "  </tbody>\n",
       "</table>\n",
       "</div>"
      ],
      "text/plain": [
       "   q_value_hiv+ cytoband gene_hiv+  q_value_hiv-  gene_hiv-  hiv+q(-log10)  \\\n",
       "0  1.043200e-15   2q22.1     LRP1B       0.04368  LOC389033      14.981632   \n",
       "1  1.519500e-09   2q36.3      AGXT       1.00000        NaN       8.818299   \n",
       "2  5.958900e-04     3p13    CHMP2B       1.00000        NaN       3.224834   \n",
       "3  1.144100e-02   3p14.2      MAP4       1.00000        NaN       1.941536   \n",
       "4  3.485300e-03   4q21.3    MAPK10       1.00000        NaN       2.457760   \n",
       "\n",
       "   hiv-q(-log10)  \n",
       "0       1.359717  \n",
       "1      -0.000000  \n",
       "2      -0.000000  \n",
       "3      -0.000000  \n",
       "4      -0.000000  "
      ]
     },
     "execution_count": 248,
     "metadata": {},
     "output_type": "execute_result"
    },
    {
     "data": {
      "text/plain": [
       "(36, 7)"
      ]
     },
     "execution_count": 248,
     "metadata": {},
     "output_type": "execute_result"
    }
   ],
   "source": [
    "# gistic cytoband data\n",
    "cnvdir = '/projects/trans_scratch/validations/workspace/szong/Cervical/cnv/'\n",
    "of = f'{cnvdir}del_cytoband_qvalue_comparison_hiv_pos_vs_neg.csv'\n",
    "# ndf.to_csv(of, index=False)\n",
    "ndf = pd.read_csv(of)\n",
    "ndf.head()\n",
    "x = ndf['hiv-q(-log10)']\n",
    "y = ndf['hiv+q(-log10)']\n",
    "# xband = ndf['']\n",
    "maxq = int(max(max(x), max(y))) + 2\n",
    "\n",
    "ndf.shape"
   ]
  },
  {
   "cell_type": "code",
   "execution_count": 217,
   "metadata": {},
   "outputs": [],
   "source": [
    "# tmpy = ndf[x==0][['cytoband','hiv-q(-log10)', 'hiv+q(-log10)']].sort_values('hiv+q(-log10)', ascending=False)\n",
    "# pyxs = tmpy['hiv-q(-log10)']\n",
    "# pyys = tmpy['hiv+q(-log10)']\n",
    "# ybands = tmpy['cytoband'].tolist()"
   ]
  },
  {
   "cell_type": "code",
   "execution_count": 218,
   "metadata": {},
   "outputs": [],
   "source": [
    "# ybands = ndf[x==0][['cytoband','hiv+q(-log10)']].sort_values('hiv+q(-log10)', ascending=False)['cytoband'].tolist()"
   ]
  },
  {
   "cell_type": "code",
   "execution_count": 219,
   "metadata": {},
   "outputs": [],
   "source": [
    "# tmpx = ndf[y==0][['cytoband','hiv-q(-log10)', 'hiv+q(-log10)']].sort_values('hiv-q(-log10)', ascending=True)\n",
    "# pxxs = tmpx['hiv-q(-log10)']\n",
    "# pxys = tmpx['hiv+q(-log10)']\n",
    "# xbands = tmpx['cytoband'].tolist()"
   ]
  },
  {
   "cell_type": "code",
   "execution_count": 220,
   "metadata": {},
   "outputs": [],
   "source": [
    "# xbands = ndf[y==0][['cytoband','hiv-q(-log10)']].sort_values('hiv-q(-log10)', ascending=True)['cytoband'].tolist()"
   ]
  },
  {
   "cell_type": "markdown",
   "metadata": {},
   "source": [
    "### shared bands"
   ]
  },
  {
   "cell_type": "code",
   "execution_count": 326,
   "metadata": {},
   "outputs": [],
   "source": [
    "def get_data(df):\n",
    "    x = df['hiv-q(-log10)']\n",
    "    y = df['hiv+q(-log10)']\n",
    "    maxq = int(max(max(x), max(y))) + 2\n",
    "    tmpy = df[x==0][['cytoband','hiv-q(-log10)', 'hiv+q(-log10)']].sort_values('hiv+q(-log10)', ascending=False)\n",
    "    pyxs = tmpy['hiv-q(-log10)']\n",
    "    pyys = tmpy['hiv+q(-log10)']\n",
    "    ybands = tmpy['cytoband'].tolist()\n",
    "    tmpx = df[y==0][['cytoband','hiv-q(-log10)', 'hiv+q(-log10)']].sort_values('hiv-q(-log10)', ascending=True)\n",
    "    pxxs = tmpx['hiv-q(-log10)']\n",
    "    pxys = tmpx['hiv+q(-log10)']\n",
    "    xbands = tmpx['cytoband'].tolist()\n",
    "    sbands = df[(x!=0)&(y!=0)]\n",
    "#     print('xxx', sbands)\n",
    "    return (x, y, maxq, xbands, ybands, sbands)\n",
    "    "
   ]
  },
  {
   "cell_type": "code",
   "execution_count": 271,
   "metadata": {},
   "outputs": [],
   "source": []
  },
  {
   "cell_type": "code",
   "execution_count": 308,
   "metadata": {},
   "outputs": [],
   "source": [
    "def label_sbands(bands, ax):\n",
    "    n = bands.shape[0]\n",
    "    xs = bands['hiv-q(-log10)'] + 1\n",
    "    ys = bands['hiv+q(-log10)']\n",
    "    ls = bands['cytoband']\n",
    "    # plot shared cytobands\n",
    "    ax.scatter(xs, ys, marker='o', s=26, c='orange', alpha=1)\n",
    "    for x, y, l in zip(xs, ys, ls):\n",
    "        _ = ax.text(x, y, l, rotation=0, withdash=True, \n",
    "                    horizontalalignment='left', verticalalignment='center', fontsize=10)"
   ]
  },
  {
   "cell_type": "code",
   "execution_count": 224,
   "metadata": {},
   "outputs": [],
   "source": [
    "# fig = plt.figure(figsize=(8,8))\n",
    "# ax = fig.add_subplot(111)\n",
    "# n = len(ybands)\n",
    "# y = np.linspace(8, 1, n)\n",
    "# x = np.array(n * [0.95])\n",
    "# for a, b, c in zip(x, y, ybands):\n",
    "#     _ = ax.text(a, b, c)\n",
    "# plt.show()"
   ]
  },
  {
   "cell_type": "code",
   "execution_count": 225,
   "metadata": {},
   "outputs": [],
   "source": [
    "def adjust_spines(ax, spines):\n",
    "    for loc, spine in ax.spines.items():\n",
    "        if loc in spines:\n",
    "            spine.set_position(('outward', 0))  # outward by 10 points\n",
    "            spine.set_smart_bounds(True)\n",
    "        else:\n",
    "            spine.set_color('none')  # don't draw spine\n",
    "\n",
    "    # turn off ticks where there is no spine\n",
    "    if 'left' in spines:\n",
    "        ax.yaxis.set_ticks_position('left')\n",
    "    if 'right' in spines:\n",
    "        ax.yaxis.set_ticks_position('right')\n",
    "    else:\n",
    "        # no yaxis ticks\n",
    "        ax.yaxis.set_ticks([])\n",
    "\n",
    "    if 'bottom' in spines:\n",
    "        ax.xaxis.set_ticks_position('bottom')\n",
    "    if 'top' in spines:\n",
    "        ax.xaxis.set_ticks_position('top')\n",
    "    else:\n",
    "        # no xaxis ticks\n",
    "        ax.xaxis.set_ticks([])"
   ]
  },
  {
   "cell_type": "code",
   "execution_count": 311,
   "metadata": {},
   "outputs": [],
   "source": [
    "def label_xband(bands, ax):\n",
    "    n = len(bands)\n",
    "    xs = np.linspace(-0.1, 7, n)\n",
    "    ys = np.array(n * [-0.8])\n",
    "    for x, y, l in zip(xs, ys, bands):\n",
    "        _ = ax.text(x, y, l, rotation=-90, withdash=True, verticalalignment='top', fontsize=7)\n",
    "    return (xs, ys)"
   ]
  },
  {
   "cell_type": "code",
   "execution_count": 313,
   "metadata": {},
   "outputs": [],
   "source": [
    "def label_yband(bands, ax):\n",
    "    n = len(bands)\n",
    "    ys = np.linspace(5, -2, n)\n",
    "    xs = np.array(n * [-0.8])\n",
    "    for x, y, l in zip(xs, ys, bands, ):\n",
    "        _ = ax.text(x, y, l, rotation=-0, withdash=True, \n",
    "                    horizontalalignment='right',  fontsize=7)\n",
    "    return (xs, ys)"
   ]
  },
  {
   "cell_type": "code",
   "execution_count": 228,
   "metadata": {},
   "outputs": [],
   "source": [
    "def remove_tickline_ticklables(ax):\n",
    "    _ = plt.setp(ax.get_xticklines(),visible=False)\n",
    "    _ = plt.setp(ax.get_yticklines(),visible=False)\n",
    "    _ = plt.setp(ax.get_xticklabels(),visible=False)\n",
    "    _ = plt.setp(ax.get_yticklabels(),visible=False)"
   ]
  },
  {
   "cell_type": "code",
   "execution_count": 327,
   "metadata": {
    "scrolled": true
   },
   "outputs": [],
   "source": [
    "def plot_qvalues(x, y, xlim, ylim, xmtick_range, ymtick_range, sbands,\n",
    "                 xbands, ybands, title, xlabel, ylabel, ax):\n",
    "\n",
    "#     ax.scatter(x, y, marker='+', s=26, c='red', alpha=1)\n",
    "    ax.set_xlim(xlim)\n",
    "    ax.set_ylim(ylim)\n",
    "\n",
    "    # Major ticks every 4, minor ticks every 5\n",
    "#     major_ticks = mtick_range\n",
    "    ax.set_xticks(xmtick_range)\n",
    "    ax.set_yticks(ymtick_range)\n",
    "    ax.spines['right'].set_visible(False) # turn off right spine\n",
    "    ax.spines['top'].set_visible(False)\n",
    "    xlxs, xlys = label_xband(xbands, ax)\n",
    "    ylxs, ylys = label_yband(ybands, ax)\n",
    "\n",
    "    # connect points on y axis and labels\n",
    "    ax.scatter(pyxs, pyys, marker='+', s=26, c='red', alpha=1)\n",
    "    for px, py, lx, ly in zip(pyxs, pyys, ylxs, ylys):\n",
    "        _ = ax.plot((px-0.2, lx+0.1), (py, ly), linestyle='dashed', color='gray',linewidth=.8)\n",
    "\n",
    "    # connect points on x axis and labels\n",
    "    ax.scatter(pxxs, pxys, marker='+', s=26, c='blue', alpha=1)\n",
    "    print('xxx', xlxs)\n",
    "    print(xlys)\n",
    "    print(pxxs)\n",
    "    print(pxys)\n",
    "    for px, py, lx, ly in zip(pxxs, pxys, xlxs, xlys):\n",
    "        _ = ax.plot((px, lx-0.1), (py-0.2, ly+0.1), linestyle='dashed', color='gray',linewidth=.8)\n",
    "        \n",
    "    # label points do not reside on either x or y axis\n",
    "#     ax.scatter(pyxs, pyys, marker='o', s=26, c='gray', alpha=1)\n",
    "    _ = label_sbands(sbands, ax)\n",
    "    _ = ax.set_xlabel(xlabel, fontsize=13)\n",
    "    _ = ax.set_ylabel(ylabel, fontsize=13)\n",
    "    _ = ax.set_title(title, fontsize=16)"
   ]
  },
  {
   "cell_type": "markdown",
   "metadata": {},
   "source": [
    "### plot all 4 comparisons"
   ]
  },
  {
   "cell_type": "code",
   "execution_count": 289,
   "metadata": {},
   "outputs": [],
   "source": [
    "# gistic cytoband data\n",
    "# cnvdir = '/projects/trans_scratch/validations/workspace/szong/Cervical/cnv/'\n",
    "# of = f'{cnvdir}amp_cytoband_qvalue_comparison_hiv_pos_vs_neg.csv'\n",
    "# # ndf.to_csv(of, index=False)\n",
    "# ampdf = pd.read_csv(of)\n",
    "# ampdf.head()\n"
   ]
  },
  {
   "cell_type": "code",
   "execution_count": 332,
   "metadata": {},
   "outputs": [
    {
     "data": {
      "text/html": [
       "<div>\n",
       "<style scoped>\n",
       "    .dataframe tbody tr th:only-of-type {\n",
       "        vertical-align: middle;\n",
       "    }\n",
       "\n",
       "    .dataframe tbody tr th {\n",
       "        vertical-align: top;\n",
       "    }\n",
       "\n",
       "    .dataframe thead th {\n",
       "        text-align: right;\n",
       "    }\n",
       "</style>\n",
       "<table border=\"1\" class=\"dataframe\">\n",
       "  <thead>\n",
       "    <tr style=\"text-align: right;\">\n",
       "      <th></th>\n",
       "      <th>cytoband</th>\n",
       "      <th>q_value_hiv+</th>\n",
       "      <th>oncogenes_hiv+</th>\n",
       "      <th>num_genes_hiv+</th>\n",
       "      <th>q_value_hiv-</th>\n",
       "      <th>oncogenes_hiv-</th>\n",
       "      <th>num_genes_hiv-</th>\n",
       "      <th>hiv+q(-log10)</th>\n",
       "      <th>hiv-q(-log10)</th>\n",
       "    </tr>\n",
       "  </thead>\n",
       "  <tbody>\n",
       "    <tr>\n",
       "      <th>0</th>\n",
       "      <td>11q22.1</td>\n",
       "      <td>3.544700e-09</td>\n",
       "      <td>BIRC3,YAP1</td>\n",
       "      <td>7.0</td>\n",
       "      <td>0.001928</td>\n",
       "      <td>BIRC3,YAP1</td>\n",
       "      <td>21.0</td>\n",
       "      <td>8.450421</td>\n",
       "      <td>2.714915</td>\n",
       "    </tr>\n",
       "    <tr>\n",
       "      <th>1</th>\n",
       "      <td>8q24.21</td>\n",
       "      <td>1.045400e-04</td>\n",
       "      <td>NaN</td>\n",
       "      <td>0.0</td>\n",
       "      <td>1.000000</td>\n",
       "      <td>NaN</td>\n",
       "      <td>NaN</td>\n",
       "      <td>3.980718</td>\n",
       "      <td>-0.000000</td>\n",
       "    </tr>\n",
       "  </tbody>\n",
       "</table>\n",
       "</div>"
      ],
      "text/plain": [
       "  cytoband  q_value_hiv+ oncogenes_hiv+  num_genes_hiv+  q_value_hiv-  \\\n",
       "0  11q22.1  3.544700e-09     BIRC3,YAP1             7.0      0.001928   \n",
       "1  8q24.21  1.045400e-04            NaN             0.0      1.000000   \n",
       "\n",
       "  oncogenes_hiv-  num_genes_hiv-  hiv+q(-log10)  hiv-q(-log10)  \n",
       "0     BIRC3,YAP1            21.0       8.450421       2.714915  \n",
       "1            NaN             NaN       3.980718      -0.000000  "
      ]
     },
     "execution_count": 332,
     "metadata": {},
     "output_type": "execute_result"
    },
    {
     "data": {
      "text/html": [
       "<div>\n",
       "<style scoped>\n",
       "    .dataframe tbody tr th:only-of-type {\n",
       "        vertical-align: middle;\n",
       "    }\n",
       "\n",
       "    .dataframe tbody tr th {\n",
       "        vertical-align: top;\n",
       "    }\n",
       "\n",
       "    .dataframe thead th {\n",
       "        text-align: right;\n",
       "    }\n",
       "</style>\n",
       "<table border=\"1\" class=\"dataframe\">\n",
       "  <thead>\n",
       "    <tr style=\"text-align: right;\">\n",
       "      <th></th>\n",
       "      <th>cytoband</th>\n",
       "      <th>q_value_hiv+</th>\n",
       "      <th>oncogenes_hiv+</th>\n",
       "      <th>num_genes_hiv+</th>\n",
       "      <th>q_value_hiv-</th>\n",
       "      <th>oncogenes_hiv-</th>\n",
       "      <th>num_genes_hiv-</th>\n",
       "      <th>hiv+q(-log10)</th>\n",
       "      <th>hiv-q(-log10)</th>\n",
       "    </tr>\n",
       "  </thead>\n",
       "  <tbody>\n",
       "    <tr>\n",
       "      <th>0</th>\n",
       "      <td>2q22.1</td>\n",
       "      <td>1.043200e-15</td>\n",
       "      <td>LRP1B</td>\n",
       "      <td>2.0</td>\n",
       "      <td>0.04368</td>\n",
       "      <td>LRP1B</td>\n",
       "      <td>77.0</td>\n",
       "      <td>14.981632</td>\n",
       "      <td>1.359717</td>\n",
       "    </tr>\n",
       "    <tr>\n",
       "      <th>1</th>\n",
       "      <td>2q36.3</td>\n",
       "      <td>1.519500e-09</td>\n",
       "      <td>IGFBP5,MIR375,MIR26B,CREB1,SP100,ING5,ACSL3,PA...</td>\n",
       "      <td>335.0</td>\n",
       "      <td>1.00000</td>\n",
       "      <td>NaN</td>\n",
       "      <td>NaN</td>\n",
       "      <td>8.818299</td>\n",
       "      <td>-0.000000</td>\n",
       "    </tr>\n",
       "  </tbody>\n",
       "</table>\n",
       "</div>"
      ],
      "text/plain": [
       "  cytoband  q_value_hiv+                                     oncogenes_hiv+  \\\n",
       "0   2q22.1  1.043200e-15                                              LRP1B   \n",
       "1   2q36.3  1.519500e-09  IGFBP5,MIR375,MIR26B,CREB1,SP100,ING5,ACSL3,PA...   \n",
       "\n",
       "   num_genes_hiv+  q_value_hiv- oncogenes_hiv-  num_genes_hiv-  hiv+q(-log10)  \\\n",
       "0             2.0       0.04368          LRP1B            77.0      14.981632   \n",
       "1           335.0       1.00000            NaN             NaN       8.818299   \n",
       "\n",
       "   hiv-q(-log10)  \n",
       "0       1.359717  \n",
       "1      -0.000000  "
      ]
     },
     "execution_count": 332,
     "metadata": {},
     "output_type": "execute_result"
    }
   ],
   "source": [
    "cnvdir = '/projects/trans_scratch/validations/workspace/szong/Cervical/cnv/'\n",
    "of = f'{cnvdir}amps_cytoband_qvalue_comparison_hiv_pos_vs_neg.csv'\n",
    "htmcp_amps = pd.read_csv(of)\n",
    "htmcp_amps.head(2)\n",
    "of = f'{cnvdir}dels_cytoband_qvalue_comparison_hiv_pos_vs_neg.csv'\n",
    "htmcp_dels = pd.read_csv(of)\n",
    "htmcp_dels.head(2)\n",
    "\n",
    "of = f'{cnvdir}amps_cytoband_qvalue_comparison_tcga_vs_neg.csv'\n",
    "tcga_amps = pd.read_csv(of)\n",
    "\n",
    "of = f'{cnvdir}dels_cytoband_qvalue_comparison_tcga_vs_neg.csv'\n",
    "tcga_dels = pd.read_csv(of)"
   ]
  },
  {
   "cell_type": "code",
   "execution_count": 333,
   "metadata": {},
   "outputs": [
    {
     "data": {
      "text/plain": [
       "(0     2.714915\n",
       " 1    -0.000000\n",
       " 2    -0.000000\n",
       " 3    -0.000000\n",
       " 4    -0.000000\n",
       " 5    -0.000000\n",
       " 6     2.729065\n",
       " 7    -0.000000\n",
       " 8    -0.000000\n",
       " 9    -0.000000\n",
       " 10   -0.000000\n",
       " 11   -0.000000\n",
       " 12    2.049879\n",
       " 13    1.386285\n",
       " 14    1.286467\n",
       " 15    0.929667\n",
       " 16    0.863850\n",
       " Name: hiv-q(-log10), dtype: float64, 0     8.450421\n",
       " 1     3.980718\n",
       " 2     3.849551\n",
       " 3     2.402864\n",
       " 4     2.228420\n",
       " 5     1.808214\n",
       " 6     1.808214\n",
       " 7     1.684786\n",
       " 8     1.194880\n",
       " 9     1.120612\n",
       " 10    0.911899\n",
       " 11    0.754907\n",
       " 12   -0.000000\n",
       " 13   -0.000000\n",
       " 14   -0.000000\n",
       " 15   -0.000000\n",
       " 16   -0.000000\n",
       " Name: hiv+q(-log10), dtype: float64, 10, ['19q13.43',\n",
       "  '2p24.3',\n",
       "  '15q26.1',\n",
       "  '8q24.22',\n",
       "  '1q21.3'], ['8q24.21',\n",
       "  '18p11.31',\n",
       "  '2q31.1',\n",
       "  '11p13',\n",
       "  '1p32.1',\n",
       "  '2p11.2',\n",
       "  '13q22.1',\n",
       "  '20q11.21',\n",
       "  '17q12',\n",
       "  '21q22.2'],   cytoband  q_value_hiv+ oncogenes_hiv+  num_genes_hiv+  q_value_hiv-  \\\n",
       " 0  11q22.1  3.544700e-09     BIRC3,YAP1             7.0      0.001928   \n",
       " 6     3q28  1.555200e-02           TP63             1.0      0.001866   \n",
       " \n",
       "                                       oncogenes_hiv-  num_genes_hiv-  \\\n",
       " 0                                         BIRC3,YAP1            21.0   \n",
       " 6  BCL6,DLG1,LPP,PIK3CA,TP63,ETV5,TBL1XR1,TFRC,EI...           202.0   \n",
       " \n",
       "    hiv+q(-log10)  hiv-q(-log10)  \n",
       " 0       8.450421       2.714915  \n",
       " 6       1.808214       2.729065  )"
      ]
     },
     "execution_count": 333,
     "metadata": {},
     "output_type": "execute_result"
    }
   ],
   "source": [
    " get_data(htmcp_amps)"
   ]
  },
  {
   "cell_type": "code",
   "execution_count": 334,
   "metadata": {},
   "outputs": [
    {
     "data": {
      "text/plain": [
       "(0     1.359717\n",
       " 1    -0.000000\n",
       " 2    -0.000000\n",
       " 3     3.293564\n",
       " 4    -0.000000\n",
       " 5    -0.000000\n",
       " 6    -0.000000\n",
       " 7     3.293564\n",
       " 8    -0.000000\n",
       " 9    -0.000000\n",
       " 10   -0.000000\n",
       " 11   -0.000000\n",
       " 12    0.850258\n",
       " 13   -0.000000\n",
       " 14   -0.000000\n",
       " 15   -0.000000\n",
       " 16   -0.000000\n",
       " 17   -0.000000\n",
       " 18   -0.000000\n",
       " 19   -0.000000\n",
       " 20    3.293564\n",
       " 21    3.293564\n",
       " 22    3.293564\n",
       " 23    3.293564\n",
       " 24    1.704917\n",
       " 25    1.313632\n",
       " 26    1.467717\n",
       " 27    1.115896\n",
       " 28    1.947768\n",
       " 29    1.442288\n",
       " 30    0.878539\n",
       " 31    0.965973\n",
       " 32    0.850258\n",
       " 33    0.769296\n",
       " 34    0.769296\n",
       " 35    0.700732\n",
       " Name: hiv-q(-log10), dtype: float64, 0     14.981632\n",
       " 1      8.818299\n",
       " 2      4.554022\n",
       " 3      6.220981\n",
       " 4      3.075628\n",
       " 5      2.457760\n",
       " 6      1.747705\n",
       " 7      2.505122\n",
       " 8      1.601088\n",
       " 9      1.480001\n",
       " 10     3.224834\n",
       " 11     3.026346\n",
       " 12     2.125228\n",
       " 13     2.162273\n",
       " 14     1.506751\n",
       " 15     1.941536\n",
       " 16     0.942714\n",
       " 17     0.850012\n",
       " 18     2.192627\n",
       " 19     0.644434\n",
       " 20    -0.000000\n",
       " 21    -0.000000\n",
       " 22    -0.000000\n",
       " 23    -0.000000\n",
       " 24    -0.000000\n",
       " 25    -0.000000\n",
       " 26    -0.000000\n",
       " 27    -0.000000\n",
       " 28    -0.000000\n",
       " 29    -0.000000\n",
       " 30    -0.000000\n",
       " 31    -0.000000\n",
       " 32    -0.000000\n",
       " 33    -0.000000\n",
       " 34    -0.000000\n",
       " 35    -0.000000\n",
       " Name: hiv+q(-log10), dtype: float64, 16, ['7q11.23',\n",
       "  '3p14.1',\n",
       "  '10p11.1',\n",
       "  '1p36.22',\n",
       "  '22q13.31',\n",
       "  '19p12',\n",
       "  '6q22.31',\n",
       "  '21q11.2',\n",
       "  '1p13.2',\n",
       "  '4q32.3',\n",
       "  '4q24',\n",
       "  '11q21',\n",
       "  '4p15.1',\n",
       "  '11q25',\n",
       "  '13q13.2',\n",
       "  '2q37.1'], ['2q36.3',\n",
       "  '4q35.2',\n",
       "  '3p13',\n",
       "  '11q24.3',\n",
       "  '13q14.2',\n",
       "  '4q21.3',\n",
       "  '13q12.11',\n",
       "  '17q12',\n",
       "  '3p14.2',\n",
       "  '5q14.2',\n",
       "  '20p12.1',\n",
       "  '13q21.32',\n",
       "  '9p21.3',\n",
       "  '6p21.31',\n",
       "  '6q25.3',\n",
       "  '10q23.2'],    cytoband  q_value_hiv+       oncogenes_hiv+  num_genes_hiv+  q_value_hiv-  \\\n",
       " 0    2q22.1  1.043200e-15                LRP1B             2.0      0.043680   \n",
       " 3   19p13.3  6.012000e-07                FSTL3            38.0      0.000509   \n",
       " 7   21p11.2  3.125200e-03                  NaN            16.0      0.000509   \n",
       " 12  17q25.3  7.495000e-03  ASPSCR1,SOCS3,CANT1           123.0      0.141170   \n",
       " \n",
       "                     oncogenes_hiv-  num_genes_hiv-  hiv+q(-log10)  \\\n",
       " 0                            LRP1B            77.0      14.981632   \n",
       " 3                            STK11             4.0       6.220981   \n",
       " 7                              NaN             2.0       2.505122   \n",
       " 12  ASPSCR1,SOCS3,SRSF2,CANT1,CYGB           146.0       2.125228   \n",
       " \n",
       "     hiv-q(-log10)  \n",
       " 0        1.359717  \n",
       " 3        3.293564  \n",
       " 7        3.293564  \n",
       " 12       0.850258  )"
      ]
     },
     "execution_count": 334,
     "metadata": {},
     "output_type": "execute_result"
    }
   ],
   "source": [
    " get_data(htmcp_dels)"
   ]
  },
  {
   "cell_type": "code",
   "execution_count": 331,
   "metadata": {},
   "outputs": [
    {
     "name": "stdout",
     "output_type": "stream",
     "text": [
      "xxx [-0.1    1.675  3.45   5.225  7.   ]\n",
      "[-0.8 -0.8 -0.8 -0.8 -0.8]\n",
      "28    0.700732\n",
      "23    0.769296\n",
      "29    0.769296\n",
      "21    0.850258\n",
      "35    0.878539\n",
      "33    0.965973\n",
      "27    1.115896\n",
      "34    1.313632\n",
      "20    1.442288\n",
      "26    1.467717\n",
      "25    1.704917\n",
      "30    1.947768\n",
      "22    3.293564\n",
      "24    3.293564\n",
      "31    3.293564\n",
      "32    3.293564\n",
      "Name: hiv-q(-log10), dtype: float64\n",
      "28   -0.0\n",
      "23   -0.0\n",
      "29   -0.0\n",
      "21   -0.0\n",
      "35   -0.0\n",
      "33   -0.0\n",
      "27   -0.0\n",
      "34   -0.0\n",
      "20   -0.0\n",
      "26   -0.0\n",
      "25   -0.0\n",
      "30   -0.0\n",
      "22   -0.0\n",
      "24   -0.0\n",
      "31   -0.0\n",
      "32   -0.0\n",
      "Name: hiv+q(-log10), dtype: float64\n",
      "xxx [-0.1         0.37333333  0.84666667  1.32        1.79333333  2.26666667\n",
      "  2.74        3.21333333  3.68666667  4.16        4.63333333  5.10666667\n",
      "  5.58        6.05333333  6.52666667  7.        ]\n",
      "[-0.8 -0.8 -0.8 -0.8 -0.8 -0.8 -0.8 -0.8 -0.8 -0.8 -0.8 -0.8 -0.8 -0.8\n",
      " -0.8 -0.8]\n",
      "28    0.700732\n",
      "23    0.769296\n",
      "29    0.769296\n",
      "21    0.850258\n",
      "35    0.878539\n",
      "33    0.965973\n",
      "27    1.115896\n",
      "34    1.313632\n",
      "20    1.442288\n",
      "26    1.467717\n",
      "25    1.704917\n",
      "30    1.947768\n",
      "22    3.293564\n",
      "24    3.293564\n",
      "31    3.293564\n",
      "32    3.293564\n",
      "Name: hiv-q(-log10), dtype: float64\n",
      "28   -0.0\n",
      "23   -0.0\n",
      "29   -0.0\n",
      "21   -0.0\n",
      "35   -0.0\n",
      "33   -0.0\n",
      "27   -0.0\n",
      "34   -0.0\n",
      "20   -0.0\n",
      "26   -0.0\n",
      "25   -0.0\n",
      "30   -0.0\n",
      "22   -0.0\n",
      "24   -0.0\n",
      "31   -0.0\n",
      "32   -0.0\n",
      "Name: hiv+q(-log10), dtype: float64\n"
     ]
    },
    {
     "data": {
      "image/png": "[encoded data removed]",
      "text/plain": [
       "<Figure size 864x864 with 2 Axes>"
      ]
     },
     "metadata": {},
     "output_type": "display_data"
    }
   ],
   "source": [
    "# Set up the axes with gridspec\n",
    "fig = plt.figure(figsize=(12, 12))\n",
    "grid = plt.GridSpec(2, 2, hspace=0.1, wspace=0.1, \n",
    "                    width_ratios=[1,1], \n",
    "                    height_ratios=[1,1])\n",
    "\n",
    "ax0 = plt.subplot(grid[0])\n",
    "x, y, maxq, xbands, ybands, sbands = get_data(htmcp_amps)\n",
    "# pot amp hiv+ vs -\n",
    "xlim = (-3, maxq)\n",
    "ylim = (-3, maxq)\n",
    "xmtick_range = np.arange(0, 20, 4)\n",
    "ymtick_range = np.arange(0, 20, 4)\n",
    "\n",
    "title = 'GISTIC dels cytobands'\n",
    "xlabel = 'HIV-(-log10 q)'\n",
    "ylabel = 'HIV+(-log10 q)'\n",
    "plot_qvalues(x, y, xlim, ylim, xmtick_range, ymtick_range,\n",
    "             sbands, xbands, ybands, title, \n",
    "             xlabel, ylabel, ax0)\n",
    "\n",
    "# pot del hiv+ vs -\n",
    "\n",
    "\n",
    "ax1 = plt.subplot(grid[1])\n",
    "x, y, maxq, xbands, ybands, sbands = get_data(htmcp_dels)\n",
    "xlim = (-3, maxq)\n",
    "ylim = (-3, maxq)\n",
    "plot_qvalues(x, y, xlim, ylim, xmtick_range, ymtick_range,\n",
    "             sbands, xbands, ybands, title, \n",
    "             xlabel, ylabel, ax1)\n",
    "\n",
    "# # pot amp tcga vs hiv-\n",
    "\n",
    "\n",
    "# print('plot amp tcga vs hiv-')\n",
    "# ax2 = plt.subplot(grid[2])\n",
    "# x, y, maxq, xbands, ybands, sbands = get_data(tcga_amps)\n",
    "# xlim = (-3, maxq)\n",
    "# ylim = (-3, maxq)\n",
    "# plot_qvalues(x, y, xlim, ylim, xmtick_range, ymtick_range,\n",
    "#              sbands, xbands, ybands, title, \n",
    "#              xlabel, ylabel, ax2)\n",
    "\n",
    "# ax3 = plt.subplot(grid[3])\n",
    "# x, y, maxq, xbands, ybands, sbands = get_data(tcga_dels)\n",
    "# xlim = (-3, maxq)\n",
    "# ylim = (-3, maxq)\n",
    "# plot_qvalues(x, y, xlim, ylim, xmtick_range, ymtick_range,\n",
    "#              sbands, xbands, ybands, title, \n",
    "#              xlabel, ylabel, ax3)"
   ]
  },
  {
   "cell_type": "code",
   "execution_count": 325,
   "metadata": {},
   "outputs": [
    {
     "data": {
      "text/plain": [
       "(18, 9)"
      ]
     },
     "execution_count": 325,
     "metadata": {},
     "output_type": "execute_result"
    }
   ],
   "source": [
    "tcga_amps.shape"
   ]
  },
  {
   "cell_type": "code",
   "execution_count": 324,
   "metadata": {},
   "outputs": [
    {
     "data": {
      "text/html": [
       "<div>\n",
       "<style scoped>\n",
       "    .dataframe tbody tr th:only-of-type {\n",
       "        vertical-align: middle;\n",
       "    }\n",
       "\n",
       "    .dataframe tbody tr th {\n",
       "        vertical-align: top;\n",
       "    }\n",
       "\n",
       "    .dataframe thead th {\n",
       "        text-align: right;\n",
       "    }\n",
       "</style>\n",
       "<table border=\"1\" class=\"dataframe\">\n",
       "  <thead>\n",
       "    <tr style=\"text-align: right;\">\n",
       "      <th></th>\n",
       "      <th>cytoband</th>\n",
       "      <th>q_value_hiv+</th>\n",
       "      <th>oncogenes_hiv+</th>\n",
       "      <th>num_genes_hiv+</th>\n",
       "      <th>q_value_hiv-</th>\n",
       "      <th>oncogenes_hiv-</th>\n",
       "      <th>num_genes_hiv-</th>\n",
       "      <th>hiv+q(-log10)</th>\n",
       "      <th>hiv-q(-log10)</th>\n",
       "    </tr>\n",
       "  </thead>\n",
       "  <tbody>\n",
       "    <tr>\n",
       "      <th>13</th>\n",
       "      <td>1q21.3</td>\n",
       "      <td>1.0</td>\n",
       "      <td>NaN</td>\n",
       "      <td>NaN</td>\n",
       "      <td>0.008915</td>\n",
       "      <td>PLEKHO1,BCL9,RAB25,AIM2,NOTCH2,NTRK1,PDE4DIP,M...</td>\n",
       "      <td>396.0</td>\n",
       "      <td>-0.0</td>\n",
       "      <td>2.049879</td>\n",
       "    </tr>\n",
       "    <tr>\n",
       "      <th>14</th>\n",
       "      <td>8q24.22</td>\n",
       "      <td>1.0</td>\n",
       "      <td>NaN</td>\n",
       "      <td>NaN</td>\n",
       "      <td>0.041088</td>\n",
       "      <td>KLF10,MTSS1,EXT1,FBXO32,SCRIB,NDRG1,MAFA,MYC,C...</td>\n",
       "      <td>278.0</td>\n",
       "      <td>-0.0</td>\n",
       "      <td>1.386285</td>\n",
       "    </tr>\n",
       "    <tr>\n",
       "      <th>15</th>\n",
       "      <td>15q26.1</td>\n",
       "      <td>1.0</td>\n",
       "      <td>NaN</td>\n",
       "      <td>NaN</td>\n",
       "      <td>0.051705</td>\n",
       "      <td>NTRK3,BLM,CRTC3,FES,IDH2</td>\n",
       "      <td>69.0</td>\n",
       "      <td>-0.0</td>\n",
       "      <td>1.286467</td>\n",
       "    </tr>\n",
       "    <tr>\n",
       "      <th>16</th>\n",
       "      <td>2p24.3</td>\n",
       "      <td>1.0</td>\n",
       "      <td>NaN</td>\n",
       "      <td>NaN</td>\n",
       "      <td>0.117580</td>\n",
       "      <td>NCOA1,MYCN,ALK,SOX11,RHOB,C2orf44,DNMT3A</td>\n",
       "      <td>206.0</td>\n",
       "      <td>-0.0</td>\n",
       "      <td>0.929667</td>\n",
       "    </tr>\n",
       "    <tr>\n",
       "      <th>17</th>\n",
       "      <td>19q13.43</td>\n",
       "      <td>1.0</td>\n",
       "      <td>NaN</td>\n",
       "      <td>NaN</td>\n",
       "      <td>0.136820</td>\n",
       "      <td>GLTSCR1,ZNF331,KLK2,CIC,MIRLET7E,TGFB1,ERCC2,A...</td>\n",
       "      <td>777.0</td>\n",
       "      <td>-0.0</td>\n",
       "      <td>0.863850</td>\n",
       "    </tr>\n",
       "  </tbody>\n",
       "</table>\n",
       "</div>"
      ],
      "text/plain": [
       "    cytoband  q_value_hiv+ oncogenes_hiv+  num_genes_hiv+  q_value_hiv-  \\\n",
       "13    1q21.3           1.0            NaN             NaN      0.008915   \n",
       "14   8q24.22           1.0            NaN             NaN      0.041088   \n",
       "15   15q26.1           1.0            NaN             NaN      0.051705   \n",
       "16    2p24.3           1.0            NaN             NaN      0.117580   \n",
       "17  19q13.43           1.0            NaN             NaN      0.136820   \n",
       "\n",
       "                                       oncogenes_hiv-  num_genes_hiv-  \\\n",
       "13  PLEKHO1,BCL9,RAB25,AIM2,NOTCH2,NTRK1,PDE4DIP,M...           396.0   \n",
       "14  KLF10,MTSS1,EXT1,FBXO32,SCRIB,NDRG1,MAFA,MYC,C...           278.0   \n",
       "15                           NTRK3,BLM,CRTC3,FES,IDH2            69.0   \n",
       "16           NCOA1,MYCN,ALK,SOX11,RHOB,C2orf44,DNMT3A           206.0   \n",
       "17  GLTSCR1,ZNF331,KLK2,CIC,MIRLET7E,TGFB1,ERCC2,A...           777.0   \n",
       "\n",
       "    hiv+q(-log10)  hiv-q(-log10)  \n",
       "13           -0.0       2.049879  \n",
       "14           -0.0       1.386285  \n",
       "15           -0.0       1.286467  \n",
       "16           -0.0       0.929667  \n",
       "17           -0.0       0.863850  "
      ]
     },
     "execution_count": 324,
     "metadata": {},
     "output_type": "execute_result"
    }
   ],
   "source": [
    "tcga_amps[tcga_amps['hiv+q(-log10)']==0]"
   ]
  },
  {
   "cell_type": "code",
   "execution_count": 255,
   "metadata": {
    "scrolled": true
   },
   "outputs": [
    {
     "data": {
      "text/plain": [
       "<matplotlib.collections.PathCollection at 0x7f6980ef4978>"
      ]
     },
     "execution_count": 255,
     "metadata": {},
     "output_type": "execute_result"
    },
    {
     "data": {
      "text/plain": [
       "(-3, 16)"
      ]
     },
     "execution_count": 255,
     "metadata": {},
     "output_type": "execute_result"
    },
    {
     "data": {
      "text/plain": [
       "(-3, 16)"
      ]
     },
     "execution_count": 255,
     "metadata": {},
     "output_type": "execute_result"
    },
    {
     "data": {
      "text/plain": [
       "[<matplotlib.axis.XTick at 0x7f6980ed4c88>,\n",
       " <matplotlib.axis.XTick at 0x7f6980ed4550>,\n",
       " <matplotlib.axis.XTick at 0x7f6980ed42e8>,\n",
       " <matplotlib.axis.XTick at 0x7f6980e90208>,\n",
       " <matplotlib.axis.XTick at 0x7f6980e90668>]"
      ]
     },
     "execution_count": 255,
     "metadata": {},
     "output_type": "execute_result"
    },
    {
     "data": {
      "text/plain": [
       "[<matplotlib.axis.YTick at 0x7f6980eda9b0>,\n",
       " <matplotlib.axis.YTick at 0x7f6980eda2e8>,\n",
       " <matplotlib.axis.YTick at 0x7f6980eceef0>,\n",
       " <matplotlib.axis.YTick at 0x7f6980e90710>,\n",
       " <matplotlib.axis.YTick at 0x7f6980e81198>]"
      ]
     },
     "execution_count": 255,
     "metadata": {},
     "output_type": "execute_result"
    },
    {
     "data": {
      "image/png": "[encoded data removed]",
      "text/plain": [
       "<Figure size 648x648 with 1 Axes>"
      ]
     },
     "metadata": {},
     "output_type": "display_data"
    }
   ],
   "source": [
    "# Set up the axes with gridspec\n",
    "fig = plt.figure(figsize=(9, 9))\n",
    "# grid = plt.GridSpec(2, 2, hspace=0.05, wspace=0.05, \n",
    "#                     width_ratios=[1,3], \n",
    "#                     height_ratios=[3,1])\n",
    "\n",
    "\n",
    "ax1 = fig.add_subplot(111)\n",
    "\n",
    "\n",
    "# scatter points on the main axes\n",
    "ax1.scatter(x, y, marker='+', s=26, c='red', alpha=1)\n",
    "\n",
    "# adjust_spines(ax1, ['top', 'right'])\n",
    "ax1.set_xlim(-3, maxq)\n",
    "ax1.set_ylim(-3, maxq)\n",
    "\n",
    "\n",
    "# Major ticks every 4, minor ticks every 5\n",
    "major_ticks = np.arange(0, 17, 4)\n",
    "# minor_ticks = np.arange(0, 101, 5)\n",
    "\n",
    "ax1.set_xticks(major_ticks)\n",
    "# ax.set_xticks(minor_ticks, minor=True)\n",
    "ax1.set_yticks(major_ticks)\n",
    "# ax.set_yticks(minor_ticks, minor=True)\n",
    "\n",
    "# ax1.tick_params(direction='in', length=6, width=2, colors='black',\n",
    "#                grid_color='black', grid_alpha=0.5, grid_linewidth=4 )\n",
    "# ax1.set_xticklines(np.linspace(0,16,5))\n",
    "# ax1.set_xticklabels(np.linspace(0,16,5))\n",
    "\n",
    "ax1.spines['right'].set_visible(False) # turn off right spine\n",
    "ax1.spines['top'].set_visible(False)\n",
    "\n",
    "\n",
    "\n",
    "# ax0 = fig.add_subplot(grid[0],  xticklabels=[], sharey=ax1, frameon=False)\n",
    "# remove_tickline_ticklables(ax0)\n",
    "\n",
    "\n",
    "\n",
    "\n",
    "# ax3 = fig.add_subplot(grid[3], yticklabels=[], sharex=ax1, frameon=False)\n",
    "\n",
    "\n",
    "\n",
    "# ax2 = fig.add_subplot(grid[2], frameon=False)\n",
    "# ax2.text(.5, .5,'HIV+/- Deletion')\n",
    "# remove_tickline_ticklables(ax2)\n",
    "\n",
    "\n",
    "\n",
    "\n",
    "# histogram on the attached axes\n",
    "# ax3.text(.2,.95, 'hiv-cytoband', rotation=-90, withdash=True, verticalalignment='top', fontsize=14)\n",
    "xlxs, xlys = label_xband(xbands, ax1)\n",
    "# ax3.invert_yaxis()\n",
    "remove_tickline_ticklables(ax3)\n",
    "\n",
    "\n",
    "# ax0.text(.95,.5, 'hiv+ cytoband', rotation=-0, withdash=True, horizontalalignment='right', fontsize=14)\n",
    "ylxs, ylys = label_yband(ybands, ax1)\n",
    "\n",
    "# connect points and labels\n",
    "for px, py, lx, ly in zip(pyxs, pyys, ylxs, ylys):\n",
    "    _ = ax1.plot((px-0.2, lx+0.1), (py, ly), linestyle='dashed', color='gray',linewidth=.8)\n",
    "\n",
    "# connect points and labels\n",
    "for px, py, lx, ly in zip(pxxs, pxys, xlxs, xlys):\n",
    "    _ = ax1.plot((px, lx+0.2), (py-0.2, ly+0.1), linestyle='dashed', color='gray',linewidth=.8)\n",
    "\n",
    "_ = plot_shared_bands(sbands, ax1)\n",
    "\n",
    "_ = ax1.set_xlabel('HIV-(-log10 q)', fontsize=13)\n",
    "_ = ax1.set_ylabel('HIV+(-log10 q)', fontsize=13)\n",
    "_ = ax1.set_title('GISTIC dels cytobands', fontsize=16)\n",
    "of = '/projects/trans_scratch/validations/workspace/szong/Cervical/cnv/cytoband_q_comparison.png'\n",
    "plt.savefig(of, bbox_inches='tight', dpi=200)"
   ]
  },
  {
   "cell_type": "code",
   "execution_count": 247,
   "metadata": {},
   "outputs": [
    {
     "data": {
      "text/plain": [
       "1000"
      ]
     },
     "execution_count": 247,
     "metadata": {},
     "output_type": "execute_result"
    },
    {
     "data": {
      "text/plain": [
       "36"
      ]
     },
     "execution_count": 247,
     "metadata": {},
     "output_type": "execute_result"
    }
   ],
   "source": [
    "len(x)\n",
    "len(y)"
   ]
  },
  {
   "cell_type": "code",
   "execution_count": null,
   "metadata": {},
   "outputs": [],
   "source": []
  },
  {
   "cell_type": "code",
   "execution_count": 236,
   "metadata": {},
   "outputs": [
    {
     "data": {
      "text/plain": [
       "[[<matplotlib.lines.Line2D at 0x7f6981ff53c8>],\n",
       " [<matplotlib.lines.Line2D at 0x7f6982073ac8>],\n",
       " [<matplotlib.lines.Line2D at 0x7f698204c908>],\n",
       " [<matplotlib.lines.Line2D at 0x7f6982073ef0>]]"
      ]
     },
     "execution_count": 236,
     "metadata": {},
     "output_type": "execute_result"
    },
    {
     "data": {
      "text/plain": [
       "[[<matplotlib.lines.Line2D at 0x7f6981f84780>],\n",
       " [<matplotlib.lines.Line2D at 0x7f6981ff5a90>],\n",
       " [<matplotlib.lines.Line2D at 0x7f6981fcec18>],\n",
       " [<matplotlib.lines.Line2D at 0x7f6981f8fa90>]]"
      ]
     },
     "execution_count": 236,
     "metadata": {},
     "output_type": "execute_result"
    },
    {
     "data": {
      "text/plain": [
       "<matplotlib.legend.Legend at 0x7f6981f7cba8>"
      ]
     },
     "execution_count": 236,
     "metadata": {},
     "output_type": "execute_result"
    },
    {
     "data": {
      "text/plain": [
       "Text(0.5,0,'time')"
      ]
     },
     "execution_count": 236,
     "metadata": {},
     "output_type": "execute_result"
    },
    {
     "data": {
      "text/plain": [
       "Text(0,0.5,'value')"
      ]
     },
     "execution_count": 236,
     "metadata": {},
     "output_type": "execute_result"
    },
    {
     "data": {
      "image/png": "[encoded data removed]",
      "text/plain": [
       "<Figure size 360x144 with 5 Axes>"
      ]
     },
     "metadata": {},
     "output_type": "display_data"
    }
   ],
   "source": [
    "from brokenaxes import brokenaxes\n",
    "from matplotlib.gridspec import GridSpec\n",
    "\n",
    "\n",
    "fig = plt.figure(figsize=(5,2))\n",
    "bax = brokenaxes(xlims=((0, .1), (.4, 1)), ylims=((-1, .7), (.79, 1)), hspace=.1)\n",
    "x = np.linspace(0, 1, 100)\n",
    "bax.plot(x, np.sin(10 * x), label='sin')\n",
    "bax.plot(x, np.cos(10 * x), label='cos')\n",
    "bax.legend(loc=3)\n",
    "bax.set_xlabel('time')\n",
    "bax.set_ylabel('value')"
   ]
  },
  {
   "cell_type": "code",
   "execution_count": 241,
   "metadata": {},
   "outputs": [
    {
     "data": {
      "text/plain": [
       "[[<matplotlib.lines.Line2D at 0x7f69818f2c88>],\n",
       " [<matplotlib.lines.Line2D at 0x7f698189cdd8>]]"
      ]
     },
     "execution_count": 241,
     "metadata": {},
     "output_type": "execute_result"
    },
    {
     "data": {
      "text/plain": [
       "[(array([195., 234., 227., 260.,  47.,  24.,  12.,   0.,   0.,   1.]),\n",
       "  array([ 0. ,  1.3,  2.6,  3.9,  5.2,  6.5,  7.8,  9.1, 10.4, 11.7, 13. ]),\n",
       "  <a list of 10 Patch objects>),\n",
       " (array([195., 234., 227., 260.,  47.,  24.,  12.,   0.,   0.,   1.]),\n",
       "  array([ 0. ,  1.3,  2.6,  3.9,  5.2,  6.5,  7.8,  9.1, 10.4, 11.7, 13. ]),\n",
       "  <a list of 10 Patch objects>)]"
      ]
     },
     "execution_count": 241,
     "metadata": {},
     "output_type": "execute_result"
    },
    {
     "data": {
      "image/png": "[encoded data removed]",
      "text/plain": [
       "<Figure size 432x288 with 6 Axes>"
      ]
     },
     "metadata": {},
     "output_type": "display_data"
    }
   ],
   "source": [
    "sps1, sps2 = GridSpec(2,1)\n",
    "\n",
    "bax = brokenaxes(xlims=((.1, .3),(.7, .8)), subplot_spec=sps1,  hspace=.02)\n",
    "x = np.linspace(0, 1, 100)\n",
    "bax.plot(x, np.sin(x*30), ls=':', color='m')\n",
    "\n",
    "x = np.random.poisson(3, 1000)\n",
    "bax = brokenaxes(xlims=((0, 2.5), (3, 6)), subplot_spec=sps2, hspace=.01)\n",
    "bax.hist(x, histtype='bar')"
   ]
  },
  {
   "cell_type": "code",
   "execution_count": null,
   "metadata": {},
   "outputs": [],
   "source": []
  },
  {
   "cell_type": "code",
   "execution_count": 254,
   "metadata": {
    "scrolled": true
   },
   "outputs": [
    {
     "data": {
      "text/plain": [
       "[<matplotlib.collections.PathCollection at 0x7f6980ef7d30>,\n",
       " <matplotlib.collections.PathCollection at 0x7f6980efe198>,\n",
       " <matplotlib.collections.PathCollection at 0x7f6980f65d30>,\n",
       " <matplotlib.collections.PathCollection at 0x7f6980efe908>]"
      ]
     },
     "execution_count": 254,
     "metadata": {},
     "output_type": "execute_result"
    },
    {
     "data": {
      "image/png": "[encoded data removed]",
      "text/plain": [
       "<Figure size 432x432 with 5 Axes>"
      ]
     },
     "metadata": {},
     "output_type": "display_data"
    }
   ],
   "source": [
    "# Set up the axes with gridspec\n",
    "fig = plt.figure(figsize=(6, 6))\n",
    "# grid = plt.GridSpec(2, 2, hspace=0.05, wspace=0.05, \n",
    "#                     width_ratios=[1,3], \n",
    "#                     height_ratios=[3,1])\n",
    "\n",
    "\n",
    "# ax1 = fig.add_subplot(111)\n",
    "# broke y axis\n",
    "ax1 = brokenaxes(xlims=((-3, 4), (7, maxq)), ylims=((-3, 10), (14, maxq)), hspace=.1)\n",
    "\n",
    "# scatter points on the main axes\n",
    "ax1.scatter(x, y, marker='+', s=26, c='red', alpha=1)\n",
    "\n",
    "# # adjust_spines(ax1, ['top', 'right'])\n",
    "# ax1.set_xlim(-3, maxq)\n",
    "# ax1.set_ylim(-3, maxq)\n",
    "\n",
    "\n",
    "# # Major ticks every 4, minor ticks every 5\n",
    "# major_ticks = np.arange(0, 17, 4)\n",
    "# # minor_ticks = np.arange(0, 101, 5)\n",
    "\n",
    "# ax1.set_xticks(major_ticks)\n",
    "# # ax.set_xticks(minor_ticks, minor=True)\n",
    "# ax1.set_yticks(major_ticks)\n",
    "# # ax.set_yticks(minor_ticks, minor=True)\n",
    "\n",
    "# # ax1.tick_params(direction='in', length=6, width=2, colors='black',\n",
    "# #                grid_color='black', grid_alpha=0.5, grid_linewidth=4 )\n",
    "# # ax1.set_xticklines(np.linspace(0,16,5))\n",
    "# # ax1.set_xticklabels(np.linspace(0,16,5))\n",
    "\n",
    "# ax1.spines['right'].set_visible(False) # turn off right spine\n",
    "# ax1.spines['top'].set_visible(False)\n",
    "\n",
    "\n",
    "\n",
    "# # ax0 = fig.add_subplot(grid[0],  xticklabels=[], sharey=ax1, frameon=False)\n",
    "# # remove_tickline_ticklables(ax0)\n",
    "\n",
    "\n",
    "\n",
    "\n",
    "# # ax3 = fig.add_subplot(grid[3], yticklabels=[], sharex=ax1, frameon=False)\n",
    "\n",
    "\n",
    "\n",
    "# # ax2 = fig.add_subplot(grid[2], frameon=False)\n",
    "# # ax2.text(.5, .5,'HIV+/- Deletion')\n",
    "# # remove_tickline_ticklables(ax2)\n",
    "\n",
    "\n",
    "\n",
    "\n",
    "# # histogram on the attached axes\n",
    "# # ax3.text(.2,.95, 'hiv-cytoband', rotation=-90, withdash=True, verticalalignment='top', fontsize=14)\n",
    "# xlxs, xlys = label_xband(xbands, ax1)\n",
    "# # ax3.invert_yaxis()\n",
    "# remove_tickline_ticklables(ax3)\n",
    "\n",
    "\n",
    "# # ax0.text(.95,.5, 'hiv+ cytoband', rotation=-0, withdash=True, horizontalalignment='right', fontsize=14)\n",
    "# ylxs, ylys = label_yband(ybands, ax1)\n",
    "\n",
    "# # connect points and labels\n",
    "# for px, py, lx, ly in zip(pyxs, pyys, ylxs, ylys):\n",
    "#     _ = ax1.plot((px-0.2, lx+0.1), (py, ly), linestyle='dashed', color='gray',linewidth=.8)\n",
    "\n",
    "# # connect points and labels\n",
    "# for px, py, lx, ly in zip(pxxs, pxys, xlxs, xlys):\n",
    "#     _ = ax1.plot((px, lx+0.2), (py-0.2, ly+0.1), linestyle='dashed', color='gray',linewidth=.8)\n",
    "\n",
    "# _ = plot_shared_bands(sbands, ax1)\n",
    "\n",
    "# _ = ax1.set_xlabel('HIV-(-log10 q)', fontsize=13)\n",
    "# _ = ax1.set_ylabel('HIV+(-log10 q)', fontsize=13)\n",
    "# _ = ax1.set_title('GISTIC dels cytobands', fontsize=16)\n",
    "# of = '/projects/trans_scratch/validations/workspace/szong/Cervical/cnv/cytoband_q_comparison.png'\n",
    "# plt.savefig(of, bbox_inches='tight', dpi=200)"
   ]
  }
 ],
 "metadata": {
  "kernelspec": {
   "display_name": "Python 3",
   "language": "python",
   "name": "python3"
  },
  "language_info": {
   "codemirror_mode": {
    "name": "ipython",
    "version": 3
   },
   "file_extension": ".py",
   "mimetype": "text/x-python",
   "name": "python",
   "nbconvert_exporter": "python",
   "pygments_lexer": "ipython3",
   "version": "3.6.7"
  }
 },
 "nbformat": 4,
 "nbformat_minor": 2
}
