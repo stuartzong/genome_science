{
 "cells": [
  {
   "cell_type": "code",
   "execution_count": 6,
   "metadata": {
    "collapsed": true
   },
   "outputs": [],
   "source": [
    "import csv\n",
    "import matplotlib\n",
    "import seaborn\n",
    "import numpy as np\n",
    "import pandas as pd\n",
    "import matplotlib.pyplot as plt\n",
    "from scipy.stats import ttest_ind\n",
    "import scipy.stats as ss\n",
    "from matplotlib import style\n",
    "from matplotlib.lines import Line2D\n",
    "import lxml\n",
    "import html5lib\n",
    "from matplotlib_venn import venn2, venn3, venn3_circles\n",
    "\n",
    "#pretty display\n",
    "from IPython.core.interactiveshell import InteractiveShell\n",
    "InteractiveShell.ast_node_interactivity = \"all\"\n",
    "\n",
    "matplotlib.style.use('ggplot')\n",
    "%matplotlib inline\n",
    "matplotlib.rcParams['figure.figsize'] = (15, 9)\n",
    "\n",
    "\n",
    "%config InlineBackend.figure_format = 'retina'\n",
    "# figure out number of indels"
   ]
  },
  {
   "cell_type": "code",
   "execution_count": 1,
   "metadata": {},
   "outputs": [
    {
     "ename": "ModuleNotFoundError",
     "evalue": "No module named 'mygene'",
     "output_type": "error",
     "traceback": [
      "\u001b[0;31m---------------------------------------------------------------------------\u001b[0m",
      "\u001b[0;31mModuleNotFoundError\u001b[0m                       Traceback (most recent call last)",
      "\u001b[0;32m<ipython-input-1-ee3b053a44aa>\u001b[0m in \u001b[0;36m<module>\u001b[0;34m\u001b[0m\n\u001b[0;32m----> 1\u001b[0;31m \u001b[0;32mimport\u001b[0m \u001b[0mmygene\u001b[0m\u001b[0;34m\u001b[0m\u001b[0;34m\u001b[0m\u001b[0m\n\u001b[0m\u001b[1;32m      2\u001b[0m \u001b[0mmg\u001b[0m \u001b[0;34m=\u001b[0m \u001b[0mmygene\u001b[0m\u001b[0;34m.\u001b[0m\u001b[0mMyGeneInfo\u001b[0m\u001b[0;34m(\u001b[0m\u001b[0;34m)\u001b[0m\u001b[0;34m\u001b[0m\u001b[0;34m\u001b[0m\u001b[0m\n\u001b[1;32m      3\u001b[0m \u001b[0mmg\u001b[0m\u001b[0;34m.\u001b[0m\u001b[0mgetgene\u001b[0m\u001b[0;34m(\u001b[0m\u001b[0;36m1017\u001b[0m\u001b[0;34m)\u001b[0m\u001b[0;34m\u001b[0m\u001b[0;34m\u001b[0m\u001b[0m\n",
      "\u001b[0;31mModuleNotFoundError\u001b[0m: No module named 'mygene'"
     ]
    }
   ],
   "source": [
    "import mygene\n",
    "mg = mygene.MyGeneInfo()\n",
    "mg.getgene(1017)"
   ]
  },
  {
   "cell_type": "code",
   "execution_count": 13,
   "metadata": {},
   "outputs": [
    {
     "data": {
      "text/html": [
       "<div>\n",
       "<table border=\"1\" class=\"dataframe\">\n",
       "  <thead>\n",
       "    <tr style=\"text-align: right;\">\n",
       "      <th></th>\n",
       "      <th>Ensembl_ID</th>\n",
       "      <th>Entrez_ID</th>\n",
       "      <th>Type</th>\n",
       "    </tr>\n",
       "  </thead>\n",
       "  <tbody>\n",
       "    <tr>\n",
       "      <th>0</th>\n",
       "      <td>ENSG00000005302</td>\n",
       "      <td>10943</td>\n",
       "      <td>Chromatin_Remodeling_Factors</td>\n",
       "    </tr>\n",
       "    <tr>\n",
       "      <th>1</th>\n",
       "      <td>ENSG00000009954</td>\n",
       "      <td>9031</td>\n",
       "      <td>Chromatin_Remodeling_Factors</td>\n",
       "    </tr>\n",
       "    <tr>\n",
       "      <th>2</th>\n",
       "      <td>ENSG00000010803</td>\n",
       "      <td>22955</td>\n",
       "      <td>Chromatin_Remodeling_Factors</td>\n",
       "    </tr>\n",
       "    <tr>\n",
       "      <th>3</th>\n",
       "      <td>ENSG00000015171</td>\n",
       "      <td>10771</td>\n",
       "      <td>Chromatin_Remodeling_Factors</td>\n",
       "    </tr>\n",
       "    <tr>\n",
       "      <th>4</th>\n",
       "      <td>ENSG00000025293</td>\n",
       "      <td>51230</td>\n",
       "      <td>Chromatin_Remodeling_Factors</td>\n",
       "    </tr>\n",
       "  </tbody>\n",
       "</table>\n",
       "</div>"
      ],
      "text/plain": [
       "        Ensembl_ID  Entrez_ID                          Type\n",
       "0  ENSG00000005302      10943  Chromatin_Remodeling_Factors\n",
       "1  ENSG00000009954       9031  Chromatin_Remodeling_Factors\n",
       "2  ENSG00000010803      22955  Chromatin_Remodeling_Factors\n",
       "3  ENSG00000015171      10771  Chromatin_Remodeling_Factors\n",
       "4  ENSG00000025293      51230  Chromatin_Remodeling_Factors"
      ]
     },
     "execution_count": 13,
     "metadata": {},
     "output_type": "execute_result"
    }
   ],
   "source": [
    "epi_genes = pd.read_csv('/projects/trans_scratch/validations/workspace/szong/Cervical/epigenetics/Homo_sapiens_chromatin_remodeling_factors_gene_list.txt',sep='\\t', index_col=False)\n",
    "epi_genes.head()"
   ]
  },
  {
   "cell_type": "code",
   "execution_count": 27,
   "metadata": {},
   "outputs": [],
   "source": [
    "epi_genes['symbol'] = epi_genes['Entrez_ID'].apply(lambda x: mg.getgene(x, 'symbol')['symbol'])"
   ]
  },
  {
   "cell_type": "code",
   "execution_count": 29,
   "metadata": {},
   "outputs": [],
   "source": [
    "# epi_genes.to_csv('/projects/trans_scratch/validations/workspace/szong/Cervical/epigenetics/Homo_sapiens_chromatin_remodeling_factors_gene_list_with_symbols.txt',index=False)"
   ]
  },
  {
   "cell_type": "code",
   "execution_count": 39,
   "metadata": {},
   "outputs": [
    {
     "data": {
      "text/html": [
       "<div>\n",
       "<table border=\"1\" class=\"dataframe\">\n",
       "  <thead>\n",
       "    <tr style=\"text-align: right;\">\n",
       "      <th></th>\n",
       "      <th>gene_stable_id</th>\n",
       "      <th>chr</th>\n",
       "      <th>biotype</th>\n",
       "      <th>db_name</th>\n",
       "      <th>display_label</th>\n",
       "      <th>dbprimary_acc</th>\n",
       "    </tr>\n",
       "  </thead>\n",
       "  <tbody>\n",
       "    <tr>\n",
       "      <th>0</th>\n",
       "      <td>ENSG00000261657</td>\n",
       "      <td>HG991_PATCH</td>\n",
       "      <td>protein_coding</td>\n",
       "      <td>HGNC</td>\n",
       "      <td>SLC25A26</td>\n",
       "      <td>20661</td>\n",
       "    </tr>\n",
       "    <tr>\n",
       "      <th>1</th>\n",
       "      <td>ENSG00000223116</td>\n",
       "      <td>13</td>\n",
       "      <td>miRNA</td>\n",
       "      <td>Clone_based_ensembl_gene</td>\n",
       "      <td>AL157931.1</td>\n",
       "      <td>AL157931.1</td>\n",
       "    </tr>\n",
       "    <tr>\n",
       "      <th>2</th>\n",
       "      <td>ENSG00000233440</td>\n",
       "      <td>13</td>\n",
       "      <td>pseudogene</td>\n",
       "      <td>HGNC</td>\n",
       "      <td>HMGA1P6</td>\n",
       "      <td>19121</td>\n",
       "    </tr>\n",
       "    <tr>\n",
       "      <th>3</th>\n",
       "      <td>ENSG00000207157</td>\n",
       "      <td>13</td>\n",
       "      <td>misc_RNA</td>\n",
       "      <td>HGNC</td>\n",
       "      <td>RNY3P4</td>\n",
       "      <td>42488</td>\n",
       "    </tr>\n",
       "    <tr>\n",
       "      <th>4</th>\n",
       "      <td>ENSG00000229483</td>\n",
       "      <td>13</td>\n",
       "      <td>lincRNA</td>\n",
       "      <td>HGNC</td>\n",
       "      <td>LINC00362</td>\n",
       "      <td>42682</td>\n",
       "    </tr>\n",
       "  </tbody>\n",
       "</table>\n",
       "</div>"
      ],
      "text/plain": [
       "    gene_stable_id          chr         biotype                   db_name  \\\n",
       "0  ENSG00000261657  HG991_PATCH  protein_coding                      HGNC   \n",
       "1  ENSG00000223116           13           miRNA  Clone_based_ensembl_gene   \n",
       "2  ENSG00000233440           13      pseudogene                      HGNC   \n",
       "3  ENSG00000207157           13        misc_RNA                      HGNC   \n",
       "4  ENSG00000229483           13         lincRNA                      HGNC   \n",
       "\n",
       "  display_label dbprimary_acc  \n",
       "0      SLC25A26         20661  \n",
       "1    AL157931.1    AL157931.1  \n",
       "2       HMGA1P6         19121  \n",
       "3        RNY3P4         42488  \n",
       "4     LINC00362         42682  "
      ]
     },
     "execution_count": 39,
     "metadata": {},
     "output_type": "execute_result"
    }
   ],
   "source": [
    "# double check with ensembl75 own mapping\n",
    "ens = pd.read_csv('/projects/trans_scratch/validations/workspace/szong/Cervical/epigenetics/ens75_gene_xref_acc.out', sep='\\t')\n",
    "ens.head()"
   ]
  },
  {
   "cell_type": "code",
   "execution_count": 40,
   "metadata": {
    "collapsed": true
   },
   "outputs": [],
   "source": [
    "pd.merge?"
   ]
  },
  {
   "cell_type": "code",
   "execution_count": 42,
   "metadata": {},
   "outputs": [
    {
     "data": {
      "text/html": [
       "<div>\n",
       "<table border=\"1\" class=\"dataframe\">\n",
       "  <thead>\n",
       "    <tr style=\"text-align: right;\">\n",
       "      <th></th>\n",
       "      <th>Ensembl_ID</th>\n",
       "      <th>Entrez_ID</th>\n",
       "      <th>Type</th>\n",
       "      <th>symbol</th>\n",
       "      <th>gene_stable_id</th>\n",
       "      <th>chr</th>\n",
       "      <th>biotype</th>\n",
       "      <th>db_name</th>\n",
       "      <th>display_label</th>\n",
       "      <th>dbprimary_acc</th>\n",
       "    </tr>\n",
       "  </thead>\n",
       "  <tbody>\n",
       "    <tr>\n",
       "      <th>0</th>\n",
       "      <td>ENSG00000005302</td>\n",
       "      <td>10943</td>\n",
       "      <td>Chromatin_Remodeling_Factors</td>\n",
       "      <td>MSL3</td>\n",
       "      <td>ENSG00000005302</td>\n",
       "      <td>X</td>\n",
       "      <td>protein_coding</td>\n",
       "      <td>HGNC</td>\n",
       "      <td>MSL3</td>\n",
       "      <td>7370</td>\n",
       "    </tr>\n",
       "    <tr>\n",
       "      <th>1</th>\n",
       "      <td>ENSG00000009954</td>\n",
       "      <td>9031</td>\n",
       "      <td>Chromatin_Remodeling_Factors</td>\n",
       "      <td>BAZ1B</td>\n",
       "      <td>ENSG00000009954</td>\n",
       "      <td>7</td>\n",
       "      <td>protein_coding</td>\n",
       "      <td>HGNC</td>\n",
       "      <td>BAZ1B</td>\n",
       "      <td>961</td>\n",
       "    </tr>\n",
       "    <tr>\n",
       "      <th>2</th>\n",
       "      <td>ENSG00000010803</td>\n",
       "      <td>22955</td>\n",
       "      <td>Chromatin_Remodeling_Factors</td>\n",
       "      <td>SCMH1</td>\n",
       "      <td>ENSG00000010803</td>\n",
       "      <td>1</td>\n",
       "      <td>protein_coding</td>\n",
       "      <td>HGNC</td>\n",
       "      <td>SCMH1</td>\n",
       "      <td>19003</td>\n",
       "    </tr>\n",
       "    <tr>\n",
       "      <th>3</th>\n",
       "      <td>ENSG00000015171</td>\n",
       "      <td>10771</td>\n",
       "      <td>Chromatin_Remodeling_Factors</td>\n",
       "      <td>ZMYND11</td>\n",
       "      <td>ENSG00000015171</td>\n",
       "      <td>10</td>\n",
       "      <td>protein_coding</td>\n",
       "      <td>HGNC</td>\n",
       "      <td>ZMYND11</td>\n",
       "      <td>16966</td>\n",
       "    </tr>\n",
       "    <tr>\n",
       "      <th>4</th>\n",
       "      <td>ENSG00000025293</td>\n",
       "      <td>51230</td>\n",
       "      <td>Chromatin_Remodeling_Factors</td>\n",
       "      <td>PHF20</td>\n",
       "      <td>ENSG00000025293</td>\n",
       "      <td>20</td>\n",
       "      <td>protein_coding</td>\n",
       "      <td>HGNC</td>\n",
       "      <td>PHF20</td>\n",
       "      <td>16098</td>\n",
       "    </tr>\n",
       "  </tbody>\n",
       "</table>\n",
       "</div>"
      ],
      "text/plain": [
       "        Ensembl_ID  Entrez_ID                          Type   symbol  \\\n",
       "0  ENSG00000005302      10943  Chromatin_Remodeling_Factors     MSL3   \n",
       "1  ENSG00000009954       9031  Chromatin_Remodeling_Factors    BAZ1B   \n",
       "2  ENSG00000010803      22955  Chromatin_Remodeling_Factors    SCMH1   \n",
       "3  ENSG00000015171      10771  Chromatin_Remodeling_Factors  ZMYND11   \n",
       "4  ENSG00000025293      51230  Chromatin_Remodeling_Factors    PHF20   \n",
       "\n",
       "    gene_stable_id chr         biotype db_name display_label dbprimary_acc  \n",
       "0  ENSG00000005302   X  protein_coding    HGNC          MSL3          7370  \n",
       "1  ENSG00000009954   7  protein_coding    HGNC         BAZ1B           961  \n",
       "2  ENSG00000010803   1  protein_coding    HGNC         SCMH1         19003  \n",
       "3  ENSG00000015171  10  protein_coding    HGNC       ZMYND11         16966  \n",
       "4  ENSG00000025293  20  protein_coding    HGNC         PHF20         16098  "
      ]
     },
     "execution_count": 42,
     "metadata": {},
     "output_type": "execute_result"
    }
   ],
   "source": [
    "# merge \n",
    "merge = pd.merge(epi_genes, ens, left_on='Ensembl_ID', right_on='gene_stable_id', how='left')\n",
    "merge.head()"
   ]
  },
  {
   "cell_type": "code",
   "execution_count": 48,
   "metadata": {},
   "outputs": [],
   "source": [
    "merge.to_csv('/projects/trans_scratch/validations/workspace/szong/Cervical/epigenetics/Homo_sapiens_chromatin_remodeling_factors_gene_list_with_symbols.txt',index=False)"
   ]
  },
  {
   "cell_type": "code",
   "execution_count": 32,
   "metadata": {},
   "outputs": [
    {
     "data": {
      "text/plain": [
       "{'_id': '55869',\n",
       " '_score': 22.851912,\n",
       " 'entrezgene': 55869,\n",
       " 'name': 'histone deacetylase 8',\n",
       " 'symbol': 'HDAC8',\n",
       " 'taxid': 9606}"
      ]
     },
     "execution_count": 32,
     "metadata": {},
     "output_type": "execute_result"
    }
   ],
   "source": [
    "mg.getgene('ENSG00000147099')"
   ]
  },
  {
   "cell_type": "code",
   "execution_count": 34,
   "metadata": {
    "collapsed": true
   },
   "outputs": [],
   "source": [
    "mg.getgene('ENSG00000268498')"
   ]
  },
  {
   "cell_type": "code",
   "execution_count": 47,
   "metadata": {},
   "outputs": [
    {
     "data": {
      "text/plain": [
       "Ensembl_ID        154\n",
       "Entrez_ID         128\n",
       "Type                1\n",
       "symbol            128\n",
       "gene_stable_id    154\n",
       "chr                42\n",
       "biotype             1\n",
       "db_name             2\n",
       "display_label     128\n",
       "dbprimary_acc     128\n",
       "dtype: int64"
      ]
     },
     "execution_count": 47,
     "metadata": {},
     "output_type": "execute_result"
    }
   ],
   "source": [
    "# find number of unique values in each colomn\n",
    "merge.apply(lambda x: len(x.unique()))"
   ]
  }
 ],
 "metadata": {
  "kernelspec": {
   "display_name": "Python 3",
   "language": "python",
   "name": "python3"
  },
  "language_info": {
   "codemirror_mode": {
    "name": "ipython",
    "version": 3
   },
   "file_extension": ".py",
   "mimetype": "text/x-python",
   "name": "python",
   "nbconvert_exporter": "python",
   "pygments_lexer": "ipython3",
   "version": "3.7.3"
  }
 },
 "nbformat": 4,
 "nbformat_minor": 2
}
