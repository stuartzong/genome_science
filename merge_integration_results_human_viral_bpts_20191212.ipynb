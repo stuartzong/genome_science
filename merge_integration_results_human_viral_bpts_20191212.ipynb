{
 "cells": [
  {
   "cell_type": "markdown",
   "metadata": {},
   "source": [
    "This script process DNA and RNA  integration results and merge them together side by side. It is written for Cervical project."
   ]
  },
  {
   "cell_type": "code",
   "execution_count": 157,
   "metadata": {},
   "outputs": [],
   "source": [
    "import matplotlib\n",
    "import seaborn\n",
    "import numpy as np\n",
    "import matplotlib.pyplot as plt\n",
    "from scipy.stats import ttest_ind\n",
    "import scipy.stats as ss\n",
    "from matplotlib import style\n",
    "matplotlib.style.use('ggplot')\n",
    "%matplotlib inline\n",
    "matplotlib.rcParams['figure.figsize'] = (15, 9)\n",
    "import pandas as pd\n",
    "# figure out number of indels\n",
    "from IPython.core.interactiveshell import InteractiveShell\n",
    "InteractiveShell.ast_node_interactivity = \"all\""
   ]
  },
  {
   "cell_type": "markdown",
   "metadata": {},
   "source": [
    "This function process groupby object, combine all rows with the same patient/virus indexed entries into one row"
   ]
  },
  {
   "cell_type": "code",
   "execution_count": 288,
   "metadata": {},
   "outputs": [],
   "source": [
    "def process_grp(grp):\n",
    "    df_or_sr = grp.apply(lambda col: \n",
    "                          ';'.join(col.unique().tolist()) \n",
    "                          if len(col.unique())==1 \n",
    "                          else ';'.join(col.tolist()))\n",
    "    df = df_or_sr.to_frame().T\n",
    "    assert df.shape[0] == 1\n",
    "    return df"
   ]
  },
  {
   "cell_type": "markdown",
   "metadata": {},
   "source": [
    "# files"
   ]
  },
  {
   "cell_type": "code",
   "execution_count": null,
   "metadata": {},
   "outputs": [],
   "source": [
    "# cat /projects/NCI_validation2_assembly/NCI_SAIC_HIV_Cervical/integration_sites/NCI_SAIC_HIV_Cervical/genome/integration_results/HTMCP*/integration_summary_viral_annotated.tsv|grep -v viral|grep -v No-Hits"
   ]
  },
  {
   "cell_type": "code",
   "execution_count": 289,
   "metadata": {},
   "outputs": [
    {
     "data": {
      "text/plain": [
       "'/projects/trans_scratch/validations/workspace/szong/Cervical/integration/DNA_integration_summary_20191217.tsv'"
      ]
     },
     "execution_count": 289,
     "metadata": {},
     "output_type": "execute_result"
    }
   ],
   "source": [
    "wkdir = '/projects/trans_scratch/validations/workspace/szong/Cervical/integration/'\n",
    "of = '/projects/trans_scratch/validations/workspace/szong/Cervical/genomes_with_htmcp_ids_118_20191217.tsv'\n",
    "dna_f = f'{wkdir}DNA_integration_summary_20191217.tsv' # concate all integration_summary_viral_annotated.tsv files\n",
    "rna_f = f'{wkdir}RNA_integration_summary_20191217.tsv'\n",
    "dna_f"
   ]
  },
  {
   "cell_type": "code",
   "execution_count": 290,
   "metadata": {},
   "outputs": [
    {
     "data": {
      "text/html": [
       "<div>\n",
       "<style scoped>\n",
       "    .dataframe tbody tr th:only-of-type {\n",
       "        vertical-align: middle;\n",
       "    }\n",
       "\n",
       "    .dataframe tbody tr th {\n",
       "        vertical-align: top;\n",
       "    }\n",
       "\n",
       "    .dataframe thead th {\n",
       "        text-align: right;\n",
       "    }\n",
       "</style>\n",
       "<table border=\"1\" class=\"dataframe\">\n",
       "  <thead>\n",
       "    <tr style=\"text-align: right;\">\n",
       "      <th></th>\n",
       "      <th>Tissue Site</th>\n",
       "      <th>HIV status</th>\n",
       "      <th>GSC original source ID</th>\n",
       "      <th>patient</th>\n",
       "      <th>DNA_lib</th>\n",
       "      <th>status</th>\n",
       "      <th>RNA_lib</th>\n",
       "    </tr>\n",
       "  </thead>\n",
       "  <tbody>\n",
       "    <tr>\n",
       "      <td>0</td>\n",
       "      <td>Cervix</td>\n",
       "      <td>positive</td>\n",
       "      <td>HTMCP_124</td>\n",
       "      <td>HTMCP-03-06-02001</td>\n",
       "      <td>A37234</td>\n",
       "      <td>Malignant</td>\n",
       "      <td>A37700</td>\n",
       "    </tr>\n",
       "    <tr>\n",
       "      <td>1</td>\n",
       "      <td>Cervix</td>\n",
       "      <td>Negative</td>\n",
       "      <td>HTMCP_125</td>\n",
       "      <td>HTMCP-03-06-02002</td>\n",
       "      <td>A37235</td>\n",
       "      <td>Malignant</td>\n",
       "      <td>A37701</td>\n",
       "    </tr>\n",
       "  </tbody>\n",
       "</table>\n",
       "</div>"
      ],
      "text/plain": [
       "  Tissue Site HIV status GSC original source ID            patient DNA_lib  \\\n",
       "0      Cervix   positive              HTMCP_124  HTMCP-03-06-02001  A37234   \n",
       "1      Cervix   Negative              HTMCP_125  HTMCP-03-06-02002  A37235   \n",
       "\n",
       "      status RNA_lib  \n",
       "0  Malignant  A37700  \n",
       "1  Malignant  A37701  "
      ]
     },
     "execution_count": 290,
     "metadata": {},
     "output_type": "execute_result"
    },
    {
     "data": {
      "text/plain": [
       "(118, 7)"
      ]
     },
     "execution_count": 290,
     "metadata": {},
     "output_type": "execute_result"
    }
   ],
   "source": [
    "df = pd.read_csv(of, sep='\\t')\n",
    "df.head(2)\n",
    "df.shape"
   ]
  },
  {
   "cell_type": "markdown",
   "metadata": {},
   "source": [
    "# genome"
   ]
  },
  {
   "cell_type": "code",
   "execution_count": 302,
   "metadata": {
    "scrolled": true
   },
   "outputs": [
    {
     "data": {
      "text/html": [
       "<div>\n",
       "<style scoped>\n",
       "    .dataframe tbody tr th:only-of-type {\n",
       "        vertical-align: middle;\n",
       "    }\n",
       "\n",
       "    .dataframe tbody tr th {\n",
       "        vertical-align: top;\n",
       "    }\n",
       "\n",
       "    .dataframe thead th {\n",
       "        text-align: right;\n",
       "    }\n",
       "</style>\n",
       "<table border=\"1\" class=\"dataframe\">\n",
       "  <thead>\n",
       "    <tr style=\"text-align: right;\">\n",
       "      <th></th>\n",
       "      <th>library</th>\n",
       "      <th>virus</th>\n",
       "      <th>Integration</th>\n",
       "      <th>human-breakpoint</th>\n",
       "      <th>human-gene(s)</th>\n",
       "      <th>viral-breakpoint</th>\n",
       "      <th>viral-gene</th>\n",
       "    </tr>\n",
       "  </thead>\n",
       "  <tbody>\n",
       "    <tr>\n",
       "      <td>0</td>\n",
       "      <td>HTMCP_126</td>\n",
       "      <td>Human papillomavirus type 16</td>\n",
       "      <td>NO</td>\n",
       "      <td>-</td>\n",
       "      <td>-</td>\n",
       "      <td>-</td>\n",
       "      <td>-</td>\n",
       "    </tr>\n",
       "    <tr>\n",
       "      <td>1</td>\n",
       "      <td>HTMCP_133</td>\n",
       "      <td>Human papillomavirus type 73</td>\n",
       "      <td>YES</td>\n",
       "      <td>17_36310359</td>\n",
       "      <td>intergenic</td>\n",
       "      <td>5956</td>\n",
       "      <td>-</td>\n",
       "    </tr>\n",
       "  </tbody>\n",
       "</table>\n",
       "</div>"
      ],
      "text/plain": [
       "     library                         virus Integration human-breakpoint  \\\n",
       "0  HTMCP_126  Human papillomavirus type 16          NO                -   \n",
       "1  HTMCP_133  Human papillomavirus type 73         YES      17_36310359   \n",
       "\n",
       "  human-gene(s) viral-breakpoint viral-gene  \n",
       "0             -                -          -  \n",
       "1    intergenic             5956          -  "
      ]
     },
     "execution_count": 302,
     "metadata": {},
     "output_type": "execute_result"
    },
    {
     "data": {
      "text/plain": [
       "(368, 7)"
      ]
     },
     "execution_count": 302,
     "metadata": {},
     "output_type": "execute_result"
    },
    {
     "data": {
      "text/html": [
       "<div>\n",
       "<style scoped>\n",
       "    .dataframe tbody tr th:only-of-type {\n",
       "        vertical-align: middle;\n",
       "    }\n",
       "\n",
       "    .dataframe tbody tr th {\n",
       "        vertical-align: top;\n",
       "    }\n",
       "\n",
       "    .dataframe thead th {\n",
       "        text-align: right;\n",
       "    }\n",
       "</style>\n",
       "<table border=\"1\" class=\"dataframe\">\n",
       "  <thead>\n",
       "    <tr style=\"text-align: right;\">\n",
       "      <th></th>\n",
       "      <th>library</th>\n",
       "      <th>virus</th>\n",
       "      <th>Integration</th>\n",
       "      <th>human-breakpoint</th>\n",
       "      <th>human-gene(s)</th>\n",
       "      <th>viral-breakpoint</th>\n",
       "      <th>viral-gene</th>\n",
       "      <th>Tissue Site</th>\n",
       "      <th>HIV status</th>\n",
       "      <th>patient</th>\n",
       "      <th>DNA_lib</th>\n",
       "      <th>status</th>\n",
       "      <th>RNA_lib</th>\n",
       "    </tr>\n",
       "  </thead>\n",
       "  <tbody>\n",
       "    <tr>\n",
       "      <td>0</td>\n",
       "      <td>HTMCP_126</td>\n",
       "      <td>Human papillomavirus type 16</td>\n",
       "      <td>NO</td>\n",
       "      <td>-</td>\n",
       "      <td>-</td>\n",
       "      <td>-</td>\n",
       "      <td>-</td>\n",
       "      <td>Cervix</td>\n",
       "      <td>positive</td>\n",
       "      <td>HTMCP-03-06-02003</td>\n",
       "      <td>A37236</td>\n",
       "      <td>Malignant</td>\n",
       "      <td>A37702</td>\n",
       "    </tr>\n",
       "    <tr>\n",
       "      <td>1</td>\n",
       "      <td>HTMCP_133</td>\n",
       "      <td>Human papillomavirus type 73</td>\n",
       "      <td>YES</td>\n",
       "      <td>17_36310359</td>\n",
       "      <td>intergenic</td>\n",
       "      <td>5956</td>\n",
       "      <td>-</td>\n",
       "      <td>Cervix</td>\n",
       "      <td>Negative</td>\n",
       "      <td>HTMCP-03-06-02012</td>\n",
       "      <td>A37243</td>\n",
       "      <td>Malignant</td>\n",
       "      <td>A37707</td>\n",
       "    </tr>\n",
       "  </tbody>\n",
       "</table>\n",
       "</div>"
      ],
      "text/plain": [
       "     library                         virus Integration human-breakpoint  \\\n",
       "0  HTMCP_126  Human papillomavirus type 16          NO                -   \n",
       "1  HTMCP_133  Human papillomavirus type 73         YES      17_36310359   \n",
       "\n",
       "  human-gene(s) viral-breakpoint viral-gene Tissue Site HIV status  \\\n",
       "0             -                -          -      Cervix   positive   \n",
       "1    intergenic             5956          -      Cervix   Negative   \n",
       "\n",
       "             patient DNA_lib     status RNA_lib  \n",
       "0  HTMCP-03-06-02003  A37236  Malignant  A37702  \n",
       "1  HTMCP-03-06-02012  A37243  Malignant  A37707  "
      ]
     },
     "execution_count": 302,
     "metadata": {},
     "output_type": "execute_result"
    },
    {
     "data": {
      "text/plain": [
       "(368, 13)"
      ]
     },
     "execution_count": 302,
     "metadata": {},
     "output_type": "execute_result"
    },
    {
     "data": {
      "text/plain": [
       "(60, 6)"
      ]
     },
     "execution_count": 302,
     "metadata": {},
     "output_type": "execute_result"
    },
    {
     "data": {
      "text/html": [
       "<div>\n",
       "<style scoped>\n",
       "    .dataframe tbody tr th:only-of-type {\n",
       "        vertical-align: middle;\n",
       "    }\n",
       "\n",
       "    .dataframe tbody tr th {\n",
       "        vertical-align: top;\n",
       "    }\n",
       "\n",
       "    .dataframe thead th {\n",
       "        text-align: right;\n",
       "    }\n",
       "</style>\n",
       "<table border=\"1\" class=\"dataframe\">\n",
       "  <thead>\n",
       "    <tr style=\"text-align: right;\">\n",
       "      <th></th>\n",
       "      <th>patient</th>\n",
       "      <th>virus</th>\n",
       "      <th>viral-breakpoint</th>\n",
       "      <th>viral-gene</th>\n",
       "      <th>DNA_lib</th>\n",
       "      <th>RNA_lib</th>\n",
       "    </tr>\n",
       "  </thead>\n",
       "  <tbody>\n",
       "    <tr>\n",
       "      <td>0</td>\n",
       "      <td>HTMCP-03-06-02012</td>\n",
       "      <td>HPV_73</td>\n",
       "      <td>5956</td>\n",
       "      <td>-</td>\n",
       "      <td>A37243</td>\n",
       "      <td>A37707</td>\n",
       "    </tr>\n",
       "    <tr>\n",
       "      <td>1</td>\n",
       "      <td>HTMCP-03-06-02042</td>\n",
       "      <td>HPV_16</td>\n",
       "      <td>2237;4267</td>\n",
       "      <td>E1;L2</td>\n",
       "      <td>A37255</td>\n",
       "      <td>A37717</td>\n",
       "    </tr>\n",
       "  </tbody>\n",
       "</table>\n",
       "</div>"
      ],
      "text/plain": [
       "             patient   virus viral-breakpoint viral-gene DNA_lib RNA_lib\n",
       "0  HTMCP-03-06-02012  HPV_73             5956          -  A37243  A37707\n",
       "1  HTMCP-03-06-02042  HPV_16        2237;4267      E1;L2  A37255  A37717"
      ]
     },
     "execution_count": 302,
     "metadata": {},
     "output_type": "execute_result"
    }
   ],
   "source": [
    "dfg = pd.read_csv(dna_f, sep='\\t')\n",
    "dfg.head(2)\n",
    "dfg.shape\n",
    "dfgm = pd.merge(dfg, df, left_on='library', right_on='GSC original source ID', how='left')\n",
    "dfgm.drop('GSC original source ID', axis=1, inplace=True)\n",
    "dfgm.head(2)\n",
    "dfgm.shape\n",
    "\n",
    "dfgm['virus'] = dfgm['virus'].str.replace('Human papillomavirus type ', 'HPV_')\n",
    "dfgf = dfgm[dfgm.Integration == 'YES'].groupby(['patient', 'virus']).apply(process_grp).reset_index(level=2, drop=True)\n",
    "dfgf = dfgf[['viral-breakpoint', 'viral-gene', 'DNA_lib', 'RNA_lib']].reset_index()\n",
    "# dfgf = dfgf\n",
    "dfgf.shape\n",
    "dfgf.head(2)"
   ]
  },
  {
   "cell_type": "markdown",
   "metadata": {},
   "source": [
    "# RNA"
   ]
  },
  {
   "cell_type": "code",
   "execution_count": 356,
   "metadata": {},
   "outputs": [
    {
     "data": {
      "text/html": [
       "<div>\n",
       "<style scoped>\n",
       "    .dataframe tbody tr th:only-of-type {\n",
       "        vertical-align: middle;\n",
       "    }\n",
       "\n",
       "    .dataframe tbody tr th {\n",
       "        vertical-align: top;\n",
       "    }\n",
       "\n",
       "    .dataframe thead th {\n",
       "        text-align: right;\n",
       "    }\n",
       "</style>\n",
       "<table border=\"1\" class=\"dataframe\">\n",
       "  <thead>\n",
       "    <tr style=\"text-align: right;\">\n",
       "      <th></th>\n",
       "      <th>Tissue Site</th>\n",
       "      <th>HIV status</th>\n",
       "      <th>GSC original source ID</th>\n",
       "      <th>patient</th>\n",
       "      <th>DNA_lib</th>\n",
       "      <th>status</th>\n",
       "      <th>RNA_lib</th>\n",
       "    </tr>\n",
       "  </thead>\n",
       "  <tbody>\n",
       "    <tr>\n",
       "      <td>0</td>\n",
       "      <td>Cervix</td>\n",
       "      <td>positive</td>\n",
       "      <td>HTMCP_124</td>\n",
       "      <td>HTMCP-03-06-02001</td>\n",
       "      <td>A37234</td>\n",
       "      <td>Malignant</td>\n",
       "      <td>A37700</td>\n",
       "    </tr>\n",
       "    <tr>\n",
       "      <td>1</td>\n",
       "      <td>Cervix</td>\n",
       "      <td>Negative</td>\n",
       "      <td>HTMCP_125</td>\n",
       "      <td>HTMCP-03-06-02002</td>\n",
       "      <td>A37235</td>\n",
       "      <td>Malignant</td>\n",
       "      <td>A37701</td>\n",
       "    </tr>\n",
       "  </tbody>\n",
       "</table>\n",
       "</div>"
      ],
      "text/plain": [
       "  Tissue Site HIV status GSC original source ID            patient DNA_lib  \\\n",
       "0      Cervix   positive              HTMCP_124  HTMCP-03-06-02001  A37234   \n",
       "1      Cervix   Negative              HTMCP_125  HTMCP-03-06-02002  A37235   \n",
       "\n",
       "      status RNA_lib  \n",
       "0  Malignant  A37700  \n",
       "1  Malignant  A37701  "
      ]
     },
     "execution_count": 356,
     "metadata": {},
     "output_type": "execute_result"
    }
   ],
   "source": [
    "df.head(2)"
   ]
  },
  {
   "cell_type": "code",
   "execution_count": 365,
   "metadata": {},
   "outputs": [
    {
     "data": {
      "text/html": [
       "<div>\n",
       "<style scoped>\n",
       "    .dataframe tbody tr th:only-of-type {\n",
       "        vertical-align: middle;\n",
       "    }\n",
       "\n",
       "    .dataframe tbody tr th {\n",
       "        vertical-align: top;\n",
       "    }\n",
       "\n",
       "    .dataframe thead th {\n",
       "        text-align: right;\n",
       "    }\n",
       "</style>\n",
       "<table border=\"1\" class=\"dataframe\">\n",
       "  <thead>\n",
       "    <tr style=\"text-align: right;\">\n",
       "      <th></th>\n",
       "      <th>Tissue Site</th>\n",
       "      <th>HIV status</th>\n",
       "      <th>GSC original source ID</th>\n",
       "      <th>patient</th>\n",
       "      <th>DNA_lib</th>\n",
       "      <th>status</th>\n",
       "      <th>RNA_lib</th>\n",
       "    </tr>\n",
       "  </thead>\n",
       "  <tbody>\n",
       "    <tr>\n",
       "      <td>76</td>\n",
       "      <td>Cervix</td>\n",
       "      <td>Positive</td>\n",
       "      <td>HTMCP_401</td>\n",
       "      <td>HTMCP-03-06-02204</td>\n",
       "      <td>A57086</td>\n",
       "      <td>Malignant</td>\n",
       "      <td>A57113</td>\n",
       "    </tr>\n",
       "  </tbody>\n",
       "</table>\n",
       "</div>"
      ],
      "text/plain": [
       "   Tissue Site HIV status GSC original source ID            patient DNA_lib  \\\n",
       "76      Cervix   Positive              HTMCP_401  HTMCP-03-06-02204  A57086   \n",
       "\n",
       "       status RNA_lib  \n",
       "76  Malignant  A57113  "
      ]
     },
     "execution_count": 365,
     "metadata": {},
     "output_type": "execute_result"
    }
   ],
   "source": [
    "df[df.patient == 'HTMCP-03-06-02204']"
   ]
  },
  {
   "cell_type": "code",
   "execution_count": 357,
   "metadata": {},
   "outputs": [
    {
     "data": {
      "text/html": [
       "<div>\n",
       "<style scoped>\n",
       "    .dataframe tbody tr th:only-of-type {\n",
       "        vertical-align: middle;\n",
       "    }\n",
       "\n",
       "    .dataframe tbody tr th {\n",
       "        vertical-align: top;\n",
       "    }\n",
       "\n",
       "    .dataframe thead th {\n",
       "        text-align: right;\n",
       "    }\n",
       "</style>\n",
       "<table border=\"1\" class=\"dataframe\">\n",
       "  <thead>\n",
       "    <tr style=\"text-align: right;\">\n",
       "      <th></th>\n",
       "      <th>library</th>\n",
       "      <th>virus</th>\n",
       "      <th>Integration</th>\n",
       "      <th>human-breakpoint</th>\n",
       "      <th>human-gene(s)</th>\n",
       "      <th>viral-breakpoint</th>\n",
       "      <th>viral-gene</th>\n",
       "    </tr>\n",
       "  </thead>\n",
       "  <tbody>\n",
       "    <tr>\n",
       "      <td>0</td>\n",
       "      <td>A37700</td>\n",
       "      <td>Human papillomavirus type 16</td>\n",
       "      <td>YES</td>\n",
       "      <td>3_189526056</td>\n",
       "      <td>TP63</td>\n",
       "      <td>880</td>\n",
       "      <td>E1</td>\n",
       "    </tr>\n",
       "    <tr>\n",
       "      <td>1</td>\n",
       "      <td>A37700</td>\n",
       "      <td>Human papillomavirus type 16</td>\n",
       "      <td>YES</td>\n",
       "      <td>3_189526059</td>\n",
       "      <td>TP63</td>\n",
       "      <td>3631</td>\n",
       "      <td>E2</td>\n",
       "    </tr>\n",
       "  </tbody>\n",
       "</table>\n",
       "</div>"
      ],
      "text/plain": [
       "  library                         virus Integration human-breakpoint  \\\n",
       "0  A37700  Human papillomavirus type 16         YES      3_189526056   \n",
       "1  A37700  Human papillomavirus type 16         YES      3_189526059   \n",
       "\n",
       "  human-gene(s) viral-breakpoint viral-gene  \n",
       "0          TP63              880         E1  \n",
       "1          TP63             3631         E2  "
      ]
     },
     "execution_count": 357,
     "metadata": {},
     "output_type": "execute_result"
    },
    {
     "data": {
      "text/plain": [
       "(951, 7)"
      ]
     },
     "execution_count": 357,
     "metadata": {},
     "output_type": "execute_result"
    },
    {
     "name": "stdout",
     "output_type": "stream",
     "text": [
      "number of patients 118\n"
     ]
    },
    {
     "data": {
      "text/html": [
       "<div>\n",
       "<style scoped>\n",
       "    .dataframe tbody tr th:only-of-type {\n",
       "        vertical-align: middle;\n",
       "    }\n",
       "\n",
       "    .dataframe tbody tr th {\n",
       "        vertical-align: top;\n",
       "    }\n",
       "\n",
       "    .dataframe thead th {\n",
       "        text-align: right;\n",
       "    }\n",
       "</style>\n",
       "<table border=\"1\" class=\"dataframe\">\n",
       "  <thead>\n",
       "    <tr style=\"text-align: right;\">\n",
       "      <th></th>\n",
       "      <th>library</th>\n",
       "      <th>virus</th>\n",
       "      <th>Integration</th>\n",
       "      <th>human-breakpoint</th>\n",
       "      <th>human-gene(s)</th>\n",
       "      <th>viral-breakpoint</th>\n",
       "      <th>viral-gene</th>\n",
       "      <th>Tissue Site</th>\n",
       "      <th>HIV status</th>\n",
       "      <th>GSC original source ID</th>\n",
       "      <th>patient</th>\n",
       "      <th>DNA_lib</th>\n",
       "      <th>status</th>\n",
       "      <th>RNA_lib</th>\n",
       "    </tr>\n",
       "  </thead>\n",
       "  <tbody>\n",
       "    <tr>\n",
       "      <td>0</td>\n",
       "      <td>A37700</td>\n",
       "      <td>Human papillomavirus type 16</td>\n",
       "      <td>YES</td>\n",
       "      <td>3_189526056</td>\n",
       "      <td>TP63</td>\n",
       "      <td>880</td>\n",
       "      <td>E1</td>\n",
       "      <td>Cervix</td>\n",
       "      <td>positive</td>\n",
       "      <td>HTMCP_124</td>\n",
       "      <td>HTMCP-03-06-02001</td>\n",
       "      <td>A37234</td>\n",
       "      <td>Malignant</td>\n",
       "      <td>A37700</td>\n",
       "    </tr>\n",
       "    <tr>\n",
       "      <td>1</td>\n",
       "      <td>A37700</td>\n",
       "      <td>Human papillomavirus type 16</td>\n",
       "      <td>YES</td>\n",
       "      <td>3_189526059</td>\n",
       "      <td>TP63</td>\n",
       "      <td>3631</td>\n",
       "      <td>E2</td>\n",
       "      <td>Cervix</td>\n",
       "      <td>positive</td>\n",
       "      <td>HTMCP_124</td>\n",
       "      <td>HTMCP-03-06-02001</td>\n",
       "      <td>A37234</td>\n",
       "      <td>Malignant</td>\n",
       "      <td>A37700</td>\n",
       "    </tr>\n",
       "  </tbody>\n",
       "</table>\n",
       "</div>"
      ],
      "text/plain": [
       "  library                         virus Integration human-breakpoint  \\\n",
       "0  A37700  Human papillomavirus type 16         YES      3_189526056   \n",
       "1  A37700  Human papillomavirus type 16         YES      3_189526059   \n",
       "\n",
       "  human-gene(s) viral-breakpoint viral-gene Tissue Site HIV status  \\\n",
       "0          TP63              880         E1      Cervix   positive   \n",
       "1          TP63             3631         E2      Cervix   positive   \n",
       "\n",
       "  GSC original source ID            patient DNA_lib     status RNA_lib  \n",
       "0              HTMCP_124  HTMCP-03-06-02001  A37234  Malignant  A37700  \n",
       "1              HTMCP_124  HTMCP-03-06-02001  A37234  Malignant  A37700  "
      ]
     },
     "execution_count": 357,
     "metadata": {},
     "output_type": "execute_result"
    },
    {
     "data": {
      "text/plain": [
       "(951, 14)"
      ]
     },
     "execution_count": 357,
     "metadata": {},
     "output_type": "execute_result"
    },
    {
     "name": "stdout",
     "output_type": "stream",
     "text": [
      "number of patients 101\n"
     ]
    },
    {
     "data": {
      "text/plain": [
       "(110, 6)"
      ]
     },
     "execution_count": 357,
     "metadata": {},
     "output_type": "execute_result"
    },
    {
     "data": {
      "text/html": [
       "<div>\n",
       "<style scoped>\n",
       "    .dataframe tbody tr th:only-of-type {\n",
       "        vertical-align: middle;\n",
       "    }\n",
       "\n",
       "    .dataframe tbody tr th {\n",
       "        vertical-align: top;\n",
       "    }\n",
       "\n",
       "    .dataframe thead th {\n",
       "        text-align: right;\n",
       "    }\n",
       "</style>\n",
       "<table border=\"1\" class=\"dataframe\">\n",
       "  <thead>\n",
       "    <tr style=\"text-align: right;\">\n",
       "      <th></th>\n",
       "      <th>patient</th>\n",
       "      <th>virus</th>\n",
       "      <th>viral-breakpoint</th>\n",
       "      <th>viral-gene</th>\n",
       "      <th>DNA_lib</th>\n",
       "      <th>RNA_lib</th>\n",
       "    </tr>\n",
       "  </thead>\n",
       "  <tbody>\n",
       "    <tr>\n",
       "      <td>0</td>\n",
       "      <td>HTMCP-03-06-02001</td>\n",
       "      <td>HPV_16</td>\n",
       "      <td>880;3631;5695;408;3631;880;3689;3753</td>\n",
       "      <td>E1;E2;L1;E6;E2;E1;E2;E2</td>\n",
       "      <td>A37234</td>\n",
       "      <td>A37700</td>\n",
       "    </tr>\n",
       "    <tr>\n",
       "      <td>1</td>\n",
       "      <td>HTMCP-03-06-02002</td>\n",
       "      <td>HPV_52</td>\n",
       "      <td>1307;880;1723;881;879</td>\n",
       "      <td>-</td>\n",
       "      <td>A37235</td>\n",
       "      <td>A37701</td>\n",
       "    </tr>\n",
       "  </tbody>\n",
       "</table>\n",
       "</div>"
      ],
      "text/plain": [
       "             patient   virus                      viral-breakpoint  \\\n",
       "0  HTMCP-03-06-02001  HPV_16  880;3631;5695;408;3631;880;3689;3753   \n",
       "1  HTMCP-03-06-02002  HPV_52                 1307;880;1723;881;879   \n",
       "\n",
       "                viral-gene DNA_lib RNA_lib  \n",
       "0  E1;E2;L1;E6;E2;E1;E2;E2  A37234  A37700  \n",
       "1                        -  A37235  A37701  "
      ]
     },
     "execution_count": 357,
     "metadata": {},
     "output_type": "execute_result"
    }
   ],
   "source": [
    "dfr = pd.read_csv(rna_f, sep='\\t')\n",
    "dfr.head(2)\n",
    "dfr.shape\n",
    "dfrm = pd.merge(dfr, df, left_on='library', right_on='RNA_lib', how='left')\n",
    "print('number of patients', dfrm.patient.nunique())\n",
    "dfrm.head(2)\n",
    "dfrm.shape\n",
    "\n",
    "dfrm['virus'] = dfrm['virus'].str.replace('Human papillomavirus type ', 'HPV_')\n",
    "dfrm['viral-gene'] = dfrm['viral-gene'].fillna('NA')\n",
    "dfrf = dfrm[dfrm.Integration == 'YES'].groupby(['patient', 'virus']).apply(process_grp).reset_index(level=2, drop=True)\n",
    "dfrf = dfrf[['viral-breakpoint', 'viral-gene', 'DNA_lib', 'RNA_lib']].reset_index()\n",
    "print('number of patients', dfrf.patient.nunique())\n",
    "dfrf.shape\n",
    "dfrf.head(2)"
   ]
  },
  {
   "cell_type": "code",
   "execution_count": 358,
   "metadata": {},
   "outputs": [
    {
     "data": {
      "text/plain": [
       "array(['E1', 'E2', 'L1', 'E6', '-', 'L2', 'E4,E2', 'URR', 'E2,E4', 'E7',\n",
       "       '41-16', 'E5_ALPHA', 'NA', 'E1,E2', 'E2,E1'], dtype=object)"
      ]
     },
     "execution_count": 358,
     "metadata": {},
     "output_type": "execute_result"
    }
   ],
   "source": [
    "dfrm['viral-gene'].unique()"
   ]
  },
  {
   "cell_type": "code",
   "execution_count": 359,
   "metadata": {},
   "outputs": [
    {
     "data": {
      "text/html": [
       "<div>\n",
       "<style scoped>\n",
       "    .dataframe tbody tr th:only-of-type {\n",
       "        vertical-align: middle;\n",
       "    }\n",
       "\n",
       "    .dataframe tbody tr th {\n",
       "        vertical-align: top;\n",
       "    }\n",
       "\n",
       "    .dataframe thead th {\n",
       "        text-align: right;\n",
       "    }\n",
       "</style>\n",
       "<table border=\"1\" class=\"dataframe\">\n",
       "  <thead>\n",
       "    <tr style=\"text-align: right;\">\n",
       "      <th></th>\n",
       "      <th>patient</th>\n",
       "      <th>virus</th>\n",
       "      <th>viral-breakpoint</th>\n",
       "      <th>viral-gene</th>\n",
       "      <th>DNA_lib</th>\n",
       "      <th>RNA_lib</th>\n",
       "    </tr>\n",
       "  </thead>\n",
       "  <tbody>\n",
       "    <tr>\n",
       "      <td>27</td>\n",
       "      <td>HTMCP-03-06-02097</td>\n",
       "      <td>HPV_16</td>\n",
       "      <td>2077;5178</td>\n",
       "      <td>E1;L2</td>\n",
       "      <td>A37283</td>\n",
       "      <td>A37736</td>\n",
       "    </tr>\n",
       "    <tr>\n",
       "      <td>28</td>\n",
       "      <td>HTMCP-03-06-02097</td>\n",
       "      <td>HPV_59</td>\n",
       "      <td>3269;888;889;889;745;887;743</td>\n",
       "      <td>-</td>\n",
       "      <td>A37283</td>\n",
       "      <td>A37736</td>\n",
       "    </tr>\n",
       "  </tbody>\n",
       "</table>\n",
       "</div>"
      ],
      "text/plain": [
       "              patient   virus              viral-breakpoint viral-gene  \\\n",
       "27  HTMCP-03-06-02097  HPV_16                     2077;5178      E1;L2   \n",
       "28  HTMCP-03-06-02097  HPV_59  3269;888;889;889;745;887;743          -   \n",
       "\n",
       "   DNA_lib RNA_lib  \n",
       "27  A37283  A37736  \n",
       "28  A37283  A37736  "
      ]
     },
     "execution_count": 359,
     "metadata": {},
     "output_type": "execute_result"
    }
   ],
   "source": [
    "dfrf[dfrf.patient=='HTMCP-03-06-02097']"
   ]
  },
  {
   "cell_type": "code",
   "execution_count": 360,
   "metadata": {},
   "outputs": [
    {
     "data": {
      "text/plain": [
       "array(['HPV_16', 'HPV_52', 'HPV_45', 'HPV_9', 'HPV_73', 'HPV_18',\n",
       "       'HPV_58', 'HPV_59', 'HPV_31', 'HPV_26', 'HPV_33', 'HPV_82',\n",
       "       'HPV_97', 'HPV_69', 'HPV_35', 'HPV_68b', 'HPV_68a', 'HPV_30'],\n",
       "      dtype=object)"
      ]
     },
     "execution_count": 360,
     "metadata": {},
     "output_type": "execute_result"
    }
   ],
   "source": [
    "dfrf['virus'].unique()"
   ]
  },
  {
   "cell_type": "markdown",
   "metadata": {},
   "source": [
    "# merge DNA and RNA results"
   ]
  },
  {
   "cell_type": "code",
   "execution_count": 363,
   "metadata": {},
   "outputs": [
    {
     "data": {
      "text/html": [
       "<div>\n",
       "<style scoped>\n",
       "    .dataframe tbody tr th:only-of-type {\n",
       "        vertical-align: middle;\n",
       "    }\n",
       "\n",
       "    .dataframe tbody tr th {\n",
       "        vertical-align: top;\n",
       "    }\n",
       "\n",
       "    .dataframe thead th {\n",
       "        text-align: right;\n",
       "    }\n",
       "</style>\n",
       "<table border=\"1\" class=\"dataframe\">\n",
       "  <thead>\n",
       "    <tr style=\"text-align: right;\">\n",
       "      <th></th>\n",
       "      <th>patient</th>\n",
       "      <th>virus</th>\n",
       "      <th>viral-breakpoint_DNA</th>\n",
       "      <th>viral-gene_DNA</th>\n",
       "      <th>DNA_lib_DNA</th>\n",
       "      <th>RNA_lib_DNA</th>\n",
       "      <th>viral-breakpoint_RNA</th>\n",
       "      <th>viral-gene_RNA</th>\n",
       "      <th>DNA_lib_RNA</th>\n",
       "      <th>RNA_lib_RNA</th>\n",
       "    </tr>\n",
       "  </thead>\n",
       "  <tbody>\n",
       "    <tr>\n",
       "      <td>0</td>\n",
       "      <td>HTMCP-03-06-02012</td>\n",
       "      <td>HPV_73</td>\n",
       "      <td>5956</td>\n",
       "      <td>-</td>\n",
       "      <td>A37243</td>\n",
       "      <td>A37707</td>\n",
       "      <td>863;157;1959;1959</td>\n",
       "      <td>-</td>\n",
       "      <td>A37243</td>\n",
       "      <td>A37707</td>\n",
       "    </tr>\n",
       "    <tr>\n",
       "      <td>1</td>\n",
       "      <td>HTMCP-03-06-02042</td>\n",
       "      <td>HPV_16</td>\n",
       "      <td>2237;4267</td>\n",
       "      <td>E1;L2</td>\n",
       "      <td>A37255</td>\n",
       "      <td>A37717</td>\n",
       "      <td>880;226;886;881;2237;4325;881;880;3419;881;880...</td>\n",
       "      <td>E1;E6;E1;E1;E1;L2;E1;E1;E4,E2;E1;E1;E6;E1;E1</td>\n",
       "      <td>A37255</td>\n",
       "      <td>A37717</td>\n",
       "    </tr>\n",
       "    <tr>\n",
       "      <td>2</td>\n",
       "      <td>HTMCP-03-06-02046</td>\n",
       "      <td>HPV_16</td>\n",
       "      <td>2895;683;834</td>\n",
       "      <td>E2;E7;E7</td>\n",
       "      <td>A37257</td>\n",
       "      <td>A37718</td>\n",
       "      <td>2895;6539;880;7394;3356;3420;2644;881;3416;335...</td>\n",
       "      <td>E2;L1;E1;URR;E2,E4;E2,E4;E1;E1;E2,E4;E2,E4;E7;...</td>\n",
       "      <td>A37257</td>\n",
       "      <td>A37718</td>\n",
       "    </tr>\n",
       "    <tr>\n",
       "      <td>3</td>\n",
       "      <td>HTMCP-03-06-02058</td>\n",
       "      <td>HPV_18</td>\n",
       "      <td>2232;7739;7528</td>\n",
       "      <td>E1;URR;URR</td>\n",
       "      <td>A37261</td>\n",
       "      <td>A37722</td>\n",
       "      <td>6945;778;235;931;1359;931;7739;929;7528</td>\n",
       "      <td>L1;E7;E6;E1;E1;E1;URR;E1;URR</td>\n",
       "      <td>A37261</td>\n",
       "      <td>A37722</td>\n",
       "    </tr>\n",
       "    <tr>\n",
       "      <td>4</td>\n",
       "      <td>HTMCP-03-06-02063</td>\n",
       "      <td>HPV_16</td>\n",
       "      <td>2692;1774;7642</td>\n",
       "      <td>E1;E1;URR</td>\n",
       "      <td>A37266</td>\n",
       "      <td>A37725</td>\n",
       "      <td>880;1774;880;1301;226;880;880;3419;1260</td>\n",
       "      <td>E1;E1;E1;E1;E6;E1;E1;E4,E2;E1</td>\n",
       "      <td>A37266</td>\n",
       "      <td>A37725</td>\n",
       "    </tr>\n",
       "  </tbody>\n",
       "</table>\n",
       "</div>"
      ],
      "text/plain": [
       "             patient   virus viral-breakpoint_DNA viral-gene_DNA DNA_lib_DNA  \\\n",
       "0  HTMCP-03-06-02012  HPV_73                 5956              -      A37243   \n",
       "1  HTMCP-03-06-02042  HPV_16            2237;4267          E1;L2      A37255   \n",
       "2  HTMCP-03-06-02046  HPV_16         2895;683;834       E2;E7;E7      A37257   \n",
       "3  HTMCP-03-06-02058  HPV_18       2232;7739;7528     E1;URR;URR      A37261   \n",
       "4  HTMCP-03-06-02063  HPV_16       2692;1774;7642      E1;E1;URR      A37266   \n",
       "\n",
       "  RNA_lib_DNA                               viral-breakpoint_RNA  \\\n",
       "0      A37707                                  863;157;1959;1959   \n",
       "1      A37717  880;226;886;881;2237;4325;881;880;3419;881;880...   \n",
       "2      A37718  2895;6539;880;7394;3356;3420;2644;881;3416;335...   \n",
       "3      A37722            6945;778;235;931;1359;931;7739;929;7528   \n",
       "4      A37725            880;1774;880;1301;226;880;880;3419;1260   \n",
       "\n",
       "                                      viral-gene_RNA DNA_lib_RNA RNA_lib_RNA  \n",
       "0                                                  -      A37243      A37707  \n",
       "1       E1;E6;E1;E1;E1;L2;E1;E1;E4,E2;E1;E1;E6;E1;E1      A37255      A37717  \n",
       "2  E2;L1;E1;URR;E2,E4;E2,E4;E1;E1;E2,E4;E2,E4;E7;...      A37257      A37718  \n",
       "3                       L1;E7;E6;E1;E1;E1;URR;E1;URR      A37261      A37722  \n",
       "4                      E1;E1;E1;E1;E6;E1;E1;E4,E2;E1      A37266      A37725  "
      ]
     },
     "execution_count": 363,
     "metadata": {},
     "output_type": "execute_result"
    },
    {
     "data": {
      "text/plain": [
       "(124, 10)"
      ]
     },
     "execution_count": 363,
     "metadata": {},
     "output_type": "execute_result"
    }
   ],
   "source": [
    "dfm = pd.merge(dfgf, dfrf, on=['patient', 'virus'], how='outer', suffixes=('_DNA', '_RNA'))\n",
    "dfm.head()\n",
    "dfm = dfm.fillna('na')\n",
    "dfm.shape"
   ]
  },
  {
   "cell_type": "code",
   "execution_count": 364,
   "metadata": {},
   "outputs": [],
   "source": [
    "of = '/projects/trans_scratch/validations/workspace/szong/Cervical/integration/118_patient_integration_viral_20191218.tsv'\n",
    "# dfm.to_csv(of, sep='\\t', index=False)"
   ]
  },
  {
   "cell_type": "code",
   "execution_count": 415,
   "metadata": {},
   "outputs": [
    {
     "data": {
      "text/plain": [
       "(117, 8)"
      ]
     },
     "execution_count": 415,
     "metadata": {},
     "output_type": "execute_result"
    },
    {
     "data": {
      "text/html": [
       "<div>\n",
       "<style scoped>\n",
       "    .dataframe tbody tr th:only-of-type {\n",
       "        vertical-align: middle;\n",
       "    }\n",
       "\n",
       "    .dataframe tbody tr th {\n",
       "        vertical-align: top;\n",
       "    }\n",
       "\n",
       "    .dataframe thead th {\n",
       "        text-align: right;\n",
       "    }\n",
       "</style>\n",
       "<table border=\"1\" class=\"dataframe\">\n",
       "  <thead>\n",
       "    <tr style=\"text-align: right;\">\n",
       "      <th></th>\n",
       "      <th>patient</th>\n",
       "      <th>virus</th>\n",
       "      <th>viral-breakpoint_DNA</th>\n",
       "      <th>viral-gene_DNA</th>\n",
       "      <th>DNA_lib</th>\n",
       "      <th>RNA_lib</th>\n",
       "      <th>viral-breakpoint_RNA</th>\n",
       "      <th>viral-gene_RNA</th>\n",
       "    </tr>\n",
       "  </thead>\n",
       "  <tbody>\n",
       "    <tr>\n",
       "      <td>0</td>\n",
       "      <td>HTMCP-03-06-02204</td>\n",
       "      <td>HPV_18</td>\n",
       "      <td>na</td>\n",
       "      <td>na</td>\n",
       "      <td>A57086</td>\n",
       "      <td>A57113</td>\n",
       "      <td>1735</td>\n",
       "      <td>E1</td>\n",
       "    </tr>\n",
       "    <tr>\n",
       "      <td>1</td>\n",
       "      <td>HTMCP-03-06-02012</td>\n",
       "      <td>HPV_73</td>\n",
       "      <td>5956</td>\n",
       "      <td>-</td>\n",
       "      <td>A37243</td>\n",
       "      <td>A37707</td>\n",
       "      <td>863;157;1959;1959</td>\n",
       "      <td>-</td>\n",
       "    </tr>\n",
       "  </tbody>\n",
       "</table>\n",
       "</div>"
      ],
      "text/plain": [
       "             patient   virus viral-breakpoint_DNA viral-gene_DNA DNA_lib  \\\n",
       "0  HTMCP-03-06-02204  HPV_18                   na             na  A57086   \n",
       "1  HTMCP-03-06-02012  HPV_73                 5956              -  A37243   \n",
       "\n",
       "  RNA_lib viral-breakpoint_RNA viral-gene_RNA  \n",
       "0  A57113                 1735             E1  \n",
       "1  A37707    863;157;1959;1959              -  "
      ]
     },
     "execution_count": 415,
     "metadata": {},
     "output_type": "execute_result"
    }
   ],
   "source": [
    "of2 = '/projects/trans_scratch/validations/workspace/szong/Cervical/integration/118_patient_integration_viral_fixed_20191218.tsv'\n",
    "dfm = pd.read_csv(of2, sep='\\t')\n",
    "dfm.shape\n",
    "dfm.head(2)"
   ]
  },
  {
   "cell_type": "code",
   "execution_count": 416,
   "metadata": {},
   "outputs": [
    {
     "data": {
      "text/plain": [
       "(117, 8)"
      ]
     },
     "execution_count": 416,
     "metadata": {},
     "output_type": "execute_result"
    }
   ],
   "source": [
    "dfm.shape"
   ]
  },
  {
   "cell_type": "code",
   "execution_count": 417,
   "metadata": {},
   "outputs": [
    {
     "data": {
      "text/plain": [
       "(40, 8)"
      ]
     },
     "execution_count": 417,
     "metadata": {},
     "output_type": "execute_result"
    },
    {
     "data": {
      "text/plain": [
       "(29, 8)"
      ]
     },
     "execution_count": 417,
     "metadata": {},
     "output_type": "execute_result"
    }
   ],
   "source": [
    "dfm[dfm.virus == 'HPV_16'].shape\n",
    "dfm[dfm.virus == 'HPV_18'].shape"
   ]
  },
  {
   "cell_type": "code",
   "execution_count": 418,
   "metadata": {},
   "outputs": [
    {
     "data": {
      "text/plain": [
       "111"
      ]
     },
     "execution_count": 418,
     "metadata": {},
     "output_type": "execute_result"
    }
   ],
   "source": [
    "dfm.patient.nunique()"
   ]
  },
  {
   "cell_type": "code",
   "execution_count": 419,
   "metadata": {},
   "outputs": [
    {
     "data": {
      "text/html": [
       "<div>\n",
       "<style scoped>\n",
       "    .dataframe tbody tr th:only-of-type {\n",
       "        vertical-align: middle;\n",
       "    }\n",
       "\n",
       "    .dataframe tbody tr th {\n",
       "        vertical-align: top;\n",
       "    }\n",
       "\n",
       "    .dataframe thead th {\n",
       "        text-align: right;\n",
       "    }\n",
       "</style>\n",
       "<table border=\"1\" class=\"dataframe\">\n",
       "  <thead>\n",
       "    <tr style=\"text-align: right;\">\n",
       "      <th></th>\n",
       "      <th>patient</th>\n",
       "      <th>virus</th>\n",
       "      <th>comments</th>\n",
       "      <th>integration_status</th>\n",
       "      <th>should_exclude_due_to_review</th>\n",
       "      <th>DNA_human-breakpoint</th>\n",
       "      <th>DNA_human-gene(s)</th>\n",
       "      <th>RNA_human-breakpoint</th>\n",
       "      <th>RNA_human-gene(s)</th>\n",
       "    </tr>\n",
       "  </thead>\n",
       "  <tbody>\n",
       "    <tr>\n",
       "      <td>0</td>\n",
       "      <td>HTMCP-03-06-02068</td>\n",
       "      <td>HPV_59</td>\n",
       "      <td>false_positive</td>\n",
       "      <td>not_detected</td>\n",
       "      <td>YES</td>\n",
       "      <td>na</td>\n",
       "      <td>na</td>\n",
       "      <td>1_209560518</td>\n",
       "      <td>intergenic</td>\n",
       "    </tr>\n",
       "    <tr>\n",
       "      <td>1</td>\n",
       "      <td>HTMCP-03-06-02098</td>\n",
       "      <td>HPV_9</td>\n",
       "      <td>false_positive</td>\n",
       "      <td>not_detected</td>\n",
       "      <td>YES</td>\n",
       "      <td>2_137648071</td>\n",
       "      <td>THSD7B</td>\n",
       "      <td>na</td>\n",
       "      <td>na</td>\n",
       "    </tr>\n",
       "    <tr>\n",
       "      <td>2</td>\n",
       "      <td>HTMCP-03-06-02110</td>\n",
       "      <td>HPV_45</td>\n",
       "      <td>false_positive</td>\n",
       "      <td>not_detected</td>\n",
       "      <td>YES</td>\n",
       "      <td>8_128302005</td>\n",
       "      <td>DQ515899,DQ515898,LOC727677</td>\n",
       "      <td>na</td>\n",
       "      <td>na</td>\n",
       "    </tr>\n",
       "    <tr>\n",
       "      <td>3</td>\n",
       "      <td>HTMCP-03-06-02176</td>\n",
       "      <td>HPV_58</td>\n",
       "      <td>false_positive</td>\n",
       "      <td>not_detected</td>\n",
       "      <td>YES</td>\n",
       "      <td>4_140811717</td>\n",
       "      <td>MAML3</td>\n",
       "      <td>4_140811717</td>\n",
       "      <td>MAML3</td>\n",
       "    </tr>\n",
       "    <tr>\n",
       "      <td>4</td>\n",
       "      <td>HTMCP-03-06-02006</td>\n",
       "      <td>HPV_18</td>\n",
       "      <td>hpv18_false_positive</td>\n",
       "      <td>not_detected</td>\n",
       "      <td>YES</td>\n",
       "      <td>na</td>\n",
       "      <td>na</td>\n",
       "      <td>-</td>\n",
       "      <td>-</td>\n",
       "    </tr>\n",
       "  </tbody>\n",
       "</table>\n",
       "</div>"
      ],
      "text/plain": [
       "             patient   virus              comments integration_status  \\\n",
       "0  HTMCP-03-06-02068  HPV_59        false_positive       not_detected   \n",
       "1  HTMCP-03-06-02098   HPV_9        false_positive       not_detected   \n",
       "2  HTMCP-03-06-02110  HPV_45        false_positive       not_detected   \n",
       "3  HTMCP-03-06-02176  HPV_58        false_positive       not_detected   \n",
       "4  HTMCP-03-06-02006  HPV_18  hpv18_false_positive       not_detected   \n",
       "\n",
       "  should_exclude_due_to_review DNA_human-breakpoint  \\\n",
       "0                          YES                   na   \n",
       "1                          YES          2_137648071   \n",
       "2                          YES          8_128302005   \n",
       "3                          YES          4_140811717   \n",
       "4                          YES                   na   \n",
       "\n",
       "             DNA_human-gene(s) RNA_human-breakpoint RNA_human-gene(s)  \n",
       "0                           na          1_209560518        intergenic  \n",
       "1                       THSD7B                   na                na  \n",
       "2  DQ515899,DQ515898,LOC727677                   na                na  \n",
       "3                        MAML3          4_140811717             MAML3  \n",
       "4                           na                    -                 -  "
      ]
     },
     "execution_count": 419,
     "metadata": {},
     "output_type": "execute_result"
    },
    {
     "data": {
      "text/plain": [
       "(179, 9)"
      ]
     },
     "execution_count": 419,
     "metadata": {},
     "output_type": "execute_result"
    }
   ],
   "source": [
    "f5 = '/projects/trans_scratch/validations/workspace/szong/Cervical/integration/118_patients_integration_details_merged_comparison_to_review_apv_removed_20190729_excel_cleaned.xls'\n",
    "df5 = pd.read_excel(f5, sep='\\t')\n",
    "df5.head()\n",
    "df5.shape"
   ]
  },
  {
   "cell_type": "code",
   "execution_count": 420,
   "metadata": {},
   "outputs": [
    {
     "data": {
      "text/plain": [
       "(113, 9)"
      ]
     },
     "execution_count": 420,
     "metadata": {},
     "output_type": "execute_result"
    },
    {
     "data": {
      "text/plain": [
       "array(['integrated'], dtype=object)"
      ]
     },
     "execution_count": 420,
     "metadata": {},
     "output_type": "execute_result"
    },
    {
     "data": {
      "text/plain": [
       "110"
      ]
     },
     "execution_count": 420,
     "metadata": {},
     "output_type": "execute_result"
    },
    {
     "data": {
      "text/plain": [
       "16"
      ]
     },
     "execution_count": 420,
     "metadata": {},
     "output_type": "execute_result"
    }
   ],
   "source": [
    "dfi = df5[df5.integration_status=='integrated']\n",
    "dfi.shape\n",
    "dfi.integration_status.unique()\n",
    "pat1 = dfi.patient.unique()\n",
    "len(pat1)\n",
    "virus1 = dfi.virus.unique()\n",
    "len(virus1)"
   ]
  },
  {
   "cell_type": "code",
   "execution_count": 421,
   "metadata": {},
   "outputs": [
    {
     "data": {
      "text/plain": [
       "111"
      ]
     },
     "execution_count": 421,
     "metadata": {},
     "output_type": "execute_result"
    },
    {
     "data": {
      "text/plain": [
       "17"
      ]
     },
     "execution_count": 421,
     "metadata": {},
     "output_type": "execute_result"
    }
   ],
   "source": [
    "pat2 = dfm.patient.unique()\n",
    "len(pat2)\n",
    "virus2 = dfm.virus.unique()\n",
    "len(virus2)"
   ]
  },
  {
   "cell_type": "code",
   "execution_count": 422,
   "metadata": {},
   "outputs": [
    {
     "data": {
      "text/html": [
       "<div>\n",
       "<style scoped>\n",
       "    .dataframe tbody tr th:only-of-type {\n",
       "        vertical-align: middle;\n",
       "    }\n",
       "\n",
       "    .dataframe tbody tr th {\n",
       "        vertical-align: top;\n",
       "    }\n",
       "\n",
       "    .dataframe thead th {\n",
       "        text-align: right;\n",
       "    }\n",
       "</style>\n",
       "<table border=\"1\" class=\"dataframe\">\n",
       "  <thead>\n",
       "    <tr style=\"text-align: right;\">\n",
       "      <th></th>\n",
       "      <th>patient</th>\n",
       "      <th>virus</th>\n",
       "      <th>viral-breakpoint_DNA</th>\n",
       "      <th>viral-gene_DNA</th>\n",
       "      <th>DNA_lib</th>\n",
       "      <th>RNA_lib</th>\n",
       "      <th>viral-breakpoint_RNA</th>\n",
       "      <th>viral-gene_RNA</th>\n",
       "    </tr>\n",
       "  </thead>\n",
       "  <tbody>\n",
       "    <tr>\n",
       "      <td>0</td>\n",
       "      <td>HTMCP-03-06-02204</td>\n",
       "      <td>HPV_18</td>\n",
       "      <td>na</td>\n",
       "      <td>na</td>\n",
       "      <td>A57086</td>\n",
       "      <td>A57113</td>\n",
       "      <td>1735</td>\n",
       "      <td>E1</td>\n",
       "    </tr>\n",
       "    <tr>\n",
       "      <td>1</td>\n",
       "      <td>HTMCP-03-06-02012</td>\n",
       "      <td>HPV_73</td>\n",
       "      <td>5956</td>\n",
       "      <td>-</td>\n",
       "      <td>A37243</td>\n",
       "      <td>A37707</td>\n",
       "      <td>863;157;1959;1959</td>\n",
       "      <td>-</td>\n",
       "    </tr>\n",
       "    <tr>\n",
       "      <td>2</td>\n",
       "      <td>HTMCP-03-06-02042</td>\n",
       "      <td>HPV_16</td>\n",
       "      <td>2237;4267</td>\n",
       "      <td>E1;L2</td>\n",
       "      <td>A37255</td>\n",
       "      <td>A37717</td>\n",
       "      <td>880;226;886;881;2237;4325;881;880;3419;881;880...</td>\n",
       "      <td>E1;E6;E1;E1;E1;L2;E1;E1;E4,E2;E1;E1;E6;E1;E1</td>\n",
       "    </tr>\n",
       "    <tr>\n",
       "      <td>3</td>\n",
       "      <td>HTMCP-03-06-02046</td>\n",
       "      <td>HPV_16</td>\n",
       "      <td>2895;683;834</td>\n",
       "      <td>E2;E7;E7</td>\n",
       "      <td>A37257</td>\n",
       "      <td>A37718</td>\n",
       "      <td>2895;6539;880;7394;3356;3420;2644;881;3416;335...</td>\n",
       "      <td>E2;L1;E1;URR;E2,E4;E2,E4;E1;E1;E2,E4;E2,E4;E7;...</td>\n",
       "    </tr>\n",
       "    <tr>\n",
       "      <td>4</td>\n",
       "      <td>HTMCP-03-06-02058</td>\n",
       "      <td>HPV_18</td>\n",
       "      <td>2232;7739;7528</td>\n",
       "      <td>E1;URR;URR</td>\n",
       "      <td>A37261</td>\n",
       "      <td>A37722</td>\n",
       "      <td>6945;778;235;931;1359;931;7739;929;7528</td>\n",
       "      <td>L1;E7;E6;E1;E1;E1;URR;E1;URR</td>\n",
       "    </tr>\n",
       "  </tbody>\n",
       "</table>\n",
       "</div>"
      ],
      "text/plain": [
       "             patient   virus viral-breakpoint_DNA viral-gene_DNA DNA_lib  \\\n",
       "0  HTMCP-03-06-02204  HPV_18                   na             na  A57086   \n",
       "1  HTMCP-03-06-02012  HPV_73                 5956              -  A37243   \n",
       "2  HTMCP-03-06-02042  HPV_16            2237;4267          E1;L2  A37255   \n",
       "3  HTMCP-03-06-02046  HPV_16         2895;683;834       E2;E7;E7  A37257   \n",
       "4  HTMCP-03-06-02058  HPV_18       2232;7739;7528     E1;URR;URR  A37261   \n",
       "\n",
       "  RNA_lib                               viral-breakpoint_RNA  \\\n",
       "0  A57113                                               1735   \n",
       "1  A37707                                  863;157;1959;1959   \n",
       "2  A37717  880;226;886;881;2237;4325;881;880;3419;881;880...   \n",
       "3  A37718  2895;6539;880;7394;3356;3420;2644;881;3416;335...   \n",
       "4  A37722            6945;778;235;931;1359;931;7739;929;7528   \n",
       "\n",
       "                                      viral-gene_RNA  \n",
       "0                                                 E1  \n",
       "1                                                  -  \n",
       "2       E1;E6;E1;E1;E1;L2;E1;E1;E4,E2;E1;E1;E6;E1;E1  \n",
       "3  E2;L1;E1;URR;E2,E4;E2,E4;E1;E1;E2,E4;E2,E4;E7;...  \n",
       "4                       L1;E7;E6;E1;E1;E1;URR;E1;URR  "
      ]
     },
     "execution_count": 422,
     "metadata": {},
     "output_type": "execute_result"
    }
   ],
   "source": [
    "dfm.head()"
   ]
  },
  {
   "cell_type": "code",
   "execution_count": 423,
   "metadata": {},
   "outputs": [
    {
     "data": {
      "text/plain": [
       "set()"
      ]
     },
     "execution_count": 423,
     "metadata": {},
     "output_type": "execute_result"
    },
    {
     "data": {
      "text/plain": [
       "{'HTMCP-03-06-02217'}"
      ]
     },
     "execution_count": 423,
     "metadata": {},
     "output_type": "execute_result"
    }
   ],
   "source": [
    "set(pat1) - set(pat2)\n",
    "set(pat2) - set(pat1)"
   ]
  },
  {
   "cell_type": "code",
   "execution_count": 424,
   "metadata": {},
   "outputs": [
    {
     "data": {
      "text/plain": [
       "{'HPV_68'}"
      ]
     },
     "execution_count": 424,
     "metadata": {},
     "output_type": "execute_result"
    },
    {
     "data": {
      "text/plain": [
       "{'HPV_68a', 'HPV_68b'}"
      ]
     },
     "execution_count": 424,
     "metadata": {},
     "output_type": "execute_result"
    }
   ],
   "source": [
    "set(virus1) - set(virus2)\n",
    "set(virus2) - set(virus1)"
   ]
  },
  {
   "cell_type": "code",
   "execution_count": 406,
   "metadata": {},
   "outputs": [],
   "source": [
    "# removed these three lines from the dfm to reflect review findings:\n",
    "# HTMCP-03-06-02179\tHPV_97\t7757\t-\tA54381\tA54473\tna\tna\n",
    "# HTMCP-03-06-02259\tHPV_97\t7701\t-\tA68233\tA68252\tna\tna\n",
    "# HTMCP-03-06-02219\tHPV_97\tna\tna\tA57089\tA57116\t3579\tNA\n"
   ]
  },
  {
   "cell_type": "markdown",
   "metadata": {},
   "source": [
    "HTMCP-03-06-02204 determined integrated by reviewing, so understandable does not report viral breakpoint by pipeline, HPV18 integration was found in HTMCP-03-06-02204 HPV18 breakpoint appears to be near 1735, E1 gene."
   ]
  },
  {
   "cell_type": "code",
   "execution_count": 349,
   "metadata": {},
   "outputs": [
    {
     "data": {
      "text/html": [
       "<div>\n",
       "<style scoped>\n",
       "    .dataframe tbody tr th:only-of-type {\n",
       "        vertical-align: middle;\n",
       "    }\n",
       "\n",
       "    .dataframe tbody tr th {\n",
       "        vertical-align: top;\n",
       "    }\n",
       "\n",
       "    .dataframe thead th {\n",
       "        text-align: right;\n",
       "    }\n",
       "</style>\n",
       "<table border=\"1\" class=\"dataframe\">\n",
       "  <thead>\n",
       "    <tr style=\"text-align: right;\">\n",
       "      <th></th>\n",
       "      <th>patient</th>\n",
       "      <th>virus</th>\n",
       "      <th>viral-breakpoint_DNA</th>\n",
       "      <th>viral-gene_DNA</th>\n",
       "      <th>DNA_lib_DNA</th>\n",
       "      <th>RNA_lib_DNA</th>\n",
       "      <th>viral-breakpoint_RNA</th>\n",
       "      <th>viral-gene_RNA</th>\n",
       "      <th>DNA_lib_RNA</th>\n",
       "      <th>RNA_lib_RNA</th>\n",
       "    </tr>\n",
       "  </thead>\n",
       "  <tbody>\n",
       "  </tbody>\n",
       "</table>\n",
       "</div>"
      ],
      "text/plain": [
       "Empty DataFrame\n",
       "Columns: [patient, virus, viral-breakpoint_DNA, viral-gene_DNA, DNA_lib_DNA, RNA_lib_DNA, viral-breakpoint_RNA, viral-gene_RNA, DNA_lib_RNA, RNA_lib_RNA]\n",
       "Index: []"
      ]
     },
     "execution_count": 349,
     "metadata": {},
     "output_type": "execute_result"
    },
    {
     "data": {
      "text/html": [
       "<div>\n",
       "<style scoped>\n",
       "    .dataframe tbody tr th:only-of-type {\n",
       "        vertical-align: middle;\n",
       "    }\n",
       "\n",
       "    .dataframe tbody tr th {\n",
       "        vertical-align: top;\n",
       "    }\n",
       "\n",
       "    .dataframe thead th {\n",
       "        text-align: right;\n",
       "    }\n",
       "</style>\n",
       "<table border=\"1\" class=\"dataframe\">\n",
       "  <thead>\n",
       "    <tr style=\"text-align: right;\">\n",
       "      <th></th>\n",
       "      <th>patient</th>\n",
       "      <th>virus</th>\n",
       "      <th>comments</th>\n",
       "      <th>integration_status</th>\n",
       "      <th>should_exclude_due_to_review</th>\n",
       "      <th>DNA_human-breakpoint</th>\n",
       "      <th>DNA_human-gene(s)</th>\n",
       "      <th>RNA_human-breakpoint</th>\n",
       "      <th>RNA_human-gene(s)</th>\n",
       "    </tr>\n",
       "  </thead>\n",
       "  <tbody>\n",
       "    <tr>\n",
       "      <td>32</td>\n",
       "      <td>HTMCP-03-06-02204</td>\n",
       "      <td>HPV_18</td>\n",
       "      <td>reviewed_confirmed_hpv18_integration</td>\n",
       "      <td>integrated</td>\n",
       "      <td>NO</td>\n",
       "      <td>na</td>\n",
       "      <td>na</td>\n",
       "      <td>19_42217693</td>\n",
       "      <td>-</td>\n",
       "    </tr>\n",
       "  </tbody>\n",
       "</table>\n",
       "</div>"
      ],
      "text/plain": [
       "              patient   virus                              comments  \\\n",
       "32  HTMCP-03-06-02204  HPV_18  reviewed_confirmed_hpv18_integration   \n",
       "\n",
       "   integration_status should_exclude_due_to_review DNA_human-breakpoint  \\\n",
       "32         integrated                           NO                   na   \n",
       "\n",
       "   DNA_human-gene(s) RNA_human-breakpoint RNA_human-gene(s)  \n",
       "32                na          19_42217693                 -  "
      ]
     },
     "execution_count": 349,
     "metadata": {},
     "output_type": "execute_result"
    },
    {
     "data": {
      "text/html": [
       "<div>\n",
       "<style scoped>\n",
       "    .dataframe tbody tr th:only-of-type {\n",
       "        vertical-align: middle;\n",
       "    }\n",
       "\n",
       "    .dataframe tbody tr th {\n",
       "        vertical-align: top;\n",
       "    }\n",
       "\n",
       "    .dataframe thead th {\n",
       "        text-align: right;\n",
       "    }\n",
       "</style>\n",
       "<table border=\"1\" class=\"dataframe\">\n",
       "  <thead>\n",
       "    <tr style=\"text-align: right;\">\n",
       "      <th></th>\n",
       "      <th>patient</th>\n",
       "      <th>virus</th>\n",
       "      <th>viral-breakpoint_DNA</th>\n",
       "      <th>viral-gene_DNA</th>\n",
       "      <th>DNA_lib_DNA</th>\n",
       "      <th>RNA_lib_DNA</th>\n",
       "      <th>viral-breakpoint_RNA</th>\n",
       "      <th>viral-gene_RNA</th>\n",
       "      <th>DNA_lib_RNA</th>\n",
       "      <th>RNA_lib_RNA</th>\n",
       "    </tr>\n",
       "  </thead>\n",
       "  <tbody>\n",
       "    <tr>\n",
       "      <td>98</td>\n",
       "      <td>HTMCP-03-06-02217</td>\n",
       "      <td>HPV_16</td>\n",
       "      <td>NaN</td>\n",
       "      <td>NaN</td>\n",
       "      <td>NaN</td>\n",
       "      <td>NaN</td>\n",
       "      <td>227;881;881;1319;3432;3452</td>\n",
       "      <td>NA</td>\n",
       "      <td>A57088</td>\n",
       "      <td>A57115</td>\n",
       "    </tr>\n",
       "    <tr>\n",
       "      <td>99</td>\n",
       "      <td>HTMCP-03-06-02217</td>\n",
       "      <td>HPV_18</td>\n",
       "      <td>NaN</td>\n",
       "      <td>NaN</td>\n",
       "      <td>NaN</td>\n",
       "      <td>NaN</td>\n",
       "      <td>929</td>\n",
       "      <td>NA</td>\n",
       "      <td>A57088</td>\n",
       "      <td>A57115</td>\n",
       "    </tr>\n",
       "  </tbody>\n",
       "</table>\n",
       "</div>"
      ],
      "text/plain": [
       "              patient   virus viral-breakpoint_DNA viral-gene_DNA DNA_lib_DNA  \\\n",
       "98  HTMCP-03-06-02217  HPV_16                  NaN            NaN         NaN   \n",
       "99  HTMCP-03-06-02217  HPV_18                  NaN            NaN         NaN   \n",
       "\n",
       "   RNA_lib_DNA        viral-breakpoint_RNA viral-gene_RNA DNA_lib_RNA  \\\n",
       "98         NaN  227;881;881;1319;3432;3452             NA      A57088   \n",
       "99         NaN                         929             NA      A57088   \n",
       "\n",
       "   RNA_lib_RNA  \n",
       "98      A57115  \n",
       "99      A57115  "
      ]
     },
     "execution_count": 349,
     "metadata": {},
     "output_type": "execute_result"
    },
    {
     "data": {
      "text/html": [
       "<div>\n",
       "<style scoped>\n",
       "    .dataframe tbody tr th:only-of-type {\n",
       "        vertical-align: middle;\n",
       "    }\n",
       "\n",
       "    .dataframe tbody tr th {\n",
       "        vertical-align: top;\n",
       "    }\n",
       "\n",
       "    .dataframe thead th {\n",
       "        text-align: right;\n",
       "    }\n",
       "</style>\n",
       "<table border=\"1\" class=\"dataframe\">\n",
       "  <thead>\n",
       "    <tr style=\"text-align: right;\">\n",
       "      <th></th>\n",
       "      <th>patient</th>\n",
       "      <th>virus</th>\n",
       "      <th>comments</th>\n",
       "      <th>integration_status</th>\n",
       "      <th>should_exclude_due_to_review</th>\n",
       "      <th>DNA_human-breakpoint</th>\n",
       "      <th>DNA_human-gene(s)</th>\n",
       "      <th>RNA_human-breakpoint</th>\n",
       "      <th>RNA_human-gene(s)</th>\n",
       "    </tr>\n",
       "  </thead>\n",
       "  <tbody>\n",
       "  </tbody>\n",
       "</table>\n",
       "</div>"
      ],
      "text/plain": [
       "Empty DataFrame\n",
       "Columns: [patient, virus, comments, integration_status, should_exclude_due_to_review, DNA_human-breakpoint, DNA_human-gene(s), RNA_human-breakpoint, RNA_human-gene(s)]\n",
       "Index: []"
      ]
     },
     "execution_count": 349,
     "metadata": {},
     "output_type": "execute_result"
    }
   ],
   "source": [
    "for p in ['HTMCP-03-06-02204','HTMCP-03-06-02217']:\n",
    "    dfm[dfm['patient'] == p]\n",
    "    dfi[dfi.patient== p]\n",
    "    "
   ]
  },
  {
   "cell_type": "code",
   "execution_count": 351,
   "metadata": {},
   "outputs": [
    {
     "data": {
      "text/html": [
       "<div>\n",
       "<style scoped>\n",
       "    .dataframe tbody tr th:only-of-type {\n",
       "        vertical-align: middle;\n",
       "    }\n",
       "\n",
       "    .dataframe tbody tr th {\n",
       "        vertical-align: top;\n",
       "    }\n",
       "\n",
       "    .dataframe thead th {\n",
       "        text-align: right;\n",
       "    }\n",
       "</style>\n",
       "<table border=\"1\" class=\"dataframe\">\n",
       "  <thead>\n",
       "    <tr style=\"text-align: right;\">\n",
       "      <th></th>\n",
       "      <th>library</th>\n",
       "      <th>virus</th>\n",
       "      <th>Integration</th>\n",
       "      <th>human-breakpoint</th>\n",
       "      <th>human-gene(s)</th>\n",
       "      <th>viral-breakpoint</th>\n",
       "      <th>viral-gene</th>\n",
       "      <th>Tissue Site</th>\n",
       "      <th>HIV status</th>\n",
       "      <th>GSC original source ID</th>\n",
       "      <th>patient</th>\n",
       "      <th>DNA_lib</th>\n",
       "      <th>status</th>\n",
       "      <th>RNA_lib</th>\n",
       "    </tr>\n",
       "  </thead>\n",
       "  <tbody>\n",
       "    <tr>\n",
       "      <td>504</td>\n",
       "      <td>A57115</td>\n",
       "      <td>HPV_16</td>\n",
       "      <td>YES</td>\n",
       "      <td>4_8848052</td>\n",
       "      <td>intergenic</td>\n",
       "      <td>227</td>\n",
       "      <td>NA</td>\n",
       "      <td>Cervix</td>\n",
       "      <td>Positive</td>\n",
       "      <td>HTMCP_403</td>\n",
       "      <td>HTMCP-03-06-02217</td>\n",
       "      <td>A57088</td>\n",
       "      <td>Malignant</td>\n",
       "      <td>A57115</td>\n",
       "    </tr>\n",
       "    <tr>\n",
       "      <td>505</td>\n",
       "      <td>A57115</td>\n",
       "      <td>HPV_16</td>\n",
       "      <td>YES</td>\n",
       "      <td>4_8848057</td>\n",
       "      <td>intergenic</td>\n",
       "      <td>881</td>\n",
       "      <td>NA</td>\n",
       "      <td>Cervix</td>\n",
       "      <td>Positive</td>\n",
       "      <td>HTMCP_403</td>\n",
       "      <td>HTMCP-03-06-02217</td>\n",
       "      <td>A57088</td>\n",
       "      <td>Malignant</td>\n",
       "      <td>A57115</td>\n",
       "    </tr>\n",
       "    <tr>\n",
       "      <td>506</td>\n",
       "      <td>A57115</td>\n",
       "      <td>HPV_16</td>\n",
       "      <td>YES</td>\n",
       "      <td>4_8848715</td>\n",
       "      <td>intergenic</td>\n",
       "      <td>881</td>\n",
       "      <td>NA</td>\n",
       "      <td>Cervix</td>\n",
       "      <td>Positive</td>\n",
       "      <td>HTMCP_403</td>\n",
       "      <td>HTMCP-03-06-02217</td>\n",
       "      <td>A57088</td>\n",
       "      <td>Malignant</td>\n",
       "      <td>A57115</td>\n",
       "    </tr>\n",
       "    <tr>\n",
       "      <td>507</td>\n",
       "      <td>A57115</td>\n",
       "      <td>HPV_16</td>\n",
       "      <td>YES</td>\n",
       "      <td>4_8849923</td>\n",
       "      <td>intergenic</td>\n",
       "      <td>1319</td>\n",
       "      <td>NA</td>\n",
       "      <td>Cervix</td>\n",
       "      <td>Positive</td>\n",
       "      <td>HTMCP_403</td>\n",
       "      <td>HTMCP-03-06-02217</td>\n",
       "      <td>A57088</td>\n",
       "      <td>Malignant</td>\n",
       "      <td>A57115</td>\n",
       "    </tr>\n",
       "    <tr>\n",
       "      <td>508</td>\n",
       "      <td>A57115</td>\n",
       "      <td>HPV_16</td>\n",
       "      <td>YES</td>\n",
       "      <td>4_8849938</td>\n",
       "      <td>intergenic</td>\n",
       "      <td>3432</td>\n",
       "      <td>NA</td>\n",
       "      <td>Cervix</td>\n",
       "      <td>Positive</td>\n",
       "      <td>HTMCP_403</td>\n",
       "      <td>HTMCP-03-06-02217</td>\n",
       "      <td>A57088</td>\n",
       "      <td>Malignant</td>\n",
       "      <td>A57115</td>\n",
       "    </tr>\n",
       "    <tr>\n",
       "      <td>509</td>\n",
       "      <td>A57115</td>\n",
       "      <td>HPV_16</td>\n",
       "      <td>YES</td>\n",
       "      <td>4_8850618</td>\n",
       "      <td>intergenic</td>\n",
       "      <td>3452</td>\n",
       "      <td>NA</td>\n",
       "      <td>Cervix</td>\n",
       "      <td>Positive</td>\n",
       "      <td>HTMCP_403</td>\n",
       "      <td>HTMCP-03-06-02217</td>\n",
       "      <td>A57088</td>\n",
       "      <td>Malignant</td>\n",
       "      <td>A57115</td>\n",
       "    </tr>\n",
       "    <tr>\n",
       "      <td>510</td>\n",
       "      <td>A57115</td>\n",
       "      <td>HPV_18</td>\n",
       "      <td>YES</td>\n",
       "      <td>19_42218888</td>\n",
       "      <td>CEACAM5</td>\n",
       "      <td>929</td>\n",
       "      <td>NA</td>\n",
       "      <td>Cervix</td>\n",
       "      <td>Positive</td>\n",
       "      <td>HTMCP_403</td>\n",
       "      <td>HTMCP-03-06-02217</td>\n",
       "      <td>A57088</td>\n",
       "      <td>Malignant</td>\n",
       "      <td>A57115</td>\n",
       "    </tr>\n",
       "    <tr>\n",
       "      <td>511</td>\n",
       "      <td>A57115</td>\n",
       "      <td>Alphapapillomavirus 9 isolate IARC1100085,</td>\n",
       "      <td>NO</td>\n",
       "      <td>-</td>\n",
       "      <td>-</td>\n",
       "      <td>-</td>\n",
       "      <td>-</td>\n",
       "      <td>Cervix</td>\n",
       "      <td>Positive</td>\n",
       "      <td>HTMCP_403</td>\n",
       "      <td>HTMCP-03-06-02217</td>\n",
       "      <td>A57088</td>\n",
       "      <td>Malignant</td>\n",
       "      <td>A57115</td>\n",
       "    </tr>\n",
       "    <tr>\n",
       "      <td>512</td>\n",
       "      <td>A57115</td>\n",
       "      <td>Alphapapillomavirus 9 isolate PAP0966,</td>\n",
       "      <td>NO</td>\n",
       "      <td>-</td>\n",
       "      <td>-</td>\n",
       "      <td>-</td>\n",
       "      <td>-</td>\n",
       "      <td>Cervix</td>\n",
       "      <td>Positive</td>\n",
       "      <td>HTMCP_403</td>\n",
       "      <td>HTMCP-03-06-02217</td>\n",
       "      <td>A57088</td>\n",
       "      <td>Malignant</td>\n",
       "      <td>A57115</td>\n",
       "    </tr>\n",
       "  </tbody>\n",
       "</table>\n",
       "</div>"
      ],
      "text/plain": [
       "    library                                       virus Integration  \\\n",
       "504  A57115                                      HPV_16         YES   \n",
       "505  A57115                                      HPV_16         YES   \n",
       "506  A57115                                      HPV_16         YES   \n",
       "507  A57115                                      HPV_16         YES   \n",
       "508  A57115                                      HPV_16         YES   \n",
       "509  A57115                                      HPV_16         YES   \n",
       "510  A57115                                      HPV_18         YES   \n",
       "511  A57115  Alphapapillomavirus 9 isolate IARC1100085,          NO   \n",
       "512  A57115      Alphapapillomavirus 9 isolate PAP0966,          NO   \n",
       "\n",
       "    human-breakpoint human-gene(s) viral-breakpoint viral-gene Tissue Site  \\\n",
       "504        4_8848052    intergenic              227         NA      Cervix   \n",
       "505        4_8848057    intergenic              881         NA      Cervix   \n",
       "506        4_8848715    intergenic              881         NA      Cervix   \n",
       "507        4_8849923    intergenic             1319         NA      Cervix   \n",
       "508        4_8849938    intergenic             3432         NA      Cervix   \n",
       "509        4_8850618    intergenic             3452         NA      Cervix   \n",
       "510      19_42218888       CEACAM5              929         NA      Cervix   \n",
       "511                -             -                -          -      Cervix   \n",
       "512                -             -                -          -      Cervix   \n",
       "\n",
       "    HIV status GSC original source ID            patient DNA_lib     status  \\\n",
       "504   Positive              HTMCP_403  HTMCP-03-06-02217  A57088  Malignant   \n",
       "505   Positive              HTMCP_403  HTMCP-03-06-02217  A57088  Malignant   \n",
       "506   Positive              HTMCP_403  HTMCP-03-06-02217  A57088  Malignant   \n",
       "507   Positive              HTMCP_403  HTMCP-03-06-02217  A57088  Malignant   \n",
       "508   Positive              HTMCP_403  HTMCP-03-06-02217  A57088  Malignant   \n",
       "509   Positive              HTMCP_403  HTMCP-03-06-02217  A57088  Malignant   \n",
       "510   Positive              HTMCP_403  HTMCP-03-06-02217  A57088  Malignant   \n",
       "511   Positive              HTMCP_403  HTMCP-03-06-02217  A57088  Malignant   \n",
       "512   Positive              HTMCP_403  HTMCP-03-06-02217  A57088  Malignant   \n",
       "\n",
       "    RNA_lib  \n",
       "504  A57115  \n",
       "505  A57115  \n",
       "506  A57115  \n",
       "507  A57115  \n",
       "508  A57115  \n",
       "509  A57115  \n",
       "510  A57115  \n",
       "511  A57115  \n",
       "512  A57115  "
      ]
     },
     "execution_count": 351,
     "metadata": {},
     "output_type": "execute_result"
    }
   ],
   "source": [
    "dfrm[dfrm.patient == 'HTMCP-03-06-02217']"
   ]
  },
  {
   "cell_type": "code",
   "execution_count": 352,
   "metadata": {},
   "outputs": [
    {
     "data": {
      "text/html": [
       "<div>\n",
       "<style scoped>\n",
       "    .dataframe tbody tr th:only-of-type {\n",
       "        vertical-align: middle;\n",
       "    }\n",
       "\n",
       "    .dataframe tbody tr th {\n",
       "        vertical-align: top;\n",
       "    }\n",
       "\n",
       "    .dataframe thead th {\n",
       "        text-align: right;\n",
       "    }\n",
       "</style>\n",
       "<table border=\"1\" class=\"dataframe\">\n",
       "  <thead>\n",
       "    <tr style=\"text-align: right;\">\n",
       "      <th></th>\n",
       "      <th>patient</th>\n",
       "      <th>virus</th>\n",
       "      <th>comments</th>\n",
       "      <th>integration_status</th>\n",
       "      <th>should_exclude_due_to_review</th>\n",
       "      <th>DNA_human-breakpoint</th>\n",
       "      <th>DNA_human-gene(s)</th>\n",
       "      <th>RNA_human-breakpoint</th>\n",
       "      <th>RNA_human-gene(s)</th>\n",
       "    </tr>\n",
       "  </thead>\n",
       "  <tbody>\n",
       "    <tr>\n",
       "      <td>23</td>\n",
       "      <td>HTMCP-03-06-02217</td>\n",
       "      <td>HPV_16</td>\n",
       "      <td>E6_7_expressed</td>\n",
       "      <td>unintegrated</td>\n",
       "      <td>NO</td>\n",
       "      <td>na</td>\n",
       "      <td>na</td>\n",
       "      <td>-</td>\n",
       "      <td>-</td>\n",
       "    </tr>\n",
       "  </tbody>\n",
       "</table>\n",
       "</div>"
      ],
      "text/plain": [
       "              patient   virus        comments integration_status  \\\n",
       "23  HTMCP-03-06-02217  HPV_16  E6_7_expressed       unintegrated   \n",
       "\n",
       "   should_exclude_due_to_review DNA_human-breakpoint DNA_human-gene(s)  \\\n",
       "23                           NO                   na                na   \n",
       "\n",
       "   RNA_human-breakpoint RNA_human-gene(s)  \n",
       "23                    -                 -  "
      ]
     },
     "execution_count": 352,
     "metadata": {},
     "output_type": "execute_result"
    }
   ],
   "source": [
    "df5[df5.patient == 'HTMCP-03-06-02217']"
   ]
  },
  {
   "cell_type": "code",
   "execution_count": null,
   "metadata": {},
   "outputs": [],
   "source": []
  },
  {
   "cell_type": "markdown",
   "metadata": {},
   "source": [
    "# meta data"
   ]
  },
  {
   "cell_type": "code",
   "execution_count": 151,
   "metadata": {},
   "outputs": [
    {
     "data": {
      "text/html": [
       "<div>\n",
       "<style scoped>\n",
       "    .dataframe tbody tr th:only-of-type {\n",
       "        vertical-align: middle;\n",
       "    }\n",
       "\n",
       "    .dataframe tbody tr th {\n",
       "        vertical-align: top;\n",
       "    }\n",
       "\n",
       "    .dataframe thead th {\n",
       "        text-align: right;\n",
       "    }\n",
       "</style>\n",
       "<table border=\"1\" class=\"dataframe\">\n",
       "  <thead>\n",
       "    <tr style=\"text-align: right;\">\n",
       "      <th></th>\n",
       "      <th>Biospecimen ID</th>\n",
       "      <th>Tissue Status</th>\n",
       "      <th>Tissue Site</th>\n",
       "      <th>HIV status</th>\n",
       "      <th>DNA Library ID</th>\n",
       "      <th>GSC original source ID</th>\n",
       "    </tr>\n",
       "  </thead>\n",
       "  <tbody>\n",
       "    <tr>\n",
       "      <td>0</td>\n",
       "      <td>HTMCP-03-06-02001</td>\n",
       "      <td>Malignant</td>\n",
       "      <td>Cervix</td>\n",
       "      <td>positive</td>\n",
       "      <td>A37234</td>\n",
       "      <td>HTMCP_124</td>\n",
       "    </tr>\n",
       "    <tr>\n",
       "      <td>1</td>\n",
       "      <td>HTMCP-03-06-02001</td>\n",
       "      <td>Normal</td>\n",
       "      <td>Peripheral blood</td>\n",
       "      <td>positive</td>\n",
       "      <td>A37159</td>\n",
       "      <td>HTMCP_176</td>\n",
       "    </tr>\n",
       "  </tbody>\n",
       "</table>\n",
       "</div>"
      ],
      "text/plain": [
       "      Biospecimen ID Tissue Status       Tissue Site HIV status  \\\n",
       "0  HTMCP-03-06-02001     Malignant            Cervix   positive   \n",
       "1  HTMCP-03-06-02001        Normal  Peripheral blood   positive   \n",
       "\n",
       "  DNA Library ID GSC original source ID  \n",
       "0         A37234              HTMCP_124  \n",
       "1         A37159              HTMCP_176  "
      ]
     },
     "execution_count": 151,
     "metadata": {},
     "output_type": "execute_result"
    }
   ],
   "source": [
    "f = '/home/szong/projects/meta/META_2019/Master_Sample_table_14X292_20190910_SZ.xls'\n",
    "df = pd.read_excel(f, sheet_name='HIV Cervical Genome', \n",
    "                   usecols=['Biospecimen ID', 'Tissue Status', 'Tissue Site', \n",
    "                            'HIV status', 'DNA Library ID', 'GSC original source ID'])\n",
    "# both works\n",
    "# df['Biospecimen ID'] = df['Biospecimen ID'].str.split('-').apply(lambda x: '-'.join(x[:4]))\n",
    "df['Biospecimen ID'] = df['Biospecimen ID'].str.split('-').str[:4].str.join('-')\n",
    "df.head(2)"
   ]
  },
  {
   "cell_type": "markdown",
   "metadata": {},
   "source": [
    "#### 118 patients"
   ]
  },
  {
   "cell_type": "code",
   "execution_count": 152,
   "metadata": {},
   "outputs": [
    {
     "data": {
      "text/plain": [
       "0    HTMCP-03-06-02001\n",
       "1    HTMCP-03-06-02002\n",
       "2    HTMCP-03-06-02003\n",
       "Name: 0, dtype: object"
      ]
     },
     "execution_count": 152,
     "metadata": {},
     "output_type": "execute_result"
    }
   ],
   "source": [
    "f1 = '/projects/trans_scratch/validations/workspace/szong/Cervical/118_patients.txt'\n",
    "pats = pd.read_csv(f1, header=None)[0]\n",
    "pats[:3]"
   ]
  },
  {
   "cell_type": "markdown",
   "metadata": {},
   "source": [
    "#### top ups"
   ]
  },
  {
   "cell_type": "code",
   "execution_count": 153,
   "metadata": {},
   "outputs": [
    {
     "data": {
      "text/html": [
       "<div>\n",
       "<style scoped>\n",
       "    .dataframe tbody tr th:only-of-type {\n",
       "        vertical-align: middle;\n",
       "    }\n",
       "\n",
       "    .dataframe tbody tr th {\n",
       "        vertical-align: top;\n",
       "    }\n",
       "\n",
       "    .dataframe thead th {\n",
       "        text-align: right;\n",
       "    }\n",
       "</style>\n",
       "<table border=\"1\" class=\"dataframe\">\n",
       "  <thead>\n",
       "    <tr style=\"text-align: right;\">\n",
       "      <th></th>\n",
       "      <th>Biospecimen ID</th>\n",
       "      <th>Tissue Status</th>\n",
       "      <th>Tissue Site</th>\n",
       "      <th>HIV status</th>\n",
       "      <th>DNA Library ID</th>\n",
       "      <th>GSC original source ID</th>\n",
       "    </tr>\n",
       "  </thead>\n",
       "  <tbody>\n",
       "    <tr>\n",
       "      <td>61</td>\n",
       "      <td>HTMCP-03-06-02092</td>\n",
       "      <td>Malignant</td>\n",
       "      <td>Cervix</td>\n",
       "      <td>Negative</td>\n",
       "      <td>A37282</td>\n",
       "      <td>HTMCP_172</td>\n",
       "    </tr>\n",
       "    <tr>\n",
       "      <td>62</td>\n",
       "      <td>HTMCP-03-06-02092</td>\n",
       "      <td>Malignant</td>\n",
       "      <td>Cervix</td>\n",
       "      <td>Negative</td>\n",
       "      <td>A60755</td>\n",
       "      <td>HTMCP_172</td>\n",
       "    </tr>\n",
       "    <tr>\n",
       "      <td>63</td>\n",
       "      <td>HTMCP-03-06-02092</td>\n",
       "      <td>Normal</td>\n",
       "      <td>Peripheral blood</td>\n",
       "      <td>Negative</td>\n",
       "      <td>A37210</td>\n",
       "      <td>HTMCP_224</td>\n",
       "    </tr>\n",
       "  </tbody>\n",
       "</table>\n",
       "</div>"
      ],
      "text/plain": [
       "       Biospecimen ID Tissue Status       Tissue Site HIV status  \\\n",
       "61  HTMCP-03-06-02092     Malignant            Cervix   Negative   \n",
       "62  HTMCP-03-06-02092     Malignant            Cervix   Negative   \n",
       "63  HTMCP-03-06-02092        Normal  Peripheral blood   Negative   \n",
       "\n",
       "   DNA Library ID GSC original source ID  \n",
       "61         A37282              HTMCP_172  \n",
       "62         A60755              HTMCP_172  \n",
       "63         A37210              HTMCP_224  "
      ]
     },
     "execution_count": 153,
     "metadata": {},
     "output_type": "execute_result"
    }
   ],
   "source": [
    "df[df['Biospecimen ID']=='HTMCP-03-06-02092']\n",
    "df.drop(61, inplace=True)\n",
    "df = df[(df['Biospecimen ID'].isin(pats))&(df['Tissue Status']!='Normal')]\n",
    "assert df.shape[0] == 118"
   ]
  },
  {
   "cell_type": "markdown",
   "metadata": {},
   "source": [
    "#### RNA lib ids"
   ]
  },
  {
   "cell_type": "code",
   "execution_count": 154,
   "metadata": {},
   "outputs": [
    {
     "data": {
      "text/html": [
       "<div>\n",
       "<style scoped>\n",
       "    .dataframe tbody tr th:only-of-type {\n",
       "        vertical-align: middle;\n",
       "    }\n",
       "\n",
       "    .dataframe tbody tr th {\n",
       "        vertical-align: top;\n",
       "    }\n",
       "\n",
       "    .dataframe thead th {\n",
       "        text-align: right;\n",
       "    }\n",
       "</style>\n",
       "<table border=\"1\" class=\"dataframe\">\n",
       "  <thead>\n",
       "    <tr style=\"text-align: right;\">\n",
       "      <th></th>\n",
       "      <th>patient</th>\n",
       "      <th>DNA_lib</th>\n",
       "      <th>status</th>\n",
       "      <th>RNA_lib</th>\n",
       "    </tr>\n",
       "  </thead>\n",
       "  <tbody>\n",
       "    <tr>\n",
       "      <td>0</td>\n",
       "      <td>HTMCP-03-06-02001</td>\n",
       "      <td>A37234</td>\n",
       "      <td>Malignant</td>\n",
       "      <td>A37700</td>\n",
       "    </tr>\n",
       "    <tr>\n",
       "      <td>1</td>\n",
       "      <td>HTMCP-03-06-02002</td>\n",
       "      <td>A37235</td>\n",
       "      <td>Malignant</td>\n",
       "      <td>A37701</td>\n",
       "    </tr>\n",
       "  </tbody>\n",
       "</table>\n",
       "</div>"
      ],
      "text/plain": [
       "             patient DNA_lib     status RNA_lib\n",
       "0  HTMCP-03-06-02001  A37234  Malignant  A37700\n",
       "1  HTMCP-03-06-02002  A37235  Malignant  A37701"
      ]
     },
     "execution_count": 154,
     "metadata": {},
     "output_type": "execute_result"
    },
    {
     "data": {
      "text/plain": [
       "(124, 4)"
      ]
     },
     "execution_count": 154,
     "metadata": {},
     "output_type": "execute_result"
    }
   ],
   "source": [
    "f3 = '/projects/trans_scratch/validations/workspace/szong/Cervical/variant_bwamem/124_patients_new/124_patients_bam_vcf_20190115.csv'\n",
    "df3 =  pd.read_csv(f3, usecols=['patient', 'DNA_lib', 'RNA_lib', 'status'])\n",
    "df3 = df3[df3.status=='Malignant']\n",
    "df3.head(2)\n",
    "df3.shape"
   ]
  },
  {
   "cell_type": "code",
   "execution_count": 155,
   "metadata": {},
   "outputs": [
    {
     "data": {
      "text/html": [
       "<div>\n",
       "<style scoped>\n",
       "    .dataframe tbody tr th:only-of-type {\n",
       "        vertical-align: middle;\n",
       "    }\n",
       "\n",
       "    .dataframe tbody tr th {\n",
       "        vertical-align: top;\n",
       "    }\n",
       "\n",
       "    .dataframe thead th {\n",
       "        text-align: right;\n",
       "    }\n",
       "</style>\n",
       "<table border=\"1\" class=\"dataframe\">\n",
       "  <thead>\n",
       "    <tr style=\"text-align: right;\">\n",
       "      <th></th>\n",
       "      <th>Tissue Site</th>\n",
       "      <th>HIV status</th>\n",
       "      <th>GSC original source ID</th>\n",
       "      <th>patient</th>\n",
       "      <th>DNA_lib</th>\n",
       "      <th>status</th>\n",
       "      <th>RNA_lib</th>\n",
       "    </tr>\n",
       "  </thead>\n",
       "  <tbody>\n",
       "    <tr>\n",
       "      <td>0</td>\n",
       "      <td>Cervix</td>\n",
       "      <td>positive</td>\n",
       "      <td>HTMCP_124</td>\n",
       "      <td>HTMCP-03-06-02001</td>\n",
       "      <td>A37234</td>\n",
       "      <td>Malignant</td>\n",
       "      <td>A37700</td>\n",
       "    </tr>\n",
       "    <tr>\n",
       "      <td>1</td>\n",
       "      <td>Cervix</td>\n",
       "      <td>Negative</td>\n",
       "      <td>HTMCP_125</td>\n",
       "      <td>HTMCP-03-06-02002</td>\n",
       "      <td>A37235</td>\n",
       "      <td>Malignant</td>\n",
       "      <td>A37701</td>\n",
       "    </tr>\n",
       "  </tbody>\n",
       "</table>\n",
       "</div>"
      ],
      "text/plain": [
       "  Tissue Site HIV status GSC original source ID            patient DNA_lib  \\\n",
       "0      Cervix   positive              HTMCP_124  HTMCP-03-06-02001  A37234   \n",
       "1      Cervix   Negative              HTMCP_125  HTMCP-03-06-02002  A37235   \n",
       "\n",
       "      status RNA_lib  \n",
       "0  Malignant  A37700  \n",
       "1  Malignant  A37701  "
      ]
     },
     "execution_count": 155,
     "metadata": {},
     "output_type": "execute_result"
    }
   ],
   "source": [
    "df4 = pd.merge(df, df3, left_on='Biospecimen ID', right_on='patient', how='left')\n",
    "df4.drop(['Biospecimen ID', 'DNA Library ID', 'Tissue Status'], axis=1, inplace=True)\n",
    "df4.head(2)"
   ]
  },
  {
   "cell_type": "code",
   "execution_count": 156,
   "metadata": {},
   "outputs": [],
   "source": [
    "of = '/projects/trans_scratch/validations/workspace/szong/Cervical/genomes_with_htmcp_ids_118_20191217.tsv'\n",
    "df4.to_csv(of, sep='\\t', index=False)"
   ]
  },
  {
   "cell_type": "code",
   "execution_count": null,
   "metadata": {},
   "outputs": [],
   "source": []
  }
 ],
 "metadata": {
  "kernelspec": {
   "display_name": "Python 3",
   "language": "python",
   "name": "python3"
  },
  "language_info": {
   "codemirror_mode": {
    "name": "ipython",
    "version": 3
   },
   "file_extension": ".py",
   "mimetype": "text/x-python",
   "name": "python",
   "nbconvert_exporter": "python",
   "pygments_lexer": "ipython3",
   "version": "3.7.3"
  }
 },
 "nbformat": 4,
 "nbformat_minor": 2
}
