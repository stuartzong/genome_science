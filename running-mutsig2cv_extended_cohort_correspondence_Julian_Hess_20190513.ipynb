{
 "cells": [
  {
   "cell_type": "code",
   "execution_count": 4,
   "metadata": {},
   "outputs": [],
   "source": [
    "import matplotlib\n",
    "import csv\n",
    "import numpy as np\n",
    "import pandas as pd\n",
    "import seaborn as sns\n",
    "import matplotlib.pyplot as plt\n",
    "from matplotlib import style, colors\n",
    "from matplotlib import gridspec\n",
    "\n",
    "matplotlib.style.use('ggplot')\n",
    "%matplotlib inline\n",
    "matplotlib.rcParams['figure.figsize'] = (8, 6)\n",
    "from IPython.core.interactiveshell import InteractiveShell\n",
    "InteractiveShell.ast_node_interactivity = \"all\""
   ]
  },
  {
   "cell_type": "markdown",
   "metadata": {},
   "source": [
    "89 cervical cancer cases + 88 normal (2 HIV- not available), paired 87.to check"
   ]
  },
  {
   "cell_type": "code",
   "execution_count": 67,
   "metadata": {},
   "outputs": [
    {
     "data": {
      "text/plain": [
       "(87, 3)"
      ]
     },
     "execution_count": 67,
     "metadata": {},
     "output_type": "execute_result"
    },
    {
     "data": {
      "text/html": [
       "<div>\n",
       "<style scoped>\n",
       "    .dataframe tbody tr th:only-of-type {\n",
       "        vertical-align: middle;\n",
       "    }\n",
       "\n",
       "    .dataframe tbody tr th {\n",
       "        vertical-align: top;\n",
       "    }\n",
       "\n",
       "    .dataframe thead th {\n",
       "        text-align: right;\n",
       "    }\n",
       "</style>\n",
       "<table border=\"1\" class=\"dataframe\">\n",
       "  <thead>\n",
       "    <tr style=\"text-align: right;\">\n",
       "      <th></th>\n",
       "      <th>patient</th>\n",
       "      <th>indels</th>\n",
       "      <th>snvs</th>\n",
       "    </tr>\n",
       "  </thead>\n",
       "  <tbody>\n",
       "    <tr>\n",
       "      <th>0</th>\n",
       "      <td>HTMCP-03-06-02025</td>\n",
       "      <td>/projects/somatic/NCI_SAIC_HIV_Cervical/HTMCP-...</td>\n",
       "      <td>/projects/somatic/NCI_SAIC_HIV_Cervical/HTMCP-...</td>\n",
       "    </tr>\n",
       "    <tr>\n",
       "      <th>1</th>\n",
       "      <td>HTMCP-03-06-02044</td>\n",
       "      <td>/projects/somatic/NCI_SAIC_HIV_Cervical/HTMCP-...</td>\n",
       "      <td>/projects/somatic/NCI_SAIC_HIV_Cervical/HTMCP-...</td>\n",
       "    </tr>\n",
       "  </tbody>\n",
       "</table>\n",
       "</div>"
      ],
      "text/plain": [
       "             patient                                             indels  \\\n",
       "0  HTMCP-03-06-02025  /projects/somatic/NCI_SAIC_HIV_Cervical/HTMCP-...   \n",
       "1  HTMCP-03-06-02044  /projects/somatic/NCI_SAIC_HIV_Cervical/HTMCP-...   \n",
       "\n",
       "                                                snvs  \n",
       "0  /projects/somatic/NCI_SAIC_HIV_Cervical/HTMCP-...  \n",
       "1  /projects/somatic/NCI_SAIC_HIV_Cervical/HTMCP-...  "
      ]
     },
     "execution_count": 67,
     "metadata": {},
     "output_type": "execute_result"
    }
   ],
   "source": [
    "f = '/projects/trans_scratch/validations/workspace/szong/Cervical/variant_bwamem/validation/strelka_classic_vcf_files.txt'\n",
    "df = pd.read_csv(f, sep='\\t', header=None)\n",
    "fs = df[0]\n",
    "df1 = pd.DataFrame([(f.split('/')[4], f, f.split('/')[12].split('.')[2]) for f in fs])\n",
    "df1.columns = ['patient', 'vcf', 'type']\n",
    "\n",
    "# both works, pivot_table for non_numerical values, long to wide transformation\n",
    "# df2 = pd.pivot_table(df1, index='patient', columns='type', values='vcf', aggfunc=lambda x: str(x.values[0])).reset_index()\n",
    "df2 = pd.pivot_table(df1, index='patient', columns='type', values='vcf', aggfunc=lambda x: ''.join([str(v) for v in x])).reset_index()\n",
    "# df2.loc['HTMCP-03-06-02025', 'snvs']\n",
    "df2.columns = ['patient', 'indels', 'snvs']\n",
    "df2.shape\n",
    "df2.head(2)"
   ]
  },
  {
   "cell_type": "code",
   "execution_count": null,
   "metadata": {},
   "outputs": [],
   "source": []
  },
  {
   "cell_type": "code",
   "execution_count": null,
   "metadata": {},
   "outputs": [],
   "source": []
  },
  {
   "cell_type": "code",
   "execution_count": null,
   "metadata": {},
   "outputs": [],
   "source": []
  },
  {
   "cell_type": "code",
   "execution_count": 68,
   "metadata": {},
   "outputs": [],
   "source": [
    "from jinja2 import Environment, FileSystemLoader\n",
    "import logging\n",
    "import colorlog\n",
    "\n",
    "logger = colorlog.getLogger()\n",
    "logger.setLevel(logging.DEBUG)\n",
    "handler = logging.StreamHandler()\n",
    "handler.setLevel(logging.DEBUG)\n",
    "handler.setFormatter(\n",
    "    colorlog.ColoredFormatter('%(log_color)s%(levelname)s:%(name)s:%(message)s'))\n",
    "logger.addHandler(handler)\n"
   ]
  },
  {
   "cell_type": "code",
   "execution_count": 76,
   "metadata": {},
   "outputs": [],
   "source": [
    "template_dir = '/projects/trans_scratch/validations/workspace/szong/Cervical/mutsig2cv/'\n",
    "template_file_name = 'vcf2maf_template_extended_cohort.txt'"
   ]
  },
  {
   "cell_type": "code",
   "execution_count": 77,
   "metadata": {},
   "outputs": [],
   "source": [
    "def populate_template(patient, input_vcf, output_maf, \n",
    "                      template_dir, template_file_name, templated_file_name):\n",
    "    jinja2_env = Environment(loader=FileSystemLoader([template_dir]),\n",
    "                             trim_blocks=True)\n",
    "    template = jinja2_env.get_template(template_file_name)\n",
    "    with open(templated_file_name, 'w') as opf:\n",
    "        content = template.render(patient = patient,\n",
    "                                  input_vcf = input_vcf,\n",
    "                                  output_maf = output_maf)\n",
    "        opf.write(content)\n",
    "        logger.info('templated {0}'.format(templated_file_name))\n",
    "    return template_file_name\n"
   ]
  },
  {
   "cell_type": "code",
   "execution_count": 78,
   "metadata": {},
   "outputs": [],
   "source": [
    "# filtered_vcf_path = '/projects/trans_scratch/validations/workspace/szong/Cervical/mutsig2cv/filtered_vcfs/'\n",
    "out_maf_path = '/projects/trans_scratch/validations/workspace/szong/Cervical/mutsig2cv/extended_cohort/'"
   ]
  },
  {
   "cell_type": "code",
   "execution_count": 79,
   "metadata": {},
   "outputs": [
    {
     "name": "stderr",
     "output_type": "stream",
     "text": [
      "\u001b[32mINFO:root:templated /projects/trans_scratch/validations/workspace/szong/Cervical/mutsig2cv/extended_cohort/vcf2maf_scripts/HTMCP-03-06-02025.snvs.sh\u001b[0m\n"
     ]
    },
    {
     "data": {
      "text/plain": [
       "'vcf2maf_template_extended_cohort.txt'"
      ]
     },
     "execution_count": 79,
     "metadata": {},
     "output_type": "execute_result"
    },
    {
     "name": "stderr",
     "output_type": "stream",
     "text": [
      "\u001b[32mINFO:root:templated /projects/trans_scratch/validations/workspace/szong/Cervical/mutsig2cv/extended_cohort/vcf2maf_scripts/HTMCP-03-06-02044.snvs.sh\u001b[0m\n"
     ]
    },
    {
     "data": {
      "text/plain": [
       "'vcf2maf_template_extended_cohort.txt'"
      ]
     },
     "execution_count": 79,
     "metadata": {},
     "output_type": "execute_result"
    },
    {
     "name": "stderr",
     "output_type": "stream",
     "text": [
      "\u001b[32mINFO:root:templated /projects/trans_scratch/validations/workspace/szong/Cervical/mutsig2cv/extended_cohort/vcf2maf_scripts/HTMCP-03-06-02060.snvs.sh\u001b[0m\n"
     ]
    },
    {
     "data": {
      "text/plain": [
       "'vcf2maf_template_extended_cohort.txt'"
      ]
     },
     "execution_count": 79,
     "metadata": {},
     "output_type": "execute_result"
    },
    {
     "name": "stderr",
     "output_type": "stream",
     "text": [
      "\u001b[32mINFO:root:templated /projects/trans_scratch/validations/workspace/szong/Cervical/mutsig2cv/extended_cohort/vcf2maf_scripts/HTMCP-03-06-02061.snvs.sh\u001b[0m\n"
     ]
    },
    {
     "data": {
      "text/plain": [
       "'vcf2maf_template_extended_cohort.txt'"
      ]
     },
     "execution_count": 79,
     "metadata": {},
     "output_type": "execute_result"
    },
    {
     "name": "stderr",
     "output_type": "stream",
     "text": [
      "\u001b[32mINFO:root:templated /projects/trans_scratch/validations/workspace/szong/Cervical/mutsig2cv/extended_cohort/vcf2maf_scripts/HTMCP-03-06-02062.snvs.sh\u001b[0m\n"
     ]
    },
    {
     "data": {
      "text/plain": [
       "'vcf2maf_template_extended_cohort.txt'"
      ]
     },
     "execution_count": 79,
     "metadata": {},
     "output_type": "execute_result"
    },
    {
     "name": "stderr",
     "output_type": "stream",
     "text": [
      "\u001b[32mINFO:root:templated /projects/trans_scratch/validations/workspace/szong/Cervical/mutsig2cv/extended_cohort/vcf2maf_scripts/HTMCP-03-06-02066.snvs.sh\u001b[0m\n"
     ]
    },
    {
     "data": {
      "text/plain": [
       "'vcf2maf_template_extended_cohort.txt'"
      ]
     },
     "execution_count": 79,
     "metadata": {},
     "output_type": "execute_result"
    },
    {
     "name": "stderr",
     "output_type": "stream",
     "text": [
      "\u001b[32mINFO:root:templated /projects/trans_scratch/validations/workspace/szong/Cervical/mutsig2cv/extended_cohort/vcf2maf_scripts/HTMCP-03-06-02067.snvs.sh\u001b[0m\n"
     ]
    },
    {
     "data": {
      "text/plain": [
       "'vcf2maf_template_extended_cohort.txt'"
      ]
     },
     "execution_count": 79,
     "metadata": {},
     "output_type": "execute_result"
    },
    {
     "name": "stderr",
     "output_type": "stream",
     "text": [
      "\u001b[32mINFO:root:templated /projects/trans_scratch/validations/workspace/szong/Cervical/mutsig2cv/extended_cohort/vcf2maf_scripts/HTMCP-03-06-02072.snvs.sh\u001b[0m\n"
     ]
    },
    {
     "data": {
      "text/plain": [
       "'vcf2maf_template_extended_cohort.txt'"
      ]
     },
     "execution_count": 79,
     "metadata": {},
     "output_type": "execute_result"
    },
    {
     "name": "stderr",
     "output_type": "stream",
     "text": [
      "\u001b[32mINFO:root:templated /projects/trans_scratch/validations/workspace/szong/Cervical/mutsig2cv/extended_cohort/vcf2maf_scripts/HTMCP-03-06-02081.snvs.sh\u001b[0m\n"
     ]
    },
    {
     "data": {
      "text/plain": [
       "'vcf2maf_template_extended_cohort.txt'"
      ]
     },
     "execution_count": 79,
     "metadata": {},
     "output_type": "execute_result"
    },
    {
     "name": "stderr",
     "output_type": "stream",
     "text": [
      "\u001b[32mINFO:root:templated /projects/trans_scratch/validations/workspace/szong/Cervical/mutsig2cv/extended_cohort/vcf2maf_scripts/HTMCP-03-06-02082.snvs.sh\u001b[0m\n"
     ]
    },
    {
     "data": {
      "text/plain": [
       "'vcf2maf_template_extended_cohort.txt'"
      ]
     },
     "execution_count": 79,
     "metadata": {},
     "output_type": "execute_result"
    },
    {
     "name": "stderr",
     "output_type": "stream",
     "text": [
      "\u001b[32mINFO:root:templated /projects/trans_scratch/validations/workspace/szong/Cervical/mutsig2cv/extended_cohort/vcf2maf_scripts/HTMCP-03-06-02084.snvs.sh\u001b[0m\n"
     ]
    },
    {
     "data": {
      "text/plain": [
       "'vcf2maf_template_extended_cohort.txt'"
      ]
     },
     "execution_count": 79,
     "metadata": {},
     "output_type": "execute_result"
    },
    {
     "name": "stderr",
     "output_type": "stream",
     "text": [
      "\u001b[32mINFO:root:templated /projects/trans_scratch/validations/workspace/szong/Cervical/mutsig2cv/extended_cohort/vcf2maf_scripts/HTMCP-03-06-02096.snvs.sh\u001b[0m\n"
     ]
    },
    {
     "data": {
      "text/plain": [
       "'vcf2maf_template_extended_cohort.txt'"
      ]
     },
     "execution_count": 79,
     "metadata": {},
     "output_type": "execute_result"
    },
    {
     "name": "stderr",
     "output_type": "stream",
     "text": [
      "\u001b[32mINFO:root:templated /projects/trans_scratch/validations/workspace/szong/Cervical/mutsig2cv/extended_cohort/vcf2maf_scripts/HTMCP-03-06-02101.snvs.sh\u001b[0m\n"
     ]
    },
    {
     "data": {
      "text/plain": [
       "'vcf2maf_template_extended_cohort.txt'"
      ]
     },
     "execution_count": 79,
     "metadata": {},
     "output_type": "execute_result"
    },
    {
     "name": "stderr",
     "output_type": "stream",
     "text": [
      "\u001b[32mINFO:root:templated /projects/trans_scratch/validations/workspace/szong/Cervical/mutsig2cv/extended_cohort/vcf2maf_scripts/HTMCP-03-06-02104.snvs.sh\u001b[0m\n"
     ]
    },
    {
     "data": {
      "text/plain": [
       "'vcf2maf_template_extended_cohort.txt'"
      ]
     },
     "execution_count": 79,
     "metadata": {},
     "output_type": "execute_result"
    },
    {
     "name": "stderr",
     "output_type": "stream",
     "text": [
      "\u001b[32mINFO:root:templated /projects/trans_scratch/validations/workspace/szong/Cervical/mutsig2cv/extended_cohort/vcf2maf_scripts/HTMCP-03-06-02111.snvs.sh\u001b[0m\n"
     ]
    },
    {
     "data": {
      "text/plain": [
       "'vcf2maf_template_extended_cohort.txt'"
      ]
     },
     "execution_count": 79,
     "metadata": {},
     "output_type": "execute_result"
    },
    {
     "name": "stderr",
     "output_type": "stream",
     "text": [
      "\u001b[32mINFO:root:templated /projects/trans_scratch/validations/workspace/szong/Cervical/mutsig2cv/extended_cohort/vcf2maf_scripts/HTMCP-03-06-02112.snvs.sh\u001b[0m\n"
     ]
    },
    {
     "data": {
      "text/plain": [
       "'vcf2maf_template_extended_cohort.txt'"
      ]
     },
     "execution_count": 79,
     "metadata": {},
     "output_type": "execute_result"
    },
    {
     "name": "stderr",
     "output_type": "stream",
     "text": [
      "\u001b[32mINFO:root:templated /projects/trans_scratch/validations/workspace/szong/Cervical/mutsig2cv/extended_cohort/vcf2maf_scripts/HTMCP-03-06-02118.snvs.sh\u001b[0m\n"
     ]
    },
    {
     "data": {
      "text/plain": [
       "'vcf2maf_template_extended_cohort.txt'"
      ]
     },
     "execution_count": 79,
     "metadata": {},
     "output_type": "execute_result"
    },
    {
     "name": "stderr",
     "output_type": "stream",
     "text": [
      "\u001b[32mINFO:root:templated /projects/trans_scratch/validations/workspace/szong/Cervical/mutsig2cv/extended_cohort/vcf2maf_scripts/HTMCP-03-06-02121.snvs.sh\u001b[0m\n"
     ]
    },
    {
     "data": {
      "text/plain": [
       "'vcf2maf_template_extended_cohort.txt'"
      ]
     },
     "execution_count": 79,
     "metadata": {},
     "output_type": "execute_result"
    },
    {
     "name": "stderr",
     "output_type": "stream",
     "text": [
      "\u001b[32mINFO:root:templated /projects/trans_scratch/validations/workspace/szong/Cervical/mutsig2cv/extended_cohort/vcf2maf_scripts/HTMCP-03-06-02123.snvs.sh\u001b[0m\n"
     ]
    },
    {
     "data": {
      "text/plain": [
       "'vcf2maf_template_extended_cohort.txt'"
      ]
     },
     "execution_count": 79,
     "metadata": {},
     "output_type": "execute_result"
    },
    {
     "name": "stderr",
     "output_type": "stream",
     "text": [
      "\u001b[32mINFO:root:templated /projects/trans_scratch/validations/workspace/szong/Cervical/mutsig2cv/extended_cohort/vcf2maf_scripts/HTMCP-03-06-02129.snvs.sh\u001b[0m\n"
     ]
    },
    {
     "data": {
      "text/plain": [
       "'vcf2maf_template_extended_cohort.txt'"
      ]
     },
     "execution_count": 79,
     "metadata": {},
     "output_type": "execute_result"
    },
    {
     "name": "stderr",
     "output_type": "stream",
     "text": [
      "\u001b[32mINFO:root:templated /projects/trans_scratch/validations/workspace/szong/Cervical/mutsig2cv/extended_cohort/vcf2maf_scripts/HTMCP-03-06-02137.snvs.sh\u001b[0m\n"
     ]
    },
    {
     "data": {
      "text/plain": [
       "'vcf2maf_template_extended_cohort.txt'"
      ]
     },
     "execution_count": 79,
     "metadata": {},
     "output_type": "execute_result"
    },
    {
     "name": "stderr",
     "output_type": "stream",
     "text": [
      "\u001b[32mINFO:root:templated /projects/trans_scratch/validations/workspace/szong/Cervical/mutsig2cv/extended_cohort/vcf2maf_scripts/HTMCP-03-06-02138.snvs.sh\u001b[0m\n"
     ]
    },
    {
     "data": {
      "text/plain": [
       "'vcf2maf_template_extended_cohort.txt'"
      ]
     },
     "execution_count": 79,
     "metadata": {},
     "output_type": "execute_result"
    },
    {
     "name": "stderr",
     "output_type": "stream",
     "text": [
      "\u001b[32mINFO:root:templated /projects/trans_scratch/validations/workspace/szong/Cervical/mutsig2cv/extended_cohort/vcf2maf_scripts/HTMCP-03-06-02146.snvs.sh\u001b[0m\n"
     ]
    },
    {
     "data": {
      "text/plain": [
       "'vcf2maf_template_extended_cohort.txt'"
      ]
     },
     "execution_count": 79,
     "metadata": {},
     "output_type": "execute_result"
    },
    {
     "name": "stderr",
     "output_type": "stream",
     "text": [
      "\u001b[32mINFO:root:templated /projects/trans_scratch/validations/workspace/szong/Cervical/mutsig2cv/extended_cohort/vcf2maf_scripts/HTMCP-03-06-02158.snvs.sh\u001b[0m\n"
     ]
    },
    {
     "data": {
      "text/plain": [
       "'vcf2maf_template_extended_cohort.txt'"
      ]
     },
     "execution_count": 79,
     "metadata": {},
     "output_type": "execute_result"
    },
    {
     "name": "stderr",
     "output_type": "stream",
     "text": [
      "\u001b[32mINFO:root:templated /projects/trans_scratch/validations/workspace/szong/Cervical/mutsig2cv/extended_cohort/vcf2maf_scripts/HTMCP-03-06-02173.snvs.sh\u001b[0m\n"
     ]
    },
    {
     "data": {
      "text/plain": [
       "'vcf2maf_template_extended_cohort.txt'"
      ]
     },
     "execution_count": 79,
     "metadata": {},
     "output_type": "execute_result"
    },
    {
     "name": "stderr",
     "output_type": "stream",
     "text": [
      "\u001b[32mINFO:root:templated /projects/trans_scratch/validations/workspace/szong/Cervical/mutsig2cv/extended_cohort/vcf2maf_scripts/HTMCP-03-06-02187.snvs.sh\u001b[0m\n"
     ]
    },
    {
     "data": {
      "text/plain": [
       "'vcf2maf_template_extended_cohort.txt'"
      ]
     },
     "execution_count": 79,
     "metadata": {},
     "output_type": "execute_result"
    },
    {
     "name": "stderr",
     "output_type": "stream",
     "text": [
      "\u001b[32mINFO:root:templated /projects/trans_scratch/validations/workspace/szong/Cervical/mutsig2cv/extended_cohort/vcf2maf_scripts/HTMCP-03-06-02188.snvs.sh\u001b[0m\n"
     ]
    },
    {
     "data": {
      "text/plain": [
       "'vcf2maf_template_extended_cohort.txt'"
      ]
     },
     "execution_count": 79,
     "metadata": {},
     "output_type": "execute_result"
    },
    {
     "name": "stderr",
     "output_type": "stream",
     "text": [
      "\u001b[32mINFO:root:templated /projects/trans_scratch/validations/workspace/szong/Cervical/mutsig2cv/extended_cohort/vcf2maf_scripts/HTMCP-03-06-02189.snvs.sh\u001b[0m\n"
     ]
    },
    {
     "data": {
      "text/plain": [
       "'vcf2maf_template_extended_cohort.txt'"
      ]
     },
     "execution_count": 79,
     "metadata": {},
     "output_type": "execute_result"
    },
    {
     "name": "stderr",
     "output_type": "stream",
     "text": [
      "\u001b[32mINFO:root:templated /projects/trans_scratch/validations/workspace/szong/Cervical/mutsig2cv/extended_cohort/vcf2maf_scripts/HTMCP-03-06-02193.snvs.sh\u001b[0m\n"
     ]
    },
    {
     "data": {
      "text/plain": [
       "'vcf2maf_template_extended_cohort.txt'"
      ]
     },
     "execution_count": 79,
     "metadata": {},
     "output_type": "execute_result"
    },
    {
     "name": "stderr",
     "output_type": "stream",
     "text": [
      "\u001b[32mINFO:root:templated /projects/trans_scratch/validations/workspace/szong/Cervical/mutsig2cv/extended_cohort/vcf2maf_scripts/HTMCP-03-06-02206.snvs.sh\u001b[0m\n"
     ]
    },
    {
     "data": {
      "text/plain": [
       "'vcf2maf_template_extended_cohort.txt'"
      ]
     },
     "execution_count": 79,
     "metadata": {},
     "output_type": "execute_result"
    },
    {
     "name": "stderr",
     "output_type": "stream",
     "text": [
      "\u001b[32mINFO:root:templated /projects/trans_scratch/validations/workspace/szong/Cervical/mutsig2cv/extended_cohort/vcf2maf_scripts/HTMCP-03-06-02211.snvs.sh\u001b[0m\n"
     ]
    },
    {
     "data": {
      "text/plain": [
       "'vcf2maf_template_extended_cohort.txt'"
      ]
     },
     "execution_count": 79,
     "metadata": {},
     "output_type": "execute_result"
    },
    {
     "name": "stderr",
     "output_type": "stream",
     "text": [
      "\u001b[32mINFO:root:templated /projects/trans_scratch/validations/workspace/szong/Cervical/mutsig2cv/extended_cohort/vcf2maf_scripts/HTMCP-03-06-02218.snvs.sh\u001b[0m\n"
     ]
    },
    {
     "data": {
      "text/plain": [
       "'vcf2maf_template_extended_cohort.txt'"
      ]
     },
     "execution_count": 79,
     "metadata": {},
     "output_type": "execute_result"
    },
    {
     "name": "stderr",
     "output_type": "stream",
     "text": [
      "\u001b[32mINFO:root:templated /projects/trans_scratch/validations/workspace/szong/Cervical/mutsig2cv/extended_cohort/vcf2maf_scripts/HTMCP-03-06-02220.snvs.sh\u001b[0m\n"
     ]
    },
    {
     "data": {
      "text/plain": [
       "'vcf2maf_template_extended_cohort.txt'"
      ]
     },
     "execution_count": 79,
     "metadata": {},
     "output_type": "execute_result"
    },
    {
     "name": "stderr",
     "output_type": "stream",
     "text": [
      "\u001b[32mINFO:root:templated /projects/trans_scratch/validations/workspace/szong/Cervical/mutsig2cv/extended_cohort/vcf2maf_scripts/HTMCP-03-06-02246.snvs.sh\u001b[0m\n"
     ]
    },
    {
     "data": {
      "text/plain": [
       "'vcf2maf_template_extended_cohort.txt'"
      ]
     },
     "execution_count": 79,
     "metadata": {},
     "output_type": "execute_result"
    },
    {
     "name": "stderr",
     "output_type": "stream",
     "text": [
      "\u001b[32mINFO:root:templated /projects/trans_scratch/validations/workspace/szong/Cervical/mutsig2cv/extended_cohort/vcf2maf_scripts/HTMCP-03-06-02321.snvs.sh\u001b[0m\n"
     ]
    },
    {
     "data": {
      "text/plain": [
       "'vcf2maf_template_extended_cohort.txt'"
      ]
     },
     "execution_count": 79,
     "metadata": {},
     "output_type": "execute_result"
    },
    {
     "name": "stderr",
     "output_type": "stream",
     "text": [
      "\u001b[32mINFO:root:templated /projects/trans_scratch/validations/workspace/szong/Cervical/mutsig2cv/extended_cohort/vcf2maf_scripts/HTMCP-03-06-02327.snvs.sh\u001b[0m\n"
     ]
    },
    {
     "data": {
      "text/plain": [
       "'vcf2maf_template_extended_cohort.txt'"
      ]
     },
     "execution_count": 79,
     "metadata": {},
     "output_type": "execute_result"
    },
    {
     "name": "stderr",
     "output_type": "stream",
     "text": [
      "\u001b[32mINFO:root:templated /projects/trans_scratch/validations/workspace/szong/Cervical/mutsig2cv/extended_cohort/vcf2maf_scripts/HTMCP-03-06-02334.snvs.sh\u001b[0m\n"
     ]
    },
    {
     "data": {
      "text/plain": [
       "'vcf2maf_template_extended_cohort.txt'"
      ]
     },
     "execution_count": 79,
     "metadata": {},
     "output_type": "execute_result"
    },
    {
     "name": "stderr",
     "output_type": "stream",
     "text": [
      "\u001b[32mINFO:root:templated /projects/trans_scratch/validations/workspace/szong/Cervical/mutsig2cv/extended_cohort/vcf2maf_scripts/HTMCP-03-06-02337.snvs.sh\u001b[0m\n"
     ]
    },
    {
     "data": {
      "text/plain": [
       "'vcf2maf_template_extended_cohort.txt'"
      ]
     },
     "execution_count": 79,
     "metadata": {},
     "output_type": "execute_result"
    },
    {
     "name": "stderr",
     "output_type": "stream",
     "text": [
      "\u001b[32mINFO:root:templated /projects/trans_scratch/validations/workspace/szong/Cervical/mutsig2cv/extended_cohort/vcf2maf_scripts/HTMCP-03-06-02338.snvs.sh\u001b[0m\n"
     ]
    },
    {
     "data": {
      "text/plain": [
       "'vcf2maf_template_extended_cohort.txt'"
      ]
     },
     "execution_count": 79,
     "metadata": {},
     "output_type": "execute_result"
    },
    {
     "name": "stderr",
     "output_type": "stream",
     "text": [
      "\u001b[32mINFO:root:templated /projects/trans_scratch/validations/workspace/szong/Cervical/mutsig2cv/extended_cohort/vcf2maf_scripts/HTMCP-03-06-02339.snvs.sh\u001b[0m\n"
     ]
    },
    {
     "data": {
      "text/plain": [
       "'vcf2maf_template_extended_cohort.txt'"
      ]
     },
     "execution_count": 79,
     "metadata": {},
     "output_type": "execute_result"
    },
    {
     "name": "stderr",
     "output_type": "stream",
     "text": [
      "\u001b[32mINFO:root:templated /projects/trans_scratch/validations/workspace/szong/Cervical/mutsig2cv/extended_cohort/vcf2maf_scripts/HTMCP-03-06-02342.snvs.sh\u001b[0m\n"
     ]
    },
    {
     "data": {
      "text/plain": [
       "'vcf2maf_template_extended_cohort.txt'"
      ]
     },
     "execution_count": 79,
     "metadata": {},
     "output_type": "execute_result"
    },
    {
     "name": "stderr",
     "output_type": "stream",
     "text": [
      "\u001b[32mINFO:root:templated /projects/trans_scratch/validations/workspace/szong/Cervical/mutsig2cv/extended_cohort/vcf2maf_scripts/HTMCP-03-06-02343.snvs.sh\u001b[0m\n"
     ]
    },
    {
     "data": {
      "text/plain": [
       "'vcf2maf_template_extended_cohort.txt'"
      ]
     },
     "execution_count": 79,
     "metadata": {},
     "output_type": "execute_result"
    },
    {
     "name": "stderr",
     "output_type": "stream",
     "text": [
      "\u001b[32mINFO:root:templated /projects/trans_scratch/validations/workspace/szong/Cervical/mutsig2cv/extended_cohort/vcf2maf_scripts/HTMCP-03-06-02345.snvs.sh\u001b[0m\n"
     ]
    },
    {
     "data": {
      "text/plain": [
       "'vcf2maf_template_extended_cohort.txt'"
      ]
     },
     "execution_count": 79,
     "metadata": {},
     "output_type": "execute_result"
    },
    {
     "name": "stderr",
     "output_type": "stream",
     "text": [
      "\u001b[32mINFO:root:templated /projects/trans_scratch/validations/workspace/szong/Cervical/mutsig2cv/extended_cohort/vcf2maf_scripts/HTMCP-03-06-02347.snvs.sh\u001b[0m\n"
     ]
    },
    {
     "data": {
      "text/plain": [
       "'vcf2maf_template_extended_cohort.txt'"
      ]
     },
     "execution_count": 79,
     "metadata": {},
     "output_type": "execute_result"
    },
    {
     "name": "stderr",
     "output_type": "stream",
     "text": [
      "\u001b[32mINFO:root:templated /projects/trans_scratch/validations/workspace/szong/Cervical/mutsig2cv/extended_cohort/vcf2maf_scripts/HTMCP-03-06-02352.snvs.sh\u001b[0m\n"
     ]
    },
    {
     "data": {
      "text/plain": [
       "'vcf2maf_template_extended_cohort.txt'"
      ]
     },
     "execution_count": 79,
     "metadata": {},
     "output_type": "execute_result"
    },
    {
     "name": "stderr",
     "output_type": "stream",
     "text": [
      "\u001b[32mINFO:root:templated /projects/trans_scratch/validations/workspace/szong/Cervical/mutsig2cv/extended_cohort/vcf2maf_scripts/HTMCP-03-06-02356.snvs.sh\u001b[0m\n"
     ]
    },
    {
     "data": {
      "text/plain": [
       "'vcf2maf_template_extended_cohort.txt'"
      ]
     },
     "execution_count": 79,
     "metadata": {},
     "output_type": "execute_result"
    },
    {
     "name": "stderr",
     "output_type": "stream",
     "text": [
      "\u001b[32mINFO:root:templated /projects/trans_scratch/validations/workspace/szong/Cervical/mutsig2cv/extended_cohort/vcf2maf_scripts/HTMCP-03-06-02357.snvs.sh\u001b[0m\n"
     ]
    },
    {
     "data": {
      "text/plain": [
       "'vcf2maf_template_extended_cohort.txt'"
      ]
     },
     "execution_count": 79,
     "metadata": {},
     "output_type": "execute_result"
    },
    {
     "name": "stderr",
     "output_type": "stream",
     "text": [
      "\u001b[32mINFO:root:templated /projects/trans_scratch/validations/workspace/szong/Cervical/mutsig2cv/extended_cohort/vcf2maf_scripts/HTMCP-03-06-02360.snvs.sh\u001b[0m\n"
     ]
    },
    {
     "data": {
      "text/plain": [
       "'vcf2maf_template_extended_cohort.txt'"
      ]
     },
     "execution_count": 79,
     "metadata": {},
     "output_type": "execute_result"
    },
    {
     "name": "stderr",
     "output_type": "stream",
     "text": [
      "\u001b[32mINFO:root:templated /projects/trans_scratch/validations/workspace/szong/Cervical/mutsig2cv/extended_cohort/vcf2maf_scripts/HTMCP-03-06-02361.snvs.sh\u001b[0m\n"
     ]
    },
    {
     "data": {
      "text/plain": [
       "'vcf2maf_template_extended_cohort.txt'"
      ]
     },
     "execution_count": 79,
     "metadata": {},
     "output_type": "execute_result"
    },
    {
     "name": "stderr",
     "output_type": "stream",
     "text": [
      "\u001b[32mINFO:root:templated /projects/trans_scratch/validations/workspace/szong/Cervical/mutsig2cv/extended_cohort/vcf2maf_scripts/HTMCP-03-06-02362.snvs.sh\u001b[0m\n"
     ]
    },
    {
     "data": {
      "text/plain": [
       "'vcf2maf_template_extended_cohort.txt'"
      ]
     },
     "execution_count": 79,
     "metadata": {},
     "output_type": "execute_result"
    },
    {
     "name": "stderr",
     "output_type": "stream",
     "text": [
      "\u001b[32mINFO:root:templated /projects/trans_scratch/validations/workspace/szong/Cervical/mutsig2cv/extended_cohort/vcf2maf_scripts/HTMCP-03-06-02363.snvs.sh\u001b[0m\n"
     ]
    },
    {
     "data": {
      "text/plain": [
       "'vcf2maf_template_extended_cohort.txt'"
      ]
     },
     "execution_count": 79,
     "metadata": {},
     "output_type": "execute_result"
    },
    {
     "name": "stderr",
     "output_type": "stream",
     "text": [
      "\u001b[32mINFO:root:templated /projects/trans_scratch/validations/workspace/szong/Cervical/mutsig2cv/extended_cohort/vcf2maf_scripts/HTMCP-03-06-02364.snvs.sh\u001b[0m\n"
     ]
    },
    {
     "data": {
      "text/plain": [
       "'vcf2maf_template_extended_cohort.txt'"
      ]
     },
     "execution_count": 79,
     "metadata": {},
     "output_type": "execute_result"
    },
    {
     "name": "stderr",
     "output_type": "stream",
     "text": [
      "\u001b[32mINFO:root:templated /projects/trans_scratch/validations/workspace/szong/Cervical/mutsig2cv/extended_cohort/vcf2maf_scripts/HTMCP-03-06-02365.snvs.sh\u001b[0m\n"
     ]
    },
    {
     "data": {
      "text/plain": [
       "'vcf2maf_template_extended_cohort.txt'"
      ]
     },
     "execution_count": 79,
     "metadata": {},
     "output_type": "execute_result"
    },
    {
     "name": "stderr",
     "output_type": "stream",
     "text": [
      "\u001b[32mINFO:root:templated /projects/trans_scratch/validations/workspace/szong/Cervical/mutsig2cv/extended_cohort/vcf2maf_scripts/HTMCP-03-06-02366.snvs.sh\u001b[0m\n"
     ]
    },
    {
     "data": {
      "text/plain": [
       "'vcf2maf_template_extended_cohort.txt'"
      ]
     },
     "execution_count": 79,
     "metadata": {},
     "output_type": "execute_result"
    },
    {
     "name": "stderr",
     "output_type": "stream",
     "text": [
      "\u001b[32mINFO:root:templated /projects/trans_scratch/validations/workspace/szong/Cervical/mutsig2cv/extended_cohort/vcf2maf_scripts/HTMCP-03-06-02367.snvs.sh\u001b[0m\n"
     ]
    },
    {
     "data": {
      "text/plain": [
       "'vcf2maf_template_extended_cohort.txt'"
      ]
     },
     "execution_count": 79,
     "metadata": {},
     "output_type": "execute_result"
    },
    {
     "name": "stderr",
     "output_type": "stream",
     "text": [
      "\u001b[32mINFO:root:templated /projects/trans_scratch/validations/workspace/szong/Cervical/mutsig2cv/extended_cohort/vcf2maf_scripts/HTMCP-03-06-02368.snvs.sh\u001b[0m\n"
     ]
    },
    {
     "data": {
      "text/plain": [
       "'vcf2maf_template_extended_cohort.txt'"
      ]
     },
     "execution_count": 79,
     "metadata": {},
     "output_type": "execute_result"
    },
    {
     "name": "stderr",
     "output_type": "stream",
     "text": [
      "\u001b[32mINFO:root:templated /projects/trans_scratch/validations/workspace/szong/Cervical/mutsig2cv/extended_cohort/vcf2maf_scripts/HTMCP-03-06-02369.snvs.sh\u001b[0m\n"
     ]
    },
    {
     "data": {
      "text/plain": [
       "'vcf2maf_template_extended_cohort.txt'"
      ]
     },
     "execution_count": 79,
     "metadata": {},
     "output_type": "execute_result"
    },
    {
     "name": "stderr",
     "output_type": "stream",
     "text": [
      "\u001b[32mINFO:root:templated /projects/trans_scratch/validations/workspace/szong/Cervical/mutsig2cv/extended_cohort/vcf2maf_scripts/HTMCP-03-06-02370.snvs.sh\u001b[0m\n"
     ]
    },
    {
     "data": {
      "text/plain": [
       "'vcf2maf_template_extended_cohort.txt'"
      ]
     },
     "execution_count": 79,
     "metadata": {},
     "output_type": "execute_result"
    },
    {
     "name": "stderr",
     "output_type": "stream",
     "text": [
      "\u001b[32mINFO:root:templated /projects/trans_scratch/validations/workspace/szong/Cervical/mutsig2cv/extended_cohort/vcf2maf_scripts/HTMCP-03-06-02373.snvs.sh\u001b[0m\n"
     ]
    },
    {
     "data": {
      "text/plain": [
       "'vcf2maf_template_extended_cohort.txt'"
      ]
     },
     "execution_count": 79,
     "metadata": {},
     "output_type": "execute_result"
    },
    {
     "name": "stderr",
     "output_type": "stream",
     "text": [
      "\u001b[32mINFO:root:templated /projects/trans_scratch/validations/workspace/szong/Cervical/mutsig2cv/extended_cohort/vcf2maf_scripts/HTMCP-03-06-02376.snvs.sh\u001b[0m\n"
     ]
    },
    {
     "data": {
      "text/plain": [
       "'vcf2maf_template_extended_cohort.txt'"
      ]
     },
     "execution_count": 79,
     "metadata": {},
     "output_type": "execute_result"
    },
    {
     "name": "stderr",
     "output_type": "stream",
     "text": [
      "\u001b[32mINFO:root:templated /projects/trans_scratch/validations/workspace/szong/Cervical/mutsig2cv/extended_cohort/vcf2maf_scripts/HTMCP-03-06-02379.snvs.sh\u001b[0m\n"
     ]
    },
    {
     "data": {
      "text/plain": [
       "'vcf2maf_template_extended_cohort.txt'"
      ]
     },
     "execution_count": 79,
     "metadata": {},
     "output_type": "execute_result"
    },
    {
     "name": "stderr",
     "output_type": "stream",
     "text": [
      "\u001b[32mINFO:root:templated /projects/trans_scratch/validations/workspace/szong/Cervical/mutsig2cv/extended_cohort/vcf2maf_scripts/HTMCP-03-06-02380.snvs.sh\u001b[0m\n"
     ]
    },
    {
     "data": {
      "text/plain": [
       "'vcf2maf_template_extended_cohort.txt'"
      ]
     },
     "execution_count": 79,
     "metadata": {},
     "output_type": "execute_result"
    },
    {
     "name": "stderr",
     "output_type": "stream",
     "text": [
      "\u001b[32mINFO:root:templated /projects/trans_scratch/validations/workspace/szong/Cervical/mutsig2cv/extended_cohort/vcf2maf_scripts/HTMCP-03-06-02383.snvs.sh\u001b[0m\n"
     ]
    },
    {
     "data": {
      "text/plain": [
       "'vcf2maf_template_extended_cohort.txt'"
      ]
     },
     "execution_count": 79,
     "metadata": {},
     "output_type": "execute_result"
    },
    {
     "name": "stderr",
     "output_type": "stream",
     "text": [
      "\u001b[32mINFO:root:templated /projects/trans_scratch/validations/workspace/szong/Cervical/mutsig2cv/extended_cohort/vcf2maf_scripts/HTMCP-03-06-02384.snvs.sh\u001b[0m\n"
     ]
    },
    {
     "data": {
      "text/plain": [
       "'vcf2maf_template_extended_cohort.txt'"
      ]
     },
     "execution_count": 79,
     "metadata": {},
     "output_type": "execute_result"
    },
    {
     "name": "stderr",
     "output_type": "stream",
     "text": [
      "\u001b[32mINFO:root:templated /projects/trans_scratch/validations/workspace/szong/Cervical/mutsig2cv/extended_cohort/vcf2maf_scripts/HTMCP-03-06-02385.snvs.sh\u001b[0m\n"
     ]
    },
    {
     "data": {
      "text/plain": [
       "'vcf2maf_template_extended_cohort.txt'"
      ]
     },
     "execution_count": 79,
     "metadata": {},
     "output_type": "execute_result"
    },
    {
     "name": "stderr",
     "output_type": "stream",
     "text": [
      "\u001b[32mINFO:root:templated /projects/trans_scratch/validations/workspace/szong/Cervical/mutsig2cv/extended_cohort/vcf2maf_scripts/HTMCP-03-06-02386.snvs.sh\u001b[0m\n"
     ]
    },
    {
     "data": {
      "text/plain": [
       "'vcf2maf_template_extended_cohort.txt'"
      ]
     },
     "execution_count": 79,
     "metadata": {},
     "output_type": "execute_result"
    },
    {
     "name": "stderr",
     "output_type": "stream",
     "text": [
      "\u001b[32mINFO:root:templated /projects/trans_scratch/validations/workspace/szong/Cervical/mutsig2cv/extended_cohort/vcf2maf_scripts/HTMCP-03-06-02387.snvs.sh\u001b[0m\n"
     ]
    },
    {
     "data": {
      "text/plain": [
       "'vcf2maf_template_extended_cohort.txt'"
      ]
     },
     "execution_count": 79,
     "metadata": {},
     "output_type": "execute_result"
    },
    {
     "name": "stderr",
     "output_type": "stream",
     "text": [
      "\u001b[32mINFO:root:templated /projects/trans_scratch/validations/workspace/szong/Cervical/mutsig2cv/extended_cohort/vcf2maf_scripts/HTMCP-03-06-02389.snvs.sh\u001b[0m\n"
     ]
    },
    {
     "data": {
      "text/plain": [
       "'vcf2maf_template_extended_cohort.txt'"
      ]
     },
     "execution_count": 79,
     "metadata": {},
     "output_type": "execute_result"
    },
    {
     "name": "stderr",
     "output_type": "stream",
     "text": [
      "\u001b[32mINFO:root:templated /projects/trans_scratch/validations/workspace/szong/Cervical/mutsig2cv/extended_cohort/vcf2maf_scripts/HTMCP-03-06-02394.snvs.sh\u001b[0m\n"
     ]
    },
    {
     "data": {
      "text/plain": [
       "'vcf2maf_template_extended_cohort.txt'"
      ]
     },
     "execution_count": 79,
     "metadata": {},
     "output_type": "execute_result"
    },
    {
     "name": "stderr",
     "output_type": "stream",
     "text": [
      "\u001b[32mINFO:root:templated /projects/trans_scratch/validations/workspace/szong/Cervical/mutsig2cv/extended_cohort/vcf2maf_scripts/HTMCP-03-06-02397.snvs.sh\u001b[0m\n"
     ]
    },
    {
     "data": {
      "text/plain": [
       "'vcf2maf_template_extended_cohort.txt'"
      ]
     },
     "execution_count": 79,
     "metadata": {},
     "output_type": "execute_result"
    },
    {
     "name": "stderr",
     "output_type": "stream",
     "text": [
      "\u001b[32mINFO:root:templated /projects/trans_scratch/validations/workspace/szong/Cervical/mutsig2cv/extended_cohort/vcf2maf_scripts/HTMCP-03-06-02399.snvs.sh\u001b[0m\n"
     ]
    },
    {
     "data": {
      "text/plain": [
       "'vcf2maf_template_extended_cohort.txt'"
      ]
     },
     "execution_count": 79,
     "metadata": {},
     "output_type": "execute_result"
    },
    {
     "name": "stderr",
     "output_type": "stream",
     "text": [
      "\u001b[32mINFO:root:templated /projects/trans_scratch/validations/workspace/szong/Cervical/mutsig2cv/extended_cohort/vcf2maf_scripts/HTMCP-03-06-02400.snvs.sh\u001b[0m\n"
     ]
    },
    {
     "data": {
      "text/plain": [
       "'vcf2maf_template_extended_cohort.txt'"
      ]
     },
     "execution_count": 79,
     "metadata": {},
     "output_type": "execute_result"
    },
    {
     "name": "stderr",
     "output_type": "stream",
     "text": [
      "\u001b[32mINFO:root:templated /projects/trans_scratch/validations/workspace/szong/Cervical/mutsig2cv/extended_cohort/vcf2maf_scripts/HTMCP-03-06-02402.snvs.sh\u001b[0m\n"
     ]
    },
    {
     "data": {
      "text/plain": [
       "'vcf2maf_template_extended_cohort.txt'"
      ]
     },
     "execution_count": 79,
     "metadata": {},
     "output_type": "execute_result"
    },
    {
     "name": "stderr",
     "output_type": "stream",
     "text": [
      "\u001b[32mINFO:root:templated /projects/trans_scratch/validations/workspace/szong/Cervical/mutsig2cv/extended_cohort/vcf2maf_scripts/HTMCP-03-06-02404.snvs.sh\u001b[0m\n"
     ]
    },
    {
     "data": {
      "text/plain": [
       "'vcf2maf_template_extended_cohort.txt'"
      ]
     },
     "execution_count": 79,
     "metadata": {},
     "output_type": "execute_result"
    },
    {
     "name": "stderr",
     "output_type": "stream",
     "text": [
      "\u001b[32mINFO:root:templated /projects/trans_scratch/validations/workspace/szong/Cervical/mutsig2cv/extended_cohort/vcf2maf_scripts/HTMCP-03-06-02406.snvs.sh\u001b[0m\n"
     ]
    },
    {
     "data": {
      "text/plain": [
       "'vcf2maf_template_extended_cohort.txt'"
      ]
     },
     "execution_count": 79,
     "metadata": {},
     "output_type": "execute_result"
    },
    {
     "name": "stderr",
     "output_type": "stream",
     "text": [
      "\u001b[32mINFO:root:templated /projects/trans_scratch/validations/workspace/szong/Cervical/mutsig2cv/extended_cohort/vcf2maf_scripts/HTMCP-03-06-02407.snvs.sh\u001b[0m\n"
     ]
    },
    {
     "data": {
      "text/plain": [
       "'vcf2maf_template_extended_cohort.txt'"
      ]
     },
     "execution_count": 79,
     "metadata": {},
     "output_type": "execute_result"
    },
    {
     "name": "stderr",
     "output_type": "stream",
     "text": [
      "\u001b[32mINFO:root:templated /projects/trans_scratch/validations/workspace/szong/Cervical/mutsig2cv/extended_cohort/vcf2maf_scripts/HTMCP-03-06-02408.snvs.sh\u001b[0m\n"
     ]
    },
    {
     "data": {
      "text/plain": [
       "'vcf2maf_template_extended_cohort.txt'"
      ]
     },
     "execution_count": 79,
     "metadata": {},
     "output_type": "execute_result"
    },
    {
     "name": "stderr",
     "output_type": "stream",
     "text": [
      "\u001b[32mINFO:root:templated /projects/trans_scratch/validations/workspace/szong/Cervical/mutsig2cv/extended_cohort/vcf2maf_scripts/HTMCP-03-06-02409.snvs.sh\u001b[0m\n"
     ]
    },
    {
     "data": {
      "text/plain": [
       "'vcf2maf_template_extended_cohort.txt'"
      ]
     },
     "execution_count": 79,
     "metadata": {},
     "output_type": "execute_result"
    },
    {
     "name": "stderr",
     "output_type": "stream",
     "text": [
      "\u001b[32mINFO:root:templated /projects/trans_scratch/validations/workspace/szong/Cervical/mutsig2cv/extended_cohort/vcf2maf_scripts/HTMCP-03-06-02410.snvs.sh\u001b[0m\n"
     ]
    },
    {
     "data": {
      "text/plain": [
       "'vcf2maf_template_extended_cohort.txt'"
      ]
     },
     "execution_count": 79,
     "metadata": {},
     "output_type": "execute_result"
    },
    {
     "name": "stderr",
     "output_type": "stream",
     "text": [
      "\u001b[32mINFO:root:templated /projects/trans_scratch/validations/workspace/szong/Cervical/mutsig2cv/extended_cohort/vcf2maf_scripts/HTMCP-03-06-02412.snvs.sh\u001b[0m\n"
     ]
    },
    {
     "data": {
      "text/plain": [
       "'vcf2maf_template_extended_cohort.txt'"
      ]
     },
     "execution_count": 79,
     "metadata": {},
     "output_type": "execute_result"
    },
    {
     "name": "stderr",
     "output_type": "stream",
     "text": [
      "\u001b[32mINFO:root:templated /projects/trans_scratch/validations/workspace/szong/Cervical/mutsig2cv/extended_cohort/vcf2maf_scripts/HTMCP-03-06-02416.snvs.sh\u001b[0m\n"
     ]
    },
    {
     "data": {
      "text/plain": [
       "'vcf2maf_template_extended_cohort.txt'"
      ]
     },
     "execution_count": 79,
     "metadata": {},
     "output_type": "execute_result"
    },
    {
     "name": "stderr",
     "output_type": "stream",
     "text": [
      "\u001b[32mINFO:root:templated /projects/trans_scratch/validations/workspace/szong/Cervical/mutsig2cv/extended_cohort/vcf2maf_scripts/HTMCP-03-06-02421.snvs.sh\u001b[0m\n"
     ]
    },
    {
     "data": {
      "text/plain": [
       "'vcf2maf_template_extended_cohort.txt'"
      ]
     },
     "execution_count": 79,
     "metadata": {},
     "output_type": "execute_result"
    },
    {
     "name": "stderr",
     "output_type": "stream",
     "text": [
      "\u001b[32mINFO:root:templated /projects/trans_scratch/validations/workspace/szong/Cervical/mutsig2cv/extended_cohort/vcf2maf_scripts/HTMCP-03-06-02423.snvs.sh\u001b[0m\n"
     ]
    },
    {
     "data": {
      "text/plain": [
       "'vcf2maf_template_extended_cohort.txt'"
      ]
     },
     "execution_count": 79,
     "metadata": {},
     "output_type": "execute_result"
    },
    {
     "name": "stderr",
     "output_type": "stream",
     "text": [
      "\u001b[32mINFO:root:templated /projects/trans_scratch/validations/workspace/szong/Cervical/mutsig2cv/extended_cohort/vcf2maf_scripts/HTMCP-03-06-02425.snvs.sh\u001b[0m\n"
     ]
    },
    {
     "data": {
      "text/plain": [
       "'vcf2maf_template_extended_cohort.txt'"
      ]
     },
     "execution_count": 79,
     "metadata": {},
     "output_type": "execute_result"
    },
    {
     "name": "stderr",
     "output_type": "stream",
     "text": [
      "\u001b[32mINFO:root:templated /projects/trans_scratch/validations/workspace/szong/Cervical/mutsig2cv/extended_cohort/vcf2maf_scripts/HTMCP-03-06-02426.snvs.sh\u001b[0m\n"
     ]
    },
    {
     "data": {
      "text/plain": [
       "'vcf2maf_template_extended_cohort.txt'"
      ]
     },
     "execution_count": 79,
     "metadata": {},
     "output_type": "execute_result"
    },
    {
     "name": "stderr",
     "output_type": "stream",
     "text": [
      "\u001b[32mINFO:root:templated /projects/trans_scratch/validations/workspace/szong/Cervical/mutsig2cv/extended_cohort/vcf2maf_scripts/HTMCP-03-06-02439.snvs.sh\u001b[0m\n"
     ]
    },
    {
     "data": {
      "text/plain": [
       "'vcf2maf_template_extended_cohort.txt'"
      ]
     },
     "execution_count": 79,
     "metadata": {},
     "output_type": "execute_result"
    },
    {
     "name": "stderr",
     "output_type": "stream",
     "text": [
      "\u001b[32mINFO:root:templated /projects/trans_scratch/validations/workspace/szong/Cervical/mutsig2cv/extended_cohort/vcf2maf_scripts/HTMCP-03-06-02446.snvs.sh\u001b[0m\n"
     ]
    },
    {
     "data": {
      "text/plain": [
       "'vcf2maf_template_extended_cohort.txt'"
      ]
     },
     "execution_count": 79,
     "metadata": {},
     "output_type": "execute_result"
    },
    {
     "name": "stderr",
     "output_type": "stream",
     "text": [
      "\u001b[32mINFO:root:templated /projects/trans_scratch/validations/workspace/szong/Cervical/mutsig2cv/extended_cohort/vcf2maf_scripts/HTMCP-03-06-02025.indels.sh\u001b[0m\n"
     ]
    },
    {
     "data": {
      "text/plain": [
       "'vcf2maf_template_extended_cohort.txt'"
      ]
     },
     "execution_count": 79,
     "metadata": {},
     "output_type": "execute_result"
    },
    {
     "name": "stderr",
     "output_type": "stream",
     "text": [
      "\u001b[32mINFO:root:templated /projects/trans_scratch/validations/workspace/szong/Cervical/mutsig2cv/extended_cohort/vcf2maf_scripts/HTMCP-03-06-02044.indels.sh\u001b[0m\n"
     ]
    },
    {
     "data": {
      "text/plain": [
       "'vcf2maf_template_extended_cohort.txt'"
      ]
     },
     "execution_count": 79,
     "metadata": {},
     "output_type": "execute_result"
    },
    {
     "name": "stderr",
     "output_type": "stream",
     "text": [
      "\u001b[32mINFO:root:templated /projects/trans_scratch/validations/workspace/szong/Cervical/mutsig2cv/extended_cohort/vcf2maf_scripts/HTMCP-03-06-02060.indels.sh\u001b[0m\n"
     ]
    },
    {
     "data": {
      "text/plain": [
       "'vcf2maf_template_extended_cohort.txt'"
      ]
     },
     "execution_count": 79,
     "metadata": {},
     "output_type": "execute_result"
    },
    {
     "name": "stderr",
     "output_type": "stream",
     "text": [
      "\u001b[32mINFO:root:templated /projects/trans_scratch/validations/workspace/szong/Cervical/mutsig2cv/extended_cohort/vcf2maf_scripts/HTMCP-03-06-02061.indels.sh\u001b[0m\n"
     ]
    },
    {
     "data": {
      "text/plain": [
       "'vcf2maf_template_extended_cohort.txt'"
      ]
     },
     "execution_count": 79,
     "metadata": {},
     "output_type": "execute_result"
    },
    {
     "name": "stderr",
     "output_type": "stream",
     "text": [
      "\u001b[32mINFO:root:templated /projects/trans_scratch/validations/workspace/szong/Cervical/mutsig2cv/extended_cohort/vcf2maf_scripts/HTMCP-03-06-02062.indels.sh\u001b[0m\n"
     ]
    },
    {
     "data": {
      "text/plain": [
       "'vcf2maf_template_extended_cohort.txt'"
      ]
     },
     "execution_count": 79,
     "metadata": {},
     "output_type": "execute_result"
    },
    {
     "name": "stderr",
     "output_type": "stream",
     "text": [
      "\u001b[32mINFO:root:templated /projects/trans_scratch/validations/workspace/szong/Cervical/mutsig2cv/extended_cohort/vcf2maf_scripts/HTMCP-03-06-02066.indels.sh\u001b[0m\n"
     ]
    },
    {
     "data": {
      "text/plain": [
       "'vcf2maf_template_extended_cohort.txt'"
      ]
     },
     "execution_count": 79,
     "metadata": {},
     "output_type": "execute_result"
    },
    {
     "name": "stderr",
     "output_type": "stream",
     "text": [
      "\u001b[32mINFO:root:templated /projects/trans_scratch/validations/workspace/szong/Cervical/mutsig2cv/extended_cohort/vcf2maf_scripts/HTMCP-03-06-02067.indels.sh\u001b[0m\n"
     ]
    },
    {
     "data": {
      "text/plain": [
       "'vcf2maf_template_extended_cohort.txt'"
      ]
     },
     "execution_count": 79,
     "metadata": {},
     "output_type": "execute_result"
    },
    {
     "name": "stderr",
     "output_type": "stream",
     "text": [
      "\u001b[32mINFO:root:templated /projects/trans_scratch/validations/workspace/szong/Cervical/mutsig2cv/extended_cohort/vcf2maf_scripts/HTMCP-03-06-02072.indels.sh\u001b[0m\n"
     ]
    },
    {
     "data": {
      "text/plain": [
       "'vcf2maf_template_extended_cohort.txt'"
      ]
     },
     "execution_count": 79,
     "metadata": {},
     "output_type": "execute_result"
    },
    {
     "name": "stderr",
     "output_type": "stream",
     "text": [
      "\u001b[32mINFO:root:templated /projects/trans_scratch/validations/workspace/szong/Cervical/mutsig2cv/extended_cohort/vcf2maf_scripts/HTMCP-03-06-02081.indels.sh\u001b[0m\n"
     ]
    },
    {
     "data": {
      "text/plain": [
       "'vcf2maf_template_extended_cohort.txt'"
      ]
     },
     "execution_count": 79,
     "metadata": {},
     "output_type": "execute_result"
    },
    {
     "name": "stderr",
     "output_type": "stream",
     "text": [
      "\u001b[32mINFO:root:templated /projects/trans_scratch/validations/workspace/szong/Cervical/mutsig2cv/extended_cohort/vcf2maf_scripts/HTMCP-03-06-02082.indels.sh\u001b[0m\n"
     ]
    },
    {
     "data": {
      "text/plain": [
       "'vcf2maf_template_extended_cohort.txt'"
      ]
     },
     "execution_count": 79,
     "metadata": {},
     "output_type": "execute_result"
    },
    {
     "name": "stderr",
     "output_type": "stream",
     "text": [
      "\u001b[32mINFO:root:templated /projects/trans_scratch/validations/workspace/szong/Cervical/mutsig2cv/extended_cohort/vcf2maf_scripts/HTMCP-03-06-02084.indels.sh\u001b[0m\n"
     ]
    },
    {
     "data": {
      "text/plain": [
       "'vcf2maf_template_extended_cohort.txt'"
      ]
     },
     "execution_count": 79,
     "metadata": {},
     "output_type": "execute_result"
    },
    {
     "name": "stderr",
     "output_type": "stream",
     "text": [
      "\u001b[32mINFO:root:templated /projects/trans_scratch/validations/workspace/szong/Cervical/mutsig2cv/extended_cohort/vcf2maf_scripts/HTMCP-03-06-02096.indels.sh\u001b[0m\n"
     ]
    },
    {
     "data": {
      "text/plain": [
       "'vcf2maf_template_extended_cohort.txt'"
      ]
     },
     "execution_count": 79,
     "metadata": {},
     "output_type": "execute_result"
    },
    {
     "name": "stderr",
     "output_type": "stream",
     "text": [
      "\u001b[32mINFO:root:templated /projects/trans_scratch/validations/workspace/szong/Cervical/mutsig2cv/extended_cohort/vcf2maf_scripts/HTMCP-03-06-02101.indels.sh\u001b[0m\n"
     ]
    },
    {
     "data": {
      "text/plain": [
       "'vcf2maf_template_extended_cohort.txt'"
      ]
     },
     "execution_count": 79,
     "metadata": {},
     "output_type": "execute_result"
    },
    {
     "name": "stderr",
     "output_type": "stream",
     "text": [
      "\u001b[32mINFO:root:templated /projects/trans_scratch/validations/workspace/szong/Cervical/mutsig2cv/extended_cohort/vcf2maf_scripts/HTMCP-03-06-02104.indels.sh\u001b[0m\n"
     ]
    },
    {
     "data": {
      "text/plain": [
       "'vcf2maf_template_extended_cohort.txt'"
      ]
     },
     "execution_count": 79,
     "metadata": {},
     "output_type": "execute_result"
    },
    {
     "name": "stderr",
     "output_type": "stream",
     "text": [
      "\u001b[32mINFO:root:templated /projects/trans_scratch/validations/workspace/szong/Cervical/mutsig2cv/extended_cohort/vcf2maf_scripts/HTMCP-03-06-02111.indels.sh\u001b[0m\n"
     ]
    },
    {
     "data": {
      "text/plain": [
       "'vcf2maf_template_extended_cohort.txt'"
      ]
     },
     "execution_count": 79,
     "metadata": {},
     "output_type": "execute_result"
    },
    {
     "name": "stderr",
     "output_type": "stream",
     "text": [
      "\u001b[32mINFO:root:templated /projects/trans_scratch/validations/workspace/szong/Cervical/mutsig2cv/extended_cohort/vcf2maf_scripts/HTMCP-03-06-02112.indels.sh\u001b[0m\n"
     ]
    },
    {
     "data": {
      "text/plain": [
       "'vcf2maf_template_extended_cohort.txt'"
      ]
     },
     "execution_count": 79,
     "metadata": {},
     "output_type": "execute_result"
    },
    {
     "name": "stderr",
     "output_type": "stream",
     "text": [
      "\u001b[32mINFO:root:templated /projects/trans_scratch/validations/workspace/szong/Cervical/mutsig2cv/extended_cohort/vcf2maf_scripts/HTMCP-03-06-02118.indels.sh\u001b[0m\n"
     ]
    },
    {
     "data": {
      "text/plain": [
       "'vcf2maf_template_extended_cohort.txt'"
      ]
     },
     "execution_count": 79,
     "metadata": {},
     "output_type": "execute_result"
    },
    {
     "name": "stderr",
     "output_type": "stream",
     "text": [
      "\u001b[32mINFO:root:templated /projects/trans_scratch/validations/workspace/szong/Cervical/mutsig2cv/extended_cohort/vcf2maf_scripts/HTMCP-03-06-02121.indels.sh\u001b[0m\n"
     ]
    },
    {
     "data": {
      "text/plain": [
       "'vcf2maf_template_extended_cohort.txt'"
      ]
     },
     "execution_count": 79,
     "metadata": {},
     "output_type": "execute_result"
    },
    {
     "name": "stderr",
     "output_type": "stream",
     "text": [
      "\u001b[32mINFO:root:templated /projects/trans_scratch/validations/workspace/szong/Cervical/mutsig2cv/extended_cohort/vcf2maf_scripts/HTMCP-03-06-02123.indels.sh\u001b[0m\n"
     ]
    },
    {
     "data": {
      "text/plain": [
       "'vcf2maf_template_extended_cohort.txt'"
      ]
     },
     "execution_count": 79,
     "metadata": {},
     "output_type": "execute_result"
    },
    {
     "name": "stderr",
     "output_type": "stream",
     "text": [
      "\u001b[32mINFO:root:templated /projects/trans_scratch/validations/workspace/szong/Cervical/mutsig2cv/extended_cohort/vcf2maf_scripts/HTMCP-03-06-02129.indels.sh\u001b[0m\n"
     ]
    },
    {
     "data": {
      "text/plain": [
       "'vcf2maf_template_extended_cohort.txt'"
      ]
     },
     "execution_count": 79,
     "metadata": {},
     "output_type": "execute_result"
    },
    {
     "name": "stderr",
     "output_type": "stream",
     "text": [
      "\u001b[32mINFO:root:templated /projects/trans_scratch/validations/workspace/szong/Cervical/mutsig2cv/extended_cohort/vcf2maf_scripts/HTMCP-03-06-02137.indels.sh\u001b[0m\n"
     ]
    },
    {
     "data": {
      "text/plain": [
       "'vcf2maf_template_extended_cohort.txt'"
      ]
     },
     "execution_count": 79,
     "metadata": {},
     "output_type": "execute_result"
    },
    {
     "name": "stderr",
     "output_type": "stream",
     "text": [
      "\u001b[32mINFO:root:templated /projects/trans_scratch/validations/workspace/szong/Cervical/mutsig2cv/extended_cohort/vcf2maf_scripts/HTMCP-03-06-02138.indels.sh\u001b[0m\n"
     ]
    },
    {
     "data": {
      "text/plain": [
       "'vcf2maf_template_extended_cohort.txt'"
      ]
     },
     "execution_count": 79,
     "metadata": {},
     "output_type": "execute_result"
    },
    {
     "name": "stderr",
     "output_type": "stream",
     "text": [
      "\u001b[32mINFO:root:templated /projects/trans_scratch/validations/workspace/szong/Cervical/mutsig2cv/extended_cohort/vcf2maf_scripts/HTMCP-03-06-02146.indels.sh\u001b[0m\n"
     ]
    },
    {
     "data": {
      "text/plain": [
       "'vcf2maf_template_extended_cohort.txt'"
      ]
     },
     "execution_count": 79,
     "metadata": {},
     "output_type": "execute_result"
    },
    {
     "name": "stderr",
     "output_type": "stream",
     "text": [
      "\u001b[32mINFO:root:templated /projects/trans_scratch/validations/workspace/szong/Cervical/mutsig2cv/extended_cohort/vcf2maf_scripts/HTMCP-03-06-02158.indels.sh\u001b[0m\n"
     ]
    },
    {
     "data": {
      "text/plain": [
       "'vcf2maf_template_extended_cohort.txt'"
      ]
     },
     "execution_count": 79,
     "metadata": {},
     "output_type": "execute_result"
    },
    {
     "name": "stderr",
     "output_type": "stream",
     "text": [
      "\u001b[32mINFO:root:templated /projects/trans_scratch/validations/workspace/szong/Cervical/mutsig2cv/extended_cohort/vcf2maf_scripts/HTMCP-03-06-02173.indels.sh\u001b[0m\n"
     ]
    },
    {
     "data": {
      "text/plain": [
       "'vcf2maf_template_extended_cohort.txt'"
      ]
     },
     "execution_count": 79,
     "metadata": {},
     "output_type": "execute_result"
    },
    {
     "name": "stderr",
     "output_type": "stream",
     "text": [
      "\u001b[32mINFO:root:templated /projects/trans_scratch/validations/workspace/szong/Cervical/mutsig2cv/extended_cohort/vcf2maf_scripts/HTMCP-03-06-02187.indels.sh\u001b[0m\n"
     ]
    },
    {
     "data": {
      "text/plain": [
       "'vcf2maf_template_extended_cohort.txt'"
      ]
     },
     "execution_count": 79,
     "metadata": {},
     "output_type": "execute_result"
    },
    {
     "name": "stderr",
     "output_type": "stream",
     "text": [
      "\u001b[32mINFO:root:templated /projects/trans_scratch/validations/workspace/szong/Cervical/mutsig2cv/extended_cohort/vcf2maf_scripts/HTMCP-03-06-02188.indels.sh\u001b[0m\n"
     ]
    },
    {
     "data": {
      "text/plain": [
       "'vcf2maf_template_extended_cohort.txt'"
      ]
     },
     "execution_count": 79,
     "metadata": {},
     "output_type": "execute_result"
    },
    {
     "name": "stderr",
     "output_type": "stream",
     "text": [
      "\u001b[32mINFO:root:templated /projects/trans_scratch/validations/workspace/szong/Cervical/mutsig2cv/extended_cohort/vcf2maf_scripts/HTMCP-03-06-02189.indels.sh\u001b[0m\n"
     ]
    },
    {
     "data": {
      "text/plain": [
       "'vcf2maf_template_extended_cohort.txt'"
      ]
     },
     "execution_count": 79,
     "metadata": {},
     "output_type": "execute_result"
    },
    {
     "name": "stderr",
     "output_type": "stream",
     "text": [
      "\u001b[32mINFO:root:templated /projects/trans_scratch/validations/workspace/szong/Cervical/mutsig2cv/extended_cohort/vcf2maf_scripts/HTMCP-03-06-02193.indels.sh\u001b[0m\n"
     ]
    },
    {
     "data": {
      "text/plain": [
       "'vcf2maf_template_extended_cohort.txt'"
      ]
     },
     "execution_count": 79,
     "metadata": {},
     "output_type": "execute_result"
    },
    {
     "name": "stderr",
     "output_type": "stream",
     "text": [
      "\u001b[32mINFO:root:templated /projects/trans_scratch/validations/workspace/szong/Cervical/mutsig2cv/extended_cohort/vcf2maf_scripts/HTMCP-03-06-02206.indels.sh\u001b[0m\n"
     ]
    },
    {
     "data": {
      "text/plain": [
       "'vcf2maf_template_extended_cohort.txt'"
      ]
     },
     "execution_count": 79,
     "metadata": {},
     "output_type": "execute_result"
    },
    {
     "name": "stderr",
     "output_type": "stream",
     "text": [
      "\u001b[32mINFO:root:templated /projects/trans_scratch/validations/workspace/szong/Cervical/mutsig2cv/extended_cohort/vcf2maf_scripts/HTMCP-03-06-02211.indels.sh\u001b[0m\n"
     ]
    },
    {
     "data": {
      "text/plain": [
       "'vcf2maf_template_extended_cohort.txt'"
      ]
     },
     "execution_count": 79,
     "metadata": {},
     "output_type": "execute_result"
    },
    {
     "name": "stderr",
     "output_type": "stream",
     "text": [
      "\u001b[32mINFO:root:templated /projects/trans_scratch/validations/workspace/szong/Cervical/mutsig2cv/extended_cohort/vcf2maf_scripts/HTMCP-03-06-02218.indels.sh\u001b[0m\n"
     ]
    },
    {
     "data": {
      "text/plain": [
       "'vcf2maf_template_extended_cohort.txt'"
      ]
     },
     "execution_count": 79,
     "metadata": {},
     "output_type": "execute_result"
    },
    {
     "name": "stderr",
     "output_type": "stream",
     "text": [
      "\u001b[32mINFO:root:templated /projects/trans_scratch/validations/workspace/szong/Cervical/mutsig2cv/extended_cohort/vcf2maf_scripts/HTMCP-03-06-02220.indels.sh\u001b[0m\n"
     ]
    },
    {
     "data": {
      "text/plain": [
       "'vcf2maf_template_extended_cohort.txt'"
      ]
     },
     "execution_count": 79,
     "metadata": {},
     "output_type": "execute_result"
    },
    {
     "name": "stderr",
     "output_type": "stream",
     "text": [
      "\u001b[32mINFO:root:templated /projects/trans_scratch/validations/workspace/szong/Cervical/mutsig2cv/extended_cohort/vcf2maf_scripts/HTMCP-03-06-02246.indels.sh\u001b[0m\n"
     ]
    },
    {
     "data": {
      "text/plain": [
       "'vcf2maf_template_extended_cohort.txt'"
      ]
     },
     "execution_count": 79,
     "metadata": {},
     "output_type": "execute_result"
    },
    {
     "name": "stderr",
     "output_type": "stream",
     "text": [
      "\u001b[32mINFO:root:templated /projects/trans_scratch/validations/workspace/szong/Cervical/mutsig2cv/extended_cohort/vcf2maf_scripts/HTMCP-03-06-02321.indels.sh\u001b[0m\n"
     ]
    },
    {
     "data": {
      "text/plain": [
       "'vcf2maf_template_extended_cohort.txt'"
      ]
     },
     "execution_count": 79,
     "metadata": {},
     "output_type": "execute_result"
    },
    {
     "name": "stderr",
     "output_type": "stream",
     "text": [
      "\u001b[32mINFO:root:templated /projects/trans_scratch/validations/workspace/szong/Cervical/mutsig2cv/extended_cohort/vcf2maf_scripts/HTMCP-03-06-02327.indels.sh\u001b[0m\n"
     ]
    },
    {
     "data": {
      "text/plain": [
       "'vcf2maf_template_extended_cohort.txt'"
      ]
     },
     "execution_count": 79,
     "metadata": {},
     "output_type": "execute_result"
    },
    {
     "name": "stderr",
     "output_type": "stream",
     "text": [
      "\u001b[32mINFO:root:templated /projects/trans_scratch/validations/workspace/szong/Cervical/mutsig2cv/extended_cohort/vcf2maf_scripts/HTMCP-03-06-02334.indels.sh\u001b[0m\n"
     ]
    },
    {
     "data": {
      "text/plain": [
       "'vcf2maf_template_extended_cohort.txt'"
      ]
     },
     "execution_count": 79,
     "metadata": {},
     "output_type": "execute_result"
    },
    {
     "name": "stderr",
     "output_type": "stream",
     "text": [
      "\u001b[32mINFO:root:templated /projects/trans_scratch/validations/workspace/szong/Cervical/mutsig2cv/extended_cohort/vcf2maf_scripts/HTMCP-03-06-02337.indels.sh\u001b[0m\n"
     ]
    },
    {
     "data": {
      "text/plain": [
       "'vcf2maf_template_extended_cohort.txt'"
      ]
     },
     "execution_count": 79,
     "metadata": {},
     "output_type": "execute_result"
    },
    {
     "name": "stderr",
     "output_type": "stream",
     "text": [
      "\u001b[32mINFO:root:templated /projects/trans_scratch/validations/workspace/szong/Cervical/mutsig2cv/extended_cohort/vcf2maf_scripts/HTMCP-03-06-02338.indels.sh\u001b[0m\n"
     ]
    },
    {
     "data": {
      "text/plain": [
       "'vcf2maf_template_extended_cohort.txt'"
      ]
     },
     "execution_count": 79,
     "metadata": {},
     "output_type": "execute_result"
    },
    {
     "name": "stderr",
     "output_type": "stream",
     "text": [
      "\u001b[32mINFO:root:templated /projects/trans_scratch/validations/workspace/szong/Cervical/mutsig2cv/extended_cohort/vcf2maf_scripts/HTMCP-03-06-02339.indels.sh\u001b[0m\n"
     ]
    },
    {
     "data": {
      "text/plain": [
       "'vcf2maf_template_extended_cohort.txt'"
      ]
     },
     "execution_count": 79,
     "metadata": {},
     "output_type": "execute_result"
    },
    {
     "name": "stderr",
     "output_type": "stream",
     "text": [
      "\u001b[32mINFO:root:templated /projects/trans_scratch/validations/workspace/szong/Cervical/mutsig2cv/extended_cohort/vcf2maf_scripts/HTMCP-03-06-02342.indels.sh\u001b[0m\n"
     ]
    },
    {
     "data": {
      "text/plain": [
       "'vcf2maf_template_extended_cohort.txt'"
      ]
     },
     "execution_count": 79,
     "metadata": {},
     "output_type": "execute_result"
    },
    {
     "name": "stderr",
     "output_type": "stream",
     "text": [
      "\u001b[32mINFO:root:templated /projects/trans_scratch/validations/workspace/szong/Cervical/mutsig2cv/extended_cohort/vcf2maf_scripts/HTMCP-03-06-02343.indels.sh\u001b[0m\n"
     ]
    },
    {
     "data": {
      "text/plain": [
       "'vcf2maf_template_extended_cohort.txt'"
      ]
     },
     "execution_count": 79,
     "metadata": {},
     "output_type": "execute_result"
    },
    {
     "name": "stderr",
     "output_type": "stream",
     "text": [
      "\u001b[32mINFO:root:templated /projects/trans_scratch/validations/workspace/szong/Cervical/mutsig2cv/extended_cohort/vcf2maf_scripts/HTMCP-03-06-02345.indels.sh\u001b[0m\n"
     ]
    },
    {
     "data": {
      "text/plain": [
       "'vcf2maf_template_extended_cohort.txt'"
      ]
     },
     "execution_count": 79,
     "metadata": {},
     "output_type": "execute_result"
    },
    {
     "name": "stderr",
     "output_type": "stream",
     "text": [
      "\u001b[32mINFO:root:templated /projects/trans_scratch/validations/workspace/szong/Cervical/mutsig2cv/extended_cohort/vcf2maf_scripts/HTMCP-03-06-02347.indels.sh\u001b[0m\n"
     ]
    },
    {
     "data": {
      "text/plain": [
       "'vcf2maf_template_extended_cohort.txt'"
      ]
     },
     "execution_count": 79,
     "metadata": {},
     "output_type": "execute_result"
    },
    {
     "name": "stderr",
     "output_type": "stream",
     "text": [
      "\u001b[32mINFO:root:templated /projects/trans_scratch/validations/workspace/szong/Cervical/mutsig2cv/extended_cohort/vcf2maf_scripts/HTMCP-03-06-02352.indels.sh\u001b[0m\n"
     ]
    },
    {
     "data": {
      "text/plain": [
       "'vcf2maf_template_extended_cohort.txt'"
      ]
     },
     "execution_count": 79,
     "metadata": {},
     "output_type": "execute_result"
    },
    {
     "name": "stderr",
     "output_type": "stream",
     "text": [
      "\u001b[32mINFO:root:templated /projects/trans_scratch/validations/workspace/szong/Cervical/mutsig2cv/extended_cohort/vcf2maf_scripts/HTMCP-03-06-02356.indels.sh\u001b[0m\n"
     ]
    },
    {
     "data": {
      "text/plain": [
       "'vcf2maf_template_extended_cohort.txt'"
      ]
     },
     "execution_count": 79,
     "metadata": {},
     "output_type": "execute_result"
    },
    {
     "name": "stderr",
     "output_type": "stream",
     "text": [
      "\u001b[32mINFO:root:templated /projects/trans_scratch/validations/workspace/szong/Cervical/mutsig2cv/extended_cohort/vcf2maf_scripts/HTMCP-03-06-02357.indels.sh\u001b[0m\n"
     ]
    },
    {
     "data": {
      "text/plain": [
       "'vcf2maf_template_extended_cohort.txt'"
      ]
     },
     "execution_count": 79,
     "metadata": {},
     "output_type": "execute_result"
    },
    {
     "name": "stderr",
     "output_type": "stream",
     "text": [
      "\u001b[32mINFO:root:templated /projects/trans_scratch/validations/workspace/szong/Cervical/mutsig2cv/extended_cohort/vcf2maf_scripts/HTMCP-03-06-02360.indels.sh\u001b[0m\n"
     ]
    },
    {
     "data": {
      "text/plain": [
       "'vcf2maf_template_extended_cohort.txt'"
      ]
     },
     "execution_count": 79,
     "metadata": {},
     "output_type": "execute_result"
    },
    {
     "name": "stderr",
     "output_type": "stream",
     "text": [
      "\u001b[32mINFO:root:templated /projects/trans_scratch/validations/workspace/szong/Cervical/mutsig2cv/extended_cohort/vcf2maf_scripts/HTMCP-03-06-02361.indels.sh\u001b[0m\n"
     ]
    },
    {
     "data": {
      "text/plain": [
       "'vcf2maf_template_extended_cohort.txt'"
      ]
     },
     "execution_count": 79,
     "metadata": {},
     "output_type": "execute_result"
    },
    {
     "name": "stderr",
     "output_type": "stream",
     "text": [
      "\u001b[32mINFO:root:templated /projects/trans_scratch/validations/workspace/szong/Cervical/mutsig2cv/extended_cohort/vcf2maf_scripts/HTMCP-03-06-02362.indels.sh\u001b[0m\n"
     ]
    },
    {
     "data": {
      "text/plain": [
       "'vcf2maf_template_extended_cohort.txt'"
      ]
     },
     "execution_count": 79,
     "metadata": {},
     "output_type": "execute_result"
    },
    {
     "name": "stderr",
     "output_type": "stream",
     "text": [
      "\u001b[32mINFO:root:templated /projects/trans_scratch/validations/workspace/szong/Cervical/mutsig2cv/extended_cohort/vcf2maf_scripts/HTMCP-03-06-02363.indels.sh\u001b[0m\n"
     ]
    },
    {
     "data": {
      "text/plain": [
       "'vcf2maf_template_extended_cohort.txt'"
      ]
     },
     "execution_count": 79,
     "metadata": {},
     "output_type": "execute_result"
    },
    {
     "name": "stderr",
     "output_type": "stream",
     "text": [
      "\u001b[32mINFO:root:templated /projects/trans_scratch/validations/workspace/szong/Cervical/mutsig2cv/extended_cohort/vcf2maf_scripts/HTMCP-03-06-02364.indels.sh\u001b[0m\n"
     ]
    },
    {
     "data": {
      "text/plain": [
       "'vcf2maf_template_extended_cohort.txt'"
      ]
     },
     "execution_count": 79,
     "metadata": {},
     "output_type": "execute_result"
    },
    {
     "name": "stderr",
     "output_type": "stream",
     "text": [
      "\u001b[32mINFO:root:templated /projects/trans_scratch/validations/workspace/szong/Cervical/mutsig2cv/extended_cohort/vcf2maf_scripts/HTMCP-03-06-02365.indels.sh\u001b[0m\n"
     ]
    },
    {
     "data": {
      "text/plain": [
       "'vcf2maf_template_extended_cohort.txt'"
      ]
     },
     "execution_count": 79,
     "metadata": {},
     "output_type": "execute_result"
    },
    {
     "name": "stderr",
     "output_type": "stream",
     "text": [
      "\u001b[32mINFO:root:templated /projects/trans_scratch/validations/workspace/szong/Cervical/mutsig2cv/extended_cohort/vcf2maf_scripts/HTMCP-03-06-02366.indels.sh\u001b[0m\n"
     ]
    },
    {
     "data": {
      "text/plain": [
       "'vcf2maf_template_extended_cohort.txt'"
      ]
     },
     "execution_count": 79,
     "metadata": {},
     "output_type": "execute_result"
    },
    {
     "name": "stderr",
     "output_type": "stream",
     "text": [
      "\u001b[32mINFO:root:templated /projects/trans_scratch/validations/workspace/szong/Cervical/mutsig2cv/extended_cohort/vcf2maf_scripts/HTMCP-03-06-02367.indels.sh\u001b[0m\n"
     ]
    },
    {
     "data": {
      "text/plain": [
       "'vcf2maf_template_extended_cohort.txt'"
      ]
     },
     "execution_count": 79,
     "metadata": {},
     "output_type": "execute_result"
    },
    {
     "name": "stderr",
     "output_type": "stream",
     "text": [
      "\u001b[32mINFO:root:templated /projects/trans_scratch/validations/workspace/szong/Cervical/mutsig2cv/extended_cohort/vcf2maf_scripts/HTMCP-03-06-02368.indels.sh\u001b[0m\n"
     ]
    },
    {
     "data": {
      "text/plain": [
       "'vcf2maf_template_extended_cohort.txt'"
      ]
     },
     "execution_count": 79,
     "metadata": {},
     "output_type": "execute_result"
    },
    {
     "name": "stderr",
     "output_type": "stream",
     "text": [
      "\u001b[32mINFO:root:templated /projects/trans_scratch/validations/workspace/szong/Cervical/mutsig2cv/extended_cohort/vcf2maf_scripts/HTMCP-03-06-02369.indels.sh\u001b[0m\n"
     ]
    },
    {
     "data": {
      "text/plain": [
       "'vcf2maf_template_extended_cohort.txt'"
      ]
     },
     "execution_count": 79,
     "metadata": {},
     "output_type": "execute_result"
    },
    {
     "name": "stderr",
     "output_type": "stream",
     "text": [
      "\u001b[32mINFO:root:templated /projects/trans_scratch/validations/workspace/szong/Cervical/mutsig2cv/extended_cohort/vcf2maf_scripts/HTMCP-03-06-02370.indels.sh\u001b[0m\n"
     ]
    },
    {
     "data": {
      "text/plain": [
       "'vcf2maf_template_extended_cohort.txt'"
      ]
     },
     "execution_count": 79,
     "metadata": {},
     "output_type": "execute_result"
    },
    {
     "name": "stderr",
     "output_type": "stream",
     "text": [
      "\u001b[32mINFO:root:templated /projects/trans_scratch/validations/workspace/szong/Cervical/mutsig2cv/extended_cohort/vcf2maf_scripts/HTMCP-03-06-02373.indels.sh\u001b[0m\n"
     ]
    },
    {
     "data": {
      "text/plain": [
       "'vcf2maf_template_extended_cohort.txt'"
      ]
     },
     "execution_count": 79,
     "metadata": {},
     "output_type": "execute_result"
    },
    {
     "name": "stderr",
     "output_type": "stream",
     "text": [
      "\u001b[32mINFO:root:templated /projects/trans_scratch/validations/workspace/szong/Cervical/mutsig2cv/extended_cohort/vcf2maf_scripts/HTMCP-03-06-02376.indels.sh\u001b[0m\n"
     ]
    },
    {
     "data": {
      "text/plain": [
       "'vcf2maf_template_extended_cohort.txt'"
      ]
     },
     "execution_count": 79,
     "metadata": {},
     "output_type": "execute_result"
    },
    {
     "name": "stderr",
     "output_type": "stream",
     "text": [
      "\u001b[32mINFO:root:templated /projects/trans_scratch/validations/workspace/szong/Cervical/mutsig2cv/extended_cohort/vcf2maf_scripts/HTMCP-03-06-02379.indels.sh\u001b[0m\n"
     ]
    },
    {
     "data": {
      "text/plain": [
       "'vcf2maf_template_extended_cohort.txt'"
      ]
     },
     "execution_count": 79,
     "metadata": {},
     "output_type": "execute_result"
    },
    {
     "name": "stderr",
     "output_type": "stream",
     "text": [
      "\u001b[32mINFO:root:templated /projects/trans_scratch/validations/workspace/szong/Cervical/mutsig2cv/extended_cohort/vcf2maf_scripts/HTMCP-03-06-02380.indels.sh\u001b[0m\n"
     ]
    },
    {
     "data": {
      "text/plain": [
       "'vcf2maf_template_extended_cohort.txt'"
      ]
     },
     "execution_count": 79,
     "metadata": {},
     "output_type": "execute_result"
    },
    {
     "name": "stderr",
     "output_type": "stream",
     "text": [
      "\u001b[32mINFO:root:templated /projects/trans_scratch/validations/workspace/szong/Cervical/mutsig2cv/extended_cohort/vcf2maf_scripts/HTMCP-03-06-02383.indels.sh\u001b[0m\n"
     ]
    },
    {
     "data": {
      "text/plain": [
       "'vcf2maf_template_extended_cohort.txt'"
      ]
     },
     "execution_count": 79,
     "metadata": {},
     "output_type": "execute_result"
    },
    {
     "name": "stderr",
     "output_type": "stream",
     "text": [
      "\u001b[32mINFO:root:templated /projects/trans_scratch/validations/workspace/szong/Cervical/mutsig2cv/extended_cohort/vcf2maf_scripts/HTMCP-03-06-02384.indels.sh\u001b[0m\n"
     ]
    },
    {
     "data": {
      "text/plain": [
       "'vcf2maf_template_extended_cohort.txt'"
      ]
     },
     "execution_count": 79,
     "metadata": {},
     "output_type": "execute_result"
    },
    {
     "name": "stderr",
     "output_type": "stream",
     "text": [
      "\u001b[32mINFO:root:templated /projects/trans_scratch/validations/workspace/szong/Cervical/mutsig2cv/extended_cohort/vcf2maf_scripts/HTMCP-03-06-02385.indels.sh\u001b[0m\n"
     ]
    },
    {
     "data": {
      "text/plain": [
       "'vcf2maf_template_extended_cohort.txt'"
      ]
     },
     "execution_count": 79,
     "metadata": {},
     "output_type": "execute_result"
    },
    {
     "name": "stderr",
     "output_type": "stream",
     "text": [
      "\u001b[32mINFO:root:templated /projects/trans_scratch/validations/workspace/szong/Cervical/mutsig2cv/extended_cohort/vcf2maf_scripts/HTMCP-03-06-02386.indels.sh\u001b[0m\n"
     ]
    },
    {
     "data": {
      "text/plain": [
       "'vcf2maf_template_extended_cohort.txt'"
      ]
     },
     "execution_count": 79,
     "metadata": {},
     "output_type": "execute_result"
    },
    {
     "name": "stderr",
     "output_type": "stream",
     "text": [
      "\u001b[32mINFO:root:templated /projects/trans_scratch/validations/workspace/szong/Cervical/mutsig2cv/extended_cohort/vcf2maf_scripts/HTMCP-03-06-02387.indels.sh\u001b[0m\n"
     ]
    },
    {
     "data": {
      "text/plain": [
       "'vcf2maf_template_extended_cohort.txt'"
      ]
     },
     "execution_count": 79,
     "metadata": {},
     "output_type": "execute_result"
    },
    {
     "name": "stderr",
     "output_type": "stream",
     "text": [
      "\u001b[32mINFO:root:templated /projects/trans_scratch/validations/workspace/szong/Cervical/mutsig2cv/extended_cohort/vcf2maf_scripts/HTMCP-03-06-02389.indels.sh\u001b[0m\n"
     ]
    },
    {
     "data": {
      "text/plain": [
       "'vcf2maf_template_extended_cohort.txt'"
      ]
     },
     "execution_count": 79,
     "metadata": {},
     "output_type": "execute_result"
    },
    {
     "name": "stderr",
     "output_type": "stream",
     "text": [
      "\u001b[32mINFO:root:templated /projects/trans_scratch/validations/workspace/szong/Cervical/mutsig2cv/extended_cohort/vcf2maf_scripts/HTMCP-03-06-02394.indels.sh\u001b[0m\n"
     ]
    },
    {
     "data": {
      "text/plain": [
       "'vcf2maf_template_extended_cohort.txt'"
      ]
     },
     "execution_count": 79,
     "metadata": {},
     "output_type": "execute_result"
    },
    {
     "name": "stderr",
     "output_type": "stream",
     "text": [
      "\u001b[32mINFO:root:templated /projects/trans_scratch/validations/workspace/szong/Cervical/mutsig2cv/extended_cohort/vcf2maf_scripts/HTMCP-03-06-02397.indels.sh\u001b[0m\n"
     ]
    },
    {
     "data": {
      "text/plain": [
       "'vcf2maf_template_extended_cohort.txt'"
      ]
     },
     "execution_count": 79,
     "metadata": {},
     "output_type": "execute_result"
    },
    {
     "name": "stderr",
     "output_type": "stream",
     "text": [
      "\u001b[32mINFO:root:templated /projects/trans_scratch/validations/workspace/szong/Cervical/mutsig2cv/extended_cohort/vcf2maf_scripts/HTMCP-03-06-02399.indels.sh\u001b[0m\n"
     ]
    },
    {
     "data": {
      "text/plain": [
       "'vcf2maf_template_extended_cohort.txt'"
      ]
     },
     "execution_count": 79,
     "metadata": {},
     "output_type": "execute_result"
    },
    {
     "name": "stderr",
     "output_type": "stream",
     "text": [
      "\u001b[32mINFO:root:templated /projects/trans_scratch/validations/workspace/szong/Cervical/mutsig2cv/extended_cohort/vcf2maf_scripts/HTMCP-03-06-02400.indels.sh\u001b[0m\n"
     ]
    },
    {
     "data": {
      "text/plain": [
       "'vcf2maf_template_extended_cohort.txt'"
      ]
     },
     "execution_count": 79,
     "metadata": {},
     "output_type": "execute_result"
    },
    {
     "name": "stderr",
     "output_type": "stream",
     "text": [
      "\u001b[32mINFO:root:templated /projects/trans_scratch/validations/workspace/szong/Cervical/mutsig2cv/extended_cohort/vcf2maf_scripts/HTMCP-03-06-02402.indels.sh\u001b[0m\n"
     ]
    },
    {
     "data": {
      "text/plain": [
       "'vcf2maf_template_extended_cohort.txt'"
      ]
     },
     "execution_count": 79,
     "metadata": {},
     "output_type": "execute_result"
    },
    {
     "name": "stderr",
     "output_type": "stream",
     "text": [
      "\u001b[32mINFO:root:templated /projects/trans_scratch/validations/workspace/szong/Cervical/mutsig2cv/extended_cohort/vcf2maf_scripts/HTMCP-03-06-02404.indels.sh\u001b[0m\n"
     ]
    },
    {
     "data": {
      "text/plain": [
       "'vcf2maf_template_extended_cohort.txt'"
      ]
     },
     "execution_count": 79,
     "metadata": {},
     "output_type": "execute_result"
    },
    {
     "name": "stderr",
     "output_type": "stream",
     "text": [
      "\u001b[32mINFO:root:templated /projects/trans_scratch/validations/workspace/szong/Cervical/mutsig2cv/extended_cohort/vcf2maf_scripts/HTMCP-03-06-02406.indels.sh\u001b[0m\n"
     ]
    },
    {
     "data": {
      "text/plain": [
       "'vcf2maf_template_extended_cohort.txt'"
      ]
     },
     "execution_count": 79,
     "metadata": {},
     "output_type": "execute_result"
    },
    {
     "name": "stderr",
     "output_type": "stream",
     "text": [
      "\u001b[32mINFO:root:templated /projects/trans_scratch/validations/workspace/szong/Cervical/mutsig2cv/extended_cohort/vcf2maf_scripts/HTMCP-03-06-02407.indels.sh\u001b[0m\n"
     ]
    },
    {
     "data": {
      "text/plain": [
       "'vcf2maf_template_extended_cohort.txt'"
      ]
     },
     "execution_count": 79,
     "metadata": {},
     "output_type": "execute_result"
    },
    {
     "name": "stderr",
     "output_type": "stream",
     "text": [
      "\u001b[32mINFO:root:templated /projects/trans_scratch/validations/workspace/szong/Cervical/mutsig2cv/extended_cohort/vcf2maf_scripts/HTMCP-03-06-02408.indels.sh\u001b[0m\n"
     ]
    },
    {
     "data": {
      "text/plain": [
       "'vcf2maf_template_extended_cohort.txt'"
      ]
     },
     "execution_count": 79,
     "metadata": {},
     "output_type": "execute_result"
    },
    {
     "name": "stderr",
     "output_type": "stream",
     "text": [
      "\u001b[32mINFO:root:templated /projects/trans_scratch/validations/workspace/szong/Cervical/mutsig2cv/extended_cohort/vcf2maf_scripts/HTMCP-03-06-02409.indels.sh\u001b[0m\n"
     ]
    },
    {
     "data": {
      "text/plain": [
       "'vcf2maf_template_extended_cohort.txt'"
      ]
     },
     "execution_count": 79,
     "metadata": {},
     "output_type": "execute_result"
    },
    {
     "name": "stderr",
     "output_type": "stream",
     "text": [
      "\u001b[32mINFO:root:templated /projects/trans_scratch/validations/workspace/szong/Cervical/mutsig2cv/extended_cohort/vcf2maf_scripts/HTMCP-03-06-02410.indels.sh\u001b[0m\n"
     ]
    },
    {
     "data": {
      "text/plain": [
       "'vcf2maf_template_extended_cohort.txt'"
      ]
     },
     "execution_count": 79,
     "metadata": {},
     "output_type": "execute_result"
    },
    {
     "name": "stderr",
     "output_type": "stream",
     "text": [
      "\u001b[32mINFO:root:templated /projects/trans_scratch/validations/workspace/szong/Cervical/mutsig2cv/extended_cohort/vcf2maf_scripts/HTMCP-03-06-02412.indels.sh\u001b[0m\n"
     ]
    },
    {
     "data": {
      "text/plain": [
       "'vcf2maf_template_extended_cohort.txt'"
      ]
     },
     "execution_count": 79,
     "metadata": {},
     "output_type": "execute_result"
    },
    {
     "name": "stderr",
     "output_type": "stream",
     "text": [
      "\u001b[32mINFO:root:templated /projects/trans_scratch/validations/workspace/szong/Cervical/mutsig2cv/extended_cohort/vcf2maf_scripts/HTMCP-03-06-02416.indels.sh\u001b[0m\n"
     ]
    },
    {
     "data": {
      "text/plain": [
       "'vcf2maf_template_extended_cohort.txt'"
      ]
     },
     "execution_count": 79,
     "metadata": {},
     "output_type": "execute_result"
    },
    {
     "name": "stderr",
     "output_type": "stream",
     "text": [
      "\u001b[32mINFO:root:templated /projects/trans_scratch/validations/workspace/szong/Cervical/mutsig2cv/extended_cohort/vcf2maf_scripts/HTMCP-03-06-02421.indels.sh\u001b[0m\n"
     ]
    },
    {
     "data": {
      "text/plain": [
       "'vcf2maf_template_extended_cohort.txt'"
      ]
     },
     "execution_count": 79,
     "metadata": {},
     "output_type": "execute_result"
    },
    {
     "name": "stderr",
     "output_type": "stream",
     "text": [
      "\u001b[32mINFO:root:templated /projects/trans_scratch/validations/workspace/szong/Cervical/mutsig2cv/extended_cohort/vcf2maf_scripts/HTMCP-03-06-02423.indels.sh\u001b[0m\n"
     ]
    },
    {
     "data": {
      "text/plain": [
       "'vcf2maf_template_extended_cohort.txt'"
      ]
     },
     "execution_count": 79,
     "metadata": {},
     "output_type": "execute_result"
    },
    {
     "name": "stderr",
     "output_type": "stream",
     "text": [
      "\u001b[32mINFO:root:templated /projects/trans_scratch/validations/workspace/szong/Cervical/mutsig2cv/extended_cohort/vcf2maf_scripts/HTMCP-03-06-02425.indels.sh\u001b[0m\n"
     ]
    },
    {
     "data": {
      "text/plain": [
       "'vcf2maf_template_extended_cohort.txt'"
      ]
     },
     "execution_count": 79,
     "metadata": {},
     "output_type": "execute_result"
    },
    {
     "name": "stderr",
     "output_type": "stream",
     "text": [
      "\u001b[32mINFO:root:templated /projects/trans_scratch/validations/workspace/szong/Cervical/mutsig2cv/extended_cohort/vcf2maf_scripts/HTMCP-03-06-02426.indels.sh\u001b[0m\n"
     ]
    },
    {
     "data": {
      "text/plain": [
       "'vcf2maf_template_extended_cohort.txt'"
      ]
     },
     "execution_count": 79,
     "metadata": {},
     "output_type": "execute_result"
    },
    {
     "name": "stderr",
     "output_type": "stream",
     "text": [
      "\u001b[32mINFO:root:templated /projects/trans_scratch/validations/workspace/szong/Cervical/mutsig2cv/extended_cohort/vcf2maf_scripts/HTMCP-03-06-02439.indels.sh\u001b[0m\n"
     ]
    },
    {
     "data": {
      "text/plain": [
       "'vcf2maf_template_extended_cohort.txt'"
      ]
     },
     "execution_count": 79,
     "metadata": {},
     "output_type": "execute_result"
    },
    {
     "name": "stderr",
     "output_type": "stream",
     "text": [
      "\u001b[32mINFO:root:templated /projects/trans_scratch/validations/workspace/szong/Cervical/mutsig2cv/extended_cohort/vcf2maf_scripts/HTMCP-03-06-02446.indels.sh\u001b[0m\n"
     ]
    },
    {
     "data": {
      "text/plain": [
       "'vcf2maf_template_extended_cohort.txt'"
      ]
     },
     "execution_count": 79,
     "metadata": {},
     "output_type": "execute_result"
    }
   ],
   "source": [
    "for vcf_type in ['snvs', 'indels']:\n",
    "    \n",
    "    for ix, row in df2.iterrows():\n",
    "        patient = row.patient\n",
    "        input_vcf = row[vcf_type]\n",
    "#         input_vcf = '{0}vcfs/{1}.{2}.vcf'.format(filtered_vcf_path, patient, vcf_type)\n",
    "        output_maf = '{0}mafs/{1}.{2}.maf'.format(out_maf_path, patient, vcf_type)\n",
    "        templated_file_name = '/projects/trans_scratch/validations/workspace/szong/Cervical/mutsig2cv/extended_cohort/vcf2maf_scripts/{0}.{1}.sh'.format(patient, vcf_type)\n",
    "#         print(patient, input_vcf, output_maf, templated_file_name)\n",
    "        populate_template(patient, input_vcf, output_maf, \n",
    "                          template_dir, template_file_name, \n",
    "                          templated_file_name)"
   ]
  },
  {
   "cell_type": "markdown",
   "metadata": {},
   "source": [
    "### convert vcf to maf"
   ]
  },
  {
   "cell_type": "markdown",
   "metadata": {},
   "source": [
    "run the generated scrits on gphost 06 or locally to convert vcfs to mafs, then merge all mafs into one single file. remember to remove redundant headers."
   ]
  },
  {
   "cell_type": "markdown",
   "metadata": {},
   "source": [
    "### run mutsig2cv"
   ]
  },
  {
   "cell_type": "markdown",
   "metadata": {},
   "source": [
    "mutsig2cv identified significantly mutated genes in cance genome using a model with mutational covariates. It takes snvs and small indels as input. it requires corresponding coverage information (read counts) for both tumour and normal as input. It does not use a constant genome-wide mutation rate. We know that somatic mutation frequencies in cancers are strongly correlated to gene expression and replication time. Many falsely identified cancer drivers are low-expressed and late-replicating genes, or very large genes. \n",
    "\n",
    "Mutsig2cv takes all these into account and corrects for the variations. When constructing the background mutation model, It considers patient and genome position based factors, including patient overall mutation rate, muation spectrum, gene expression level, replication timing, and chromatin states (DNA accessibility).\n"
   ]
  },
  {
   "cell_type": "markdown",
   "metadata": {},
   "source": [
    "### command to run mutsig2cv: can run on gphost08"
   ]
  },
  {
   "cell_type": "markdown",
   "metadata": {},
   "source": [
    "It looks like i need to run in this directory. otherwise it gets stuck. maybe it needs to use the matlab envirnoment in this directoy.\n",
    "\n",
    "cd /projects/da_workspace/software/mutsig2cv\n",
    "\n",
    "[szong@gphost08 mafs]$ /projects/da_workspace/software/mutsig2cv/MutSig2CV /projects/trans_scratch/validations/workspace/szong/Cervical/mutsig2cv/extended_cohort/mafs/extented_cohort.maf /projects/trans_scratch/validations/workspace/szong/Cervical/mutsig2cv/extended_cohort/\n"
   ]
  },
  {
   "cell_type": "code",
   "execution_count": null,
   "metadata": {},
   "outputs": [],
   "source": []
  },
  {
   "cell_type": "markdown",
   "metadata": {},
   "source": [
    "### Other notes when running on whole genome data, we need to provide a coverage model file"
   ]
  },
  {
   "cell_type": "markdown",
   "metadata": {},
   "source": [
    "runnign mutsig2cv with a file to specify callschemes:\n",
    "/projects/da_workspace/software/mutsig2cv/MutSig2CV /projects/trans_scratch/validations/workspace/szong/Cervical/mutsig2cv/118_patients.maf /projects/trans_scratch/validations/workspace/szong/Cervical/mutsig2cv/118_patients /projects/da_workspace/software/mutsig2cv/reference/params.txt\n",
    "\n",
    "email from Julian:\n",
    "Hi Stuart,\n",
    "\n",
    "Sorry for the delay in getting the custom callschemes to you!\n",
    "\n",
    "Please download the following file: http://broadinstitute.org/~jhess/coverage_models.v5a.wgs_only.mat\n",
    "\n",
    "and put it in MutSig's \"reference\" directory (along with coverage_models.v5a.mat).\n",
    "\n",
    "Then create a file called \"params.txt\" containing the single line:\n",
    "\n",
    "coverage_models_mat_file reference/coverage_models.v5a.wgs_only.mat\n",
    "\n",
    "Note that the space between the two columns should be a tab.\n",
    "\n",
    "Finally, when running MutSig from the command line, the syntax is almost the same as before, but with the addition of the path to the newly created params.txt as the third argument, e.g.\n",
    "\n",
    "./MutSig2CV <input MAF> <output directory> <path/to/params.txt>\n",
    "\n",
    "If all goes well, you should see somewhere in the STDOUT \"Loading coverage models ... 1 scheme(s).\"\n",
    "\n",
    "As always, don't hesitate to let me know if you have any problems or questions!\n",
    "\n",
    "--Julian"
   ]
  },
  {
   "cell_type": "markdown",
   "metadata": {},
   "source": [
    "Hi Stuart,\n",
    "\n",
    ">could you tell me how to manually specify the callscheme for samples. \n",
    "\n",
    "I will send these instructions shortly in a separate e-mail.  Please find answers to your other questions below:\n",
    "\n",
    ">Is it ok to do a hybrid run [with] additional validation samples [with] specific capture on ~3000 genes and non-coding regions of interest\n",
    "\n",
    "Unfortunately, MutSig estimates its background mutation rates with the assumption that the overwhelming majority of mutations will be passengers, which is true for whole exome/genome cohorts.  However, this assumption will probably no longer hold for targeted capture cohorts, since they are deliberately enriched for likely drivers.\n",
    "\n",
    "Furthermore, your targeted panel is not included in MutSig's built-in coverage models, so running this hybrid cohort would require generating a panel-specific coverage model, which is not a trivial undertaking.\n",
    "\n",
    ">we don't have matching normals for these validation samples. So we may need to filter against the panel of normals of this batch of discovery samples or dbsnp database. Do you think it worth a try? \n",
    "\n",
    "This would present further complications, since germline SNPs rare enough to not be present in the panel of normals or SNP databases (e.g. dbSNP, as you suggest, or ExAC/GNOMAD) are unfortunately common enough across a cohort to constitute a nontrivial fraction of false positive somatic variants in a no-matched-normal cohort.\n",
    "\n",
    "As an alternative, I would suggest looking at genes MutSig has deemed \"near significance\" (e.g. ~0.3 > q > 0.1), and seeing if those genes have recurrent calls in your targeted panel cohort, with the caveat that those events might be rare germline.\n",
    "\n",
    ">I used all Strelka calls for this run. We view Strelka calls as relatively specific and sensitive. would you recommend filter these calls based on sequencing depth, alternative allele frequency, and other quality metrics?\n",
    "\n",
    "Strelka is a very good mutation caller, and I would not recommend any blanket cutoffs like you propose, just because they inevitably end up being too aggressive.  However, you mentioned a panel of normals filter — if it's possible to filter your calls through that, I would definitely recommend it.  Recurrently seeing reads across many normal samples supporting the same alternate alleles that support a putative somatic variant call is a surefire sign that the call is likely a recurrent artifact, which cannot always be predicted from holistic metrics like allelic fraction/sequencing depth/etc.\n",
    "\n",
    ">do you think this will affect the mutsig2cv results in a significant way?\n",
    "\n",
    "Only if you feel that your significant gene list is enriched with artifactual findings from recurrent false positive mutation calls.\n",
    "\n",
    ">Do you pool variants from other different callers as mutsig2cv input?\n",
    "\n",
    "Only if I feel my caller of choice is giving strange results, or if I'm specifically after a class of variant not easily called with traditional methods (e.g. long indels that require local reassembly, or microsatellite events that require special background noise models).\n",
    "\n",
    ">Are there other mutsig2cv parameters and thresholds that i can play with in order to refine the gene list? \n",
    "\n",
    "No.  MutSig is designed to have as few free parameters as possible.\n",
    "\n",
    ">When i looked at the top 30  genes, i noticed 3 MUC genes and 3 PCDHG genes and 1 ZNF gene. is this due to the algorithm prioritize conserved gene across vertebrates? \n",
    "\n",
    "These are likely due to mapping artifacts (mucins in particular are poorly represented in the reference genome, since they are the result of segdupes which are collapsed in the reference, leading to many weird mapping issues).  As mentioned above, a panel of normals filter often excels at removing these sorts of artifacts, since these mapping issues will recur across many normal samples.\n",
    "\n",
    ">just would like to confirm with you if q<0.1 is the well accepted cut-off for the genes for mutsig2cv.\n",
    "\n",
    "That is the standard cutoff, and is the universal criterion for significance across pretty much any publication using MutSig to identify significantly mutated genes.  That said, MutSig's statistical model is generally well-calibrated enough such that its q-values closely reflect the actual false discovery rate, so you can set the cutoff to admit whatever threshold of false positives you feel comfortable with.\n",
    "\n",
    "All the best,\n",
    "--Julian"
   ]
  },
  {
   "cell_type": "markdown",
   "metadata": {},
   "source": [
    "Dear Stuart et al.,\n",
    "\n",
    ">I am running mutsigcv on a NCI HTMCP  data set  with approximately 120 patients. By using your general covariate and coverage files, mutsigcv only reported 2 significantly mutated genes. \n",
    "\n",
    "MutSigCV is a very old algorithm (circa 2010).  As you point out, a lot of the following issues can be resolved by using MutSig2CV instead.  Here is the correct link to download:\n",
    "\n",
    "http://software.broadinstitute.org/cancer/cga/sites/default/files/data/tools/mutsig/MutSig2CV.tar.gz\n",
    "\n",
    "Note that it is a large download (~3 GB), since it includes all necessary reference files.  Installation instructions are provided in the README.txt file.  In addition to the MutSig executable, you will also need the MATLAB runtime environment, available here: http://www.mathworks.com/supportfiles/MCR_Runtime/R2013a/MCR_R2013a_glnxa64_installer.zip\n",
    "\n",
    ">1. this is whole genome sequencing data. is it reasonable to use the coverage file download from mutsig website, which is exome derived?\n",
    "\n",
    "MutSig2CV has several built-in coverage models to handle different sequencing territory, including whole genomes.  Based on the mutations you give it, it ought to infer these \"callschemes\" automatically.  When MutSig2CV loads and indexes mutation data, it will print that it is \"imputing callschemes\"; please watch your STDOUT for when this occurs, and verify that it correctly infers that all your samples are whole genome sequenced.  If not, please let me know and I will give you instructions to manually specify your patients' callschemes.\n",
    "\n",
    "As an aside, what is the purity of your samples and their average coverage?  There is usually a loss of mutation calling power (and thus driver detection power) in whole genome samples relative to exomes (especially in low purity samples), concordant with the (usual) much lower coverage of genomes versus exomes — for example, at low (~10% purity), there is simply not any statistical power to call a clonal heterozygous somatic mutation (much less any subclonal mutations) in a 60x whole genome (in a diploid region, we would expect this mutation to be supported by 5% of reads, which for a 60x whole genome is only 3 reads).\n",
    "\n",
    ">2. for the input mutations(snvs + indels), should i include all types of mutations? for example, since the general coverage file derived from exome, should i exclude intergenic SNVs?\n",
    "\n",
    "In order for MutSig2CV to infer that your mutation calls are derived from whole genomes, you need to include all the calls.\n",
    "\n",
    ">4. could you point me to any other ways or new tools i could better identify significantly mutated genes in whole genome sequencing dataset?\n",
    "\n",
    "In addition to improving the abundance test used in MutSigCV (i.e. whether a given gene as a whole is highly mutated relative to its expected background mutation rate), MutSig2CV includes two additional statistical tests for inferring evidence of positive selection:\n",
    "\n",
    "Clustering (CL): Genes often harbor mutational hotspots, specific sites that are frequently mutated.  While abundance calculations bin mutations on the gene level, clustering bins mutations on the local site level, which allows MutSig2CV to differentiate between genes with uniformly distributed mutations and genes with localized hotspots, assigning higher significance to the latter.\n",
    "\n",
    "Conservation (FN): MutSig2CV also uses evolutionary conservation as a proxy for determining the functional significance of a mutated site.  It assumes that genetic sites highly conserved across vertebrates have greater functional significance than weakly conserved sites.  MutSig assigns a higher significance to genes that experience frequent mutations in highly conserved sites.\n",
    "\n",
    "It is possible that these additional tests will find genes not significant by the burden test alone.\n",
    "\n",
    "Please don't hesitate to let me know if you have any further questions.\n",
    "\n",
    "Thanks,\n",
    "--Julian"
   ]
  },
  {
   "cell_type": "markdown",
   "metadata": {},
   "source": [
    "Hi Michael and Julian, \n",
    " \n",
    "I am running mutsigcv on a NCI HTMCP  data set  with approximately 120 patients. By using your general covariate and coverage files, mutsigcv only reported 2 significantly mutated genes. There are 15-17 genes previously identified as significantly mutated genes in previous published papers. could you help point me to ways to improve this analysis and answer a few questions? thanks very  much in advance.\n",
    " \n",
    "1. this is whole genome sequencing data. is it reasonable to use the coverage file download from mutsig website, which is exome derived? I ran the LUCS test dataset download from mutsig website using this general coverage file instead of the patient specific coverage file included in the test dataset download, I also found mutsig reported less SMGs (6 vs 12 in the nature paper) and also the q value is in general higher in my run. This makes me think maybe i should use a REAL coverage file instead of the general one. If you believe the coverage file will make big difference, could you give me some instructions in terms of how to make the file. I googled quite a bit but unable to figure out exactly how i should go about it. \n",
    " \n",
    " \n",
    "2. for the input mutations(snvs + indels), should i include all types of mutations? for example, since the general coverage file derived from exome, should i exclude intergenic SNVs? \n",
    " \n",
    "3. will using mutsig2cv improve the analysis? i found this download link: https://archive.broadinstitute.org/cancer/cga/sites/default/files/data/tools/mutsig/MutSig2CV.tar.gz. but it is not available anymore. could you provide a new download link if this is worth a try. thanks.  also i am not able to download the reference, coverage, and covariate file from this site (https://software.broadinstitute.org/cancer/cga/mutsig_run) anymore. could you point to a new link in case you have updated those files?\n",
    " \n",
    "4. could you point me to any other ways or new tools i could better identify significantly mutated genes in whole genome sequencing dataset?\n",
    " \n",
    "Thank you very much for your help!"
   ]
  },
  {
   "cell_type": "markdown",
   "metadata": {},
   "source": [
    "Hi Stuart,\n",
    "\n",
    "Sorry for the delay in getting the custom callschemes to you!\n",
    "\n",
    "Please download the following file: http://broadinstitute.org/~jhess/coverage_models.v5a.wgs_only.mat\n",
    "\n",
    "and put it in MutSig's \"reference\" directory (along with coverage_models.v5a.mat).\n",
    "\n",
    "Then create a file called \"params.txt\" containing the single line:\n",
    "\n",
    "coverage_models_mat_file        reference/coverage_models.v5a.wgs_only.mat\n",
    "\n",
    "Note that the space between the two columns should be a tab.\n",
    "\n",
    "Finally, when running MutSig from the command line, the syntax is almost the same as before, but with the addition of the path to the newly created params.txt as the third argument, e.g.\n",
    "\n",
    "./MutSig2CV <input MAF> <output directory> <path/to/params.txt>\n",
    "\n",
    "If all goes well, you should see somewhere in the STDOUT \"Loading coverage models ... 1 scheme(s).\"\n",
    "\n",
    "As always, don't hesitate to let me know if you have any problems or questions!\n",
    "\n",
    "--Julian"
   ]
  },
  {
   "cell_type": "markdown",
   "metadata": {},
   "source": [
    "Hi Stuart,\n",
    "\n",
    "It turns out that the download link I sent is indeed pointing to an old version.  I've attached an updated version to this e-mail that I have confirmed handles the callschemes properly:\n",
    "\n",
    "$ md5sum MutSig2CV\n",
    "0017f47ad6a20ec710ab74deebbb60f1  MutSig2CV\n",
    "$ ./MutSig2CV test/input_n2014nc/BLCA.maf /tmp/mutsig_cov_test ../../20180928_WGSonly_cov/params.txt\n",
    "\n",
    "...\n",
    "\n",
    "Scanning for duplicate patients...\n",
    "Comparing on the basis of coding mutations only...\n",
    "0 patients involved in an overlap.\n",
    "Loading coverage models ... 1 scheme(s).\n",
    "Enforcing target list.\n",
    "Mapping mutations to targets:   Including noncoding mutations.\n",
    "\n",
    "...\n",
    "\n",
    "Using single coverage model \"wgs\" for all patients.\n",
    "Category discovery....\n",
    "\n",
    "If all goes well, you should see exactly the lines I've bolded above in the STDOUT if MutSig is properly applying the WGS callscheme to all patients.\n",
    "\n",
    "In answer to your other questions:\n",
    "\n",
    ">also, does \"assuming human for chrX/chrY\" matter? this is a cervical cohort with females only.\n",
    "\n",
    "No, this message doesn't matter.  It's simply due to the fact that when MutSig internally indexes mutation data, it assumes that the chromosome annotation \"chrX\"/\"chrY\" corresponds to human sex chromosomes, and not something different.\n",
    "\n",
    ">This may be related to the incorrect data type inference. I am worried about the mutations which are excluded from the analysis, which is a very significant portion of all the mutations in the maf input file. \"Removing 1669538/2698720 mutations that fall outside target gene intervals.\"\n",
    "\n",
    "This exclusion does not result from the single patient whose callscheme was incorrectly inferred.  When run on whole genome data, MutSig only uses flanking noncoding mutations in a 3kb radius around exons to improve its background model, and does not consider deep intronic/intergenic events at all.  This message simply reflects that MutSig is discarding noncoding mutations far away from coding regions.\n",
    "\n",
    ">callschemes as shown in an output file: patient_counts_and_rates.txt\n",
    ">all are recorded as  \"all genome (WGS)\" in the column: callscheme_name, except one is recorded as \"all capture (no interval list)\". Does this contradict to the standout message 1?\n",
    "\n",
    "This should be fixed now.  The patient_counts_and_rates.txt accurately reflects which callschemes were assigned."
   ]
  },
  {
   "cell_type": "markdown",
   "metadata": {},
   "source": [
    "Hi Stuart,\n",
    "\n",
    "Looks like MutSig does not recognize variant_classification \"3'Flank\"\n",
    "\n",
    "To fix this, you can add to the mutation_type_dictionary file the lines\n",
    "\n",
    "DEL     3'Flank   indel_ncd\n",
    "INS     3'Flank   indel_ncd\n",
    "SNP     3'Flank   ncd\n",
    "\n",
    "Space between columns should be tabs.\n",
    "\n",
    "Thanks,\n",
    "--Julian"
   ]
  }
 ],
 "metadata": {
  "kernelspec": {
   "display_name": "Python 3",
   "language": "python",
   "name": "python3"
  },
  "language_info": {
   "codemirror_mode": {
    "name": "ipython",
    "version": 3
   },
   "file_extension": ".py",
   "mimetype": "text/x-python",
   "name": "python",
   "nbconvert_exporter": "python",
   "pygments_lexer": "ipython3",
   "version": "3.7.3"
  }
 },
 "nbformat": 4,
 "nbformat_minor": 2
}
