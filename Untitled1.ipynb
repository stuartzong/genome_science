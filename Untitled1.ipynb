{
 "cells": [
  {
   "cell_type": "code",
   "execution_count": 20,
   "metadata": {},
   "outputs": [
    {
     "data": {
      "image/png": "[encoded data removed]",
      "text/plain": [
       "<Figure size 432x288 with 1 Axes>"
      ]
     },
     "metadata": {},
     "output_type": "display_data"
    }
   ],
   "source": [
    "import numpy as np\n",
    "import matplotlib.pyplot as plt\n",
    "\n",
    "def adjust_spines(ax, spines):\n",
    "    for loc, spine in ax.spines.items():\n",
    "        if loc in spines:\n",
    "            spine.set_position(('outward', 10))  # outward by 10 points\n",
    "            spine.set_smart_bounds(True)\n",
    "        else:\n",
    "            spine.set_color('none')  # don't draw spine\n",
    "\n",
    "    # turn off ticks where there is no spine\n",
    "    if 'left' in spines:\n",
    "        ax.yaxis.set_ticks_position('left')\n",
    "    else:\n",
    "        # no yaxis ticks\n",
    "        ax.yaxis.set_ticks([])\n",
    "\n",
    "    if 'bottom' in spines:\n",
    "        ax.xaxis.set_ticks_position('bottom')\n",
    "    if 'top' in spines:\n",
    "        ax.xaxis.set_ticks_position('top')\n",
    "    else:\n",
    "        # no xaxis ticks\n",
    "        ax.xaxis.set_ticks([])\n",
    "\n",
    "fig = plt.figure()\n",
    "\n",
    "x = np.linspace(0, 2*np.pi, 100)\n",
    "y = 2*np.sin(x)\n",
    "\n",
    "# ax = fig.add_subplot(2, 2, 1)\n",
    "# ax.plot(x, y, clip_on=False)\n",
    "# adjust_spines(ax, ['left'])\n",
    "\n",
    "# ax = fig.add_subplot(2, 2, 2)\n",
    "# ax.plot(x, y, clip_on=False)\n",
    "# adjust_spines(ax, [])\n",
    "\n",
    "ax = fig.add_subplot(2, 2, 3)\n",
    "ax.plot(x, y, clip_on=True)\n",
    "adjust_spines(ax, ['top'])\n",
    "\n",
    "# ax = fig.add_subplot(2, 2, 4)\n",
    "# ax.plot(x, y, clip_on=False)\n",
    "# adjust_spines(ax, ['bottom'])\n",
    "\n",
    "plt.show()"
   ]
  },
  {
   "cell_type": "code",
   "execution_count": 9,
   "metadata": {},
   "outputs": [
    {
     "name": "stdout",
     "output_type": "stream",
     "text": [
      "Object `set_position` not found.\n"
     ]
    }
   ],
   "source": [
    "ax.spines['left'].set_position?"
   ]
  },
  {
   "cell_type": "code",
   "execution_count": null,
   "metadata": {},
   "outputs": [],
   "source": [
    "ax.spines['left'].set_position"
   ]
  }
 ],
 "metadata": {
  "kernelspec": {
   "display_name": "Python 3",
   "language": "python",
   "name": "python3"
  },
  "language_info": {
   "codemirror_mode": {
    "name": "ipython",
    "version": 3
   },
   "file_extension": ".py",
   "mimetype": "text/x-python",
   "name": "python",
   "nbconvert_exporter": "python",
   "pygments_lexer": "ipython3",
   "version": "3.6.5"
  }
 },
 "nbformat": 4,
 "nbformat_minor": 2
}
