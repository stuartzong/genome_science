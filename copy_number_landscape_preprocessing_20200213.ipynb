{
 "cells": [
  {
   "cell_type": "code",
   "execution_count": 2,
   "metadata": {},
   "outputs": [
    {
     "data": {
      "text/plain": [
       "<contextlib._GeneratorContextManager at 0x7fc300804f28>"
      ]
     },
     "execution_count": 2,
     "metadata": {},
     "output_type": "execute_result"
    }
   ],
   "source": [
    "import csv\n",
    "import matplotlib\n",
    "# import seaborn\n",
    "import seaborn as sns\n",
    "import numpy as np\n",
    "import matplotlib.pyplot as plt\n",
    "from pylab import *\n",
    "from scipy.stats import ttest_ind\n",
    "import scipy.stats as stats\n",
    "import scipy.stats as ss\n",
    "from matplotlib import style\n",
    "import matplotlib.gridspec as gridspec\n",
    "import matplotlib.patches as patches\n",
    "matplotlib.style.use('ggplot')\n",
    "%matplotlib inline\n",
    "matplotlib.rcParams['figure.figsize'] = (6, 4)\n",
    "import pandas as pd\n",
    "\n",
    "from sklearn.decomposition import RandomizedPCA, PCA, TruncatedSVD\n",
    "from sklearn.linear_model import LogisticRegression\n",
    "from sklearn.manifold import TSNE\n",
    "from sklearn.preprocessing import StandardScaler\n",
    "import seaborn\n",
    "\n",
    "plt.style.context(\"seaborn-whitegrid\")\n",
    "plt.rcParams[\"axes.edgecolor\"] = \"0.15\"\n",
    "plt.rcParams[\"axes.linewidth\"]  = 1.25\n",
    "from IPython.core.interactiveshell import InteractiveShell\n",
    "InteractiveShell.ast_node_interactivity = \"all\"\n"
   ]
  },
  {
   "cell_type": "markdown",
   "metadata": {},
   "source": [
    "# 1. TCGA copy number"
   ]
  },
  {
   "cell_type": "markdown",
   "metadata": {},
   "source": [
    "1. i can load the gatk seg file into igv for visualization. the file extension needs to be .seg\n",
    "\n",
    "2. decided to use the TCGA file with germline CNVs removed for the comparison I used the same TCGA curated germline events to filter out germline events from HTMCP cohort as well. \n",
    "\n",
    "3. i downloaded the population CNVS here: is this from 1000 genomes\n",
    "/projects/trans_scratch/validations/workspace/szong/Cervical/cnv/population_cnv.txt\n",
    "\n",
    "4. tcga core data freeze list: 178 samples with SNP6 array copy number data. extended data include additional 50 samples.\n",
    "\n",
    "5. snp6 copy number analysis was applied to the 178 core samples. in supplimentary, it states \"Somatic copy number alterations in 178 CESC tumors were determined with SNP 6.0 arrays. \"\n",
    "\n",
    "<font color='red'>\n",
    "6. TCGA excluded peaks with more than 30 genes. also TCGA removed germline CNVs\n",
    "</font>\n",
    "\n",
    "7. GISTIC2.0 amplification and deletion plots within copy number clusters. Chromosomal locations for peaks of significantly recurrent focal amplifications (red) and deletions (blue) are plotted by −log10 q value for the high (CN High) and low (CN Low) copy number clusters. Peaks are annotated with cytoband and candidate driver genes. The total number of genes in the peak region is indicated in parentheses. Peaks with more than 30 genes in the peak region are excluded. Any genes annotated have a significant positive correlation with mRNA expression"
   ]
  },
  {
   "cell_type": "markdown",
   "metadata": {},
   "source": [
    "data can be download here:\n",
    "\n",
    "http://firebrowse.org/\n",
    "\n",
    "http://gdac.broadinstitute.org/runs/stddata__2016_01_28/data/CESC/20160128/\n",
    "\n",
    "in firbrowse, there are 295 samples with snp6 copy number results including 586 tumour or normals. not sure why. but it makes sense to have normals in this file because copy number ratio is standardardized to a panel of normals. so normals can be compared to the panel as well.\n",
    "\n",
    "copy number analysis GISTIC results are here with 295 patients:\n",
    "http://gdac.broadinstitute.org/runs/analyses__2016_01_28/reports/cancer/CESC-TP/CopyNumber_Gistic2/nozzle.html\n",
    "\n",
    "TCGA CESC had 178 core samples plus 50 extended cases. but in firebrowse we got 295 samples for the cesc. not sure why. i am confused. so to keep it simple, I will stick to the 178 samples for the purposes of comparison with HTMCP. the 178 core samples include both squamous and adeno cases. so not like we only look at squamous cases. should be fine.\n",
    "\n",
    "decide which file to use. \n",
    "\"_scna_minus_germline_cnv_\" has much less rows, indicating germline cnvs were removed. maybe one normal against a panel of normal can detect germline cnvs, so the file excluded these events. When we run our HTMCP cohort, we did not remove germline cnvs, so i think i should use the other file which include germline cnvs. \n",
    "\n",
    "to determine if a segment is amplfied or deleted based on the segment_mean value, (logT/N ratio). I tend to use cutoffs; amp>=0.58= log2(3/2); del <=-1=log2(1/2), this seems to be too stringent. \n",
    "\n",
    "following paper used 0.25 for copy gain and -0.25 for copy loss.\n",
    "\n",
    "https://www.ncbi.nlm.nih.gov/pmc/articles/PMC4392457/\n",
    "There are no standardised log2 ratio cut-offs to define low-amplitude copy number gain/loss and high amplitude amplification/deletion. Based on the available published literature, we used a log2 ratio cut-off of +/− 0.25 to define copy number gain/loss and a log2 ratio cut-off of +/− 0.8 to define amplification and deletion [7,18,19].\n",
    "\n",
    "https://www.nature.com/articles/nature20805\n",
    "esophageal copy number comparison with ESCC and EAC\n",
    "\n",
    "this google post has some useful information as well:\n",
    "https://groups.google.com/a/broadinstitute.org/forum/#!topic/gdac-users/__zdXDE-Z5U\n",
    "\n",
    "this talks about the germline CNVs identified in 1000 genomes.\n",
    "https://www.biostars.org/p/174343/\n",
    "\n",
    "this describes how GISTIC works:\n",
    "http://www.pnas.org/content/104/50/20007.full"
   ]
  },
  {
   "cell_type": "markdown",
   "metadata": {},
   "source": [
    "\n",
    "Copy number analysis\n",
    "DNA from each tumour or germline sample was hybridized to Affymetrix SNP 6.0 arrays using protocols at the Genome Analysis Platform of the Broad Institute as previously described51. Briefly, Birdseed was used to infer a preliminary copy number at each probe locus from raw .cel files52. For each tumour, genome-wide copy number estimates were refined using tangent normalization, in which tumour signal intensities are divided by signal intensities from the linear combination of all normal samples that are most similar to the tumour16. Individual copy number estimates then underwent segmentation using circular binary segmentation53, and segmented copy number profiles for tumour and matched control DNAs were analysed using Ziggurat Deconstruction54. Significance of copy number alterations were assessed from the segmented data using GISTIC2.0 (version 2.0.22)54. For the purpose of this analysis, an arm-level event was defined as any event spanning more than 50% of a chromosome arm. For copy number-based clustering, tumours were clustered based on copy number at regions using GISTIC analysis. Clustering was done in R on the basis of Euclidean distance using Ward’s method. Allelic and integer copy number, tumour purity and tumour ploidy were calculated using the ABSOLUTE algorithm55.\n",
    "\n"
   ]
  },
  {
   "cell_type": "markdown",
   "metadata": {},
   "source": [
    "# ARE THESE THRESHOLDS  REASONABLE?\n",
    "remember now the final version we only want 3 tracks, the comparison is tcga vs hiv- and hiv+ vs hiv-"
   ]
  },
  {
   "cell_type": "markdown",
   "metadata": {},
   "source": [
    "# goals"
   ]
  },
  {
   "cell_type": "markdown",
   "metadata": {},
   "source": [
    "* to display the copy number landscape using gatk cnv results\n",
    "* to compare significant arm level alterations among three groups: tcga, htmcp hiv+, and htmcp hiv-, all comparisons are made against hiv- group"
   ]
  },
  {
   "cell_type": "markdown",
   "metadata": {},
   "source": [
    "# constants"
   ]
  },
  {
   "cell_type": "code",
   "execution_count": 7,
   "metadata": {},
   "outputs": [],
   "source": [
    "amp_threshold = 0.1 # suggested by Andrew Cherniack\n",
    "del_threshold = -0.1\n",
    "arm_threshold = 0.25\n",
    "num_tcga_patients = 177\n",
    "num_htmcp_patients = 118\n",
    "num_htmcp_hiv_pos_patients = 73\n",
    "num_htmcp_hiv_neg_patients = 45"
   ]
  },
  {
   "cell_type": "markdown",
   "metadata": {},
   "source": [
    "# files"
   ]
  },
  {
   "cell_type": "code",
   "execution_count": 8,
   "metadata": {},
   "outputs": [],
   "source": [
    "wkdir = '/projects/trans_scratch/validations/workspace/szong/Cervical/cnv/'\n",
    "bindir = '/projects/trans_scratch/validations/workspace/szong/Cervical/cnv/bin_segs/'\n",
    "chr_accu_length_f = f'{wkdir}chromosome_accumulative_length.txt'\n",
    "chromosomef = f'{wkdir}chromosome_coordinates.txt'\n",
    "\n",
    "# this removed germline cnvs\n",
    "tcga_cn_file = '/home/szong/bin/GISTIC_2_0_22/tcga/segmentationfile.txt'\n",
    "# tcga_cn_file is extracted from below minus_germline files downloaed from firebrowse\n",
    "# tcga_cn_file = '/projects/trans_scratch/validations/workspace/szong/Cervical/tcga_cn/gdac.broadinstitute.org_CESC.Merge_snp__genome_wide_snp_6__broad_mit_edu__Level_3__segmented_scna_minus_germline_cnv_hg19__seg.Level_3.2016012800.0.0/CESC.snp__genome_wide_snp_6__broad_mit_edu__Level_3__segmented_scna_minus_germline_cnv_hg19__seg.seg.txt'\n",
    "# tcga_cn_file = '/projects/trans_scratch/validations/workspace/szong/Cervical/tcga_cn/gdac.broadinstitute.org_CESC.Merge_snp__genome_wide_snp_6__broad_mit_edu__Level_3__segmented_scna_hg19__seg.Level_3.2016012800.0.0/CESC.snp__genome_wide_snp_6__broad_mit_edu__Level_3__segmented_scna_hg19__seg.seg.txt'\n",
    "tcga_core_sample_file = '/projects/trans_scratch/validations/workspace/szong/Cervical/tcga_cn/TCGA_178_core_samples.txt'\n",
    "htmcp_hiv_neg_file = '/home/szong/bin/GISTIC_2_0_22/gatk_118_HIV_neg/segmentationfile.txt'\n",
    "htmcp_hiv_pos_file = '/home/szong/bin/GISTIC_2_0_22/gatk_118_HIV_pos/segmentationfile.txt'\n",
    "# htmcp_file = '/home/szong/bin/GISTIC_2_0_22/gatk_118_patients/segmentationfile.txt'\n",
    "hivpos_uniqamp_armsf = f'{wkdir}hivpos_uniqamp_arms_{arm_threshold}.txt'\n",
    "hivneg_uniqamp_armsf = f'{wkdir}hivneg_uniqamp_arms_{arm_threshold}.txt'\n",
    "hivpos_uniqdel_armsf = f'{wkdir}hivpos_uniqdel_arms_{arm_threshold}.txt'\n",
    "hivneg_uniqdel_armsf = f'{wkdir}hivneg_uniqdel_arms_{arm_threshold}.txt'\n",
    "tcga_uniqdel_armsf = f'{wkdir}tcga_uniqdel_arms_{arm_threshold}.txt'\n",
    "tcga_uniqamp_armsf = f'{wkdir}tcga_uniqamp_arms_{arm_threshold}.txt'\n",
    "hivneg2_uniqdel_armsf = f'{wkdir}hivneg2_uniqdel_arms_{arm_threshold}.txt'\n",
    "hivneg2_uniqamp_armsf = f'{wkdir}hivneg2_uniqamp_arms_{arm_threshold}.txt'\n",
    "\n"
   ]
  },
  {
   "cell_type": "code",
   "execution_count": 9,
   "metadata": {},
   "outputs": [
    {
     "data": {
      "text/html": [
       "<div>\n",
       "<style scoped>\n",
       "    .dataframe tbody tr th:only-of-type {\n",
       "        vertical-align: middle;\n",
       "    }\n",
       "\n",
       "    .dataframe tbody tr th {\n",
       "        vertical-align: top;\n",
       "    }\n",
       "\n",
       "    .dataframe thead th {\n",
       "        text-align: right;\n",
       "    }\n",
       "</style>\n",
       "<table border=\"1\" class=\"dataframe\">\n",
       "  <thead>\n",
       "    <tr style=\"text-align: right;\">\n",
       "      <th></th>\n",
       "      <th>Chromosome</th>\n",
       "      <th>Start</th>\n",
       "      <th>End</th>\n",
       "      <th>Segment_Mean</th>\n",
       "      <th>Samples</th>\n",
       "    </tr>\n",
       "  </thead>\n",
       "  <tbody>\n",
       "    <tr>\n",
       "      <th>0</th>\n",
       "      <td>1</td>\n",
       "      <td>3218610</td>\n",
       "      <td>247813706</td>\n",
       "      <td>0.1305</td>\n",
       "      <td>TCGA-BI-A0VR-01A</td>\n",
       "    </tr>\n",
       "    <tr>\n",
       "      <th>1</th>\n",
       "      <td>2</td>\n",
       "      <td>484222</td>\n",
       "      <td>3604951</td>\n",
       "      <td>-0.0074</td>\n",
       "      <td>TCGA-BI-A0VR-01A</td>\n",
       "    </tr>\n",
       "    <tr>\n",
       "      <th>2</th>\n",
       "      <td>2</td>\n",
       "      <td>3608623</td>\n",
       "      <td>3608756</td>\n",
       "      <td>-2.1939</td>\n",
       "      <td>TCGA-BI-A0VR-01A</td>\n",
       "    </tr>\n",
       "  </tbody>\n",
       "</table>\n",
       "</div>"
      ],
      "text/plain": [
       "   Chromosome    Start        End  Segment_Mean           Samples\n",
       "0           1  3218610  247813706        0.1305  TCGA-BI-A0VR-01A\n",
       "1           2   484222    3604951       -0.0074  TCGA-BI-A0VR-01A\n",
       "2           2  3608623    3608756       -2.1939  TCGA-BI-A0VR-01A"
      ]
     },
     "execution_count": 9,
     "metadata": {},
     "output_type": "execute_result"
    },
    {
     "data": {
      "text/plain": [
       "(21932, 5)"
      ]
     },
     "execution_count": 9,
     "metadata": {},
     "output_type": "execute_result"
    }
   ],
   "source": [
    "tcga = pd.read_csv(tcga_cn_file, sep='\\t')\n",
    "tcga = tcga[tcga.columns[[1, 2,3,4, 5, 0]]]\n",
    "tcga.drop('Num_Probes', axis=1, inplace=True)\n",
    "tcga[:3]\n",
    "tcga.shape"
   ]
  },
  {
   "cell_type": "code",
   "execution_count": 10,
   "metadata": {},
   "outputs": [],
   "source": [
    "tcga_amps = tcga[tcga.Segment_Mean >= amp_threshold]\n",
    "tcga_dels = tcga[tcga.Segment_Mean <= del_threshold]"
   ]
  },
  {
   "cell_type": "code",
   "execution_count": 11,
   "metadata": {},
   "outputs": [
    {
     "data": {
      "text/plain": [
       "count    6230.000000\n",
       "mean        0.595218\n",
       "std         0.548625\n",
       "min         0.100100\n",
       "25%         0.237625\n",
       "50%         0.437500\n",
       "75%         0.712850\n",
       "max         4.679400\n",
       "Name: Segment_Mean, dtype: float64"
      ]
     },
     "execution_count": 11,
     "metadata": {},
     "output_type": "execute_result"
    },
    {
     "data": {
      "text/plain": [
       "count    9025.000000\n",
       "mean       -1.065045\n",
       "std         0.996327\n",
       "min        -7.427400\n",
       "25%        -1.458300\n",
       "50%        -0.727900\n",
       "75%        -0.387700\n",
       "max        -0.100000\n",
       "Name: Segment_Mean, dtype: float64"
      ]
     },
     "execution_count": 11,
     "metadata": {},
     "output_type": "execute_result"
    }
   ],
   "source": [
    "tcga_amps.Segment_Mean.describe()\n",
    "tcga_dels.Segment_Mean.describe()"
   ]
  },
  {
   "cell_type": "code",
   "execution_count": 31,
   "metadata": {},
   "outputs": [],
   "source": [
    "tcga_amps.to_csv(f'{wkdir}tcga_cnv_amps.txt', sep='\\t', header=None, index=False)\n",
    "tcga_dels.to_csv(f'{wkdir}tcga_cnv_dels.txt', sep='\\t', header=None, index=False)"
   ]
  },
  {
   "cell_type": "markdown",
   "metadata": {},
   "source": [
    "# 2. Process TCGA cns"
   ]
  },
  {
   "cell_type": "code",
   "execution_count": 32,
   "metadata": {},
   "outputs": [],
   "source": [
    "%%bash -s $wkdir $bindir\n",
    "wkdir=$1\n",
    "bindir=$2\n",
    "# run this in this dir: \n",
    "bedtools=/home/rcorbett/aligners/bedtools/BEDTools-Version-2.15.0/bin/bedtools\n",
    "cd $wkdir\n",
    "sort -k1n -k2n -k3n tcga_cnv_amps.txt > tcga_cnv_amps.txt.sorted\n",
    "$bedtools intersect -a $bindir/chr_bins.txt -b tcga_cnv_amps.txt.sorted -wa -wb > tcga_cnv_amps_bins_1kb.txt\n",
    "sort -k1n -k2n -k3n tcga_cnv_dels.txt > tcga_cnv_dels.txt.sorted\n",
    "$bedtools intersect -a $bindir/chr_bins.txt -b tcga_cnv_dels.txt.sorted -wa -wb > tcga_cnv_dels_bins_1kb.txt\n"
   ]
  },
  {
   "cell_type": "code",
   "execution_count": 33,
   "metadata": {},
   "outputs": [
    {
     "data": {
      "text/plain": [
       "'/projects/trans_scratch/validations/workspace/szong/Cervical/cnv/'"
      ]
     },
     "execution_count": 33,
     "metadata": {},
     "output_type": "execute_result"
    }
   ],
   "source": [
    "wkdir"
   ]
  },
  {
   "cell_type": "code",
   "execution_count": 12,
   "metadata": {},
   "outputs": [],
   "source": [
    "def calculate_occurence(f):\n",
    "    df = pd.read_csv(f, sep='\\t', header=None)#, nrows=200)\n",
    "    df.columns = ['bin_chr', 'bin_start', 'bin_end', 'chr', 'start', 'end', 'cn', 'patient']\n",
    "    occurrence = df.groupby(['bin_chr', 'bin_start', 'bin_end'])['patient'].nunique()#.sort_values(ascending=False)\n",
    "    recur_cnvs = occurrence.reset_index().sort_values(['bin_chr', 'bin_start', 'bin_end'])\n",
    "\n",
    "    recur_cnvs.head(2)\n",
    "    return recur_cnvs"
   ]
  },
  {
   "cell_type": "code",
   "execution_count": null,
   "metadata": {},
   "outputs": [],
   "source": [
    "f = f'{wkdir}tcga_cnv_amps_bins_1kb.txt'\n",
    "tcga_recur_amps = calculate_occurence(f)\n",
    "\n",
    "of = f'{f}.patients'\n",
    "# tcga_recur_amps.to_csv(of, index=False, sep='\\t')\n",
    "tcga_recur_amps = pd.read_csv(of, sep='\\t')"
   ]
  },
  {
   "cell_type": "code",
   "execution_count": 36,
   "metadata": {},
   "outputs": [
    {
     "data": {
      "text/html": [
       "<div>\n",
       "<style scoped>\n",
       "    .dataframe tbody tr th:only-of-type {\n",
       "        vertical-align: middle;\n",
       "    }\n",
       "\n",
       "    .dataframe tbody tr th {\n",
       "        vertical-align: top;\n",
       "    }\n",
       "\n",
       "    .dataframe thead th {\n",
       "        text-align: right;\n",
       "    }\n",
       "</style>\n",
       "<table border=\"1\" class=\"dataframe\">\n",
       "  <thead>\n",
       "    <tr style=\"text-align: right;\">\n",
       "      <th></th>\n",
       "      <th>bin_chr</th>\n",
       "      <th>bin_start</th>\n",
       "      <th>bin_end</th>\n",
       "      <th>patient</th>\n",
       "    </tr>\n",
       "  </thead>\n",
       "  <tbody>\n",
       "    <tr>\n",
       "      <th>0</th>\n",
       "      <td>1</td>\n",
       "      <td>3218001</td>\n",
       "      <td>3219000</td>\n",
       "      <td>51</td>\n",
       "    </tr>\n",
       "    <tr>\n",
       "      <th>1</th>\n",
       "      <td>1</td>\n",
       "      <td>3219001</td>\n",
       "      <td>3220000</td>\n",
       "      <td>51</td>\n",
       "    </tr>\n",
       "    <tr>\n",
       "      <th>2</th>\n",
       "      <td>1</td>\n",
       "      <td>3220001</td>\n",
       "      <td>3221000</td>\n",
       "      <td>51</td>\n",
       "    </tr>\n",
       "    <tr>\n",
       "      <th>3</th>\n",
       "      <td>1</td>\n",
       "      <td>3221001</td>\n",
       "      <td>3222000</td>\n",
       "      <td>51</td>\n",
       "    </tr>\n",
       "    <tr>\n",
       "      <th>4</th>\n",
       "      <td>1</td>\n",
       "      <td>3222001</td>\n",
       "      <td>3223000</td>\n",
       "      <td>51</td>\n",
       "    </tr>\n",
       "  </tbody>\n",
       "</table>\n",
       "</div>"
      ],
      "text/plain": [
       "   bin_chr  bin_start  bin_end  patient\n",
       "0        1    3218001  3219000       51\n",
       "1        1    3219001  3220000       51\n",
       "2        1    3220001  3221000       51\n",
       "3        1    3221001  3222000       51\n",
       "4        1    3222001  3223000       51"
      ]
     },
     "execution_count": 36,
     "metadata": {},
     "output_type": "execute_result"
    },
    {
     "data": {
      "text/plain": [
       "(2903195, 4)"
      ]
     },
     "execution_count": 36,
     "metadata": {},
     "output_type": "execute_result"
    }
   ],
   "source": [
    "tcga_recur_amps.head()\n",
    "tcga_recur_amps.shape"
   ]
  },
  {
   "cell_type": "code",
   "execution_count": 37,
   "metadata": {},
   "outputs": [
    {
     "data": {
      "text/html": [
       "<div>\n",
       "<style scoped>\n",
       "    .dataframe tbody tr th:only-of-type {\n",
       "        vertical-align: middle;\n",
       "    }\n",
       "\n",
       "    .dataframe tbody tr th {\n",
       "        vertical-align: top;\n",
       "    }\n",
       "\n",
       "    .dataframe thead th {\n",
       "        text-align: right;\n",
       "    }\n",
       "</style>\n",
       "<table border=\"1\" class=\"dataframe\">\n",
       "  <thead>\n",
       "    <tr style=\"text-align: right;\">\n",
       "      <th></th>\n",
       "      <th>bin_chr</th>\n",
       "      <th>bin_start</th>\n",
       "      <th>bin_end</th>\n",
       "      <th>patient</th>\n",
       "    </tr>\n",
       "  </thead>\n",
       "  <tbody>\n",
       "    <tr>\n",
       "      <th>0</th>\n",
       "      <td>1</td>\n",
       "      <td>3218001</td>\n",
       "      <td>3219000</td>\n",
       "      <td>23</td>\n",
       "    </tr>\n",
       "    <tr>\n",
       "      <th>1</th>\n",
       "      <td>1</td>\n",
       "      <td>3219001</td>\n",
       "      <td>3220000</td>\n",
       "      <td>23</td>\n",
       "    </tr>\n",
       "  </tbody>\n",
       "</table>\n",
       "</div>"
      ],
      "text/plain": [
       "   bin_chr  bin_start  bin_end  patient\n",
       "0        1    3218001  3219000       23\n",
       "1        1    3219001  3220000       23"
      ]
     },
     "execution_count": 37,
     "metadata": {},
     "output_type": "execute_result"
    },
    {
     "data": {
      "text/plain": [
       "(2903195, 4)"
      ]
     },
     "execution_count": 37,
     "metadata": {},
     "output_type": "execute_result"
    }
   ],
   "source": [
    "f = f'{wkdir}tcga_cnv_dels_bins_1kb.txt'\n",
    "tcga_recur_dels = calculate_occurence(f)\n",
    "of = f'{f}.patients'\n",
    "# tcga_recur_dels.to_csv(of, index=False, sep='\\t')\n",
    "tcga_recur_dels = pd.read_csv(of, sep='\\t')\n",
    "tcga_recur_dels[:2]\n",
    "tcga_recur_dels.shape"
   ]
  },
  {
   "cell_type": "code",
   "execution_count": 219,
   "metadata": {},
   "outputs": [],
   "source": [
    "# tcga_recur_amps = pd.read_csv(of, sep='\\t')\n",
    "# tcga_recur_amps.head()"
   ]
  },
  {
   "cell_type": "code",
   "execution_count": 31,
   "metadata": {},
   "outputs": [
    {
     "data": {
      "text/html": [
       "<div>\n",
       "<style scoped>\n",
       "    .dataframe tbody tr th:only-of-type {\n",
       "        vertical-align: middle;\n",
       "    }\n",
       "\n",
       "    .dataframe tbody tr th {\n",
       "        vertical-align: top;\n",
       "    }\n",
       "\n",
       "    .dataframe thead th {\n",
       "        text-align: right;\n",
       "    }\n",
       "</style>\n",
       "<table border=\"1\" class=\"dataframe\">\n",
       "  <thead>\n",
       "    <tr style=\"text-align: right;\">\n",
       "      <th></th>\n",
       "      <th></th>\n",
       "      <th></th>\n",
       "    </tr>\n",
       "    <tr>\n",
       "      <th>bin_chr</th>\n",
       "      <th>bin_start</th>\n",
       "      <th>bin_end</th>\n",
       "    </tr>\n",
       "  </thead>\n",
       "  <tbody>\n",
       "    <tr>\n",
       "      <th rowspan=\"5\" valign=\"top\">1</th>\n",
       "      <th>1</th>\n",
       "      <th>1000</th>\n",
       "    </tr>\n",
       "    <tr>\n",
       "      <th>1001</th>\n",
       "      <th>2000</th>\n",
       "    </tr>\n",
       "    <tr>\n",
       "      <th>2001</th>\n",
       "      <th>3000</th>\n",
       "    </tr>\n",
       "    <tr>\n",
       "      <th>3001</th>\n",
       "      <th>4000</th>\n",
       "    </tr>\n",
       "    <tr>\n",
       "      <th>4001</th>\n",
       "      <th>5000</th>\n",
       "    </tr>\n",
       "  </tbody>\n",
       "</table>\n",
       "</div>"
      ],
      "text/plain": [
       "Empty DataFrame\n",
       "Columns: []\n",
       "Index: [(1, 1, 1000), (1, 1001, 2000), (1, 2001, 3000), (1, 3001, 4000), (1, 4001, 5000)]"
      ]
     },
     "execution_count": 31,
     "metadata": {},
     "output_type": "execute_result"
    }
   ],
   "source": [
    "f11 = '/projects/trans_scratch/validations/workspace/szong/Cervical/cnv/bin_segs/chr_bins.txt'\n",
    "df11 = pd.read_csv(f11, sep='\\t', header=None)\n",
    "df11.columns = ['bin_chr', 'bin_start', 'bin_end']\n",
    "df11.set_index(['bin_chr', 'bin_start', 'bin_end'], inplace=True)\n",
    "# df11['patient'] = 0\n",
    "df11.head()"
   ]
  },
  {
   "cell_type": "code",
   "execution_count": 25,
   "metadata": {},
   "outputs": [],
   "source": [
    "def reindex_df(indf, num_patients):\n",
    "    df = indf.set_index(['bin_chr', 'bin_start', 'bin_end']).reindex(df11.index)\n",
    "    df.fillna(0, inplace=True)\n",
    "    df['fraction_patients'] = df.patient/num_patients\n",
    "    df.drop('patient', inplace=True, axis=1)\n",
    "    return df"
   ]
  },
  {
   "cell_type": "code",
   "execution_count": 26,
   "metadata": {},
   "outputs": [],
   "source": [
    "# df_amps.reset_index()['bin_start'].cumsum() # not just accumulateive sum, depending on chr."
   ]
  },
  {
   "cell_type": "code",
   "execution_count": 27,
   "metadata": {},
   "outputs": [],
   "source": [
    "def calculate_fractions(df):\n",
    "    end = 0\n",
    "    all_positions = []\n",
    "    all_fractions = []\n",
    "    for ch, length in enumerate(chr_length):\n",
    "        ch+=1\n",
    "        positions = list(end + np.array(df.iloc[df.index.get_level_values('bin_chr') == ch].index.get_level_values('bin_start').tolist()))\n",
    "        all_positions = all_positions + positions\n",
    "        fractions = df.iloc[df.index.get_level_values('bin_chr') == ch]['fraction_patients'].tolist()\n",
    "        all_fractions = all_fractions + fractions\n",
    "        end+=length\n",
    "    return (all_positions, all_fractions)\n",
    "\n",
    "\n"
   ]
  },
  {
   "cell_type": "code",
   "execution_count": 28,
   "metadata": {},
   "outputs": [],
   "source": [
    "def get_coordinates_fractions(indf, num_patients):\n",
    "    df = reindex_df(indf, num_patients)\n",
    "    coordinates, fractions = calculate_fractions(df)\n",
    "    return (coordinates, fractions)"
   ]
  },
  {
   "cell_type": "code",
   "execution_count": 29,
   "metadata": {},
   "outputs": [],
   "source": [
    "def plot_fraction(coordinates, fractions, baseline, cnv_type, ax):\n",
    "    baseline_postions = [baseline] * len(coordinates)\n",
    "    if cnv_type.lower() == 'amps':\n",
    "        fractions = baseline + np.array(fractions)\n",
    "        color = 'red'\n",
    "    elif cnv_type.lower() == 'dels':\n",
    "        fractions = baseline - np.array(fractions)\n",
    "        color = 'blue'\n",
    "    ax.fill_between(coordinates, \n",
    "                    fractions, \n",
    "                    baseline_postions, \n",
    "                    color=color, \n",
    "                    alpha=1)"
   ]
  },
  {
   "cell_type": "code",
   "execution_count": 20,
   "metadata": {},
   "outputs": [
    {
     "data": {
      "text/html": [
       "<div>\n",
       "<style scoped>\n",
       "    .dataframe tbody tr th:only-of-type {\n",
       "        vertical-align: middle;\n",
       "    }\n",
       "\n",
       "    .dataframe tbody tr th {\n",
       "        vertical-align: top;\n",
       "    }\n",
       "\n",
       "    .dataframe thead th {\n",
       "        text-align: right;\n",
       "    }\n",
       "</style>\n",
       "<table border=\"1\" class=\"dataframe\">\n",
       "  <thead>\n",
       "    <tr style=\"text-align: right;\">\n",
       "      <th></th>\n",
       "      <th>size</th>\n",
       "    </tr>\n",
       "    <tr>\n",
       "      <th>chr</th>\n",
       "      <th></th>\n",
       "    </tr>\n",
       "  </thead>\n",
       "  <tbody>\n",
       "    <tr>\n",
       "      <th>1</th>\n",
       "      <td>249250621</td>\n",
       "    </tr>\n",
       "    <tr>\n",
       "      <th>2</th>\n",
       "      <td>243199373</td>\n",
       "    </tr>\n",
       "  </tbody>\n",
       "</table>\n",
       "</div>"
      ],
      "text/plain": [
       "          size\n",
       "chr           \n",
       "1    249250621\n",
       "2    243199373"
      ]
     },
     "execution_count": 20,
     "metadata": {},
     "output_type": "execute_result"
    }
   ],
   "source": [
    "f2_1 = '/home/szong/projects/resource/chrominfo.txt'\n",
    "df2_1 = pd.read_csv(f2_1, sep='\\t', usecols=['#chrom', 'size'])\n",
    "df2_1['chr'] = df2_1['#chrom'].apply(lambda x: x.replace('chr', ''))\n",
    "chr_sizes = df2_1.set_index('chr').drop('#chrom', axis=1)\n",
    "chr_sizes = chr_sizes.reset_index().replace('X', '23').replace('Y', '24').iloc[:24,].set_index('chr')\n",
    "chr_sizes.index = chr_sizes.index.astype(int)\n",
    "chr_sizes = chr_sizes.sort_index()\n",
    "chr_sizes.head(2)\n",
    "# initiate occupied label coordinates dict\n",
    "chr_length = chr_sizes['size']#.astype(str)\n",
    "y_coords = np.arange(7, .5, -0.5)"
   ]
  },
  {
   "cell_type": "markdown",
   "metadata": {},
   "source": [
    "# 2. Process HTMCP copy number"
   ]
  },
  {
   "cell_type": "markdown",
   "metadata": {},
   "source": [
    "## all 118 patients"
   ]
  },
  {
   "cell_type": "code",
   "execution_count": 407,
   "metadata": {},
   "outputs": [
    {
     "data": {
      "text/html": [
       "<div>\n",
       "<style scoped>\n",
       "    .dataframe tbody tr th:only-of-type {\n",
       "        vertical-align: middle;\n",
       "    }\n",
       "\n",
       "    .dataframe tbody tr th {\n",
       "        vertical-align: top;\n",
       "    }\n",
       "\n",
       "    .dataframe thead th {\n",
       "        text-align: right;\n",
       "    }\n",
       "</style>\n",
       "<table border=\"1\" class=\"dataframe\">\n",
       "  <thead>\n",
       "    <tr style=\"text-align: right;\">\n",
       "      <th></th>\n",
       "      <th>chr</th>\n",
       "      <th>start</th>\n",
       "      <th>end</th>\n",
       "      <th>Segment_Mean</th>\n",
       "      <th>patient</th>\n",
       "    </tr>\n",
       "  </thead>\n",
       "  <tbody>\n",
       "    <tr>\n",
       "      <th>0</th>\n",
       "      <td>1</td>\n",
       "      <td>10001</td>\n",
       "      <td>63000</td>\n",
       "      <td>-2.710885</td>\n",
       "      <td>HTMCP-03-06-02256</td>\n",
       "    </tr>\n",
       "    <tr>\n",
       "      <th>1</th>\n",
       "      <td>1</td>\n",
       "      <td>10001</td>\n",
       "      <td>90000</td>\n",
       "      <td>-0.600141</td>\n",
       "      <td>HTMCP-03-06-02332</td>\n",
       "    </tr>\n",
       "  </tbody>\n",
       "</table>\n",
       "</div>"
      ],
      "text/plain": [
       "   chr  start    end  Segment_Mean            patient\n",
       "0    1  10001  63000     -2.710885  HTMCP-03-06-02256\n",
       "1    1  10001  90000     -0.600141  HTMCP-03-06-02332"
      ]
     },
     "execution_count": 407,
     "metadata": {},
     "output_type": "execute_result"
    },
    {
     "data": {
      "text/plain": [
       "count    46227.000000\n",
       "mean         0.470232\n",
       "std          0.413566\n",
       "min          0.100002\n",
       "25%          0.218220\n",
       "50%          0.364845\n",
       "75%          0.570257\n",
       "max          6.622359\n",
       "Name: Segment_Mean, dtype: float64"
      ]
     },
     "execution_count": 407,
     "metadata": {},
     "output_type": "execute_result"
    },
    {
     "data": {
      "text/plain": [
       "count    61506.000000\n",
       "mean        -0.570545\n",
       "std          1.402886\n",
       "min        -30.034152\n",
       "25%         -0.645850\n",
       "50%         -0.413428\n",
       "75%         -0.241656\n",
       "max         -0.100008\n",
       "Name: Segment_Mean, dtype: float64"
      ]
     },
     "execution_count": 407,
     "metadata": {},
     "output_type": "execute_result"
    },
    {
     "data": {
      "image/png": "[encoded data removed]",
      "text/plain": [
       "<Figure size 432x288 with 1 Axes>"
      ]
     },
     "metadata": {},
     "output_type": "display_data"
    }
   ],
   "source": [
    "# f3 = '/home/szong/bin/GISTIC_2_0_22/gatk_118_patients/segmentationfile.txt'\n",
    "df3 = pd.read_csv(htmcp_file, sep='\\t')\n",
    "df3.columns = ['patient', 'chr', 'start', 'end', 'Num_Probes', 'Segment_Mean']\n",
    "df3 = df3[['chr', 'start', 'end','Segment_Mean', 'patient']]\n",
    "\n",
    "df3.head(2)\n",
    "\n",
    "htmcp_amps = df3[df3.Segment_Mean >= amp_threshold]\n",
    "htmcp_dels = df3[df3.Segment_Mean <= del_threshold]\n",
    "\n",
    "htmcp_amps.to_csv(f'{wkdir}htmcp_cnv_amps.txt', sep='\\t', header=None, index=False)\n",
    "htmcp_dels.to_csv(f'{wkdir}htmcp_cnv_dels.txt', sep='\\t', header=None, index=False)\n",
    "\n",
    "htmcp_amps.Segment_Mean.describe()\n",
    "_ = plt.boxplot(htmcp_amps.Segment_Mean)\n",
    "\n",
    "htmcp_dels.Segment_Mean.describe()\n",
    "_ = plt.boxplot(htmcp_dels.Segment_Mean)"
   ]
  },
  {
   "cell_type": "code",
   "execution_count": 399,
   "metadata": {},
   "outputs": [],
   "source": [
    "%%bash -s $wkdir $bindir\n",
    "wkdir=$1\n",
    "bindir=$2\n",
    "# run this in this dir: \n",
    "bedtools=/home/rcorbett/aligners/bedtools/BEDTools-Version-2.15.0/bin/bedtools\n",
    "cd $wkdir\n",
    "sort -k1n -k2n -k3n htmcp_cnv_amps.txt > htmcp_cnv_amps.txt.sorted\n",
    "$bedtools intersect -a $bindir/chr_bins.txt -b htmcp_cnv_amps.txt.sorted -wa -wb > htmcp_cnv_amps_bins_1kb.txt\n",
    "sort -k1n -k2n -k3n htmcp_cnv_dels.txt > htmcp_cnv_dels.txt.sorted\n",
    "$bedtools intersect -a $bindir/chr_bins.txt -b htmcp_cnv_dels.txt.sorted -wa -wb > htmcp_cnv_dels_bins_1kb.txt\n"
   ]
  },
  {
   "cell_type": "code",
   "execution_count": 400,
   "metadata": {},
   "outputs": [],
   "source": [
    "f = f'{wkdir}htmcp_cnv_amps_bins_1kb.txt'\n",
    "htmcp_recur_amps = calculate_occurence(f)\n",
    "of = f'{f}.patients'\n",
    "# htmcp_recur_amps.to_csv(of, index=False, sep='\\t')"
   ]
  },
  {
   "cell_type": "code",
   "execution_count": 401,
   "metadata": {},
   "outputs": [],
   "source": [
    "f = f'{wkdir}htmcp_cnv_dels_bins_1kb.txt'\n",
    "htmcp_recur_dels = calculate_occurence(f)\n",
    "of = f'{f}.patients'\n",
    "# htmcp_recur_dels.to_csv(of, index=False, sep='\\t')"
   ]
  },
  {
   "cell_type": "markdown",
   "metadata": {},
   "source": [
    "## HIV + patient 73"
   ]
  },
  {
   "cell_type": "code",
   "execution_count": 54,
   "metadata": {},
   "outputs": [
    {
     "data": {
      "text/plain": [
       "chr             object\n",
       "start           object\n",
       "end             object\n",
       "Segment_Mean    object\n",
       "patient         object\n",
       "dtype: object"
      ]
     },
     "execution_count": 54,
     "metadata": {},
     "output_type": "execute_result"
    }
   ],
   "source": [
    "df3.dtypes"
   ]
  },
  {
   "cell_type": "code",
   "execution_count": 57,
   "metadata": {},
   "outputs": [
    {
     "data": {
      "text/html": [
       "<div>\n",
       "<style scoped>\n",
       "    .dataframe tbody tr th:only-of-type {\n",
       "        vertical-align: middle;\n",
       "    }\n",
       "\n",
       "    .dataframe tbody tr th {\n",
       "        vertical-align: top;\n",
       "    }\n",
       "\n",
       "    .dataframe thead th {\n",
       "        text-align: right;\n",
       "    }\n",
       "</style>\n",
       "<table border=\"1\" class=\"dataframe\">\n",
       "  <thead>\n",
       "    <tr style=\"text-align: right;\">\n",
       "      <th></th>\n",
       "      <th>chr</th>\n",
       "      <th>start</th>\n",
       "      <th>end</th>\n",
       "      <th>Segment_Mean</th>\n",
       "      <th>patient</th>\n",
       "    </tr>\n",
       "  </thead>\n",
       "  <tbody>\n",
       "    <tr>\n",
       "      <th>0</th>\n",
       "      <td>1</td>\n",
       "      <td>10001</td>\n",
       "      <td>90000</td>\n",
       "      <td>-1.619727</td>\n",
       "      <td>HTMCP-03-06-02414</td>\n",
       "    </tr>\n",
       "    <tr>\n",
       "      <th>1</th>\n",
       "      <td>1</td>\n",
       "      <td>10001</td>\n",
       "      <td>90000</td>\n",
       "      <td>-1.871280</td>\n",
       "      <td>HTMCP-03-06-02435</td>\n",
       "    </tr>\n",
       "  </tbody>\n",
       "</table>\n",
       "</div>"
      ],
      "text/plain": [
       "   chr  start    end  Segment_Mean            patient\n",
       "0    1  10001  90000     -1.619727  HTMCP-03-06-02414\n",
       "1    1  10001  90000     -1.871280  HTMCP-03-06-02435"
      ]
     },
     "execution_count": 57,
     "metadata": {},
     "output_type": "execute_result"
    },
    {
     "data": {
      "text/plain": [
       "73"
      ]
     },
     "execution_count": 57,
     "metadata": {},
     "output_type": "execute_result"
    },
    {
     "data": {
      "text/plain": [
       "count    26735.000000\n",
       "mean         0.460409\n",
       "std          0.443659\n",
       "min          0.100007\n",
       "25%          0.196269\n",
       "50%          0.349233\n",
       "75%          0.555244\n",
       "max          6.622359\n",
       "Name: Segment_Mean, dtype: float64"
      ]
     },
     "execution_count": 57,
     "metadata": {},
     "output_type": "execute_result"
    },
    {
     "data": {
      "image/png": "[encoded data removed]",
      "text/plain": [
       "<Figure size 432x288 with 1 Axes>"
      ]
     },
     "metadata": {},
     "output_type": "display_data"
    },
    {
     "data": {
      "text/plain": [
       "count    39779.000000\n",
       "mean        -0.565476\n",
       "std          1.358363\n",
       "min        -30.034152\n",
       "25%         -0.639165\n",
       "50%         -0.421445\n",
       "75%         -0.257884\n",
       "max         -0.100009\n",
       "Name: Segment_Mean, dtype: float64"
      ]
     },
     "execution_count": 57,
     "metadata": {},
     "output_type": "execute_result"
    },
    {
     "data": {
      "image/png": "[encoded data removed]",
      "text/plain": [
       "<Figure size 432x288 with 1 Axes>"
      ]
     },
     "metadata": {},
     "output_type": "display_data"
    }
   ],
   "source": [
    "# f3 = '/home/szong/bin/GISTIC_2_0_22/gatk_118_patients/segmentationfile.txt'\n",
    "df3 = pd.read_csv(htmcp_hiv_pos_file, sep='\\t')\n",
    "df3.columns = ['patient', 'chr', 'start', 'end', 'Num_Probes', 'Segment_Mean']\n",
    "df3 = df3[['chr', 'start', 'end','Segment_Mean', 'patient']]\n",
    "df3.head(2)\n",
    "df3.patient.nunique()\n",
    "\n",
    "htmcp_hiv_pos_amps = df3[df3.Segment_Mean >= amp_threshold]\n",
    "htmcp_hiv_pos_dels = df3[df3.Segment_Mean <= del_threshold]\n",
    "\n",
    "htmcp_hiv_pos_amps.to_csv(f'{wkdir}htmcp_hiv_pos_cnv_amps.txt', sep='\\t', header=None, index=False)\n",
    "htmcp_hiv_pos_dels.to_csv(f'{wkdir}htmcp_hiv_pos_cnv_dels.txt', sep='\\t', header=None, index=False)\n",
    "\n",
    "htmcp_hiv_pos_amps.Segment_Mean.describe()\n",
    "_ = plt.boxplot(htmcp_hiv_pos_amps.Segment_Mean)\n",
    "plt.show()\n",
    "\n",
    "htmcp_hiv_pos_dels.Segment_Mean.describe()\n",
    "_ = plt.boxplot(htmcp_hiv_pos_dels.Segment_Mean)"
   ]
  },
  {
   "cell_type": "code",
   "execution_count": 58,
   "metadata": {},
   "outputs": [],
   "source": [
    "%%bash -s $wkdir $bindir\n",
    "wkdir=$1\n",
    "bindir=$2\n",
    "# run this in this dir: \n",
    "bedtools=/home/rcorbett/aligners/bedtools/BEDTools-Version-2.15.0/bin/bedtools\n",
    "cd $wkdir\n",
    "sort -k1n -k2n -k3n htmcp_hiv_pos_cnv_amps.txt > htmcp_hiv_pos_cnv_amps.txt.sorted\n",
    "$bedtools intersect -a $bindir/chr_bins.txt -b htmcp_hiv_pos_cnv_amps.txt.sorted -wa -wb > htmcp_hiv_pos_cnv_amps_bins_1kb.txt\n",
    "sort -k1n -k2n -k3n htmcp_hiv_pos_cnv_dels.txt > htmcp_hiv_pos_cnv_dels.txt.sorted\n",
    "$bedtools intersect -a $bindir/chr_bins.txt -b htmcp_hiv_pos_cnv_dels.txt.sorted -wa -wb > htmcp_hiv_pos_cnv_dels_bins_1kb.txt\n"
   ]
  },
  {
   "cell_type": "code",
   "execution_count": 59,
   "metadata": {},
   "outputs": [],
   "source": [
    "f = f'{wkdir}htmcp_hiv_pos_cnv_amps_bins_1kb.txt'\n",
    "htmcp_hiv_pos_recur_amps = calculate_occurence(f)\n",
    "of = f'{f}.patients'\n",
    "htmcp_hiv_pos_recur_amps.to_csv(of, index=False, sep='\\t')\n",
    "# htmcp_hiv_pos_recur_amps = pd.read_csv(of, sep='\\t')\n",
    "\n",
    "f = f'{wkdir}htmcp_hiv_pos_cnv_dels_bins_1kb.txt'\n",
    "htmcp_hiv_pos_recur_dels = calculate_occurence(f)\n",
    "of = f'{f}.patients'\n",
    "htmcp_hiv_pos_recur_dels.to_csv(of, index=False, sep='\\t')\n",
    "# htmcp_hiv_pos_recur_dels = pd.read_csv(of, sep='\\t')"
   ]
  },
  {
   "cell_type": "markdown",
   "metadata": {},
   "source": [
    "# HIV - patients: 45"
   ]
  },
  {
   "cell_type": "code",
   "execution_count": null,
   "metadata": {},
   "outputs": [],
   "source": []
  },
  {
   "cell_type": "code",
   "execution_count": 60,
   "metadata": {},
   "outputs": [
    {
     "data": {
      "text/html": [
       "<div>\n",
       "<style scoped>\n",
       "    .dataframe tbody tr th:only-of-type {\n",
       "        vertical-align: middle;\n",
       "    }\n",
       "\n",
       "    .dataframe tbody tr th {\n",
       "        vertical-align: top;\n",
       "    }\n",
       "\n",
       "    .dataframe thead th {\n",
       "        text-align: right;\n",
       "    }\n",
       "</style>\n",
       "<table border=\"1\" class=\"dataframe\">\n",
       "  <thead>\n",
       "    <tr style=\"text-align: right;\">\n",
       "      <th></th>\n",
       "      <th>chr</th>\n",
       "      <th>start</th>\n",
       "      <th>end</th>\n",
       "      <th>Segment_Mean</th>\n",
       "      <th>patient</th>\n",
       "    </tr>\n",
       "  </thead>\n",
       "  <tbody>\n",
       "    <tr>\n",
       "      <th>0</th>\n",
       "      <td>1</td>\n",
       "      <td>10001</td>\n",
       "      <td>63000</td>\n",
       "      <td>-2.710885</td>\n",
       "      <td>HTMCP-03-06-02256</td>\n",
       "    </tr>\n",
       "    <tr>\n",
       "      <th>1</th>\n",
       "      <td>1</td>\n",
       "      <td>10001</td>\n",
       "      <td>90000</td>\n",
       "      <td>-0.600141</td>\n",
       "      <td>HTMCP-03-06-02332</td>\n",
       "    </tr>\n",
       "  </tbody>\n",
       "</table>\n",
       "</div>"
      ],
      "text/plain": [
       "   chr  start    end  Segment_Mean            patient\n",
       "0    1  10001  63000     -2.710885  HTMCP-03-06-02256\n",
       "1    1  10001  90000     -0.600141  HTMCP-03-06-02332"
      ]
     },
     "execution_count": 60,
     "metadata": {},
     "output_type": "execute_result"
    },
    {
     "data": {
      "text/plain": [
       "45"
      ]
     },
     "execution_count": 60,
     "metadata": {},
     "output_type": "execute_result"
    },
    {
     "data": {
      "text/plain": [
       "count    19492.000000\n",
       "mean         0.483705\n",
       "std          0.367899\n",
       "min          0.100002\n",
       "25%          0.262076\n",
       "50%          0.382057\n",
       "75%          0.596351\n",
       "max          5.250338\n",
       "Name: Segment_Mean, dtype: float64"
      ]
     },
     "execution_count": 60,
     "metadata": {},
     "output_type": "execute_result"
    },
    {
     "data": {
      "image/png": "[encoded data removed]",
      "text/plain": [
       "<Figure size 432x288 with 1 Axes>"
      ]
     },
     "metadata": {},
     "output_type": "display_data"
    },
    {
     "data": {
      "text/plain": [
       "count    21727.000000\n",
       "mean        -0.579825\n",
       "std          1.480923\n",
       "min        -29.981299\n",
       "25%         -0.662060\n",
       "50%         -0.395072\n",
       "75%         -0.214237\n",
       "max         -0.100008\n",
       "Name: Segment_Mean, dtype: float64"
      ]
     },
     "execution_count": 60,
     "metadata": {},
     "output_type": "execute_result"
    },
    {
     "data": {
      "image/png": "[encoded data removed]",
      "text/plain": [
       "<Figure size 432x288 with 1 Axes>"
      ]
     },
     "metadata": {},
     "output_type": "display_data"
    }
   ],
   "source": [
    "# f3 = '/home/szong/bin/GISTIC_2_0_22/gatk_118_patients/segmentationfile.txt'\n",
    "df3 = pd.read_csv(htmcp_hiv_neg_file, sep='\\t')\n",
    "df3.columns = ['patient', 'chr', 'start', 'end', 'Num_Probes', 'Segment_Mean']\n",
    "df3 = df3[['chr', 'start', 'end','Segment_Mean', 'patient']]\n",
    "df3.head(2)\n",
    "df3.patient.nunique()\n",
    "\n",
    "htmcp_hiv_neg_amps = df3[df3.Segment_Mean >= amp_threshold]\n",
    "htmcp_hiv_neg_dels = df3[df3.Segment_Mean <= del_threshold]\n",
    "\n",
    "htmcp_hiv_neg_amps.to_csv(f'{wkdir}htmcp_hiv_neg_cnv_amps.txt', sep='\\t', header=None, index=False)\n",
    "htmcp_hiv_neg_dels.to_csv(f'{wkdir}htmcp_hiv_neg_cnv_dels.txt', sep='\\t', header=None, index=False)\n",
    "\n",
    "htmcp_hiv_neg_amps.Segment_Mean.describe()\n",
    "_ = plt.boxplot(htmcp_hiv_neg_amps.Segment_Mean)\n",
    "plt.show()\n",
    "\n",
    "htmcp_hiv_neg_dels.Segment_Mean.describe()\n",
    "_ = plt.boxplot(htmcp_hiv_neg_dels.Segment_Mean)"
   ]
  },
  {
   "cell_type": "code",
   "execution_count": 61,
   "metadata": {},
   "outputs": [],
   "source": [
    "%%bash -s $wkdir $bindir\n",
    "wkdir=$1\n",
    "bindir=$2\n",
    "# run this in this dir: \n",
    "bedtools=/home/rcorbett/aligners/bedtools/BEDTools-Version-2.15.0/bin/bedtools\n",
    "cd $wkdir\n",
    "sort -k1n -k2n -k3n htmcp_hiv_neg_cnv_amps.txt > htmcp_hiv_neg_cnv_amps.txt.sorted\n",
    "$bedtools intersect -a $bindir/chr_bins.txt -b htmcp_hiv_neg_cnv_amps.txt.sorted -wa -wb > htmcp_hiv_neg_cnv_amps_bins_1kb.txt\n",
    "sort -k1n -k2n -k3n htmcp_hiv_neg_cnv_dels.txt > htmcp_hiv_neg_cnv_dels.txt.sorted\n",
    "$bedtools intersect -a $bindir/chr_bins.txt -b htmcp_hiv_neg_cnv_dels.txt.sorted -wa -wb > htmcp_hiv_neg_cnv_dels_bins_1kb.txt\n"
   ]
  },
  {
   "cell_type": "code",
   "execution_count": 62,
   "metadata": {},
   "outputs": [],
   "source": [
    "f = f'{wkdir}htmcp_hiv_neg_cnv_amps_bins_1kb.txt'\n",
    "htmcp_hiv_neg_recur_amps = calculate_occurence(f)\n",
    "of = f'{f}.patients'\n",
    "htmcp_hiv_neg_recur_amps.to_csv(of, index=False, sep='\\t')\n",
    "\n",
    "f = f'{wkdir}htmcp_hiv_neg_cnv_dels_bins_1kb.txt'\n",
    "htmcp_hiv_neg_recur_dels = calculate_occurence(f)\n",
    "of = f'{f}.patients'\n",
    "htmcp_hiv_neg_recur_dels.to_csv(of, index=False, sep='\\t')"
   ]
  },
  {
   "cell_type": "code",
   "execution_count": null,
   "metadata": {},
   "outputs": [],
   "source": []
  },
  {
   "cell_type": "code",
   "execution_count": null,
   "metadata": {},
   "outputs": [],
   "source": []
  },
  {
   "cell_type": "code",
   "execution_count": null,
   "metadata": {},
   "outputs": [],
   "source": []
  },
  {
   "cell_type": "code",
   "execution_count": null,
   "metadata": {},
   "outputs": [],
   "source": []
  },
  {
   "cell_type": "markdown",
   "metadata": {},
   "source": [
    "# 3. plot cnvs"
   ]
  },
  {
   "cell_type": "code",
   "execution_count": 10,
   "metadata": {},
   "outputs": [],
   "source": [
    "def plot_cnv(ax, baseline, amps, dels, num_patients, vlns):\n",
    "    ticks = [0, 0.4, 0.8, 1.2, 1.6]\n",
    "    ticklabels = [0.8, 0.4, 0, 0.4, 0.8]\n",
    "    ax.set_yticks(ticks, minor=False)\n",
    "    ax.set_yticklabels(ticklabels, minor=False)\n",
    "    # ax.set_frame_on(False) # this turn off frame\n",
    "    # Hide the right and top spines\n",
    "    ax.spines['right'].set_visible(False)\n",
    "    ax.spines['top'].set_visible(False)\n",
    "    ax.spines['bottom'].set_visible(False)\n",
    "    ax.axes.get_xaxis().set_visible(False)\n",
    "    _ = ax.hlines(baseline, 0, vlns[-2], color='black', linewidth=.7)\n",
    "    for vl in vlns:\n",
    "        _ = ax.vlines(vl, 0, 1.6, color='gray', linestyle='--', linewidth=.5)\n",
    "    \n",
    "#     _ = axhline(baseline + 1, color='gray', linestyle='--', linewidth=.5)\n",
    "#     _ = axhline(baseline - 1, color='gray', linestyle='--', linewidth=.5)\n",
    "    coordinates, fractions = get_coordinates_fractions(amps, num_patients)\n",
    "    plot_fraction(coordinates, fractions, baseline, 'amps', ax)\n",
    "    coordinates, fractions = get_coordinates_fractions(dels, num_patients)\n",
    "    plot_fraction(coordinates, fractions, baseline, 'dels', ax)"
   ]
  },
  {
   "cell_type": "code",
   "execution_count": 21,
   "metadata": {},
   "outputs": [],
   "source": [
    "# plot baseline\n",
    "start = 0\n",
    "end = 0\n",
    "# baseline = 1\n",
    "vlns = []\n",
    "mpnts = []\n",
    "for ch, length in enumerate(chr_length[:-1]):\n",
    "    ch+=1\n",
    "    end+=length\n",
    "    midpoint = (start + end)/2\n",
    "    mpnts.append(midpoint)\n",
    "#     _ = ax0.text(midpoint, 1, ch, ha='center')\n",
    "    if ch %2 == 1:\n",
    "        vlns.append(start)\n",
    "        vlns.append(end)\n",
    "#         _ = fill([start, end, end, start], [0, 0, 11, 11], 'b', alpha=0.1, edgecolor='b')\n",
    "#         _= ax0.vlines(start, 0, 10, color='gray', linestyle='--', linewidth=.5)\n",
    "#         _= ax0.vlines(end, 0, 10, color='gray', linestyle='--', linewidth=.5)\n",
    "    start+=length\n",
    "#     _ = ax0.text(midpoint, 1, ch, ha='center')\n"
   ]
  },
  {
   "cell_type": "code",
   "execution_count": 11,
   "metadata": {},
   "outputs": [],
   "source": [
    "def plot_cytobands(df, ax, clr, y_coord):\n",
    "    \"\"\"\n",
    "    keep in mind sometime notebook does render properly, some lines seem missing, \n",
    "    but it will show up when you open the png file. \n",
    "    \"\"\"\n",
    "    for ix, row in df.iterrows():\n",
    "        chrom = row.chr\n",
    "        start = row.start\n",
    "        end = row.end\n",
    "        cytoband = row.cytoband\n",
    "        print(start, end, (end-start), cytoband)\n",
    "        ax.hlines(y_coord, start, end, color=clr, linewidth=14) "
   ]
  },
  {
   "cell_type": "markdown",
   "metadata": {},
   "source": [
    "# plot cytoband"
   ]
  },
  {
   "cell_type": "code",
   "execution_count": 44,
   "metadata": {},
   "outputs": [
    {
     "data": {
      "text/html": [
       "<div>\n",
       "<style scoped>\n",
       "    .dataframe tbody tr th:only-of-type {\n",
       "        vertical-align: middle;\n",
       "    }\n",
       "\n",
       "    .dataframe tbody tr th {\n",
       "        vertical-align: top;\n",
       "    }\n",
       "\n",
       "    .dataframe thead th {\n",
       "        text-align: right;\n",
       "    }\n",
       "</style>\n",
       "<table border=\"1\" class=\"dataframe\">\n",
       "  <thead>\n",
       "    <tr style=\"text-align: right;\">\n",
       "      <th></th>\n",
       "      <th>cytoband</th>\n",
       "      <th>11q22.1</th>\n",
       "      <th>3q26.31</th>\n",
       "      <th>20q11.21</th>\n",
       "      <th>8q24.21</th>\n",
       "      <th>3q28</th>\n",
       "      <th>11q13.3</th>\n",
       "      <th>17q25.1</th>\n",
       "      <th>19q13.13</th>\n",
       "      <th>9p24.1</th>\n",
       "      <th>...</th>\n",
       "      <th>6q12</th>\n",
       "      <th>14q11.2</th>\n",
       "      <th>13q34</th>\n",
       "      <th>1p31.3</th>\n",
       "      <th>8p11.21</th>\n",
       "      <th>22q13.31</th>\n",
       "      <th>Xp22.11</th>\n",
       "      <th>11q13.2</th>\n",
       "      <th>2q32.3</th>\n",
       "      <th>19q13.32</th>\n",
       "    </tr>\n",
       "  </thead>\n",
       "  <tbody>\n",
       "    <tr>\n",
       "      <th>0</th>\n",
       "      <td>q value</td>\n",
       "      <td>8.2231e-24</td>\n",
       "      <td>2.0738e-15</td>\n",
       "      <td>6.7744e-10</td>\n",
       "      <td>1.4874e-08</td>\n",
       "      <td>1.3329e-14</td>\n",
       "      <td>1.799e-07</td>\n",
       "      <td>9.4255e-05</td>\n",
       "      <td>2.6629e-05</td>\n",
       "      <td>0.00020757</td>\n",
       "      <td>...</td>\n",
       "      <td>0.10033</td>\n",
       "      <td>0.12486</td>\n",
       "      <td>0.10443</td>\n",
       "      <td>0.17237</td>\n",
       "      <td>0.22602</td>\n",
       "      <td>0.2308</td>\n",
       "      <td>0.23765</td>\n",
       "      <td>0.0005581</td>\n",
       "      <td>0.24581</td>\n",
       "      <td>1.1211e-05</td>\n",
       "    </tr>\n",
       "    <tr>\n",
       "      <th>1</th>\n",
       "      <td>residual q value</td>\n",
       "      <td>9.9276e-20</td>\n",
       "      <td>2.4074e-10</td>\n",
       "      <td>6.7744e-10</td>\n",
       "      <td>1.4874e-08</td>\n",
       "      <td>1.3817e-05</td>\n",
       "      <td>4.7655e-05</td>\n",
       "      <td>9.4255e-05</td>\n",
       "      <td>9.475e-05</td>\n",
       "      <td>0.00020757</td>\n",
       "      <td>...</td>\n",
       "      <td>0.10033</td>\n",
       "      <td>0.12486</td>\n",
       "      <td>0.14977</td>\n",
       "      <td>0.17237</td>\n",
       "      <td>0.22602</td>\n",
       "      <td>0.2308</td>\n",
       "      <td>0.23765</td>\n",
       "      <td>0.24448</td>\n",
       "      <td>0.24581</td>\n",
       "      <td>0.41875</td>\n",
       "    </tr>\n",
       "  </tbody>\n",
       "</table>\n",
       "<p>2 rows × 30 columns</p>\n",
       "</div>"
      ],
      "text/plain": [
       "           cytoband     11q22.1     3q26.31    20q11.21     8q24.21  \\\n",
       "0           q value  8.2231e-24  2.0738e-15  6.7744e-10  1.4874e-08   \n",
       "1  residual q value  9.9276e-20  2.4074e-10  6.7744e-10  1.4874e-08   \n",
       "\n",
       "         3q28     11q13.3     17q25.1    19q13.13      9p24.1     ...      \\\n",
       "0  1.3329e-14   1.799e-07  9.4255e-05  2.6629e-05  0.00020757     ...       \n",
       "1  1.3817e-05  4.7655e-05  9.4255e-05   9.475e-05  0.00020757     ...       \n",
       "\n",
       "      6q12  14q11.2    13q34   1p31.3  8p11.21 22q13.31  Xp22.11    11q13.2  \\\n",
       "0  0.10033  0.12486  0.10443  0.17237  0.22602   0.2308  0.23765  0.0005581   \n",
       "1  0.10033  0.12486  0.14977  0.17237  0.22602   0.2308  0.23765    0.24448   \n",
       "\n",
       "    2q32.3    19q13.32  \n",
       "0  0.24581  1.1211e-05  \n",
       "1  0.24581     0.41875  \n",
       "\n",
       "[2 rows x 30 columns]"
      ]
     },
     "execution_count": 44,
     "metadata": {},
     "output_type": "execute_result"
    },
    {
     "data": {
      "text/plain": [
       "29"
      ]
     },
     "execution_count": 44,
     "metadata": {},
     "output_type": "execute_result"
    }
   ],
   "source": [
    "tcga_bandf = '/projects/trans_scratch/validations/workspace/szong/Cervical/tcga_cn/supplemental_Table_7-Amp_Del_Peaks.xlsx'\n",
    "tcga_band_amps = pd.read_excel(tcga_bandf, sheet_name='All_amps')\n",
    "tcga_band_amps[:2]\n",
    "tcga_amps_bands = tcga_band_amps.columns.tolist()\n",
    "tcga_amps_bands.remove('cytoband')\n",
    "len(tcga_amps_bands)"
   ]
  },
  {
   "cell_type": "code",
   "execution_count": 229,
   "metadata": {},
   "outputs": [
    {
     "data": {
      "text/html": [
       "<div>\n",
       "<style scoped>\n",
       "    .dataframe tbody tr th:only-of-type {\n",
       "        vertical-align: middle;\n",
       "    }\n",
       "\n",
       "    .dataframe tbody tr th {\n",
       "        vertical-align: top;\n",
       "    }\n",
       "\n",
       "    .dataframe thead th {\n",
       "        text-align: right;\n",
       "    }\n",
       "</style>\n",
       "<table border=\"1\" class=\"dataframe\">\n",
       "  <thead>\n",
       "    <tr style=\"text-align: right;\">\n",
       "      <th></th>\n",
       "      <th>cytoband</th>\n",
       "      <th>2q37.1</th>\n",
       "      <th>2q22.1</th>\n",
       "      <th>11q25</th>\n",
       "      <th>4q35.2</th>\n",
       "      <th>19p13.3</th>\n",
       "      <th>10q23.31</th>\n",
       "      <th>13q14.2</th>\n",
       "      <th>1p36.23</th>\n",
       "      <th>17q25.3</th>\n",
       "      <th>...</th>\n",
       "      <th>8p23.3</th>\n",
       "      <th>16q23.1</th>\n",
       "      <th>11p15.1</th>\n",
       "      <th>19p13.12</th>\n",
       "      <th>1p13.2</th>\n",
       "      <th>16p13.3</th>\n",
       "      <th>3p22.1</th>\n",
       "      <th>21q21.1</th>\n",
       "      <th>5q35.3</th>\n",
       "      <th>16q24.3</th>\n",
       "    </tr>\n",
       "  </thead>\n",
       "  <tbody>\n",
       "    <tr>\n",
       "      <th>0</th>\n",
       "      <td>q value</td>\n",
       "      <td>2.1181e-25</td>\n",
       "      <td>6.4977e-17</td>\n",
       "      <td>2.8223e-14</td>\n",
       "      <td>6.1861e-12</td>\n",
       "      <td>5.1501e-12</td>\n",
       "      <td>7.5863e-10</td>\n",
       "      <td>3.9893e-10</td>\n",
       "      <td>4.5785e-05</td>\n",
       "      <td>0.00040073</td>\n",
       "      <td>...</td>\n",
       "      <td>0.16465</td>\n",
       "      <td>0.046327</td>\n",
       "      <td>0.20387</td>\n",
       "      <td>0.01539</td>\n",
       "      <td>0.17674</td>\n",
       "      <td>0.21081</td>\n",
       "      <td>0.23848</td>\n",
       "      <td>0.23482</td>\n",
       "      <td>0.24783</td>\n",
       "      <td>0.0506</td>\n",
       "    </tr>\n",
       "    <tr>\n",
       "      <th>1</th>\n",
       "      <td>residual q value</td>\n",
       "      <td>1.2059e-22</td>\n",
       "      <td>7.9934e-15</td>\n",
       "      <td>2.7755e-14</td>\n",
       "      <td>1.2885e-11</td>\n",
       "      <td>2.4884e-11</td>\n",
       "      <td>7.5863e-10</td>\n",
       "      <td>3.3152e-07</td>\n",
       "      <td>5.5176e-05</td>\n",
       "      <td>0.00040073</td>\n",
       "      <td>...</td>\n",
       "      <td>0.15897</td>\n",
       "      <td>0.17674</td>\n",
       "      <td>0.21041</td>\n",
       "      <td>0.21041</td>\n",
       "      <td>0.21194</td>\n",
       "      <td>0.21194</td>\n",
       "      <td>0.23848</td>\n",
       "      <td>0.23848</td>\n",
       "      <td>0.25985</td>\n",
       "      <td>0.27771</td>\n",
       "    </tr>\n",
       "  </tbody>\n",
       "</table>\n",
       "<p>2 rows × 39 columns</p>\n",
       "</div>"
      ],
      "text/plain": [
       "           cytoband      2q37.1      2q22.1       11q25      4q35.2  \\\n",
       "0           q value  2.1181e-25  6.4977e-17  2.8223e-14  6.1861e-12   \n",
       "1  residual q value  1.2059e-22  7.9934e-15  2.7755e-14  1.2885e-11   \n",
       "\n",
       "      19p13.3    10q23.31     13q14.2     1p36.23     17q25.3   ...     \\\n",
       "0  5.1501e-12  7.5863e-10  3.9893e-10  4.5785e-05  0.00040073   ...      \n",
       "1  2.4884e-11  7.5863e-10  3.3152e-07  5.5176e-05  0.00040073   ...      \n",
       "\n",
       "    8p23.3   16q23.1  11p15.1 19p13.12   1p13.2  16p13.3   3p22.1  21q21.1  \\\n",
       "0  0.16465  0.046327  0.20387  0.01539  0.17674  0.21081  0.23848  0.23482   \n",
       "1  0.15897   0.17674  0.21041  0.21041  0.21194  0.21194  0.23848  0.23848   \n",
       "\n",
       "    5q35.3  16q24.3  \n",
       "0  0.24783   0.0506  \n",
       "1  0.25985  0.27771  \n",
       "\n",
       "[2 rows x 39 columns]"
      ]
     },
     "execution_count": 229,
     "metadata": {},
     "output_type": "execute_result"
    },
    {
     "data": {
      "text/plain": [
       "38"
      ]
     },
     "execution_count": 229,
     "metadata": {},
     "output_type": "execute_result"
    }
   ],
   "source": [
    "tcga_bandf = '/projects/trans_scratch/validations/workspace/szong/Cervical/tcga_cn/supplemental_Table_7-Amp_Del_Peaks.xlsx'\n",
    "tcga_band_dels = pd.read_excel(tcga_bandf, sheet_name='All_dels')\n",
    "tcga_band_dels[:2]\n",
    "tcga_dels_bands = tcga_band_dels.columns.tolist()\n",
    "tcga_dels_bands.remove('cytoband')\n",
    "len(tcga_dels_bands)"
   ]
  },
  {
   "cell_type": "code",
   "execution_count": 39,
   "metadata": {},
   "outputs": [
    {
     "data": {
      "text/html": [
       "<div>\n",
       "<style scoped>\n",
       "    .dataframe tbody tr th:only-of-type {\n",
       "        vertical-align: middle;\n",
       "    }\n",
       "\n",
       "    .dataframe tbody tr th {\n",
       "        vertical-align: top;\n",
       "    }\n",
       "\n",
       "    .dataframe thead th {\n",
       "        text-align: right;\n",
       "    }\n",
       "</style>\n",
       "<table border=\"1\" class=\"dataframe\">\n",
       "  <thead>\n",
       "    <tr style=\"text-align: right;\">\n",
       "      <th></th>\n",
       "      <th>chr</th>\n",
       "      <th>start</th>\n",
       "      <th>end</th>\n",
       "      <th>cytoband</th>\n",
       "      <th>comments</th>\n",
       "    </tr>\n",
       "  </thead>\n",
       "  <tbody>\n",
       "    <tr>\n",
       "      <th>0</th>\n",
       "      <td>1</td>\n",
       "      <td>0</td>\n",
       "      <td>2300000</td>\n",
       "      <td>1p36.33</td>\n",
       "      <td>gneg</td>\n",
       "    </tr>\n",
       "    <tr>\n",
       "      <th>1</th>\n",
       "      <td>1</td>\n",
       "      <td>2300000</td>\n",
       "      <td>5400000</td>\n",
       "      <td>1p36.32</td>\n",
       "      <td>gpos25</td>\n",
       "    </tr>\n",
       "  </tbody>\n",
       "</table>\n",
       "</div>"
      ],
      "text/plain": [
       "  chr    start      end cytoband comments\n",
       "0   1        0  2300000  1p36.33     gneg\n",
       "1   1  2300000  5400000  1p36.32   gpos25"
      ]
     },
     "execution_count": 39,
     "metadata": {},
     "output_type": "execute_result"
    },
    {
     "data": {
      "text/html": [
       "<div>\n",
       "<style scoped>\n",
       "    .dataframe tbody tr th:only-of-type {\n",
       "        vertical-align: middle;\n",
       "    }\n",
       "\n",
       "    .dataframe tbody tr th {\n",
       "        vertical-align: top;\n",
       "    }\n",
       "\n",
       "    .dataframe thead th {\n",
       "        text-align: right;\n",
       "    }\n",
       "</style>\n",
       "<table border=\"1\" class=\"dataframe\">\n",
       "  <thead>\n",
       "    <tr style=\"text-align: right;\">\n",
       "      <th></th>\n",
       "      <th>chr</th>\n",
       "      <th>start</th>\n",
       "      <th>end</th>\n",
       "      <th>cytoband</th>\n",
       "      <th>comments</th>\n",
       "    </tr>\n",
       "  </thead>\n",
       "  <tbody>\n",
       "    <tr>\n",
       "      <th>857</th>\n",
       "      <td>24</td>\n",
       "      <td>15100000</td>\n",
       "      <td>19800000</td>\n",
       "      <td>Yq11.221</td>\n",
       "      <td>gpos50</td>\n",
       "    </tr>\n",
       "    <tr>\n",
       "      <th>858</th>\n",
       "      <td>24</td>\n",
       "      <td>19800000</td>\n",
       "      <td>22100000</td>\n",
       "      <td>Yq11.222</td>\n",
       "      <td>gneg</td>\n",
       "    </tr>\n",
       "    <tr>\n",
       "      <th>859</th>\n",
       "      <td>24</td>\n",
       "      <td>22100000</td>\n",
       "      <td>26200000</td>\n",
       "      <td>Yq11.223</td>\n",
       "      <td>gpos50</td>\n",
       "    </tr>\n",
       "    <tr>\n",
       "      <th>860</th>\n",
       "      <td>24</td>\n",
       "      <td>26200000</td>\n",
       "      <td>28800000</td>\n",
       "      <td>Yq11.23</td>\n",
       "      <td>gneg</td>\n",
       "    </tr>\n",
       "    <tr>\n",
       "      <th>861</th>\n",
       "      <td>24</td>\n",
       "      <td>28800000</td>\n",
       "      <td>59373566</td>\n",
       "      <td>Yq12</td>\n",
       "      <td>gvar</td>\n",
       "    </tr>\n",
       "  </tbody>\n",
       "</table>\n",
       "</div>"
      ],
      "text/plain": [
       "    chr     start       end  cytoband comments\n",
       "857  24  15100000  19800000  Yq11.221   gpos50\n",
       "858  24  19800000  22100000  Yq11.222     gneg\n",
       "859  24  22100000  26200000  Yq11.223   gpos50\n",
       "860  24  26200000  28800000   Yq11.23     gneg\n",
       "861  24  28800000  59373566      Yq12     gvar"
      ]
     },
     "execution_count": 39,
     "metadata": {},
     "output_type": "execute_result"
    },
    {
     "data": {
      "text/plain": [
       "(862, 5)"
      ]
     },
     "execution_count": 39,
     "metadata": {},
     "output_type": "execute_result"
    },
    {
     "data": {
      "text/plain": [
       "chr         object\n",
       "start        int64\n",
       "end          int64\n",
       "cytoband    object\n",
       "comments    object\n",
       "dtype: object"
      ]
     },
     "execution_count": 39,
     "metadata": {},
     "output_type": "execute_result"
    }
   ],
   "source": [
    "# plot chromosomes\n",
    "f3 = '/home/szong/projects/resource/hg19_cytoband_ucsc.txt'\n",
    "df_cytoband = pd.read_csv(f3, header=None, sep='\\t')\n",
    "df_cytoband.columns = ['chr', 'start', 'end', 'cytoband', 'comments']\n",
    "df_cytoband['cytoband'] = df_cytoband.chr + df_cytoband['cytoband']\n",
    "df_cytoband['chr'] = df_cytoband['chr'].replace({'X':'23', 'Y':'24'}).astype(str)\n",
    "\n",
    "df_cytoband.head(2)\n",
    "df_cytoband.tail()\n",
    "df_cytoband.shape\n",
    "df_cytoband.dtypes"
   ]
  },
  {
   "cell_type": "code",
   "execution_count": 40,
   "metadata": {},
   "outputs": [
    {
     "data": {
      "text/html": [
       "<div>\n",
       "<style scoped>\n",
       "    .dataframe tbody tr th:only-of-type {\n",
       "        vertical-align: middle;\n",
       "    }\n",
       "\n",
       "    .dataframe tbody tr th {\n",
       "        vertical-align: top;\n",
       "    }\n",
       "\n",
       "    .dataframe thead th {\n",
       "        text-align: right;\n",
       "    }\n",
       "</style>\n",
       "<table border=\"1\" class=\"dataframe\">\n",
       "  <thead>\n",
       "    <tr style=\"text-align: right;\">\n",
       "      <th></th>\n",
       "      <th>chrom</th>\n",
       "      <th>length</th>\n",
       "      <th>cumulative_length</th>\n",
       "    </tr>\n",
       "  </thead>\n",
       "  <tbody>\n",
       "    <tr>\n",
       "      <th>0</th>\n",
       "      <td>0</td>\n",
       "      <td>0</td>\n",
       "      <td>0</td>\n",
       "    </tr>\n",
       "    <tr>\n",
       "      <th>1</th>\n",
       "      <td>1</td>\n",
       "      <td>249250621</td>\n",
       "      <td>249250621</td>\n",
       "    </tr>\n",
       "    <tr>\n",
       "      <th>2</th>\n",
       "      <td>2</td>\n",
       "      <td>243199373</td>\n",
       "      <td>492449994</td>\n",
       "    </tr>\n",
       "    <tr>\n",
       "      <th>3</th>\n",
       "      <td>3</td>\n",
       "      <td>198022430</td>\n",
       "      <td>690472424</td>\n",
       "    </tr>\n",
       "  </tbody>\n",
       "</table>\n",
       "</div>"
      ],
      "text/plain": [
       "   chrom     length  cumulative_length\n",
       "0      0          0                  0\n",
       "1      1  249250621          249250621\n",
       "2      2  243199373          492449994\n",
       "3      3  198022430          690472424"
      ]
     },
     "execution_count": 40,
     "metadata": {},
     "output_type": "execute_result"
    },
    {
     "data": {
      "text/plain": [
       "chrom                int64\n",
       "length               int64\n",
       "cumulative_length    int64\n",
       "dtype: object"
      ]
     },
     "execution_count": 40,
     "metadata": {},
     "output_type": "execute_result"
    }
   ],
   "source": [
    "chromosomes = pd.read_csv(chr_accu_length_f, sep='\\t')\n",
    "chromosomes[:4]\n",
    "chromosomes.dtypes"
   ]
  },
  {
   "cell_type": "code",
   "execution_count": 41,
   "metadata": {},
   "outputs": [],
   "source": [
    "chromosomes['end'] = chromosomes.cumulative_length.shift(-1)\n",
    "chroms = chromosomes.loc[0:23,['cumulative_length','end']]\n",
    "chroms['chrom'] = [i for i in range(1, 25)]\n",
    "# chroms.to_csv(chromosomef, index=False)"
   ]
  },
  {
   "cell_type": "code",
   "execution_count": 463,
   "metadata": {},
   "outputs": [],
   "source": [
    "# # detour to get arm coordiate to be deleted\n",
    "# out = []\n",
    "# # df_cytoband['chr'] = df_cytoband['chr'].replace({'X':'23', 'Y':'24'}).astype(int)\n",
    "# for chrom in df_cytoband.chr.unique():\n",
    "#     for arm in ['p', 'q']:\n",
    "# #         print(chrom, arm)\n",
    "#         offset = 0\n",
    "# #         df_cytoband[(df_cytoband.chr==1)]#&(df_cytoband.cytoband.str.contains('p'))]\n",
    "#         p = df_cytoband[(df_cytoband.chr==str(chrom))&(df_cytoband.cytoband.str.contains(arm))][['start', 'end']].values.ravel()\n",
    "#         start = p.min()+offset+1\n",
    "#         end = p.max()+offset\n",
    "#         out.append([chrom, arm, start, end])\n",
    "# out = pd.DataFrame(out)"
   ]
  },
  {
   "cell_type": "code",
   "execution_count": 24,
   "metadata": {},
   "outputs": [],
   "source": [
    "def arm_coordinates(df_cytoband, chromosomes): # get arm coordinates to delete\n",
    "    out = []\n",
    "    for chrom in df_cytoband.chr.astype(int64).unique():\n",
    "\n",
    "        print(\"xxx\", chrom, chromosomes.query('chrom == \"{}\"'.format(chrom-1)))\n",
    "        offset =  chromosomes.query('chrom == \"{}\"'.format(chrom-1))['cumulative_length'].values[0]\n",
    "        offset =0\n",
    "#         print('zzz', offset)\n",
    "        for arm in ['p', 'q']:\n",
    "            print('here', chrom, arm)\n",
    "            p = df_cytoband[(df_cytoband.chr==chrom)&(df_cytoband.cytoband.str.contains(arm))][['start', 'end']].values.ravel()\n",
    "            print('yyy', p)\n",
    "            start = p.min()+offset+1\n",
    "            end = p.max()+offset\n",
    "            out.append([chrom, arm, start, end])\n",
    "    return pd.DataFrame(out)"
   ]
  },
  {
   "cell_type": "code",
   "execution_count": 42,
   "metadata": {},
   "outputs": [
    {
     "name": "stdout",
     "output_type": "stream",
     "text": [
      "xxx 1    chrom  length  cumulative_length          end\n",
      "0      0       0                  0  249250621.0\n",
      "here 1 p\n",
      "yyy []\n"
     ]
    },
    {
     "ename": "ValueError",
     "evalue": "zero-size array to reduction operation minimum which has no identity",
     "output_type": "error",
     "traceback": [
      "\u001b[0;31m---------------------------------------------------------------------------\u001b[0m",
      "\u001b[0;31mValueError\u001b[0m                                Traceback (most recent call last)",
      "\u001b[0;32m<ipython-input-42-513a0897afac>\u001b[0m in \u001b[0;36m<module>\u001b[0;34m()\u001b[0m\n\u001b[0;32m----> 1\u001b[0;31m \u001b[0mout\u001b[0m \u001b[0;34m=\u001b[0m \u001b[0marm_coordinates\u001b[0m\u001b[0;34m(\u001b[0m\u001b[0mdf_cytoband\u001b[0m\u001b[0;34m,\u001b[0m \u001b[0mchromosomes\u001b[0m\u001b[0;34m)\u001b[0m\u001b[0;34m\u001b[0m\u001b[0;34m\u001b[0m\u001b[0m\n\u001b[0m",
      "\u001b[0;32m<ipython-input-24-b3674f7bc1b0>\u001b[0m in \u001b[0;36marm_coordinates\u001b[0;34m(df_cytoband, chromosomes)\u001b[0m\n\u001b[1;32m     11\u001b[0m             \u001b[0mp\u001b[0m \u001b[0;34m=\u001b[0m \u001b[0mdf_cytoband\u001b[0m\u001b[0;34m[\u001b[0m\u001b[0;34m(\u001b[0m\u001b[0mdf_cytoband\u001b[0m\u001b[0;34m.\u001b[0m\u001b[0mchr\u001b[0m\u001b[0;34m==\u001b[0m\u001b[0mchrom\u001b[0m\u001b[0;34m)\u001b[0m\u001b[0;34m&\u001b[0m\u001b[0;34m(\u001b[0m\u001b[0mdf_cytoband\u001b[0m\u001b[0;34m.\u001b[0m\u001b[0mcytoband\u001b[0m\u001b[0;34m.\u001b[0m\u001b[0mstr\u001b[0m\u001b[0;34m.\u001b[0m\u001b[0mcontains\u001b[0m\u001b[0;34m(\u001b[0m\u001b[0marm\u001b[0m\u001b[0;34m)\u001b[0m\u001b[0;34m)\u001b[0m\u001b[0;34m]\u001b[0m\u001b[0;34m[\u001b[0m\u001b[0;34m[\u001b[0m\u001b[0;34m'start'\u001b[0m\u001b[0;34m,\u001b[0m \u001b[0;34m'end'\u001b[0m\u001b[0;34m]\u001b[0m\u001b[0;34m]\u001b[0m\u001b[0;34m.\u001b[0m\u001b[0mvalues\u001b[0m\u001b[0;34m.\u001b[0m\u001b[0mravel\u001b[0m\u001b[0;34m(\u001b[0m\u001b[0;34m)\u001b[0m\u001b[0;34m\u001b[0m\u001b[0;34m\u001b[0m\u001b[0m\n\u001b[1;32m     12\u001b[0m             \u001b[0mprint\u001b[0m\u001b[0;34m(\u001b[0m\u001b[0;34m'yyy'\u001b[0m\u001b[0;34m,\u001b[0m \u001b[0mp\u001b[0m\u001b[0;34m)\u001b[0m\u001b[0;34m\u001b[0m\u001b[0;34m\u001b[0m\u001b[0m\n\u001b[0;32m---> 13\u001b[0;31m             \u001b[0mstart\u001b[0m \u001b[0;34m=\u001b[0m \u001b[0mp\u001b[0m\u001b[0;34m.\u001b[0m\u001b[0mmin\u001b[0m\u001b[0;34m(\u001b[0m\u001b[0;34m)\u001b[0m\u001b[0;34m+\u001b[0m\u001b[0moffset\u001b[0m\u001b[0;34m+\u001b[0m\u001b[0;36m1\u001b[0m\u001b[0;34m\u001b[0m\u001b[0;34m\u001b[0m\u001b[0m\n\u001b[0m\u001b[1;32m     14\u001b[0m             \u001b[0mend\u001b[0m \u001b[0;34m=\u001b[0m \u001b[0mp\u001b[0m\u001b[0;34m.\u001b[0m\u001b[0mmax\u001b[0m\u001b[0;34m(\u001b[0m\u001b[0;34m)\u001b[0m\u001b[0;34m+\u001b[0m\u001b[0moffset\u001b[0m\u001b[0;34m\u001b[0m\u001b[0;34m\u001b[0m\u001b[0m\n\u001b[1;32m     15\u001b[0m             \u001b[0mout\u001b[0m\u001b[0;34m.\u001b[0m\u001b[0mappend\u001b[0m\u001b[0;34m(\u001b[0m\u001b[0;34m[\u001b[0m\u001b[0mchrom\u001b[0m\u001b[0;34m,\u001b[0m \u001b[0marm\u001b[0m\u001b[0;34m,\u001b[0m \u001b[0mstart\u001b[0m\u001b[0;34m,\u001b[0m \u001b[0mend\u001b[0m\u001b[0;34m]\u001b[0m\u001b[0;34m)\u001b[0m\u001b[0;34m\u001b[0m\u001b[0;34m\u001b[0m\u001b[0m\n",
      "\u001b[0;32m/projects/da_workspace/software/miniconda/envs/dlpy3/lib/python3.6/site-packages/numpy/core/_methods.py\u001b[0m in \u001b[0;36m_amin\u001b[0;34m(a, axis, out, keepdims)\u001b[0m\n\u001b[1;32m     27\u001b[0m \u001b[0;34m\u001b[0m\u001b[0m\n\u001b[1;32m     28\u001b[0m \u001b[0;32mdef\u001b[0m \u001b[0m_amin\u001b[0m\u001b[0;34m(\u001b[0m\u001b[0ma\u001b[0m\u001b[0;34m,\u001b[0m \u001b[0maxis\u001b[0m\u001b[0;34m=\u001b[0m\u001b[0;32mNone\u001b[0m\u001b[0;34m,\u001b[0m \u001b[0mout\u001b[0m\u001b[0;34m=\u001b[0m\u001b[0;32mNone\u001b[0m\u001b[0;34m,\u001b[0m \u001b[0mkeepdims\u001b[0m\u001b[0;34m=\u001b[0m\u001b[0;32mFalse\u001b[0m\u001b[0;34m)\u001b[0m\u001b[0;34m:\u001b[0m\u001b[0;34m\u001b[0m\u001b[0;34m\u001b[0m\u001b[0m\n\u001b[0;32m---> 29\u001b[0;31m     \u001b[0;32mreturn\u001b[0m \u001b[0mumr_minimum\u001b[0m\u001b[0;34m(\u001b[0m\u001b[0ma\u001b[0m\u001b[0;34m,\u001b[0m \u001b[0maxis\u001b[0m\u001b[0;34m,\u001b[0m \u001b[0;32mNone\u001b[0m\u001b[0;34m,\u001b[0m \u001b[0mout\u001b[0m\u001b[0;34m,\u001b[0m \u001b[0mkeepdims\u001b[0m\u001b[0;34m)\u001b[0m\u001b[0;34m\u001b[0m\u001b[0;34m\u001b[0m\u001b[0m\n\u001b[0m\u001b[1;32m     30\u001b[0m \u001b[0;34m\u001b[0m\u001b[0m\n\u001b[1;32m     31\u001b[0m \u001b[0;32mdef\u001b[0m \u001b[0m_sum\u001b[0m\u001b[0;34m(\u001b[0m\u001b[0ma\u001b[0m\u001b[0;34m,\u001b[0m \u001b[0maxis\u001b[0m\u001b[0;34m=\u001b[0m\u001b[0;32mNone\u001b[0m\u001b[0;34m,\u001b[0m \u001b[0mdtype\u001b[0m\u001b[0;34m=\u001b[0m\u001b[0;32mNone\u001b[0m\u001b[0;34m,\u001b[0m \u001b[0mout\u001b[0m\u001b[0;34m=\u001b[0m\u001b[0;32mNone\u001b[0m\u001b[0;34m,\u001b[0m \u001b[0mkeepdims\u001b[0m\u001b[0;34m=\u001b[0m\u001b[0;32mFalse\u001b[0m\u001b[0;34m)\u001b[0m\u001b[0;34m:\u001b[0m\u001b[0;34m\u001b[0m\u001b[0;34m\u001b[0m\u001b[0m\n",
      "\u001b[0;31mValueError\u001b[0m: zero-size array to reduction operation minimum which has no identity"
     ]
    }
   ],
   "source": [
    "out = arm_coordinates(df_cytoband, chromosomes)"
   ]
  },
  {
   "cell_type": "code",
   "execution_count": 464,
   "metadata": {},
   "outputs": [],
   "source": [
    "out[4]  = out[[0,1]].apply(lambda x: ''.join(x.astype(str)), axis=1)"
   ]
  },
  {
   "cell_type": "code",
   "execution_count": 465,
   "metadata": {},
   "outputs": [],
   "source": [
    "out.to_csv(f'{wkdir}chromosome_arm_coordinates_new.txt', sep='\\t', index=False, header=False)"
   ]
  },
  {
   "cell_type": "code",
   "execution_count": 466,
   "metadata": {},
   "outputs": [
    {
     "data": {
      "text/plain": [
       "0.2553191489361702"
      ]
     },
     "execution_count": 466,
     "metadata": {},
     "output_type": "execute_result"
    }
   ],
   "source": [
    "48/188\n"
   ]
  },
  {
   "cell_type": "code",
   "execution_count": 23,
   "metadata": {},
   "outputs": [],
   "source": [
    "def get_cytoband_coords(df_cytoband):\n",
    "    # both chromosome size file and cytoband file has consistent chromosome size, checked\n",
    "    chr_offset = 0 # chromosome offset\n",
    "    cbands = []\n",
    "    chromsomes = []\n",
    "    for chr in np.arange(1,25):\n",
    "        dfchr = df_cytoband[df_cytoband['chr']=='{}'.format(chr)]\n",
    "        for idx, row in dfchr.iterrows():\n",
    "            start = row.start + chr_offset\n",
    "            end = row.end + chr_offset\n",
    "            cytoband = row.cytoband\n",
    "            comment = row.comments\n",
    "            center = (start + end)/2 + chr_offset\n",
    "            width = int(end - start)\n",
    "    #         print(chr, start, end, cytoband)\n",
    "            cbands.append([chr, start, end, cytoband])\n",
    "        chr_offset+=max(dfchr.end)\n",
    "#         print(chr, max(dfchr.end), chr_offset)\n",
    "        chromsomes.append([chr, max(dfchr.end), chr_offset])\n",
    "\n",
    "\n",
    "        cytobands = pd.DataFrame(cbands)\n",
    "        cytobands.columns = ['chr', 'start', 'end', 'cytoband']\n",
    "        cytobands[:4]\n",
    "#     pd.DataFrame(chromsomes).to_csv(chr_accu_length_f, index=False, header=False, sep='\\t')\n",
    "    return cytobands"
   ]
  },
  {
   "cell_type": "code",
   "execution_count": 45,
   "metadata": {},
   "outputs": [
    {
     "ename": "NameError",
     "evalue": "name 'tcga_dels_bands' is not defined",
     "output_type": "error",
     "traceback": [
      "\u001b[0;31m---------------------------------------------------------------------------\u001b[0m",
      "\u001b[0;31mNameError\u001b[0m                                 Traceback (most recent call last)",
      "\u001b[0;32m<ipython-input-45-9ef769d315f3>\u001b[0m in \u001b[0;36m<module>\u001b[0;34m()\u001b[0m\n\u001b[1;32m      1\u001b[0m \u001b[0mcytobands\u001b[0m \u001b[0;34m=\u001b[0m \u001b[0mget_cytoband_coords\u001b[0m\u001b[0;34m(\u001b[0m\u001b[0mdf_cytoband\u001b[0m\u001b[0;34m)\u001b[0m\u001b[0;34m\u001b[0m\u001b[0;34m\u001b[0m\u001b[0m\n\u001b[1;32m      2\u001b[0m \u001b[0mtcga_amp_bands_toplot\u001b[0m \u001b[0;34m=\u001b[0m \u001b[0mcytobands\u001b[0m\u001b[0;34m[\u001b[0m\u001b[0mcytobands\u001b[0m\u001b[0;34m.\u001b[0m\u001b[0mcytoband\u001b[0m\u001b[0;34m.\u001b[0m\u001b[0misin\u001b[0m\u001b[0;34m(\u001b[0m\u001b[0mtcga_amps_bands\u001b[0m\u001b[0;34m)\u001b[0m\u001b[0;34m]\u001b[0m\u001b[0;34m\u001b[0m\u001b[0;34m\u001b[0m\u001b[0m\n\u001b[0;32m----> 3\u001b[0;31m \u001b[0mtcga_del_bands_toplot\u001b[0m \u001b[0;34m=\u001b[0m \u001b[0mcytobands\u001b[0m\u001b[0;34m[\u001b[0m\u001b[0mcytobands\u001b[0m\u001b[0;34m.\u001b[0m\u001b[0mcytoband\u001b[0m\u001b[0;34m.\u001b[0m\u001b[0misin\u001b[0m\u001b[0;34m(\u001b[0m\u001b[0mtcga_dels_bands\u001b[0m\u001b[0;34m)\u001b[0m\u001b[0;34m]\u001b[0m\u001b[0;34m\u001b[0m\u001b[0;34m\u001b[0m\u001b[0m\n\u001b[0m",
      "\u001b[0;31mNameError\u001b[0m: name 'tcga_dels_bands' is not defined"
     ]
    }
   ],
   "source": [
    "cytobands = get_cytoband_coords(df_cytoband)\n",
    "tcga_amp_bands_toplot = cytobands[cytobands.cytoband.isin(tcga_amps_bands)]\n",
    "tcga_del_bands_toplot = cytobands[cytobands.cytoband.isin(tcga_dels_bands)]"
   ]
  },
  {
   "cell_type": "code",
   "execution_count": 255,
   "metadata": {},
   "outputs": [
    {
     "data": {
      "text/plain": [
       "(29, 4)"
      ]
     },
     "execution_count": 255,
     "metadata": {},
     "output_type": "execute_result"
    },
    {
     "data": {
      "text/plain": [
       "(38, 4)"
      ]
     },
     "execution_count": 255,
     "metadata": {},
     "output_type": "execute_result"
    }
   ],
   "source": [
    "tcga_amp_bands_toplot.shape\n",
    "tcga_del_bands_toplot.shape"
   ]
  },
  {
   "cell_type": "markdown",
   "metadata": {},
   "source": [
    "## HIV + cytobands"
   ]
  },
  {
   "cell_type": "code",
   "execution_count": 34,
   "metadata": {},
   "outputs": [],
   "source": [
    "hivpos_ampf = '/home/szong/bin/GISTIC_2_0_22/gatk_118_HIV_pos/amp_genes.conf_99.txt'\n",
    "hivpos_delf = '/home/szong/bin/GISTIC_2_0_22/gatk_118_HIV_pos/del_genes.conf_99.txt'\n",
    "hivneg_ampf = '/home/szong/bin/GISTIC_2_0_22/gatk_118_HIV_neg/amp_genes.conf_99.txt'\n",
    "hivneg_delf = '/home/szong/bin/GISTIC_2_0_22/gatk_118_HIV_neg/del_genes.conf_99.txt'"
   ]
  },
  {
   "cell_type": "code",
   "execution_count": 35,
   "metadata": {},
   "outputs": [
    {
     "data": {
      "text/html": [
       "<div>\n",
       "<style scoped>\n",
       "    .dataframe tbody tr th:only-of-type {\n",
       "        vertical-align: middle;\n",
       "    }\n",
       "\n",
       "    .dataframe tbody tr th {\n",
       "        vertical-align: top;\n",
       "    }\n",
       "\n",
       "    .dataframe thead th {\n",
       "        text-align: right;\n",
       "    }\n",
       "</style>\n",
       "<table border=\"1\" class=\"dataframe\">\n",
       "  <thead>\n",
       "    <tr style=\"text-align: right;\">\n",
       "      <th></th>\n",
       "      <th>cytoband</th>\n",
       "      <th>11q22.1</th>\n",
       "      <th>8q24.21</th>\n",
       "      <th>18p11.31</th>\n",
       "      <th>2q31.1</th>\n",
       "      <th>11p13</th>\n",
       "      <th>1p32.1</th>\n",
       "      <th>3q28</th>\n",
       "      <th>2p11.2</th>\n",
       "      <th>13q22.1</th>\n",
       "      <th>20q11.21</th>\n",
       "      <th>17q12</th>\n",
       "      <th>21q22.2</th>\n",
       "      <th>Unnamed: 13</th>\n",
       "    </tr>\n",
       "  </thead>\n",
       "  <tbody>\n",
       "    <tr>\n",
       "      <th>0</th>\n",
       "      <td>q value</td>\n",
       "      <td>3.5447e-09</td>\n",
       "      <td>0.00010454</td>\n",
       "      <td>0.0001414</td>\n",
       "      <td>0.0039549</td>\n",
       "      <td>0.0059099</td>\n",
       "      <td>0.015552</td>\n",
       "      <td>0.015552</td>\n",
       "      <td>0.020664</td>\n",
       "      <td>0.063844</td>\n",
       "      <td>0.075751</td>\n",
       "      <td>0.12249</td>\n",
       "      <td>0.17583</td>\n",
       "      <td>NaN</td>\n",
       "    </tr>\n",
       "    <tr>\n",
       "      <th>1</th>\n",
       "      <td>residual q value</td>\n",
       "      <td>3.5447e-09</td>\n",
       "      <td>0.00010454</td>\n",
       "      <td>0.0001414</td>\n",
       "      <td>0.0039549</td>\n",
       "      <td>0.0059099</td>\n",
       "      <td>0.015552</td>\n",
       "      <td>0.015552</td>\n",
       "      <td>0.020664</td>\n",
       "      <td>0.063844</td>\n",
       "      <td>0.075751</td>\n",
       "      <td>0.12249</td>\n",
       "      <td>0.17583</td>\n",
       "      <td>NaN</td>\n",
       "    </tr>\n",
       "  </tbody>\n",
       "</table>\n",
       "</div>"
      ],
      "text/plain": [
       "           cytoband     11q22.1     8q24.21   18p11.31     2q31.1      11p13  \\\n",
       "0           q value  3.5447e-09  0.00010454  0.0001414  0.0039549  0.0059099   \n",
       "1  residual q value  3.5447e-09  0.00010454  0.0001414  0.0039549  0.0059099   \n",
       "\n",
       "     1p32.1      3q28    2p11.2   13q22.1  20q11.21    17q12  21q22.2  \\\n",
       "0  0.015552  0.015552  0.020664  0.063844  0.075751  0.12249  0.17583   \n",
       "1  0.015552  0.015552  0.020664  0.063844  0.075751  0.12249  0.17583   \n",
       "\n",
       "   Unnamed: 13  \n",
       "0          NaN  \n",
       "1          NaN  "
      ]
     },
     "execution_count": 35,
     "metadata": {},
     "output_type": "execute_result"
    },
    {
     "data": {
      "text/plain": [
       "13"
      ]
     },
     "execution_count": 35,
     "metadata": {},
     "output_type": "execute_result"
    },
    {
     "data": {
      "text/html": [
       "<div>\n",
       "<style scoped>\n",
       "    .dataframe tbody tr th:only-of-type {\n",
       "        vertical-align: middle;\n",
       "    }\n",
       "\n",
       "    .dataframe tbody tr th {\n",
       "        vertical-align: top;\n",
       "    }\n",
       "\n",
       "    .dataframe thead th {\n",
       "        text-align: right;\n",
       "    }\n",
       "</style>\n",
       "<table border=\"1\" class=\"dataframe\">\n",
       "  <thead>\n",
       "    <tr style=\"text-align: right;\">\n",
       "      <th></th>\n",
       "      <th>cytoband</th>\n",
       "      <th>2q22.1</th>\n",
       "      <th>2q36.3</th>\n",
       "      <th>4q35.2</th>\n",
       "      <th>19p13.3</th>\n",
       "      <th>11q24.3</th>\n",
       "      <th>19p13.3.1</th>\n",
       "      <th>4q21.3</th>\n",
       "      <th>5q14.2</th>\n",
       "      <th>21p11.2</th>\n",
       "      <th>...</th>\n",
       "      <th>17q25.3</th>\n",
       "      <th>21p11.2.1</th>\n",
       "      <th>17q12</th>\n",
       "      <th>13q21.32</th>\n",
       "      <th>3p14.2</th>\n",
       "      <th>6p21.31</th>\n",
       "      <th>6q25.3</th>\n",
       "      <th>13q12.11</th>\n",
       "      <th>10q23.2</th>\n",
       "      <th>Unnamed: 23</th>\n",
       "    </tr>\n",
       "  </thead>\n",
       "  <tbody>\n",
       "    <tr>\n",
       "      <th>0</th>\n",
       "      <td>q value</td>\n",
       "      <td>1.0432e-15</td>\n",
       "      <td>1.5195e-09</td>\n",
       "      <td>2.7924e-05</td>\n",
       "      <td>1.0507e-08</td>\n",
       "      <td>0.00084018</td>\n",
       "      <td>6.012e-07</td>\n",
       "      <td>0.0034853</td>\n",
       "      <td>0.017877</td>\n",
       "      <td>0.0060611</td>\n",
       "      <td>...</td>\n",
       "      <td>0.007495</td>\n",
       "      <td>0.0031252</td>\n",
       "      <td>0.0068822</td>\n",
       "      <td>0.031135</td>\n",
       "      <td>0.011441</td>\n",
       "      <td>0.1141</td>\n",
       "      <td>0.14125</td>\n",
       "      <td>0.0064176</td>\n",
       "      <td>0.22676</td>\n",
       "      <td>NaN</td>\n",
       "    </tr>\n",
       "    <tr>\n",
       "      <th>1</th>\n",
       "      <td>residual q value</td>\n",
       "      <td>3.1363e-13</td>\n",
       "      <td>5.6651e-06</td>\n",
       "      <td>0.00015611</td>\n",
       "      <td>0.00052441</td>\n",
       "      <td>0.00089139</td>\n",
       "      <td>0.0014456</td>\n",
       "      <td>0.018022</td>\n",
       "      <td>0.018022</td>\n",
       "      <td>0.022924</td>\n",
       "      <td>...</td>\n",
       "      <td>0.043079</td>\n",
       "      <td>0.043079</td>\n",
       "      <td>0.048472</td>\n",
       "      <td>0.10264</td>\n",
       "      <td>0.10989</td>\n",
       "      <td>0.10989</td>\n",
       "      <td>0.13929</td>\n",
       "      <td>0.17275</td>\n",
       "      <td>0.22676</td>\n",
       "      <td>NaN</td>\n",
       "    </tr>\n",
       "  </tbody>\n",
       "</table>\n",
       "<p>2 rows × 24 columns</p>\n",
       "</div>"
      ],
      "text/plain": [
       "           cytoband      2q22.1      2q36.3      4q35.2     19p13.3  \\\n",
       "0           q value  1.0432e-15  1.5195e-09  2.7924e-05  1.0507e-08   \n",
       "1  residual q value  3.1363e-13  5.6651e-06  0.00015611  0.00052441   \n",
       "\n",
       "      11q24.3  19p13.3.1     4q21.3    5q14.2    21p11.2     ...      \\\n",
       "0  0.00084018  6.012e-07  0.0034853  0.017877  0.0060611     ...       \n",
       "1  0.00089139  0.0014456   0.018022  0.018022   0.022924     ...       \n",
       "\n",
       "    17q25.3  21p11.2.1      17q12  13q21.32    3p14.2  6p21.31   6q25.3  \\\n",
       "0  0.007495  0.0031252  0.0068822  0.031135  0.011441   0.1141  0.14125   \n",
       "1  0.043079   0.043079   0.048472   0.10264   0.10989  0.10989  0.13929   \n",
       "\n",
       "    13q12.11  10q23.2 Unnamed: 23  \n",
       "0  0.0064176  0.22676         NaN  \n",
       "1    0.17275  0.22676         NaN  \n",
       "\n",
       "[2 rows x 24 columns]"
      ]
     },
     "execution_count": 35,
     "metadata": {},
     "output_type": "execute_result"
    },
    {
     "data": {
      "text/plain": [
       "23"
      ]
     },
     "execution_count": 35,
     "metadata": {},
     "output_type": "execute_result"
    }
   ],
   "source": [
    "hivpos_band_amps = pd.read_csv(hivpos_ampf, sep='\\t')\n",
    "hivpos_band_amps[:2]\n",
    "hivpos_amps_bands = hivpos_band_amps.columns.tolist()\n",
    "hivpos_amps_bands.remove('cytoband')\n",
    "len(hivpos_amps_bands)\n",
    "\n",
    "hivpos_band_dels = pd.read_csv(hivpos_delf, sep='\\t')\n",
    "hivpos_band_dels[:2]\n",
    "hivpos_dels_bands = hivpos_band_dels.columns.tolist()\n",
    "hivpos_dels_bands.remove('cytoband')\n",
    "len(set(hivpos_dels_bands))\n",
    "\n"
   ]
  },
  {
   "cell_type": "code",
   "execution_count": 36,
   "metadata": {},
   "outputs": [
    {
     "data": {
      "text/html": [
       "<div>\n",
       "<style scoped>\n",
       "    .dataframe tbody tr th:only-of-type {\n",
       "        vertical-align: middle;\n",
       "    }\n",
       "\n",
       "    .dataframe tbody tr th {\n",
       "        vertical-align: top;\n",
       "    }\n",
       "\n",
       "    .dataframe thead th {\n",
       "        text-align: right;\n",
       "    }\n",
       "</style>\n",
       "<table border=\"1\" class=\"dataframe\">\n",
       "  <thead>\n",
       "    <tr style=\"text-align: right;\">\n",
       "      <th></th>\n",
       "      <th>cytoband</th>\n",
       "      <th>3q28</th>\n",
       "      <th>11q22.1</th>\n",
       "      <th>1q21.3</th>\n",
       "      <th>8q24.22</th>\n",
       "      <th>15q26.1</th>\n",
       "      <th>2p24.3</th>\n",
       "      <th>19q13.43</th>\n",
       "      <th>Unnamed: 8</th>\n",
       "    </tr>\n",
       "  </thead>\n",
       "  <tbody>\n",
       "    <tr>\n",
       "      <th>0</th>\n",
       "      <td>q value</td>\n",
       "      <td>0.0018661</td>\n",
       "      <td>0.0019279</td>\n",
       "      <td>0.008915</td>\n",
       "      <td>0.041088</td>\n",
       "      <td>0.051705</td>\n",
       "      <td>0.11758</td>\n",
       "      <td>0.13682</td>\n",
       "      <td>NaN</td>\n",
       "    </tr>\n",
       "    <tr>\n",
       "      <th>1</th>\n",
       "      <td>residual q value</td>\n",
       "      <td>0.0018661</td>\n",
       "      <td>0.0019279</td>\n",
       "      <td>0.008915</td>\n",
       "      <td>0.041088</td>\n",
       "      <td>0.051705</td>\n",
       "      <td>0.11758</td>\n",
       "      <td>0.13682</td>\n",
       "      <td>NaN</td>\n",
       "    </tr>\n",
       "  </tbody>\n",
       "</table>\n",
       "</div>"
      ],
      "text/plain": [
       "           cytoband       3q28    11q22.1    1q21.3   8q24.22   15q26.1  \\\n",
       "0           q value  0.0018661  0.0019279  0.008915  0.041088  0.051705   \n",
       "1  residual q value  0.0018661  0.0019279  0.008915  0.041088  0.051705   \n",
       "\n",
       "    2p24.3 19q13.43  Unnamed: 8  \n",
       "0  0.11758  0.13682         NaN  \n",
       "1  0.11758  0.13682         NaN  "
      ]
     },
     "execution_count": 36,
     "metadata": {},
     "output_type": "execute_result"
    },
    {
     "data": {
      "text/plain": [
       "8"
      ]
     },
     "execution_count": 36,
     "metadata": {},
     "output_type": "execute_result"
    },
    {
     "data": {
      "text/html": [
       "<div>\n",
       "<style scoped>\n",
       "    .dataframe tbody tr th:only-of-type {\n",
       "        vertical-align: middle;\n",
       "    }\n",
       "\n",
       "    .dataframe tbody tr th {\n",
       "        vertical-align: top;\n",
       "    }\n",
       "\n",
       "    .dataframe thead th {\n",
       "        text-align: right;\n",
       "    }\n",
       "</style>\n",
       "<table border=\"1\" class=\"dataframe\">\n",
       "  <thead>\n",
       "    <tr style=\"text-align: right;\">\n",
       "      <th></th>\n",
       "      <th>cytoband</th>\n",
       "      <th>21p11.2</th>\n",
       "      <th>4p15.1</th>\n",
       "      <th>11q25</th>\n",
       "      <th>13q13.2</th>\n",
       "      <th>19p13.3</th>\n",
       "      <th>2q37.1</th>\n",
       "      <th>21p11.2.1</th>\n",
       "      <th>4q24</th>\n",
       "      <th>21q11.2</th>\n",
       "      <th>...</th>\n",
       "      <th>1p13.2</th>\n",
       "      <th>22q13.31</th>\n",
       "      <th>2q22.1</th>\n",
       "      <th>19p12</th>\n",
       "      <th>17q25.3</th>\n",
       "      <th>1p36.22</th>\n",
       "      <th>3p14.1</th>\n",
       "      <th>10p11.1</th>\n",
       "      <th>7q11.23</th>\n",
       "      <th>Unnamed: 22</th>\n",
       "    </tr>\n",
       "  </thead>\n",
       "  <tbody>\n",
       "    <tr>\n",
       "      <th>0</th>\n",
       "      <td>q value</td>\n",
       "      <td>7.1841e-09</td>\n",
       "      <td>0.00050867</td>\n",
       "      <td>0.00050867</td>\n",
       "      <td>0.00050867</td>\n",
       "      <td>0.00050867</td>\n",
       "      <td>0.00050867</td>\n",
       "      <td>0.00050867</td>\n",
       "      <td>0.019728</td>\n",
       "      <td>0.04857</td>\n",
       "      <td>...</td>\n",
       "      <td>0.036117</td>\n",
       "      <td>0.13227</td>\n",
       "      <td>0.04368</td>\n",
       "      <td>0.10815</td>\n",
       "      <td>0.14117</td>\n",
       "      <td>0.14117</td>\n",
       "      <td>0.1701</td>\n",
       "      <td>0.1701</td>\n",
       "      <td>0.19919</td>\n",
       "      <td>NaN</td>\n",
       "    </tr>\n",
       "    <tr>\n",
       "      <th>1</th>\n",
       "      <td>residual q value</td>\n",
       "      <td>3.4632e-08</td>\n",
       "      <td>0.00050867</td>\n",
       "      <td>0.00050867</td>\n",
       "      <td>0.00050867</td>\n",
       "      <td>0.00050867</td>\n",
       "      <td>0.00055351</td>\n",
       "      <td>0.034304</td>\n",
       "      <td>0.036117</td>\n",
       "      <td>0.049987</td>\n",
       "      <td>...</td>\n",
       "      <td>0.11054</td>\n",
       "      <td>0.13005</td>\n",
       "      <td>0.14117</td>\n",
       "      <td>0.14117</td>\n",
       "      <td>0.14587</td>\n",
       "      <td>0.18329</td>\n",
       "      <td>0.18329</td>\n",
       "      <td>0.18329</td>\n",
       "      <td>0.19022</td>\n",
       "      <td>NaN</td>\n",
       "    </tr>\n",
       "  </tbody>\n",
       "</table>\n",
       "<p>2 rows × 23 columns</p>\n",
       "</div>"
      ],
      "text/plain": [
       "           cytoband     21p11.2      4p15.1       11q25     13q13.2  \\\n",
       "0           q value  7.1841e-09  0.00050867  0.00050867  0.00050867   \n",
       "1  residual q value  3.4632e-08  0.00050867  0.00050867  0.00050867   \n",
       "\n",
       "      19p13.3      2q37.1   21p11.2.1      4q24   21q11.2     ...      \\\n",
       "0  0.00050867  0.00050867  0.00050867  0.019728   0.04857     ...       \n",
       "1  0.00050867  0.00055351    0.034304  0.036117  0.049987     ...       \n",
       "\n",
       "     1p13.2 22q13.31   2q22.1    19p12  17q25.3  1p36.22   3p14.1  10p11.1  \\\n",
       "0  0.036117  0.13227  0.04368  0.10815  0.14117  0.14117   0.1701   0.1701   \n",
       "1   0.11054  0.13005  0.14117  0.14117  0.14587  0.18329  0.18329  0.18329   \n",
       "\n",
       "   7q11.23 Unnamed: 22  \n",
       "0  0.19919         NaN  \n",
       "1  0.19022         NaN  \n",
       "\n",
       "[2 rows x 23 columns]"
      ]
     },
     "execution_count": 36,
     "metadata": {},
     "output_type": "execute_result"
    },
    {
     "data": {
      "text/plain": [
       "22"
      ]
     },
     "execution_count": 36,
     "metadata": {},
     "output_type": "execute_result"
    }
   ],
   "source": [
    "hivneg_band_amps = pd.read_csv(hivneg_ampf, sep='\\t')\n",
    "hivneg_band_amps[:2]\n",
    "hivneg_amps_bands = hivneg_band_amps.columns.tolist()\n",
    "hivneg_amps_bands.remove('cytoband')\n",
    "len(hivneg_amps_bands)\n",
    "\n",
    "hivneg_band_dels = pd.read_csv(hivneg_delf, sep='\\t')\n",
    "hivneg_band_dels[:2]\n",
    "hivneg_dels_bands = hivneg_band_dels.columns.tolist()\n",
    "hivneg_dels_bands.remove('cytoband')\n",
    "len(hivneg_dels_bands)\n",
    "\n"
   ]
  },
  {
   "cell_type": "code",
   "execution_count": 37,
   "metadata": {},
   "outputs": [
    {
     "ename": "NameError",
     "evalue": "name 'cytobands' is not defined",
     "output_type": "error",
     "traceback": [
      "\u001b[0;31m---------------------------------------------------------------------------\u001b[0m",
      "\u001b[0;31mNameError\u001b[0m                                 Traceback (most recent call last)",
      "\u001b[0;32m<ipython-input-37-494cdfe8ad4d>\u001b[0m in \u001b[0;36m<module>\u001b[0;34m()\u001b[0m\n\u001b[0;32m----> 1\u001b[0;31m \u001b[0mhivpos_amp_bands_toplot\u001b[0m \u001b[0;34m=\u001b[0m \u001b[0mcytobands\u001b[0m\u001b[0;34m[\u001b[0m\u001b[0mcytobands\u001b[0m\u001b[0;34m.\u001b[0m\u001b[0mcytoband\u001b[0m\u001b[0;34m.\u001b[0m\u001b[0misin\u001b[0m\u001b[0;34m(\u001b[0m\u001b[0mhivpos_amps_bands\u001b[0m\u001b[0;34m)\u001b[0m\u001b[0;34m]\u001b[0m\u001b[0;34m\u001b[0m\u001b[0;34m\u001b[0m\u001b[0m\n\u001b[0m\u001b[1;32m      2\u001b[0m \u001b[0mhivpos_del_bands_toplot\u001b[0m \u001b[0;34m=\u001b[0m \u001b[0mcytobands\u001b[0m\u001b[0;34m[\u001b[0m\u001b[0mcytobands\u001b[0m\u001b[0;34m.\u001b[0m\u001b[0mcytoband\u001b[0m\u001b[0;34m.\u001b[0m\u001b[0misin\u001b[0m\u001b[0;34m(\u001b[0m\u001b[0mhivpos_dels_bands\u001b[0m\u001b[0;34m)\u001b[0m\u001b[0;34m]\u001b[0m\u001b[0;34m\u001b[0m\u001b[0;34m\u001b[0m\u001b[0m\n\u001b[1;32m      3\u001b[0m \u001b[0mhivpos_amp_bands_toplot\u001b[0m\u001b[0;34m.\u001b[0m\u001b[0mshape\u001b[0m\u001b[0;34m\u001b[0m\u001b[0;34m\u001b[0m\u001b[0m\n\u001b[1;32m      4\u001b[0m \u001b[0mhivpos_del_bands_toplot\u001b[0m\u001b[0;34m.\u001b[0m\u001b[0mshape\u001b[0m\u001b[0;34m\u001b[0m\u001b[0;34m\u001b[0m\u001b[0m\n",
      "\u001b[0;31mNameError\u001b[0m: name 'cytobands' is not defined"
     ]
    }
   ],
   "source": [
    "hivpos_amp_bands_toplot = cytobands[cytobands.cytoband.isin(hivpos_amps_bands)]\n",
    "hivpos_del_bands_toplot = cytobands[cytobands.cytoband.isin(hivpos_dels_bands)]\n",
    "hivpos_amp_bands_toplot.shape\n",
    "hivpos_del_bands_toplot.shape"
   ]
  },
  {
   "cell_type": "code",
   "execution_count": 260,
   "metadata": {},
   "outputs": [
    {
     "data": {
      "text/plain": [
       "(7, 4)"
      ]
     },
     "execution_count": 260,
     "metadata": {},
     "output_type": "execute_result"
    },
    {
     "data": {
      "text/plain": [
       "(20, 4)"
      ]
     },
     "execution_count": 260,
     "metadata": {},
     "output_type": "execute_result"
    }
   ],
   "source": [
    "hivneg_amp_bands_toplot = cytobands[cytobands.cytoband.isin(hivneg_amps_bands)]\n",
    "hivneg_del_bands_toplot = cytobands[cytobands.cytoband.isin(hivneg_dels_bands)]\n",
    "hivneg_amp_bands_toplot.shape\n",
    "hivneg_del_bands_toplot.shape"
   ]
  },
  {
   "cell_type": "markdown",
   "metadata": {},
   "source": [
    "# final plot"
   ]
  },
  {
   "cell_type": "markdown",
   "metadata": {},
   "source": [
    "## get all files"
   ]
  },
  {
   "cell_type": "markdown",
   "metadata": {},
   "source": []
  },
  {
   "cell_type": "code",
   "execution_count": 12,
   "metadata": {},
   "outputs": [],
   "source": [
    "# tcga\n",
    "f = f'{wkdir}tcga_cnv_amps_bins_1kb.txt.patients'\n",
    "tcga_recur_amps = pd.read_csv(f, sep='\\t')\n",
    "f = f'{wkdir}tcga_cnv_dels_bins_1kb.txt.patients'\n",
    "tcga_recur_dels = pd.read_csv(f, sep='\\t')\n",
    "\n",
    "# hiv pos \n",
    "f = f'{wkdir}htmcp_hiv_pos_cnv_amps_bins_1kb.txt.patients'\n",
    "htmcp_hiv_pos_recur_amps = pd.read_csv(f, sep='\\t')\n",
    "f = f'{wkdir}htmcp_hiv_pos_cnv_dels_bins_1kb.txt.patients'\n",
    "htmcp_hiv_pos_recur_dels = pd.read_csv(f, sep='\\t')\n",
    "\n",
    "# hiv neg\n",
    "f = f'{wkdir}htmcp_hiv_neg_cnv_amps_bins_1kb.txt.patients'\n",
    "htmcp_hiv_neg_recur_amps = pd.read_csv(f, sep='\\t')\n",
    "f = f'{wkdir}htmcp_hiv_neg_cnv_dels_bins_1kb.txt.patients'\n",
    "htmcp_hiv_neg_recur_dels = pd.read_csv(f, sep='\\t')\n",
    "\n"
   ]
  },
  {
   "cell_type": "code",
   "execution_count": 14,
   "metadata": {},
   "outputs": [
    {
     "data": {
      "text/html": [
       "<div>\n",
       "<style scoped>\n",
       "    .dataframe tbody tr th:only-of-type {\n",
       "        vertical-align: middle;\n",
       "    }\n",
       "\n",
       "    .dataframe tbody tr th {\n",
       "        vertical-align: top;\n",
       "    }\n",
       "\n",
       "    .dataframe thead th {\n",
       "        text-align: right;\n",
       "    }\n",
       "</style>\n",
       "<table border=\"1\" class=\"dataframe\">\n",
       "  <thead>\n",
       "    <tr style=\"text-align: right;\">\n",
       "      <th></th>\n",
       "      <th>chrom</th>\n",
       "      <th>arm</th>\n",
       "      <th>start</th>\n",
       "      <th>end</th>\n",
       "      <th>chr_arm</th>\n",
       "    </tr>\n",
       "  </thead>\n",
       "  <tbody>\n",
       "    <tr>\n",
       "      <th>0</th>\n",
       "      <td>1</td>\n",
       "      <td>p</td>\n",
       "      <td>1</td>\n",
       "      <td>125000000</td>\n",
       "      <td>1p</td>\n",
       "    </tr>\n",
       "    <tr>\n",
       "      <th>1</th>\n",
       "      <td>1</td>\n",
       "      <td>q</td>\n",
       "      <td>125000001</td>\n",
       "      <td>249250621</td>\n",
       "      <td>1q</td>\n",
       "    </tr>\n",
       "  </tbody>\n",
       "</table>\n",
       "</div>"
      ],
      "text/plain": [
       "   chrom arm      start        end chr_arm\n",
       "0      1   p          1  125000000      1p\n",
       "1      1   q  125000001  249250621      1q"
      ]
     },
     "execution_count": 14,
     "metadata": {},
     "output_type": "execute_result"
    },
    {
     "data": {
      "text/plain": [
       "['14q', '6p', '9q', '9p', '16p', '16q']"
      ]
     },
     "execution_count": 14,
     "metadata": {},
     "output_type": "execute_result"
    },
    {
     "data": {
      "text/plain": [
       "['8p', '3p', '15q']"
      ]
     },
     "execution_count": 14,
     "metadata": {},
     "output_type": "execute_result"
    },
    {
     "data": {
      "text/plain": [
       "['13q', '4q', '21q', '5q']"
      ]
     },
     "execution_count": 14,
     "metadata": {},
     "output_type": "execute_result"
    },
    {
     "data": {
      "text/plain": [
       "['6q', '3q', '10q', '22q', '8p', '9p', '13q', '4q', '18q', '5q', '17p']"
      ]
     },
     "execution_count": 14,
     "metadata": {},
     "output_type": "execute_result"
    }
   ],
   "source": [
    "# chromosome arm coordinates\n",
    "f = f'{wkdir}chromosome_arm_coordinates.txt'\n",
    "arm_coords = pd.read_csv(f, sep='\\t')\n",
    "arm_coords[:2]\n",
    "\n",
    "# unique arm level alterations\n",
    "\n",
    "\n",
    "\n",
    "hivpos_uniqamp_arms = pd.read_csv(hivpos_uniqamp_armsf, header=None)[0].tolist()\n",
    "hivpos_uniqamp_arms\n",
    "\n",
    "hivneg_uniqamp_arms = pd.read_csv(hivneg_uniqamp_armsf, header=None)[0].tolist()\n",
    "hivneg_uniqamp_arms\n",
    "\n",
    "hivpos_uniqdel_arms = pd.read_csv(hivpos_uniqdel_armsf, header=None)[0].tolist()\n",
    "hivpos_uniqdel_arms\n",
    "\n",
    "tcga_uniqdel_arms = pd.read_csv(tcga_uniqdel_armsf, header=None)[0].tolist()\n",
    "tcga_uniqdel_arms\n",
    "\n",
    "# no tcga uniqamp events\n",
    "# tcga_uniqamp_arms = pd.read_csv(tcga_uniqamp_armsf, header=None)[0].tolist()\n",
    "# tcga_uniqamp_arms\n",
    "\n",
    "# htmcp_uniqamp_arms = pd.read_csv(htmcp_uniqamp_armsf, header=None)[0].tolist()\n",
    "# htmcp_uniqamp_arms\n",
    "# htmcp_uniqdel_arms =pd.read_csv(htmcp_uniqdel_armsf,  header=None)[0].tolist()\n",
    "\n",
    "# htmcp_uniqdel_arms"
   ]
  },
  {
   "cell_type": "code",
   "execution_count": 15,
   "metadata": {},
   "outputs": [],
   "source": [
    "def plot_arms(arms, arm_coords, ax, alteration_type, edgeclr): # w/o border\n",
    "    for arm in arms:\n",
    "        df = arm_coords[arm_coords['chr_arm']==arm]\n",
    "#         print(df)\n",
    "        start = df.loc[df.index[0], 'start']\n",
    "        end = df.loc[df.index[0], 'end']\n",
    "        if alteration_type.lower() == 'amp':\n",
    "            faceclr = 'red'\n",
    "            y1 = 0.8\n",
    "        elif alteration_type.lower() == 'del':\n",
    "            faceclr = 'blue'\n",
    "            y1 = 0\n",
    "        else: print(\"Error! invalid copy number type.\")\n",
    "        \n",
    "#         print(arm, start, end)\n",
    "#         ax.hlines(y_coord, start, end, color=clr, linewidth=115, alpha=0.2)\n",
    "        ax.add_patch(matplotlib.patches.Rectangle((start,y1), end-start, 0.8,  \n",
    "                                                  edgecolor=edgeclr, facecolor=faceclr, \n",
    "                                                  alpha=0.2, linewidth=2))\n",
    "#         if border:\n",
    "#             print('draw border', start, 0, end-start, 1.6)\n",
    "#             plt.Rectangle((start, 0), end-start, 1.6, color='black', ax=ax)\n",
    "# plot_arms(hivpos_uniqamp_arms, arm_coords)#, ax, clr, y_coord)"
   ]
  },
  {
   "cell_type": "code",
   "execution_count": 140,
   "metadata": {},
   "outputs": [],
   "source": [
    "# tcga_recur_amps.patient.max()\n",
    "# 144/177"
   ]
  },
  {
   "cell_type": "markdown",
   "metadata": {},
   "source": [
    "# Take home message"
   ]
  },
  {
   "cell_type": "markdown",
   "metadata": {},
   "source": [
    "1. hiv + group has more uniq arm level alterations, including both amps and dels. HIV- has 2 unique arms amplified, 3p and 15q, but no unique arm level deletions.\n",
    "\n",
    "2. hiv- group and tcga are more similar in terms of broad copy number alterations, you can see this by examing the significant arm alterations unique to HIV+ group. \n",
    "\n",
    "3. tcga reports more arm deletions while htmcp reports more arm amplifications. tcga reports 9 unique arm deletions, htmcp reports 2 unique arm deletions 21pq. htmcp reports 5 unique arm amplifications.\n",
    "4. keep in mind this plot does not show the amplitude of the alterations in each and all patients. it only shows the frequency. This is a limitation. it is entirely possible a region is altered at lower frequency, but very high magnitude of gain and loss. So it turns out to be more significant than the higher frequency in another cohort. GISTIC looks for both occurrence and amplitude. \n",
    "5. look at the segment_mean distribution: tcga amp mean =0.75, del=-1.2; hiv+ amp=0.62, del=-0.9; hiv- amp=0.58, del=-1.0\n",
    "\n",
    "\n"
   ]
  },
  {
   "cell_type": "markdown",
   "metadata": {},
   "source": [
    "what the plot is showing:\n",
    "1. shows somatic copy number alteration landscape in htmcp hiv+ and - group and tcga cesc cohort\n",
    "2. shows the fraction of patients have copy gain or loss in each 1kb bin along the entore genome\n",
    "3. copy gain is defined as gatk copy ratio of tumour to a panel of normals >0.1, and copy loss is defined as segments with copy ratio less than -0.1.\n",
    "4. unique arm alterations are highlighted in both hiv+ and - group\n",
    "5. unique arm alterations for tcga and htmcp are highlighted in the last panel. highlights with a black border are unique to tcga "
   ]
  },
  {
   "cell_type": "code",
   "execution_count": 16,
   "metadata": {},
   "outputs": [],
   "source": [
    "def plot_chromosomes(df, ax):\n",
    "    # plot chromosome names\n",
    "\n",
    "\n",
    "    # plot chromosomes rectangles\n",
    "    chr_clrs = ['white' if i%2==0 else 'black' for i in df['chrom'] ]\n",
    "    text_clrs = chr_clrs + ['white']\n",
    "#     print(chr_clrs)\n",
    "#     print(text_clrs)\n",
    "    for ix, row in df.iterrows():\n",
    "        chrom = int(row.chrom)\n",
    "        start = row.start\n",
    "        end = row.end\n",
    "\n",
    "        _ = ax.add_patch(matplotlib.patches.Rectangle((start,0), end-start, 1.6,  \n",
    "                                              edgecolor='gray', facecolor=chr_clrs[chrom-1], \n",
    "                                              alpha=1, linewidth=2))\n",
    "        if chrom <= 23:\n",
    "            _ = ax.text(int((start + end)/2), 0.6, chrom, ha='center', color=text_clrs[chrom])\n",
    "        else:\n",
    "            _ = ax.text(int((start + end)/2), 0.6, 'X', ha='center', color=text_clrs[chrom])\n",
    "            "
   ]
  },
  {
   "cell_type": "code",
   "execution_count": 17,
   "metadata": {},
   "outputs": [
    {
     "data": {
      "text/html": [
       "<div>\n",
       "<style scoped>\n",
       "    .dataframe tbody tr th:only-of-type {\n",
       "        vertical-align: middle;\n",
       "    }\n",
       "\n",
       "    .dataframe tbody tr th {\n",
       "        vertical-align: top;\n",
       "    }\n",
       "\n",
       "    .dataframe thead th {\n",
       "        text-align: right;\n",
       "    }\n",
       "</style>\n",
       "<table border=\"1\" class=\"dataframe\">\n",
       "  <thead>\n",
       "    <tr style=\"text-align: right;\">\n",
       "      <th></th>\n",
       "      <th>start</th>\n",
       "      <th>end</th>\n",
       "      <th>chrom</th>\n",
       "    </tr>\n",
       "  </thead>\n",
       "  <tbody>\n",
       "    <tr>\n",
       "      <th>0</th>\n",
       "      <td>0</td>\n",
       "      <td>249250621.0</td>\n",
       "      <td>1</td>\n",
       "    </tr>\n",
       "    <tr>\n",
       "      <th>1</th>\n",
       "      <td>249250621</td>\n",
       "      <td>492449994.0</td>\n",
       "      <td>2</td>\n",
       "    </tr>\n",
       "  </tbody>\n",
       "</table>\n",
       "</div>"
      ],
      "text/plain": [
       "       start          end  chrom\n",
       "0          0  249250621.0      1\n",
       "1  249250621  492449994.0      2"
      ]
     },
     "execution_count": 17,
     "metadata": {},
     "output_type": "execute_result"
    }
   ],
   "source": [
    "chrdf = pd.read_csv(chromosomef)\n",
    "chrdf.columns = ['start', 'end', 'chrom']\n",
    "chrdf[:2]"
   ]
  },
  {
   "cell_type": "code",
   "execution_count": 33,
   "metadata": {},
   "outputs": [
    {
     "data": {
      "text/plain": [
       "(0.0, 1.0, 0.0, 1.0)"
      ]
     },
     "execution_count": 33,
     "metadata": {},
     "output_type": "execute_result"
    },
    {
     "name": "stdout",
     "output_type": "stream",
     "text": [
      "(0, 3188119038.3) (0, 1.6)\n"
     ]
    },
    {
     "data": {
      "text/plain": [
       "(0, 3188119038.3)"
      ]
     },
     "execution_count": 33,
     "metadata": {},
     "output_type": "execute_result"
    },
    {
     "data": {
      "text/plain": [
       "(0.0, 3188119038.3, 0.0, 1.0)"
      ]
     },
     "execution_count": 33,
     "metadata": {},
     "output_type": "execute_result"
    },
    {
     "ename": "NameError",
     "evalue": "name 'hivpos_amp_bands_toplot' is not defined",
     "output_type": "error",
     "traceback": [
      "\u001b[0;31m---------------------------------------------------------------------------\u001b[0m",
      "\u001b[0;31mNameError\u001b[0m                                 Traceback (most recent call last)",
      "\u001b[0;32m<ipython-input-33-0d48cf017979>\u001b[0m in \u001b[0;36m<module>\u001b[0;34m()\u001b[0m\n\u001b[1;32m     59\u001b[0m \u001b[0;32mfor\u001b[0m \u001b[0mvl\u001b[0m \u001b[0;32min\u001b[0m \u001b[0mvlns\u001b[0m\u001b[0;34m:\u001b[0m\u001b[0;34m\u001b[0m\u001b[0;34m\u001b[0m\u001b[0m\n\u001b[1;32m     60\u001b[0m     \u001b[0m_\u001b[0m \u001b[0;34m=\u001b[0m \u001b[0max5\u001b[0m\u001b[0;34m.\u001b[0m\u001b[0mvlines\u001b[0m\u001b[0;34m(\u001b[0m\u001b[0mvl\u001b[0m\u001b[0;34m,\u001b[0m \u001b[0;36m0\u001b[0m\u001b[0;34m,\u001b[0m \u001b[0;36m1.6\u001b[0m\u001b[0;34m,\u001b[0m \u001b[0mcolor\u001b[0m\u001b[0;34m=\u001b[0m\u001b[0;34m'gray'\u001b[0m\u001b[0;34m,\u001b[0m \u001b[0mlinestyle\u001b[0m\u001b[0;34m=\u001b[0m\u001b[0;34m'--'\u001b[0m\u001b[0;34m,\u001b[0m \u001b[0mlinewidth\u001b[0m\u001b[0;34m=\u001b[0m\u001b[0;36m.5\u001b[0m\u001b[0;34m)\u001b[0m\u001b[0;34m\u001b[0m\u001b[0;34m\u001b[0m\u001b[0m\n\u001b[0;32m---> 61\u001b[0;31m \u001b[0mplot_cytobands\u001b[0m\u001b[0;34m(\u001b[0m\u001b[0mhivpos_amp_bands_toplot\u001b[0m\u001b[0;34m,\u001b[0m \u001b[0max5\u001b[0m\u001b[0;34m,\u001b[0m \u001b[0;34m'red'\u001b[0m\u001b[0;34m,\u001b[0m \u001b[0;36m1.3\u001b[0m\u001b[0;34m)\u001b[0m\u001b[0;34m\u001b[0m\u001b[0;34m\u001b[0m\u001b[0m\n\u001b[0m\u001b[1;32m     62\u001b[0m \u001b[0mplot_cytobands\u001b[0m\u001b[0;34m(\u001b[0m\u001b[0mhivneg_amp_bands_toplot\u001b[0m\u001b[0;34m,\u001b[0m \u001b[0max5\u001b[0m\u001b[0;34m,\u001b[0m \u001b[0;34m'red'\u001b[0m\u001b[0;34m,\u001b[0m \u001b[0;36m1.1\u001b[0m\u001b[0;34m)\u001b[0m\u001b[0;34m\u001b[0m\u001b[0;34m\u001b[0m\u001b[0m\n\u001b[1;32m     63\u001b[0m \u001b[0mplot_cytobands\u001b[0m\u001b[0;34m(\u001b[0m\u001b[0mtcga_amp_bands_toplot\u001b[0m\u001b[0;34m,\u001b[0m \u001b[0max5\u001b[0m\u001b[0;34m,\u001b[0m \u001b[0;34m'red'\u001b[0m\u001b[0;34m,\u001b[0m \u001b[0;36m0.9\u001b[0m\u001b[0;34m)\u001b[0m\u001b[0;34m\u001b[0m\u001b[0;34m\u001b[0m\u001b[0m\n",
      "\u001b[0;31mNameError\u001b[0m: name 'hivpos_amp_bands_toplot' is not defined"
     ]
    },
    {
     "data": {
      "image/png": "[encoded data removed]",
      "text/plain": [
       "<Figure size 1152x720 with 5 Axes>"
      ]
     },
     "metadata": {},
     "output_type": "display_data"
    }
   ],
   "source": [
    "baseline = 0.8\n",
    "fig = plt.figure(figsize=(16, 10), facecolor='white')\n",
    "gs = gridspec.GridSpec(6, 1, height_ratios=[1, 6, 6, 6, 6, 6], \n",
    "                       hspace=0.08)  # vertical space\n",
    "\n",
    "# plot chromosomes\n",
    "ax0 = plt.subplot(gs[0], facecolor='white')\n",
    "ax0.axis('off')\n",
    "chrdf = chrdf.iloc[:23,:]\n",
    "\n",
    "# figuring out xlim and ylim\n",
    "for vl in vlns:\n",
    "    _ = ax0.vlines(vl, 0, 1.6, color='white', linestyle='--', linewidth=.5)\n",
    "xlims = (0, ax0.get_xlim()[1])\n",
    "ylims = (0, ax0.get_ylim()[1])\n",
    "_= ax0.set_xlim(xlims)\n",
    "_ = ax0.set_ylim(ylims)\n",
    "ylims = (0,1.6)\n",
    "print(xlims, ylims)\n",
    "plot_chromosomes(chrdf, ax0)\n",
    "\n",
    "# plot htmcp cnvs hiv+ 73 patients\n",
    "ax1 = plt.subplot(gs[1], facecolor='white')\n",
    "plot_cnv(ax1, baseline, htmcp_hiv_pos_recur_amps, htmcp_hiv_pos_recur_dels, num_htmcp_hiv_pos_patients, vlns)\n",
    "plot_arms(hivpos_uniqamp_arms, arm_coords, ax1, 'amp', 'white')\n",
    "plot_arms(hivpos_uniqdel_arms, arm_coords, ax1, 'del', 'white')\n",
    "_ = ax1.set_xlim(xlims)\n",
    "_ = ax1.set_ylim(ylims)\n",
    "\n",
    "# plot htmcp cnvs hiv- 45 patients\n",
    "ax2 = plt.subplot(gs[2], facecolor='white')\n",
    "plot_cnv(ax2, baseline, htmcp_hiv_neg_recur_amps, htmcp_hiv_neg_recur_dels, num_htmcp_hiv_neg_patients, vlns)\n",
    "plot_arms(hivneg_uniqamp_arms, arm_coords, ax2, 'amp', 'white')\n",
    "_ = ax2.set_xlim(xlims)\n",
    "_ = ax2.set_ylim(ylims)\n",
    "# no hivneg uniq deletions\n",
    "\n",
    "# # plot htmcp cnvs 118 patients\n",
    "# ax3 = plt.subplot(gs[3], facecolor='white')\n",
    "# plot_cnv(ax3, baseline, htmcp_recur_amps, htmcp_recur_dels, num_htmcp_patients, vlns)\n",
    "# plot_arms(htmcp_uniqamp_arms, arm_coords, ax3, 'amp',  'white')\n",
    "# plot_arms(htmcp_uniqdel_arms, arm_coords, ax3, 'del', 'white')\n",
    "# _ = ax3.set_xlim(xlims)\n",
    "# _ = ax3.set_ylim(ylims)\n",
    "\n",
    "# plot tcga cnvs\n",
    "ax4 = plt.subplot(gs[4], facecolor='white')\n",
    "plot_cnv(ax4, baseline, tcga_recur_amps, tcga_recur_dels, num_tcga_patients, vlns)\n",
    "plot_arms(tcga_uniqdel_arms, arm_coords, ax4, 'del', 'white')\n",
    "\n",
    "_ = ax4.set_xlim(xlims)\n",
    "_ = ax4.set_ylim(ylims)\n",
    "\n",
    "# plot cn significantly altered cytobands\n",
    "ax5 = plt.subplot(gs[5], facecolor='white')\n",
    "ax5.set_xlim(xlims)\n",
    "# plot_arms(hivpos_uniqamp_arms, arm_coords, ax5, 'gray', 0.8)\n",
    "ax5.axis('off')\n",
    "for vl in vlns:\n",
    "    _ = ax5.vlines(vl, 0, 1.6, color='gray', linestyle='--', linewidth=.5)\n",
    "plot_cytobands(hivpos_amp_bands_toplot, ax5, 'red', 1.3)\n",
    "plot_cytobands(hivneg_amp_bands_toplot, ax5, 'red', 1.1)\n",
    "plot_cytobands(tcga_amp_bands_toplot, ax5, 'red', 0.9)\n",
    "\n",
    "\n",
    "plot_cytobands(hivpos_del_bands_toplot, ax5, 'blue', 0.7)\n",
    "plot_cytobands(hivneg_del_bands_toplot, ax5, 'blue', 0.5)\n",
    "plot_cytobands(tcga_del_bands_toplot, ax5, 'blue', 0.3)\n",
    "\n",
    "\n",
    "\n",
    "# plt.savefig(f'{wkdir}cnvs_publication_{arm_threshold}_with_cytoband.png', dpi=300, bbox_inches='tight')"
   ]
  },
  {
   "cell_type": "code",
   "execution_count": null,
   "metadata": {},
   "outputs": [],
   "source": []
  },
  {
   "cell_type": "code",
   "execution_count": null,
   "metadata": {},
   "outputs": [],
   "source": []
  }
 ],
 "metadata": {
  "kernelspec": {
   "display_name": "Python 3",
   "language": "python",
   "name": "python3"
  },
  "language_info": {
   "codemirror_mode": {
    "name": "ipython",
    "version": 3
   },
   "file_extension": ".py",
   "mimetype": "text/x-python",
   "name": "python",
   "nbconvert_exporter": "python",
   "pygments_lexer": "ipython3",
   "version": "3.7.3"
  }
 },
 "nbformat": 4,
 "nbformat_minor": 2
}
