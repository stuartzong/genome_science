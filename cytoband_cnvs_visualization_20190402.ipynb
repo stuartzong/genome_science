{
 "cells": [
  {
   "cell_type": "code",
   "execution_count": 148,
   "metadata": {},
   "outputs": [],
   "source": [
    "import matplotlib.pyplot as plt\n",
    "import numpy as np\n",
    "import pandas as pd\n",
    "import seaborn as sns\n",
    "import sys\n",
    "sys.path.append('/projects/trans_scratch/validations/workspace/szong/Cervical/notebook')\n",
    "from lineticks import LineTicks\n",
    "from brokenaxes import brokenaxes\n",
    "from matplotlib.gridspec import GridSpec\n",
    "from adjustText import adjust_text\n",
    "from IPython.core.interactiveshell import InteractiveShell\n",
    "InteractiveShell.ast_node_interactivity = \"all\""
   ]
  },
  {
   "cell_type": "markdown",
   "metadata": {},
   "source": [
    "### new plot 20190329"
   ]
  },
  {
   "cell_type": "code",
   "execution_count": 9,
   "metadata": {},
   "outputs": [],
   "source": [
    "def get_data(df):\n",
    "    '''get coordinates for points and point labels'''\n",
    "    x = df['hiv-q(-log10)']\n",
    "    y = df['hiv+q(-log10)']\n",
    "    maxq = int(max(max(x), max(y))) + 2\n",
    "    # points on y axis\n",
    "    dfy = df[x==0][['cytoband','hiv-q(-log10)', 'hiv+q(-log10)']].sort_values('hiv+q(-log10)', ascending=False)\n",
    "    pyxs = dfy['hiv-q(-log10)']\n",
    "    pyys = dfy['hiv+q(-log10)']\n",
    "    ybands = dfy['cytoband']#.tolist()\n",
    "    # point on x axis\n",
    "    dfx = df[y==0][['cytoband','hiv-q(-log10)', 'hiv+q(-log10)']].sort_values('hiv-q(-log10)', ascending=True)\n",
    "    pxxs = dfx['hiv-q(-log10)']\n",
    "    pxys = dfx['hiv+q(-log10)']\n",
    "    xbands = dfx['cytoband']#.tolist()\n",
    "    # points shared by 2 groups\n",
    "    dfs = df[(x!=0)&(y!=0)][['cytoband','hiv-q(-log10)', 'hiv+q(-log10)']]\n",
    "    psxs = dfs['hiv-q(-log10)']\n",
    "    psys = dfs['hiv+q(-log10)']\n",
    "    sbands = dfs['cytoband']#.tolist()\n",
    "    return (x, y, maxq, \n",
    "            pyxs, pyys, ybands,\n",
    "            pxxs, pxys, xbands,\n",
    "            psxs, psys, sbands)\n",
    "    "
   ]
  },
  {
   "cell_type": "code",
   "execution_count": 225,
   "metadata": {},
   "outputs": [],
   "source": [
    "def adjust_spines(ax, spines):\n",
    "    for loc, spine in ax.spines.items():\n",
    "        if loc in spines:\n",
    "            spine.set_position(('outward', 0))  # outward by 10 points\n",
    "            spine.set_smart_bounds(True)\n",
    "        else:\n",
    "            spine.set_color('none')  # don't draw spine\n",
    "\n",
    "    # turn off ticks where there is no spine\n",
    "    if 'left' in spines:\n",
    "        ax.yaxis.set_ticks_position('left')\n",
    "    if 'right' in spines:\n",
    "        ax.yaxis.set_ticks_position('right')\n",
    "    else:\n",
    "        # no yaxis ticks\n",
    "        ax.yaxis.set_ticks([])\n",
    "\n",
    "    if 'bottom' in spines:\n",
    "        ax.xaxis.set_ticks_position('bottom')\n",
    "    if 'top' in spines:\n",
    "        ax.xaxis.set_ticks_position('top')\n",
    "    else:\n",
    "        # no xaxis ticks\n",
    "        ax.xaxis.set_ticks([])"
   ]
  },
  {
   "cell_type": "code",
   "execution_count": 248,
   "metadata": {},
   "outputs": [
    {
     "name": "stdout",
     "output_type": "stream",
     "text": [
      "xx\n",
      "lx [33, 4]\n",
      "ly [3, 5]\n",
      "lb [1, 2]\n"
     ]
    }
   ],
   "source": [
    "def foo(**label_coords):\n",
    "    if label_coords:\n",
    "        print('xx')\n",
    "    for a in label_coords:\n",
    "        print(a, label_coords[a])\n",
    "foo(lx=[33, 4], ly=[3, 5], lb=[1,2])"
   ]
  },
  {
   "cell_type": "code",
   "execution_count": 260,
   "metadata": {},
   "outputs": [],
   "source": [
    "def label_sbands(xs, ys, ls, ax, legend, leg_title, **lb_coords):\n",
    "    n = len(ls)\n",
    "    ax.scatter(xs, ys, marker='+', s=26, c='black', alpha=1, label='in both')\n",
    "    # label points\n",
    "    texts = []\n",
    "    lxs, lys, lbs = xs, ys, ls\n",
    "    if lb_coords:\n",
    "        print('xxxx')\n",
    "        lxs, lys, lbs = lb_coords['lx'], lb_coords['ly'], lb_coords['lb']\n",
    "        \n",
    "    for x, y, l in zip(lxs, lys, lbs):\n",
    "        _ = ax.text(x+0.25, y, l, rotation=0,# withdash=True, \n",
    "                    horizontalalignment='left', \n",
    "                    verticalalignment='center', fontsize=8)\n",
    "        texts.append([x+0.25, y, l])\n",
    "#     adjust_text(texts)\n",
    "    if legend:\n",
    "        ax.legend(title=leg_title, loc='upper left')\n",
    "    dft = pd.DataFrame(texts)\n",
    "    dft.columns = ['x', 'y', 'label']\n",
    "    return dft"
   ]
  },
  {
   "cell_type": "code",
   "execution_count": 218,
   "metadata": {},
   "outputs": [],
   "source": [
    "def label_xbands(xs, ys, ls, ax, xgroup, legend):\n",
    "    n = len(ls)\n",
    "    ax.scatter(xs, ys, marker='+', s=26, c='blue', alpha=1, label=f'{xgroup} only')\n",
    "    # make up label coordinates\n",
    "    lxs = np.linspace(-0.1, n*.6, n)\n",
    "    lys = np.array(n*[-0.8])\n",
    "    # label and connecting points\n",
    "    for lx, ly, l, px, py in zip(lxs, lys, ls, xs, ys):\n",
    "        _ = ax.plot((px, lx+.2), (py-0.2, ly+0.1), linestyle='dashed', \n",
    "                    color='gray',linewidth=.6)\n",
    "        _ = ax.text(lx, ly, l, rotation=-90, withdash=True, \n",
    "                    horizontalalignment='left', \n",
    "                    verticalalignment='top', fontsize=7)\n",
    "    if legend:\n",
    "        ax.legend(loc='upper left')"
   ]
  },
  {
   "cell_type": "code",
   "execution_count": 217,
   "metadata": {},
   "outputs": [],
   "source": [
    "def label_ybands(xs, ys, ls, ax, ygroup, legend):\n",
    "    n = len(ls)\n",
    "    ax.scatter(xs, ys, marker='+', s=26, c='red', alpha=1, label=f'{ygroup} only')\n",
    "    # make up label coordinates\n",
    "    lxs = np.array(n * [-0.8])\n",
    "    lys = np.linspace(n*.6, -2, n)\n",
    "\n",
    "    # label points\n",
    "    for lx, ly, l, px, py in zip(lxs, lys, ls, xs, ys):\n",
    "        _ = ax.plot((px-0.3, lx+0.1), (py, ly), linestyle='dashed', \n",
    "            color='gray', linewidth=.6)\n",
    "        _ = ax.text(lx, ly, l, rotation=0, withdash=True, \n",
    "                    horizontalalignment='right', \n",
    "                    verticalalignment='center', fontsize=7)\n",
    "    if legend:\n",
    "        ax.legend(loc='upper left')"
   ]
  },
  {
   "cell_type": "code",
   "execution_count": 228,
   "metadata": {},
   "outputs": [],
   "source": [
    "def remove_tickline_ticklables(ax):\n",
    "    _ = plt.setp(ax.get_xticklines(),visible=False)\n",
    "    _ = plt.setp(ax.get_yticklines(),visible=False)\n",
    "    _ = plt.setp(ax.get_xticklabels(),visible=False)\n",
    "    _ = plt.setp(ax.get_yticklabels(),visible=False)"
   ]
  },
  {
   "cell_type": "markdown",
   "metadata": {},
   "source": [
    "### plot all 4 comparisons"
   ]
  },
  {
   "cell_type": "code",
   "execution_count": 108,
   "metadata": {},
   "outputs": [
    {
     "data": {
      "text/html": [
       "<div>\n",
       "<style scoped>\n",
       "    .dataframe tbody tr th:only-of-type {\n",
       "        vertical-align: middle;\n",
       "    }\n",
       "\n",
       "    .dataframe tbody tr th {\n",
       "        vertical-align: top;\n",
       "    }\n",
       "\n",
       "    .dataframe thead th {\n",
       "        text-align: right;\n",
       "    }\n",
       "</style>\n",
       "<table border=\"1\" class=\"dataframe\">\n",
       "  <thead>\n",
       "    <tr style=\"text-align: right;\">\n",
       "      <th></th>\n",
       "      <th>cytoband</th>\n",
       "      <th>q_value_hiv+</th>\n",
       "      <th>oncogenes_hiv+</th>\n",
       "      <th>num_genes_hiv+</th>\n",
       "      <th>q_value_hiv-</th>\n",
       "      <th>oncogenes_hiv-</th>\n",
       "      <th>num_genes_hiv-</th>\n",
       "      <th>hiv+q(-log10)</th>\n",
       "      <th>hiv-q(-log10)</th>\n",
       "    </tr>\n",
       "  </thead>\n",
       "  <tbody>\n",
       "    <tr>\n",
       "      <th>0</th>\n",
       "      <td>11q22.2</td>\n",
       "      <td>6.734800e-09</td>\n",
       "      <td>BIRC3,YAP1</td>\n",
       "      <td>7.0</td>\n",
       "      <td>1.000000</td>\n",
       "      <td>NaN</td>\n",
       "      <td>NaN</td>\n",
       "      <td>8.171675</td>\n",
       "      <td>-0.000000</td>\n",
       "    </tr>\n",
       "    <tr>\n",
       "      <th>1</th>\n",
       "      <td>8q24.21</td>\n",
       "      <td>7.315600e-04</td>\n",
       "      <td>NaN</td>\n",
       "      <td>0.0</td>\n",
       "      <td>0.011296</td>\n",
       "      <td>NDRG1,RAD21,EXT1,MYC</td>\n",
       "      <td>104.0</td>\n",
       "      <td>3.135750</td>\n",
       "      <td>1.947075</td>\n",
       "    </tr>\n",
       "  </tbody>\n",
       "</table>\n",
       "</div>"
      ],
      "text/plain": [
       "  cytoband  q_value_hiv+ oncogenes_hiv+  num_genes_hiv+  q_value_hiv-  \\\n",
       "0  11q22.2  6.734800e-09     BIRC3,YAP1             7.0      1.000000   \n",
       "1  8q24.21  7.315600e-04            NaN             0.0      0.011296   \n",
       "\n",
       "         oncogenes_hiv-  num_genes_hiv-  hiv+q(-log10)  hiv-q(-log10)  \n",
       "0                   NaN             NaN       8.171675      -0.000000  \n",
       "1  NDRG1,RAD21,EXT1,MYC           104.0       3.135750       1.947075  "
      ]
     },
     "execution_count": 108,
     "metadata": {},
     "output_type": "execute_result"
    },
    {
     "data": {
      "text/html": [
       "<div>\n",
       "<style scoped>\n",
       "    .dataframe tbody tr th:only-of-type {\n",
       "        vertical-align: middle;\n",
       "    }\n",
       "\n",
       "    .dataframe tbody tr th {\n",
       "        vertical-align: top;\n",
       "    }\n",
       "\n",
       "    .dataframe thead th {\n",
       "        text-align: right;\n",
       "    }\n",
       "</style>\n",
       "<table border=\"1\" class=\"dataframe\">\n",
       "  <thead>\n",
       "    <tr style=\"text-align: right;\">\n",
       "      <th></th>\n",
       "      <th>cytoband</th>\n",
       "      <th>q_value_hiv+</th>\n",
       "      <th>oncogenes_hiv+</th>\n",
       "      <th>num_genes_hiv+</th>\n",
       "      <th>q_value_hiv-</th>\n",
       "      <th>oncogenes_hiv-</th>\n",
       "      <th>num_genes_hiv-</th>\n",
       "      <th>hiv+q(-log10)</th>\n",
       "      <th>hiv-q(-log10)</th>\n",
       "    </tr>\n",
       "  </thead>\n",
       "  <tbody>\n",
       "    <tr>\n",
       "      <th>0</th>\n",
       "      <td>2q22.1</td>\n",
       "      <td>9.596400e-16</td>\n",
       "      <td>LRP1B</td>\n",
       "      <td>1.0</td>\n",
       "      <td>0.003105</td>\n",
       "      <td>LRP1B</td>\n",
       "      <td>3.0</td>\n",
       "      <td>15.017892</td>\n",
       "      <td>2.507938</td>\n",
       "    </tr>\n",
       "    <tr>\n",
       "      <th>1</th>\n",
       "      <td>19p13.3</td>\n",
       "      <td>1.422000e-10</td>\n",
       "      <td>STK11</td>\n",
       "      <td>3.0</td>\n",
       "      <td>0.000007</td>\n",
       "      <td>STK11</td>\n",
       "      <td>3.0</td>\n",
       "      <td>9.847100</td>\n",
       "      <td>5.148033</td>\n",
       "    </tr>\n",
       "  </tbody>\n",
       "</table>\n",
       "</div>"
      ],
      "text/plain": [
       "  cytoband  q_value_hiv+ oncogenes_hiv+  num_genes_hiv+  q_value_hiv-  \\\n",
       "0   2q22.1  9.596400e-16          LRP1B             1.0      0.003105   \n",
       "1  19p13.3  1.422000e-10          STK11             3.0      0.000007   \n",
       "\n",
       "  oncogenes_hiv-  num_genes_hiv-  hiv+q(-log10)  hiv-q(-log10)  \n",
       "0          LRP1B             3.0      15.017892       2.507938  \n",
       "1          STK11             3.0       9.847100       5.148033  "
      ]
     },
     "execution_count": 108,
     "metadata": {},
     "output_type": "execute_result"
    }
   ],
   "source": [
    "cnvdir = '/projects/trans_scratch/validations/workspace/szong/Cervical/cnv/'\n",
    "of = f'{cnvdir}amps_cytoband_qvalue_comparison_hiv_pos_vs_neg.csv'\n",
    "htmcp_amps = pd.read_csv(of)\n",
    "htmcp_amps.head(2)\n",
    "of = f'{cnvdir}dels_cytoband_qvalue_comparison_hiv_pos_vs_neg.csv'\n",
    "htmcp_dels = pd.read_csv(of)\n",
    "htmcp_dels.head(2)\n",
    "\n",
    "of = f'{cnvdir}amps_cytoband_qvalue_comparison_tcga_vs_neg.csv'\n",
    "tcga_amps = pd.read_csv(of)\n",
    "\n",
    "of = f'{cnvdir}dels_cytoband_qvalue_comparison_tcga_vs_neg.csv'\n",
    "tcga_dels = pd.read_csv(of)"
   ]
  },
  {
   "cell_type": "code",
   "execution_count": 7,
   "metadata": {},
   "outputs": [],
   "source": [
    " "
   ]
  },
  {
   "cell_type": "code",
   "execution_count": 212,
   "metadata": {},
   "outputs": [],
   "source": [
    "def setup_ax(ax, xlim, ylim, xmtick_range, ymtick_range,xlabel, ylabel):\n",
    "    _ = ax.set_xlim(xlim)\n",
    "    _ = ax.set_ylim(ylim)\n",
    "    ax.spines['right'].set_visible(False) # turn off right spine\n",
    "    ax.spines['top'].set_visible(False)\n",
    "    _ = ax.set_xticks(xmtick_range)\n",
    "    _ = ax.set_yticks(ymtick_range)\n",
    "    ax.set_xlabel(xlabel)\n",
    "    ax.set_ylabel(ylabel)\n",
    "    ax.set_aspect('auto')\n"
   ]
  },
  {
   "cell_type": "code",
   "execution_count": 269,
   "metadata": {},
   "outputs": [
    {
     "name": "stdout",
     "output_type": "stream",
     "text": [
      "plot amp tcga vs hiv-\n",
      "xxxx\n"
     ]
    },
    {
     "data": {
      "text/html": [
       "<div>\n",
       "<style scoped>\n",
       "    .dataframe tbody tr th:only-of-type {\n",
       "        vertical-align: middle;\n",
       "    }\n",
       "\n",
       "    .dataframe tbody tr th {\n",
       "        vertical-align: top;\n",
       "    }\n",
       "\n",
       "    .dataframe thead th {\n",
       "        text-align: right;\n",
       "    }\n",
       "</style>\n",
       "<table border=\"1\" class=\"dataframe\">\n",
       "  <thead>\n",
       "    <tr style=\"text-align: right;\">\n",
       "      <th></th>\n",
       "      <th>x</th>\n",
       "      <th>y</th>\n",
       "      <th>label</th>\n",
       "    </tr>\n",
       "  </thead>\n",
       "  <tbody>\n",
       "    <tr>\n",
       "      <th>0</th>\n",
       "      <td>3.741686</td>\n",
       "      <td>24.857110</td>\n",
       "      <td>11q22.1</td>\n",
       "    </tr>\n",
       "    <tr>\n",
       "      <th>1</th>\n",
       "      <td>2.447075</td>\n",
       "      <td>7.616472</td>\n",
       "      <td>8q24.21</td>\n",
       "    </tr>\n",
       "    <tr>\n",
       "      <th>2</th>\n",
       "      <td>4.912289</td>\n",
       "      <td>11.541997</td>\n",
       "      <td>3q28</td>\n",
       "    </tr>\n",
       "    <tr>\n",
       "      <th>3</th>\n",
       "      <td>2.341668</td>\n",
       "      <td>2.500000</td>\n",
       "      <td>1q21.3</td>\n",
       "    </tr>\n",
       "    <tr>\n",
       "      <th>4</th>\n",
       "      <td>1.570275</td>\n",
       "      <td>0.800000</td>\n",
       "      <td>15q26.1</td>\n",
       "    </tr>\n",
       "  </tbody>\n",
       "</table>\n",
       "</div>"
      ],
      "text/plain": [
       "          x          y    label\n",
       "0  3.741686  24.857110  11q22.1\n",
       "1  2.447075   7.616472  8q24.21\n",
       "2  4.912289  11.541997     3q28\n",
       "3  2.341668   2.500000   1q21.3\n",
       "4  1.570275   0.800000  15q26.1"
      ]
     },
     "execution_count": 269,
     "metadata": {},
     "output_type": "execute_result"
    },
    {
     "name": "stdout",
     "output_type": "stream",
     "text": [
      "xxxx\n"
     ]
    },
    {
     "data": {
      "text/html": [
       "<div>\n",
       "<style scoped>\n",
       "    .dataframe tbody tr th:only-of-type {\n",
       "        vertical-align: middle;\n",
       "    }\n",
       "\n",
       "    .dataframe tbody tr th {\n",
       "        vertical-align: top;\n",
       "    }\n",
       "\n",
       "    .dataframe thead th {\n",
       "        text-align: right;\n",
       "    }\n",
       "</style>\n",
       "<table border=\"1\" class=\"dataframe\">\n",
       "  <thead>\n",
       "    <tr style=\"text-align: right;\">\n",
       "      <th></th>\n",
       "      <th>x</th>\n",
       "      <th>y</th>\n",
       "      <th>label</th>\n",
       "    </tr>\n",
       "  </thead>\n",
       "  <tbody>\n",
       "    <tr>\n",
       "      <th>0</th>\n",
       "      <td>4.125197</td>\n",
       "      <td>24.773890</td>\n",
       "      <td>2q37.1</td>\n",
       "    </tr>\n",
       "    <tr>\n",
       "      <th>1</th>\n",
       "      <td>3.639932</td>\n",
       "      <td>14.685164</td>\n",
       "      <td>11q25</td>\n",
       "    </tr>\n",
       "    <tr>\n",
       "      <th>2</th>\n",
       "      <td>3.007938</td>\n",
       "      <td>16.123863</td>\n",
       "      <td>2q22.1</td>\n",
       "    </tr>\n",
       "    <tr>\n",
       "      <th>3</th>\n",
       "      <td>5.648033</td>\n",
       "      <td>10.108608</td>\n",
       "      <td>19p13.3</td>\n",
       "    </tr>\n",
       "    <tr>\n",
       "      <th>4</th>\n",
       "      <td>1.609138</td>\n",
       "      <td>3.800000</td>\n",
       "      <td>17q25.3</td>\n",
       "    </tr>\n",
       "    <tr>\n",
       "      <th>5</th>\n",
       "      <td>4.250000</td>\n",
       "      <td>2.990039</td>\n",
       "      <td>3p14.2</td>\n",
       "    </tr>\n",
       "    <tr>\n",
       "      <th>6</th>\n",
       "      <td>1.673945</td>\n",
       "      <td>2.300000</td>\n",
       "      <td>14q32.31</td>\n",
       "    </tr>\n",
       "    <tr>\n",
       "      <th>7</th>\n",
       "      <td>1.850000</td>\n",
       "      <td>1.500000</td>\n",
       "      <td>21q11.2</td>\n",
       "    </tr>\n",
       "    <tr>\n",
       "      <th>8</th>\n",
       "      <td>3.007938</td>\n",
       "      <td>0.700144</td>\n",
       "      <td>1p13.2</td>\n",
       "    </tr>\n",
       "  </tbody>\n",
       "</table>\n",
       "</div>"
      ],
      "text/plain": [
       "          x          y     label\n",
       "0  4.125197  24.773890    2q37.1\n",
       "1  3.639932  14.685164     11q25\n",
       "2  3.007938  16.123863    2q22.1\n",
       "3  5.648033  10.108608   19p13.3\n",
       "4  1.609138   3.800000   17q25.3\n",
       "5  4.250000   2.990039    3p14.2\n",
       "6  1.673945   2.300000  14q32.31\n",
       "7  1.850000   1.500000   21q11.2\n",
       "8  3.007938   0.700144    1p13.2"
      ]
     },
     "execution_count": 269,
     "metadata": {},
     "output_type": "execute_result"
    },
    {
     "data": {
      "image/png": "[encoded data removed]",
      "text/plain": [
       "<Figure size 1152x432 with 4 Axes>"
      ]
     },
     "metadata": {},
     "output_type": "display_data"
    }
   ],
   "source": [
    "# Set up the axes with gridspec\n",
    "fig = plt.figure(figsize=(16, 6))\n",
    "grid = plt.GridSpec(1, 4, hspace=0.3, wspace=0.1, \n",
    "                    width_ratios=[1,1,1,1], \n",
    "                    height_ratios=[1])\n",
    "\n",
    "ax0 = plt.subplot(grid[0])\n",
    "\n",
    "x, y, maxq, pyxs, pyys, ybands, pxxs, pxys, xbands, psxs, psys, sbands = get_data(htmcp_amps)\n",
    "# # pot amp hiv+ vs -\n",
    "xlim = (-4, 9)\n",
    "ylim = (-4, 17)\n",
    "xmtick_range = np.arange(0, 9, 4)\n",
    "ymtick_range = np.arange(0, 17, 4)\n",
    "xlabel = 'HIV- q(-log10)'\n",
    "ylabel = 'HIV+ q(-log10)'\n",
    "setup_ax(ax0, xlim, ylim, xmtick_range, ymtick_range, xlabel, ylabel)\n",
    "\n",
    "_ = label_xbands(pxxs, pxys, xbands, ax0,'HIV-',  'legend')\n",
    "_ = label_ybands(pyxs, pyys, ybands, ax0,'HIV+', 'legend')\n",
    "_ = label_sbands(psxs, psys, sbands, ax0, 'legend', 'Amplification')\n",
    "\n",
    "\n",
    "\n",
    "# # pot del hiv+ vs -\n",
    "ax1 = plt.subplot(grid[1])\n",
    "x, y, maxq, pyxs, pyys, ybands, pxxs, pxys, xbands, psxs, psys, sbands = get_data(htmcp_dels)\n",
    "setup_ax(ax1, xlim, ylim, xmtick_range, ymtick_range, xlabel, ylabel)\n",
    "_ = label_xbands(pxxs, pxys, xbands, ax1,'HIV-', 'legend')\n",
    "_ = label_ybands(pyxs, pyys, ybands, ax1,'HIV+', 'legend')\n",
    "_ = label_sbands(psxs, psys, sbands, ax1, 'legend', 'Deletion')\n",
    "\n",
    "# pot amp tcga vs hiv-\n",
    "ylabel = 'TCGA q(-log10)'\n",
    "xlim = (-4, 9)\n",
    "ylim = (-4, 26)\n",
    "xmtick_range = np.arange(0, 9, 4)\n",
    "ymtick_range = np.arange(0, 26, 4)\n",
    "\n",
    "print('plot amp tcga vs hiv-')\n",
    "ax2 = plt.subplot(grid[2])\n",
    "x, y, maxq, pyxs, pyys, ybands, pxxs, pxys, xbands, psxs, psys, sbands = get_data(tcga_amps)\n",
    "setup_ax(ax2, xlim, ylim, xmtick_range, ymtick_range, xlabel, ylabel)\n",
    "_ = label_xbands(pxxs, pxys, xbands, ax2,'HIV-', 'legend')\n",
    "_ = label_ybands(pyxs, pyys, ybands, ax2,'TCGA', 'legend')\n",
    "# dft = label_sbands(psxs, psys, sbands, ax2, 'legend', 'Amplification')\n",
    "of = '/projects/trans_scratch/validations/workspace/szong/Cervical/cnv/tcga_amps_shared_labels.txt'\n",
    "# dft.to_csv(of, sep='\\t', index=False)\n",
    "dft = pd.read_csv(of, sep='\\t')\n",
    "lxss, lyss, lbss = dft['x'], dft['y'], dft['label']\n",
    "label_sbands(psxs, psys, sbands, ax2, 'legend', 'Amplification', lx=lxss, ly=lyss, lb=lbss)\n",
    "\n",
    "ax3 = plt.subplot(grid[3])\n",
    "x, y, maxq, pyxs, pyys, ybands, pxxs, pxys, xbands, psxs, psys, sbands = get_data(tcga_dels)\n",
    "setup_ax(ax3, xlim, ylim, xmtick_range, ymtick_range, xlabel, ylabel)\n",
    "_ = label_xbands(pxxs, pxys, xbands, ax3,'HIV-', 'legend')\n",
    "_ = label_ybands(pyxs, pyys, ybands, ax3,'TCGA','legend')\n",
    "# dft = label_sbands(psxs, psys, sbands, ax3, 'legend', 'Deletion')\n",
    "of = '/projects/trans_scratch/validations/workspace/szong/Cervical/cnv/tcga_shared_labels.txt'\n",
    "# dft.to_csv(of, sep='\\t', index=False)\n",
    "# read in manually curated label coordinates\n",
    "dft = pd.read_csv(of, sep='\\t')\n",
    "lxss, lyss, lbss = dft['x'], dft['y'], dft['label']\n",
    "label_sbands(psxs, psys, sbands, ax3, 'legend', 'Deletion',lx=lxss, ly=lyss, lb=lbss )\n",
    "of = '/projects/trans_scratch/validations/workspace/szong/Cervical/cnv/significantly_altered_cytobands_comparison.png'\n",
    "# plt.savefig(of, bbox_inches='tight', dpi=300)\n",
    "pdf = '/projects/trans_scratch/validations/workspace/szong/Cervical/cnv/significantly_altered_cytobands_comparison_20190402.pdf'\n",
    "plt.savefig(pdf,bbox_inches='tight',dpi=300)"
   ]
  },
  {
   "cell_type": "code",
   "execution_count": 232,
   "metadata": {},
   "outputs": [],
   "source": [
    "of = '/projects/trans_scratch/validations/workspace/szong/Cervical/cnv/tcga_shared_labels.txt'\n",
    "dft = pd.read_csv(of, sep='\\t')\n",
    "psxs, psys, sbands = dft['x'], dft['y'], dft['label'] "
   ]
  },
  {
   "cell_type": "code",
   "execution_count": 231,
   "metadata": {},
   "outputs": [
    {
     "data": {
      "text/html": [
       "<div>\n",
       "<style scoped>\n",
       "    .dataframe tbody tr th:only-of-type {\n",
       "        vertical-align: middle;\n",
       "    }\n",
       "\n",
       "    .dataframe tbody tr th {\n",
       "        vertical-align: top;\n",
       "    }\n",
       "\n",
       "    .dataframe thead th {\n",
       "        text-align: right;\n",
       "    }\n",
       "</style>\n",
       "<table border=\"1\" class=\"dataframe\">\n",
       "  <thead>\n",
       "    <tr style=\"text-align: right;\">\n",
       "      <th></th>\n",
       "      <th>x</th>\n",
       "      <th>y</th>\n",
       "      <th>label</th>\n",
       "    </tr>\n",
       "  </thead>\n",
       "  <tbody>\n",
       "    <tr>\n",
       "      <th>0</th>\n",
       "      <td>3.875197</td>\n",
       "      <td>24.773890</td>\n",
       "      <td>2q37.1</td>\n",
       "    </tr>\n",
       "    <tr>\n",
       "      <th>1</th>\n",
       "      <td>3.389932</td>\n",
       "      <td>14.685164</td>\n",
       "      <td>11q25</td>\n",
       "    </tr>\n",
       "    <tr>\n",
       "      <th>2</th>\n",
       "      <td>2.757938</td>\n",
       "      <td>16.123863</td>\n",
       "      <td>2q22.1</td>\n",
       "    </tr>\n",
       "    <tr>\n",
       "      <th>3</th>\n",
       "      <td>5.398033</td>\n",
       "      <td>10.108608</td>\n",
       "      <td>19p13.3</td>\n",
       "    </tr>\n",
       "    <tr>\n",
       "      <th>4</th>\n",
       "      <td>1.359138</td>\n",
       "      <td>3.500000</td>\n",
       "      <td>17q25.3</td>\n",
       "    </tr>\n",
       "    <tr>\n",
       "      <th>5</th>\n",
       "      <td>4.000000</td>\n",
       "      <td>2.990039</td>\n",
       "      <td>3p14.2</td>\n",
       "    </tr>\n",
       "    <tr>\n",
       "      <th>6</th>\n",
       "      <td>1.423945</td>\n",
       "      <td>2.300000</td>\n",
       "      <td>14q32.31</td>\n",
       "    </tr>\n",
       "    <tr>\n",
       "      <th>7</th>\n",
       "      <td>1.843017</td>\n",
       "      <td>2.000000</td>\n",
       "      <td>21q11.2</td>\n",
       "    </tr>\n",
       "    <tr>\n",
       "      <th>8</th>\n",
       "      <td>2.757938</td>\n",
       "      <td>0.700144</td>\n",
       "      <td>1p13.2</td>\n",
       "    </tr>\n",
       "  </tbody>\n",
       "</table>\n",
       "</div>"
      ],
      "text/plain": [
       "          x          y     label\n",
       "0  3.875197  24.773890    2q37.1\n",
       "1  3.389932  14.685164     11q25\n",
       "2  2.757938  16.123863    2q22.1\n",
       "3  5.398033  10.108608   19p13.3\n",
       "4  1.359138   3.500000   17q25.3\n",
       "5  4.000000   2.990039    3p14.2\n",
       "6  1.423945   2.300000  14q32.31\n",
       "7  1.843017   2.000000   21q11.2\n",
       "8  2.757938   0.700144    1p13.2"
      ]
     },
     "execution_count": 231,
     "metadata": {},
     "output_type": "execute_result"
    }
   ],
   "source": [
    "dft"
   ]
  },
  {
   "cell_type": "code",
   "execution_count": 324,
   "metadata": {},
   "outputs": [
    {
     "data": {
      "text/html": [
       "<div>\n",
       "<style scoped>\n",
       "    .dataframe tbody tr th:only-of-type {\n",
       "        vertical-align: middle;\n",
       "    }\n",
       "\n",
       "    .dataframe tbody tr th {\n",
       "        vertical-align: top;\n",
       "    }\n",
       "\n",
       "    .dataframe thead th {\n",
       "        text-align: right;\n",
       "    }\n",
       "</style>\n",
       "<table border=\"1\" class=\"dataframe\">\n",
       "  <thead>\n",
       "    <tr style=\"text-align: right;\">\n",
       "      <th></th>\n",
       "      <th>cytoband</th>\n",
       "      <th>q_value_hiv+</th>\n",
       "      <th>oncogenes_hiv+</th>\n",
       "      <th>num_genes_hiv+</th>\n",
       "      <th>q_value_hiv-</th>\n",
       "      <th>oncogenes_hiv-</th>\n",
       "      <th>num_genes_hiv-</th>\n",
       "      <th>hiv+q(-log10)</th>\n",
       "      <th>hiv-q(-log10)</th>\n",
       "    </tr>\n",
       "  </thead>\n",
       "  <tbody>\n",
       "    <tr>\n",
       "      <th>13</th>\n",
       "      <td>1q21.3</td>\n",
       "      <td>1.0</td>\n",
       "      <td>NaN</td>\n",
       "      <td>NaN</td>\n",
       "      <td>0.008915</td>\n",
       "      <td>PLEKHO1,BCL9,RAB25,AIM2,NOTCH2,NTRK1,PDE4DIP,M...</td>\n",
       "      <td>396.0</td>\n",
       "      <td>-0.0</td>\n",
       "      <td>2.049879</td>\n",
       "    </tr>\n",
       "    <tr>\n",
       "      <th>14</th>\n",
       "      <td>8q24.22</td>\n",
       "      <td>1.0</td>\n",
       "      <td>NaN</td>\n",
       "      <td>NaN</td>\n",
       "      <td>0.041088</td>\n",
       "      <td>KLF10,MTSS1,EXT1,FBXO32,SCRIB,NDRG1,MAFA,MYC,C...</td>\n",
       "      <td>278.0</td>\n",
       "      <td>-0.0</td>\n",
       "      <td>1.386285</td>\n",
       "    </tr>\n",
       "    <tr>\n",
       "      <th>15</th>\n",
       "      <td>15q26.1</td>\n",
       "      <td>1.0</td>\n",
       "      <td>NaN</td>\n",
       "      <td>NaN</td>\n",
       "      <td>0.051705</td>\n",
       "      <td>NTRK3,BLM,CRTC3,FES,IDH2</td>\n",
       "      <td>69.0</td>\n",
       "      <td>-0.0</td>\n",
       "      <td>1.286467</td>\n",
       "    </tr>\n",
       "    <tr>\n",
       "      <th>16</th>\n",
       "      <td>2p24.3</td>\n",
       "      <td>1.0</td>\n",
       "      <td>NaN</td>\n",
       "      <td>NaN</td>\n",
       "      <td>0.117580</td>\n",
       "      <td>NCOA1,MYCN,ALK,SOX11,RHOB,C2orf44,DNMT3A</td>\n",
       "      <td>206.0</td>\n",
       "      <td>-0.0</td>\n",
       "      <td>0.929667</td>\n",
       "    </tr>\n",
       "    <tr>\n",
       "      <th>17</th>\n",
       "      <td>19q13.43</td>\n",
       "      <td>1.0</td>\n",
       "      <td>NaN</td>\n",
       "      <td>NaN</td>\n",
       "      <td>0.136820</td>\n",
       "      <td>GLTSCR1,ZNF331,KLK2,CIC,MIRLET7E,TGFB1,ERCC2,A...</td>\n",
       "      <td>777.0</td>\n",
       "      <td>-0.0</td>\n",
       "      <td>0.863850</td>\n",
       "    </tr>\n",
       "  </tbody>\n",
       "</table>\n",
       "</div>"
      ],
      "text/plain": [
       "    cytoband  q_value_hiv+ oncogenes_hiv+  num_genes_hiv+  q_value_hiv-  \\\n",
       "13    1q21.3           1.0            NaN             NaN      0.008915   \n",
       "14   8q24.22           1.0            NaN             NaN      0.041088   \n",
       "15   15q26.1           1.0            NaN             NaN      0.051705   \n",
       "16    2p24.3           1.0            NaN             NaN      0.117580   \n",
       "17  19q13.43           1.0            NaN             NaN      0.136820   \n",
       "\n",
       "                                       oncogenes_hiv-  num_genes_hiv-  \\\n",
       "13  PLEKHO1,BCL9,RAB25,AIM2,NOTCH2,NTRK1,PDE4DIP,M...           396.0   \n",
       "14  KLF10,MTSS1,EXT1,FBXO32,SCRIB,NDRG1,MAFA,MYC,C...           278.0   \n",
       "15                           NTRK3,BLM,CRTC3,FES,IDH2            69.0   \n",
       "16           NCOA1,MYCN,ALK,SOX11,RHOB,C2orf44,DNMT3A           206.0   \n",
       "17  GLTSCR1,ZNF331,KLK2,CIC,MIRLET7E,TGFB1,ERCC2,A...           777.0   \n",
       "\n",
       "    hiv+q(-log10)  hiv-q(-log10)  \n",
       "13           -0.0       2.049879  \n",
       "14           -0.0       1.386285  \n",
       "15           -0.0       1.286467  \n",
       "16           -0.0       0.929667  \n",
       "17           -0.0       0.863850  "
      ]
     },
     "execution_count": 324,
     "metadata": {},
     "output_type": "execute_result"
    }
   ],
   "source": [
    "tcga_amps[tcga_amps['hiv+q(-log10)']==0]"
   ]
  },
  {
   "cell_type": "code",
   "execution_count": 247,
   "metadata": {},
   "outputs": [
    {
     "data": {
      "text/plain": [
       "1000"
      ]
     },
     "execution_count": 247,
     "metadata": {},
     "output_type": "execute_result"
    },
    {
     "data": {
      "text/plain": [
       "36"
      ]
     },
     "execution_count": 247,
     "metadata": {},
     "output_type": "execute_result"
    }
   ],
   "source": [
    "len(x)\n",
    "len(y)"
   ]
  },
  {
   "cell_type": "code",
   "execution_count": null,
   "metadata": {},
   "outputs": [],
   "source": []
  },
  {
   "cell_type": "code",
   "execution_count": 236,
   "metadata": {},
   "outputs": [
    {
     "data": {
      "text/plain": [
       "[[<matplotlib.lines.Line2D at 0x7f6981ff53c8>],\n",
       " [<matplotlib.lines.Line2D at 0x7f6982073ac8>],\n",
       " [<matplotlib.lines.Line2D at 0x7f698204c908>],\n",
       " [<matplotlib.lines.Line2D at 0x7f6982073ef0>]]"
      ]
     },
     "execution_count": 236,
     "metadata": {},
     "output_type": "execute_result"
    },
    {
     "data": {
      "text/plain": [
       "[[<matplotlib.lines.Line2D at 0x7f6981f84780>],\n",
       " [<matplotlib.lines.Line2D at 0x7f6981ff5a90>],\n",
       " [<matplotlib.lines.Line2D at 0x7f6981fcec18>],\n",
       " [<matplotlib.lines.Line2D at 0x7f6981f8fa90>]]"
      ]
     },
     "execution_count": 236,
     "metadata": {},
     "output_type": "execute_result"
    },
    {
     "data": {
      "text/plain": [
       "<matplotlib.legend.Legend at 0x7f6981f7cba8>"
      ]
     },
     "execution_count": 236,
     "metadata": {},
     "output_type": "execute_result"
    },
    {
     "data": {
      "text/plain": [
       "Text(0.5,0,'time')"
      ]
     },
     "execution_count": 236,
     "metadata": {},
     "output_type": "execute_result"
    },
    {
     "data": {
      "text/plain": [
       "Text(0,0.5,'value')"
      ]
     },
     "execution_count": 236,
     "metadata": {},
     "output_type": "execute_result"
    },
    {
     "data": {
      "image/png": "[encoded data removed]",
      "text/plain": [
       "<Figure size 360x144 with 5 Axes>"
      ]
     },
     "metadata": {},
     "output_type": "display_data"
    }
   ],
   "source": [
    "\n",
    "\n",
    "\n",
    "fig = plt.figure(figsize=(5,2))\n",
    "bax = brokenaxes(xlims=((0, .1), (.4, 1)), ylims=((-1, .7), (.79, 1)), hspace=.1)\n",
    "x = np.linspace(0, 1, 100)\n",
    "bax.plot(x, np.sin(10 * x), label='sin')\n",
    "bax.plot(x, np.cos(10 * x), label='cos')\n",
    "bax.legend(loc=3)\n",
    "bax.set_xlabel('time')\n",
    "bax.set_ylabel('value')"
   ]
  },
  {
   "cell_type": "code",
   "execution_count": 241,
   "metadata": {},
   "outputs": [
    {
     "data": {
      "text/plain": [
       "[[<matplotlib.lines.Line2D at 0x7f69818f2c88>],\n",
       " [<matplotlib.lines.Line2D at 0x7f698189cdd8>]]"
      ]
     },
     "execution_count": 241,
     "metadata": {},
     "output_type": "execute_result"
    },
    {
     "data": {
      "text/plain": [
       "[(array([195., 234., 227., 260.,  47.,  24.,  12.,   0.,   0.,   1.]),\n",
       "  array([ 0. ,  1.3,  2.6,  3.9,  5.2,  6.5,  7.8,  9.1, 10.4, 11.7, 13. ]),\n",
       "  <a list of 10 Patch objects>),\n",
       " (array([195., 234., 227., 260.,  47.,  24.,  12.,   0.,   0.,   1.]),\n",
       "  array([ 0. ,  1.3,  2.6,  3.9,  5.2,  6.5,  7.8,  9.1, 10.4, 11.7, 13. ]),\n",
       "  <a list of 10 Patch objects>)]"
      ]
     },
     "execution_count": 241,
     "metadata": {},
     "output_type": "execute_result"
    },
    {
     "data": {
      "image/png": "[encoded data removed]",
      "text/plain": [
       "<Figure size 432x288 with 6 Axes>"
      ]
     },
     "metadata": {},
     "output_type": "display_data"
    }
   ],
   "source": [
    "sps1, sps2 = GridSpec(2,1)\n",
    "\n",
    "bax = brokenaxes(xlims=((.1, .3),(.7, .8)), subplot_spec=sps1,  hspace=.02)\n",
    "x = np.linspace(0, 1, 100)\n",
    "bax.plot(x, np.sin(x*30), ls=':', color='m')\n",
    "\n",
    "x = np.random.poisson(3, 1000)\n",
    "bax = brokenaxes(xlims=((0, 2.5), (3, 6)), subplot_spec=sps2, hspace=.01)\n",
    "bax.hist(x, histtype='bar')"
   ]
  },
  {
   "cell_type": "code",
   "execution_count": null,
   "metadata": {},
   "outputs": [],
   "source": []
  },
  {
   "cell_type": "code",
   "execution_count": 131,
   "metadata": {},
   "outputs": [
    {
     "data": {
      "text/html": [
       "<div>\n",
       "<style scoped>\n",
       "    .dataframe tbody tr th:only-of-type {\n",
       "        vertical-align: middle;\n",
       "    }\n",
       "\n",
       "    .dataframe tbody tr th {\n",
       "        vertical-align: top;\n",
       "    }\n",
       "\n",
       "    .dataframe thead th {\n",
       "        text-align: right;\n",
       "    }\n",
       "</style>\n",
       "<table border=\"1\" class=\"dataframe\">\n",
       "  <thead>\n",
       "    <tr style=\"text-align: right;\">\n",
       "      <th></th>\n",
       "      <th>cytoband</th>\n",
       "      <th>q_value_x</th>\n",
       "      <th>q_value_y</th>\n",
       "    </tr>\n",
       "  </thead>\n",
       "  <tbody>\n",
       "    <tr>\n",
       "      <th>0</th>\n",
       "      <td>11q22.1</td>\n",
       "      <td>3.544700e-09</td>\n",
       "      <td>1.000000</td>\n",
       "    </tr>\n",
       "    <tr>\n",
       "      <th>1</th>\n",
       "      <td>8q24.21</td>\n",
       "      <td>1.045400e-04</td>\n",
       "      <td>0.000732</td>\n",
       "    </tr>\n",
       "  </tbody>\n",
       "</table>\n",
       "</div>"
      ],
      "text/plain": [
       "  cytoband     q_value_x  q_value_y\n",
       "0  11q22.1  3.544700e-09   1.000000\n",
       "1  8q24.21  1.045400e-04   0.000732"
      ]
     },
     "execution_count": 131,
     "metadata": {},
     "output_type": "execute_result"
    }
   ],
   "source": [
    "dftmp = pd.merge(hposold, hpos, left_on='cytoband', right_on='cytoband', how='outer').fillna(1)\n",
    "dftmp.head(2)"
   ]
  },
  {
   "cell_type": "code",
   "execution_count": 132,
   "metadata": {},
   "outputs": [
    {
     "data": {
      "text/plain": [
       "<matplotlib.collections.PathCollection at 0x7fd80b87c400>"
      ]
     },
     "execution_count": 132,
     "metadata": {},
     "output_type": "execute_result"
    },
    {
     "data": {
      "image/png": "[encoded data removed]",
      "text/plain": [
       "<Figure size 432x288 with 1 Axes>"
      ]
     },
     "metadata": {},
     "output_type": "display_data"
    }
   ],
   "source": [
    "plt.scatter(dftmp['q_value_x'], dftmp['q_value_y'])"
   ]
  }
 ],
 "metadata": {
  "kernelspec": {
   "display_name": "Python 3",
   "language": "python",
   "name": "python3"
  },
  "language_info": {
   "codemirror_mode": {
    "name": "ipython",
    "version": 3
   },
   "file_extension": ".py",
   "mimetype": "text/x-python",
   "name": "python",
   "nbconvert_exporter": "python",
   "pygments_lexer": "ipython3",
   "version": "3.6.7"
  }
 },
 "nbformat": 4,
 "nbformat_minor": 2
}
