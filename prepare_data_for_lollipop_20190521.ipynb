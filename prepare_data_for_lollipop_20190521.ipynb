{
 "cells": [
  {
   "cell_type": "code",
   "execution_count": 1,
   "metadata": {},
   "outputs": [],
   "source": [
    "import matplotlib\n",
    "import csv\n",
    "import numpy as np\n",
    "import pandas as pd\n",
    "import seaborn as sns\n",
    "import matplotlib.pyplot as plt\n",
    "from matplotlib import style, colors\n",
    "from matplotlib import gridspec\n",
    "\n",
    "matplotlib.style.use('ggplot')\n",
    "%matplotlib inline\n",
    "matplotlib.rcParams['figure.figsize'] = (8, 6)\n",
    "from IPython.core.interactiveshell import InteractiveShell\n",
    "InteractiveShell.ast_node_interactivity = \"all\""
   ]
  },
  {
   "cell_type": "code",
   "execution_count": 2,
   "metadata": {},
   "outputs": [
    {
     "data": {
      "text/html": [
       "<div>\n",
       "<style scoped>\n",
       "    .dataframe tbody tr th:only-of-type {\n",
       "        vertical-align: middle;\n",
       "    }\n",
       "\n",
       "    .dataframe tbody tr th {\n",
       "        vertical-align: top;\n",
       "    }\n",
       "\n",
       "    .dataframe thead th {\n",
       "        text-align: right;\n",
       "    }\n",
       "</style>\n",
       "<table border=\"1\" class=\"dataframe\">\n",
       "  <thead>\n",
       "    <tr style=\"text-align: right;\">\n",
       "      <th></th>\n",
       "      <th>chr</th>\n",
       "      <th>pos</th>\n",
       "      <th>ref</th>\n",
       "      <th>alt</th>\n",
       "      <th>impact</th>\n",
       "      <th>impact_type</th>\n",
       "      <th>gene</th>\n",
       "      <th>patient</th>\n",
       "    </tr>\n",
       "  </thead>\n",
       "  <tbody>\n",
       "    <tr>\n",
       "      <th>0</th>\n",
       "      <td>1</td>\n",
       "      <td>2706109</td>\n",
       "      <td>C</td>\n",
       "      <td>G</td>\n",
       "      <td>SYNONYMOUS_CODING</td>\n",
       "      <td>LOW</td>\n",
       "      <td>TTC34</td>\n",
       "      <td>HTMCP-03-06-02001</td>\n",
       "    </tr>\n",
       "    <tr>\n",
       "      <th>1</th>\n",
       "      <td>1</td>\n",
       "      <td>4771973</td>\n",
       "      <td>C</td>\n",
       "      <td>T</td>\n",
       "      <td>NON_SYNONYMOUS_CODING</td>\n",
       "      <td>MODERATE</td>\n",
       "      <td>AJAP1</td>\n",
       "      <td>HTMCP-03-06-02001</td>\n",
       "    </tr>\n",
       "  </tbody>\n",
       "</table>\n",
       "</div>"
      ],
      "text/plain": [
       "  chr      pos ref alt                 impact impact_type   gene  \\\n",
       "0   1  2706109   C   G      SYNONYMOUS_CODING         LOW  TTC34   \n",
       "1   1  4771973   C   T  NON_SYNONYMOUS_CODING    MODERATE  AJAP1   \n",
       "\n",
       "             patient  \n",
       "0  HTMCP-03-06-02001  \n",
       "1  HTMCP-03-06-02001  "
      ]
     },
     "execution_count": 2,
     "metadata": {},
     "output_type": "execute_result"
    },
    {
     "data": {
      "text/plain": [
       "(36739, 8)"
      ]
     },
     "execution_count": 2,
     "metadata": {},
     "output_type": "execute_result"
    }
   ],
   "source": [
    "of = '/projects/trans_scratch/validations/workspace/szong/Cervical/variant_bwamem/124_patients_new/strelka_variants_HML_20190521.txt'\n",
    "df = pd.read_csv(of, sep='\\t')\n",
    "df.head(2)\n",
    "df.shape"
   ]
  },
  {
   "cell_type": "code",
   "execution_count": 4,
   "metadata": {},
   "outputs": [],
   "source": [
    "# 12 SMGS\n",
    "f2 = '/projects/trans_scratch/validations/workspace/szong/Cervical/mutsig2cv/118_patients_old_vcfs/smgs.txt'\n",
    "with open (f2) as file:\n",
    "    genes = [line.strip() for line in file]\n",
    "assert len(genes) == 12"
   ]
  },
  {
   "cell_type": "code",
   "execution_count": 5,
   "metadata": {
    "scrolled": true
   },
   "outputs": [
    {
     "data": {
      "text/plain": [
       "['PIK3CA',\n",
       " 'FAT1',\n",
       " 'MLL2',\n",
       " 'FBXW7',\n",
       " 'CASP8',\n",
       " 'SLC35G5',\n",
       " 'MAPK1',\n",
       " 'PCDHGA12',\n",
       " 'PSPC1',\n",
       " 'ZNF750',\n",
       " 'PCDHA9',\n",
       " 'ZC3H6']"
      ]
     },
     "execution_count": 5,
     "metadata": {},
     "output_type": "execute_result"
    }
   ],
   "source": [
    "genes"
   ]
  },
  {
   "cell_type": "code",
   "execution_count": 16,
   "metadata": {},
   "outputs": [
    {
     "data": {
      "text/html": [
       "<div>\n",
       "<style scoped>\n",
       "    .dataframe tbody tr th:only-of-type {\n",
       "        vertical-align: middle;\n",
       "    }\n",
       "\n",
       "    .dataframe tbody tr th {\n",
       "        vertical-align: top;\n",
       "    }\n",
       "\n",
       "    .dataframe thead th {\n",
       "        text-align: right;\n",
       "    }\n",
       "</style>\n",
       "<table border=\"1\" class=\"dataframe\">\n",
       "  <thead>\n",
       "    <tr style=\"text-align: right;\">\n",
       "      <th></th>\n",
       "      <th>chr</th>\n",
       "      <th>pos</th>\n",
       "      <th>ref</th>\n",
       "      <th>alt</th>\n",
       "      <th>impact</th>\n",
       "      <th>impact_type</th>\n",
       "      <th>gene</th>\n",
       "      <th>patient</th>\n",
       "    </tr>\n",
       "  </thead>\n",
       "  <tbody>\n",
       "    <tr>\n",
       "      <th>71</th>\n",
       "      <td>3</td>\n",
       "      <td>178936091</td>\n",
       "      <td>G</td>\n",
       "      <td>A</td>\n",
       "      <td>NON_SYNONYMOUS_CODING</td>\n",
       "      <td>MODERATE</td>\n",
       "      <td>PIK3CA</td>\n",
       "      <td>HTMCP-03-06-02001</td>\n",
       "    </tr>\n",
       "    <tr>\n",
       "      <th>72</th>\n",
       "      <td>3</td>\n",
       "      <td>178952117</td>\n",
       "      <td>A</td>\n",
       "      <td>T</td>\n",
       "      <td>NON_SYNONYMOUS_CODING</td>\n",
       "      <td>MODERATE</td>\n",
       "      <td>PIK3CA</td>\n",
       "      <td>HTMCP-03-06-02001</td>\n",
       "    </tr>\n",
       "  </tbody>\n",
       "</table>\n",
       "</div>"
      ],
      "text/plain": [
       "   chr        pos ref alt                 impact impact_type    gene  \\\n",
       "71   3  178936091   G   A  NON_SYNONYMOUS_CODING    MODERATE  PIK3CA   \n",
       "72   3  178952117   A   T  NON_SYNONYMOUS_CODING    MODERATE  PIK3CA   \n",
       "\n",
       "              patient  \n",
       "71  HTMCP-03-06-02001  \n",
       "72  HTMCP-03-06-02001  "
      ]
     },
     "execution_count": 16,
     "metadata": {},
     "output_type": "execute_result"
    }
   ],
   "source": [
    "dfs = df[df.gene == genes[0]]\n",
    "dfs.head(2)"
   ]
  },
  {
   "cell_type": "code",
   "execution_count": 24,
   "metadata": {},
   "outputs": [],
   "source": [
    "dfx = dfs.groupby('pos')[['pos']].count()\n",
    "positions =  ','.join([str(i) for i in dfx.index.tolist()])\n",
    "counts = ','.join([str(i) for i in dfx.pos.tolist()])"
   ]
  },
  {
   "cell_type": "code",
   "execution_count": 26,
   "metadata": {},
   "outputs": [
    {
     "data": {
      "text/plain": [
       "'178916638,178916876,178921549,178922322,178922324,178927457,178928079,178936082,178936091,178938915,178938934,178952074,178952085,178952117'"
      ]
     },
     "execution_count": 26,
     "metadata": {},
     "output_type": "execute_result"
    },
    {
     "data": {
      "text/plain": [
       "'1,1,1,1,2,1,1,8,22,1,2,2,4,1'"
      ]
     },
     "execution_count": 26,
     "metadata": {},
     "output_type": "execute_result"
    }
   ],
   "source": [
    "positions\n",
    "counts"
   ]
  },
  {
   "cell_type": "code",
   "execution_count": null,
   "metadata": {},
   "outputs": [],
   "source": []
  },
  {
   "cell_type": "code",
   "execution_count": 15,
   "metadata": {},
   "outputs": [
    {
     "data": {
      "text/plain": [
       "'178916638, 178916876, 178921549, 178922322, 178922324, 178922324, 178927457, 178928079, 178936082, 178936082, 178936082, 178936082, 178936082, 178936082, 178936082, 178936082, 178936091, 178936091, 178936091, 178936091, 178936091, 178936091, 178936091, 178936091, 178936091, 178936091, 178936091, 178936091, 178936091, 178936091, 178936091, 178936091, 178936091, 178936091, 178936091, 178936091, 178936091, 178936091, 178938915, 178938934, 178938934, 178952074, 178952074, 178952085, 178952085, 178952085, 178952085, 178952117'"
      ]
     },
     "execution_count": 15,
     "metadata": {},
     "output_type": "execute_result"
    }
   ],
   "source": [
    "', '.join([str(i) for i in dfs.pos.sort_values().tolist()])"
   ]
  },
  {
   "cell_type": "markdown",
   "metadata": {},
   "source": [
    "### cbioportal link"
   ]
  },
  {
   "cell_type": "markdown",
   "metadata": {},
   "source": [
    "As discussed in today's NCI meeting, this page in the internal cbiportal cbioportal is where you can make lollipop plots:\n",
    "https://www.bcgsc.ca/cbioportal/mutation_mapper.jsp\n",
    "\n",
    "This is the input format.  Note that this input needs to be tab delimited and must include the header information:\n",
    "{noformat}\n",
    "Hugo_Symbol Sample_ID Protein_Change Mutation_Type Chromosome Start_Position End_Position Reference_Allele Variant_Allele\n",
    "AR TCGA-13-0760 L729I Missense_Mutation 23 66937331 66937331 T A"
   ]
  }
 ],
 "metadata": {
  "kernelspec": {
   "display_name": "Python 3",
   "language": "python",
   "name": "python3"
  },
  "language_info": {
   "codemirror_mode": {
    "name": "ipython",
    "version": 3
   },
   "file_extension": ".py",
   "mimetype": "text/x-python",
   "name": "python",
   "nbconvert_exporter": "python",
   "pygments_lexer": "ipython3",
   "version": "3.6.7"
  }
 },
 "nbformat": 4,
 "nbformat_minor": 2
}
